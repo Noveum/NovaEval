{
  "cells": [
    {
      "cell_type": "markdown",
      "metadata": {},
      "source": [
        "# Agent Evaluation Demo with NovaEval\n",
        "\n",
        "This notebook demonstrates how to:\n",
        "1. Load agent trace data from dataset.json or dataset_tool_calls_removed.json\n",
        "2. Map trace spans to AgentData format\n",
        "3. Create an AgentDataset \n",
        "4. Evaluate agent performance using AgentEvaluator with Gemini model\n",
        "5. Analyze results with multiple scorers\n"
      ]
    },
    {
      "cell_type": "code",
      "execution_count": 1,
      "metadata": {},
      "outputs": [
        {
          "name": "stdout",
          "output_type": "stream",
          "text": [
            "✅ All imports successful!\n"
          ]
        }
      ],
      "source": [
        "import json\n",
        "import re\n",
        "from typing import Any, Dict, List, Optional, Union\n",
        "\n",
        "# NovaEval imports\n",
        "from novaeval.agents.agent_data import AgentData, ToolSchema, ToolCall, ToolResult\n",
        "from novaeval.datasets.agent_dataset import AgentDataset\n",
        "from novaeval.evaluators.agent_evaluator import AgentEvaluator\n",
        "from novaeval.models.gemini import GeminiModel\n",
        "from novaeval.scorers.agent_scorers import (\n",
        "    context_relevancy_scorer,\n",
        "    role_adherence_scorer,\n",
        "    task_progression_scorer,\n",
        "    tool_relevancy_scorer,\n",
        "    tool_correctness_scorer,\n",
        "    parameter_correctness_scorer\n",
        ")\n",
        "from dotenv import load_dotenv\n",
        "\n",
        "load_dotenv()\n",
        "\n",
        "print(\"✅ All imports successful!\")\n"
      ]
    },
    {
      "cell_type": "code",
      "execution_count": 2,
      "metadata": {},
      "outputs": [
        {
          "name": "stdout",
          "output_type": "stream",
          "text": [
            "/home/shivam/Desktop/noveum/NovaEval/demo\n",
            "Fetching 10 traces for project: novaeval-shivam\n",
            "Cleaning existing traces directory: /home/shivam/Desktop/noveum/NovaEval/demo/langchain_agent/traces/traces\n",
            "Created traces directory: /home/shivam/Desktop/noveum/NovaEval/demo/langchain_agent/traces/traces\n",
            "Will fetch in 1 batch(es) of up to 100 traces each\n",
            "\n",
            "--- Batch 1/1 ---\n",
            "Fetching traces: limit=10, offset=0\n",
            "Successfully fetched 10 traces\n",
            "Saved batch 1 to: /home/shivam/Desktop/noveum/NovaEval/demo/langchain_agent/traces/traces/traces_batch_001.json\n",
            "Batch 1 complete: 10 traces\n",
            "Total fetched so far: 10/10\n",
            "Reached target of 10 traces\n",
            "\n",
            "=== Summary ===\n",
            "Total traces fetched: 10\n",
            "Batches created: 1\n",
            "Traces directory: /home/shivam/Desktop/noveum/NovaEval/demo/langchain_agent/traces/traces\n",
            "Created files: traces_batch_001.json\n",
            "Processing traces from: /home/shivam/Desktop/noveum/NovaEval/demo/langchain_agent/traces/traces\n",
            "Found 1 trace files: ['traces_batch_001.json']\n",
            "Processing traces_batch_001.json...\n",
            "Combined 62 spans total\n",
            "Saved combined spans to: /home/shivam/Desktop/noveum/NovaEval/demo/langchain_agent/traces/traces/dataset.json\n",
            "\n",
            "Sample of first span keys: ['span_id', 'trace_id', 'parent_span_id', 'name', 'start_time', 'end_time', 'duration_ms', 'status', 'status_message', 'attributes', 'events', 'links', 'trace_trace_id', 'trace_name', 'project', 'environment', 'trace_status', 'trace_status_message', 'trace_start_time', 'trace_end_time', 'trace_duration_ms', 'span_count', 'error_count', 'sdk', 'trace_attributes', 'metadata', 'created_at', 'updated_at']\n",
            "Total spans: 62\n",
            "\n",
            "Span types distribution:\n",
            "  chain_start.unknown: 10\n",
            "  llm.openai: 31\n",
            "  tool:_Exception:_Exception: 2\n",
            "  tool:escalate_to_human:escalate_to_human: 5\n",
            "  tool:langchain_retriever:langchain_retriever: 11\n",
            "  tool:user_input:user_input: 3\n",
            "Reading dataset from: /home/shivam/Desktop/noveum/NovaEval/demo/dataset.json\n",
            "Original dataset contains 62 objects\n",
            "Removing object with span_id: f91b9124-3ae4-404a-9194-0e111c171d6d (tool.name: user_input)\n",
            "Removing object with span_id: 0c21ec2c-4909-41e7-8842-929c657b7686 (tool.name: langchain_retriever)\n",
            "Removing object with span_id: f5a436ab-4697-4cf7-bbfb-167054184981 (tool.name: _Exception)\n",
            "Removing object with span_id: bc5babd9-7154-41d3-af23-47f345bd4f26 (tool.name: _Exception)\n",
            "Removing object with span_id: 5add95c0-701b-45ff-a0b7-fff91fdf20bf (tool.name: user_input)\n",
            "Removing object with span_id: b285195e-ecf3-44f8-9300-f9cf530e780c (tool.name: langchain_retriever)\n",
            "Removing object with span_id: 2de7389e-4cc9-4018-90c0-02dd7a61b021 (tool.name: escalate_to_human)\n",
            "Removing object with span_id: 3da39d54-67b1-4faa-94cc-106c9cef2293 (tool.name: langchain_retriever)\n",
            "Removing object with span_id: ebb66ba3-ab79-4380-86bd-84567532bc6b (tool.name: langchain_retriever)\n",
            "Removing object with span_id: fb9df408-d417-4529-bd5e-cc0be63b465d (tool.name: langchain_retriever)\n",
            "Removing object with span_id: 40fa016d-f3ab-4d8d-9e25-7a7a7fda062c (tool.name: escalate_to_human)\n",
            "Removing object with span_id: c252155b-70a0-4c6d-a5b6-54c240e5efa8 (tool.name: langchain_retriever)\n",
            "Removing object with span_id: a051facc-9e2e-4f41-a90e-24dcca1bca21 (tool.name: user_input)\n",
            "Removing object with span_id: 7303e82d-63c3-4b96-938b-27553e437292 (tool.name: langchain_retriever)\n",
            "Removing object with span_id: 68b06f06-fa5c-47b6-912d-f56f8be6acab (tool.name: escalate_to_human)\n",
            "Removing object with span_id: 6bf92bc1-abf9-431b-af3c-ab4d95ce1e96 (tool.name: langchain_retriever)\n",
            "Removing object with span_id: 8dcc4b6f-de1b-4d45-b4d6-e31c8df8dc81 (tool.name: langchain_retriever)\n",
            "Removing object with span_id: 6d6a84d7-7c62-4d35-adc3-df02c5ff07f6 (tool.name: escalate_to_human)\n",
            "Removing object with span_id: 178fed1e-009a-4071-b560-9ed7cefd62e3 (tool.name: langchain_retriever)\n",
            "Removing object with span_id: e9cd178e-cda2-4611-93eb-53378eea6b56 (tool.name: escalate_to_human)\n",
            "Removing object with span_id: 1bfc30f1-241f-4f93-a475-1c4ebca3178a (tool.name: langchain_retriever)\n",
            "Removed 21 objects with 'tool.name' in attributes\n",
            "Cleaned dataset contains 41 objects\n",
            "Cleaned dataset saved to: /home/shivam/Desktop/noveum/NovaEval/demo/dataset_tool_calls_removed.json\n",
            "Dataset cleaning completed successfully!\n"
          ]
        }
      ],
      "source": [
        "!pwd\n",
        "!python langchain_agent/traces/fetch_traces_api.py 10\n",
        "!python langchain_agent/traces/combine_spans_api_compat.py\n",
        "\n",
        "!cp langchain_agent/traces/traces/dataset.json .\n",
        "\n",
        "!python clean_tool_call_spans.py "
      ]
    },
    {
      "cell_type": "markdown",
      "metadata": {},
      "source": [
        "## Step 1: Load and Examine Dataset Structure\n"
      ]
    },
    {
      "cell_type": "code",
      "execution_count": 3,
      "metadata": {},
      "outputs": [
        {
          "name": "stdout",
          "output_type": "stream",
          "text": [
            "📊 Loaded 41 spans from dataset_tool_calls_removed.json\n",
            "\n",
            "🔍 Sample span types:\n",
            "  - chain_start.unknown: 3\n",
            "  - llm.openai: 7\n"
          ]
        }
      ],
      "source": [
        "# Load the dataset\n",
        "file_name = 'dataset_tool_calls_removed.json'\n",
        "with open(file_name, 'r') as f:\n",
        "    spans_data = json.load(f)\n",
        "\n",
        "print(f\"📊 Loaded {len(spans_data)} spans from {file_name}\")\n",
        "print(f\"\\n🔍 Sample span types:\")\n",
        "\n",
        "# Analyze span types\n",
        "span_types = {}\n",
        "for span in spans_data[:10]:  # Look at first 10 spans\n",
        "    span_name = span.get('name', 'unknown')\n",
        "    if span_name not in span_types:\n",
        "        span_types[span_name] = 0\n",
        "    span_types[span_name] += 1\n",
        "\n",
        "for span_type, count in span_types.items():\n",
        "    print(f\"  - {span_type}: {count}\")\n"
      ]
    },
    {
      "cell_type": "markdown",
      "metadata": {},
      "source": [
        "## Step 2: Implement Field Mapping Logic\n"
      ]
    },
    {
      "cell_type": "code",
      "execution_count": 4,
      "metadata": {},
      "outputs": [],
      "source": [
        "def parse_tools_from_prompt(prompt: str) -> List[ToolSchema]:\n",
        "    \"\"\"\n",
        "    Parse tool definitions from LLM prompts using regex.\n",
        "    \n",
        "    Expected format: tool_name(param: type = default) -> return_type - description\n",
        "    \"\"\"\n",
        "    # Pattern to match tool signatures\n",
        "    pattern = r'(\\w+)\\(([^)]*)\\)\\s*->\\s*(\\w+)\\s*-\\s*(.+?)(?=\\n\\w+\\(|$)'\n",
        "    matches = re.findall(pattern, prompt, re.DOTALL)\n",
        "    \n",
        "    tools = []\n",
        "    for match in matches:\n",
        "        tool_name, params_str, return_type, description = match\n",
        "        \n",
        "        # Parse parameters\n",
        "        args_schema = parse_params(params_str)\n",
        "        \n",
        "        tool = ToolSchema(\n",
        "            name=tool_name,\n",
        "            description=description.strip(),\n",
        "            args_schema=args_schema,\n",
        "            return_schema={\"type\": return_type}\n",
        "        )\n",
        "        tools.append(tool)\n",
        "    \n",
        "    return tools\n",
        "\n",
        "def parse_params(params_str: str) -> Dict[str, Any]:\n",
        "    \"\"\"\n",
        "    Parse parameter string into schema dictionary.\n",
        "    \n",
        "    Format: param_name: type = default_value\n",
        "    \"\"\"\n",
        "    if not params_str.strip():\n",
        "        return {}\n",
        "    \n",
        "    # Split parameters by comma\n",
        "    params = [p.strip() for p in params_str.split(',') if p.strip()]\n",
        "    schema = {}\n",
        "    \n",
        "    for param in params:\n",
        "        if ':' in param:\n",
        "            parts = param.split(':', 1)\n",
        "            param_name = parts[0].strip()\n",
        "            type_and_default = parts[1].strip()\n",
        "            \n",
        "            # Extract type and default value\n",
        "            if '=' in type_and_default:\n",
        "                type_part, default_part = type_and_default.split('=', 1)\n",
        "                param_type = type_part.strip()\n",
        "                default_val = default_part.strip().strip('\"\\'')\n",
        "                schema[param_name] = {'type': param_type, 'default': default_val}\n",
        "            else:\n",
        "                param_type = type_and_default.strip()\n",
        "                schema[param_name] = {'type': param_type}\n",
        "    \n",
        "    return schema\n",
        "\n",
        "def identify_span_type(span: Dict[str, Any]) -> str:\n",
        "    \"\"\"\n",
        "    Identify span type based on attributes.\n",
        "    \"\"\"\n",
        "    attributes = span.get('attributes', {})\n",
        "    \n",
        "    # Check for agent attributes\n",
        "    if any('chain.name' == key for key in attributes.keys()):\n",
        "        return 'agent'\n",
        "    \n",
        "    # Check for LLM attributes\n",
        "    if any('llm.model' == key for key in attributes.keys()):\n",
        "        return 'llm'\n",
        "    \n",
        "    # Check for tool attributes\n",
        "    if any('tool.name' == key for key in attributes.keys()):\n",
        "        return 'tool'\n",
        "    print('returning unknown type for span')\n",
        "    return 'unknown'\n"
      ]
    },
    {
      "cell_type": "code",
      "execution_count": 5,
      "metadata": {},
      "outputs": [
        {
          "name": "stdout",
          "output_type": "stream",
          "text": [
            "✅ Field mapping functions defined!\n"
          ]
        }
      ],
      "source": [
        "def map_span_to_agent_data(span: Dict[str, Any]) -> AgentData:\n",
        "    \"\"\"\n",
        "    Map a single span from file_name to AgentData format.\n",
        "    \"\"\"\n",
        "    attributes = span.get('attributes', {})\n",
        "    events = span.get('events', [])\n",
        "    span_type = identify_span_type(span)\n",
        "\n",
        "    # Base mappings\n",
        "    data = {\n",
        "        'user_id': span.get('metadata', {}).get('user_id', None),\n",
        "        'task_id': span.get('trace_id'),\n",
        "        'turn_id': span.get('span_id'),\n",
        "        'ground_truth': None,\n",
        "        'expected_tool_call': None,\n",
        "        'agent_name': span_type,\n",
        "        'agent_role': span_type,\n",
        "        'system_prompt': \"You are a helpful customer support agent\",\n",
        "        'metadata': None,\n",
        "        'exit_status': span.get('status'),\n",
        "        'tools_available': [],\n",
        "        'tool_calls': [],\n",
        "        'parameters_passed': {},\n",
        "        'tool_call_results': [],\n",
        "        'retrieval_query': None,\n",
        "        'retrieved_context': None,\n",
        "        'agent_exit': False,\n",
        "        'trace': None\n",
        "    }\n",
        "    \n",
        "    # Span-specific mappings\n",
        "    if span_type == 'agent':\n",
        "        # Agent task\n",
        "        chain_inputs = attributes.get('chain.inputs', {})\n",
        "        if isinstance(chain_inputs, dict) and 'input' in chain_inputs:\n",
        "            data['agent_task'] = chain_inputs['input']\n",
        "        else:\n",
        "            print('agent_task not found')\n",
        "        # Agent response\n",
        "        finish_values = attributes.get('agent.output.finish.return_values', {})\n",
        "        if isinstance(finish_values, dict) and 'output' in finish_values:\n",
        "            data['agent_response'] = finish_values['output']\n",
        "        else:\n",
        "            print(\"agent_response is not available\")\n",
        "        # Tool calls from agent actions\n",
        "        tool_name = attributes.get('agent.output.action.tool')\n",
        "        tool_input = attributes.get('agent.output.action.tool_input')\n",
        "        \n",
        "        if tool_name:\n",
        "            tool_call = ToolCall(\n",
        "                tool_name=tool_name,\n",
        "                parameters={'input': tool_input} if tool_input else {},\n",
        "                call_id=span['span_id']\n",
        "            )\n",
        "            data['tool_calls'] = [tool_call]\n",
        "            data['parameters_passed'] = {'input': tool_input} if tool_input else {}\n",
        "            \n",
        "            # Handle retrieval query for langchain_retriever\n",
        "            if tool_name == 'langchain_retriever' and tool_input:\n",
        "                data['retrieval_query'] = [tool_input]\n",
        "        \n",
        "        # Agent exit status\n",
        "        data['agent_exit'] = any(event.get('name') == 'agent_finish' for event in events)\n",
        "        \n",
        "        # Trace (dump events as JSON)\n",
        "        if events:\n",
        "            data['trace'] = json.dumps(events)\n",
        "    \n",
        "    elif span_type == 'llm':\n",
        "        # Agent response from LLM output\n",
        "        llm_input = attributes.get('llm.input.prompts', ['input is not available'])\n",
        "        data['agent_task'] = llm_input[0]\n",
        "\n",
        "        llm_responses = attributes.get('llm.output.response', [])\n",
        "        if llm_responses:\n",
        "            data['agent_response'] = llm_responses[0]\n",
        "        else:\n",
        "            print(\"llm_response is not available\")\n",
        "        # Parse tools from prompt\n",
        "        prompts = attributes.get('llm.input.prompts', [])\n",
        "        if prompts:\n",
        "            try:\n",
        "                tools = parse_tools_from_prompt(prompts[0])\n",
        "                data['tools_available'] = tools\n",
        "            except Exception:\n",
        "                # Fallback to empty list if parsing fails\n",
        "                data['tools_available'] = []\n",
        "        \n",
        "        data['parameters_passed'] = {}\n",
        "    \n",
        "    elif span_type == 'tool':\n",
        "        # Agent response from tool output\n",
        "        tool_output = attributes.get('tool.output.output')\n",
        "        data['agent_task'] = f\"This is a simple tool call, and the tool will execute as programmed. Its name is - {attributes.get('tool.name')}\"\n",
        "        if tool_output:\n",
        "            data['agent_response'] = tool_output\n",
        "        else:\n",
        "            print(\"tool_output is not available\")\n",
        "        # Tool call results\n",
        "        tool_name = attributes.get('tool.name')\n",
        "        if tool_name and tool_output is not None:\n",
        "            tool_result = ToolResult(\n",
        "                call_id=span['span_id'],\n",
        "                result=tool_output,\n",
        "                success=span.get('status') == 'ok',\n",
        "                error_message=None if span.get('status') == 'ok' else 'Tool execution failed'\n",
        "            )\n",
        "            data['tool_call_results'] = [tool_result]\n",
        "            \n",
        "            # Handle retrieved context for langchain_retriever\n",
        "            if tool_name == 'langchain_retriever':\n",
        "                data['retrieved_context'] = [[tool_output]]\n",
        "        \n",
        "        # Parameters from tool input\n",
        "        tool_input_keys = [key for key in attributes.keys() if key.startswith('tool.input.')]\n",
        "        tool_params = {}\n",
        "        for key in tool_input_keys:\n",
        "            param_name = key.replace('tool.input.', '')\n",
        "            tool_params[param_name] = attributes[key]\n",
        "        data['parameters_passed'] = tool_params\n",
        "    \n",
        "    return AgentData(**data)\n",
        "\n",
        "print(\"✅ Field mapping functions defined!\")\n"
      ]
    },
    {
      "cell_type": "markdown",
      "metadata": {},
      "source": [
        "## Step 3: Create AgentDataset from Spans\n"
      ]
    },
    {
      "cell_type": "code",
      "execution_count": 6,
      "metadata": {},
      "outputs": [
        {
          "name": "stdout",
          "output_type": "stream",
          "text": [
            "🔄 Converting spans to AgentData objects...\n",
            "\n",
            "✅ Successfully converted 41 spans to AgentData\n",
            "📊 AgentDataset created with 41 records\n"
          ]
        }
      ],
      "source": [
        "# Convert spans to AgentData objects\n",
        "print(\"🔄 Converting spans to AgentData objects...\")\n",
        "\n",
        "agent_data_list = []\n",
        "errors = []\n",
        "\n",
        "for i, span in enumerate(spans_data):\n",
        "    try:\n",
        "        agent_data = map_span_to_agent_data(span)\n",
        "        agent_data_list.append(agent_data)\n",
        "    except Exception as e:\n",
        "        errors.append(f\"Span {i}: {str(e)}\")\n",
        "        if len(errors) <= 5:  # Show first 5 errors only\n",
        "            print(f\"⚠️  Error processing span {i}: {e}\")\n",
        "\n",
        "print(f\"\\n✅ Successfully converted {len(agent_data_list)} spans to AgentData\")\n",
        "if errors:\n",
        "    print(f\"❌ {len(errors)} spans had errors\")\n",
        "\n",
        "# Create AgentDataset\n",
        "dataset = AgentDataset()\n",
        "dataset.data = agent_data_list\n",
        "\n",
        "print(f\"📊 AgentDataset created with {len(dataset.data)} records\")\n"
      ]
    },
    {
      "cell_type": "markdown",
      "metadata": {},
      "source": [
        "## Step 4: Examine Sample Data\n"
      ]
    },
    {
      "cell_type": "code",
      "execution_count": 7,
      "metadata": {},
      "outputs": [
        {
          "name": "stdout",
          "output_type": "stream",
          "text": [
            "📈 Dataset Statistics:\n",
            "\n",
            "Agent Types: {'agent': 10, 'llm': 31}\n",
            "Records with responses: 41\n",
            "Records with tool calls: 9\n",
            "Records with retrieval: 7\n",
            "Tool usage: {'user_input': 1, '_Exception': 1, 'langchain_retriever': 7}\n",
            "\n",
            "🔍 Sample AgentData records:\n",
            "\n",
            "--- Record 1 (agent) ---\n",
            "Task: what tools do you have access to...\n",
            "Response: The tools available are escalate_to_human, user_input, and langchain_retriever....\n",
            "Tool calls: 1\n",
            "Exit status: ok\n",
            "\n",
            "--- Record 2 (llm) ---\n",
            "Task: Human: Answer the following questions as best you can. You have access to the following tools:\n",
            "\n",
            "esca...\n",
            "Response: I need to identify the tools I have access to in order to answer the question.\n",
            "Action: user_input\n",
            "Ac...\n",
            "Tool calls: 0\n",
            "Exit status: ok\n",
            "\n",
            "--- Record 3 (llm) ---\n",
            "Task: Human: Answer the following questions as best you can. You have access to the following tools:\n",
            "\n",
            "esca...\n",
            "Response: I need to use the langchain_retriever tool to search for relevant information about the tools availa...\n",
            "Tool calls: 0\n",
            "Exit status: ok\n"
          ]
        }
      ],
      "source": [
        "# Show statistics about the dataset\n",
        "print(\"📈 Dataset Statistics:\")\n",
        "\n",
        "agent_types = {}\n",
        "tool_usage = {}\n",
        "with_responses = 0\n",
        "with_tool_calls = 0\n",
        "with_retrieval = 0\n",
        "\n",
        "for data in dataset.data:\n",
        "    # Agent types\n",
        "    if data.agent_name:\n",
        "        agent_types[data.agent_name] = agent_types.get(data.agent_name, 0) + 1\n",
        "    \n",
        "    # Responses\n",
        "    if data.agent_response:\n",
        "        with_responses += 1\n",
        "    \n",
        "    # Tool calls\n",
        "    if data.tool_calls:\n",
        "        with_tool_calls += 1\n",
        "        for tool_call in data.tool_calls:\n",
        "            if hasattr(tool_call, 'tool_name'):\n",
        "                tool_usage[tool_call.tool_name] = tool_usage.get(tool_call.tool_name, 0) + 1\n",
        "    \n",
        "    # Retrieval\n",
        "    if data.retrieval_query:\n",
        "        with_retrieval += 1\n",
        "\n",
        "print(f\"\\nAgent Types: {dict(agent_types)}\")\n",
        "print(f\"Records with responses: {with_responses}\")\n",
        "print(f\"Records with tool calls: {with_tool_calls}\")\n",
        "print(f\"Records with retrieval: {with_retrieval}\")\n",
        "print(f\"Tool usage: {dict(tool_usage)}\")\n",
        "\n",
        "# Show sample records\n",
        "print(\"\\n🔍 Sample AgentData records:\")\n",
        "for i, data in enumerate(dataset.data[:3]):\n",
        "    print(f\"\\n--- Record {i+1} ({data.agent_name}) ---\")\n",
        "    print(f\"Task: {data.agent_task[:100] if data.agent_task else 'None'}...\")\n",
        "    print(f\"Response: {data.agent_response[:100] if data.agent_response else 'None'}...\")\n",
        "    print(f\"Tool calls: {len(data.tool_calls) if data.tool_calls else 0}\")\n",
        "    print(f\"Exit status: {data.exit_status}\")\n"
      ]
    },
    {
      "cell_type": "markdown",
      "metadata": {},
      "source": [
        "## Step 5: Setup Gemini Model and Evaluator\n"
      ]
    },
    {
      "cell_type": "code",
      "execution_count": null,
      "metadata": {},
      "outputs": [
        {
          "name": "stderr",
          "output_type": "stream",
          "text": [
            "2025-09-15 10:18:10 - noveum_trace.transport.batch_processor - INFO - 🔄 Batch processor background thread started (batch_size=100, timeout=5.0s)\n",
            "2025-09-15 10:18:10 - noveum_trace.transport.batch_processor - INFO - Batch processor started with batch_size=100\n",
            "2025-09-15 10:18:10 - noveum_trace.transport.http_transport - INFO - HTTP transport initialized for endpoint: https://api.noveum.ai/api\n",
            "2025-09-15 10:18:10 - noveum_trace.core.client - INFO - Noveum Trace client initialized\n"
          ]
        },
        {
          "name": "stdout",
          "output_type": "stream",
          "text": [
            "✅ GEMINI_API_KEY found in environment\n",
            "✅ Gemini model initialized\n"
          ]
        },
        {
          "name": "stderr",
          "output_type": "stream",
          "text": [
            "2025-09-15 10:18:15 - noveum_trace.transport.batch_processor - INFO - ⏰ TIMEOUT TRIGGER: Sending batch due to timeout (5.5s >= 5.0s)\n",
            "2025-09-15 10:18:15 - noveum_trace.transport.batch_processor - INFO - 📤 SENDING BATCH: 3 traces via send_callback\n",
            "2025-09-15 10:18:15 - noveum_trace.transport.http_transport - INFO - 🚀 SENDING BATCH: 3 traces to https://api.noveum.ai/api/v1/traces\n",
            "2025-09-15 10:18:19 - noveum_trace.transport.http_transport - INFO - 📡 HTTP RESPONSE: Status 200 from https://api.noveum.ai/api/v1/traces\n",
            "2025-09-15 10:18:19 - noveum_trace.transport.http_transport - INFO - ✅ Successfully sent batch of 3 traces\n",
            "2025-09-15 10:18:19 - noveum_trace.transport.batch_processor - INFO - ✅ Successfully sent batch of 3 traces via callback\n",
            "2025-09-15 10:18:20 - noveum_trace.transport.batch_processor - INFO - ⏰ TIMEOUT TRIGGER: Sending batch due to timeout (5.4s >= 5.0s)\n",
            "2025-09-15 10:18:20 - noveum_trace.transport.batch_processor - INFO - 📤 SENDING BATCH: 4 traces via send_callback\n",
            "2025-09-15 10:18:20 - noveum_trace.transport.http_transport - INFO - 🚀 SENDING BATCH: 4 traces to https://api.noveum.ai/api/v1/traces\n",
            "2025-09-15 10:18:24 - noveum_trace.transport.http_transport - INFO - 📡 HTTP RESPONSE: Status 200 from https://api.noveum.ai/api/v1/traces\n",
            "2025-09-15 10:18:24 - noveum_trace.transport.http_transport - INFO - ✅ Successfully sent batch of 4 traces\n",
            "2025-09-15 10:18:24 - noveum_trace.transport.batch_processor - INFO - ✅ Successfully sent batch of 4 traces via callback\n",
            "2025-09-15 10:18:26 - noveum_trace.transport.batch_processor - INFO - ⏰ TIMEOUT TRIGGER: Sending batch due to timeout (5.1s >= 5.0s)\n",
            "2025-09-15 10:18:26 - noveum_trace.transport.batch_processor - INFO - 📤 SENDING BATCH: 4 traces via send_callback\n",
            "2025-09-15 10:18:26 - noveum_trace.transport.http_transport - INFO - 🚀 SENDING BATCH: 4 traces to https://api.noveum.ai/api/v1/traces\n",
            "2025-09-15 10:18:29 - noveum_trace.transport.http_transport - INFO - 📡 HTTP RESPONSE: Status 200 from https://api.noveum.ai/api/v1/traces\n",
            "2025-09-15 10:18:29 - noveum_trace.transport.http_transport - INFO - ✅ Successfully sent batch of 4 traces\n",
            "2025-09-15 10:18:29 - noveum_trace.transport.batch_processor - INFO - ✅ Successfully sent batch of 4 traces via callback\n",
            "2025-09-15 10:18:31 - noveum_trace.transport.batch_processor - INFO - ⏰ TIMEOUT TRIGGER: Sending batch due to timeout (5.4s >= 5.0s)\n",
            "2025-09-15 10:18:31 - noveum_trace.transport.batch_processor - INFO - 📤 SENDING BATCH: 4 traces via send_callback\n",
            "2025-09-15 10:18:31 - noveum_trace.transport.http_transport - INFO - 🚀 SENDING BATCH: 4 traces to https://api.noveum.ai/api/v1/traces\n",
            "2025-09-15 10:18:35 - noveum_trace.transport.http_transport - INFO - 📡 HTTP RESPONSE: Status 200 from https://api.noveum.ai/api/v1/traces\n",
            "2025-09-15 10:18:35 - noveum_trace.transport.http_transport - INFO - ✅ Successfully sent batch of 4 traces\n",
            "2025-09-15 10:18:35 - noveum_trace.transport.batch_processor - INFO - ✅ Successfully sent batch of 4 traces via callback\n",
            "2025-09-15 10:18:37 - noveum_trace.transport.batch_processor - INFO - ⏰ TIMEOUT TRIGGER: Sending batch due to timeout (5.7s >= 5.0s)\n",
            "2025-09-15 10:18:37 - noveum_trace.transport.batch_processor - INFO - 📤 SENDING BATCH: 5 traces via send_callback\n",
            "2025-09-15 10:18:37 - noveum_trace.transport.http_transport - INFO - 🚀 SENDING BATCH: 5 traces to https://api.noveum.ai/api/v1/traces\n",
            "2025-09-15 10:18:40 - noveum_trace.transport.http_transport - INFO - 📡 HTTP RESPONSE: Status 200 from https://api.noveum.ai/api/v1/traces\n",
            "2025-09-15 10:18:40 - noveum_trace.transport.http_transport - INFO - ✅ Successfully sent batch of 5 traces\n",
            "2025-09-15 10:18:40 - noveum_trace.transport.batch_processor - INFO - ✅ Successfully sent batch of 5 traces via callback\n",
            "2025-09-15 10:18:42 - noveum_trace.transport.batch_processor - INFO - ⏰ TIMEOUT TRIGGER: Sending batch due to timeout (5.4s >= 5.0s)\n",
            "2025-09-15 10:18:42 - noveum_trace.transport.batch_processor - INFO - 📤 SENDING BATCH: 4 traces via send_callback\n",
            "2025-09-15 10:18:42 - noveum_trace.transport.http_transport - INFO - 🚀 SENDING BATCH: 4 traces to https://api.noveum.ai/api/v1/traces\n",
            "2025-09-15 10:18:46 - noveum_trace.transport.http_transport - INFO - 📡 HTTP RESPONSE: Status 200 from https://api.noveum.ai/api/v1/traces\n",
            "2025-09-15 10:18:46 - noveum_trace.transport.http_transport - INFO - ✅ Successfully sent batch of 4 traces\n",
            "2025-09-15 10:18:46 - noveum_trace.transport.batch_processor - INFO - ✅ Successfully sent batch of 4 traces via callback\n",
            "2025-09-15 10:18:48 - noveum_trace.transport.batch_processor - INFO - ⏰ TIMEOUT TRIGGER: Sending batch due to timeout (5.4s >= 5.0s)\n",
            "2025-09-15 10:18:48 - noveum_trace.transport.batch_processor - INFO - 📤 SENDING BATCH: 5 traces via send_callback\n",
            "2025-09-15 10:18:48 - noveum_trace.transport.http_transport - INFO - 🚀 SENDING BATCH: 5 traces to https://api.noveum.ai/api/v1/traces\n",
            "2025-09-15 10:18:51 - noveum_trace.transport.http_transport - INFO - 📡 HTTP RESPONSE: Status 200 from https://api.noveum.ai/api/v1/traces\n",
            "2025-09-15 10:18:51 - noveum_trace.transport.http_transport - INFO - ✅ Successfully sent batch of 5 traces\n",
            "2025-09-15 10:18:51 - noveum_trace.transport.batch_processor - INFO - ✅ Successfully sent batch of 5 traces via callback\n",
            "2025-09-15 10:18:53 - noveum_trace.transport.batch_processor - INFO - ⏰ TIMEOUT TRIGGER: Sending batch due to timeout (5.4s >= 5.0s)\n",
            "2025-09-15 10:18:53 - noveum_trace.transport.batch_processor - INFO - 📤 SENDING BATCH: 4 traces via send_callback\n",
            "2025-09-15 10:18:53 - noveum_trace.transport.http_transport - INFO - 🚀 SENDING BATCH: 4 traces to https://api.noveum.ai/api/v1/traces\n",
            "2025-09-15 10:18:57 - noveum_trace.transport.http_transport - INFO - 📡 HTTP RESPONSE: Status 200 from https://api.noveum.ai/api/v1/traces\n",
            "2025-09-15 10:18:57 - noveum_trace.transport.http_transport - INFO - ✅ Successfully sent batch of 4 traces\n",
            "2025-09-15 10:18:57 - noveum_trace.transport.batch_processor - INFO - ✅ Successfully sent batch of 4 traces via callback\n",
            "2025-09-15 10:18:58 - noveum_trace.transport.batch_processor - INFO - ⏰ TIMEOUT TRIGGER: Sending batch due to timeout (5.3s >= 5.0s)\n",
            "2025-09-15 10:18:58 - noveum_trace.transport.batch_processor - INFO - 📤 SENDING BATCH: 5 traces via send_callback\n",
            "2025-09-15 10:18:58 - noveum_trace.transport.http_transport - INFO - 🚀 SENDING BATCH: 5 traces to https://api.noveum.ai/api/v1/traces\n",
            "2025-09-15 10:19:02 - noveum_trace.transport.http_transport - INFO - 📡 HTTP RESPONSE: Status 200 from https://api.noveum.ai/api/v1/traces\n",
            "2025-09-15 10:19:02 - noveum_trace.transport.http_transport - INFO - ✅ Successfully sent batch of 5 traces\n",
            "2025-09-15 10:19:02 - noveum_trace.transport.batch_processor - INFO - ✅ Successfully sent batch of 5 traces via callback\n",
            "2025-09-15 10:19:04 - noveum_trace.transport.batch_processor - INFO - ⏰ TIMEOUT TRIGGER: Sending batch due to timeout (5.4s >= 5.0s)\n",
            "2025-09-15 10:19:04 - noveum_trace.transport.batch_processor - INFO - 📤 SENDING BATCH: 4 traces via send_callback\n",
            "2025-09-15 10:19:04 - noveum_trace.transport.http_transport - INFO - 🚀 SENDING BATCH: 4 traces to https://api.noveum.ai/api/v1/traces\n",
            "2025-09-15 10:19:08 - noveum_trace.transport.http_transport - INFO - 📡 HTTP RESPONSE: Status 200 from https://api.noveum.ai/api/v1/traces\n",
            "2025-09-15 10:19:08 - noveum_trace.transport.http_transport - INFO - ✅ Successfully sent batch of 4 traces\n",
            "2025-09-15 10:19:08 - noveum_trace.transport.batch_processor - INFO - ✅ Successfully sent batch of 4 traces via callback\n",
            "2025-09-15 10:19:09 - noveum_trace.transport.batch_processor - INFO - ⏰ TIMEOUT TRIGGER: Sending batch due to timeout (5.2s >= 5.0s)\n",
            "2025-09-15 10:19:09 - noveum_trace.transport.batch_processor - INFO - 📤 SENDING BATCH: 4 traces via send_callback\n",
            "2025-09-15 10:19:09 - noveum_trace.transport.http_transport - INFO - 🚀 SENDING BATCH: 4 traces to https://api.noveum.ai/api/v1/traces\n",
            "2025-09-15 10:19:13 - noveum_trace.transport.http_transport - INFO - 📡 HTTP RESPONSE: Status 200 from https://api.noveum.ai/api/v1/traces\n",
            "2025-09-15 10:19:13 - noveum_trace.transport.http_transport - INFO - ✅ Successfully sent batch of 4 traces\n",
            "2025-09-15 10:19:13 - noveum_trace.transport.batch_processor - INFO - ✅ Successfully sent batch of 4 traces via callback\n",
            "2025-09-15 10:19:15 - noveum_trace.transport.batch_processor - INFO - ⏰ TIMEOUT TRIGGER: Sending batch due to timeout (5.6s >= 5.0s)\n",
            "2025-09-15 10:19:15 - noveum_trace.transport.batch_processor - INFO - 📤 SENDING BATCH: 5 traces via send_callback\n",
            "2025-09-15 10:19:15 - noveum_trace.transport.http_transport - INFO - 🚀 SENDING BATCH: 5 traces to https://api.noveum.ai/api/v1/traces\n",
            "2025-09-15 10:19:18 - noveum_trace.transport.http_transport - INFO - 📡 HTTP RESPONSE: Status 200 from https://api.noveum.ai/api/v1/traces\n",
            "2025-09-15 10:19:18 - noveum_trace.transport.http_transport - INFO - ✅ Successfully sent batch of 5 traces\n",
            "2025-09-15 10:19:18 - noveum_trace.transport.batch_processor - INFO - ✅ Successfully sent batch of 5 traces via callback\n",
            "2025-09-15 10:19:20 - noveum_trace.transport.batch_processor - INFO - ⏰ TIMEOUT TRIGGER: Sending batch due to timeout (5.2s >= 5.0s)\n",
            "2025-09-15 10:19:20 - noveum_trace.transport.batch_processor - INFO - 📤 SENDING BATCH: 4 traces via send_callback\n",
            "2025-09-15 10:19:20 - noveum_trace.transport.http_transport - INFO - 🚀 SENDING BATCH: 4 traces to https://api.noveum.ai/api/v1/traces\n",
            "2025-09-15 10:19:23 - noveum_trace.transport.http_transport - INFO - 📡 HTTP RESPONSE: Status 200 from https://api.noveum.ai/api/v1/traces\n",
            "2025-09-15 10:19:23 - noveum_trace.transport.http_transport - INFO - ✅ Successfully sent batch of 4 traces\n",
            "2025-09-15 10:19:23 - noveum_trace.transport.batch_processor - INFO - ✅ Successfully sent batch of 4 traces via callback\n",
            "2025-09-15 10:19:25 - noveum_trace.transport.batch_processor - INFO - ⏰ TIMEOUT TRIGGER: Sending batch due to timeout (5.4s >= 5.0s)\n",
            "2025-09-15 10:19:25 - noveum_trace.transport.batch_processor - INFO - 📤 SENDING BATCH: 5 traces via send_callback\n",
            "2025-09-15 10:19:25 - noveum_trace.transport.http_transport - INFO - 🚀 SENDING BATCH: 5 traces to https://api.noveum.ai/api/v1/traces\n",
            "2025-09-15 10:19:29 - noveum_trace.transport.http_transport - INFO - 📡 HTTP RESPONSE: Status 200 from https://api.noveum.ai/api/v1/traces\n",
            "2025-09-15 10:19:29 - noveum_trace.transport.http_transport - INFO - ✅ Successfully sent batch of 5 traces\n",
            "2025-09-15 10:19:29 - noveum_trace.transport.batch_processor - INFO - ✅ Successfully sent batch of 5 traces via callback\n",
            "2025-09-15 10:19:31 - noveum_trace.transport.batch_processor - INFO - ⏰ TIMEOUT TRIGGER: Sending batch due to timeout (5.4s >= 5.0s)\n",
            "2025-09-15 10:19:31 - noveum_trace.transport.batch_processor - INFO - 📤 SENDING BATCH: 4 traces via send_callback\n",
            "2025-09-15 10:19:31 - noveum_trace.transport.http_transport - INFO - 🚀 SENDING BATCH: 4 traces to https://api.noveum.ai/api/v1/traces\n",
            "2025-09-15 10:19:34 - noveum_trace.transport.http_transport - INFO - 📡 HTTP RESPONSE: Status 200 from https://api.noveum.ai/api/v1/traces\n",
            "2025-09-15 10:19:34 - noveum_trace.transport.http_transport - INFO - ✅ Successfully sent batch of 4 traces\n",
            "2025-09-15 10:19:34 - noveum_trace.transport.batch_processor - INFO - ✅ Successfully sent batch of 4 traces via callback\n",
            "2025-09-15 10:19:36 - noveum_trace.transport.batch_processor - INFO - ⏰ TIMEOUT TRIGGER: Sending batch due to timeout (5.3s >= 5.0s)\n",
            "2025-09-15 10:19:36 - noveum_trace.transport.batch_processor - INFO - 📤 SENDING BATCH: 5 traces via send_callback\n",
            "2025-09-15 10:19:36 - noveum_trace.transport.http_transport - INFO - 🚀 SENDING BATCH: 5 traces to https://api.noveum.ai/api/v1/traces\n",
            "2025-09-15 10:19:40 - noveum_trace.transport.http_transport - INFO - 📡 HTTP RESPONSE: Status 200 from https://api.noveum.ai/api/v1/traces\n",
            "2025-09-15 10:19:40 - noveum_trace.transport.http_transport - INFO - ✅ Successfully sent batch of 5 traces\n",
            "2025-09-15 10:19:40 - noveum_trace.transport.batch_processor - INFO - ✅ Successfully sent batch of 5 traces via callback\n",
            "2025-09-15 10:19:41 - noveum_trace.transport.batch_processor - INFO - ⏰ TIMEOUT TRIGGER: Sending batch due to timeout (5.3s >= 5.0s)\n",
            "2025-09-15 10:19:41 - noveum_trace.transport.batch_processor - INFO - 📤 SENDING BATCH: 4 traces via send_callback\n",
            "2025-09-15 10:19:41 - noveum_trace.transport.http_transport - INFO - 🚀 SENDING BATCH: 4 traces to https://api.noveum.ai/api/v1/traces\n",
            "2025-09-15 10:19:45 - noveum_trace.transport.http_transport - INFO - 📡 HTTP RESPONSE: Status 200 from https://api.noveum.ai/api/v1/traces\n",
            "2025-09-15 10:19:45 - noveum_trace.transport.http_transport - INFO - ✅ Successfully sent batch of 4 traces\n",
            "2025-09-15 10:19:45 - noveum_trace.transport.batch_processor - INFO - ✅ Successfully sent batch of 4 traces via callback\n",
            "2025-09-15 10:19:47 - noveum_trace.transport.batch_processor - INFO - ⏰ TIMEOUT TRIGGER: Sending batch due to timeout (5.4s >= 5.0s)\n",
            "2025-09-15 10:19:47 - noveum_trace.transport.batch_processor - INFO - 📤 SENDING BATCH: 5 traces via send_callback\n",
            "2025-09-15 10:19:47 - noveum_trace.transport.http_transport - INFO - 🚀 SENDING BATCH: 5 traces to https://api.noveum.ai/api/v1/traces\n",
            "2025-09-15 10:19:51 - noveum_trace.transport.http_transport - INFO - 📡 HTTP RESPONSE: Status 200 from https://api.noveum.ai/api/v1/traces\n",
            "2025-09-15 10:19:51 - noveum_trace.transport.http_transport - INFO - ✅ Successfully sent batch of 5 traces\n",
            "2025-09-15 10:19:51 - noveum_trace.transport.batch_processor - INFO - ✅ Successfully sent batch of 5 traces via callback\n",
            "2025-09-15 10:19:52 - noveum_trace.transport.batch_processor - INFO - ⏰ TIMEOUT TRIGGER: Sending batch due to timeout (5.3s >= 5.0s)\n",
            "2025-09-15 10:19:52 - noveum_trace.transport.batch_processor - INFO - 📤 SENDING BATCH: 4 traces via send_callback\n",
            "2025-09-15 10:19:52 - noveum_trace.transport.http_transport - INFO - 🚀 SENDING BATCH: 4 traces to https://api.noveum.ai/api/v1/traces\n",
            "2025-09-15 10:19:56 - noveum_trace.transport.http_transport - INFO - 📡 HTTP RESPONSE: Status 200 from https://api.noveum.ai/api/v1/traces\n",
            "2025-09-15 10:19:56 - noveum_trace.transport.http_transport - INFO - ✅ Successfully sent batch of 4 traces\n",
            "2025-09-15 10:19:56 - noveum_trace.transport.batch_processor - INFO - ✅ Successfully sent batch of 4 traces via callback\n",
            "2025-09-15 10:19:58 - noveum_trace.transport.batch_processor - INFO - ⏰ TIMEOUT TRIGGER: Sending batch due to timeout (5.6s >= 5.0s)\n",
            "2025-09-15 10:19:58 - noveum_trace.transport.batch_processor - INFO - 📤 SENDING BATCH: 5 traces via send_callback\n",
            "2025-09-15 10:19:58 - noveum_trace.transport.http_transport - INFO - 🚀 SENDING BATCH: 5 traces to https://api.noveum.ai/api/v1/traces\n",
            "2025-09-15 10:20:01 - noveum_trace.transport.http_transport - INFO - 📡 HTTP RESPONSE: Status 200 from https://api.noveum.ai/api/v1/traces\n",
            "2025-09-15 10:20:01 - noveum_trace.transport.http_transport - INFO - ✅ Successfully sent batch of 5 traces\n",
            "2025-09-15 10:20:01 - noveum_trace.transport.batch_processor - INFO - ✅ Successfully sent batch of 5 traces via callback\n",
            "2025-09-15 10:20:03 - noveum_trace.transport.batch_processor - INFO - ⏰ TIMEOUT TRIGGER: Sending batch due to timeout (5.2s >= 5.0s)\n",
            "2025-09-15 10:20:03 - noveum_trace.transport.batch_processor - INFO - 📤 SENDING BATCH: 4 traces via send_callback\n",
            "2025-09-15 10:20:03 - noveum_trace.transport.http_transport - INFO - 🚀 SENDING BATCH: 4 traces to https://api.noveum.ai/api/v1/traces\n",
            "2025-09-15 10:20:07 - noveum_trace.transport.http_transport - INFO - 📡 HTTP RESPONSE: Status 200 from https://api.noveum.ai/api/v1/traces\n",
            "2025-09-15 10:20:07 - noveum_trace.transport.http_transport - INFO - ✅ Successfully sent batch of 4 traces\n",
            "2025-09-15 10:20:07 - noveum_trace.transport.batch_processor - INFO - ✅ Successfully sent batch of 4 traces via callback\n",
            "2025-09-15 10:20:08 - noveum_trace.transport.batch_processor - INFO - ⏰ TIMEOUT TRIGGER: Sending batch due to timeout (5.0s >= 5.0s)\n",
            "2025-09-15 10:20:08 - noveum_trace.transport.batch_processor - INFO - 📤 SENDING BATCH: 4 traces via send_callback\n",
            "2025-09-15 10:20:08 - noveum_trace.transport.http_transport - INFO - 🚀 SENDING BATCH: 4 traces to https://api.noveum.ai/api/v1/traces\n",
            "2025-09-15 10:20:12 - noveum_trace.transport.http_transport - INFO - 📡 HTTP RESPONSE: Status 200 from https://api.noveum.ai/api/v1/traces\n",
            "2025-09-15 10:20:12 - noveum_trace.transport.http_transport - INFO - ✅ Successfully sent batch of 4 traces\n",
            "2025-09-15 10:20:12 - noveum_trace.transport.batch_processor - INFO - ✅ Successfully sent batch of 4 traces via callback\n",
            "2025-09-15 10:20:13 - noveum_trace.transport.batch_processor - INFO - ⏰ TIMEOUT TRIGGER: Sending batch due to timeout (5.1s >= 5.0s)\n",
            "2025-09-15 10:20:13 - noveum_trace.transport.batch_processor - INFO - 📤 SENDING BATCH: 4 traces via send_callback\n",
            "2025-09-15 10:20:13 - noveum_trace.transport.http_transport - INFO - 🚀 SENDING BATCH: 4 traces to https://api.noveum.ai/api/v1/traces\n",
            "2025-09-15 10:20:17 - noveum_trace.transport.http_transport - INFO - 📡 HTTP RESPONSE: Status 200 from https://api.noveum.ai/api/v1/traces\n",
            "2025-09-15 10:20:17 - noveum_trace.transport.http_transport - INFO - ✅ Successfully sent batch of 4 traces\n",
            "2025-09-15 10:20:17 - noveum_trace.transport.batch_processor - INFO - ✅ Successfully sent batch of 4 traces via callback\n",
            "2025-09-15 10:20:18 - noveum_trace.transport.batch_processor - INFO - ⏰ TIMEOUT TRIGGER: Sending batch due to timeout (5.1s >= 5.0s)\n",
            "2025-09-15 10:20:18 - noveum_trace.transport.batch_processor - INFO - 📤 SENDING BATCH: 4 traces via send_callback\n",
            "2025-09-15 10:20:18 - noveum_trace.transport.http_transport - INFO - 🚀 SENDING BATCH: 4 traces to https://api.noveum.ai/api/v1/traces\n",
            "2025-09-15 10:20:22 - noveum_trace.transport.http_transport - INFO - 📡 HTTP RESPONSE: Status 200 from https://api.noveum.ai/api/v1/traces\n",
            "2025-09-15 10:20:22 - noveum_trace.transport.http_transport - INFO - ✅ Successfully sent batch of 4 traces\n",
            "2025-09-15 10:20:22 - noveum_trace.transport.batch_processor - INFO - ✅ Successfully sent batch of 4 traces via callback\n",
            "2025-09-15 10:20:24 - noveum_trace.transport.batch_processor - INFO - ⏰ TIMEOUT TRIGGER: Sending batch due to timeout (5.4s >= 5.0s)\n",
            "2025-09-15 10:20:24 - noveum_trace.transport.batch_processor - INFO - 📤 SENDING BATCH: 5 traces via send_callback\n",
            "2025-09-15 10:20:24 - noveum_trace.transport.http_transport - INFO - 🚀 SENDING BATCH: 5 traces to https://api.noveum.ai/api/v1/traces\n",
            "2025-09-15 10:20:27 - noveum_trace.transport.http_transport - INFO - 📡 HTTP RESPONSE: Status 200 from https://api.noveum.ai/api/v1/traces\n",
            "2025-09-15 10:20:27 - noveum_trace.transport.http_transport - INFO - ✅ Successfully sent batch of 5 traces\n",
            "2025-09-15 10:20:27 - noveum_trace.transport.batch_processor - INFO - ✅ Successfully sent batch of 5 traces via callback\n",
            "2025-09-15 10:20:29 - noveum_trace.transport.batch_processor - INFO - ⏰ TIMEOUT TRIGGER: Sending batch due to timeout (5.4s >= 5.0s)\n",
            "2025-09-15 10:20:29 - noveum_trace.transport.batch_processor - INFO - 📤 SENDING BATCH: 4 traces via send_callback\n",
            "2025-09-15 10:20:29 - noveum_trace.transport.http_transport - INFO - 🚀 SENDING BATCH: 4 traces to https://api.noveum.ai/api/v1/traces\n",
            "2025-09-15 10:20:33 - noveum_trace.transport.http_transport - INFO - 📡 HTTP RESPONSE: Status 200 from https://api.noveum.ai/api/v1/traces\n",
            "2025-09-15 10:20:33 - noveum_trace.transport.http_transport - INFO - ✅ Successfully sent batch of 4 traces\n",
            "2025-09-15 10:20:33 - noveum_trace.transport.batch_processor - INFO - ✅ Successfully sent batch of 4 traces via callback\n",
            "2025-09-15 10:20:34 - noveum_trace.transport.batch_processor - INFO - ⏰ TIMEOUT TRIGGER: Sending batch due to timeout (5.5s >= 5.0s)\n",
            "2025-09-15 10:20:34 - noveum_trace.transport.batch_processor - INFO - 📤 SENDING BATCH: 5 traces via send_callback\n",
            "2025-09-15 10:20:34 - noveum_trace.transport.http_transport - INFO - 🚀 SENDING BATCH: 5 traces to https://api.noveum.ai/api/v1/traces\n",
            "2025-09-15 10:20:38 - noveum_trace.transport.http_transport - INFO - 📡 HTTP RESPONSE: Status 200 from https://api.noveum.ai/api/v1/traces\n",
            "2025-09-15 10:20:38 - noveum_trace.transport.http_transport - INFO - ✅ Successfully sent batch of 5 traces\n",
            "2025-09-15 10:20:38 - noveum_trace.transport.batch_processor - INFO - ✅ Successfully sent batch of 5 traces via callback\n",
            "2025-09-15 10:20:40 - noveum_trace.transport.batch_processor - INFO - ⏰ TIMEOUT TRIGGER: Sending batch due to timeout (5.3s >= 5.0s)\n",
            "2025-09-15 10:20:40 - noveum_trace.transport.batch_processor - INFO - 📤 SENDING BATCH: 5 traces via send_callback\n",
            "2025-09-15 10:20:40 - noveum_trace.transport.http_transport - INFO - 🚀 SENDING BATCH: 5 traces to https://api.noveum.ai/api/v1/traces\n",
            "2025-09-15 10:20:43 - noveum_trace.transport.http_transport - INFO - 📡 HTTP RESPONSE: Status 200 from https://api.noveum.ai/api/v1/traces\n",
            "2025-09-15 10:20:43 - noveum_trace.transport.http_transport - INFO - ✅ Successfully sent batch of 5 traces\n",
            "2025-09-15 10:20:43 - noveum_trace.transport.batch_processor - INFO - ✅ Successfully sent batch of 5 traces via callback\n",
            "2025-09-15 10:20:45 - noveum_trace.transport.batch_processor - INFO - ⏰ TIMEOUT TRIGGER: Sending batch due to timeout (5.4s >= 5.0s)\n",
            "2025-09-15 10:20:45 - noveum_trace.transport.batch_processor - INFO - 📤 SENDING BATCH: 4 traces via send_callback\n",
            "2025-09-15 10:20:45 - noveum_trace.transport.http_transport - INFO - 🚀 SENDING BATCH: 4 traces to https://api.noveum.ai/api/v1/traces\n",
            "2025-09-15 10:20:49 - noveum_trace.transport.http_transport - INFO - 📡 HTTP RESPONSE: Status 200 from https://api.noveum.ai/api/v1/traces\n",
            "2025-09-15 10:20:49 - noveum_trace.transport.http_transport - INFO - ✅ Successfully sent batch of 4 traces\n",
            "2025-09-15 10:20:49 - noveum_trace.transport.batch_processor - INFO - ✅ Successfully sent batch of 4 traces via callback\n",
            "2025-09-15 10:20:51 - noveum_trace.transport.batch_processor - INFO - ⏰ TIMEOUT TRIGGER: Sending batch due to timeout (5.4s >= 5.0s)\n",
            "2025-09-15 10:20:51 - noveum_trace.transport.batch_processor - INFO - 📤 SENDING BATCH: 5 traces via send_callback\n",
            "2025-09-15 10:20:51 - noveum_trace.transport.http_transport - INFO - 🚀 SENDING BATCH: 5 traces to https://api.noveum.ai/api/v1/traces\n",
            "2025-09-15 10:20:54 - noveum_trace.transport.http_transport - INFO - 📡 HTTP RESPONSE: Status 200 from https://api.noveum.ai/api/v1/traces\n",
            "2025-09-15 10:20:54 - noveum_trace.transport.http_transport - INFO - ✅ Successfully sent batch of 5 traces\n",
            "2025-09-15 10:20:54 - noveum_trace.transport.batch_processor - INFO - ✅ Successfully sent batch of 5 traces via callback\n",
            "2025-09-15 10:20:56 - noveum_trace.transport.batch_processor - INFO - ⏰ TIMEOUT TRIGGER: Sending batch due to timeout (5.4s >= 5.0s)\n",
            "2025-09-15 10:20:56 - noveum_trace.transport.batch_processor - INFO - 📤 SENDING BATCH: 5 traces via send_callback\n",
            "2025-09-15 10:20:56 - noveum_trace.transport.http_transport - INFO - 🚀 SENDING BATCH: 5 traces to https://api.noveum.ai/api/v1/traces\n",
            "2025-09-15 10:21:00 - noveum_trace.transport.http_transport - INFO - 📡 HTTP RESPONSE: Status 200 from https://api.noveum.ai/api/v1/traces\n",
            "2025-09-15 10:21:00 - noveum_trace.transport.http_transport - INFO - ✅ Successfully sent batch of 5 traces\n",
            "2025-09-15 10:21:00 - noveum_trace.transport.batch_processor - INFO - ✅ Successfully sent batch of 5 traces via callback\n",
            "2025-09-15 10:21:01 - noveum_trace.transport.batch_processor - INFO - ⏰ TIMEOUT TRIGGER: Sending batch due to timeout (5.4s >= 5.0s)\n",
            "2025-09-15 10:21:01 - noveum_trace.transport.batch_processor - INFO - 📤 SENDING BATCH: 5 traces via send_callback\n",
            "2025-09-15 10:21:01 - noveum_trace.transport.http_transport - INFO - 🚀 SENDING BATCH: 5 traces to https://api.noveum.ai/api/v1/traces\n",
            "2025-09-15 10:21:05 - noveum_trace.transport.http_transport - INFO - 📡 HTTP RESPONSE: Status 200 from https://api.noveum.ai/api/v1/traces\n",
            "2025-09-15 10:21:05 - noveum_trace.transport.http_transport - INFO - ✅ Successfully sent batch of 5 traces\n",
            "2025-09-15 10:21:05 - noveum_trace.transport.batch_processor - INFO - ✅ Successfully sent batch of 5 traces via callback\n"
          ]
        }
      ],
      "source": [
        "import os\n",
        "\n",
        "# Check for API key\n",
        "if 'GEMINI_API_KEY' not in os.environ:\n",
        "    print(\"⚠️  GEMINI_API_KEY environment variable not set!\")\n",
        "    print(\"Please set it before running evaluation:\")\n",
        "    print(\"export GEMINI_API_KEY='your-api-key-here'\")\n",
        "else:\n",
        "    print(\"✅ GEMINI_API_KEY found in environment\")\n",
        "\n",
        "# Initialize Gemini model\n",
        "try:\n",
        "    gemini_model = GeminiModel(\n",
        "        model_name=\"gemini-1.5-flash\",  # Using flash model for cost efficiency\n",
        "        temperature=0.1,  # Low temperature for consistent evaluation\n",
        "        max_tokens=1024\n",
        "    )\n",
        "    print(\"✅ Gemini model initialized\")\n",
        "except Exception as e:\n",
        "    print(f\"❌ Error initializing Gemini model: {e}\")\n",
        "    gemini_model = None\n"
      ]
    },
    {
      "cell_type": "code",
      "execution_count": 9,
      "metadata": {},
      "outputs": [
        {
          "name": "stdout",
          "output_type": "stream",
          "text": [
            "✅ Initialized 5 scoring functions:\n",
            "  - task_progression_scorer\n",
            "  - context_relevancy_scorer\n",
            "  - role_adherence_scorer\n",
            "  - tool_relevancy_scorer\n",
            "  - parameter_correctness_scorer\n",
            "\n",
            "✅ AgentEvaluator created with Gemini model and scoring functions\n"
          ]
        }
      ],
      "source": [
        "# Initialize scoring functions for evaluation\n",
        "scoring_functions = [\n",
        "    task_progression_scorer,\n",
        "    context_relevancy_scorer,\n",
        "    role_adherence_scorer,\n",
        "    tool_relevancy_scorer,\n",
        "    parameter_correctness_scorer\n",
        "]\n",
        "\n",
        "print(f\"✅ Initialized {len(scoring_functions)} scoring functions:\")\n",
        "for func in scoring_functions:\n",
        "    print(f\"  - {func.__name__}\")\n",
        "\n",
        "# Create AgentEvaluator\n",
        "if gemini_model:\n",
        "    evaluator = AgentEvaluator(\n",
        "        agent_dataset=dataset,\n",
        "        models=[gemini_model],\n",
        "        scoring_functions=scoring_functions,\n",
        "        output_dir=\"./demo_results\",\n",
        "        stream=False,\n",
        "        include_reasoning=True\n",
        "    )\n",
        "    print(\"\\n✅ AgentEvaluator created with Gemini model and scoring functions\")\n",
        "else:\n",
        "    print(\"\\n❌ Cannot create evaluator - Gemini model not available\")\n"
      ]
    },
    {
      "cell_type": "markdown",
      "metadata": {},
      "source": [
        "## Step 6: Run Evaluation (Sample)\n"
      ]
    },
    {
      "cell_type": "code",
      "execution_count": 10,
      "metadata": {},
      "outputs": [
        {
          "name": "stdout",
          "output_type": "stream",
          "text": [
            "🚀 Running evaluation on sample data...\n",
            "\n",
            "📊 Evaluating 41 sample records...\n",
            "2025-09-15 10:18:10 - INFO - novaeval.evaluators.agent_evaluator - Starting agent evaluation process\n"
          ]
        },
        {
          "name": "stderr",
          "output_type": "stream",
          "text": [
            "Evaluating samples: 0it [00:00, ?it/s]"
          ]
        },
        {
          "name": "stdout",
          "output_type": "stream",
          "text": [
            "2025-09-15 10:18:10 - INFO - google_genai.models - AFC is enabled with max remote calls: 10.\n",
            "2025-09-15 10:18:12 - INFO - google_genai.models - AFC remote call 1 is done.\n"
          ]
        },
        {
          "name": "stderr",
          "output_type": "stream",
          "text": [
            "2025-09-15 10:18:12 - noveum_trace.transport.http_transport - INFO - 📤 EXPORTING TRACE: auto_trace_generate (ID: 9531f44a-17e9-4558-972a-7c3e596827c7) - 1 spans\n",
            "2025-09-15 10:18:12 - noveum_trace.transport.batch_processor - INFO - 📥 ADDING TRACE TO QUEUE: auto_trace_generate (ID: 9531f44a-17e9-4558-972a-7c3e596827c7) - 1 spans\n",
            "2025-09-15 10:18:12 - noveum_trace.transport.batch_processor - INFO - ✅ Successfully queued trace 9531f44a-17e9-4558-972a-7c3e596827c7\n",
            "2025-09-15 10:18:12 - noveum_trace.transport.http_transport - INFO - ✅ Trace 9531f44a-17e9-4558-972a-7c3e596827c7 successfully queued for export\n"
          ]
        },
        {
          "name": "stdout",
          "output_type": "stream",
          "text": [
            "2025-09-15 10:18:12 - INFO - google_genai.models - AFC is enabled with max remote calls: 10.\n",
            "2025-09-15 10:18:13 - INFO - google_genai.models - AFC remote call 1 is done.\n"
          ]
        },
        {
          "name": "stderr",
          "output_type": "stream",
          "text": [
            "2025-09-15 10:18:13 - noveum_trace.transport.http_transport - INFO - 📤 EXPORTING TRACE: auto_trace_generate (ID: dde5f609-3c07-49b5-a9d7-6d13f5297c51) - 1 spans\n",
            "2025-09-15 10:18:13 - noveum_trace.transport.batch_processor - INFO - 📥 ADDING TRACE TO QUEUE: auto_trace_generate (ID: dde5f609-3c07-49b5-a9d7-6d13f5297c51) - 1 spans\n",
            "2025-09-15 10:18:13 - noveum_trace.transport.batch_processor - INFO - ✅ Successfully queued trace dde5f609-3c07-49b5-a9d7-6d13f5297c51\n",
            "2025-09-15 10:18:13 - noveum_trace.transport.http_transport - INFO - ✅ Trace dde5f609-3c07-49b5-a9d7-6d13f5297c51 successfully queued for export\n"
          ]
        },
        {
          "name": "stdout",
          "output_type": "stream",
          "text": [
            "2025-09-15 10:18:13 - INFO - google_genai.models - AFC is enabled with max remote calls: 10.\n",
            "2025-09-15 10:18:15 - INFO - google_genai.models - AFC remote call 1 is done.\n"
          ]
        },
        {
          "name": "stderr",
          "output_type": "stream",
          "text": [
            "2025-09-15 10:18:15 - noveum_trace.transport.http_transport - INFO - 📤 EXPORTING TRACE: auto_trace_generate (ID: fbab46ca-a4f9-4523-ab08-b3f255a217d9) - 1 spans\n",
            "2025-09-15 10:18:15 - noveum_trace.transport.batch_processor - INFO - 📥 ADDING TRACE TO QUEUE: auto_trace_generate (ID: fbab46ca-a4f9-4523-ab08-b3f255a217d9) - 1 spans\n",
            "2025-09-15 10:18:15 - noveum_trace.transport.batch_processor - INFO - ✅ Successfully queued trace fbab46ca-a4f9-4523-ab08-b3f255a217d9\n",
            "2025-09-15 10:18:15 - noveum_trace.transport.http_transport - INFO - ✅ Trace fbab46ca-a4f9-4523-ab08-b3f255a217d9 successfully queued for export\n"
          ]
        },
        {
          "name": "stdout",
          "output_type": "stream",
          "text": [
            "2025-09-15 10:18:15 - INFO - google_genai.models - AFC is enabled with max remote calls: 10.\n",
            "2025-09-15 10:18:16 - INFO - google_genai.models - AFC remote call 1 is done.\n"
          ]
        },
        {
          "name": "stderr",
          "output_type": "stream",
          "text": [
            "2025-09-15 10:18:16 - noveum_trace.transport.http_transport - INFO - 📤 EXPORTING TRACE: auto_trace_generate (ID: 8a7bb668-e262-484c-819c-f9a44d85b23a) - 1 spans\n",
            "2025-09-15 10:18:16 - noveum_trace.transport.batch_processor - INFO - 📥 ADDING TRACE TO QUEUE: auto_trace_generate (ID: 8a7bb668-e262-484c-819c-f9a44d85b23a) - 1 spans\n",
            "2025-09-15 10:18:16 - noveum_trace.transport.batch_processor - INFO - ✅ Successfully queued trace 8a7bb668-e262-484c-819c-f9a44d85b23a\n",
            "2025-09-15 10:18:16 - noveum_trace.transport.http_transport - INFO - ✅ Trace 8a7bb668-e262-484c-819c-f9a44d85b23a successfully queued for export\n"
          ]
        },
        {
          "name": "stdout",
          "output_type": "stream",
          "text": [
            "2025-09-15 10:18:16 - INFO - google_genai.models - AFC is enabled with max remote calls: 10.\n",
            "2025-09-15 10:18:17 - INFO - google_genai.models - AFC remote call 1 is done.\n"
          ]
        },
        {
          "name": "stderr",
          "output_type": "stream",
          "text": [
            "2025-09-15 10:18:17 - noveum_trace.transport.http_transport - INFO - 📤 EXPORTING TRACE: auto_trace_generate (ID: 13c3180d-a06b-49a0-a087-11e9b98089a1) - 1 spans\n",
            "2025-09-15 10:18:17 - noveum_trace.transport.batch_processor - INFO - 📥 ADDING TRACE TO QUEUE: auto_trace_generate (ID: 13c3180d-a06b-49a0-a087-11e9b98089a1) - 1 spans\n",
            "2025-09-15 10:18:17 - noveum_trace.transport.batch_processor - INFO - ✅ Successfully queued trace 13c3180d-a06b-49a0-a087-11e9b98089a1\n",
            "2025-09-15 10:18:17 - noveum_trace.transport.http_transport - INFO - ✅ Trace 13c3180d-a06b-49a0-a087-11e9b98089a1 successfully queued for export\n"
          ]
        },
        {
          "name": "stdout",
          "output_type": "stream",
          "text": [
            "2025-09-15 10:18:17 - INFO - novaeval.evaluators.agent_evaluator - Saving intermediate results after 1 samples\n",
            "2025-09-15 10:18:17 - INFO - novaeval.evaluators.agent_evaluator - Intermediate results saved to demo_results/sample_evaluation/agent_evaluation_results.csv\n"
          ]
        },
        {
          "name": "stderr",
          "output_type": "stream",
          "text": [
            "Evaluating samples: 1it [00:07,  7.25s/it]"
          ]
        },
        {
          "name": "stdout",
          "output_type": "stream",
          "text": [
            "2025-09-15 10:18:17 - INFO - google_genai.models - AFC is enabled with max remote calls: 10.\n",
            "2025-09-15 10:18:18 - INFO - google_genai.models - AFC remote call 1 is done.\n"
          ]
        },
        {
          "name": "stderr",
          "output_type": "stream",
          "text": [
            "2025-09-15 10:18:18 - noveum_trace.transport.http_transport - INFO - 📤 EXPORTING TRACE: auto_trace_generate (ID: 7d44b648-2ee3-4f04-a5ca-169616b16d9d) - 1 spans\n",
            "2025-09-15 10:18:18 - noveum_trace.transport.batch_processor - INFO - 📥 ADDING TRACE TO QUEUE: auto_trace_generate (ID: 7d44b648-2ee3-4f04-a5ca-169616b16d9d) - 1 spans\n",
            "2025-09-15 10:18:18 - noveum_trace.transport.batch_processor - INFO - ✅ Successfully queued trace 7d44b648-2ee3-4f04-a5ca-169616b16d9d\n",
            "2025-09-15 10:18:18 - noveum_trace.transport.http_transport - INFO - ✅ Trace 7d44b648-2ee3-4f04-a5ca-169616b16d9d successfully queued for export\n"
          ]
        },
        {
          "name": "stdout",
          "output_type": "stream",
          "text": [
            "2025-09-15 10:18:18 - INFO - google_genai.models - AFC is enabled with max remote calls: 10.\n",
            "2025-09-15 10:18:19 - INFO - google_genai.models - AFC remote call 1 is done.\n"
          ]
        },
        {
          "name": "stderr",
          "output_type": "stream",
          "text": [
            "2025-09-15 10:18:19 - noveum_trace.transport.http_transport - INFO - 📤 EXPORTING TRACE: auto_trace_generate (ID: 5ac785d2-dc8c-4079-a079-1181a86d7049) - 1 spans\n",
            "2025-09-15 10:18:19 - noveum_trace.transport.batch_processor - INFO - 📥 ADDING TRACE TO QUEUE: auto_trace_generate (ID: 5ac785d2-dc8c-4079-a079-1181a86d7049) - 1 spans\n",
            "2025-09-15 10:18:19 - noveum_trace.transport.batch_processor - INFO - ✅ Successfully queued trace 5ac785d2-dc8c-4079-a079-1181a86d7049\n",
            "2025-09-15 10:18:19 - noveum_trace.transport.http_transport - INFO - ✅ Trace 5ac785d2-dc8c-4079-a079-1181a86d7049 successfully queued for export\n"
          ]
        },
        {
          "name": "stdout",
          "output_type": "stream",
          "text": [
            "2025-09-15 10:18:19 - INFO - google_genai.models - AFC is enabled with max remote calls: 10.\n",
            "2025-09-15 10:18:21 - INFO - google_genai.models - AFC remote call 1 is done.\n"
          ]
        },
        {
          "name": "stderr",
          "output_type": "stream",
          "text": [
            "2025-09-15 10:18:21 - noveum_trace.transport.http_transport - INFO - 📤 EXPORTING TRACE: auto_trace_generate (ID: 08c9a6ac-dd21-479f-82e9-96b90af18f57) - 1 spans\n",
            "2025-09-15 10:18:21 - noveum_trace.transport.batch_processor - INFO - 📥 ADDING TRACE TO QUEUE: auto_trace_generate (ID: 08c9a6ac-dd21-479f-82e9-96b90af18f57) - 1 spans\n",
            "2025-09-15 10:18:21 - noveum_trace.transport.batch_processor - INFO - ✅ Successfully queued trace 08c9a6ac-dd21-479f-82e9-96b90af18f57\n",
            "2025-09-15 10:18:21 - noveum_trace.transport.http_transport - INFO - ✅ Trace 08c9a6ac-dd21-479f-82e9-96b90af18f57 successfully queued for export\n"
          ]
        },
        {
          "name": "stdout",
          "output_type": "stream",
          "text": [
            "2025-09-15 10:18:21 - INFO - novaeval.evaluators.agent_evaluator - Saving intermediate results after 2 samples\n",
            "2025-09-15 10:18:21 - INFO - novaeval.evaluators.agent_evaluator - Intermediate results saved to demo_results/sample_evaluation/agent_evaluation_results.csv\n"
          ]
        },
        {
          "name": "stderr",
          "output_type": "stream",
          "text": [
            "Evaluating samples: 2it [00:11,  5.21s/it]"
          ]
        },
        {
          "name": "stdout",
          "output_type": "stream",
          "text": [
            "2025-09-15 10:18:21 - INFO - google_genai.models - AFC is enabled with max remote calls: 10.\n",
            "2025-09-15 10:18:22 - INFO - google_genai.models - AFC remote call 1 is done.\n"
          ]
        },
        {
          "name": "stderr",
          "output_type": "stream",
          "text": [
            "2025-09-15 10:18:22 - noveum_trace.transport.http_transport - INFO - 📤 EXPORTING TRACE: auto_trace_generate (ID: 85d8074c-dbc3-4db3-9b7b-17dc4cada7ba) - 1 spans\n",
            "2025-09-15 10:18:22 - noveum_trace.transport.batch_processor - INFO - 📥 ADDING TRACE TO QUEUE: auto_trace_generate (ID: 85d8074c-dbc3-4db3-9b7b-17dc4cada7ba) - 1 spans\n",
            "2025-09-15 10:18:22 - noveum_trace.transport.batch_processor - INFO - ✅ Successfully queued trace 85d8074c-dbc3-4db3-9b7b-17dc4cada7ba\n",
            "2025-09-15 10:18:22 - noveum_trace.transport.http_transport - INFO - ✅ Trace 85d8074c-dbc3-4db3-9b7b-17dc4cada7ba successfully queued for export\n"
          ]
        },
        {
          "name": "stdout",
          "output_type": "stream",
          "text": [
            "2025-09-15 10:18:22 - INFO - google_genai.models - AFC is enabled with max remote calls: 10.\n",
            "2025-09-15 10:18:24 - INFO - google_genai.models - AFC remote call 1 is done.\n"
          ]
        },
        {
          "name": "stderr",
          "output_type": "stream",
          "text": [
            "2025-09-15 10:18:24 - noveum_trace.transport.http_transport - INFO - 📤 EXPORTING TRACE: auto_trace_generate (ID: 67a9be36-6ece-43a5-8ef3-def707b3c77e) - 1 spans\n",
            "2025-09-15 10:18:24 - noveum_trace.transport.batch_processor - INFO - 📥 ADDING TRACE TO QUEUE: auto_trace_generate (ID: 67a9be36-6ece-43a5-8ef3-def707b3c77e) - 1 spans\n",
            "2025-09-15 10:18:24 - noveum_trace.transport.batch_processor - INFO - ✅ Successfully queued trace 67a9be36-6ece-43a5-8ef3-def707b3c77e\n",
            "2025-09-15 10:18:24 - noveum_trace.transport.http_transport - INFO - ✅ Trace 67a9be36-6ece-43a5-8ef3-def707b3c77e successfully queued for export\n"
          ]
        },
        {
          "name": "stdout",
          "output_type": "stream",
          "text": [
            "2025-09-15 10:18:24 - INFO - google_genai.models - AFC is enabled with max remote calls: 10.\n",
            "2025-09-15 10:18:25 - INFO - google_genai.models - AFC remote call 1 is done.\n"
          ]
        },
        {
          "name": "stderr",
          "output_type": "stream",
          "text": [
            "2025-09-15 10:18:25 - noveum_trace.transport.http_transport - INFO - 📤 EXPORTING TRACE: auto_trace_generate (ID: 21acb4dc-a04a-4310-b92f-87deb77a6dc2) - 1 spans\n",
            "2025-09-15 10:18:25 - noveum_trace.transport.batch_processor - INFO - 📥 ADDING TRACE TO QUEUE: auto_trace_generate (ID: 21acb4dc-a04a-4310-b92f-87deb77a6dc2) - 1 spans\n",
            "2025-09-15 10:18:25 - noveum_trace.transport.batch_processor - INFO - ✅ Successfully queued trace 21acb4dc-a04a-4310-b92f-87deb77a6dc2\n",
            "2025-09-15 10:18:25 - noveum_trace.transport.http_transport - INFO - ✅ Trace 21acb4dc-a04a-4310-b92f-87deb77a6dc2 successfully queued for export\n"
          ]
        },
        {
          "name": "stdout",
          "output_type": "stream",
          "text": [
            "2025-09-15 10:18:25 - INFO - novaeval.evaluators.agent_evaluator - Saving intermediate results after 3 samples\n",
            "2025-09-15 10:18:25 - INFO - novaeval.evaluators.agent_evaluator - Intermediate results saved to demo_results/sample_evaluation/agent_evaluation_results.csv\n"
          ]
        },
        {
          "name": "stderr",
          "output_type": "stream",
          "text": [
            "Evaluating samples: 3it [00:15,  4.84s/it]"
          ]
        },
        {
          "name": "stdout",
          "output_type": "stream",
          "text": [
            "2025-09-15 10:18:25 - INFO - google_genai.models - AFC is enabled with max remote calls: 10.\n",
            "2025-09-15 10:18:27 - INFO - google_genai.models - AFC remote call 1 is done.\n"
          ]
        },
        {
          "name": "stderr",
          "output_type": "stream",
          "text": [
            "2025-09-15 10:18:27 - noveum_trace.transport.http_transport - INFO - 📤 EXPORTING TRACE: auto_trace_generate (ID: 8a4ef73f-92c8-4a1f-9575-030cff494f31) - 1 spans\n",
            "2025-09-15 10:18:27 - noveum_trace.transport.batch_processor - INFO - 📥 ADDING TRACE TO QUEUE: auto_trace_generate (ID: 8a4ef73f-92c8-4a1f-9575-030cff494f31) - 1 spans\n",
            "2025-09-15 10:18:27 - noveum_trace.transport.batch_processor - INFO - ✅ Successfully queued trace 8a4ef73f-92c8-4a1f-9575-030cff494f31\n",
            "2025-09-15 10:18:27 - noveum_trace.transport.http_transport - INFO - ✅ Trace 8a4ef73f-92c8-4a1f-9575-030cff494f31 successfully queued for export\n"
          ]
        },
        {
          "name": "stdout",
          "output_type": "stream",
          "text": [
            "2025-09-15 10:18:27 - INFO - google_genai.models - AFC is enabled with max remote calls: 10.\n",
            "2025-09-15 10:18:28 - INFO - google_genai.models - AFC remote call 1 is done.\n"
          ]
        },
        {
          "name": "stderr",
          "output_type": "stream",
          "text": [
            "2025-09-15 10:18:28 - noveum_trace.transport.http_transport - INFO - 📤 EXPORTING TRACE: auto_trace_generate (ID: 3ca49f35-a545-4645-ba29-87212eb4e2d4) - 1 spans\n",
            "2025-09-15 10:18:28 - noveum_trace.transport.batch_processor - INFO - 📥 ADDING TRACE TO QUEUE: auto_trace_generate (ID: 3ca49f35-a545-4645-ba29-87212eb4e2d4) - 1 spans\n",
            "2025-09-15 10:18:28 - noveum_trace.transport.batch_processor - INFO - ✅ Successfully queued trace 3ca49f35-a545-4645-ba29-87212eb4e2d4\n",
            "2025-09-15 10:18:28 - noveum_trace.transport.http_transport - INFO - ✅ Trace 3ca49f35-a545-4645-ba29-87212eb4e2d4 successfully queued for export\n"
          ]
        },
        {
          "name": "stdout",
          "output_type": "stream",
          "text": [
            "2025-09-15 10:18:28 - INFO - google_genai.models - AFC is enabled with max remote calls: 10.\n",
            "2025-09-15 10:18:29 - INFO - google_genai.models - AFC remote call 1 is done.\n"
          ]
        },
        {
          "name": "stderr",
          "output_type": "stream",
          "text": [
            "2025-09-15 10:18:29 - noveum_trace.transport.http_transport - INFO - 📤 EXPORTING TRACE: auto_trace_generate (ID: 6c09b69a-c025-442c-98c8-c9bd545d3d49) - 1 spans\n",
            "2025-09-15 10:18:29 - noveum_trace.transport.batch_processor - INFO - 📥 ADDING TRACE TO QUEUE: auto_trace_generate (ID: 6c09b69a-c025-442c-98c8-c9bd545d3d49) - 1 spans\n",
            "2025-09-15 10:18:29 - noveum_trace.transport.batch_processor - INFO - ✅ Successfully queued trace 6c09b69a-c025-442c-98c8-c9bd545d3d49\n",
            "2025-09-15 10:18:29 - noveum_trace.transport.http_transport - INFO - ✅ Trace 6c09b69a-c025-442c-98c8-c9bd545d3d49 successfully queued for export\n"
          ]
        },
        {
          "name": "stdout",
          "output_type": "stream",
          "text": [
            "2025-09-15 10:18:29 - INFO - novaeval.evaluators.agent_evaluator - Saving intermediate results after 4 samples\n",
            "2025-09-15 10:18:29 - INFO - novaeval.evaluators.agent_evaluator - Intermediate results saved to demo_results/sample_evaluation/agent_evaluation_results.csv\n"
          ]
        },
        {
          "name": "stderr",
          "output_type": "stream",
          "text": [
            "Evaluating samples: 4it [00:19,  4.47s/it]"
          ]
        },
        {
          "name": "stdout",
          "output_type": "stream",
          "text": [
            "2025-09-15 10:18:29 - INFO - google_genai.models - AFC is enabled with max remote calls: 10.\n",
            "2025-09-15 10:18:30 - INFO - google_genai.models - AFC remote call 1 is done.\n"
          ]
        },
        {
          "name": "stderr",
          "output_type": "stream",
          "text": [
            "2025-09-15 10:18:30 - noveum_trace.transport.http_transport - INFO - 📤 EXPORTING TRACE: auto_trace_generate (ID: 3c7e7e3a-7594-46c7-9771-0b6ff4c7f205) - 1 spans\n",
            "2025-09-15 10:18:30 - noveum_trace.transport.batch_processor - INFO - 📥 ADDING TRACE TO QUEUE: auto_trace_generate (ID: 3c7e7e3a-7594-46c7-9771-0b6ff4c7f205) - 1 spans\n",
            "2025-09-15 10:18:30 - noveum_trace.transport.batch_processor - INFO - ✅ Successfully queued trace 3c7e7e3a-7594-46c7-9771-0b6ff4c7f205\n",
            "2025-09-15 10:18:30 - noveum_trace.transport.http_transport - INFO - ✅ Trace 3c7e7e3a-7594-46c7-9771-0b6ff4c7f205 successfully queued for export\n"
          ]
        },
        {
          "name": "stdout",
          "output_type": "stream",
          "text": [
            "2025-09-15 10:18:30 - INFO - google_genai.models - AFC is enabled with max remote calls: 10.\n",
            "2025-09-15 10:18:31 - INFO - google_genai.models - AFC remote call 1 is done.\n"
          ]
        },
        {
          "name": "stderr",
          "output_type": "stream",
          "text": [
            "2025-09-15 10:18:31 - noveum_trace.transport.http_transport - INFO - 📤 EXPORTING TRACE: auto_trace_generate (ID: ae6e842a-a749-4566-aa3e-75191e13493e) - 1 spans\n",
            "2025-09-15 10:18:31 - noveum_trace.transport.batch_processor - INFO - 📥 ADDING TRACE TO QUEUE: auto_trace_generate (ID: ae6e842a-a749-4566-aa3e-75191e13493e) - 1 spans\n",
            "2025-09-15 10:18:31 - noveum_trace.transport.batch_processor - INFO - ✅ Successfully queued trace ae6e842a-a749-4566-aa3e-75191e13493e\n",
            "2025-09-15 10:18:31 - noveum_trace.transport.http_transport - INFO - ✅ Trace ae6e842a-a749-4566-aa3e-75191e13493e successfully queued for export\n"
          ]
        },
        {
          "name": "stdout",
          "output_type": "stream",
          "text": [
            "2025-09-15 10:18:31 - INFO - google_genai.models - AFC is enabled with max remote calls: 10.\n",
            "2025-09-15 10:18:32 - INFO - google_genai.models - AFC remote call 1 is done.\n"
          ]
        },
        {
          "name": "stderr",
          "output_type": "stream",
          "text": [
            "2025-09-15 10:18:32 - noveum_trace.transport.http_transport - INFO - 📤 EXPORTING TRACE: auto_trace_generate (ID: 4fc7d034-c55e-49e2-b585-26606c380679) - 1 spans\n",
            "2025-09-15 10:18:32 - noveum_trace.transport.batch_processor - INFO - 📥 ADDING TRACE TO QUEUE: auto_trace_generate (ID: 4fc7d034-c55e-49e2-b585-26606c380679) - 1 spans\n",
            "2025-09-15 10:18:32 - noveum_trace.transport.batch_processor - INFO - ✅ Successfully queued trace 4fc7d034-c55e-49e2-b585-26606c380679\n",
            "2025-09-15 10:18:32 - noveum_trace.transport.http_transport - INFO - ✅ Trace 4fc7d034-c55e-49e2-b585-26606c380679 successfully queued for export\n"
          ]
        },
        {
          "name": "stdout",
          "output_type": "stream",
          "text": [
            "2025-09-15 10:18:32 - INFO - novaeval.evaluators.agent_evaluator - Saving intermediate results after 5 samples\n",
            "2025-09-15 10:18:32 - INFO - novaeval.evaluators.agent_evaluator - Intermediate results saved to demo_results/sample_evaluation/agent_evaluation_results.csv\n"
          ]
        },
        {
          "name": "stderr",
          "output_type": "stream",
          "text": [
            "Evaluating samples: 5it [00:22,  4.08s/it]"
          ]
        },
        {
          "name": "stdout",
          "output_type": "stream",
          "text": [
            "2025-09-15 10:18:32 - INFO - google_genai.models - AFC is enabled with max remote calls: 10.\n",
            "2025-09-15 10:18:34 - INFO - google_genai.models - AFC remote call 1 is done.\n"
          ]
        },
        {
          "name": "stderr",
          "output_type": "stream",
          "text": [
            "2025-09-15 10:18:34 - noveum_trace.transport.http_transport - INFO - 📤 EXPORTING TRACE: auto_trace_generate (ID: 3b461c24-66aa-42d5-9df3-c15a22e8431e) - 1 spans\n",
            "2025-09-15 10:18:34 - noveum_trace.transport.batch_processor - INFO - 📥 ADDING TRACE TO QUEUE: auto_trace_generate (ID: 3b461c24-66aa-42d5-9df3-c15a22e8431e) - 1 spans\n",
            "2025-09-15 10:18:34 - noveum_trace.transport.batch_processor - INFO - ✅ Successfully queued trace 3b461c24-66aa-42d5-9df3-c15a22e8431e\n",
            "2025-09-15 10:18:34 - noveum_trace.transport.http_transport - INFO - ✅ Trace 3b461c24-66aa-42d5-9df3-c15a22e8431e successfully queued for export\n"
          ]
        },
        {
          "name": "stdout",
          "output_type": "stream",
          "text": [
            "2025-09-15 10:18:34 - INFO - google_genai.models - AFC is enabled with max remote calls: 10.\n",
            "2025-09-15 10:18:35 - INFO - google_genai.models - AFC remote call 1 is done.\n"
          ]
        },
        {
          "name": "stderr",
          "output_type": "stream",
          "text": [
            "2025-09-15 10:18:35 - noveum_trace.transport.http_transport - INFO - 📤 EXPORTING TRACE: auto_trace_generate (ID: 39e1a506-17dc-419d-a25a-8f3a600f4acb) - 1 spans\n",
            "2025-09-15 10:18:35 - noveum_trace.transport.batch_processor - INFO - 📥 ADDING TRACE TO QUEUE: auto_trace_generate (ID: 39e1a506-17dc-419d-a25a-8f3a600f4acb) - 1 spans\n",
            "2025-09-15 10:18:35 - noveum_trace.transport.batch_processor - INFO - ✅ Successfully queued trace 39e1a506-17dc-419d-a25a-8f3a600f4acb\n",
            "2025-09-15 10:18:35 - noveum_trace.transport.http_transport - INFO - ✅ Trace 39e1a506-17dc-419d-a25a-8f3a600f4acb successfully queued for export\n"
          ]
        },
        {
          "name": "stdout",
          "output_type": "stream",
          "text": [
            "2025-09-15 10:18:35 - INFO - google_genai.models - AFC is enabled with max remote calls: 10.\n",
            "2025-09-15 10:18:36 - INFO - google_genai.models - AFC remote call 1 is done.\n"
          ]
        },
        {
          "name": "stderr",
          "output_type": "stream",
          "text": [
            "2025-09-15 10:18:36 - noveum_trace.transport.http_transport - INFO - 📤 EXPORTING TRACE: auto_trace_generate (ID: ab87f118-5766-47cf-9054-7ab3ff403f4f) - 1 spans\n",
            "2025-09-15 10:18:36 - noveum_trace.transport.batch_processor - INFO - 📥 ADDING TRACE TO QUEUE: auto_trace_generate (ID: ab87f118-5766-47cf-9054-7ab3ff403f4f) - 1 spans\n",
            "2025-09-15 10:18:36 - noveum_trace.transport.batch_processor - INFO - ✅ Successfully queued trace ab87f118-5766-47cf-9054-7ab3ff403f4f\n",
            "2025-09-15 10:18:36 - noveum_trace.transport.http_transport - INFO - ✅ Trace ab87f118-5766-47cf-9054-7ab3ff403f4f successfully queued for export\n"
          ]
        },
        {
          "name": "stdout",
          "output_type": "stream",
          "text": [
            "2025-09-15 10:18:36 - INFO - novaeval.evaluators.agent_evaluator - Saving intermediate results after 6 samples\n",
            "2025-09-15 10:18:36 - INFO - novaeval.evaluators.agent_evaluator - Intermediate results saved to demo_results/sample_evaluation/agent_evaluation_results.csv\n"
          ]
        },
        {
          "name": "stderr",
          "output_type": "stream",
          "text": [
            "Evaluating samples: 6it [00:26,  4.01s/it]"
          ]
        },
        {
          "name": "stdout",
          "output_type": "stream",
          "text": [
            "2025-09-15 10:18:36 - INFO - google_genai.models - AFC is enabled with max remote calls: 10.\n",
            "2025-09-15 10:18:37 - INFO - google_genai.models - AFC remote call 1 is done.\n"
          ]
        },
        {
          "name": "stderr",
          "output_type": "stream",
          "text": [
            "2025-09-15 10:18:37 - noveum_trace.transport.http_transport - INFO - 📤 EXPORTING TRACE: auto_trace_generate (ID: eef2b08d-03dc-4192-8999-88617370d489) - 1 spans\n",
            "2025-09-15 10:18:37 - noveum_trace.transport.batch_processor - INFO - 📥 ADDING TRACE TO QUEUE: auto_trace_generate (ID: eef2b08d-03dc-4192-8999-88617370d489) - 1 spans\n",
            "2025-09-15 10:18:37 - noveum_trace.transport.batch_processor - INFO - ✅ Successfully queued trace eef2b08d-03dc-4192-8999-88617370d489\n",
            "2025-09-15 10:18:37 - noveum_trace.transport.http_transport - INFO - ✅ Trace eef2b08d-03dc-4192-8999-88617370d489 successfully queued for export\n"
          ]
        },
        {
          "name": "stdout",
          "output_type": "stream",
          "text": [
            "2025-09-15 10:18:37 - INFO - google_genai.models - AFC is enabled with max remote calls: 10.\n",
            "2025-09-15 10:18:39 - INFO - google_genai.models - AFC remote call 1 is done.\n"
          ]
        },
        {
          "name": "stderr",
          "output_type": "stream",
          "text": [
            "2025-09-15 10:18:39 - noveum_trace.transport.http_transport - INFO - 📤 EXPORTING TRACE: auto_trace_generate (ID: 98f94c8a-2ecf-4924-a086-dccd2775feee) - 1 spans\n",
            "2025-09-15 10:18:39 - noveum_trace.transport.batch_processor - INFO - 📥 ADDING TRACE TO QUEUE: auto_trace_generate (ID: 98f94c8a-2ecf-4924-a086-dccd2775feee) - 1 spans\n",
            "2025-09-15 10:18:39 - noveum_trace.transport.batch_processor - INFO - ✅ Successfully queued trace 98f94c8a-2ecf-4924-a086-dccd2775feee\n",
            "2025-09-15 10:18:39 - noveum_trace.transport.http_transport - INFO - ✅ Trace 98f94c8a-2ecf-4924-a086-dccd2775feee successfully queued for export\n"
          ]
        },
        {
          "name": "stdout",
          "output_type": "stream",
          "text": [
            "2025-09-15 10:18:39 - INFO - google_genai.models - AFC is enabled with max remote calls: 10.\n",
            "2025-09-15 10:18:40 - INFO - google_genai.models - AFC remote call 1 is done.\n"
          ]
        },
        {
          "name": "stderr",
          "output_type": "stream",
          "text": [
            "2025-09-15 10:18:40 - noveum_trace.transport.http_transport - INFO - 📤 EXPORTING TRACE: auto_trace_generate (ID: 26533fae-f3e0-467c-8933-493c9a6f4f38) - 1 spans\n",
            "2025-09-15 10:18:40 - noveum_trace.transport.batch_processor - INFO - 📥 ADDING TRACE TO QUEUE: auto_trace_generate (ID: 26533fae-f3e0-467c-8933-493c9a6f4f38) - 1 spans\n",
            "2025-09-15 10:18:40 - noveum_trace.transport.batch_processor - INFO - ✅ Successfully queued trace 26533fae-f3e0-467c-8933-493c9a6f4f38\n",
            "2025-09-15 10:18:40 - noveum_trace.transport.http_transport - INFO - ✅ Trace 26533fae-f3e0-467c-8933-493c9a6f4f38 successfully queued for export\n"
          ]
        },
        {
          "name": "stdout",
          "output_type": "stream",
          "text": [
            "2025-09-15 10:18:40 - INFO - google_genai.models - AFC is enabled with max remote calls: 10.\n",
            "2025-09-15 10:18:41 - INFO - google_genai.models - AFC remote call 1 is done.\n"
          ]
        },
        {
          "name": "stderr",
          "output_type": "stream",
          "text": [
            "2025-09-15 10:18:41 - noveum_trace.transport.http_transport - INFO - 📤 EXPORTING TRACE: auto_trace_generate (ID: 27548ec6-85db-4347-bffe-9a40ffe2193e) - 1 spans\n",
            "2025-09-15 10:18:41 - noveum_trace.transport.batch_processor - INFO - 📥 ADDING TRACE TO QUEUE: auto_trace_generate (ID: 27548ec6-85db-4347-bffe-9a40ffe2193e) - 1 spans\n",
            "2025-09-15 10:18:41 - noveum_trace.transport.batch_processor - INFO - ✅ Successfully queued trace 27548ec6-85db-4347-bffe-9a40ffe2193e\n",
            "2025-09-15 10:18:41 - noveum_trace.transport.http_transport - INFO - ✅ Trace 27548ec6-85db-4347-bffe-9a40ffe2193e successfully queued for export\n"
          ]
        },
        {
          "name": "stdout",
          "output_type": "stream",
          "text": [
            "2025-09-15 10:18:41 - INFO - google_genai.models - AFC is enabled with max remote calls: 10.\n",
            "2025-09-15 10:18:42 - INFO - google_genai.models - AFC remote call 1 is done.\n"
          ]
        },
        {
          "name": "stderr",
          "output_type": "stream",
          "text": [
            "2025-09-15 10:18:42 - noveum_trace.transport.http_transport - INFO - 📤 EXPORTING TRACE: auto_trace_generate (ID: ed3a2a0c-9ab3-449d-8217-45b52b9315ff) - 1 spans\n",
            "2025-09-15 10:18:42 - noveum_trace.transport.batch_processor - INFO - 📥 ADDING TRACE TO QUEUE: auto_trace_generate (ID: ed3a2a0c-9ab3-449d-8217-45b52b9315ff) - 1 spans\n",
            "2025-09-15 10:18:42 - noveum_trace.transport.batch_processor - INFO - ✅ Successfully queued trace ed3a2a0c-9ab3-449d-8217-45b52b9315ff\n",
            "2025-09-15 10:18:42 - noveum_trace.transport.http_transport - INFO - ✅ Trace ed3a2a0c-9ab3-449d-8217-45b52b9315ff successfully queued for export\n"
          ]
        },
        {
          "name": "stdout",
          "output_type": "stream",
          "text": [
            "2025-09-15 10:18:42 - INFO - novaeval.evaluators.agent_evaluator - Saving intermediate results after 7 samples\n",
            "2025-09-15 10:18:42 - INFO - novaeval.evaluators.agent_evaluator - Intermediate results saved to demo_results/sample_evaluation/agent_evaluation_results.csv\n"
          ]
        },
        {
          "name": "stderr",
          "output_type": "stream",
          "text": [
            "Evaluating samples: 7it [00:32,  4.68s/it]"
          ]
        },
        {
          "name": "stdout",
          "output_type": "stream",
          "text": [
            "2025-09-15 10:18:42 - INFO - google_genai.models - AFC is enabled with max remote calls: 10.\n",
            "2025-09-15 10:18:44 - INFO - google_genai.models - AFC remote call 1 is done.\n"
          ]
        },
        {
          "name": "stderr",
          "output_type": "stream",
          "text": [
            "2025-09-15 10:18:44 - noveum_trace.transport.http_transport - INFO - 📤 EXPORTING TRACE: auto_trace_generate (ID: 2876a9d5-b347-4a6b-8b51-208649a9067b) - 1 spans\n",
            "2025-09-15 10:18:44 - noveum_trace.transport.batch_processor - INFO - 📥 ADDING TRACE TO QUEUE: auto_trace_generate (ID: 2876a9d5-b347-4a6b-8b51-208649a9067b) - 1 spans\n",
            "2025-09-15 10:18:44 - noveum_trace.transport.batch_processor - INFO - ✅ Successfully queued trace 2876a9d5-b347-4a6b-8b51-208649a9067b\n",
            "2025-09-15 10:18:44 - noveum_trace.transport.http_transport - INFO - ✅ Trace 2876a9d5-b347-4a6b-8b51-208649a9067b successfully queued for export\n"
          ]
        },
        {
          "name": "stdout",
          "output_type": "stream",
          "text": [
            "2025-09-15 10:18:44 - INFO - google_genai.models - AFC is enabled with max remote calls: 10.\n",
            "2025-09-15 10:18:45 - INFO - google_genai.models - AFC remote call 1 is done.\n"
          ]
        },
        {
          "name": "stderr",
          "output_type": "stream",
          "text": [
            "2025-09-15 10:18:45 - noveum_trace.transport.http_transport - INFO - 📤 EXPORTING TRACE: auto_trace_generate (ID: 41ff6422-ac89-463b-a94d-6af87eafd5aa) - 1 spans\n",
            "2025-09-15 10:18:45 - noveum_trace.transport.batch_processor - INFO - 📥 ADDING TRACE TO QUEUE: auto_trace_generate (ID: 41ff6422-ac89-463b-a94d-6af87eafd5aa) - 1 spans\n",
            "2025-09-15 10:18:45 - noveum_trace.transport.batch_processor - INFO - ✅ Successfully queued trace 41ff6422-ac89-463b-a94d-6af87eafd5aa\n",
            "2025-09-15 10:18:45 - noveum_trace.transport.http_transport - INFO - ✅ Trace 41ff6422-ac89-463b-a94d-6af87eafd5aa successfully queued for export\n"
          ]
        },
        {
          "name": "stdout",
          "output_type": "stream",
          "text": [
            "2025-09-15 10:18:45 - INFO - google_genai.models - AFC is enabled with max remote calls: 10.\n",
            "2025-09-15 10:18:46 - INFO - google_genai.models - AFC remote call 1 is done.\n"
          ]
        },
        {
          "name": "stderr",
          "output_type": "stream",
          "text": [
            "2025-09-15 10:18:46 - noveum_trace.transport.http_transport - INFO - 📤 EXPORTING TRACE: auto_trace_generate (ID: 1481f1ff-8d84-431a-97fd-6f028c77cfae) - 1 spans\n",
            "2025-09-15 10:18:46 - noveum_trace.transport.batch_processor - INFO - 📥 ADDING TRACE TO QUEUE: auto_trace_generate (ID: 1481f1ff-8d84-431a-97fd-6f028c77cfae) - 1 spans\n",
            "2025-09-15 10:18:46 - noveum_trace.transport.batch_processor - INFO - ✅ Successfully queued trace 1481f1ff-8d84-431a-97fd-6f028c77cfae\n",
            "2025-09-15 10:18:46 - noveum_trace.transport.http_transport - INFO - ✅ Trace 1481f1ff-8d84-431a-97fd-6f028c77cfae successfully queued for export\n"
          ]
        },
        {
          "name": "stdout",
          "output_type": "stream",
          "text": [
            "2025-09-15 10:18:46 - INFO - novaeval.evaluators.agent_evaluator - Saving intermediate results after 8 samples\n",
            "2025-09-15 10:18:46 - INFO - novaeval.evaluators.agent_evaluator - Intermediate results saved to demo_results/sample_evaluation/agent_evaluation_results.csv\n"
          ]
        },
        {
          "name": "stderr",
          "output_type": "stream",
          "text": [
            "Evaluating samples: 8it [00:36,  4.36s/it]"
          ]
        },
        {
          "name": "stdout",
          "output_type": "stream",
          "text": [
            "2025-09-15 10:18:46 - INFO - google_genai.models - AFC is enabled with max remote calls: 10.\n",
            "2025-09-15 10:18:47 - INFO - google_genai.models - AFC remote call 1 is done.\n"
          ]
        },
        {
          "name": "stderr",
          "output_type": "stream",
          "text": [
            "2025-09-15 10:18:47 - noveum_trace.transport.http_transport - INFO - 📤 EXPORTING TRACE: auto_trace_generate (ID: fc5fa1f2-8b86-408f-a8a9-0fe7b3f87fa7) - 1 spans\n",
            "2025-09-15 10:18:47 - noveum_trace.transport.batch_processor - INFO - 📥 ADDING TRACE TO QUEUE: auto_trace_generate (ID: fc5fa1f2-8b86-408f-a8a9-0fe7b3f87fa7) - 1 spans\n",
            "2025-09-15 10:18:47 - noveum_trace.transport.batch_processor - INFO - ✅ Successfully queued trace fc5fa1f2-8b86-408f-a8a9-0fe7b3f87fa7\n",
            "2025-09-15 10:18:47 - noveum_trace.transport.http_transport - INFO - ✅ Trace fc5fa1f2-8b86-408f-a8a9-0fe7b3f87fa7 successfully queued for export\n"
          ]
        },
        {
          "name": "stdout",
          "output_type": "stream",
          "text": [
            "2025-09-15 10:18:47 - INFO - google_genai.models - AFC is enabled with max remote calls: 10.\n",
            "2025-09-15 10:18:48 - INFO - google_genai.models - AFC remote call 1 is done.\n"
          ]
        },
        {
          "name": "stderr",
          "output_type": "stream",
          "text": [
            "2025-09-15 10:18:48 - noveum_trace.transport.http_transport - INFO - 📤 EXPORTING TRACE: auto_trace_generate (ID: e4db26dc-78ec-41d1-8138-78f373f4c610) - 1 spans\n",
            "2025-09-15 10:18:48 - noveum_trace.transport.batch_processor - INFO - 📥 ADDING TRACE TO QUEUE: auto_trace_generate (ID: e4db26dc-78ec-41d1-8138-78f373f4c610) - 1 spans\n",
            "2025-09-15 10:18:48 - noveum_trace.transport.batch_processor - INFO - ✅ Successfully queued trace e4db26dc-78ec-41d1-8138-78f373f4c610\n",
            "2025-09-15 10:18:48 - noveum_trace.transport.http_transport - INFO - ✅ Trace e4db26dc-78ec-41d1-8138-78f373f4c610 successfully queued for export\n"
          ]
        },
        {
          "name": "stdout",
          "output_type": "stream",
          "text": [
            "2025-09-15 10:18:48 - INFO - google_genai.models - AFC is enabled with max remote calls: 10.\n",
            "2025-09-15 10:18:50 - INFO - google_genai.models - AFC remote call 1 is done.\n"
          ]
        },
        {
          "name": "stderr",
          "output_type": "stream",
          "text": [
            "2025-09-15 10:18:50 - noveum_trace.transport.http_transport - INFO - 📤 EXPORTING TRACE: auto_trace_generate (ID: 5e2fe0b5-226a-4cf6-ae9d-31707ecd0820) - 1 spans\n",
            "2025-09-15 10:18:50 - noveum_trace.transport.batch_processor - INFO - 📥 ADDING TRACE TO QUEUE: auto_trace_generate (ID: 5e2fe0b5-226a-4cf6-ae9d-31707ecd0820) - 1 spans\n",
            "2025-09-15 10:18:50 - noveum_trace.transport.batch_processor - INFO - ✅ Successfully queued trace 5e2fe0b5-226a-4cf6-ae9d-31707ecd0820\n",
            "2025-09-15 10:18:50 - noveum_trace.transport.http_transport - INFO - ✅ Trace 5e2fe0b5-226a-4cf6-ae9d-31707ecd0820 successfully queued for export\n"
          ]
        },
        {
          "name": "stdout",
          "output_type": "stream",
          "text": [
            "2025-09-15 10:18:50 - INFO - novaeval.evaluators.agent_evaluator - Saving intermediate results after 9 samples\n",
            "2025-09-15 10:18:50 - INFO - novaeval.evaluators.agent_evaluator - Intermediate results saved to demo_results/sample_evaluation/agent_evaluation_results.csv\n"
          ]
        },
        {
          "name": "stderr",
          "output_type": "stream",
          "text": [
            "Evaluating samples: 9it [00:40,  4.15s/it]"
          ]
        },
        {
          "name": "stdout",
          "output_type": "stream",
          "text": [
            "2025-09-15 10:18:50 - INFO - google_genai.models - AFC is enabled with max remote calls: 10.\n",
            "2025-09-15 10:18:51 - INFO - google_genai.models - AFC remote call 1 is done.\n"
          ]
        },
        {
          "name": "stderr",
          "output_type": "stream",
          "text": [
            "2025-09-15 10:18:51 - noveum_trace.transport.http_transport - INFO - 📤 EXPORTING TRACE: auto_trace_generate (ID: e5f82961-0566-4585-991e-1419ae2c9e17) - 1 spans\n",
            "2025-09-15 10:18:51 - noveum_trace.transport.batch_processor - INFO - 📥 ADDING TRACE TO QUEUE: auto_trace_generate (ID: e5f82961-0566-4585-991e-1419ae2c9e17) - 1 spans\n",
            "2025-09-15 10:18:51 - noveum_trace.transport.batch_processor - INFO - ✅ Successfully queued trace e5f82961-0566-4585-991e-1419ae2c9e17\n",
            "2025-09-15 10:18:51 - noveum_trace.transport.http_transport - INFO - ✅ Trace e5f82961-0566-4585-991e-1419ae2c9e17 successfully queued for export\n"
          ]
        },
        {
          "name": "stdout",
          "output_type": "stream",
          "text": [
            "2025-09-15 10:18:51 - INFO - google_genai.models - AFC is enabled with max remote calls: 10.\n",
            "2025-09-15 10:18:52 - INFO - google_genai.models - AFC remote call 1 is done.\n"
          ]
        },
        {
          "name": "stderr",
          "output_type": "stream",
          "text": [
            "2025-09-15 10:18:52 - noveum_trace.transport.http_transport - INFO - 📤 EXPORTING TRACE: auto_trace_generate (ID: 3499b9c6-c7a6-493a-b363-9ad4a2d588a0) - 1 spans\n",
            "2025-09-15 10:18:52 - noveum_trace.transport.batch_processor - INFO - 📥 ADDING TRACE TO QUEUE: auto_trace_generate (ID: 3499b9c6-c7a6-493a-b363-9ad4a2d588a0) - 1 spans\n",
            "2025-09-15 10:18:52 - noveum_trace.transport.batch_processor - INFO - ✅ Successfully queued trace 3499b9c6-c7a6-493a-b363-9ad4a2d588a0\n",
            "2025-09-15 10:18:52 - noveum_trace.transport.http_transport - INFO - ✅ Trace 3499b9c6-c7a6-493a-b363-9ad4a2d588a0 successfully queued for export\n"
          ]
        },
        {
          "name": "stdout",
          "output_type": "stream",
          "text": [
            "2025-09-15 10:18:52 - INFO - google_genai.models - AFC is enabled with max remote calls: 10.\n",
            "2025-09-15 10:18:53 - INFO - google_genai.models - AFC remote call 1 is done.\n"
          ]
        },
        {
          "name": "stderr",
          "output_type": "stream",
          "text": [
            "2025-09-15 10:18:53 - noveum_trace.transport.http_transport - INFO - 📤 EXPORTING TRACE: auto_trace_generate (ID: 4c2e8cbd-640b-4ba3-9f02-1f805a731fa7) - 1 spans\n",
            "2025-09-15 10:18:53 - noveum_trace.transport.batch_processor - INFO - 📥 ADDING TRACE TO QUEUE: auto_trace_generate (ID: 4c2e8cbd-640b-4ba3-9f02-1f805a731fa7) - 1 spans\n",
            "2025-09-15 10:18:53 - noveum_trace.transport.batch_processor - INFO - ✅ Successfully queued trace 4c2e8cbd-640b-4ba3-9f02-1f805a731fa7\n",
            "2025-09-15 10:18:53 - noveum_trace.transport.http_transport - INFO - ✅ Trace 4c2e8cbd-640b-4ba3-9f02-1f805a731fa7 successfully queued for export\n"
          ]
        },
        {
          "name": "stdout",
          "output_type": "stream",
          "text": [
            "2025-09-15 10:18:53 - INFO - novaeval.evaluators.agent_evaluator - Saving intermediate results after 10 samples\n",
            "2025-09-15 10:18:53 - INFO - novaeval.evaluators.agent_evaluator - Intermediate results saved to demo_results/sample_evaluation/agent_evaluation_results.csv\n"
          ]
        },
        {
          "name": "stderr",
          "output_type": "stream",
          "text": [
            "Evaluating samples: 10it [00:43,  3.94s/it]"
          ]
        },
        {
          "name": "stdout",
          "output_type": "stream",
          "text": [
            "2025-09-15 10:18:53 - INFO - google_genai.models - AFC is enabled with max remote calls: 10.\n",
            "2025-09-15 10:18:54 - INFO - google_genai.models - AFC remote call 1 is done.\n"
          ]
        },
        {
          "name": "stderr",
          "output_type": "stream",
          "text": [
            "2025-09-15 10:18:54 - noveum_trace.transport.http_transport - INFO - 📤 EXPORTING TRACE: auto_trace_generate (ID: ee953762-1635-4c6b-8c9d-4807325fab8d) - 1 spans\n",
            "2025-09-15 10:18:54 - noveum_trace.transport.batch_processor - INFO - 📥 ADDING TRACE TO QUEUE: auto_trace_generate (ID: ee953762-1635-4c6b-8c9d-4807325fab8d) - 1 spans\n",
            "2025-09-15 10:18:54 - noveum_trace.transport.batch_processor - INFO - ✅ Successfully queued trace ee953762-1635-4c6b-8c9d-4807325fab8d\n",
            "2025-09-15 10:18:54 - noveum_trace.transport.http_transport - INFO - ✅ Trace ee953762-1635-4c6b-8c9d-4807325fab8d successfully queued for export\n"
          ]
        },
        {
          "name": "stdout",
          "output_type": "stream",
          "text": [
            "2025-09-15 10:18:54 - INFO - google_genai.models - AFC is enabled with max remote calls: 10.\n",
            "2025-09-15 10:18:55 - INFO - google_genai.models - AFC remote call 1 is done.\n"
          ]
        },
        {
          "name": "stderr",
          "output_type": "stream",
          "text": [
            "2025-09-15 10:18:55 - noveum_trace.transport.http_transport - INFO - 📤 EXPORTING TRACE: auto_trace_generate (ID: fe65f9e3-2e3e-4bd6-903e-0c4924b00d54) - 1 spans\n",
            "2025-09-15 10:18:55 - noveum_trace.transport.batch_processor - INFO - 📥 ADDING TRACE TO QUEUE: auto_trace_generate (ID: fe65f9e3-2e3e-4bd6-903e-0c4924b00d54) - 1 spans\n",
            "2025-09-15 10:18:55 - noveum_trace.transport.batch_processor - INFO - ✅ Successfully queued trace fe65f9e3-2e3e-4bd6-903e-0c4924b00d54\n",
            "2025-09-15 10:18:55 - noveum_trace.transport.http_transport - INFO - ✅ Trace fe65f9e3-2e3e-4bd6-903e-0c4924b00d54 successfully queued for export\n"
          ]
        },
        {
          "name": "stdout",
          "output_type": "stream",
          "text": [
            "2025-09-15 10:18:55 - INFO - google_genai.models - AFC is enabled with max remote calls: 10.\n",
            "2025-09-15 10:18:57 - INFO - google_genai.models - AFC remote call 1 is done.\n"
          ]
        },
        {
          "name": "stderr",
          "output_type": "stream",
          "text": [
            "2025-09-15 10:18:57 - noveum_trace.transport.http_transport - INFO - 📤 EXPORTING TRACE: auto_trace_generate (ID: e59c257b-09ca-4167-ab1c-e37e7b0d222f) - 1 spans\n",
            "2025-09-15 10:18:57 - noveum_trace.transport.batch_processor - INFO - 📥 ADDING TRACE TO QUEUE: auto_trace_generate (ID: e59c257b-09ca-4167-ab1c-e37e7b0d222f) - 1 spans\n",
            "2025-09-15 10:18:57 - noveum_trace.transport.batch_processor - INFO - ✅ Successfully queued trace e59c257b-09ca-4167-ab1c-e37e7b0d222f\n",
            "2025-09-15 10:18:57 - noveum_trace.transport.http_transport - INFO - ✅ Trace e59c257b-09ca-4167-ab1c-e37e7b0d222f successfully queued for export\n"
          ]
        },
        {
          "name": "stdout",
          "output_type": "stream",
          "text": [
            "2025-09-15 10:18:57 - INFO - novaeval.evaluators.agent_evaluator - Saving intermediate results after 11 samples\n",
            "2025-09-15 10:18:57 - INFO - novaeval.evaluators.agent_evaluator - Intermediate results saved to demo_results/sample_evaluation/agent_evaluation_results.csv\n"
          ]
        },
        {
          "name": "stderr",
          "output_type": "stream",
          "text": [
            "Evaluating samples: 11it [00:47,  3.86s/it]"
          ]
        },
        {
          "name": "stdout",
          "output_type": "stream",
          "text": [
            "2025-09-15 10:18:57 - INFO - google_genai.models - AFC is enabled with max remote calls: 10.\n",
            "2025-09-15 10:18:58 - INFO - google_genai.models - AFC remote call 1 is done.\n"
          ]
        },
        {
          "name": "stderr",
          "output_type": "stream",
          "text": [
            "2025-09-15 10:18:58 - noveum_trace.transport.http_transport - INFO - 📤 EXPORTING TRACE: auto_trace_generate (ID: 52c4023d-dd90-4ed7-902c-7625602780b8) - 1 spans\n",
            "2025-09-15 10:18:58 - noveum_trace.transport.batch_processor - INFO - 📥 ADDING TRACE TO QUEUE: auto_trace_generate (ID: 52c4023d-dd90-4ed7-902c-7625602780b8) - 1 spans\n",
            "2025-09-15 10:18:58 - noveum_trace.transport.batch_processor - INFO - ✅ Successfully queued trace 52c4023d-dd90-4ed7-902c-7625602780b8\n",
            "2025-09-15 10:18:58 - noveum_trace.transport.http_transport - INFO - ✅ Trace 52c4023d-dd90-4ed7-902c-7625602780b8 successfully queued for export\n"
          ]
        },
        {
          "name": "stdout",
          "output_type": "stream",
          "text": [
            "2025-09-15 10:18:58 - INFO - google_genai.models - AFC is enabled with max remote calls: 10.\n",
            "2025-09-15 10:18:59 - INFO - google_genai.models - AFC remote call 1 is done.\n"
          ]
        },
        {
          "name": "stderr",
          "output_type": "stream",
          "text": [
            "2025-09-15 10:18:59 - noveum_trace.transport.http_transport - INFO - 📤 EXPORTING TRACE: auto_trace_generate (ID: 4aa3510a-17cd-4bd1-8812-f6e949584378) - 1 spans\n",
            "2025-09-15 10:18:59 - noveum_trace.transport.batch_processor - INFO - 📥 ADDING TRACE TO QUEUE: auto_trace_generate (ID: 4aa3510a-17cd-4bd1-8812-f6e949584378) - 1 spans\n",
            "2025-09-15 10:18:59 - noveum_trace.transport.batch_processor - INFO - ✅ Successfully queued trace 4aa3510a-17cd-4bd1-8812-f6e949584378\n",
            "2025-09-15 10:18:59 - noveum_trace.transport.http_transport - INFO - ✅ Trace 4aa3510a-17cd-4bd1-8812-f6e949584378 successfully queued for export\n"
          ]
        },
        {
          "name": "stdout",
          "output_type": "stream",
          "text": [
            "2025-09-15 10:18:59 - INFO - google_genai.models - AFC is enabled with max remote calls: 10.\n",
            "2025-09-15 10:19:01 - INFO - google_genai.models - AFC remote call 1 is done.\n"
          ]
        },
        {
          "name": "stderr",
          "output_type": "stream",
          "text": [
            "2025-09-15 10:19:01 - noveum_trace.transport.http_transport - INFO - 📤 EXPORTING TRACE: auto_trace_generate (ID: e161c3ad-b9a5-4fc7-8c88-41b67a9d5979) - 1 spans\n",
            "2025-09-15 10:19:01 - noveum_trace.transport.batch_processor - INFO - 📥 ADDING TRACE TO QUEUE: auto_trace_generate (ID: e161c3ad-b9a5-4fc7-8c88-41b67a9d5979) - 1 spans\n",
            "2025-09-15 10:19:01 - noveum_trace.transport.batch_processor - INFO - ✅ Successfully queued trace e161c3ad-b9a5-4fc7-8c88-41b67a9d5979\n",
            "2025-09-15 10:19:01 - noveum_trace.transport.http_transport - INFO - ✅ Trace e161c3ad-b9a5-4fc7-8c88-41b67a9d5979 successfully queued for export\n"
          ]
        },
        {
          "name": "stdout",
          "output_type": "stream",
          "text": [
            "2025-09-15 10:19:01 - INFO - novaeval.evaluators.agent_evaluator - Saving intermediate results after 12 samples\n",
            "2025-09-15 10:19:01 - INFO - novaeval.evaluators.agent_evaluator - Intermediate results saved to demo_results/sample_evaluation/agent_evaluation_results.csv\n"
          ]
        },
        {
          "name": "stderr",
          "output_type": "stream",
          "text": [
            "Evaluating samples: 12it [00:51,  3.87s/it]"
          ]
        },
        {
          "name": "stdout",
          "output_type": "stream",
          "text": [
            "2025-09-15 10:19:01 - INFO - google_genai.models - AFC is enabled with max remote calls: 10.\n",
            "2025-09-15 10:19:02 - INFO - google_genai.models - AFC remote call 1 is done.\n"
          ]
        },
        {
          "name": "stderr",
          "output_type": "stream",
          "text": [
            "2025-09-15 10:19:02 - noveum_trace.transport.http_transport - INFO - 📤 EXPORTING TRACE: auto_trace_generate (ID: a562e0d1-e722-4231-821c-06c903caeb77) - 1 spans\n",
            "2025-09-15 10:19:02 - noveum_trace.transport.batch_processor - INFO - 📥 ADDING TRACE TO QUEUE: auto_trace_generate (ID: a562e0d1-e722-4231-821c-06c903caeb77) - 1 spans\n",
            "2025-09-15 10:19:02 - noveum_trace.transport.batch_processor - INFO - ✅ Successfully queued trace a562e0d1-e722-4231-821c-06c903caeb77\n",
            "2025-09-15 10:19:02 - noveum_trace.transport.http_transport - INFO - ✅ Trace a562e0d1-e722-4231-821c-06c903caeb77 successfully queued for export\n"
          ]
        },
        {
          "name": "stdout",
          "output_type": "stream",
          "text": [
            "2025-09-15 10:19:02 - INFO - google_genai.models - AFC is enabled with max remote calls: 10.\n",
            "2025-09-15 10:19:03 - INFO - google_genai.models - AFC remote call 1 is done.\n"
          ]
        },
        {
          "name": "stderr",
          "output_type": "stream",
          "text": [
            "2025-09-15 10:19:03 - noveum_trace.transport.http_transport - INFO - 📤 EXPORTING TRACE: auto_trace_generate (ID: 36874887-be36-47f7-93ca-6d7f60753f27) - 1 spans\n",
            "2025-09-15 10:19:03 - noveum_trace.transport.batch_processor - INFO - 📥 ADDING TRACE TO QUEUE: auto_trace_generate (ID: 36874887-be36-47f7-93ca-6d7f60753f27) - 1 spans\n",
            "2025-09-15 10:19:03 - noveum_trace.transport.batch_processor - INFO - ✅ Successfully queued trace 36874887-be36-47f7-93ca-6d7f60753f27\n",
            "2025-09-15 10:19:03 - noveum_trace.transport.http_transport - INFO - ✅ Trace 36874887-be36-47f7-93ca-6d7f60753f27 successfully queued for export\n"
          ]
        },
        {
          "name": "stdout",
          "output_type": "stream",
          "text": [
            "2025-09-15 10:19:03 - INFO - google_genai.models - AFC is enabled with max remote calls: 10.\n",
            "2025-09-15 10:19:04 - INFO - google_genai.models - AFC remote call 1 is done.\n"
          ]
        },
        {
          "name": "stderr",
          "output_type": "stream",
          "text": [
            "2025-09-15 10:19:04 - noveum_trace.transport.http_transport - INFO - 📤 EXPORTING TRACE: auto_trace_generate (ID: 7f12c3c0-a65e-49da-915e-b6db858ff7a5) - 1 spans\n",
            "2025-09-15 10:19:04 - noveum_trace.transport.batch_processor - INFO - 📥 ADDING TRACE TO QUEUE: auto_trace_generate (ID: 7f12c3c0-a65e-49da-915e-b6db858ff7a5) - 1 spans\n",
            "2025-09-15 10:19:04 - noveum_trace.transport.batch_processor - INFO - ✅ Successfully queued trace 7f12c3c0-a65e-49da-915e-b6db858ff7a5\n",
            "2025-09-15 10:19:04 - noveum_trace.transport.http_transport - INFO - ✅ Trace 7f12c3c0-a65e-49da-915e-b6db858ff7a5 successfully queued for export\n"
          ]
        },
        {
          "name": "stdout",
          "output_type": "stream",
          "text": [
            "2025-09-15 10:19:04 - INFO - novaeval.evaluators.agent_evaluator - Saving intermediate results after 13 samples\n",
            "2025-09-15 10:19:04 - INFO - novaeval.evaluators.agent_evaluator - Intermediate results saved to demo_results/sample_evaluation/agent_evaluation_results.csv\n"
          ]
        },
        {
          "name": "stderr",
          "output_type": "stream",
          "text": [
            "Evaluating samples: 13it [00:54,  3.82s/it]"
          ]
        },
        {
          "name": "stdout",
          "output_type": "stream",
          "text": [
            "2025-09-15 10:19:04 - INFO - google_genai.models - AFC is enabled with max remote calls: 10.\n",
            "2025-09-15 10:19:06 - INFO - google_genai.models - AFC remote call 1 is done.\n"
          ]
        },
        {
          "name": "stderr",
          "output_type": "stream",
          "text": [
            "2025-09-15 10:19:06 - noveum_trace.transport.http_transport - INFO - 📤 EXPORTING TRACE: auto_trace_generate (ID: bd538b83-acda-4a51-ad56-a46cf72918b5) - 1 spans\n",
            "2025-09-15 10:19:06 - noveum_trace.transport.batch_processor - INFO - 📥 ADDING TRACE TO QUEUE: auto_trace_generate (ID: bd538b83-acda-4a51-ad56-a46cf72918b5) - 1 spans\n",
            "2025-09-15 10:19:06 - noveum_trace.transport.batch_processor - INFO - ✅ Successfully queued trace bd538b83-acda-4a51-ad56-a46cf72918b5\n",
            "2025-09-15 10:19:06 - noveum_trace.transport.http_transport - INFO - ✅ Trace bd538b83-acda-4a51-ad56-a46cf72918b5 successfully queued for export\n"
          ]
        },
        {
          "name": "stdout",
          "output_type": "stream",
          "text": [
            "2025-09-15 10:19:06 - INFO - google_genai.models - AFC is enabled with max remote calls: 10.\n",
            "2025-09-15 10:19:07 - INFO - google_genai.models - AFC remote call 1 is done.\n"
          ]
        },
        {
          "name": "stderr",
          "output_type": "stream",
          "text": [
            "2025-09-15 10:19:07 - noveum_trace.transport.http_transport - INFO - 📤 EXPORTING TRACE: auto_trace_generate (ID: 3b0ad701-d9f6-46e1-a5eb-ddc4a77383fe) - 1 spans\n",
            "2025-09-15 10:19:07 - noveum_trace.transport.batch_processor - INFO - 📥 ADDING TRACE TO QUEUE: auto_trace_generate (ID: 3b0ad701-d9f6-46e1-a5eb-ddc4a77383fe) - 1 spans\n",
            "2025-09-15 10:19:07 - noveum_trace.transport.batch_processor - INFO - ✅ Successfully queued trace 3b0ad701-d9f6-46e1-a5eb-ddc4a77383fe\n",
            "2025-09-15 10:19:07 - noveum_trace.transport.http_transport - INFO - ✅ Trace 3b0ad701-d9f6-46e1-a5eb-ddc4a77383fe successfully queued for export\n"
          ]
        },
        {
          "name": "stdout",
          "output_type": "stream",
          "text": [
            "2025-09-15 10:19:07 - INFO - google_genai.models - AFC is enabled with max remote calls: 10.\n",
            "2025-09-15 10:19:08 - INFO - google_genai.models - AFC remote call 1 is done.\n"
          ]
        },
        {
          "name": "stderr",
          "output_type": "stream",
          "text": [
            "2025-09-15 10:19:08 - noveum_trace.transport.http_transport - INFO - 📤 EXPORTING TRACE: auto_trace_generate (ID: 5c95d083-19a4-4072-8252-88326a9d305f) - 1 spans\n",
            "2025-09-15 10:19:08 - noveum_trace.transport.batch_processor - INFO - 📥 ADDING TRACE TO QUEUE: auto_trace_generate (ID: 5c95d083-19a4-4072-8252-88326a9d305f) - 1 spans\n",
            "2025-09-15 10:19:08 - noveum_trace.transport.batch_processor - INFO - ✅ Successfully queued trace 5c95d083-19a4-4072-8252-88326a9d305f\n",
            "2025-09-15 10:19:08 - noveum_trace.transport.http_transport - INFO - ✅ Trace 5c95d083-19a4-4072-8252-88326a9d305f successfully queued for export\n"
          ]
        },
        {
          "name": "stdout",
          "output_type": "stream",
          "text": [
            "2025-09-15 10:19:08 - INFO - google_genai.models - AFC is enabled with max remote calls: 10.\n",
            "2025-09-15 10:19:09 - INFO - google_genai.models - AFC remote call 1 is done.\n"
          ]
        },
        {
          "name": "stderr",
          "output_type": "stream",
          "text": [
            "2025-09-15 10:19:09 - noveum_trace.transport.http_transport - INFO - 📤 EXPORTING TRACE: auto_trace_generate (ID: f877af68-4cfa-4045-8ad3-ea8f62a3050f) - 1 spans\n",
            "2025-09-15 10:19:09 - noveum_trace.transport.batch_processor - INFO - 📥 ADDING TRACE TO QUEUE: auto_trace_generate (ID: f877af68-4cfa-4045-8ad3-ea8f62a3050f) - 1 spans\n",
            "2025-09-15 10:19:09 - noveum_trace.transport.batch_processor - INFO - ✅ Successfully queued trace f877af68-4cfa-4045-8ad3-ea8f62a3050f\n",
            "2025-09-15 10:19:09 - noveum_trace.transport.http_transport - INFO - ✅ Trace f877af68-4cfa-4045-8ad3-ea8f62a3050f successfully queued for export\n"
          ]
        },
        {
          "name": "stdout",
          "output_type": "stream",
          "text": [
            "2025-09-15 10:19:09 - INFO - google_genai.models - AFC is enabled with max remote calls: 10.\n",
            "2025-09-15 10:19:10 - INFO - google_genai.models - AFC remote call 1 is done.\n"
          ]
        },
        {
          "name": "stderr",
          "output_type": "stream",
          "text": [
            "2025-09-15 10:19:10 - noveum_trace.transport.http_transport - INFO - 📤 EXPORTING TRACE: auto_trace_generate (ID: e981b199-ff99-4e66-a93d-d24924162986) - 1 spans\n",
            "2025-09-15 10:19:10 - noveum_trace.transport.batch_processor - INFO - 📥 ADDING TRACE TO QUEUE: auto_trace_generate (ID: e981b199-ff99-4e66-a93d-d24924162986) - 1 spans\n",
            "2025-09-15 10:19:10 - noveum_trace.transport.batch_processor - INFO - ✅ Successfully queued trace e981b199-ff99-4e66-a93d-d24924162986\n",
            "2025-09-15 10:19:10 - noveum_trace.transport.http_transport - INFO - ✅ Trace e981b199-ff99-4e66-a93d-d24924162986 successfully queued for export\n"
          ]
        },
        {
          "name": "stdout",
          "output_type": "stream",
          "text": [
            "2025-09-15 10:19:10 - INFO - novaeval.evaluators.agent_evaluator - Saving intermediate results after 14 samples\n",
            "2025-09-15 10:19:10 - INFO - novaeval.evaluators.agent_evaluator - Intermediate results saved to demo_results/sample_evaluation/agent_evaluation_results.csv\n"
          ]
        },
        {
          "name": "stderr",
          "output_type": "stream",
          "text": [
            "Evaluating samples: 14it [01:00,  4.46s/it]"
          ]
        },
        {
          "name": "stdout",
          "output_type": "stream",
          "text": [
            "2025-09-15 10:19:10 - INFO - google_genai.models - AFC is enabled with max remote calls: 10.\n",
            "2025-09-15 10:19:12 - INFO - google_genai.models - AFC remote call 1 is done.\n"
          ]
        },
        {
          "name": "stderr",
          "output_type": "stream",
          "text": [
            "2025-09-15 10:19:12 - noveum_trace.transport.http_transport - INFO - 📤 EXPORTING TRACE: auto_trace_generate (ID: 3b425dd0-fd4c-440c-9b25-4ba0a2d5d1b0) - 1 spans\n",
            "2025-09-15 10:19:12 - noveum_trace.transport.batch_processor - INFO - 📥 ADDING TRACE TO QUEUE: auto_trace_generate (ID: 3b425dd0-fd4c-440c-9b25-4ba0a2d5d1b0) - 1 spans\n",
            "2025-09-15 10:19:12 - noveum_trace.transport.batch_processor - INFO - ✅ Successfully queued trace 3b425dd0-fd4c-440c-9b25-4ba0a2d5d1b0\n",
            "2025-09-15 10:19:12 - noveum_trace.transport.http_transport - INFO - ✅ Trace 3b425dd0-fd4c-440c-9b25-4ba0a2d5d1b0 successfully queued for export\n"
          ]
        },
        {
          "name": "stdout",
          "output_type": "stream",
          "text": [
            "2025-09-15 10:19:12 - INFO - google_genai.models - AFC is enabled with max remote calls: 10.\n",
            "2025-09-15 10:19:13 - INFO - google_genai.models - AFC remote call 1 is done.\n"
          ]
        },
        {
          "name": "stderr",
          "output_type": "stream",
          "text": [
            "2025-09-15 10:19:13 - noveum_trace.transport.http_transport - INFO - 📤 EXPORTING TRACE: auto_trace_generate (ID: 5d2f58a8-c5d1-48ac-8a2f-e915ef32277c) - 1 spans\n",
            "2025-09-15 10:19:13 - noveum_trace.transport.batch_processor - INFO - 📥 ADDING TRACE TO QUEUE: auto_trace_generate (ID: 5d2f58a8-c5d1-48ac-8a2f-e915ef32277c) - 1 spans\n",
            "2025-09-15 10:19:13 - noveum_trace.transport.batch_processor - INFO - ✅ Successfully queued trace 5d2f58a8-c5d1-48ac-8a2f-e915ef32277c\n",
            "2025-09-15 10:19:13 - noveum_trace.transport.http_transport - INFO - ✅ Trace 5d2f58a8-c5d1-48ac-8a2f-e915ef32277c successfully queued for export\n"
          ]
        },
        {
          "name": "stdout",
          "output_type": "stream",
          "text": [
            "2025-09-15 10:19:13 - INFO - google_genai.models - AFC is enabled with max remote calls: 10.\n",
            "2025-09-15 10:19:14 - INFO - google_genai.models - AFC remote call 1 is done.\n"
          ]
        },
        {
          "name": "stderr",
          "output_type": "stream",
          "text": [
            "2025-09-15 10:19:14 - noveum_trace.transport.http_transport - INFO - 📤 EXPORTING TRACE: auto_trace_generate (ID: 394ba6c6-e738-4cd4-a9c9-6455625f15f4) - 1 spans\n",
            "2025-09-15 10:19:14 - noveum_trace.transport.batch_processor - INFO - 📥 ADDING TRACE TO QUEUE: auto_trace_generate (ID: 394ba6c6-e738-4cd4-a9c9-6455625f15f4) - 1 spans\n",
            "2025-09-15 10:19:14 - noveum_trace.transport.batch_processor - INFO - ✅ Successfully queued trace 394ba6c6-e738-4cd4-a9c9-6455625f15f4\n",
            "2025-09-15 10:19:14 - noveum_trace.transport.http_transport - INFO - ✅ Trace 394ba6c6-e738-4cd4-a9c9-6455625f15f4 successfully queued for export\n"
          ]
        },
        {
          "name": "stdout",
          "output_type": "stream",
          "text": [
            "2025-09-15 10:19:14 - INFO - novaeval.evaluators.agent_evaluator - Saving intermediate results after 15 samples\n",
            "2025-09-15 10:19:14 - INFO - novaeval.evaluators.agent_evaluator - Intermediate results saved to demo_results/sample_evaluation/agent_evaluation_results.csv\n"
          ]
        },
        {
          "name": "stderr",
          "output_type": "stream",
          "text": [
            "Evaluating samples: 15it [01:04,  4.26s/it]"
          ]
        },
        {
          "name": "stdout",
          "output_type": "stream",
          "text": [
            "2025-09-15 10:19:14 - INFO - google_genai.models - AFC is enabled with max remote calls: 10.\n",
            "2025-09-15 10:19:15 - INFO - google_genai.models - AFC remote call 1 is done.\n"
          ]
        },
        {
          "name": "stderr",
          "output_type": "stream",
          "text": [
            "2025-09-15 10:19:15 - noveum_trace.transport.http_transport - INFO - 📤 EXPORTING TRACE: auto_trace_generate (ID: f30e62e3-2657-45b1-a5b7-cff08e8ea233) - 1 spans\n",
            "2025-09-15 10:19:15 - noveum_trace.transport.batch_processor - INFO - 📥 ADDING TRACE TO QUEUE: auto_trace_generate (ID: f30e62e3-2657-45b1-a5b7-cff08e8ea233) - 1 spans\n",
            "2025-09-15 10:19:15 - noveum_trace.transport.batch_processor - INFO - ✅ Successfully queued trace f30e62e3-2657-45b1-a5b7-cff08e8ea233\n",
            "2025-09-15 10:19:15 - noveum_trace.transport.http_transport - INFO - ✅ Trace f30e62e3-2657-45b1-a5b7-cff08e8ea233 successfully queued for export\n"
          ]
        },
        {
          "name": "stdout",
          "output_type": "stream",
          "text": [
            "2025-09-15 10:19:15 - INFO - google_genai.models - AFC is enabled with max remote calls: 10.\n",
            "2025-09-15 10:19:17 - INFO - google_genai.models - AFC remote call 1 is done.\n"
          ]
        },
        {
          "name": "stderr",
          "output_type": "stream",
          "text": [
            "2025-09-15 10:19:17 - noveum_trace.transport.http_transport - INFO - 📤 EXPORTING TRACE: auto_trace_generate (ID: 0061c7ad-1451-472b-b950-e3fb86da0505) - 1 spans\n",
            "2025-09-15 10:19:17 - noveum_trace.transport.batch_processor - INFO - 📥 ADDING TRACE TO QUEUE: auto_trace_generate (ID: 0061c7ad-1451-472b-b950-e3fb86da0505) - 1 spans\n",
            "2025-09-15 10:19:17 - noveum_trace.transport.batch_processor - INFO - ✅ Successfully queued trace 0061c7ad-1451-472b-b950-e3fb86da0505\n",
            "2025-09-15 10:19:17 - noveum_trace.transport.http_transport - INFO - ✅ Trace 0061c7ad-1451-472b-b950-e3fb86da0505 successfully queued for export\n"
          ]
        },
        {
          "name": "stdout",
          "output_type": "stream",
          "text": [
            "2025-09-15 10:19:17 - INFO - google_genai.models - AFC is enabled with max remote calls: 10.\n",
            "2025-09-15 10:19:18 - INFO - google_genai.models - AFC remote call 1 is done.\n"
          ]
        },
        {
          "name": "stderr",
          "output_type": "stream",
          "text": [
            "2025-09-15 10:19:18 - noveum_trace.transport.http_transport - INFO - 📤 EXPORTING TRACE: auto_trace_generate (ID: d2be103b-fd4e-4fa0-8d30-a1d88e454456) - 1 spans\n",
            "2025-09-15 10:19:18 - noveum_trace.transport.batch_processor - INFO - 📥 ADDING TRACE TO QUEUE: auto_trace_generate (ID: d2be103b-fd4e-4fa0-8d30-a1d88e454456) - 1 spans\n",
            "2025-09-15 10:19:18 - noveum_trace.transport.batch_processor - INFO - ✅ Successfully queued trace d2be103b-fd4e-4fa0-8d30-a1d88e454456\n",
            "2025-09-15 10:19:18 - noveum_trace.transport.http_transport - INFO - ✅ Trace d2be103b-fd4e-4fa0-8d30-a1d88e454456 successfully queued for export\n"
          ]
        },
        {
          "name": "stdout",
          "output_type": "stream",
          "text": [
            "2025-09-15 10:19:18 - INFO - novaeval.evaluators.agent_evaluator - Saving intermediate results after 16 samples\n",
            "2025-09-15 10:19:18 - INFO - novaeval.evaluators.agent_evaluator - Intermediate results saved to demo_results/sample_evaluation/agent_evaluation_results.csv\n"
          ]
        },
        {
          "name": "stderr",
          "output_type": "stream",
          "text": [
            "Evaluating samples: 16it [01:08,  4.08s/it]"
          ]
        },
        {
          "name": "stdout",
          "output_type": "stream",
          "text": [
            "2025-09-15 10:19:18 - INFO - google_genai.models - AFC is enabled with max remote calls: 10.\n",
            "2025-09-15 10:19:19 - INFO - google_genai.models - AFC remote call 1 is done.\n"
          ]
        },
        {
          "name": "stderr",
          "output_type": "stream",
          "text": [
            "2025-09-15 10:19:19 - noveum_trace.transport.http_transport - INFO - 📤 EXPORTING TRACE: auto_trace_generate (ID: 0e475c24-8930-4789-b0ec-0bfd926af08f) - 1 spans\n",
            "2025-09-15 10:19:19 - noveum_trace.transport.batch_processor - INFO - 📥 ADDING TRACE TO QUEUE: auto_trace_generate (ID: 0e475c24-8930-4789-b0ec-0bfd926af08f) - 1 spans\n",
            "2025-09-15 10:19:19 - noveum_trace.transport.batch_processor - INFO - ✅ Successfully queued trace 0e475c24-8930-4789-b0ec-0bfd926af08f\n",
            "2025-09-15 10:19:19 - noveum_trace.transport.http_transport - INFO - ✅ Trace 0e475c24-8930-4789-b0ec-0bfd926af08f successfully queued for export\n"
          ]
        },
        {
          "name": "stdout",
          "output_type": "stream",
          "text": [
            "2025-09-15 10:19:19 - INFO - google_genai.models - AFC is enabled with max remote calls: 10.\n",
            "2025-09-15 10:19:20 - INFO - google_genai.models - AFC remote call 1 is done.\n"
          ]
        },
        {
          "name": "stderr",
          "output_type": "stream",
          "text": [
            "2025-09-15 10:19:20 - noveum_trace.transport.http_transport - INFO - 📤 EXPORTING TRACE: auto_trace_generate (ID: 90c7b426-c7f9-4b14-8446-a7991ac49811) - 1 spans\n",
            "2025-09-15 10:19:20 - noveum_trace.transport.batch_processor - INFO - 📥 ADDING TRACE TO QUEUE: auto_trace_generate (ID: 90c7b426-c7f9-4b14-8446-a7991ac49811) - 1 spans\n",
            "2025-09-15 10:19:20 - noveum_trace.transport.batch_processor - INFO - ✅ Successfully queued trace 90c7b426-c7f9-4b14-8446-a7991ac49811\n",
            "2025-09-15 10:19:20 - noveum_trace.transport.http_transport - INFO - ✅ Trace 90c7b426-c7f9-4b14-8446-a7991ac49811 successfully queued for export\n"
          ]
        },
        {
          "name": "stdout",
          "output_type": "stream",
          "text": [
            "2025-09-15 10:19:20 - INFO - google_genai.models - AFC is enabled with max remote calls: 10.\n",
            "2025-09-15 10:19:21 - INFO - google_genai.models - AFC remote call 1 is done.\n"
          ]
        },
        {
          "name": "stderr",
          "output_type": "stream",
          "text": [
            "2025-09-15 10:19:21 - noveum_trace.transport.http_transport - INFO - 📤 EXPORTING TRACE: auto_trace_generate (ID: 55de4939-f522-4914-9fb8-0af892bff5ce) - 1 spans\n",
            "2025-09-15 10:19:21 - noveum_trace.transport.batch_processor - INFO - 📥 ADDING TRACE TO QUEUE: auto_trace_generate (ID: 55de4939-f522-4914-9fb8-0af892bff5ce) - 1 spans\n",
            "2025-09-15 10:19:21 - noveum_trace.transport.batch_processor - INFO - ✅ Successfully queued trace 55de4939-f522-4914-9fb8-0af892bff5ce\n",
            "2025-09-15 10:19:21 - noveum_trace.transport.http_transport - INFO - ✅ Trace 55de4939-f522-4914-9fb8-0af892bff5ce successfully queued for export\n"
          ]
        },
        {
          "name": "stdout",
          "output_type": "stream",
          "text": [
            "2025-09-15 10:19:21 - INFO - google_genai.models - AFC is enabled with max remote calls: 10.\n",
            "2025-09-15 10:19:22 - INFO - google_genai.models - AFC remote call 1 is done.\n"
          ]
        },
        {
          "name": "stderr",
          "output_type": "stream",
          "text": [
            "2025-09-15 10:19:22 - noveum_trace.transport.http_transport - INFO - 📤 EXPORTING TRACE: auto_trace_generate (ID: 348e6ad5-63d5-48c3-b359-0647df16f399) - 1 spans\n",
            "2025-09-15 10:19:22 - noveum_trace.transport.batch_processor - INFO - 📥 ADDING TRACE TO QUEUE: auto_trace_generate (ID: 348e6ad5-63d5-48c3-b359-0647df16f399) - 1 spans\n",
            "2025-09-15 10:19:22 - noveum_trace.transport.batch_processor - INFO - ✅ Successfully queued trace 348e6ad5-63d5-48c3-b359-0647df16f399\n",
            "2025-09-15 10:19:22 - noveum_trace.transport.http_transport - INFO - ✅ Trace 348e6ad5-63d5-48c3-b359-0647df16f399 successfully queued for export\n"
          ]
        },
        {
          "name": "stdout",
          "output_type": "stream",
          "text": [
            "2025-09-15 10:19:22 - INFO - google_genai.models - AFC is enabled with max remote calls: 10.\n",
            "2025-09-15 10:19:24 - INFO - google_genai.models - AFC remote call 1 is done.\n"
          ]
        },
        {
          "name": "stderr",
          "output_type": "stream",
          "text": [
            "2025-09-15 10:19:24 - noveum_trace.transport.http_transport - INFO - 📤 EXPORTING TRACE: auto_trace_generate (ID: 6be9c9b2-daf6-46a5-bb29-dea33b3531dd) - 1 spans\n",
            "2025-09-15 10:19:24 - noveum_trace.transport.batch_processor - INFO - 📥 ADDING TRACE TO QUEUE: auto_trace_generate (ID: 6be9c9b2-daf6-46a5-bb29-dea33b3531dd) - 1 spans\n",
            "2025-09-15 10:19:24 - noveum_trace.transport.batch_processor - INFO - ✅ Successfully queued trace 6be9c9b2-daf6-46a5-bb29-dea33b3531dd\n",
            "2025-09-15 10:19:24 - noveum_trace.transport.http_transport - INFO - ✅ Trace 6be9c9b2-daf6-46a5-bb29-dea33b3531dd successfully queued for export\n"
          ]
        },
        {
          "name": "stdout",
          "output_type": "stream",
          "text": [
            "2025-09-15 10:19:24 - INFO - novaeval.evaluators.agent_evaluator - Saving intermediate results after 17 samples\n",
            "2025-09-15 10:19:24 - INFO - novaeval.evaluators.agent_evaluator - Intermediate results saved to demo_results/sample_evaluation/agent_evaluation_results.csv\n"
          ]
        },
        {
          "name": "stderr",
          "output_type": "stream",
          "text": [
            "Evaluating samples: 17it [01:13,  4.58s/it]"
          ]
        },
        {
          "name": "stdout",
          "output_type": "stream",
          "text": [
            "2025-09-15 10:19:24 - INFO - google_genai.models - AFC is enabled with max remote calls: 10.\n",
            "2025-09-15 10:19:25 - INFO - google_genai.models - AFC remote call 1 is done.\n"
          ]
        },
        {
          "name": "stderr",
          "output_type": "stream",
          "text": [
            "2025-09-15 10:19:25 - noveum_trace.transport.http_transport - INFO - 📤 EXPORTING TRACE: auto_trace_generate (ID: a91d3d5c-756a-4d7b-8694-76703b4f1d4e) - 1 spans\n",
            "2025-09-15 10:19:25 - noveum_trace.transport.batch_processor - INFO - 📥 ADDING TRACE TO QUEUE: auto_trace_generate (ID: a91d3d5c-756a-4d7b-8694-76703b4f1d4e) - 1 spans\n",
            "2025-09-15 10:19:25 - noveum_trace.transport.batch_processor - INFO - ✅ Successfully queued trace a91d3d5c-756a-4d7b-8694-76703b4f1d4e\n",
            "2025-09-15 10:19:25 - noveum_trace.transport.http_transport - INFO - ✅ Trace a91d3d5c-756a-4d7b-8694-76703b4f1d4e successfully queued for export\n"
          ]
        },
        {
          "name": "stdout",
          "output_type": "stream",
          "text": [
            "2025-09-15 10:19:25 - INFO - google_genai.models - AFC is enabled with max remote calls: 10.\n",
            "2025-09-15 10:19:26 - INFO - google_genai.models - AFC remote call 1 is done.\n"
          ]
        },
        {
          "name": "stderr",
          "output_type": "stream",
          "text": [
            "2025-09-15 10:19:26 - noveum_trace.transport.http_transport - INFO - 📤 EXPORTING TRACE: auto_trace_generate (ID: 58939b00-3b97-4e1f-9dfd-d044d6d7959d) - 1 spans\n",
            "2025-09-15 10:19:26 - noveum_trace.transport.batch_processor - INFO - 📥 ADDING TRACE TO QUEUE: auto_trace_generate (ID: 58939b00-3b97-4e1f-9dfd-d044d6d7959d) - 1 spans\n",
            "2025-09-15 10:19:26 - noveum_trace.transport.batch_processor - INFO - ✅ Successfully queued trace 58939b00-3b97-4e1f-9dfd-d044d6d7959d\n",
            "2025-09-15 10:19:26 - noveum_trace.transport.http_transport - INFO - ✅ Trace 58939b00-3b97-4e1f-9dfd-d044d6d7959d successfully queued for export\n"
          ]
        },
        {
          "name": "stdout",
          "output_type": "stream",
          "text": [
            "2025-09-15 10:19:26 - INFO - google_genai.models - AFC is enabled with max remote calls: 10.\n",
            "2025-09-15 10:19:27 - INFO - google_genai.models - AFC remote call 1 is done.\n"
          ]
        },
        {
          "name": "stderr",
          "output_type": "stream",
          "text": [
            "2025-09-15 10:19:27 - noveum_trace.transport.http_transport - INFO - 📤 EXPORTING TRACE: auto_trace_generate (ID: 831cb97e-4f52-486c-abd4-2f375029366b) - 1 spans\n",
            "2025-09-15 10:19:27 - noveum_trace.transport.batch_processor - INFO - 📥 ADDING TRACE TO QUEUE: auto_trace_generate (ID: 831cb97e-4f52-486c-abd4-2f375029366b) - 1 spans\n",
            "2025-09-15 10:19:27 - noveum_trace.transport.batch_processor - INFO - ✅ Successfully queued trace 831cb97e-4f52-486c-abd4-2f375029366b\n",
            "2025-09-15 10:19:27 - noveum_trace.transport.http_transport - INFO - ✅ Trace 831cb97e-4f52-486c-abd4-2f375029366b successfully queued for export\n"
          ]
        },
        {
          "name": "stdout",
          "output_type": "stream",
          "text": [
            "2025-09-15 10:19:27 - INFO - novaeval.evaluators.agent_evaluator - Saving intermediate results after 18 samples\n",
            "2025-09-15 10:19:27 - INFO - novaeval.evaluators.agent_evaluator - Intermediate results saved to demo_results/sample_evaluation/agent_evaluation_results.csv\n"
          ]
        },
        {
          "name": "stderr",
          "output_type": "stream",
          "text": [
            "Evaluating samples: 18it [01:17,  4.31s/it]"
          ]
        },
        {
          "name": "stdout",
          "output_type": "stream",
          "text": [
            "2025-09-15 10:19:27 - INFO - google_genai.models - AFC is enabled with max remote calls: 10.\n",
            "2025-09-15 10:19:28 - INFO - google_genai.models - AFC remote call 1 is done.\n"
          ]
        },
        {
          "name": "stderr",
          "output_type": "stream",
          "text": [
            "2025-09-15 10:19:28 - noveum_trace.transport.http_transport - INFO - 📤 EXPORTING TRACE: auto_trace_generate (ID: 494954af-dba0-4ead-a508-31dfe0cc104c) - 1 spans\n",
            "2025-09-15 10:19:28 - noveum_trace.transport.batch_processor - INFO - 📥 ADDING TRACE TO QUEUE: auto_trace_generate (ID: 494954af-dba0-4ead-a508-31dfe0cc104c) - 1 spans\n",
            "2025-09-15 10:19:28 - noveum_trace.transport.batch_processor - INFO - ✅ Successfully queued trace 494954af-dba0-4ead-a508-31dfe0cc104c\n",
            "2025-09-15 10:19:28 - noveum_trace.transport.http_transport - INFO - ✅ Trace 494954af-dba0-4ead-a508-31dfe0cc104c successfully queued for export\n"
          ]
        },
        {
          "name": "stdout",
          "output_type": "stream",
          "text": [
            "2025-09-15 10:19:28 - INFO - google_genai.models - AFC is enabled with max remote calls: 10.\n",
            "2025-09-15 10:19:30 - INFO - google_genai.models - AFC remote call 1 is done.\n"
          ]
        },
        {
          "name": "stderr",
          "output_type": "stream",
          "text": [
            "2025-09-15 10:19:30 - noveum_trace.transport.http_transport - INFO - 📤 EXPORTING TRACE: auto_trace_generate (ID: b0dbe6e2-a0af-4796-b7b9-407a9e614a48) - 1 spans\n",
            "2025-09-15 10:19:30 - noveum_trace.transport.batch_processor - INFO - 📥 ADDING TRACE TO QUEUE: auto_trace_generate (ID: b0dbe6e2-a0af-4796-b7b9-407a9e614a48) - 1 spans\n",
            "2025-09-15 10:19:30 - noveum_trace.transport.batch_processor - INFO - ✅ Successfully queued trace b0dbe6e2-a0af-4796-b7b9-407a9e614a48\n",
            "2025-09-15 10:19:30 - noveum_trace.transport.http_transport - INFO - ✅ Trace b0dbe6e2-a0af-4796-b7b9-407a9e614a48 successfully queued for export\n"
          ]
        },
        {
          "name": "stdout",
          "output_type": "stream",
          "text": [
            "2025-09-15 10:19:30 - INFO - google_genai.models - AFC is enabled with max remote calls: 10.\n",
            "2025-09-15 10:19:31 - INFO - google_genai.models - AFC remote call 1 is done.\n"
          ]
        },
        {
          "name": "stderr",
          "output_type": "stream",
          "text": [
            "2025-09-15 10:19:31 - noveum_trace.transport.http_transport - INFO - 📤 EXPORTING TRACE: auto_trace_generate (ID: ba64ed68-1feb-4a50-9742-1f97acf9e4fe) - 1 spans\n",
            "2025-09-15 10:19:31 - noveum_trace.transport.batch_processor - INFO - 📥 ADDING TRACE TO QUEUE: auto_trace_generate (ID: ba64ed68-1feb-4a50-9742-1f97acf9e4fe) - 1 spans\n",
            "2025-09-15 10:19:31 - noveum_trace.transport.batch_processor - INFO - ✅ Successfully queued trace ba64ed68-1feb-4a50-9742-1f97acf9e4fe\n",
            "2025-09-15 10:19:31 - noveum_trace.transport.http_transport - INFO - ✅ Trace ba64ed68-1feb-4a50-9742-1f97acf9e4fe successfully queued for export\n"
          ]
        },
        {
          "name": "stdout",
          "output_type": "stream",
          "text": [
            "2025-09-15 10:19:31 - INFO - novaeval.evaluators.agent_evaluator - Saving intermediate results after 19 samples\n",
            "2025-09-15 10:19:31 - INFO - novaeval.evaluators.agent_evaluator - Intermediate results saved to demo_results/sample_evaluation/agent_evaluation_results.csv\n"
          ]
        },
        {
          "name": "stderr",
          "output_type": "stream",
          "text": [
            "Evaluating samples: 19it [01:21,  4.09s/it]"
          ]
        },
        {
          "name": "stdout",
          "output_type": "stream",
          "text": [
            "2025-09-15 10:19:31 - INFO - google_genai.models - AFC is enabled with max remote calls: 10.\n",
            "2025-09-15 10:19:32 - INFO - google_genai.models - AFC remote call 1 is done.\n"
          ]
        },
        {
          "name": "stderr",
          "output_type": "stream",
          "text": [
            "2025-09-15 10:19:32 - noveum_trace.transport.http_transport - INFO - 📤 EXPORTING TRACE: auto_trace_generate (ID: 0a7da770-2033-4ca9-a7a9-c7d06ef21c2e) - 1 spans\n",
            "2025-09-15 10:19:32 - noveum_trace.transport.batch_processor - INFO - 📥 ADDING TRACE TO QUEUE: auto_trace_generate (ID: 0a7da770-2033-4ca9-a7a9-c7d06ef21c2e) - 1 spans\n",
            "2025-09-15 10:19:32 - noveum_trace.transport.batch_processor - INFO - ✅ Successfully queued trace 0a7da770-2033-4ca9-a7a9-c7d06ef21c2e\n",
            "2025-09-15 10:19:32 - noveum_trace.transport.http_transport - INFO - ✅ Trace 0a7da770-2033-4ca9-a7a9-c7d06ef21c2e successfully queued for export\n"
          ]
        },
        {
          "name": "stdout",
          "output_type": "stream",
          "text": [
            "2025-09-15 10:19:32 - INFO - google_genai.models - AFC is enabled with max remote calls: 10.\n",
            "2025-09-15 10:19:33 - INFO - google_genai.models - AFC remote call 1 is done.\n"
          ]
        },
        {
          "name": "stderr",
          "output_type": "stream",
          "text": [
            "2025-09-15 10:19:33 - noveum_trace.transport.http_transport - INFO - 📤 EXPORTING TRACE: auto_trace_generate (ID: 89649217-c7a2-443c-bf21-0c69c32454e6) - 1 spans\n",
            "2025-09-15 10:19:33 - noveum_trace.transport.batch_processor - INFO - 📥 ADDING TRACE TO QUEUE: auto_trace_generate (ID: 89649217-c7a2-443c-bf21-0c69c32454e6) - 1 spans\n",
            "2025-09-15 10:19:33 - noveum_trace.transport.batch_processor - INFO - ✅ Successfully queued trace 89649217-c7a2-443c-bf21-0c69c32454e6\n",
            "2025-09-15 10:19:33 - noveum_trace.transport.http_transport - INFO - ✅ Trace 89649217-c7a2-443c-bf21-0c69c32454e6 successfully queued for export\n"
          ]
        },
        {
          "name": "stdout",
          "output_type": "stream",
          "text": [
            "2025-09-15 10:19:33 - INFO - google_genai.models - AFC is enabled with max remote calls: 10.\n",
            "2025-09-15 10:19:34 - INFO - google_genai.models - AFC remote call 1 is done.\n"
          ]
        },
        {
          "name": "stderr",
          "output_type": "stream",
          "text": [
            "2025-09-15 10:19:34 - noveum_trace.transport.http_transport - INFO - 📤 EXPORTING TRACE: auto_trace_generate (ID: 7868e0f6-832e-4546-b17d-7926395b755a) - 1 spans\n",
            "2025-09-15 10:19:34 - noveum_trace.transport.batch_processor - INFO - 📥 ADDING TRACE TO QUEUE: auto_trace_generate (ID: 7868e0f6-832e-4546-b17d-7926395b755a) - 1 spans\n",
            "2025-09-15 10:19:34 - noveum_trace.transport.batch_processor - INFO - ✅ Successfully queued trace 7868e0f6-832e-4546-b17d-7926395b755a\n",
            "2025-09-15 10:19:34 - noveum_trace.transport.http_transport - INFO - ✅ Trace 7868e0f6-832e-4546-b17d-7926395b755a successfully queued for export\n"
          ]
        },
        {
          "name": "stdout",
          "output_type": "stream",
          "text": [
            "2025-09-15 10:19:34 - INFO - google_genai.models - AFC is enabled with max remote calls: 10.\n",
            "2025-09-15 10:19:36 - INFO - google_genai.models - AFC remote call 1 is done.\n"
          ]
        },
        {
          "name": "stderr",
          "output_type": "stream",
          "text": [
            "2025-09-15 10:19:36 - noveum_trace.transport.http_transport - INFO - 📤 EXPORTING TRACE: auto_trace_generate (ID: d4649a0d-2c11-469f-8cf2-adf0087fa11a) - 1 spans\n",
            "2025-09-15 10:19:36 - noveum_trace.transport.batch_processor - INFO - 📥 ADDING TRACE TO QUEUE: auto_trace_generate (ID: d4649a0d-2c11-469f-8cf2-adf0087fa11a) - 1 spans\n",
            "2025-09-15 10:19:36 - noveum_trace.transport.batch_processor - INFO - ✅ Successfully queued trace d4649a0d-2c11-469f-8cf2-adf0087fa11a\n",
            "2025-09-15 10:19:36 - noveum_trace.transport.http_transport - INFO - ✅ Trace d4649a0d-2c11-469f-8cf2-adf0087fa11a successfully queued for export\n"
          ]
        },
        {
          "name": "stdout",
          "output_type": "stream",
          "text": [
            "2025-09-15 10:19:36 - INFO - google_genai.models - AFC is enabled with max remote calls: 10.\n",
            "2025-09-15 10:19:37 - INFO - google_genai.models - AFC remote call 1 is done.\n"
          ]
        },
        {
          "name": "stderr",
          "output_type": "stream",
          "text": [
            "2025-09-15 10:19:37 - noveum_trace.transport.http_transport - INFO - 📤 EXPORTING TRACE: auto_trace_generate (ID: 9b01414d-722a-4c63-b646-35c3adc11583) - 1 spans\n",
            "2025-09-15 10:19:37 - noveum_trace.transport.batch_processor - INFO - 📥 ADDING TRACE TO QUEUE: auto_trace_generate (ID: 9b01414d-722a-4c63-b646-35c3adc11583) - 1 spans\n",
            "2025-09-15 10:19:37 - noveum_trace.transport.batch_processor - INFO - ✅ Successfully queued trace 9b01414d-722a-4c63-b646-35c3adc11583\n",
            "2025-09-15 10:19:37 - noveum_trace.transport.http_transport - INFO - ✅ Trace 9b01414d-722a-4c63-b646-35c3adc11583 successfully queued for export\n"
          ]
        },
        {
          "name": "stdout",
          "output_type": "stream",
          "text": [
            "2025-09-15 10:19:37 - INFO - novaeval.evaluators.agent_evaluator - Saving intermediate results after 20 samples\n",
            "2025-09-15 10:19:37 - INFO - novaeval.evaluators.agent_evaluator - Intermediate results saved to demo_results/sample_evaluation/agent_evaluation_results.csv\n"
          ]
        },
        {
          "name": "stderr",
          "output_type": "stream",
          "text": [
            "Evaluating samples: 20it [01:27,  4.62s/it]"
          ]
        },
        {
          "name": "stdout",
          "output_type": "stream",
          "text": [
            "2025-09-15 10:19:37 - INFO - google_genai.models - AFC is enabled with max remote calls: 10.\n",
            "2025-09-15 10:19:38 - INFO - google_genai.models - AFC remote call 1 is done.\n"
          ]
        },
        {
          "name": "stderr",
          "output_type": "stream",
          "text": [
            "2025-09-15 10:19:38 - noveum_trace.transport.http_transport - INFO - 📤 EXPORTING TRACE: auto_trace_generate (ID: 4f08b049-899e-4162-8285-5b82e18296e5) - 1 spans\n",
            "2025-09-15 10:19:38 - noveum_trace.transport.batch_processor - INFO - 📥 ADDING TRACE TO QUEUE: auto_trace_generate (ID: 4f08b049-899e-4162-8285-5b82e18296e5) - 1 spans\n",
            "2025-09-15 10:19:38 - noveum_trace.transport.batch_processor - INFO - ✅ Successfully queued trace 4f08b049-899e-4162-8285-5b82e18296e5\n",
            "2025-09-15 10:19:38 - noveum_trace.transport.http_transport - INFO - ✅ Trace 4f08b049-899e-4162-8285-5b82e18296e5 successfully queued for export\n"
          ]
        },
        {
          "name": "stdout",
          "output_type": "stream",
          "text": [
            "2025-09-15 10:19:38 - INFO - google_genai.models - AFC is enabled with max remote calls: 10.\n",
            "2025-09-15 10:19:39 - INFO - google_genai.models - AFC remote call 1 is done.\n"
          ]
        },
        {
          "name": "stderr",
          "output_type": "stream",
          "text": [
            "2025-09-15 10:19:39 - noveum_trace.transport.http_transport - INFO - 📤 EXPORTING TRACE: auto_trace_generate (ID: 2e23f543-7c92-443d-af10-3c0759ef5e9b) - 1 spans\n",
            "2025-09-15 10:19:39 - noveum_trace.transport.batch_processor - INFO - 📥 ADDING TRACE TO QUEUE: auto_trace_generate (ID: 2e23f543-7c92-443d-af10-3c0759ef5e9b) - 1 spans\n",
            "2025-09-15 10:19:39 - noveum_trace.transport.batch_processor - INFO - ✅ Successfully queued trace 2e23f543-7c92-443d-af10-3c0759ef5e9b\n",
            "2025-09-15 10:19:39 - noveum_trace.transport.http_transport - INFO - ✅ Trace 2e23f543-7c92-443d-af10-3c0759ef5e9b successfully queued for export\n"
          ]
        },
        {
          "name": "stdout",
          "output_type": "stream",
          "text": [
            "2025-09-15 10:19:39 - INFO - google_genai.models - AFC is enabled with max remote calls: 10.\n",
            "2025-09-15 10:19:40 - INFO - google_genai.models - AFC remote call 1 is done.\n"
          ]
        },
        {
          "name": "stderr",
          "output_type": "stream",
          "text": [
            "2025-09-15 10:19:40 - noveum_trace.transport.http_transport - INFO - 📤 EXPORTING TRACE: auto_trace_generate (ID: 3569fb3b-2c22-4f6c-8a33-531d0f19592d) - 1 spans\n",
            "2025-09-15 10:19:40 - noveum_trace.transport.batch_processor - INFO - 📥 ADDING TRACE TO QUEUE: auto_trace_generate (ID: 3569fb3b-2c22-4f6c-8a33-531d0f19592d) - 1 spans\n",
            "2025-09-15 10:19:40 - noveum_trace.transport.batch_processor - INFO - ✅ Successfully queued trace 3569fb3b-2c22-4f6c-8a33-531d0f19592d\n",
            "2025-09-15 10:19:40 - noveum_trace.transport.http_transport - INFO - ✅ Trace 3569fb3b-2c22-4f6c-8a33-531d0f19592d successfully queued for export\n"
          ]
        },
        {
          "name": "stdout",
          "output_type": "stream",
          "text": [
            "2025-09-15 10:19:40 - INFO - novaeval.evaluators.agent_evaluator - Saving intermediate results after 21 samples\n",
            "2025-09-15 10:19:40 - INFO - novaeval.evaluators.agent_evaluator - Intermediate results saved to demo_results/sample_evaluation/agent_evaluation_results.csv\n"
          ]
        },
        {
          "name": "stderr",
          "output_type": "stream",
          "text": [
            "Evaluating samples: 21it [01:30,  4.34s/it]"
          ]
        },
        {
          "name": "stdout",
          "output_type": "stream",
          "text": [
            "2025-09-15 10:19:40 - INFO - google_genai.models - AFC is enabled with max remote calls: 10.\n",
            "2025-09-15 10:19:41 - INFO - google_genai.models - AFC remote call 1 is done.\n"
          ]
        },
        {
          "name": "stderr",
          "output_type": "stream",
          "text": [
            "2025-09-15 10:19:41 - noveum_trace.transport.http_transport - INFO - 📤 EXPORTING TRACE: auto_trace_generate (ID: a58c3139-1ffd-4bdc-a05f-bad1e04b45b3) - 1 spans\n",
            "2025-09-15 10:19:41 - noveum_trace.transport.batch_processor - INFO - 📥 ADDING TRACE TO QUEUE: auto_trace_generate (ID: a58c3139-1ffd-4bdc-a05f-bad1e04b45b3) - 1 spans\n",
            "2025-09-15 10:19:41 - noveum_trace.transport.batch_processor - INFO - ✅ Successfully queued trace a58c3139-1ffd-4bdc-a05f-bad1e04b45b3\n",
            "2025-09-15 10:19:41 - noveum_trace.transport.http_transport - INFO - ✅ Trace a58c3139-1ffd-4bdc-a05f-bad1e04b45b3 successfully queued for export\n"
          ]
        },
        {
          "name": "stdout",
          "output_type": "stream",
          "text": [
            "2025-09-15 10:19:41 - INFO - google_genai.models - AFC is enabled with max remote calls: 10.\n",
            "2025-09-15 10:19:43 - INFO - google_genai.models - AFC remote call 1 is done.\n"
          ]
        },
        {
          "name": "stderr",
          "output_type": "stream",
          "text": [
            "2025-09-15 10:19:43 - noveum_trace.transport.http_transport - INFO - 📤 EXPORTING TRACE: auto_trace_generate (ID: b5cf9d0e-46a9-430d-ad39-940a29f826be) - 1 spans\n",
            "2025-09-15 10:19:43 - noveum_trace.transport.batch_processor - INFO - 📥 ADDING TRACE TO QUEUE: auto_trace_generate (ID: b5cf9d0e-46a9-430d-ad39-940a29f826be) - 1 spans\n",
            "2025-09-15 10:19:43 - noveum_trace.transport.batch_processor - INFO - ✅ Successfully queued trace b5cf9d0e-46a9-430d-ad39-940a29f826be\n",
            "2025-09-15 10:19:43 - noveum_trace.transport.http_transport - INFO - ✅ Trace b5cf9d0e-46a9-430d-ad39-940a29f826be successfully queued for export\n"
          ]
        },
        {
          "name": "stdout",
          "output_type": "stream",
          "text": [
            "2025-09-15 10:19:43 - INFO - google_genai.models - AFC is enabled with max remote calls: 10.\n",
            "2025-09-15 10:19:44 - INFO - google_genai.models - AFC remote call 1 is done.\n"
          ]
        },
        {
          "name": "stderr",
          "output_type": "stream",
          "text": [
            "2025-09-15 10:19:44 - noveum_trace.transport.http_transport - INFO - 📤 EXPORTING TRACE: auto_trace_generate (ID: 3b37db06-8832-406c-afbc-afa0f03230e6) - 1 spans\n",
            "2025-09-15 10:19:44 - noveum_trace.transport.batch_processor - INFO - 📥 ADDING TRACE TO QUEUE: auto_trace_generate (ID: 3b37db06-8832-406c-afbc-afa0f03230e6) - 1 spans\n",
            "2025-09-15 10:19:44 - noveum_trace.transport.batch_processor - INFO - ✅ Successfully queued trace 3b37db06-8832-406c-afbc-afa0f03230e6\n",
            "2025-09-15 10:19:44 - noveum_trace.transport.http_transport - INFO - ✅ Trace 3b37db06-8832-406c-afbc-afa0f03230e6 successfully queued for export\n"
          ]
        },
        {
          "name": "stdout",
          "output_type": "stream",
          "text": [
            "2025-09-15 10:19:44 - INFO - novaeval.evaluators.agent_evaluator - Saving intermediate results after 22 samples\n",
            "2025-09-15 10:19:44 - INFO - novaeval.evaluators.agent_evaluator - Intermediate results saved to demo_results/sample_evaluation/agent_evaluation_results.csv\n"
          ]
        },
        {
          "name": "stderr",
          "output_type": "stream",
          "text": [
            "Evaluating samples: 22it [01:34,  4.08s/it]"
          ]
        },
        {
          "name": "stdout",
          "output_type": "stream",
          "text": [
            "2025-09-15 10:19:44 - INFO - google_genai.models - AFC is enabled with max remote calls: 10.\n",
            "2025-09-15 10:19:45 - INFO - google_genai.models - AFC remote call 1 is done.\n"
          ]
        },
        {
          "name": "stderr",
          "output_type": "stream",
          "text": [
            "2025-09-15 10:19:45 - noveum_trace.transport.http_transport - INFO - 📤 EXPORTING TRACE: auto_trace_generate (ID: c759138c-4ea1-44f5-bc77-66a38b4983f6) - 1 spans\n",
            "2025-09-15 10:19:45 - noveum_trace.transport.batch_processor - INFO - 📥 ADDING TRACE TO QUEUE: auto_trace_generate (ID: c759138c-4ea1-44f5-bc77-66a38b4983f6) - 1 spans\n",
            "2025-09-15 10:19:45 - noveum_trace.transport.batch_processor - INFO - ✅ Successfully queued trace c759138c-4ea1-44f5-bc77-66a38b4983f6\n",
            "2025-09-15 10:19:45 - noveum_trace.transport.http_transport - INFO - ✅ Trace c759138c-4ea1-44f5-bc77-66a38b4983f6 successfully queued for export\n"
          ]
        },
        {
          "name": "stdout",
          "output_type": "stream",
          "text": [
            "2025-09-15 10:19:45 - INFO - google_genai.models - AFC is enabled with max remote calls: 10.\n",
            "2025-09-15 10:19:46 - INFO - google_genai.models - AFC remote call 1 is done.\n"
          ]
        },
        {
          "name": "stderr",
          "output_type": "stream",
          "text": [
            "2025-09-15 10:19:46 - noveum_trace.transport.http_transport - INFO - 📤 EXPORTING TRACE: auto_trace_generate (ID: 74dce67a-eec7-444a-a598-0dbe638e59e7) - 1 spans\n",
            "2025-09-15 10:19:46 - noveum_trace.transport.batch_processor - INFO - 📥 ADDING TRACE TO QUEUE: auto_trace_generate (ID: 74dce67a-eec7-444a-a598-0dbe638e59e7) - 1 spans\n",
            "2025-09-15 10:19:46 - noveum_trace.transport.batch_processor - INFO - ✅ Successfully queued trace 74dce67a-eec7-444a-a598-0dbe638e59e7\n",
            "2025-09-15 10:19:46 - noveum_trace.transport.http_transport - INFO - ✅ Trace 74dce67a-eec7-444a-a598-0dbe638e59e7 successfully queued for export\n"
          ]
        },
        {
          "name": "stdout",
          "output_type": "stream",
          "text": [
            "2025-09-15 10:19:46 - INFO - google_genai.models - AFC is enabled with max remote calls: 10.\n",
            "2025-09-15 10:19:48 - INFO - google_genai.models - AFC remote call 1 is done.\n"
          ]
        },
        {
          "name": "stderr",
          "output_type": "stream",
          "text": [
            "2025-09-15 10:19:48 - noveum_trace.transport.http_transport - INFO - 📤 EXPORTING TRACE: auto_trace_generate (ID: 50b88772-4724-4f6c-8438-418d902e250b) - 1 spans\n",
            "2025-09-15 10:19:48 - noveum_trace.transport.batch_processor - INFO - 📥 ADDING TRACE TO QUEUE: auto_trace_generate (ID: 50b88772-4724-4f6c-8438-418d902e250b) - 1 spans\n",
            "2025-09-15 10:19:48 - noveum_trace.transport.batch_processor - INFO - ✅ Successfully queued trace 50b88772-4724-4f6c-8438-418d902e250b\n",
            "2025-09-15 10:19:48 - noveum_trace.transport.http_transport - INFO - ✅ Trace 50b88772-4724-4f6c-8438-418d902e250b successfully queued for export\n"
          ]
        },
        {
          "name": "stdout",
          "output_type": "stream",
          "text": [
            "2025-09-15 10:19:48 - INFO - novaeval.evaluators.agent_evaluator - Saving intermediate results after 23 samples\n",
            "2025-09-15 10:19:48 - INFO - novaeval.evaluators.agent_evaluator - Intermediate results saved to demo_results/sample_evaluation/agent_evaluation_results.csv\n"
          ]
        },
        {
          "name": "stderr",
          "output_type": "stream",
          "text": [
            "Evaluating samples: 23it [01:37,  3.96s/it]"
          ]
        },
        {
          "name": "stdout",
          "output_type": "stream",
          "text": [
            "2025-09-15 10:19:48 - INFO - google_genai.models - AFC is enabled with max remote calls: 10.\n",
            "2025-09-15 10:19:49 - INFO - google_genai.models - AFC remote call 1 is done.\n"
          ]
        },
        {
          "name": "stderr",
          "output_type": "stream",
          "text": [
            "2025-09-15 10:19:49 - noveum_trace.transport.http_transport - INFO - 📤 EXPORTING TRACE: auto_trace_generate (ID: 06151fd5-7056-4c8e-8bd0-0eb75444b9c1) - 1 spans\n",
            "2025-09-15 10:19:49 - noveum_trace.transport.batch_processor - INFO - 📥 ADDING TRACE TO QUEUE: auto_trace_generate (ID: 06151fd5-7056-4c8e-8bd0-0eb75444b9c1) - 1 spans\n",
            "2025-09-15 10:19:49 - noveum_trace.transport.batch_processor - INFO - ✅ Successfully queued trace 06151fd5-7056-4c8e-8bd0-0eb75444b9c1\n",
            "2025-09-15 10:19:49 - noveum_trace.transport.http_transport - INFO - ✅ Trace 06151fd5-7056-4c8e-8bd0-0eb75444b9c1 successfully queued for export\n"
          ]
        },
        {
          "name": "stdout",
          "output_type": "stream",
          "text": [
            "2025-09-15 10:19:49 - INFO - google_genai.models - AFC is enabled with max remote calls: 10.\n",
            "2025-09-15 10:19:50 - INFO - google_genai.models - AFC remote call 1 is done.\n"
          ]
        },
        {
          "name": "stderr",
          "output_type": "stream",
          "text": [
            "2025-09-15 10:19:50 - noveum_trace.transport.http_transport - INFO - 📤 EXPORTING TRACE: auto_trace_generate (ID: 837a815b-247a-4ec0-b16c-929fc5331eee) - 1 spans\n",
            "2025-09-15 10:19:50 - noveum_trace.transport.batch_processor - INFO - 📥 ADDING TRACE TO QUEUE: auto_trace_generate (ID: 837a815b-247a-4ec0-b16c-929fc5331eee) - 1 spans\n",
            "2025-09-15 10:19:50 - noveum_trace.transport.batch_processor - INFO - ✅ Successfully queued trace 837a815b-247a-4ec0-b16c-929fc5331eee\n",
            "2025-09-15 10:19:50 - noveum_trace.transport.http_transport - INFO - ✅ Trace 837a815b-247a-4ec0-b16c-929fc5331eee successfully queued for export\n"
          ]
        },
        {
          "name": "stdout",
          "output_type": "stream",
          "text": [
            "2025-09-15 10:19:50 - INFO - google_genai.models - AFC is enabled with max remote calls: 10.\n",
            "2025-09-15 10:19:51 - INFO - google_genai.models - AFC remote call 1 is done.\n"
          ]
        },
        {
          "name": "stderr",
          "output_type": "stream",
          "text": [
            "2025-09-15 10:19:51 - noveum_trace.transport.http_transport - INFO - 📤 EXPORTING TRACE: auto_trace_generate (ID: 0a9b7885-9922-4c47-8132-98c321a61476) - 1 spans\n",
            "2025-09-15 10:19:51 - noveum_trace.transport.batch_processor - INFO - 📥 ADDING TRACE TO QUEUE: auto_trace_generate (ID: 0a9b7885-9922-4c47-8132-98c321a61476) - 1 spans\n",
            "2025-09-15 10:19:51 - noveum_trace.transport.batch_processor - INFO - ✅ Successfully queued trace 0a9b7885-9922-4c47-8132-98c321a61476\n",
            "2025-09-15 10:19:51 - noveum_trace.transport.http_transport - INFO - ✅ Trace 0a9b7885-9922-4c47-8132-98c321a61476 successfully queued for export\n"
          ]
        },
        {
          "name": "stdout",
          "output_type": "stream",
          "text": [
            "2025-09-15 10:19:51 - INFO - google_genai.models - AFC is enabled with max remote calls: 10.\n",
            "2025-09-15 10:19:52 - INFO - google_genai.models - AFC remote call 1 is done.\n"
          ]
        },
        {
          "name": "stderr",
          "output_type": "stream",
          "text": [
            "2025-09-15 10:19:52 - noveum_trace.transport.http_transport - INFO - 📤 EXPORTING TRACE: auto_trace_generate (ID: a55c855d-a58f-41b1-9bba-528193aeab44) - 1 spans\n",
            "2025-09-15 10:19:52 - noveum_trace.transport.batch_processor - INFO - 📥 ADDING TRACE TO QUEUE: auto_trace_generate (ID: a55c855d-a58f-41b1-9bba-528193aeab44) - 1 spans\n",
            "2025-09-15 10:19:52 - noveum_trace.transport.batch_processor - INFO - ✅ Successfully queued trace a55c855d-a58f-41b1-9bba-528193aeab44\n",
            "2025-09-15 10:19:52 - noveum_trace.transport.http_transport - INFO - ✅ Trace a55c855d-a58f-41b1-9bba-528193aeab44 successfully queued for export\n"
          ]
        },
        {
          "name": "stdout",
          "output_type": "stream",
          "text": [
            "2025-09-15 10:19:52 - INFO - google_genai.models - AFC is enabled with max remote calls: 10.\n",
            "2025-09-15 10:19:53 - INFO - google_genai.models - AFC remote call 1 is done.\n"
          ]
        },
        {
          "name": "stderr",
          "output_type": "stream",
          "text": [
            "2025-09-15 10:19:53 - noveum_trace.transport.http_transport - INFO - 📤 EXPORTING TRACE: auto_trace_generate (ID: 17ff7191-e5f2-44ea-a5e5-254b9e620525) - 1 spans\n",
            "2025-09-15 10:19:53 - noveum_trace.transport.batch_processor - INFO - 📥 ADDING TRACE TO QUEUE: auto_trace_generate (ID: 17ff7191-e5f2-44ea-a5e5-254b9e620525) - 1 spans\n",
            "2025-09-15 10:19:53 - noveum_trace.transport.batch_processor - INFO - ✅ Successfully queued trace 17ff7191-e5f2-44ea-a5e5-254b9e620525\n",
            "2025-09-15 10:19:53 - noveum_trace.transport.http_transport - INFO - ✅ Trace 17ff7191-e5f2-44ea-a5e5-254b9e620525 successfully queued for export\n"
          ]
        },
        {
          "name": "stdout",
          "output_type": "stream",
          "text": [
            "2025-09-15 10:19:53 - INFO - novaeval.evaluators.agent_evaluator - Saving intermediate results after 24 samples\n",
            "2025-09-15 10:19:53 - INFO - novaeval.evaluators.agent_evaluator - Intermediate results saved to demo_results/sample_evaluation/agent_evaluation_results.csv\n"
          ]
        },
        {
          "name": "stderr",
          "output_type": "stream",
          "text": [
            "Evaluating samples: 24it [01:43,  4.56s/it]"
          ]
        },
        {
          "name": "stdout",
          "output_type": "stream",
          "text": [
            "2025-09-15 10:19:53 - INFO - google_genai.models - AFC is enabled with max remote calls: 10.\n",
            "2025-09-15 10:19:55 - INFO - google_genai.models - AFC remote call 1 is done.\n"
          ]
        },
        {
          "name": "stderr",
          "output_type": "stream",
          "text": [
            "2025-09-15 10:19:55 - noveum_trace.transport.http_transport - INFO - 📤 EXPORTING TRACE: auto_trace_generate (ID: 12ee3ce6-e397-4a43-bffd-ca9f3e929e6e) - 1 spans\n",
            "2025-09-15 10:19:55 - noveum_trace.transport.batch_processor - INFO - 📥 ADDING TRACE TO QUEUE: auto_trace_generate (ID: 12ee3ce6-e397-4a43-bffd-ca9f3e929e6e) - 1 spans\n",
            "2025-09-15 10:19:55 - noveum_trace.transport.batch_processor - INFO - ✅ Successfully queued trace 12ee3ce6-e397-4a43-bffd-ca9f3e929e6e\n",
            "2025-09-15 10:19:55 - noveum_trace.transport.http_transport - INFO - ✅ Trace 12ee3ce6-e397-4a43-bffd-ca9f3e929e6e successfully queued for export\n"
          ]
        },
        {
          "name": "stdout",
          "output_type": "stream",
          "text": [
            "2025-09-15 10:19:55 - INFO - google_genai.models - AFC is enabled with max remote calls: 10.\n",
            "2025-09-15 10:19:56 - INFO - google_genai.models - AFC remote call 1 is done.\n"
          ]
        },
        {
          "name": "stderr",
          "output_type": "stream",
          "text": [
            "2025-09-15 10:19:56 - noveum_trace.transport.http_transport - INFO - 📤 EXPORTING TRACE: auto_trace_generate (ID: 00252859-9d5e-4924-a779-946b89377844) - 1 spans\n",
            "2025-09-15 10:19:56 - noveum_trace.transport.batch_processor - INFO - 📥 ADDING TRACE TO QUEUE: auto_trace_generate (ID: 00252859-9d5e-4924-a779-946b89377844) - 1 spans\n",
            "2025-09-15 10:19:56 - noveum_trace.transport.batch_processor - INFO - ✅ Successfully queued trace 00252859-9d5e-4924-a779-946b89377844\n",
            "2025-09-15 10:19:56 - noveum_trace.transport.http_transport - INFO - ✅ Trace 00252859-9d5e-4924-a779-946b89377844 successfully queued for export\n"
          ]
        },
        {
          "name": "stdout",
          "output_type": "stream",
          "text": [
            "2025-09-15 10:19:56 - INFO - google_genai.models - AFC is enabled with max remote calls: 10.\n",
            "2025-09-15 10:19:57 - INFO - google_genai.models - AFC remote call 1 is done.\n"
          ]
        },
        {
          "name": "stderr",
          "output_type": "stream",
          "text": [
            "2025-09-15 10:19:57 - noveum_trace.transport.http_transport - INFO - 📤 EXPORTING TRACE: auto_trace_generate (ID: 56a13982-df59-42cf-b422-73615cf8d8ac) - 1 spans\n",
            "2025-09-15 10:19:57 - noveum_trace.transport.batch_processor - INFO - 📥 ADDING TRACE TO QUEUE: auto_trace_generate (ID: 56a13982-df59-42cf-b422-73615cf8d8ac) - 1 spans\n",
            "2025-09-15 10:19:57 - noveum_trace.transport.batch_processor - INFO - ✅ Successfully queued trace 56a13982-df59-42cf-b422-73615cf8d8ac\n",
            "2025-09-15 10:19:57 - noveum_trace.transport.http_transport - INFO - ✅ Trace 56a13982-df59-42cf-b422-73615cf8d8ac successfully queued for export\n"
          ]
        },
        {
          "name": "stdout",
          "output_type": "stream",
          "text": [
            "2025-09-15 10:19:57 - INFO - novaeval.evaluators.agent_evaluator - Saving intermediate results after 25 samples\n",
            "2025-09-15 10:19:57 - INFO - novaeval.evaluators.agent_evaluator - Intermediate results saved to demo_results/sample_evaluation/agent_evaluation_results.csv\n"
          ]
        },
        {
          "name": "stderr",
          "output_type": "stream",
          "text": [
            "Evaluating samples: 25it [01:47,  4.33s/it]"
          ]
        },
        {
          "name": "stdout",
          "output_type": "stream",
          "text": [
            "2025-09-15 10:19:57 - INFO - google_genai.models - AFC is enabled with max remote calls: 10.\n",
            "2025-09-15 10:19:58 - INFO - google_genai.models - AFC remote call 1 is done.\n"
          ]
        },
        {
          "name": "stderr",
          "output_type": "stream",
          "text": [
            "2025-09-15 10:19:58 - noveum_trace.transport.http_transport - INFO - 📤 EXPORTING TRACE: auto_trace_generate (ID: 42124ce5-d675-41d6-a962-18ba0fe06f08) - 1 spans\n",
            "2025-09-15 10:19:58 - noveum_trace.transport.batch_processor - INFO - 📥 ADDING TRACE TO QUEUE: auto_trace_generate (ID: 42124ce5-d675-41d6-a962-18ba0fe06f08) - 1 spans\n",
            "2025-09-15 10:19:58 - noveum_trace.transport.batch_processor - INFO - ✅ Successfully queued trace 42124ce5-d675-41d6-a962-18ba0fe06f08\n",
            "2025-09-15 10:19:58 - noveum_trace.transport.http_transport - INFO - ✅ Trace 42124ce5-d675-41d6-a962-18ba0fe06f08 successfully queued for export\n"
          ]
        },
        {
          "name": "stdout",
          "output_type": "stream",
          "text": [
            "2025-09-15 10:19:58 - INFO - google_genai.models - AFC is enabled with max remote calls: 10.\n",
            "2025-09-15 10:20:00 - INFO - google_genai.models - AFC remote call 1 is done.\n"
          ]
        },
        {
          "name": "stderr",
          "output_type": "stream",
          "text": [
            "2025-09-15 10:20:00 - noveum_trace.transport.http_transport - INFO - 📤 EXPORTING TRACE: auto_trace_generate (ID: 38189099-6e25-48a3-a670-61b865ea11a1) - 1 spans\n",
            "2025-09-15 10:20:00 - noveum_trace.transport.batch_processor - INFO - 📥 ADDING TRACE TO QUEUE: auto_trace_generate (ID: 38189099-6e25-48a3-a670-61b865ea11a1) - 1 spans\n",
            "2025-09-15 10:20:00 - noveum_trace.transport.batch_processor - INFO - ✅ Successfully queued trace 38189099-6e25-48a3-a670-61b865ea11a1\n",
            "2025-09-15 10:20:00 - noveum_trace.transport.http_transport - INFO - ✅ Trace 38189099-6e25-48a3-a670-61b865ea11a1 successfully queued for export\n"
          ]
        },
        {
          "name": "stdout",
          "output_type": "stream",
          "text": [
            "2025-09-15 10:20:00 - INFO - google_genai.models - AFC is enabled with max remote calls: 10.\n",
            "2025-09-15 10:20:01 - INFO - google_genai.models - AFC remote call 1 is done.\n"
          ]
        },
        {
          "name": "stderr",
          "output_type": "stream",
          "text": [
            "2025-09-15 10:20:01 - noveum_trace.transport.http_transport - INFO - 📤 EXPORTING TRACE: auto_trace_generate (ID: 9a2a3366-55fa-4ff8-b3ae-9310e2525e2e) - 1 spans\n",
            "2025-09-15 10:20:01 - noveum_trace.transport.batch_processor - INFO - 📥 ADDING TRACE TO QUEUE: auto_trace_generate (ID: 9a2a3366-55fa-4ff8-b3ae-9310e2525e2e) - 1 spans\n",
            "2025-09-15 10:20:01 - noveum_trace.transport.batch_processor - INFO - ✅ Successfully queued trace 9a2a3366-55fa-4ff8-b3ae-9310e2525e2e\n",
            "2025-09-15 10:20:01 - noveum_trace.transport.http_transport - INFO - ✅ Trace 9a2a3366-55fa-4ff8-b3ae-9310e2525e2e successfully queued for export\n"
          ]
        },
        {
          "name": "stdout",
          "output_type": "stream",
          "text": [
            "2025-09-15 10:20:01 - INFO - novaeval.evaluators.agent_evaluator - Saving intermediate results after 26 samples\n",
            "2025-09-15 10:20:01 - INFO - novaeval.evaluators.agent_evaluator - Intermediate results saved to demo_results/sample_evaluation/agent_evaluation_results.csv\n"
          ]
        },
        {
          "name": "stderr",
          "output_type": "stream",
          "text": [
            "Evaluating samples: 26it [01:51,  4.26s/it]"
          ]
        },
        {
          "name": "stdout",
          "output_type": "stream",
          "text": [
            "2025-09-15 10:20:01 - INFO - google_genai.models - AFC is enabled with max remote calls: 10.\n",
            "2025-09-15 10:20:02 - INFO - google_genai.models - AFC remote call 1 is done.\n"
          ]
        },
        {
          "name": "stderr",
          "output_type": "stream",
          "text": [
            "2025-09-15 10:20:02 - noveum_trace.transport.http_transport - INFO - 📤 EXPORTING TRACE: auto_trace_generate (ID: 8eabb716-d0dc-42a0-ab02-c013a60fe9c1) - 1 spans\n",
            "2025-09-15 10:20:02 - noveum_trace.transport.batch_processor - INFO - 📥 ADDING TRACE TO QUEUE: auto_trace_generate (ID: 8eabb716-d0dc-42a0-ab02-c013a60fe9c1) - 1 spans\n",
            "2025-09-15 10:20:02 - noveum_trace.transport.batch_processor - INFO - ✅ Successfully queued trace 8eabb716-d0dc-42a0-ab02-c013a60fe9c1\n",
            "2025-09-15 10:20:02 - noveum_trace.transport.http_transport - INFO - ✅ Trace 8eabb716-d0dc-42a0-ab02-c013a60fe9c1 successfully queued for export\n"
          ]
        },
        {
          "name": "stdout",
          "output_type": "stream",
          "text": [
            "2025-09-15 10:20:02 - INFO - google_genai.models - AFC is enabled with max remote calls: 10.\n",
            "2025-09-15 10:20:04 - INFO - google_genai.models - AFC remote call 1 is done.\n"
          ]
        },
        {
          "name": "stderr",
          "output_type": "stream",
          "text": [
            "2025-09-15 10:20:04 - noveum_trace.transport.http_transport - INFO - 📤 EXPORTING TRACE: auto_trace_generate (ID: 59c4f809-fcdd-457c-9b66-2d72178a3452) - 1 spans\n",
            "2025-09-15 10:20:04 - noveum_trace.transport.batch_processor - INFO - 📥 ADDING TRACE TO QUEUE: auto_trace_generate (ID: 59c4f809-fcdd-457c-9b66-2d72178a3452) - 1 spans\n",
            "2025-09-15 10:20:04 - noveum_trace.transport.batch_processor - INFO - ✅ Successfully queued trace 59c4f809-fcdd-457c-9b66-2d72178a3452\n",
            "2025-09-15 10:20:04 - noveum_trace.transport.http_transport - INFO - ✅ Trace 59c4f809-fcdd-457c-9b66-2d72178a3452 successfully queued for export\n"
          ]
        },
        {
          "name": "stdout",
          "output_type": "stream",
          "text": [
            "2025-09-15 10:20:04 - INFO - google_genai.models - AFC is enabled with max remote calls: 10.\n",
            "2025-09-15 10:20:05 - INFO - google_genai.models - AFC remote call 1 is done.\n"
          ]
        },
        {
          "name": "stderr",
          "output_type": "stream",
          "text": [
            "2025-09-15 10:20:05 - noveum_trace.transport.http_transport - INFO - 📤 EXPORTING TRACE: auto_trace_generate (ID: 5e2de277-7ff3-456d-9725-b1a8724d10f1) - 1 spans\n",
            "2025-09-15 10:20:05 - noveum_trace.transport.batch_processor - INFO - 📥 ADDING TRACE TO QUEUE: auto_trace_generate (ID: 5e2de277-7ff3-456d-9725-b1a8724d10f1) - 1 spans\n",
            "2025-09-15 10:20:05 - noveum_trace.transport.batch_processor - INFO - ✅ Successfully queued trace 5e2de277-7ff3-456d-9725-b1a8724d10f1\n",
            "2025-09-15 10:20:05 - noveum_trace.transport.http_transport - INFO - ✅ Trace 5e2de277-7ff3-456d-9725-b1a8724d10f1 successfully queued for export\n"
          ]
        },
        {
          "name": "stdout",
          "output_type": "stream",
          "text": [
            "2025-09-15 10:20:05 - INFO - novaeval.evaluators.agent_evaluator - Saving intermediate results after 27 samples\n",
            "2025-09-15 10:20:05 - INFO - novaeval.evaluators.agent_evaluator - Intermediate results saved to demo_results/sample_evaluation/agent_evaluation_results.csv\n"
          ]
        },
        {
          "name": "stderr",
          "output_type": "stream",
          "text": [
            "Evaluating samples: 27it [01:55,  4.09s/it]"
          ]
        },
        {
          "name": "stdout",
          "output_type": "stream",
          "text": [
            "2025-09-15 10:20:05 - INFO - google_genai.models - AFC is enabled with max remote calls: 10.\n",
            "2025-09-15 10:20:06 - INFO - google_genai.models - AFC remote call 1 is done.\n"
          ]
        },
        {
          "name": "stderr",
          "output_type": "stream",
          "text": [
            "2025-09-15 10:20:06 - noveum_trace.transport.http_transport - INFO - 📤 EXPORTING TRACE: auto_trace_generate (ID: 753b1b17-5830-48d9-93b6-845df3ab97b7) - 1 spans\n",
            "2025-09-15 10:20:06 - noveum_trace.transport.batch_processor - INFO - 📥 ADDING TRACE TO QUEUE: auto_trace_generate (ID: 753b1b17-5830-48d9-93b6-845df3ab97b7) - 1 spans\n",
            "2025-09-15 10:20:06 - noveum_trace.transport.batch_processor - INFO - ✅ Successfully queued trace 753b1b17-5830-48d9-93b6-845df3ab97b7\n",
            "2025-09-15 10:20:06 - noveum_trace.transport.http_transport - INFO - ✅ Trace 753b1b17-5830-48d9-93b6-845df3ab97b7 successfully queued for export\n"
          ]
        },
        {
          "name": "stdout",
          "output_type": "stream",
          "text": [
            "2025-09-15 10:20:06 - INFO - google_genai.models - AFC is enabled with max remote calls: 10.\n",
            "2025-09-15 10:20:07 - INFO - google_genai.models - AFC remote call 1 is done.\n"
          ]
        },
        {
          "name": "stderr",
          "output_type": "stream",
          "text": [
            "2025-09-15 10:20:07 - noveum_trace.transport.http_transport - INFO - 📤 EXPORTING TRACE: auto_trace_generate (ID: 1c417b53-6712-4263-9e34-572f3a2964ab) - 1 spans\n",
            "2025-09-15 10:20:07 - noveum_trace.transport.batch_processor - INFO - 📥 ADDING TRACE TO QUEUE: auto_trace_generate (ID: 1c417b53-6712-4263-9e34-572f3a2964ab) - 1 spans\n",
            "2025-09-15 10:20:07 - noveum_trace.transport.batch_processor - INFO - ✅ Successfully queued trace 1c417b53-6712-4263-9e34-572f3a2964ab\n",
            "2025-09-15 10:20:07 - noveum_trace.transport.http_transport - INFO - ✅ Trace 1c417b53-6712-4263-9e34-572f3a2964ab successfully queued for export\n"
          ]
        },
        {
          "name": "stdout",
          "output_type": "stream",
          "text": [
            "2025-09-15 10:20:07 - INFO - google_genai.models - AFC is enabled with max remote calls: 10.\n",
            "2025-09-15 10:20:09 - INFO - google_genai.models - AFC remote call 1 is done.\n"
          ]
        },
        {
          "name": "stderr",
          "output_type": "stream",
          "text": [
            "2025-09-15 10:20:09 - noveum_trace.transport.http_transport - INFO - 📤 EXPORTING TRACE: auto_trace_generate (ID: df7e6de1-15b5-4bd1-bbed-57f223902e56) - 1 spans\n",
            "2025-09-15 10:20:09 - noveum_trace.transport.batch_processor - INFO - 📥 ADDING TRACE TO QUEUE: auto_trace_generate (ID: df7e6de1-15b5-4bd1-bbed-57f223902e56) - 1 spans\n",
            "2025-09-15 10:20:09 - noveum_trace.transport.batch_processor - INFO - ✅ Successfully queued trace df7e6de1-15b5-4bd1-bbed-57f223902e56\n",
            "2025-09-15 10:20:09 - noveum_trace.transport.http_transport - INFO - ✅ Trace df7e6de1-15b5-4bd1-bbed-57f223902e56 successfully queued for export\n"
          ]
        },
        {
          "name": "stdout",
          "output_type": "stream",
          "text": [
            "2025-09-15 10:20:09 - INFO - novaeval.evaluators.agent_evaluator - Saving intermediate results after 28 samples\n",
            "2025-09-15 10:20:09 - INFO - novaeval.evaluators.agent_evaluator - Intermediate results saved to demo_results/sample_evaluation/agent_evaluation_results.csv\n"
          ]
        },
        {
          "name": "stderr",
          "output_type": "stream",
          "text": [
            "Evaluating samples: 28it [01:59,  4.03s/it]"
          ]
        },
        {
          "name": "stdout",
          "output_type": "stream",
          "text": [
            "2025-09-15 10:20:09 - INFO - google_genai.models - AFC is enabled with max remote calls: 10.\n",
            "2025-09-15 10:20:10 - INFO - google_genai.models - AFC remote call 1 is done.\n"
          ]
        },
        {
          "name": "stderr",
          "output_type": "stream",
          "text": [
            "2025-09-15 10:20:10 - noveum_trace.transport.http_transport - INFO - 📤 EXPORTING TRACE: auto_trace_generate (ID: d53f886c-279f-473f-8fb6-618bf3855980) - 1 spans\n",
            "2025-09-15 10:20:10 - noveum_trace.transport.batch_processor - INFO - 📥 ADDING TRACE TO QUEUE: auto_trace_generate (ID: d53f886c-279f-473f-8fb6-618bf3855980) - 1 spans\n",
            "2025-09-15 10:20:10 - noveum_trace.transport.batch_processor - INFO - ✅ Successfully queued trace d53f886c-279f-473f-8fb6-618bf3855980\n",
            "2025-09-15 10:20:10 - noveum_trace.transport.http_transport - INFO - ✅ Trace d53f886c-279f-473f-8fb6-618bf3855980 successfully queued for export\n"
          ]
        },
        {
          "name": "stdout",
          "output_type": "stream",
          "text": [
            "2025-09-15 10:20:10 - INFO - google_genai.models - AFC is enabled with max remote calls: 10.\n",
            "2025-09-15 10:20:11 - INFO - google_genai.models - AFC remote call 1 is done.\n"
          ]
        },
        {
          "name": "stderr",
          "output_type": "stream",
          "text": [
            "2025-09-15 10:20:11 - noveum_trace.transport.http_transport - INFO - 📤 EXPORTING TRACE: auto_trace_generate (ID: acf64d71-5dfa-4fd6-873c-cec52955dd93) - 1 spans\n",
            "2025-09-15 10:20:11 - noveum_trace.transport.batch_processor - INFO - 📥 ADDING TRACE TO QUEUE: auto_trace_generate (ID: acf64d71-5dfa-4fd6-873c-cec52955dd93) - 1 spans\n",
            "2025-09-15 10:20:11 - noveum_trace.transport.batch_processor - INFO - ✅ Successfully queued trace acf64d71-5dfa-4fd6-873c-cec52955dd93\n",
            "2025-09-15 10:20:11 - noveum_trace.transport.http_transport - INFO - ✅ Trace acf64d71-5dfa-4fd6-873c-cec52955dd93 successfully queued for export\n"
          ]
        },
        {
          "name": "stdout",
          "output_type": "stream",
          "text": [
            "2025-09-15 10:20:11 - INFO - google_genai.models - AFC is enabled with max remote calls: 10.\n",
            "2025-09-15 10:20:13 - INFO - google_genai.models - AFC remote call 1 is done.\n"
          ]
        },
        {
          "name": "stderr",
          "output_type": "stream",
          "text": [
            "2025-09-15 10:20:13 - noveum_trace.transport.http_transport - INFO - 📤 EXPORTING TRACE: auto_trace_generate (ID: 54fd4067-a1e9-4631-800a-6b1752fb8798) - 1 spans\n",
            "2025-09-15 10:20:13 - noveum_trace.transport.batch_processor - INFO - 📥 ADDING TRACE TO QUEUE: auto_trace_generate (ID: 54fd4067-a1e9-4631-800a-6b1752fb8798) - 1 spans\n",
            "2025-09-15 10:20:13 - noveum_trace.transport.batch_processor - INFO - ✅ Successfully queued trace 54fd4067-a1e9-4631-800a-6b1752fb8798\n",
            "2025-09-15 10:20:13 - noveum_trace.transport.http_transport - INFO - ✅ Trace 54fd4067-a1e9-4631-800a-6b1752fb8798 successfully queued for export\n"
          ]
        },
        {
          "name": "stdout",
          "output_type": "stream",
          "text": [
            "2025-09-15 10:20:13 - INFO - novaeval.evaluators.agent_evaluator - Saving intermediate results after 29 samples\n",
            "2025-09-15 10:20:13 - INFO - novaeval.evaluators.agent_evaluator - Intermediate results saved to demo_results/sample_evaluation/agent_evaluation_results.csv\n"
          ]
        },
        {
          "name": "stderr",
          "output_type": "stream",
          "text": [
            "Evaluating samples: 29it [02:02,  3.93s/it]"
          ]
        },
        {
          "name": "stdout",
          "output_type": "stream",
          "text": [
            "2025-09-15 10:20:13 - INFO - google_genai.models - AFC is enabled with max remote calls: 10.\n",
            "2025-09-15 10:20:14 - INFO - google_genai.models - AFC remote call 1 is done.\n"
          ]
        },
        {
          "name": "stderr",
          "output_type": "stream",
          "text": [
            "2025-09-15 10:20:14 - noveum_trace.transport.http_transport - INFO - 📤 EXPORTING TRACE: auto_trace_generate (ID: fd43a0e6-0632-47d2-98a4-b480abc31c67) - 1 spans\n",
            "2025-09-15 10:20:14 - noveum_trace.transport.batch_processor - INFO - 📥 ADDING TRACE TO QUEUE: auto_trace_generate (ID: fd43a0e6-0632-47d2-98a4-b480abc31c67) - 1 spans\n",
            "2025-09-15 10:20:14 - noveum_trace.transport.batch_processor - INFO - ✅ Successfully queued trace fd43a0e6-0632-47d2-98a4-b480abc31c67\n",
            "2025-09-15 10:20:14 - noveum_trace.transport.http_transport - INFO - ✅ Trace fd43a0e6-0632-47d2-98a4-b480abc31c67 successfully queued for export\n"
          ]
        },
        {
          "name": "stdout",
          "output_type": "stream",
          "text": [
            "2025-09-15 10:20:14 - INFO - google_genai.models - AFC is enabled with max remote calls: 10.\n",
            "2025-09-15 10:20:15 - INFO - google_genai.models - AFC remote call 1 is done.\n"
          ]
        },
        {
          "name": "stderr",
          "output_type": "stream",
          "text": [
            "2025-09-15 10:20:15 - noveum_trace.transport.http_transport - INFO - 📤 EXPORTING TRACE: auto_trace_generate (ID: 6208a1a8-e7fa-44a7-baec-eb6316e96101) - 1 spans\n",
            "2025-09-15 10:20:15 - noveum_trace.transport.batch_processor - INFO - 📥 ADDING TRACE TO QUEUE: auto_trace_generate (ID: 6208a1a8-e7fa-44a7-baec-eb6316e96101) - 1 spans\n",
            "2025-09-15 10:20:15 - noveum_trace.transport.batch_processor - INFO - ✅ Successfully queued trace 6208a1a8-e7fa-44a7-baec-eb6316e96101\n",
            "2025-09-15 10:20:15 - noveum_trace.transport.http_transport - INFO - ✅ Trace 6208a1a8-e7fa-44a7-baec-eb6316e96101 successfully queued for export\n"
          ]
        },
        {
          "name": "stdout",
          "output_type": "stream",
          "text": [
            "2025-09-15 10:20:15 - INFO - google_genai.models - AFC is enabled with max remote calls: 10.\n",
            "2025-09-15 10:20:16 - INFO - google_genai.models - AFC remote call 1 is done.\n"
          ]
        },
        {
          "name": "stderr",
          "output_type": "stream",
          "text": [
            "2025-09-15 10:20:16 - noveum_trace.transport.http_transport - INFO - 📤 EXPORTING TRACE: auto_trace_generate (ID: acb41d6b-1e03-4bd7-a18e-978e7df27484) - 1 spans\n",
            "2025-09-15 10:20:16 - noveum_trace.transport.batch_processor - INFO - 📥 ADDING TRACE TO QUEUE: auto_trace_generate (ID: acb41d6b-1e03-4bd7-a18e-978e7df27484) - 1 spans\n",
            "2025-09-15 10:20:16 - noveum_trace.transport.batch_processor - INFO - ✅ Successfully queued trace acb41d6b-1e03-4bd7-a18e-978e7df27484\n",
            "2025-09-15 10:20:16 - noveum_trace.transport.http_transport - INFO - ✅ Trace acb41d6b-1e03-4bd7-a18e-978e7df27484 successfully queued for export\n"
          ]
        },
        {
          "name": "stdout",
          "output_type": "stream",
          "text": [
            "2025-09-15 10:20:16 - INFO - google_genai.models - AFC is enabled with max remote calls: 10.\n",
            "2025-09-15 10:20:17 - INFO - google_genai.models - AFC remote call 1 is done.\n"
          ]
        },
        {
          "name": "stderr",
          "output_type": "stream",
          "text": [
            "2025-09-15 10:20:17 - noveum_trace.transport.http_transport - INFO - 📤 EXPORTING TRACE: auto_trace_generate (ID: 3c773ea0-228c-4a1e-baf6-879f6560905c) - 1 spans\n",
            "2025-09-15 10:20:17 - noveum_trace.transport.batch_processor - INFO - 📥 ADDING TRACE TO QUEUE: auto_trace_generate (ID: 3c773ea0-228c-4a1e-baf6-879f6560905c) - 1 spans\n",
            "2025-09-15 10:20:17 - noveum_trace.transport.batch_processor - INFO - ✅ Successfully queued trace 3c773ea0-228c-4a1e-baf6-879f6560905c\n",
            "2025-09-15 10:20:17 - noveum_trace.transport.http_transport - INFO - ✅ Trace 3c773ea0-228c-4a1e-baf6-879f6560905c successfully queued for export\n"
          ]
        },
        {
          "name": "stdout",
          "output_type": "stream",
          "text": [
            "2025-09-15 10:20:17 - INFO - google_genai.models - AFC is enabled with max remote calls: 10.\n",
            "2025-09-15 10:20:18 - INFO - google_genai.models - AFC remote call 1 is done.\n"
          ]
        },
        {
          "name": "stderr",
          "output_type": "stream",
          "text": [
            "2025-09-15 10:20:18 - noveum_trace.transport.http_transport - INFO - 📤 EXPORTING TRACE: auto_trace_generate (ID: 05e0e6fb-36ec-41fb-be3b-444d16d73e27) - 1 spans\n",
            "2025-09-15 10:20:18 - noveum_trace.transport.batch_processor - INFO - 📥 ADDING TRACE TO QUEUE: auto_trace_generate (ID: 05e0e6fb-36ec-41fb-be3b-444d16d73e27) - 1 spans\n",
            "2025-09-15 10:20:18 - noveum_trace.transport.batch_processor - INFO - ✅ Successfully queued trace 05e0e6fb-36ec-41fb-be3b-444d16d73e27\n",
            "2025-09-15 10:20:18 - noveum_trace.transport.http_transport - INFO - ✅ Trace 05e0e6fb-36ec-41fb-be3b-444d16d73e27 successfully queued for export\n"
          ]
        },
        {
          "name": "stdout",
          "output_type": "stream",
          "text": [
            "2025-09-15 10:20:18 - INFO - novaeval.evaluators.agent_evaluator - Saving intermediate results after 30 samples\n",
            "2025-09-15 10:20:18 - INFO - novaeval.evaluators.agent_evaluator - Intermediate results saved to demo_results/sample_evaluation/agent_evaluation_results.csv\n"
          ]
        },
        {
          "name": "stderr",
          "output_type": "stream",
          "text": [
            "Evaluating samples: 30it [02:08,  4.44s/it]"
          ]
        },
        {
          "name": "stdout",
          "output_type": "stream",
          "text": [
            "2025-09-15 10:20:18 - INFO - google_genai.models - AFC is enabled with max remote calls: 10.\n",
            "2025-09-15 10:20:19 - INFO - google_genai.models - AFC remote call 1 is done.\n"
          ]
        },
        {
          "name": "stderr",
          "output_type": "stream",
          "text": [
            "2025-09-15 10:20:19 - noveum_trace.transport.http_transport - INFO - 📤 EXPORTING TRACE: auto_trace_generate (ID: 79727ce9-b024-45af-bf3e-a083f1fe818e) - 1 spans\n",
            "2025-09-15 10:20:19 - noveum_trace.transport.batch_processor - INFO - 📥 ADDING TRACE TO QUEUE: auto_trace_generate (ID: 79727ce9-b024-45af-bf3e-a083f1fe818e) - 1 spans\n",
            "2025-09-15 10:20:19 - noveum_trace.transport.batch_processor - INFO - ✅ Successfully queued trace 79727ce9-b024-45af-bf3e-a083f1fe818e\n",
            "2025-09-15 10:20:19 - noveum_trace.transport.http_transport - INFO - ✅ Trace 79727ce9-b024-45af-bf3e-a083f1fe818e successfully queued for export\n"
          ]
        },
        {
          "name": "stdout",
          "output_type": "stream",
          "text": [
            "2025-09-15 10:20:19 - INFO - google_genai.models - AFC is enabled with max remote calls: 10.\n",
            "2025-09-15 10:20:21 - INFO - google_genai.models - AFC remote call 1 is done.\n"
          ]
        },
        {
          "name": "stderr",
          "output_type": "stream",
          "text": [
            "2025-09-15 10:20:21 - noveum_trace.transport.http_transport - INFO - 📤 EXPORTING TRACE: auto_trace_generate (ID: 008786d1-f8ba-4f51-8a7c-64286de9a056) - 1 spans\n",
            "2025-09-15 10:20:21 - noveum_trace.transport.batch_processor - INFO - 📥 ADDING TRACE TO QUEUE: auto_trace_generate (ID: 008786d1-f8ba-4f51-8a7c-64286de9a056) - 1 spans\n",
            "2025-09-15 10:20:21 - noveum_trace.transport.batch_processor - INFO - ✅ Successfully queued trace 008786d1-f8ba-4f51-8a7c-64286de9a056\n",
            "2025-09-15 10:20:21 - noveum_trace.transport.http_transport - INFO - ✅ Trace 008786d1-f8ba-4f51-8a7c-64286de9a056 successfully queued for export\n"
          ]
        },
        {
          "name": "stdout",
          "output_type": "stream",
          "text": [
            "2025-09-15 10:20:21 - INFO - google_genai.models - AFC is enabled with max remote calls: 10.\n",
            "2025-09-15 10:20:22 - INFO - google_genai.models - AFC remote call 1 is done.\n"
          ]
        },
        {
          "name": "stderr",
          "output_type": "stream",
          "text": [
            "2025-09-15 10:20:22 - noveum_trace.transport.http_transport - INFO - 📤 EXPORTING TRACE: auto_trace_generate (ID: b592a20b-0e93-4f68-877f-11c4891e9a05) - 1 spans\n",
            "2025-09-15 10:20:22 - noveum_trace.transport.batch_processor - INFO - 📥 ADDING TRACE TO QUEUE: auto_trace_generate (ID: b592a20b-0e93-4f68-877f-11c4891e9a05) - 1 spans\n",
            "2025-09-15 10:20:22 - noveum_trace.transport.batch_processor - INFO - ✅ Successfully queued trace b592a20b-0e93-4f68-877f-11c4891e9a05\n",
            "2025-09-15 10:20:22 - noveum_trace.transport.http_transport - INFO - ✅ Trace b592a20b-0e93-4f68-877f-11c4891e9a05 successfully queued for export\n"
          ]
        },
        {
          "name": "stdout",
          "output_type": "stream",
          "text": [
            "2025-09-15 10:20:22 - INFO - novaeval.evaluators.agent_evaluator - Saving intermediate results after 31 samples\n",
            "2025-09-15 10:20:22 - INFO - novaeval.evaluators.agent_evaluator - Intermediate results saved to demo_results/sample_evaluation/agent_evaluation_results.csv\n"
          ]
        },
        {
          "name": "stderr",
          "output_type": "stream",
          "text": [
            "Evaluating samples: 31it [02:12,  4.24s/it]"
          ]
        },
        {
          "name": "stdout",
          "output_type": "stream",
          "text": [
            "2025-09-15 10:20:22 - INFO - google_genai.models - AFC is enabled with max remote calls: 10.\n",
            "2025-09-15 10:20:23 - INFO - google_genai.models - AFC remote call 1 is done.\n"
          ]
        },
        {
          "name": "stderr",
          "output_type": "stream",
          "text": [
            "2025-09-15 10:20:23 - noveum_trace.transport.http_transport - INFO - 📤 EXPORTING TRACE: auto_trace_generate (ID: a1f3fd52-92f9-44e9-a2b7-b8a45010f8db) - 1 spans\n",
            "2025-09-15 10:20:23 - noveum_trace.transport.batch_processor - INFO - 📥 ADDING TRACE TO QUEUE: auto_trace_generate (ID: a1f3fd52-92f9-44e9-a2b7-b8a45010f8db) - 1 spans\n",
            "2025-09-15 10:20:23 - noveum_trace.transport.batch_processor - INFO - ✅ Successfully queued trace a1f3fd52-92f9-44e9-a2b7-b8a45010f8db\n",
            "2025-09-15 10:20:23 - noveum_trace.transport.http_transport - INFO - ✅ Trace a1f3fd52-92f9-44e9-a2b7-b8a45010f8db successfully queued for export\n"
          ]
        },
        {
          "name": "stdout",
          "output_type": "stream",
          "text": [
            "2025-09-15 10:20:23 - INFO - google_genai.models - AFC is enabled with max remote calls: 10.\n",
            "2025-09-15 10:20:24 - INFO - google_genai.models - AFC remote call 1 is done.\n"
          ]
        },
        {
          "name": "stderr",
          "output_type": "stream",
          "text": [
            "2025-09-15 10:20:24 - noveum_trace.transport.http_transport - INFO - 📤 EXPORTING TRACE: auto_trace_generate (ID: 84cd7992-faea-458c-8503-15a9ebf057fa) - 1 spans\n",
            "2025-09-15 10:20:24 - noveum_trace.transport.batch_processor - INFO - 📥 ADDING TRACE TO QUEUE: auto_trace_generate (ID: 84cd7992-faea-458c-8503-15a9ebf057fa) - 1 spans\n",
            "2025-09-15 10:20:24 - noveum_trace.transport.batch_processor - INFO - ✅ Successfully queued trace 84cd7992-faea-458c-8503-15a9ebf057fa\n",
            "2025-09-15 10:20:24 - noveum_trace.transport.http_transport - INFO - ✅ Trace 84cd7992-faea-458c-8503-15a9ebf057fa successfully queued for export\n"
          ]
        },
        {
          "name": "stdout",
          "output_type": "stream",
          "text": [
            "2025-09-15 10:20:24 - INFO - google_genai.models - AFC is enabled with max remote calls: 10.\n",
            "2025-09-15 10:20:26 - INFO - google_genai.models - AFC remote call 1 is done.\n"
          ]
        },
        {
          "name": "stderr",
          "output_type": "stream",
          "text": [
            "2025-09-15 10:20:26 - noveum_trace.transport.http_transport - INFO - 📤 EXPORTING TRACE: auto_trace_generate (ID: 795bd3d3-3a51-47b0-8bca-d2540896d482) - 1 spans\n",
            "2025-09-15 10:20:26 - noveum_trace.transport.batch_processor - INFO - 📥 ADDING TRACE TO QUEUE: auto_trace_generate (ID: 795bd3d3-3a51-47b0-8bca-d2540896d482) - 1 spans\n",
            "2025-09-15 10:20:26 - noveum_trace.transport.batch_processor - INFO - ✅ Successfully queued trace 795bd3d3-3a51-47b0-8bca-d2540896d482\n",
            "2025-09-15 10:20:26 - noveum_trace.transport.http_transport - INFO - ✅ Trace 795bd3d3-3a51-47b0-8bca-d2540896d482 successfully queued for export\n"
          ]
        },
        {
          "name": "stdout",
          "output_type": "stream",
          "text": [
            "2025-09-15 10:20:26 - INFO - novaeval.evaluators.agent_evaluator - Saving intermediate results after 32 samples\n",
            "2025-09-15 10:20:26 - INFO - novaeval.evaluators.agent_evaluator - Intermediate results saved to demo_results/sample_evaluation/agent_evaluation_results.csv\n"
          ]
        },
        {
          "name": "stderr",
          "output_type": "stream",
          "text": [
            "Evaluating samples: 32it [02:15,  4.05s/it]"
          ]
        },
        {
          "name": "stdout",
          "output_type": "stream",
          "text": [
            "2025-09-15 10:20:26 - INFO - google_genai.models - AFC is enabled with max remote calls: 10.\n",
            "2025-09-15 10:20:27 - INFO - google_genai.models - AFC remote call 1 is done.\n"
          ]
        },
        {
          "name": "stderr",
          "output_type": "stream",
          "text": [
            "2025-09-15 10:20:27 - noveum_trace.transport.http_transport - INFO - 📤 EXPORTING TRACE: auto_trace_generate (ID: 1c32b199-300a-45ad-99a7-39afa1d4eae2) - 1 spans\n",
            "2025-09-15 10:20:27 - noveum_trace.transport.batch_processor - INFO - 📥 ADDING TRACE TO QUEUE: auto_trace_generate (ID: 1c32b199-300a-45ad-99a7-39afa1d4eae2) - 1 spans\n",
            "2025-09-15 10:20:27 - noveum_trace.transport.batch_processor - INFO - ✅ Successfully queued trace 1c32b199-300a-45ad-99a7-39afa1d4eae2\n",
            "2025-09-15 10:20:27 - noveum_trace.transport.http_transport - INFO - ✅ Trace 1c32b199-300a-45ad-99a7-39afa1d4eae2 successfully queued for export\n"
          ]
        },
        {
          "name": "stdout",
          "output_type": "stream",
          "text": [
            "2025-09-15 10:20:27 - INFO - google_genai.models - AFC is enabled with max remote calls: 10.\n",
            "2025-09-15 10:20:28 - INFO - google_genai.models - AFC remote call 1 is done.\n"
          ]
        },
        {
          "name": "stderr",
          "output_type": "stream",
          "text": [
            "2025-09-15 10:20:28 - noveum_trace.transport.http_transport - INFO - 📤 EXPORTING TRACE: auto_trace_generate (ID: 05da4877-6f3c-4caf-b45a-7abbd6073f83) - 1 spans\n",
            "2025-09-15 10:20:28 - noveum_trace.transport.batch_processor - INFO - 📥 ADDING TRACE TO QUEUE: auto_trace_generate (ID: 05da4877-6f3c-4caf-b45a-7abbd6073f83) - 1 spans\n",
            "2025-09-15 10:20:28 - noveum_trace.transport.batch_processor - INFO - ✅ Successfully queued trace 05da4877-6f3c-4caf-b45a-7abbd6073f83\n",
            "2025-09-15 10:20:28 - noveum_trace.transport.http_transport - INFO - ✅ Trace 05da4877-6f3c-4caf-b45a-7abbd6073f83 successfully queued for export\n"
          ]
        },
        {
          "name": "stdout",
          "output_type": "stream",
          "text": [
            "2025-09-15 10:20:28 - INFO - google_genai.models - AFC is enabled with max remote calls: 10.\n",
            "2025-09-15 10:20:29 - INFO - google_genai.models - AFC remote call 1 is done.\n"
          ]
        },
        {
          "name": "stderr",
          "output_type": "stream",
          "text": [
            "2025-09-15 10:20:29 - noveum_trace.transport.http_transport - INFO - 📤 EXPORTING TRACE: auto_trace_generate (ID: 346bd702-5f1f-4aa0-bf67-93fe1d4a3f3c) - 1 spans\n",
            "2025-09-15 10:20:29 - noveum_trace.transport.batch_processor - INFO - 📥 ADDING TRACE TO QUEUE: auto_trace_generate (ID: 346bd702-5f1f-4aa0-bf67-93fe1d4a3f3c) - 1 spans\n",
            "2025-09-15 10:20:29 - noveum_trace.transport.batch_processor - INFO - ✅ Successfully queued trace 346bd702-5f1f-4aa0-bf67-93fe1d4a3f3c\n",
            "2025-09-15 10:20:29 - noveum_trace.transport.http_transport - INFO - ✅ Trace 346bd702-5f1f-4aa0-bf67-93fe1d4a3f3c successfully queued for export\n"
          ]
        },
        {
          "name": "stdout",
          "output_type": "stream",
          "text": [
            "2025-09-15 10:20:29 - INFO - novaeval.evaluators.agent_evaluator - Saving intermediate results after 33 samples\n",
            "2025-09-15 10:20:29 - INFO - novaeval.evaluators.agent_evaluator - Intermediate results saved to demo_results/sample_evaluation/agent_evaluation_results.csv\n"
          ]
        },
        {
          "name": "stderr",
          "output_type": "stream",
          "text": [
            "Evaluating samples: 33it [02:19,  3.88s/it]"
          ]
        },
        {
          "name": "stdout",
          "output_type": "stream",
          "text": [
            "2025-09-15 10:20:29 - INFO - google_genai.models - AFC is enabled with max remote calls: 10.\n",
            "2025-09-15 10:20:30 - INFO - google_genai.models - AFC remote call 1 is done.\n"
          ]
        },
        {
          "name": "stderr",
          "output_type": "stream",
          "text": [
            "2025-09-15 10:20:30 - noveum_trace.transport.http_transport - INFO - 📤 EXPORTING TRACE: auto_trace_generate (ID: ad92642a-a738-45e8-99f6-8da1898127e3) - 1 spans\n",
            "2025-09-15 10:20:30 - noveum_trace.transport.batch_processor - INFO - 📥 ADDING TRACE TO QUEUE: auto_trace_generate (ID: ad92642a-a738-45e8-99f6-8da1898127e3) - 1 spans\n",
            "2025-09-15 10:20:30 - noveum_trace.transport.batch_processor - INFO - ✅ Successfully queued trace ad92642a-a738-45e8-99f6-8da1898127e3\n",
            "2025-09-15 10:20:30 - noveum_trace.transport.http_transport - INFO - ✅ Trace ad92642a-a738-45e8-99f6-8da1898127e3 successfully queued for export\n"
          ]
        },
        {
          "name": "stdout",
          "output_type": "stream",
          "text": [
            "2025-09-15 10:20:30 - INFO - google_genai.models - AFC is enabled with max remote calls: 10.\n",
            "2025-09-15 10:20:32 - INFO - google_genai.models - AFC remote call 1 is done.\n"
          ]
        },
        {
          "name": "stderr",
          "output_type": "stream",
          "text": [
            "2025-09-15 10:20:32 - noveum_trace.transport.http_transport - INFO - 📤 EXPORTING TRACE: auto_trace_generate (ID: 30e6364b-f30f-46b0-b7a3-f51b42ee6f57) - 1 spans\n",
            "2025-09-15 10:20:32 - noveum_trace.transport.batch_processor - INFO - 📥 ADDING TRACE TO QUEUE: auto_trace_generate (ID: 30e6364b-f30f-46b0-b7a3-f51b42ee6f57) - 1 spans\n",
            "2025-09-15 10:20:32 - noveum_trace.transport.batch_processor - INFO - ✅ Successfully queued trace 30e6364b-f30f-46b0-b7a3-f51b42ee6f57\n",
            "2025-09-15 10:20:32 - noveum_trace.transport.http_transport - INFO - ✅ Trace 30e6364b-f30f-46b0-b7a3-f51b42ee6f57 successfully queued for export\n"
          ]
        },
        {
          "name": "stdout",
          "output_type": "stream",
          "text": [
            "2025-09-15 10:20:32 - INFO - google_genai.models - AFC is enabled with max remote calls: 10.\n",
            "2025-09-15 10:20:33 - INFO - google_genai.models - AFC remote call 1 is done.\n"
          ]
        },
        {
          "name": "stderr",
          "output_type": "stream",
          "text": [
            "2025-09-15 10:20:33 - noveum_trace.transport.http_transport - INFO - 📤 EXPORTING TRACE: auto_trace_generate (ID: 702c9afb-36e8-4d5f-abc4-1b7f0235b52d) - 1 spans\n",
            "2025-09-15 10:20:33 - noveum_trace.transport.batch_processor - INFO - 📥 ADDING TRACE TO QUEUE: auto_trace_generate (ID: 702c9afb-36e8-4d5f-abc4-1b7f0235b52d) - 1 spans\n",
            "2025-09-15 10:20:33 - noveum_trace.transport.batch_processor - INFO - ✅ Successfully queued trace 702c9afb-36e8-4d5f-abc4-1b7f0235b52d\n",
            "2025-09-15 10:20:33 - noveum_trace.transport.http_transport - INFO - ✅ Trace 702c9afb-36e8-4d5f-abc4-1b7f0235b52d successfully queued for export\n"
          ]
        },
        {
          "name": "stdout",
          "output_type": "stream",
          "text": [
            "2025-09-15 10:20:33 - INFO - novaeval.evaluators.agent_evaluator - Saving intermediate results after 34 samples\n",
            "2025-09-15 10:20:33 - INFO - novaeval.evaluators.agent_evaluator - Intermediate results saved to demo_results/sample_evaluation/agent_evaluation_results.csv\n"
          ]
        },
        {
          "name": "stderr",
          "output_type": "stream",
          "text": [
            "Evaluating samples: 34it [02:23,  3.85s/it]"
          ]
        },
        {
          "name": "stdout",
          "output_type": "stream",
          "text": [
            "2025-09-15 10:20:33 - INFO - google_genai.models - AFC is enabled with max remote calls: 10.\n",
            "2025-09-15 10:20:34 - INFO - google_genai.models - AFC remote call 1 is done.\n"
          ]
        },
        {
          "name": "stderr",
          "output_type": "stream",
          "text": [
            "2025-09-15 10:20:34 - noveum_trace.transport.http_transport - INFO - 📤 EXPORTING TRACE: auto_trace_generate (ID: aace916e-09bf-4eed-9e71-fb20baeb120d) - 1 spans\n",
            "2025-09-15 10:20:34 - noveum_trace.transport.batch_processor - INFO - 📥 ADDING TRACE TO QUEUE: auto_trace_generate (ID: aace916e-09bf-4eed-9e71-fb20baeb120d) - 1 spans\n",
            "2025-09-15 10:20:34 - noveum_trace.transport.batch_processor - INFO - ✅ Successfully queued trace aace916e-09bf-4eed-9e71-fb20baeb120d\n",
            "2025-09-15 10:20:34 - noveum_trace.transport.http_transport - INFO - ✅ Trace aace916e-09bf-4eed-9e71-fb20baeb120d successfully queued for export\n"
          ]
        },
        {
          "name": "stdout",
          "output_type": "stream",
          "text": [
            "2025-09-15 10:20:34 - INFO - google_genai.models - AFC is enabled with max remote calls: 10.\n",
            "2025-09-15 10:20:35 - INFO - google_genai.models - AFC remote call 1 is done.\n"
          ]
        },
        {
          "name": "stderr",
          "output_type": "stream",
          "text": [
            "2025-09-15 10:20:35 - noveum_trace.transport.http_transport - INFO - 📤 EXPORTING TRACE: auto_trace_generate (ID: 5721256a-e7f0-4025-b7a8-20072fb7fe54) - 1 spans\n",
            "2025-09-15 10:20:35 - noveum_trace.transport.batch_processor - INFO - 📥 ADDING TRACE TO QUEUE: auto_trace_generate (ID: 5721256a-e7f0-4025-b7a8-20072fb7fe54) - 1 spans\n",
            "2025-09-15 10:20:35 - noveum_trace.transport.batch_processor - INFO - ✅ Successfully queued trace 5721256a-e7f0-4025-b7a8-20072fb7fe54\n",
            "2025-09-15 10:20:35 - noveum_trace.transport.http_transport - INFO - ✅ Trace 5721256a-e7f0-4025-b7a8-20072fb7fe54 successfully queued for export\n"
          ]
        },
        {
          "name": "stdout",
          "output_type": "stream",
          "text": [
            "2025-09-15 10:20:35 - INFO - google_genai.models - AFC is enabled with max remote calls: 10.\n",
            "2025-09-15 10:20:36 - INFO - google_genai.models - AFC remote call 1 is done.\n"
          ]
        },
        {
          "name": "stderr",
          "output_type": "stream",
          "text": [
            "2025-09-15 10:20:36 - noveum_trace.transport.http_transport - INFO - 📤 EXPORTING TRACE: auto_trace_generate (ID: 5f2d36ad-2c3d-4507-a005-0adce7213427) - 1 spans\n",
            "2025-09-15 10:20:36 - noveum_trace.transport.batch_processor - INFO - 📥 ADDING TRACE TO QUEUE: auto_trace_generate (ID: 5f2d36ad-2c3d-4507-a005-0adce7213427) - 1 spans\n",
            "2025-09-15 10:20:36 - noveum_trace.transport.batch_processor - INFO - ✅ Successfully queued trace 5f2d36ad-2c3d-4507-a005-0adce7213427\n",
            "2025-09-15 10:20:36 - noveum_trace.transport.http_transport - INFO - ✅ Trace 5f2d36ad-2c3d-4507-a005-0adce7213427 successfully queued for export\n"
          ]
        },
        {
          "name": "stdout",
          "output_type": "stream",
          "text": [
            "2025-09-15 10:20:36 - INFO - google_genai.models - AFC is enabled with max remote calls: 10.\n",
            "2025-09-15 10:20:37 - INFO - google_genai.models - AFC remote call 1 is done.\n"
          ]
        },
        {
          "name": "stderr",
          "output_type": "stream",
          "text": [
            "2025-09-15 10:20:37 - noveum_trace.transport.http_transport - INFO - 📤 EXPORTING TRACE: auto_trace_generate (ID: d7dd45f4-ab91-441a-9448-a7b71455dd3c) - 1 spans\n",
            "2025-09-15 10:20:37 - noveum_trace.transport.batch_processor - INFO - 📥 ADDING TRACE TO QUEUE: auto_trace_generate (ID: d7dd45f4-ab91-441a-9448-a7b71455dd3c) - 1 spans\n",
            "2025-09-15 10:20:37 - noveum_trace.transport.batch_processor - INFO - ✅ Successfully queued trace d7dd45f4-ab91-441a-9448-a7b71455dd3c\n",
            "2025-09-15 10:20:37 - noveum_trace.transport.http_transport - INFO - ✅ Trace d7dd45f4-ab91-441a-9448-a7b71455dd3c successfully queued for export\n"
          ]
        },
        {
          "name": "stdout",
          "output_type": "stream",
          "text": [
            "2025-09-15 10:20:37 - INFO - google_genai.models - AFC is enabled with max remote calls: 10.\n",
            "2025-09-15 10:20:38 - INFO - google_genai.models - AFC remote call 1 is done.\n"
          ]
        },
        {
          "name": "stderr",
          "output_type": "stream",
          "text": [
            "2025-09-15 10:20:38 - noveum_trace.transport.http_transport - INFO - 📤 EXPORTING TRACE: auto_trace_generate (ID: a4fcbbb8-0083-4d30-ae92-2c63e6ff29e8) - 1 spans\n",
            "2025-09-15 10:20:38 - noveum_trace.transport.batch_processor - INFO - 📥 ADDING TRACE TO QUEUE: auto_trace_generate (ID: a4fcbbb8-0083-4d30-ae92-2c63e6ff29e8) - 1 spans\n",
            "2025-09-15 10:20:38 - noveum_trace.transport.batch_processor - INFO - ✅ Successfully queued trace a4fcbbb8-0083-4d30-ae92-2c63e6ff29e8\n",
            "2025-09-15 10:20:38 - noveum_trace.transport.http_transport - INFO - ✅ Trace a4fcbbb8-0083-4d30-ae92-2c63e6ff29e8 successfully queued for export\n"
          ]
        },
        {
          "name": "stdout",
          "output_type": "stream",
          "text": [
            "2025-09-15 10:20:38 - INFO - novaeval.evaluators.agent_evaluator - Saving intermediate results after 35 samples\n",
            "2025-09-15 10:20:38 - INFO - novaeval.evaluators.agent_evaluator - Intermediate results saved to demo_results/sample_evaluation/agent_evaluation_results.csv\n"
          ]
        },
        {
          "name": "stderr",
          "output_type": "stream",
          "text": [
            "Evaluating samples: 35it [02:28,  4.26s/it]"
          ]
        },
        {
          "name": "stdout",
          "output_type": "stream",
          "text": [
            "2025-09-15 10:20:38 - INFO - google_genai.models - AFC is enabled with max remote calls: 10.\n",
            "2025-09-15 10:20:39 - INFO - google_genai.models - AFC remote call 1 is done.\n"
          ]
        },
        {
          "name": "stderr",
          "output_type": "stream",
          "text": [
            "2025-09-15 10:20:39 - noveum_trace.transport.http_transport - INFO - 📤 EXPORTING TRACE: auto_trace_generate (ID: cf90a677-f17b-4f4c-b5a6-e771ca2c3e94) - 1 spans\n",
            "2025-09-15 10:20:39 - noveum_trace.transport.batch_processor - INFO - 📥 ADDING TRACE TO QUEUE: auto_trace_generate (ID: cf90a677-f17b-4f4c-b5a6-e771ca2c3e94) - 1 spans\n",
            "2025-09-15 10:20:39 - noveum_trace.transport.batch_processor - INFO - ✅ Successfully queued trace cf90a677-f17b-4f4c-b5a6-e771ca2c3e94\n",
            "2025-09-15 10:20:39 - noveum_trace.transport.http_transport - INFO - ✅ Trace cf90a677-f17b-4f4c-b5a6-e771ca2c3e94 successfully queued for export\n"
          ]
        },
        {
          "name": "stdout",
          "output_type": "stream",
          "text": [
            "2025-09-15 10:20:39 - INFO - google_genai.models - AFC is enabled with max remote calls: 10.\n",
            "2025-09-15 10:20:40 - INFO - google_genai.models - AFC remote call 1 is done.\n"
          ]
        },
        {
          "name": "stderr",
          "output_type": "stream",
          "text": [
            "2025-09-15 10:20:40 - noveum_trace.transport.http_transport - INFO - 📤 EXPORTING TRACE: auto_trace_generate (ID: 1e3407ac-671c-4ca9-98bb-c829bbf906d8) - 1 spans\n",
            "2025-09-15 10:20:40 - noveum_trace.transport.batch_processor - INFO - 📥 ADDING TRACE TO QUEUE: auto_trace_generate (ID: 1e3407ac-671c-4ca9-98bb-c829bbf906d8) - 1 spans\n",
            "2025-09-15 10:20:40 - noveum_trace.transport.batch_processor - INFO - ✅ Successfully queued trace 1e3407ac-671c-4ca9-98bb-c829bbf906d8\n",
            "2025-09-15 10:20:40 - noveum_trace.transport.http_transport - INFO - ✅ Trace 1e3407ac-671c-4ca9-98bb-c829bbf906d8 successfully queued for export\n"
          ]
        },
        {
          "name": "stdout",
          "output_type": "stream",
          "text": [
            "2025-09-15 10:20:40 - INFO - google_genai.models - AFC is enabled with max remote calls: 10.\n",
            "2025-09-15 10:20:42 - INFO - google_genai.models - AFC remote call 1 is done.\n"
          ]
        },
        {
          "name": "stderr",
          "output_type": "stream",
          "text": [
            "2025-09-15 10:20:42 - noveum_trace.transport.http_transport - INFO - 📤 EXPORTING TRACE: auto_trace_generate (ID: 0ede6c06-ed52-4385-b141-a4319a6b64e8) - 1 spans\n",
            "2025-09-15 10:20:42 - noveum_trace.transport.batch_processor - INFO - 📥 ADDING TRACE TO QUEUE: auto_trace_generate (ID: 0ede6c06-ed52-4385-b141-a4319a6b64e8) - 1 spans\n",
            "2025-09-15 10:20:42 - noveum_trace.transport.batch_processor - INFO - ✅ Successfully queued trace 0ede6c06-ed52-4385-b141-a4319a6b64e8\n",
            "2025-09-15 10:20:42 - noveum_trace.transport.http_transport - INFO - ✅ Trace 0ede6c06-ed52-4385-b141-a4319a6b64e8 successfully queued for export\n"
          ]
        },
        {
          "name": "stdout",
          "output_type": "stream",
          "text": [
            "2025-09-15 10:20:42 - INFO - novaeval.evaluators.agent_evaluator - Saving intermediate results after 36 samples\n",
            "2025-09-15 10:20:42 - INFO - novaeval.evaluators.agent_evaluator - Intermediate results saved to demo_results/sample_evaluation/agent_evaluation_results.csv\n"
          ]
        },
        {
          "name": "stderr",
          "output_type": "stream",
          "text": [
            "Evaluating samples: 36it [02:31,  4.03s/it]"
          ]
        },
        {
          "name": "stdout",
          "output_type": "stream",
          "text": [
            "2025-09-15 10:20:42 - INFO - google_genai.models - AFC is enabled with max remote calls: 10.\n",
            "2025-09-15 10:20:43 - INFO - google_genai.models - AFC remote call 1 is done.\n"
          ]
        },
        {
          "name": "stderr",
          "output_type": "stream",
          "text": [
            "2025-09-15 10:20:43 - noveum_trace.transport.http_transport - INFO - 📤 EXPORTING TRACE: auto_trace_generate (ID: 1a885dcf-e15a-4d91-8811-5a086ebddcc2) - 1 spans\n",
            "2025-09-15 10:20:43 - noveum_trace.transport.batch_processor - INFO - 📥 ADDING TRACE TO QUEUE: auto_trace_generate (ID: 1a885dcf-e15a-4d91-8811-5a086ebddcc2) - 1 spans\n",
            "2025-09-15 10:20:43 - noveum_trace.transport.batch_processor - INFO - ✅ Successfully queued trace 1a885dcf-e15a-4d91-8811-5a086ebddcc2\n",
            "2025-09-15 10:20:43 - noveum_trace.transport.http_transport - INFO - ✅ Trace 1a885dcf-e15a-4d91-8811-5a086ebddcc2 successfully queued for export\n"
          ]
        },
        {
          "name": "stdout",
          "output_type": "stream",
          "text": [
            "2025-09-15 10:20:43 - INFO - google_genai.models - AFC is enabled with max remote calls: 10.\n",
            "2025-09-15 10:20:44 - INFO - google_genai.models - AFC remote call 1 is done.\n"
          ]
        },
        {
          "name": "stderr",
          "output_type": "stream",
          "text": [
            "2025-09-15 10:20:44 - noveum_trace.transport.http_transport - INFO - 📤 EXPORTING TRACE: auto_trace_generate (ID: 312c9771-967c-48af-95ca-7dba113ade85) - 1 spans\n",
            "2025-09-15 10:20:44 - noveum_trace.transport.batch_processor - INFO - 📥 ADDING TRACE TO QUEUE: auto_trace_generate (ID: 312c9771-967c-48af-95ca-7dba113ade85) - 1 spans\n",
            "2025-09-15 10:20:44 - noveum_trace.transport.batch_processor - INFO - ✅ Successfully queued trace 312c9771-967c-48af-95ca-7dba113ade85\n",
            "2025-09-15 10:20:44 - noveum_trace.transport.http_transport - INFO - ✅ Trace 312c9771-967c-48af-95ca-7dba113ade85 successfully queued for export\n"
          ]
        },
        {
          "name": "stdout",
          "output_type": "stream",
          "text": [
            "2025-09-15 10:20:44 - INFO - google_genai.models - AFC is enabled with max remote calls: 10.\n",
            "2025-09-15 10:20:45 - INFO - google_genai.models - AFC remote call 1 is done.\n"
          ]
        },
        {
          "name": "stderr",
          "output_type": "stream",
          "text": [
            "2025-09-15 10:20:45 - noveum_trace.transport.http_transport - INFO - 📤 EXPORTING TRACE: auto_trace_generate (ID: 2da91190-0326-4c62-aa90-325613b2bd46) - 1 spans\n",
            "2025-09-15 10:20:45 - noveum_trace.transport.batch_processor - INFO - 📥 ADDING TRACE TO QUEUE: auto_trace_generate (ID: 2da91190-0326-4c62-aa90-325613b2bd46) - 1 spans\n",
            "2025-09-15 10:20:45 - noveum_trace.transport.batch_processor - INFO - ✅ Successfully queued trace 2da91190-0326-4c62-aa90-325613b2bd46\n",
            "2025-09-15 10:20:45 - noveum_trace.transport.http_transport - INFO - ✅ Trace 2da91190-0326-4c62-aa90-325613b2bd46 successfully queued for export\n"
          ]
        },
        {
          "name": "stdout",
          "output_type": "stream",
          "text": [
            "2025-09-15 10:20:45 - INFO - novaeval.evaluators.agent_evaluator - Saving intermediate results after 37 samples\n",
            "2025-09-15 10:20:45 - INFO - novaeval.evaluators.agent_evaluator - Intermediate results saved to demo_results/sample_evaluation/agent_evaluation_results.csv\n"
          ]
        },
        {
          "name": "stderr",
          "output_type": "stream",
          "text": [
            "Evaluating samples: 37it [02:35,  3.96s/it]"
          ]
        },
        {
          "name": "stdout",
          "output_type": "stream",
          "text": [
            "2025-09-15 10:20:45 - INFO - google_genai.models - AFC is enabled with max remote calls: 10.\n",
            "2025-09-15 10:20:46 - INFO - google_genai.models - AFC remote call 1 is done.\n"
          ]
        },
        {
          "name": "stderr",
          "output_type": "stream",
          "text": [
            "2025-09-15 10:20:46 - noveum_trace.transport.http_transport - INFO - 📤 EXPORTING TRACE: auto_trace_generate (ID: 86fb7d5e-4887-4142-9dc4-3ab1c607921c) - 1 spans\n",
            "2025-09-15 10:20:46 - noveum_trace.transport.batch_processor - INFO - 📥 ADDING TRACE TO QUEUE: auto_trace_generate (ID: 86fb7d5e-4887-4142-9dc4-3ab1c607921c) - 1 spans\n",
            "2025-09-15 10:20:46 - noveum_trace.transport.batch_processor - INFO - ✅ Successfully queued trace 86fb7d5e-4887-4142-9dc4-3ab1c607921c\n",
            "2025-09-15 10:20:46 - noveum_trace.transport.http_transport - INFO - ✅ Trace 86fb7d5e-4887-4142-9dc4-3ab1c607921c successfully queued for export\n"
          ]
        },
        {
          "name": "stdout",
          "output_type": "stream",
          "text": [
            "2025-09-15 10:20:46 - INFO - google_genai.models - AFC is enabled with max remote calls: 10.\n",
            "2025-09-15 10:20:48 - INFO - google_genai.models - AFC remote call 1 is done.\n"
          ]
        },
        {
          "name": "stderr",
          "output_type": "stream",
          "text": [
            "2025-09-15 10:20:48 - noveum_trace.transport.http_transport - INFO - 📤 EXPORTING TRACE: auto_trace_generate (ID: 91ff9227-6c2c-4af8-b432-2baf4e2e7ab0) - 1 spans\n",
            "2025-09-15 10:20:48 - noveum_trace.transport.batch_processor - INFO - 📥 ADDING TRACE TO QUEUE: auto_trace_generate (ID: 91ff9227-6c2c-4af8-b432-2baf4e2e7ab0) - 1 spans\n",
            "2025-09-15 10:20:48 - noveum_trace.transport.batch_processor - INFO - ✅ Successfully queued trace 91ff9227-6c2c-4af8-b432-2baf4e2e7ab0\n",
            "2025-09-15 10:20:48 - noveum_trace.transport.http_transport - INFO - ✅ Trace 91ff9227-6c2c-4af8-b432-2baf4e2e7ab0 successfully queued for export\n"
          ]
        },
        {
          "name": "stdout",
          "output_type": "stream",
          "text": [
            "2025-09-15 10:20:48 - INFO - google_genai.models - AFC is enabled with max remote calls: 10.\n",
            "2025-09-15 10:20:49 - INFO - google_genai.models - AFC remote call 1 is done.\n"
          ]
        },
        {
          "name": "stderr",
          "output_type": "stream",
          "text": [
            "2025-09-15 10:20:49 - noveum_trace.transport.http_transport - INFO - 📤 EXPORTING TRACE: auto_trace_generate (ID: bfd8df7c-8d32-449f-bd81-000c5e627bb0) - 1 spans\n",
            "2025-09-15 10:20:49 - noveum_trace.transport.batch_processor - INFO - 📥 ADDING TRACE TO QUEUE: auto_trace_generate (ID: bfd8df7c-8d32-449f-bd81-000c5e627bb0) - 1 spans\n",
            "2025-09-15 10:20:49 - noveum_trace.transport.batch_processor - INFO - ✅ Successfully queued trace bfd8df7c-8d32-449f-bd81-000c5e627bb0\n",
            "2025-09-15 10:20:49 - noveum_trace.transport.http_transport - INFO - ✅ Trace bfd8df7c-8d32-449f-bd81-000c5e627bb0 successfully queued for export\n"
          ]
        },
        {
          "name": "stdout",
          "output_type": "stream",
          "text": [
            "2025-09-15 10:20:49 - INFO - novaeval.evaluators.agent_evaluator - Saving intermediate results after 38 samples\n",
            "2025-09-15 10:20:49 - INFO - novaeval.evaluators.agent_evaluator - Intermediate results saved to demo_results/sample_evaluation/agent_evaluation_results.csv\n"
          ]
        },
        {
          "name": "stderr",
          "output_type": "stream",
          "text": [
            "Evaluating samples: 38it [02:39,  3.86s/it]"
          ]
        },
        {
          "name": "stdout",
          "output_type": "stream",
          "text": [
            "2025-09-15 10:20:49 - INFO - google_genai.models - AFC is enabled with max remote calls: 10.\n",
            "2025-09-15 10:20:50 - INFO - google_genai.models - AFC remote call 1 is done.\n"
          ]
        },
        {
          "name": "stderr",
          "output_type": "stream",
          "text": [
            "2025-09-15 10:20:50 - noveum_trace.transport.http_transport - INFO - 📤 EXPORTING TRACE: auto_trace_generate (ID: 17bd9949-125b-46c9-94b3-67942f68e7d4) - 1 spans\n",
            "2025-09-15 10:20:50 - noveum_trace.transport.batch_processor - INFO - 📥 ADDING TRACE TO QUEUE: auto_trace_generate (ID: 17bd9949-125b-46c9-94b3-67942f68e7d4) - 1 spans\n",
            "2025-09-15 10:20:50 - noveum_trace.transport.batch_processor - INFO - ✅ Successfully queued trace 17bd9949-125b-46c9-94b3-67942f68e7d4\n",
            "2025-09-15 10:20:50 - noveum_trace.transport.http_transport - INFO - ✅ Trace 17bd9949-125b-46c9-94b3-67942f68e7d4 successfully queued for export\n"
          ]
        },
        {
          "name": "stdout",
          "output_type": "stream",
          "text": [
            "2025-09-15 10:20:50 - INFO - google_genai.models - AFC is enabled with max remote calls: 10.\n",
            "2025-09-15 10:20:51 - INFO - google_genai.models - AFC remote call 1 is done.\n"
          ]
        },
        {
          "name": "stderr",
          "output_type": "stream",
          "text": [
            "2025-09-15 10:20:51 - noveum_trace.transport.http_transport - INFO - 📤 EXPORTING TRACE: auto_trace_generate (ID: f016acc7-0486-4c75-90f4-df1f38b905c9) - 1 spans\n",
            "2025-09-15 10:20:51 - noveum_trace.transport.batch_processor - INFO - 📥 ADDING TRACE TO QUEUE: auto_trace_generate (ID: f016acc7-0486-4c75-90f4-df1f38b905c9) - 1 spans\n",
            "2025-09-15 10:20:51 - noveum_trace.transport.batch_processor - INFO - ✅ Successfully queued trace f016acc7-0486-4c75-90f4-df1f38b905c9\n",
            "2025-09-15 10:20:51 - noveum_trace.transport.http_transport - INFO - ✅ Trace f016acc7-0486-4c75-90f4-df1f38b905c9 successfully queued for export\n"
          ]
        },
        {
          "name": "stdout",
          "output_type": "stream",
          "text": [
            "2025-09-15 10:20:51 - INFO - google_genai.models - AFC is enabled with max remote calls: 10.\n",
            "2025-09-15 10:20:52 - INFO - google_genai.models - AFC remote call 1 is done.\n"
          ]
        },
        {
          "name": "stderr",
          "output_type": "stream",
          "text": [
            "2025-09-15 10:20:52 - noveum_trace.transport.http_transport - INFO - 📤 EXPORTING TRACE: auto_trace_generate (ID: 1d076218-3c38-4106-9200-86cacd4fb711) - 1 spans\n",
            "2025-09-15 10:20:52 - noveum_trace.transport.batch_processor - INFO - 📥 ADDING TRACE TO QUEUE: auto_trace_generate (ID: 1d076218-3c38-4106-9200-86cacd4fb711) - 1 spans\n",
            "2025-09-15 10:20:52 - noveum_trace.transport.batch_processor - INFO - ✅ Successfully queued trace 1d076218-3c38-4106-9200-86cacd4fb711\n",
            "2025-09-15 10:20:52 - noveum_trace.transport.http_transport - INFO - ✅ Trace 1d076218-3c38-4106-9200-86cacd4fb711 successfully queued for export\n"
          ]
        },
        {
          "name": "stdout",
          "output_type": "stream",
          "text": [
            "2025-09-15 10:20:52 - INFO - novaeval.evaluators.agent_evaluator - Saving intermediate results after 39 samples\n",
            "2025-09-15 10:20:52 - INFO - novaeval.evaluators.agent_evaluator - Intermediate results saved to demo_results/sample_evaluation/agent_evaluation_results.csv\n"
          ]
        },
        {
          "name": "stderr",
          "output_type": "stream",
          "text": [
            "Evaluating samples: 39it [02:42,  3.67s/it]"
          ]
        },
        {
          "name": "stdout",
          "output_type": "stream",
          "text": [
            "2025-09-15 10:20:52 - INFO - google_genai.models - AFC is enabled with max remote calls: 10.\n",
            "2025-09-15 10:20:53 - INFO - google_genai.models - AFC remote call 1 is done.\n"
          ]
        },
        {
          "name": "stderr",
          "output_type": "stream",
          "text": [
            "2025-09-15 10:20:53 - noveum_trace.transport.http_transport - INFO - 📤 EXPORTING TRACE: auto_trace_generate (ID: 05205b5e-8821-4034-a4fc-6ae327234812) - 1 spans\n",
            "2025-09-15 10:20:53 - noveum_trace.transport.batch_processor - INFO - 📥 ADDING TRACE TO QUEUE: auto_trace_generate (ID: 05205b5e-8821-4034-a4fc-6ae327234812) - 1 spans\n",
            "2025-09-15 10:20:53 - noveum_trace.transport.batch_processor - INFO - ✅ Successfully queued trace 05205b5e-8821-4034-a4fc-6ae327234812\n",
            "2025-09-15 10:20:53 - noveum_trace.transport.http_transport - INFO - ✅ Trace 05205b5e-8821-4034-a4fc-6ae327234812 successfully queued for export\n"
          ]
        },
        {
          "name": "stdout",
          "output_type": "stream",
          "text": [
            "2025-09-15 10:20:53 - INFO - google_genai.models - AFC is enabled with max remote calls: 10.\n",
            "2025-09-15 10:20:54 - INFO - google_genai.models - AFC remote call 1 is done.\n"
          ]
        },
        {
          "name": "stderr",
          "output_type": "stream",
          "text": [
            "2025-09-15 10:20:54 - noveum_trace.transport.http_transport - INFO - 📤 EXPORTING TRACE: auto_trace_generate (ID: 6998fb58-9043-4de7-bc6b-211ee3d7796a) - 1 spans\n",
            "2025-09-15 10:20:54 - noveum_trace.transport.batch_processor - INFO - 📥 ADDING TRACE TO QUEUE: auto_trace_generate (ID: 6998fb58-9043-4de7-bc6b-211ee3d7796a) - 1 spans\n",
            "2025-09-15 10:20:54 - noveum_trace.transport.batch_processor - INFO - ✅ Successfully queued trace 6998fb58-9043-4de7-bc6b-211ee3d7796a\n",
            "2025-09-15 10:20:54 - noveum_trace.transport.http_transport - INFO - ✅ Trace 6998fb58-9043-4de7-bc6b-211ee3d7796a successfully queued for export\n"
          ]
        },
        {
          "name": "stdout",
          "output_type": "stream",
          "text": [
            "2025-09-15 10:20:54 - INFO - google_genai.models - AFC is enabled with max remote calls: 10.\n",
            "2025-09-15 10:20:55 - INFO - google_genai.models - AFC remote call 1 is done.\n"
          ]
        },
        {
          "name": "stderr",
          "output_type": "stream",
          "text": [
            "2025-09-15 10:20:55 - noveum_trace.transport.http_transport - INFO - 📤 EXPORTING TRACE: auto_trace_generate (ID: 647ebc78-20a9-4d97-93a3-9a33c5f439ae) - 1 spans\n",
            "2025-09-15 10:20:55 - noveum_trace.transport.batch_processor - INFO - 📥 ADDING TRACE TO QUEUE: auto_trace_generate (ID: 647ebc78-20a9-4d97-93a3-9a33c5f439ae) - 1 spans\n",
            "2025-09-15 10:20:55 - noveum_trace.transport.batch_processor - INFO - ✅ Successfully queued trace 647ebc78-20a9-4d97-93a3-9a33c5f439ae\n",
            "2025-09-15 10:20:55 - noveum_trace.transport.http_transport - INFO - ✅ Trace 647ebc78-20a9-4d97-93a3-9a33c5f439ae successfully queued for export\n"
          ]
        },
        {
          "name": "stdout",
          "output_type": "stream",
          "text": [
            "2025-09-15 10:20:55 - INFO - google_genai.models - AFC is enabled with max remote calls: 10.\n",
            "2025-09-15 10:20:57 - INFO - google_genai.models - AFC remote call 1 is done.\n"
          ]
        },
        {
          "name": "stderr",
          "output_type": "stream",
          "text": [
            "2025-09-15 10:20:57 - noveum_trace.transport.http_transport - INFO - 📤 EXPORTING TRACE: auto_trace_generate (ID: ed138954-e06e-405e-8a74-28c6c8ef4f6c) - 1 spans\n",
            "2025-09-15 10:20:57 - noveum_trace.transport.batch_processor - INFO - 📥 ADDING TRACE TO QUEUE: auto_trace_generate (ID: ed138954-e06e-405e-8a74-28c6c8ef4f6c) - 1 spans\n",
            "2025-09-15 10:20:57 - noveum_trace.transport.batch_processor - INFO - ✅ Successfully queued trace ed138954-e06e-405e-8a74-28c6c8ef4f6c\n",
            "2025-09-15 10:20:57 - noveum_trace.transport.http_transport - INFO - ✅ Trace ed138954-e06e-405e-8a74-28c6c8ef4f6c successfully queued for export\n"
          ]
        },
        {
          "name": "stdout",
          "output_type": "stream",
          "text": [
            "2025-09-15 10:20:57 - INFO - google_genai.models - AFC is enabled with max remote calls: 10.\n",
            "2025-09-15 10:20:58 - INFO - google_genai.models - AFC remote call 1 is done.\n"
          ]
        },
        {
          "name": "stderr",
          "output_type": "stream",
          "text": [
            "2025-09-15 10:20:58 - noveum_trace.transport.http_transport - INFO - 📤 EXPORTING TRACE: auto_trace_generate (ID: 862c8601-cdca-435c-a567-11d1d65c8e7f) - 1 spans\n",
            "2025-09-15 10:20:58 - noveum_trace.transport.batch_processor - INFO - 📥 ADDING TRACE TO QUEUE: auto_trace_generate (ID: 862c8601-cdca-435c-a567-11d1d65c8e7f) - 1 spans\n",
            "2025-09-15 10:20:58 - noveum_trace.transport.batch_processor - INFO - ✅ Successfully queued trace 862c8601-cdca-435c-a567-11d1d65c8e7f\n",
            "2025-09-15 10:20:58 - noveum_trace.transport.http_transport - INFO - ✅ Trace 862c8601-cdca-435c-a567-11d1d65c8e7f successfully queued for export\n"
          ]
        },
        {
          "name": "stdout",
          "output_type": "stream",
          "text": [
            "2025-09-15 10:20:58 - INFO - novaeval.evaluators.agent_evaluator - Saving intermediate results after 40 samples\n",
            "2025-09-15 10:20:58 - INFO - novaeval.evaluators.agent_evaluator - Intermediate results saved to demo_results/sample_evaluation/agent_evaluation_results.csv\n"
          ]
        },
        {
          "name": "stderr",
          "output_type": "stream",
          "text": [
            "Evaluating samples: 40it [02:47,  4.17s/it]"
          ]
        },
        {
          "name": "stdout",
          "output_type": "stream",
          "text": [
            "2025-09-15 10:20:58 - INFO - google_genai.models - AFC is enabled with max remote calls: 10.\n",
            "2025-09-15 10:20:59 - INFO - google_genai.models - AFC remote call 1 is done.\n"
          ]
        },
        {
          "name": "stderr",
          "output_type": "stream",
          "text": [
            "2025-09-15 10:20:59 - noveum_trace.transport.http_transport - INFO - 📤 EXPORTING TRACE: auto_trace_generate (ID: 1160d856-acca-4dde-a25d-39e9e1dac359) - 1 spans\n",
            "2025-09-15 10:20:59 - noveum_trace.transport.batch_processor - INFO - 📥 ADDING TRACE TO QUEUE: auto_trace_generate (ID: 1160d856-acca-4dde-a25d-39e9e1dac359) - 1 spans\n",
            "2025-09-15 10:20:59 - noveum_trace.transport.batch_processor - INFO - ✅ Successfully queued trace 1160d856-acca-4dde-a25d-39e9e1dac359\n",
            "2025-09-15 10:20:59 - noveum_trace.transport.http_transport - INFO - ✅ Trace 1160d856-acca-4dde-a25d-39e9e1dac359 successfully queued for export\n"
          ]
        },
        {
          "name": "stdout",
          "output_type": "stream",
          "text": [
            "2025-09-15 10:20:59 - INFO - google_genai.models - AFC is enabled with max remote calls: 10.\n",
            "2025-09-15 10:21:00 - INFO - google_genai.models - AFC remote call 1 is done.\n"
          ]
        },
        {
          "name": "stderr",
          "output_type": "stream",
          "text": [
            "2025-09-15 10:21:00 - noveum_trace.transport.http_transport - INFO - 📤 EXPORTING TRACE: auto_trace_generate (ID: e7e2b884-096f-43cd-be9c-1f5695cea8b1) - 1 spans\n",
            "2025-09-15 10:21:00 - noveum_trace.transport.batch_processor - INFO - 📥 ADDING TRACE TO QUEUE: auto_trace_generate (ID: e7e2b884-096f-43cd-be9c-1f5695cea8b1) - 1 spans\n",
            "2025-09-15 10:21:00 - noveum_trace.transport.batch_processor - INFO - ✅ Successfully queued trace e7e2b884-096f-43cd-be9c-1f5695cea8b1\n",
            "2025-09-15 10:21:00 - noveum_trace.transport.http_transport - INFO - ✅ Trace e7e2b884-096f-43cd-be9c-1f5695cea8b1 successfully queued for export\n"
          ]
        },
        {
          "name": "stdout",
          "output_type": "stream",
          "text": [
            "2025-09-15 10:21:00 - INFO - google_genai.models - AFC is enabled with max remote calls: 10.\n",
            "2025-09-15 10:21:01 - INFO - google_genai.models - AFC remote call 1 is done.\n"
          ]
        },
        {
          "name": "stderr",
          "output_type": "stream",
          "text": [
            "2025-09-15 10:21:01 - noveum_trace.transport.http_transport - INFO - 📤 EXPORTING TRACE: auto_trace_generate (ID: 22f146ce-c95e-46ed-94fd-22ef27922463) - 1 spans\n",
            "2025-09-15 10:21:01 - noveum_trace.transport.batch_processor - INFO - 📥 ADDING TRACE TO QUEUE: auto_trace_generate (ID: 22f146ce-c95e-46ed-94fd-22ef27922463) - 1 spans\n",
            "2025-09-15 10:21:01 - noveum_trace.transport.batch_processor - INFO - ✅ Successfully queued trace 22f146ce-c95e-46ed-94fd-22ef27922463\n",
            "2025-09-15 10:21:01 - noveum_trace.transport.http_transport - INFO - ✅ Trace 22f146ce-c95e-46ed-94fd-22ef27922463 successfully queued for export\n"
          ]
        },
        {
          "name": "stdout",
          "output_type": "stream",
          "text": [
            "2025-09-15 10:21:01 - INFO - novaeval.evaluators.agent_evaluator - Saving intermediate results after 41 samples\n",
            "2025-09-15 10:21:01 - INFO - novaeval.evaluators.agent_evaluator - Intermediate results saved to demo_results/sample_evaluation/agent_evaluation_results.csv\n"
          ]
        },
        {
          "name": "stderr",
          "output_type": "stream",
          "text": [
            "Evaluating samples: 41it [02:51,  4.18s/it]"
          ]
        },
        {
          "name": "stdout",
          "output_type": "stream",
          "text": [
            "2025-09-15 10:21:01 - INFO - novaeval.evaluators.agent_evaluator - Saving final results\n",
            "2025-09-15 10:21:01 - INFO - novaeval.evaluators.agent_evaluator - Reloaded 41 results from CSV\n",
            "2025-09-15 10:21:01 - INFO - novaeval.evaluators.agent_evaluator - Agent evaluation completed\n",
            "\n",
            "✅ Evaluation completed!\n",
            "\n",
            "📊 Results Summary:\n",
            "  - task_progression: 3.22\n",
            "  - context_relevancy: 7.00\n",
            "  - role_adherence: 7.07\n",
            "  - tool_relevancy: 1.29\n",
            "  - parameter_correctness: 1.60\n",
            "\n",
            "🔍 Individual Scores:\n",
            "\n",
            "  Record 1 (Task: 4675c7f8-e284-4c0c-bff4-2f901c2ecbe3):\n",
            "    - task_progression: 4.5\n",
            "    - context_relevancy: 9.2\n",
            "    - role_adherence: 9.2\n",
            "    - tool_relevancy: 9.2\n",
            "    - parameter_correctness: 7.5\n",
            "\n",
            "  Record 2 (Task: 4675c7f8-e284-4c0c-bff4-2f901c2ecbe3):\n",
            "    - task_progression: 2.8\n",
            "    - context_relevancy: 7.5\n",
            "    - role_adherence: 4.7\n",
            "    - tool_relevancy: 0.0\n",
            "    - parameter_correctness: 0.0\n",
            "\n",
            "  Record 3 (Task: 4675c7f8-e284-4c0c-bff4-2f901c2ecbe3):\n",
            "    - task_progression: 2.8\n",
            "    - context_relevancy: 7.5\n",
            "    - role_adherence: 6.8\n",
            "    - tool_relevancy: 0.0\n",
            "    - parameter_correctness: 0.0\n",
            "\n",
            "  Record 4 (Task: 4675c7f8-e284-4c0c-bff4-2f901c2ecbe3):\n",
            "    - task_progression: 4.5\n",
            "    - context_relevancy: 8.2\n",
            "    - role_adherence: 8.7\n",
            "    - tool_relevancy: 0.0\n",
            "    - parameter_correctness: 0.0\n",
            "\n",
            "  Record 5 (Task: ffa0e79c-5d3a-412e-826e-70c440443f45):\n",
            "    - task_progression: 1.5\n",
            "    - context_relevancy: 1.0\n",
            "    - role_adherence: 4.5\n",
            "    - tool_relevancy: 0.0\n",
            "    - parameter_correctness: 0.0\n",
            "\n",
            "  Record 6 (Task: ffa0e79c-5d3a-412e-826e-70c440443f45):\n",
            "    - task_progression: 2.8\n",
            "    - context_relevancy: 7.2\n",
            "    - role_adherence: 9.2\n",
            "    - tool_relevancy: 0.0\n",
            "    - parameter_correctness: 0.0\n",
            "\n",
            "  Record 7 (Task: 8adfdd3d-5b26-4e6b-ab9a-58a814adb6bd):\n",
            "    - task_progression: 2.8\n",
            "    - context_relevancy: 4.5\n",
            "    - role_adherence: 4.5\n",
            "    - tool_relevancy: 4.5\n",
            "    - parameter_correctness: 6.5\n",
            "\n",
            "  Record 8 (Task: 8adfdd3d-5b26-4e6b-ab9a-58a814adb6bd):\n",
            "    - task_progression: 2.8\n",
            "    - context_relevancy: 7.5\n",
            "    - role_adherence: 8.8\n",
            "    - tool_relevancy: 0.0\n",
            "    - parameter_correctness: 0.0\n",
            "\n",
            "  Record 9 (Task: 8adfdd3d-5b26-4e6b-ab9a-58a814adb6bd):\n",
            "    - task_progression: 2.8\n",
            "    - context_relevancy: 7.2\n",
            "    - role_adherence: 4.5\n",
            "    - tool_relevancy: 0.0\n",
            "    - parameter_correctness: 0.0\n",
            "\n",
            "  Record 10 (Task: 8adfdd3d-5b26-4e6b-ab9a-58a814adb6bd):\n",
            "    - task_progression: 2.8\n",
            "    - context_relevancy: 7.2\n",
            "    - role_adherence: 6.8\n",
            "    - tool_relevancy: 0.0\n",
            "    - parameter_correctness: 0.0\n",
            "\n",
            "  Record 11 (Task: 8adfdd3d-5b26-4e6b-ab9a-58a814adb6bd):\n",
            "    - task_progression: 2.8\n",
            "    - context_relevancy: 7.2\n",
            "    - role_adherence: 7.8\n",
            "    - tool_relevancy: 0.0\n",
            "    - parameter_correctness: 0.0\n",
            "\n",
            "  Record 12 (Task: 8adfdd3d-5b26-4e6b-ab9a-58a814adb6bd):\n",
            "    - task_progression: 2.8\n",
            "    - context_relevancy: 6.8\n",
            "    - role_adherence: 7.8\n",
            "    - tool_relevancy: 0.0\n",
            "    - parameter_correctness: 0.0\n",
            "\n",
            "  Record 13 (Task: 8adfdd3d-5b26-4e6b-ab9a-58a814adb6bd):\n",
            "    - task_progression: 2.8\n",
            "    - context_relevancy: 7.2\n",
            "    - role_adherence: 7.8\n",
            "    - tool_relevancy: 0.0\n",
            "    - parameter_correctness: 0.0\n",
            "\n",
            "  Record 14 (Task: 1d84ac89-66de-419a-a4fb-b993fc2e8641):\n",
            "    - task_progression: 2.8\n",
            "    - context_relevancy: 7.2\n",
            "    - role_adherence: 7.8\n",
            "    - tool_relevancy: 4.5\n",
            "    - parameter_correctness: 7.5\n",
            "\n",
            "  Record 15 (Task: 1d84ac89-66de-419a-a4fb-b993fc2e8641):\n",
            "    - task_progression: 4.2\n",
            "    - context_relevancy: 7.5\n",
            "    - role_adherence: 6.8\n",
            "    - tool_relevancy: 0.0\n",
            "    - parameter_correctness: 0.0\n",
            "\n",
            "  Record 16 (Task: 1d84ac89-66de-419a-a4fb-b993fc2e8641):\n",
            "    - task_progression: 4.5\n",
            "    - context_relevancy: 7.5\n",
            "    - role_adherence: 7.8\n",
            "    - tool_relevancy: 0.0\n",
            "    - parameter_correctness: 0.0\n",
            "\n",
            "  Record 17 (Task: 3c979615-7192-45db-a576-101526cec842):\n",
            "    - task_progression: 1.2\n",
            "    - context_relevancy: 4.5\n",
            "    - role_adherence: 4.5\n",
            "    - tool_relevancy: 4.5\n",
            "    - parameter_correctness: 7.5\n",
            "\n",
            "  Record 18 (Task: 3c979615-7192-45db-a576-101526cec842):\n",
            "    - task_progression: 4.5\n",
            "    - context_relevancy: 8.2\n",
            "    - role_adherence: 8.8\n",
            "    - tool_relevancy: 0.0\n",
            "    - parameter_correctness: 0.0\n",
            "\n",
            "  Record 19 (Task: 3c979615-7192-45db-a576-101526cec842):\n",
            "    - task_progression: 4.5\n",
            "    - context_relevancy: 7.2\n",
            "    - role_adherence: 8.8\n",
            "    - tool_relevancy: 0.0\n",
            "    - parameter_correctness: 0.0\n",
            "\n",
            "  Record 20 (Task: 3d051d6d-16e5-438c-9481-28aa05380dd4):\n",
            "    - task_progression: 2.8\n",
            "    - context_relevancy: 4.5\n",
            "    - role_adherence: 4.5\n",
            "    - tool_relevancy: 4.5\n",
            "    - parameter_correctness: 7.5\n",
            "\n",
            "  Record 21 (Task: 3d051d6d-16e5-438c-9481-28aa05380dd4):\n",
            "    - task_progression: 4.5\n",
            "    - context_relevancy: 8.5\n",
            "    - role_adherence: 6.5\n",
            "    - tool_relevancy: 0.0\n",
            "    - parameter_correctness: 0.0\n",
            "\n",
            "  Record 22 (Task: 3d051d6d-16e5-438c-9481-28aa05380dd4):\n",
            "    - task_progression: 4.5\n",
            "    - context_relevancy: 7.2\n",
            "    - role_adherence: 7.8\n",
            "    - tool_relevancy: 0.0\n",
            "    - parameter_correctness: 0.0\n",
            "\n",
            "  Record 23 (Task: 3d051d6d-16e5-438c-9481-28aa05380dd4):\n",
            "    - task_progression: 3.8\n",
            "    - context_relevancy: 7.2\n",
            "    - role_adherence: 6.8\n",
            "    - tool_relevancy: 0.0\n",
            "    - parameter_correctness: 0.0\n",
            "\n",
            "  Record 24 (Task: 8a881bbb-1b8e-4a8c-b1a3-7f8dd416fb9a):\n",
            "    - task_progression: 1.8\n",
            "    - context_relevancy: 4.5\n",
            "    - role_adherence: 4.5\n",
            "    - tool_relevancy: 4.5\n",
            "    - parameter_correctness: 6.5\n",
            "\n",
            "  Record 25 (Task: 8a881bbb-1b8e-4a8c-b1a3-7f8dd416fb9a):\n",
            "    - task_progression: 2.8\n",
            "    - context_relevancy: 7.5\n",
            "    - role_adherence: 6.8\n",
            "    - tool_relevancy: 0.0\n",
            "    - parameter_correctness: 0.0\n",
            "\n",
            "  Record 26 (Task: 8a881bbb-1b8e-4a8c-b1a3-7f8dd416fb9a):\n",
            "    - task_progression: 2.8\n",
            "    - context_relevancy: 7.2\n",
            "    - role_adherence: 7.8\n",
            "    - tool_relevancy: 0.0\n",
            "    - parameter_correctness: 0.0\n",
            "\n",
            "  Record 27 (Task: 8a881bbb-1b8e-4a8c-b1a3-7f8dd416fb9a):\n",
            "    - task_progression: 3.8\n",
            "    - context_relevancy: 7.2\n",
            "    - role_adherence: 6.8\n",
            "    - tool_relevancy: 0.0\n",
            "    - parameter_correctness: 0.0\n",
            "\n",
            "  Record 28 (Task: 8a881bbb-1b8e-4a8c-b1a3-7f8dd416fb9a):\n",
            "    - task_progression: 2.8\n",
            "    - context_relevancy: 7.2\n",
            "    - role_adherence: 6.8\n",
            "    - tool_relevancy: 0.0\n",
            "    - parameter_correctness: 0.0\n",
            "\n",
            "  Record 29 (Task: 8a881bbb-1b8e-4a8c-b1a3-7f8dd416fb9a):\n",
            "    - task_progression: 2.8\n",
            "    - context_relevancy: 7.2\n",
            "    - role_adherence: 6.8\n",
            "    - tool_relevancy: 0.0\n",
            "    - parameter_correctness: 0.0\n",
            "\n",
            "  Record 30 (Task: 9efaa0c4-1b06-4ba8-a7b4-79a7fca26259):\n",
            "    - task_progression: 3.8\n",
            "    - context_relevancy: 7.5\n",
            "    - role_adherence: 7.8\n",
            "    - tool_relevancy: 7.8\n",
            "    - parameter_correctness: 7.5\n",
            "\n",
            "  Record 31 (Task: 9efaa0c4-1b06-4ba8-a7b4-79a7fca26259):\n",
            "    - task_progression: 2.8\n",
            "    - context_relevancy: 7.5\n",
            "    - role_adherence: 6.8\n",
            "    - tool_relevancy: 0.0\n",
            "    - parameter_correctness: 0.0\n",
            "\n",
            "  Record 32 (Task: 9efaa0c4-1b06-4ba8-a7b4-79a7fca26259):\n",
            "    - task_progression: 2.8\n",
            "    - context_relevancy: 7.2\n",
            "    - role_adherence: 6.5\n",
            "    - tool_relevancy: 0.0\n",
            "    - parameter_correctness: 0.0\n",
            "\n",
            "  Record 33 (Task: 9efaa0c4-1b06-4ba8-a7b4-79a7fca26259):\n",
            "    - task_progression: 2.8\n",
            "    - context_relevancy: 7.2\n",
            "    - role_adherence: 4.8\n",
            "    - tool_relevancy: 0.0\n",
            "    - parameter_correctness: 0.0\n",
            "\n",
            "  Record 34 (Task: 9efaa0c4-1b06-4ba8-a7b4-79a7fca26259):\n",
            "    - task_progression: 2.8\n",
            "    - context_relevancy: 7.2\n",
            "    - role_adherence: 6.8\n",
            "    - tool_relevancy: 0.0\n",
            "    - parameter_correctness: 0.0\n",
            "\n",
            "  Record 35 (Task: 121bb7f1-d805-49fe-92af-31dbe0aa827e):\n",
            "    - task_progression: 2.2\n",
            "    - context_relevancy: 4.5\n",
            "    - role_adherence: 4.5\n",
            "    - tool_relevancy: 4.5\n",
            "    - parameter_correctness: 6.5\n",
            "\n",
            "  Record 36 (Task: 121bb7f1-d805-49fe-92af-31dbe0aa827e):\n",
            "    - task_progression: 3.8\n",
            "    - context_relevancy: 7.8\n",
            "    - role_adherence: 7.8\n",
            "    - tool_relevancy: 0.0\n",
            "    - parameter_correctness: 0.0\n",
            "\n",
            "  Record 37 (Task: 121bb7f1-d805-49fe-92af-31dbe0aa827e):\n",
            "    - task_progression: 2.8\n",
            "    - context_relevancy: 7.2\n",
            "    - role_adherence: 7.8\n",
            "    - tool_relevancy: 0.0\n",
            "    - parameter_correctness: 0.0\n",
            "\n",
            "  Record 38 (Task: 121bb7f1-d805-49fe-92af-31dbe0aa827e):\n",
            "    - task_progression: 3.8\n",
            "    - context_relevancy: 7.8\n",
            "    - role_adherence: 8.8\n",
            "    - tool_relevancy: 0.0\n",
            "    - parameter_correctness: 0.0\n",
            "\n",
            "  Record 39 (Task: a8fe28a3-2ebb-428d-b679-9aba40c69be0):\n",
            "    - task_progression: 4.5\n",
            "    - context_relevancy: 8.5\n",
            "    - role_adherence: 9.2\n",
            "    - tool_relevancy: 0.0\n",
            "    - parameter_correctness: 0.0\n",
            "\n",
            "  Record 40 (Task: a8fe28a3-2ebb-428d-b679-9aba40c69be0):\n",
            "    - task_progression: 2.8\n",
            "    - context_relevancy: 7.5\n",
            "    - role_adherence: 9.2\n",
            "    - tool_relevancy: 8.7\n",
            "    - parameter_correctness: 8.5\n",
            "\n",
            "  Record 41 (Task: a8fe28a3-2ebb-428d-b679-9aba40c69be0):\n",
            "    - task_progression: 4.5\n",
            "    - context_relevancy: 8.5\n",
            "    - role_adherence: 9.2\n",
            "    - tool_relevancy: 0.0\n",
            "    - parameter_correctness: 0.0\n"
          ]
        },
        {
          "name": "stderr",
          "output_type": "stream",
          "text": [
            "\n"
          ]
        }
      ],
      "source": [
        "# Run evaluation using the AgentEvaluator's run_all method\n",
        "print(\"🚀 Running evaluation on sample data...\")\n",
        "\n",
        "if gemini_model and evaluator:\n",
        "    try:\n",
        "        # Create a smaller dataset for demo purposes\n",
        "        sample_data = [data for data in dataset.data if data.agent_response][:]\n",
        "        print(f\"\\n📊 Evaluating {len(sample_data)} sample records...\")\n",
        "        \n",
        "        # Create a temporary dataset with just the sample data\n",
        "        sample_dataset = AgentDataset()\n",
        "        sample_dataset.data = sample_data\n",
        "        \n",
        "        # Create a new evaluator with the sample dataset\n",
        "        sample_evaluator = AgentEvaluator(\n",
        "            agent_dataset=sample_dataset,\n",
        "            models=[gemini_model],\n",
        "            scoring_functions=scoring_functions,\n",
        "            output_dir=\"./demo_results/sample_evaluation\",\n",
        "            stream=False,\n",
        "            include_reasoning=True\n",
        "        )\n",
        "        \n",
        "        # Run the evaluation\n",
        "        sample_evaluator.run_all(save_every=1, file_type=\"csv\")\n",
        "        \n",
        "        print(\"\\n✅ Evaluation completed!\")\n",
        "        \n",
        "        # Read and display results\n",
        "        import pandas as pd\n",
        "        results_file = \"./demo_results/sample_evaluation/agent_evaluation_results.csv\"\n",
        "        \n",
        "        if pd.io.common.file_exists(results_file):\n",
        "            results_df = pd.read_csv(results_file)\n",
        "            print(f\"\\n📊 Results Summary:\")\n",
        "            \n",
        "            # Calculate averages for each scorer\n",
        "            scorer_columns = [col for col in results_df.columns if col not in ['user_id', 'task_id', 'turn_id', 'agent_name'] and not col.endswith('_reasoning')]\n",
        "            \n",
        "            for col in scorer_columns:\n",
        "                if results_df[col].dtype in ['float64', 'int64']:\n",
        "                    avg_score = results_df[col].mean()\n",
        "                    print(f\"  - {col}: {avg_score:.2f}\")\n",
        "            \n",
        "            # Show individual scores\n",
        "            print(f\"\\n🔍 Individual Scores:\")\n",
        "            for i, row in results_df.iterrows():\n",
        "                print(f\"\\n  Record {i+1} (Task: {row.get('task_id', 'N/A')}):\")\n",
        "                for col in scorer_columns:\n",
        "                    if pd.notna(row[col]):\n",
        "                        print(f\"    - {col}: {row[col]}\")\n",
        "        else:\n",
        "            print(\"❌ Results file not found\")\n",
        "        \n",
        "    except Exception as e:\n",
        "        print(f\"❌ Error during evaluation: {e}\")\n",
        "        print(f\"Error type: {type(e).__name__}\")\n",
        "        import traceback\n",
        "        traceback.print_exc()\n",
        "        \n",
        "else:\n",
        "    print(\"⚠️  Skipping evaluation - missing model or evaluator\")\n"
      ]
    },
    {
      "cell_type": "markdown",
      "metadata": {},
      "source": [
        "## Step 7: Analysis and Insights\n"
      ]
    },
    {
      "cell_type": "code",
      "execution_count": 11,
      "metadata": {},
      "outputs": [
        {
          "name": "stdout",
          "output_type": "stream",
          "text": [
            "🔍 Dataset Analysis:\n",
            "\n",
            "=== Agent Behavior Patterns ===\n",
            "\n",
            "📈 Tool Usage:\n",
            "  - user_input: 1 uses\n",
            "  - _Exception: 1 uses\n",
            "  - langchain_retriever: 7 uses\n",
            "\n",
            "📋 Task Types:\n",
            "  - other: 19\n",
            "  - user_input: 22\n",
            "\n",
            "📝 Response Statistics:\n",
            "  - Average response length: 119.0 characters\n",
            "  - Min response length: 3\n",
            "  - Max response length: 219\n"
          ]
        }
      ],
      "source": [
        "# Analyze the dataset characteristics\n",
        "print(\"🔍 Dataset Analysis:\")\n",
        "print(\"\\n=== Agent Behavior Patterns ===\")\n",
        "\n",
        "# Analyze tool usage patterns\n",
        "tool_patterns = {}\n",
        "task_types = {}\n",
        "response_lengths = []\n",
        "\n",
        "for data in dataset.data:\n",
        "    # Tool usage\n",
        "    if data.tool_calls:\n",
        "        for tool_call in data.tool_calls:\n",
        "            if hasattr(tool_call, 'tool_name'):\n",
        "                tool_name = tool_call.tool_name\n",
        "                if tool_name not in tool_patterns:\n",
        "                    tool_patterns[tool_name] = {'count': 0, 'success_rate': 0}\n",
        "                tool_patterns[tool_name]['count'] += 1\n",
        "    \n",
        "    # Task analysis\n",
        "    if data.agent_task:\n",
        "        # Simple categorization\n",
        "        task_lower = data.agent_task.lower()\n",
        "        if 'user_input' in task_lower:\n",
        "            task_types['user_input'] = task_types.get('user_input', 0) + 1\n",
        "        elif 'exit' in task_lower:\n",
        "            task_types['exit_command'] = task_types.get('exit_command', 0) + 1\n",
        "        else:\n",
        "            task_types['other'] = task_types.get('other', 0) + 1\n",
        "    \n",
        "    # Response analysis\n",
        "    if data.agent_response:\n",
        "        response_lengths.append(len(data.agent_response))\n",
        "\n",
        "print(f\"\\n📈 Tool Usage:\")\n",
        "for tool, stats in tool_patterns.items():\n",
        "    print(f\"  - {tool}: {stats['count']} uses\")\n",
        "\n",
        "print(f\"\\n📋 Task Types:\")\n",
        "for task_type, count in task_types.items():\n",
        "    print(f\"  - {task_type}: {count}\")\n",
        "\n",
        "if response_lengths:\n",
        "    avg_response_length = sum(response_lengths) / len(response_lengths)\n",
        "    print(f\"\\n📝 Response Statistics:\")\n",
        "    print(f\"  - Average response length: {avg_response_length:.1f} characters\")\n",
        "    print(f\"  - Min response length: {min(response_lengths)}\")\n",
        "    print(f\"  - Max response length: {max(response_lengths)}\")\n"
      ]
    },
    {
      "cell_type": "markdown",
      "metadata": {},
      "source": [
        "## Step 8: Export Results (Optional)\n"
      ]
    },
    {
      "cell_type": "code",
      "execution_count": 12,
      "metadata": {},
      "outputs": [
        {
          "name": "stdout",
          "output_type": "stream",
          "text": [
            "💾 Exporting processed dataset...\n",
            "✅ Exported to processed_agent_dataset_tool_calls_removed.json\n",
            "✅ Exported to processed_agent_dataset.csv\n",
            "\n",
            "🎉 Demo completed successfully!\n",
            "\n",
            "📋 Summary:\n",
            "  - Processed 41 spans from dataset_tool_calls_removed.json\n",
            "  - Created 41 AgentData records\n",
            "  - Configured evaluation with Gemini model and 6 scorers\n",
            "  - Exported processed dataset for future use\n"
          ]
        }
      ],
      "source": [
        "\n",
        "# Export the processed dataset for future use\n",
        "print(\"💾 Exporting processed dataset...\")\n",
        "\n",
        "try:\n",
        "    # Export to JSON\n",
        "    dataset.export_to_json(f'processed_agent_{file_name}')\n",
        "    print(f\"✅ Exported to processed_agent_{file_name}\")\n",
        "    \n",
        "    # Export to CSV (optional)\n",
        "    dataset.export_to_csv('processed_agent_dataset.csv')\n",
        "    print(\"✅ Exported to processed_agent_dataset.csv\")\n",
        "    \n",
        "except Exception as e:\n",
        "    print(f\"❌ Export error: {e}\")\n",
        "\n",
        "print(\"\\n🎉 Demo completed successfully!\")\n",
        "print(\"\\n📋 Summary:\")\n",
        "print(f\"  - Processed {len(spans_data)} spans from {file_name}\")\n",
        "print(f\"  - Created {len(dataset.data)} AgentData records\")\n",
        "print(f\"  - Configured evaluation with Gemini model and 6 scorers\")\n",
        "if 'results' in locals():\n",
        "    print(f\"  - Successfully evaluated sample data\")\n",
        "print(f\"  - Exported processed dataset for future use\")\n"
      ]
    },
    {
      "cell_type": "code",
      "execution_count": null,
      "metadata": {},
      "outputs": [],
      "source": []
    }
  ],
  "metadata": {
    "kernelspec": {
      "display_name": ".venv",
      "language": "python",
      "name": "python3"
    },
    "language_info": {
      "codemirror_mode": {
        "name": "ipython",
        "version": 3
      },
      "file_extension": ".py",
      "mimetype": "text/x-python",
      "name": "python",
      "nbconvert_exporter": "python",
      "pygments_lexer": "ipython3",
      "version": "3.10.12"
    }
  },
  "nbformat": 4,
  "nbformat_minor": 2
}
