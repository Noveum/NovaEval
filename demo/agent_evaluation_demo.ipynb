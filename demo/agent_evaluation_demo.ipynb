{
  "cells": [
    {
      "cell_type": "markdown",
      "metadata": {},
      "source": [
        "# Agent Evaluation Demo with NovaEval\n",
        "\n",
        "This notebook demonstrates how to:\n",
        "1. Load agent trace data from dataset.json or dataset_tool_calls_removed.json\n",
        "2. Map trace spans to AgentData format\n",
        "3. Create an AgentDataset \n",
        "4. Evaluate agent performance using AgentEvaluator with Gemini model\n",
        "5. Analyze results with multiple scorers\n"
      ]
    },
    {
      "cell_type": "code",
      "execution_count": 12,
      "metadata": {},
      "outputs": [
        {
          "name": "stdout",
          "output_type": "stream",
          "text": [
            "✅ All imports successful!\n"
          ]
        }
      ],
      "source": [
        "import json\n",
        "import re\n",
        "from typing import Any, Dict, List, Optional, Union\n",
        "\n",
        "# NovaEval imports\n",
        "from novaeval.agents.agent_data import AgentData, ToolSchema, ToolCall, ToolResult\n",
        "from novaeval.datasets.agent_dataset import AgentDataset\n",
        "from novaeval.evaluators.agent_evaluator import AgentEvaluator\n",
        "from novaeval.models.gemini import GeminiModel\n",
        "from novaeval.scorers.agent_scorers import (\n",
        "    context_relevancy_scorer,\n",
        "    role_adherence_scorer,\n",
        "    task_progression_scorer,\n",
        "    tool_relevancy_scorer,\n",
        "    tool_correctness_scorer,\n",
        "    parameter_correctness_scorer\n",
        ")\n",
        "from dotenv import load_dotenv\n",
        "\n",
        "load_dotenv()\n",
        "\n",
        "print(\"✅ All imports successful!\")\n"
      ]
    },
    {
      "cell_type": "markdown",
      "metadata": {},
      "source": [
        "## Step 1: Load and Examine Dataset Structure\n"
      ]
    },
    {
      "cell_type": "code",
      "execution_count": 13,
      "metadata": {},
      "outputs": [
        {
          "name": "stdout",
          "output_type": "stream",
          "text": [
            "📊 Loaded 36 spans from dataset_tool_calls_removed.json\n",
            "\n",
            "🔍 Sample span types:\n",
            "  - chain_start.unknown: 2\n",
            "  - llm.openai: 8\n"
          ]
        }
      ],
      "source": [
        "# Load the dataset\n",
        "file_name = 'dataset_tool_calls_removed.json'\n",
        "with open(file_name, 'r') as f:\n",
        "    spans_data = json.load(f)\n",
        "\n",
        "print(f\"📊 Loaded {len(spans_data)} spans from {file_name}\")\n",
        "print(f\"\\n🔍 Sample span types:\")\n",
        "\n",
        "# Analyze span types\n",
        "span_types = {}\n",
        "for span in spans_data[:10]:  # Look at first 10 spans\n",
        "    span_name = span.get('name', 'unknown')\n",
        "    if span_name not in span_types:\n",
        "        span_types[span_name] = 0\n",
        "    span_types[span_name] += 1\n",
        "\n",
        "for span_type, count in span_types.items():\n",
        "    print(f\"  - {span_type}: {count}\")\n"
      ]
    },
    {
      "cell_type": "markdown",
      "metadata": {},
      "source": [
        "## Step 2: Implement Field Mapping Logic\n"
      ]
    },
    {
      "cell_type": "code",
      "execution_count": 14,
      "metadata": {},
      "outputs": [],
      "source": [
        "def parse_tools_from_prompt(prompt: str) -> List[ToolSchema]:\n",
        "    \"\"\"\n",
        "    Parse tool definitions from LLM prompts using regex.\n",
        "    \n",
        "    Expected format: tool_name(param: type = default) -> return_type - description\n",
        "    \"\"\"\n",
        "    # Pattern to match tool signatures\n",
        "    pattern = r'(\\w+)\\(([^)]*)\\)\\s*->\\s*(\\w+)\\s*-\\s*(.+?)(?=\\n\\w+\\(|$)'\n",
        "    matches = re.findall(pattern, prompt, re.DOTALL)\n",
        "    \n",
        "    tools = []\n",
        "    for match in matches:\n",
        "        tool_name, params_str, return_type, description = match\n",
        "        \n",
        "        # Parse parameters\n",
        "        args_schema = parse_params(params_str)\n",
        "        \n",
        "        tool = ToolSchema(\n",
        "            name=tool_name,\n",
        "            description=description.strip(),\n",
        "            args_schema=args_schema,\n",
        "            return_schema={\"type\": return_type}\n",
        "        )\n",
        "        tools.append(tool)\n",
        "    \n",
        "    return tools\n",
        "\n",
        "def parse_params(params_str: str) -> Dict[str, Any]:\n",
        "    \"\"\"\n",
        "    Parse parameter string into schema dictionary.\n",
        "    \n",
        "    Format: param_name: type = default_value\n",
        "    \"\"\"\n",
        "    if not params_str.strip():\n",
        "        return {}\n",
        "    \n",
        "    # Split parameters by comma\n",
        "    params = [p.strip() for p in params_str.split(',') if p.strip()]\n",
        "    schema = {}\n",
        "    \n",
        "    for param in params:\n",
        "        if ':' in param:\n",
        "            parts = param.split(':', 1)\n",
        "            param_name = parts[0].strip()\n",
        "            type_and_default = parts[1].strip()\n",
        "            \n",
        "            # Extract type and default value\n",
        "            if '=' in type_and_default:\n",
        "                type_part, default_part = type_and_default.split('=', 1)\n",
        "                param_type = type_part.strip()\n",
        "                default_val = default_part.strip().strip('\"\\'')\n",
        "                schema[param_name] = {'type': param_type, 'default': default_val}\n",
        "            else:\n",
        "                param_type = type_and_default.strip()\n",
        "                schema[param_name] = {'type': param_type}\n",
        "    \n",
        "    return schema\n",
        "\n",
        "def identify_span_type(span: Dict[str, Any]) -> str:\n",
        "    \"\"\"\n",
        "    Identify span type based on attributes.\n",
        "    \"\"\"\n",
        "    attributes = span.get('attributes', {})\n",
        "    \n",
        "    # Check for agent attributes\n",
        "    if any('chain.name' == key for key in attributes.keys()):\n",
        "        return 'agent'\n",
        "    \n",
        "    # Check for LLM attributes\n",
        "    if any('llm.model' == key for key in attributes.keys()):\n",
        "        return 'llm'\n",
        "    \n",
        "    # Check for tool attributes\n",
        "    if any('tool.name' == key for key in attributes.keys()):\n",
        "        return 'tool'\n",
        "    \n",
        "    return 'unknown'\n"
      ]
    },
    {
      "cell_type": "code",
      "execution_count": 15,
      "metadata": {},
      "outputs": [
        {
          "name": "stdout",
          "output_type": "stream",
          "text": [
            "✅ Field mapping functions defined!\n"
          ]
        }
      ],
      "source": [
        "def map_span_to_agent_data(span: Dict[str, Any]) -> AgentData:\n",
        "    \"\"\"\n",
        "    Map a single span from file_name to AgentData format.\n",
        "    \"\"\"\n",
        "    attributes = span.get('attributes', {})\n",
        "    events = span.get('events', [])\n",
        "    span_type = identify_span_type(span)\n",
        "\n",
        "    # Base mappings\n",
        "    data = {\n",
        "        'user_id': span.get('metadata', {}).get('user_id', None),\n",
        "        'task_id': span.get('trace_id'),\n",
        "        'turn_id': span.get('span_id'),\n",
        "        'ground_truth': None,\n",
        "        'expected_tool_call': None,\n",
        "        'agent_name': span_type,\n",
        "        'agent_role': span_type,\n",
        "        'system_prompt': \"You are a helpful customer support agent\",\n",
        "        'metadata': None,\n",
        "        'exit_status': span.get('status'),\n",
        "        'tools_available': [],\n",
        "        'tool_calls': [],\n",
        "        'parameters_passed': {},\n",
        "        'tool_call_results': [],\n",
        "        'retrieval_query': None,\n",
        "        'retrieved_context': None,\n",
        "        'agent_exit': False,\n",
        "        'trace': None\n",
        "    }\n",
        "    \n",
        "    # Span-specific mappings\n",
        "    if span_type == 'agent':\n",
        "        # Agent task\n",
        "        chain_inputs = attributes.get('chain.inputs', {})\n",
        "        if isinstance(chain_inputs, dict) and 'input' in chain_inputs:\n",
        "            data['agent_task'] = chain_inputs['input']\n",
        "        else:\n",
        "            print('agent_task not found')\n",
        "        # Agent response\n",
        "        finish_values = attributes.get('agent.output.finish.return_values', {})\n",
        "        if isinstance(finish_values, dict) and 'output' in finish_values:\n",
        "            data['agent_response'] = finish_values['output']\n",
        "        else:\n",
        "            print(\"agent_response is not available\")\n",
        "        # Tool calls from agent actions\n",
        "        tool_name = attributes.get('agent.output.action.tool')\n",
        "        tool_input = attributes.get('agent.output.action.tool_input')\n",
        "        \n",
        "        if tool_name:\n",
        "            tool_call = ToolCall(\n",
        "                tool_name=tool_name,\n",
        "                parameters={'input': tool_input} if tool_input else {},\n",
        "                call_id=span['span_id']\n",
        "            )\n",
        "            data['tool_calls'] = [tool_call]\n",
        "            data['parameters_passed'] = {'input': tool_input} if tool_input else {}\n",
        "            \n",
        "            # Handle retrieval query for langchain_retriever\n",
        "            if tool_name == 'langchain_retriever' and tool_input:\n",
        "                data['retrieval_query'] = [tool_input]\n",
        "        \n",
        "        # Agent exit status\n",
        "        data['agent_exit'] = any(event.get('name') == 'agent_finish' for event in events)\n",
        "        \n",
        "        # Trace (dump events as JSON)\n",
        "        if events:\n",
        "            data['trace'] = json.dumps(events)\n",
        "    \n",
        "    elif span_type == 'llm':\n",
        "        # Agent response from LLM output\n",
        "        llm_input = attributes.get('llm.input.prompts', ['input is not available'])\n",
        "        data['agent_task'] = llm_input[0]\n",
        "\n",
        "        llm_responses = attributes.get('llm.output.response', [])\n",
        "        if llm_responses:\n",
        "            data['agent_response'] = llm_responses[0]\n",
        "        else:\n",
        "            print(\"llm_response is not available\")\n",
        "        # Parse tools from prompt\n",
        "        prompts = attributes.get('llm.input.prompts', [])\n",
        "        if prompts:\n",
        "            try:\n",
        "                tools = parse_tools_from_prompt(prompts[0])\n",
        "                data['tools_available'] = tools\n",
        "            except Exception:\n",
        "                # Fallback to empty list if parsing fails\n",
        "                data['tools_available'] = []\n",
        "        \n",
        "        data['parameters_passed'] = {}\n",
        "    \n",
        "    elif span_type == 'tool':\n",
        "        # Agent response from tool output\n",
        "        tool_output = attributes.get('tool.output.output')\n",
        "        data['agent_task'] = f\"This is a simple tool call, and the tool will execute as programmed. Its name is - {attributes.get('tool.name')}\"\n",
        "        if tool_output:\n",
        "            data['agent_response'] = tool_output\n",
        "        else:\n",
        "            print(\"tool_output is not available\")\n",
        "        # Tool call results\n",
        "        tool_name = attributes.get('tool.name')\n",
        "        if tool_name and tool_output is not None:\n",
        "            tool_result = ToolResult(\n",
        "                call_id=span['span_id'],\n",
        "                result=tool_output,\n",
        "                success=span.get('status') == 'ok',\n",
        "                error_message=None if span.get('status') == 'ok' else 'Tool execution failed'\n",
        "            )\n",
        "            data['tool_call_results'] = [tool_result]\n",
        "            \n",
        "            # Handle retrieved context for langchain_retriever\n",
        "            if tool_name == 'langchain_retriever':\n",
        "                data['retrieved_context'] = [[tool_output]]\n",
        "        \n",
        "        # Parameters from tool input\n",
        "        tool_input_keys = [key for key in attributes.keys() if key.startswith('tool.input.')]\n",
        "        tool_params = {}\n",
        "        for key in tool_input_keys:\n",
        "            param_name = key.replace('tool.input.', '')\n",
        "            tool_params[param_name] = attributes[key]\n",
        "        data['parameters_passed'] = tool_params\n",
        "    \n",
        "    return AgentData(**data)\n",
        "\n",
        "print(\"✅ Field mapping functions defined!\")\n"
      ]
    },
    {
      "cell_type": "markdown",
      "metadata": {},
      "source": [
        "## Step 3: Create AgentDataset from Spans\n"
      ]
    },
    {
      "cell_type": "code",
      "execution_count": 16,
      "metadata": {},
      "outputs": [
        {
          "name": "stdout",
          "output_type": "stream",
          "text": [
            "🔄 Converting spans to AgentData objects...\n",
            "\n",
            "✅ Successfully converted 36 spans to AgentData\n",
            "📊 AgentDataset created with 36 records\n"
          ]
        }
      ],
      "source": [
        "# Convert spans to AgentData objects\n",
        "print(\"🔄 Converting spans to AgentData objects...\")\n",
        "\n",
        "agent_data_list = []\n",
        "errors = []\n",
        "\n",
        "for i, span in enumerate(spans_data):\n",
        "    try:\n",
        "        agent_data = map_span_to_agent_data(span)\n",
        "        agent_data_list.append(agent_data)\n",
        "    except Exception as e:\n",
        "        errors.append(f\"Span {i}: {str(e)}\")\n",
        "        if len(errors) <= 5:  # Show first 5 errors only\n",
        "            print(f\"⚠️  Error processing span {i}: {e}\")\n",
        "\n",
        "print(f\"\\n✅ Successfully converted {len(agent_data_list)} spans to AgentData\")\n",
        "if errors:\n",
        "    print(f\"❌ {len(errors)} spans had errors\")\n",
        "\n",
        "# Create AgentDataset\n",
        "dataset = AgentDataset()\n",
        "dataset.data = agent_data_list\n",
        "\n",
        "print(f\"📊 AgentDataset created with {len(dataset.data)} records\")\n"
      ]
    },
    {
      "cell_type": "markdown",
      "metadata": {},
      "source": [
        "## Step 4: Examine Sample Data\n"
      ]
    },
    {
      "cell_type": "code",
      "execution_count": 17,
      "metadata": {},
      "outputs": [
        {
          "name": "stdout",
          "output_type": "stream",
          "text": [
            "📈 Dataset Statistics:\n",
            "\n",
            "Agent Types: {'agent': 8, 'llm': 28}\n",
            "Records with responses: 36\n",
            "Records with tool calls: 7\n",
            "Records with retrieval: 2\n",
            "Tool usage: {'user_input': 5, 'langchain_retriever': 2}\n",
            "\n",
            "🔍 Sample AgentData records:\n",
            "\n",
            "--- Record 1 (agent) ---\n",
            "Task: Keep using user_input tool, until i tell you to exit...\n",
            "Response: The user's query has been escalated to human customer support for further assistance....\n",
            "Tool calls: 1\n",
            "Exit status: ok\n",
            "\n",
            "--- Record 2 (llm) ---\n",
            "Task: Human: Answer the following questions as best you can. You have access to the following tools:\n",
            "\n",
            "esca...\n",
            "Response: I need to prompt the user for more information until instructed otherwise.\n",
            "Action: user_input\n",
            "Action...\n",
            "Tool calls: 0\n",
            "Exit status: ok\n",
            "\n",
            "--- Record 3 (llm) ---\n",
            "Task: Human: Answer the following questions as best you can. You have access to the following tools:\n",
            "\n",
            "esca...\n",
            "Response: I need to continue prompting for more information.\n",
            "Action: user_input\n",
            "Action Input: Please provide m...\n",
            "Tool calls: 0\n",
            "Exit status: ok\n"
          ]
        }
      ],
      "source": [
        "# Show statistics about the dataset\n",
        "print(\"📈 Dataset Statistics:\")\n",
        "\n",
        "agent_types = {}\n",
        "tool_usage = {}\n",
        "with_responses = 0\n",
        "with_tool_calls = 0\n",
        "with_retrieval = 0\n",
        "\n",
        "for data in dataset.data:\n",
        "    # Agent types\n",
        "    if data.agent_name:\n",
        "        agent_types[data.agent_name] = agent_types.get(data.agent_name, 0) + 1\n",
        "    \n",
        "    # Responses\n",
        "    if data.agent_response:\n",
        "        with_responses += 1\n",
        "    \n",
        "    # Tool calls\n",
        "    if data.tool_calls:\n",
        "        with_tool_calls += 1\n",
        "        for tool_call in data.tool_calls:\n",
        "            if hasattr(tool_call, 'tool_name'):\n",
        "                tool_usage[tool_call.tool_name] = tool_usage.get(tool_call.tool_name, 0) + 1\n",
        "    \n",
        "    # Retrieval\n",
        "    if data.retrieval_query:\n",
        "        with_retrieval += 1\n",
        "\n",
        "print(f\"\\nAgent Types: {dict(agent_types)}\")\n",
        "print(f\"Records with responses: {with_responses}\")\n",
        "print(f\"Records with tool calls: {with_tool_calls}\")\n",
        "print(f\"Records with retrieval: {with_retrieval}\")\n",
        "print(f\"Tool usage: {dict(tool_usage)}\")\n",
        "\n",
        "# Show sample records\n",
        "print(\"\\n🔍 Sample AgentData records:\")\n",
        "for i, data in enumerate(dataset.data[:3]):\n",
        "    print(f\"\\n--- Record {i+1} ({data.agent_name}) ---\")\n",
        "    print(f\"Task: {data.agent_task[:100] if data.agent_task else 'None'}...\")\n",
        "    print(f\"Response: {data.agent_response[:100] if data.agent_response else 'None'}...\")\n",
        "    print(f\"Tool calls: {len(data.tool_calls) if data.tool_calls else 0}\")\n",
        "    print(f\"Exit status: {data.exit_status}\")\n"
      ]
    },
    {
      "cell_type": "markdown",
      "metadata": {},
      "source": [
        "## Step 5: Setup Gemini Model and Evaluator\n"
      ]
    },
    {
      "cell_type": "code",
      "execution_count": 18,
      "metadata": {},
      "outputs": [
        {
          "name": "stdout",
          "output_type": "stream",
          "text": [
            "✅ GEMINI_API_KEY found in environment\n",
            "2025-09-15 00:55:45 - INFO - novaeval.models.base - Noveum tracing initialized successfully\n",
            "✅ Gemini model initialized\n"
          ]
        }
      ],
      "source": [
        "import os\n",
        "\n",
        "# Check for API key\n",
        "if 'GEMINI_API_KEY' not in os.environ:\n",
        "    print(\"⚠️  GEMINI_API_KEY environment variable not set!\")\n",
        "    print(\"Please set it before running evaluation:\")\n",
        "    print(\"export GEMINI_API_KEY='your-api-key-here'\")\n",
        "else:\n",
        "    print(\"✅ GEMINI_API_KEY found in environment\")\n",
        "\n",
        "# Initialize Gemini model\n",
        "try:\n",
        "    gemini_model = GeminiModel(\n",
        "        model_name=\"gemini-1.5-flash\",  # Using flash model for cost efficiency\n",
        "        temperature=0.1,  # Low temperature for consistent evaluation\n",
        "        max_tokens=1024\n",
        "    )\n",
        "    print(\"✅ Gemini model initialized\")\n",
        "except Exception as e:\n",
        "    print(f\"❌ Error initializing Gemini model: {e}\")\n",
        "    gemini_model = None\n"
      ]
    },
    {
      "cell_type": "code",
      "execution_count": 24,
      "metadata": {},
      "outputs": [
        {
          "name": "stdout",
          "output_type": "stream",
          "text": [
            "✅ Initialized 5 scoring functions:\n",
            "  - task_progression_scorer\n",
            "  - context_relevancy_scorer\n",
            "  - role_adherence_scorer\n",
            "  - tool_relevancy_scorer\n",
            "  - parameter_correctness_scorer\n",
            "\n",
            "✅ AgentEvaluator created with Gemini model and scoring functions\n"
          ]
        }
      ],
      "source": [
        "# Initialize scoring functions for evaluation\n",
        "scoring_functions = [\n",
        "    task_progression_scorer,\n",
        "    context_relevancy_scorer,\n",
        "    role_adherence_scorer,\n",
        "    tool_relevancy_scorer,\n",
        "    parameter_correctness_scorer\n",
        "]\n",
        "\n",
        "print(f\"✅ Initialized {len(scoring_functions)} scoring functions:\")\n",
        "for func in scoring_functions:\n",
        "    print(f\"  - {func.__name__}\")\n",
        "\n",
        "# Create AgentEvaluator\n",
        "if gemini_model:\n",
        "    evaluator = AgentEvaluator(\n",
        "        agent_dataset=dataset,\n",
        "        models=[gemini_model],\n",
        "        scoring_functions=scoring_functions,\n",
        "        output_dir=\"./demo_results\",\n",
        "        stream=False,\n",
        "        include_reasoning=True\n",
        "    )\n",
        "    print(\"\\n✅ AgentEvaluator created with Gemini model and scoring functions\")\n",
        "else:\n",
        "    print(\"\\n❌ Cannot create evaluator - Gemini model not available\")\n"
      ]
    },
    {
      "cell_type": "markdown",
      "metadata": {},
      "source": [
        "## Step 6: Run Evaluation (Sample)\n"
      ]
    },
    {
      "cell_type": "code",
      "execution_count": 23,
      "metadata": {},
      "outputs": [
        {
          "name": "stdout",
          "output_type": "stream",
          "text": [
            "🚀 Running evaluation on sample data...\n",
            "\n",
            "📊 Evaluating 36 sample records...\n",
            "2025-09-15 01:23:18 - INFO - novaeval.evaluators.agent_evaluator - Starting agent evaluation process\n"
          ]
        },
        {
          "name": "stderr",
          "output_type": "stream",
          "text": [
            "Evaluating samples: 0it [00:00, ?it/s]"
          ]
        },
        {
          "name": "stdout",
          "output_type": "stream",
          "text": [
            "2025-09-15 01:23:18 - INFO - google_genai.models - AFC is enabled with max remote calls: 10.\n",
            "2025-09-15 01:23:21 - INFO - google_genai.models - AFC remote call 1 is done.\n"
          ]
        },
        {
          "name": "stderr",
          "output_type": "stream",
          "text": [
            "2025-09-15 01:23:21 - noveum_trace.transport.http_transport - INFO - 📤 EXPORTING TRACE: auto_trace_generate (ID: aff2f82e-be33-43b9-88b2-80e7bca009d1) - 1 spans\n",
            "2025-09-15 01:23:21 - noveum_trace.transport.batch_processor - INFO - 📥 ADDING TRACE TO QUEUE: auto_trace_generate (ID: aff2f82e-be33-43b9-88b2-80e7bca009d1) - 1 spans\n",
            "2025-09-15 01:23:21 - noveum_trace.transport.batch_processor - INFO - ✅ Successfully queued trace aff2f82e-be33-43b9-88b2-80e7bca009d1\n",
            "2025-09-15 01:23:21 - noveum_trace.transport.http_transport - INFO - ✅ Trace aff2f82e-be33-43b9-88b2-80e7bca009d1 successfully queued for export\n"
          ]
        },
        {
          "name": "stdout",
          "output_type": "stream",
          "text": [
            "2025-09-15 01:23:21 - INFO - google_genai.models - AFC is enabled with max remote calls: 10.\n",
            "2025-09-15 01:23:21 - ERROR - novaeval.models.base - Error: 429 RESOURCE_EXHAUSTED. {'error': {'code': 429, 'message': 'You exceeded your current quota, please check your plan and billing details. For more information on this error, head to: https://ai.google.dev/gemini-api/docs/rate-limits.', 'status': 'RESOURCE_EXHAUSTED', 'details': [{'@type': 'type.googleapis.com/google.rpc.QuotaFailure', 'violations': [{'quotaMetric': 'generativelanguage.googleapis.com/generate_content_free_tier_requests', 'quotaId': 'GenerateRequestsPerDayPerProjectPerModel-FreeTier', 'quotaDimensions': {'location': 'global', 'model': 'gemini-1.5-flash'}, 'quotaValue': '50'}]}, {'@type': 'type.googleapis.com/google.rpc.Help', 'links': [{'description': 'Learn more about Gemini API quotas', 'url': 'https://ai.google.dev/gemini-api/docs/rate-limits'}]}, {'@type': 'type.googleapis.com/google.rpc.RetryInfo', 'retryDelay': '38s'}]}}\n"
          ]
        },
        {
          "name": "stderr",
          "output_type": "stream",
          "text": [
            "2025-09-15 01:23:21 - noveum_trace.transport.http_transport - INFO - 📤 EXPORTING TRACE: auto_trace_generate (ID: 38b60b61-9d5a-4184-a0a3-f751e636647d) - 1 spans\n",
            "2025-09-15 01:23:21 - noveum_trace.transport.batch_processor - INFO - 📥 ADDING TRACE TO QUEUE: auto_trace_generate (ID: 38b60b61-9d5a-4184-a0a3-f751e636647d) - 1 spans\n",
            "2025-09-15 01:23:21 - noveum_trace.transport.batch_processor - INFO - ✅ Successfully queued trace 38b60b61-9d5a-4184-a0a3-f751e636647d\n",
            "2025-09-15 01:23:21 - noveum_trace.transport.http_transport - INFO - ✅ Trace 38b60b61-9d5a-4184-a0a3-f751e636647d successfully queued for export\n"
          ]
        },
        {
          "name": "stdout",
          "output_type": "stream",
          "text": [
            "2025-09-15 01:23:21 - INFO - google_genai.models - AFC is enabled with max remote calls: 10.\n",
            "2025-09-15 01:23:23 - ERROR - novaeval.models.base - Error: 429 RESOURCE_EXHAUSTED. {'error': {'code': 429, 'message': 'You exceeded your current quota, please check your plan and billing details. For more information on this error, head to: https://ai.google.dev/gemini-api/docs/rate-limits.', 'status': 'RESOURCE_EXHAUSTED', 'details': [{'@type': 'type.googleapis.com/google.rpc.QuotaFailure', 'violations': [{'quotaMetric': 'generativelanguage.googleapis.com/generate_content_free_tier_requests', 'quotaId': 'GenerateRequestsPerDayPerProjectPerModel-FreeTier', 'quotaDimensions': {'model': 'gemini-1.5-flash', 'location': 'global'}, 'quotaValue': '50'}]}, {'@type': 'type.googleapis.com/google.rpc.Help', 'links': [{'description': 'Learn more about Gemini API quotas', 'url': 'https://ai.google.dev/gemini-api/docs/rate-limits'}]}, {'@type': 'type.googleapis.com/google.rpc.RetryInfo', 'retryDelay': '37s'}]}}\n"
          ]
        },
        {
          "name": "stderr",
          "output_type": "stream",
          "text": [
            "2025-09-15 01:23:23 - noveum_trace.transport.http_transport - INFO - 📤 EXPORTING TRACE: auto_trace_generate (ID: 20294026-d0a7-4487-bab1-060e62f08f21) - 1 spans\n",
            "2025-09-15 01:23:23 - noveum_trace.transport.batch_processor - INFO - 📥 ADDING TRACE TO QUEUE: auto_trace_generate (ID: 20294026-d0a7-4487-bab1-060e62f08f21) - 1 spans\n",
            "2025-09-15 01:23:23 - noveum_trace.transport.batch_processor - INFO - ✅ Successfully queued trace 20294026-d0a7-4487-bab1-060e62f08f21\n",
            "2025-09-15 01:23:23 - noveum_trace.transport.http_transport - INFO - ✅ Trace 20294026-d0a7-4487-bab1-060e62f08f21 successfully queued for export\n"
          ]
        },
        {
          "name": "stdout",
          "output_type": "stream",
          "text": [
            "2025-09-15 01:23:23 - INFO - google_genai.models - AFC is enabled with max remote calls: 10.\n",
            "2025-09-15 01:23:23 - ERROR - novaeval.models.base - Error: 429 RESOURCE_EXHAUSTED. {'error': {'code': 429, 'message': 'You exceeded your current quota, please check your plan and billing details. For more information on this error, head to: https://ai.google.dev/gemini-api/docs/rate-limits.', 'status': 'RESOURCE_EXHAUSTED', 'details': [{'@type': 'type.googleapis.com/google.rpc.QuotaFailure', 'violations': [{'quotaMetric': 'generativelanguage.googleapis.com/generate_content_free_tier_requests', 'quotaId': 'GenerateRequestsPerDayPerProjectPerModel-FreeTier', 'quotaDimensions': {'model': 'gemini-1.5-flash', 'location': 'global'}, 'quotaValue': '50'}]}, {'@type': 'type.googleapis.com/google.rpc.Help', 'links': [{'description': 'Learn more about Gemini API quotas', 'url': 'https://ai.google.dev/gemini-api/docs/rate-limits'}]}, {'@type': 'type.googleapis.com/google.rpc.RetryInfo', 'retryDelay': '36s'}]}}\n"
          ]
        },
        {
          "name": "stderr",
          "output_type": "stream",
          "text": [
            "2025-09-15 01:23:23 - noveum_trace.transport.http_transport - INFO - 📤 EXPORTING TRACE: auto_trace_generate (ID: a34f7e31-0b03-4c59-88d1-480034a8f0fa) - 1 spans\n",
            "2025-09-15 01:23:23 - noveum_trace.transport.batch_processor - INFO - 📥 ADDING TRACE TO QUEUE: auto_trace_generate (ID: a34f7e31-0b03-4c59-88d1-480034a8f0fa) - 1 spans\n",
            "2025-09-15 01:23:23 - noveum_trace.transport.batch_processor - INFO - ✅ Successfully queued trace a34f7e31-0b03-4c59-88d1-480034a8f0fa\n",
            "2025-09-15 01:23:23 - noveum_trace.transport.http_transport - INFO - ✅ Trace a34f7e31-0b03-4c59-88d1-480034a8f0fa successfully queued for export\n"
          ]
        },
        {
          "name": "stdout",
          "output_type": "stream",
          "text": [
            "2025-09-15 01:23:23 - INFO - google_genai.models - AFC is enabled with max remote calls: 10.\n",
            "2025-09-15 01:23:25 - INFO - google_genai.models - AFC remote call 1 is done.\n"
          ]
        },
        {
          "name": "stderr",
          "output_type": "stream",
          "text": [
            "2025-09-15 01:23:25 - noveum_trace.transport.http_transport - INFO - 📤 EXPORTING TRACE: auto_trace_generate (ID: 9d2f989d-3ef7-4ad8-9362-4173a0311079) - 1 spans\n",
            "2025-09-15 01:23:25 - noveum_trace.transport.batch_processor - INFO - 📥 ADDING TRACE TO QUEUE: auto_trace_generate (ID: 9d2f989d-3ef7-4ad8-9362-4173a0311079) - 1 spans\n",
            "2025-09-15 01:23:25 - noveum_trace.transport.batch_processor - INFO - ✅ Successfully queued trace 9d2f989d-3ef7-4ad8-9362-4173a0311079\n",
            "2025-09-15 01:23:25 - noveum_trace.transport.http_transport - INFO - ✅ Trace 9d2f989d-3ef7-4ad8-9362-4173a0311079 successfully queued for export\n"
          ]
        },
        {
          "name": "stdout",
          "output_type": "stream",
          "text": [
            "2025-09-15 01:23:25 - INFO - novaeval.evaluators.agent_evaluator - Saving intermediate results after 1 samples\n",
            "2025-09-15 01:23:25 - INFO - novaeval.evaluators.agent_evaluator - Intermediate results saved to demo_results/sample_evaluation/agent_evaluation_results.csv\n"
          ]
        },
        {
          "name": "stderr",
          "output_type": "stream",
          "text": [
            "Evaluating samples: 1it [00:06,  6.72s/it]"
          ]
        },
        {
          "name": "stdout",
          "output_type": "stream",
          "text": [
            "2025-09-15 01:23:25 - INFO - google_genai.models - AFC is enabled with max remote calls: 10.\n",
            "2025-09-15 01:23:26 - INFO - google_genai.models - AFC remote call 1 is done.\n"
          ]
        },
        {
          "name": "stderr",
          "output_type": "stream",
          "text": [
            "2025-09-15 01:23:26 - noveum_trace.transport.http_transport - INFO - 📤 EXPORTING TRACE: auto_trace_generate (ID: cbc751a8-b9b8-4dca-8c4e-18754040a354) - 1 spans\n",
            "2025-09-15 01:23:26 - noveum_trace.transport.batch_processor - INFO - 📥 ADDING TRACE TO QUEUE: auto_trace_generate (ID: cbc751a8-b9b8-4dca-8c4e-18754040a354) - 1 spans\n",
            "2025-09-15 01:23:26 - noveum_trace.transport.batch_processor - INFO - ✅ Successfully queued trace cbc751a8-b9b8-4dca-8c4e-18754040a354\n",
            "2025-09-15 01:23:26 - noveum_trace.transport.http_transport - INFO - ✅ Trace cbc751a8-b9b8-4dca-8c4e-18754040a354 successfully queued for export\n"
          ]
        },
        {
          "name": "stdout",
          "output_type": "stream",
          "text": [
            "2025-09-15 01:23:26 - INFO - google_genai.models - AFC is enabled with max remote calls: 10.\n",
            "2025-09-15 01:23:27 - ERROR - novaeval.models.base - Error: 429 RESOURCE_EXHAUSTED. {'error': {'code': 429, 'message': 'You exceeded your current quota, please check your plan and billing details. For more information on this error, head to: https://ai.google.dev/gemini-api/docs/rate-limits.', 'status': 'RESOURCE_EXHAUSTED', 'details': [{'@type': 'type.googleapis.com/google.rpc.QuotaFailure', 'violations': [{'quotaMetric': 'generativelanguage.googleapis.com/generate_content_free_tier_requests', 'quotaId': 'GenerateRequestsPerDayPerProjectPerModel-FreeTier', 'quotaDimensions': {'location': 'global', 'model': 'gemini-1.5-flash'}, 'quotaValue': '50'}]}, {'@type': 'type.googleapis.com/google.rpc.Help', 'links': [{'description': 'Learn more about Gemini API quotas', 'url': 'https://ai.google.dev/gemini-api/docs/rate-limits'}]}, {'@type': 'type.googleapis.com/google.rpc.RetryInfo', 'retryDelay': '33s'}]}}\n"
          ]
        },
        {
          "name": "stderr",
          "output_type": "stream",
          "text": [
            "2025-09-15 01:23:27 - noveum_trace.transport.http_transport - INFO - 📤 EXPORTING TRACE: auto_trace_generate (ID: c26bd88e-d61a-4d72-96ff-74ead9b1e5a4) - 1 spans\n",
            "2025-09-15 01:23:27 - noveum_trace.transport.batch_processor - INFO - 📥 ADDING TRACE TO QUEUE: auto_trace_generate (ID: c26bd88e-d61a-4d72-96ff-74ead9b1e5a4) - 1 spans\n",
            "2025-09-15 01:23:27 - noveum_trace.transport.batch_processor - INFO - ✅ Successfully queued trace c26bd88e-d61a-4d72-96ff-74ead9b1e5a4\n",
            "2025-09-15 01:23:27 - noveum_trace.transport.http_transport - INFO - ✅ Trace c26bd88e-d61a-4d72-96ff-74ead9b1e5a4 successfully queued for export\n"
          ]
        },
        {
          "name": "stdout",
          "output_type": "stream",
          "text": [
            "2025-09-15 01:23:27 - INFO - google_genai.models - AFC is enabled with max remote calls: 10.\n",
            "2025-09-15 01:23:28 - ERROR - novaeval.models.base - Error: 429 RESOURCE_EXHAUSTED. {'error': {'code': 429, 'message': 'You exceeded your current quota, please check your plan and billing details. For more information on this error, head to: https://ai.google.dev/gemini-api/docs/rate-limits.', 'status': 'RESOURCE_EXHAUSTED', 'details': [{'@type': 'type.googleapis.com/google.rpc.QuotaFailure', 'violations': [{'quotaMetric': 'generativelanguage.googleapis.com/generate_content_free_tier_requests', 'quotaId': 'GenerateRequestsPerDayPerProjectPerModel-FreeTier', 'quotaDimensions': {'location': 'global', 'model': 'gemini-1.5-flash'}, 'quotaValue': '50'}]}, {'@type': 'type.googleapis.com/google.rpc.Help', 'links': [{'description': 'Learn more about Gemini API quotas', 'url': 'https://ai.google.dev/gemini-api/docs/rate-limits'}]}, {'@type': 'type.googleapis.com/google.rpc.RetryInfo', 'retryDelay': '31s'}]}}\n"
          ]
        },
        {
          "name": "stderr",
          "output_type": "stream",
          "text": [
            "2025-09-15 01:23:28 - noveum_trace.transport.http_transport - INFO - 📤 EXPORTING TRACE: auto_trace_generate (ID: f9fff47e-b8da-456c-852b-f2b1ccce1cce) - 1 spans\n",
            "2025-09-15 01:23:28 - noveum_trace.transport.batch_processor - INFO - 📥 ADDING TRACE TO QUEUE: auto_trace_generate (ID: f9fff47e-b8da-456c-852b-f2b1ccce1cce) - 1 spans\n",
            "2025-09-15 01:23:28 - noveum_trace.transport.batch_processor - INFO - ✅ Successfully queued trace f9fff47e-b8da-456c-852b-f2b1ccce1cce\n",
            "2025-09-15 01:23:28 - noveum_trace.transport.http_transport - INFO - ✅ Trace f9fff47e-b8da-456c-852b-f2b1ccce1cce successfully queued for export\n"
          ]
        },
        {
          "name": "stdout",
          "output_type": "stream",
          "text": [
            "2025-09-15 01:23:28 - INFO - novaeval.evaluators.agent_evaluator - Saving intermediate results after 2 samples\n",
            "2025-09-15 01:23:28 - INFO - novaeval.evaluators.agent_evaluator - Intermediate results saved to demo_results/sample_evaluation/agent_evaluation_results.csv\n"
          ]
        },
        {
          "name": "stderr",
          "output_type": "stream",
          "text": [
            "Evaluating samples: 2it [00:09,  4.40s/it]"
          ]
        },
        {
          "name": "stdout",
          "output_type": "stream",
          "text": [
            "2025-09-15 01:23:28 - INFO - google_genai.models - AFC is enabled with max remote calls: 10.\n",
            "2025-09-15 01:23:28 - ERROR - novaeval.models.base - Error: 429 RESOURCE_EXHAUSTED. {'error': {'code': 429, 'message': 'You exceeded your current quota, please check your plan and billing details. For more information on this error, head to: https://ai.google.dev/gemini-api/docs/rate-limits.', 'status': 'RESOURCE_EXHAUSTED', 'details': [{'@type': 'type.googleapis.com/google.rpc.QuotaFailure', 'violations': [{'quotaMetric': 'generativelanguage.googleapis.com/generate_content_free_tier_requests', 'quotaId': 'GenerateRequestsPerDayPerProjectPerModel-FreeTier', 'quotaDimensions': {'location': 'global', 'model': 'gemini-1.5-flash'}, 'quotaValue': '50'}]}, {'@type': 'type.googleapis.com/google.rpc.Help', 'links': [{'description': 'Learn more about Gemini API quotas', 'url': 'https://ai.google.dev/gemini-api/docs/rate-limits'}]}, {'@type': 'type.googleapis.com/google.rpc.RetryInfo', 'retryDelay': '31s'}]}}\n"
          ]
        },
        {
          "name": "stderr",
          "output_type": "stream",
          "text": [
            "2025-09-15 01:23:28 - noveum_trace.transport.http_transport - INFO - 📤 EXPORTING TRACE: auto_trace_generate (ID: 5ab5518e-1d79-4b52-902e-6c607cc9bb6a) - 1 spans\n",
            "2025-09-15 01:23:28 - noveum_trace.transport.batch_processor - INFO - 📥 ADDING TRACE TO QUEUE: auto_trace_generate (ID: 5ab5518e-1d79-4b52-902e-6c607cc9bb6a) - 1 spans\n",
            "2025-09-15 01:23:28 - noveum_trace.transport.batch_processor - INFO - ✅ Successfully queued trace 5ab5518e-1d79-4b52-902e-6c607cc9bb6a\n",
            "2025-09-15 01:23:28 - noveum_trace.transport.http_transport - INFO - ✅ Trace 5ab5518e-1d79-4b52-902e-6c607cc9bb6a successfully queued for export\n"
          ]
        },
        {
          "name": "stdout",
          "output_type": "stream",
          "text": [
            "2025-09-15 01:23:28 - INFO - google_genai.models - AFC is enabled with max remote calls: 10.\n",
            "2025-09-15 01:23:29 - ERROR - novaeval.models.base - Error: 429 RESOURCE_EXHAUSTED. {'error': {'code': 429, 'message': 'You exceeded your current quota, please check your plan and billing details. For more information on this error, head to: https://ai.google.dev/gemini-api/docs/rate-limits.', 'status': 'RESOURCE_EXHAUSTED', 'details': [{'@type': 'type.googleapis.com/google.rpc.QuotaFailure', 'violations': [{'quotaMetric': 'generativelanguage.googleapis.com/generate_content_free_tier_requests', 'quotaId': 'GenerateRequestsPerDayPerProjectPerModel-FreeTier', 'quotaDimensions': {'location': 'global', 'model': 'gemini-1.5-flash'}, 'quotaValue': '50'}]}, {'@type': 'type.googleapis.com/google.rpc.Help', 'links': [{'description': 'Learn more about Gemini API quotas', 'url': 'https://ai.google.dev/gemini-api/docs/rate-limits'}]}, {'@type': 'type.googleapis.com/google.rpc.RetryInfo', 'retryDelay': '30s'}]}}\n"
          ]
        },
        {
          "name": "stderr",
          "output_type": "stream",
          "text": [
            "2025-09-15 01:23:29 - noveum_trace.transport.http_transport - INFO - 📤 EXPORTING TRACE: auto_trace_generate (ID: 77367bf2-31bf-438d-bf14-f29b383416f0) - 1 spans\n",
            "2025-09-15 01:23:29 - noveum_trace.transport.batch_processor - INFO - 📥 ADDING TRACE TO QUEUE: auto_trace_generate (ID: 77367bf2-31bf-438d-bf14-f29b383416f0) - 1 spans\n",
            "2025-09-15 01:23:29 - noveum_trace.transport.batch_processor - INFO - ✅ Successfully queued trace 77367bf2-31bf-438d-bf14-f29b383416f0\n",
            "2025-09-15 01:23:29 - noveum_trace.transport.http_transport - INFO - ✅ Trace 77367bf2-31bf-438d-bf14-f29b383416f0 successfully queued for export\n"
          ]
        },
        {
          "name": "stdout",
          "output_type": "stream",
          "text": [
            "2025-09-15 01:23:29 - INFO - google_genai.models - AFC is enabled with max remote calls: 10.\n",
            "2025-09-15 01:23:30 - ERROR - novaeval.models.base - Error: 429 RESOURCE_EXHAUSTED. {'error': {'code': 429, 'message': 'You exceeded your current quota, please check your plan and billing details. For more information on this error, head to: https://ai.google.dev/gemini-api/docs/rate-limits.', 'status': 'RESOURCE_EXHAUSTED', 'details': [{'@type': 'type.googleapis.com/google.rpc.QuotaFailure', 'violations': [{'quotaMetric': 'generativelanguage.googleapis.com/generate_content_free_tier_requests', 'quotaId': 'GenerateRequestsPerDayPerProjectPerModel-FreeTier', 'quotaDimensions': {'location': 'global', 'model': 'gemini-1.5-flash'}, 'quotaValue': '50'}]}, {'@type': 'type.googleapis.com/google.rpc.Help', 'links': [{'description': 'Learn more about Gemini API quotas', 'url': 'https://ai.google.dev/gemini-api/docs/rate-limits'}]}, {'@type': 'type.googleapis.com/google.rpc.RetryInfo', 'retryDelay': '29s'}]}}\n"
          ]
        },
        {
          "name": "stderr",
          "output_type": "stream",
          "text": [
            "2025-09-15 01:23:30 - noveum_trace.transport.http_transport - INFO - 📤 EXPORTING TRACE: auto_trace_generate (ID: e07b88e0-5895-4fe2-ab7a-098cb0284ec4) - 1 spans\n",
            "2025-09-15 01:23:30 - noveum_trace.transport.batch_processor - INFO - 📥 ADDING TRACE TO QUEUE: auto_trace_generate (ID: e07b88e0-5895-4fe2-ab7a-098cb0284ec4) - 1 spans\n",
            "2025-09-15 01:23:30 - noveum_trace.transport.batch_processor - INFO - ✅ Successfully queued trace e07b88e0-5895-4fe2-ab7a-098cb0284ec4\n",
            "2025-09-15 01:23:30 - noveum_trace.transport.http_transport - INFO - ✅ Trace e07b88e0-5895-4fe2-ab7a-098cb0284ec4 successfully queued for export\n"
          ]
        },
        {
          "name": "stdout",
          "output_type": "stream",
          "text": [
            "2025-09-15 01:23:30 - INFO - novaeval.evaluators.agent_evaluator - Saving intermediate results after 3 samples\n",
            "2025-09-15 01:23:30 - INFO - novaeval.evaluators.agent_evaluator - Intermediate results saved to demo_results/sample_evaluation/agent_evaluation_results.csv\n"
          ]
        },
        {
          "name": "stderr",
          "output_type": "stream",
          "text": [
            "Evaluating samples: 3it [00:11,  3.42s/it]"
          ]
        },
        {
          "name": "stdout",
          "output_type": "stream",
          "text": [
            "2025-09-15 01:23:30 - INFO - google_genai.models - AFC is enabled with max remote calls: 10.\n",
            "2025-09-15 01:23:31 - ERROR - novaeval.models.base - Error: 429 RESOURCE_EXHAUSTED. {'error': {'code': 429, 'message': 'You exceeded your current quota, please check your plan and billing details. For more information on this error, head to: https://ai.google.dev/gemini-api/docs/rate-limits.', 'status': 'RESOURCE_EXHAUSTED', 'details': [{'@type': 'type.googleapis.com/google.rpc.QuotaFailure', 'violations': [{'quotaMetric': 'generativelanguage.googleapis.com/generate_content_free_tier_requests', 'quotaId': 'GenerateRequestsPerDayPerProjectPerModel-FreeTier', 'quotaDimensions': {'location': 'global', 'model': 'gemini-1.5-flash'}, 'quotaValue': '50'}]}, {'@type': 'type.googleapis.com/google.rpc.Help', 'links': [{'description': 'Learn more about Gemini API quotas', 'url': 'https://ai.google.dev/gemini-api/docs/rate-limits'}]}, {'@type': 'type.googleapis.com/google.rpc.RetryInfo', 'retryDelay': '28s'}]}}\n"
          ]
        },
        {
          "name": "stderr",
          "output_type": "stream",
          "text": [
            "2025-09-15 01:23:31 - noveum_trace.transport.http_transport - INFO - 📤 EXPORTING TRACE: auto_trace_generate (ID: 61b52918-aa15-4cca-80ef-b4f1d0e68374) - 1 spans\n",
            "2025-09-15 01:23:31 - noveum_trace.transport.batch_processor - INFO - 📥 ADDING TRACE TO QUEUE: auto_trace_generate (ID: 61b52918-aa15-4cca-80ef-b4f1d0e68374) - 1 spans\n",
            "2025-09-15 01:23:31 - noveum_trace.transport.batch_processor - INFO - ✅ Successfully queued trace 61b52918-aa15-4cca-80ef-b4f1d0e68374\n",
            "2025-09-15 01:23:31 - noveum_trace.transport.http_transport - INFO - ✅ Trace 61b52918-aa15-4cca-80ef-b4f1d0e68374 successfully queued for export\n"
          ]
        },
        {
          "name": "stdout",
          "output_type": "stream",
          "text": [
            "2025-09-15 01:23:31 - INFO - google_genai.models - AFC is enabled with max remote calls: 10.\n",
            "2025-09-15 01:23:32 - ERROR - novaeval.models.base - Error: 429 RESOURCE_EXHAUSTED. {'error': {'code': 429, 'message': 'You exceeded your current quota, please check your plan and billing details. For more information on this error, head to: https://ai.google.dev/gemini-api/docs/rate-limits.', 'status': 'RESOURCE_EXHAUSTED', 'details': [{'@type': 'type.googleapis.com/google.rpc.QuotaFailure', 'violations': [{'quotaMetric': 'generativelanguage.googleapis.com/generate_content_free_tier_requests', 'quotaId': 'GenerateRequestsPerDayPerProjectPerModel-FreeTier', 'quotaDimensions': {'location': 'global', 'model': 'gemini-1.5-flash'}, 'quotaValue': '50'}]}, {'@type': 'type.googleapis.com/google.rpc.Help', 'links': [{'description': 'Learn more about Gemini API quotas', 'url': 'https://ai.google.dev/gemini-api/docs/rate-limits'}]}, {'@type': 'type.googleapis.com/google.rpc.RetryInfo', 'retryDelay': '28s'}]}}\n"
          ]
        },
        {
          "name": "stderr",
          "output_type": "stream",
          "text": [
            "2025-09-15 01:23:32 - noveum_trace.transport.http_transport - INFO - 📤 EXPORTING TRACE: auto_trace_generate (ID: 08311f16-f96e-407a-828a-55aec9db382d) - 1 spans\n",
            "2025-09-15 01:23:32 - noveum_trace.transport.batch_processor - INFO - 📥 ADDING TRACE TO QUEUE: auto_trace_generate (ID: 08311f16-f96e-407a-828a-55aec9db382d) - 1 spans\n",
            "2025-09-15 01:23:32 - noveum_trace.transport.batch_processor - INFO - ✅ Successfully queued trace 08311f16-f96e-407a-828a-55aec9db382d\n",
            "2025-09-15 01:23:32 - noveum_trace.transport.http_transport - INFO - ✅ Trace 08311f16-f96e-407a-828a-55aec9db382d successfully queued for export\n"
          ]
        },
        {
          "name": "stdout",
          "output_type": "stream",
          "text": [
            "2025-09-15 01:23:32 - INFO - google_genai.models - AFC is enabled with max remote calls: 10.\n",
            "2025-09-15 01:23:33 - ERROR - novaeval.models.base - Error: 429 RESOURCE_EXHAUSTED. {'error': {'code': 429, 'message': 'You exceeded your current quota, please check your plan and billing details. For more information on this error, head to: https://ai.google.dev/gemini-api/docs/rate-limits.', 'status': 'RESOURCE_EXHAUSTED', 'details': [{'@type': 'type.googleapis.com/google.rpc.QuotaFailure', 'violations': [{'quotaMetric': 'generativelanguage.googleapis.com/generate_content_free_tier_requests', 'quotaId': 'GenerateRequestsPerDayPerProjectPerModel-FreeTier', 'quotaDimensions': {'location': 'global', 'model': 'gemini-1.5-flash'}, 'quotaValue': '50'}]}, {'@type': 'type.googleapis.com/google.rpc.Help', 'links': [{'description': 'Learn more about Gemini API quotas', 'url': 'https://ai.google.dev/gemini-api/docs/rate-limits'}]}, {'@type': 'type.googleapis.com/google.rpc.RetryInfo', 'retryDelay': '27s'}]}}\n"
          ]
        },
        {
          "name": "stderr",
          "output_type": "stream",
          "text": [
            "2025-09-15 01:23:33 - noveum_trace.transport.http_transport - INFO - 📤 EXPORTING TRACE: auto_trace_generate (ID: 76f3584f-dfef-45c1-9e33-09108161115f) - 1 spans\n",
            "2025-09-15 01:23:33 - noveum_trace.transport.batch_processor - INFO - 📥 ADDING TRACE TO QUEUE: auto_trace_generate (ID: 76f3584f-dfef-45c1-9e33-09108161115f) - 1 spans\n",
            "2025-09-15 01:23:33 - noveum_trace.transport.batch_processor - INFO - ✅ Successfully queued trace 76f3584f-dfef-45c1-9e33-09108161115f\n",
            "2025-09-15 01:23:33 - noveum_trace.transport.http_transport - INFO - ✅ Trace 76f3584f-dfef-45c1-9e33-09108161115f successfully queued for export\n"
          ]
        },
        {
          "name": "stdout",
          "output_type": "stream",
          "text": [
            "2025-09-15 01:23:33 - INFO - novaeval.evaluators.agent_evaluator - Saving intermediate results after 4 samples\n",
            "2025-09-15 01:23:33 - INFO - novaeval.evaluators.agent_evaluator - Intermediate results saved to demo_results/sample_evaluation/agent_evaluation_results.csv\n"
          ]
        },
        {
          "name": "stderr",
          "output_type": "stream",
          "text": [
            "Evaluating samples: 4it [00:14,  3.12s/it]"
          ]
        },
        {
          "name": "stdout",
          "output_type": "stream",
          "text": [
            "2025-09-15 01:23:33 - INFO - google_genai.models - AFC is enabled with max remote calls: 10.\n",
            "2025-09-15 01:23:33 - ERROR - novaeval.models.base - Error: 429 RESOURCE_EXHAUSTED. {'error': {'code': 429, 'message': 'You exceeded your current quota, please check your plan and billing details. For more information on this error, head to: https://ai.google.dev/gemini-api/docs/rate-limits.', 'status': 'RESOURCE_EXHAUSTED', 'details': [{'@type': 'type.googleapis.com/google.rpc.QuotaFailure', 'violations': [{'quotaMetric': 'generativelanguage.googleapis.com/generate_content_free_tier_requests', 'quotaId': 'GenerateRequestsPerDayPerProjectPerModel-FreeTier', 'quotaDimensions': {'location': 'global', 'model': 'gemini-1.5-flash'}, 'quotaValue': '50'}]}, {'@type': 'type.googleapis.com/google.rpc.Help', 'links': [{'description': 'Learn more about Gemini API quotas', 'url': 'https://ai.google.dev/gemini-api/docs/rate-limits'}]}, {'@type': 'type.googleapis.com/google.rpc.RetryInfo', 'retryDelay': '26s'}]}}\n"
          ]
        },
        {
          "name": "stderr",
          "output_type": "stream",
          "text": [
            "2025-09-15 01:23:33 - noveum_trace.transport.http_transport - INFO - 📤 EXPORTING TRACE: auto_trace_generate (ID: 0893fcee-a4d2-4b38-a1eb-13a288047cf8) - 1 spans\n",
            "2025-09-15 01:23:33 - noveum_trace.transport.batch_processor - INFO - 📥 ADDING TRACE TO QUEUE: auto_trace_generate (ID: 0893fcee-a4d2-4b38-a1eb-13a288047cf8) - 1 spans\n",
            "2025-09-15 01:23:33 - noveum_trace.transport.batch_processor - INFO - ✅ Successfully queued trace 0893fcee-a4d2-4b38-a1eb-13a288047cf8\n",
            "2025-09-15 01:23:33 - noveum_trace.transport.http_transport - INFO - ✅ Trace 0893fcee-a4d2-4b38-a1eb-13a288047cf8 successfully queued for export\n"
          ]
        },
        {
          "name": "stdout",
          "output_type": "stream",
          "text": [
            "2025-09-15 01:23:33 - INFO - google_genai.models - AFC is enabled with max remote calls: 10.\n",
            "2025-09-15 01:23:34 - ERROR - novaeval.models.base - Error: 429 RESOURCE_EXHAUSTED. {'error': {'code': 429, 'message': 'You exceeded your current quota, please check your plan and billing details. For more information on this error, head to: https://ai.google.dev/gemini-api/docs/rate-limits.', 'status': 'RESOURCE_EXHAUSTED', 'details': [{'@type': 'type.googleapis.com/google.rpc.QuotaFailure', 'violations': [{'quotaMetric': 'generativelanguage.googleapis.com/generate_content_free_tier_requests', 'quotaId': 'GenerateRequestsPerDayPerProjectPerModel-FreeTier', 'quotaDimensions': {'location': 'global', 'model': 'gemini-1.5-flash'}, 'quotaValue': '50'}]}, {'@type': 'type.googleapis.com/google.rpc.Help', 'links': [{'description': 'Learn more about Gemini API quotas', 'url': 'https://ai.google.dev/gemini-api/docs/rate-limits'}]}, {'@type': 'type.googleapis.com/google.rpc.RetryInfo', 'retryDelay': '25s'}]}}\n"
          ]
        },
        {
          "name": "stderr",
          "output_type": "stream",
          "text": [
            "2025-09-15 01:23:34 - noveum_trace.transport.http_transport - INFO - 📤 EXPORTING TRACE: auto_trace_generate (ID: d7fd49fb-0aee-4b42-884b-b0a50c89a664) - 1 spans\n",
            "2025-09-15 01:23:34 - noveum_trace.transport.batch_processor - INFO - 📥 ADDING TRACE TO QUEUE: auto_trace_generate (ID: d7fd49fb-0aee-4b42-884b-b0a50c89a664) - 1 spans\n",
            "2025-09-15 01:23:34 - noveum_trace.transport.batch_processor - INFO - ✅ Successfully queued trace d7fd49fb-0aee-4b42-884b-b0a50c89a664\n",
            "2025-09-15 01:23:34 - noveum_trace.transport.http_transport - INFO - ✅ Trace d7fd49fb-0aee-4b42-884b-b0a50c89a664 successfully queued for export\n"
          ]
        },
        {
          "name": "stdout",
          "output_type": "stream",
          "text": [
            "2025-09-15 01:23:34 - INFO - google_genai.models - AFC is enabled with max remote calls: 10.\n",
            "2025-09-15 01:23:35 - ERROR - novaeval.models.base - Error: 429 RESOURCE_EXHAUSTED. {'error': {'code': 429, 'message': 'You exceeded your current quota, please check your plan and billing details. For more information on this error, head to: https://ai.google.dev/gemini-api/docs/rate-limits.', 'status': 'RESOURCE_EXHAUSTED', 'details': [{'@type': 'type.googleapis.com/google.rpc.QuotaFailure', 'violations': [{'quotaMetric': 'generativelanguage.googleapis.com/generate_content_free_tier_requests', 'quotaId': 'GenerateRequestsPerDayPerProjectPerModel-FreeTier', 'quotaDimensions': {'location': 'global', 'model': 'gemini-1.5-flash'}, 'quotaValue': '50'}]}, {'@type': 'type.googleapis.com/google.rpc.Help', 'links': [{'description': 'Learn more about Gemini API quotas', 'url': 'https://ai.google.dev/gemini-api/docs/rate-limits'}]}, {'@type': 'type.googleapis.com/google.rpc.RetryInfo', 'retryDelay': '24s'}]}}\n"
          ]
        },
        {
          "name": "stderr",
          "output_type": "stream",
          "text": [
            "2025-09-15 01:23:35 - noveum_trace.transport.http_transport - INFO - 📤 EXPORTING TRACE: auto_trace_generate (ID: 27dc67b4-c655-49af-a862-ef41a8e8a349) - 1 spans\n",
            "2025-09-15 01:23:35 - noveum_trace.transport.batch_processor - INFO - 📥 ADDING TRACE TO QUEUE: auto_trace_generate (ID: 27dc67b4-c655-49af-a862-ef41a8e8a349) - 1 spans\n",
            "2025-09-15 01:23:35 - noveum_trace.transport.batch_processor - INFO - ✅ Successfully queued trace 27dc67b4-c655-49af-a862-ef41a8e8a349\n",
            "2025-09-15 01:23:35 - noveum_trace.transport.http_transport - INFO - ✅ Trace 27dc67b4-c655-49af-a862-ef41a8e8a349 successfully queued for export\n"
          ]
        },
        {
          "name": "stdout",
          "output_type": "stream",
          "text": [
            "2025-09-15 01:23:35 - INFO - novaeval.evaluators.agent_evaluator - Saving intermediate results after 5 samples\n",
            "2025-09-15 01:23:35 - INFO - novaeval.evaluators.agent_evaluator - Intermediate results saved to demo_results/sample_evaluation/agent_evaluation_results.csv\n"
          ]
        },
        {
          "name": "stderr",
          "output_type": "stream",
          "text": [
            "Evaluating samples: 5it [00:16,  2.81s/it]"
          ]
        },
        {
          "name": "stdout",
          "output_type": "stream",
          "text": [
            "2025-09-15 01:23:35 - INFO - google_genai.models - AFC is enabled with max remote calls: 10.\n",
            "2025-09-15 01:23:36 - ERROR - novaeval.models.base - Error: 429 RESOURCE_EXHAUSTED. {'error': {'code': 429, 'message': 'You exceeded your current quota, please check your plan and billing details. For more information on this error, head to: https://ai.google.dev/gemini-api/docs/rate-limits.', 'status': 'RESOURCE_EXHAUSTED', 'details': [{'@type': 'type.googleapis.com/google.rpc.QuotaFailure', 'violations': [{'quotaMetric': 'generativelanguage.googleapis.com/generate_content_free_tier_requests', 'quotaId': 'GenerateRequestsPerDayPerProjectPerModel-FreeTier', 'quotaDimensions': {'model': 'gemini-1.5-flash', 'location': 'global'}, 'quotaValue': '50'}]}, {'@type': 'type.googleapis.com/google.rpc.Help', 'links': [{'description': 'Learn more about Gemini API quotas', 'url': 'https://ai.google.dev/gemini-api/docs/rate-limits'}]}, {'@type': 'type.googleapis.com/google.rpc.RetryInfo', 'retryDelay': '23s'}]}}\n"
          ]
        },
        {
          "name": "stderr",
          "output_type": "stream",
          "text": [
            "2025-09-15 01:23:36 - noveum_trace.transport.http_transport - INFO - 📤 EXPORTING TRACE: auto_trace_generate (ID: 179c5644-8b27-4789-8441-1c90a1a69833) - 1 spans\n",
            "2025-09-15 01:23:36 - noveum_trace.transport.batch_processor - INFO - 📥 ADDING TRACE TO QUEUE: auto_trace_generate (ID: 179c5644-8b27-4789-8441-1c90a1a69833) - 1 spans\n",
            "2025-09-15 01:23:36 - noveum_trace.transport.batch_processor - INFO - ✅ Successfully queued trace 179c5644-8b27-4789-8441-1c90a1a69833\n",
            "2025-09-15 01:23:36 - noveum_trace.transport.http_transport - INFO - ✅ Trace 179c5644-8b27-4789-8441-1c90a1a69833 successfully queued for export\n"
          ]
        },
        {
          "name": "stdout",
          "output_type": "stream",
          "text": [
            "2025-09-15 01:23:36 - INFO - google_genai.models - AFC is enabled with max remote calls: 10.\n",
            "2025-09-15 01:23:37 - ERROR - novaeval.models.base - Error: 429 RESOURCE_EXHAUSTED. {'error': {'code': 429, 'message': 'You exceeded your current quota, please check your plan and billing details. For more information on this error, head to: https://ai.google.dev/gemini-api/docs/rate-limits.', 'status': 'RESOURCE_EXHAUSTED', 'details': [{'@type': 'type.googleapis.com/google.rpc.QuotaFailure', 'violations': [{'quotaMetric': 'generativelanguage.googleapis.com/generate_content_free_tier_requests', 'quotaId': 'GenerateRequestsPerDayPerProjectPerModel-FreeTier', 'quotaDimensions': {'model': 'gemini-1.5-flash', 'location': 'global'}, 'quotaValue': '50'}]}, {'@type': 'type.googleapis.com/google.rpc.Help', 'links': [{'description': 'Learn more about Gemini API quotas', 'url': 'https://ai.google.dev/gemini-api/docs/rate-limits'}]}, {'@type': 'type.googleapis.com/google.rpc.RetryInfo', 'retryDelay': '23s'}]}}\n"
          ]
        },
        {
          "name": "stderr",
          "output_type": "stream",
          "text": [
            "2025-09-15 01:23:37 - noveum_trace.transport.http_transport - INFO - 📤 EXPORTING TRACE: auto_trace_generate (ID: 4db08c2b-9839-4a17-821e-6bf7ac9bb4f8) - 1 spans\n",
            "2025-09-15 01:23:37 - noveum_trace.transport.batch_processor - INFO - 📥 ADDING TRACE TO QUEUE: auto_trace_generate (ID: 4db08c2b-9839-4a17-821e-6bf7ac9bb4f8) - 1 spans\n",
            "2025-09-15 01:23:37 - noveum_trace.transport.batch_processor - INFO - ✅ Successfully queued trace 4db08c2b-9839-4a17-821e-6bf7ac9bb4f8\n",
            "2025-09-15 01:23:37 - noveum_trace.transport.http_transport - INFO - ✅ Trace 4db08c2b-9839-4a17-821e-6bf7ac9bb4f8 successfully queued for export\n"
          ]
        },
        {
          "name": "stdout",
          "output_type": "stream",
          "text": [
            "2025-09-15 01:23:37 - INFO - google_genai.models - AFC is enabled with max remote calls: 10.\n",
            "2025-09-15 01:23:38 - ERROR - novaeval.models.base - Error: 429 RESOURCE_EXHAUSTED. {'error': {'code': 429, 'message': 'You exceeded your current quota, please check your plan and billing details. For more information on this error, head to: https://ai.google.dev/gemini-api/docs/rate-limits.', 'status': 'RESOURCE_EXHAUSTED', 'details': [{'@type': 'type.googleapis.com/google.rpc.QuotaFailure', 'violations': [{'quotaMetric': 'generativelanguage.googleapis.com/generate_content_free_tier_requests', 'quotaId': 'GenerateRequestsPerDayPerProjectPerModel-FreeTier', 'quotaDimensions': {'location': 'global', 'model': 'gemini-1.5-flash'}, 'quotaValue': '50'}]}, {'@type': 'type.googleapis.com/google.rpc.Help', 'links': [{'description': 'Learn more about Gemini API quotas', 'url': 'https://ai.google.dev/gemini-api/docs/rate-limits'}]}, {'@type': 'type.googleapis.com/google.rpc.RetryInfo', 'retryDelay': '22s'}]}}\n"
          ]
        },
        {
          "name": "stderr",
          "output_type": "stream",
          "text": [
            "2025-09-15 01:23:38 - noveum_trace.transport.http_transport - INFO - 📤 EXPORTING TRACE: auto_trace_generate (ID: ba4b489f-c3aa-4759-aecd-58341a771f2c) - 1 spans\n",
            "2025-09-15 01:23:38 - noveum_trace.transport.batch_processor - INFO - 📥 ADDING TRACE TO QUEUE: auto_trace_generate (ID: ba4b489f-c3aa-4759-aecd-58341a771f2c) - 1 spans\n",
            "2025-09-15 01:23:38 - noveum_trace.transport.batch_processor - INFO - ✅ Successfully queued trace ba4b489f-c3aa-4759-aecd-58341a771f2c\n",
            "2025-09-15 01:23:38 - noveum_trace.transport.http_transport - INFO - ✅ Trace ba4b489f-c3aa-4759-aecd-58341a771f2c successfully queued for export\n"
          ]
        },
        {
          "name": "stdout",
          "output_type": "stream",
          "text": [
            "2025-09-15 01:23:38 - INFO - novaeval.evaluators.agent_evaluator - Saving intermediate results after 6 samples\n",
            "2025-09-15 01:23:38 - INFO - novaeval.evaluators.agent_evaluator - Intermediate results saved to demo_results/sample_evaluation/agent_evaluation_results.csv\n"
          ]
        },
        {
          "name": "stderr",
          "output_type": "stream",
          "text": [
            "Evaluating samples: 6it [00:19,  2.76s/it]"
          ]
        },
        {
          "name": "stdout",
          "output_type": "stream",
          "text": [
            "2025-09-15 01:23:38 - INFO - google_genai.models - AFC is enabled with max remote calls: 10.\n",
            "2025-09-15 01:23:38 - ERROR - novaeval.models.base - Error: 429 RESOURCE_EXHAUSTED. {'error': {'code': 429, 'message': 'You exceeded your current quota, please check your plan and billing details. For more information on this error, head to: https://ai.google.dev/gemini-api/docs/rate-limits.', 'status': 'RESOURCE_EXHAUSTED', 'details': [{'@type': 'type.googleapis.com/google.rpc.QuotaFailure', 'violations': [{'quotaMetric': 'generativelanguage.googleapis.com/generate_content_free_tier_requests', 'quotaId': 'GenerateRequestsPerDayPerProjectPerModel-FreeTier', 'quotaDimensions': {'location': 'global', 'model': 'gemini-1.5-flash'}, 'quotaValue': '50'}]}, {'@type': 'type.googleapis.com/google.rpc.Help', 'links': [{'description': 'Learn more about Gemini API quotas', 'url': 'https://ai.google.dev/gemini-api/docs/rate-limits'}]}, {'@type': 'type.googleapis.com/google.rpc.RetryInfo', 'retryDelay': '21s'}]}}\n"
          ]
        },
        {
          "name": "stderr",
          "output_type": "stream",
          "text": [
            "2025-09-15 01:23:38 - noveum_trace.transport.http_transport - INFO - 📤 EXPORTING TRACE: auto_trace_generate (ID: 2674a2ba-4268-432e-b3e7-e0205412b24c) - 1 spans\n",
            "2025-09-15 01:23:38 - noveum_trace.transport.batch_processor - INFO - 📥 ADDING TRACE TO QUEUE: auto_trace_generate (ID: 2674a2ba-4268-432e-b3e7-e0205412b24c) - 1 spans\n",
            "2025-09-15 01:23:38 - noveum_trace.transport.batch_processor - INFO - ✅ Successfully queued trace 2674a2ba-4268-432e-b3e7-e0205412b24c\n",
            "2025-09-15 01:23:38 - noveum_trace.transport.http_transport - INFO - ✅ Trace 2674a2ba-4268-432e-b3e7-e0205412b24c successfully queued for export\n"
          ]
        },
        {
          "name": "stdout",
          "output_type": "stream",
          "text": [
            "2025-09-15 01:23:38 - INFO - google_genai.models - AFC is enabled with max remote calls: 10.\n",
            "2025-09-15 01:23:39 - ERROR - novaeval.models.base - Error: 429 RESOURCE_EXHAUSTED. {'error': {'code': 429, 'message': 'You exceeded your current quota, please check your plan and billing details. For more information on this error, head to: https://ai.google.dev/gemini-api/docs/rate-limits.', 'status': 'RESOURCE_EXHAUSTED', 'details': [{'@type': 'type.googleapis.com/google.rpc.QuotaFailure', 'violations': [{'quotaMetric': 'generativelanguage.googleapis.com/generate_content_free_tier_requests', 'quotaId': 'GenerateRequestsPerDayPerProjectPerModel-FreeTier', 'quotaDimensions': {'location': 'global', 'model': 'gemini-1.5-flash'}, 'quotaValue': '50'}]}, {'@type': 'type.googleapis.com/google.rpc.Help', 'links': [{'description': 'Learn more about Gemini API quotas', 'url': 'https://ai.google.dev/gemini-api/docs/rate-limits'}]}, {'@type': 'type.googleapis.com/google.rpc.RetryInfo', 'retryDelay': '20s'}]}}\n"
          ]
        },
        {
          "name": "stderr",
          "output_type": "stream",
          "text": [
            "2025-09-15 01:23:39 - noveum_trace.transport.http_transport - INFO - 📤 EXPORTING TRACE: auto_trace_generate (ID: da93400e-d54e-4bca-b55c-b8f94bca2cf7) - 1 spans\n",
            "2025-09-15 01:23:39 - noveum_trace.transport.batch_processor - INFO - 📥 ADDING TRACE TO QUEUE: auto_trace_generate (ID: da93400e-d54e-4bca-b55c-b8f94bca2cf7) - 1 spans\n",
            "2025-09-15 01:23:39 - noveum_trace.transport.batch_processor - INFO - ✅ Successfully queued trace da93400e-d54e-4bca-b55c-b8f94bca2cf7\n",
            "2025-09-15 01:23:39 - noveum_trace.transport.http_transport - INFO - ✅ Trace da93400e-d54e-4bca-b55c-b8f94bca2cf7 successfully queued for export\n"
          ]
        },
        {
          "name": "stdout",
          "output_type": "stream",
          "text": [
            "2025-09-15 01:23:39 - INFO - google_genai.models - AFC is enabled with max remote calls: 10.\n",
            "2025-09-15 01:23:40 - ERROR - novaeval.models.base - Error: 429 RESOURCE_EXHAUSTED. {'error': {'code': 429, 'message': 'You exceeded your current quota, please check your plan and billing details. For more information on this error, head to: https://ai.google.dev/gemini-api/docs/rate-limits.', 'status': 'RESOURCE_EXHAUSTED', 'details': [{'@type': 'type.googleapis.com/google.rpc.QuotaFailure', 'violations': [{'quotaMetric': 'generativelanguage.googleapis.com/generate_content_free_tier_requests', 'quotaId': 'GenerateRequestsPerDayPerProjectPerModel-FreeTier', 'quotaDimensions': {'location': 'global', 'model': 'gemini-1.5-flash'}, 'quotaValue': '50'}]}, {'@type': 'type.googleapis.com/google.rpc.Help', 'links': [{'description': 'Learn more about Gemini API quotas', 'url': 'https://ai.google.dev/gemini-api/docs/rate-limits'}]}, {'@type': 'type.googleapis.com/google.rpc.RetryInfo', 'retryDelay': '19s'}]}}\n"
          ]
        },
        {
          "name": "stderr",
          "output_type": "stream",
          "text": [
            "2025-09-15 01:23:40 - noveum_trace.transport.http_transport - INFO - 📤 EXPORTING TRACE: auto_trace_generate (ID: e4752a89-9651-4c3a-b342-8a703150255f) - 1 spans\n",
            "2025-09-15 01:23:40 - noveum_trace.transport.batch_processor - INFO - 📥 ADDING TRACE TO QUEUE: auto_trace_generate (ID: e4752a89-9651-4c3a-b342-8a703150255f) - 1 spans\n",
            "2025-09-15 01:23:40 - noveum_trace.transport.batch_processor - INFO - ✅ Successfully queued trace e4752a89-9651-4c3a-b342-8a703150255f\n",
            "2025-09-15 01:23:40 - noveum_trace.transport.http_transport - INFO - ✅ Trace e4752a89-9651-4c3a-b342-8a703150255f successfully queued for export\n"
          ]
        },
        {
          "name": "stdout",
          "output_type": "stream",
          "text": [
            "2025-09-15 01:23:40 - INFO - novaeval.evaluators.agent_evaluator - Saving intermediate results after 7 samples\n",
            "2025-09-15 01:23:40 - INFO - novaeval.evaluators.agent_evaluator - Intermediate results saved to demo_results/sample_evaluation/agent_evaluation_results.csv\n"
          ]
        },
        {
          "name": "stderr",
          "output_type": "stream",
          "text": [
            "Evaluating samples: 7it [00:21,  2.63s/it]"
          ]
        },
        {
          "name": "stdout",
          "output_type": "stream",
          "text": [
            "2025-09-15 01:23:40 - INFO - google_genai.models - AFC is enabled with max remote calls: 10.\n",
            "2025-09-15 01:23:41 - ERROR - novaeval.models.base - Error: 429 RESOURCE_EXHAUSTED. {'error': {'code': 429, 'message': 'You exceeded your current quota, please check your plan and billing details. For more information on this error, head to: https://ai.google.dev/gemini-api/docs/rate-limits.', 'status': 'RESOURCE_EXHAUSTED', 'details': [{'@type': 'type.googleapis.com/google.rpc.QuotaFailure', 'violations': [{'quotaMetric': 'generativelanguage.googleapis.com/generate_content_free_tier_requests', 'quotaId': 'GenerateRequestsPerDayPerProjectPerModel-FreeTier', 'quotaDimensions': {'location': 'global', 'model': 'gemini-1.5-flash'}, 'quotaValue': '50'}]}, {'@type': 'type.googleapis.com/google.rpc.Help', 'links': [{'description': 'Learn more about Gemini API quotas', 'url': 'https://ai.google.dev/gemini-api/docs/rate-limits'}]}, {'@type': 'type.googleapis.com/google.rpc.RetryInfo', 'retryDelay': '18s'}]}}\n"
          ]
        },
        {
          "name": "stderr",
          "output_type": "stream",
          "text": [
            "2025-09-15 01:23:41 - noveum_trace.transport.http_transport - INFO - 📤 EXPORTING TRACE: auto_trace_generate (ID: 660db814-2a49-4067-ba64-2dbb9ed81cc1) - 1 spans\n",
            "2025-09-15 01:23:41 - noveum_trace.transport.batch_processor - INFO - 📥 ADDING TRACE TO QUEUE: auto_trace_generate (ID: 660db814-2a49-4067-ba64-2dbb9ed81cc1) - 1 spans\n",
            "2025-09-15 01:23:41 - noveum_trace.transport.batch_processor - INFO - ✅ Successfully queued trace 660db814-2a49-4067-ba64-2dbb9ed81cc1\n",
            "2025-09-15 01:23:41 - noveum_trace.transport.http_transport - INFO - ✅ Trace 660db814-2a49-4067-ba64-2dbb9ed81cc1 successfully queued for export\n"
          ]
        },
        {
          "name": "stdout",
          "output_type": "stream",
          "text": [
            "2025-09-15 01:23:41 - INFO - google_genai.models - AFC is enabled with max remote calls: 10.\n",
            "2025-09-15 01:23:42 - ERROR - novaeval.models.base - Error: 429 RESOURCE_EXHAUSTED. {'error': {'code': 429, 'message': 'You exceeded your current quota, please check your plan and billing details. For more information on this error, head to: https://ai.google.dev/gemini-api/docs/rate-limits.', 'status': 'RESOURCE_EXHAUSTED', 'details': [{'@type': 'type.googleapis.com/google.rpc.QuotaFailure', 'violations': [{'quotaMetric': 'generativelanguage.googleapis.com/generate_content_free_tier_requests', 'quotaId': 'GenerateRequestsPerDayPerProjectPerModel-FreeTier', 'quotaDimensions': {'location': 'global', 'model': 'gemini-1.5-flash'}, 'quotaValue': '50'}]}, {'@type': 'type.googleapis.com/google.rpc.Help', 'links': [{'description': 'Learn more about Gemini API quotas', 'url': 'https://ai.google.dev/gemini-api/docs/rate-limits'}]}, {'@type': 'type.googleapis.com/google.rpc.RetryInfo', 'retryDelay': '18s'}]}}\n"
          ]
        },
        {
          "name": "stderr",
          "output_type": "stream",
          "text": [
            "2025-09-15 01:23:42 - noveum_trace.transport.http_transport - INFO - 📤 EXPORTING TRACE: auto_trace_generate (ID: 7142bd15-88f2-4c47-abb8-99e8c9c485bc) - 1 spans\n",
            "2025-09-15 01:23:42 - noveum_trace.transport.batch_processor - INFO - 📥 ADDING TRACE TO QUEUE: auto_trace_generate (ID: 7142bd15-88f2-4c47-abb8-99e8c9c485bc) - 1 spans\n",
            "2025-09-15 01:23:42 - noveum_trace.transport.batch_processor - INFO - ✅ Successfully queued trace 7142bd15-88f2-4c47-abb8-99e8c9c485bc\n",
            "2025-09-15 01:23:42 - noveum_trace.transport.http_transport - INFO - ✅ Trace 7142bd15-88f2-4c47-abb8-99e8c9c485bc successfully queued for export\n"
          ]
        },
        {
          "name": "stdout",
          "output_type": "stream",
          "text": [
            "2025-09-15 01:23:42 - INFO - google_genai.models - AFC is enabled with max remote calls: 10.\n",
            "2025-09-15 01:23:43 - ERROR - novaeval.models.base - Error: 429 RESOURCE_EXHAUSTED. {'error': {'code': 429, 'message': 'You exceeded your current quota, please check your plan and billing details. For more information on this error, head to: https://ai.google.dev/gemini-api/docs/rate-limits.', 'status': 'RESOURCE_EXHAUSTED', 'details': [{'@type': 'type.googleapis.com/google.rpc.QuotaFailure', 'violations': [{'quotaMetric': 'generativelanguage.googleapis.com/generate_content_free_tier_requests', 'quotaId': 'GenerateRequestsPerDayPerProjectPerModel-FreeTier', 'quotaDimensions': {'model': 'gemini-1.5-flash', 'location': 'global'}, 'quotaValue': '50'}]}, {'@type': 'type.googleapis.com/google.rpc.Help', 'links': [{'description': 'Learn more about Gemini API quotas', 'url': 'https://ai.google.dev/gemini-api/docs/rate-limits'}]}, {'@type': 'type.googleapis.com/google.rpc.RetryInfo', 'retryDelay': '17s'}]}}\n"
          ]
        },
        {
          "name": "stderr",
          "output_type": "stream",
          "text": [
            "2025-09-15 01:23:43 - noveum_trace.transport.http_transport - INFO - 📤 EXPORTING TRACE: auto_trace_generate (ID: 2c0abca6-d49d-48c5-a300-f5b46fa553f5) - 1 spans\n",
            "2025-09-15 01:23:43 - noveum_trace.transport.batch_processor - INFO - 📥 ADDING TRACE TO QUEUE: auto_trace_generate (ID: 2c0abca6-d49d-48c5-a300-f5b46fa553f5) - 1 spans\n",
            "2025-09-15 01:23:43 - noveum_trace.transport.batch_processor - INFO - ✅ Successfully queued trace 2c0abca6-d49d-48c5-a300-f5b46fa553f5\n",
            "2025-09-15 01:23:43 - noveum_trace.transport.http_transport - INFO - ✅ Trace 2c0abca6-d49d-48c5-a300-f5b46fa553f5 successfully queued for export\n"
          ]
        },
        {
          "name": "stdout",
          "output_type": "stream",
          "text": [
            "2025-09-15 01:23:43 - INFO - google_genai.models - AFC is enabled with max remote calls: 10.\n",
            "2025-09-15 01:23:43 - ERROR - novaeval.models.base - Error: 429 RESOURCE_EXHAUSTED. {'error': {'code': 429, 'message': 'You exceeded your current quota, please check your plan and billing details. For more information on this error, head to: https://ai.google.dev/gemini-api/docs/rate-limits.', 'status': 'RESOURCE_EXHAUSTED', 'details': [{'@type': 'type.googleapis.com/google.rpc.QuotaFailure', 'violations': [{'quotaMetric': 'generativelanguage.googleapis.com/generate_content_free_tier_requests', 'quotaId': 'GenerateRequestsPerDayPerProjectPerModel-FreeTier', 'quotaDimensions': {'location': 'global', 'model': 'gemini-1.5-flash'}, 'quotaValue': '50'}]}, {'@type': 'type.googleapis.com/google.rpc.Help', 'links': [{'description': 'Learn more about Gemini API quotas', 'url': 'https://ai.google.dev/gemini-api/docs/rate-limits'}]}, {'@type': 'type.googleapis.com/google.rpc.RetryInfo', 'retryDelay': '16s'}]}}\n"
          ]
        },
        {
          "name": "stderr",
          "output_type": "stream",
          "text": [
            "2025-09-15 01:23:43 - noveum_trace.transport.http_transport - INFO - 📤 EXPORTING TRACE: auto_trace_generate (ID: 5809fb04-090b-4f06-98e5-cbb27a2cae0c) - 1 spans\n",
            "2025-09-15 01:23:43 - noveum_trace.transport.batch_processor - INFO - 📥 ADDING TRACE TO QUEUE: auto_trace_generate (ID: 5809fb04-090b-4f06-98e5-cbb27a2cae0c) - 1 spans\n",
            "2025-09-15 01:23:43 - noveum_trace.transport.batch_processor - INFO - ✅ Successfully queued trace 5809fb04-090b-4f06-98e5-cbb27a2cae0c\n",
            "2025-09-15 01:23:43 - noveum_trace.transport.http_transport - INFO - ✅ Trace 5809fb04-090b-4f06-98e5-cbb27a2cae0c successfully queued for export\n"
          ]
        },
        {
          "name": "stdout",
          "output_type": "stream",
          "text": [
            "2025-09-15 01:23:43 - INFO - google_genai.models - AFC is enabled with max remote calls: 10.\n",
            "2025-09-15 01:23:44 - ERROR - novaeval.models.base - Error: 429 RESOURCE_EXHAUSTED. {'error': {'code': 429, 'message': 'You exceeded your current quota, please check your plan and billing details. For more information on this error, head to: https://ai.google.dev/gemini-api/docs/rate-limits.', 'status': 'RESOURCE_EXHAUSTED', 'details': [{'@type': 'type.googleapis.com/google.rpc.QuotaFailure', 'violations': [{'quotaMetric': 'generativelanguage.googleapis.com/generate_content_free_tier_requests', 'quotaId': 'GenerateRequestsPerDayPerProjectPerModel-FreeTier', 'quotaDimensions': {'location': 'global', 'model': 'gemini-1.5-flash'}, 'quotaValue': '50'}]}, {'@type': 'type.googleapis.com/google.rpc.Help', 'links': [{'description': 'Learn more about Gemini API quotas', 'url': 'https://ai.google.dev/gemini-api/docs/rate-limits'}]}, {'@type': 'type.googleapis.com/google.rpc.RetryInfo', 'retryDelay': '15s'}]}}\n"
          ]
        },
        {
          "name": "stderr",
          "output_type": "stream",
          "text": [
            "2025-09-15 01:23:44 - noveum_trace.transport.http_transport - INFO - 📤 EXPORTING TRACE: auto_trace_generate (ID: 2a77d9ea-92c3-4673-8fda-e59f48720281) - 1 spans\n",
            "2025-09-15 01:23:44 - noveum_trace.transport.batch_processor - INFO - 📥 ADDING TRACE TO QUEUE: auto_trace_generate (ID: 2a77d9ea-92c3-4673-8fda-e59f48720281) - 1 spans\n",
            "2025-09-15 01:23:44 - noveum_trace.transport.batch_processor - INFO - ✅ Successfully queued trace 2a77d9ea-92c3-4673-8fda-e59f48720281\n",
            "2025-09-15 01:23:44 - noveum_trace.transport.http_transport - INFO - ✅ Trace 2a77d9ea-92c3-4673-8fda-e59f48720281 successfully queued for export\n"
          ]
        },
        {
          "name": "stdout",
          "output_type": "stream",
          "text": [
            "2025-09-15 01:23:44 - INFO - novaeval.evaluators.agent_evaluator - Saving intermediate results after 8 samples\n",
            "2025-09-15 01:23:44 - INFO - novaeval.evaluators.agent_evaluator - Intermediate results saved to demo_results/sample_evaluation/agent_evaluation_results.csv\n"
          ]
        },
        {
          "name": "stderr",
          "output_type": "stream",
          "text": [
            "Evaluating samples: 8it [00:25,  3.16s/it]"
          ]
        },
        {
          "name": "stdout",
          "output_type": "stream",
          "text": [
            "2025-09-15 01:23:44 - INFO - google_genai.models - AFC is enabled with max remote calls: 10.\n",
            "2025-09-15 01:23:45 - ERROR - novaeval.models.base - Error: 429 RESOURCE_EXHAUSTED. {'error': {'code': 429, 'message': 'You exceeded your current quota, please check your plan and billing details. For more information on this error, head to: https://ai.google.dev/gemini-api/docs/rate-limits.', 'status': 'RESOURCE_EXHAUSTED', 'details': [{'@type': 'type.googleapis.com/google.rpc.QuotaFailure', 'violations': [{'quotaMetric': 'generativelanguage.googleapis.com/generate_content_free_tier_requests', 'quotaId': 'GenerateRequestsPerDayPerProjectPerModel-FreeTier', 'quotaDimensions': {'location': 'global', 'model': 'gemini-1.5-flash'}, 'quotaValue': '50'}]}, {'@type': 'type.googleapis.com/google.rpc.Help', 'links': [{'description': 'Learn more about Gemini API quotas', 'url': 'https://ai.google.dev/gemini-api/docs/rate-limits'}]}, {'@type': 'type.googleapis.com/google.rpc.RetryInfo', 'retryDelay': '14s'}]}}\n"
          ]
        },
        {
          "name": "stderr",
          "output_type": "stream",
          "text": [
            "2025-09-15 01:23:45 - noveum_trace.transport.http_transport - INFO - 📤 EXPORTING TRACE: auto_trace_generate (ID: efc5a269-19a4-40ec-bc60-4e021cf77e88) - 1 spans\n",
            "2025-09-15 01:23:45 - noveum_trace.transport.batch_processor - INFO - 📥 ADDING TRACE TO QUEUE: auto_trace_generate (ID: efc5a269-19a4-40ec-bc60-4e021cf77e88) - 1 spans\n",
            "2025-09-15 01:23:45 - noveum_trace.transport.batch_processor - INFO - ✅ Successfully queued trace efc5a269-19a4-40ec-bc60-4e021cf77e88\n",
            "2025-09-15 01:23:45 - noveum_trace.transport.http_transport - INFO - ✅ Trace efc5a269-19a4-40ec-bc60-4e021cf77e88 successfully queued for export\n"
          ]
        },
        {
          "name": "stdout",
          "output_type": "stream",
          "text": [
            "2025-09-15 01:23:45 - INFO - google_genai.models - AFC is enabled with max remote calls: 10.\n",
            "2025-09-15 01:23:46 - ERROR - novaeval.models.base - Error: 429 RESOURCE_EXHAUSTED. {'error': {'code': 429, 'message': 'You exceeded your current quota, please check your plan and billing details. For more information on this error, head to: https://ai.google.dev/gemini-api/docs/rate-limits.', 'status': 'RESOURCE_EXHAUSTED', 'details': [{'@type': 'type.googleapis.com/google.rpc.QuotaFailure', 'violations': [{'quotaMetric': 'generativelanguage.googleapis.com/generate_content_free_tier_requests', 'quotaId': 'GenerateRequestsPerDayPerProjectPerModel-FreeTier', 'quotaDimensions': {'location': 'global', 'model': 'gemini-1.5-flash'}, 'quotaValue': '50'}]}, {'@type': 'type.googleapis.com/google.rpc.Help', 'links': [{'description': 'Learn more about Gemini API quotas', 'url': 'https://ai.google.dev/gemini-api/docs/rate-limits'}]}, {'@type': 'type.googleapis.com/google.rpc.RetryInfo', 'retryDelay': '13s'}]}}\n"
          ]
        },
        {
          "name": "stderr",
          "output_type": "stream",
          "text": [
            "2025-09-15 01:23:46 - noveum_trace.transport.http_transport - INFO - 📤 EXPORTING TRACE: auto_trace_generate (ID: 317f588c-bdf3-46f1-a005-2a944088d9a8) - 1 spans\n",
            "2025-09-15 01:23:46 - noveum_trace.transport.batch_processor - INFO - 📥 ADDING TRACE TO QUEUE: auto_trace_generate (ID: 317f588c-bdf3-46f1-a005-2a944088d9a8) - 1 spans\n",
            "2025-09-15 01:23:46 - noveum_trace.transport.batch_processor - INFO - ✅ Successfully queued trace 317f588c-bdf3-46f1-a005-2a944088d9a8\n",
            "2025-09-15 01:23:46 - noveum_trace.transport.http_transport - INFO - ✅ Trace 317f588c-bdf3-46f1-a005-2a944088d9a8 successfully queued for export\n"
          ]
        },
        {
          "name": "stdout",
          "output_type": "stream",
          "text": [
            "2025-09-15 01:23:46 - INFO - google_genai.models - AFC is enabled with max remote calls: 10.\n",
            "2025-09-15 01:23:46 - ERROR - novaeval.models.base - Error: 429 RESOURCE_EXHAUSTED. {'error': {'code': 429, 'message': 'You exceeded your current quota, please check your plan and billing details. For more information on this error, head to: https://ai.google.dev/gemini-api/docs/rate-limits.', 'status': 'RESOURCE_EXHAUSTED', 'details': [{'@type': 'type.googleapis.com/google.rpc.QuotaFailure', 'violations': [{'quotaMetric': 'generativelanguage.googleapis.com/generate_content_free_tier_requests', 'quotaId': 'GenerateRequestsPerDayPerProjectPerModel-FreeTier', 'quotaDimensions': {'location': 'global', 'model': 'gemini-1.5-flash'}, 'quotaValue': '50'}]}, {'@type': 'type.googleapis.com/google.rpc.Help', 'links': [{'description': 'Learn more about Gemini API quotas', 'url': 'https://ai.google.dev/gemini-api/docs/rate-limits'}]}, {'@type': 'type.googleapis.com/google.rpc.RetryInfo', 'retryDelay': '13s'}]}}\n"
          ]
        },
        {
          "name": "stderr",
          "output_type": "stream",
          "text": [
            "2025-09-15 01:23:46 - noveum_trace.transport.http_transport - INFO - 📤 EXPORTING TRACE: auto_trace_generate (ID: 5dfb9b2d-f0a1-4be7-aa20-133ec02ec8b8) - 1 spans\n",
            "2025-09-15 01:23:46 - noveum_trace.transport.batch_processor - INFO - 📥 ADDING TRACE TO QUEUE: auto_trace_generate (ID: 5dfb9b2d-f0a1-4be7-aa20-133ec02ec8b8) - 1 spans\n",
            "2025-09-15 01:23:46 - noveum_trace.transport.batch_processor - INFO - ✅ Successfully queued trace 5dfb9b2d-f0a1-4be7-aa20-133ec02ec8b8\n",
            "2025-09-15 01:23:46 - noveum_trace.transport.http_transport - INFO - ✅ Trace 5dfb9b2d-f0a1-4be7-aa20-133ec02ec8b8 successfully queued for export\n"
          ]
        },
        {
          "name": "stdout",
          "output_type": "stream",
          "text": [
            "2025-09-15 01:23:46 - INFO - novaeval.evaluators.agent_evaluator - Saving intermediate results after 9 samples\n",
            "2025-09-15 01:23:46 - INFO - novaeval.evaluators.agent_evaluator - Intermediate results saved to demo_results/sample_evaluation/agent_evaluation_results.csv\n"
          ]
        },
        {
          "name": "stderr",
          "output_type": "stream",
          "text": [
            "Evaluating samples: 9it [00:28,  2.88s/it]"
          ]
        },
        {
          "name": "stdout",
          "output_type": "stream",
          "text": [
            "2025-09-15 01:23:46 - INFO - google_genai.models - AFC is enabled with max remote calls: 10.\n",
            "2025-09-15 01:23:47 - ERROR - novaeval.models.base - Error: 429 RESOURCE_EXHAUSTED. {'error': {'code': 429, 'message': 'You exceeded your current quota, please check your plan and billing details. For more information on this error, head to: https://ai.google.dev/gemini-api/docs/rate-limits.', 'status': 'RESOURCE_EXHAUSTED', 'details': [{'@type': 'type.googleapis.com/google.rpc.QuotaFailure', 'violations': [{'quotaMetric': 'generativelanguage.googleapis.com/generate_content_free_tier_requests', 'quotaId': 'GenerateRequestsPerDayPerProjectPerModel-FreeTier', 'quotaDimensions': {'location': 'global', 'model': 'gemini-1.5-flash'}, 'quotaValue': '50'}]}, {'@type': 'type.googleapis.com/google.rpc.Help', 'links': [{'description': 'Learn more about Gemini API quotas', 'url': 'https://ai.google.dev/gemini-api/docs/rate-limits'}]}, {'@type': 'type.googleapis.com/google.rpc.RetryInfo', 'retryDelay': '12s'}]}}\n"
          ]
        },
        {
          "name": "stderr",
          "output_type": "stream",
          "text": [
            "2025-09-15 01:23:47 - noveum_trace.transport.http_transport - INFO - 📤 EXPORTING TRACE: auto_trace_generate (ID: a80c9e31-631f-4bec-a5d6-807d4775715c) - 1 spans\n",
            "2025-09-15 01:23:47 - noveum_trace.transport.batch_processor - INFO - 📥 ADDING TRACE TO QUEUE: auto_trace_generate (ID: a80c9e31-631f-4bec-a5d6-807d4775715c) - 1 spans\n",
            "2025-09-15 01:23:47 - noveum_trace.transport.batch_processor - INFO - ✅ Successfully queued trace a80c9e31-631f-4bec-a5d6-807d4775715c\n",
            "2025-09-15 01:23:47 - noveum_trace.transport.http_transport - INFO - ✅ Trace a80c9e31-631f-4bec-a5d6-807d4775715c successfully queued for export\n"
          ]
        },
        {
          "name": "stdout",
          "output_type": "stream",
          "text": [
            "2025-09-15 01:23:47 - INFO - google_genai.models - AFC is enabled with max remote calls: 10.\n",
            "2025-09-15 01:23:48 - ERROR - novaeval.models.base - Error: 429 RESOURCE_EXHAUSTED. {'error': {'code': 429, 'message': 'You exceeded your current quota, please check your plan and billing details. For more information on this error, head to: https://ai.google.dev/gemini-api/docs/rate-limits.', 'status': 'RESOURCE_EXHAUSTED', 'details': [{'@type': 'type.googleapis.com/google.rpc.QuotaFailure', 'violations': [{'quotaMetric': 'generativelanguage.googleapis.com/generate_content_free_tier_requests', 'quotaId': 'GenerateRequestsPerDayPerProjectPerModel-FreeTier', 'quotaDimensions': {'location': 'global', 'model': 'gemini-1.5-flash'}, 'quotaValue': '50'}]}, {'@type': 'type.googleapis.com/google.rpc.Help', 'links': [{'description': 'Learn more about Gemini API quotas', 'url': 'https://ai.google.dev/gemini-api/docs/rate-limits'}]}, {'@type': 'type.googleapis.com/google.rpc.RetryInfo', 'retryDelay': '11s'}]}}\n"
          ]
        },
        {
          "name": "stderr",
          "output_type": "stream",
          "text": [
            "2025-09-15 01:23:48 - noveum_trace.transport.http_transport - INFO - 📤 EXPORTING TRACE: auto_trace_generate (ID: 57aad6a8-77f9-47e7-869c-336ee0e9b58b) - 1 spans\n",
            "2025-09-15 01:23:48 - noveum_trace.transport.batch_processor - INFO - 📥 ADDING TRACE TO QUEUE: auto_trace_generate (ID: 57aad6a8-77f9-47e7-869c-336ee0e9b58b) - 1 spans\n",
            "2025-09-15 01:23:48 - noveum_trace.transport.batch_processor - INFO - ✅ Successfully queued trace 57aad6a8-77f9-47e7-869c-336ee0e9b58b\n",
            "2025-09-15 01:23:48 - noveum_trace.transport.http_transport - INFO - ✅ Trace 57aad6a8-77f9-47e7-869c-336ee0e9b58b successfully queued for export\n"
          ]
        },
        {
          "name": "stdout",
          "output_type": "stream",
          "text": [
            "2025-09-15 01:23:48 - INFO - google_genai.models - AFC is enabled with max remote calls: 10.\n",
            "2025-09-15 01:23:49 - ERROR - novaeval.models.base - Error: 429 RESOURCE_EXHAUSTED. {'error': {'code': 429, 'message': 'You exceeded your current quota, please check your plan and billing details. For more information on this error, head to: https://ai.google.dev/gemini-api/docs/rate-limits.', 'status': 'RESOURCE_EXHAUSTED', 'details': [{'@type': 'type.googleapis.com/google.rpc.QuotaFailure', 'violations': [{'quotaMetric': 'generativelanguage.googleapis.com/generate_content_free_tier_requests', 'quotaId': 'GenerateRequestsPerDayPerProjectPerModel-FreeTier', 'quotaDimensions': {'location': 'global', 'model': 'gemini-1.5-flash'}, 'quotaValue': '50'}]}, {'@type': 'type.googleapis.com/google.rpc.Help', 'links': [{'description': 'Learn more about Gemini API quotas', 'url': 'https://ai.google.dev/gemini-api/docs/rate-limits'}]}, {'@type': 'type.googleapis.com/google.rpc.RetryInfo', 'retryDelay': '10s'}]}}\n"
          ]
        },
        {
          "name": "stderr",
          "output_type": "stream",
          "text": [
            "2025-09-15 01:23:49 - noveum_trace.transport.http_transport - INFO - 📤 EXPORTING TRACE: auto_trace_generate (ID: 0b035faa-fced-40a9-8ffc-4c1c3b11913b) - 1 spans\n",
            "2025-09-15 01:23:49 - noveum_trace.transport.batch_processor - INFO - 📥 ADDING TRACE TO QUEUE: auto_trace_generate (ID: 0b035faa-fced-40a9-8ffc-4c1c3b11913b) - 1 spans\n",
            "2025-09-15 01:23:49 - noveum_trace.transport.batch_processor - INFO - ✅ Successfully queued trace 0b035faa-fced-40a9-8ffc-4c1c3b11913b\n",
            "2025-09-15 01:23:49 - noveum_trace.transport.http_transport - INFO - ✅ Trace 0b035faa-fced-40a9-8ffc-4c1c3b11913b successfully queued for export\n"
          ]
        },
        {
          "name": "stdout",
          "output_type": "stream",
          "text": [
            "2025-09-15 01:23:49 - INFO - novaeval.evaluators.agent_evaluator - Saving intermediate results after 10 samples\n",
            "2025-09-15 01:23:49 - INFO - novaeval.evaluators.agent_evaluator - Intermediate results saved to demo_results/sample_evaluation/agent_evaluation_results.csv\n"
          ]
        },
        {
          "name": "stderr",
          "output_type": "stream",
          "text": [
            "Evaluating samples: 10it [00:30,  2.81s/it]"
          ]
        },
        {
          "name": "stdout",
          "output_type": "stream",
          "text": [
            "2025-09-15 01:23:49 - INFO - google_genai.models - AFC is enabled with max remote calls: 10.\n",
            "2025-09-15 01:23:50 - ERROR - novaeval.models.base - Error: 429 RESOURCE_EXHAUSTED. {'error': {'code': 429, 'message': 'You exceeded your current quota, please check your plan and billing details. For more information on this error, head to: https://ai.google.dev/gemini-api/docs/rate-limits.', 'status': 'RESOURCE_EXHAUSTED', 'details': [{'@type': 'type.googleapis.com/google.rpc.QuotaFailure', 'violations': [{'quotaMetric': 'generativelanguage.googleapis.com/generate_content_free_tier_requests', 'quotaId': 'GenerateRequestsPerDayPerProjectPerModel-FreeTier', 'quotaDimensions': {'location': 'global', 'model': 'gemini-1.5-flash'}, 'quotaValue': '50'}]}, {'@type': 'type.googleapis.com/google.rpc.Help', 'links': [{'description': 'Learn more about Gemini API quotas', 'url': 'https://ai.google.dev/gemini-api/docs/rate-limits'}]}, {'@type': 'type.googleapis.com/google.rpc.RetryInfo', 'retryDelay': '9s'}]}}\n"
          ]
        },
        {
          "name": "stderr",
          "output_type": "stream",
          "text": [
            "2025-09-15 01:23:50 - noveum_trace.transport.http_transport - INFO - 📤 EXPORTING TRACE: auto_trace_generate (ID: 8c470874-ae8a-42a1-84a3-1fb9f5bbfdd3) - 1 spans\n",
            "2025-09-15 01:23:50 - noveum_trace.transport.batch_processor - INFO - 📥 ADDING TRACE TO QUEUE: auto_trace_generate (ID: 8c470874-ae8a-42a1-84a3-1fb9f5bbfdd3) - 1 spans\n",
            "2025-09-15 01:23:50 - noveum_trace.transport.batch_processor - INFO - ✅ Successfully queued trace 8c470874-ae8a-42a1-84a3-1fb9f5bbfdd3\n",
            "2025-09-15 01:23:50 - noveum_trace.transport.http_transport - INFO - ✅ Trace 8c470874-ae8a-42a1-84a3-1fb9f5bbfdd3 successfully queued for export\n"
          ]
        },
        {
          "name": "stdout",
          "output_type": "stream",
          "text": [
            "2025-09-15 01:23:50 - INFO - google_genai.models - AFC is enabled with max remote calls: 10.\n",
            "2025-09-15 01:23:51 - ERROR - novaeval.models.base - Error: 429 RESOURCE_EXHAUSTED. {'error': {'code': 429, 'message': 'You exceeded your current quota, please check your plan and billing details. For more information on this error, head to: https://ai.google.dev/gemini-api/docs/rate-limits.', 'status': 'RESOURCE_EXHAUSTED', 'details': [{'@type': 'type.googleapis.com/google.rpc.QuotaFailure', 'violations': [{'quotaMetric': 'generativelanguage.googleapis.com/generate_content_free_tier_requests', 'quotaId': 'GenerateRequestsPerDayPerProjectPerModel-FreeTier', 'quotaDimensions': {'location': 'global', 'model': 'gemini-1.5-flash'}, 'quotaValue': '50'}]}, {'@type': 'type.googleapis.com/google.rpc.Help', 'links': [{'description': 'Learn more about Gemini API quotas', 'url': 'https://ai.google.dev/gemini-api/docs/rate-limits'}]}, {'@type': 'type.googleapis.com/google.rpc.RetryInfo', 'retryDelay': '8s'}]}}\n"
          ]
        },
        {
          "name": "stderr",
          "output_type": "stream",
          "text": [
            "2025-09-15 01:23:51 - noveum_trace.transport.http_transport - INFO - 📤 EXPORTING TRACE: auto_trace_generate (ID: f9e14c2a-adb1-48d2-a530-067ba6dec0fa) - 1 spans\n",
            "2025-09-15 01:23:51 - noveum_trace.transport.batch_processor - INFO - 📥 ADDING TRACE TO QUEUE: auto_trace_generate (ID: f9e14c2a-adb1-48d2-a530-067ba6dec0fa) - 1 spans\n",
            "2025-09-15 01:23:51 - noveum_trace.transport.batch_processor - INFO - ✅ Successfully queued trace f9e14c2a-adb1-48d2-a530-067ba6dec0fa\n",
            "2025-09-15 01:23:51 - noveum_trace.transport.http_transport - INFO - ✅ Trace f9e14c2a-adb1-48d2-a530-067ba6dec0fa successfully queued for export\n"
          ]
        },
        {
          "name": "stdout",
          "output_type": "stream",
          "text": [
            "2025-09-15 01:23:51 - INFO - google_genai.models - AFC is enabled with max remote calls: 10.\n",
            "2025-09-15 01:23:51 - ERROR - novaeval.models.base - Error: 429 RESOURCE_EXHAUSTED. {'error': {'code': 429, 'message': 'You exceeded your current quota, please check your plan and billing details. For more information on this error, head to: https://ai.google.dev/gemini-api/docs/rate-limits.', 'status': 'RESOURCE_EXHAUSTED', 'details': [{'@type': 'type.googleapis.com/google.rpc.QuotaFailure', 'violations': [{'quotaMetric': 'generativelanguage.googleapis.com/generate_content_free_tier_requests', 'quotaId': 'GenerateRequestsPerDayPerProjectPerModel-FreeTier', 'quotaDimensions': {'model': 'gemini-1.5-flash', 'location': 'global'}, 'quotaValue': '50'}]}, {'@type': 'type.googleapis.com/google.rpc.Help', 'links': [{'description': 'Learn more about Gemini API quotas', 'url': 'https://ai.google.dev/gemini-api/docs/rate-limits'}]}, {'@type': 'type.googleapis.com/google.rpc.RetryInfo', 'retryDelay': '8s'}]}}\n"
          ]
        },
        {
          "name": "stderr",
          "output_type": "stream",
          "text": [
            "2025-09-15 01:23:51 - noveum_trace.transport.http_transport - INFO - 📤 EXPORTING TRACE: auto_trace_generate (ID: 83978709-7447-41c7-934a-108bd37480e8) - 1 spans\n",
            "2025-09-15 01:23:51 - noveum_trace.transport.batch_processor - INFO - 📥 ADDING TRACE TO QUEUE: auto_trace_generate (ID: 83978709-7447-41c7-934a-108bd37480e8) - 1 spans\n",
            "2025-09-15 01:23:51 - noveum_trace.transport.batch_processor - INFO - ✅ Successfully queued trace 83978709-7447-41c7-934a-108bd37480e8\n",
            "2025-09-15 01:23:51 - noveum_trace.transport.http_transport - INFO - ✅ Trace 83978709-7447-41c7-934a-108bd37480e8 successfully queued for export\n"
          ]
        },
        {
          "name": "stdout",
          "output_type": "stream",
          "text": [
            "2025-09-15 01:23:51 - INFO - novaeval.evaluators.agent_evaluator - Saving intermediate results after 11 samples\n",
            "2025-09-15 01:23:51 - INFO - novaeval.evaluators.agent_evaluator - Intermediate results saved to demo_results/sample_evaluation/agent_evaluation_results.csv\n"
          ]
        },
        {
          "name": "stderr",
          "output_type": "stream",
          "text": [
            "Evaluating samples: 11it [00:33,  2.64s/it]"
          ]
        },
        {
          "name": "stdout",
          "output_type": "stream",
          "text": [
            "2025-09-15 01:23:51 - INFO - google_genai.models - AFC is enabled with max remote calls: 10.\n",
            "2025-09-15 01:23:52 - ERROR - novaeval.models.base - Error: 429 RESOURCE_EXHAUSTED. {'error': {'code': 429, 'message': 'You exceeded your current quota, please check your plan and billing details. For more information on this error, head to: https://ai.google.dev/gemini-api/docs/rate-limits.', 'status': 'RESOURCE_EXHAUSTED', 'details': [{'@type': 'type.googleapis.com/google.rpc.QuotaFailure', 'violations': [{'quotaMetric': 'generativelanguage.googleapis.com/generate_content_free_tier_requests', 'quotaId': 'GenerateRequestsPerDayPerProjectPerModel-FreeTier', 'quotaDimensions': {'location': 'global', 'model': 'gemini-1.5-flash'}, 'quotaValue': '50'}]}, {'@type': 'type.googleapis.com/google.rpc.Help', 'links': [{'description': 'Learn more about Gemini API quotas', 'url': 'https://ai.google.dev/gemini-api/docs/rate-limits'}]}, {'@type': 'type.googleapis.com/google.rpc.RetryInfo', 'retryDelay': '7s'}]}}\n"
          ]
        },
        {
          "name": "stderr",
          "output_type": "stream",
          "text": [
            "2025-09-15 01:23:52 - noveum_trace.transport.http_transport - INFO - 📤 EXPORTING TRACE: auto_trace_generate (ID: 03900f1e-878e-4282-b4de-ac5bbd291c4a) - 1 spans\n",
            "2025-09-15 01:23:52 - noveum_trace.transport.batch_processor - INFO - 📥 ADDING TRACE TO QUEUE: auto_trace_generate (ID: 03900f1e-878e-4282-b4de-ac5bbd291c4a) - 1 spans\n",
            "2025-09-15 01:23:52 - noveum_trace.transport.batch_processor - INFO - ✅ Successfully queued trace 03900f1e-878e-4282-b4de-ac5bbd291c4a\n",
            "2025-09-15 01:23:52 - noveum_trace.transport.http_transport - INFO - ✅ Trace 03900f1e-878e-4282-b4de-ac5bbd291c4a successfully queued for export\n"
          ]
        },
        {
          "name": "stdout",
          "output_type": "stream",
          "text": [
            "2025-09-15 01:23:52 - INFO - google_genai.models - AFC is enabled with max remote calls: 10.\n",
            "2025-09-15 01:23:53 - ERROR - novaeval.models.base - Error: 429 RESOURCE_EXHAUSTED. {'error': {'code': 429, 'message': 'You exceeded your current quota, please check your plan and billing details. For more information on this error, head to: https://ai.google.dev/gemini-api/docs/rate-limits.', 'status': 'RESOURCE_EXHAUSTED', 'details': [{'@type': 'type.googleapis.com/google.rpc.QuotaFailure', 'violations': [{'quotaMetric': 'generativelanguage.googleapis.com/generate_content_free_tier_requests', 'quotaId': 'GenerateRequestsPerDayPerProjectPerModel-FreeTier', 'quotaDimensions': {'model': 'gemini-1.5-flash', 'location': 'global'}, 'quotaValue': '50'}]}, {'@type': 'type.googleapis.com/google.rpc.Help', 'links': [{'description': 'Learn more about Gemini API quotas', 'url': 'https://ai.google.dev/gemini-api/docs/rate-limits'}]}, {'@type': 'type.googleapis.com/google.rpc.RetryInfo', 'retryDelay': '6s'}]}}\n"
          ]
        },
        {
          "name": "stderr",
          "output_type": "stream",
          "text": [
            "2025-09-15 01:23:53 - noveum_trace.transport.http_transport - INFO - 📤 EXPORTING TRACE: auto_trace_generate (ID: f939a45b-f7f3-4786-86d1-088e4460e7de) - 1 spans\n",
            "2025-09-15 01:23:53 - noveum_trace.transport.batch_processor - INFO - 📥 ADDING TRACE TO QUEUE: auto_trace_generate (ID: f939a45b-f7f3-4786-86d1-088e4460e7de) - 1 spans\n",
            "2025-09-15 01:23:53 - noveum_trace.transport.batch_processor - INFO - ✅ Successfully queued trace f939a45b-f7f3-4786-86d1-088e4460e7de\n",
            "2025-09-15 01:23:53 - noveum_trace.transport.http_transport - INFO - ✅ Trace f939a45b-f7f3-4786-86d1-088e4460e7de successfully queued for export\n"
          ]
        },
        {
          "name": "stdout",
          "output_type": "stream",
          "text": [
            "2025-09-15 01:23:53 - INFO - google_genai.models - AFC is enabled with max remote calls: 10.\n",
            "2025-09-15 01:23:54 - ERROR - novaeval.models.base - Error: 429 RESOURCE_EXHAUSTED. {'error': {'code': 429, 'message': 'You exceeded your current quota, please check your plan and billing details. For more information on this error, head to: https://ai.google.dev/gemini-api/docs/rate-limits.', 'status': 'RESOURCE_EXHAUSTED', 'details': [{'@type': 'type.googleapis.com/google.rpc.QuotaFailure', 'violations': [{'quotaMetric': 'generativelanguage.googleapis.com/generate_content_free_tier_requests', 'quotaId': 'GenerateRequestsPerDayPerProjectPerModel-FreeTier', 'quotaDimensions': {'location': 'global', 'model': 'gemini-1.5-flash'}, 'quotaValue': '50'}]}, {'@type': 'type.googleapis.com/google.rpc.Help', 'links': [{'description': 'Learn more about Gemini API quotas', 'url': 'https://ai.google.dev/gemini-api/docs/rate-limits'}]}, {'@type': 'type.googleapis.com/google.rpc.RetryInfo', 'retryDelay': '5s'}]}}\n"
          ]
        },
        {
          "name": "stderr",
          "output_type": "stream",
          "text": [
            "2025-09-15 01:23:54 - noveum_trace.transport.http_transport - INFO - 📤 EXPORTING TRACE: auto_trace_generate (ID: 2b5ae71e-3758-48fd-823f-0c3f5956bcc0) - 1 spans\n",
            "2025-09-15 01:23:54 - noveum_trace.transport.batch_processor - INFO - 📥 ADDING TRACE TO QUEUE: auto_trace_generate (ID: 2b5ae71e-3758-48fd-823f-0c3f5956bcc0) - 1 spans\n",
            "2025-09-15 01:23:54 - noveum_trace.transport.batch_processor - INFO - ✅ Successfully queued trace 2b5ae71e-3758-48fd-823f-0c3f5956bcc0\n",
            "2025-09-15 01:23:54 - noveum_trace.transport.http_transport - INFO - ✅ Trace 2b5ae71e-3758-48fd-823f-0c3f5956bcc0 successfully queued for export\n"
          ]
        },
        {
          "name": "stdout",
          "output_type": "stream",
          "text": [
            "2025-09-15 01:23:54 - INFO - novaeval.evaluators.agent_evaluator - Saving intermediate results after 12 samples\n",
            "2025-09-15 01:23:54 - INFO - novaeval.evaluators.agent_evaluator - Intermediate results saved to demo_results/sample_evaluation/agent_evaluation_results.csv\n"
          ]
        },
        {
          "name": "stderr",
          "output_type": "stream",
          "text": [
            "Evaluating samples: 12it [00:35,  2.66s/it]"
          ]
        },
        {
          "name": "stdout",
          "output_type": "stream",
          "text": [
            "2025-09-15 01:23:54 - INFO - google_genai.models - AFC is enabled with max remote calls: 10.\n",
            "2025-09-15 01:23:55 - ERROR - novaeval.models.base - Error: 429 RESOURCE_EXHAUSTED. {'error': {'code': 429, 'message': 'You exceeded your current quota, please check your plan and billing details. For more information on this error, head to: https://ai.google.dev/gemini-api/docs/rate-limits.', 'status': 'RESOURCE_EXHAUSTED', 'details': [{'@type': 'type.googleapis.com/google.rpc.QuotaFailure', 'violations': [{'quotaMetric': 'generativelanguage.googleapis.com/generate_content_free_tier_requests', 'quotaId': 'GenerateRequestsPerDayPerProjectPerModel-FreeTier', 'quotaDimensions': {'location': 'global', 'model': 'gemini-1.5-flash'}, 'quotaValue': '50'}]}, {'@type': 'type.googleapis.com/google.rpc.Help', 'links': [{'description': 'Learn more about Gemini API quotas', 'url': 'https://ai.google.dev/gemini-api/docs/rate-limits'}]}, {'@type': 'type.googleapis.com/google.rpc.RetryInfo', 'retryDelay': '5s'}]}}\n"
          ]
        },
        {
          "name": "stderr",
          "output_type": "stream",
          "text": [
            "2025-09-15 01:23:55 - noveum_trace.transport.http_transport - INFO - 📤 EXPORTING TRACE: auto_trace_generate (ID: 54fc5efd-fd39-4388-9836-88d2936411f6) - 1 spans\n",
            "2025-09-15 01:23:55 - noveum_trace.transport.batch_processor - INFO - 📥 ADDING TRACE TO QUEUE: auto_trace_generate (ID: 54fc5efd-fd39-4388-9836-88d2936411f6) - 1 spans\n",
            "2025-09-15 01:23:55 - noveum_trace.transport.batch_processor - INFO - ✅ Successfully queued trace 54fc5efd-fd39-4388-9836-88d2936411f6\n",
            "2025-09-15 01:23:55 - noveum_trace.transport.http_transport - INFO - ✅ Trace 54fc5efd-fd39-4388-9836-88d2936411f6 successfully queued for export\n"
          ]
        },
        {
          "name": "stdout",
          "output_type": "stream",
          "text": [
            "2025-09-15 01:23:55 - INFO - google_genai.models - AFC is enabled with max remote calls: 10.\n",
            "2025-09-15 01:23:56 - ERROR - novaeval.models.base - Error: 429 RESOURCE_EXHAUSTED. {'error': {'code': 429, 'message': 'You exceeded your current quota, please check your plan and billing details. For more information on this error, head to: https://ai.google.dev/gemini-api/docs/rate-limits.', 'status': 'RESOURCE_EXHAUSTED', 'details': [{'@type': 'type.googleapis.com/google.rpc.QuotaFailure', 'violations': [{'quotaMetric': 'generativelanguage.googleapis.com/generate_content_free_tier_requests', 'quotaId': 'GenerateRequestsPerDayPerProjectPerModel-FreeTier', 'quotaDimensions': {'location': 'global', 'model': 'gemini-1.5-flash'}, 'quotaValue': '50'}]}, {'@type': 'type.googleapis.com/google.rpc.Help', 'links': [{'description': 'Learn more about Gemini API quotas', 'url': 'https://ai.google.dev/gemini-api/docs/rate-limits'}]}, {'@type': 'type.googleapis.com/google.rpc.RetryInfo', 'retryDelay': '3s'}]}}\n"
          ]
        },
        {
          "name": "stderr",
          "output_type": "stream",
          "text": [
            "2025-09-15 01:23:56 - noveum_trace.transport.http_transport - INFO - 📤 EXPORTING TRACE: auto_trace_generate (ID: 8a11f0c2-1444-4879-b65b-7caa57affc97) - 1 spans\n",
            "2025-09-15 01:23:56 - noveum_trace.transport.batch_processor - INFO - 📥 ADDING TRACE TO QUEUE: auto_trace_generate (ID: 8a11f0c2-1444-4879-b65b-7caa57affc97) - 1 spans\n",
            "2025-09-15 01:23:56 - noveum_trace.transport.batch_processor - INFO - ✅ Successfully queued trace 8a11f0c2-1444-4879-b65b-7caa57affc97\n",
            "2025-09-15 01:23:56 - noveum_trace.transport.http_transport - INFO - ✅ Trace 8a11f0c2-1444-4879-b65b-7caa57affc97 successfully queued for export\n"
          ]
        },
        {
          "name": "stdout",
          "output_type": "stream",
          "text": [
            "2025-09-15 01:23:56 - INFO - google_genai.models - AFC is enabled with max remote calls: 10.\n",
            "2025-09-15 01:23:56 - ERROR - novaeval.models.base - Error: 429 RESOURCE_EXHAUSTED. {'error': {'code': 429, 'message': 'You exceeded your current quota, please check your plan and billing details. For more information on this error, head to: https://ai.google.dev/gemini-api/docs/rate-limits.', 'status': 'RESOURCE_EXHAUSTED', 'details': [{'@type': 'type.googleapis.com/google.rpc.QuotaFailure', 'violations': [{'quotaMetric': 'generativelanguage.googleapis.com/generate_content_free_tier_requests', 'quotaId': 'GenerateRequestsPerDayPerProjectPerModel-FreeTier', 'quotaDimensions': {'location': 'global', 'model': 'gemini-1.5-flash'}, 'quotaValue': '50'}]}, {'@type': 'type.googleapis.com/google.rpc.Help', 'links': [{'description': 'Learn more about Gemini API quotas', 'url': 'https://ai.google.dev/gemini-api/docs/rate-limits'}]}, {'@type': 'type.googleapis.com/google.rpc.RetryInfo', 'retryDelay': '3s'}]}}\n"
          ]
        },
        {
          "name": "stderr",
          "output_type": "stream",
          "text": [
            "2025-09-15 01:23:56 - noveum_trace.transport.http_transport - INFO - 📤 EXPORTING TRACE: auto_trace_generate (ID: ea132823-4bb9-47c5-8550-1b0a6e5fc338) - 1 spans\n",
            "2025-09-15 01:23:56 - noveum_trace.transport.batch_processor - INFO - 📥 ADDING TRACE TO QUEUE: auto_trace_generate (ID: ea132823-4bb9-47c5-8550-1b0a6e5fc338) - 1 spans\n",
            "2025-09-15 01:23:56 - noveum_trace.transport.batch_processor - INFO - ✅ Successfully queued trace ea132823-4bb9-47c5-8550-1b0a6e5fc338\n",
            "2025-09-15 01:23:56 - noveum_trace.transport.http_transport - INFO - ✅ Trace ea132823-4bb9-47c5-8550-1b0a6e5fc338 successfully queued for export\n"
          ]
        },
        {
          "name": "stdout",
          "output_type": "stream",
          "text": [
            "2025-09-15 01:23:56 - INFO - google_genai.models - AFC is enabled with max remote calls: 10.\n",
            "2025-09-15 01:23:57 - ERROR - novaeval.models.base - Error: 429 RESOURCE_EXHAUSTED. {'error': {'code': 429, 'message': 'You exceeded your current quota, please check your plan and billing details. For more information on this error, head to: https://ai.google.dev/gemini-api/docs/rate-limits.', 'status': 'RESOURCE_EXHAUSTED', 'details': [{'@type': 'type.googleapis.com/google.rpc.QuotaFailure', 'violations': [{'quotaMetric': 'generativelanguage.googleapis.com/generate_content_free_tier_requests', 'quotaId': 'GenerateRequestsPerDayPerProjectPerModel-FreeTier', 'quotaDimensions': {'location': 'global', 'model': 'gemini-1.5-flash'}, 'quotaValue': '50'}]}, {'@type': 'type.googleapis.com/google.rpc.Help', 'links': [{'description': 'Learn more about Gemini API quotas', 'url': 'https://ai.google.dev/gemini-api/docs/rate-limits'}]}, {'@type': 'type.googleapis.com/google.rpc.RetryInfo', 'retryDelay': '2s'}]}}\n"
          ]
        },
        {
          "name": "stderr",
          "output_type": "stream",
          "text": [
            "2025-09-15 01:23:57 - noveum_trace.transport.http_transport - INFO - 📤 EXPORTING TRACE: auto_trace_generate (ID: 53825b56-7e5f-4089-af12-2ee109e3c387) - 1 spans\n",
            "2025-09-15 01:23:57 - noveum_trace.transport.batch_processor - INFO - 📥 ADDING TRACE TO QUEUE: auto_trace_generate (ID: 53825b56-7e5f-4089-af12-2ee109e3c387) - 1 spans\n",
            "2025-09-15 01:23:57 - noveum_trace.transport.batch_processor - INFO - ✅ Successfully queued trace 53825b56-7e5f-4089-af12-2ee109e3c387\n",
            "2025-09-15 01:23:57 - noveum_trace.transport.http_transport - INFO - ✅ Trace 53825b56-7e5f-4089-af12-2ee109e3c387 successfully queued for export\n"
          ]
        },
        {
          "name": "stdout",
          "output_type": "stream",
          "text": [
            "2025-09-15 01:23:57 - INFO - google_genai.models - AFC is enabled with max remote calls: 10.\n",
            "2025-09-15 01:23:58 - ERROR - novaeval.models.base - Error: 429 RESOURCE_EXHAUSTED. {'error': {'code': 429, 'message': 'You exceeded your current quota, please check your plan and billing details. For more information on this error, head to: https://ai.google.dev/gemini-api/docs/rate-limits.', 'status': 'RESOURCE_EXHAUSTED', 'details': [{'@type': 'type.googleapis.com/google.rpc.QuotaFailure', 'violations': [{'quotaMetric': 'generativelanguage.googleapis.com/generate_content_free_tier_requests', 'quotaId': 'GenerateRequestsPerDayPerProjectPerModel-FreeTier', 'quotaDimensions': {'location': 'global', 'model': 'gemini-1.5-flash'}, 'quotaValue': '50'}]}, {'@type': 'type.googleapis.com/google.rpc.Help', 'links': [{'description': 'Learn more about Gemini API quotas', 'url': 'https://ai.google.dev/gemini-api/docs/rate-limits'}]}, {'@type': 'type.googleapis.com/google.rpc.RetryInfo', 'retryDelay': '1s'}]}}\n"
          ]
        },
        {
          "name": "stderr",
          "output_type": "stream",
          "text": [
            "2025-09-15 01:23:58 - noveum_trace.transport.http_transport - INFO - 📤 EXPORTING TRACE: auto_trace_generate (ID: bc4c71ff-25ac-499c-9b29-9c57078a526b) - 1 spans\n",
            "2025-09-15 01:23:58 - noveum_trace.transport.batch_processor - INFO - 📥 ADDING TRACE TO QUEUE: auto_trace_generate (ID: bc4c71ff-25ac-499c-9b29-9c57078a526b) - 1 spans\n",
            "2025-09-15 01:23:58 - noveum_trace.transport.batch_processor - INFO - ✅ Successfully queued trace bc4c71ff-25ac-499c-9b29-9c57078a526b\n",
            "2025-09-15 01:23:58 - noveum_trace.transport.http_transport - INFO - ✅ Trace bc4c71ff-25ac-499c-9b29-9c57078a526b successfully queued for export\n"
          ]
        },
        {
          "name": "stdout",
          "output_type": "stream",
          "text": [
            "2025-09-15 01:23:58 - INFO - novaeval.evaluators.agent_evaluator - Saving intermediate results after 13 samples\n",
            "2025-09-15 01:23:58 - INFO - novaeval.evaluators.agent_evaluator - Intermediate results saved to demo_results/sample_evaluation/agent_evaluation_results.csv\n"
          ]
        },
        {
          "name": "stderr",
          "output_type": "stream",
          "text": [
            "Evaluating samples: 13it [00:39,  2.99s/it]"
          ]
        },
        {
          "name": "stdout",
          "output_type": "stream",
          "text": [
            "2025-09-15 01:23:58 - INFO - google_genai.models - AFC is enabled with max remote calls: 10.\n",
            "2025-09-15 01:23:59 - ERROR - novaeval.models.base - Error: 429 RESOURCE_EXHAUSTED. {'error': {'code': 429, 'message': 'You exceeded your current quota, please check your plan and billing details. For more information on this error, head to: https://ai.google.dev/gemini-api/docs/rate-limits.', 'status': 'RESOURCE_EXHAUSTED', 'details': [{'@type': 'type.googleapis.com/google.rpc.QuotaFailure', 'violations': [{'quotaMetric': 'generativelanguage.googleapis.com/generate_content_free_tier_requests', 'quotaId': 'GenerateRequestsPerDayPerProjectPerModel-FreeTier', 'quotaDimensions': {'model': 'gemini-1.5-flash', 'location': 'global'}, 'quotaValue': '50'}]}, {'@type': 'type.googleapis.com/google.rpc.Help', 'links': [{'description': 'Learn more about Gemini API quotas', 'url': 'https://ai.google.dev/gemini-api/docs/rate-limits'}]}, {'@type': 'type.googleapis.com/google.rpc.RetryInfo', 'retryDelay': '0s'}]}}\n"
          ]
        },
        {
          "name": "stderr",
          "output_type": "stream",
          "text": [
            "2025-09-15 01:23:59 - noveum_trace.transport.http_transport - INFO - 📤 EXPORTING TRACE: auto_trace_generate (ID: 5dc7bf75-541e-4298-9d0f-fa67183b6637) - 1 spans\n",
            "2025-09-15 01:23:59 - noveum_trace.transport.batch_processor - INFO - 📥 ADDING TRACE TO QUEUE: auto_trace_generate (ID: 5dc7bf75-541e-4298-9d0f-fa67183b6637) - 1 spans\n",
            "2025-09-15 01:23:59 - noveum_trace.transport.batch_processor - INFO - ✅ Successfully queued trace 5dc7bf75-541e-4298-9d0f-fa67183b6637\n",
            "2025-09-15 01:23:59 - noveum_trace.transport.http_transport - INFO - ✅ Trace 5dc7bf75-541e-4298-9d0f-fa67183b6637 successfully queued for export\n"
          ]
        },
        {
          "name": "stdout",
          "output_type": "stream",
          "text": [
            "2025-09-15 01:23:59 - INFO - google_genai.models - AFC is enabled with max remote calls: 10.\n",
            "2025-09-15 01:23:59 - ERROR - novaeval.models.base - Error: 429 RESOURCE_EXHAUSTED. {'error': {'code': 429, 'message': 'You exceeded your current quota, please check your plan and billing details. For more information on this error, head to: https://ai.google.dev/gemini-api/docs/rate-limits.', 'status': 'RESOURCE_EXHAUSTED', 'details': [{'@type': 'type.googleapis.com/google.rpc.QuotaFailure', 'violations': [{'quotaMetric': 'generativelanguage.googleapis.com/generate_content_free_tier_requests', 'quotaId': 'GenerateRequestsPerDayPerProjectPerModel-FreeTier', 'quotaDimensions': {'location': 'global', 'model': 'gemini-1.5-flash'}, 'quotaValue': '50'}]}, {'@type': 'type.googleapis.com/google.rpc.Help', 'links': [{'description': 'Learn more about Gemini API quotas', 'url': 'https://ai.google.dev/gemini-api/docs/rate-limits'}]}, {'@type': 'type.googleapis.com/google.rpc.RetryInfo', 'retryDelay': '0s'}]}}\n"
          ]
        },
        {
          "name": "stderr",
          "output_type": "stream",
          "text": [
            "2025-09-15 01:23:59 - noveum_trace.transport.http_transport - INFO - 📤 EXPORTING TRACE: auto_trace_generate (ID: 265e6705-b437-4b55-bbee-186c0a8a7db0) - 1 spans\n",
            "2025-09-15 01:23:59 - noveum_trace.transport.batch_processor - INFO - 📥 ADDING TRACE TO QUEUE: auto_trace_generate (ID: 265e6705-b437-4b55-bbee-186c0a8a7db0) - 1 spans\n",
            "2025-09-15 01:23:59 - noveum_trace.transport.batch_processor - INFO - ✅ Successfully queued trace 265e6705-b437-4b55-bbee-186c0a8a7db0\n",
            "2025-09-15 01:23:59 - noveum_trace.transport.http_transport - INFO - ✅ Trace 265e6705-b437-4b55-bbee-186c0a8a7db0 successfully queued for export\n"
          ]
        },
        {
          "name": "stdout",
          "output_type": "stream",
          "text": [
            "2025-09-15 01:23:59 - INFO - google_genai.models - AFC is enabled with max remote calls: 10.\n",
            "2025-09-15 01:24:01 - ERROR - novaeval.models.base - Error: 429 RESOURCE_EXHAUSTED. {'error': {'code': 429, 'message': 'You exceeded your current quota, please check your plan and billing details. For more information on this error, head to: https://ai.google.dev/gemini-api/docs/rate-limits.', 'status': 'RESOURCE_EXHAUSTED', 'details': [{'@type': 'type.googleapis.com/google.rpc.QuotaFailure', 'violations': [{'quotaMetric': 'generativelanguage.googleapis.com/generate_content_free_tier_requests', 'quotaId': 'GenerateRequestsPerDayPerProjectPerModel-FreeTier', 'quotaDimensions': {'model': 'gemini-1.5-flash', 'location': 'global'}, 'quotaValue': '50'}]}, {'@type': 'type.googleapis.com/google.rpc.Help', 'links': [{'description': 'Learn more about Gemini API quotas', 'url': 'https://ai.google.dev/gemini-api/docs/rate-limits'}]}, {'@type': 'type.googleapis.com/google.rpc.RetryInfo', 'retryDelay': '59s'}]}}\n"
          ]
        },
        {
          "name": "stderr",
          "output_type": "stream",
          "text": [
            "2025-09-15 01:24:01 - noveum_trace.transport.http_transport - INFO - 📤 EXPORTING TRACE: auto_trace_generate (ID: 354dcf0d-7eb5-44bc-b41c-17eb2733868d) - 1 spans\n",
            "2025-09-15 01:24:01 - noveum_trace.transport.batch_processor - INFO - 📥 ADDING TRACE TO QUEUE: auto_trace_generate (ID: 354dcf0d-7eb5-44bc-b41c-17eb2733868d) - 1 spans\n",
            "2025-09-15 01:24:01 - noveum_trace.transport.batch_processor - INFO - ✅ Successfully queued trace 354dcf0d-7eb5-44bc-b41c-17eb2733868d\n",
            "2025-09-15 01:24:01 - noveum_trace.transport.http_transport - INFO - ✅ Trace 354dcf0d-7eb5-44bc-b41c-17eb2733868d successfully queued for export\n"
          ]
        },
        {
          "name": "stdout",
          "output_type": "stream",
          "text": [
            "2025-09-15 01:24:01 - INFO - novaeval.evaluators.agent_evaluator - Saving intermediate results after 14 samples\n",
            "2025-09-15 01:24:01 - INFO - novaeval.evaluators.agent_evaluator - Intermediate results saved to demo_results/sample_evaluation/agent_evaluation_results.csv\n"
          ]
        },
        {
          "name": "stderr",
          "output_type": "stream",
          "text": [
            "Evaluating samples: 14it [00:42,  2.92s/it]"
          ]
        },
        {
          "name": "stdout",
          "output_type": "stream",
          "text": [
            "2025-09-15 01:24:01 - INFO - google_genai.models - AFC is enabled with max remote calls: 10.\n",
            "2025-09-15 01:24:01 - ERROR - novaeval.models.base - Error: 429 RESOURCE_EXHAUSTED. {'error': {'code': 429, 'message': 'You exceeded your current quota, please check your plan and billing details. For more information on this error, head to: https://ai.google.dev/gemini-api/docs/rate-limits.', 'status': 'RESOURCE_EXHAUSTED', 'details': [{'@type': 'type.googleapis.com/google.rpc.QuotaFailure', 'violations': [{'quotaMetric': 'generativelanguage.googleapis.com/generate_content_free_tier_requests', 'quotaId': 'GenerateRequestsPerDayPerProjectPerModel-FreeTier', 'quotaDimensions': {'location': 'global', 'model': 'gemini-1.5-flash'}, 'quotaValue': '50'}]}, {'@type': 'type.googleapis.com/google.rpc.Help', 'links': [{'description': 'Learn more about Gemini API quotas', 'url': 'https://ai.google.dev/gemini-api/docs/rate-limits'}]}, {'@type': 'type.googleapis.com/google.rpc.RetryInfo', 'retryDelay': '58s'}]}}\n"
          ]
        },
        {
          "name": "stderr",
          "output_type": "stream",
          "text": [
            "2025-09-15 01:24:01 - noveum_trace.transport.http_transport - INFO - 📤 EXPORTING TRACE: auto_trace_generate (ID: cf800b09-6b69-4b88-8f37-e977dbc8356b) - 1 spans\n",
            "2025-09-15 01:24:01 - noveum_trace.transport.batch_processor - INFO - 📥 ADDING TRACE TO QUEUE: auto_trace_generate (ID: cf800b09-6b69-4b88-8f37-e977dbc8356b) - 1 spans\n",
            "2025-09-15 01:24:01 - noveum_trace.transport.batch_processor - INFO - ✅ Successfully queued trace cf800b09-6b69-4b88-8f37-e977dbc8356b\n",
            "2025-09-15 01:24:01 - noveum_trace.transport.http_transport - INFO - ✅ Trace cf800b09-6b69-4b88-8f37-e977dbc8356b successfully queued for export\n"
          ]
        },
        {
          "name": "stdout",
          "output_type": "stream",
          "text": [
            "2025-09-15 01:24:01 - INFO - google_genai.models - AFC is enabled with max remote calls: 10.\n",
            "2025-09-15 01:24:02 - ERROR - novaeval.models.base - Error: 429 RESOURCE_EXHAUSTED. {'error': {'code': 429, 'message': 'You exceeded your current quota, please check your plan and billing details. For more information on this error, head to: https://ai.google.dev/gemini-api/docs/rate-limits.', 'status': 'RESOURCE_EXHAUSTED', 'details': [{'@type': 'type.googleapis.com/google.rpc.QuotaFailure', 'violations': [{'quotaMetric': 'generativelanguage.googleapis.com/generate_content_free_tier_requests', 'quotaId': 'GenerateRequestsPerDayPerProjectPerModel-FreeTier', 'quotaDimensions': {'location': 'global', 'model': 'gemini-1.5-flash'}, 'quotaValue': '50'}]}, {'@type': 'type.googleapis.com/google.rpc.Help', 'links': [{'description': 'Learn more about Gemini API quotas', 'url': 'https://ai.google.dev/gemini-api/docs/rate-limits'}]}, {'@type': 'type.googleapis.com/google.rpc.RetryInfo', 'retryDelay': '57s'}]}}\n"
          ]
        },
        {
          "name": "stderr",
          "output_type": "stream",
          "text": [
            "2025-09-15 01:24:02 - noveum_trace.transport.http_transport - INFO - 📤 EXPORTING TRACE: auto_trace_generate (ID: 25ce0875-79aa-4b42-b158-9963b239ff50) - 1 spans\n",
            "2025-09-15 01:24:02 - noveum_trace.transport.batch_processor - INFO - 📥 ADDING TRACE TO QUEUE: auto_trace_generate (ID: 25ce0875-79aa-4b42-b158-9963b239ff50) - 1 spans\n",
            "2025-09-15 01:24:02 - noveum_trace.transport.batch_processor - INFO - ✅ Successfully queued trace 25ce0875-79aa-4b42-b158-9963b239ff50\n",
            "2025-09-15 01:24:02 - noveum_trace.transport.http_transport - INFO - ✅ Trace 25ce0875-79aa-4b42-b158-9963b239ff50 successfully queued for export\n"
          ]
        },
        {
          "name": "stdout",
          "output_type": "stream",
          "text": [
            "2025-09-15 01:24:02 - INFO - google_genai.models - AFC is enabled with max remote calls: 10.\n",
            "2025-09-15 01:24:03 - ERROR - novaeval.models.base - Error: 429 RESOURCE_EXHAUSTED. {'error': {'code': 429, 'message': 'You exceeded your current quota, please check your plan and billing details. For more information on this error, head to: https://ai.google.dev/gemini-api/docs/rate-limits.', 'status': 'RESOURCE_EXHAUSTED', 'details': [{'@type': 'type.googleapis.com/google.rpc.QuotaFailure', 'violations': [{'quotaMetric': 'generativelanguage.googleapis.com/generate_content_free_tier_requests', 'quotaId': 'GenerateRequestsPerDayPerProjectPerModel-FreeTier', 'quotaDimensions': {'model': 'gemini-1.5-flash', 'location': 'global'}, 'quotaValue': '50'}]}, {'@type': 'type.googleapis.com/google.rpc.Help', 'links': [{'description': 'Learn more about Gemini API quotas', 'url': 'https://ai.google.dev/gemini-api/docs/rate-limits'}]}, {'@type': 'type.googleapis.com/google.rpc.RetryInfo', 'retryDelay': '56s'}]}}\n"
          ]
        },
        {
          "name": "stderr",
          "output_type": "stream",
          "text": [
            "2025-09-15 01:24:03 - noveum_trace.transport.http_transport - INFO - 📤 EXPORTING TRACE: auto_trace_generate (ID: 4304fc9a-b8c8-4847-aaae-7ceefef99339) - 1 spans\n",
            "2025-09-15 01:24:03 - noveum_trace.transport.batch_processor - INFO - 📥 ADDING TRACE TO QUEUE: auto_trace_generate (ID: 4304fc9a-b8c8-4847-aaae-7ceefef99339) - 1 spans\n",
            "2025-09-15 01:24:03 - noveum_trace.transport.batch_processor - INFO - ✅ Successfully queued trace 4304fc9a-b8c8-4847-aaae-7ceefef99339\n",
            "2025-09-15 01:24:03 - noveum_trace.transport.http_transport - INFO - ✅ Trace 4304fc9a-b8c8-4847-aaae-7ceefef99339 successfully queued for export\n"
          ]
        },
        {
          "name": "stdout",
          "output_type": "stream",
          "text": [
            "2025-09-15 01:24:03 - INFO - novaeval.evaluators.agent_evaluator - Saving intermediate results after 15 samples\n",
            "2025-09-15 01:24:03 - INFO - novaeval.evaluators.agent_evaluator - Intermediate results saved to demo_results/sample_evaluation/agent_evaluation_results.csv\n"
          ]
        },
        {
          "name": "stderr",
          "output_type": "stream",
          "text": [
            "Evaluating samples: 15it [00:44,  2.72s/it]"
          ]
        },
        {
          "name": "stdout",
          "output_type": "stream",
          "text": [
            "2025-09-15 01:24:03 - INFO - google_genai.models - AFC is enabled with max remote calls: 10.\n",
            "2025-09-15 01:24:04 - ERROR - novaeval.models.base - Error: 429 RESOURCE_EXHAUSTED. {'error': {'code': 429, 'message': 'You exceeded your current quota, please check your plan and billing details. For more information on this error, head to: https://ai.google.dev/gemini-api/docs/rate-limits.', 'status': 'RESOURCE_EXHAUSTED', 'details': [{'@type': 'type.googleapis.com/google.rpc.QuotaFailure', 'violations': [{'quotaMetric': 'generativelanguage.googleapis.com/generate_content_free_tier_requests', 'quotaId': 'GenerateRequestsPerDayPerProjectPerModel-FreeTier', 'quotaDimensions': {'location': 'global', 'model': 'gemini-1.5-flash'}, 'quotaValue': '50'}]}, {'@type': 'type.googleapis.com/google.rpc.Help', 'links': [{'description': 'Learn more about Gemini API quotas', 'url': 'https://ai.google.dev/gemini-api/docs/rate-limits'}]}, {'@type': 'type.googleapis.com/google.rpc.RetryInfo', 'retryDelay': '55s'}]}}\n"
          ]
        },
        {
          "name": "stderr",
          "output_type": "stream",
          "text": [
            "2025-09-15 01:24:04 - noveum_trace.transport.http_transport - INFO - 📤 EXPORTING TRACE: auto_trace_generate (ID: b793dcde-d9c8-40a6-b1d3-253367028dbd) - 1 spans\n",
            "2025-09-15 01:24:04 - noveum_trace.transport.batch_processor - INFO - 📥 ADDING TRACE TO QUEUE: auto_trace_generate (ID: b793dcde-d9c8-40a6-b1d3-253367028dbd) - 1 spans\n",
            "2025-09-15 01:24:04 - noveum_trace.transport.batch_processor - INFO - ✅ Successfully queued trace b793dcde-d9c8-40a6-b1d3-253367028dbd\n",
            "2025-09-15 01:24:04 - noveum_trace.transport.http_transport - INFO - ✅ Trace b793dcde-d9c8-40a6-b1d3-253367028dbd successfully queued for export\n"
          ]
        },
        {
          "name": "stdout",
          "output_type": "stream",
          "text": [
            "2025-09-15 01:24:04 - INFO - google_genai.models - AFC is enabled with max remote calls: 10.\n",
            "2025-09-15 01:24:04 - ERROR - novaeval.models.base - Error: 429 RESOURCE_EXHAUSTED. {'error': {'code': 429, 'message': 'You exceeded your current quota, please check your plan and billing details. For more information on this error, head to: https://ai.google.dev/gemini-api/docs/rate-limits.', 'status': 'RESOURCE_EXHAUSTED', 'details': [{'@type': 'type.googleapis.com/google.rpc.QuotaFailure', 'violations': [{'quotaMetric': 'generativelanguage.googleapis.com/generate_content_free_tier_requests', 'quotaId': 'GenerateRequestsPerDayPerProjectPerModel-FreeTier', 'quotaDimensions': {'location': 'global', 'model': 'gemini-1.5-flash'}, 'quotaValue': '50'}]}, {'@type': 'type.googleapis.com/google.rpc.Help', 'links': [{'description': 'Learn more about Gemini API quotas', 'url': 'https://ai.google.dev/gemini-api/docs/rate-limits'}]}, {'@type': 'type.googleapis.com/google.rpc.RetryInfo', 'retryDelay': '55s'}]}}\n"
          ]
        },
        {
          "name": "stderr",
          "output_type": "stream",
          "text": [
            "2025-09-15 01:24:04 - noveum_trace.transport.http_transport - INFO - 📤 EXPORTING TRACE: auto_trace_generate (ID: 5e0d8e3c-5d0e-45f7-a640-c881d27a7d6d) - 1 spans\n",
            "2025-09-15 01:24:04 - noveum_trace.transport.batch_processor - INFO - 📥 ADDING TRACE TO QUEUE: auto_trace_generate (ID: 5e0d8e3c-5d0e-45f7-a640-c881d27a7d6d) - 1 spans\n",
            "2025-09-15 01:24:04 - noveum_trace.transport.batch_processor - INFO - ✅ Successfully queued trace 5e0d8e3c-5d0e-45f7-a640-c881d27a7d6d\n",
            "2025-09-15 01:24:04 - noveum_trace.transport.http_transport - INFO - ✅ Trace 5e0d8e3c-5d0e-45f7-a640-c881d27a7d6d successfully queued for export\n"
          ]
        },
        {
          "name": "stdout",
          "output_type": "stream",
          "text": [
            "2025-09-15 01:24:04 - INFO - google_genai.models - AFC is enabled with max remote calls: 10.\n",
            "2025-09-15 01:24:06 - ERROR - novaeval.models.base - Error: 429 RESOURCE_EXHAUSTED. {'error': {'code': 429, 'message': 'You exceeded your current quota, please check your plan and billing details. For more information on this error, head to: https://ai.google.dev/gemini-api/docs/rate-limits.', 'status': 'RESOURCE_EXHAUSTED', 'details': [{'@type': 'type.googleapis.com/google.rpc.QuotaFailure', 'violations': [{'quotaMetric': 'generativelanguage.googleapis.com/generate_content_free_tier_requests', 'quotaId': 'GenerateRequestsPerDayPerProjectPerModel-FreeTier', 'quotaDimensions': {'location': 'global', 'model': 'gemini-1.5-flash'}, 'quotaValue': '50'}]}, {'@type': 'type.googleapis.com/google.rpc.Help', 'links': [{'description': 'Learn more about Gemini API quotas', 'url': 'https://ai.google.dev/gemini-api/docs/rate-limits'}]}, {'@type': 'type.googleapis.com/google.rpc.RetryInfo', 'retryDelay': '54s'}]}}\n"
          ]
        },
        {
          "name": "stderr",
          "output_type": "stream",
          "text": [
            "2025-09-15 01:24:06 - noveum_trace.transport.http_transport - INFO - 📤 EXPORTING TRACE: auto_trace_generate (ID: 6ff10c10-8147-4491-8568-f1010c47c1bb) - 1 spans\n",
            "2025-09-15 01:24:06 - noveum_trace.transport.batch_processor - INFO - 📥 ADDING TRACE TO QUEUE: auto_trace_generate (ID: 6ff10c10-8147-4491-8568-f1010c47c1bb) - 1 spans\n",
            "2025-09-15 01:24:06 - noveum_trace.transport.batch_processor - INFO - ✅ Successfully queued trace 6ff10c10-8147-4491-8568-f1010c47c1bb\n",
            "2025-09-15 01:24:06 - noveum_trace.transport.http_transport - INFO - ✅ Trace 6ff10c10-8147-4491-8568-f1010c47c1bb successfully queued for export\n"
          ]
        },
        {
          "name": "stdout",
          "output_type": "stream",
          "text": [
            "2025-09-15 01:24:06 - INFO - google_genai.models - AFC is enabled with max remote calls: 10.\n",
            "2025-09-15 01:24:06 - ERROR - novaeval.models.base - Error: 429 RESOURCE_EXHAUSTED. {'error': {'code': 429, 'message': 'You exceeded your current quota, please check your plan and billing details. For more information on this error, head to: https://ai.google.dev/gemini-api/docs/rate-limits.', 'status': 'RESOURCE_EXHAUSTED', 'details': [{'@type': 'type.googleapis.com/google.rpc.QuotaFailure', 'violations': [{'quotaMetric': 'generativelanguage.googleapis.com/generate_content_free_tier_requests', 'quotaId': 'GenerateRequestsPerDayPerProjectPerModel-FreeTier', 'quotaDimensions': {'model': 'gemini-1.5-flash', 'location': 'global'}, 'quotaValue': '50'}]}, {'@type': 'type.googleapis.com/google.rpc.Help', 'links': [{'description': 'Learn more about Gemini API quotas', 'url': 'https://ai.google.dev/gemini-api/docs/rate-limits'}]}, {'@type': 'type.googleapis.com/google.rpc.RetryInfo', 'retryDelay': '53s'}]}}\n"
          ]
        },
        {
          "name": "stderr",
          "output_type": "stream",
          "text": [
            "2025-09-15 01:24:06 - noveum_trace.transport.http_transport - INFO - 📤 EXPORTING TRACE: auto_trace_generate (ID: c20565c6-2522-4278-b018-c26985d9ddf9) - 1 spans\n",
            "2025-09-15 01:24:06 - noveum_trace.transport.batch_processor - INFO - 📥 ADDING TRACE TO QUEUE: auto_trace_generate (ID: c20565c6-2522-4278-b018-c26985d9ddf9) - 1 spans\n",
            "2025-09-15 01:24:06 - noveum_trace.transport.batch_processor - INFO - ✅ Successfully queued trace c20565c6-2522-4278-b018-c26985d9ddf9\n",
            "2025-09-15 01:24:06 - noveum_trace.transport.http_transport - INFO - ✅ Trace c20565c6-2522-4278-b018-c26985d9ddf9 successfully queued for export\n"
          ]
        },
        {
          "name": "stdout",
          "output_type": "stream",
          "text": [
            "2025-09-15 01:24:06 - INFO - google_genai.models - AFC is enabled with max remote calls: 10.\n",
            "2025-09-15 01:24:07 - ERROR - novaeval.models.base - Error: 429 RESOURCE_EXHAUSTED. {'error': {'code': 429, 'message': 'You exceeded your current quota, please check your plan and billing details. For more information on this error, head to: https://ai.google.dev/gemini-api/docs/rate-limits.', 'status': 'RESOURCE_EXHAUSTED', 'details': [{'@type': 'type.googleapis.com/google.rpc.QuotaFailure', 'violations': [{'quotaMetric': 'generativelanguage.googleapis.com/generate_content_free_tier_requests', 'quotaId': 'GenerateRequestsPerDayPerProjectPerModel-FreeTier', 'quotaDimensions': {'location': 'global', 'model': 'gemini-1.5-flash'}, 'quotaValue': '50'}]}, {'@type': 'type.googleapis.com/google.rpc.Help', 'links': [{'description': 'Learn more about Gemini API quotas', 'url': 'https://ai.google.dev/gemini-api/docs/rate-limits'}]}, {'@type': 'type.googleapis.com/google.rpc.RetryInfo', 'retryDelay': '52s'}]}}\n"
          ]
        },
        {
          "name": "stderr",
          "output_type": "stream",
          "text": [
            "2025-09-15 01:24:07 - noveum_trace.transport.http_transport - INFO - 📤 EXPORTING TRACE: auto_trace_generate (ID: 13a92917-d58c-42b7-a7a0-00ca9f9cec93) - 1 spans\n",
            "2025-09-15 01:24:07 - noveum_trace.transport.batch_processor - INFO - 📥 ADDING TRACE TO QUEUE: auto_trace_generate (ID: 13a92917-d58c-42b7-a7a0-00ca9f9cec93) - 1 spans\n",
            "2025-09-15 01:24:07 - noveum_trace.transport.batch_processor - INFO - ✅ Successfully queued trace 13a92917-d58c-42b7-a7a0-00ca9f9cec93\n",
            "2025-09-15 01:24:07 - noveum_trace.transport.http_transport - INFO - ✅ Trace 13a92917-d58c-42b7-a7a0-00ca9f9cec93 successfully queued for export\n"
          ]
        },
        {
          "name": "stdout",
          "output_type": "stream",
          "text": [
            "2025-09-15 01:24:07 - INFO - novaeval.evaluators.agent_evaluator - Saving intermediate results after 16 samples\n",
            "2025-09-15 01:24:07 - INFO - novaeval.evaluators.agent_evaluator - Intermediate results saved to demo_results/sample_evaluation/agent_evaluation_results.csv\n"
          ]
        },
        {
          "name": "stderr",
          "output_type": "stream",
          "text": [
            "Evaluating samples: 16it [00:49,  3.23s/it]"
          ]
        },
        {
          "name": "stdout",
          "output_type": "stream",
          "text": [
            "2025-09-15 01:24:07 - INFO - google_genai.models - AFC is enabled with max remote calls: 10.\n",
            "2025-09-15 01:24:08 - ERROR - novaeval.models.base - Error: 429 RESOURCE_EXHAUSTED. {'error': {'code': 429, 'message': 'You exceeded your current quota, please check your plan and billing details. For more information on this error, head to: https://ai.google.dev/gemini-api/docs/rate-limits.', 'status': 'RESOURCE_EXHAUSTED', 'details': [{'@type': 'type.googleapis.com/google.rpc.QuotaFailure', 'violations': [{'quotaMetric': 'generativelanguage.googleapis.com/generate_content_free_tier_requests', 'quotaId': 'GenerateRequestsPerDayPerProjectPerModel-FreeTier', 'quotaDimensions': {'location': 'global', 'model': 'gemini-1.5-flash'}, 'quotaValue': '50'}]}, {'@type': 'type.googleapis.com/google.rpc.Help', 'links': [{'description': 'Learn more about Gemini API quotas', 'url': 'https://ai.google.dev/gemini-api/docs/rate-limits'}]}, {'@type': 'type.googleapis.com/google.rpc.RetryInfo', 'retryDelay': '51s'}]}}\n"
          ]
        },
        {
          "name": "stderr",
          "output_type": "stream",
          "text": [
            "2025-09-15 01:24:08 - noveum_trace.transport.http_transport - INFO - 📤 EXPORTING TRACE: auto_trace_generate (ID: 59335c93-cbe1-42e0-9bad-cd4be2a83d9f) - 1 spans\n",
            "2025-09-15 01:24:08 - noveum_trace.transport.batch_processor - INFO - 📥 ADDING TRACE TO QUEUE: auto_trace_generate (ID: 59335c93-cbe1-42e0-9bad-cd4be2a83d9f) - 1 spans\n",
            "2025-09-15 01:24:08 - noveum_trace.transport.batch_processor - INFO - ✅ Successfully queued trace 59335c93-cbe1-42e0-9bad-cd4be2a83d9f\n",
            "2025-09-15 01:24:08 - noveum_trace.transport.http_transport - INFO - ✅ Trace 59335c93-cbe1-42e0-9bad-cd4be2a83d9f successfully queued for export\n"
          ]
        },
        {
          "name": "stdout",
          "output_type": "stream",
          "text": [
            "2025-09-15 01:24:08 - INFO - google_genai.models - AFC is enabled with max remote calls: 10.\n",
            "2025-09-15 01:24:09 - ERROR - novaeval.models.base - Error: 429 RESOURCE_EXHAUSTED. {'error': {'code': 429, 'message': 'You exceeded your current quota, please check your plan and billing details. For more information on this error, head to: https://ai.google.dev/gemini-api/docs/rate-limits.', 'status': 'RESOURCE_EXHAUSTED', 'details': [{'@type': 'type.googleapis.com/google.rpc.QuotaFailure', 'violations': [{'quotaMetric': 'generativelanguage.googleapis.com/generate_content_free_tier_requests', 'quotaId': 'GenerateRequestsPerDayPerProjectPerModel-FreeTier', 'quotaDimensions': {'location': 'global', 'model': 'gemini-1.5-flash'}, 'quotaValue': '50'}]}, {'@type': 'type.googleapis.com/google.rpc.Help', 'links': [{'description': 'Learn more about Gemini API quotas', 'url': 'https://ai.google.dev/gemini-api/docs/rate-limits'}]}, {'@type': 'type.googleapis.com/google.rpc.RetryInfo', 'retryDelay': '50s'}]}}\n"
          ]
        },
        {
          "name": "stderr",
          "output_type": "stream",
          "text": [
            "2025-09-15 01:24:09 - noveum_trace.transport.http_transport - INFO - 📤 EXPORTING TRACE: auto_trace_generate (ID: 0b41cbb3-b52b-492b-9d59-c95b004e95b7) - 1 spans\n",
            "2025-09-15 01:24:09 - noveum_trace.transport.batch_processor - INFO - 📥 ADDING TRACE TO QUEUE: auto_trace_generate (ID: 0b41cbb3-b52b-492b-9d59-c95b004e95b7) - 1 spans\n",
            "2025-09-15 01:24:09 - noveum_trace.transport.batch_processor - INFO - ✅ Successfully queued trace 0b41cbb3-b52b-492b-9d59-c95b004e95b7\n",
            "2025-09-15 01:24:09 - noveum_trace.transport.http_transport - INFO - ✅ Trace 0b41cbb3-b52b-492b-9d59-c95b004e95b7 successfully queued for export\n"
          ]
        },
        {
          "name": "stdout",
          "output_type": "stream",
          "text": [
            "2025-09-15 01:24:09 - INFO - google_genai.models - AFC is enabled with max remote calls: 10.\n",
            "2025-09-15 01:24:09 - ERROR - novaeval.models.base - Error: 429 RESOURCE_EXHAUSTED. {'error': {'code': 429, 'message': 'You exceeded your current quota, please check your plan and billing details. For more information on this error, head to: https://ai.google.dev/gemini-api/docs/rate-limits.', 'status': 'RESOURCE_EXHAUSTED', 'details': [{'@type': 'type.googleapis.com/google.rpc.QuotaFailure', 'violations': [{'quotaMetric': 'generativelanguage.googleapis.com/generate_content_free_tier_requests', 'quotaId': 'GenerateRequestsPerDayPerProjectPerModel-FreeTier', 'quotaDimensions': {'location': 'global', 'model': 'gemini-1.5-flash'}, 'quotaValue': '50'}]}, {'@type': 'type.googleapis.com/google.rpc.Help', 'links': [{'description': 'Learn more about Gemini API quotas', 'url': 'https://ai.google.dev/gemini-api/docs/rate-limits'}]}, {'@type': 'type.googleapis.com/google.rpc.RetryInfo', 'retryDelay': '50s'}]}}\n"
          ]
        },
        {
          "name": "stderr",
          "output_type": "stream",
          "text": [
            "2025-09-15 01:24:09 - noveum_trace.transport.http_transport - INFO - 📤 EXPORTING TRACE: auto_trace_generate (ID: 6609aef5-c067-453d-931f-9318b8938f6f) - 1 spans\n",
            "2025-09-15 01:24:09 - noveum_trace.transport.batch_processor - INFO - 📥 ADDING TRACE TO QUEUE: auto_trace_generate (ID: 6609aef5-c067-453d-931f-9318b8938f6f) - 1 spans\n",
            "2025-09-15 01:24:09 - noveum_trace.transport.batch_processor - INFO - ✅ Successfully queued trace 6609aef5-c067-453d-931f-9318b8938f6f\n",
            "2025-09-15 01:24:09 - noveum_trace.transport.http_transport - INFO - ✅ Trace 6609aef5-c067-453d-931f-9318b8938f6f successfully queued for export\n"
          ]
        },
        {
          "name": "stdout",
          "output_type": "stream",
          "text": [
            "2025-09-15 01:24:09 - INFO - novaeval.evaluators.agent_evaluator - Saving intermediate results after 17 samples\n",
            "2025-09-15 01:24:09 - INFO - novaeval.evaluators.agent_evaluator - Intermediate results saved to demo_results/sample_evaluation/agent_evaluation_results.csv\n"
          ]
        },
        {
          "name": "stderr",
          "output_type": "stream",
          "text": [
            "Evaluating samples: 17it [00:51,  2.90s/it]"
          ]
        },
        {
          "name": "stdout",
          "output_type": "stream",
          "text": [
            "2025-09-15 01:24:09 - INFO - google_genai.models - AFC is enabled with max remote calls: 10.\n",
            "2025-09-15 01:24:11 - ERROR - novaeval.models.base - Error: 429 RESOURCE_EXHAUSTED. {'error': {'code': 429, 'message': 'You exceeded your current quota, please check your plan and billing details. For more information on this error, head to: https://ai.google.dev/gemini-api/docs/rate-limits.', 'status': 'RESOURCE_EXHAUSTED', 'details': [{'@type': 'type.googleapis.com/google.rpc.QuotaFailure', 'violations': [{'quotaMetric': 'generativelanguage.googleapis.com/generate_content_free_tier_requests', 'quotaId': 'GenerateRequestsPerDayPerProjectPerModel-FreeTier', 'quotaDimensions': {'location': 'global', 'model': 'gemini-1.5-flash'}, 'quotaValue': '50'}]}, {'@type': 'type.googleapis.com/google.rpc.Help', 'links': [{'description': 'Learn more about Gemini API quotas', 'url': 'https://ai.google.dev/gemini-api/docs/rate-limits'}]}, {'@type': 'type.googleapis.com/google.rpc.RetryInfo', 'retryDelay': '49s'}]}}\n"
          ]
        },
        {
          "name": "stderr",
          "output_type": "stream",
          "text": [
            "2025-09-15 01:24:11 - noveum_trace.transport.http_transport - INFO - 📤 EXPORTING TRACE: auto_trace_generate (ID: 98b9d915-7f77-4c02-aa77-8b2106594290) - 1 spans\n",
            "2025-09-15 01:24:11 - noveum_trace.transport.batch_processor - INFO - 📥 ADDING TRACE TO QUEUE: auto_trace_generate (ID: 98b9d915-7f77-4c02-aa77-8b2106594290) - 1 spans\n",
            "2025-09-15 01:24:11 - noveum_trace.transport.batch_processor - INFO - ✅ Successfully queued trace 98b9d915-7f77-4c02-aa77-8b2106594290\n",
            "2025-09-15 01:24:11 - noveum_trace.transport.http_transport - INFO - ✅ Trace 98b9d915-7f77-4c02-aa77-8b2106594290 successfully queued for export\n"
          ]
        },
        {
          "name": "stdout",
          "output_type": "stream",
          "text": [
            "2025-09-15 01:24:11 - INFO - google_genai.models - AFC is enabled with max remote calls: 10.\n",
            "2025-09-15 01:24:11 - ERROR - novaeval.models.base - Error: 429 RESOURCE_EXHAUSTED. {'error': {'code': 429, 'message': 'You exceeded your current quota, please check your plan and billing details. For more information on this error, head to: https://ai.google.dev/gemini-api/docs/rate-limits.', 'status': 'RESOURCE_EXHAUSTED', 'details': [{'@type': 'type.googleapis.com/google.rpc.QuotaFailure', 'violations': [{'quotaMetric': 'generativelanguage.googleapis.com/generate_content_free_tier_requests', 'quotaId': 'GenerateRequestsPerDayPerProjectPerModel-FreeTier', 'quotaDimensions': {'location': 'global', 'model': 'gemini-1.5-flash'}, 'quotaValue': '50'}]}, {'@type': 'type.googleapis.com/google.rpc.Help', 'links': [{'description': 'Learn more about Gemini API quotas', 'url': 'https://ai.google.dev/gemini-api/docs/rate-limits'}]}, {'@type': 'type.googleapis.com/google.rpc.RetryInfo', 'retryDelay': '48s'}]}}\n"
          ]
        },
        {
          "name": "stderr",
          "output_type": "stream",
          "text": [
            "2025-09-15 01:24:11 - noveum_trace.transport.http_transport - INFO - 📤 EXPORTING TRACE: auto_trace_generate (ID: 5e8753bf-0d43-4919-bff5-5d619c3872b7) - 1 spans\n",
            "2025-09-15 01:24:11 - noveum_trace.transport.batch_processor - INFO - 📥 ADDING TRACE TO QUEUE: auto_trace_generate (ID: 5e8753bf-0d43-4919-bff5-5d619c3872b7) - 1 spans\n",
            "2025-09-15 01:24:11 - noveum_trace.transport.batch_processor - INFO - ✅ Successfully queued trace 5e8753bf-0d43-4919-bff5-5d619c3872b7\n",
            "2025-09-15 01:24:11 - noveum_trace.transport.http_transport - INFO - ✅ Trace 5e8753bf-0d43-4919-bff5-5d619c3872b7 successfully queued for export\n"
          ]
        },
        {
          "name": "stdout",
          "output_type": "stream",
          "text": [
            "2025-09-15 01:24:11 - INFO - google_genai.models - AFC is enabled with max remote calls: 10.\n",
            "2025-09-15 01:24:12 - ERROR - novaeval.models.base - Error: 429 RESOURCE_EXHAUSTED. {'error': {'code': 429, 'message': 'You exceeded your current quota, please check your plan and billing details. For more information on this error, head to: https://ai.google.dev/gemini-api/docs/rate-limits.', 'status': 'RESOURCE_EXHAUSTED', 'details': [{'@type': 'type.googleapis.com/google.rpc.QuotaFailure', 'violations': [{'quotaMetric': 'generativelanguage.googleapis.com/generate_content_free_tier_requests', 'quotaId': 'GenerateRequestsPerDayPerProjectPerModel-FreeTier', 'quotaDimensions': {'location': 'global', 'model': 'gemini-1.5-flash'}, 'quotaValue': '50'}]}, {'@type': 'type.googleapis.com/google.rpc.Help', 'links': [{'description': 'Learn more about Gemini API quotas', 'url': 'https://ai.google.dev/gemini-api/docs/rate-limits'}]}, {'@type': 'type.googleapis.com/google.rpc.RetryInfo', 'retryDelay': '47s'}]}}\n"
          ]
        },
        {
          "name": "stderr",
          "output_type": "stream",
          "text": [
            "2025-09-15 01:24:12 - noveum_trace.transport.http_transport - INFO - 📤 EXPORTING TRACE: auto_trace_generate (ID: ec59da68-cf2f-409a-a4ea-6928285add23) - 1 spans\n",
            "2025-09-15 01:24:12 - noveum_trace.transport.batch_processor - INFO - 📥 ADDING TRACE TO QUEUE: auto_trace_generate (ID: ec59da68-cf2f-409a-a4ea-6928285add23) - 1 spans\n",
            "2025-09-15 01:24:12 - noveum_trace.transport.batch_processor - INFO - ✅ Successfully queued trace ec59da68-cf2f-409a-a4ea-6928285add23\n",
            "2025-09-15 01:24:12 - noveum_trace.transport.http_transport - INFO - ✅ Trace ec59da68-cf2f-409a-a4ea-6928285add23 successfully queued for export\n"
          ]
        },
        {
          "name": "stdout",
          "output_type": "stream",
          "text": [
            "2025-09-15 01:24:12 - INFO - novaeval.evaluators.agent_evaluator - Saving intermediate results after 18 samples\n",
            "2025-09-15 01:24:12 - INFO - novaeval.evaluators.agent_evaluator - Intermediate results saved to demo_results/sample_evaluation/agent_evaluation_results.csv\n"
          ]
        },
        {
          "name": "stderr",
          "output_type": "stream",
          "text": [
            "Evaluating samples: 18it [00:53,  2.86s/it]"
          ]
        },
        {
          "name": "stdout",
          "output_type": "stream",
          "text": [
            "2025-09-15 01:24:12 - INFO - google_genai.models - AFC is enabled with max remote calls: 10.\n",
            "2025-09-15 01:24:13 - ERROR - novaeval.models.base - Error: 429 RESOURCE_EXHAUSTED. {'error': {'code': 429, 'message': 'You exceeded your current quota, please check your plan and billing details. For more information on this error, head to: https://ai.google.dev/gemini-api/docs/rate-limits.', 'status': 'RESOURCE_EXHAUSTED', 'details': [{'@type': 'type.googleapis.com/google.rpc.QuotaFailure', 'violations': [{'quotaMetric': 'generativelanguage.googleapis.com/generate_content_free_tier_requests', 'quotaId': 'GenerateRequestsPerDayPerProjectPerModel-FreeTier', 'quotaDimensions': {'location': 'global', 'model': 'gemini-1.5-flash'}, 'quotaValue': '50'}]}, {'@type': 'type.googleapis.com/google.rpc.Help', 'links': [{'description': 'Learn more about Gemini API quotas', 'url': 'https://ai.google.dev/gemini-api/docs/rate-limits'}]}, {'@type': 'type.googleapis.com/google.rpc.RetryInfo', 'retryDelay': '47s'}]}}\n"
          ]
        },
        {
          "name": "stderr",
          "output_type": "stream",
          "text": [
            "2025-09-15 01:24:13 - noveum_trace.transport.http_transport - INFO - 📤 EXPORTING TRACE: auto_trace_generate (ID: efb1cfa6-7385-419e-bb3c-f1d50ad18bbd) - 1 spans\n",
            "2025-09-15 01:24:13 - noveum_trace.transport.batch_processor - INFO - 📥 ADDING TRACE TO QUEUE: auto_trace_generate (ID: efb1cfa6-7385-419e-bb3c-f1d50ad18bbd) - 1 spans\n",
            "2025-09-15 01:24:13 - noveum_trace.transport.batch_processor - INFO - ✅ Successfully queued trace efb1cfa6-7385-419e-bb3c-f1d50ad18bbd\n",
            "2025-09-15 01:24:13 - noveum_trace.transport.http_transport - INFO - ✅ Trace efb1cfa6-7385-419e-bb3c-f1d50ad18bbd successfully queued for export\n"
          ]
        },
        {
          "name": "stdout",
          "output_type": "stream",
          "text": [
            "2025-09-15 01:24:13 - INFO - google_genai.models - AFC is enabled with max remote calls: 10.\n",
            "2025-09-15 01:24:14 - ERROR - novaeval.models.base - Error: 429 RESOURCE_EXHAUSTED. {'error': {'code': 429, 'message': 'You exceeded your current quota, please check your plan and billing details. For more information on this error, head to: https://ai.google.dev/gemini-api/docs/rate-limits.', 'status': 'RESOURCE_EXHAUSTED', 'details': [{'@type': 'type.googleapis.com/google.rpc.QuotaFailure', 'violations': [{'quotaMetric': 'generativelanguage.googleapis.com/generate_content_free_tier_requests', 'quotaId': 'GenerateRequestsPerDayPerProjectPerModel-FreeTier', 'quotaDimensions': {'location': 'global', 'model': 'gemini-1.5-flash'}, 'quotaValue': '50'}]}, {'@type': 'type.googleapis.com/google.rpc.Help', 'links': [{'description': 'Learn more about Gemini API quotas', 'url': 'https://ai.google.dev/gemini-api/docs/rate-limits'}]}, {'@type': 'type.googleapis.com/google.rpc.RetryInfo', 'retryDelay': '45s'}]}}\n"
          ]
        },
        {
          "name": "stderr",
          "output_type": "stream",
          "text": [
            "2025-09-15 01:24:14 - noveum_trace.transport.http_transport - INFO - 📤 EXPORTING TRACE: auto_trace_generate (ID: e8fc7799-3f71-4579-9962-1249c70dd373) - 1 spans\n",
            "2025-09-15 01:24:14 - noveum_trace.transport.batch_processor - INFO - 📥 ADDING TRACE TO QUEUE: auto_trace_generate (ID: e8fc7799-3f71-4579-9962-1249c70dd373) - 1 spans\n",
            "2025-09-15 01:24:14 - noveum_trace.transport.batch_processor - INFO - ✅ Successfully queued trace e8fc7799-3f71-4579-9962-1249c70dd373\n",
            "2025-09-15 01:24:14 - noveum_trace.transport.http_transport - INFO - ✅ Trace e8fc7799-3f71-4579-9962-1249c70dd373 successfully queued for export\n"
          ]
        },
        {
          "name": "stdout",
          "output_type": "stream",
          "text": [
            "2025-09-15 01:24:14 - INFO - google_genai.models - AFC is enabled with max remote calls: 10.\n",
            "2025-09-15 01:24:14 - ERROR - novaeval.models.base - Error: 429 RESOURCE_EXHAUSTED. {'error': {'code': 429, 'message': 'You exceeded your current quota, please check your plan and billing details. For more information on this error, head to: https://ai.google.dev/gemini-api/docs/rate-limits.', 'status': 'RESOURCE_EXHAUSTED', 'details': [{'@type': 'type.googleapis.com/google.rpc.QuotaFailure', 'violations': [{'quotaMetric': 'generativelanguage.googleapis.com/generate_content_free_tier_requests', 'quotaId': 'GenerateRequestsPerDayPerProjectPerModel-FreeTier', 'quotaDimensions': {'location': 'global', 'model': 'gemini-1.5-flash'}, 'quotaValue': '50'}]}, {'@type': 'type.googleapis.com/google.rpc.Help', 'links': [{'description': 'Learn more about Gemini API quotas', 'url': 'https://ai.google.dev/gemini-api/docs/rate-limits'}]}, {'@type': 'type.googleapis.com/google.rpc.RetryInfo', 'retryDelay': '45s'}]}}\n"
          ]
        },
        {
          "name": "stderr",
          "output_type": "stream",
          "text": [
            "2025-09-15 01:24:14 - noveum_trace.transport.http_transport - INFO - 📤 EXPORTING TRACE: auto_trace_generate (ID: 2529ef27-9039-4cb2-a38d-415ec1759eba) - 1 spans\n",
            "2025-09-15 01:24:14 - noveum_trace.transport.batch_processor - INFO - 📥 ADDING TRACE TO QUEUE: auto_trace_generate (ID: 2529ef27-9039-4cb2-a38d-415ec1759eba) - 1 spans\n",
            "2025-09-15 01:24:14 - noveum_trace.transport.batch_processor - INFO - ✅ Successfully queued trace 2529ef27-9039-4cb2-a38d-415ec1759eba\n",
            "2025-09-15 01:24:14 - noveum_trace.transport.http_transport - INFO - ✅ Trace 2529ef27-9039-4cb2-a38d-415ec1759eba successfully queued for export\n"
          ]
        },
        {
          "name": "stdout",
          "output_type": "stream",
          "text": [
            "2025-09-15 01:24:14 - INFO - novaeval.evaluators.agent_evaluator - Saving intermediate results after 19 samples\n",
            "2025-09-15 01:24:14 - INFO - novaeval.evaluators.agent_evaluator - Intermediate results saved to demo_results/sample_evaluation/agent_evaluation_results.csv\n"
          ]
        },
        {
          "name": "stderr",
          "output_type": "stream",
          "text": [
            "Evaluating samples: 19it [00:56,  2.65s/it]"
          ]
        },
        {
          "name": "stdout",
          "output_type": "stream",
          "text": [
            "2025-09-15 01:24:14 - INFO - google_genai.models - AFC is enabled with max remote calls: 10.\n",
            "2025-09-15 01:24:15 - ERROR - novaeval.models.base - Error: 429 RESOURCE_EXHAUSTED. {'error': {'code': 429, 'message': 'You exceeded your current quota, please check your plan and billing details. For more information on this error, head to: https://ai.google.dev/gemini-api/docs/rate-limits.', 'status': 'RESOURCE_EXHAUSTED', 'details': [{'@type': 'type.googleapis.com/google.rpc.QuotaFailure', 'violations': [{'quotaMetric': 'generativelanguage.googleapis.com/generate_content_free_tier_requests', 'quotaId': 'GenerateRequestsPerDayPerProjectPerModel-FreeTier', 'quotaDimensions': {'location': 'global', 'model': 'gemini-1.5-flash'}, 'quotaValue': '50'}]}, {'@type': 'type.googleapis.com/google.rpc.Help', 'links': [{'description': 'Learn more about Gemini API quotas', 'url': 'https://ai.google.dev/gemini-api/docs/rate-limits'}]}, {'@type': 'type.googleapis.com/google.rpc.RetryInfo', 'retryDelay': '44s'}]}}\n"
          ]
        },
        {
          "name": "stderr",
          "output_type": "stream",
          "text": [
            "2025-09-15 01:24:15 - noveum_trace.transport.http_transport - INFO - 📤 EXPORTING TRACE: auto_trace_generate (ID: 453102ab-acd0-4d7b-a2db-c10d875ae076) - 1 spans\n",
            "2025-09-15 01:24:15 - noveum_trace.transport.batch_processor - INFO - 📥 ADDING TRACE TO QUEUE: auto_trace_generate (ID: 453102ab-acd0-4d7b-a2db-c10d875ae076) - 1 spans\n",
            "2025-09-15 01:24:15 - noveum_trace.transport.batch_processor - INFO - ✅ Successfully queued trace 453102ab-acd0-4d7b-a2db-c10d875ae076\n",
            "2025-09-15 01:24:15 - noveum_trace.transport.http_transport - INFO - ✅ Trace 453102ab-acd0-4d7b-a2db-c10d875ae076 successfully queued for export\n"
          ]
        },
        {
          "name": "stdout",
          "output_type": "stream",
          "text": [
            "2025-09-15 01:24:15 - INFO - google_genai.models - AFC is enabled with max remote calls: 10.\n",
            "2025-09-15 01:24:16 - ERROR - novaeval.models.base - Error: 429 RESOURCE_EXHAUSTED. {'error': {'code': 429, 'message': 'You exceeded your current quota, please check your plan and billing details. For more information on this error, head to: https://ai.google.dev/gemini-api/docs/rate-limits.', 'status': 'RESOURCE_EXHAUSTED', 'details': [{'@type': 'type.googleapis.com/google.rpc.QuotaFailure', 'violations': [{'quotaMetric': 'generativelanguage.googleapis.com/generate_content_free_tier_requests', 'quotaId': 'GenerateRequestsPerDayPerProjectPerModel-FreeTier', 'quotaDimensions': {'model': 'gemini-1.5-flash', 'location': 'global'}, 'quotaValue': '50'}]}, {'@type': 'type.googleapis.com/google.rpc.Help', 'links': [{'description': 'Learn more about Gemini API quotas', 'url': 'https://ai.google.dev/gemini-api/docs/rate-limits'}]}, {'@type': 'type.googleapis.com/google.rpc.RetryInfo', 'retryDelay': '43s'}]}}\n"
          ]
        },
        {
          "name": "stderr",
          "output_type": "stream",
          "text": [
            "2025-09-15 01:24:16 - noveum_trace.transport.http_transport - INFO - 📤 EXPORTING TRACE: auto_trace_generate (ID: b7b797f8-c4bd-43d9-aa88-9d95578ce855) - 1 spans\n",
            "2025-09-15 01:24:16 - noveum_trace.transport.batch_processor - INFO - 📥 ADDING TRACE TO QUEUE: auto_trace_generate (ID: b7b797f8-c4bd-43d9-aa88-9d95578ce855) - 1 spans\n",
            "2025-09-15 01:24:16 - noveum_trace.transport.batch_processor - INFO - ✅ Successfully queued trace b7b797f8-c4bd-43d9-aa88-9d95578ce855\n",
            "2025-09-15 01:24:16 - noveum_trace.transport.http_transport - INFO - ✅ Trace b7b797f8-c4bd-43d9-aa88-9d95578ce855 successfully queued for export\n"
          ]
        },
        {
          "name": "stdout",
          "output_type": "stream",
          "text": [
            "2025-09-15 01:24:16 - INFO - google_genai.models - AFC is enabled with max remote calls: 10.\n",
            "2025-09-15 01:24:17 - ERROR - novaeval.models.base - Error: 429 RESOURCE_EXHAUSTED. {'error': {'code': 429, 'message': 'You exceeded your current quota, please check your plan and billing details. For more information on this error, head to: https://ai.google.dev/gemini-api/docs/rate-limits.', 'status': 'RESOURCE_EXHAUSTED', 'details': [{'@type': 'type.googleapis.com/google.rpc.QuotaFailure', 'violations': [{'quotaMetric': 'generativelanguage.googleapis.com/generate_content_free_tier_requests', 'quotaId': 'GenerateRequestsPerDayPerProjectPerModel-FreeTier', 'quotaDimensions': {'location': 'global', 'model': 'gemini-1.5-flash'}, 'quotaValue': '50'}]}, {'@type': 'type.googleapis.com/google.rpc.Help', 'links': [{'description': 'Learn more about Gemini API quotas', 'url': 'https://ai.google.dev/gemini-api/docs/rate-limits'}]}, {'@type': 'type.googleapis.com/google.rpc.RetryInfo', 'retryDelay': '42s'}]}}\n"
          ]
        },
        {
          "name": "stderr",
          "output_type": "stream",
          "text": [
            "2025-09-15 01:24:17 - noveum_trace.transport.http_transport - INFO - 📤 EXPORTING TRACE: auto_trace_generate (ID: d2621fa6-365e-4c11-97b4-2a40f824b9b8) - 1 spans\n",
            "2025-09-15 01:24:17 - noveum_trace.transport.batch_processor - INFO - 📥 ADDING TRACE TO QUEUE: auto_trace_generate (ID: d2621fa6-365e-4c11-97b4-2a40f824b9b8) - 1 spans\n",
            "2025-09-15 01:24:17 - noveum_trace.transport.batch_processor - INFO - ✅ Successfully queued trace d2621fa6-365e-4c11-97b4-2a40f824b9b8\n",
            "2025-09-15 01:24:17 - noveum_trace.transport.http_transport - INFO - ✅ Trace d2621fa6-365e-4c11-97b4-2a40f824b9b8 successfully queued for export\n"
          ]
        },
        {
          "name": "stdout",
          "output_type": "stream",
          "text": [
            "2025-09-15 01:24:17 - INFO - novaeval.evaluators.agent_evaluator - Saving intermediate results after 20 samples\n",
            "2025-09-15 01:24:17 - INFO - novaeval.evaluators.agent_evaluator - Intermediate results saved to demo_results/sample_evaluation/agent_evaluation_results.csv\n"
          ]
        },
        {
          "name": "stderr",
          "output_type": "stream",
          "text": [
            "Evaluating samples: 20it [00:58,  2.68s/it]"
          ]
        },
        {
          "name": "stdout",
          "output_type": "stream",
          "text": [
            "2025-09-15 01:24:17 - INFO - google_genai.models - AFC is enabled with max remote calls: 10.\n",
            "2025-09-15 01:24:18 - ERROR - novaeval.models.base - Error: 429 RESOURCE_EXHAUSTED. {'error': {'code': 429, 'message': 'You exceeded your current quota, please check your plan and billing details. For more information on this error, head to: https://ai.google.dev/gemini-api/docs/rate-limits.', 'status': 'RESOURCE_EXHAUSTED', 'details': [{'@type': 'type.googleapis.com/google.rpc.QuotaFailure', 'violations': [{'quotaMetric': 'generativelanguage.googleapis.com/generate_content_free_tier_requests', 'quotaId': 'GenerateRequestsPerDayPerProjectPerModel-FreeTier', 'quotaDimensions': {'location': 'global', 'model': 'gemini-1.5-flash'}, 'quotaValue': '50'}]}, {'@type': 'type.googleapis.com/google.rpc.Help', 'links': [{'description': 'Learn more about Gemini API quotas', 'url': 'https://ai.google.dev/gemini-api/docs/rate-limits'}]}, {'@type': 'type.googleapis.com/google.rpc.RetryInfo', 'retryDelay': '41s'}]}}\n"
          ]
        },
        {
          "name": "stderr",
          "output_type": "stream",
          "text": [
            "2025-09-15 01:24:18 - noveum_trace.transport.http_transport - INFO - 📤 EXPORTING TRACE: auto_trace_generate (ID: b6ae3d22-d6ae-4c12-ae5b-d8401ff850fb) - 1 spans\n",
            "2025-09-15 01:24:18 - noveum_trace.transport.batch_processor - INFO - 📥 ADDING TRACE TO QUEUE: auto_trace_generate (ID: b6ae3d22-d6ae-4c12-ae5b-d8401ff850fb) - 1 spans\n",
            "2025-09-15 01:24:18 - noveum_trace.transport.batch_processor - INFO - ✅ Successfully queued trace b6ae3d22-d6ae-4c12-ae5b-d8401ff850fb\n",
            "2025-09-15 01:24:18 - noveum_trace.transport.http_transport - INFO - ✅ Trace b6ae3d22-d6ae-4c12-ae5b-d8401ff850fb successfully queued for export\n"
          ]
        },
        {
          "name": "stdout",
          "output_type": "stream",
          "text": [
            "2025-09-15 01:24:18 - INFO - google_genai.models - AFC is enabled with max remote calls: 10.\n",
            "2025-09-15 01:24:19 - ERROR - novaeval.models.base - Error: 429 RESOURCE_EXHAUSTED. {'error': {'code': 429, 'message': 'You exceeded your current quota, please check your plan and billing details. For more information on this error, head to: https://ai.google.dev/gemini-api/docs/rate-limits.', 'status': 'RESOURCE_EXHAUSTED', 'details': [{'@type': 'type.googleapis.com/google.rpc.QuotaFailure', 'violations': [{'quotaMetric': 'generativelanguage.googleapis.com/generate_content_free_tier_requests', 'quotaId': 'GenerateRequestsPerDayPerProjectPerModel-FreeTier', 'quotaDimensions': {'model': 'gemini-1.5-flash', 'location': 'global'}, 'quotaValue': '50'}]}, {'@type': 'type.googleapis.com/google.rpc.Help', 'links': [{'description': 'Learn more about Gemini API quotas', 'url': 'https://ai.google.dev/gemini-api/docs/rate-limits'}]}, {'@type': 'type.googleapis.com/google.rpc.RetryInfo', 'retryDelay': '40s'}]}}\n"
          ]
        },
        {
          "name": "stderr",
          "output_type": "stream",
          "text": [
            "2025-09-15 01:24:19 - noveum_trace.transport.http_transport - INFO - 📤 EXPORTING TRACE: auto_trace_generate (ID: 2d111cae-e3d8-4f60-9bb9-6fa21e7368cd) - 1 spans\n",
            "2025-09-15 01:24:19 - noveum_trace.transport.batch_processor - INFO - 📥 ADDING TRACE TO QUEUE: auto_trace_generate (ID: 2d111cae-e3d8-4f60-9bb9-6fa21e7368cd) - 1 spans\n",
            "2025-09-15 01:24:19 - noveum_trace.transport.batch_processor - INFO - ✅ Successfully queued trace 2d111cae-e3d8-4f60-9bb9-6fa21e7368cd\n",
            "2025-09-15 01:24:19 - noveum_trace.transport.http_transport - INFO - ✅ Trace 2d111cae-e3d8-4f60-9bb9-6fa21e7368cd successfully queued for export\n"
          ]
        },
        {
          "name": "stdout",
          "output_type": "stream",
          "text": [
            "2025-09-15 01:24:19 - INFO - google_genai.models - AFC is enabled with max remote calls: 10.\n",
            "2025-09-15 01:24:19 - ERROR - novaeval.models.base - Error: 429 RESOURCE_EXHAUSTED. {'error': {'code': 429, 'message': 'You exceeded your current quota, please check your plan and billing details. For more information on this error, head to: https://ai.google.dev/gemini-api/docs/rate-limits.', 'status': 'RESOURCE_EXHAUSTED', 'details': [{'@type': 'type.googleapis.com/google.rpc.QuotaFailure', 'violations': [{'quotaMetric': 'generativelanguage.googleapis.com/generate_content_free_tier_requests', 'quotaId': 'GenerateRequestsPerDayPerProjectPerModel-FreeTier', 'quotaDimensions': {'location': 'global', 'model': 'gemini-1.5-flash'}, 'quotaValue': '50'}]}, {'@type': 'type.googleapis.com/google.rpc.Help', 'links': [{'description': 'Learn more about Gemini API quotas', 'url': 'https://ai.google.dev/gemini-api/docs/rate-limits'}]}, {'@type': 'type.googleapis.com/google.rpc.RetryInfo', 'retryDelay': '40s'}]}}\n"
          ]
        },
        {
          "name": "stderr",
          "output_type": "stream",
          "text": [
            "2025-09-15 01:24:19 - noveum_trace.transport.http_transport - INFO - 📤 EXPORTING TRACE: auto_trace_generate (ID: b9ad9274-e05b-4304-9bbf-1245935373d1) - 1 spans\n",
            "2025-09-15 01:24:19 - noveum_trace.transport.batch_processor - INFO - 📥 ADDING TRACE TO QUEUE: auto_trace_generate (ID: b9ad9274-e05b-4304-9bbf-1245935373d1) - 1 spans\n",
            "2025-09-15 01:24:19 - noveum_trace.transport.batch_processor - INFO - ✅ Successfully queued trace b9ad9274-e05b-4304-9bbf-1245935373d1\n",
            "2025-09-15 01:24:19 - noveum_trace.transport.http_transport - INFO - ✅ Trace b9ad9274-e05b-4304-9bbf-1245935373d1 successfully queued for export\n"
          ]
        },
        {
          "name": "stdout",
          "output_type": "stream",
          "text": [
            "2025-09-15 01:24:19 - INFO - novaeval.evaluators.agent_evaluator - Saving intermediate results after 21 samples\n",
            "2025-09-15 01:24:19 - INFO - novaeval.evaluators.agent_evaluator - Intermediate results saved to demo_results/sample_evaluation/agent_evaluation_results.csv\n"
          ]
        },
        {
          "name": "stderr",
          "output_type": "stream",
          "text": [
            "Evaluating samples: 21it [01:01,  2.55s/it]"
          ]
        },
        {
          "name": "stdout",
          "output_type": "stream",
          "text": [
            "2025-09-15 01:24:19 - INFO - google_genai.models - AFC is enabled with max remote calls: 10.\n",
            "2025-09-15 01:24:20 - ERROR - novaeval.models.base - Error: 429 RESOURCE_EXHAUSTED. {'error': {'code': 429, 'message': 'You exceeded your current quota, please check your plan and billing details. For more information on this error, head to: https://ai.google.dev/gemini-api/docs/rate-limits.', 'status': 'RESOURCE_EXHAUSTED', 'details': [{'@type': 'type.googleapis.com/google.rpc.QuotaFailure', 'violations': [{'quotaMetric': 'generativelanguage.googleapis.com/generate_content_free_tier_requests', 'quotaId': 'GenerateRequestsPerDayPerProjectPerModel-FreeTier', 'quotaDimensions': {'location': 'global', 'model': 'gemini-1.5-flash'}, 'quotaValue': '50'}]}, {'@type': 'type.googleapis.com/google.rpc.Help', 'links': [{'description': 'Learn more about Gemini API quotas', 'url': 'https://ai.google.dev/gemini-api/docs/rate-limits'}]}, {'@type': 'type.googleapis.com/google.rpc.RetryInfo', 'retryDelay': '39s'}]}}\n"
          ]
        },
        {
          "name": "stderr",
          "output_type": "stream",
          "text": [
            "2025-09-15 01:24:20 - noveum_trace.transport.http_transport - INFO - 📤 EXPORTING TRACE: auto_trace_generate (ID: 6a4d962e-d1e2-46aa-8bd1-33ce7ba7ab3e) - 1 spans\n",
            "2025-09-15 01:24:20 - noveum_trace.transport.batch_processor - INFO - 📥 ADDING TRACE TO QUEUE: auto_trace_generate (ID: 6a4d962e-d1e2-46aa-8bd1-33ce7ba7ab3e) - 1 spans\n",
            "2025-09-15 01:24:20 - noveum_trace.transport.batch_processor - INFO - ✅ Successfully queued trace 6a4d962e-d1e2-46aa-8bd1-33ce7ba7ab3e\n",
            "2025-09-15 01:24:20 - noveum_trace.transport.http_transport - INFO - ✅ Trace 6a4d962e-d1e2-46aa-8bd1-33ce7ba7ab3e successfully queued for export\n"
          ]
        },
        {
          "name": "stdout",
          "output_type": "stream",
          "text": [
            "2025-09-15 01:24:20 - INFO - google_genai.models - AFC is enabled with max remote calls: 10.\n",
            "2025-09-15 01:24:21 - ERROR - novaeval.models.base - Error: 429 RESOURCE_EXHAUSTED. {'error': {'code': 429, 'message': 'You exceeded your current quota, please check your plan and billing details. For more information on this error, head to: https://ai.google.dev/gemini-api/docs/rate-limits.', 'status': 'RESOURCE_EXHAUSTED', 'details': [{'@type': 'type.googleapis.com/google.rpc.QuotaFailure', 'violations': [{'quotaMetric': 'generativelanguage.googleapis.com/generate_content_free_tier_requests', 'quotaId': 'GenerateRequestsPerDayPerProjectPerModel-FreeTier', 'quotaDimensions': {'location': 'global', 'model': 'gemini-1.5-flash'}, 'quotaValue': '50'}]}, {'@type': 'type.googleapis.com/google.rpc.Help', 'links': [{'description': 'Learn more about Gemini API quotas', 'url': 'https://ai.google.dev/gemini-api/docs/rate-limits'}]}, {'@type': 'type.googleapis.com/google.rpc.RetryInfo', 'retryDelay': '38s'}]}}\n"
          ]
        },
        {
          "name": "stderr",
          "output_type": "stream",
          "text": [
            "2025-09-15 01:24:21 - noveum_trace.transport.http_transport - INFO - 📤 EXPORTING TRACE: auto_trace_generate (ID: 278fec8d-fae8-4ee0-882e-d0865cee38f5) - 1 spans\n",
            "2025-09-15 01:24:21 - noveum_trace.transport.batch_processor - INFO - 📥 ADDING TRACE TO QUEUE: auto_trace_generate (ID: 278fec8d-fae8-4ee0-882e-d0865cee38f5) - 1 spans\n",
            "2025-09-15 01:24:21 - noveum_trace.transport.batch_processor - INFO - ✅ Successfully queued trace 278fec8d-fae8-4ee0-882e-d0865cee38f5\n",
            "2025-09-15 01:24:21 - noveum_trace.transport.http_transport - INFO - ✅ Trace 278fec8d-fae8-4ee0-882e-d0865cee38f5 successfully queued for export\n"
          ]
        },
        {
          "name": "stdout",
          "output_type": "stream",
          "text": [
            "2025-09-15 01:24:21 - INFO - google_genai.models - AFC is enabled with max remote calls: 10.\n",
            "2025-09-15 01:24:22 - ERROR - novaeval.models.base - Error: 429 RESOURCE_EXHAUSTED. {'error': {'code': 429, 'message': 'You exceeded your current quota, please check your plan and billing details. For more information on this error, head to: https://ai.google.dev/gemini-api/docs/rate-limits.', 'status': 'RESOURCE_EXHAUSTED', 'details': [{'@type': 'type.googleapis.com/google.rpc.QuotaFailure', 'violations': [{'quotaMetric': 'generativelanguage.googleapis.com/generate_content_free_tier_requests', 'quotaId': 'GenerateRequestsPerDayPerProjectPerModel-FreeTier', 'quotaDimensions': {'location': 'global', 'model': 'gemini-1.5-flash'}, 'quotaValue': '50'}]}, {'@type': 'type.googleapis.com/google.rpc.Help', 'links': [{'description': 'Learn more about Gemini API quotas', 'url': 'https://ai.google.dev/gemini-api/docs/rate-limits'}]}, {'@type': 'type.googleapis.com/google.rpc.RetryInfo', 'retryDelay': '37s'}]}}\n"
          ]
        },
        {
          "name": "stderr",
          "output_type": "stream",
          "text": [
            "2025-09-15 01:24:22 - noveum_trace.transport.http_transport - INFO - 📤 EXPORTING TRACE: auto_trace_generate (ID: ba02047c-6dbf-4443-bf7b-0f675d02487b) - 1 spans\n",
            "2025-09-15 01:24:22 - noveum_trace.transport.batch_processor - INFO - 📥 ADDING TRACE TO QUEUE: auto_trace_generate (ID: ba02047c-6dbf-4443-bf7b-0f675d02487b) - 1 spans\n",
            "2025-09-15 01:24:22 - noveum_trace.transport.batch_processor - INFO - ✅ Successfully queued trace ba02047c-6dbf-4443-bf7b-0f675d02487b\n",
            "2025-09-15 01:24:22 - noveum_trace.transport.http_transport - INFO - ✅ Trace ba02047c-6dbf-4443-bf7b-0f675d02487b successfully queued for export\n"
          ]
        },
        {
          "name": "stdout",
          "output_type": "stream",
          "text": [
            "2025-09-15 01:24:22 - INFO - novaeval.evaluators.agent_evaluator - Saving intermediate results after 22 samples\n",
            "2025-09-15 01:24:22 - INFO - novaeval.evaluators.agent_evaluator - Intermediate results saved to demo_results/sample_evaluation/agent_evaluation_results.csv\n"
          ]
        },
        {
          "name": "stderr",
          "output_type": "stream",
          "text": [
            "Evaluating samples: 22it [01:03,  2.61s/it]"
          ]
        },
        {
          "name": "stdout",
          "output_type": "stream",
          "text": [
            "2025-09-15 01:24:22 - INFO - google_genai.models - AFC is enabled with max remote calls: 10.\n",
            "2025-09-15 01:24:23 - ERROR - novaeval.models.base - Error: 429 RESOURCE_EXHAUSTED. {'error': {'code': 429, 'message': 'You exceeded your current quota, please check your plan and billing details. For more information on this error, head to: https://ai.google.dev/gemini-api/docs/rate-limits.', 'status': 'RESOURCE_EXHAUSTED', 'details': [{'@type': 'type.googleapis.com/google.rpc.QuotaFailure', 'violations': [{'quotaMetric': 'generativelanguage.googleapis.com/generate_content_free_tier_requests', 'quotaId': 'GenerateRequestsPerDayPerProjectPerModel-FreeTier', 'quotaDimensions': {'location': 'global', 'model': 'gemini-1.5-flash'}, 'quotaValue': '50'}]}, {'@type': 'type.googleapis.com/google.rpc.Help', 'links': [{'description': 'Learn more about Gemini API quotas', 'url': 'https://ai.google.dev/gemini-api/docs/rate-limits'}]}, {'@type': 'type.googleapis.com/google.rpc.RetryInfo', 'retryDelay': '37s'}]}}\n"
          ]
        },
        {
          "name": "stderr",
          "output_type": "stream",
          "text": [
            "2025-09-15 01:24:23 - noveum_trace.transport.http_transport - INFO - 📤 EXPORTING TRACE: auto_trace_generate (ID: 217ce462-b2f8-4570-a328-b51a418328c6) - 1 spans\n",
            "2025-09-15 01:24:23 - noveum_trace.transport.batch_processor - INFO - 📥 ADDING TRACE TO QUEUE: auto_trace_generate (ID: 217ce462-b2f8-4570-a328-b51a418328c6) - 1 spans\n",
            "2025-09-15 01:24:23 - noveum_trace.transport.batch_processor - INFO - ✅ Successfully queued trace 217ce462-b2f8-4570-a328-b51a418328c6\n",
            "2025-09-15 01:24:23 - noveum_trace.transport.http_transport - INFO - ✅ Trace 217ce462-b2f8-4570-a328-b51a418328c6 successfully queued for export\n"
          ]
        },
        {
          "name": "stdout",
          "output_type": "stream",
          "text": [
            "2025-09-15 01:24:23 - INFO - google_genai.models - AFC is enabled with max remote calls: 10.\n",
            "2025-09-15 01:24:24 - ERROR - novaeval.models.base - Error: 429 RESOURCE_EXHAUSTED. {'error': {'code': 429, 'message': 'You exceeded your current quota, please check your plan and billing details. For more information on this error, head to: https://ai.google.dev/gemini-api/docs/rate-limits.', 'status': 'RESOURCE_EXHAUSTED', 'details': [{'@type': 'type.googleapis.com/google.rpc.QuotaFailure', 'violations': [{'quotaMetric': 'generativelanguage.googleapis.com/generate_content_free_tier_requests', 'quotaId': 'GenerateRequestsPerDayPerProjectPerModel-FreeTier', 'quotaDimensions': {'location': 'global', 'model': 'gemini-1.5-flash'}, 'quotaValue': '50'}]}, {'@type': 'type.googleapis.com/google.rpc.Help', 'links': [{'description': 'Learn more about Gemini API quotas', 'url': 'https://ai.google.dev/gemini-api/docs/rate-limits'}]}, {'@type': 'type.googleapis.com/google.rpc.RetryInfo', 'retryDelay': '35s'}]}}\n"
          ]
        },
        {
          "name": "stderr",
          "output_type": "stream",
          "text": [
            "2025-09-15 01:24:24 - noveum_trace.transport.http_transport - INFO - 📤 EXPORTING TRACE: auto_trace_generate (ID: 795e15a0-1c7a-4008-a829-075e4a2dfbb3) - 1 spans\n",
            "2025-09-15 01:24:24 - noveum_trace.transport.batch_processor - INFO - 📥 ADDING TRACE TO QUEUE: auto_trace_generate (ID: 795e15a0-1c7a-4008-a829-075e4a2dfbb3) - 1 spans\n",
            "2025-09-15 01:24:24 - noveum_trace.transport.batch_processor - INFO - ✅ Successfully queued trace 795e15a0-1c7a-4008-a829-075e4a2dfbb3\n",
            "2025-09-15 01:24:24 - noveum_trace.transport.http_transport - INFO - ✅ Trace 795e15a0-1c7a-4008-a829-075e4a2dfbb3 successfully queued for export\n"
          ]
        },
        {
          "name": "stdout",
          "output_type": "stream",
          "text": [
            "2025-09-15 01:24:24 - INFO - google_genai.models - AFC is enabled with max remote calls: 10.\n",
            "2025-09-15 01:24:24 - ERROR - novaeval.models.base - Error: 429 RESOURCE_EXHAUSTED. {'error': {'code': 429, 'message': 'You exceeded your current quota, please check your plan and billing details. For more information on this error, head to: https://ai.google.dev/gemini-api/docs/rate-limits.', 'status': 'RESOURCE_EXHAUSTED', 'details': [{'@type': 'type.googleapis.com/google.rpc.QuotaFailure', 'violations': [{'quotaMetric': 'generativelanguage.googleapis.com/generate_content_free_tier_requests', 'quotaId': 'GenerateRequestsPerDayPerProjectPerModel-FreeTier', 'quotaDimensions': {'location': 'global', 'model': 'gemini-1.5-flash'}, 'quotaValue': '50'}]}, {'@type': 'type.googleapis.com/google.rpc.Help', 'links': [{'description': 'Learn more about Gemini API quotas', 'url': 'https://ai.google.dev/gemini-api/docs/rate-limits'}]}, {'@type': 'type.googleapis.com/google.rpc.RetryInfo', 'retryDelay': '35s'}]}}\n"
          ]
        },
        {
          "name": "stderr",
          "output_type": "stream",
          "text": [
            "2025-09-15 01:24:24 - noveum_trace.transport.http_transport - INFO - 📤 EXPORTING TRACE: auto_trace_generate (ID: ef61ef98-e0fe-413f-ba68-03d1a08dd1d2) - 1 spans\n",
            "2025-09-15 01:24:24 - noveum_trace.transport.batch_processor - INFO - 📥 ADDING TRACE TO QUEUE: auto_trace_generate (ID: ef61ef98-e0fe-413f-ba68-03d1a08dd1d2) - 1 spans\n",
            "2025-09-15 01:24:24 - noveum_trace.transport.batch_processor - INFO - ✅ Successfully queued trace ef61ef98-e0fe-413f-ba68-03d1a08dd1d2\n",
            "2025-09-15 01:24:24 - noveum_trace.transport.http_transport - INFO - ✅ Trace ef61ef98-e0fe-413f-ba68-03d1a08dd1d2 successfully queued for export\n"
          ]
        },
        {
          "name": "stdout",
          "output_type": "stream",
          "text": [
            "2025-09-15 01:24:24 - INFO - google_genai.models - AFC is enabled with max remote calls: 10.\n",
            "2025-09-15 01:24:25 - ERROR - novaeval.models.base - Error: 429 RESOURCE_EXHAUSTED. {'error': {'code': 429, 'message': 'You exceeded your current quota, please check your plan and billing details. For more information on this error, head to: https://ai.google.dev/gemini-api/docs/rate-limits.', 'status': 'RESOURCE_EXHAUSTED', 'details': [{'@type': 'type.googleapis.com/google.rpc.QuotaFailure', 'violations': [{'quotaMetric': 'generativelanguage.googleapis.com/generate_content_free_tier_requests', 'quotaId': 'GenerateRequestsPerDayPerProjectPerModel-FreeTier', 'quotaDimensions': {'location': 'global', 'model': 'gemini-1.5-flash'}, 'quotaValue': '50'}]}, {'@type': 'type.googleapis.com/google.rpc.Help', 'links': [{'description': 'Learn more about Gemini API quotas', 'url': 'https://ai.google.dev/gemini-api/docs/rate-limits'}]}, {'@type': 'type.googleapis.com/google.rpc.RetryInfo', 'retryDelay': '34s'}]}}\n"
          ]
        },
        {
          "name": "stderr",
          "output_type": "stream",
          "text": [
            "2025-09-15 01:24:25 - noveum_trace.transport.http_transport - INFO - 📤 EXPORTING TRACE: auto_trace_generate (ID: 49274da3-3b71-4682-b3f6-43f996820472) - 1 spans\n",
            "2025-09-15 01:24:25 - noveum_trace.transport.batch_processor - INFO - 📥 ADDING TRACE TO QUEUE: auto_trace_generate (ID: 49274da3-3b71-4682-b3f6-43f996820472) - 1 spans\n",
            "2025-09-15 01:24:25 - noveum_trace.transport.batch_processor - INFO - ✅ Successfully queued trace 49274da3-3b71-4682-b3f6-43f996820472\n",
            "2025-09-15 01:24:25 - noveum_trace.transport.http_transport - INFO - ✅ Trace 49274da3-3b71-4682-b3f6-43f996820472 successfully queued for export\n"
          ]
        },
        {
          "name": "stdout",
          "output_type": "stream",
          "text": [
            "2025-09-15 01:24:25 - INFO - google_genai.models - AFC is enabled with max remote calls: 10.\n",
            "2025-09-15 01:24:26 - ERROR - novaeval.models.base - Error: 429 RESOURCE_EXHAUSTED. {'error': {'code': 429, 'message': 'You exceeded your current quota, please check your plan and billing details. For more information on this error, head to: https://ai.google.dev/gemini-api/docs/rate-limits.', 'status': 'RESOURCE_EXHAUSTED', 'details': [{'@type': 'type.googleapis.com/google.rpc.QuotaFailure', 'violations': [{'quotaMetric': 'generativelanguage.googleapis.com/generate_content_free_tier_requests', 'quotaId': 'GenerateRequestsPerDayPerProjectPerModel-FreeTier', 'quotaDimensions': {'model': 'gemini-1.5-flash', 'location': 'global'}, 'quotaValue': '50'}]}, {'@type': 'type.googleapis.com/google.rpc.Help', 'links': [{'description': 'Learn more about Gemini API quotas', 'url': 'https://ai.google.dev/gemini-api/docs/rate-limits'}]}, {'@type': 'type.googleapis.com/google.rpc.RetryInfo', 'retryDelay': '33s'}]}}\n"
          ]
        },
        {
          "name": "stderr",
          "output_type": "stream",
          "text": [
            "2025-09-15 01:24:26 - noveum_trace.transport.http_transport - INFO - 📤 EXPORTING TRACE: auto_trace_generate (ID: 08c39c35-bdbb-4701-882d-72faf229b327) - 1 spans\n",
            "2025-09-15 01:24:26 - noveum_trace.transport.batch_processor - INFO - 📥 ADDING TRACE TO QUEUE: auto_trace_generate (ID: 08c39c35-bdbb-4701-882d-72faf229b327) - 1 spans\n",
            "2025-09-15 01:24:26 - noveum_trace.transport.batch_processor - INFO - ✅ Successfully queued trace 08c39c35-bdbb-4701-882d-72faf229b327\n",
            "2025-09-15 01:24:26 - noveum_trace.transport.http_transport - INFO - ✅ Trace 08c39c35-bdbb-4701-882d-72faf229b327 successfully queued for export\n"
          ]
        },
        {
          "name": "stdout",
          "output_type": "stream",
          "text": [
            "2025-09-15 01:24:26 - INFO - novaeval.evaluators.agent_evaluator - Saving intermediate results after 23 samples\n",
            "2025-09-15 01:24:26 - INFO - novaeval.evaluators.agent_evaluator - Intermediate results saved to demo_results/sample_evaluation/agent_evaluation_results.csv\n"
          ]
        },
        {
          "name": "stderr",
          "output_type": "stream",
          "text": [
            "Evaluating samples: 23it [01:07,  2.94s/it]"
          ]
        },
        {
          "name": "stdout",
          "output_type": "stream",
          "text": [
            "2025-09-15 01:24:26 - INFO - google_genai.models - AFC is enabled with max remote calls: 10.\n",
            "2025-09-15 01:24:27 - ERROR - novaeval.models.base - Error: 429 RESOURCE_EXHAUSTED. {'error': {'code': 429, 'message': 'You exceeded your current quota, please check your plan and billing details. For more information on this error, head to: https://ai.google.dev/gemini-api/docs/rate-limits.', 'status': 'RESOURCE_EXHAUSTED', 'details': [{'@type': 'type.googleapis.com/google.rpc.QuotaFailure', 'violations': [{'quotaMetric': 'generativelanguage.googleapis.com/generate_content_free_tier_requests', 'quotaId': 'GenerateRequestsPerDayPerProjectPerModel-FreeTier', 'quotaDimensions': {'location': 'global', 'model': 'gemini-1.5-flash'}, 'quotaValue': '50'}]}, {'@type': 'type.googleapis.com/google.rpc.Help', 'links': [{'description': 'Learn more about Gemini API quotas', 'url': 'https://ai.google.dev/gemini-api/docs/rate-limits'}]}, {'@type': 'type.googleapis.com/google.rpc.RetryInfo', 'retryDelay': '32s'}]}}\n"
          ]
        },
        {
          "name": "stderr",
          "output_type": "stream",
          "text": [
            "2025-09-15 01:24:27 - noveum_trace.transport.http_transport - INFO - 📤 EXPORTING TRACE: auto_trace_generate (ID: 3dd02ca2-5f4a-4ae1-98ee-79b71eb8afc4) - 1 spans\n",
            "2025-09-15 01:24:27 - noveum_trace.transport.batch_processor - INFO - 📥 ADDING TRACE TO QUEUE: auto_trace_generate (ID: 3dd02ca2-5f4a-4ae1-98ee-79b71eb8afc4) - 1 spans\n",
            "2025-09-15 01:24:27 - noveum_trace.transport.batch_processor - INFO - ✅ Successfully queued trace 3dd02ca2-5f4a-4ae1-98ee-79b71eb8afc4\n",
            "2025-09-15 01:24:27 - noveum_trace.transport.http_transport - INFO - ✅ Trace 3dd02ca2-5f4a-4ae1-98ee-79b71eb8afc4 successfully queued for export\n"
          ]
        },
        {
          "name": "stdout",
          "output_type": "stream",
          "text": [
            "2025-09-15 01:24:27 - INFO - google_genai.models - AFC is enabled with max remote calls: 10.\n",
            "2025-09-15 01:24:27 - ERROR - novaeval.models.base - Error: 429 RESOURCE_EXHAUSTED. {'error': {'code': 429, 'message': 'You exceeded your current quota, please check your plan and billing details. For more information on this error, head to: https://ai.google.dev/gemini-api/docs/rate-limits.', 'status': 'RESOURCE_EXHAUSTED', 'details': [{'@type': 'type.googleapis.com/google.rpc.QuotaFailure', 'violations': [{'quotaMetric': 'generativelanguage.googleapis.com/generate_content_free_tier_requests', 'quotaId': 'GenerateRequestsPerDayPerProjectPerModel-FreeTier', 'quotaDimensions': {'location': 'global', 'model': 'gemini-1.5-flash'}, 'quotaValue': '50'}]}, {'@type': 'type.googleapis.com/google.rpc.Help', 'links': [{'description': 'Learn more about Gemini API quotas', 'url': 'https://ai.google.dev/gemini-api/docs/rate-limits'}]}, {'@type': 'type.googleapis.com/google.rpc.RetryInfo', 'retryDelay': '32s'}]}}\n"
          ]
        },
        {
          "name": "stderr",
          "output_type": "stream",
          "text": [
            "2025-09-15 01:24:27 - noveum_trace.transport.http_transport - INFO - 📤 EXPORTING TRACE: auto_trace_generate (ID: e0cd7832-346c-412a-8ccb-7614afaa7bec) - 1 spans\n",
            "2025-09-15 01:24:27 - noveum_trace.transport.batch_processor - INFO - 📥 ADDING TRACE TO QUEUE: auto_trace_generate (ID: e0cd7832-346c-412a-8ccb-7614afaa7bec) - 1 spans\n",
            "2025-09-15 01:24:27 - noveum_trace.transport.batch_processor - INFO - ✅ Successfully queued trace e0cd7832-346c-412a-8ccb-7614afaa7bec\n",
            "2025-09-15 01:24:27 - noveum_trace.transport.http_transport - INFO - ✅ Trace e0cd7832-346c-412a-8ccb-7614afaa7bec successfully queued for export\n"
          ]
        },
        {
          "name": "stdout",
          "output_type": "stream",
          "text": [
            "2025-09-15 01:24:27 - INFO - google_genai.models - AFC is enabled with max remote calls: 10.\n",
            "2025-09-15 01:24:29 - ERROR - novaeval.models.base - Error: 429 RESOURCE_EXHAUSTED. {'error': {'code': 429, 'message': 'You exceeded your current quota, please check your plan and billing details. For more information on this error, head to: https://ai.google.dev/gemini-api/docs/rate-limits.', 'status': 'RESOURCE_EXHAUSTED', 'details': [{'@type': 'type.googleapis.com/google.rpc.QuotaFailure', 'violations': [{'quotaMetric': 'generativelanguage.googleapis.com/generate_content_free_tier_requests', 'quotaId': 'GenerateRequestsPerDayPerProjectPerModel-FreeTier', 'quotaDimensions': {'location': 'global', 'model': 'gemini-1.5-flash'}, 'quotaValue': '50'}]}, {'@type': 'type.googleapis.com/google.rpc.Help', 'links': [{'description': 'Learn more about Gemini API quotas', 'url': 'https://ai.google.dev/gemini-api/docs/rate-limits'}]}, {'@type': 'type.googleapis.com/google.rpc.RetryInfo', 'retryDelay': '31s'}]}}\n"
          ]
        },
        {
          "name": "stderr",
          "output_type": "stream",
          "text": [
            "2025-09-15 01:24:29 - noveum_trace.transport.http_transport - INFO - 📤 EXPORTING TRACE: auto_trace_generate (ID: 622b9fbb-94f5-4ac2-bf6d-73161af513ef) - 1 spans\n",
            "2025-09-15 01:24:29 - noveum_trace.transport.batch_processor - INFO - 📥 ADDING TRACE TO QUEUE: auto_trace_generate (ID: 622b9fbb-94f5-4ac2-bf6d-73161af513ef) - 1 spans\n",
            "2025-09-15 01:24:29 - noveum_trace.transport.batch_processor - INFO - ✅ Successfully queued trace 622b9fbb-94f5-4ac2-bf6d-73161af513ef\n",
            "2025-09-15 01:24:29 - noveum_trace.transport.http_transport - INFO - ✅ Trace 622b9fbb-94f5-4ac2-bf6d-73161af513ef successfully queued for export\n"
          ]
        },
        {
          "name": "stdout",
          "output_type": "stream",
          "text": [
            "2025-09-15 01:24:29 - INFO - novaeval.evaluators.agent_evaluator - Saving intermediate results after 24 samples\n",
            "2025-09-15 01:24:29 - INFO - novaeval.evaluators.agent_evaluator - Intermediate results saved to demo_results/sample_evaluation/agent_evaluation_results.csv\n"
          ]
        },
        {
          "name": "stderr",
          "output_type": "stream",
          "text": [
            "Evaluating samples: 24it [01:10,  2.91s/it]"
          ]
        },
        {
          "name": "stdout",
          "output_type": "stream",
          "text": [
            "2025-09-15 01:24:29 - INFO - google_genai.models - AFC is enabled with max remote calls: 10.\n",
            "2025-09-15 01:24:29 - ERROR - novaeval.models.base - Error: 429 RESOURCE_EXHAUSTED. {'error': {'code': 429, 'message': 'You exceeded your current quota, please check your plan and billing details. For more information on this error, head to: https://ai.google.dev/gemini-api/docs/rate-limits.', 'status': 'RESOURCE_EXHAUSTED', 'details': [{'@type': 'type.googleapis.com/google.rpc.QuotaFailure', 'violations': [{'quotaMetric': 'generativelanguage.googleapis.com/generate_content_free_tier_requests', 'quotaId': 'GenerateRequestsPerDayPerProjectPerModel-FreeTier', 'quotaDimensions': {'location': 'global', 'model': 'gemini-1.5-flash'}, 'quotaValue': '50'}]}, {'@type': 'type.googleapis.com/google.rpc.Help', 'links': [{'description': 'Learn more about Gemini API quotas', 'url': 'https://ai.google.dev/gemini-api/docs/rate-limits'}]}, {'@type': 'type.googleapis.com/google.rpc.RetryInfo', 'retryDelay': '30s'}]}}\n"
          ]
        },
        {
          "name": "stderr",
          "output_type": "stream",
          "text": [
            "2025-09-15 01:24:29 - noveum_trace.transport.http_transport - INFO - 📤 EXPORTING TRACE: auto_trace_generate (ID: bcb2ddd9-9efc-4106-9f97-de3a4ddf043c) - 1 spans\n",
            "2025-09-15 01:24:29 - noveum_trace.transport.batch_processor - INFO - 📥 ADDING TRACE TO QUEUE: auto_trace_generate (ID: bcb2ddd9-9efc-4106-9f97-de3a4ddf043c) - 1 spans\n",
            "2025-09-15 01:24:29 - noveum_trace.transport.batch_processor - INFO - ✅ Successfully queued trace bcb2ddd9-9efc-4106-9f97-de3a4ddf043c\n",
            "2025-09-15 01:24:29 - noveum_trace.transport.http_transport - INFO - ✅ Trace bcb2ddd9-9efc-4106-9f97-de3a4ddf043c successfully queued for export\n"
          ]
        },
        {
          "name": "stdout",
          "output_type": "stream",
          "text": [
            "2025-09-15 01:24:29 - INFO - google_genai.models - AFC is enabled with max remote calls: 10.\n",
            "2025-09-15 01:24:30 - ERROR - novaeval.models.base - Error: 429 RESOURCE_EXHAUSTED. {'error': {'code': 429, 'message': 'You exceeded your current quota, please check your plan and billing details. For more information on this error, head to: https://ai.google.dev/gemini-api/docs/rate-limits.', 'status': 'RESOURCE_EXHAUSTED', 'details': [{'@type': 'type.googleapis.com/google.rpc.QuotaFailure', 'violations': [{'quotaMetric': 'generativelanguage.googleapis.com/generate_content_free_tier_requests', 'quotaId': 'GenerateRequestsPerDayPerProjectPerModel-FreeTier', 'quotaDimensions': {'model': 'gemini-1.5-flash', 'location': 'global'}, 'quotaValue': '50'}]}, {'@type': 'type.googleapis.com/google.rpc.Help', 'links': [{'description': 'Learn more about Gemini API quotas', 'url': 'https://ai.google.dev/gemini-api/docs/rate-limits'}]}, {'@type': 'type.googleapis.com/google.rpc.RetryInfo', 'retryDelay': '29s'}]}}\n"
          ]
        },
        {
          "name": "stderr",
          "output_type": "stream",
          "text": [
            "2025-09-15 01:24:30 - noveum_trace.transport.http_transport - INFO - 📤 EXPORTING TRACE: auto_trace_generate (ID: 9b30b1b5-aeb2-4b84-8e20-7d10353584a6) - 1 spans\n",
            "2025-09-15 01:24:30 - noveum_trace.transport.batch_processor - INFO - 📥 ADDING TRACE TO QUEUE: auto_trace_generate (ID: 9b30b1b5-aeb2-4b84-8e20-7d10353584a6) - 1 spans\n",
            "2025-09-15 01:24:30 - noveum_trace.transport.batch_processor - INFO - ✅ Successfully queued trace 9b30b1b5-aeb2-4b84-8e20-7d10353584a6\n",
            "2025-09-15 01:24:30 - noveum_trace.transport.http_transport - INFO - ✅ Trace 9b30b1b5-aeb2-4b84-8e20-7d10353584a6 successfully queued for export\n"
          ]
        },
        {
          "name": "stdout",
          "output_type": "stream",
          "text": [
            "2025-09-15 01:24:30 - INFO - google_genai.models - AFC is enabled with max remote calls: 10.\n",
            "2025-09-15 01:24:31 - ERROR - novaeval.models.base - Error: 429 RESOURCE_EXHAUSTED. {'error': {'code': 429, 'message': 'You exceeded your current quota, please check your plan and billing details. For more information on this error, head to: https://ai.google.dev/gemini-api/docs/rate-limits.', 'status': 'RESOURCE_EXHAUSTED', 'details': [{'@type': 'type.googleapis.com/google.rpc.QuotaFailure', 'violations': [{'quotaMetric': 'generativelanguage.googleapis.com/generate_content_free_tier_requests', 'quotaId': 'GenerateRequestsPerDayPerProjectPerModel-FreeTier', 'quotaDimensions': {'location': 'global', 'model': 'gemini-1.5-flash'}, 'quotaValue': '50'}]}, {'@type': 'type.googleapis.com/google.rpc.Help', 'links': [{'description': 'Learn more about Gemini API quotas', 'url': 'https://ai.google.dev/gemini-api/docs/rate-limits'}]}, {'@type': 'type.googleapis.com/google.rpc.RetryInfo', 'retryDelay': '29s'}]}}\n"
          ]
        },
        {
          "name": "stderr",
          "output_type": "stream",
          "text": [
            "2025-09-15 01:24:31 - noveum_trace.transport.http_transport - INFO - 📤 EXPORTING TRACE: auto_trace_generate (ID: 80bee30c-f440-4c27-bf69-35052b469157) - 1 spans\n",
            "2025-09-15 01:24:31 - noveum_trace.transport.batch_processor - INFO - 📥 ADDING TRACE TO QUEUE: auto_trace_generate (ID: 80bee30c-f440-4c27-bf69-35052b469157) - 1 spans\n",
            "2025-09-15 01:24:31 - noveum_trace.transport.batch_processor - INFO - ✅ Successfully queued trace 80bee30c-f440-4c27-bf69-35052b469157\n",
            "2025-09-15 01:24:31 - noveum_trace.transport.http_transport - INFO - ✅ Trace 80bee30c-f440-4c27-bf69-35052b469157 successfully queued for export\n"
          ]
        },
        {
          "name": "stdout",
          "output_type": "stream",
          "text": [
            "2025-09-15 01:24:31 - INFO - novaeval.evaluators.agent_evaluator - Saving intermediate results after 25 samples\n",
            "2025-09-15 01:24:31 - INFO - novaeval.evaluators.agent_evaluator - Intermediate results saved to demo_results/sample_evaluation/agent_evaluation_results.csv\n"
          ]
        },
        {
          "name": "stderr",
          "output_type": "stream",
          "text": [
            "Evaluating samples: 25it [01:12,  2.63s/it]"
          ]
        },
        {
          "name": "stdout",
          "output_type": "stream",
          "text": [
            "2025-09-15 01:24:31 - INFO - google_genai.models - AFC is enabled with max remote calls: 10.\n",
            "2025-09-15 01:24:32 - ERROR - novaeval.models.base - Error: 429 RESOURCE_EXHAUSTED. {'error': {'code': 429, 'message': 'You exceeded your current quota, please check your plan and billing details. For more information on this error, head to: https://ai.google.dev/gemini-api/docs/rate-limits.', 'status': 'RESOURCE_EXHAUSTED', 'details': [{'@type': 'type.googleapis.com/google.rpc.QuotaFailure', 'violations': [{'quotaMetric': 'generativelanguage.googleapis.com/generate_content_free_tier_requests', 'quotaId': 'GenerateRequestsPerDayPerProjectPerModel-FreeTier', 'quotaDimensions': {'location': 'global', 'model': 'gemini-1.5-flash'}, 'quotaValue': '50'}]}, {'@type': 'type.googleapis.com/google.rpc.Help', 'links': [{'description': 'Learn more about Gemini API quotas', 'url': 'https://ai.google.dev/gemini-api/docs/rate-limits'}]}, {'@type': 'type.googleapis.com/google.rpc.RetryInfo', 'retryDelay': '27s'}]}}\n"
          ]
        },
        {
          "name": "stderr",
          "output_type": "stream",
          "text": [
            "2025-09-15 01:24:32 - noveum_trace.transport.http_transport - INFO - 📤 EXPORTING TRACE: auto_trace_generate (ID: a008cc26-09eb-403b-98fe-88e2b61c3d2a) - 1 spans\n",
            "2025-09-15 01:24:32 - noveum_trace.transport.batch_processor - INFO - 📥 ADDING TRACE TO QUEUE: auto_trace_generate (ID: a008cc26-09eb-403b-98fe-88e2b61c3d2a) - 1 spans\n",
            "2025-09-15 01:24:32 - noveum_trace.transport.batch_processor - INFO - ✅ Successfully queued trace a008cc26-09eb-403b-98fe-88e2b61c3d2a\n",
            "2025-09-15 01:24:32 - noveum_trace.transport.http_transport - INFO - ✅ Trace a008cc26-09eb-403b-98fe-88e2b61c3d2a successfully queued for export\n"
          ]
        },
        {
          "name": "stdout",
          "output_type": "stream",
          "text": [
            "2025-09-15 01:24:32 - INFO - google_genai.models - AFC is enabled with max remote calls: 10.\n",
            "2025-09-15 01:24:32 - ERROR - novaeval.models.base - Error: 429 RESOURCE_EXHAUSTED. {'error': {'code': 429, 'message': 'You exceeded your current quota, please check your plan and billing details. For more information on this error, head to: https://ai.google.dev/gemini-api/docs/rate-limits.', 'status': 'RESOURCE_EXHAUSTED', 'details': [{'@type': 'type.googleapis.com/google.rpc.QuotaFailure', 'violations': [{'quotaMetric': 'generativelanguage.googleapis.com/generate_content_free_tier_requests', 'quotaId': 'GenerateRequestsPerDayPerProjectPerModel-FreeTier', 'quotaDimensions': {'location': 'global', 'model': 'gemini-1.5-flash'}, 'quotaValue': '50'}]}, {'@type': 'type.googleapis.com/google.rpc.Help', 'links': [{'description': 'Learn more about Gemini API quotas', 'url': 'https://ai.google.dev/gemini-api/docs/rate-limits'}]}, {'@type': 'type.googleapis.com/google.rpc.RetryInfo', 'retryDelay': '27s'}]}}\n"
          ]
        },
        {
          "name": "stderr",
          "output_type": "stream",
          "text": [
            "2025-09-15 01:24:32 - noveum_trace.transport.http_transport - INFO - 📤 EXPORTING TRACE: auto_trace_generate (ID: 31203db9-5263-4e87-9a42-60d1ec3aeef1) - 1 spans\n",
            "2025-09-15 01:24:32 - noveum_trace.transport.batch_processor - INFO - 📥 ADDING TRACE TO QUEUE: auto_trace_generate (ID: 31203db9-5263-4e87-9a42-60d1ec3aeef1) - 1 spans\n",
            "2025-09-15 01:24:32 - noveum_trace.transport.batch_processor - INFO - ✅ Successfully queued trace 31203db9-5263-4e87-9a42-60d1ec3aeef1\n",
            "2025-09-15 01:24:32 - noveum_trace.transport.http_transport - INFO - ✅ Trace 31203db9-5263-4e87-9a42-60d1ec3aeef1 successfully queued for export\n"
          ]
        },
        {
          "name": "stdout",
          "output_type": "stream",
          "text": [
            "2025-09-15 01:24:32 - INFO - google_genai.models - AFC is enabled with max remote calls: 10.\n",
            "2025-09-15 01:24:33 - ERROR - novaeval.models.base - Error: 429 RESOURCE_EXHAUSTED. {'error': {'code': 429, 'message': 'You exceeded your current quota, please check your plan and billing details. For more information on this error, head to: https://ai.google.dev/gemini-api/docs/rate-limits.', 'status': 'RESOURCE_EXHAUSTED', 'details': [{'@type': 'type.googleapis.com/google.rpc.QuotaFailure', 'violations': [{'quotaMetric': 'generativelanguage.googleapis.com/generate_content_free_tier_requests', 'quotaId': 'GenerateRequestsPerDayPerProjectPerModel-FreeTier', 'quotaDimensions': {'location': 'global', 'model': 'gemini-1.5-flash'}, 'quotaValue': '50'}]}, {'@type': 'type.googleapis.com/google.rpc.Help', 'links': [{'description': 'Learn more about Gemini API quotas', 'url': 'https://ai.google.dev/gemini-api/docs/rate-limits'}]}, {'@type': 'type.googleapis.com/google.rpc.RetryInfo', 'retryDelay': '26s'}]}}\n"
          ]
        },
        {
          "name": "stderr",
          "output_type": "stream",
          "text": [
            "2025-09-15 01:24:33 - noveum_trace.transport.http_transport - INFO - 📤 EXPORTING TRACE: auto_trace_generate (ID: 036256da-03af-44ee-94a4-ce0854745d6c) - 1 spans\n",
            "2025-09-15 01:24:33 - noveum_trace.transport.batch_processor - INFO - 📥 ADDING TRACE TO QUEUE: auto_trace_generate (ID: 036256da-03af-44ee-94a4-ce0854745d6c) - 1 spans\n",
            "2025-09-15 01:24:33 - noveum_trace.transport.batch_processor - INFO - ✅ Successfully queued trace 036256da-03af-44ee-94a4-ce0854745d6c\n",
            "2025-09-15 01:24:33 - noveum_trace.transport.http_transport - INFO - ✅ Trace 036256da-03af-44ee-94a4-ce0854745d6c successfully queued for export\n"
          ]
        },
        {
          "name": "stdout",
          "output_type": "stream",
          "text": [
            "2025-09-15 01:24:33 - INFO - novaeval.evaluators.agent_evaluator - Saving intermediate results after 26 samples\n",
            "2025-09-15 01:24:33 - INFO - novaeval.evaluators.agent_evaluator - Intermediate results saved to demo_results/sample_evaluation/agent_evaluation_results.csv\n"
          ]
        },
        {
          "name": "stderr",
          "output_type": "stream",
          "text": [
            "Evaluating samples: 26it [01:15,  2.70s/it]"
          ]
        },
        {
          "name": "stdout",
          "output_type": "stream",
          "text": [
            "2025-09-15 01:24:33 - INFO - google_genai.models - AFC is enabled with max remote calls: 10.\n",
            "2025-09-15 01:24:34 - ERROR - novaeval.models.base - Error: 429 RESOURCE_EXHAUSTED. {'error': {'code': 429, 'message': 'You exceeded your current quota, please check your plan and billing details. For more information on this error, head to: https://ai.google.dev/gemini-api/docs/rate-limits.', 'status': 'RESOURCE_EXHAUSTED', 'details': [{'@type': 'type.googleapis.com/google.rpc.QuotaFailure', 'violations': [{'quotaMetric': 'generativelanguage.googleapis.com/generate_content_free_tier_requests', 'quotaId': 'GenerateRequestsPerDayPerProjectPerModel-FreeTier', 'quotaDimensions': {'location': 'global', 'model': 'gemini-1.5-flash'}, 'quotaValue': '50'}]}, {'@type': 'type.googleapis.com/google.rpc.Help', 'links': [{'description': 'Learn more about Gemini API quotas', 'url': 'https://ai.google.dev/gemini-api/docs/rate-limits'}]}, {'@type': 'type.googleapis.com/google.rpc.RetryInfo', 'retryDelay': '25s'}]}}\n"
          ]
        },
        {
          "name": "stderr",
          "output_type": "stream",
          "text": [
            "2025-09-15 01:24:34 - noveum_trace.transport.http_transport - INFO - 📤 EXPORTING TRACE: auto_trace_generate (ID: 6b7e512a-1887-4988-8130-a32a7e38385f) - 1 spans\n",
            "2025-09-15 01:24:34 - noveum_trace.transport.batch_processor - INFO - 📥 ADDING TRACE TO QUEUE: auto_trace_generate (ID: 6b7e512a-1887-4988-8130-a32a7e38385f) - 1 spans\n",
            "2025-09-15 01:24:34 - noveum_trace.transport.batch_processor - INFO - ✅ Successfully queued trace 6b7e512a-1887-4988-8130-a32a7e38385f\n",
            "2025-09-15 01:24:34 - noveum_trace.transport.http_transport - INFO - ✅ Trace 6b7e512a-1887-4988-8130-a32a7e38385f successfully queued for export\n"
          ]
        },
        {
          "name": "stdout",
          "output_type": "stream",
          "text": [
            "2025-09-15 01:24:34 - INFO - google_genai.models - AFC is enabled with max remote calls: 10.\n",
            "2025-09-15 01:24:35 - ERROR - novaeval.models.base - Error: 429 RESOURCE_EXHAUSTED. {'error': {'code': 429, 'message': 'You exceeded your current quota, please check your plan and billing details. For more information on this error, head to: https://ai.google.dev/gemini-api/docs/rate-limits.', 'status': 'RESOURCE_EXHAUSTED', 'details': [{'@type': 'type.googleapis.com/google.rpc.QuotaFailure', 'violations': [{'quotaMetric': 'generativelanguage.googleapis.com/generate_content_free_tier_requests', 'quotaId': 'GenerateRequestsPerDayPerProjectPerModel-FreeTier', 'quotaDimensions': {'model': 'gemini-1.5-flash', 'location': 'global'}, 'quotaValue': '50'}]}, {'@type': 'type.googleapis.com/google.rpc.Help', 'links': [{'description': 'Learn more about Gemini API quotas', 'url': 'https://ai.google.dev/gemini-api/docs/rate-limits'}]}, {'@type': 'type.googleapis.com/google.rpc.RetryInfo', 'retryDelay': '24s'}]}}\n"
          ]
        },
        {
          "name": "stderr",
          "output_type": "stream",
          "text": [
            "2025-09-15 01:24:35 - noveum_trace.transport.http_transport - INFO - 📤 EXPORTING TRACE: auto_trace_generate (ID: b1f4dcc2-e83f-460b-bc08-a7666ea65d30) - 1 spans\n",
            "2025-09-15 01:24:35 - noveum_trace.transport.batch_processor - INFO - 📥 ADDING TRACE TO QUEUE: auto_trace_generate (ID: b1f4dcc2-e83f-460b-bc08-a7666ea65d30) - 1 spans\n",
            "2025-09-15 01:24:35 - noveum_trace.transport.batch_processor - INFO - ✅ Successfully queued trace b1f4dcc2-e83f-460b-bc08-a7666ea65d30\n",
            "2025-09-15 01:24:35 - noveum_trace.transport.http_transport - INFO - ✅ Trace b1f4dcc2-e83f-460b-bc08-a7666ea65d30 successfully queued for export\n"
          ]
        },
        {
          "name": "stdout",
          "output_type": "stream",
          "text": [
            "2025-09-15 01:24:35 - INFO - google_genai.models - AFC is enabled with max remote calls: 10.\n",
            "2025-09-15 01:24:36 - ERROR - novaeval.models.base - Error: 429 RESOURCE_EXHAUSTED. {'error': {'code': 429, 'message': 'You exceeded your current quota, please check your plan and billing details. For more information on this error, head to: https://ai.google.dev/gemini-api/docs/rate-limits.', 'status': 'RESOURCE_EXHAUSTED', 'details': [{'@type': 'type.googleapis.com/google.rpc.QuotaFailure', 'violations': [{'quotaMetric': 'generativelanguage.googleapis.com/generate_content_free_tier_requests', 'quotaId': 'GenerateRequestsPerDayPerProjectPerModel-FreeTier', 'quotaDimensions': {'location': 'global', 'model': 'gemini-1.5-flash'}, 'quotaValue': '50'}]}, {'@type': 'type.googleapis.com/google.rpc.Help', 'links': [{'description': 'Learn more about Gemini API quotas', 'url': 'https://ai.google.dev/gemini-api/docs/rate-limits'}]}, {'@type': 'type.googleapis.com/google.rpc.RetryInfo', 'retryDelay': '24s'}]}}\n"
          ]
        },
        {
          "name": "stderr",
          "output_type": "stream",
          "text": [
            "2025-09-15 01:24:36 - noveum_trace.transport.http_transport - INFO - 📤 EXPORTING TRACE: auto_trace_generate (ID: a91a5a57-02fd-45cc-a7a0-c37e0a56bd55) - 1 spans\n",
            "2025-09-15 01:24:36 - noveum_trace.transport.batch_processor - INFO - 📥 ADDING TRACE TO QUEUE: auto_trace_generate (ID: a91a5a57-02fd-45cc-a7a0-c37e0a56bd55) - 1 spans\n",
            "2025-09-15 01:24:36 - noveum_trace.transport.batch_processor - INFO - ✅ Successfully queued trace a91a5a57-02fd-45cc-a7a0-c37e0a56bd55\n",
            "2025-09-15 01:24:36 - noveum_trace.transport.http_transport - INFO - ✅ Trace a91a5a57-02fd-45cc-a7a0-c37e0a56bd55 successfully queued for export\n"
          ]
        },
        {
          "name": "stdout",
          "output_type": "stream",
          "text": [
            "2025-09-15 01:24:36 - INFO - novaeval.evaluators.agent_evaluator - Saving intermediate results after 27 samples\n",
            "2025-09-15 01:24:36 - INFO - novaeval.evaluators.agent_evaluator - Intermediate results saved to demo_results/sample_evaluation/agent_evaluation_results.csv\n"
          ]
        },
        {
          "name": "stderr",
          "output_type": "stream",
          "text": [
            "Evaluating samples: 27it [01:17,  2.50s/it]"
          ]
        },
        {
          "name": "stdout",
          "output_type": "stream",
          "text": [
            "2025-09-15 01:24:36 - INFO - google_genai.models - AFC is enabled with max remote calls: 10.\n",
            "2025-09-15 01:24:37 - ERROR - novaeval.models.base - Error: 429 RESOURCE_EXHAUSTED. {'error': {'code': 429, 'message': 'You exceeded your current quota, please check your plan and billing details. For more information on this error, head to: https://ai.google.dev/gemini-api/docs/rate-limits.', 'status': 'RESOURCE_EXHAUSTED', 'details': [{'@type': 'type.googleapis.com/google.rpc.QuotaFailure', 'violations': [{'quotaMetric': 'generativelanguage.googleapis.com/generate_content_free_tier_requests', 'quotaId': 'GenerateRequestsPerDayPerProjectPerModel-FreeTier', 'quotaDimensions': {'location': 'global', 'model': 'gemini-1.5-flash'}, 'quotaValue': '50'}]}, {'@type': 'type.googleapis.com/google.rpc.Help', 'links': [{'description': 'Learn more about Gemini API quotas', 'url': 'https://ai.google.dev/gemini-api/docs/rate-limits'}]}, {'@type': 'type.googleapis.com/google.rpc.RetryInfo', 'retryDelay': '22s'}]}}\n"
          ]
        },
        {
          "name": "stderr",
          "output_type": "stream",
          "text": [
            "2025-09-15 01:24:37 - noveum_trace.transport.http_transport - INFO - 📤 EXPORTING TRACE: auto_trace_generate (ID: 00e68485-d5b9-4428-8155-768ff6803fbc) - 1 spans\n",
            "2025-09-15 01:24:37 - noveum_trace.transport.batch_processor - INFO - 📥 ADDING TRACE TO QUEUE: auto_trace_generate (ID: 00e68485-d5b9-4428-8155-768ff6803fbc) - 1 spans\n",
            "2025-09-15 01:24:37 - noveum_trace.transport.batch_processor - INFO - ✅ Successfully queued trace 00e68485-d5b9-4428-8155-768ff6803fbc\n",
            "2025-09-15 01:24:37 - noveum_trace.transport.http_transport - INFO - ✅ Trace 00e68485-d5b9-4428-8155-768ff6803fbc successfully queued for export\n"
          ]
        },
        {
          "name": "stdout",
          "output_type": "stream",
          "text": [
            "2025-09-15 01:24:37 - INFO - google_genai.models - AFC is enabled with max remote calls: 10.\n",
            "2025-09-15 01:24:37 - ERROR - novaeval.models.base - Error: 429 RESOURCE_EXHAUSTED. {'error': {'code': 429, 'message': 'You exceeded your current quota, please check your plan and billing details. For more information on this error, head to: https://ai.google.dev/gemini-api/docs/rate-limits.', 'status': 'RESOURCE_EXHAUSTED', 'details': [{'@type': 'type.googleapis.com/google.rpc.QuotaFailure', 'violations': [{'quotaMetric': 'generativelanguage.googleapis.com/generate_content_free_tier_requests', 'quotaId': 'GenerateRequestsPerDayPerProjectPerModel-FreeTier', 'quotaDimensions': {'location': 'global', 'model': 'gemini-1.5-flash'}, 'quotaValue': '50'}]}, {'@type': 'type.googleapis.com/google.rpc.Help', 'links': [{'description': 'Learn more about Gemini API quotas', 'url': 'https://ai.google.dev/gemini-api/docs/rate-limits'}]}, {'@type': 'type.googleapis.com/google.rpc.RetryInfo', 'retryDelay': '22s'}]}}\n"
          ]
        },
        {
          "name": "stderr",
          "output_type": "stream",
          "text": [
            "2025-09-15 01:24:37 - noveum_trace.transport.http_transport - INFO - 📤 EXPORTING TRACE: auto_trace_generate (ID: 02c49ce6-a0cc-4c5c-b416-80fd90ccf2e8) - 1 spans\n",
            "2025-09-15 01:24:37 - noveum_trace.transport.batch_processor - INFO - 📥 ADDING TRACE TO QUEUE: auto_trace_generate (ID: 02c49ce6-a0cc-4c5c-b416-80fd90ccf2e8) - 1 spans\n",
            "2025-09-15 01:24:37 - noveum_trace.transport.batch_processor - INFO - ✅ Successfully queued trace 02c49ce6-a0cc-4c5c-b416-80fd90ccf2e8\n",
            "2025-09-15 01:24:37 - noveum_trace.transport.http_transport - INFO - ✅ Trace 02c49ce6-a0cc-4c5c-b416-80fd90ccf2e8 successfully queued for export\n"
          ]
        },
        {
          "name": "stdout",
          "output_type": "stream",
          "text": [
            "2025-09-15 01:24:37 - INFO - google_genai.models - AFC is enabled with max remote calls: 10.\n",
            "2025-09-15 01:24:38 - ERROR - novaeval.models.base - Error: 429 RESOURCE_EXHAUSTED. {'error': {'code': 429, 'message': 'You exceeded your current quota, please check your plan and billing details. For more information on this error, head to: https://ai.google.dev/gemini-api/docs/rate-limits.', 'status': 'RESOURCE_EXHAUSTED', 'details': [{'@type': 'type.googleapis.com/google.rpc.QuotaFailure', 'violations': [{'quotaMetric': 'generativelanguage.googleapis.com/generate_content_free_tier_requests', 'quotaId': 'GenerateRequestsPerDayPerProjectPerModel-FreeTier', 'quotaDimensions': {'location': 'global', 'model': 'gemini-1.5-flash'}, 'quotaValue': '50'}]}, {'@type': 'type.googleapis.com/google.rpc.Help', 'links': [{'description': 'Learn more about Gemini API quotas', 'url': 'https://ai.google.dev/gemini-api/docs/rate-limits'}]}, {'@type': 'type.googleapis.com/google.rpc.RetryInfo', 'retryDelay': '21s'}]}}\n"
          ]
        },
        {
          "name": "stderr",
          "output_type": "stream",
          "text": [
            "2025-09-15 01:24:38 - noveum_trace.transport.http_transport - INFO - 📤 EXPORTING TRACE: auto_trace_generate (ID: cadae7b3-0b1a-4437-a992-5f969e690e6b) - 1 spans\n",
            "2025-09-15 01:24:38 - noveum_trace.transport.batch_processor - INFO - 📥 ADDING TRACE TO QUEUE: auto_trace_generate (ID: cadae7b3-0b1a-4437-a992-5f969e690e6b) - 1 spans\n",
            "2025-09-15 01:24:38 - noveum_trace.transport.batch_processor - INFO - ✅ Successfully queued trace cadae7b3-0b1a-4437-a992-5f969e690e6b\n",
            "2025-09-15 01:24:38 - noveum_trace.transport.http_transport - INFO - ✅ Trace cadae7b3-0b1a-4437-a992-5f969e690e6b successfully queued for export\n"
          ]
        },
        {
          "name": "stdout",
          "output_type": "stream",
          "text": [
            "2025-09-15 01:24:38 - INFO - novaeval.evaluators.agent_evaluator - Saving intermediate results after 28 samples\n",
            "2025-09-15 01:24:38 - INFO - novaeval.evaluators.agent_evaluator - Intermediate results saved to demo_results/sample_evaluation/agent_evaluation_results.csv\n"
          ]
        },
        {
          "name": "stderr",
          "output_type": "stream",
          "text": [
            "Evaluating samples: 28it [01:20,  2.58s/it]"
          ]
        },
        {
          "name": "stdout",
          "output_type": "stream",
          "text": [
            "2025-09-15 01:24:38 - INFO - google_genai.models - AFC is enabled with max remote calls: 10.\n",
            "2025-09-15 01:24:39 - ERROR - novaeval.models.base - Error: 429 RESOURCE_EXHAUSTED. {'error': {'code': 429, 'message': 'You exceeded your current quota, please check your plan and billing details. For more information on this error, head to: https://ai.google.dev/gemini-api/docs/rate-limits.', 'status': 'RESOURCE_EXHAUSTED', 'details': [{'@type': 'type.googleapis.com/google.rpc.QuotaFailure', 'violations': [{'quotaMetric': 'generativelanguage.googleapis.com/generate_content_free_tier_requests', 'quotaId': 'GenerateRequestsPerDayPerProjectPerModel-FreeTier', 'quotaDimensions': {'model': 'gemini-1.5-flash', 'location': 'global'}, 'quotaValue': '50'}]}, {'@type': 'type.googleapis.com/google.rpc.Help', 'links': [{'description': 'Learn more about Gemini API quotas', 'url': 'https://ai.google.dev/gemini-api/docs/rate-limits'}]}, {'@type': 'type.googleapis.com/google.rpc.RetryInfo', 'retryDelay': '20s'}]}}\n"
          ]
        },
        {
          "name": "stderr",
          "output_type": "stream",
          "text": [
            "2025-09-15 01:24:39 - noveum_trace.transport.http_transport - INFO - 📤 EXPORTING TRACE: auto_trace_generate (ID: 9c3cd782-fa69-40d2-97c9-bc0d14aef394) - 1 spans\n",
            "2025-09-15 01:24:39 - noveum_trace.transport.batch_processor - INFO - 📥 ADDING TRACE TO QUEUE: auto_trace_generate (ID: 9c3cd782-fa69-40d2-97c9-bc0d14aef394) - 1 spans\n",
            "2025-09-15 01:24:39 - noveum_trace.transport.batch_processor - INFO - ✅ Successfully queued trace 9c3cd782-fa69-40d2-97c9-bc0d14aef394\n",
            "2025-09-15 01:24:39 - noveum_trace.transport.http_transport - INFO - ✅ Trace 9c3cd782-fa69-40d2-97c9-bc0d14aef394 successfully queued for export\n"
          ]
        },
        {
          "name": "stdout",
          "output_type": "stream",
          "text": [
            "2025-09-15 01:24:39 - INFO - google_genai.models - AFC is enabled with max remote calls: 10.\n",
            "2025-09-15 01:24:40 - ERROR - novaeval.models.base - Error: 429 RESOURCE_EXHAUSTED. {'error': {'code': 429, 'message': 'You exceeded your current quota, please check your plan and billing details. For more information on this error, head to: https://ai.google.dev/gemini-api/docs/rate-limits.', 'status': 'RESOURCE_EXHAUSTED', 'details': [{'@type': 'type.googleapis.com/google.rpc.QuotaFailure', 'violations': [{'quotaMetric': 'generativelanguage.googleapis.com/generate_content_free_tier_requests', 'quotaId': 'GenerateRequestsPerDayPerProjectPerModel-FreeTier', 'quotaDimensions': {'location': 'global', 'model': 'gemini-1.5-flash'}, 'quotaValue': '50'}]}, {'@type': 'type.googleapis.com/google.rpc.Help', 'links': [{'description': 'Learn more about Gemini API quotas', 'url': 'https://ai.google.dev/gemini-api/docs/rate-limits'}]}, {'@type': 'type.googleapis.com/google.rpc.RetryInfo', 'retryDelay': '19s'}]}}\n"
          ]
        },
        {
          "name": "stderr",
          "output_type": "stream",
          "text": [
            "2025-09-15 01:24:40 - noveum_trace.transport.http_transport - INFO - 📤 EXPORTING TRACE: auto_trace_generate (ID: 39b241f1-a891-4af8-8c41-80f6d9cc7516) - 1 spans\n",
            "2025-09-15 01:24:40 - noveum_trace.transport.batch_processor - INFO - 📥 ADDING TRACE TO QUEUE: auto_trace_generate (ID: 39b241f1-a891-4af8-8c41-80f6d9cc7516) - 1 spans\n",
            "2025-09-15 01:24:40 - noveum_trace.transport.batch_processor - INFO - ✅ Successfully queued trace 39b241f1-a891-4af8-8c41-80f6d9cc7516\n",
            "2025-09-15 01:24:40 - noveum_trace.transport.http_transport - INFO - ✅ Trace 39b241f1-a891-4af8-8c41-80f6d9cc7516 successfully queued for export\n"
          ]
        },
        {
          "name": "stdout",
          "output_type": "stream",
          "text": [
            "2025-09-15 01:24:40 - INFO - google_genai.models - AFC is enabled with max remote calls: 10.\n",
            "2025-09-15 01:24:40 - ERROR - novaeval.models.base - Error: 429 RESOURCE_EXHAUSTED. {'error': {'code': 429, 'message': 'You exceeded your current quota, please check your plan and billing details. For more information on this error, head to: https://ai.google.dev/gemini-api/docs/rate-limits.', 'status': 'RESOURCE_EXHAUSTED', 'details': [{'@type': 'type.googleapis.com/google.rpc.QuotaFailure', 'violations': [{'quotaMetric': 'generativelanguage.googleapis.com/generate_content_free_tier_requests', 'quotaId': 'GenerateRequestsPerDayPerProjectPerModel-FreeTier', 'quotaDimensions': {'location': 'global', 'model': 'gemini-1.5-flash'}, 'quotaValue': '50'}]}, {'@type': 'type.googleapis.com/google.rpc.Help', 'links': [{'description': 'Learn more about Gemini API quotas', 'url': 'https://ai.google.dev/gemini-api/docs/rate-limits'}]}, {'@type': 'type.googleapis.com/google.rpc.RetryInfo', 'retryDelay': '19s'}]}}\n"
          ]
        },
        {
          "name": "stderr",
          "output_type": "stream",
          "text": [
            "2025-09-15 01:24:40 - noveum_trace.transport.http_transport - INFO - 📤 EXPORTING TRACE: auto_trace_generate (ID: bd0c02f4-c380-4088-9e17-02797f2bd129) - 1 spans\n",
            "2025-09-15 01:24:40 - noveum_trace.transport.batch_processor - INFO - 📥 ADDING TRACE TO QUEUE: auto_trace_generate (ID: bd0c02f4-c380-4088-9e17-02797f2bd129) - 1 spans\n",
            "2025-09-15 01:24:40 - noveum_trace.transport.batch_processor - INFO - ✅ Successfully queued trace bd0c02f4-c380-4088-9e17-02797f2bd129\n",
            "2025-09-15 01:24:40 - noveum_trace.transport.http_transport - INFO - ✅ Trace bd0c02f4-c380-4088-9e17-02797f2bd129 successfully queued for export\n"
          ]
        },
        {
          "name": "stdout",
          "output_type": "stream",
          "text": [
            "2025-09-15 01:24:40 - INFO - novaeval.evaluators.agent_evaluator - Saving intermediate results after 29 samples\n",
            "2025-09-15 01:24:40 - INFO - novaeval.evaluators.agent_evaluator - Intermediate results saved to demo_results/sample_evaluation/agent_evaluation_results.csv\n"
          ]
        },
        {
          "name": "stderr",
          "output_type": "stream",
          "text": [
            "Evaluating samples: 29it [01:22,  2.45s/it]"
          ]
        },
        {
          "name": "stdout",
          "output_type": "stream",
          "text": [
            "2025-09-15 01:24:40 - INFO - google_genai.models - AFC is enabled with max remote calls: 10.\n",
            "2025-09-15 01:24:42 - ERROR - novaeval.models.base - Error: 429 RESOURCE_EXHAUSTED. {'error': {'code': 429, 'message': 'You exceeded your current quota, please check your plan and billing details. For more information on this error, head to: https://ai.google.dev/gemini-api/docs/rate-limits.', 'status': 'RESOURCE_EXHAUSTED', 'details': [{'@type': 'type.googleapis.com/google.rpc.QuotaFailure', 'violations': [{'quotaMetric': 'generativelanguage.googleapis.com/generate_content_free_tier_requests', 'quotaId': 'GenerateRequestsPerDayPerProjectPerModel-FreeTier', 'quotaDimensions': {'model': 'gemini-1.5-flash', 'location': 'global'}, 'quotaValue': '50'}]}, {'@type': 'type.googleapis.com/google.rpc.Help', 'links': [{'description': 'Learn more about Gemini API quotas', 'url': 'https://ai.google.dev/gemini-api/docs/rate-limits'}]}, {'@type': 'type.googleapis.com/google.rpc.RetryInfo', 'retryDelay': '18s'}]}}\n"
          ]
        },
        {
          "name": "stderr",
          "output_type": "stream",
          "text": [
            "2025-09-15 01:24:42 - noveum_trace.transport.http_transport - INFO - 📤 EXPORTING TRACE: auto_trace_generate (ID: 24304c19-bdb3-4c57-bcf2-f2e968312f43) - 1 spans\n",
            "2025-09-15 01:24:42 - noveum_trace.transport.batch_processor - INFO - 📥 ADDING TRACE TO QUEUE: auto_trace_generate (ID: 24304c19-bdb3-4c57-bcf2-f2e968312f43) - 1 spans\n",
            "2025-09-15 01:24:42 - noveum_trace.transport.batch_processor - INFO - ✅ Successfully queued trace 24304c19-bdb3-4c57-bcf2-f2e968312f43\n",
            "2025-09-15 01:24:42 - noveum_trace.transport.http_transport - INFO - ✅ Trace 24304c19-bdb3-4c57-bcf2-f2e968312f43 successfully queued for export\n"
          ]
        },
        {
          "name": "stdout",
          "output_type": "stream",
          "text": [
            "2025-09-15 01:24:42 - INFO - google_genai.models - AFC is enabled with max remote calls: 10.\n",
            "2025-09-15 01:24:42 - ERROR - novaeval.models.base - Error: 429 RESOURCE_EXHAUSTED. {'error': {'code': 429, 'message': 'You exceeded your current quota, please check your plan and billing details. For more information on this error, head to: https://ai.google.dev/gemini-api/docs/rate-limits.', 'status': 'RESOURCE_EXHAUSTED', 'details': [{'@type': 'type.googleapis.com/google.rpc.QuotaFailure', 'violations': [{'quotaMetric': 'generativelanguage.googleapis.com/generate_content_free_tier_requests', 'quotaId': 'GenerateRequestsPerDayPerProjectPerModel-FreeTier', 'quotaDimensions': {'location': 'global', 'model': 'gemini-1.5-flash'}, 'quotaValue': '50'}]}, {'@type': 'type.googleapis.com/google.rpc.Help', 'links': [{'description': 'Learn more about Gemini API quotas', 'url': 'https://ai.google.dev/gemini-api/docs/rate-limits'}]}, {'@type': 'type.googleapis.com/google.rpc.RetryInfo', 'retryDelay': '17s'}]}}\n"
          ]
        },
        {
          "name": "stderr",
          "output_type": "stream",
          "text": [
            "2025-09-15 01:24:42 - noveum_trace.transport.http_transport - INFO - 📤 EXPORTING TRACE: auto_trace_generate (ID: 8a1fc7e2-80ca-46a4-8b28-d7587e1d83ae) - 1 spans\n",
            "2025-09-15 01:24:42 - noveum_trace.transport.batch_processor - INFO - 📥 ADDING TRACE TO QUEUE: auto_trace_generate (ID: 8a1fc7e2-80ca-46a4-8b28-d7587e1d83ae) - 1 spans\n",
            "2025-09-15 01:24:42 - noveum_trace.transport.batch_processor - INFO - ✅ Successfully queued trace 8a1fc7e2-80ca-46a4-8b28-d7587e1d83ae\n",
            "2025-09-15 01:24:42 - noveum_trace.transport.http_transport - INFO - ✅ Trace 8a1fc7e2-80ca-46a4-8b28-d7587e1d83ae successfully queued for export\n"
          ]
        },
        {
          "name": "stdout",
          "output_type": "stream",
          "text": [
            "2025-09-15 01:24:42 - INFO - google_genai.models - AFC is enabled with max remote calls: 10.\n",
            "2025-09-15 01:24:42 - ERROR - novaeval.models.base - Error: 429 RESOURCE_EXHAUSTED. {'error': {'code': 429, 'message': 'You exceeded your current quota, please check your plan and billing details. For more information on this error, head to: https://ai.google.dev/gemini-api/docs/rate-limits.', 'status': 'RESOURCE_EXHAUSTED', 'details': [{'@type': 'type.googleapis.com/google.rpc.QuotaFailure', 'violations': [{'quotaMetric': 'generativelanguage.googleapis.com/generate_content_free_tier_requests', 'quotaId': 'GenerateRequestsPerDayPerProjectPerModel-FreeTier', 'quotaDimensions': {'location': 'global', 'model': 'gemini-1.5-flash'}, 'quotaValue': '50'}]}, {'@type': 'type.googleapis.com/google.rpc.Help', 'links': [{'description': 'Learn more about Gemini API quotas', 'url': 'https://ai.google.dev/gemini-api/docs/rate-limits'}]}, {'@type': 'type.googleapis.com/google.rpc.RetryInfo', 'retryDelay': '17s'}]}}\n"
          ]
        },
        {
          "name": "stderr",
          "output_type": "stream",
          "text": [
            "2025-09-15 01:24:42 - noveum_trace.transport.http_transport - INFO - 📤 EXPORTING TRACE: auto_trace_generate (ID: ad2cbdbc-c6d7-4a14-ad58-85c1b1bd5b1d) - 1 spans\n",
            "2025-09-15 01:24:42 - noveum_trace.transport.batch_processor - INFO - 📥 ADDING TRACE TO QUEUE: auto_trace_generate (ID: ad2cbdbc-c6d7-4a14-ad58-85c1b1bd5b1d) - 1 spans\n",
            "2025-09-15 01:24:42 - noveum_trace.transport.batch_processor - INFO - ✅ Successfully queued trace ad2cbdbc-c6d7-4a14-ad58-85c1b1bd5b1d\n",
            "2025-09-15 01:24:42 - noveum_trace.transport.http_transport - INFO - ✅ Trace ad2cbdbc-c6d7-4a14-ad58-85c1b1bd5b1d successfully queued for export\n"
          ]
        },
        {
          "name": "stdout",
          "output_type": "stream",
          "text": [
            "2025-09-15 01:24:42 - INFO - google_genai.models - AFC is enabled with max remote calls: 10.\n",
            "2025-09-15 01:24:43 - ERROR - novaeval.models.base - Error: 429 RESOURCE_EXHAUSTED. {'error': {'code': 429, 'message': 'You exceeded your current quota, please check your plan and billing details. For more information on this error, head to: https://ai.google.dev/gemini-api/docs/rate-limits.', 'status': 'RESOURCE_EXHAUSTED', 'details': [{'@type': 'type.googleapis.com/google.rpc.QuotaFailure', 'violations': [{'quotaMetric': 'generativelanguage.googleapis.com/generate_content_free_tier_requests', 'quotaId': 'GenerateRequestsPerDayPerProjectPerModel-FreeTier', 'quotaDimensions': {'model': 'gemini-1.5-flash', 'location': 'global'}, 'quotaValue': '50'}]}, {'@type': 'type.googleapis.com/google.rpc.Help', 'links': [{'description': 'Learn more about Gemini API quotas', 'url': 'https://ai.google.dev/gemini-api/docs/rate-limits'}]}, {'@type': 'type.googleapis.com/google.rpc.RetryInfo', 'retryDelay': '16s'}]}}\n"
          ]
        },
        {
          "name": "stderr",
          "output_type": "stream",
          "text": [
            "2025-09-15 01:24:43 - noveum_trace.transport.http_transport - INFO - 📤 EXPORTING TRACE: auto_trace_generate (ID: 5230a798-6d52-4e73-a079-cfdcb8d2ee2b) - 1 spans\n",
            "2025-09-15 01:24:43 - noveum_trace.transport.batch_processor - INFO - 📥 ADDING TRACE TO QUEUE: auto_trace_generate (ID: 5230a798-6d52-4e73-a079-cfdcb8d2ee2b) - 1 spans\n",
            "2025-09-15 01:24:43 - noveum_trace.transport.batch_processor - INFO - ✅ Successfully queued trace 5230a798-6d52-4e73-a079-cfdcb8d2ee2b\n",
            "2025-09-15 01:24:43 - noveum_trace.transport.http_transport - INFO - ✅ Trace 5230a798-6d52-4e73-a079-cfdcb8d2ee2b successfully queued for export\n"
          ]
        },
        {
          "name": "stdout",
          "output_type": "stream",
          "text": [
            "2025-09-15 01:24:43 - INFO - google_genai.models - AFC is enabled with max remote calls: 10.\n",
            "2025-09-15 01:24:43 - ERROR - novaeval.models.base - Error: 429 RESOURCE_EXHAUSTED. {'error': {'code': 429, 'message': 'You exceeded your current quota, please check your plan and billing details. For more information on this error, head to: https://ai.google.dev/gemini-api/docs/rate-limits.', 'status': 'RESOURCE_EXHAUSTED', 'details': [{'@type': 'type.googleapis.com/google.rpc.QuotaFailure', 'violations': [{'quotaMetric': 'generativelanguage.googleapis.com/generate_content_free_tier_requests', 'quotaId': 'GenerateRequestsPerDayPerProjectPerModel-FreeTier', 'quotaDimensions': {'location': 'global', 'model': 'gemini-1.5-flash'}, 'quotaValue': '50'}]}, {'@type': 'type.googleapis.com/google.rpc.Help', 'links': [{'description': 'Learn more about Gemini API quotas', 'url': 'https://ai.google.dev/gemini-api/docs/rate-limits'}]}, {'@type': 'type.googleapis.com/google.rpc.RetryInfo', 'retryDelay': '16s'}]}}\n"
          ]
        },
        {
          "name": "stderr",
          "output_type": "stream",
          "text": [
            "2025-09-15 01:24:43 - noveum_trace.transport.http_transport - INFO - 📤 EXPORTING TRACE: auto_trace_generate (ID: 13dc4323-7dca-4e66-84a7-21b23ee8d8e4) - 1 spans\n",
            "2025-09-15 01:24:43 - noveum_trace.transport.batch_processor - INFO - 📥 ADDING TRACE TO QUEUE: auto_trace_generate (ID: 13dc4323-7dca-4e66-84a7-21b23ee8d8e4) - 1 spans\n",
            "2025-09-15 01:24:43 - noveum_trace.transport.batch_processor - INFO - ✅ Successfully queued trace 13dc4323-7dca-4e66-84a7-21b23ee8d8e4\n",
            "2025-09-15 01:24:43 - noveum_trace.transport.http_transport - INFO - ✅ Trace 13dc4323-7dca-4e66-84a7-21b23ee8d8e4 successfully queued for export\n"
          ]
        },
        {
          "name": "stdout",
          "output_type": "stream",
          "text": [
            "2025-09-15 01:24:43 - INFO - novaeval.evaluators.agent_evaluator - Saving intermediate results after 30 samples\n",
            "2025-09-15 01:24:43 - INFO - novaeval.evaluators.agent_evaluator - Intermediate results saved to demo_results/sample_evaluation/agent_evaluation_results.csv\n"
          ]
        },
        {
          "name": "stderr",
          "output_type": "stream",
          "text": [
            "Evaluating samples: 30it [01:24,  2.52s/it]"
          ]
        },
        {
          "name": "stdout",
          "output_type": "stream",
          "text": [
            "2025-09-15 01:24:43 - INFO - google_genai.models - AFC is enabled with max remote calls: 10.\n",
            "2025-09-15 01:24:43 - ERROR - novaeval.models.base - Error: 429 RESOURCE_EXHAUSTED. {'error': {'code': 429, 'message': 'You exceeded your current quota, please check your plan and billing details. For more information on this error, head to: https://ai.google.dev/gemini-api/docs/rate-limits.', 'status': 'RESOURCE_EXHAUSTED', 'details': [{'@type': 'type.googleapis.com/google.rpc.QuotaFailure', 'violations': [{'quotaMetric': 'generativelanguage.googleapis.com/generate_content_free_tier_requests', 'quotaId': 'GenerateRequestsPerDayPerProjectPerModel-FreeTier', 'quotaDimensions': {'model': 'gemini-1.5-flash', 'location': 'global'}, 'quotaValue': '50'}]}, {'@type': 'type.googleapis.com/google.rpc.Help', 'links': [{'description': 'Learn more about Gemini API quotas', 'url': 'https://ai.google.dev/gemini-api/docs/rate-limits'}]}, {'@type': 'type.googleapis.com/google.rpc.RetryInfo', 'retryDelay': '16s'}]}}\n"
          ]
        },
        {
          "name": "stderr",
          "output_type": "stream",
          "text": [
            "2025-09-15 01:24:43 - noveum_trace.transport.http_transport - INFO - 📤 EXPORTING TRACE: auto_trace_generate (ID: a04f2847-9514-4814-8913-2bd91cb46f7d) - 1 spans\n",
            "2025-09-15 01:24:43 - noveum_trace.transport.batch_processor - INFO - 📥 ADDING TRACE TO QUEUE: auto_trace_generate (ID: a04f2847-9514-4814-8913-2bd91cb46f7d) - 1 spans\n",
            "2025-09-15 01:24:43 - noveum_trace.transport.batch_processor - INFO - ✅ Successfully queued trace a04f2847-9514-4814-8913-2bd91cb46f7d\n",
            "2025-09-15 01:24:43 - noveum_trace.transport.http_transport - INFO - ✅ Trace a04f2847-9514-4814-8913-2bd91cb46f7d successfully queued for export\n"
          ]
        },
        {
          "name": "stdout",
          "output_type": "stream",
          "text": [
            "2025-09-15 01:24:43 - INFO - google_genai.models - AFC is enabled with max remote calls: 10.\n",
            "2025-09-15 01:24:44 - ERROR - novaeval.models.base - Error: 429 RESOURCE_EXHAUSTED. {'error': {'code': 429, 'message': 'You exceeded your current quota, please check your plan and billing details. For more information on this error, head to: https://ai.google.dev/gemini-api/docs/rate-limits.', 'status': 'RESOURCE_EXHAUSTED', 'details': [{'@type': 'type.googleapis.com/google.rpc.QuotaFailure', 'violations': [{'quotaMetric': 'generativelanguage.googleapis.com/generate_content_free_tier_requests', 'quotaId': 'GenerateRequestsPerDayPerProjectPerModel-FreeTier', 'quotaDimensions': {'model': 'gemini-1.5-flash', 'location': 'global'}, 'quotaValue': '50'}]}, {'@type': 'type.googleapis.com/google.rpc.Help', 'links': [{'description': 'Learn more about Gemini API quotas', 'url': 'https://ai.google.dev/gemini-api/docs/rate-limits'}]}, {'@type': 'type.googleapis.com/google.rpc.RetryInfo', 'retryDelay': '15s'}]}}\n"
          ]
        },
        {
          "name": "stderr",
          "output_type": "stream",
          "text": [
            "2025-09-15 01:24:44 - noveum_trace.transport.http_transport - INFO - 📤 EXPORTING TRACE: auto_trace_generate (ID: 69118afa-4971-46a0-81ce-916062bd46bc) - 1 spans\n",
            "2025-09-15 01:24:44 - noveum_trace.transport.batch_processor - INFO - 📥 ADDING TRACE TO QUEUE: auto_trace_generate (ID: 69118afa-4971-46a0-81ce-916062bd46bc) - 1 spans\n",
            "2025-09-15 01:24:44 - noveum_trace.transport.batch_processor - INFO - ✅ Successfully queued trace 69118afa-4971-46a0-81ce-916062bd46bc\n",
            "2025-09-15 01:24:44 - noveum_trace.transport.http_transport - INFO - ✅ Trace 69118afa-4971-46a0-81ce-916062bd46bc successfully queued for export\n"
          ]
        },
        {
          "name": "stdout",
          "output_type": "stream",
          "text": [
            "2025-09-15 01:24:44 - INFO - google_genai.models - AFC is enabled with max remote calls: 10.\n",
            "2025-09-15 01:24:44 - ERROR - novaeval.models.base - Error: 429 RESOURCE_EXHAUSTED. {'error': {'code': 429, 'message': 'You exceeded your current quota, please check your plan and billing details. For more information on this error, head to: https://ai.google.dev/gemini-api/docs/rate-limits.', 'status': 'RESOURCE_EXHAUSTED', 'details': [{'@type': 'type.googleapis.com/google.rpc.QuotaFailure', 'violations': [{'quotaMetric': 'generativelanguage.googleapis.com/generate_content_free_tier_requests', 'quotaId': 'GenerateRequestsPerDayPerProjectPerModel-FreeTier', 'quotaDimensions': {'location': 'global', 'model': 'gemini-1.5-flash'}, 'quotaValue': '50'}]}, {'@type': 'type.googleapis.com/google.rpc.Help', 'links': [{'description': 'Learn more about Gemini API quotas', 'url': 'https://ai.google.dev/gemini-api/docs/rate-limits'}]}, {'@type': 'type.googleapis.com/google.rpc.RetryInfo', 'retryDelay': '15s'}]}}\n"
          ]
        },
        {
          "name": "stderr",
          "output_type": "stream",
          "text": [
            "2025-09-15 01:24:44 - noveum_trace.transport.http_transport - INFO - 📤 EXPORTING TRACE: auto_trace_generate (ID: 06bebe40-4b13-4cd7-a06a-c0a5ad426d5b) - 1 spans\n",
            "2025-09-15 01:24:44 - noveum_trace.transport.batch_processor - INFO - 📥 ADDING TRACE TO QUEUE: auto_trace_generate (ID: 06bebe40-4b13-4cd7-a06a-c0a5ad426d5b) - 1 spans\n",
            "2025-09-15 01:24:44 - noveum_trace.transport.batch_processor - INFO - ✅ Successfully queued trace 06bebe40-4b13-4cd7-a06a-c0a5ad426d5b\n",
            "2025-09-15 01:24:44 - noveum_trace.transport.http_transport - INFO - ✅ Trace 06bebe40-4b13-4cd7-a06a-c0a5ad426d5b successfully queued for export\n"
          ]
        },
        {
          "name": "stdout",
          "output_type": "stream",
          "text": [
            "2025-09-15 01:24:44 - INFO - novaeval.evaluators.agent_evaluator - Saving intermediate results after 31 samples\n",
            "2025-09-15 01:24:44 - INFO - novaeval.evaluators.agent_evaluator - Intermediate results saved to demo_results/sample_evaluation/agent_evaluation_results.csv\n"
          ]
        },
        {
          "name": "stderr",
          "output_type": "stream",
          "text": [
            "Evaluating samples: 31it [01:25,  2.07s/it]"
          ]
        },
        {
          "name": "stdout",
          "output_type": "stream",
          "text": [
            "2025-09-15 01:24:44 - INFO - google_genai.models - AFC is enabled with max remote calls: 10.\n",
            "2025-09-15 01:24:44 - ERROR - novaeval.models.base - Error: 429 RESOURCE_EXHAUSTED. {'error': {'code': 429, 'message': 'You exceeded your current quota, please check your plan and billing details. For more information on this error, head to: https://ai.google.dev/gemini-api/docs/rate-limits.', 'status': 'RESOURCE_EXHAUSTED', 'details': [{'@type': 'type.googleapis.com/google.rpc.QuotaFailure', 'violations': [{'quotaMetric': 'generativelanguage.googleapis.com/generate_content_free_tier_requests', 'quotaId': 'GenerateRequestsPerDayPerProjectPerModel-FreeTier', 'quotaDimensions': {'location': 'global', 'model': 'gemini-1.5-flash'}, 'quotaValue': '50'}]}, {'@type': 'type.googleapis.com/google.rpc.Help', 'links': [{'description': 'Learn more about Gemini API quotas', 'url': 'https://ai.google.dev/gemini-api/docs/rate-limits'}]}, {'@type': 'type.googleapis.com/google.rpc.RetryInfo', 'retryDelay': '15s'}]}}\n"
          ]
        },
        {
          "name": "stderr",
          "output_type": "stream",
          "text": [
            "2025-09-15 01:24:44 - noveum_trace.transport.http_transport - INFO - 📤 EXPORTING TRACE: auto_trace_generate (ID: 16126cb8-0f40-4661-8ab8-7f7d7a0222d3) - 1 spans\n",
            "2025-09-15 01:24:44 - noveum_trace.transport.batch_processor - INFO - 📥 ADDING TRACE TO QUEUE: auto_trace_generate (ID: 16126cb8-0f40-4661-8ab8-7f7d7a0222d3) - 1 spans\n",
            "2025-09-15 01:24:44 - noveum_trace.transport.batch_processor - INFO - ✅ Successfully queued trace 16126cb8-0f40-4661-8ab8-7f7d7a0222d3\n",
            "2025-09-15 01:24:44 - noveum_trace.transport.http_transport - INFO - ✅ Trace 16126cb8-0f40-4661-8ab8-7f7d7a0222d3 successfully queued for export\n"
          ]
        },
        {
          "name": "stdout",
          "output_type": "stream",
          "text": [
            "2025-09-15 01:24:44 - INFO - google_genai.models - AFC is enabled with max remote calls: 10.\n",
            "2025-09-15 01:24:45 - ERROR - novaeval.models.base - Error: 429 RESOURCE_EXHAUSTED. {'error': {'code': 429, 'message': 'You exceeded your current quota, please check your plan and billing details. For more information on this error, head to: https://ai.google.dev/gemini-api/docs/rate-limits.', 'status': 'RESOURCE_EXHAUSTED', 'details': [{'@type': 'type.googleapis.com/google.rpc.QuotaFailure', 'violations': [{'quotaMetric': 'generativelanguage.googleapis.com/generate_content_free_tier_requests', 'quotaId': 'GenerateRequestsPerDayPerProjectPerModel-FreeTier', 'quotaDimensions': {'model': 'gemini-1.5-flash', 'location': 'global'}, 'quotaValue': '50'}]}, {'@type': 'type.googleapis.com/google.rpc.Help', 'links': [{'description': 'Learn more about Gemini API quotas', 'url': 'https://ai.google.dev/gemini-api/docs/rate-limits'}]}, {'@type': 'type.googleapis.com/google.rpc.RetryInfo', 'retryDelay': '14s'}]}}\n"
          ]
        },
        {
          "name": "stderr",
          "output_type": "stream",
          "text": [
            "2025-09-15 01:24:45 - noveum_trace.transport.http_transport - INFO - 📤 EXPORTING TRACE: auto_trace_generate (ID: 24943eca-f5b3-41c5-a543-b4175554fdc4) - 1 spans\n",
            "2025-09-15 01:24:45 - noveum_trace.transport.batch_processor - INFO - 📥 ADDING TRACE TO QUEUE: auto_trace_generate (ID: 24943eca-f5b3-41c5-a543-b4175554fdc4) - 1 spans\n",
            "2025-09-15 01:24:45 - noveum_trace.transport.batch_processor - INFO - ✅ Successfully queued trace 24943eca-f5b3-41c5-a543-b4175554fdc4\n",
            "2025-09-15 01:24:45 - noveum_trace.transport.http_transport - INFO - ✅ Trace 24943eca-f5b3-41c5-a543-b4175554fdc4 successfully queued for export\n"
          ]
        },
        {
          "name": "stdout",
          "output_type": "stream",
          "text": [
            "2025-09-15 01:24:45 - INFO - google_genai.models - AFC is enabled with max remote calls: 10.\n",
            "2025-09-15 01:24:45 - ERROR - novaeval.models.base - Error: 429 RESOURCE_EXHAUSTED. {'error': {'code': 429, 'message': 'You exceeded your current quota, please check your plan and billing details. For more information on this error, head to: https://ai.google.dev/gemini-api/docs/rate-limits.', 'status': 'RESOURCE_EXHAUSTED', 'details': [{'@type': 'type.googleapis.com/google.rpc.QuotaFailure', 'violations': [{'quotaMetric': 'generativelanguage.googleapis.com/generate_content_free_tier_requests', 'quotaId': 'GenerateRequestsPerDayPerProjectPerModel-FreeTier', 'quotaDimensions': {'model': 'gemini-1.5-flash', 'location': 'global'}, 'quotaValue': '50'}]}, {'@type': 'type.googleapis.com/google.rpc.Help', 'links': [{'description': 'Learn more about Gemini API quotas', 'url': 'https://ai.google.dev/gemini-api/docs/rate-limits'}]}, {'@type': 'type.googleapis.com/google.rpc.RetryInfo', 'retryDelay': '14s'}]}}\n"
          ]
        },
        {
          "name": "stderr",
          "output_type": "stream",
          "text": [
            "2025-09-15 01:24:45 - noveum_trace.transport.http_transport - INFO - 📤 EXPORTING TRACE: auto_trace_generate (ID: 8f9f7c60-18bd-44f1-8973-e0766d342309) - 1 spans\n",
            "2025-09-15 01:24:45 - noveum_trace.transport.batch_processor - INFO - 📥 ADDING TRACE TO QUEUE: auto_trace_generate (ID: 8f9f7c60-18bd-44f1-8973-e0766d342309) - 1 spans\n",
            "2025-09-15 01:24:45 - noveum_trace.transport.batch_processor - INFO - ✅ Successfully queued trace 8f9f7c60-18bd-44f1-8973-e0766d342309\n",
            "2025-09-15 01:24:45 - noveum_trace.transport.http_transport - INFO - ✅ Trace 8f9f7c60-18bd-44f1-8973-e0766d342309 successfully queued for export\n"
          ]
        },
        {
          "name": "stdout",
          "output_type": "stream",
          "text": [
            "2025-09-15 01:24:45 - INFO - novaeval.evaluators.agent_evaluator - Saving intermediate results after 32 samples\n",
            "2025-09-15 01:24:45 - INFO - novaeval.evaluators.agent_evaluator - Intermediate results saved to demo_results/sample_evaluation/agent_evaluation_results.csv\n"
          ]
        },
        {
          "name": "stderr",
          "output_type": "stream",
          "text": [
            "Evaluating samples: 32it [01:27,  1.79s/it]"
          ]
        },
        {
          "name": "stdout",
          "output_type": "stream",
          "text": [
            "2025-09-15 01:24:45 - INFO - google_genai.models - AFC is enabled with max remote calls: 10.\n",
            "2025-09-15 01:24:46 - ERROR - novaeval.models.base - Error: 429 RESOURCE_EXHAUSTED. {'error': {'code': 429, 'message': 'You exceeded your current quota, please check your plan and billing details. For more information on this error, head to: https://ai.google.dev/gemini-api/docs/rate-limits.', 'status': 'RESOURCE_EXHAUSTED', 'details': [{'@type': 'type.googleapis.com/google.rpc.QuotaFailure', 'violations': [{'quotaMetric': 'generativelanguage.googleapis.com/generate_content_free_tier_requests', 'quotaId': 'GenerateRequestsPerDayPerProjectPerModel-FreeTier', 'quotaDimensions': {'location': 'global', 'model': 'gemini-1.5-flash'}, 'quotaValue': '50'}]}, {'@type': 'type.googleapis.com/google.rpc.Help', 'links': [{'description': 'Learn more about Gemini API quotas', 'url': 'https://ai.google.dev/gemini-api/docs/rate-limits'}]}, {'@type': 'type.googleapis.com/google.rpc.RetryInfo', 'retryDelay': '14s'}]}}\n"
          ]
        },
        {
          "name": "stderr",
          "output_type": "stream",
          "text": [
            "2025-09-15 01:24:46 - noveum_trace.transport.http_transport - INFO - 📤 EXPORTING TRACE: auto_trace_generate (ID: cb2d2047-c08c-4cee-9a11-2e71f1a2db37) - 1 spans\n",
            "2025-09-15 01:24:46 - noveum_trace.transport.batch_processor - INFO - 📥 ADDING TRACE TO QUEUE: auto_trace_generate (ID: cb2d2047-c08c-4cee-9a11-2e71f1a2db37) - 1 spans\n",
            "2025-09-15 01:24:46 - noveum_trace.transport.batch_processor - INFO - ✅ Successfully queued trace cb2d2047-c08c-4cee-9a11-2e71f1a2db37\n",
            "2025-09-15 01:24:46 - noveum_trace.transport.http_transport - INFO - ✅ Trace cb2d2047-c08c-4cee-9a11-2e71f1a2db37 successfully queued for export\n"
          ]
        },
        {
          "name": "stdout",
          "output_type": "stream",
          "text": [
            "2025-09-15 01:24:46 - INFO - google_genai.models - AFC is enabled with max remote calls: 10.\n",
            "2025-09-15 01:24:46 - ERROR - novaeval.models.base - Error: 429 RESOURCE_EXHAUSTED. {'error': {'code': 429, 'message': 'You exceeded your current quota, please check your plan and billing details. For more information on this error, head to: https://ai.google.dev/gemini-api/docs/rate-limits.', 'status': 'RESOURCE_EXHAUSTED', 'details': [{'@type': 'type.googleapis.com/google.rpc.QuotaFailure', 'violations': [{'quotaMetric': 'generativelanguage.googleapis.com/generate_content_free_tier_requests', 'quotaId': 'GenerateRequestsPerDayPerProjectPerModel-FreeTier', 'quotaDimensions': {'location': 'global', 'model': 'gemini-1.5-flash'}, 'quotaValue': '50'}]}, {'@type': 'type.googleapis.com/google.rpc.Help', 'links': [{'description': 'Learn more about Gemini API quotas', 'url': 'https://ai.google.dev/gemini-api/docs/rate-limits'}]}, {'@type': 'type.googleapis.com/google.rpc.RetryInfo', 'retryDelay': '13s'}]}}\n"
          ]
        },
        {
          "name": "stderr",
          "output_type": "stream",
          "text": [
            "2025-09-15 01:24:46 - noveum_trace.transport.http_transport - INFO - 📤 EXPORTING TRACE: auto_trace_generate (ID: 3793f8ef-be1b-4932-8517-17ba5cc6789e) - 1 spans\n",
            "2025-09-15 01:24:46 - noveum_trace.transport.batch_processor - INFO - 📥 ADDING TRACE TO QUEUE: auto_trace_generate (ID: 3793f8ef-be1b-4932-8517-17ba5cc6789e) - 1 spans\n",
            "2025-09-15 01:24:46 - noveum_trace.transport.batch_processor - INFO - ✅ Successfully queued trace 3793f8ef-be1b-4932-8517-17ba5cc6789e\n",
            "2025-09-15 01:24:46 - noveum_trace.transport.http_transport - INFO - ✅ Trace 3793f8ef-be1b-4932-8517-17ba5cc6789e successfully queued for export\n"
          ]
        },
        {
          "name": "stdout",
          "output_type": "stream",
          "text": [
            "2025-09-15 01:24:46 - INFO - google_genai.models - AFC is enabled with max remote calls: 10.\n",
            "2025-09-15 01:24:46 - ERROR - novaeval.models.base - Error: 429 RESOURCE_EXHAUSTED. {'error': {'code': 429, 'message': 'You exceeded your current quota, please check your plan and billing details. For more information on this error, head to: https://ai.google.dev/gemini-api/docs/rate-limits.', 'status': 'RESOURCE_EXHAUSTED', 'details': [{'@type': 'type.googleapis.com/google.rpc.QuotaFailure', 'violations': [{'quotaMetric': 'generativelanguage.googleapis.com/generate_content_free_tier_requests', 'quotaId': 'GenerateRequestsPerDayPerProjectPerModel-FreeTier', 'quotaDimensions': {'location': 'global', 'model': 'gemini-1.5-flash'}, 'quotaValue': '50'}]}, {'@type': 'type.googleapis.com/google.rpc.Help', 'links': [{'description': 'Learn more about Gemini API quotas', 'url': 'https://ai.google.dev/gemini-api/docs/rate-limits'}]}, {'@type': 'type.googleapis.com/google.rpc.RetryInfo', 'retryDelay': '13s'}]}}\n"
          ]
        },
        {
          "name": "stderr",
          "output_type": "stream",
          "text": [
            "2025-09-15 01:24:46 - noveum_trace.transport.http_transport - INFO - 📤 EXPORTING TRACE: auto_trace_generate (ID: ef89b9b1-ccca-43aa-bdac-34555074f59a) - 1 spans\n",
            "2025-09-15 01:24:46 - noveum_trace.transport.batch_processor - INFO - 📥 ADDING TRACE TO QUEUE: auto_trace_generate (ID: ef89b9b1-ccca-43aa-bdac-34555074f59a) - 1 spans\n",
            "2025-09-15 01:24:46 - noveum_trace.transport.batch_processor - INFO - ✅ Successfully queued trace ef89b9b1-ccca-43aa-bdac-34555074f59a\n",
            "2025-09-15 01:24:46 - noveum_trace.transport.http_transport - INFO - ✅ Trace ef89b9b1-ccca-43aa-bdac-34555074f59a successfully queued for export\n"
          ]
        },
        {
          "name": "stdout",
          "output_type": "stream",
          "text": [
            "2025-09-15 01:24:46 - INFO - google_genai.models - AFC is enabled with max remote calls: 10.\n",
            "2025-09-15 01:24:47 - ERROR - novaeval.models.base - Error: 429 RESOURCE_EXHAUSTED. {'error': {'code': 429, 'message': 'You exceeded your current quota, please check your plan and billing details. For more information on this error, head to: https://ai.google.dev/gemini-api/docs/rate-limits.', 'status': 'RESOURCE_EXHAUSTED', 'details': [{'@type': 'type.googleapis.com/google.rpc.QuotaFailure', 'violations': [{'quotaMetric': 'generativelanguage.googleapis.com/generate_content_free_tier_requests', 'quotaId': 'GenerateRequestsPerDayPerProjectPerModel-FreeTier', 'quotaDimensions': {'location': 'global', 'model': 'gemini-1.5-flash'}, 'quotaValue': '50'}]}, {'@type': 'type.googleapis.com/google.rpc.Help', 'links': [{'description': 'Learn more about Gemini API quotas', 'url': 'https://ai.google.dev/gemini-api/docs/rate-limits'}]}, {'@type': 'type.googleapis.com/google.rpc.RetryInfo', 'retryDelay': '12s'}]}}\n"
          ]
        },
        {
          "name": "stderr",
          "output_type": "stream",
          "text": [
            "2025-09-15 01:24:47 - noveum_trace.transport.http_transport - INFO - 📤 EXPORTING TRACE: auto_trace_generate (ID: a66954ee-28c1-41c8-b717-76de972f3258) - 1 spans\n",
            "2025-09-15 01:24:47 - noveum_trace.transport.batch_processor - INFO - 📥 ADDING TRACE TO QUEUE: auto_trace_generate (ID: a66954ee-28c1-41c8-b717-76de972f3258) - 1 spans\n",
            "2025-09-15 01:24:47 - noveum_trace.transport.batch_processor - INFO - ✅ Successfully queued trace a66954ee-28c1-41c8-b717-76de972f3258\n",
            "2025-09-15 01:24:47 - noveum_trace.transport.http_transport - INFO - ✅ Trace a66954ee-28c1-41c8-b717-76de972f3258 successfully queued for export\n"
          ]
        },
        {
          "name": "stdout",
          "output_type": "stream",
          "text": [
            "2025-09-15 01:24:47 - INFO - google_genai.models - AFC is enabled with max remote calls: 10.\n",
            "2025-09-15 01:24:47 - ERROR - novaeval.models.base - Error: 429 RESOURCE_EXHAUSTED. {'error': {'code': 429, 'message': 'You exceeded your current quota, please check your plan and billing details. For more information on this error, head to: https://ai.google.dev/gemini-api/docs/rate-limits.', 'status': 'RESOURCE_EXHAUSTED', 'details': [{'@type': 'type.googleapis.com/google.rpc.QuotaFailure', 'violations': [{'quotaMetric': 'generativelanguage.googleapis.com/generate_content_free_tier_requests', 'quotaId': 'GenerateRequestsPerDayPerProjectPerModel-FreeTier', 'quotaDimensions': {'location': 'global', 'model': 'gemini-1.5-flash'}, 'quotaValue': '50'}]}, {'@type': 'type.googleapis.com/google.rpc.Help', 'links': [{'description': 'Learn more about Gemini API quotas', 'url': 'https://ai.google.dev/gemini-api/docs/rate-limits'}]}, {'@type': 'type.googleapis.com/google.rpc.RetryInfo', 'retryDelay': '12s'}]}}\n"
          ]
        },
        {
          "name": "stderr",
          "output_type": "stream",
          "text": [
            "2025-09-15 01:24:47 - noveum_trace.transport.http_transport - INFO - 📤 EXPORTING TRACE: auto_trace_generate (ID: 4e053d71-ce89-428c-ade8-5944708307be) - 1 spans\n",
            "2025-09-15 01:24:47 - noveum_trace.transport.batch_processor - INFO - 📥 ADDING TRACE TO QUEUE: auto_trace_generate (ID: 4e053d71-ce89-428c-ade8-5944708307be) - 1 spans\n",
            "2025-09-15 01:24:47 - noveum_trace.transport.batch_processor - INFO - ✅ Successfully queued trace 4e053d71-ce89-428c-ade8-5944708307be\n",
            "2025-09-15 01:24:47 - noveum_trace.transport.http_transport - INFO - ✅ Trace 4e053d71-ce89-428c-ade8-5944708307be successfully queued for export\n"
          ]
        },
        {
          "name": "stdout",
          "output_type": "stream",
          "text": [
            "2025-09-15 01:24:47 - INFO - novaeval.evaluators.agent_evaluator - Saving intermediate results after 33 samples\n",
            "2025-09-15 01:24:47 - INFO - novaeval.evaluators.agent_evaluator - Intermediate results saved to demo_results/sample_evaluation/agent_evaluation_results.csv\n"
          ]
        },
        {
          "name": "stderr",
          "output_type": "stream",
          "text": [
            "Evaluating samples: 33it [01:28,  1.80s/it]"
          ]
        },
        {
          "name": "stdout",
          "output_type": "stream",
          "text": [
            "2025-09-15 01:24:47 - INFO - google_genai.models - AFC is enabled with max remote calls: 10.\n",
            "2025-09-15 01:24:47 - ERROR - novaeval.models.base - Error: 429 RESOURCE_EXHAUSTED. {'error': {'code': 429, 'message': 'You exceeded your current quota, please check your plan and billing details. For more information on this error, head to: https://ai.google.dev/gemini-api/docs/rate-limits.', 'status': 'RESOURCE_EXHAUSTED', 'details': [{'@type': 'type.googleapis.com/google.rpc.QuotaFailure', 'violations': [{'quotaMetric': 'generativelanguage.googleapis.com/generate_content_free_tier_requests', 'quotaId': 'GenerateRequestsPerDayPerProjectPerModel-FreeTier', 'quotaDimensions': {'location': 'global', 'model': 'gemini-1.5-flash'}, 'quotaValue': '50'}]}, {'@type': 'type.googleapis.com/google.rpc.Help', 'links': [{'description': 'Learn more about Gemini API quotas', 'url': 'https://ai.google.dev/gemini-api/docs/rate-limits'}]}, {'@type': 'type.googleapis.com/google.rpc.RetryInfo', 'retryDelay': '12s'}]}}\n"
          ]
        },
        {
          "name": "stderr",
          "output_type": "stream",
          "text": [
            "2025-09-15 01:24:47 - noveum_trace.transport.http_transport - INFO - 📤 EXPORTING TRACE: auto_trace_generate (ID: c06c1e14-c1e1-4d89-b101-93a21afc5800) - 1 spans\n",
            "2025-09-15 01:24:47 - noveum_trace.transport.batch_processor - INFO - 📥 ADDING TRACE TO QUEUE: auto_trace_generate (ID: c06c1e14-c1e1-4d89-b101-93a21afc5800) - 1 spans\n",
            "2025-09-15 01:24:47 - noveum_trace.transport.batch_processor - INFO - ✅ Successfully queued trace c06c1e14-c1e1-4d89-b101-93a21afc5800\n",
            "2025-09-15 01:24:47 - noveum_trace.transport.http_transport - INFO - ✅ Trace c06c1e14-c1e1-4d89-b101-93a21afc5800 successfully queued for export\n"
          ]
        },
        {
          "name": "stdout",
          "output_type": "stream",
          "text": [
            "2025-09-15 01:24:47 - INFO - google_genai.models - AFC is enabled with max remote calls: 10.\n",
            "2025-09-15 01:24:48 - ERROR - novaeval.models.base - Error: 429 RESOURCE_EXHAUSTED. {'error': {'code': 429, 'message': 'You exceeded your current quota, please check your plan and billing details. For more information on this error, head to: https://ai.google.dev/gemini-api/docs/rate-limits.', 'status': 'RESOURCE_EXHAUSTED', 'details': [{'@type': 'type.googleapis.com/google.rpc.QuotaFailure', 'violations': [{'quotaMetric': 'generativelanguage.googleapis.com/generate_content_free_tier_requests', 'quotaId': 'GenerateRequestsPerDayPerProjectPerModel-FreeTier', 'quotaDimensions': {'location': 'global', 'model': 'gemini-1.5-flash'}, 'quotaValue': '50'}]}, {'@type': 'type.googleapis.com/google.rpc.Help', 'links': [{'description': 'Learn more about Gemini API quotas', 'url': 'https://ai.google.dev/gemini-api/docs/rate-limits'}]}, {'@type': 'type.googleapis.com/google.rpc.RetryInfo', 'retryDelay': '11s'}]}}\n"
          ]
        },
        {
          "name": "stderr",
          "output_type": "stream",
          "text": [
            "2025-09-15 01:24:48 - noveum_trace.transport.http_transport - INFO - 📤 EXPORTING TRACE: auto_trace_generate (ID: c946f5b6-da44-4d43-bec5-6af17fe2b0fc) - 1 spans\n",
            "2025-09-15 01:24:48 - noveum_trace.transport.batch_processor - INFO - 📥 ADDING TRACE TO QUEUE: auto_trace_generate (ID: c946f5b6-da44-4d43-bec5-6af17fe2b0fc) - 1 spans\n",
            "2025-09-15 01:24:48 - noveum_trace.transport.batch_processor - INFO - ✅ Successfully queued trace c946f5b6-da44-4d43-bec5-6af17fe2b0fc\n",
            "2025-09-15 01:24:48 - noveum_trace.transport.http_transport - INFO - ✅ Trace c946f5b6-da44-4d43-bec5-6af17fe2b0fc successfully queued for export\n"
          ]
        },
        {
          "name": "stdout",
          "output_type": "stream",
          "text": [
            "2025-09-15 01:24:48 - INFO - google_genai.models - AFC is enabled with max remote calls: 10.\n",
            "2025-09-15 01:24:48 - ERROR - novaeval.models.base - Error: 429 RESOURCE_EXHAUSTED. {'error': {'code': 429, 'message': 'You exceeded your current quota, please check your plan and billing details. For more information on this error, head to: https://ai.google.dev/gemini-api/docs/rate-limits.', 'status': 'RESOURCE_EXHAUSTED', 'details': [{'@type': 'type.googleapis.com/google.rpc.QuotaFailure', 'violations': [{'quotaMetric': 'generativelanguage.googleapis.com/generate_content_free_tier_requests', 'quotaId': 'GenerateRequestsPerDayPerProjectPerModel-FreeTier', 'quotaDimensions': {'location': 'global', 'model': 'gemini-1.5-flash'}, 'quotaValue': '50'}]}, {'@type': 'type.googleapis.com/google.rpc.Help', 'links': [{'description': 'Learn more about Gemini API quotas', 'url': 'https://ai.google.dev/gemini-api/docs/rate-limits'}]}, {'@type': 'type.googleapis.com/google.rpc.RetryInfo', 'retryDelay': '11s'}]}}\n"
          ]
        },
        {
          "name": "stderr",
          "output_type": "stream",
          "text": [
            "2025-09-15 01:24:48 - noveum_trace.transport.http_transport - INFO - 📤 EXPORTING TRACE: auto_trace_generate (ID: eb208021-2da0-46cb-ac07-21ff9fa500da) - 1 spans\n",
            "2025-09-15 01:24:48 - noveum_trace.transport.batch_processor - INFO - 📥 ADDING TRACE TO QUEUE: auto_trace_generate (ID: eb208021-2da0-46cb-ac07-21ff9fa500da) - 1 spans\n",
            "2025-09-15 01:24:48 - noveum_trace.transport.batch_processor - INFO - ✅ Successfully queued trace eb208021-2da0-46cb-ac07-21ff9fa500da\n",
            "2025-09-15 01:24:48 - noveum_trace.transport.http_transport - INFO - ✅ Trace eb208021-2da0-46cb-ac07-21ff9fa500da successfully queued for export\n"
          ]
        },
        {
          "name": "stdout",
          "output_type": "stream",
          "text": [
            "2025-09-15 01:24:48 - INFO - novaeval.evaluators.agent_evaluator - Saving intermediate results after 34 samples\n",
            "2025-09-15 01:24:48 - INFO - novaeval.evaluators.agent_evaluator - Intermediate results saved to demo_results/sample_evaluation/agent_evaluation_results.csv\n"
          ]
        },
        {
          "name": "stderr",
          "output_type": "stream",
          "text": [
            "Evaluating samples: 34it [01:29,  1.60s/it]"
          ]
        },
        {
          "name": "stdout",
          "output_type": "stream",
          "text": [
            "2025-09-15 01:24:48 - INFO - google_genai.models - AFC is enabled with max remote calls: 10.\n",
            "2025-09-15 01:24:49 - ERROR - novaeval.models.base - Error: 429 RESOURCE_EXHAUSTED. {'error': {'code': 429, 'message': 'You exceeded your current quota, please check your plan and billing details. For more information on this error, head to: https://ai.google.dev/gemini-api/docs/rate-limits.', 'status': 'RESOURCE_EXHAUSTED', 'details': [{'@type': 'type.googleapis.com/google.rpc.QuotaFailure', 'violations': [{'quotaMetric': 'generativelanguage.googleapis.com/generate_content_free_tier_requests', 'quotaId': 'GenerateRequestsPerDayPerProjectPerModel-FreeTier', 'quotaDimensions': {'model': 'gemini-1.5-flash', 'location': 'global'}, 'quotaValue': '50'}]}, {'@type': 'type.googleapis.com/google.rpc.Help', 'links': [{'description': 'Learn more about Gemini API quotas', 'url': 'https://ai.google.dev/gemini-api/docs/rate-limits'}]}, {'@type': 'type.googleapis.com/google.rpc.RetryInfo', 'retryDelay': '11s'}]}}\n"
          ]
        },
        {
          "name": "stderr",
          "output_type": "stream",
          "text": [
            "2025-09-15 01:24:49 - noveum_trace.transport.http_transport - INFO - 📤 EXPORTING TRACE: auto_trace_generate (ID: 48128af2-c7be-4113-83f0-deeb730c6aff) - 1 spans\n",
            "2025-09-15 01:24:49 - noveum_trace.transport.batch_processor - INFO - 📥 ADDING TRACE TO QUEUE: auto_trace_generate (ID: 48128af2-c7be-4113-83f0-deeb730c6aff) - 1 spans\n",
            "2025-09-15 01:24:49 - noveum_trace.transport.batch_processor - INFO - ✅ Successfully queued trace 48128af2-c7be-4113-83f0-deeb730c6aff\n",
            "2025-09-15 01:24:49 - noveum_trace.transport.http_transport - INFO - ✅ Trace 48128af2-c7be-4113-83f0-deeb730c6aff successfully queued for export\n"
          ]
        },
        {
          "name": "stdout",
          "output_type": "stream",
          "text": [
            "2025-09-15 01:24:49 - INFO - google_genai.models - AFC is enabled with max remote calls: 10.\n",
            "2025-09-15 01:24:49 - ERROR - novaeval.models.base - Error: 429 RESOURCE_EXHAUSTED. {'error': {'code': 429, 'message': 'You exceeded your current quota, please check your plan and billing details. For more information on this error, head to: https://ai.google.dev/gemini-api/docs/rate-limits.', 'status': 'RESOURCE_EXHAUSTED', 'details': [{'@type': 'type.googleapis.com/google.rpc.QuotaFailure', 'violations': [{'quotaMetric': 'generativelanguage.googleapis.com/generate_content_free_tier_requests', 'quotaId': 'GenerateRequestsPerDayPerProjectPerModel-FreeTier', 'quotaDimensions': {'location': 'global', 'model': 'gemini-1.5-flash'}, 'quotaValue': '50'}]}, {'@type': 'type.googleapis.com/google.rpc.Help', 'links': [{'description': 'Learn more about Gemini API quotas', 'url': 'https://ai.google.dev/gemini-api/docs/rate-limits'}]}, {'@type': 'type.googleapis.com/google.rpc.RetryInfo', 'retryDelay': '10s'}]}}\n"
          ]
        },
        {
          "name": "stderr",
          "output_type": "stream",
          "text": [
            "2025-09-15 01:24:49 - noveum_trace.transport.http_transport - INFO - 📤 EXPORTING TRACE: auto_trace_generate (ID: ceb87298-ecb9-4767-af0d-e7835e3cef1e) - 1 spans\n",
            "2025-09-15 01:24:49 - noveum_trace.transport.batch_processor - INFO - 📥 ADDING TRACE TO QUEUE: auto_trace_generate (ID: ceb87298-ecb9-4767-af0d-e7835e3cef1e) - 1 spans\n",
            "2025-09-15 01:24:49 - noveum_trace.transport.batch_processor - INFO - ✅ Successfully queued trace ceb87298-ecb9-4767-af0d-e7835e3cef1e\n",
            "2025-09-15 01:24:49 - noveum_trace.transport.http_transport - INFO - ✅ Trace ceb87298-ecb9-4767-af0d-e7835e3cef1e successfully queued for export\n"
          ]
        },
        {
          "name": "stdout",
          "output_type": "stream",
          "text": [
            "2025-09-15 01:24:49 - INFO - google_genai.models - AFC is enabled with max remote calls: 10.\n",
            "2025-09-15 01:24:50 - ERROR - novaeval.models.base - Error: 429 RESOURCE_EXHAUSTED. {'error': {'code': 429, 'message': 'You exceeded your current quota, please check your plan and billing details. For more information on this error, head to: https://ai.google.dev/gemini-api/docs/rate-limits.', 'status': 'RESOURCE_EXHAUSTED', 'details': [{'@type': 'type.googleapis.com/google.rpc.QuotaFailure', 'violations': [{'quotaMetric': 'generativelanguage.googleapis.com/generate_content_free_tier_requests', 'quotaId': 'GenerateRequestsPerDayPerProjectPerModel-FreeTier', 'quotaDimensions': {'location': 'global', 'model': 'gemini-1.5-flash'}, 'quotaValue': '50'}]}, {'@type': 'type.googleapis.com/google.rpc.Help', 'links': [{'description': 'Learn more about Gemini API quotas', 'url': 'https://ai.google.dev/gemini-api/docs/rate-limits'}]}, {'@type': 'type.googleapis.com/google.rpc.RetryInfo', 'retryDelay': '10s'}]}}\n"
          ]
        },
        {
          "name": "stderr",
          "output_type": "stream",
          "text": [
            "2025-09-15 01:24:50 - noveum_trace.transport.http_transport - INFO - 📤 EXPORTING TRACE: auto_trace_generate (ID: 1cd293eb-8b4b-43b4-a47f-99e5ca22c1a7) - 1 spans\n",
            "2025-09-15 01:24:50 - noveum_trace.transport.batch_processor - INFO - 📥 ADDING TRACE TO QUEUE: auto_trace_generate (ID: 1cd293eb-8b4b-43b4-a47f-99e5ca22c1a7) - 1 spans\n",
            "2025-09-15 01:24:50 - noveum_trace.transport.batch_processor - INFO - ✅ Successfully queued trace 1cd293eb-8b4b-43b4-a47f-99e5ca22c1a7\n",
            "2025-09-15 01:24:50 - noveum_trace.transport.http_transport - INFO - ✅ Trace 1cd293eb-8b4b-43b4-a47f-99e5ca22c1a7 successfully queued for export\n"
          ]
        },
        {
          "name": "stdout",
          "output_type": "stream",
          "text": [
            "2025-09-15 01:24:50 - INFO - novaeval.evaluators.agent_evaluator - Saving intermediate results after 35 samples\n",
            "2025-09-15 01:24:50 - INFO - novaeval.evaluators.agent_evaluator - Intermediate results saved to demo_results/sample_evaluation/agent_evaluation_results.csv\n"
          ]
        },
        {
          "name": "stderr",
          "output_type": "stream",
          "text": [
            "Evaluating samples: 35it [01:31,  1.54s/it]"
          ]
        },
        {
          "name": "stdout",
          "output_type": "stream",
          "text": [
            "2025-09-15 01:24:50 - INFO - google_genai.models - AFC is enabled with max remote calls: 10.\n",
            "2025-09-15 01:24:50 - ERROR - novaeval.models.base - Error: 429 RESOURCE_EXHAUSTED. {'error': {'code': 429, 'message': 'You exceeded your current quota, please check your plan and billing details. For more information on this error, head to: https://ai.google.dev/gemini-api/docs/rate-limits.', 'status': 'RESOURCE_EXHAUSTED', 'details': [{'@type': 'type.googleapis.com/google.rpc.QuotaFailure', 'violations': [{'quotaMetric': 'generativelanguage.googleapis.com/generate_content_free_tier_requests', 'quotaId': 'GenerateRequestsPerDayPerProjectPerModel-FreeTier', 'quotaDimensions': {'location': 'global', 'model': 'gemini-1.5-flash'}, 'quotaValue': '50'}]}, {'@type': 'type.googleapis.com/google.rpc.Help', 'links': [{'description': 'Learn more about Gemini API quotas', 'url': 'https://ai.google.dev/gemini-api/docs/rate-limits'}]}, {'@type': 'type.googleapis.com/google.rpc.RetryInfo', 'retryDelay': '9s'}]}}\n"
          ]
        },
        {
          "name": "stderr",
          "output_type": "stream",
          "text": [
            "2025-09-15 01:24:50 - noveum_trace.transport.http_transport - INFO - 📤 EXPORTING TRACE: auto_trace_generate (ID: afdd88e8-c805-4413-a20a-328da120aaa5) - 1 spans\n",
            "2025-09-15 01:24:50 - noveum_trace.transport.batch_processor - INFO - 📥 ADDING TRACE TO QUEUE: auto_trace_generate (ID: afdd88e8-c805-4413-a20a-328da120aaa5) - 1 spans\n",
            "2025-09-15 01:24:50 - noveum_trace.transport.batch_processor - INFO - ✅ Successfully queued trace afdd88e8-c805-4413-a20a-328da120aaa5\n",
            "2025-09-15 01:24:50 - noveum_trace.transport.http_transport - INFO - ✅ Trace afdd88e8-c805-4413-a20a-328da120aaa5 successfully queued for export\n"
          ]
        },
        {
          "name": "stdout",
          "output_type": "stream",
          "text": [
            "2025-09-15 01:24:50 - INFO - google_genai.models - AFC is enabled with max remote calls: 10.\n",
            "2025-09-15 01:24:50 - ERROR - novaeval.models.base - Error: 429 RESOURCE_EXHAUSTED. {'error': {'code': 429, 'message': 'You exceeded your current quota, please check your plan and billing details. For more information on this error, head to: https://ai.google.dev/gemini-api/docs/rate-limits.', 'status': 'RESOURCE_EXHAUSTED', 'details': [{'@type': 'type.googleapis.com/google.rpc.QuotaFailure', 'violations': [{'quotaMetric': 'generativelanguage.googleapis.com/generate_content_free_tier_requests', 'quotaId': 'GenerateRequestsPerDayPerProjectPerModel-FreeTier', 'quotaDimensions': {'model': 'gemini-1.5-flash', 'location': 'global'}, 'quotaValue': '50'}]}, {'@type': 'type.googleapis.com/google.rpc.Help', 'links': [{'description': 'Learn more about Gemini API quotas', 'url': 'https://ai.google.dev/gemini-api/docs/rate-limits'}]}, {'@type': 'type.googleapis.com/google.rpc.RetryInfo', 'retryDelay': '9s'}]}}\n"
          ]
        },
        {
          "name": "stderr",
          "output_type": "stream",
          "text": [
            "2025-09-15 01:24:50 - noveum_trace.transport.http_transport - INFO - 📤 EXPORTING TRACE: auto_trace_generate (ID: d0476548-195d-453c-b64c-d679eaad2e2e) - 1 spans\n",
            "2025-09-15 01:24:50 - noveum_trace.transport.batch_processor - INFO - 📥 ADDING TRACE TO QUEUE: auto_trace_generate (ID: d0476548-195d-453c-b64c-d679eaad2e2e) - 1 spans\n",
            "2025-09-15 01:24:50 - noveum_trace.transport.batch_processor - INFO - ✅ Successfully queued trace d0476548-195d-453c-b64c-d679eaad2e2e\n",
            "2025-09-15 01:24:50 - noveum_trace.transport.http_transport - INFO - ✅ Trace d0476548-195d-453c-b64c-d679eaad2e2e successfully queued for export\n"
          ]
        },
        {
          "name": "stdout",
          "output_type": "stream",
          "text": [
            "2025-09-15 01:24:50 - INFO - google_genai.models - AFC is enabled with max remote calls: 10.\n",
            "2025-09-15 01:24:51 - ERROR - novaeval.models.base - Error: 429 RESOURCE_EXHAUSTED. {'error': {'code': 429, 'message': 'You exceeded your current quota, please check your plan and billing details. For more information on this error, head to: https://ai.google.dev/gemini-api/docs/rate-limits.', 'status': 'RESOURCE_EXHAUSTED', 'details': [{'@type': 'type.googleapis.com/google.rpc.QuotaFailure', 'violations': [{'quotaMetric': 'generativelanguage.googleapis.com/generate_content_free_tier_requests', 'quotaId': 'GenerateRequestsPerDayPerProjectPerModel-FreeTier', 'quotaDimensions': {'location': 'global', 'model': 'gemini-1.5-flash'}, 'quotaValue': '50'}]}, {'@type': 'type.googleapis.com/google.rpc.Help', 'links': [{'description': 'Learn more about Gemini API quotas', 'url': 'https://ai.google.dev/gemini-api/docs/rate-limits'}]}, {'@type': 'type.googleapis.com/google.rpc.RetryInfo', 'retryDelay': '9s'}]}}\n"
          ]
        },
        {
          "name": "stderr",
          "output_type": "stream",
          "text": [
            "2025-09-15 01:24:51 - noveum_trace.transport.http_transport - INFO - 📤 EXPORTING TRACE: auto_trace_generate (ID: 1ebb2587-3f6c-40a0-82c7-846bad47bf53) - 1 spans\n",
            "2025-09-15 01:24:51 - noveum_trace.transport.batch_processor - INFO - 📥 ADDING TRACE TO QUEUE: auto_trace_generate (ID: 1ebb2587-3f6c-40a0-82c7-846bad47bf53) - 1 spans\n",
            "2025-09-15 01:24:51 - noveum_trace.transport.batch_processor - INFO - ✅ Successfully queued trace 1ebb2587-3f6c-40a0-82c7-846bad47bf53\n",
            "2025-09-15 01:24:51 - noveum_trace.transport.http_transport - INFO - ✅ Trace 1ebb2587-3f6c-40a0-82c7-846bad47bf53 successfully queued for export\n"
          ]
        },
        {
          "name": "stdout",
          "output_type": "stream",
          "text": [
            "2025-09-15 01:24:51 - INFO - novaeval.evaluators.agent_evaluator - Saving intermediate results after 36 samples\n",
            "2025-09-15 01:24:51 - INFO - novaeval.evaluators.agent_evaluator - Intermediate results saved to demo_results/sample_evaluation/agent_evaluation_results.csv\n"
          ]
        },
        {
          "name": "stderr",
          "output_type": "stream",
          "text": [
            "Evaluating samples: 36it [01:32,  2.57s/it]"
          ]
        },
        {
          "name": "stdout",
          "output_type": "stream",
          "text": [
            "2025-09-15 01:24:51 - INFO - novaeval.evaluators.agent_evaluator - Saving final results\n",
            "2025-09-15 01:24:51 - INFO - novaeval.evaluators.agent_evaluator - Reloaded 36 results from CSV\n",
            "2025-09-15 01:24:51 - INFO - novaeval.evaluators.agent_evaluator - Agent evaluation completed\n",
            "\n",
            "✅ Evaluation completed!\n",
            "\n",
            "📊 Results Summary:\n",
            "  - task_progression: 1.09\n",
            "  - context_relevancy: 1.00\n",
            "  - role_adherence: 1.00\n",
            "  - tool_relevancy: 0.19\n",
            "  - tool_correctness: 0.00\n",
            "  - parameter_correctness: 0.40\n",
            "\n",
            "🔍 Individual Scores:\n",
            "\n",
            "  Record 1 (Task: 27a8252b-43e5-48d1-8707-12c8537feff8):\n",
            "    - task_progression: 2.5\n",
            "    - context_relevancy: 1.0\n",
            "    - role_adherence: 1.0\n",
            "    - tool_relevancy: 1.0\n",
            "    - tool_correctness: 0.0\n",
            "    - parameter_correctness: 8.5\n",
            "\n",
            "  Record 2 (Task: 27a8252b-43e5-48d1-8707-12c8537feff8):\n",
            "    - task_progression: 2.8\n",
            "    - context_relevancy: 1.0\n",
            "    - role_adherence: 1.0\n",
            "    - tool_relevancy: 0.0\n",
            "    - tool_correctness: 0.0\n",
            "    - parameter_correctness: 0.0\n",
            "\n",
            "  Record 3 (Task: 27a8252b-43e5-48d1-8707-12c8537feff8):\n",
            "    - task_progression: 1.0\n",
            "    - context_relevancy: 1.0\n",
            "    - role_adherence: 1.0\n",
            "    - tool_relevancy: 0.0\n",
            "    - tool_correctness: 0.0\n",
            "    - parameter_correctness: 0.0\n",
            "\n",
            "  Record 4 (Task: 27a8252b-43e5-48d1-8707-12c8537feff8):\n",
            "    - task_progression: 1.0\n",
            "    - context_relevancy: 1.0\n",
            "    - role_adherence: 1.0\n",
            "    - tool_relevancy: 0.0\n",
            "    - tool_correctness: 0.0\n",
            "    - parameter_correctness: 0.0\n",
            "\n",
            "  Record 5 (Task: 27a8252b-43e5-48d1-8707-12c8537feff8):\n",
            "    - task_progression: 1.0\n",
            "    - context_relevancy: 1.0\n",
            "    - role_adherence: 1.0\n",
            "    - tool_relevancy: 0.0\n",
            "    - tool_correctness: 0.0\n",
            "    - parameter_correctness: 0.0\n",
            "\n",
            "  Record 6 (Task: 27a8252b-43e5-48d1-8707-12c8537feff8):\n",
            "    - task_progression: 1.0\n",
            "    - context_relevancy: 1.0\n",
            "    - role_adherence: 1.0\n",
            "    - tool_relevancy: 0.0\n",
            "    - tool_correctness: 0.0\n",
            "    - parameter_correctness: 0.0\n",
            "\n",
            "  Record 7 (Task: 27a8252b-43e5-48d1-8707-12c8537feff8):\n",
            "    - task_progression: 1.0\n",
            "    - context_relevancy: 1.0\n",
            "    - role_adherence: 1.0\n",
            "    - tool_relevancy: 0.0\n",
            "    - tool_correctness: 0.0\n",
            "    - parameter_correctness: 0.0\n",
            "\n",
            "  Record 8 (Task: b6370077-daa0-43ae-937e-907a0e0987ac):\n",
            "    - task_progression: 1.0\n",
            "    - context_relevancy: 1.0\n",
            "    - role_adherence: 1.0\n",
            "    - tool_relevancy: 1.0\n",
            "    - tool_correctness: 0.0\n",
            "    - parameter_correctness: 1.0\n",
            "\n",
            "  Record 9 (Task: b6370077-daa0-43ae-937e-907a0e0987ac):\n",
            "    - task_progression: 1.0\n",
            "    - context_relevancy: 1.0\n",
            "    - role_adherence: 1.0\n",
            "    - tool_relevancy: 0.0\n",
            "    - tool_correctness: 0.0\n",
            "    - parameter_correctness: 0.0\n",
            "\n",
            "  Record 10 (Task: b6370077-daa0-43ae-937e-907a0e0987ac):\n",
            "    - task_progression: 1.0\n",
            "    - context_relevancy: 1.0\n",
            "    - role_adherence: 1.0\n",
            "    - tool_relevancy: 0.0\n",
            "    - tool_correctness: 0.0\n",
            "    - parameter_correctness: 0.0\n",
            "\n",
            "  Record 11 (Task: b6370077-daa0-43ae-937e-907a0e0987ac):\n",
            "    - task_progression: 1.0\n",
            "    - context_relevancy: 1.0\n",
            "    - role_adherence: 1.0\n",
            "    - tool_relevancy: 0.0\n",
            "    - tool_correctness: 0.0\n",
            "    - parameter_correctness: 0.0\n",
            "\n",
            "  Record 12 (Task: b6370077-daa0-43ae-937e-907a0e0987ac):\n",
            "    - task_progression: 1.0\n",
            "    - context_relevancy: 1.0\n",
            "    - role_adherence: 1.0\n",
            "    - tool_relevancy: 0.0\n",
            "    - tool_correctness: 0.0\n",
            "    - parameter_correctness: 0.0\n",
            "\n",
            "  Record 13 (Task: 321fc54f-0c24-4689-90d8-52c242434d10):\n",
            "    - task_progression: 1.0\n",
            "    - context_relevancy: 1.0\n",
            "    - role_adherence: 1.0\n",
            "    - tool_relevancy: 1.0\n",
            "    - tool_correctness: 0.0\n",
            "    - parameter_correctness: 1.0\n",
            "\n",
            "  Record 14 (Task: 321fc54f-0c24-4689-90d8-52c242434d10):\n",
            "    - task_progression: 1.0\n",
            "    - context_relevancy: 1.0\n",
            "    - role_adherence: 1.0\n",
            "    - tool_relevancy: 0.0\n",
            "    - tool_correctness: 0.0\n",
            "    - parameter_correctness: 0.0\n",
            "\n",
            "  Record 15 (Task: 321fc54f-0c24-4689-90d8-52c242434d10):\n",
            "    - task_progression: 1.0\n",
            "    - context_relevancy: 1.0\n",
            "    - role_adherence: 1.0\n",
            "    - tool_relevancy: 0.0\n",
            "    - tool_correctness: 0.0\n",
            "    - parameter_correctness: 0.0\n",
            "\n",
            "  Record 16 (Task: 03788293-ad26-4074-9b5b-3a967768cf45):\n",
            "    - task_progression: 1.0\n",
            "    - context_relevancy: 1.0\n",
            "    - role_adherence: 1.0\n",
            "    - tool_relevancy: 1.0\n",
            "    - tool_correctness: 0.0\n",
            "    - parameter_correctness: 1.0\n",
            "\n",
            "  Record 17 (Task: 03788293-ad26-4074-9b5b-3a967768cf45):\n",
            "    - task_progression: 1.0\n",
            "    - context_relevancy: 1.0\n",
            "    - role_adherence: 1.0\n",
            "    - tool_relevancy: 0.0\n",
            "    - tool_correctness: 0.0\n",
            "    - parameter_correctness: 0.0\n",
            "\n",
            "  Record 18 (Task: 03788293-ad26-4074-9b5b-3a967768cf45):\n",
            "    - task_progression: 1.0\n",
            "    - context_relevancy: 1.0\n",
            "    - role_adherence: 1.0\n",
            "    - tool_relevancy: 0.0\n",
            "    - tool_correctness: 0.0\n",
            "    - parameter_correctness: 0.0\n",
            "\n",
            "  Record 19 (Task: 03788293-ad26-4074-9b5b-3a967768cf45):\n",
            "    - task_progression: 1.0\n",
            "    - context_relevancy: 1.0\n",
            "    - role_adherence: 1.0\n",
            "    - tool_relevancy: 0.0\n",
            "    - tool_correctness: 0.0\n",
            "    - parameter_correctness: 0.0\n",
            "\n",
            "  Record 20 (Task: 03788293-ad26-4074-9b5b-3a967768cf45):\n",
            "    - task_progression: 1.0\n",
            "    - context_relevancy: 1.0\n",
            "    - role_adherence: 1.0\n",
            "    - tool_relevancy: 0.0\n",
            "    - tool_correctness: 0.0\n",
            "    - parameter_correctness: 0.0\n",
            "\n",
            "  Record 21 (Task: 03788293-ad26-4074-9b5b-3a967768cf45):\n",
            "    - task_progression: 1.0\n",
            "    - context_relevancy: 1.0\n",
            "    - role_adherence: 1.0\n",
            "    - tool_relevancy: 0.0\n",
            "    - tool_correctness: 0.0\n",
            "    - parameter_correctness: 0.0\n",
            "\n",
            "  Record 22 (Task: 03788293-ad26-4074-9b5b-3a967768cf45):\n",
            "    - task_progression: 1.0\n",
            "    - context_relevancy: 1.0\n",
            "    - role_adherence: 1.0\n",
            "    - tool_relevancy: 0.0\n",
            "    - tool_correctness: 0.0\n",
            "    - parameter_correctness: 0.0\n",
            "\n",
            "  Record 23 (Task: 334b63a5-70e9-4b2d-9403-19873d0965bb):\n",
            "    - task_progression: 1.0\n",
            "    - context_relevancy: 1.0\n",
            "    - role_adherence: 1.0\n",
            "    - tool_relevancy: 1.0\n",
            "    - tool_correctness: 0.0\n",
            "    - parameter_correctness: 1.0\n",
            "\n",
            "  Record 24 (Task: 334b63a5-70e9-4b2d-9403-19873d0965bb):\n",
            "    - task_progression: 1.0\n",
            "    - context_relevancy: 1.0\n",
            "    - role_adherence: 1.0\n",
            "    - tool_relevancy: 0.0\n",
            "    - tool_correctness: 0.0\n",
            "    - parameter_correctness: 0.0\n",
            "\n",
            "  Record 25 (Task: 334b63a5-70e9-4b2d-9403-19873d0965bb):\n",
            "    - task_progression: 1.0\n",
            "    - context_relevancy: 1.0\n",
            "    - role_adherence: 1.0\n",
            "    - tool_relevancy: 0.0\n",
            "    - tool_correctness: 0.0\n",
            "    - parameter_correctness: 0.0\n",
            "\n",
            "  Record 26 (Task: 334b63a5-70e9-4b2d-9403-19873d0965bb):\n",
            "    - task_progression: 1.0\n",
            "    - context_relevancy: 1.0\n",
            "    - role_adherence: 1.0\n",
            "    - tool_relevancy: 0.0\n",
            "    - tool_correctness: 0.0\n",
            "    - parameter_correctness: 0.0\n",
            "\n",
            "  Record 27 (Task: 334b63a5-70e9-4b2d-9403-19873d0965bb):\n",
            "    - task_progression: 1.0\n",
            "    - context_relevancy: 1.0\n",
            "    - role_adherence: 1.0\n",
            "    - tool_relevancy: 0.0\n",
            "    - tool_correctness: 0.0\n",
            "    - parameter_correctness: 0.0\n",
            "\n",
            "  Record 28 (Task: a7120b51-fa82-4691-a2dc-d2229f38f623):\n",
            "    - task_progression: 1.0\n",
            "    - context_relevancy: 1.0\n",
            "    - role_adherence: 1.0\n",
            "    - tool_relevancy: 0.0\n",
            "    - tool_correctness: 0.0\n",
            "    - parameter_correctness: 0.0\n",
            "\n",
            "  Record 29 (Task: a7120b51-fa82-4691-a2dc-d2229f38f623):\n",
            "    - task_progression: 1.0\n",
            "    - context_relevancy: 1.0\n",
            "    - role_adherence: 1.0\n",
            "    - tool_relevancy: 0.0\n",
            "    - tool_correctness: 0.0\n",
            "    - parameter_correctness: 0.0\n",
            "\n",
            "  Record 30 (Task: 0790aaa7-7e27-4edb-a8f8-094cb117052e):\n",
            "    - task_progression: 1.0\n",
            "    - context_relevancy: 1.0\n",
            "    - role_adherence: 1.0\n",
            "    - tool_relevancy: 1.0\n",
            "    - tool_correctness: 0.0\n",
            "    - parameter_correctness: 1.0\n",
            "\n",
            "  Record 31 (Task: 0790aaa7-7e27-4edb-a8f8-094cb117052e):\n",
            "    - task_progression: 1.0\n",
            "    - context_relevancy: 1.0\n",
            "    - role_adherence: 1.0\n",
            "    - tool_relevancy: 0.0\n",
            "    - tool_correctness: 0.0\n",
            "    - parameter_correctness: 0.0\n",
            "\n",
            "  Record 32 (Task: 0790aaa7-7e27-4edb-a8f8-094cb117052e):\n",
            "    - task_progression: 1.0\n",
            "    - context_relevancy: 1.0\n",
            "    - role_adherence: 1.0\n",
            "    - tool_relevancy: 0.0\n",
            "    - tool_correctness: 0.0\n",
            "    - parameter_correctness: 0.0\n",
            "\n",
            "  Record 33 (Task: 807cb37f-1120-4e69-8e36-0484cf012002):\n",
            "    - task_progression: 1.0\n",
            "    - context_relevancy: 1.0\n",
            "    - role_adherence: 1.0\n",
            "    - tool_relevancy: 1.0\n",
            "    - tool_correctness: 0.0\n",
            "    - parameter_correctness: 1.0\n",
            "\n",
            "  Record 34 (Task: 807cb37f-1120-4e69-8e36-0484cf012002):\n",
            "    - task_progression: 1.0\n",
            "    - context_relevancy: 1.0\n",
            "    - role_adherence: 1.0\n",
            "    - tool_relevancy: 0.0\n",
            "    - tool_correctness: 0.0\n",
            "    - parameter_correctness: 0.0\n",
            "\n",
            "  Record 35 (Task: 807cb37f-1120-4e69-8e36-0484cf012002):\n",
            "    - task_progression: 1.0\n",
            "    - context_relevancy: 1.0\n",
            "    - role_adherence: 1.0\n",
            "    - tool_relevancy: 0.0\n",
            "    - tool_correctness: 0.0\n",
            "    - parameter_correctness: 0.0\n",
            "\n",
            "  Record 36 (Task: 807cb37f-1120-4e69-8e36-0484cf012002):\n",
            "    - task_progression: 1.0\n",
            "    - context_relevancy: 1.0\n",
            "    - role_adherence: 1.0\n",
            "    - tool_relevancy: 0.0\n",
            "    - tool_correctness: 0.0\n",
            "    - parameter_correctness: 0.0\n"
          ]
        },
        {
          "name": "stderr",
          "output_type": "stream",
          "text": [
            "\n"
          ]
        }
      ],
      "source": [
        "# Run evaluation using the AgentEvaluator's run_all method\n",
        "print(\"🚀 Running evaluation on sample data...\")\n",
        "\n",
        "if gemini_model and evaluator:\n",
        "    try:\n",
        "        # Create a smaller dataset for demo purposes\n",
        "        sample_data = [data for data in dataset.data if data.agent_response][:]\n",
        "        print(f\"\\n📊 Evaluating {len(sample_data)} sample records...\")\n",
        "        \n",
        "        # Create a temporary dataset with just the sample data\n",
        "        sample_dataset = AgentDataset()\n",
        "        sample_dataset.data = sample_data\n",
        "        \n",
        "        # Create a new evaluator with the sample dataset\n",
        "        sample_evaluator = AgentEvaluator(\n",
        "            agent_dataset=sample_dataset,\n",
        "            models=[gemini_model],\n",
        "            scoring_functions=scoring_functions,\n",
        "            output_dir=\"./demo_results/sample_evaluation\",\n",
        "            stream=False,\n",
        "            include_reasoning=True\n",
        "        )\n",
        "        \n",
        "        # Run the evaluation\n",
        "        sample_evaluator.run_all(save_every=1, file_type=\"csv\")\n",
        "        \n",
        "        print(\"\\n✅ Evaluation completed!\")\n",
        "        \n",
        "        # Read and display results\n",
        "        import pandas as pd\n",
        "        results_file = \"./demo_results/sample_evaluation/agent_evaluation_results.csv\"\n",
        "        \n",
        "        if pd.io.common.file_exists(results_file):\n",
        "            results_df = pd.read_csv(results_file)\n",
        "            print(f\"\\n📊 Results Summary:\")\n",
        "            \n",
        "            # Calculate averages for each scorer\n",
        "            scorer_columns = [col for col in results_df.columns if col not in ['user_id', 'task_id', 'turn_id', 'agent_name'] and not col.endswith('_reasoning')]\n",
        "            \n",
        "            for col in scorer_columns:\n",
        "                if results_df[col].dtype in ['float64', 'int64']:\n",
        "                    avg_score = results_df[col].mean()\n",
        "                    print(f\"  - {col}: {avg_score:.2f}\")\n",
        "            \n",
        "            # Show individual scores\n",
        "            print(f\"\\n🔍 Individual Scores:\")\n",
        "            for i, row in results_df.iterrows():\n",
        "                print(f\"\\n  Record {i+1} (Task: {row.get('task_id', 'N/A')}):\")\n",
        "                for col in scorer_columns:\n",
        "                    if pd.notna(row[col]):\n",
        "                        print(f\"    - {col}: {row[col]}\")\n",
        "        else:\n",
        "            print(\"❌ Results file not found\")\n",
        "        \n",
        "    except Exception as e:\n",
        "        print(f\"❌ Error during evaluation: {e}\")\n",
        "        print(f\"Error type: {type(e).__name__}\")\n",
        "        import traceback\n",
        "        traceback.print_exc()\n",
        "        \n",
        "else:\n",
        "    print(\"⚠️  Skipping evaluation - missing model or evaluator\")\n"
      ]
    },
    {
      "cell_type": "markdown",
      "metadata": {},
      "source": [
        "## Step 7: Analysis and Insights\n"
      ]
    },
    {
      "cell_type": "code",
      "execution_count": 21,
      "metadata": {},
      "outputs": [
        {
          "name": "stdout",
          "output_type": "stream",
          "text": [
            "🔍 Dataset Analysis:\n",
            "\n",
            "=== Agent Behavior Patterns ===\n",
            "\n",
            "📈 Tool Usage:\n",
            "  - user_input: 5 uses\n",
            "  - langchain_retriever: 2 uses\n",
            "\n",
            "📋 Task Types:\n",
            "  - user_input: 29\n",
            "  - other: 4\n",
            "  - exit_command: 3\n",
            "\n",
            "📝 Response Statistics:\n",
            "  - Average response length: 132.6 characters\n",
            "  - Min response length: 3\n",
            "  - Max response length: 239\n"
          ]
        }
      ],
      "source": [
        "# Analyze the dataset characteristics\n",
        "print(\"🔍 Dataset Analysis:\")\n",
        "print(\"\\n=== Agent Behavior Patterns ===\")\n",
        "\n",
        "# Analyze tool usage patterns\n",
        "tool_patterns = {}\n",
        "task_types = {}\n",
        "response_lengths = []\n",
        "\n",
        "for data in dataset.data:\n",
        "    # Tool usage\n",
        "    if data.tool_calls:\n",
        "        for tool_call in data.tool_calls:\n",
        "            if hasattr(tool_call, 'tool_name'):\n",
        "                tool_name = tool_call.tool_name\n",
        "                if tool_name not in tool_patterns:\n",
        "                    tool_patterns[tool_name] = {'count': 0, 'success_rate': 0}\n",
        "                tool_patterns[tool_name]['count'] += 1\n",
        "    \n",
        "    # Task analysis\n",
        "    if data.agent_task:\n",
        "        # Simple categorization\n",
        "        task_lower = data.agent_task.lower()\n",
        "        if 'user_input' in task_lower:\n",
        "            task_types['user_input'] = task_types.get('user_input', 0) + 1\n",
        "        elif 'exit' in task_lower:\n",
        "            task_types['exit_command'] = task_types.get('exit_command', 0) + 1\n",
        "        else:\n",
        "            task_types['other'] = task_types.get('other', 0) + 1\n",
        "    \n",
        "    # Response analysis\n",
        "    if data.agent_response:\n",
        "        response_lengths.append(len(data.agent_response))\n",
        "\n",
        "print(f\"\\n📈 Tool Usage:\")\n",
        "for tool, stats in tool_patterns.items():\n",
        "    print(f\"  - {tool}: {stats['count']} uses\")\n",
        "\n",
        "print(f\"\\n📋 Task Types:\")\n",
        "for task_type, count in task_types.items():\n",
        "    print(f\"  - {task_type}: {count}\")\n",
        "\n",
        "if response_lengths:\n",
        "    avg_response_length = sum(response_lengths) / len(response_lengths)\n",
        "    print(f\"\\n📝 Response Statistics:\")\n",
        "    print(f\"  - Average response length: {avg_response_length:.1f} characters\")\n",
        "    print(f\"  - Min response length: {min(response_lengths)}\")\n",
        "    print(f\"  - Max response length: {max(response_lengths)}\")\n"
      ]
    },
    {
      "cell_type": "markdown",
      "metadata": {},
      "source": [
        "## Step 8: Export Results (Optional)\n"
      ]
    },
    {
      "cell_type": "code",
      "execution_count": 22,
      "metadata": {},
      "outputs": [
        {
          "name": "stdout",
          "output_type": "stream",
          "text": [
            "💾 Exporting processed dataset...\n",
            "✅ Exported to processed_agent_dataset_tool_calls_removed.json\n",
            "✅ Exported to processed_agent_dataset.csv\n",
            "\n",
            "🎉 Demo completed successfully!\n",
            "\n",
            "📋 Summary:\n",
            "  - Processed 36 spans from dataset_tool_calls_removed.json\n",
            "  - Created 36 AgentData records\n",
            "  - Configured evaluation with Gemini model and 6 scorers\n",
            "  - Exported processed dataset for future use\n"
          ]
        }
      ],
      "source": [
        "\n",
        "# Export the processed dataset for future use\n",
        "print(\"💾 Exporting processed dataset...\")\n",
        "\n",
        "try:\n",
        "    # Export to JSON\n",
        "    dataset.export_to_json(f'processed_agent_{file_name}')\n",
        "    print(f\"✅ Exported to processed_agent_{file_name}\")\n",
        "    \n",
        "    # Export to CSV (optional)\n",
        "    dataset.export_to_csv('processed_agent_dataset.csv')\n",
        "    print(\"✅ Exported to processed_agent_dataset.csv\")\n",
        "    \n",
        "except Exception as e:\n",
        "    print(f\"❌ Export error: {e}\")\n",
        "\n",
        "print(\"\\n🎉 Demo completed successfully!\")\n",
        "print(\"\\n📋 Summary:\")\n",
        "print(f\"  - Processed {len(spans_data)} spans from {file_name}\")\n",
        "print(f\"  - Created {len(dataset.data)} AgentData records\")\n",
        "print(f\"  - Configured evaluation with Gemini model and 6 scorers\")\n",
        "if 'results' in locals():\n",
        "    print(f\"  - Successfully evaluated sample data\")\n",
        "print(f\"  - Exported processed dataset for future use\")\n"
      ]
    },
    {
      "cell_type": "code",
      "execution_count": null,
      "metadata": {},
      "outputs": [],
      "source": []
    }
  ],
  "metadata": {
    "kernelspec": {
      "display_name": ".venv",
      "language": "python",
      "name": "python3"
    },
    "language_info": {
      "codemirror_mode": {
        "name": "ipython",
        "version": 3
      },
      "file_extension": ".py",
      "mimetype": "text/x-python",
      "name": "python",
      "nbconvert_exporter": "python",
      "pygments_lexer": "ipython3",
      "version": "3.10.12"
    }
  },
  "nbformat": 4,
  "nbformat_minor": 2
}
