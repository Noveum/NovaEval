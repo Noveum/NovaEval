{
  "cells": [
    {
      "cell_type": "markdown",
      "metadata": {},
      "source": [
        "# Agent Evaluation Demo with NovaEval\n",
        "\n",
        "This notebook demonstrates how to:\n",
        "1. Load agent trace data from dataset.json or dataset_tool_calls_removed.json\n",
        "2. Map trace spans to AgentData format\n",
        "3. Create an AgentDataset \n",
        "4. Evaluate agent performance using AgentEvaluator with Gemini model\n",
        "5. Analyze results with multiple scorers\n"
      ]
    },
    {
      "cell_type": "code",
      "execution_count": 1,
      "metadata": {},
      "outputs": [
        {
          "name": "stdout",
          "output_type": "stream",
          "text": [
            "✅ All imports successful!\n"
          ]
        }
      ],
      "source": [
        "import json\n",
        "import re\n",
        "from typing import Any, Dict, List, Optional, Union\n",
        "\n",
        "# NovaEval imports\n",
        "from novaeval.agents.agent_data import AgentData, ToolSchema, ToolCall, ToolResult\n",
        "from novaeval.datasets.agent_dataset import AgentDataset\n",
        "from novaeval.evaluators.agent_evaluator import AgentEvaluator\n",
        "from novaeval.models.gemini import GeminiModel\n",
        "from novaeval.scorers.agent_scorers import (\n",
        "    context_relevancy_scorer,\n",
        "    role_adherence_scorer,\n",
        "    task_progression_scorer,\n",
        "    tool_relevancy_scorer,\n",
        "    tool_correctness_scorer,\n",
        "    parameter_correctness_scorer\n",
        ")\n",
        "from dotenv import load_dotenv\n",
        "\n",
        "load_dotenv()\n",
        "\n",
        "print(\"✅ All imports successful!\")\n"
      ]
    },
    {
      "cell_type": "code",
      "execution_count": 2,
      "metadata": {},
      "outputs": [],
      "source": [
        "# !pwd\n",
        "# !python langchain_agent/traces/fetch_traces_api.py 10\n",
        "# !python langchain_agent/traces/combine_spans_api_compat.py\n",
        "\n",
        "# !cp langchain_agent/traces/traces/dataset.json .\n",
        "\n",
        "# !python clean_tool_call_spans.py "
      ]
    },
    {
      "cell_type": "code",
      "execution_count": 3,
      "metadata": {},
      "outputs": [
        {
          "name": "stdout",
          "output_type": "stream",
          "text": [
            "agent_comment_gen_dataset.json\tpost_validation_dataset.json\n",
            "agent_query_gen_dataset.json\ttavily_search_results_dataset.json\n",
            "email_gen_send_dataset.json\n"
          ]
        }
      ],
      "source": [
        "!ls split_datasets/"
      ]
    },
    {
      "cell_type": "markdown",
      "metadata": {},
      "source": []
    },
    {
      "cell_type": "markdown",
      "metadata": {},
      "source": [
        "## Step 1: Load and Examine Dataset Structure\n"
      ]
    },
    {
      "cell_type": "code",
      "execution_count": 4,
      "metadata": {},
      "outputs": [
        {
          "name": "stdout",
          "output_type": "stream",
          "text": [
            "📊 Loaded 2301 spans from split_datasets/tavily_search_results_dataset.json\n",
            "\n",
            "🔍 Available span types:\n",
            "  - tool:tavily_search_results_json:tavily_search_results_json: 2301\n"
          ]
        }
      ],
      "source": [
        "# Load the dataset\n",
        "file_name = 'split_datasets/tavily_search_results_dataset.json'\n",
        "#\n",
        "with open(file_name, 'r') as f:\n",
        "    spans_data = json.load(f)\n",
        "\n",
        "print(f\"📊 Loaded {len(spans_data)} spans from {file_name}\")\n",
        "print(f\"\\n🔍 Available span types:\")\n",
        "\n",
        "# Analyze span types\n",
        "span_types = {}\n",
        "for span in spans_data[:]:  # Look at first 10 spans\n",
        "    span_name = span.get('name', 'unknown')\n",
        "    if span_name not in span_types:\n",
        "        span_types[span_name] = 0\n",
        "    span_types[span_name] += 1\n",
        "\n",
        "for span_type, count in span_types.items():\n",
        "    print(f\"  - {span_type}: {count}\")\n"
      ]
    },
    {
      "cell_type": "markdown",
      "metadata": {},
      "source": [
        "## Step 2: Implement Field Mapping Logic\n"
      ]
    },
    {
      "cell_type": "code",
      "execution_count": null,
      "metadata": {},
      "outputs": [],
      "source": []
    },
    {
      "cell_type": "code",
      "execution_count": 5,
      "metadata": {},
      "outputs": [],
      "source": [
        "def parse_tools_from_prompt(prompt: str) -> List[ToolSchema]:\n",
        "    \"\"\"\n",
        "    Parse tool definitions from LLM prompts using regex.\n",
        "    \n",
        "    Expected format: tool_name(param: type = default) -> return_type - description\n",
        "    \"\"\"\n",
        "    # Pattern to match tool signatures\n",
        "    pattern = r'(\\w+)\\(([^)]*)\\)\\s*->\\s*(\\w+)\\s*-\\s*(.+?)(?=\\n\\w+\\(|$)'\n",
        "    matches = re.findall(pattern, prompt, re.DOTALL)\n",
        "    \n",
        "    tools = []\n",
        "    for match in matches:\n",
        "        tool_name, params_str, return_type, description = match\n",
        "        \n",
        "        # Parse parameters\n",
        "        args_schema = parse_params(params_str)\n",
        "        \n",
        "        tool = ToolSchema(\n",
        "            name=tool_name,\n",
        "            description=description.strip(),\n",
        "            args_schema=args_schema,\n",
        "            return_schema={\"type\": return_type}\n",
        "        )\n",
        "        tools.append(tool)\n",
        "    \n",
        "    return tools\n",
        "\n",
        "def parse_params(params_str: str) -> Dict[str, Any]:\n",
        "    \"\"\"\n",
        "    Parse parameter string into schema dictionary.\n",
        "    \n",
        "    Format: param_name: type = default_value\n",
        "    \"\"\"\n",
        "    if not params_str.strip():\n",
        "        return {}\n",
        "    \n",
        "    # Split parameters by comma\n",
        "    params = [p.strip() for p in params_str.split(',') if p.strip()]\n",
        "    schema = {}\n",
        "    \n",
        "    for param in params:\n",
        "        if ':' in param:\n",
        "            parts = param.split(':', 1)\n",
        "            param_name = parts[0].strip()\n",
        "            type_and_default = parts[1].strip()\n",
        "            \n",
        "            # Extract type and default value\n",
        "            if '=' in type_and_default:\n",
        "                type_part, default_part = type_and_default.split('=', 1)\n",
        "                param_type = type_part.strip()\n",
        "                default_val = default_part.strip().strip('\"\\'')\n",
        "                schema[param_name] = {'type': param_type, 'default': default_val}\n",
        "            else:\n",
        "                param_type = type_and_default.strip()\n",
        "                schema[param_name] = {'type': param_type}\n",
        "    \n",
        "    return schema\n",
        "\n",
        "def identify_span_type(span: Dict[str, Any]) -> str:\n",
        "    \"\"\"\n",
        "    Identify span type based on attributes.\n",
        "    \"\"\"\n",
        "    attributes = span.get('attributes', {})\n",
        "    agent_span_names = ['reddit_agent_run_1', 'reddit_agent_run_2', 'agent.query_generation', 'agent.comment_generation']\n",
        "    tool_span_names = ['post_validation', 'email_generation_and_sending']\n",
        "    # Check for agent attributes\n",
        "    if any('chain.name' == key for key in attributes.keys()) or span['name'] in agent_span_names:\n",
        "        return 'agent'\n",
        "    \n",
        "    # Check for LLM attributes\n",
        "    if any('llm.model' == key for key in attributes.keys()):\n",
        "        return 'llm'\n",
        "    \n",
        "    # Check for tool attributes\n",
        "    if any('tool.name' == key for key in attributes.keys()) or span['name'] in tool_span_names:\n",
        "        return 'tool'\n",
        "    print('returning unknown type for span')\n",
        "    print(span)\n",
        "    return 'unknown'\n"
      ]
    },
    {
      "cell_type": "code",
      "execution_count": 6,
      "metadata": {},
      "outputs": [
        {
          "name": "stdout",
          "output_type": "stream",
          "text": [
            "✅ Field mapping functions defined!\n"
          ]
        }
      ],
      "source": [
        "global count_unknowns\n",
        "count_unknowns = 0\n",
        "def map_span_to_agent_data(span: Dict[str, Any]) -> AgentData:\n",
        "    \"\"\"\n",
        "    Map a single span from file_name to AgentData format.\n",
        "    \"\"\"\n",
        "\n",
        "    attributes = span.get('attributes', {})\n",
        "    events = span.get('events', [])\n",
        "    span_type = identify_span_type(span)\n",
        "\n",
        "    # Base mappings\n",
        "    data = {\n",
        "        'user_id': span.get('metadata', {}).get('user_id', None),\n",
        "        'task_id': span.get('trace_id'),\n",
        "        'turn_id': span.get('span_id'),\n",
        "        'ground_truth': None,\n",
        "        'expected_tool_call': None,\n",
        "        'agent_name': span_type,\n",
        "        'agent_role': span_type,\n",
        "        'system_prompt': \"You are a helpful customer support agent\",\n",
        "        'metadata': None,\n",
        "        'exit_status': span.get('status'),\n",
        "        'tools_available': [],\n",
        "        'tool_calls': [],\n",
        "        'parameters_passed': {},\n",
        "        'tool_call_results': [],\n",
        "        'retrieval_query': None,\n",
        "        'retrieved_context': None,\n",
        "        'agent_exit': False,\n",
        "        'trace': None\n",
        "    }\n",
        "    \n",
        "    # Span-specific mappings\n",
        "    if span_type == 'agent':\n",
        "        # Agent task\n",
        "        chain_inputs = attributes.get('chain.inputs', {})\n",
        "\n",
        "        if isinstance(chain_inputs, dict) and 'input' in chain_inputs:\n",
        "            data['agent_task'] = chain_inputs['input']\n",
        "        elif attributes.get(\"agent_task\"):\n",
        "            data['agent_task'] = attributes.get(\"agent_task\")\n",
        "        else:\n",
        "            print('agent_task not found')\n",
        "        # Agent response\n",
        "        finish_values = attributes.get('agent.output.finish.return_values', {})\n",
        "        if isinstance(finish_values, dict) and 'output' in finish_values:\n",
        "            data['agent_response'] = finish_values['output']\n",
        "        elif attributes.get(\"agent_response\"):\n",
        "            data['agent_response'] = attributes.get(\"agent_response\")\n",
        "        else:\n",
        "            print(\"agent_response is not available  \" + span['span_id'])\n",
        "        # Tool calls from agent actions\n",
        "        tool_name = attributes.get('agent.output.action.tool')\n",
        "        tool_input = attributes.get('agent.output.action.tool_input')\n",
        "        \n",
        "        if tool_name:\n",
        "            tool_call = ToolCall(\n",
        "                tool_name=tool_name,\n",
        "                parameters={'input': tool_input} if tool_input else {},\n",
        "                call_id=span['span_id']\n",
        "            )\n",
        "            data['tool_calls'] = [tool_call]\n",
        "            data['parameters_passed'] = {'input': tool_input} if tool_input else {}\n",
        "            \n",
        "            # Handle retrieval query for langchain_retriever\n",
        "            if tool_name == 'langchain_retriever' and tool_input:\n",
        "                data['retrieval_query'] = [tool_input]\n",
        "        \n",
        "        # Agent exit status\n",
        "        data['agent_exit'] = any(event.get('name') == 'agent_finish' for event in events)\n",
        "        \n",
        "        # Trace (dump events as JSON)\n",
        "        if events:\n",
        "            data['trace'] = json.dumps(events)\n",
        "    \n",
        "    elif span_type == 'llm':\n",
        "        # Agent response from LLM output\n",
        "        llm_input = attributes.get('llm.input.prompts', ['input is not available'])\n",
        "        data['agent_task'] = llm_input[0]\n",
        "\n",
        "        llm_responses = attributes.get('llm.output.response', [])\n",
        "        if llm_responses:\n",
        "            data['agent_response'] = llm_responses[0]\n",
        "        else:\n",
        "            print(\"llm_response is not available\")\n",
        "        # Parse tools from prompt\n",
        "        prompts = attributes.get('llm.input.prompts', [])\n",
        "        if prompts:\n",
        "            try:\n",
        "                tools = parse_tools_from_prompt(prompts[0])\n",
        "                data['tools_available'] = tools\n",
        "            except Exception:\n",
        "                # Fallback to empty list if parsing fails\n",
        "                data['tools_available'] = []\n",
        "        \n",
        "        data['parameters_passed'] = {}\n",
        "    \n",
        "    elif span_type == 'tool':\n",
        "        # Agent response from tool output\n",
        "        tool_output = attributes.get('tool.output.output')\n",
        "        data['agent_task'] = f\"This is a simple tool call, and the tool will execute as programmed. Its name is - {attributes.get('tool.name')}\"\n",
        "        if tool_output:\n",
        "            data['agent_response'] = tool_output\n",
        "        elif attributes.get(\"tool_response\"):\n",
        "            data['agent_response'] = attributes.get(\"tool_response\")\n",
        "        else:\n",
        "            print(\"tool_output is not available \" + span['span_id'])\n",
        "        # Tool call results\n",
        "        tool_name = attributes.get('tool.name')\n",
        "        if tool_name and tool_output is not None:\n",
        "            tool_result = ToolResult(\n",
        "                call_id=span['span_id'],\n",
        "                result=tool_output,\n",
        "                success=span.get('status') == 'ok',\n",
        "                error_message=None if span.get('status') == 'ok' else 'Tool execution failed'\n",
        "            )\n",
        "            data['tool_call_results'] = [tool_result]\n",
        "            \n",
        "            # Handle retrieved context for langchain_retriever\n",
        "            if tool_name == 'langchain_retriever':\n",
        "                data['retrieved_context'] = [[tool_output]]\n",
        "        \n",
        "        # Parameters from tool input\n",
        "        tool_input_keys = [key for key in attributes.keys() if key.startswith('tool.input.')]\n",
        "        tool_params = {}\n",
        "        for key in tool_input_keys:\n",
        "            param_name = key.replace('tool.input.', '')\n",
        "            tool_params[param_name] = attributes[key]\n",
        "        data['parameters_passed'] = tool_params\n",
        "    else:\n",
        "        global count_unknowns\n",
        "        count_unknowns += 1\n",
        "        print('Spans with unknown type: ' + str(count_unknowns))\n",
        "    return AgentData(**data)\n",
        "\n",
        "print(\"✅ Field mapping functions defined!\")\n"
      ]
    },
    {
      "cell_type": "markdown",
      "metadata": {},
      "source": [
        "## Step 3: Create AgentDataset from Spans\n"
      ]
    },
    {
      "cell_type": "code",
      "execution_count": 7,
      "metadata": {},
      "outputs": [
        {
          "name": "stdout",
          "output_type": "stream",
          "text": [
            "🔄 Converting spans to AgentData objects...\n",
            "\n",
            "✅ Successfully converted 2301 spans to AgentData\n",
            "📊 AgentDataset created with 2301 records\n"
          ]
        }
      ],
      "source": [
        "# Convert spans to AgentData objects\n",
        "print(\"🔄 Converting spans to AgentData objects...\")\n",
        "\n",
        "agent_data_list = []\n",
        "errors = []\n",
        "\n",
        "for i, span in enumerate(spans_data):\n",
        "    try:\n",
        "        agent_data = map_span_to_agent_data(span)\n",
        "        agent_data_list.append(agent_data)\n",
        "    except Exception as e:\n",
        "        errors.append(f\"Span {i}: {str(e)}\")\n",
        "        if len(errors) <= 5:  # Show first 5 errors only\n",
        "            print(f\"⚠️  Error processing span {i}: {e}\")\n",
        "            print(span)\n",
        "\n",
        "print(f\"\\n✅ Successfully converted {len(agent_data_list)} spans to AgentData\")\n",
        "if errors:\n",
        "    print(f\"❌ {len(errors)} spans had errors\")\n",
        "\n",
        "# Create AgentDataset\n",
        "dataset = AgentDataset()\n",
        "dataset.data = agent_data_list\n",
        "\n",
        "print(f\"📊 AgentDataset created with {len(dataset.data)} records\")\n"
      ]
    },
    {
      "cell_type": "markdown",
      "metadata": {},
      "source": [
        "## Step 4: Examine Sample Data\n"
      ]
    },
    {
      "cell_type": "code",
      "execution_count": 8,
      "metadata": {},
      "outputs": [
        {
          "name": "stdout",
          "output_type": "stream",
          "text": [
            "📈 Dataset Statistics:\n",
            "\n",
            "Agent Types: {'tool': 2301}\n",
            "Records with responses: 2301\n",
            "Records with tool calls: 0\n",
            "Records with retrieval: 0\n",
            "Tool usage: {}\n",
            "\n",
            "🔍 Sample AgentData records:\n",
            "\n",
            "--- Record 1 (tool) ---\n",
            "Task: This is a simple tool call, and the tool will execute as programmed. Its name is - tavily_search_res...\n",
            "Response: HTTPError('432 Client Error:  for url: https://api.tavily.com/search')...\n",
            "Tool calls: 0\n",
            "Exit status: ok\n",
            "\n",
            "--- Record 2 (tool) ---\n",
            "Task: This is a simple tool call, and the tool will execute as programmed. Its name is - tavily_search_res...\n",
            "Response: HTTPError('432 Client Error:  for url: https://api.tavily.com/search')...\n",
            "Tool calls: 0\n",
            "Exit status: ok\n",
            "\n",
            "--- Record 3 (tool) ---\n",
            "Task: This is a simple tool call, and the tool will execute as programmed. Its name is - tavily_search_res...\n",
            "Response: HTTPError('432 Client Error:  for url: https://api.tavily.com/search')...\n",
            "Tool calls: 0\n",
            "Exit status: ok\n"
          ]
        }
      ],
      "source": [
        "# Show statistics about the dataset\n",
        "print(\"📈 Dataset Statistics:\")\n",
        "\n",
        "agent_types = {}\n",
        "tool_usage = {}\n",
        "with_responses = 0\n",
        "with_tool_calls = 0\n",
        "with_retrieval = 0\n",
        "\n",
        "for data in dataset.data:\n",
        "    # Agent types\n",
        "    if data.agent_name:\n",
        "        agent_types[data.agent_name] = agent_types.get(data.agent_name, 0) + 1\n",
        "    \n",
        "    # Responses\n",
        "    if data.agent_response:\n",
        "        with_responses += 1\n",
        "    \n",
        "    # Tool calls\n",
        "    if data.tool_calls:\n",
        "        with_tool_calls += 1\n",
        "        for tool_call in data.tool_calls:\n",
        "            if hasattr(tool_call, 'tool_name'):\n",
        "                tool_usage[tool_call.tool_name] = tool_usage.get(tool_call.tool_name, 0) + 1\n",
        "    \n",
        "    # Retrieval\n",
        "    if data.retrieval_query:\n",
        "        with_retrieval += 1\n",
        "\n",
        "print(f\"\\nAgent Types: {dict(agent_types)}\")\n",
        "print(f\"Records with responses: {with_responses}\")\n",
        "print(f\"Records with tool calls: {with_tool_calls}\")\n",
        "print(f\"Records with retrieval: {with_retrieval}\")\n",
        "print(f\"Tool usage: {dict(tool_usage)}\")\n",
        "\n",
        "# Show sample records\n",
        "print(\"\\n🔍 Sample AgentData records:\")\n",
        "for i, data in enumerate(dataset.data[:3]):\n",
        "    print(f\"\\n--- Record {i+1} ({data.agent_name}) ---\")\n",
        "    print(f\"Task: {data.agent_task[:100] if data.agent_task else 'None'}...\")\n",
        "    print(f\"Response: {data.agent_response[:100] if data.agent_response else 'None'}...\")\n",
        "    print(f\"Tool calls: {len(data.tool_calls) if data.tool_calls else 0}\")\n",
        "    print(f\"Exit status: {data.exit_status}\")\n"
      ]
    },
    {
      "cell_type": "markdown",
      "metadata": {},
      "source": [
        "## Step 5: Setup Gemini Model and Evaluator\n"
      ]
    },
    {
      "cell_type": "code",
      "execution_count": null,
      "metadata": {},
      "outputs": [
        {
          "name": "stderr",
          "output_type": "stream",
          "text": [
            "2025-09-26 04:08:34 - noveum_trace.transport.batch_processor - INFO - 🔄 Batch processor background thread started (batch_size=100, timeout=5.0s)\n",
            "2025-09-26 04:08:34 - noveum_trace.transport.batch_processor - INFO - Batch processor started with batch_size=100\n",
            "2025-09-26 04:08:34 - noveum_trace.transport.http_transport - INFO - HTTP transport initialized for endpoint: https://api.noveum.ai/api\n",
            "2025-09-26 04:08:34 - noveum_trace.core.client - INFO - Noveum Trace client initialized\n"
          ]
        },
        {
          "name": "stdout",
          "output_type": "stream",
          "text": [
            "✅ GEMINI_API_KEY found in environment\n",
            "✅ Gemini model initialized\n"
          ]
        },
        {
          "name": "stderr",
          "output_type": "stream",
          "text": [
            "2025-09-26 04:08:40 - noveum_trace.transport.batch_processor - INFO - ⏰ TIMEOUT TRIGGER: Sending batch due to timeout (6.1s >= 5.0s)\n",
            "2025-09-26 04:08:40 - noveum_trace.transport.batch_processor - INFO - 📤 SENDING BATCH: 6 traces via send_callback\n",
            "2025-09-26 04:08:40 - noveum_trace.transport.http_transport - INFO - 🚀 SENDING BATCH: 6 traces to https://api.noveum.ai/api/v1/traces\n",
            "2025-09-26 04:08:42 - noveum_trace.transport.http_transport - INFO - 📡 HTTP RESPONSE: Status 200 from https://api.noveum.ai/api/v1/traces\n",
            "2025-09-26 04:08:42 - noveum_trace.transport.http_transport - INFO - ✅ Successfully sent batch of 6 traces\n",
            "2025-09-26 04:08:42 - noveum_trace.transport.batch_processor - INFO - ✅ Successfully sent batch of 6 traces via callback\n",
            "2025-09-26 04:08:45 - noveum_trace.transport.batch_processor - INFO - ⏰ TIMEOUT TRIGGER: Sending batch due to timeout (5.0s >= 5.0s)\n",
            "2025-09-26 04:08:45 - noveum_trace.transport.batch_processor - INFO - 📤 SENDING BATCH: 6 traces via send_callback\n",
            "2025-09-26 04:08:45 - noveum_trace.transport.http_transport - INFO - 🚀 SENDING BATCH: 6 traces to https://api.noveum.ai/api/v1/traces\n",
            "2025-09-26 04:08:46 - noveum_trace.transport.http_transport - INFO - 📡 HTTP RESPONSE: Status 200 from https://api.noveum.ai/api/v1/traces\n",
            "2025-09-26 04:08:46 - noveum_trace.transport.http_transport - INFO - ✅ Successfully sent batch of 6 traces\n",
            "2025-09-26 04:08:46 - noveum_trace.transport.batch_processor - INFO - ✅ Successfully sent batch of 6 traces via callback\n",
            "2025-09-26 04:08:51 - noveum_trace.transport.batch_processor - INFO - ⏰ TIMEOUT TRIGGER: Sending batch due to timeout (5.4s >= 5.0s)\n",
            "2025-09-26 04:08:51 - noveum_trace.transport.batch_processor - INFO - 📤 SENDING BATCH: 6 traces via send_callback\n",
            "2025-09-26 04:08:51 - noveum_trace.transport.http_transport - INFO - 🚀 SENDING BATCH: 6 traces to https://api.noveum.ai/api/v1/traces\n",
            "2025-09-26 04:08:51 - noveum_trace.transport.http_transport - INFO - 📡 HTTP RESPONSE: Status 200 from https://api.noveum.ai/api/v1/traces\n",
            "2025-09-26 04:08:51 - noveum_trace.transport.http_transport - INFO - ✅ Successfully sent batch of 6 traces\n",
            "2025-09-26 04:08:51 - noveum_trace.transport.batch_processor - INFO - ✅ Successfully sent batch of 6 traces via callback\n",
            "2025-09-26 04:08:56 - noveum_trace.transport.batch_processor - INFO - ⏰ TIMEOUT TRIGGER: Sending batch due to timeout (5.0s >= 5.0s)\n",
            "2025-09-26 04:08:56 - noveum_trace.transport.batch_processor - INFO - 📤 SENDING BATCH: 6 traces via send_callback\n",
            "2025-09-26 04:08:56 - noveum_trace.transport.http_transport - INFO - 🚀 SENDING BATCH: 6 traces to https://api.noveum.ai/api/v1/traces\n",
            "2025-09-26 04:08:56 - noveum_trace.transport.http_transport - INFO - 📡 HTTP RESPONSE: Status 200 from https://api.noveum.ai/api/v1/traces\n",
            "2025-09-26 04:08:56 - noveum_trace.transport.http_transport - INFO - ✅ Successfully sent batch of 6 traces\n",
            "2025-09-26 04:08:56 - noveum_trace.transport.batch_processor - INFO - ✅ Successfully sent batch of 6 traces via callback\n",
            "2025-09-26 04:09:01 - noveum_trace.transport.batch_processor - INFO - ⏰ TIMEOUT TRIGGER: Sending batch due to timeout (5.1s >= 5.0s)\n",
            "2025-09-26 04:09:01 - noveum_trace.transport.batch_processor - INFO - 📤 SENDING BATCH: 6 traces via send_callback\n",
            "2025-09-26 04:09:01 - noveum_trace.transport.http_transport - INFO - 🚀 SENDING BATCH: 6 traces to https://api.noveum.ai/api/v1/traces\n",
            "2025-09-26 04:09:01 - noveum_trace.transport.http_transport - INFO - 📡 HTTP RESPONSE: Status 200 from https://api.noveum.ai/api/v1/traces\n",
            "2025-09-26 04:09:01 - noveum_trace.transport.http_transport - INFO - ✅ Successfully sent batch of 6 traces\n",
            "2025-09-26 04:09:01 - noveum_trace.transport.batch_processor - INFO - ✅ Successfully sent batch of 6 traces via callback\n",
            "2025-09-26 04:09:06 - noveum_trace.transport.batch_processor - INFO - ⏰ TIMEOUT TRIGGER: Sending batch due to timeout (5.1s >= 5.0s)\n",
            "2025-09-26 04:09:06 - noveum_trace.transport.batch_processor - INFO - 📤 SENDING BATCH: 6 traces via send_callback\n",
            "2025-09-26 04:09:06 - noveum_trace.transport.http_transport - INFO - 🚀 SENDING BATCH: 6 traces to https://api.noveum.ai/api/v1/traces\n",
            "2025-09-26 04:09:08 - noveum_trace.transport.http_transport - INFO - 📡 HTTP RESPONSE: Status 200 from https://api.noveum.ai/api/v1/traces\n",
            "2025-09-26 04:09:08 - noveum_trace.transport.http_transport - INFO - ✅ Successfully sent batch of 6 traces\n",
            "2025-09-26 04:09:08 - noveum_trace.transport.batch_processor - INFO - ✅ Successfully sent batch of 6 traces via callback\n",
            "2025-09-26 04:09:11 - noveum_trace.transport.batch_processor - INFO - ⏰ TIMEOUT TRIGGER: Sending batch due to timeout (5.1s >= 5.0s)\n",
            "2025-09-26 04:09:11 - noveum_trace.transport.batch_processor - INFO - 📤 SENDING BATCH: 6 traces via send_callback\n",
            "2025-09-26 04:09:11 - noveum_trace.transport.http_transport - INFO - 🚀 SENDING BATCH: 6 traces to https://api.noveum.ai/api/v1/traces\n",
            "2025-09-26 04:09:13 - noveum_trace.transport.http_transport - INFO - 📡 HTTP RESPONSE: Status 200 from https://api.noveum.ai/api/v1/traces\n",
            "2025-09-26 04:09:13 - noveum_trace.transport.http_transport - INFO - ✅ Successfully sent batch of 6 traces\n",
            "2025-09-26 04:09:13 - noveum_trace.transport.batch_processor - INFO - ✅ Successfully sent batch of 6 traces via callback\n",
            "2025-09-26 04:09:16 - noveum_trace.transport.batch_processor - INFO - ⏰ TIMEOUT TRIGGER: Sending batch due to timeout (5.1s >= 5.0s)\n",
            "2025-09-26 04:09:16 - noveum_trace.transport.batch_processor - INFO - 📤 SENDING BATCH: 6 traces via send_callback\n",
            "2025-09-26 04:09:16 - noveum_trace.transport.http_transport - INFO - 🚀 SENDING BATCH: 6 traces to https://api.noveum.ai/api/v1/traces\n",
            "2025-09-26 04:09:17 - noveum_trace.transport.http_transport - INFO - 📡 HTTP RESPONSE: Status 200 from https://api.noveum.ai/api/v1/traces\n",
            "2025-09-26 04:09:17 - noveum_trace.transport.http_transport - INFO - ✅ Successfully sent batch of 6 traces\n",
            "2025-09-26 04:09:17 - noveum_trace.transport.batch_processor - INFO - ✅ Successfully sent batch of 6 traces via callback\n",
            "2025-09-26 04:09:22 - noveum_trace.transport.batch_processor - INFO - ⏰ TIMEOUT TRIGGER: Sending batch due to timeout (5.5s >= 5.0s)\n",
            "2025-09-26 04:09:22 - noveum_trace.transport.batch_processor - INFO - 📤 SENDING BATCH: 7 traces via send_callback\n",
            "2025-09-26 04:09:22 - noveum_trace.transport.http_transport - INFO - 🚀 SENDING BATCH: 7 traces to https://api.noveum.ai/api/v1/traces\n",
            "2025-09-26 04:09:23 - noveum_trace.transport.http_transport - INFO - 📡 HTTP RESPONSE: Status 200 from https://api.noveum.ai/api/v1/traces\n",
            "2025-09-26 04:09:23 - noveum_trace.transport.http_transport - INFO - ✅ Successfully sent batch of 7 traces\n",
            "2025-09-26 04:09:23 - noveum_trace.transport.batch_processor - INFO - ✅ Successfully sent batch of 7 traces via callback\n",
            "2025-09-26 04:09:27 - noveum_trace.transport.batch_processor - INFO - ⏰ TIMEOUT TRIGGER: Sending batch due to timeout (5.6s >= 5.0s)\n",
            "2025-09-26 04:09:27 - noveum_trace.transport.batch_processor - INFO - 📤 SENDING BATCH: 7 traces via send_callback\n",
            "2025-09-26 04:09:27 - noveum_trace.transport.http_transport - INFO - 🚀 SENDING BATCH: 7 traces to https://api.noveum.ai/api/v1/traces\n",
            "2025-09-26 04:09:28 - noveum_trace.transport.http_transport - INFO - 📡 HTTP RESPONSE: Status 200 from https://api.noveum.ai/api/v1/traces\n",
            "2025-09-26 04:09:28 - noveum_trace.transport.http_transport - INFO - ✅ Successfully sent batch of 7 traces\n",
            "2025-09-26 04:09:28 - noveum_trace.transport.batch_processor - INFO - ✅ Successfully sent batch of 7 traces via callback\n",
            "2025-09-26 04:09:32 - noveum_trace.transport.batch_processor - INFO - ⏰ TIMEOUT TRIGGER: Sending batch due to timeout (5.0s >= 5.0s)\n",
            "2025-09-26 04:09:32 - noveum_trace.transport.batch_processor - INFO - 📤 SENDING BATCH: 6 traces via send_callback\n",
            "2025-09-26 04:09:32 - noveum_trace.transport.http_transport - INFO - 🚀 SENDING BATCH: 6 traces to https://api.noveum.ai/api/v1/traces\n",
            "2025-09-26 04:09:33 - noveum_trace.transport.http_transport - INFO - 📡 HTTP RESPONSE: Status 200 from https://api.noveum.ai/api/v1/traces\n",
            "2025-09-26 04:09:33 - noveum_trace.transport.http_transport - INFO - ✅ Successfully sent batch of 6 traces\n",
            "2025-09-26 04:09:33 - noveum_trace.transport.batch_processor - INFO - ✅ Successfully sent batch of 6 traces via callback\n",
            "2025-09-26 04:09:37 - noveum_trace.transport.batch_processor - INFO - ⏰ TIMEOUT TRIGGER: Sending batch due to timeout (5.0s >= 5.0s)\n",
            "2025-09-26 04:09:37 - noveum_trace.transport.batch_processor - INFO - 📤 SENDING BATCH: 6 traces via send_callback\n",
            "2025-09-26 04:09:37 - noveum_trace.transport.http_transport - INFO - 🚀 SENDING BATCH: 6 traces to https://api.noveum.ai/api/v1/traces\n",
            "2025-09-26 04:09:38 - noveum_trace.transport.http_transport - INFO - 📡 HTTP RESPONSE: Status 200 from https://api.noveum.ai/api/v1/traces\n",
            "2025-09-26 04:09:38 - noveum_trace.transport.http_transport - INFO - ✅ Successfully sent batch of 6 traces\n",
            "2025-09-26 04:09:38 - noveum_trace.transport.batch_processor - INFO - ✅ Successfully sent batch of 6 traces via callback\n",
            "2025-09-26 04:09:43 - noveum_trace.transport.batch_processor - INFO - ⏰ TIMEOUT TRIGGER: Sending batch due to timeout (5.3s >= 5.0s)\n",
            "2025-09-26 04:09:43 - noveum_trace.transport.batch_processor - INFO - 📤 SENDING BATCH: 1 traces via send_callback\n",
            "2025-09-26 04:09:43 - noveum_trace.transport.http_transport - INFO - 🚀 SENDING BATCH: 1 traces to https://api.noveum.ai/api/v1/traces\n",
            "2025-09-26 04:09:43 - noveum_trace.transport.http_transport - INFO - 📡 HTTP RESPONSE: Status 200 from https://api.noveum.ai/api/v1/traces\n",
            "2025-09-26 04:09:43 - noveum_trace.transport.http_transport - INFO - ✅ Successfully sent batch of 1 traces\n",
            "2025-09-26 04:09:43 - noveum_trace.transport.batch_processor - INFO - ✅ Successfully sent batch of 1 traces via callback\n"
          ]
        }
      ],
      "source": [
        "import os\n",
        "\n",
        "# Check for API key\n",
        "if 'GEMINI_API_KEY' not in os.environ:\n",
        "    print(\"⚠️  GEMINI_API_KEY environment variable not set!\")\n",
        "    print(\"Please set it before running evaluation:\")\n",
        "    print(\"export GEMINI_API_KEY='your-api-key-here'\")\n",
        "else:\n",
        "    print(\"✅ GEMINI_API_KEY found in environment\")\n",
        "\n",
        "# Initialize Gemini model\n",
        "try:\n",
        "    gemini_model = GeminiModel(\n",
        "        model_name=\"gemini-1.5-flash\",  # Using flash model for cost efficiency\n",
        "        temperature=0.1,  # Low temperature for consistent evaluation\n",
        "        max_tokens=1024\n",
        "    )\n",
        "    print(\"✅ Gemini model initialized\")\n",
        "except Exception as e:\n",
        "    print(f\"❌ Error initializing Gemini model: {e}\")\n",
        "    gemini_model = None\n"
      ]
    },
    {
      "cell_type": "code",
      "execution_count": 10,
      "metadata": {},
      "outputs": [
        {
          "name": "stdout",
          "output_type": "stream",
          "text": [
            "✅ Initialized 5 scoring functions:\n",
            "  - task_progression_scorer\n",
            "  - context_relevancy_scorer\n",
            "  - role_adherence_scorer\n",
            "  - tool_relevancy_scorer\n",
            "  - parameter_correctness_scorer\n",
            "\n",
            "✅ AgentEvaluator created with Gemini model and scoring functions\n"
          ]
        }
      ],
      "source": [
        "# Initialize scoring functions for evaluation\n",
        "scoring_functions = [\n",
        "    task_progression_scorer,\n",
        "    context_relevancy_scorer,\n",
        "    role_adherence_scorer,\n",
        "    tool_relevancy_scorer,\n",
        "    parameter_correctness_scorer\n",
        "]\n",
        "\n",
        "print(f\"✅ Initialized {len(scoring_functions)} scoring functions:\")\n",
        "for func in scoring_functions:\n",
        "    print(f\"  - {func.__name__}\")\n",
        "\n",
        "# Create AgentEvaluator\n",
        "if gemini_model:\n",
        "    evaluator = AgentEvaluator(\n",
        "        agent_dataset=dataset,\n",
        "        models=[gemini_model],\n",
        "        scoring_functions=scoring_functions,\n",
        "        output_dir=\"./demo_results\",\n",
        "        stream=False,\n",
        "        include_reasoning=True\n",
        "    )\n",
        "    print(\"\\n✅ AgentEvaluator created with Gemini model and scoring functions\")\n",
        "else:\n",
        "    print(\"\\n❌ Cannot create evaluator - Gemini model not available\")\n"
      ]
    },
    {
      "cell_type": "markdown",
      "metadata": {},
      "source": [
        "## Step 6: Run Evaluation (Sample)\n"
      ]
    },
    {
      "cell_type": "code",
      "execution_count": 11,
      "metadata": {},
      "outputs": [
        {
          "name": "stdout",
          "output_type": "stream",
          "text": [
            "🚀 Running evaluation on sample data...\n",
            "\n",
            "📊 Evaluating 25 sample records...\n",
            "2025-09-26 04:08:34 - INFO - novaeval.evaluators.agent_evaluator - Starting agent evaluation process\n"
          ]
        },
        {
          "name": "stderr",
          "output_type": "stream",
          "text": [
            "Evaluating samples: 0it [00:00, ?it/s]"
          ]
        },
        {
          "name": "stdout",
          "output_type": "stream",
          "text": [
            "2025-09-26 04:08:34 - INFO - google_genai.models - AFC is enabled with max remote calls: 10.\n",
            "2025-09-26 04:08:36 - ERROR - novaeval.models.base - Error: 404 NOT_FOUND. {'error': {'code': 404, 'message': 'Publisher Model `projects/generativelanguage-ga/locations/us-central1/publishers/google/models/gemini-1.5-flash-002` was not found or your project does not have access to it. Please ensure you are using a valid model version. For more information, see: https://cloud.google.com/vertex-ai/generative-ai/docs/learn/model-versions', 'status': 'NOT_FOUND'}}\n"
          ]
        },
        {
          "name": "stderr",
          "output_type": "stream",
          "text": [
            "2025-09-26 04:08:36 - noveum_trace.transport.http_transport - INFO - 📤 EXPORTING TRACE: auto_trace_generate (ID: 71264f41-2f98-407f-87a7-6e63f5e66792) - 1 spans\n",
            "2025-09-26 04:08:36 - noveum_trace.transport.batch_processor - INFO - 📥 ADDING TRACE TO QUEUE: auto_trace_generate (ID: 71264f41-2f98-407f-87a7-6e63f5e66792) - 1 spans\n",
            "2025-09-26 04:08:36 - noveum_trace.transport.batch_processor - INFO - ✅ Successfully queued trace 71264f41-2f98-407f-87a7-6e63f5e66792\n",
            "2025-09-26 04:08:36 - noveum_trace.transport.http_transport - INFO - ✅ Trace 71264f41-2f98-407f-87a7-6e63f5e66792 successfully queued for export\n"
          ]
        },
        {
          "name": "stdout",
          "output_type": "stream",
          "text": [
            "2025-09-26 04:08:36 - INFO - google_genai.models - AFC is enabled with max remote calls: 10.\n",
            "2025-09-26 04:08:36 - ERROR - novaeval.models.base - Error: 404 NOT_FOUND. {'error': {'code': 404, 'message': 'Publisher Model `projects/generativelanguage-ga/locations/us-central1/publishers/google/models/gemini-1.5-flash-002` was not found or your project does not have access to it. Please ensure you are using a valid model version. For more information, see: https://cloud.google.com/vertex-ai/generative-ai/docs/learn/model-versions', 'status': 'NOT_FOUND'}}\n"
          ]
        },
        {
          "name": "stderr",
          "output_type": "stream",
          "text": [
            "2025-09-26 04:08:36 - noveum_trace.transport.http_transport - INFO - 📤 EXPORTING TRACE: auto_trace_generate (ID: 0bd4f37b-2962-4839-b1fa-4f6c505e7eca) - 1 spans\n",
            "2025-09-26 04:08:36 - noveum_trace.transport.batch_processor - INFO - 📥 ADDING TRACE TO QUEUE: auto_trace_generate (ID: 0bd4f37b-2962-4839-b1fa-4f6c505e7eca) - 1 spans\n",
            "2025-09-26 04:08:36 - noveum_trace.transport.batch_processor - INFO - ✅ Successfully queued trace 0bd4f37b-2962-4839-b1fa-4f6c505e7eca\n",
            "2025-09-26 04:08:36 - noveum_trace.transport.http_transport - INFO - ✅ Trace 0bd4f37b-2962-4839-b1fa-4f6c505e7eca successfully queued for export\n"
          ]
        },
        {
          "name": "stdout",
          "output_type": "stream",
          "text": [
            "2025-09-26 04:08:36 - INFO - google_genai.models - AFC is enabled with max remote calls: 10.\n",
            "2025-09-26 04:08:38 - ERROR - novaeval.models.base - Error: 404 NOT_FOUND. {'error': {'code': 404, 'message': 'Publisher Model `projects/generativelanguage-ga/locations/us-central1/publishers/google/models/gemini-1.5-flash-002` was not found or your project does not have access to it. Please ensure you are using a valid model version. For more information, see: https://cloud.google.com/vertex-ai/generative-ai/docs/learn/model-versions', 'status': 'NOT_FOUND'}}\n"
          ]
        },
        {
          "name": "stderr",
          "output_type": "stream",
          "text": [
            "2025-09-26 04:08:38 - noveum_trace.transport.http_transport - INFO - 📤 EXPORTING TRACE: auto_trace_generate (ID: e3b930e5-a998-4ea5-93ea-0ac6e3917d57) - 1 spans\n",
            "2025-09-26 04:08:38 - noveum_trace.transport.batch_processor - INFO - 📥 ADDING TRACE TO QUEUE: auto_trace_generate (ID: e3b930e5-a998-4ea5-93ea-0ac6e3917d57) - 1 spans\n",
            "2025-09-26 04:08:38 - noveum_trace.transport.batch_processor - INFO - ✅ Successfully queued trace e3b930e5-a998-4ea5-93ea-0ac6e3917d57\n",
            "2025-09-26 04:08:38 - noveum_trace.transport.http_transport - INFO - ✅ Trace e3b930e5-a998-4ea5-93ea-0ac6e3917d57 successfully queued for export\n"
          ]
        },
        {
          "name": "stdout",
          "output_type": "stream",
          "text": [
            "2025-09-26 04:08:38 - INFO - novaeval.evaluators.agent_evaluator - Saving intermediate results after 1 samples\n",
            "2025-09-26 04:08:38 - INFO - novaeval.evaluators.agent_evaluator - Intermediate results saved to demo_results/tavily_search_results_dataset/agent_evaluation_results.csv\n"
          ]
        },
        {
          "name": "stderr",
          "output_type": "stream",
          "text": [
            "Evaluating samples: 1it [00:03,  3.36s/it]"
          ]
        },
        {
          "name": "stdout",
          "output_type": "stream",
          "text": [
            "2025-09-26 04:08:38 - INFO - google_genai.models - AFC is enabled with max remote calls: 10.\n",
            "2025-09-26 04:08:38 - ERROR - novaeval.models.base - Error: 404 NOT_FOUND. {'error': {'code': 404, 'message': 'Publisher Model `projects/generativelanguage-ga/locations/us-central1/publishers/google/models/gemini-1.5-flash-002` was not found or your project does not have access to it. Please ensure you are using a valid model version. For more information, see: https://cloud.google.com/vertex-ai/generative-ai/docs/learn/model-versions', 'status': 'NOT_FOUND'}}\n"
          ]
        },
        {
          "name": "stderr",
          "output_type": "stream",
          "text": [
            "2025-09-26 04:08:38 - noveum_trace.transport.http_transport - INFO - 📤 EXPORTING TRACE: auto_trace_generate (ID: 1db0f631-5503-49d8-8d00-827128cc5684) - 1 spans\n",
            "2025-09-26 04:08:38 - noveum_trace.transport.batch_processor - INFO - 📥 ADDING TRACE TO QUEUE: auto_trace_generate (ID: 1db0f631-5503-49d8-8d00-827128cc5684) - 1 spans\n",
            "2025-09-26 04:08:38 - noveum_trace.transport.batch_processor - INFO - ✅ Successfully queued trace 1db0f631-5503-49d8-8d00-827128cc5684\n",
            "2025-09-26 04:08:38 - noveum_trace.transport.http_transport - INFO - ✅ Trace 1db0f631-5503-49d8-8d00-827128cc5684 successfully queued for export\n"
          ]
        },
        {
          "name": "stdout",
          "output_type": "stream",
          "text": [
            "2025-09-26 04:08:38 - INFO - google_genai.models - AFC is enabled with max remote calls: 10.\n",
            "2025-09-26 04:08:39 - ERROR - novaeval.models.base - Error: 404 NOT_FOUND. {'error': {'code': 404, 'message': 'Publisher Model `projects/generativelanguage-ga/locations/us-central1/publishers/google/models/gemini-1.5-flash-002` was not found or your project does not have access to it. Please ensure you are using a valid model version. For more information, see: https://cloud.google.com/vertex-ai/generative-ai/docs/learn/model-versions', 'status': 'NOT_FOUND'}}\n"
          ]
        },
        {
          "name": "stderr",
          "output_type": "stream",
          "text": [
            "2025-09-26 04:08:39 - noveum_trace.transport.http_transport - INFO - 📤 EXPORTING TRACE: auto_trace_generate (ID: d7c9332d-2117-4b20-ab26-bc29ed529c0d) - 1 spans\n",
            "2025-09-26 04:08:39 - noveum_trace.transport.batch_processor - INFO - 📥 ADDING TRACE TO QUEUE: auto_trace_generate (ID: d7c9332d-2117-4b20-ab26-bc29ed529c0d) - 1 spans\n",
            "2025-09-26 04:08:39 - noveum_trace.transport.batch_processor - INFO - ✅ Successfully queued trace d7c9332d-2117-4b20-ab26-bc29ed529c0d\n",
            "2025-09-26 04:08:39 - noveum_trace.transport.http_transport - INFO - ✅ Trace d7c9332d-2117-4b20-ab26-bc29ed529c0d successfully queued for export\n"
          ]
        },
        {
          "name": "stdout",
          "output_type": "stream",
          "text": [
            "2025-09-26 04:08:39 - INFO - google_genai.models - AFC is enabled with max remote calls: 10.\n",
            "2025-09-26 04:08:40 - ERROR - novaeval.models.base - Error: 404 NOT_FOUND. {'error': {'code': 404, 'message': 'Publisher Model `projects/generativelanguage-ga/locations/us-central1/publishers/google/models/gemini-1.5-flash-002` was not found or your project does not have access to it. Please ensure you are using a valid model version. For more information, see: https://cloud.google.com/vertex-ai/generative-ai/docs/learn/model-versions', 'status': 'NOT_FOUND'}}\n"
          ]
        },
        {
          "name": "stderr",
          "output_type": "stream",
          "text": [
            "2025-09-26 04:08:40 - noveum_trace.transport.http_transport - INFO - 📤 EXPORTING TRACE: auto_trace_generate (ID: 0263194d-5fc6-4c18-8472-b87f3680453a) - 1 spans\n",
            "2025-09-26 04:08:40 - noveum_trace.transport.batch_processor - INFO - 📥 ADDING TRACE TO QUEUE: auto_trace_generate (ID: 0263194d-5fc6-4c18-8472-b87f3680453a) - 1 spans\n",
            "2025-09-26 04:08:40 - noveum_trace.transport.batch_processor - INFO - ✅ Successfully queued trace 0263194d-5fc6-4c18-8472-b87f3680453a\n",
            "2025-09-26 04:08:40 - noveum_trace.transport.http_transport - INFO - ✅ Trace 0263194d-5fc6-4c18-8472-b87f3680453a successfully queued for export\n"
          ]
        },
        {
          "name": "stdout",
          "output_type": "stream",
          "text": [
            "2025-09-26 04:08:40 - INFO - novaeval.evaluators.agent_evaluator - Saving intermediate results after 2 samples\n",
            "2025-09-26 04:08:40 - INFO - novaeval.evaluators.agent_evaluator - Intermediate results saved to demo_results/tavily_search_results_dataset/agent_evaluation_results.csv\n"
          ]
        },
        {
          "name": "stderr",
          "output_type": "stream",
          "text": [
            "Evaluating samples: 2it [00:05,  2.62s/it]"
          ]
        },
        {
          "name": "stdout",
          "output_type": "stream",
          "text": [
            "2025-09-26 04:08:40 - INFO - google_genai.models - AFC is enabled with max remote calls: 10.\n",
            "2025-09-26 04:08:41 - ERROR - novaeval.models.base - Error: 404 NOT_FOUND. {'error': {'code': 404, 'message': 'Publisher Model `projects/generativelanguage-ga/locations/us-central1/publishers/google/models/gemini-1.5-flash-002` was not found or your project does not have access to it. Please ensure you are using a valid model version. For more information, see: https://cloud.google.com/vertex-ai/generative-ai/docs/learn/model-versions', 'status': 'NOT_FOUND'}}\n"
          ]
        },
        {
          "name": "stderr",
          "output_type": "stream",
          "text": [
            "2025-09-26 04:08:41 - noveum_trace.transport.http_transport - INFO - 📤 EXPORTING TRACE: auto_trace_generate (ID: 1ef3527c-253e-47ca-8ac9-d977cb2c3295) - 1 spans\n",
            "2025-09-26 04:08:41 - noveum_trace.transport.batch_processor - INFO - 📥 ADDING TRACE TO QUEUE: auto_trace_generate (ID: 1ef3527c-253e-47ca-8ac9-d977cb2c3295) - 1 spans\n",
            "2025-09-26 04:08:41 - noveum_trace.transport.batch_processor - INFO - ✅ Successfully queued trace 1ef3527c-253e-47ca-8ac9-d977cb2c3295\n",
            "2025-09-26 04:08:41 - noveum_trace.transport.http_transport - INFO - ✅ Trace 1ef3527c-253e-47ca-8ac9-d977cb2c3295 successfully queued for export\n"
          ]
        },
        {
          "name": "stdout",
          "output_type": "stream",
          "text": [
            "2025-09-26 04:08:41 - INFO - google_genai.models - AFC is enabled with max remote calls: 10.\n",
            "2025-09-26 04:08:41 - ERROR - novaeval.models.base - Error: 404 NOT_FOUND. {'error': {'code': 404, 'message': 'Publisher Model `projects/generativelanguage-ga/locations/us-central1/publishers/google/models/gemini-1.5-flash-002` was not found or your project does not have access to it. Please ensure you are using a valid model version. For more information, see: https://cloud.google.com/vertex-ai/generative-ai/docs/learn/model-versions', 'status': 'NOT_FOUND'}}\n"
          ]
        },
        {
          "name": "stderr",
          "output_type": "stream",
          "text": [
            "2025-09-26 04:08:41 - noveum_trace.transport.http_transport - INFO - 📤 EXPORTING TRACE: auto_trace_generate (ID: 29ff3fcc-ce6f-4c3a-a2fc-5dba9cb4d716) - 1 spans\n",
            "2025-09-26 04:08:41 - noveum_trace.transport.batch_processor - INFO - 📥 ADDING TRACE TO QUEUE: auto_trace_generate (ID: 29ff3fcc-ce6f-4c3a-a2fc-5dba9cb4d716) - 1 spans\n",
            "2025-09-26 04:08:41 - noveum_trace.transport.batch_processor - INFO - ✅ Successfully queued trace 29ff3fcc-ce6f-4c3a-a2fc-5dba9cb4d716\n",
            "2025-09-26 04:08:41 - noveum_trace.transport.http_transport - INFO - ✅ Trace 29ff3fcc-ce6f-4c3a-a2fc-5dba9cb4d716 successfully queued for export\n"
          ]
        },
        {
          "name": "stdout",
          "output_type": "stream",
          "text": [
            "2025-09-26 04:08:41 - INFO - google_genai.models - AFC is enabled with max remote calls: 10.\n",
            "2025-09-26 04:08:43 - ERROR - novaeval.models.base - Error: 404 NOT_FOUND. {'error': {'code': 404, 'message': 'Publisher Model `projects/generativelanguage-ga/locations/us-central1/publishers/google/models/gemini-1.5-flash-002` was not found or your project does not have access to it. Please ensure you are using a valid model version. For more information, see: https://cloud.google.com/vertex-ai/generative-ai/docs/learn/model-versions', 'status': 'NOT_FOUND'}}\n"
          ]
        },
        {
          "name": "stderr",
          "output_type": "stream",
          "text": [
            "2025-09-26 04:08:43 - noveum_trace.transport.http_transport - INFO - 📤 EXPORTING TRACE: auto_trace_generate (ID: 4d143c9c-1e16-4b73-aa00-66529d7ba794) - 1 spans\n",
            "2025-09-26 04:08:43 - noveum_trace.transport.batch_processor - INFO - 📥 ADDING TRACE TO QUEUE: auto_trace_generate (ID: 4d143c9c-1e16-4b73-aa00-66529d7ba794) - 1 spans\n",
            "2025-09-26 04:08:43 - noveum_trace.transport.batch_processor - INFO - ✅ Successfully queued trace 4d143c9c-1e16-4b73-aa00-66529d7ba794\n",
            "2025-09-26 04:08:43 - noveum_trace.transport.http_transport - INFO - ✅ Trace 4d143c9c-1e16-4b73-aa00-66529d7ba794 successfully queued for export\n"
          ]
        },
        {
          "name": "stdout",
          "output_type": "stream",
          "text": [
            "2025-09-26 04:08:43 - INFO - novaeval.evaluators.agent_evaluator - Saving intermediate results after 3 samples\n",
            "2025-09-26 04:08:43 - INFO - novaeval.evaluators.agent_evaluator - Intermediate results saved to demo_results/tavily_search_results_dataset/agent_evaluation_results.csv\n"
          ]
        },
        {
          "name": "stderr",
          "output_type": "stream",
          "text": [
            "Evaluating samples: 3it [00:08,  2.74s/it]"
          ]
        },
        {
          "name": "stdout",
          "output_type": "stream",
          "text": [
            "2025-09-26 04:08:43 - INFO - google_genai.models - AFC is enabled with max remote calls: 10.\n",
            "2025-09-26 04:08:43 - ERROR - novaeval.models.base - Error: 404 NOT_FOUND. {'error': {'code': 404, 'message': 'Publisher Model `projects/generativelanguage-ga/locations/us-central1/publishers/google/models/gemini-1.5-flash-002` was not found or your project does not have access to it. Please ensure you are using a valid model version. For more information, see: https://cloud.google.com/vertex-ai/generative-ai/docs/learn/model-versions', 'status': 'NOT_FOUND'}}\n"
          ]
        },
        {
          "name": "stderr",
          "output_type": "stream",
          "text": [
            "2025-09-26 04:08:43 - noveum_trace.transport.http_transport - INFO - 📤 EXPORTING TRACE: auto_trace_generate (ID: 2a9e4a9e-c1ae-44dd-ae27-4f8ece21644e) - 1 spans\n",
            "2025-09-26 04:08:43 - noveum_trace.transport.batch_processor - INFO - 📥 ADDING TRACE TO QUEUE: auto_trace_generate (ID: 2a9e4a9e-c1ae-44dd-ae27-4f8ece21644e) - 1 spans\n",
            "2025-09-26 04:08:43 - noveum_trace.transport.batch_processor - INFO - ✅ Successfully queued trace 2a9e4a9e-c1ae-44dd-ae27-4f8ece21644e\n",
            "2025-09-26 04:08:43 - noveum_trace.transport.http_transport - INFO - ✅ Trace 2a9e4a9e-c1ae-44dd-ae27-4f8ece21644e successfully queued for export\n"
          ]
        },
        {
          "name": "stdout",
          "output_type": "stream",
          "text": [
            "2025-09-26 04:08:43 - INFO - google_genai.models - AFC is enabled with max remote calls: 10.\n",
            "2025-09-26 04:08:44 - ERROR - novaeval.models.base - Error: 404 NOT_FOUND. {'error': {'code': 404, 'message': 'Publisher Model `projects/generativelanguage-ga/locations/us-central1/publishers/google/models/gemini-1.5-flash-002` was not found or your project does not have access to it. Please ensure you are using a valid model version. For more information, see: https://cloud.google.com/vertex-ai/generative-ai/docs/learn/model-versions', 'status': 'NOT_FOUND'}}\n"
          ]
        },
        {
          "name": "stderr",
          "output_type": "stream",
          "text": [
            "2025-09-26 04:08:44 - noveum_trace.transport.http_transport - INFO - 📤 EXPORTING TRACE: auto_trace_generate (ID: a580e065-0652-41e9-8ed6-109df2242ce2) - 1 spans\n",
            "2025-09-26 04:08:44 - noveum_trace.transport.batch_processor - INFO - 📥 ADDING TRACE TO QUEUE: auto_trace_generate (ID: a580e065-0652-41e9-8ed6-109df2242ce2) - 1 spans\n",
            "2025-09-26 04:08:44 - noveum_trace.transport.batch_processor - INFO - ✅ Successfully queued trace a580e065-0652-41e9-8ed6-109df2242ce2\n",
            "2025-09-26 04:08:44 - noveum_trace.transport.http_transport - INFO - ✅ Trace a580e065-0652-41e9-8ed6-109df2242ce2 successfully queued for export\n"
          ]
        },
        {
          "name": "stdout",
          "output_type": "stream",
          "text": [
            "2025-09-26 04:08:44 - INFO - google_genai.models - AFC is enabled with max remote calls: 10.\n",
            "2025-09-26 04:08:45 - ERROR - novaeval.models.base - Error: 404 NOT_FOUND. {'error': {'code': 404, 'message': 'Publisher Model `projects/generativelanguage-ga/locations/us-central1/publishers/google/models/gemini-1.5-flash-002` was not found or your project does not have access to it. Please ensure you are using a valid model version. For more information, see: https://cloud.google.com/vertex-ai/generative-ai/docs/learn/model-versions', 'status': 'NOT_FOUND'}}\n"
          ]
        },
        {
          "name": "stderr",
          "output_type": "stream",
          "text": [
            "2025-09-26 04:08:45 - noveum_trace.transport.http_transport - INFO - 📤 EXPORTING TRACE: auto_trace_generate (ID: 33d5367e-91e0-449c-84bb-bd19f0df2701) - 1 spans\n",
            "2025-09-26 04:08:45 - noveum_trace.transport.batch_processor - INFO - 📥 ADDING TRACE TO QUEUE: auto_trace_generate (ID: 33d5367e-91e0-449c-84bb-bd19f0df2701) - 1 spans\n",
            "2025-09-26 04:08:45 - noveum_trace.transport.batch_processor - INFO - ✅ Successfully queued trace 33d5367e-91e0-449c-84bb-bd19f0df2701\n",
            "2025-09-26 04:08:45 - noveum_trace.transport.http_transport - INFO - ✅ Trace 33d5367e-91e0-449c-84bb-bd19f0df2701 successfully queued for export\n"
          ]
        },
        {
          "name": "stdout",
          "output_type": "stream",
          "text": [
            "2025-09-26 04:08:45 - INFO - novaeval.evaluators.agent_evaluator - Saving intermediate results after 4 samples\n",
            "2025-09-26 04:08:45 - INFO - novaeval.evaluators.agent_evaluator - Intermediate results saved to demo_results/tavily_search_results_dataset/agent_evaluation_results.csv\n"
          ]
        },
        {
          "name": "stderr",
          "output_type": "stream",
          "text": [
            "Evaluating samples: 4it [00:10,  2.50s/it]"
          ]
        },
        {
          "name": "stdout",
          "output_type": "stream",
          "text": [
            "2025-09-26 04:08:45 - INFO - google_genai.models - AFC is enabled with max remote calls: 10.\n",
            "2025-09-26 04:08:46 - ERROR - novaeval.models.base - Error: 404 NOT_FOUND. {'error': {'code': 404, 'message': 'Publisher Model `projects/generativelanguage-ga/locations/us-central1/publishers/google/models/gemini-1.5-flash-002` was not found or your project does not have access to it. Please ensure you are using a valid model version. For more information, see: https://cloud.google.com/vertex-ai/generative-ai/docs/learn/model-versions', 'status': 'NOT_FOUND'}}\n"
          ]
        },
        {
          "name": "stderr",
          "output_type": "stream",
          "text": [
            "2025-09-26 04:08:46 - noveum_trace.transport.http_transport - INFO - 📤 EXPORTING TRACE: auto_trace_generate (ID: d1503a69-9920-4b15-83fe-a9fa14938eee) - 1 spans\n",
            "2025-09-26 04:08:46 - noveum_trace.transport.batch_processor - INFO - 📥 ADDING TRACE TO QUEUE: auto_trace_generate (ID: d1503a69-9920-4b15-83fe-a9fa14938eee) - 1 spans\n",
            "2025-09-26 04:08:46 - noveum_trace.transport.batch_processor - INFO - ✅ Successfully queued trace d1503a69-9920-4b15-83fe-a9fa14938eee\n",
            "2025-09-26 04:08:46 - noveum_trace.transport.http_transport - INFO - ✅ Trace d1503a69-9920-4b15-83fe-a9fa14938eee successfully queued for export\n"
          ]
        },
        {
          "name": "stdout",
          "output_type": "stream",
          "text": [
            "2025-09-26 04:08:46 - INFO - google_genai.models - AFC is enabled with max remote calls: 10.\n",
            "2025-09-26 04:08:46 - ERROR - novaeval.models.base - Error: 404 NOT_FOUND. {'error': {'code': 404, 'message': 'Publisher Model `projects/generativelanguage-ga/locations/us-central1/publishers/google/models/gemini-1.5-flash-002` was not found or your project does not have access to it. Please ensure you are using a valid model version. For more information, see: https://cloud.google.com/vertex-ai/generative-ai/docs/learn/model-versions', 'status': 'NOT_FOUND'}}\n"
          ]
        },
        {
          "name": "stderr",
          "output_type": "stream",
          "text": [
            "2025-09-26 04:08:46 - noveum_trace.transport.http_transport - INFO - 📤 EXPORTING TRACE: auto_trace_generate (ID: cb709965-19f9-463a-9302-3a141d74731c) - 1 spans\n",
            "2025-09-26 04:08:46 - noveum_trace.transport.batch_processor - INFO - 📥 ADDING TRACE TO QUEUE: auto_trace_generate (ID: cb709965-19f9-463a-9302-3a141d74731c) - 1 spans\n",
            "2025-09-26 04:08:46 - noveum_trace.transport.batch_processor - INFO - ✅ Successfully queued trace cb709965-19f9-463a-9302-3a141d74731c\n",
            "2025-09-26 04:08:46 - noveum_trace.transport.http_transport - INFO - ✅ Trace cb709965-19f9-463a-9302-3a141d74731c successfully queued for export\n"
          ]
        },
        {
          "name": "stdout",
          "output_type": "stream",
          "text": [
            "2025-09-26 04:08:46 - INFO - google_genai.models - AFC is enabled with max remote calls: 10.\n",
            "2025-09-26 04:08:47 - ERROR - novaeval.models.base - Error: 404 NOT_FOUND. {'error': {'code': 404, 'message': 'Publisher Model `projects/generativelanguage-ga/locations/us-central1/publishers/google/models/gemini-1.5-flash-002` was not found or your project does not have access to it. Please ensure you are using a valid model version. For more information, see: https://cloud.google.com/vertex-ai/generative-ai/docs/learn/model-versions', 'status': 'NOT_FOUND'}}\n"
          ]
        },
        {
          "name": "stderr",
          "output_type": "stream",
          "text": [
            "2025-09-26 04:08:47 - noveum_trace.transport.http_transport - INFO - 📤 EXPORTING TRACE: auto_trace_generate (ID: 829ba6d1-559d-42a8-89b5-bb562a1cf86f) - 1 spans\n",
            "2025-09-26 04:08:47 - noveum_trace.transport.batch_processor - INFO - 📥 ADDING TRACE TO QUEUE: auto_trace_generate (ID: 829ba6d1-559d-42a8-89b5-bb562a1cf86f) - 1 spans\n",
            "2025-09-26 04:08:47 - noveum_trace.transport.batch_processor - INFO - ✅ Successfully queued trace 829ba6d1-559d-42a8-89b5-bb562a1cf86f\n",
            "2025-09-26 04:08:47 - noveum_trace.transport.http_transport - INFO - ✅ Trace 829ba6d1-559d-42a8-89b5-bb562a1cf86f successfully queued for export\n"
          ]
        },
        {
          "name": "stdout",
          "output_type": "stream",
          "text": [
            "2025-09-26 04:08:47 - INFO - novaeval.evaluators.agent_evaluator - Saving intermediate results after 5 samples\n",
            "2025-09-26 04:08:47 - INFO - novaeval.evaluators.agent_evaluator - Intermediate results saved to demo_results/tavily_search_results_dataset/agent_evaluation_results.csv\n"
          ]
        },
        {
          "name": "stderr",
          "output_type": "stream",
          "text": [
            "Evaluating samples: 5it [00:13,  2.60s/it]"
          ]
        },
        {
          "name": "stdout",
          "output_type": "stream",
          "text": [
            "2025-09-26 04:08:47 - INFO - google_genai.models - AFC is enabled with max remote calls: 10.\n",
            "2025-09-26 04:08:48 - ERROR - novaeval.models.base - Error: 404 NOT_FOUND. {'error': {'code': 404, 'message': 'Publisher Model `projects/generativelanguage-ga/locations/us-central1/publishers/google/models/gemini-1.5-flash-002` was not found or your project does not have access to it. Please ensure you are using a valid model version. For more information, see: https://cloud.google.com/vertex-ai/generative-ai/docs/learn/model-versions', 'status': 'NOT_FOUND'}}\n"
          ]
        },
        {
          "name": "stderr",
          "output_type": "stream",
          "text": [
            "2025-09-26 04:08:48 - noveum_trace.transport.http_transport - INFO - 📤 EXPORTING TRACE: auto_trace_generate (ID: 728089ed-1372-4259-99b0-72f43ea24a3c) - 1 spans\n",
            "2025-09-26 04:08:48 - noveum_trace.transport.batch_processor - INFO - 📥 ADDING TRACE TO QUEUE: auto_trace_generate (ID: 728089ed-1372-4259-99b0-72f43ea24a3c) - 1 spans\n",
            "2025-09-26 04:08:48 - noveum_trace.transport.batch_processor - INFO - ✅ Successfully queued trace 728089ed-1372-4259-99b0-72f43ea24a3c\n",
            "2025-09-26 04:08:48 - noveum_trace.transport.http_transport - INFO - ✅ Trace 728089ed-1372-4259-99b0-72f43ea24a3c successfully queued for export\n"
          ]
        },
        {
          "name": "stdout",
          "output_type": "stream",
          "text": [
            "2025-09-26 04:08:48 - INFO - google_genai.models - AFC is enabled with max remote calls: 10.\n",
            "2025-09-26 04:08:49 - ERROR - novaeval.models.base - Error: 404 NOT_FOUND. {'error': {'code': 404, 'message': 'Publisher Model `projects/generativelanguage-ga/locations/us-central1/publishers/google/models/gemini-1.5-flash-002` was not found or your project does not have access to it. Please ensure you are using a valid model version. For more information, see: https://cloud.google.com/vertex-ai/generative-ai/docs/learn/model-versions', 'status': 'NOT_FOUND'}}\n"
          ]
        },
        {
          "name": "stderr",
          "output_type": "stream",
          "text": [
            "2025-09-26 04:08:49 - noveum_trace.transport.http_transport - INFO - 📤 EXPORTING TRACE: auto_trace_generate (ID: 0f7ec6f9-decd-4d88-823f-e3fbdc742dab) - 1 spans\n",
            "2025-09-26 04:08:49 - noveum_trace.transport.batch_processor - INFO - 📥 ADDING TRACE TO QUEUE: auto_trace_generate (ID: 0f7ec6f9-decd-4d88-823f-e3fbdc742dab) - 1 spans\n",
            "2025-09-26 04:08:49 - noveum_trace.transport.batch_processor - INFO - ✅ Successfully queued trace 0f7ec6f9-decd-4d88-823f-e3fbdc742dab\n",
            "2025-09-26 04:08:49 - noveum_trace.transport.http_transport - INFO - ✅ Trace 0f7ec6f9-decd-4d88-823f-e3fbdc742dab successfully queued for export\n"
          ]
        },
        {
          "name": "stdout",
          "output_type": "stream",
          "text": [
            "2025-09-26 04:08:49 - INFO - google_genai.models - AFC is enabled with max remote calls: 10.\n",
            "2025-09-26 04:08:50 - ERROR - novaeval.models.base - Error: 404 NOT_FOUND. {'error': {'code': 404, 'message': 'Publisher Model `projects/generativelanguage-ga/locations/us-central1/publishers/google/models/gemini-1.5-flash-002` was not found or your project does not have access to it. Please ensure you are using a valid model version. For more information, see: https://cloud.google.com/vertex-ai/generative-ai/docs/learn/model-versions', 'status': 'NOT_FOUND'}}\n"
          ]
        },
        {
          "name": "stderr",
          "output_type": "stream",
          "text": [
            "2025-09-26 04:08:50 - noveum_trace.transport.http_transport - INFO - 📤 EXPORTING TRACE: auto_trace_generate (ID: 5bf122fa-af04-440a-86f4-a6202e9fb248) - 1 spans\n",
            "2025-09-26 04:08:50 - noveum_trace.transport.batch_processor - INFO - 📥 ADDING TRACE TO QUEUE: auto_trace_generate (ID: 5bf122fa-af04-440a-86f4-a6202e9fb248) - 1 spans\n",
            "2025-09-26 04:08:50 - noveum_trace.transport.batch_processor - INFO - ✅ Successfully queued trace 5bf122fa-af04-440a-86f4-a6202e9fb248\n",
            "2025-09-26 04:08:50 - noveum_trace.transport.http_transport - INFO - ✅ Trace 5bf122fa-af04-440a-86f4-a6202e9fb248 successfully queued for export\n"
          ]
        },
        {
          "name": "stdout",
          "output_type": "stream",
          "text": [
            "2025-09-26 04:08:50 - INFO - novaeval.evaluators.agent_evaluator - Saving intermediate results after 6 samples\n",
            "2025-09-26 04:08:50 - INFO - novaeval.evaluators.agent_evaluator - Intermediate results saved to demo_results/tavily_search_results_dataset/agent_evaluation_results.csv\n"
          ]
        },
        {
          "name": "stderr",
          "output_type": "stream",
          "text": [
            "Evaluating samples: 6it [00:15,  2.45s/it]"
          ]
        },
        {
          "name": "stdout",
          "output_type": "stream",
          "text": [
            "2025-09-26 04:08:50 - INFO - google_genai.models - AFC is enabled with max remote calls: 10.\n",
            "2025-09-26 04:08:51 - ERROR - novaeval.models.base - Error: 404 NOT_FOUND. {'error': {'code': 404, 'message': 'Publisher Model `projects/generativelanguage-ga/locations/us-central1/publishers/google/models/gemini-1.5-flash-002` was not found or your project does not have access to it. Please ensure you are using a valid model version. For more information, see: https://cloud.google.com/vertex-ai/generative-ai/docs/learn/model-versions', 'status': 'NOT_FOUND'}}\n"
          ]
        },
        {
          "name": "stderr",
          "output_type": "stream",
          "text": [
            "2025-09-26 04:08:51 - noveum_trace.transport.http_transport - INFO - 📤 EXPORTING TRACE: auto_trace_generate (ID: b70d2991-5328-4d29-8590-1bdae85fca99) - 1 spans\n",
            "2025-09-26 04:08:51 - noveum_trace.transport.batch_processor - INFO - 📥 ADDING TRACE TO QUEUE: auto_trace_generate (ID: b70d2991-5328-4d29-8590-1bdae85fca99) - 1 spans\n",
            "2025-09-26 04:08:51 - noveum_trace.transport.batch_processor - INFO - ✅ Successfully queued trace b70d2991-5328-4d29-8590-1bdae85fca99\n",
            "2025-09-26 04:08:51 - noveum_trace.transport.http_transport - INFO - ✅ Trace b70d2991-5328-4d29-8590-1bdae85fca99 successfully queued for export\n"
          ]
        },
        {
          "name": "stdout",
          "output_type": "stream",
          "text": [
            "2025-09-26 04:08:51 - INFO - google_genai.models - AFC is enabled with max remote calls: 10.\n",
            "2025-09-26 04:08:51 - ERROR - novaeval.models.base - Error: 404 NOT_FOUND. {'error': {'code': 404, 'message': 'Publisher Model `projects/generativelanguage-ga/locations/us-central1/publishers/google/models/gemini-1.5-flash-002` was not found or your project does not have access to it. Please ensure you are using a valid model version. For more information, see: https://cloud.google.com/vertex-ai/generative-ai/docs/learn/model-versions', 'status': 'NOT_FOUND'}}\n"
          ]
        },
        {
          "name": "stderr",
          "output_type": "stream",
          "text": [
            "2025-09-26 04:08:51 - noveum_trace.transport.http_transport - INFO - 📤 EXPORTING TRACE: auto_trace_generate (ID: b3c7038c-58c0-41c4-a6b6-e42a09f2d3ba) - 1 spans\n",
            "2025-09-26 04:08:51 - noveum_trace.transport.batch_processor - INFO - 📥 ADDING TRACE TO QUEUE: auto_trace_generate (ID: b3c7038c-58c0-41c4-a6b6-e42a09f2d3ba) - 1 spans\n",
            "2025-09-26 04:08:51 - noveum_trace.transport.batch_processor - INFO - ✅ Successfully queued trace b3c7038c-58c0-41c4-a6b6-e42a09f2d3ba\n",
            "2025-09-26 04:08:51 - noveum_trace.transport.http_transport - INFO - ✅ Trace b3c7038c-58c0-41c4-a6b6-e42a09f2d3ba successfully queued for export\n"
          ]
        },
        {
          "name": "stdout",
          "output_type": "stream",
          "text": [
            "2025-09-26 04:08:51 - INFO - google_genai.models - AFC is enabled with max remote calls: 10.\n",
            "2025-09-26 04:08:52 - ERROR - novaeval.models.base - Error: 404 NOT_FOUND. {'error': {'code': 404, 'message': 'Publisher Model `projects/generativelanguage-ga/locations/us-central1/publishers/google/models/gemini-1.5-flash-002` was not found or your project does not have access to it. Please ensure you are using a valid model version. For more information, see: https://cloud.google.com/vertex-ai/generative-ai/docs/learn/model-versions', 'status': 'NOT_FOUND'}}\n"
          ]
        },
        {
          "name": "stderr",
          "output_type": "stream",
          "text": [
            "2025-09-26 04:08:52 - noveum_trace.transport.http_transport - INFO - 📤 EXPORTING TRACE: auto_trace_generate (ID: b4680ad3-855d-4f4f-a6b7-859582e3b6d0) - 1 spans\n",
            "2025-09-26 04:08:52 - noveum_trace.transport.batch_processor - INFO - 📥 ADDING TRACE TO QUEUE: auto_trace_generate (ID: b4680ad3-855d-4f4f-a6b7-859582e3b6d0) - 1 spans\n",
            "2025-09-26 04:08:52 - noveum_trace.transport.batch_processor - INFO - ✅ Successfully queued trace b4680ad3-855d-4f4f-a6b7-859582e3b6d0\n",
            "2025-09-26 04:08:52 - noveum_trace.transport.http_transport - INFO - ✅ Trace b4680ad3-855d-4f4f-a6b7-859582e3b6d0 successfully queued for export\n"
          ]
        },
        {
          "name": "stdout",
          "output_type": "stream",
          "text": [
            "2025-09-26 04:08:52 - INFO - novaeval.evaluators.agent_evaluator - Saving intermediate results after 7 samples\n",
            "2025-09-26 04:08:52 - INFO - novaeval.evaluators.agent_evaluator - Intermediate results saved to demo_results/tavily_search_results_dataset/agent_evaluation_results.csv\n"
          ]
        },
        {
          "name": "stderr",
          "output_type": "stream",
          "text": [
            "Evaluating samples: 7it [00:18,  2.58s/it]"
          ]
        },
        {
          "name": "stdout",
          "output_type": "stream",
          "text": [
            "2025-09-26 04:08:52 - INFO - google_genai.models - AFC is enabled with max remote calls: 10.\n",
            "2025-09-26 04:08:53 - ERROR - novaeval.models.base - Error: 404 NOT_FOUND. {'error': {'code': 404, 'message': 'Publisher Model `projects/generativelanguage-ga/locations/us-central1/publishers/google/models/gemini-1.5-flash-002` was not found or your project does not have access to it. Please ensure you are using a valid model version. For more information, see: https://cloud.google.com/vertex-ai/generative-ai/docs/learn/model-versions', 'status': 'NOT_FOUND'}}\n"
          ]
        },
        {
          "name": "stderr",
          "output_type": "stream",
          "text": [
            "2025-09-26 04:08:53 - noveum_trace.transport.http_transport - INFO - 📤 EXPORTING TRACE: auto_trace_generate (ID: 34b2639b-da4f-42d1-85d9-37bb9361faa0) - 1 spans\n",
            "2025-09-26 04:08:53 - noveum_trace.transport.batch_processor - INFO - 📥 ADDING TRACE TO QUEUE: auto_trace_generate (ID: 34b2639b-da4f-42d1-85d9-37bb9361faa0) - 1 spans\n",
            "2025-09-26 04:08:53 - noveum_trace.transport.batch_processor - INFO - ✅ Successfully queued trace 34b2639b-da4f-42d1-85d9-37bb9361faa0\n",
            "2025-09-26 04:08:53 - noveum_trace.transport.http_transport - INFO - ✅ Trace 34b2639b-da4f-42d1-85d9-37bb9361faa0 successfully queued for export\n"
          ]
        },
        {
          "name": "stdout",
          "output_type": "stream",
          "text": [
            "2025-09-26 04:08:53 - INFO - google_genai.models - AFC is enabled with max remote calls: 10.\n",
            "2025-09-26 04:08:54 - ERROR - novaeval.models.base - Error: 404 NOT_FOUND. {'error': {'code': 404, 'message': 'Publisher Model `projects/generativelanguage-ga/locations/us-central1/publishers/google/models/gemini-1.5-flash-002` was not found or your project does not have access to it. Please ensure you are using a valid model version. For more information, see: https://cloud.google.com/vertex-ai/generative-ai/docs/learn/model-versions', 'status': 'NOT_FOUND'}}\n"
          ]
        },
        {
          "name": "stderr",
          "output_type": "stream",
          "text": [
            "2025-09-26 04:08:54 - noveum_trace.transport.http_transport - INFO - 📤 EXPORTING TRACE: auto_trace_generate (ID: 6ff77005-1f0e-466d-9c31-e62e5c5f084b) - 1 spans\n",
            "2025-09-26 04:08:54 - noveum_trace.transport.batch_processor - INFO - 📥 ADDING TRACE TO QUEUE: auto_trace_generate (ID: 6ff77005-1f0e-466d-9c31-e62e5c5f084b) - 1 spans\n",
            "2025-09-26 04:08:54 - noveum_trace.transport.batch_processor - INFO - ✅ Successfully queued trace 6ff77005-1f0e-466d-9c31-e62e5c5f084b\n",
            "2025-09-26 04:08:54 - noveum_trace.transport.http_transport - INFO - ✅ Trace 6ff77005-1f0e-466d-9c31-e62e5c5f084b successfully queued for export\n"
          ]
        },
        {
          "name": "stdout",
          "output_type": "stream",
          "text": [
            "2025-09-26 04:08:54 - INFO - google_genai.models - AFC is enabled with max remote calls: 10.\n",
            "2025-09-26 04:08:55 - ERROR - novaeval.models.base - Error: 404 NOT_FOUND. {'error': {'code': 404, 'message': 'Publisher Model `projects/generativelanguage-ga/locations/us-central1/publishers/google/models/gemini-1.5-flash-002` was not found or your project does not have access to it. Please ensure you are using a valid model version. For more information, see: https://cloud.google.com/vertex-ai/generative-ai/docs/learn/model-versions', 'status': 'NOT_FOUND'}}\n"
          ]
        },
        {
          "name": "stderr",
          "output_type": "stream",
          "text": [
            "2025-09-26 04:08:55 - noveum_trace.transport.http_transport - INFO - 📤 EXPORTING TRACE: auto_trace_generate (ID: 6a88463e-1e30-42c7-90bf-c43a416144e6) - 1 spans\n",
            "2025-09-26 04:08:55 - noveum_trace.transport.batch_processor - INFO - 📥 ADDING TRACE TO QUEUE: auto_trace_generate (ID: 6a88463e-1e30-42c7-90bf-c43a416144e6) - 1 spans\n",
            "2025-09-26 04:08:55 - noveum_trace.transport.batch_processor - INFO - ✅ Successfully queued trace 6a88463e-1e30-42c7-90bf-c43a416144e6\n",
            "2025-09-26 04:08:55 - noveum_trace.transport.http_transport - INFO - ✅ Trace 6a88463e-1e30-42c7-90bf-c43a416144e6 successfully queued for export\n"
          ]
        },
        {
          "name": "stdout",
          "output_type": "stream",
          "text": [
            "2025-09-26 04:08:55 - INFO - novaeval.evaluators.agent_evaluator - Saving intermediate results after 8 samples\n",
            "2025-09-26 04:08:55 - INFO - novaeval.evaluators.agent_evaluator - Intermediate results saved to demo_results/tavily_search_results_dataset/agent_evaluation_results.csv\n"
          ]
        },
        {
          "name": "stderr",
          "output_type": "stream",
          "text": [
            "Evaluating samples: 8it [00:20,  2.44s/it]"
          ]
        },
        {
          "name": "stdout",
          "output_type": "stream",
          "text": [
            "2025-09-26 04:08:55 - INFO - google_genai.models - AFC is enabled with max remote calls: 10.\n",
            "2025-09-26 04:08:56 - ERROR - novaeval.models.base - Error: 404 NOT_FOUND. {'error': {'code': 404, 'message': 'Publisher Model `projects/generativelanguage-ga/locations/us-central1/publishers/google/models/gemini-1.5-flash-002` was not found or your project does not have access to it. Please ensure you are using a valid model version. For more information, see: https://cloud.google.com/vertex-ai/generative-ai/docs/learn/model-versions', 'status': 'NOT_FOUND'}}\n"
          ]
        },
        {
          "name": "stderr",
          "output_type": "stream",
          "text": [
            "2025-09-26 04:08:56 - noveum_trace.transport.http_transport - INFO - 📤 EXPORTING TRACE: auto_trace_generate (ID: ec91201a-a638-4269-b62e-a989264e3285) - 1 spans\n",
            "2025-09-26 04:08:56 - noveum_trace.transport.batch_processor - INFO - 📥 ADDING TRACE TO QUEUE: auto_trace_generate (ID: ec91201a-a638-4269-b62e-a989264e3285) - 1 spans\n",
            "2025-09-26 04:08:56 - noveum_trace.transport.batch_processor - INFO - ✅ Successfully queued trace ec91201a-a638-4269-b62e-a989264e3285\n",
            "2025-09-26 04:08:56 - noveum_trace.transport.http_transport - INFO - ✅ Trace ec91201a-a638-4269-b62e-a989264e3285 successfully queued for export\n"
          ]
        },
        {
          "name": "stdout",
          "output_type": "stream",
          "text": [
            "2025-09-26 04:08:56 - INFO - google_genai.models - AFC is enabled with max remote calls: 10.\n",
            "2025-09-26 04:08:56 - ERROR - novaeval.models.base - Error: 404 NOT_FOUND. {'error': {'code': 404, 'message': 'Publisher Model `projects/generativelanguage-ga/locations/us-central1/publishers/google/models/gemini-1.5-flash-002` was not found or your project does not have access to it. Please ensure you are using a valid model version. For more information, see: https://cloud.google.com/vertex-ai/generative-ai/docs/learn/model-versions', 'status': 'NOT_FOUND'}}\n"
          ]
        },
        {
          "name": "stderr",
          "output_type": "stream",
          "text": [
            "2025-09-26 04:08:56 - noveum_trace.transport.http_transport - INFO - 📤 EXPORTING TRACE: auto_trace_generate (ID: 2894a9b9-5b7c-4034-8291-45c050b6552e) - 1 spans\n",
            "2025-09-26 04:08:56 - noveum_trace.transport.batch_processor - INFO - 📥 ADDING TRACE TO QUEUE: auto_trace_generate (ID: 2894a9b9-5b7c-4034-8291-45c050b6552e) - 1 spans\n",
            "2025-09-26 04:08:56 - noveum_trace.transport.batch_processor - INFO - ✅ Successfully queued trace 2894a9b9-5b7c-4034-8291-45c050b6552e\n",
            "2025-09-26 04:08:56 - noveum_trace.transport.http_transport - INFO - ✅ Trace 2894a9b9-5b7c-4034-8291-45c050b6552e successfully queued for export\n"
          ]
        },
        {
          "name": "stdout",
          "output_type": "stream",
          "text": [
            "2025-09-26 04:08:56 - INFO - google_genai.models - AFC is enabled with max remote calls: 10.\n",
            "2025-09-26 04:08:58 - ERROR - novaeval.models.base - Error: 404 NOT_FOUND. {'error': {'code': 404, 'message': 'Publisher Model `projects/generativelanguage-ga/locations/us-central1/publishers/google/models/gemini-1.5-flash-002` was not found or your project does not have access to it. Please ensure you are using a valid model version. For more information, see: https://cloud.google.com/vertex-ai/generative-ai/docs/learn/model-versions', 'status': 'NOT_FOUND'}}\n"
          ]
        },
        {
          "name": "stderr",
          "output_type": "stream",
          "text": [
            "2025-09-26 04:08:58 - noveum_trace.transport.http_transport - INFO - 📤 EXPORTING TRACE: auto_trace_generate (ID: 2cf5f7d1-4fbc-445f-b19a-2fee17b7b4c5) - 1 spans\n",
            "2025-09-26 04:08:58 - noveum_trace.transport.batch_processor - INFO - 📥 ADDING TRACE TO QUEUE: auto_trace_generate (ID: 2cf5f7d1-4fbc-445f-b19a-2fee17b7b4c5) - 1 spans\n",
            "2025-09-26 04:08:58 - noveum_trace.transport.batch_processor - INFO - ✅ Successfully queued trace 2cf5f7d1-4fbc-445f-b19a-2fee17b7b4c5\n",
            "2025-09-26 04:08:58 - noveum_trace.transport.http_transport - INFO - ✅ Trace 2cf5f7d1-4fbc-445f-b19a-2fee17b7b4c5 successfully queued for export\n"
          ]
        },
        {
          "name": "stdout",
          "output_type": "stream",
          "text": [
            "2025-09-26 04:08:58 - INFO - novaeval.evaluators.agent_evaluator - Saving intermediate results after 9 samples\n",
            "2025-09-26 04:08:58 - INFO - novaeval.evaluators.agent_evaluator - Intermediate results saved to demo_results/tavily_search_results_dataset/agent_evaluation_results.csv\n"
          ]
        },
        {
          "name": "stderr",
          "output_type": "stream",
          "text": [
            "Evaluating samples: 9it [00:23,  2.61s/it]"
          ]
        },
        {
          "name": "stdout",
          "output_type": "stream",
          "text": [
            "2025-09-26 04:08:58 - INFO - google_genai.models - AFC is enabled with max remote calls: 10.\n",
            "2025-09-26 04:08:58 - ERROR - novaeval.models.base - Error: 404 NOT_FOUND. {'error': {'code': 404, 'message': 'Publisher Model `projects/generativelanguage-ga/locations/us-central1/publishers/google/models/gemini-1.5-flash-002` was not found or your project does not have access to it. Please ensure you are using a valid model version. For more information, see: https://cloud.google.com/vertex-ai/generative-ai/docs/learn/model-versions', 'status': 'NOT_FOUND'}}\n"
          ]
        },
        {
          "name": "stderr",
          "output_type": "stream",
          "text": [
            "2025-09-26 04:08:58 - noveum_trace.transport.http_transport - INFO - 📤 EXPORTING TRACE: auto_trace_generate (ID: 77e54626-6d61-44f9-b0e7-701b7568604a) - 1 spans\n",
            "2025-09-26 04:08:58 - noveum_trace.transport.batch_processor - INFO - 📥 ADDING TRACE TO QUEUE: auto_trace_generate (ID: 77e54626-6d61-44f9-b0e7-701b7568604a) - 1 spans\n",
            "2025-09-26 04:08:58 - noveum_trace.transport.batch_processor - INFO - ✅ Successfully queued trace 77e54626-6d61-44f9-b0e7-701b7568604a\n",
            "2025-09-26 04:08:58 - noveum_trace.transport.http_transport - INFO - ✅ Trace 77e54626-6d61-44f9-b0e7-701b7568604a successfully queued for export\n"
          ]
        },
        {
          "name": "stdout",
          "output_type": "stream",
          "text": [
            "2025-09-26 04:08:58 - INFO - google_genai.models - AFC is enabled with max remote calls: 10.\n",
            "2025-09-26 04:08:59 - ERROR - novaeval.models.base - Error: 404 NOT_FOUND. {'error': {'code': 404, 'message': 'Publisher Model `projects/generativelanguage-ga/locations/us-central1/publishers/google/models/gemini-1.5-flash-002` was not found or your project does not have access to it. Please ensure you are using a valid model version. For more information, see: https://cloud.google.com/vertex-ai/generative-ai/docs/learn/model-versions', 'status': 'NOT_FOUND'}}\n"
          ]
        },
        {
          "name": "stderr",
          "output_type": "stream",
          "text": [
            "2025-09-26 04:08:59 - noveum_trace.transport.http_transport - INFO - 📤 EXPORTING TRACE: auto_trace_generate (ID: 4c3196b2-303d-4fbb-a5d7-b0b1ed9f1595) - 1 spans\n",
            "2025-09-26 04:08:59 - noveum_trace.transport.batch_processor - INFO - 📥 ADDING TRACE TO QUEUE: auto_trace_generate (ID: 4c3196b2-303d-4fbb-a5d7-b0b1ed9f1595) - 1 spans\n",
            "2025-09-26 04:08:59 - noveum_trace.transport.batch_processor - INFO - ✅ Successfully queued trace 4c3196b2-303d-4fbb-a5d7-b0b1ed9f1595\n",
            "2025-09-26 04:08:59 - noveum_trace.transport.http_transport - INFO - ✅ Trace 4c3196b2-303d-4fbb-a5d7-b0b1ed9f1595 successfully queued for export\n"
          ]
        },
        {
          "name": "stdout",
          "output_type": "stream",
          "text": [
            "2025-09-26 04:08:59 - INFO - google_genai.models - AFC is enabled with max remote calls: 10.\n",
            "2025-09-26 04:09:00 - ERROR - novaeval.models.base - Error: 404 NOT_FOUND. {'error': {'code': 404, 'message': 'Publisher Model `projects/generativelanguage-ga/locations/us-central1/publishers/google/models/gemini-1.5-flash-002` was not found or your project does not have access to it. Please ensure you are using a valid model version. For more information, see: https://cloud.google.com/vertex-ai/generative-ai/docs/learn/model-versions', 'status': 'NOT_FOUND'}}\n"
          ]
        },
        {
          "name": "stderr",
          "output_type": "stream",
          "text": [
            "2025-09-26 04:09:00 - noveum_trace.transport.http_transport - INFO - 📤 EXPORTING TRACE: auto_trace_generate (ID: 05d3f2de-e968-478f-9b3e-883bb391fcf5) - 1 spans\n",
            "2025-09-26 04:09:00 - noveum_trace.transport.batch_processor - INFO - 📥 ADDING TRACE TO QUEUE: auto_trace_generate (ID: 05d3f2de-e968-478f-9b3e-883bb391fcf5) - 1 spans\n",
            "2025-09-26 04:09:00 - noveum_trace.transport.batch_processor - INFO - ✅ Successfully queued trace 05d3f2de-e968-478f-9b3e-883bb391fcf5\n",
            "2025-09-26 04:09:00 - noveum_trace.transport.http_transport - INFO - ✅ Trace 05d3f2de-e968-478f-9b3e-883bb391fcf5 successfully queued for export\n"
          ]
        },
        {
          "name": "stdout",
          "output_type": "stream",
          "text": [
            "2025-09-26 04:09:00 - INFO - novaeval.evaluators.agent_evaluator - Saving intermediate results after 10 samples\n",
            "2025-09-26 04:09:00 - INFO - novaeval.evaluators.agent_evaluator - Intermediate results saved to demo_results/tavily_search_results_dataset/agent_evaluation_results.csv\n"
          ]
        },
        {
          "name": "stderr",
          "output_type": "stream",
          "text": [
            "Evaluating samples: 10it [00:25,  2.47s/it]"
          ]
        },
        {
          "name": "stdout",
          "output_type": "stream",
          "text": [
            "2025-09-26 04:09:00 - INFO - google_genai.models - AFC is enabled with max remote calls: 10.\n",
            "2025-09-26 04:09:01 - ERROR - novaeval.models.base - Error: 404 NOT_FOUND. {'error': {'code': 404, 'message': 'Publisher Model `projects/generativelanguage-ga/locations/us-central1/publishers/google/models/gemini-1.5-flash-002` was not found or your project does not have access to it. Please ensure you are using a valid model version. For more information, see: https://cloud.google.com/vertex-ai/generative-ai/docs/learn/model-versions', 'status': 'NOT_FOUND'}}\n"
          ]
        },
        {
          "name": "stderr",
          "output_type": "stream",
          "text": [
            "2025-09-26 04:09:01 - noveum_trace.transport.http_transport - INFO - 📤 EXPORTING TRACE: auto_trace_generate (ID: cbbf9667-50c2-43d7-b924-613daa32f3b5) - 1 spans\n",
            "2025-09-26 04:09:01 - noveum_trace.transport.batch_processor - INFO - 📥 ADDING TRACE TO QUEUE: auto_trace_generate (ID: cbbf9667-50c2-43d7-b924-613daa32f3b5) - 1 spans\n",
            "2025-09-26 04:09:01 - noveum_trace.transport.batch_processor - INFO - ✅ Successfully queued trace cbbf9667-50c2-43d7-b924-613daa32f3b5\n",
            "2025-09-26 04:09:01 - noveum_trace.transport.http_transport - INFO - ✅ Trace cbbf9667-50c2-43d7-b924-613daa32f3b5 successfully queued for export\n"
          ]
        },
        {
          "name": "stdout",
          "output_type": "stream",
          "text": [
            "2025-09-26 04:09:01 - INFO - google_genai.models - AFC is enabled with max remote calls: 10.\n",
            "2025-09-26 04:09:01 - ERROR - novaeval.models.base - Error: 404 NOT_FOUND. {'error': {'code': 404, 'message': 'Publisher Model `projects/generativelanguage-ga/locations/us-central1/publishers/google/models/gemini-1.5-flash-002` was not found or your project does not have access to it. Please ensure you are using a valid model version. For more information, see: https://cloud.google.com/vertex-ai/generative-ai/docs/learn/model-versions', 'status': 'NOT_FOUND'}}\n"
          ]
        },
        {
          "name": "stderr",
          "output_type": "stream",
          "text": [
            "2025-09-26 04:09:01 - noveum_trace.transport.http_transport - INFO - 📤 EXPORTING TRACE: auto_trace_generate (ID: cf9ae259-2083-4223-8a7a-c8ca475ba8c1) - 1 spans\n",
            "2025-09-26 04:09:01 - noveum_trace.transport.batch_processor - INFO - 📥 ADDING TRACE TO QUEUE: auto_trace_generate (ID: cf9ae259-2083-4223-8a7a-c8ca475ba8c1) - 1 spans\n",
            "2025-09-26 04:09:01 - noveum_trace.transport.batch_processor - INFO - ✅ Successfully queued trace cf9ae259-2083-4223-8a7a-c8ca475ba8c1\n",
            "2025-09-26 04:09:01 - noveum_trace.transport.http_transport - INFO - ✅ Trace cf9ae259-2083-4223-8a7a-c8ca475ba8c1 successfully queued for export\n"
          ]
        },
        {
          "name": "stdout",
          "output_type": "stream",
          "text": [
            "2025-09-26 04:09:01 - INFO - google_genai.models - AFC is enabled with max remote calls: 10.\n",
            "2025-09-26 04:09:03 - ERROR - novaeval.models.base - Error: 404 NOT_FOUND. {'error': {'code': 404, 'message': 'Publisher Model `projects/generativelanguage-ga/locations/us-central1/publishers/google/models/gemini-1.5-flash-002` was not found or your project does not have access to it. Please ensure you are using a valid model version. For more information, see: https://cloud.google.com/vertex-ai/generative-ai/docs/learn/model-versions', 'status': 'NOT_FOUND'}}\n"
          ]
        },
        {
          "name": "stderr",
          "output_type": "stream",
          "text": [
            "2025-09-26 04:09:03 - noveum_trace.transport.http_transport - INFO - 📤 EXPORTING TRACE: auto_trace_generate (ID: f8b0ac3c-d682-49c1-8742-cf7f92126da3) - 1 spans\n",
            "2025-09-26 04:09:03 - noveum_trace.transport.batch_processor - INFO - 📥 ADDING TRACE TO QUEUE: auto_trace_generate (ID: f8b0ac3c-d682-49c1-8742-cf7f92126da3) - 1 spans\n",
            "2025-09-26 04:09:03 - noveum_trace.transport.batch_processor - INFO - ✅ Successfully queued trace f8b0ac3c-d682-49c1-8742-cf7f92126da3\n",
            "2025-09-26 04:09:03 - noveum_trace.transport.http_transport - INFO - ✅ Trace f8b0ac3c-d682-49c1-8742-cf7f92126da3 successfully queued for export\n"
          ]
        },
        {
          "name": "stdout",
          "output_type": "stream",
          "text": [
            "2025-09-26 04:09:03 - INFO - novaeval.evaluators.agent_evaluator - Saving intermediate results after 11 samples\n",
            "2025-09-26 04:09:03 - INFO - novaeval.evaluators.agent_evaluator - Intermediate results saved to demo_results/tavily_search_results_dataset/agent_evaluation_results.csv\n"
          ]
        },
        {
          "name": "stderr",
          "output_type": "stream",
          "text": [
            "Evaluating samples: 11it [00:28,  2.62s/it]"
          ]
        },
        {
          "name": "stdout",
          "output_type": "stream",
          "text": [
            "2025-09-26 04:09:03 - INFO - google_genai.models - AFC is enabled with max remote calls: 10.\n",
            "2025-09-26 04:09:03 - ERROR - novaeval.models.base - Error: 404 NOT_FOUND. {'error': {'code': 404, 'message': 'Publisher Model `projects/generativelanguage-ga/locations/us-central1/publishers/google/models/gemini-1.5-flash-002` was not found or your project does not have access to it. Please ensure you are using a valid model version. For more information, see: https://cloud.google.com/vertex-ai/generative-ai/docs/learn/model-versions', 'status': 'NOT_FOUND'}}\n"
          ]
        },
        {
          "name": "stderr",
          "output_type": "stream",
          "text": [
            "2025-09-26 04:09:03 - noveum_trace.transport.http_transport - INFO - 📤 EXPORTING TRACE: auto_trace_generate (ID: eaebde51-048c-4884-a9b8-cd349e3af4e4) - 1 spans\n",
            "2025-09-26 04:09:03 - noveum_trace.transport.batch_processor - INFO - 📥 ADDING TRACE TO QUEUE: auto_trace_generate (ID: eaebde51-048c-4884-a9b8-cd349e3af4e4) - 1 spans\n",
            "2025-09-26 04:09:03 - noveum_trace.transport.batch_processor - INFO - ✅ Successfully queued trace eaebde51-048c-4884-a9b8-cd349e3af4e4\n",
            "2025-09-26 04:09:03 - noveum_trace.transport.http_transport - INFO - ✅ Trace eaebde51-048c-4884-a9b8-cd349e3af4e4 successfully queued for export\n"
          ]
        },
        {
          "name": "stdout",
          "output_type": "stream",
          "text": [
            "2025-09-26 04:09:03 - INFO - google_genai.models - AFC is enabled with max remote calls: 10.\n",
            "2025-09-26 04:09:04 - ERROR - novaeval.models.base - Error: 404 NOT_FOUND. {'error': {'code': 404, 'message': 'Publisher Model `projects/generativelanguage-ga/locations/us-central1/publishers/google/models/gemini-1.5-flash-002` was not found or your project does not have access to it. Please ensure you are using a valid model version. For more information, see: https://cloud.google.com/vertex-ai/generative-ai/docs/learn/model-versions', 'status': 'NOT_FOUND'}}\n"
          ]
        },
        {
          "name": "stderr",
          "output_type": "stream",
          "text": [
            "2025-09-26 04:09:04 - noveum_trace.transport.http_transport - INFO - 📤 EXPORTING TRACE: auto_trace_generate (ID: 927dc039-de61-4584-a92e-a778d5c8c590) - 1 spans\n",
            "2025-09-26 04:09:04 - noveum_trace.transport.batch_processor - INFO - 📥 ADDING TRACE TO QUEUE: auto_trace_generate (ID: 927dc039-de61-4584-a92e-a778d5c8c590) - 1 spans\n",
            "2025-09-26 04:09:04 - noveum_trace.transport.batch_processor - INFO - ✅ Successfully queued trace 927dc039-de61-4584-a92e-a778d5c8c590\n",
            "2025-09-26 04:09:04 - noveum_trace.transport.http_transport - INFO - ✅ Trace 927dc039-de61-4584-a92e-a778d5c8c590 successfully queued for export\n"
          ]
        },
        {
          "name": "stdout",
          "output_type": "stream",
          "text": [
            "2025-09-26 04:09:04 - INFO - google_genai.models - AFC is enabled with max remote calls: 10.\n",
            "2025-09-26 04:09:05 - ERROR - novaeval.models.base - Error: 404 NOT_FOUND. {'error': {'code': 404, 'message': 'Publisher Model `projects/generativelanguage-ga/locations/us-central1/publishers/google/models/gemini-1.5-flash-002` was not found or your project does not have access to it. Please ensure you are using a valid model version. For more information, see: https://cloud.google.com/vertex-ai/generative-ai/docs/learn/model-versions', 'status': 'NOT_FOUND'}}\n"
          ]
        },
        {
          "name": "stderr",
          "output_type": "stream",
          "text": [
            "2025-09-26 04:09:05 - noveum_trace.transport.http_transport - INFO - 📤 EXPORTING TRACE: auto_trace_generate (ID: 1a263ed0-864a-4954-9e34-37f095af0c2a) - 1 spans\n",
            "2025-09-26 04:09:05 - noveum_trace.transport.batch_processor - INFO - 📥 ADDING TRACE TO QUEUE: auto_trace_generate (ID: 1a263ed0-864a-4954-9e34-37f095af0c2a) - 1 spans\n",
            "2025-09-26 04:09:05 - noveum_trace.transport.batch_processor - INFO - ✅ Successfully queued trace 1a263ed0-864a-4954-9e34-37f095af0c2a\n",
            "2025-09-26 04:09:05 - noveum_trace.transport.http_transport - INFO - ✅ Trace 1a263ed0-864a-4954-9e34-37f095af0c2a successfully queued for export\n"
          ]
        },
        {
          "name": "stdout",
          "output_type": "stream",
          "text": [
            "2025-09-26 04:09:05 - INFO - novaeval.evaluators.agent_evaluator - Saving intermediate results after 12 samples\n",
            "2025-09-26 04:09:05 - INFO - novaeval.evaluators.agent_evaluator - Intermediate results saved to demo_results/tavily_search_results_dataset/agent_evaluation_results.csv\n"
          ]
        },
        {
          "name": "stderr",
          "output_type": "stream",
          "text": [
            "Evaluating samples: 12it [00:30,  2.48s/it]"
          ]
        },
        {
          "name": "stdout",
          "output_type": "stream",
          "text": [
            "2025-09-26 04:09:05 - INFO - google_genai.models - AFC is enabled with max remote calls: 10.\n",
            "2025-09-26 04:09:06 - ERROR - novaeval.models.base - Error: 404 NOT_FOUND. {'error': {'code': 404, 'message': 'Publisher Model `projects/generativelanguage-ga/locations/us-central1/publishers/google/models/gemini-1.5-flash-002` was not found or your project does not have access to it. Please ensure you are using a valid model version. For more information, see: https://cloud.google.com/vertex-ai/generative-ai/docs/learn/model-versions', 'status': 'NOT_FOUND'}}\n"
          ]
        },
        {
          "name": "stderr",
          "output_type": "stream",
          "text": [
            "2025-09-26 04:09:06 - noveum_trace.transport.http_transport - INFO - 📤 EXPORTING TRACE: auto_trace_generate (ID: d4fa0d05-21df-4190-97cc-64d50e1cc524) - 1 spans\n",
            "2025-09-26 04:09:06 - noveum_trace.transport.batch_processor - INFO - 📥 ADDING TRACE TO QUEUE: auto_trace_generate (ID: d4fa0d05-21df-4190-97cc-64d50e1cc524) - 1 spans\n",
            "2025-09-26 04:09:06 - noveum_trace.transport.batch_processor - INFO - ✅ Successfully queued trace d4fa0d05-21df-4190-97cc-64d50e1cc524\n",
            "2025-09-26 04:09:06 - noveum_trace.transport.http_transport - INFO - ✅ Trace d4fa0d05-21df-4190-97cc-64d50e1cc524 successfully queued for export\n"
          ]
        },
        {
          "name": "stdout",
          "output_type": "stream",
          "text": [
            "2025-09-26 04:09:06 - INFO - google_genai.models - AFC is enabled with max remote calls: 10.\n",
            "2025-09-26 04:09:07 - ERROR - novaeval.models.base - Error: 404 NOT_FOUND. {'error': {'code': 404, 'message': 'Publisher Model `projects/generativelanguage-ga/locations/us-central1/publishers/google/models/gemini-1.5-flash-002` was not found or your project does not have access to it. Please ensure you are using a valid model version. For more information, see: https://cloud.google.com/vertex-ai/generative-ai/docs/learn/model-versions', 'status': 'NOT_FOUND'}}\n"
          ]
        },
        {
          "name": "stderr",
          "output_type": "stream",
          "text": [
            "2025-09-26 04:09:07 - noveum_trace.transport.http_transport - INFO - 📤 EXPORTING TRACE: auto_trace_generate (ID: 64c9b7c7-a862-47aa-9652-edc20c13eb0c) - 1 spans\n",
            "2025-09-26 04:09:07 - noveum_trace.transport.batch_processor - INFO - 📥 ADDING TRACE TO QUEUE: auto_trace_generate (ID: 64c9b7c7-a862-47aa-9652-edc20c13eb0c) - 1 spans\n",
            "2025-09-26 04:09:07 - noveum_trace.transport.batch_processor - INFO - ✅ Successfully queued trace 64c9b7c7-a862-47aa-9652-edc20c13eb0c\n",
            "2025-09-26 04:09:07 - noveum_trace.transport.http_transport - INFO - ✅ Trace 64c9b7c7-a862-47aa-9652-edc20c13eb0c successfully queued for export\n"
          ]
        },
        {
          "name": "stdout",
          "output_type": "stream",
          "text": [
            "2025-09-26 04:09:07 - INFO - google_genai.models - AFC is enabled with max remote calls: 10.\n",
            "2025-09-26 04:09:08 - ERROR - novaeval.models.base - Error: 404 NOT_FOUND. {'error': {'code': 404, 'message': 'Publisher Model `projects/generativelanguage-ga/locations/us-central1/publishers/google/models/gemini-1.5-flash-002` was not found or your project does not have access to it. Please ensure you are using a valid model version. For more information, see: https://cloud.google.com/vertex-ai/generative-ai/docs/learn/model-versions', 'status': 'NOT_FOUND'}}\n"
          ]
        },
        {
          "name": "stderr",
          "output_type": "stream",
          "text": [
            "2025-09-26 04:09:08 - noveum_trace.transport.http_transport - INFO - 📤 EXPORTING TRACE: auto_trace_generate (ID: 22c02907-6852-4e81-83df-18f777bf3eeb) - 1 spans\n",
            "2025-09-26 04:09:08 - noveum_trace.transport.batch_processor - INFO - 📥 ADDING TRACE TO QUEUE: auto_trace_generate (ID: 22c02907-6852-4e81-83df-18f777bf3eeb) - 1 spans\n",
            "2025-09-26 04:09:08 - noveum_trace.transport.batch_processor - INFO - ✅ Successfully queued trace 22c02907-6852-4e81-83df-18f777bf3eeb\n",
            "2025-09-26 04:09:08 - noveum_trace.transport.http_transport - INFO - ✅ Trace 22c02907-6852-4e81-83df-18f777bf3eeb successfully queued for export\n"
          ]
        },
        {
          "name": "stdout",
          "output_type": "stream",
          "text": [
            "2025-09-26 04:09:08 - INFO - novaeval.evaluators.agent_evaluator - Saving intermediate results after 13 samples\n",
            "2025-09-26 04:09:08 - INFO - novaeval.evaluators.agent_evaluator - Intermediate results saved to demo_results/tavily_search_results_dataset/agent_evaluation_results.csv\n"
          ]
        },
        {
          "name": "stderr",
          "output_type": "stream",
          "text": [
            "Evaluating samples: 13it [00:33,  2.63s/it]"
          ]
        },
        {
          "name": "stdout",
          "output_type": "stream",
          "text": [
            "2025-09-26 04:09:08 - INFO - google_genai.models - AFC is enabled with max remote calls: 10.\n",
            "2025-09-26 04:09:08 - ERROR - novaeval.models.base - Error: 404 NOT_FOUND. {'error': {'code': 404, 'message': 'Publisher Model `projects/generativelanguage-ga/locations/us-central1/publishers/google/models/gemini-1.5-flash-002` was not found or your project does not have access to it. Please ensure you are using a valid model version. For more information, see: https://cloud.google.com/vertex-ai/generative-ai/docs/learn/model-versions', 'status': 'NOT_FOUND'}}\n"
          ]
        },
        {
          "name": "stderr",
          "output_type": "stream",
          "text": [
            "2025-09-26 04:09:08 - noveum_trace.transport.http_transport - INFO - 📤 EXPORTING TRACE: auto_trace_generate (ID: 5aeaa368-4a0f-4115-83a1-49ec43bf61da) - 1 spans\n",
            "2025-09-26 04:09:08 - noveum_trace.transport.batch_processor - INFO - 📥 ADDING TRACE TO QUEUE: auto_trace_generate (ID: 5aeaa368-4a0f-4115-83a1-49ec43bf61da) - 1 spans\n",
            "2025-09-26 04:09:08 - noveum_trace.transport.batch_processor - INFO - ✅ Successfully queued trace 5aeaa368-4a0f-4115-83a1-49ec43bf61da\n",
            "2025-09-26 04:09:08 - noveum_trace.transport.http_transport - INFO - ✅ Trace 5aeaa368-4a0f-4115-83a1-49ec43bf61da successfully queued for export\n"
          ]
        },
        {
          "name": "stdout",
          "output_type": "stream",
          "text": [
            "2025-09-26 04:09:08 - INFO - google_genai.models - AFC is enabled with max remote calls: 10.\n",
            "2025-09-26 04:09:10 - ERROR - novaeval.models.base - Error: 404 NOT_FOUND. {'error': {'code': 404, 'message': 'Publisher Model `projects/generativelanguage-ga/locations/us-central1/publishers/google/models/gemini-1.5-flash-002` was not found or your project does not have access to it. Please ensure you are using a valid model version. For more information, see: https://cloud.google.com/vertex-ai/generative-ai/docs/learn/model-versions', 'status': 'NOT_FOUND'}}\n"
          ]
        },
        {
          "name": "stderr",
          "output_type": "stream",
          "text": [
            "2025-09-26 04:09:10 - noveum_trace.transport.http_transport - INFO - 📤 EXPORTING TRACE: auto_trace_generate (ID: ad9ca97d-1270-491e-bad3-aa540cf9e724) - 1 spans\n",
            "2025-09-26 04:09:10 - noveum_trace.transport.batch_processor - INFO - 📥 ADDING TRACE TO QUEUE: auto_trace_generate (ID: ad9ca97d-1270-491e-bad3-aa540cf9e724) - 1 spans\n",
            "2025-09-26 04:09:10 - noveum_trace.transport.batch_processor - INFO - ✅ Successfully queued trace ad9ca97d-1270-491e-bad3-aa540cf9e724\n",
            "2025-09-26 04:09:10 - noveum_trace.transport.http_transport - INFO - ✅ Trace ad9ca97d-1270-491e-bad3-aa540cf9e724 successfully queued for export\n"
          ]
        },
        {
          "name": "stdout",
          "output_type": "stream",
          "text": [
            "2025-09-26 04:09:10 - INFO - google_genai.models - AFC is enabled with max remote calls: 10.\n",
            "2025-09-26 04:09:10 - ERROR - novaeval.models.base - Error: 404 NOT_FOUND. {'error': {'code': 404, 'message': 'Publisher Model `projects/generativelanguage-ga/locations/us-central1/publishers/google/models/gemini-1.5-flash-002` was not found or your project does not have access to it. Please ensure you are using a valid model version. For more information, see: https://cloud.google.com/vertex-ai/generative-ai/docs/learn/model-versions', 'status': 'NOT_FOUND'}}\n"
          ]
        },
        {
          "name": "stderr",
          "output_type": "stream",
          "text": [
            "2025-09-26 04:09:10 - noveum_trace.transport.http_transport - INFO - 📤 EXPORTING TRACE: auto_trace_generate (ID: 4459f98d-3914-4938-9e72-5782f01ed35e) - 1 spans\n",
            "2025-09-26 04:09:10 - noveum_trace.transport.batch_processor - INFO - 📥 ADDING TRACE TO QUEUE: auto_trace_generate (ID: 4459f98d-3914-4938-9e72-5782f01ed35e) - 1 spans\n",
            "2025-09-26 04:09:10 - noveum_trace.transport.batch_processor - INFO - ✅ Successfully queued trace 4459f98d-3914-4938-9e72-5782f01ed35e\n",
            "2025-09-26 04:09:10 - noveum_trace.transport.http_transport - INFO - ✅ Trace 4459f98d-3914-4938-9e72-5782f01ed35e successfully queued for export\n"
          ]
        },
        {
          "name": "stdout",
          "output_type": "stream",
          "text": [
            "2025-09-26 04:09:10 - INFO - novaeval.evaluators.agent_evaluator - Saving intermediate results after 14 samples\n",
            "2025-09-26 04:09:10 - INFO - novaeval.evaluators.agent_evaluator - Intermediate results saved to demo_results/tavily_search_results_dataset/agent_evaluation_results.csv\n"
          ]
        },
        {
          "name": "stderr",
          "output_type": "stream",
          "text": [
            "Evaluating samples: 14it [00:35,  2.48s/it]"
          ]
        },
        {
          "name": "stdout",
          "output_type": "stream",
          "text": [
            "2025-09-26 04:09:10 - INFO - google_genai.models - AFC is enabled with max remote calls: 10.\n",
            "2025-09-26 04:09:11 - ERROR - novaeval.models.base - Error: 404 NOT_FOUND. {'error': {'code': 404, 'message': 'Publisher Model `projects/generativelanguage-ga/locations/us-central1/publishers/google/models/gemini-1.5-flash-002` was not found or your project does not have access to it. Please ensure you are using a valid model version. For more information, see: https://cloud.google.com/vertex-ai/generative-ai/docs/learn/model-versions', 'status': 'NOT_FOUND'}}\n"
          ]
        },
        {
          "name": "stderr",
          "output_type": "stream",
          "text": [
            "2025-09-26 04:09:11 - noveum_trace.transport.http_transport - INFO - 📤 EXPORTING TRACE: auto_trace_generate (ID: 2dfe4c5e-28c4-41ac-8d10-c004c468f97e) - 1 spans\n",
            "2025-09-26 04:09:11 - noveum_trace.transport.batch_processor - INFO - 📥 ADDING TRACE TO QUEUE: auto_trace_generate (ID: 2dfe4c5e-28c4-41ac-8d10-c004c468f97e) - 1 spans\n",
            "2025-09-26 04:09:11 - noveum_trace.transport.batch_processor - INFO - ✅ Successfully queued trace 2dfe4c5e-28c4-41ac-8d10-c004c468f97e\n",
            "2025-09-26 04:09:11 - noveum_trace.transport.http_transport - INFO - ✅ Trace 2dfe4c5e-28c4-41ac-8d10-c004c468f97e successfully queued for export\n"
          ]
        },
        {
          "name": "stdout",
          "output_type": "stream",
          "text": [
            "2025-09-26 04:09:11 - INFO - google_genai.models - AFC is enabled with max remote calls: 10.\n",
            "2025-09-26 04:09:12 - ERROR - novaeval.models.base - Error: 404 NOT_FOUND. {'error': {'code': 404, 'message': 'Publisher Model `projects/generativelanguage-ga/locations/us-central1/publishers/google/models/gemini-1.5-flash-002` was not found or your project does not have access to it. Please ensure you are using a valid model version. For more information, see: https://cloud.google.com/vertex-ai/generative-ai/docs/learn/model-versions', 'status': 'NOT_FOUND'}}\n"
          ]
        },
        {
          "name": "stderr",
          "output_type": "stream",
          "text": [
            "2025-09-26 04:09:12 - noveum_trace.transport.http_transport - INFO - 📤 EXPORTING TRACE: auto_trace_generate (ID: 235242a3-031e-4357-b3e3-13b33c04478c) - 1 spans\n",
            "2025-09-26 04:09:12 - noveum_trace.transport.batch_processor - INFO - 📥 ADDING TRACE TO QUEUE: auto_trace_generate (ID: 235242a3-031e-4357-b3e3-13b33c04478c) - 1 spans\n",
            "2025-09-26 04:09:12 - noveum_trace.transport.batch_processor - INFO - ✅ Successfully queued trace 235242a3-031e-4357-b3e3-13b33c04478c\n",
            "2025-09-26 04:09:12 - noveum_trace.transport.http_transport - INFO - ✅ Trace 235242a3-031e-4357-b3e3-13b33c04478c successfully queued for export\n"
          ]
        },
        {
          "name": "stdout",
          "output_type": "stream",
          "text": [
            "2025-09-26 04:09:12 - INFO - google_genai.models - AFC is enabled with max remote calls: 10.\n",
            "2025-09-26 04:09:13 - ERROR - novaeval.models.base - Error: 404 NOT_FOUND. {'error': {'code': 404, 'message': 'Publisher Model `projects/generativelanguage-ga/locations/us-central1/publishers/google/models/gemini-1.5-flash-002` was not found or your project does not have access to it. Please ensure you are using a valid model version. For more information, see: https://cloud.google.com/vertex-ai/generative-ai/docs/learn/model-versions', 'status': 'NOT_FOUND'}}\n"
          ]
        },
        {
          "name": "stderr",
          "output_type": "stream",
          "text": [
            "2025-09-26 04:09:13 - noveum_trace.transport.http_transport - INFO - 📤 EXPORTING TRACE: auto_trace_generate (ID: 8b4624bd-f303-40f1-ad52-7544d2a3491f) - 1 spans\n",
            "2025-09-26 04:09:13 - noveum_trace.transport.batch_processor - INFO - 📥 ADDING TRACE TO QUEUE: auto_trace_generate (ID: 8b4624bd-f303-40f1-ad52-7544d2a3491f) - 1 spans\n",
            "2025-09-26 04:09:13 - noveum_trace.transport.batch_processor - INFO - ✅ Successfully queued trace 8b4624bd-f303-40f1-ad52-7544d2a3491f\n",
            "2025-09-26 04:09:13 - noveum_trace.transport.http_transport - INFO - ✅ Trace 8b4624bd-f303-40f1-ad52-7544d2a3491f successfully queued for export\n"
          ]
        },
        {
          "name": "stdout",
          "output_type": "stream",
          "text": [
            "2025-09-26 04:09:13 - INFO - novaeval.evaluators.agent_evaluator - Saving intermediate results after 15 samples\n",
            "2025-09-26 04:09:13 - INFO - novaeval.evaluators.agent_evaluator - Intermediate results saved to demo_results/tavily_search_results_dataset/agent_evaluation_results.csv\n"
          ]
        },
        {
          "name": "stderr",
          "output_type": "stream",
          "text": [
            "Evaluating samples: 15it [00:38,  2.60s/it]"
          ]
        },
        {
          "name": "stdout",
          "output_type": "stream",
          "text": [
            "2025-09-26 04:09:13 - INFO - google_genai.models - AFC is enabled with max remote calls: 10.\n",
            "2025-09-26 04:09:13 - ERROR - novaeval.models.base - Error: 404 NOT_FOUND. {'error': {'code': 404, 'message': 'Publisher Model `projects/generativelanguage-ga/locations/us-central1/publishers/google/models/gemini-1.5-flash-002` was not found or your project does not have access to it. Please ensure you are using a valid model version. For more information, see: https://cloud.google.com/vertex-ai/generative-ai/docs/learn/model-versions', 'status': 'NOT_FOUND'}}\n"
          ]
        },
        {
          "name": "stderr",
          "output_type": "stream",
          "text": [
            "2025-09-26 04:09:13 - noveum_trace.transport.http_transport - INFO - 📤 EXPORTING TRACE: auto_trace_generate (ID: c2e55c8c-9be7-43eb-8f67-04087746660f) - 1 spans\n",
            "2025-09-26 04:09:13 - noveum_trace.transport.batch_processor - INFO - 📥 ADDING TRACE TO QUEUE: auto_trace_generate (ID: c2e55c8c-9be7-43eb-8f67-04087746660f) - 1 spans\n",
            "2025-09-26 04:09:13 - noveum_trace.transport.batch_processor - INFO - ✅ Successfully queued trace c2e55c8c-9be7-43eb-8f67-04087746660f\n",
            "2025-09-26 04:09:13 - noveum_trace.transport.http_transport - INFO - ✅ Trace c2e55c8c-9be7-43eb-8f67-04087746660f successfully queued for export\n"
          ]
        },
        {
          "name": "stdout",
          "output_type": "stream",
          "text": [
            "2025-09-26 04:09:13 - INFO - google_genai.models - AFC is enabled with max remote calls: 10.\n",
            "2025-09-26 04:09:14 - ERROR - novaeval.models.base - Error: 404 NOT_FOUND. {'error': {'code': 404, 'message': 'Publisher Model `projects/generativelanguage-ga/locations/us-central1/publishers/google/models/gemini-1.5-flash-002` was not found or your project does not have access to it. Please ensure you are using a valid model version. For more information, see: https://cloud.google.com/vertex-ai/generative-ai/docs/learn/model-versions', 'status': 'NOT_FOUND'}}\n"
          ]
        },
        {
          "name": "stderr",
          "output_type": "stream",
          "text": [
            "2025-09-26 04:09:14 - noveum_trace.transport.http_transport - INFO - 📤 EXPORTING TRACE: auto_trace_generate (ID: c6ad3d98-c837-4b31-bc84-1cc255a915ef) - 1 spans\n",
            "2025-09-26 04:09:14 - noveum_trace.transport.batch_processor - INFO - 📥 ADDING TRACE TO QUEUE: auto_trace_generate (ID: c6ad3d98-c837-4b31-bc84-1cc255a915ef) - 1 spans\n",
            "2025-09-26 04:09:14 - noveum_trace.transport.batch_processor - INFO - ✅ Successfully queued trace c6ad3d98-c837-4b31-bc84-1cc255a915ef\n",
            "2025-09-26 04:09:14 - noveum_trace.transport.http_transport - INFO - ✅ Trace c6ad3d98-c837-4b31-bc84-1cc255a915ef successfully queued for export\n"
          ]
        },
        {
          "name": "stdout",
          "output_type": "stream",
          "text": [
            "2025-09-26 04:09:14 - INFO - google_genai.models - AFC is enabled with max remote calls: 10.\n",
            "2025-09-26 04:09:15 - ERROR - novaeval.models.base - Error: 404 NOT_FOUND. {'error': {'code': 404, 'message': 'Publisher Model `projects/generativelanguage-ga/locations/us-central1/publishers/google/models/gemini-1.5-flash-002` was not found or your project does not have access to it. Please ensure you are using a valid model version. For more information, see: https://cloud.google.com/vertex-ai/generative-ai/docs/learn/model-versions', 'status': 'NOT_FOUND'}}\n"
          ]
        },
        {
          "name": "stderr",
          "output_type": "stream",
          "text": [
            "2025-09-26 04:09:15 - noveum_trace.transport.http_transport - INFO - 📤 EXPORTING TRACE: auto_trace_generate (ID: 6cd60c24-9dd3-417a-98c7-404d244670c7) - 1 spans\n",
            "2025-09-26 04:09:15 - noveum_trace.transport.batch_processor - INFO - 📥 ADDING TRACE TO QUEUE: auto_trace_generate (ID: 6cd60c24-9dd3-417a-98c7-404d244670c7) - 1 spans\n",
            "2025-09-26 04:09:15 - noveum_trace.transport.batch_processor - INFO - ✅ Successfully queued trace 6cd60c24-9dd3-417a-98c7-404d244670c7\n",
            "2025-09-26 04:09:15 - noveum_trace.transport.http_transport - INFO - ✅ Trace 6cd60c24-9dd3-417a-98c7-404d244670c7 successfully queued for export\n"
          ]
        },
        {
          "name": "stdout",
          "output_type": "stream",
          "text": [
            "2025-09-26 04:09:15 - INFO - novaeval.evaluators.agent_evaluator - Saving intermediate results after 16 samples\n",
            "2025-09-26 04:09:15 - INFO - novaeval.evaluators.agent_evaluator - Intermediate results saved to demo_results/tavily_search_results_dataset/agent_evaluation_results.csv\n"
          ]
        },
        {
          "name": "stderr",
          "output_type": "stream",
          "text": [
            "Evaluating samples: 16it [00:40,  2.49s/it]"
          ]
        },
        {
          "name": "stdout",
          "output_type": "stream",
          "text": [
            "2025-09-26 04:09:15 - INFO - google_genai.models - AFC is enabled with max remote calls: 10.\n",
            "2025-09-26 04:09:16 - ERROR - novaeval.models.base - Error: 404 NOT_FOUND. {'error': {'code': 404, 'message': 'Publisher Model `projects/generativelanguage-ga/locations/us-central1/publishers/google/models/gemini-1.5-flash-002` was not found or your project does not have access to it. Please ensure you are using a valid model version. For more information, see: https://cloud.google.com/vertex-ai/generative-ai/docs/learn/model-versions', 'status': 'NOT_FOUND'}}\n"
          ]
        },
        {
          "name": "stderr",
          "output_type": "stream",
          "text": [
            "2025-09-26 04:09:16 - noveum_trace.transport.http_transport - INFO - 📤 EXPORTING TRACE: auto_trace_generate (ID: 7aa8b881-ff08-4922-83b7-4ab4018b0a6f) - 1 spans\n",
            "2025-09-26 04:09:16 - noveum_trace.transport.batch_processor - INFO - 📥 ADDING TRACE TO QUEUE: auto_trace_generate (ID: 7aa8b881-ff08-4922-83b7-4ab4018b0a6f) - 1 spans\n",
            "2025-09-26 04:09:16 - noveum_trace.transport.batch_processor - INFO - ✅ Successfully queued trace 7aa8b881-ff08-4922-83b7-4ab4018b0a6f\n",
            "2025-09-26 04:09:16 - noveum_trace.transport.http_transport - INFO - ✅ Trace 7aa8b881-ff08-4922-83b7-4ab4018b0a6f successfully queued for export\n"
          ]
        },
        {
          "name": "stdout",
          "output_type": "stream",
          "text": [
            "2025-09-26 04:09:16 - INFO - google_genai.models - AFC is enabled with max remote calls: 10.\n",
            "2025-09-26 04:09:17 - ERROR - novaeval.models.base - Error: 404 NOT_FOUND. {'error': {'code': 404, 'message': 'Publisher Model `projects/generativelanguage-ga/locations/us-central1/publishers/google/models/gemini-1.5-flash-002` was not found or your project does not have access to it. Please ensure you are using a valid model version. For more information, see: https://cloud.google.com/vertex-ai/generative-ai/docs/learn/model-versions', 'status': 'NOT_FOUND'}}\n"
          ]
        },
        {
          "name": "stderr",
          "output_type": "stream",
          "text": [
            "2025-09-26 04:09:17 - noveum_trace.transport.http_transport - INFO - 📤 EXPORTING TRACE: auto_trace_generate (ID: d43e7d39-adde-4d0d-8605-4e12e052f363) - 1 spans\n",
            "2025-09-26 04:09:17 - noveum_trace.transport.batch_processor - INFO - 📥 ADDING TRACE TO QUEUE: auto_trace_generate (ID: d43e7d39-adde-4d0d-8605-4e12e052f363) - 1 spans\n",
            "2025-09-26 04:09:17 - noveum_trace.transport.batch_processor - INFO - ✅ Successfully queued trace d43e7d39-adde-4d0d-8605-4e12e052f363\n",
            "2025-09-26 04:09:17 - noveum_trace.transport.http_transport - INFO - ✅ Trace d43e7d39-adde-4d0d-8605-4e12e052f363 successfully queued for export\n"
          ]
        },
        {
          "name": "stdout",
          "output_type": "stream",
          "text": [
            "2025-09-26 04:09:17 - INFO - google_genai.models - AFC is enabled with max remote calls: 10.\n",
            "2025-09-26 04:09:18 - ERROR - novaeval.models.base - Error: 404 NOT_FOUND. {'error': {'code': 404, 'message': 'Publisher Model `projects/generativelanguage-ga/locations/us-central1/publishers/google/models/gemini-1.5-flash-002` was not found or your project does not have access to it. Please ensure you are using a valid model version. For more information, see: https://cloud.google.com/vertex-ai/generative-ai/docs/learn/model-versions', 'status': 'NOT_FOUND'}}\n"
          ]
        },
        {
          "name": "stderr",
          "output_type": "stream",
          "text": [
            "2025-09-26 04:09:18 - noveum_trace.transport.http_transport - INFO - 📤 EXPORTING TRACE: auto_trace_generate (ID: c4673bb4-f48c-4de2-8d49-b7535eb024e3) - 1 spans\n",
            "2025-09-26 04:09:18 - noveum_trace.transport.batch_processor - INFO - 📥 ADDING TRACE TO QUEUE: auto_trace_generate (ID: c4673bb4-f48c-4de2-8d49-b7535eb024e3) - 1 spans\n",
            "2025-09-26 04:09:18 - noveum_trace.transport.batch_processor - INFO - ✅ Successfully queued trace c4673bb4-f48c-4de2-8d49-b7535eb024e3\n",
            "2025-09-26 04:09:18 - noveum_trace.transport.http_transport - INFO - ✅ Trace c4673bb4-f48c-4de2-8d49-b7535eb024e3 successfully queued for export\n"
          ]
        },
        {
          "name": "stdout",
          "output_type": "stream",
          "text": [
            "2025-09-26 04:09:18 - INFO - novaeval.evaluators.agent_evaluator - Saving intermediate results after 17 samples\n",
            "2025-09-26 04:09:18 - INFO - novaeval.evaluators.agent_evaluator - Intermediate results saved to demo_results/tavily_search_results_dataset/agent_evaluation_results.csv\n"
          ]
        },
        {
          "name": "stderr",
          "output_type": "stream",
          "text": [
            "Evaluating samples: 17it [00:43,  2.55s/it]"
          ]
        },
        {
          "name": "stdout",
          "output_type": "stream",
          "text": [
            "2025-09-26 04:09:18 - INFO - google_genai.models - AFC is enabled with max remote calls: 10.\n",
            "2025-09-26 04:09:18 - ERROR - novaeval.models.base - Error: 404 NOT_FOUND. {'error': {'code': 404, 'message': 'Publisher Model `projects/generativelanguage-ga/locations/us-central1/publishers/google/models/gemini-1.5-flash-002` was not found or your project does not have access to it. Please ensure you are using a valid model version. For more information, see: https://cloud.google.com/vertex-ai/generative-ai/docs/learn/model-versions', 'status': 'NOT_FOUND'}}\n"
          ]
        },
        {
          "name": "stderr",
          "output_type": "stream",
          "text": [
            "2025-09-26 04:09:18 - noveum_trace.transport.http_transport - INFO - 📤 EXPORTING TRACE: auto_trace_generate (ID: 34087a57-51b9-4ea2-84e5-da057ca8a895) - 1 spans\n",
            "2025-09-26 04:09:18 - noveum_trace.transport.batch_processor - INFO - 📥 ADDING TRACE TO QUEUE: auto_trace_generate (ID: 34087a57-51b9-4ea2-84e5-da057ca8a895) - 1 spans\n",
            "2025-09-26 04:09:18 - noveum_trace.transport.batch_processor - INFO - ✅ Successfully queued trace 34087a57-51b9-4ea2-84e5-da057ca8a895\n",
            "2025-09-26 04:09:18 - noveum_trace.transport.http_transport - INFO - ✅ Trace 34087a57-51b9-4ea2-84e5-da057ca8a895 successfully queued for export\n"
          ]
        },
        {
          "name": "stdout",
          "output_type": "stream",
          "text": [
            "2025-09-26 04:09:18 - INFO - google_genai.models - AFC is enabled with max remote calls: 10.\n",
            "2025-09-26 04:09:20 - ERROR - novaeval.models.base - Error: 404 NOT_FOUND. {'error': {'code': 404, 'message': 'Publisher Model `projects/generativelanguage-ga/locations/us-central1/publishers/google/models/gemini-1.5-flash-002` was not found or your project does not have access to it. Please ensure you are using a valid model version. For more information, see: https://cloud.google.com/vertex-ai/generative-ai/docs/learn/model-versions', 'status': 'NOT_FOUND'}}\n"
          ]
        },
        {
          "name": "stderr",
          "output_type": "stream",
          "text": [
            "2025-09-26 04:09:20 - noveum_trace.transport.http_transport - INFO - 📤 EXPORTING TRACE: auto_trace_generate (ID: 3054c782-ed68-47dd-8a72-82d399964446) - 1 spans\n",
            "2025-09-26 04:09:20 - noveum_trace.transport.batch_processor - INFO - 📥 ADDING TRACE TO QUEUE: auto_trace_generate (ID: 3054c782-ed68-47dd-8a72-82d399964446) - 1 spans\n",
            "2025-09-26 04:09:20 - noveum_trace.transport.batch_processor - INFO - ✅ Successfully queued trace 3054c782-ed68-47dd-8a72-82d399964446\n",
            "2025-09-26 04:09:20 - noveum_trace.transport.http_transport - INFO - ✅ Trace 3054c782-ed68-47dd-8a72-82d399964446 successfully queued for export\n"
          ]
        },
        {
          "name": "stdout",
          "output_type": "stream",
          "text": [
            "2025-09-26 04:09:20 - INFO - google_genai.models - AFC is enabled with max remote calls: 10.\n",
            "2025-09-26 04:09:20 - ERROR - novaeval.models.base - Error: 404 NOT_FOUND. {'error': {'code': 404, 'message': 'Publisher Model `projects/generativelanguage-ga/locations/us-central1/publishers/google/models/gemini-1.5-flash-002` was not found or your project does not have access to it. Please ensure you are using a valid model version. For more information, see: https://cloud.google.com/vertex-ai/generative-ai/docs/learn/model-versions', 'status': 'NOT_FOUND'}}\n"
          ]
        },
        {
          "name": "stderr",
          "output_type": "stream",
          "text": [
            "2025-09-26 04:09:20 - noveum_trace.transport.http_transport - INFO - 📤 EXPORTING TRACE: auto_trace_generate (ID: a2693d4e-e828-479c-a44a-d111bcf17c11) - 1 spans\n",
            "2025-09-26 04:09:20 - noveum_trace.transport.batch_processor - INFO - 📥 ADDING TRACE TO QUEUE: auto_trace_generate (ID: a2693d4e-e828-479c-a44a-d111bcf17c11) - 1 spans\n",
            "2025-09-26 04:09:20 - noveum_trace.transport.batch_processor - INFO - ✅ Successfully queued trace a2693d4e-e828-479c-a44a-d111bcf17c11\n",
            "2025-09-26 04:09:20 - noveum_trace.transport.http_transport - INFO - ✅ Trace a2693d4e-e828-479c-a44a-d111bcf17c11 successfully queued for export\n"
          ]
        },
        {
          "name": "stdout",
          "output_type": "stream",
          "text": [
            "2025-09-26 04:09:20 - INFO - novaeval.evaluators.agent_evaluator - Saving intermediate results after 18 samples\n",
            "2025-09-26 04:09:20 - INFO - novaeval.evaluators.agent_evaluator - Intermediate results saved to demo_results/tavily_search_results_dataset/agent_evaluation_results.csv\n"
          ]
        },
        {
          "name": "stderr",
          "output_type": "stream",
          "text": [
            "Evaluating samples: 18it [00:46,  2.52s/it]"
          ]
        },
        {
          "name": "stdout",
          "output_type": "stream",
          "text": [
            "2025-09-26 04:09:20 - INFO - google_genai.models - AFC is enabled with max remote calls: 10.\n",
            "2025-09-26 04:09:21 - ERROR - novaeval.models.base - Error: 404 NOT_FOUND. {'error': {'code': 404, 'message': 'Publisher Model `projects/generativelanguage-ga/locations/us-central1/publishers/google/models/gemini-1.5-flash-002` was not found or your project does not have access to it. Please ensure you are using a valid model version. For more information, see: https://cloud.google.com/vertex-ai/generative-ai/docs/learn/model-versions', 'status': 'NOT_FOUND'}}\n"
          ]
        },
        {
          "name": "stderr",
          "output_type": "stream",
          "text": [
            "2025-09-26 04:09:21 - noveum_trace.transport.http_transport - INFO - 📤 EXPORTING TRACE: auto_trace_generate (ID: e0c50e88-a1e9-4579-9edd-36b6ab8ad8e4) - 1 spans\n",
            "2025-09-26 04:09:21 - noveum_trace.transport.batch_processor - INFO - 📥 ADDING TRACE TO QUEUE: auto_trace_generate (ID: e0c50e88-a1e9-4579-9edd-36b6ab8ad8e4) - 1 spans\n",
            "2025-09-26 04:09:21 - noveum_trace.transport.batch_processor - INFO - ✅ Successfully queued trace e0c50e88-a1e9-4579-9edd-36b6ab8ad8e4\n",
            "2025-09-26 04:09:21 - noveum_trace.transport.http_transport - INFO - ✅ Trace e0c50e88-a1e9-4579-9edd-36b6ab8ad8e4 successfully queued for export\n"
          ]
        },
        {
          "name": "stdout",
          "output_type": "stream",
          "text": [
            "2025-09-26 04:09:21 - INFO - google_genai.models - AFC is enabled with max remote calls: 10.\n",
            "2025-09-26 04:09:22 - ERROR - novaeval.models.base - Error: 404 NOT_FOUND. {'error': {'code': 404, 'message': 'Publisher Model `projects/generativelanguage-ga/locations/us-central1/publishers/google/models/gemini-1.5-flash-002` was not found or your project does not have access to it. Please ensure you are using a valid model version. For more information, see: https://cloud.google.com/vertex-ai/generative-ai/docs/learn/model-versions', 'status': 'NOT_FOUND'}}\n"
          ]
        },
        {
          "name": "stderr",
          "output_type": "stream",
          "text": [
            "2025-09-26 04:09:22 - noveum_trace.transport.http_transport - INFO - 📤 EXPORTING TRACE: auto_trace_generate (ID: 77c5a129-b3e2-4409-9c12-f4c20b0502f1) - 1 spans\n",
            "2025-09-26 04:09:22 - noveum_trace.transport.batch_processor - INFO - 📥 ADDING TRACE TO QUEUE: auto_trace_generate (ID: 77c5a129-b3e2-4409-9c12-f4c20b0502f1) - 1 spans\n",
            "2025-09-26 04:09:22 - noveum_trace.transport.batch_processor - INFO - ✅ Successfully queued trace 77c5a129-b3e2-4409-9c12-f4c20b0502f1\n",
            "2025-09-26 04:09:22 - noveum_trace.transport.http_transport - INFO - ✅ Trace 77c5a129-b3e2-4409-9c12-f4c20b0502f1 successfully queued for export\n"
          ]
        },
        {
          "name": "stdout",
          "output_type": "stream",
          "text": [
            "2025-09-26 04:09:22 - INFO - google_genai.models - AFC is enabled with max remote calls: 10.\n",
            "2025-09-26 04:09:23 - ERROR - novaeval.models.base - Error: 404 NOT_FOUND. {'error': {'code': 404, 'message': 'Publisher Model `projects/generativelanguage-ga/locations/us-central1/publishers/google/models/gemini-1.5-flash-002` was not found or your project does not have access to it. Please ensure you are using a valid model version. For more information, see: https://cloud.google.com/vertex-ai/generative-ai/docs/learn/model-versions', 'status': 'NOT_FOUND'}}\n"
          ]
        },
        {
          "name": "stderr",
          "output_type": "stream",
          "text": [
            "2025-09-26 04:09:23 - noveum_trace.transport.http_transport - INFO - 📤 EXPORTING TRACE: auto_trace_generate (ID: dd927d34-d9a5-49f0-8d2e-09df40251296) - 1 spans\n",
            "2025-09-26 04:09:23 - noveum_trace.transport.batch_processor - INFO - 📥 ADDING TRACE TO QUEUE: auto_trace_generate (ID: dd927d34-d9a5-49f0-8d2e-09df40251296) - 1 spans\n",
            "2025-09-26 04:09:23 - noveum_trace.transport.batch_processor - INFO - ✅ Successfully queued trace dd927d34-d9a5-49f0-8d2e-09df40251296\n",
            "2025-09-26 04:09:23 - noveum_trace.transport.http_transport - INFO - ✅ Trace dd927d34-d9a5-49f0-8d2e-09df40251296 successfully queued for export\n"
          ]
        },
        {
          "name": "stdout",
          "output_type": "stream",
          "text": [
            "2025-09-26 04:09:23 - INFO - novaeval.evaluators.agent_evaluator - Saving intermediate results after 19 samples\n",
            "2025-09-26 04:09:23 - INFO - novaeval.evaluators.agent_evaluator - Intermediate results saved to demo_results/tavily_search_results_dataset/agent_evaluation_results.csv\n"
          ]
        },
        {
          "name": "stderr",
          "output_type": "stream",
          "text": [
            "Evaluating samples: 19it [00:48,  2.52s/it]"
          ]
        },
        {
          "name": "stdout",
          "output_type": "stream",
          "text": [
            "2025-09-26 04:09:23 - INFO - google_genai.models - AFC is enabled with max remote calls: 10.\n",
            "2025-09-26 04:09:24 - ERROR - novaeval.models.base - Error: 404 NOT_FOUND. {'error': {'code': 404, 'message': 'Publisher Model `projects/generativelanguage-ga/locations/us-central1/publishers/google/models/gemini-1.5-flash-002` was not found or your project does not have access to it. Please ensure you are using a valid model version. For more information, see: https://cloud.google.com/vertex-ai/generative-ai/docs/learn/model-versions', 'status': 'NOT_FOUND'}}\n"
          ]
        },
        {
          "name": "stderr",
          "output_type": "stream",
          "text": [
            "2025-09-26 04:09:24 - noveum_trace.transport.http_transport - INFO - 📤 EXPORTING TRACE: auto_trace_generate (ID: 1d29dc19-382e-4d75-9c7d-b7fbf414fee4) - 1 spans\n",
            "2025-09-26 04:09:24 - noveum_trace.transport.batch_processor - INFO - 📥 ADDING TRACE TO QUEUE: auto_trace_generate (ID: 1d29dc19-382e-4d75-9c7d-b7fbf414fee4) - 1 spans\n",
            "2025-09-26 04:09:24 - noveum_trace.transport.batch_processor - INFO - ✅ Successfully queued trace 1d29dc19-382e-4d75-9c7d-b7fbf414fee4\n",
            "2025-09-26 04:09:24 - noveum_trace.transport.http_transport - INFO - ✅ Trace 1d29dc19-382e-4d75-9c7d-b7fbf414fee4 successfully queued for export\n"
          ]
        },
        {
          "name": "stdout",
          "output_type": "stream",
          "text": [
            "2025-09-26 04:09:24 - INFO - google_genai.models - AFC is enabled with max remote calls: 10.\n",
            "2025-09-26 04:09:24 - ERROR - novaeval.models.base - Error: 404 NOT_FOUND. {'error': {'code': 404, 'message': 'Publisher Model `projects/generativelanguage-ga/locations/us-central1/publishers/google/models/gemini-1.5-flash-002` was not found or your project does not have access to it. Please ensure you are using a valid model version. For more information, see: https://cloud.google.com/vertex-ai/generative-ai/docs/learn/model-versions', 'status': 'NOT_FOUND'}}\n"
          ]
        },
        {
          "name": "stderr",
          "output_type": "stream",
          "text": [
            "2025-09-26 04:09:24 - noveum_trace.transport.http_transport - INFO - 📤 EXPORTING TRACE: auto_trace_generate (ID: ad57f749-ae54-4fba-8405-98e09b472434) - 1 spans\n",
            "2025-09-26 04:09:24 - noveum_trace.transport.batch_processor - INFO - 📥 ADDING TRACE TO QUEUE: auto_trace_generate (ID: ad57f749-ae54-4fba-8405-98e09b472434) - 1 spans\n",
            "2025-09-26 04:09:24 - noveum_trace.transport.batch_processor - INFO - ✅ Successfully queued trace ad57f749-ae54-4fba-8405-98e09b472434\n",
            "2025-09-26 04:09:24 - noveum_trace.transport.http_transport - INFO - ✅ Trace ad57f749-ae54-4fba-8405-98e09b472434 successfully queued for export\n"
          ]
        },
        {
          "name": "stdout",
          "output_type": "stream",
          "text": [
            "2025-09-26 04:09:24 - INFO - google_genai.models - AFC is enabled with max remote calls: 10.\n",
            "2025-09-26 04:09:25 - ERROR - novaeval.models.base - Error: 404 NOT_FOUND. {'error': {'code': 404, 'message': 'Publisher Model `projects/generativelanguage-ga/locations/us-central1/publishers/google/models/gemini-1.5-flash-002` was not found or your project does not have access to it. Please ensure you are using a valid model version. For more information, see: https://cloud.google.com/vertex-ai/generative-ai/docs/learn/model-versions', 'status': 'NOT_FOUND'}}\n"
          ]
        },
        {
          "name": "stderr",
          "output_type": "stream",
          "text": [
            "2025-09-26 04:09:25 - noveum_trace.transport.http_transport - INFO - 📤 EXPORTING TRACE: auto_trace_generate (ID: 7320feca-da41-4250-859d-cf6c34f8ab2d) - 1 spans\n",
            "2025-09-26 04:09:25 - noveum_trace.transport.batch_processor - INFO - 📥 ADDING TRACE TO QUEUE: auto_trace_generate (ID: 7320feca-da41-4250-859d-cf6c34f8ab2d) - 1 spans\n",
            "2025-09-26 04:09:25 - noveum_trace.transport.batch_processor - INFO - ✅ Successfully queued trace 7320feca-da41-4250-859d-cf6c34f8ab2d\n",
            "2025-09-26 04:09:25 - noveum_trace.transport.http_transport - INFO - ✅ Trace 7320feca-da41-4250-859d-cf6c34f8ab2d successfully queued for export\n"
          ]
        },
        {
          "name": "stdout",
          "output_type": "stream",
          "text": [
            "2025-09-26 04:09:25 - INFO - novaeval.evaluators.agent_evaluator - Saving intermediate results after 20 samples\n",
            "2025-09-26 04:09:25 - INFO - novaeval.evaluators.agent_evaluator - Intermediate results saved to demo_results/tavily_search_results_dataset/agent_evaluation_results.csv\n"
          ]
        },
        {
          "name": "stderr",
          "output_type": "stream",
          "text": [
            "Evaluating samples: 20it [00:50,  2.49s/it]"
          ]
        },
        {
          "name": "stdout",
          "output_type": "stream",
          "text": [
            "2025-09-26 04:09:25 - INFO - google_genai.models - AFC is enabled with max remote calls: 10.\n",
            "2025-09-26 04:09:26 - ERROR - novaeval.models.base - Error: 404 NOT_FOUND. {'error': {'code': 404, 'message': 'Publisher Model `projects/generativelanguage-ga/locations/us-central1/publishers/google/models/gemini-1.5-flash-002` was not found or your project does not have access to it. Please ensure you are using a valid model version. For more information, see: https://cloud.google.com/vertex-ai/generative-ai/docs/learn/model-versions', 'status': 'NOT_FOUND'}}\n"
          ]
        },
        {
          "name": "stderr",
          "output_type": "stream",
          "text": [
            "2025-09-26 04:09:26 - noveum_trace.transport.http_transport - INFO - 📤 EXPORTING TRACE: auto_trace_generate (ID: 38a9e031-919a-42a7-ada8-0ee916363f20) - 1 spans\n",
            "2025-09-26 04:09:26 - noveum_trace.transport.batch_processor - INFO - 📥 ADDING TRACE TO QUEUE: auto_trace_generate (ID: 38a9e031-919a-42a7-ada8-0ee916363f20) - 1 spans\n",
            "2025-09-26 04:09:26 - noveum_trace.transport.batch_processor - INFO - ✅ Successfully queued trace 38a9e031-919a-42a7-ada8-0ee916363f20\n",
            "2025-09-26 04:09:26 - noveum_trace.transport.http_transport - INFO - ✅ Trace 38a9e031-919a-42a7-ada8-0ee916363f20 successfully queued for export\n"
          ]
        },
        {
          "name": "stdout",
          "output_type": "stream",
          "text": [
            "2025-09-26 04:09:26 - INFO - google_genai.models - AFC is enabled with max remote calls: 10.\n",
            "2025-09-26 04:09:27 - ERROR - novaeval.models.base - Error: 404 NOT_FOUND. {'error': {'code': 404, 'message': 'Publisher Model `projects/generativelanguage-ga/locations/us-central1/publishers/google/models/gemini-1.5-flash-002` was not found or your project does not have access to it. Please ensure you are using a valid model version. For more information, see: https://cloud.google.com/vertex-ai/generative-ai/docs/learn/model-versions', 'status': 'NOT_FOUND'}}\n"
          ]
        },
        {
          "name": "stderr",
          "output_type": "stream",
          "text": [
            "2025-09-26 04:09:27 - noveum_trace.transport.http_transport - INFO - 📤 EXPORTING TRACE: auto_trace_generate (ID: 97816a02-edb8-434d-bc6e-4f389d4bc769) - 1 spans\n",
            "2025-09-26 04:09:27 - noveum_trace.transport.batch_processor - INFO - 📥 ADDING TRACE TO QUEUE: auto_trace_generate (ID: 97816a02-edb8-434d-bc6e-4f389d4bc769) - 1 spans\n",
            "2025-09-26 04:09:27 - noveum_trace.transport.batch_processor - INFO - ✅ Successfully queued trace 97816a02-edb8-434d-bc6e-4f389d4bc769\n",
            "2025-09-26 04:09:27 - noveum_trace.transport.http_transport - INFO - ✅ Trace 97816a02-edb8-434d-bc6e-4f389d4bc769 successfully queued for export\n"
          ]
        },
        {
          "name": "stdout",
          "output_type": "stream",
          "text": [
            "2025-09-26 04:09:27 - INFO - google_genai.models - AFC is enabled with max remote calls: 10.\n",
            "2025-09-26 04:09:28 - ERROR - novaeval.models.base - Error: 404 NOT_FOUND. {'error': {'code': 404, 'message': 'Publisher Model `projects/generativelanguage-ga/locations/us-central1/publishers/google/models/gemini-1.5-flash-002` was not found or your project does not have access to it. Please ensure you are using a valid model version. For more information, see: https://cloud.google.com/vertex-ai/generative-ai/docs/learn/model-versions', 'status': 'NOT_FOUND'}}\n"
          ]
        },
        {
          "name": "stderr",
          "output_type": "stream",
          "text": [
            "2025-09-26 04:09:28 - noveum_trace.transport.http_transport - INFO - 📤 EXPORTING TRACE: auto_trace_generate (ID: 25230f13-38a2-4180-be0c-60f350f975e1) - 1 spans\n",
            "2025-09-26 04:09:28 - noveum_trace.transport.batch_processor - INFO - 📥 ADDING TRACE TO QUEUE: auto_trace_generate (ID: 25230f13-38a2-4180-be0c-60f350f975e1) - 1 spans\n",
            "2025-09-26 04:09:28 - noveum_trace.transport.batch_processor - INFO - ✅ Successfully queued trace 25230f13-38a2-4180-be0c-60f350f975e1\n",
            "2025-09-26 04:09:28 - noveum_trace.transport.http_transport - INFO - ✅ Trace 25230f13-38a2-4180-be0c-60f350f975e1 successfully queued for export\n"
          ]
        },
        {
          "name": "stdout",
          "output_type": "stream",
          "text": [
            "2025-09-26 04:09:28 - INFO - novaeval.evaluators.agent_evaluator - Saving intermediate results after 21 samples\n",
            "2025-09-26 04:09:28 - INFO - novaeval.evaluators.agent_evaluator - Intermediate results saved to demo_results/tavily_search_results_dataset/agent_evaluation_results.csv\n"
          ]
        },
        {
          "name": "stderr",
          "output_type": "stream",
          "text": [
            "Evaluating samples: 21it [00:53,  2.50s/it]"
          ]
        },
        {
          "name": "stdout",
          "output_type": "stream",
          "text": [
            "2025-09-26 04:09:28 - INFO - google_genai.models - AFC is enabled with max remote calls: 10.\n",
            "2025-09-26 04:09:28 - ERROR - novaeval.models.base - Error: 404 NOT_FOUND. {'error': {'code': 404, 'message': 'Publisher Model `projects/generativelanguage-ga/locations/us-central1/publishers/google/models/gemini-1.5-flash-002` was not found or your project does not have access to it. Please ensure you are using a valid model version. For more information, see: https://cloud.google.com/vertex-ai/generative-ai/docs/learn/model-versions', 'status': 'NOT_FOUND'}}\n"
          ]
        },
        {
          "name": "stderr",
          "output_type": "stream",
          "text": [
            "2025-09-26 04:09:28 - noveum_trace.transport.http_transport - INFO - 📤 EXPORTING TRACE: auto_trace_generate (ID: d9e7253a-fe0f-401d-bc68-9bfa43ddb51e) - 1 spans\n",
            "2025-09-26 04:09:28 - noveum_trace.transport.batch_processor - INFO - 📥 ADDING TRACE TO QUEUE: auto_trace_generate (ID: d9e7253a-fe0f-401d-bc68-9bfa43ddb51e) - 1 spans\n",
            "2025-09-26 04:09:28 - noveum_trace.transport.batch_processor - INFO - ✅ Successfully queued trace d9e7253a-fe0f-401d-bc68-9bfa43ddb51e\n",
            "2025-09-26 04:09:28 - noveum_trace.transport.http_transport - INFO - ✅ Trace d9e7253a-fe0f-401d-bc68-9bfa43ddb51e successfully queued for export\n"
          ]
        },
        {
          "name": "stdout",
          "output_type": "stream",
          "text": [
            "2025-09-26 04:09:28 - INFO - google_genai.models - AFC is enabled with max remote calls: 10.\n",
            "2025-09-26 04:09:29 - ERROR - novaeval.models.base - Error: 404 NOT_FOUND. {'error': {'code': 404, 'message': 'Publisher Model `projects/generativelanguage-ga/locations/us-central1/publishers/google/models/gemini-1.5-flash-002` was not found or your project does not have access to it. Please ensure you are using a valid model version. For more information, see: https://cloud.google.com/vertex-ai/generative-ai/docs/learn/model-versions', 'status': 'NOT_FOUND'}}\n"
          ]
        },
        {
          "name": "stderr",
          "output_type": "stream",
          "text": [
            "2025-09-26 04:09:29 - noveum_trace.transport.http_transport - INFO - 📤 EXPORTING TRACE: auto_trace_generate (ID: cf0ff395-910b-4b26-be7b-72ccd69690bd) - 1 spans\n",
            "2025-09-26 04:09:29 - noveum_trace.transport.batch_processor - INFO - 📥 ADDING TRACE TO QUEUE: auto_trace_generate (ID: cf0ff395-910b-4b26-be7b-72ccd69690bd) - 1 spans\n",
            "2025-09-26 04:09:29 - noveum_trace.transport.batch_processor - INFO - ✅ Successfully queued trace cf0ff395-910b-4b26-be7b-72ccd69690bd\n",
            "2025-09-26 04:09:29 - noveum_trace.transport.http_transport - INFO - ✅ Trace cf0ff395-910b-4b26-be7b-72ccd69690bd successfully queued for export\n"
          ]
        },
        {
          "name": "stdout",
          "output_type": "stream",
          "text": [
            "2025-09-26 04:09:29 - INFO - google_genai.models - AFC is enabled with max remote calls: 10.\n",
            "2025-09-26 04:09:30 - ERROR - novaeval.models.base - Error: 404 NOT_FOUND. {'error': {'code': 404, 'message': 'Publisher Model `projects/generativelanguage-ga/locations/us-central1/publishers/google/models/gemini-1.5-flash-002` was not found or your project does not have access to it. Please ensure you are using a valid model version. For more information, see: https://cloud.google.com/vertex-ai/generative-ai/docs/learn/model-versions', 'status': 'NOT_FOUND'}}\n"
          ]
        },
        {
          "name": "stderr",
          "output_type": "stream",
          "text": [
            "2025-09-26 04:09:30 - noveum_trace.transport.http_transport - INFO - 📤 EXPORTING TRACE: auto_trace_generate (ID: a74e7895-f404-4677-8a79-b06489f29ade) - 1 spans\n",
            "2025-09-26 04:09:30 - noveum_trace.transport.batch_processor - INFO - 📥 ADDING TRACE TO QUEUE: auto_trace_generate (ID: a74e7895-f404-4677-8a79-b06489f29ade) - 1 spans\n",
            "2025-09-26 04:09:30 - noveum_trace.transport.batch_processor - INFO - ✅ Successfully queued trace a74e7895-f404-4677-8a79-b06489f29ade\n",
            "2025-09-26 04:09:30 - noveum_trace.transport.http_transport - INFO - ✅ Trace a74e7895-f404-4677-8a79-b06489f29ade successfully queued for export\n"
          ]
        },
        {
          "name": "stdout",
          "output_type": "stream",
          "text": [
            "2025-09-26 04:09:30 - INFO - novaeval.evaluators.agent_evaluator - Saving intermediate results after 22 samples\n",
            "2025-09-26 04:09:30 - INFO - novaeval.evaluators.agent_evaluator - Intermediate results saved to demo_results/tavily_search_results_dataset/agent_evaluation_results.csv\n"
          ]
        },
        {
          "name": "stderr",
          "output_type": "stream",
          "text": [
            "Evaluating samples: 22it [00:55,  2.46s/it]"
          ]
        },
        {
          "name": "stdout",
          "output_type": "stream",
          "text": [
            "2025-09-26 04:09:30 - INFO - google_genai.models - AFC is enabled with max remote calls: 10.\n",
            "2025-09-26 04:09:31 - ERROR - novaeval.models.base - Error: 404 NOT_FOUND. {'error': {'code': 404, 'message': 'Publisher Model `projects/generativelanguage-ga/locations/us-central1/publishers/google/models/gemini-1.5-flash-002` was not found or your project does not have access to it. Please ensure you are using a valid model version. For more information, see: https://cloud.google.com/vertex-ai/generative-ai/docs/learn/model-versions', 'status': 'NOT_FOUND'}}\n"
          ]
        },
        {
          "name": "stderr",
          "output_type": "stream",
          "text": [
            "2025-09-26 04:09:31 - noveum_trace.transport.http_transport - INFO - 📤 EXPORTING TRACE: auto_trace_generate (ID: c6a8587a-e413-4086-96b5-8996c9a82c2d) - 1 spans\n",
            "2025-09-26 04:09:31 - noveum_trace.transport.batch_processor - INFO - 📥 ADDING TRACE TO QUEUE: auto_trace_generate (ID: c6a8587a-e413-4086-96b5-8996c9a82c2d) - 1 spans\n",
            "2025-09-26 04:09:31 - noveum_trace.transport.batch_processor - INFO - ✅ Successfully queued trace c6a8587a-e413-4086-96b5-8996c9a82c2d\n",
            "2025-09-26 04:09:31 - noveum_trace.transport.http_transport - INFO - ✅ Trace c6a8587a-e413-4086-96b5-8996c9a82c2d successfully queued for export\n"
          ]
        },
        {
          "name": "stdout",
          "output_type": "stream",
          "text": [
            "2025-09-26 04:09:31 - INFO - google_genai.models - AFC is enabled with max remote calls: 10.\n",
            "2025-09-26 04:09:32 - ERROR - novaeval.models.base - Error: 404 NOT_FOUND. {'error': {'code': 404, 'message': 'Publisher Model `projects/generativelanguage-ga/locations/us-central1/publishers/google/models/gemini-1.5-flash-002` was not found or your project does not have access to it. Please ensure you are using a valid model version. For more information, see: https://cloud.google.com/vertex-ai/generative-ai/docs/learn/model-versions', 'status': 'NOT_FOUND'}}\n"
          ]
        },
        {
          "name": "stderr",
          "output_type": "stream",
          "text": [
            "2025-09-26 04:09:32 - noveum_trace.transport.http_transport - INFO - 📤 EXPORTING TRACE: auto_trace_generate (ID: 0111619a-14a2-4fcc-9973-e56642322b8b) - 1 spans\n",
            "2025-09-26 04:09:32 - noveum_trace.transport.batch_processor - INFO - 📥 ADDING TRACE TO QUEUE: auto_trace_generate (ID: 0111619a-14a2-4fcc-9973-e56642322b8b) - 1 spans\n",
            "2025-09-26 04:09:32 - noveum_trace.transport.batch_processor - INFO - ✅ Successfully queued trace 0111619a-14a2-4fcc-9973-e56642322b8b\n",
            "2025-09-26 04:09:32 - noveum_trace.transport.http_transport - INFO - ✅ Trace 0111619a-14a2-4fcc-9973-e56642322b8b successfully queued for export\n"
          ]
        },
        {
          "name": "stdout",
          "output_type": "stream",
          "text": [
            "2025-09-26 04:09:32 - INFO - google_genai.models - AFC is enabled with max remote calls: 10.\n",
            "2025-09-26 04:09:33 - ERROR - novaeval.models.base - Error: 404 NOT_FOUND. {'error': {'code': 404, 'message': 'Publisher Model `projects/generativelanguage-ga/locations/us-central1/publishers/google/models/gemini-1.5-flash-002` was not found or your project does not have access to it. Please ensure you are using a valid model version. For more information, see: https://cloud.google.com/vertex-ai/generative-ai/docs/learn/model-versions', 'status': 'NOT_FOUND'}}\n"
          ]
        },
        {
          "name": "stderr",
          "output_type": "stream",
          "text": [
            "2025-09-26 04:09:33 - noveum_trace.transport.http_transport - INFO - 📤 EXPORTING TRACE: auto_trace_generate (ID: 43e2bf7d-8821-43d9-a470-0da6eaa5fef2) - 1 spans\n",
            "2025-09-26 04:09:33 - noveum_trace.transport.batch_processor - INFO - 📥 ADDING TRACE TO QUEUE: auto_trace_generate (ID: 43e2bf7d-8821-43d9-a470-0da6eaa5fef2) - 1 spans\n",
            "2025-09-26 04:09:33 - noveum_trace.transport.batch_processor - INFO - ✅ Successfully queued trace 43e2bf7d-8821-43d9-a470-0da6eaa5fef2\n",
            "2025-09-26 04:09:33 - noveum_trace.transport.http_transport - INFO - ✅ Trace 43e2bf7d-8821-43d9-a470-0da6eaa5fef2 successfully queued for export\n"
          ]
        },
        {
          "name": "stdout",
          "output_type": "stream",
          "text": [
            "2025-09-26 04:09:33 - INFO - novaeval.evaluators.agent_evaluator - Saving intermediate results after 23 samples\n",
            "2025-09-26 04:09:33 - INFO - novaeval.evaluators.agent_evaluator - Intermediate results saved to demo_results/tavily_search_results_dataset/agent_evaluation_results.csv\n"
          ]
        },
        {
          "name": "stderr",
          "output_type": "stream",
          "text": [
            "Evaluating samples: 23it [00:58,  2.52s/it]"
          ]
        },
        {
          "name": "stdout",
          "output_type": "stream",
          "text": [
            "2025-09-26 04:09:33 - INFO - google_genai.models - AFC is enabled with max remote calls: 10.\n",
            "2025-09-26 04:09:33 - ERROR - novaeval.models.base - Error: 404 NOT_FOUND. {'error': {'code': 404, 'message': 'Publisher Model `projects/generativelanguage-ga/locations/us-central1/publishers/google/models/gemini-1.5-flash-002` was not found or your project does not have access to it. Please ensure you are using a valid model version. For more information, see: https://cloud.google.com/vertex-ai/generative-ai/docs/learn/model-versions', 'status': 'NOT_FOUND'}}\n"
          ]
        },
        {
          "name": "stderr",
          "output_type": "stream",
          "text": [
            "2025-09-26 04:09:33 - noveum_trace.transport.http_transport - INFO - 📤 EXPORTING TRACE: auto_trace_generate (ID: c932b267-2e95-4121-b330-a11ae75ca532) - 1 spans\n",
            "2025-09-26 04:09:33 - noveum_trace.transport.batch_processor - INFO - 📥 ADDING TRACE TO QUEUE: auto_trace_generate (ID: c932b267-2e95-4121-b330-a11ae75ca532) - 1 spans\n",
            "2025-09-26 04:09:33 - noveum_trace.transport.batch_processor - INFO - ✅ Successfully queued trace c932b267-2e95-4121-b330-a11ae75ca532\n",
            "2025-09-26 04:09:33 - noveum_trace.transport.http_transport - INFO - ✅ Trace c932b267-2e95-4121-b330-a11ae75ca532 successfully queued for export\n"
          ]
        },
        {
          "name": "stdout",
          "output_type": "stream",
          "text": [
            "2025-09-26 04:09:33 - INFO - google_genai.models - AFC is enabled with max remote calls: 10.\n",
            "2025-09-26 04:09:34 - ERROR - novaeval.models.base - Error: 404 NOT_FOUND. {'error': {'code': 404, 'message': 'Publisher Model `projects/generativelanguage-ga/locations/us-central1/publishers/google/models/gemini-1.5-flash-002` was not found or your project does not have access to it. Please ensure you are using a valid model version. For more information, see: https://cloud.google.com/vertex-ai/generative-ai/docs/learn/model-versions', 'status': 'NOT_FOUND'}}\n"
          ]
        },
        {
          "name": "stderr",
          "output_type": "stream",
          "text": [
            "2025-09-26 04:09:34 - noveum_trace.transport.http_transport - INFO - 📤 EXPORTING TRACE: auto_trace_generate (ID: 822ce2d6-bbc0-431a-8e7f-489b66d9418a) - 1 spans\n",
            "2025-09-26 04:09:34 - noveum_trace.transport.batch_processor - INFO - 📥 ADDING TRACE TO QUEUE: auto_trace_generate (ID: 822ce2d6-bbc0-431a-8e7f-489b66d9418a) - 1 spans\n",
            "2025-09-26 04:09:34 - noveum_trace.transport.batch_processor - INFO - ✅ Successfully queued trace 822ce2d6-bbc0-431a-8e7f-489b66d9418a\n",
            "2025-09-26 04:09:34 - noveum_trace.transport.http_transport - INFO - ✅ Trace 822ce2d6-bbc0-431a-8e7f-489b66d9418a successfully queued for export\n"
          ]
        },
        {
          "name": "stdout",
          "output_type": "stream",
          "text": [
            "2025-09-26 04:09:34 - INFO - google_genai.models - AFC is enabled with max remote calls: 10.\n",
            "2025-09-26 04:09:35 - ERROR - novaeval.models.base - Error: 404 NOT_FOUND. {'error': {'code': 404, 'message': 'Publisher Model `projects/generativelanguage-ga/locations/us-central1/publishers/google/models/gemini-1.5-flash-002` was not found or your project does not have access to it. Please ensure you are using a valid model version. For more information, see: https://cloud.google.com/vertex-ai/generative-ai/docs/learn/model-versions', 'status': 'NOT_FOUND'}}\n"
          ]
        },
        {
          "name": "stderr",
          "output_type": "stream",
          "text": [
            "2025-09-26 04:09:35 - noveum_trace.transport.http_transport - INFO - 📤 EXPORTING TRACE: auto_trace_generate (ID: 19499960-526f-4daf-af8b-5ec25f6808ae) - 1 spans\n",
            "2025-09-26 04:09:35 - noveum_trace.transport.batch_processor - INFO - 📥 ADDING TRACE TO QUEUE: auto_trace_generate (ID: 19499960-526f-4daf-af8b-5ec25f6808ae) - 1 spans\n",
            "2025-09-26 04:09:35 - noveum_trace.transport.batch_processor - INFO - ✅ Successfully queued trace 19499960-526f-4daf-af8b-5ec25f6808ae\n",
            "2025-09-26 04:09:35 - noveum_trace.transport.http_transport - INFO - ✅ Trace 19499960-526f-4daf-af8b-5ec25f6808ae successfully queued for export\n"
          ]
        },
        {
          "name": "stdout",
          "output_type": "stream",
          "text": [
            "2025-09-26 04:09:35 - INFO - novaeval.evaluators.agent_evaluator - Saving intermediate results after 24 samples\n",
            "2025-09-26 04:09:35 - INFO - novaeval.evaluators.agent_evaluator - Intermediate results saved to demo_results/tavily_search_results_dataset/agent_evaluation_results.csv\n"
          ]
        },
        {
          "name": "stderr",
          "output_type": "stream",
          "text": [
            "Evaluating samples: 24it [01:00,  2.47s/it]"
          ]
        },
        {
          "name": "stdout",
          "output_type": "stream",
          "text": [
            "2025-09-26 04:09:35 - INFO - google_genai.models - AFC is enabled with max remote calls: 10.\n",
            "2025-09-26 04:09:36 - ERROR - novaeval.models.base - Error: 404 NOT_FOUND. {'error': {'code': 404, 'message': 'Publisher Model `projects/generativelanguage-ga/locations/us-central1/publishers/google/models/gemini-1.5-flash-002` was not found or your project does not have access to it. Please ensure you are using a valid model version. For more information, see: https://cloud.google.com/vertex-ai/generative-ai/docs/learn/model-versions', 'status': 'NOT_FOUND'}}\n"
          ]
        },
        {
          "name": "stderr",
          "output_type": "stream",
          "text": [
            "2025-09-26 04:09:36 - noveum_trace.transport.http_transport - INFO - 📤 EXPORTING TRACE: auto_trace_generate (ID: f074a0a8-549b-464e-8e0c-608c6c441dda) - 1 spans\n",
            "2025-09-26 04:09:36 - noveum_trace.transport.batch_processor - INFO - 📥 ADDING TRACE TO QUEUE: auto_trace_generate (ID: f074a0a8-549b-464e-8e0c-608c6c441dda) - 1 spans\n",
            "2025-09-26 04:09:36 - noveum_trace.transport.batch_processor - INFO - ✅ Successfully queued trace f074a0a8-549b-464e-8e0c-608c6c441dda\n",
            "2025-09-26 04:09:36 - noveum_trace.transport.http_transport - INFO - ✅ Trace f074a0a8-549b-464e-8e0c-608c6c441dda successfully queued for export\n"
          ]
        },
        {
          "name": "stdout",
          "output_type": "stream",
          "text": [
            "2025-09-26 04:09:36 - INFO - google_genai.models - AFC is enabled with max remote calls: 10.\n",
            "2025-09-26 04:09:37 - ERROR - novaeval.models.base - Error: 404 NOT_FOUND. {'error': {'code': 404, 'message': 'Publisher Model `projects/generativelanguage-ga/locations/us-central1/publishers/google/models/gemini-1.5-flash-002` was not found or your project does not have access to it. Please ensure you are using a valid model version. For more information, see: https://cloud.google.com/vertex-ai/generative-ai/docs/learn/model-versions', 'status': 'NOT_FOUND'}}\n"
          ]
        },
        {
          "name": "stderr",
          "output_type": "stream",
          "text": [
            "2025-09-26 04:09:37 - noveum_trace.transport.http_transport - INFO - 📤 EXPORTING TRACE: auto_trace_generate (ID: a14248ee-81ab-48d1-8d08-7f9dd9a9ceba) - 1 spans\n",
            "2025-09-26 04:09:37 - noveum_trace.transport.batch_processor - INFO - 📥 ADDING TRACE TO QUEUE: auto_trace_generate (ID: a14248ee-81ab-48d1-8d08-7f9dd9a9ceba) - 1 spans\n",
            "2025-09-26 04:09:37 - noveum_trace.transport.batch_processor - INFO - ✅ Successfully queued trace a14248ee-81ab-48d1-8d08-7f9dd9a9ceba\n",
            "2025-09-26 04:09:37 - noveum_trace.transport.http_transport - INFO - ✅ Trace a14248ee-81ab-48d1-8d08-7f9dd9a9ceba successfully queued for export\n"
          ]
        },
        {
          "name": "stdout",
          "output_type": "stream",
          "text": [
            "2025-09-26 04:09:37 - INFO - google_genai.models - AFC is enabled with max remote calls: 10.\n",
            "2025-09-26 04:09:38 - ERROR - novaeval.models.base - Error: 404 NOT_FOUND. {'error': {'code': 404, 'message': 'Publisher Model `projects/generativelanguage-ga/locations/us-central1/publishers/google/models/gemini-1.5-flash-002` was not found or your project does not have access to it. Please ensure you are using a valid model version. For more information, see: https://cloud.google.com/vertex-ai/generative-ai/docs/learn/model-versions', 'status': 'NOT_FOUND'}}\n"
          ]
        },
        {
          "name": "stderr",
          "output_type": "stream",
          "text": [
            "2025-09-26 04:09:38 - noveum_trace.transport.http_transport - INFO - 📤 EXPORTING TRACE: auto_trace_generate (ID: 3706c658-58bc-4f09-8e5e-48153d21cd31) - 1 spans\n",
            "2025-09-26 04:09:38 - noveum_trace.transport.batch_processor - INFO - 📥 ADDING TRACE TO QUEUE: auto_trace_generate (ID: 3706c658-58bc-4f09-8e5e-48153d21cd31) - 1 spans\n",
            "2025-09-26 04:09:38 - noveum_trace.transport.batch_processor - INFO - ✅ Successfully queued trace 3706c658-58bc-4f09-8e5e-48153d21cd31\n",
            "2025-09-26 04:09:38 - noveum_trace.transport.http_transport - INFO - ✅ Trace 3706c658-58bc-4f09-8e5e-48153d21cd31 successfully queued for export\n"
          ]
        },
        {
          "name": "stdout",
          "output_type": "stream",
          "text": [
            "2025-09-26 04:09:38 - INFO - novaeval.evaluators.agent_evaluator - Saving intermediate results after 25 samples\n",
            "2025-09-26 04:09:38 - INFO - novaeval.evaluators.agent_evaluator - Intermediate results saved to demo_results/tavily_search_results_dataset/agent_evaluation_results.csv\n"
          ]
        },
        {
          "name": "stderr",
          "output_type": "stream",
          "text": [
            "Evaluating samples: 25it [01:03,  2.54s/it]"
          ]
        },
        {
          "name": "stdout",
          "output_type": "stream",
          "text": [
            "2025-09-26 04:09:38 - INFO - novaeval.evaluators.agent_evaluator - Saving final results\n",
            "2025-09-26 04:09:38 - INFO - novaeval.evaluators.agent_evaluator - Reloaded 25 results from CSV\n",
            "2025-09-26 04:09:38 - INFO - novaeval.evaluators.agent_evaluator - Agent evaluation completed\n",
            "\n",
            "✅ Evaluation completed!\n",
            "❌ Results file not found\n"
          ]
        },
        {
          "name": "stderr",
          "output_type": "stream",
          "text": [
            "\n"
          ]
        }
      ],
      "source": [
        "# Run evaluation using the AgentEvaluator's run_all method\n",
        "print(\"🚀 Running evaluation on sample data...\")\n",
        "\n",
        "if gemini_model and evaluator:\n",
        "    try:\n",
        "        # Create a smaller dataset for demo purposes\n",
        "        sample_data = [data for data in dataset.data if data.agent_response][:25]\n",
        "        print(f\"\\n📊 Evaluating {len(sample_data)} sample records...\")\n",
        "        \n",
        "        # Create a temporary dataset with just the sample data\n",
        "        sample_dataset = AgentDataset()\n",
        "        sample_dataset.data = sample_data\n",
        "        \n",
        "        # Create a new evaluator with the sample dataset\n",
        "        sample_evaluator = AgentEvaluator(\n",
        "            agent_dataset=sample_dataset,\n",
        "            models=[gemini_model],\n",
        "            scoring_functions=scoring_functions,\n",
        "            output_dir=f\"./demo_results/{(os.path.splitext(os.path.basename(file_name))[0])}\",\n",
        "            stream=False,\n",
        "            include_reasoning=True\n",
        "        )\n",
        "        \n",
        "        # Run the evaluation\n",
        "        sample_evaluator.run_all(save_every=1, file_type=\"csv\")\n",
        "        \n",
        "        print(\"\\n✅ Evaluation completed!\")\n",
        "        \n",
        "        # Read and display results\n",
        "        import pandas as pd\n",
        "        results_file = \"./demo_results/sample_evaluation/agent_evaluation_results.csv\"\n",
        "        \n",
        "        if pd.io.common.file_exists(results_file):\n",
        "            results_df = pd.read_csv(results_file)\n",
        "            print(f\"\\n📊 Results Summary:\")\n",
        "            \n",
        "            # Calculate averages for each scorer\n",
        "            scorer_columns = [col for col in results_df.columns if col not in ['user_id', 'task_id', 'turn_id', 'agent_name'] and not col.endswith('_reasoning')]\n",
        "            \n",
        "            for col in scorer_columns:\n",
        "                if results_df[col].dtype in ['float64', 'int64']:\n",
        "                    avg_score = results_df[col].mean()\n",
        "                    print(f\"  - {col}: {avg_score:.2f}\")\n",
        "            \n",
        "            # Show individual scores\n",
        "            print(f\"\\n🔍 Individual Scores:\")\n",
        "            for i, row in results_df.iterrows():\n",
        "                print(f\"\\n  Record {i+1} (Task: {row.get('task_id', 'N/A')}):\")\n",
        "                for col in scorer_columns:\n",
        "                    if pd.notna(row[col]):\n",
        "                        print(f\"    - {col}: {row[col]}\")\n",
        "        else:\n",
        "            print(\"❌ Results file not found\")\n",
        "        \n",
        "    except Exception as e:\n",
        "        print(f\"❌ Error during evaluation: {e}\")\n",
        "        print(f\"Error type: {type(e).__name__}\")\n",
        "        import traceback\n",
        "        traceback.print_exc()\n",
        "        \n",
        "else:\n",
        "    print(\"⚠️  Skipping evaluation - missing model or evaluator\")\n"
      ]
    },
    {
      "cell_type": "markdown",
      "metadata": {},
      "source": [
        "## Step 7: Analysis and Insights\n"
      ]
    },
    {
      "cell_type": "code",
      "execution_count": 12,
      "metadata": {},
      "outputs": [
        {
          "name": "stdout",
          "output_type": "stream",
          "text": [
            "🔍 Dataset Analysis:\n",
            "\n",
            "=== Agent Behavior Patterns ===\n",
            "\n",
            "📈 Tool Usage:\n",
            "\n",
            "📋 Task Types:\n",
            "  - other: 2301\n",
            "\n",
            "📝 Response Statistics:\n",
            "  - Average response length: 679.2 characters\n",
            "  - Min response length: 70\n",
            "  - Max response length: 7309\n"
          ]
        }
      ],
      "source": [
        "# Analyze the dataset characteristics\n",
        "print(\"🔍 Dataset Analysis:\")\n",
        "print(\"\\n=== Agent Behavior Patterns ===\")\n",
        "\n",
        "# Analyze tool usage patterns\n",
        "tool_patterns = {}\n",
        "task_types = {}\n",
        "response_lengths = []\n",
        "\n",
        "for data in dataset.data:\n",
        "    # Tool usage\n",
        "    if data.tool_calls:\n",
        "        for tool_call in data.tool_calls:\n",
        "            if hasattr(tool_call, 'tool_name'):\n",
        "                tool_name = tool_call.tool_name\n",
        "                if tool_name not in tool_patterns:\n",
        "                    tool_patterns[tool_name] = {'count': 0, 'success_rate': 0}\n",
        "                tool_patterns[tool_name]['count'] += 1\n",
        "    \n",
        "    # Task analysis\n",
        "    if data.agent_task:\n",
        "        # Simple categorization\n",
        "        task_lower = data.agent_task.lower()\n",
        "        if 'user_input' in task_lower:\n",
        "            task_types['user_input'] = task_types.get('user_input', 0) + 1\n",
        "        elif 'exit' in task_lower:\n",
        "            task_types['exit_command'] = task_types.get('exit_command', 0) + 1\n",
        "        else:\n",
        "            task_types['other'] = task_types.get('other', 0) + 1\n",
        "    \n",
        "    # Response analysis\n",
        "    if data.agent_response:\n",
        "        response_lengths.append(len(data.agent_response))\n",
        "\n",
        "print(f\"\\n📈 Tool Usage:\")\n",
        "for tool, stats in tool_patterns.items():\n",
        "    print(f\"  - {tool}: {stats['count']} uses\")\n",
        "\n",
        "print(f\"\\n📋 Task Types:\")\n",
        "for task_type, count in task_types.items():\n",
        "    print(f\"  - {task_type}: {count}\")\n",
        "\n",
        "if response_lengths:\n",
        "    avg_response_length = sum(response_lengths) / len(response_lengths)\n",
        "    print(f\"\\n📝 Response Statistics:\")\n",
        "    print(f\"  - Average response length: {avg_response_length:.1f} characters\")\n",
        "    print(f\"  - Min response length: {min(response_lengths)}\")\n",
        "    print(f\"  - Max response length: {max(response_lengths)}\")\n"
      ]
    },
    {
      "cell_type": "markdown",
      "metadata": {},
      "source": [
        "## Step 8: Export Results (Optional)\n"
      ]
    },
    {
      "cell_type": "code",
      "execution_count": 13,
      "metadata": {},
      "outputs": [
        {
          "name": "stdout",
          "output_type": "stream",
          "text": [
            "💾 Exporting processed dataset...\n",
            "❌ Export error: [Errno 2] No such file or directory: 'processed_agent_split_datasets/tavily_search_results_dataset.json'\n",
            "\n",
            "🎉 Demo completed successfully!\n",
            "\n",
            "📋 Summary:\n",
            "  - Processed 2301 spans from split_datasets/tavily_search_results_dataset.json\n",
            "  - Created 2301 AgentData records\n",
            "  - Configured evaluation with Gemini model and 6 scorers\n",
            "  - Exported processed dataset for future use\n"
          ]
        }
      ],
      "source": [
        "\n",
        "# Export the processed dataset for future use\n",
        "print(\"💾 Exporting processed dataset...\")\n",
        "\n",
        "try:\n",
        "    # Export to JSON\n",
        "    dataset.export_to_json(f'processed_agent_{file_name}')\n",
        "    print(f\"✅ Exported to processed_agent_{file_name}\")\n",
        "    \n",
        "    # Export to CSV (optional)\n",
        "    dataset.export_to_csv('processed_agent_dataset.csv')\n",
        "    print(\"✅ Exported to processed_agent_dataset.csv\")\n",
        "    \n",
        "except Exception as e:\n",
        "    print(f\"❌ Export error: {e}\")\n",
        "\n",
        "print(\"\\n🎉 Demo completed successfully!\")\n",
        "print(\"\\n📋 Summary:\")\n",
        "print(f\"  - Processed {len(spans_data)} spans from {file_name}\")\n",
        "print(f\"  - Created {len(dataset.data)} AgentData records\")\n",
        "print(f\"  - Configured evaluation with Gemini model and 6 scorers\")\n",
        "if 'results' in locals():\n",
        "    print(f\"  - Successfully evaluated sample data\")\n",
        "print(f\"  - Exported processed dataset for future use\")\n"
      ]
    },
    {
      "cell_type": "code",
      "execution_count": null,
      "metadata": {},
      "outputs": [],
      "source": []
    },
    {
      "cell_type": "code",
      "execution_count": null,
      "metadata": {},
      "outputs": [],
      "source": []
    }
  ],
  "metadata": {
    "kernelspec": {
      "display_name": ".venv",
      "language": "python",
      "name": "python3"
    },
    "language_info": {
      "codemirror_mode": {
        "name": "ipython",
        "version": 3
      },
      "file_extension": ".py",
      "mimetype": "text/x-python",
      "name": "python",
      "nbconvert_exporter": "python",
      "pygments_lexer": "ipython3",
      "version": "3.10.12"
    }
  },
  "nbformat": 4,
  "nbformat_minor": 2
}
