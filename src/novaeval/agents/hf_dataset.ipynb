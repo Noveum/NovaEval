{
 "cells": [
  {
   "cell_type": "code",
   "execution_count": null,
   "id": "579ed718",
   "metadata": {},
   "outputs": [],
   "source": [
    "print(\"hi\")"
   ]
  },
  {
   "cell_type": "code",
   "execution_count": null,
   "id": "68254c75",
   "metadata": {},
   "outputs": [],
   "source": [
    "import pandas as pd\n",
    "\n",
    "# If you have pyarrow or fastparquet installed\n",
    "df = pd.read_parquet(\"/mnt/drive2/train-00000-of-00012.parquet\")  # Automatically picks a backend\n",
    "\n",
    "print(len(df))\n",
    "print(df.columns)\n",
    "\n"
   ]
  },
  {
   "cell_type": "code",
   "execution_count": null,
   "id": "3af8b34e",
   "metadata": {},
   "outputs": [],
   "source": [
    "record = df.iloc[0]\n",
    "print(record[\"instance_id\"])\n",
    "print(record[\"model_name\"])\n",
    "print(record[\"target\"])\n",
    "print(record[\"exit_status\"])\n",
    "print(record[\"eval_logs\"])\n",
    "# print(record['generated_patch'])\n"
   ]
  },
  {
   "cell_type": "code",
   "execution_count": null,
   "id": "0b45de49",
   "metadata": {},
   "outputs": [],
   "source": [
    "\n",
    "traj = record[\"trajectory\"]\n"
   ]
  },
  {
   "cell_type": "code",
   "execution_count": null,
   "id": "3dbca8ba",
   "metadata": {},
   "outputs": [],
   "source": [
    "print(type(traj))\n",
    "print(len(traj))\n",
    "# print(traj[0])\n",
    "print(type(traj[0]))\n",
    "\n",
    "# pprint.pprint(traj[0])\n",
    "\n",
    "for i in range(5):\n",
    "    print(f\"Keys in traj[{i}]:\", list(traj[i].keys()))\n",
    "    print(traj[i][\"mask\"])\n",
    "    print(traj[i][\"role\"])\n",
    "    # print(traj[i]['text'])\n",
    "    # print(traj[i]['reward'])\n",
    "\n",
    "for i in range(len(traj)):\n",
    "    print(f\"traj[{i}]['SYSTEM_PROMPT']:\", traj[i][\"system_prompt\"])\n",
    "    print(f\"traj[{i}]['text']:\", traj[i][\"text\"])\n",
    "    print(\"+\"*100)\n",
    "\n"
   ]
  },
  {
   "cell_type": "code",
   "execution_count": null,
   "id": "9da4f158",
   "metadata": {},
   "outputs": [],
   "source": []
  }
 ],
 "metadata": {
  "kernelspec": {
   "display_name": ".venv",
   "language": "python",
   "name": "python3"
  },
  "language_info": {
   "codemirror_mode": {
    "name": "ipython",
    "version": 3
   },
   "file_extension": ".py",
   "mimetype": "text/x-python",
   "name": "python",
   "nbconvert_exporter": "python",
   "pygments_lexer": "ipython3",
   "version": "3.10.12"
  }
 },
 "nbformat": 4,
 "nbformat_minor": 5
}
