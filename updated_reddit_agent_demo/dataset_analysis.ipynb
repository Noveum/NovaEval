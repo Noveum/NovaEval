{
 "cells": [
  {
   "cell_type": "code",
   "execution_count": 9,
   "id": "0d3b4b4c",
   "metadata": {},
   "outputs": [
    {
     "name": "stdout",
     "output_type": "stream",
     "text": [
      "Dataset shape: (41, 20)\n",
      "\n",
      "Column names:\n",
      "['user_id', 'task_id', 'turn_id', 'ground_truth', 'expected_tool_call', 'agent_name', 'agent_role', 'agent_task', 'system_prompt', 'agent_response', 'trace', 'tools_available', 'tool_calls', 'parameters_passed', 'tool_call_results', 'retrieval_query', 'retrieved_context', 'exit_status', 'agent_exit', 'metadata']\n",
      "\n",
      "==================================================\n",
      "NONE/NULL VALUES ANALYSIS\n",
      "==================================================\n",
      "\n",
      "Null/NaN values per column:\n",
      "user_id: 41 null values (100.0%)\n",
      "task_id: 0 null values (0.0%)\n",
      "turn_id: 0 null values (0.0%)\n",
      "ground_truth: 41 null values (100.0%)\n",
      "expected_tool_call: 41 null values (100.0%)\n",
      "agent_name: 0 null values (0.0%)\n",
      "agent_role: 0 null values (0.0%)\n",
      "agent_task: 0 null values (0.0%)\n",
      "system_prompt: 0 null values (0.0%)\n",
      "agent_response: 1 null values (2.4%)\n",
      "trace: 31 null values (75.6%)\n",
      "tools_available: 0 null values (0.0%)\n",
      "tool_calls: 0 null values (0.0%)\n",
      "parameters_passed: 0 null values (0.0%)\n",
      "tool_call_results: 0 null values (0.0%)\n",
      "retrieval_query: 34 null values (82.9%)\n",
      "retrieved_context: 41 null values (100.0%)\n",
      "exit_status: 0 null values (0.0%)\n",
      "agent_exit: 0 null values (0.0%)\n",
      "metadata: 41 null values (100.0%)\n",
      "\n",
      "Total rows: 41\n",
      "Total columns: 20\n",
      "\n",
      "Columns with missing data (sorted by count):\n",
      "  user_id: 41 (100.0%)\n",
      "  ground_truth: 41 (100.0%)\n",
      "  expected_tool_call: 41 (100.0%)\n",
      "  retrieved_context: 41 (100.0%)\n",
      "  metadata: 41 (100.0%)\n",
      "  retrieval_query: 34 (82.9%)\n",
      "  trace: 31 (75.6%)\n",
      "  agent_response: 1 (2.4%)\n",
      "\n",
      "Columns with empty strings (sorted by count):\n",
      "  No empty strings found in any column\n"
     ]
    }
   ],
   "source": [
    "import pandas as pd\n",
    "import numpy as np\n",
    "\n",
    "# Load the dataset\n",
    "df = pd.read_csv('processed_agent_dataset.csv')\n",
    "\n",
    "# Display basic info about the dataset\n",
    "print(\"Dataset shape:\", df.shape)\n",
    "print(\"\\nColumn names:\")\n",
    "print(df.columns.tolist())\n",
    "\n",
    "# Count None/NaN values for each column\n",
    "print(\"\\n\" + \"=\"*50)\n",
    "print(\"NONE/NULL VALUES ANALYSIS\")\n",
    "print(\"=\"*50)\n",
    "\n",
    "# Count None/NaN values in each column\n",
    "null_counts = df.isnull().sum()\n",
    "empty_string_counts = (df == '').sum()\n",
    "\n",
    "print(\"\\nNull/NaN values per column:\")\n",
    "for col in df.columns:\n",
    "    null_count = null_counts[col]\n",
    "    empty_count = empty_string_counts[col]\n",
    "    total_rows = len(df)\n",
    "    print(f\"{col}: {null_count} null values ({null_count/total_rows*100:.1f}%)\")\n",
    "    if empty_count > 0:\n",
    "        print(f\"  + {empty_count} empty strings ({empty_count/total_rows*100:.1f}%)\")\n",
    "\n",
    "print(f\"\\nTotal rows: {total_rows}\")\n",
    "print(f\"Total columns: {len(df.columns)}\")\n",
    "\n",
    "# Show columns with the most missing data\n",
    "print(\"\\nColumns with missing data (sorted by count):\")\n",
    "missing_data = null_counts[null_counts > 0].sort_values(ascending=False)\n",
    "if len(missing_data) > 0:\n",
    "    for col, count in missing_data.items():\n",
    "        percentage = count/total_rows*100\n",
    "        print(f\"  {col}: {count} ({percentage:.1f}%)\")\n",
    "else:\n",
    "    print(\"  No null values found in any column\")\n",
    "\n",
    "# Check for empty strings\n",
    "print(\"\\nColumns with empty strings (sorted by count):\")\n",
    "empty_data = empty_string_counts[empty_string_counts > 0].sort_values(ascending=False)\n",
    "if len(empty_data) > 0:\n",
    "    for col, count in empty_data.items():\n",
    "        percentage = count/total_rows*100\n",
    "        print(f\"  {col}: {count} ({percentage:.1f}%)\")\n",
    "else:\n",
    "    print(\"  No empty strings found in any column\")"
   ]
  },
  {
   "cell_type": "code",
   "execution_count": 10,
   "id": "2942427d",
   "metadata": {},
   "outputs": [
    {
     "name": "stdout",
     "output_type": "stream",
     "text": [
      "tool_calls\n",
      "[]                                                                                                                                                                                  32\n",
      "[{\"tool_name\": \"user_input\", \"parameters\": {\"input\": \"Please provide more information about the tools you have access to.\"}, \"call_id\": \"eb4e2099-e0d7-4bce-80c8-66a37e75c4f5\"}]     1\n",
      "[{\"tool_name\": \"_Exception\", \"parameters\": {\"input\": \"Invalid Format: Missing 'Action Input:' after 'Action:'\"}, \"call_id\": \"56ceef81-ce4b-48d6-839d-261cbe898c69\"}]                 1\n",
      "[{\"tool_name\": \"langchain_retriever\", \"parameters\": {\"input\": \"fun fact\"}, \"call_id\": \"736beaac-5acb-4f40-91ae-6700a15dde11\"}]                                                       1\n",
      "[{\"tool_name\": \"langchain_retriever\", \"parameters\": {\"input\": \"fun fact\"}, \"call_id\": \"46681553-289c-4d51-b978-d3641e5c531c\"}]                                                       1\n",
      "[{\"tool_name\": \"langchain_retriever\", \"parameters\": {\"input\": \"fun fact from the docs\"}, \"call_id\": \"fb6ad4d3-46aa-4333-b680-fb215e7f9a12\"}]                                         1\n",
      "[{\"tool_name\": \"langchain_retriever\", \"parameters\": {\"input\": \"fun fact\"}, \"call_id\": \"f0bc496c-c1ca-4af4-ae1e-b8bc22466102\"}]                                                       1\n",
      "[{\"tool_name\": \"langchain_retriever\", \"parameters\": {\"input\": \"last question\"}, \"call_id\": \"ff1e1a7d-4da0-4724-b0df-d790c6e902fe\"}]                                                  1\n",
      "[{\"tool_name\": \"langchain_retriever\", \"parameters\": {\"input\": \"fun fact\"}, \"call_id\": \"4ba90ad3-eb85-4c60-a8e0-480d0d395a9f\"}]                                                       1\n",
      "[{\"tool_name\": \"langchain_retriever\", \"parameters\": {\"input\": \"how to use langchain retriever tool\"}, \"call_id\": \"028bb2cf-6be6-4613-8bf6-22527c2139e0\"}]                            1\n",
      "Name: count, dtype: int64\n"
     ]
    }
   ],
   "source": [
    "# Check the data types\n",
    "print(df['tool_calls'].value_counts())\n"
   ]
  },
  {
   "cell_type": "code",
   "execution_count": null,
   "id": "a3eb86ce",
   "metadata": {},
   "outputs": [],
   "source": []
  },
  {
   "cell_type": "code",
   "execution_count": null,
   "id": "4cf4495f",
   "metadata": {},
   "outputs": [],
   "source": []
  }
 ],
 "metadata": {
  "kernelspec": {
   "display_name": ".venv",
   "language": "python",
   "name": "python3"
  },
  "language_info": {
   "codemirror_mode": {
    "name": "ipython",
    "version": 3
   },
   "file_extension": ".py",
   "mimetype": "text/x-python",
   "name": "python",
   "nbconvert_exporter": "python",
   "pygments_lexer": "ipython3",
   "version": "3.10.12"
  }
 },
 "nbformat": 4,
 "nbformat_minor": 5
}
