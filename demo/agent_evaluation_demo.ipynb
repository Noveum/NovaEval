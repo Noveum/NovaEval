{
  "cells": [
    {
      "cell_type": "markdown",
      "metadata": {},
      "source": [
        "# Agent Evaluation Demo with NovaEval\n",
        "\n",
        "This notebook demonstrates how to:\n",
        "1. Load agent trace data from dataset.json or dataset_tool_calls_removed.json\n",
        "2. Map trace spans to AgentData format\n",
        "3. Create an AgentDataset \n",
        "4. Evaluate agent performance using AgentEvaluator with Gemini model\n",
        "5. Analyze results with multiple scorers\n"
      ]
    },
    {
      "cell_type": "code",
      "execution_count": 34,
      "metadata": {},
      "outputs": [
        {
          "name": "stdout",
          "output_type": "stream",
          "text": [
            "✅ All imports successful!\n"
          ]
        }
      ],
      "source": [
        "import json\n",
        "import re\n",
        "from typing import Any, Dict, List, Optional, Union\n",
        "\n",
        "# NovaEval imports\n",
        "from novaeval.agents.agent_data import AgentData, ToolSchema, ToolCall, ToolResult\n",
        "from novaeval.datasets.agent_dataset import AgentDataset\n",
        "from novaeval.evaluators.agent_evaluator import AgentEvaluator\n",
        "from novaeval.models.gemini import GeminiModel\n",
        "from novaeval.scorers.agent_scorers import (\n",
        "    context_relevancy_scorer,\n",
        "    role_adherence_scorer,\n",
        "    task_progression_scorer,\n",
        "    tool_relevancy_scorer,\n",
        "    tool_correctness_scorer,\n",
        "    parameter_correctness_scorer\n",
        ")\n",
        "from dotenv import load_dotenv\n",
        "\n",
        "load_dotenv()\n",
        "\n",
        "print(\"✅ All imports successful!\")\n"
      ]
    },
    {
      "cell_type": "markdown",
      "metadata": {},
      "source": [
        "## Step 1: Load and Examine Dataset Structure\n"
      ]
    },
    {
      "cell_type": "code",
      "execution_count": 35,
      "metadata": {},
      "outputs": [
        {
          "name": "stdout",
          "output_type": "stream",
          "text": [
            "📊 Loaded 41 spans from dataset_tool_calls_removed.json\n",
            "\n",
            "🔍 Sample span types:\n",
            "  - chain_start.unknown: 3\n",
            "  - llm.openai: 7\n"
          ]
        }
      ],
      "source": [
        "# Load the dataset\n",
        "file_name = 'dataset_tool_calls_removed.json'\n",
        "with open(file_name, 'r') as f:\n",
        "    spans_data = json.load(f)\n",
        "\n",
        "print(f\"📊 Loaded {len(spans_data)} spans from {file_name}\")\n",
        "print(f\"\\n🔍 Sample span types:\")\n",
        "\n",
        "# Analyze span types\n",
        "span_types = {}\n",
        "for span in spans_data[:10]:  # Look at first 10 spans\n",
        "    span_name = span.get('name', 'unknown')\n",
        "    if span_name not in span_types:\n",
        "        span_types[span_name] = 0\n",
        "    span_types[span_name] += 1\n",
        "\n",
        "for span_type, count in span_types.items():\n",
        "    print(f\"  - {span_type}: {count}\")\n"
      ]
    },
    {
      "cell_type": "markdown",
      "metadata": {},
      "source": [
        "## Step 2: Implement Field Mapping Logic\n"
      ]
    },
    {
      "cell_type": "code",
      "execution_count": 45,
      "metadata": {},
      "outputs": [],
      "source": [
        "def parse_tools_from_prompt(prompt: str) -> List[ToolSchema]:\n",
        "    \"\"\"\n",
        "    Parse tool definitions from LLM prompts using regex.\n",
        "    \n",
        "    Expected format: tool_name(param: type = default) -> return_type - description\n",
        "    \"\"\"\n",
        "    # Pattern to match tool signatures\n",
        "    pattern = r'(\\w+)\\(([^)]*)\\)\\s*->\\s*(\\w+)\\s*-\\s*(.+?)(?=\\n\\w+\\(|$)'\n",
        "    matches = re.findall(pattern, prompt, re.DOTALL)\n",
        "    \n",
        "    tools = []\n",
        "    for match in matches:\n",
        "        tool_name, params_str, return_type, description = match\n",
        "        \n",
        "        # Parse parameters\n",
        "        args_schema = parse_params(params_str)\n",
        "        \n",
        "        tool = ToolSchema(\n",
        "            name=tool_name,\n",
        "            description=description.strip(),\n",
        "            args_schema=args_schema,\n",
        "            return_schema={\"type\": return_type}\n",
        "        )\n",
        "        tools.append(tool)\n",
        "    \n",
        "    return tools\n",
        "\n",
        "def parse_params(params_str: str) -> Dict[str, Any]:\n",
        "    \"\"\"\n",
        "    Parse parameter string into schema dictionary.\n",
        "    \n",
        "    Format: param_name: type = default_value\n",
        "    \"\"\"\n",
        "    if not params_str.strip():\n",
        "        return {}\n",
        "    \n",
        "    # Split parameters by comma\n",
        "    params = [p.strip() for p in params_str.split(',') if p.strip()]\n",
        "    schema = {}\n",
        "    \n",
        "    for param in params:\n",
        "        if ':' in param:\n",
        "            parts = param.split(':', 1)\n",
        "            param_name = parts[0].strip()\n",
        "            type_and_default = parts[1].strip()\n",
        "            \n",
        "            # Extract type and default value\n",
        "            if '=' in type_and_default:\n",
        "                type_part, default_part = type_and_default.split('=', 1)\n",
        "                param_type = type_part.strip()\n",
        "                default_val = default_part.strip().strip('\"\\'')\n",
        "                schema[param_name] = {'type': param_type, 'default': default_val}\n",
        "            else:\n",
        "                param_type = type_and_default.strip()\n",
        "                schema[param_name] = {'type': param_type}\n",
        "    \n",
        "    return schema\n",
        "\n",
        "def identify_span_type(span: Dict[str, Any]) -> str:\n",
        "    \"\"\"\n",
        "    Identify span type based on attributes.\n",
        "    \"\"\"\n",
        "    attributes = span.get('attributes', {})\n",
        "    \n",
        "    # Check for agent attributes\n",
        "    if any('chain.name' == key for key in attributes.keys()):\n",
        "        return 'agent'\n",
        "    \n",
        "    # Check for LLM attributes\n",
        "    if any('llm.model' == key for key in attributes.keys()):\n",
        "        return 'llm'\n",
        "    \n",
        "    # Check for tool attributes\n",
        "    if any('tool.name' == key for key in attributes.keys()):\n",
        "        return 'tool'\n",
        "    print('returning unknown type for span')\n",
        "    return 'unknown'\n"
      ]
    },
    {
      "cell_type": "code",
      "execution_count": 46,
      "metadata": {},
      "outputs": [
        {
          "name": "stdout",
          "output_type": "stream",
          "text": [
            "✅ Field mapping functions defined!\n"
          ]
        }
      ],
      "source": [
        "def map_span_to_agent_data(span: Dict[str, Any]) -> AgentData:\n",
        "    \"\"\"\n",
        "    Map a single span from file_name to AgentData format.\n",
        "    \"\"\"\n",
        "    attributes = span.get('attributes', {})\n",
        "    events = span.get('events', [])\n",
        "    span_type = identify_span_type(span)\n",
        "\n",
        "    # Base mappings\n",
        "    data = {\n",
        "        'user_id': span.get('metadata', {}).get('user_id', None),\n",
        "        'task_id': span.get('trace_id'),\n",
        "        'turn_id': span.get('span_id'),\n",
        "        'ground_truth': None,\n",
        "        'expected_tool_call': None,\n",
        "        'agent_name': span_type,\n",
        "        'agent_role': span_type,\n",
        "        'system_prompt': \"You are a helpful customer support agent\",\n",
        "        'metadata': None,\n",
        "        'exit_status': span.get('status'),\n",
        "        'tools_available': [],\n",
        "        'tool_calls': [],\n",
        "        'parameters_passed': {},\n",
        "        'tool_call_results': [],\n",
        "        'retrieval_query': None,\n",
        "        'retrieved_context': None,\n",
        "        'agent_exit': False,\n",
        "        'trace': None\n",
        "    }\n",
        "    \n",
        "    # Span-specific mappings\n",
        "    if span_type == 'agent':\n",
        "        # Agent task\n",
        "        chain_inputs = attributes.get('chain.inputs', {})\n",
        "        if isinstance(chain_inputs, dict) and 'input' in chain_inputs:\n",
        "            data['agent_task'] = chain_inputs['input']\n",
        "        else:\n",
        "            print('agent_task not found')\n",
        "        # Agent response\n",
        "        finish_values = attributes.get('agent.output.finish.return_values', {})\n",
        "        if isinstance(finish_values, dict) and 'output' in finish_values:\n",
        "            data['agent_response'] = finish_values['output']\n",
        "        else:\n",
        "            print(\"agent_response is not available\")\n",
        "        # Tool calls from agent actions\n",
        "        tool_name = attributes.get('agent.output.action.tool')\n",
        "        tool_input = attributes.get('agent.output.action.tool_input')\n",
        "        \n",
        "        if tool_name:\n",
        "            tool_call = ToolCall(\n",
        "                tool_name=tool_name,\n",
        "                parameters={'input': tool_input} if tool_input else {},\n",
        "                call_id=span['span_id']\n",
        "            )\n",
        "            data['tool_calls'] = [tool_call]\n",
        "            data['parameters_passed'] = {'input': tool_input} if tool_input else {}\n",
        "            \n",
        "            # Handle retrieval query for langchain_retriever\n",
        "            if tool_name == 'langchain_retriever' and tool_input:\n",
        "                data['retrieval_query'] = [tool_input]\n",
        "        \n",
        "        # Agent exit status\n",
        "        data['agent_exit'] = any(event.get('name') == 'agent_finish' for event in events)\n",
        "        \n",
        "        # Trace (dump events as JSON)\n",
        "        if events:\n",
        "            data['trace'] = json.dumps(events)\n",
        "    \n",
        "    elif span_type == 'llm':\n",
        "        # Agent response from LLM output\n",
        "        llm_input = attributes.get('llm.input.prompts', ['input is not available'])\n",
        "        data['agent_task'] = llm_input[0]\n",
        "\n",
        "        llm_responses = attributes.get('llm.output.response', [])\n",
        "        if llm_responses:\n",
        "            data['agent_response'] = llm_responses[0]\n",
        "        else:\n",
        "            print(\"llm_response is not available\")\n",
        "        # Parse tools from prompt\n",
        "        prompts = attributes.get('llm.input.prompts', [])\n",
        "        if prompts:\n",
        "            try:\n",
        "                tools = parse_tools_from_prompt(prompts[0])\n",
        "                data['tools_available'] = tools\n",
        "            except Exception:\n",
        "                # Fallback to empty list if parsing fails\n",
        "                data['tools_available'] = []\n",
        "        \n",
        "        data['parameters_passed'] = {}\n",
        "    \n",
        "    elif span_type == 'tool':\n",
        "        # Agent response from tool output\n",
        "        tool_output = attributes.get('tool.output.output')\n",
        "        data['agent_task'] = f\"This is a simple tool call, and the tool will execute as programmed. Its name is - {attributes.get('tool.name')}\"\n",
        "        if tool_output:\n",
        "            data['agent_response'] = tool_output\n",
        "        else:\n",
        "            print(\"tool_output is not available\")\n",
        "        # Tool call results\n",
        "        tool_name = attributes.get('tool.name')\n",
        "        if tool_name and tool_output is not None:\n",
        "            tool_result = ToolResult(\n",
        "                call_id=span['span_id'],\n",
        "                result=tool_output,\n",
        "                success=span.get('status') == 'ok',\n",
        "                error_message=None if span.get('status') == 'ok' else 'Tool execution failed'\n",
        "            )\n",
        "            data['tool_call_results'] = [tool_result]\n",
        "            \n",
        "            # Handle retrieved context for langchain_retriever\n",
        "            if tool_name == 'langchain_retriever':\n",
        "                data['retrieved_context'] = [[tool_output]]\n",
        "        \n",
        "        # Parameters from tool input\n",
        "        tool_input_keys = [key for key in attributes.keys() if key.startswith('tool.input.')]\n",
        "        tool_params = {}\n",
        "        for key in tool_input_keys:\n",
        "            param_name = key.replace('tool.input.', '')\n",
        "            tool_params[param_name] = attributes[key]\n",
        "        data['parameters_passed'] = tool_params\n",
        "    \n",
        "    return AgentData(**data)\n",
        "\n",
        "print(\"✅ Field mapping functions defined!\")\n"
      ]
    },
    {
      "cell_type": "markdown",
      "metadata": {},
      "source": [
        "## Step 3: Create AgentDataset from Spans\n"
      ]
    },
    {
      "cell_type": "code",
      "execution_count": 49,
      "metadata": {},
      "outputs": [
        {
          "name": "stdout",
          "output_type": "stream",
          "text": [
            "🔄 Converting spans to AgentData objects...\n",
            "\n",
            "✅ Successfully converted 41 spans to AgentData\n",
            "📊 AgentDataset created with 41 records\n"
          ]
        }
      ],
      "source": [
        "# Convert spans to AgentData objects\n",
        "print(\"🔄 Converting spans to AgentData objects...\")\n",
        "\n",
        "agent_data_list = []\n",
        "errors = []\n",
        "\n",
        "for i, span in enumerate(spans_data):\n",
        "    try:\n",
        "        agent_data = map_span_to_agent_data(span)\n",
        "        agent_data_list.append(agent_data)\n",
        "    except Exception as e:\n",
        "        errors.append(f\"Span {i}: {str(e)}\")\n",
        "        if len(errors) <= 5:  # Show first 5 errors only\n",
        "            print(f\"⚠️  Error processing span {i}: {e}\")\n",
        "\n",
        "print(f\"\\n✅ Successfully converted {len(agent_data_list)} spans to AgentData\")\n",
        "if errors:\n",
        "    print(f\"❌ {len(errors)} spans had errors\")\n",
        "\n",
        "# Create AgentDataset\n",
        "dataset = AgentDataset()\n",
        "dataset.data = agent_data_list\n",
        "\n",
        "print(f\"📊 AgentDataset created with {len(dataset.data)} records\")\n"
      ]
    },
    {
      "cell_type": "markdown",
      "metadata": {},
      "source": [
        "## Step 4: Examine Sample Data\n"
      ]
    },
    {
      "cell_type": "code",
      "execution_count": 48,
      "metadata": {},
      "outputs": [
        {
          "name": "stdout",
          "output_type": "stream",
          "text": [
            "📈 Dataset Statistics:\n",
            "\n",
            "Agent Types: {'agent': 10, 'llm': 31}\n",
            "Records with responses: 41\n",
            "Records with tool calls: 9\n",
            "Records with retrieval: 7\n",
            "Tool usage: {'user_input': 1, '_Exception': 1, 'langchain_retriever': 7}\n",
            "\n",
            "🔍 Sample AgentData records:\n",
            "\n",
            "--- Record 1 (agent) ---\n",
            "Task: what tools do you have access to...\n",
            "Response: The tools available are escalate_to_human, user_input, and langchain_retriever....\n",
            "Tool calls: 1\n",
            "Exit status: ok\n",
            "\n",
            "--- Record 2 (llm) ---\n",
            "Task: Human: Answer the following questions as best you can. You have access to the following tools:\n",
            "\n",
            "esca...\n",
            "Response: I need to identify the tools I have access to in order to answer the question.\n",
            "Action: user_input\n",
            "Ac...\n",
            "Tool calls: 0\n",
            "Exit status: ok\n",
            "\n",
            "--- Record 3 (llm) ---\n",
            "Task: Human: Answer the following questions as best you can. You have access to the following tools:\n",
            "\n",
            "esca...\n",
            "Response: I need to use the langchain_retriever tool to search for relevant information about the tools availa...\n",
            "Tool calls: 0\n",
            "Exit status: ok\n"
          ]
        }
      ],
      "source": [
        "# Show statistics about the dataset\n",
        "print(\"📈 Dataset Statistics:\")\n",
        "\n",
        "agent_types = {}\n",
        "tool_usage = {}\n",
        "with_responses = 0\n",
        "with_tool_calls = 0\n",
        "with_retrieval = 0\n",
        "\n",
        "for data in dataset.data:\n",
        "    # Agent types\n",
        "    if data.agent_name:\n",
        "        agent_types[data.agent_name] = agent_types.get(data.agent_name, 0) + 1\n",
        "    \n",
        "    # Responses\n",
        "    if data.agent_response:\n",
        "        with_responses += 1\n",
        "    \n",
        "    # Tool calls\n",
        "    if data.tool_calls:\n",
        "        with_tool_calls += 1\n",
        "        for tool_call in data.tool_calls:\n",
        "            if hasattr(tool_call, 'tool_name'):\n",
        "                tool_usage[tool_call.tool_name] = tool_usage.get(tool_call.tool_name, 0) + 1\n",
        "    \n",
        "    # Retrieval\n",
        "    if data.retrieval_query:\n",
        "        with_retrieval += 1\n",
        "\n",
        "print(f\"\\nAgent Types: {dict(agent_types)}\")\n",
        "print(f\"Records with responses: {with_responses}\")\n",
        "print(f\"Records with tool calls: {with_tool_calls}\")\n",
        "print(f\"Records with retrieval: {with_retrieval}\")\n",
        "print(f\"Tool usage: {dict(tool_usage)}\")\n",
        "\n",
        "# Show sample records\n",
        "print(\"\\n🔍 Sample AgentData records:\")\n",
        "for i, data in enumerate(dataset.data[:3]):\n",
        "    print(f\"\\n--- Record {i+1} ({data.agent_name}) ---\")\n",
        "    print(f\"Task: {data.agent_task[:100] if data.agent_task else 'None'}...\")\n",
        "    print(f\"Response: {data.agent_response[:100] if data.agent_response else 'None'}...\")\n",
        "    print(f\"Tool calls: {len(data.tool_calls) if data.tool_calls else 0}\")\n",
        "    print(f\"Exit status: {data.exit_status}\")\n"
      ]
    },
    {
      "cell_type": "markdown",
      "metadata": {},
      "source": [
        "## Step 5: Setup Gemini Model and Evaluator\n"
      ]
    },
    {
      "cell_type": "code",
      "execution_count": 40,
      "metadata": {},
      "outputs": [
        {
          "name": "stdout",
          "output_type": "stream",
          "text": [
            "✅ GEMINI_API_KEY found in environment\n",
            "2025-09-15 03:35:09 - INFO - novaeval.models.base - Noveum tracing initialized successfully\n",
            "✅ Gemini model initialized\n"
          ]
        }
      ],
      "source": [
        "import os\n",
        "\n",
        "# Check for API key\n",
        "if 'GEMINI_API_KEY' not in os.environ:\n",
        "    print(\"⚠️  GEMINI_API_KEY environment variable not set!\")\n",
        "    print(\"Please set it before running evaluation:\")\n",
        "    print(\"export GEMINI_API_KEY='your-api-key-here'\")\n",
        "else:\n",
        "    print(\"✅ GEMINI_API_KEY found in environment\")\n",
        "\n",
        "# Initialize Gemini model\n",
        "try:\n",
        "    gemini_model = GeminiModel(\n",
        "        model_name=\"gemini-1.5-flash\",  # Using flash model for cost efficiency\n",
        "        temperature=0.1,  # Low temperature for consistent evaluation\n",
        "        max_tokens=1024\n",
        "    )\n",
        "    print(\"✅ Gemini model initialized\")\n",
        "except Exception as e:\n",
        "    print(f\"❌ Error initializing Gemini model: {e}\")\n",
        "    gemini_model = None\n"
      ]
    },
    {
      "cell_type": "code",
      "execution_count": 41,
      "metadata": {},
      "outputs": [
        {
          "name": "stdout",
          "output_type": "stream",
          "text": [
            "✅ Initialized 5 scoring functions:\n",
            "  - task_progression_scorer\n",
            "  - context_relevancy_scorer\n",
            "  - role_adherence_scorer\n",
            "  - tool_relevancy_scorer\n",
            "  - parameter_correctness_scorer\n",
            "\n",
            "✅ AgentEvaluator created with Gemini model and scoring functions\n"
          ]
        }
      ],
      "source": [
        "# Initialize scoring functions for evaluation\n",
        "scoring_functions = [\n",
        "    task_progression_scorer,\n",
        "    context_relevancy_scorer,\n",
        "    role_adherence_scorer,\n",
        "    tool_relevancy_scorer,\n",
        "    parameter_correctness_scorer\n",
        "]\n",
        "\n",
        "print(f\"✅ Initialized {len(scoring_functions)} scoring functions:\")\n",
        "for func in scoring_functions:\n",
        "    print(f\"  - {func.__name__}\")\n",
        "\n",
        "# Create AgentEvaluator\n",
        "if gemini_model:\n",
        "    evaluator = AgentEvaluator(\n",
        "        agent_dataset=dataset,\n",
        "        models=[gemini_model],\n",
        "        scoring_functions=scoring_functions,\n",
        "        output_dir=\"./demo_results\",\n",
        "        stream=False,\n",
        "        include_reasoning=True\n",
        "    )\n",
        "    print(\"\\n✅ AgentEvaluator created with Gemini model and scoring functions\")\n",
        "else:\n",
        "    print(\"\\n❌ Cannot create evaluator - Gemini model not available\")\n"
      ]
    },
    {
      "cell_type": "markdown",
      "metadata": {},
      "source": [
        "## Step 6: Run Evaluation (Sample)\n"
      ]
    },
    {
      "cell_type": "code",
      "execution_count": 42,
      "metadata": {},
      "outputs": [
        {
          "name": "stdout",
          "output_type": "stream",
          "text": [
            "🚀 Running evaluation on sample data...\n",
            "\n",
            "📊 Evaluating 41 sample records...\n",
            "2025-09-15 03:35:09 - INFO - novaeval.evaluators.agent_evaluator - Starting agent evaluation process\n"
          ]
        },
        {
          "name": "stderr",
          "output_type": "stream",
          "text": [
            "Evaluating samples: 0it [00:00, ?it/s]"
          ]
        },
        {
          "name": "stdout",
          "output_type": "stream",
          "text": [
            "2025-09-15 03:35:09 - INFO - google_genai.models - AFC is enabled with max remote calls: 10.\n",
            "2025-09-15 03:35:11 - INFO - google_genai.models - AFC remote call 1 is done.\n"
          ]
        },
        {
          "name": "stderr",
          "output_type": "stream",
          "text": [
            "2025-09-15 03:35:11 - noveum_trace.transport.http_transport - INFO - 📤 EXPORTING TRACE: auto_trace_generate (ID: 7b3d5f0a-3c16-4aca-af21-319f537c257c) - 1 spans\n",
            "2025-09-15 03:35:11 - noveum_trace.transport.batch_processor - INFO - 📥 ADDING TRACE TO QUEUE: auto_trace_generate (ID: 7b3d5f0a-3c16-4aca-af21-319f537c257c) - 1 spans\n",
            "2025-09-15 03:35:11 - noveum_trace.transport.batch_processor - INFO - ✅ Successfully queued trace 7b3d5f0a-3c16-4aca-af21-319f537c257c\n",
            "2025-09-15 03:35:11 - noveum_trace.transport.http_transport - INFO - ✅ Trace 7b3d5f0a-3c16-4aca-af21-319f537c257c successfully queued for export\n"
          ]
        },
        {
          "name": "stdout",
          "output_type": "stream",
          "text": [
            "2025-09-15 03:35:11 - INFO - google_genai.models - AFC is enabled with max remote calls: 10.\n",
            "2025-09-15 03:35:12 - ERROR - novaeval.models.base - Error: 429 RESOURCE_EXHAUSTED. {'error': {'code': 429, 'message': 'You exceeded your current quota, please check your plan and billing details. For more information on this error, head to: https://ai.google.dev/gemini-api/docs/rate-limits.', 'status': 'RESOURCE_EXHAUSTED', 'details': [{'@type': 'type.googleapis.com/google.rpc.QuotaFailure', 'violations': [{'quotaMetric': 'generativelanguage.googleapis.com/generate_content_free_tier_requests', 'quotaId': 'GenerateRequestsPerDayPerProjectPerModel-FreeTier', 'quotaDimensions': {'location': 'global', 'model': 'gemini-1.5-flash'}, 'quotaValue': '50'}]}, {'@type': 'type.googleapis.com/google.rpc.Help', 'links': [{'description': 'Learn more about Gemini API quotas', 'url': 'https://ai.google.dev/gemini-api/docs/rate-limits'}]}, {'@type': 'type.googleapis.com/google.rpc.RetryInfo', 'retryDelay': '47s'}]}}\n"
          ]
        },
        {
          "name": "stderr",
          "output_type": "stream",
          "text": [
            "2025-09-15 03:35:12 - noveum_trace.transport.http_transport - INFO - 📤 EXPORTING TRACE: auto_trace_generate (ID: 961cce55-7329-49dc-84e3-aa3d03540e5d) - 1 spans\n",
            "2025-09-15 03:35:12 - noveum_trace.transport.batch_processor - INFO - 📥 ADDING TRACE TO QUEUE: auto_trace_generate (ID: 961cce55-7329-49dc-84e3-aa3d03540e5d) - 1 spans\n",
            "2025-09-15 03:35:12 - noveum_trace.transport.batch_processor - INFO - ✅ Successfully queued trace 961cce55-7329-49dc-84e3-aa3d03540e5d\n",
            "2025-09-15 03:35:12 - noveum_trace.transport.http_transport - INFO - ✅ Trace 961cce55-7329-49dc-84e3-aa3d03540e5d successfully queued for export\n"
          ]
        },
        {
          "name": "stdout",
          "output_type": "stream",
          "text": [
            "2025-09-15 03:35:12 - INFO - google_genai.models - AFC is enabled with max remote calls: 10.\n",
            "2025-09-15 03:35:13 - ERROR - novaeval.models.base - Error: 429 RESOURCE_EXHAUSTED. {'error': {'code': 429, 'message': 'You exceeded your current quota, please check your plan and billing details. For more information on this error, head to: https://ai.google.dev/gemini-api/docs/rate-limits.', 'status': 'RESOURCE_EXHAUSTED', 'details': [{'@type': 'type.googleapis.com/google.rpc.QuotaFailure', 'violations': [{'quotaMetric': 'generativelanguage.googleapis.com/generate_content_free_tier_requests', 'quotaId': 'GenerateRequestsPerDayPerProjectPerModel-FreeTier', 'quotaDimensions': {'location': 'global', 'model': 'gemini-1.5-flash'}, 'quotaValue': '50'}]}, {'@type': 'type.googleapis.com/google.rpc.Help', 'links': [{'description': 'Learn more about Gemini API quotas', 'url': 'https://ai.google.dev/gemini-api/docs/rate-limits'}]}, {'@type': 'type.googleapis.com/google.rpc.RetryInfo', 'retryDelay': '46s'}]}}\n"
          ]
        },
        {
          "name": "stderr",
          "output_type": "stream",
          "text": [
            "2025-09-15 03:35:13 - noveum_trace.transport.http_transport - INFO - 📤 EXPORTING TRACE: auto_trace_generate (ID: 9cb128b8-11f4-48a9-99a6-22291776df42) - 1 spans\n",
            "2025-09-15 03:35:13 - noveum_trace.transport.batch_processor - INFO - 📥 ADDING TRACE TO QUEUE: auto_trace_generate (ID: 9cb128b8-11f4-48a9-99a6-22291776df42) - 1 spans\n",
            "2025-09-15 03:35:13 - noveum_trace.transport.batch_processor - INFO - ✅ Successfully queued trace 9cb128b8-11f4-48a9-99a6-22291776df42\n",
            "2025-09-15 03:35:13 - noveum_trace.transport.http_transport - INFO - ✅ Trace 9cb128b8-11f4-48a9-99a6-22291776df42 successfully queued for export\n"
          ]
        },
        {
          "name": "stdout",
          "output_type": "stream",
          "text": [
            "2025-09-15 03:35:13 - INFO - google_genai.models - AFC is enabled with max remote calls: 10.\n",
            "2025-09-15 03:35:13 - ERROR - novaeval.models.base - Error: 429 RESOURCE_EXHAUSTED. {'error': {'code': 429, 'message': 'You exceeded your current quota, please check your plan and billing details. For more information on this error, head to: https://ai.google.dev/gemini-api/docs/rate-limits.', 'status': 'RESOURCE_EXHAUSTED', 'details': [{'@type': 'type.googleapis.com/google.rpc.QuotaFailure', 'violations': [{'quotaMetric': 'generativelanguage.googleapis.com/generate_content_free_tier_requests', 'quotaId': 'GenerateRequestsPerDayPerProjectPerModel-FreeTier', 'quotaDimensions': {'model': 'gemini-1.5-flash', 'location': 'global'}, 'quotaValue': '50'}]}, {'@type': 'type.googleapis.com/google.rpc.Help', 'links': [{'description': 'Learn more about Gemini API quotas', 'url': 'https://ai.google.dev/gemini-api/docs/rate-limits'}]}, {'@type': 'type.googleapis.com/google.rpc.RetryInfo', 'retryDelay': '46s'}]}}\n"
          ]
        },
        {
          "name": "stderr",
          "output_type": "stream",
          "text": [
            "2025-09-15 03:35:13 - noveum_trace.transport.http_transport - INFO - 📤 EXPORTING TRACE: auto_trace_generate (ID: b56deb35-b525-4dc5-aea0-455a839b469e) - 1 spans\n",
            "2025-09-15 03:35:13 - noveum_trace.transport.batch_processor - INFO - 📥 ADDING TRACE TO QUEUE: auto_trace_generate (ID: b56deb35-b525-4dc5-aea0-455a839b469e) - 1 spans\n",
            "2025-09-15 03:35:13 - noveum_trace.transport.batch_processor - INFO - ✅ Successfully queued trace b56deb35-b525-4dc5-aea0-455a839b469e\n",
            "2025-09-15 03:35:13 - noveum_trace.transport.http_transport - INFO - ✅ Trace b56deb35-b525-4dc5-aea0-455a839b469e successfully queued for export\n"
          ]
        },
        {
          "name": "stdout",
          "output_type": "stream",
          "text": [
            "2025-09-15 03:35:13 - INFO - google_genai.models - AFC is enabled with max remote calls: 10.\n",
            "2025-09-15 03:35:15 - ERROR - novaeval.models.base - Error: 429 RESOURCE_EXHAUSTED. {'error': {'code': 429, 'message': 'You exceeded your current quota, please check your plan and billing details. For more information on this error, head to: https://ai.google.dev/gemini-api/docs/rate-limits.', 'status': 'RESOURCE_EXHAUSTED', 'details': [{'@type': 'type.googleapis.com/google.rpc.QuotaFailure', 'violations': [{'quotaMetric': 'generativelanguage.googleapis.com/generate_content_free_tier_requests', 'quotaId': 'GenerateRequestsPerDayPerProjectPerModel-FreeTier', 'quotaDimensions': {'model': 'gemini-1.5-flash', 'location': 'global'}, 'quotaValue': '50'}]}, {'@type': 'type.googleapis.com/google.rpc.Help', 'links': [{'description': 'Learn more about Gemini API quotas', 'url': 'https://ai.google.dev/gemini-api/docs/rate-limits'}]}, {'@type': 'type.googleapis.com/google.rpc.RetryInfo', 'retryDelay': '44s'}]}}\n"
          ]
        },
        {
          "name": "stderr",
          "output_type": "stream",
          "text": [
            "2025-09-15 03:35:15 - noveum_trace.transport.http_transport - INFO - 📤 EXPORTING TRACE: auto_trace_generate (ID: 732c10ac-cdb7-431b-b80b-0acd1b1a1fa9) - 1 spans\n",
            "2025-09-15 03:35:15 - noveum_trace.transport.batch_processor - INFO - 📥 ADDING TRACE TO QUEUE: auto_trace_generate (ID: 732c10ac-cdb7-431b-b80b-0acd1b1a1fa9) - 1 spans\n",
            "2025-09-15 03:35:15 - noveum_trace.transport.batch_processor - INFO - ✅ Successfully queued trace 732c10ac-cdb7-431b-b80b-0acd1b1a1fa9\n",
            "2025-09-15 03:35:15 - noveum_trace.transport.http_transport - INFO - ✅ Trace 732c10ac-cdb7-431b-b80b-0acd1b1a1fa9 successfully queued for export\n"
          ]
        },
        {
          "name": "stdout",
          "output_type": "stream",
          "text": [
            "2025-09-15 03:35:15 - INFO - novaeval.evaluators.agent_evaluator - Saving intermediate results after 1 samples\n",
            "2025-09-15 03:35:15 - INFO - novaeval.evaluators.agent_evaluator - Intermediate results saved to demo_results/sample_evaluation/agent_evaluation_results.csv\n"
          ]
        },
        {
          "name": "stderr",
          "output_type": "stream",
          "text": [
            "Evaluating samples: 1it [00:05,  5.63s/it]"
          ]
        },
        {
          "name": "stdout",
          "output_type": "stream",
          "text": [
            "2025-09-15 03:35:15 - INFO - google_genai.models - AFC is enabled with max remote calls: 10.\n",
            "2025-09-15 03:35:15 - ERROR - novaeval.models.base - Error: 429 RESOURCE_EXHAUSTED. {'error': {'code': 429, 'message': 'You exceeded your current quota, please check your plan and billing details. For more information on this error, head to: https://ai.google.dev/gemini-api/docs/rate-limits.', 'status': 'RESOURCE_EXHAUSTED', 'details': [{'@type': 'type.googleapis.com/google.rpc.QuotaFailure', 'violations': [{'quotaMetric': 'generativelanguage.googleapis.com/generate_content_free_tier_requests', 'quotaId': 'GenerateRequestsPerDayPerProjectPerModel-FreeTier', 'quotaDimensions': {'model': 'gemini-1.5-flash', 'location': 'global'}, 'quotaValue': '50'}]}, {'@type': 'type.googleapis.com/google.rpc.Help', 'links': [{'description': 'Learn more about Gemini API quotas', 'url': 'https://ai.google.dev/gemini-api/docs/rate-limits'}]}, {'@type': 'type.googleapis.com/google.rpc.RetryInfo', 'retryDelay': '44s'}]}}\n"
          ]
        },
        {
          "name": "stderr",
          "output_type": "stream",
          "text": [
            "2025-09-15 03:35:15 - noveum_trace.transport.http_transport - INFO - 📤 EXPORTING TRACE: auto_trace_generate (ID: 4d528ac8-a16c-402f-a3fc-42971c1e6ce2) - 1 spans\n",
            "2025-09-15 03:35:15 - noveum_trace.transport.batch_processor - INFO - 📥 ADDING TRACE TO QUEUE: auto_trace_generate (ID: 4d528ac8-a16c-402f-a3fc-42971c1e6ce2) - 1 spans\n",
            "2025-09-15 03:35:15 - noveum_trace.transport.batch_processor - INFO - ✅ Successfully queued trace 4d528ac8-a16c-402f-a3fc-42971c1e6ce2\n",
            "2025-09-15 03:35:15 - noveum_trace.transport.http_transport - INFO - ✅ Trace 4d528ac8-a16c-402f-a3fc-42971c1e6ce2 successfully queued for export\n"
          ]
        },
        {
          "name": "stdout",
          "output_type": "stream",
          "text": [
            "2025-09-15 03:35:15 - INFO - google_genai.models - AFC is enabled with max remote calls: 10.\n",
            "2025-09-15 03:35:17 - INFO - google_genai.models - AFC remote call 1 is done.\n"
          ]
        },
        {
          "name": "stderr",
          "output_type": "stream",
          "text": [
            "2025-09-15 03:35:17 - noveum_trace.transport.http_transport - INFO - 📤 EXPORTING TRACE: auto_trace_generate (ID: 8be1eabd-16ec-46f2-9dab-d92952aff7d5) - 1 spans\n",
            "2025-09-15 03:35:17 - noveum_trace.transport.batch_processor - INFO - 📥 ADDING TRACE TO QUEUE: auto_trace_generate (ID: 8be1eabd-16ec-46f2-9dab-d92952aff7d5) - 1 spans\n",
            "2025-09-15 03:35:17 - noveum_trace.transport.batch_processor - INFO - ✅ Successfully queued trace 8be1eabd-16ec-46f2-9dab-d92952aff7d5\n",
            "2025-09-15 03:35:17 - noveum_trace.transport.http_transport - INFO - ✅ Trace 8be1eabd-16ec-46f2-9dab-d92952aff7d5 successfully queued for export\n"
          ]
        },
        {
          "name": "stdout",
          "output_type": "stream",
          "text": [
            "2025-09-15 03:35:17 - INFO - google_genai.models - AFC is enabled with max remote calls: 10.\n",
            "2025-09-15 03:35:17 - ERROR - novaeval.models.base - Error: 429 RESOURCE_EXHAUSTED. {'error': {'code': 429, 'message': 'You exceeded your current quota, please check your plan and billing details. For more information on this error, head to: https://ai.google.dev/gemini-api/docs/rate-limits.', 'status': 'RESOURCE_EXHAUSTED', 'details': [{'@type': 'type.googleapis.com/google.rpc.QuotaFailure', 'violations': [{'quotaMetric': 'generativelanguage.googleapis.com/generate_content_free_tier_requests', 'quotaId': 'GenerateRequestsPerDayPerProjectPerModel-FreeTier', 'quotaDimensions': {'model': 'gemini-1.5-flash', 'location': 'global'}, 'quotaValue': '50'}]}, {'@type': 'type.googleapis.com/google.rpc.Help', 'links': [{'description': 'Learn more about Gemini API quotas', 'url': 'https://ai.google.dev/gemini-api/docs/rate-limits'}]}, {'@type': 'type.googleapis.com/google.rpc.RetryInfo', 'retryDelay': '42s'}]}}\n"
          ]
        },
        {
          "name": "stderr",
          "output_type": "stream",
          "text": [
            "2025-09-15 03:35:17 - noveum_trace.transport.http_transport - INFO - 📤 EXPORTING TRACE: auto_trace_generate (ID: 07c6e75f-4049-4783-b602-3fb00be48dbb) - 1 spans\n",
            "2025-09-15 03:35:17 - noveum_trace.transport.batch_processor - INFO - 📥 ADDING TRACE TO QUEUE: auto_trace_generate (ID: 07c6e75f-4049-4783-b602-3fb00be48dbb) - 1 spans\n",
            "2025-09-15 03:35:17 - noveum_trace.transport.batch_processor - INFO - ✅ Successfully queued trace 07c6e75f-4049-4783-b602-3fb00be48dbb\n",
            "2025-09-15 03:35:17 - noveum_trace.transport.http_transport - INFO - ✅ Trace 07c6e75f-4049-4783-b602-3fb00be48dbb successfully queued for export\n"
          ]
        },
        {
          "name": "stdout",
          "output_type": "stream",
          "text": [
            "2025-09-15 03:35:17 - INFO - novaeval.evaluators.agent_evaluator - Saving intermediate results after 2 samples\n",
            "2025-09-15 03:35:17 - INFO - novaeval.evaluators.agent_evaluator - Intermediate results saved to demo_results/sample_evaluation/agent_evaluation_results.csv\n"
          ]
        },
        {
          "name": "stderr",
          "output_type": "stream",
          "text": [
            "Evaluating samples: 2it [00:08,  3.89s/it]"
          ]
        },
        {
          "name": "stdout",
          "output_type": "stream",
          "text": [
            "2025-09-15 03:35:17 - INFO - google_genai.models - AFC is enabled with max remote calls: 10.\n",
            "2025-09-15 03:35:19 - ERROR - novaeval.models.base - Error: 429 RESOURCE_EXHAUSTED. {'error': {'code': 429, 'message': 'You exceeded your current quota, please check your plan and billing details. For more information on this error, head to: https://ai.google.dev/gemini-api/docs/rate-limits.', 'status': 'RESOURCE_EXHAUSTED', 'details': [{'@type': 'type.googleapis.com/google.rpc.QuotaFailure', 'violations': [{'quotaMetric': 'generativelanguage.googleapis.com/generate_content_free_tier_requests', 'quotaId': 'GenerateRequestsPerDayPerProjectPerModel-FreeTier', 'quotaDimensions': {'location': 'global', 'model': 'gemini-1.5-flash'}, 'quotaValue': '50'}]}, {'@type': 'type.googleapis.com/google.rpc.Help', 'links': [{'description': 'Learn more about Gemini API quotas', 'url': 'https://ai.google.dev/gemini-api/docs/rate-limits'}]}, {'@type': 'type.googleapis.com/google.rpc.RetryInfo', 'retryDelay': '40s'}]}}\n"
          ]
        },
        {
          "name": "stderr",
          "output_type": "stream",
          "text": [
            "2025-09-15 03:35:19 - noveum_trace.transport.http_transport - INFO - 📤 EXPORTING TRACE: auto_trace_generate (ID: 010594d5-a6e5-4dfa-b017-2bec8e03720c) - 1 spans\n",
            "2025-09-15 03:35:19 - noveum_trace.transport.batch_processor - INFO - 📥 ADDING TRACE TO QUEUE: auto_trace_generate (ID: 010594d5-a6e5-4dfa-b017-2bec8e03720c) - 1 spans\n",
            "2025-09-15 03:35:19 - noveum_trace.transport.batch_processor - INFO - ✅ Successfully queued trace 010594d5-a6e5-4dfa-b017-2bec8e03720c\n",
            "2025-09-15 03:35:19 - noveum_trace.transport.http_transport - INFO - ✅ Trace 010594d5-a6e5-4dfa-b017-2bec8e03720c successfully queued for export\n"
          ]
        },
        {
          "name": "stdout",
          "output_type": "stream",
          "text": [
            "2025-09-15 03:35:19 - INFO - google_genai.models - AFC is enabled with max remote calls: 10.\n",
            "2025-09-15 03:35:19 - ERROR - novaeval.models.base - Error: 429 RESOURCE_EXHAUSTED. {'error': {'code': 429, 'message': 'You exceeded your current quota, please check your plan and billing details. For more information on this error, head to: https://ai.google.dev/gemini-api/docs/rate-limits.', 'status': 'RESOURCE_EXHAUSTED', 'details': [{'@type': 'type.googleapis.com/google.rpc.QuotaFailure', 'violations': [{'quotaMetric': 'generativelanguage.googleapis.com/generate_content_free_tier_requests', 'quotaId': 'GenerateRequestsPerDayPerProjectPerModel-FreeTier', 'quotaDimensions': {'location': 'global', 'model': 'gemini-1.5-flash'}, 'quotaValue': '50'}]}, {'@type': 'type.googleapis.com/google.rpc.Help', 'links': [{'description': 'Learn more about Gemini API quotas', 'url': 'https://ai.google.dev/gemini-api/docs/rate-limits'}]}, {'@type': 'type.googleapis.com/google.rpc.RetryInfo', 'retryDelay': '40s'}]}}\n"
          ]
        },
        {
          "name": "stderr",
          "output_type": "stream",
          "text": [
            "2025-09-15 03:35:19 - noveum_trace.transport.http_transport - INFO - 📤 EXPORTING TRACE: auto_trace_generate (ID: a26cbef4-ee7d-4c30-8863-66d5a3d1e446) - 1 spans\n",
            "2025-09-15 03:35:19 - noveum_trace.transport.batch_processor - INFO - 📥 ADDING TRACE TO QUEUE: auto_trace_generate (ID: a26cbef4-ee7d-4c30-8863-66d5a3d1e446) - 1 spans\n",
            "2025-09-15 03:35:19 - noveum_trace.transport.batch_processor - INFO - ✅ Successfully queued trace a26cbef4-ee7d-4c30-8863-66d5a3d1e446\n",
            "2025-09-15 03:35:19 - noveum_trace.transport.http_transport - INFO - ✅ Trace a26cbef4-ee7d-4c30-8863-66d5a3d1e446 successfully queued for export\n"
          ]
        },
        {
          "name": "stdout",
          "output_type": "stream",
          "text": [
            "2025-09-15 03:35:19 - INFO - google_genai.models - AFC is enabled with max remote calls: 10.\n",
            "2025-09-15 03:35:20 - ERROR - novaeval.models.base - Error: 429 RESOURCE_EXHAUSTED. {'error': {'code': 429, 'message': 'You exceeded your current quota, please check your plan and billing details. For more information on this error, head to: https://ai.google.dev/gemini-api/docs/rate-limits.', 'status': 'RESOURCE_EXHAUSTED', 'details': [{'@type': 'type.googleapis.com/google.rpc.QuotaFailure', 'violations': [{'quotaMetric': 'generativelanguage.googleapis.com/generate_content_free_tier_requests', 'quotaId': 'GenerateRequestsPerDayPerProjectPerModel-FreeTier', 'quotaDimensions': {'location': 'global', 'model': 'gemini-1.5-flash'}, 'quotaValue': '50'}]}, {'@type': 'type.googleapis.com/google.rpc.Help', 'links': [{'description': 'Learn more about Gemini API quotas', 'url': 'https://ai.google.dev/gemini-api/docs/rate-limits'}]}, {'@type': 'type.googleapis.com/google.rpc.RetryInfo', 'retryDelay': '39s'}]}}\n"
          ]
        },
        {
          "name": "stderr",
          "output_type": "stream",
          "text": [
            "2025-09-15 03:35:20 - noveum_trace.transport.http_transport - INFO - 📤 EXPORTING TRACE: auto_trace_generate (ID: 2a3712ad-96d0-4a71-90ff-57e234c4a320) - 1 spans\n",
            "2025-09-15 03:35:20 - noveum_trace.transport.batch_processor - INFO - 📥 ADDING TRACE TO QUEUE: auto_trace_generate (ID: 2a3712ad-96d0-4a71-90ff-57e234c4a320) - 1 spans\n",
            "2025-09-15 03:35:20 - noveum_trace.transport.batch_processor - INFO - ✅ Successfully queued trace 2a3712ad-96d0-4a71-90ff-57e234c4a320\n",
            "2025-09-15 03:35:20 - noveum_trace.transport.http_transport - INFO - ✅ Trace 2a3712ad-96d0-4a71-90ff-57e234c4a320 successfully queued for export\n"
          ]
        },
        {
          "name": "stdout",
          "output_type": "stream",
          "text": [
            "2025-09-15 03:35:20 - INFO - novaeval.evaluators.agent_evaluator - Saving intermediate results after 3 samples\n",
            "2025-09-15 03:35:20 - INFO - novaeval.evaluators.agent_evaluator - Intermediate results saved to demo_results/sample_evaluation/agent_evaluation_results.csv\n"
          ]
        },
        {
          "name": "stderr",
          "output_type": "stream",
          "text": [
            "Evaluating samples: 3it [00:11,  3.47s/it]"
          ]
        },
        {
          "name": "stdout",
          "output_type": "stream",
          "text": [
            "2025-09-15 03:35:20 - INFO - google_genai.models - AFC is enabled with max remote calls: 10.\n",
            "2025-09-15 03:35:21 - ERROR - novaeval.models.base - Error: 429 RESOURCE_EXHAUSTED. {'error': {'code': 429, 'message': 'You exceeded your current quota, please check your plan and billing details. For more information on this error, head to: https://ai.google.dev/gemini-api/docs/rate-limits.', 'status': 'RESOURCE_EXHAUSTED', 'details': [{'@type': 'type.googleapis.com/google.rpc.QuotaFailure', 'violations': [{'quotaMetric': 'generativelanguage.googleapis.com/generate_content_free_tier_requests', 'quotaId': 'GenerateRequestsPerDayPerProjectPerModel-FreeTier', 'quotaDimensions': {'location': 'global', 'model': 'gemini-1.5-flash'}, 'quotaValue': '50'}]}, {'@type': 'type.googleapis.com/google.rpc.Help', 'links': [{'description': 'Learn more about Gemini API quotas', 'url': 'https://ai.google.dev/gemini-api/docs/rate-limits'}]}, {'@type': 'type.googleapis.com/google.rpc.RetryInfo', 'retryDelay': '38s'}]}}\n"
          ]
        },
        {
          "name": "stderr",
          "output_type": "stream",
          "text": [
            "2025-09-15 03:35:21 - noveum_trace.transport.http_transport - INFO - 📤 EXPORTING TRACE: auto_trace_generate (ID: 9953c523-3627-4f52-bf3d-3142240a4d9c) - 1 spans\n",
            "2025-09-15 03:35:21 - noveum_trace.transport.batch_processor - INFO - 📥 ADDING TRACE TO QUEUE: auto_trace_generate (ID: 9953c523-3627-4f52-bf3d-3142240a4d9c) - 1 spans\n",
            "2025-09-15 03:35:21 - noveum_trace.transport.batch_processor - INFO - ✅ Successfully queued trace 9953c523-3627-4f52-bf3d-3142240a4d9c\n",
            "2025-09-15 03:35:21 - noveum_trace.transport.http_transport - INFO - ✅ Trace 9953c523-3627-4f52-bf3d-3142240a4d9c successfully queued for export\n"
          ]
        },
        {
          "name": "stdout",
          "output_type": "stream",
          "text": [
            "2025-09-15 03:35:21 - INFO - google_genai.models - AFC is enabled with max remote calls: 10.\n",
            "2025-09-15 03:35:22 - ERROR - novaeval.models.base - Error: 429 RESOURCE_EXHAUSTED. {'error': {'code': 429, 'message': 'You exceeded your current quota, please check your plan and billing details. For more information on this error, head to: https://ai.google.dev/gemini-api/docs/rate-limits.', 'status': 'RESOURCE_EXHAUSTED', 'details': [{'@type': 'type.googleapis.com/google.rpc.QuotaFailure', 'violations': [{'quotaMetric': 'generativelanguage.googleapis.com/generate_content_free_tier_requests', 'quotaId': 'GenerateRequestsPerDayPerProjectPerModel-FreeTier', 'quotaDimensions': {'location': 'global', 'model': 'gemini-1.5-flash'}, 'quotaValue': '50'}]}, {'@type': 'type.googleapis.com/google.rpc.Help', 'links': [{'description': 'Learn more about Gemini API quotas', 'url': 'https://ai.google.dev/gemini-api/docs/rate-limits'}]}, {'@type': 'type.googleapis.com/google.rpc.RetryInfo', 'retryDelay': '37s'}]}}\n"
          ]
        },
        {
          "name": "stderr",
          "output_type": "stream",
          "text": [
            "2025-09-15 03:35:22 - noveum_trace.transport.http_transport - INFO - 📤 EXPORTING TRACE: auto_trace_generate (ID: c05db602-aeb1-43a6-8853-0d829f76d182) - 1 spans\n",
            "2025-09-15 03:35:22 - noveum_trace.transport.batch_processor - INFO - 📥 ADDING TRACE TO QUEUE: auto_trace_generate (ID: c05db602-aeb1-43a6-8853-0d829f76d182) - 1 spans\n",
            "2025-09-15 03:35:22 - noveum_trace.transport.batch_processor - INFO - ✅ Successfully queued trace c05db602-aeb1-43a6-8853-0d829f76d182\n",
            "2025-09-15 03:35:22 - noveum_trace.transport.http_transport - INFO - ✅ Trace c05db602-aeb1-43a6-8853-0d829f76d182 successfully queued for export\n"
          ]
        },
        {
          "name": "stdout",
          "output_type": "stream",
          "text": [
            "2025-09-15 03:35:22 - INFO - google_genai.models - AFC is enabled with max remote calls: 10.\n",
            "2025-09-15 03:35:22 - ERROR - novaeval.models.base - Error: 429 RESOURCE_EXHAUSTED. {'error': {'code': 429, 'message': 'You exceeded your current quota, please check your plan and billing details. For more information on this error, head to: https://ai.google.dev/gemini-api/docs/rate-limits.', 'status': 'RESOURCE_EXHAUSTED', 'details': [{'@type': 'type.googleapis.com/google.rpc.QuotaFailure', 'violations': [{'quotaMetric': 'generativelanguage.googleapis.com/generate_content_free_tier_requests', 'quotaId': 'GenerateRequestsPerDayPerProjectPerModel-FreeTier', 'quotaDimensions': {'model': 'gemini-1.5-flash', 'location': 'global'}, 'quotaValue': '50'}]}, {'@type': 'type.googleapis.com/google.rpc.Help', 'links': [{'description': 'Learn more about Gemini API quotas', 'url': 'https://ai.google.dev/gemini-api/docs/rate-limits'}]}, {'@type': 'type.googleapis.com/google.rpc.RetryInfo', 'retryDelay': '37s'}]}}\n"
          ]
        },
        {
          "name": "stderr",
          "output_type": "stream",
          "text": [
            "2025-09-15 03:35:22 - noveum_trace.transport.http_transport - INFO - 📤 EXPORTING TRACE: auto_trace_generate (ID: 3e031e70-60d9-49af-a12a-1f0011174e3f) - 1 spans\n",
            "2025-09-15 03:35:22 - noveum_trace.transport.batch_processor - INFO - 📥 ADDING TRACE TO QUEUE: auto_trace_generate (ID: 3e031e70-60d9-49af-a12a-1f0011174e3f) - 1 spans\n",
            "2025-09-15 03:35:22 - noveum_trace.transport.batch_processor - INFO - ✅ Successfully queued trace 3e031e70-60d9-49af-a12a-1f0011174e3f\n",
            "2025-09-15 03:35:22 - noveum_trace.transport.http_transport - INFO - ✅ Trace 3e031e70-60d9-49af-a12a-1f0011174e3f successfully queued for export\n"
          ]
        },
        {
          "name": "stdout",
          "output_type": "stream",
          "text": [
            "2025-09-15 03:35:22 - INFO - novaeval.evaluators.agent_evaluator - Saving intermediate results after 4 samples\n",
            "2025-09-15 03:35:22 - INFO - novaeval.evaluators.agent_evaluator - Intermediate results saved to demo_results/sample_evaluation/agent_evaluation_results.csv\n"
          ]
        },
        {
          "name": "stderr",
          "output_type": "stream",
          "text": [
            "Evaluating samples: 4it [00:13,  2.91s/it]"
          ]
        },
        {
          "name": "stdout",
          "output_type": "stream",
          "text": [
            "2025-09-15 03:35:22 - INFO - google_genai.models - AFC is enabled with max remote calls: 10.\n",
            "2025-09-15 03:35:23 - ERROR - novaeval.models.base - Error: 429 RESOURCE_EXHAUSTED. {'error': {'code': 429, 'message': 'You exceeded your current quota, please check your plan and billing details. For more information on this error, head to: https://ai.google.dev/gemini-api/docs/rate-limits.', 'status': 'RESOURCE_EXHAUSTED', 'details': [{'@type': 'type.googleapis.com/google.rpc.QuotaFailure', 'violations': [{'quotaMetric': 'generativelanguage.googleapis.com/generate_content_free_tier_requests', 'quotaId': 'GenerateRequestsPerDayPerProjectPerModel-FreeTier', 'quotaDimensions': {'model': 'gemini-1.5-flash', 'location': 'global'}, 'quotaValue': '50'}]}, {'@type': 'type.googleapis.com/google.rpc.Help', 'links': [{'description': 'Learn more about Gemini API quotas', 'url': 'https://ai.google.dev/gemini-api/docs/rate-limits'}]}, {'@type': 'type.googleapis.com/google.rpc.RetryInfo', 'retryDelay': '36s'}]}}\n"
          ]
        },
        {
          "name": "stderr",
          "output_type": "stream",
          "text": [
            "2025-09-15 03:35:23 - noveum_trace.transport.http_transport - INFO - 📤 EXPORTING TRACE: auto_trace_generate (ID: 92ce5fc3-c4b0-427b-b4be-e72c918ad545) - 1 spans\n",
            "2025-09-15 03:35:23 - noveum_trace.transport.batch_processor - INFO - 📥 ADDING TRACE TO QUEUE: auto_trace_generate (ID: 92ce5fc3-c4b0-427b-b4be-e72c918ad545) - 1 spans\n",
            "2025-09-15 03:35:23 - noveum_trace.transport.batch_processor - INFO - ✅ Successfully queued trace 92ce5fc3-c4b0-427b-b4be-e72c918ad545\n",
            "2025-09-15 03:35:23 - noveum_trace.transport.http_transport - INFO - ✅ Trace 92ce5fc3-c4b0-427b-b4be-e72c918ad545 successfully queued for export\n"
          ]
        },
        {
          "name": "stdout",
          "output_type": "stream",
          "text": [
            "2025-09-15 03:35:23 - INFO - google_genai.models - AFC is enabled with max remote calls: 10.\n",
            "2025-09-15 03:35:24 - ERROR - novaeval.models.base - Error: 429 RESOURCE_EXHAUSTED. {'error': {'code': 429, 'message': 'You exceeded your current quota, please check your plan and billing details. For more information on this error, head to: https://ai.google.dev/gemini-api/docs/rate-limits.', 'status': 'RESOURCE_EXHAUSTED', 'details': [{'@type': 'type.googleapis.com/google.rpc.QuotaFailure', 'violations': [{'quotaMetric': 'generativelanguage.googleapis.com/generate_content_free_tier_requests', 'quotaId': 'GenerateRequestsPerDayPerProjectPerModel-FreeTier', 'quotaDimensions': {'model': 'gemini-1.5-flash', 'location': 'global'}, 'quotaValue': '50'}]}, {'@type': 'type.googleapis.com/google.rpc.Help', 'links': [{'description': 'Learn more about Gemini API quotas', 'url': 'https://ai.google.dev/gemini-api/docs/rate-limits'}]}, {'@type': 'type.googleapis.com/google.rpc.RetryInfo', 'retryDelay': '35s'}]}}\n"
          ]
        },
        {
          "name": "stderr",
          "output_type": "stream",
          "text": [
            "2025-09-15 03:35:24 - noveum_trace.transport.http_transport - INFO - 📤 EXPORTING TRACE: auto_trace_generate (ID: 270bf6f6-95da-42e4-a4b2-952da2e36199) - 1 spans\n",
            "2025-09-15 03:35:24 - noveum_trace.transport.batch_processor - INFO - 📥 ADDING TRACE TO QUEUE: auto_trace_generate (ID: 270bf6f6-95da-42e4-a4b2-952da2e36199) - 1 spans\n",
            "2025-09-15 03:35:24 - noveum_trace.transport.batch_processor - INFO - ✅ Successfully queued trace 270bf6f6-95da-42e4-a4b2-952da2e36199\n",
            "2025-09-15 03:35:24 - noveum_trace.transport.http_transport - INFO - ✅ Trace 270bf6f6-95da-42e4-a4b2-952da2e36199 successfully queued for export\n"
          ]
        },
        {
          "name": "stdout",
          "output_type": "stream",
          "text": [
            "2025-09-15 03:35:24 - INFO - google_genai.models - AFC is enabled with max remote calls: 10.\n",
            "2025-09-15 03:35:25 - ERROR - novaeval.models.base - Error: 429 RESOURCE_EXHAUSTED. {'error': {'code': 429, 'message': 'You exceeded your current quota, please check your plan and billing details. For more information on this error, head to: https://ai.google.dev/gemini-api/docs/rate-limits.', 'status': 'RESOURCE_EXHAUSTED', 'details': [{'@type': 'type.googleapis.com/google.rpc.QuotaFailure', 'violations': [{'quotaMetric': 'generativelanguage.googleapis.com/generate_content_free_tier_requests', 'quotaId': 'GenerateRequestsPerDayPerProjectPerModel-FreeTier', 'quotaDimensions': {'location': 'global', 'model': 'gemini-1.5-flash'}, 'quotaValue': '50'}]}, {'@type': 'type.googleapis.com/google.rpc.Help', 'links': [{'description': 'Learn more about Gemini API quotas', 'url': 'https://ai.google.dev/gemini-api/docs/rate-limits'}]}, {'@type': 'type.googleapis.com/google.rpc.RetryInfo', 'retryDelay': '34s'}]}}\n"
          ]
        },
        {
          "name": "stderr",
          "output_type": "stream",
          "text": [
            "2025-09-15 03:35:25 - noveum_trace.transport.http_transport - INFO - 📤 EXPORTING TRACE: auto_trace_generate (ID: 6b3cf4f5-65ee-4800-8ab8-bbe22d142fa8) - 1 spans\n",
            "2025-09-15 03:35:25 - noveum_trace.transport.batch_processor - INFO - 📥 ADDING TRACE TO QUEUE: auto_trace_generate (ID: 6b3cf4f5-65ee-4800-8ab8-bbe22d142fa8) - 1 spans\n",
            "2025-09-15 03:35:25 - noveum_trace.transport.batch_processor - INFO - ✅ Successfully queued trace 6b3cf4f5-65ee-4800-8ab8-bbe22d142fa8\n",
            "2025-09-15 03:35:25 - noveum_trace.transport.http_transport - INFO - ✅ Trace 6b3cf4f5-65ee-4800-8ab8-bbe22d142fa8 successfully queued for export\n"
          ]
        },
        {
          "name": "stdout",
          "output_type": "stream",
          "text": [
            "2025-09-15 03:35:25 - INFO - novaeval.evaluators.agent_evaluator - Saving intermediate results after 5 samples\n",
            "2025-09-15 03:35:25 - INFO - novaeval.evaluators.agent_evaluator - Intermediate results saved to demo_results/sample_evaluation/agent_evaluation_results.csv\n"
          ]
        },
        {
          "name": "stderr",
          "output_type": "stream",
          "text": [
            "Evaluating samples: 5it [00:16,  2.86s/it]"
          ]
        },
        {
          "name": "stdout",
          "output_type": "stream",
          "text": [
            "2025-09-15 03:35:25 - INFO - google_genai.models - AFC is enabled with max remote calls: 10.\n",
            "2025-09-15 03:35:26 - ERROR - novaeval.models.base - Error: 429 RESOURCE_EXHAUSTED. {'error': {'code': 429, 'message': 'You exceeded your current quota, please check your plan and billing details. For more information on this error, head to: https://ai.google.dev/gemini-api/docs/rate-limits.', 'status': 'RESOURCE_EXHAUSTED', 'details': [{'@type': 'type.googleapis.com/google.rpc.QuotaFailure', 'violations': [{'quotaMetric': 'generativelanguage.googleapis.com/generate_content_free_tier_requests', 'quotaId': 'GenerateRequestsPerDayPerProjectPerModel-FreeTier', 'quotaDimensions': {'model': 'gemini-1.5-flash', 'location': 'global'}, 'quotaValue': '50'}]}, {'@type': 'type.googleapis.com/google.rpc.Help', 'links': [{'description': 'Learn more about Gemini API quotas', 'url': 'https://ai.google.dev/gemini-api/docs/rate-limits'}]}, {'@type': 'type.googleapis.com/google.rpc.RetryInfo', 'retryDelay': '33s'}]}}\n"
          ]
        },
        {
          "name": "stderr",
          "output_type": "stream",
          "text": [
            "2025-09-15 03:35:26 - noveum_trace.transport.http_transport - INFO - 📤 EXPORTING TRACE: auto_trace_generate (ID: 24c457d6-854a-4919-96f8-8accb9e9f37a) - 1 spans\n",
            "2025-09-15 03:35:26 - noveum_trace.transport.batch_processor - INFO - 📥 ADDING TRACE TO QUEUE: auto_trace_generate (ID: 24c457d6-854a-4919-96f8-8accb9e9f37a) - 1 spans\n",
            "2025-09-15 03:35:26 - noveum_trace.transport.batch_processor - INFO - ✅ Successfully queued trace 24c457d6-854a-4919-96f8-8accb9e9f37a\n",
            "2025-09-15 03:35:26 - noveum_trace.transport.http_transport - INFO - ✅ Trace 24c457d6-854a-4919-96f8-8accb9e9f37a successfully queued for export\n"
          ]
        },
        {
          "name": "stdout",
          "output_type": "stream",
          "text": [
            "2025-09-15 03:35:26 - INFO - google_genai.models - AFC is enabled with max remote calls: 10.\n",
            "2025-09-15 03:35:27 - ERROR - novaeval.models.base - Error: 429 RESOURCE_EXHAUSTED. {'error': {'code': 429, 'message': 'You exceeded your current quota, please check your plan and billing details. For more information on this error, head to: https://ai.google.dev/gemini-api/docs/rate-limits.', 'status': 'RESOURCE_EXHAUSTED', 'details': [{'@type': 'type.googleapis.com/google.rpc.QuotaFailure', 'violations': [{'quotaMetric': 'generativelanguage.googleapis.com/generate_content_free_tier_requests', 'quotaId': 'GenerateRequestsPerDayPerProjectPerModel-FreeTier', 'quotaDimensions': {'location': 'global', 'model': 'gemini-1.5-flash'}, 'quotaValue': '50'}]}, {'@type': 'type.googleapis.com/google.rpc.Help', 'links': [{'description': 'Learn more about Gemini API quotas', 'url': 'https://ai.google.dev/gemini-api/docs/rate-limits'}]}, {'@type': 'type.googleapis.com/google.rpc.RetryInfo', 'retryDelay': '32s'}]}}\n"
          ]
        },
        {
          "name": "stderr",
          "output_type": "stream",
          "text": [
            "2025-09-15 03:35:27 - noveum_trace.transport.http_transport - INFO - 📤 EXPORTING TRACE: auto_trace_generate (ID: b273e159-37d2-4e9c-be86-bc50c5a4ae63) - 1 spans\n",
            "2025-09-15 03:35:27 - noveum_trace.transport.batch_processor - INFO - 📥 ADDING TRACE TO QUEUE: auto_trace_generate (ID: b273e159-37d2-4e9c-be86-bc50c5a4ae63) - 1 spans\n",
            "2025-09-15 03:35:27 - noveum_trace.transport.batch_processor - INFO - ✅ Successfully queued trace b273e159-37d2-4e9c-be86-bc50c5a4ae63\n",
            "2025-09-15 03:35:27 - noveum_trace.transport.http_transport - INFO - ✅ Trace b273e159-37d2-4e9c-be86-bc50c5a4ae63 successfully queued for export\n"
          ]
        },
        {
          "name": "stdout",
          "output_type": "stream",
          "text": [
            "2025-09-15 03:35:27 - INFO - google_genai.models - AFC is enabled with max remote calls: 10.\n",
            "2025-09-15 03:35:27 - ERROR - novaeval.models.base - Error: 429 RESOURCE_EXHAUSTED. {'error': {'code': 429, 'message': 'You exceeded your current quota, please check your plan and billing details. For more information on this error, head to: https://ai.google.dev/gemini-api/docs/rate-limits.', 'status': 'RESOURCE_EXHAUSTED', 'details': [{'@type': 'type.googleapis.com/google.rpc.QuotaFailure', 'violations': [{'quotaMetric': 'generativelanguage.googleapis.com/generate_content_free_tier_requests', 'quotaId': 'GenerateRequestsPerDayPerProjectPerModel-FreeTier', 'quotaDimensions': {'location': 'global', 'model': 'gemini-1.5-flash'}, 'quotaValue': '50'}]}, {'@type': 'type.googleapis.com/google.rpc.Help', 'links': [{'description': 'Learn more about Gemini API quotas', 'url': 'https://ai.google.dev/gemini-api/docs/rate-limits'}]}, {'@type': 'type.googleapis.com/google.rpc.RetryInfo', 'retryDelay': '32s'}]}}\n"
          ]
        },
        {
          "name": "stderr",
          "output_type": "stream",
          "text": [
            "2025-09-15 03:35:27 - noveum_trace.transport.http_transport - INFO - 📤 EXPORTING TRACE: auto_trace_generate (ID: 34375a67-e00f-4aef-946b-506480d3a9fc) - 1 spans\n",
            "2025-09-15 03:35:27 - noveum_trace.transport.batch_processor - INFO - 📥 ADDING TRACE TO QUEUE: auto_trace_generate (ID: 34375a67-e00f-4aef-946b-506480d3a9fc) - 1 spans\n",
            "2025-09-15 03:35:27 - noveum_trace.transport.batch_processor - INFO - ✅ Successfully queued trace 34375a67-e00f-4aef-946b-506480d3a9fc\n",
            "2025-09-15 03:35:27 - noveum_trace.transport.http_transport - INFO - ✅ Trace 34375a67-e00f-4aef-946b-506480d3a9fc successfully queued for export\n"
          ]
        },
        {
          "name": "stdout",
          "output_type": "stream",
          "text": [
            "2025-09-15 03:35:27 - INFO - novaeval.evaluators.agent_evaluator - Saving intermediate results after 6 samples\n",
            "2025-09-15 03:35:27 - INFO - novaeval.evaluators.agent_evaluator - Intermediate results saved to demo_results/sample_evaluation/agent_evaluation_results.csv\n"
          ]
        },
        {
          "name": "stderr",
          "output_type": "stream",
          "text": [
            "Evaluating samples: 6it [00:18,  2.62s/it]"
          ]
        },
        {
          "name": "stdout",
          "output_type": "stream",
          "text": [
            "2025-09-15 03:35:27 - INFO - google_genai.models - AFC is enabled with max remote calls: 10.\n",
            "2025-09-15 03:35:28 - ERROR - novaeval.models.base - Error: 429 RESOURCE_EXHAUSTED. {'error': {'code': 429, 'message': 'You exceeded your current quota, please check your plan and billing details. For more information on this error, head to: https://ai.google.dev/gemini-api/docs/rate-limits.', 'status': 'RESOURCE_EXHAUSTED', 'details': [{'@type': 'type.googleapis.com/google.rpc.QuotaFailure', 'violations': [{'quotaMetric': 'generativelanguage.googleapis.com/generate_content_free_tier_requests', 'quotaId': 'GenerateRequestsPerDayPerProjectPerModel-FreeTier', 'quotaDimensions': {'model': 'gemini-1.5-flash', 'location': 'global'}, 'quotaValue': '50'}]}, {'@type': 'type.googleapis.com/google.rpc.Help', 'links': [{'description': 'Learn more about Gemini API quotas', 'url': 'https://ai.google.dev/gemini-api/docs/rate-limits'}]}, {'@type': 'type.googleapis.com/google.rpc.RetryInfo', 'retryDelay': '31s'}]}}\n"
          ]
        },
        {
          "name": "stderr",
          "output_type": "stream",
          "text": [
            "2025-09-15 03:35:28 - noveum_trace.transport.http_transport - INFO - 📤 EXPORTING TRACE: auto_trace_generate (ID: 4132814c-105f-42b6-8840-6e31189e9771) - 1 spans\n",
            "2025-09-15 03:35:28 - noveum_trace.transport.batch_processor - INFO - 📥 ADDING TRACE TO QUEUE: auto_trace_generate (ID: 4132814c-105f-42b6-8840-6e31189e9771) - 1 spans\n",
            "2025-09-15 03:35:28 - noveum_trace.transport.batch_processor - INFO - ✅ Successfully queued trace 4132814c-105f-42b6-8840-6e31189e9771\n",
            "2025-09-15 03:35:28 - noveum_trace.transport.http_transport - INFO - ✅ Trace 4132814c-105f-42b6-8840-6e31189e9771 successfully queued for export\n"
          ]
        },
        {
          "name": "stdout",
          "output_type": "stream",
          "text": [
            "2025-09-15 03:35:28 - INFO - google_genai.models - AFC is enabled with max remote calls: 10.\n",
            "2025-09-15 03:35:29 - ERROR - novaeval.models.base - Error: 429 RESOURCE_EXHAUSTED. {'error': {'code': 429, 'message': 'You exceeded your current quota, please check your plan and billing details. For more information on this error, head to: https://ai.google.dev/gemini-api/docs/rate-limits.', 'status': 'RESOURCE_EXHAUSTED', 'details': [{'@type': 'type.googleapis.com/google.rpc.QuotaFailure', 'violations': [{'quotaMetric': 'generativelanguage.googleapis.com/generate_content_free_tier_requests', 'quotaId': 'GenerateRequestsPerDayPerProjectPerModel-FreeTier', 'quotaDimensions': {'location': 'global', 'model': 'gemini-1.5-flash'}, 'quotaValue': '50'}]}, {'@type': 'type.googleapis.com/google.rpc.Help', 'links': [{'description': 'Learn more about Gemini API quotas', 'url': 'https://ai.google.dev/gemini-api/docs/rate-limits'}]}, {'@type': 'type.googleapis.com/google.rpc.RetryInfo', 'retryDelay': '30s'}]}}\n"
          ]
        },
        {
          "name": "stderr",
          "output_type": "stream",
          "text": [
            "2025-09-15 03:35:29 - noveum_trace.transport.http_transport - INFO - 📤 EXPORTING TRACE: auto_trace_generate (ID: bcf88eea-dd27-4863-a1d0-0ead87940cdc) - 1 spans\n",
            "2025-09-15 03:35:29 - noveum_trace.transport.batch_processor - INFO - 📥 ADDING TRACE TO QUEUE: auto_trace_generate (ID: bcf88eea-dd27-4863-a1d0-0ead87940cdc) - 1 spans\n",
            "2025-09-15 03:35:29 - noveum_trace.transport.batch_processor - INFO - ✅ Successfully queued trace bcf88eea-dd27-4863-a1d0-0ead87940cdc\n",
            "2025-09-15 03:35:29 - noveum_trace.transport.http_transport - INFO - ✅ Trace bcf88eea-dd27-4863-a1d0-0ead87940cdc successfully queued for export\n"
          ]
        },
        {
          "name": "stdout",
          "output_type": "stream",
          "text": [
            "2025-09-15 03:35:29 - INFO - google_genai.models - AFC is enabled with max remote calls: 10.\n",
            "2025-09-15 03:35:30 - ERROR - novaeval.models.base - Error: 429 RESOURCE_EXHAUSTED. {'error': {'code': 429, 'message': 'You exceeded your current quota, please check your plan and billing details. For more information on this error, head to: https://ai.google.dev/gemini-api/docs/rate-limits.', 'status': 'RESOURCE_EXHAUSTED', 'details': [{'@type': 'type.googleapis.com/google.rpc.QuotaFailure', 'violations': [{'quotaMetric': 'generativelanguage.googleapis.com/generate_content_free_tier_requests', 'quotaId': 'GenerateRequestsPerDayPerProjectPerModel-FreeTier', 'quotaDimensions': {'model': 'gemini-1.5-flash', 'location': 'global'}, 'quotaValue': '50'}]}, {'@type': 'type.googleapis.com/google.rpc.Help', 'links': [{'description': 'Learn more about Gemini API quotas', 'url': 'https://ai.google.dev/gemini-api/docs/rate-limits'}]}, {'@type': 'type.googleapis.com/google.rpc.RetryInfo', 'retryDelay': '29s'}]}}\n"
          ]
        },
        {
          "name": "stderr",
          "output_type": "stream",
          "text": [
            "2025-09-15 03:35:30 - noveum_trace.transport.http_transport - INFO - 📤 EXPORTING TRACE: auto_trace_generate (ID: 7ab8e359-0168-42e1-a2f8-cfd329680c5a) - 1 spans\n",
            "2025-09-15 03:35:30 - noveum_trace.transport.batch_processor - INFO - 📥 ADDING TRACE TO QUEUE: auto_trace_generate (ID: 7ab8e359-0168-42e1-a2f8-cfd329680c5a) - 1 spans\n",
            "2025-09-15 03:35:30 - noveum_trace.transport.batch_processor - INFO - ✅ Successfully queued trace 7ab8e359-0168-42e1-a2f8-cfd329680c5a\n",
            "2025-09-15 03:35:30 - noveum_trace.transport.http_transport - INFO - ✅ Trace 7ab8e359-0168-42e1-a2f8-cfd329680c5a successfully queued for export\n"
          ]
        },
        {
          "name": "stdout",
          "output_type": "stream",
          "text": [
            "2025-09-15 03:35:30 - INFO - google_genai.models - AFC is enabled with max remote calls: 10.\n",
            "2025-09-15 03:35:31 - ERROR - novaeval.models.base - Error: 429 RESOURCE_EXHAUSTED. {'error': {'code': 429, 'message': 'You exceeded your current quota, please check your plan and billing details. For more information on this error, head to: https://ai.google.dev/gemini-api/docs/rate-limits.', 'status': 'RESOURCE_EXHAUSTED', 'details': [{'@type': 'type.googleapis.com/google.rpc.QuotaFailure', 'violations': [{'quotaMetric': 'generativelanguage.googleapis.com/generate_content_free_tier_requests', 'quotaId': 'GenerateRequestsPerDayPerProjectPerModel-FreeTier', 'quotaDimensions': {'model': 'gemini-1.5-flash', 'location': 'global'}, 'quotaValue': '50'}]}, {'@type': 'type.googleapis.com/google.rpc.Help', 'links': [{'description': 'Learn more about Gemini API quotas', 'url': 'https://ai.google.dev/gemini-api/docs/rate-limits'}]}, {'@type': 'type.googleapis.com/google.rpc.RetryInfo', 'retryDelay': '29s'}]}}\n"
          ]
        },
        {
          "name": "stderr",
          "output_type": "stream",
          "text": [
            "2025-09-15 03:35:31 - noveum_trace.transport.http_transport - INFO - 📤 EXPORTING TRACE: auto_trace_generate (ID: cbfa47ef-5d1c-4b19-8e9f-5fb4bc4cda19) - 1 spans\n",
            "2025-09-15 03:35:31 - noveum_trace.transport.batch_processor - INFO - 📥 ADDING TRACE TO QUEUE: auto_trace_generate (ID: cbfa47ef-5d1c-4b19-8e9f-5fb4bc4cda19) - 1 spans\n",
            "2025-09-15 03:35:31 - noveum_trace.transport.batch_processor - INFO - ✅ Successfully queued trace cbfa47ef-5d1c-4b19-8e9f-5fb4bc4cda19\n",
            "2025-09-15 03:35:31 - noveum_trace.transport.http_transport - INFO - ✅ Trace cbfa47ef-5d1c-4b19-8e9f-5fb4bc4cda19 successfully queued for export\n"
          ]
        },
        {
          "name": "stdout",
          "output_type": "stream",
          "text": [
            "2025-09-15 03:35:31 - INFO - google_genai.models - AFC is enabled with max remote calls: 10.\n",
            "2025-09-15 03:35:32 - ERROR - novaeval.models.base - Error: 429 RESOURCE_EXHAUSTED. {'error': {'code': 429, 'message': 'You exceeded your current quota, please check your plan and billing details. For more information on this error, head to: https://ai.google.dev/gemini-api/docs/rate-limits.', 'status': 'RESOURCE_EXHAUSTED', 'details': [{'@type': 'type.googleapis.com/google.rpc.QuotaFailure', 'violations': [{'quotaMetric': 'generativelanguage.googleapis.com/generate_content_free_tier_requests', 'quotaId': 'GenerateRequestsPerDayPerProjectPerModel-FreeTier', 'quotaDimensions': {'location': 'global', 'model': 'gemini-1.5-flash'}, 'quotaValue': '50'}]}, {'@type': 'type.googleapis.com/google.rpc.Help', 'links': [{'description': 'Learn more about Gemini API quotas', 'url': 'https://ai.google.dev/gemini-api/docs/rate-limits'}]}, {'@type': 'type.googleapis.com/google.rpc.RetryInfo', 'retryDelay': '27s'}]}}\n"
          ]
        },
        {
          "name": "stderr",
          "output_type": "stream",
          "text": [
            "2025-09-15 03:35:32 - noveum_trace.transport.http_transport - INFO - 📤 EXPORTING TRACE: auto_trace_generate (ID: 2025bec7-9f57-488c-b4d9-f47a11e0bd19) - 1 spans\n",
            "2025-09-15 03:35:32 - noveum_trace.transport.batch_processor - INFO - 📥 ADDING TRACE TO QUEUE: auto_trace_generate (ID: 2025bec7-9f57-488c-b4d9-f47a11e0bd19) - 1 spans\n",
            "2025-09-15 03:35:32 - noveum_trace.transport.batch_processor - INFO - ✅ Successfully queued trace 2025bec7-9f57-488c-b4d9-f47a11e0bd19\n",
            "2025-09-15 03:35:32 - noveum_trace.transport.http_transport - INFO - ✅ Trace 2025bec7-9f57-488c-b4d9-f47a11e0bd19 successfully queued for export\n"
          ]
        },
        {
          "name": "stdout",
          "output_type": "stream",
          "text": [
            "2025-09-15 03:35:32 - INFO - novaeval.evaluators.agent_evaluator - Saving intermediate results after 7 samples\n",
            "2025-09-15 03:35:32 - INFO - novaeval.evaluators.agent_evaluator - Intermediate results saved to demo_results/sample_evaluation/agent_evaluation_results.csv\n"
          ]
        },
        {
          "name": "stderr",
          "output_type": "stream",
          "text": [
            "Evaluating samples: 7it [00:22,  3.23s/it]"
          ]
        },
        {
          "name": "stdout",
          "output_type": "stream",
          "text": [
            "2025-09-15 03:35:32 - INFO - google_genai.models - AFC is enabled with max remote calls: 10.\n",
            "2025-09-15 03:35:32 - ERROR - novaeval.models.base - Error: 429 RESOURCE_EXHAUSTED. {'error': {'code': 429, 'message': 'You exceeded your current quota, please check your plan and billing details. For more information on this error, head to: https://ai.google.dev/gemini-api/docs/rate-limits.', 'status': 'RESOURCE_EXHAUSTED', 'details': [{'@type': 'type.googleapis.com/google.rpc.QuotaFailure', 'violations': [{'quotaMetric': 'generativelanguage.googleapis.com/generate_content_free_tier_requests', 'quotaId': 'GenerateRequestsPerDayPerProjectPerModel-FreeTier', 'quotaDimensions': {'model': 'gemini-1.5-flash', 'location': 'global'}, 'quotaValue': '50'}]}, {'@type': 'type.googleapis.com/google.rpc.Help', 'links': [{'description': 'Learn more about Gemini API quotas', 'url': 'https://ai.google.dev/gemini-api/docs/rate-limits'}]}, {'@type': 'type.googleapis.com/google.rpc.RetryInfo', 'retryDelay': '27s'}]}}\n"
          ]
        },
        {
          "name": "stderr",
          "output_type": "stream",
          "text": [
            "2025-09-15 03:35:32 - noveum_trace.transport.http_transport - INFO - 📤 EXPORTING TRACE: auto_trace_generate (ID: ebc0c404-cda2-4c41-b9b6-1233b8c6b921) - 1 spans\n",
            "2025-09-15 03:35:32 - noveum_trace.transport.batch_processor - INFO - 📥 ADDING TRACE TO QUEUE: auto_trace_generate (ID: ebc0c404-cda2-4c41-b9b6-1233b8c6b921) - 1 spans\n",
            "2025-09-15 03:35:32 - noveum_trace.transport.batch_processor - INFO - ✅ Successfully queued trace ebc0c404-cda2-4c41-b9b6-1233b8c6b921\n",
            "2025-09-15 03:35:32 - noveum_trace.transport.http_transport - INFO - ✅ Trace ebc0c404-cda2-4c41-b9b6-1233b8c6b921 successfully queued for export\n"
          ]
        },
        {
          "name": "stdout",
          "output_type": "stream",
          "text": [
            "2025-09-15 03:35:32 - INFO - google_genai.models - AFC is enabled with max remote calls: 10.\n",
            "2025-09-15 03:35:33 - ERROR - novaeval.models.base - Error: 429 RESOURCE_EXHAUSTED. {'error': {'code': 429, 'message': 'You exceeded your current quota, please check your plan and billing details. For more information on this error, head to: https://ai.google.dev/gemini-api/docs/rate-limits.', 'status': 'RESOURCE_EXHAUSTED', 'details': [{'@type': 'type.googleapis.com/google.rpc.QuotaFailure', 'violations': [{'quotaMetric': 'generativelanguage.googleapis.com/generate_content_free_tier_requests', 'quotaId': 'GenerateRequestsPerDayPerProjectPerModel-FreeTier', 'quotaDimensions': {'model': 'gemini-1.5-flash', 'location': 'global'}, 'quotaValue': '50'}]}, {'@type': 'type.googleapis.com/google.rpc.Help', 'links': [{'description': 'Learn more about Gemini API quotas', 'url': 'https://ai.google.dev/gemini-api/docs/rate-limits'}]}, {'@type': 'type.googleapis.com/google.rpc.RetryInfo', 'retryDelay': '26s'}]}}\n"
          ]
        },
        {
          "name": "stderr",
          "output_type": "stream",
          "text": [
            "2025-09-15 03:35:33 - noveum_trace.transport.http_transport - INFO - 📤 EXPORTING TRACE: auto_trace_generate (ID: 5ad92114-e512-4120-9dd6-5f9bc734ef4b) - 1 spans\n",
            "2025-09-15 03:35:33 - noveum_trace.transport.batch_processor - INFO - 📥 ADDING TRACE TO QUEUE: auto_trace_generate (ID: 5ad92114-e512-4120-9dd6-5f9bc734ef4b) - 1 spans\n",
            "2025-09-15 03:35:33 - noveum_trace.transport.batch_processor - INFO - ✅ Successfully queued trace 5ad92114-e512-4120-9dd6-5f9bc734ef4b\n",
            "2025-09-15 03:35:33 - noveum_trace.transport.http_transport - INFO - ✅ Trace 5ad92114-e512-4120-9dd6-5f9bc734ef4b successfully queued for export\n"
          ]
        },
        {
          "name": "stdout",
          "output_type": "stream",
          "text": [
            "2025-09-15 03:35:33 - INFO - google_genai.models - AFC is enabled with max remote calls: 10.\n",
            "2025-09-15 03:35:34 - ERROR - novaeval.models.base - Error: 429 RESOURCE_EXHAUSTED. {'error': {'code': 429, 'message': 'You exceeded your current quota, please check your plan and billing details. For more information on this error, head to: https://ai.google.dev/gemini-api/docs/rate-limits.', 'status': 'RESOURCE_EXHAUSTED', 'details': [{'@type': 'type.googleapis.com/google.rpc.QuotaFailure', 'violations': [{'quotaMetric': 'generativelanguage.googleapis.com/generate_content_free_tier_requests', 'quotaId': 'GenerateRequestsPerDayPerProjectPerModel-FreeTier', 'quotaDimensions': {'location': 'global', 'model': 'gemini-1.5-flash'}, 'quotaValue': '50'}]}, {'@type': 'type.googleapis.com/google.rpc.Help', 'links': [{'description': 'Learn more about Gemini API quotas', 'url': 'https://ai.google.dev/gemini-api/docs/rate-limits'}]}, {'@type': 'type.googleapis.com/google.rpc.RetryInfo', 'retryDelay': '25s'}]}}\n"
          ]
        },
        {
          "name": "stderr",
          "output_type": "stream",
          "text": [
            "2025-09-15 03:35:34 - noveum_trace.transport.http_transport - INFO - 📤 EXPORTING TRACE: auto_trace_generate (ID: 42d88ead-ff01-4c3c-aabb-ef0d9be72936) - 1 spans\n",
            "2025-09-15 03:35:34 - noveum_trace.transport.batch_processor - INFO - 📥 ADDING TRACE TO QUEUE: auto_trace_generate (ID: 42d88ead-ff01-4c3c-aabb-ef0d9be72936) - 1 spans\n",
            "2025-09-15 03:35:34 - noveum_trace.transport.batch_processor - INFO - ✅ Successfully queued trace 42d88ead-ff01-4c3c-aabb-ef0d9be72936\n",
            "2025-09-15 03:35:34 - noveum_trace.transport.http_transport - INFO - ✅ Trace 42d88ead-ff01-4c3c-aabb-ef0d9be72936 successfully queued for export\n"
          ]
        },
        {
          "name": "stdout",
          "output_type": "stream",
          "text": [
            "2025-09-15 03:35:34 - INFO - novaeval.evaluators.agent_evaluator - Saving intermediate results after 8 samples\n",
            "2025-09-15 03:35:34 - INFO - novaeval.evaluators.agent_evaluator - Intermediate results saved to demo_results/sample_evaluation/agent_evaluation_results.csv\n"
          ]
        },
        {
          "name": "stderr",
          "output_type": "stream",
          "text": [
            "Evaluating samples: 8it [00:24,  2.86s/it]"
          ]
        },
        {
          "name": "stdout",
          "output_type": "stream",
          "text": [
            "2025-09-15 03:35:34 - INFO - google_genai.models - AFC is enabled with max remote calls: 10.\n",
            "2025-09-15 03:35:35 - ERROR - novaeval.models.base - Error: 429 RESOURCE_EXHAUSTED. {'error': {'code': 429, 'message': 'You exceeded your current quota, please check your plan and billing details. For more information on this error, head to: https://ai.google.dev/gemini-api/docs/rate-limits.', 'status': 'RESOURCE_EXHAUSTED', 'details': [{'@type': 'type.googleapis.com/google.rpc.QuotaFailure', 'violations': [{'quotaMetric': 'generativelanguage.googleapis.com/generate_content_free_tier_requests', 'quotaId': 'GenerateRequestsPerDayPerProjectPerModel-FreeTier', 'quotaDimensions': {'location': 'global', 'model': 'gemini-1.5-flash'}, 'quotaValue': '50'}]}, {'@type': 'type.googleapis.com/google.rpc.Help', 'links': [{'description': 'Learn more about Gemini API quotas', 'url': 'https://ai.google.dev/gemini-api/docs/rate-limits'}]}, {'@type': 'type.googleapis.com/google.rpc.RetryInfo', 'retryDelay': '24s'}]}}\n"
          ]
        },
        {
          "name": "stderr",
          "output_type": "stream",
          "text": [
            "2025-09-15 03:35:35 - noveum_trace.transport.http_transport - INFO - 📤 EXPORTING TRACE: auto_trace_generate (ID: 86915183-d210-4109-91f5-81f7059d63c2) - 1 spans\n",
            "2025-09-15 03:35:35 - noveum_trace.transport.batch_processor - INFO - 📥 ADDING TRACE TO QUEUE: auto_trace_generate (ID: 86915183-d210-4109-91f5-81f7059d63c2) - 1 spans\n",
            "2025-09-15 03:35:35 - noveum_trace.transport.batch_processor - INFO - ✅ Successfully queued trace 86915183-d210-4109-91f5-81f7059d63c2\n",
            "2025-09-15 03:35:35 - noveum_trace.transport.http_transport - INFO - ✅ Trace 86915183-d210-4109-91f5-81f7059d63c2 successfully queued for export\n"
          ]
        },
        {
          "name": "stdout",
          "output_type": "stream",
          "text": [
            "2025-09-15 03:35:35 - INFO - google_genai.models - AFC is enabled with max remote calls: 10.\n",
            "2025-09-15 03:35:35 - ERROR - novaeval.models.base - Error: 429 RESOURCE_EXHAUSTED. {'error': {'code': 429, 'message': 'You exceeded your current quota, please check your plan and billing details. For more information on this error, head to: https://ai.google.dev/gemini-api/docs/rate-limits.', 'status': 'RESOURCE_EXHAUSTED', 'details': [{'@type': 'type.googleapis.com/google.rpc.QuotaFailure', 'violations': [{'quotaMetric': 'generativelanguage.googleapis.com/generate_content_free_tier_requests', 'quotaId': 'GenerateRequestsPerDayPerProjectPerModel-FreeTier', 'quotaDimensions': {'location': 'global', 'model': 'gemini-1.5-flash'}, 'quotaValue': '50'}]}, {'@type': 'type.googleapis.com/google.rpc.Help', 'links': [{'description': 'Learn more about Gemini API quotas', 'url': 'https://ai.google.dev/gemini-api/docs/rate-limits'}]}, {'@type': 'type.googleapis.com/google.rpc.RetryInfo', 'retryDelay': '24s'}]}}\n"
          ]
        },
        {
          "name": "stderr",
          "output_type": "stream",
          "text": [
            "2025-09-15 03:35:35 - noveum_trace.transport.http_transport - INFO - 📤 EXPORTING TRACE: auto_trace_generate (ID: c9d8ec63-d61f-4bb0-9aac-0c96f34ba62d) - 1 spans\n",
            "2025-09-15 03:35:35 - noveum_trace.transport.batch_processor - INFO - 📥 ADDING TRACE TO QUEUE: auto_trace_generate (ID: c9d8ec63-d61f-4bb0-9aac-0c96f34ba62d) - 1 spans\n",
            "2025-09-15 03:35:35 - noveum_trace.transport.batch_processor - INFO - ✅ Successfully queued trace c9d8ec63-d61f-4bb0-9aac-0c96f34ba62d\n",
            "2025-09-15 03:35:35 - noveum_trace.transport.http_transport - INFO - ✅ Trace c9d8ec63-d61f-4bb0-9aac-0c96f34ba62d successfully queued for export\n"
          ]
        },
        {
          "name": "stdout",
          "output_type": "stream",
          "text": [
            "2025-09-15 03:35:35 - INFO - google_genai.models - AFC is enabled with max remote calls: 10.\n",
            "2025-09-15 03:35:37 - ERROR - novaeval.models.base - Error: 429 RESOURCE_EXHAUSTED. {'error': {'code': 429, 'message': 'You exceeded your current quota, please check your plan and billing details. For more information on this error, head to: https://ai.google.dev/gemini-api/docs/rate-limits.', 'status': 'RESOURCE_EXHAUSTED', 'details': [{'@type': 'type.googleapis.com/google.rpc.QuotaFailure', 'violations': [{'quotaMetric': 'generativelanguage.googleapis.com/generate_content_free_tier_requests', 'quotaId': 'GenerateRequestsPerDayPerProjectPerModel-FreeTier', 'quotaDimensions': {'model': 'gemini-1.5-flash', 'location': 'global'}, 'quotaValue': '50'}]}, {'@type': 'type.googleapis.com/google.rpc.Help', 'links': [{'description': 'Learn more about Gemini API quotas', 'url': 'https://ai.google.dev/gemini-api/docs/rate-limits'}]}, {'@type': 'type.googleapis.com/google.rpc.RetryInfo', 'retryDelay': '22s'}]}}\n"
          ]
        },
        {
          "name": "stderr",
          "output_type": "stream",
          "text": [
            "2025-09-15 03:35:37 - noveum_trace.transport.http_transport - INFO - 📤 EXPORTING TRACE: auto_trace_generate (ID: b3bcb556-ce03-407f-983a-20f9b0170be3) - 1 spans\n",
            "2025-09-15 03:35:37 - noveum_trace.transport.batch_processor - INFO - 📥 ADDING TRACE TO QUEUE: auto_trace_generate (ID: b3bcb556-ce03-407f-983a-20f9b0170be3) - 1 spans\n",
            "2025-09-15 03:35:37 - noveum_trace.transport.batch_processor - INFO - ✅ Successfully queued trace b3bcb556-ce03-407f-983a-20f9b0170be3\n",
            "2025-09-15 03:35:37 - noveum_trace.transport.http_transport - INFO - ✅ Trace b3bcb556-ce03-407f-983a-20f9b0170be3 successfully queued for export\n"
          ]
        },
        {
          "name": "stdout",
          "output_type": "stream",
          "text": [
            "2025-09-15 03:35:37 - INFO - novaeval.evaluators.agent_evaluator - Saving intermediate results after 9 samples\n",
            "2025-09-15 03:35:37 - INFO - novaeval.evaluators.agent_evaluator - Intermediate results saved to demo_results/sample_evaluation/agent_evaluation_results.csv\n"
          ]
        },
        {
          "name": "stderr",
          "output_type": "stream",
          "text": [
            "Evaluating samples: 9it [00:27,  2.86s/it]"
          ]
        },
        {
          "name": "stdout",
          "output_type": "stream",
          "text": [
            "2025-09-15 03:35:37 - INFO - google_genai.models - AFC is enabled with max remote calls: 10.\n",
            "2025-09-15 03:35:37 - ERROR - novaeval.models.base - Error: 429 RESOURCE_EXHAUSTED. {'error': {'code': 429, 'message': 'You exceeded your current quota, please check your plan and billing details. For more information on this error, head to: https://ai.google.dev/gemini-api/docs/rate-limits.', 'status': 'RESOURCE_EXHAUSTED', 'details': [{'@type': 'type.googleapis.com/google.rpc.QuotaFailure', 'violations': [{'quotaMetric': 'generativelanguage.googleapis.com/generate_content_free_tier_requests', 'quotaId': 'GenerateRequestsPerDayPerProjectPerModel-FreeTier', 'quotaDimensions': {'model': 'gemini-1.5-flash', 'location': 'global'}, 'quotaValue': '50'}]}, {'@type': 'type.googleapis.com/google.rpc.Help', 'links': [{'description': 'Learn more about Gemini API quotas', 'url': 'https://ai.google.dev/gemini-api/docs/rate-limits'}]}, {'@type': 'type.googleapis.com/google.rpc.RetryInfo', 'retryDelay': '22s'}]}}\n"
          ]
        },
        {
          "name": "stderr",
          "output_type": "stream",
          "text": [
            "2025-09-15 03:35:37 - noveum_trace.transport.http_transport - INFO - 📤 EXPORTING TRACE: auto_trace_generate (ID: d19da50a-c9ee-4b97-b9ce-6bbbf757f4e6) - 1 spans\n",
            "2025-09-15 03:35:37 - noveum_trace.transport.batch_processor - INFO - 📥 ADDING TRACE TO QUEUE: auto_trace_generate (ID: d19da50a-c9ee-4b97-b9ce-6bbbf757f4e6) - 1 spans\n",
            "2025-09-15 03:35:37 - noveum_trace.transport.batch_processor - INFO - ✅ Successfully queued trace d19da50a-c9ee-4b97-b9ce-6bbbf757f4e6\n",
            "2025-09-15 03:35:37 - noveum_trace.transport.http_transport - INFO - ✅ Trace d19da50a-c9ee-4b97-b9ce-6bbbf757f4e6 successfully queued for export\n"
          ]
        },
        {
          "name": "stdout",
          "output_type": "stream",
          "text": [
            "2025-09-15 03:35:37 - INFO - google_genai.models - AFC is enabled with max remote calls: 10.\n",
            "2025-09-15 03:35:38 - ERROR - novaeval.models.base - Error: 429 RESOURCE_EXHAUSTED. {'error': {'code': 429, 'message': 'You exceeded your current quota, please check your plan and billing details. For more information on this error, head to: https://ai.google.dev/gemini-api/docs/rate-limits.', 'status': 'RESOURCE_EXHAUSTED', 'details': [{'@type': 'type.googleapis.com/google.rpc.QuotaFailure', 'violations': [{'quotaMetric': 'generativelanguage.googleapis.com/generate_content_free_tier_requests', 'quotaId': 'GenerateRequestsPerDayPerProjectPerModel-FreeTier', 'quotaDimensions': {'location': 'global', 'model': 'gemini-1.5-flash'}, 'quotaValue': '50'}]}, {'@type': 'type.googleapis.com/google.rpc.Help', 'links': [{'description': 'Learn more about Gemini API quotas', 'url': 'https://ai.google.dev/gemini-api/docs/rate-limits'}]}, {'@type': 'type.googleapis.com/google.rpc.RetryInfo', 'retryDelay': '21s'}]}}\n"
          ]
        },
        {
          "name": "stderr",
          "output_type": "stream",
          "text": [
            "2025-09-15 03:35:38 - noveum_trace.transport.http_transport - INFO - 📤 EXPORTING TRACE: auto_trace_generate (ID: f68177c7-1ab5-42e9-b8fc-34fbef590cac) - 1 spans\n",
            "2025-09-15 03:35:38 - noveum_trace.transport.batch_processor - INFO - 📥 ADDING TRACE TO QUEUE: auto_trace_generate (ID: f68177c7-1ab5-42e9-b8fc-34fbef590cac) - 1 spans\n",
            "2025-09-15 03:35:38 - noveum_trace.transport.batch_processor - INFO - ✅ Successfully queued trace f68177c7-1ab5-42e9-b8fc-34fbef590cac\n",
            "2025-09-15 03:35:38 - noveum_trace.transport.http_transport - INFO - ✅ Trace f68177c7-1ab5-42e9-b8fc-34fbef590cac successfully queued for export\n"
          ]
        },
        {
          "name": "stdout",
          "output_type": "stream",
          "text": [
            "2025-09-15 03:35:38 - INFO - google_genai.models - AFC is enabled with max remote calls: 10.\n",
            "2025-09-15 03:35:39 - ERROR - novaeval.models.base - Error: 429 RESOURCE_EXHAUSTED. {'error': {'code': 429, 'message': 'You exceeded your current quota, please check your plan and billing details. For more information on this error, head to: https://ai.google.dev/gemini-api/docs/rate-limits.', 'status': 'RESOURCE_EXHAUSTED', 'details': [{'@type': 'type.googleapis.com/google.rpc.QuotaFailure', 'violations': [{'quotaMetric': 'generativelanguage.googleapis.com/generate_content_free_tier_requests', 'quotaId': 'GenerateRequestsPerDayPerProjectPerModel-FreeTier', 'quotaDimensions': {'location': 'global', 'model': 'gemini-1.5-flash'}, 'quotaValue': '50'}]}, {'@type': 'type.googleapis.com/google.rpc.Help', 'links': [{'description': 'Learn more about Gemini API quotas', 'url': 'https://ai.google.dev/gemini-api/docs/rate-limits'}]}, {'@type': 'type.googleapis.com/google.rpc.RetryInfo', 'retryDelay': '20s'}]}}\n"
          ]
        },
        {
          "name": "stderr",
          "output_type": "stream",
          "text": [
            "2025-09-15 03:35:39 - noveum_trace.transport.http_transport - INFO - 📤 EXPORTING TRACE: auto_trace_generate (ID: b8b937d8-0bc5-43f8-891d-87fc322f10ba) - 1 spans\n",
            "2025-09-15 03:35:39 - noveum_trace.transport.batch_processor - INFO - 📥 ADDING TRACE TO QUEUE: auto_trace_generate (ID: b8b937d8-0bc5-43f8-891d-87fc322f10ba) - 1 spans\n",
            "2025-09-15 03:35:39 - noveum_trace.transport.batch_processor - INFO - ✅ Successfully queued trace b8b937d8-0bc5-43f8-891d-87fc322f10ba\n",
            "2025-09-15 03:35:39 - noveum_trace.transport.http_transport - INFO - ✅ Trace b8b937d8-0bc5-43f8-891d-87fc322f10ba successfully queued for export\n"
          ]
        },
        {
          "name": "stdout",
          "output_type": "stream",
          "text": [
            "2025-09-15 03:35:39 - INFO - novaeval.evaluators.agent_evaluator - Saving intermediate results after 10 samples\n",
            "2025-09-15 03:35:39 - INFO - novaeval.evaluators.agent_evaluator - Intermediate results saved to demo_results/sample_evaluation/agent_evaluation_results.csv\n"
          ]
        },
        {
          "name": "stderr",
          "output_type": "stream",
          "text": [
            "Evaluating samples: 10it [00:29,  2.64s/it]"
          ]
        },
        {
          "name": "stdout",
          "output_type": "stream",
          "text": [
            "2025-09-15 03:35:39 - INFO - google_genai.models - AFC is enabled with max remote calls: 10.\n",
            "2025-09-15 03:35:40 - ERROR - novaeval.models.base - Error: 429 RESOURCE_EXHAUSTED. {'error': {'code': 429, 'message': 'You exceeded your current quota, please check your plan and billing details. For more information on this error, head to: https://ai.google.dev/gemini-api/docs/rate-limits.', 'status': 'RESOURCE_EXHAUSTED', 'details': [{'@type': 'type.googleapis.com/google.rpc.QuotaFailure', 'violations': [{'quotaMetric': 'generativelanguage.googleapis.com/generate_content_free_tier_requests', 'quotaId': 'GenerateRequestsPerDayPerProjectPerModel-FreeTier', 'quotaDimensions': {'location': 'global', 'model': 'gemini-1.5-flash'}, 'quotaValue': '50'}]}, {'@type': 'type.googleapis.com/google.rpc.Help', 'links': [{'description': 'Learn more about Gemini API quotas', 'url': 'https://ai.google.dev/gemini-api/docs/rate-limits'}]}, {'@type': 'type.googleapis.com/google.rpc.RetryInfo', 'retryDelay': '19s'}]}}\n"
          ]
        },
        {
          "name": "stderr",
          "output_type": "stream",
          "text": [
            "2025-09-15 03:35:40 - noveum_trace.transport.http_transport - INFO - 📤 EXPORTING TRACE: auto_trace_generate (ID: e78d7145-4d20-46d0-9dd1-ab3c26a2638e) - 1 spans\n",
            "2025-09-15 03:35:40 - noveum_trace.transport.batch_processor - INFO - 📥 ADDING TRACE TO QUEUE: auto_trace_generate (ID: e78d7145-4d20-46d0-9dd1-ab3c26a2638e) - 1 spans\n",
            "2025-09-15 03:35:40 - noveum_trace.transport.batch_processor - INFO - ✅ Successfully queued trace e78d7145-4d20-46d0-9dd1-ab3c26a2638e\n",
            "2025-09-15 03:35:40 - noveum_trace.transport.http_transport - INFO - ✅ Trace e78d7145-4d20-46d0-9dd1-ab3c26a2638e successfully queued for export\n"
          ]
        },
        {
          "name": "stdout",
          "output_type": "stream",
          "text": [
            "2025-09-15 03:35:40 - INFO - google_genai.models - AFC is enabled with max remote calls: 10.\n",
            "2025-09-15 03:35:41 - ERROR - novaeval.models.base - Error: 429 RESOURCE_EXHAUSTED. {'error': {'code': 429, 'message': 'You exceeded your current quota, please check your plan and billing details. For more information on this error, head to: https://ai.google.dev/gemini-api/docs/rate-limits.', 'status': 'RESOURCE_EXHAUSTED', 'details': [{'@type': 'type.googleapis.com/google.rpc.QuotaFailure', 'violations': [{'quotaMetric': 'generativelanguage.googleapis.com/generate_content_free_tier_requests', 'quotaId': 'GenerateRequestsPerDayPerProjectPerModel-FreeTier', 'quotaDimensions': {'model': 'gemini-1.5-flash', 'location': 'global'}, 'quotaValue': '50'}]}, {'@type': 'type.googleapis.com/google.rpc.Help', 'links': [{'description': 'Learn more about Gemini API quotas', 'url': 'https://ai.google.dev/gemini-api/docs/rate-limits'}]}, {'@type': 'type.googleapis.com/google.rpc.RetryInfo', 'retryDelay': '19s'}]}}\n"
          ]
        },
        {
          "name": "stderr",
          "output_type": "stream",
          "text": [
            "2025-09-15 03:35:41 - noveum_trace.transport.http_transport - INFO - 📤 EXPORTING TRACE: auto_trace_generate (ID: 443c3e4e-f4ce-40ae-aee6-5e900c849170) - 1 spans\n",
            "2025-09-15 03:35:41 - noveum_trace.transport.batch_processor - INFO - 📥 ADDING TRACE TO QUEUE: auto_trace_generate (ID: 443c3e4e-f4ce-40ae-aee6-5e900c849170) - 1 spans\n",
            "2025-09-15 03:35:41 - noveum_trace.transport.batch_processor - INFO - ✅ Successfully queued trace 443c3e4e-f4ce-40ae-aee6-5e900c849170\n",
            "2025-09-15 03:35:41 - noveum_trace.transport.http_transport - INFO - ✅ Trace 443c3e4e-f4ce-40ae-aee6-5e900c849170 successfully queued for export\n"
          ]
        },
        {
          "name": "stdout",
          "output_type": "stream",
          "text": [
            "2025-09-15 03:35:41 - INFO - google_genai.models - AFC is enabled with max remote calls: 10.\n",
            "2025-09-15 03:35:42 - ERROR - novaeval.models.base - Error: 429 RESOURCE_EXHAUSTED. {'error': {'code': 429, 'message': 'You exceeded your current quota, please check your plan and billing details. For more information on this error, head to: https://ai.google.dev/gemini-api/docs/rate-limits.', 'status': 'RESOURCE_EXHAUSTED', 'details': [{'@type': 'type.googleapis.com/google.rpc.QuotaFailure', 'violations': [{'quotaMetric': 'generativelanguage.googleapis.com/generate_content_free_tier_requests', 'quotaId': 'GenerateRequestsPerDayPerProjectPerModel-FreeTier', 'quotaDimensions': {'location': 'global', 'model': 'gemini-1.5-flash'}, 'quotaValue': '50'}]}, {'@type': 'type.googleapis.com/google.rpc.Help', 'links': [{'description': 'Learn more about Gemini API quotas', 'url': 'https://ai.google.dev/gemini-api/docs/rate-limits'}]}, {'@type': 'type.googleapis.com/google.rpc.RetryInfo', 'retryDelay': '17s'}]}}\n"
          ]
        },
        {
          "name": "stderr",
          "output_type": "stream",
          "text": [
            "2025-09-15 03:35:42 - noveum_trace.transport.http_transport - INFO - 📤 EXPORTING TRACE: auto_trace_generate (ID: e03b2a9a-9557-4589-a9c1-f285c8ea0620) - 1 spans\n",
            "2025-09-15 03:35:42 - noveum_trace.transport.batch_processor - INFO - 📥 ADDING TRACE TO QUEUE: auto_trace_generate (ID: e03b2a9a-9557-4589-a9c1-f285c8ea0620) - 1 spans\n",
            "2025-09-15 03:35:42 - noveum_trace.transport.batch_processor - INFO - ✅ Successfully queued trace e03b2a9a-9557-4589-a9c1-f285c8ea0620\n",
            "2025-09-15 03:35:42 - noveum_trace.transport.http_transport - INFO - ✅ Trace e03b2a9a-9557-4589-a9c1-f285c8ea0620 successfully queued for export\n"
          ]
        },
        {
          "name": "stdout",
          "output_type": "stream",
          "text": [
            "2025-09-15 03:35:42 - INFO - novaeval.evaluators.agent_evaluator - Saving intermediate results after 11 samples\n",
            "2025-09-15 03:35:42 - INFO - novaeval.evaluators.agent_evaluator - Intermediate results saved to demo_results/sample_evaluation/agent_evaluation_results.csv\n"
          ]
        },
        {
          "name": "stderr",
          "output_type": "stream",
          "text": [
            "Evaluating samples: 11it [00:32,  2.71s/it]"
          ]
        },
        {
          "name": "stdout",
          "output_type": "stream",
          "text": [
            "2025-09-15 03:35:42 - INFO - google_genai.models - AFC is enabled with max remote calls: 10.\n",
            "2025-09-15 03:35:42 - ERROR - novaeval.models.base - Error: 429 RESOURCE_EXHAUSTED. {'error': {'code': 429, 'message': 'You exceeded your current quota, please check your plan and billing details. For more information on this error, head to: https://ai.google.dev/gemini-api/docs/rate-limits.', 'status': 'RESOURCE_EXHAUSTED', 'details': [{'@type': 'type.googleapis.com/google.rpc.QuotaFailure', 'violations': [{'quotaMetric': 'generativelanguage.googleapis.com/generate_content_free_tier_requests', 'quotaId': 'GenerateRequestsPerDayPerProjectPerModel-FreeTier', 'quotaDimensions': {'location': 'global', 'model': 'gemini-1.5-flash'}, 'quotaValue': '50'}]}, {'@type': 'type.googleapis.com/google.rpc.Help', 'links': [{'description': 'Learn more about Gemini API quotas', 'url': 'https://ai.google.dev/gemini-api/docs/rate-limits'}]}, {'@type': 'type.googleapis.com/google.rpc.RetryInfo', 'retryDelay': '17s'}]}}\n"
          ]
        },
        {
          "name": "stderr",
          "output_type": "stream",
          "text": [
            "2025-09-15 03:35:42 - noveum_trace.transport.http_transport - INFO - 📤 EXPORTING TRACE: auto_trace_generate (ID: 155b44c5-6487-4523-acdc-34bbe8a5e0a2) - 1 spans\n",
            "2025-09-15 03:35:42 - noveum_trace.transport.batch_processor - INFO - 📥 ADDING TRACE TO QUEUE: auto_trace_generate (ID: 155b44c5-6487-4523-acdc-34bbe8a5e0a2) - 1 spans\n",
            "2025-09-15 03:35:42 - noveum_trace.transport.batch_processor - INFO - ✅ Successfully queued trace 155b44c5-6487-4523-acdc-34bbe8a5e0a2\n",
            "2025-09-15 03:35:42 - noveum_trace.transport.http_transport - INFO - ✅ Trace 155b44c5-6487-4523-acdc-34bbe8a5e0a2 successfully queued for export\n"
          ]
        },
        {
          "name": "stdout",
          "output_type": "stream",
          "text": [
            "2025-09-15 03:35:42 - INFO - google_genai.models - AFC is enabled with max remote calls: 10.\n",
            "2025-09-15 03:35:43 - ERROR - novaeval.models.base - Error: 429 RESOURCE_EXHAUSTED. {'error': {'code': 429, 'message': 'You exceeded your current quota, please check your plan and billing details. For more information on this error, head to: https://ai.google.dev/gemini-api/docs/rate-limits.', 'status': 'RESOURCE_EXHAUSTED', 'details': [{'@type': 'type.googleapis.com/google.rpc.QuotaFailure', 'violations': [{'quotaMetric': 'generativelanguage.googleapis.com/generate_content_free_tier_requests', 'quotaId': 'GenerateRequestsPerDayPerProjectPerModel-FreeTier', 'quotaDimensions': {'location': 'global', 'model': 'gemini-1.5-flash'}, 'quotaValue': '50'}]}, {'@type': 'type.googleapis.com/google.rpc.Help', 'links': [{'description': 'Learn more about Gemini API quotas', 'url': 'https://ai.google.dev/gemini-api/docs/rate-limits'}]}, {'@type': 'type.googleapis.com/google.rpc.RetryInfo', 'retryDelay': '16s'}]}}\n"
          ]
        },
        {
          "name": "stderr",
          "output_type": "stream",
          "text": [
            "2025-09-15 03:35:43 - noveum_trace.transport.http_transport - INFO - 📤 EXPORTING TRACE: auto_trace_generate (ID: 8fd37490-2883-4be2-9f64-bf49c4d083b3) - 1 spans\n",
            "2025-09-15 03:35:43 - noveum_trace.transport.batch_processor - INFO - 📥 ADDING TRACE TO QUEUE: auto_trace_generate (ID: 8fd37490-2883-4be2-9f64-bf49c4d083b3) - 1 spans\n",
            "2025-09-15 03:35:43 - noveum_trace.transport.batch_processor - INFO - ✅ Successfully queued trace 8fd37490-2883-4be2-9f64-bf49c4d083b3\n",
            "2025-09-15 03:35:43 - noveum_trace.transport.http_transport - INFO - ✅ Trace 8fd37490-2883-4be2-9f64-bf49c4d083b3 successfully queued for export\n"
          ]
        },
        {
          "name": "stdout",
          "output_type": "stream",
          "text": [
            "2025-09-15 03:35:43 - INFO - google_genai.models - AFC is enabled with max remote calls: 10.\n",
            "2025-09-15 03:35:44 - ERROR - novaeval.models.base - Error: 429 RESOURCE_EXHAUSTED. {'error': {'code': 429, 'message': 'You exceeded your current quota, please check your plan and billing details. For more information on this error, head to: https://ai.google.dev/gemini-api/docs/rate-limits.', 'status': 'RESOURCE_EXHAUSTED', 'details': [{'@type': 'type.googleapis.com/google.rpc.QuotaFailure', 'violations': [{'quotaMetric': 'generativelanguage.googleapis.com/generate_content_free_tier_requests', 'quotaId': 'GenerateRequestsPerDayPerProjectPerModel-FreeTier', 'quotaDimensions': {'location': 'global', 'model': 'gemini-1.5-flash'}, 'quotaValue': '50'}]}, {'@type': 'type.googleapis.com/google.rpc.Help', 'links': [{'description': 'Learn more about Gemini API quotas', 'url': 'https://ai.google.dev/gemini-api/docs/rate-limits'}]}, {'@type': 'type.googleapis.com/google.rpc.RetryInfo', 'retryDelay': '15s'}]}}\n"
          ]
        },
        {
          "name": "stderr",
          "output_type": "stream",
          "text": [
            "2025-09-15 03:35:44 - noveum_trace.transport.http_transport - INFO - 📤 EXPORTING TRACE: auto_trace_generate (ID: 6d4c1e5d-7d1c-482f-b1e8-b5070df65aea) - 1 spans\n",
            "2025-09-15 03:35:44 - noveum_trace.transport.batch_processor - INFO - 📥 ADDING TRACE TO QUEUE: auto_trace_generate (ID: 6d4c1e5d-7d1c-482f-b1e8-b5070df65aea) - 1 spans\n",
            "2025-09-15 03:35:44 - noveum_trace.transport.batch_processor - INFO - ✅ Successfully queued trace 6d4c1e5d-7d1c-482f-b1e8-b5070df65aea\n",
            "2025-09-15 03:35:44 - noveum_trace.transport.http_transport - INFO - ✅ Trace 6d4c1e5d-7d1c-482f-b1e8-b5070df65aea successfully queued for export\n"
          ]
        },
        {
          "name": "stdout",
          "output_type": "stream",
          "text": [
            "2025-09-15 03:35:44 - INFO - novaeval.evaluators.agent_evaluator - Saving intermediate results after 12 samples\n",
            "2025-09-15 03:35:44 - INFO - novaeval.evaluators.agent_evaluator - Intermediate results saved to demo_results/sample_evaluation/agent_evaluation_results.csv\n"
          ]
        },
        {
          "name": "stderr",
          "output_type": "stream",
          "text": [
            "Evaluating samples: 12it [00:34,  2.55s/it]"
          ]
        },
        {
          "name": "stdout",
          "output_type": "stream",
          "text": [
            "2025-09-15 03:35:44 - INFO - google_genai.models - AFC is enabled with max remote calls: 10.\n",
            "2025-09-15 03:35:45 - ERROR - novaeval.models.base - Error: 429 RESOURCE_EXHAUSTED. {'error': {'code': 429, 'message': 'You exceeded your current quota, please check your plan and billing details. For more information on this error, head to: https://ai.google.dev/gemini-api/docs/rate-limits.', 'status': 'RESOURCE_EXHAUSTED', 'details': [{'@type': 'type.googleapis.com/google.rpc.QuotaFailure', 'violations': [{'quotaMetric': 'generativelanguage.googleapis.com/generate_content_free_tier_requests', 'quotaId': 'GenerateRequestsPerDayPerProjectPerModel-FreeTier', 'quotaDimensions': {'location': 'global', 'model': 'gemini-1.5-flash'}, 'quotaValue': '50'}]}, {'@type': 'type.googleapis.com/google.rpc.Help', 'links': [{'description': 'Learn more about Gemini API quotas', 'url': 'https://ai.google.dev/gemini-api/docs/rate-limits'}]}, {'@type': 'type.googleapis.com/google.rpc.RetryInfo', 'retryDelay': '14s'}]}}\n"
          ]
        },
        {
          "name": "stderr",
          "output_type": "stream",
          "text": [
            "2025-09-15 03:35:45 - noveum_trace.transport.http_transport - INFO - 📤 EXPORTING TRACE: auto_trace_generate (ID: 54603fcb-7f06-4098-baad-79137502c0c0) - 1 spans\n",
            "2025-09-15 03:35:45 - noveum_trace.transport.batch_processor - INFO - 📥 ADDING TRACE TO QUEUE: auto_trace_generate (ID: 54603fcb-7f06-4098-baad-79137502c0c0) - 1 spans\n",
            "2025-09-15 03:35:45 - noveum_trace.transport.batch_processor - INFO - ✅ Successfully queued trace 54603fcb-7f06-4098-baad-79137502c0c0\n",
            "2025-09-15 03:35:45 - noveum_trace.transport.http_transport - INFO - ✅ Trace 54603fcb-7f06-4098-baad-79137502c0c0 successfully queued for export\n"
          ]
        },
        {
          "name": "stdout",
          "output_type": "stream",
          "text": [
            "2025-09-15 03:35:45 - INFO - google_genai.models - AFC is enabled with max remote calls: 10.\n",
            "2025-09-15 03:35:46 - ERROR - novaeval.models.base - Error: 429 RESOURCE_EXHAUSTED. {'error': {'code': 429, 'message': 'You exceeded your current quota, please check your plan and billing details. For more information on this error, head to: https://ai.google.dev/gemini-api/docs/rate-limits.', 'status': 'RESOURCE_EXHAUSTED', 'details': [{'@type': 'type.googleapis.com/google.rpc.QuotaFailure', 'violations': [{'quotaMetric': 'generativelanguage.googleapis.com/generate_content_free_tier_requests', 'quotaId': 'GenerateRequestsPerDayPerProjectPerModel-FreeTier', 'quotaDimensions': {'location': 'global', 'model': 'gemini-1.5-flash'}, 'quotaValue': '50'}]}, {'@type': 'type.googleapis.com/google.rpc.Help', 'links': [{'description': 'Learn more about Gemini API quotas', 'url': 'https://ai.google.dev/gemini-api/docs/rate-limits'}]}, {'@type': 'type.googleapis.com/google.rpc.RetryInfo', 'retryDelay': '14s'}]}}\n"
          ]
        },
        {
          "name": "stderr",
          "output_type": "stream",
          "text": [
            "2025-09-15 03:35:46 - noveum_trace.transport.http_transport - INFO - 📤 EXPORTING TRACE: auto_trace_generate (ID: a458f332-43a9-4bf6-92ea-e99407c35753) - 1 spans\n",
            "2025-09-15 03:35:46 - noveum_trace.transport.batch_processor - INFO - 📥 ADDING TRACE TO QUEUE: auto_trace_generate (ID: a458f332-43a9-4bf6-92ea-e99407c35753) - 1 spans\n",
            "2025-09-15 03:35:46 - noveum_trace.transport.batch_processor - INFO - ✅ Successfully queued trace a458f332-43a9-4bf6-92ea-e99407c35753\n",
            "2025-09-15 03:35:46 - noveum_trace.transport.http_transport - INFO - ✅ Trace a458f332-43a9-4bf6-92ea-e99407c35753 successfully queued for export\n"
          ]
        },
        {
          "name": "stdout",
          "output_type": "stream",
          "text": [
            "2025-09-15 03:35:46 - INFO - google_genai.models - AFC is enabled with max remote calls: 10.\n",
            "2025-09-15 03:35:47 - ERROR - novaeval.models.base - Error: 429 RESOURCE_EXHAUSTED. {'error': {'code': 429, 'message': 'You exceeded your current quota, please check your plan and billing details. For more information on this error, head to: https://ai.google.dev/gemini-api/docs/rate-limits.', 'status': 'RESOURCE_EXHAUSTED', 'details': [{'@type': 'type.googleapis.com/google.rpc.QuotaFailure', 'violations': [{'quotaMetric': 'generativelanguage.googleapis.com/generate_content_free_tier_requests', 'quotaId': 'GenerateRequestsPerDayPerProjectPerModel-FreeTier', 'quotaDimensions': {'location': 'global', 'model': 'gemini-1.5-flash'}, 'quotaValue': '50'}]}, {'@type': 'type.googleapis.com/google.rpc.Help', 'links': [{'description': 'Learn more about Gemini API quotas', 'url': 'https://ai.google.dev/gemini-api/docs/rate-limits'}]}, {'@type': 'type.googleapis.com/google.rpc.RetryInfo', 'retryDelay': '12s'}]}}\n"
          ]
        },
        {
          "name": "stderr",
          "output_type": "stream",
          "text": [
            "2025-09-15 03:35:47 - noveum_trace.transport.http_transport - INFO - 📤 EXPORTING TRACE: auto_trace_generate (ID: d16d68ac-5863-4289-9749-3a4cf3665f0b) - 1 spans\n",
            "2025-09-15 03:35:47 - noveum_trace.transport.batch_processor - INFO - 📥 ADDING TRACE TO QUEUE: auto_trace_generate (ID: d16d68ac-5863-4289-9749-3a4cf3665f0b) - 1 spans\n",
            "2025-09-15 03:35:47 - noveum_trace.transport.batch_processor - INFO - ✅ Successfully queued trace d16d68ac-5863-4289-9749-3a4cf3665f0b\n",
            "2025-09-15 03:35:47 - noveum_trace.transport.http_transport - INFO - ✅ Trace d16d68ac-5863-4289-9749-3a4cf3665f0b successfully queued for export\n"
          ]
        },
        {
          "name": "stdout",
          "output_type": "stream",
          "text": [
            "2025-09-15 03:35:47 - INFO - novaeval.evaluators.agent_evaluator - Saving intermediate results after 13 samples\n",
            "2025-09-15 03:35:47 - INFO - novaeval.evaluators.agent_evaluator - Intermediate results saved to demo_results/sample_evaluation/agent_evaluation_results.csv\n"
          ]
        },
        {
          "name": "stderr",
          "output_type": "stream",
          "text": [
            "Evaluating samples: 13it [00:37,  2.63s/it]"
          ]
        },
        {
          "name": "stdout",
          "output_type": "stream",
          "text": [
            "2025-09-15 03:35:47 - INFO - google_genai.models - AFC is enabled with max remote calls: 10.\n",
            "2025-09-15 03:35:47 - ERROR - novaeval.models.base - Error: 429 RESOURCE_EXHAUSTED. {'error': {'code': 429, 'message': 'You exceeded your current quota, please check your plan and billing details. For more information on this error, head to: https://ai.google.dev/gemini-api/docs/rate-limits.', 'status': 'RESOURCE_EXHAUSTED', 'details': [{'@type': 'type.googleapis.com/google.rpc.QuotaFailure', 'violations': [{'quotaMetric': 'generativelanguage.googleapis.com/generate_content_free_tier_requests', 'quotaId': 'GenerateRequestsPerDayPerProjectPerModel-FreeTier', 'quotaDimensions': {'model': 'gemini-1.5-flash', 'location': 'global'}, 'quotaValue': '50'}]}, {'@type': 'type.googleapis.com/google.rpc.Help', 'links': [{'description': 'Learn more about Gemini API quotas', 'url': 'https://ai.google.dev/gemini-api/docs/rate-limits'}]}, {'@type': 'type.googleapis.com/google.rpc.RetryInfo', 'retryDelay': '12s'}]}}\n"
          ]
        },
        {
          "name": "stderr",
          "output_type": "stream",
          "text": [
            "2025-09-15 03:35:47 - noveum_trace.transport.http_transport - INFO - 📤 EXPORTING TRACE: auto_trace_generate (ID: 8a40e000-2dc3-4ca2-bccd-51a7fee0732f) - 1 spans\n",
            "2025-09-15 03:35:47 - noveum_trace.transport.batch_processor - INFO - 📥 ADDING TRACE TO QUEUE: auto_trace_generate (ID: 8a40e000-2dc3-4ca2-bccd-51a7fee0732f) - 1 spans\n",
            "2025-09-15 03:35:47 - noveum_trace.transport.batch_processor - INFO - ✅ Successfully queued trace 8a40e000-2dc3-4ca2-bccd-51a7fee0732f\n",
            "2025-09-15 03:35:47 - noveum_trace.transport.http_transport - INFO - ✅ Trace 8a40e000-2dc3-4ca2-bccd-51a7fee0732f successfully queued for export\n"
          ]
        },
        {
          "name": "stdout",
          "output_type": "stream",
          "text": [
            "2025-09-15 03:35:47 - INFO - google_genai.models - AFC is enabled with max remote calls: 10.\n",
            "2025-09-15 03:35:48 - ERROR - novaeval.models.base - Error: 429 RESOURCE_EXHAUSTED. {'error': {'code': 429, 'message': 'You exceeded your current quota, please check your plan and billing details. For more information on this error, head to: https://ai.google.dev/gemini-api/docs/rate-limits.', 'status': 'RESOURCE_EXHAUSTED', 'details': [{'@type': 'type.googleapis.com/google.rpc.QuotaFailure', 'violations': [{'quotaMetric': 'generativelanguage.googleapis.com/generate_content_free_tier_requests', 'quotaId': 'GenerateRequestsPerDayPerProjectPerModel-FreeTier', 'quotaDimensions': {'location': 'global', 'model': 'gemini-1.5-flash'}, 'quotaValue': '50'}]}, {'@type': 'type.googleapis.com/google.rpc.Help', 'links': [{'description': 'Learn more about Gemini API quotas', 'url': 'https://ai.google.dev/gemini-api/docs/rate-limits'}]}, {'@type': 'type.googleapis.com/google.rpc.RetryInfo', 'retryDelay': '11s'}]}}\n"
          ]
        },
        {
          "name": "stderr",
          "output_type": "stream",
          "text": [
            "2025-09-15 03:35:48 - noveum_trace.transport.http_transport - INFO - 📤 EXPORTING TRACE: auto_trace_generate (ID: 19968587-19df-4d4f-abe0-11515442cc32) - 1 spans\n",
            "2025-09-15 03:35:48 - noveum_trace.transport.batch_processor - INFO - 📥 ADDING TRACE TO QUEUE: auto_trace_generate (ID: 19968587-19df-4d4f-abe0-11515442cc32) - 1 spans\n",
            "2025-09-15 03:35:48 - noveum_trace.transport.batch_processor - INFO - ✅ Successfully queued trace 19968587-19df-4d4f-abe0-11515442cc32\n",
            "2025-09-15 03:35:48 - noveum_trace.transport.http_transport - INFO - ✅ Trace 19968587-19df-4d4f-abe0-11515442cc32 successfully queued for export\n"
          ]
        },
        {
          "name": "stdout",
          "output_type": "stream",
          "text": [
            "2025-09-15 03:35:48 - INFO - google_genai.models - AFC is enabled with max remote calls: 10.\n",
            "2025-09-15 03:35:49 - ERROR - novaeval.models.base - Error: 429 RESOURCE_EXHAUSTED. {'error': {'code': 429, 'message': 'You exceeded your current quota, please check your plan and billing details. For more information on this error, head to: https://ai.google.dev/gemini-api/docs/rate-limits.', 'status': 'RESOURCE_EXHAUSTED', 'details': [{'@type': 'type.googleapis.com/google.rpc.QuotaFailure', 'violations': [{'quotaMetric': 'generativelanguage.googleapis.com/generate_content_free_tier_requests', 'quotaId': 'GenerateRequestsPerDayPerProjectPerModel-FreeTier', 'quotaDimensions': {'location': 'global', 'model': 'gemini-1.5-flash'}, 'quotaValue': '50'}]}, {'@type': 'type.googleapis.com/google.rpc.Help', 'links': [{'description': 'Learn more about Gemini API quotas', 'url': 'https://ai.google.dev/gemini-api/docs/rate-limits'}]}, {'@type': 'type.googleapis.com/google.rpc.RetryInfo', 'retryDelay': '10s'}]}}\n"
          ]
        },
        {
          "name": "stderr",
          "output_type": "stream",
          "text": [
            "2025-09-15 03:35:49 - noveum_trace.transport.http_transport - INFO - 📤 EXPORTING TRACE: auto_trace_generate (ID: ae6787b1-40b0-490a-afdf-5c6423f8625b) - 1 spans\n",
            "2025-09-15 03:35:49 - noveum_trace.transport.batch_processor - INFO - 📥 ADDING TRACE TO QUEUE: auto_trace_generate (ID: ae6787b1-40b0-490a-afdf-5c6423f8625b) - 1 spans\n",
            "2025-09-15 03:35:49 - noveum_trace.transport.batch_processor - INFO - ✅ Successfully queued trace ae6787b1-40b0-490a-afdf-5c6423f8625b\n",
            "2025-09-15 03:35:49 - noveum_trace.transport.http_transport - INFO - ✅ Trace ae6787b1-40b0-490a-afdf-5c6423f8625b successfully queued for export\n"
          ]
        },
        {
          "name": "stdout",
          "output_type": "stream",
          "text": [
            "2025-09-15 03:35:49 - INFO - google_genai.models - AFC is enabled with max remote calls: 10.\n",
            "2025-09-15 03:35:50 - ERROR - novaeval.models.base - Error: 429 RESOURCE_EXHAUSTED. {'error': {'code': 429, 'message': 'You exceeded your current quota, please check your plan and billing details. For more information on this error, head to: https://ai.google.dev/gemini-api/docs/rate-limits.', 'status': 'RESOURCE_EXHAUSTED', 'details': [{'@type': 'type.googleapis.com/google.rpc.QuotaFailure', 'violations': [{'quotaMetric': 'generativelanguage.googleapis.com/generate_content_free_tier_requests', 'quotaId': 'GenerateRequestsPerDayPerProjectPerModel-FreeTier', 'quotaDimensions': {'location': 'global', 'model': 'gemini-1.5-flash'}, 'quotaValue': '50'}]}, {'@type': 'type.googleapis.com/google.rpc.Help', 'links': [{'description': 'Learn more about Gemini API quotas', 'url': 'https://ai.google.dev/gemini-api/docs/rate-limits'}]}, {'@type': 'type.googleapis.com/google.rpc.RetryInfo', 'retryDelay': '9s'}]}}\n"
          ]
        },
        {
          "name": "stderr",
          "output_type": "stream",
          "text": [
            "2025-09-15 03:35:50 - noveum_trace.transport.http_transport - INFO - 📤 EXPORTING TRACE: auto_trace_generate (ID: f58d2f0e-82b8-491f-8495-c4ae11dd8120) - 1 spans\n",
            "2025-09-15 03:35:50 - noveum_trace.transport.batch_processor - INFO - 📥 ADDING TRACE TO QUEUE: auto_trace_generate (ID: f58d2f0e-82b8-491f-8495-c4ae11dd8120) - 1 spans\n",
            "2025-09-15 03:35:50 - noveum_trace.transport.batch_processor - INFO - ✅ Successfully queued trace f58d2f0e-82b8-491f-8495-c4ae11dd8120\n",
            "2025-09-15 03:35:50 - noveum_trace.transport.http_transport - INFO - ✅ Trace f58d2f0e-82b8-491f-8495-c4ae11dd8120 successfully queued for export\n"
          ]
        },
        {
          "name": "stdout",
          "output_type": "stream",
          "text": [
            "2025-09-15 03:35:50 - INFO - google_genai.models - AFC is enabled with max remote calls: 10.\n",
            "2025-09-15 03:35:50 - ERROR - novaeval.models.base - Error: 429 RESOURCE_EXHAUSTED. {'error': {'code': 429, 'message': 'You exceeded your current quota, please check your plan and billing details. For more information on this error, head to: https://ai.google.dev/gemini-api/docs/rate-limits.', 'status': 'RESOURCE_EXHAUSTED', 'details': [{'@type': 'type.googleapis.com/google.rpc.QuotaFailure', 'violations': [{'quotaMetric': 'generativelanguage.googleapis.com/generate_content_free_tier_requests', 'quotaId': 'GenerateRequestsPerDayPerProjectPerModel-FreeTier', 'quotaDimensions': {'model': 'gemini-1.5-flash', 'location': 'global'}, 'quotaValue': '50'}]}, {'@type': 'type.googleapis.com/google.rpc.Help', 'links': [{'description': 'Learn more about Gemini API quotas', 'url': 'https://ai.google.dev/gemini-api/docs/rate-limits'}]}, {'@type': 'type.googleapis.com/google.rpc.RetryInfo', 'retryDelay': '9s'}]}}\n"
          ]
        },
        {
          "name": "stderr",
          "output_type": "stream",
          "text": [
            "2025-09-15 03:35:50 - noveum_trace.transport.http_transport - INFO - 📤 EXPORTING TRACE: auto_trace_generate (ID: 92830755-6f4d-45f0-ae47-6e2a12ffeb9e) - 1 spans\n",
            "2025-09-15 03:35:50 - noveum_trace.transport.batch_processor - INFO - 📥 ADDING TRACE TO QUEUE: auto_trace_generate (ID: 92830755-6f4d-45f0-ae47-6e2a12ffeb9e) - 1 spans\n",
            "2025-09-15 03:35:50 - noveum_trace.transport.batch_processor - INFO - ✅ Successfully queued trace 92830755-6f4d-45f0-ae47-6e2a12ffeb9e\n",
            "2025-09-15 03:35:50 - noveum_trace.transport.http_transport - INFO - ✅ Trace 92830755-6f4d-45f0-ae47-6e2a12ffeb9e successfully queued for export\n"
          ]
        },
        {
          "name": "stdout",
          "output_type": "stream",
          "text": [
            "2025-09-15 03:35:50 - INFO - novaeval.evaluators.agent_evaluator - Saving intermediate results after 14 samples\n",
            "2025-09-15 03:35:50 - INFO - novaeval.evaluators.agent_evaluator - Intermediate results saved to demo_results/sample_evaluation/agent_evaluation_results.csv\n"
          ]
        },
        {
          "name": "stderr",
          "output_type": "stream",
          "text": [
            "Evaluating samples: 14it [00:41,  2.96s/it]"
          ]
        },
        {
          "name": "stdout",
          "output_type": "stream",
          "text": [
            "2025-09-15 03:35:50 - INFO - google_genai.models - AFC is enabled with max remote calls: 10.\n",
            "2025-09-15 03:35:51 - ERROR - novaeval.models.base - Error: 429 RESOURCE_EXHAUSTED. {'error': {'code': 429, 'message': 'You exceeded your current quota, please check your plan and billing details. For more information on this error, head to: https://ai.google.dev/gemini-api/docs/rate-limits.', 'status': 'RESOURCE_EXHAUSTED', 'details': [{'@type': 'type.googleapis.com/google.rpc.QuotaFailure', 'violations': [{'quotaMetric': 'generativelanguage.googleapis.com/generate_content_free_tier_requests', 'quotaId': 'GenerateRequestsPerDayPerProjectPerModel-FreeTier', 'quotaDimensions': {'model': 'gemini-1.5-flash', 'location': 'global'}, 'quotaValue': '50'}]}, {'@type': 'type.googleapis.com/google.rpc.Help', 'links': [{'description': 'Learn more about Gemini API quotas', 'url': 'https://ai.google.dev/gemini-api/docs/rate-limits'}]}, {'@type': 'type.googleapis.com/google.rpc.RetryInfo', 'retryDelay': '8s'}]}}\n"
          ]
        },
        {
          "name": "stderr",
          "output_type": "stream",
          "text": [
            "2025-09-15 03:35:51 - noveum_trace.transport.http_transport - INFO - 📤 EXPORTING TRACE: auto_trace_generate (ID: 4385656b-1ce0-4aa3-8c54-087365794621) - 1 spans\n",
            "2025-09-15 03:35:51 - noveum_trace.transport.batch_processor - INFO - 📥 ADDING TRACE TO QUEUE: auto_trace_generate (ID: 4385656b-1ce0-4aa3-8c54-087365794621) - 1 spans\n",
            "2025-09-15 03:35:51 - noveum_trace.transport.batch_processor - INFO - ✅ Successfully queued trace 4385656b-1ce0-4aa3-8c54-087365794621\n",
            "2025-09-15 03:35:51 - noveum_trace.transport.http_transport - INFO - ✅ Trace 4385656b-1ce0-4aa3-8c54-087365794621 successfully queued for export\n"
          ]
        },
        {
          "name": "stdout",
          "output_type": "stream",
          "text": [
            "2025-09-15 03:35:51 - INFO - google_genai.models - AFC is enabled with max remote calls: 10.\n",
            "2025-09-15 03:35:52 - ERROR - novaeval.models.base - Error: 429 RESOURCE_EXHAUSTED. {'error': {'code': 429, 'message': 'You exceeded your current quota, please check your plan and billing details. For more information on this error, head to: https://ai.google.dev/gemini-api/docs/rate-limits.', 'status': 'RESOURCE_EXHAUSTED', 'details': [{'@type': 'type.googleapis.com/google.rpc.QuotaFailure', 'violations': [{'quotaMetric': 'generativelanguage.googleapis.com/generate_content_free_tier_requests', 'quotaId': 'GenerateRequestsPerDayPerProjectPerModel-FreeTier', 'quotaDimensions': {'location': 'global', 'model': 'gemini-1.5-flash'}, 'quotaValue': '50'}]}, {'@type': 'type.googleapis.com/google.rpc.Help', 'links': [{'description': 'Learn more about Gemini API quotas', 'url': 'https://ai.google.dev/gemini-api/docs/rate-limits'}]}, {'@type': 'type.googleapis.com/google.rpc.RetryInfo', 'retryDelay': '7s'}]}}\n"
          ]
        },
        {
          "name": "stderr",
          "output_type": "stream",
          "text": [
            "2025-09-15 03:35:52 - noveum_trace.transport.http_transport - INFO - 📤 EXPORTING TRACE: auto_trace_generate (ID: c1096812-ec03-4896-85f3-8711ba694ae3) - 1 spans\n",
            "2025-09-15 03:35:52 - noveum_trace.transport.batch_processor - INFO - 📥 ADDING TRACE TO QUEUE: auto_trace_generate (ID: c1096812-ec03-4896-85f3-8711ba694ae3) - 1 spans\n",
            "2025-09-15 03:35:52 - noveum_trace.transport.batch_processor - INFO - ✅ Successfully queued trace c1096812-ec03-4896-85f3-8711ba694ae3\n",
            "2025-09-15 03:35:52 - noveum_trace.transport.http_transport - INFO - ✅ Trace c1096812-ec03-4896-85f3-8711ba694ae3 successfully queued for export\n"
          ]
        },
        {
          "name": "stdout",
          "output_type": "stream",
          "text": [
            "2025-09-15 03:35:52 - INFO - google_genai.models - AFC is enabled with max remote calls: 10.\n",
            "2025-09-15 03:35:53 - ERROR - novaeval.models.base - Error: 429 RESOURCE_EXHAUSTED. {'error': {'code': 429, 'message': 'You exceeded your current quota, please check your plan and billing details. For more information on this error, head to: https://ai.google.dev/gemini-api/docs/rate-limits.', 'status': 'RESOURCE_EXHAUSTED', 'details': [{'@type': 'type.googleapis.com/google.rpc.QuotaFailure', 'violations': [{'quotaMetric': 'generativelanguage.googleapis.com/generate_content_free_tier_requests', 'quotaId': 'GenerateRequestsPerDayPerProjectPerModel-FreeTier', 'quotaDimensions': {'location': 'global', 'model': 'gemini-1.5-flash'}, 'quotaValue': '50'}]}, {'@type': 'type.googleapis.com/google.rpc.Help', 'links': [{'description': 'Learn more about Gemini API quotas', 'url': 'https://ai.google.dev/gemini-api/docs/rate-limits'}]}, {'@type': 'type.googleapis.com/google.rpc.RetryInfo', 'retryDelay': '6s'}]}}\n"
          ]
        },
        {
          "name": "stderr",
          "output_type": "stream",
          "text": [
            "2025-09-15 03:35:53 - noveum_trace.transport.http_transport - INFO - 📤 EXPORTING TRACE: auto_trace_generate (ID: 92fcbe62-24f5-433a-8445-0aa63023b730) - 1 spans\n",
            "2025-09-15 03:35:53 - noveum_trace.transport.batch_processor - INFO - 📥 ADDING TRACE TO QUEUE: auto_trace_generate (ID: 92fcbe62-24f5-433a-8445-0aa63023b730) - 1 spans\n",
            "2025-09-15 03:35:53 - noveum_trace.transport.batch_processor - INFO - ✅ Successfully queued trace 92fcbe62-24f5-433a-8445-0aa63023b730\n",
            "2025-09-15 03:35:53 - noveum_trace.transport.http_transport - INFO - ✅ Trace 92fcbe62-24f5-433a-8445-0aa63023b730 successfully queued for export\n"
          ]
        },
        {
          "name": "stdout",
          "output_type": "stream",
          "text": [
            "2025-09-15 03:35:53 - INFO - novaeval.evaluators.agent_evaluator - Saving intermediate results after 15 samples\n",
            "2025-09-15 03:35:53 - INFO - novaeval.evaluators.agent_evaluator - Intermediate results saved to demo_results/sample_evaluation/agent_evaluation_results.csv\n"
          ]
        },
        {
          "name": "stderr",
          "output_type": "stream",
          "text": [
            "Evaluating samples: 15it [00:44,  2.90s/it]"
          ]
        },
        {
          "name": "stdout",
          "output_type": "stream",
          "text": [
            "2025-09-15 03:35:53 - INFO - google_genai.models - AFC is enabled with max remote calls: 10.\n",
            "2025-09-15 03:35:54 - ERROR - novaeval.models.base - Error: 429 RESOURCE_EXHAUSTED. {'error': {'code': 429, 'message': 'You exceeded your current quota, please check your plan and billing details. For more information on this error, head to: https://ai.google.dev/gemini-api/docs/rate-limits.', 'status': 'RESOURCE_EXHAUSTED', 'details': [{'@type': 'type.googleapis.com/google.rpc.QuotaFailure', 'violations': [{'quotaMetric': 'generativelanguage.googleapis.com/generate_content_free_tier_requests', 'quotaId': 'GenerateRequestsPerDayPerProjectPerModel-FreeTier', 'quotaDimensions': {'model': 'gemini-1.5-flash', 'location': 'global'}, 'quotaValue': '50'}]}, {'@type': 'type.googleapis.com/google.rpc.Help', 'links': [{'description': 'Learn more about Gemini API quotas', 'url': 'https://ai.google.dev/gemini-api/docs/rate-limits'}]}, {'@type': 'type.googleapis.com/google.rpc.RetryInfo', 'retryDelay': '5s'}]}}\n"
          ]
        },
        {
          "name": "stderr",
          "output_type": "stream",
          "text": [
            "2025-09-15 03:35:54 - noveum_trace.transport.http_transport - INFO - 📤 EXPORTING TRACE: auto_trace_generate (ID: 372dca24-3f6b-484d-866a-d45c9f647cde) - 1 spans\n",
            "2025-09-15 03:35:54 - noveum_trace.transport.batch_processor - INFO - 📥 ADDING TRACE TO QUEUE: auto_trace_generate (ID: 372dca24-3f6b-484d-866a-d45c9f647cde) - 1 spans\n",
            "2025-09-15 03:35:54 - noveum_trace.transport.batch_processor - INFO - ✅ Successfully queued trace 372dca24-3f6b-484d-866a-d45c9f647cde\n",
            "2025-09-15 03:35:54 - noveum_trace.transport.http_transport - INFO - ✅ Trace 372dca24-3f6b-484d-866a-d45c9f647cde successfully queued for export\n"
          ]
        },
        {
          "name": "stdout",
          "output_type": "stream",
          "text": [
            "2025-09-15 03:35:54 - INFO - google_genai.models - AFC is enabled with max remote calls: 10.\n",
            "2025-09-15 03:35:55 - ERROR - novaeval.models.base - Error: 429 RESOURCE_EXHAUSTED. {'error': {'code': 429, 'message': 'You exceeded your current quota, please check your plan and billing details. For more information on this error, head to: https://ai.google.dev/gemini-api/docs/rate-limits.', 'status': 'RESOURCE_EXHAUSTED', 'details': [{'@type': 'type.googleapis.com/google.rpc.QuotaFailure', 'violations': [{'quotaMetric': 'generativelanguage.googleapis.com/generate_content_free_tier_requests', 'quotaId': 'GenerateRequestsPerDayPerProjectPerModel-FreeTier', 'quotaDimensions': {'model': 'gemini-1.5-flash', 'location': 'global'}, 'quotaValue': '50'}]}, {'@type': 'type.googleapis.com/google.rpc.Help', 'links': [{'description': 'Learn more about Gemini API quotas', 'url': 'https://ai.google.dev/gemini-api/docs/rate-limits'}]}, {'@type': 'type.googleapis.com/google.rpc.RetryInfo', 'retryDelay': '4s'}]}}\n"
          ]
        },
        {
          "name": "stderr",
          "output_type": "stream",
          "text": [
            "2025-09-15 03:35:55 - noveum_trace.transport.http_transport - INFO - 📤 EXPORTING TRACE: auto_trace_generate (ID: f4407371-da99-43e0-b488-47cb8c3a317b) - 1 spans\n",
            "2025-09-15 03:35:55 - noveum_trace.transport.batch_processor - INFO - 📥 ADDING TRACE TO QUEUE: auto_trace_generate (ID: f4407371-da99-43e0-b488-47cb8c3a317b) - 1 spans\n",
            "2025-09-15 03:35:55 - noveum_trace.transport.batch_processor - INFO - ✅ Successfully queued trace f4407371-da99-43e0-b488-47cb8c3a317b\n",
            "2025-09-15 03:35:55 - noveum_trace.transport.http_transport - INFO - ✅ Trace f4407371-da99-43e0-b488-47cb8c3a317b successfully queued for export\n"
          ]
        },
        {
          "name": "stdout",
          "output_type": "stream",
          "text": [
            "2025-09-15 03:35:55 - INFO - google_genai.models - AFC is enabled with max remote calls: 10.\n",
            "2025-09-15 03:35:56 - ERROR - novaeval.models.base - Error: 429 RESOURCE_EXHAUSTED. {'error': {'code': 429, 'message': 'You exceeded your current quota, please check your plan and billing details. For more information on this error, head to: https://ai.google.dev/gemini-api/docs/rate-limits.', 'status': 'RESOURCE_EXHAUSTED', 'details': [{'@type': 'type.googleapis.com/google.rpc.QuotaFailure', 'violations': [{'quotaMetric': 'generativelanguage.googleapis.com/generate_content_free_tier_requests', 'quotaId': 'GenerateRequestsPerDayPerProjectPerModel-FreeTier', 'quotaDimensions': {'model': 'gemini-1.5-flash', 'location': 'global'}, 'quotaValue': '50'}]}, {'@type': 'type.googleapis.com/google.rpc.Help', 'links': [{'description': 'Learn more about Gemini API quotas', 'url': 'https://ai.google.dev/gemini-api/docs/rate-limits'}]}, {'@type': 'type.googleapis.com/google.rpc.RetryInfo', 'retryDelay': '4s'}]}}\n"
          ]
        },
        {
          "name": "stderr",
          "output_type": "stream",
          "text": [
            "2025-09-15 03:35:56 - noveum_trace.transport.http_transport - INFO - 📤 EXPORTING TRACE: auto_trace_generate (ID: fca053db-c0f5-4856-80e7-f3c3a7e75f54) - 1 spans\n",
            "2025-09-15 03:35:56 - noveum_trace.transport.batch_processor - INFO - 📥 ADDING TRACE TO QUEUE: auto_trace_generate (ID: fca053db-c0f5-4856-80e7-f3c3a7e75f54) - 1 spans\n",
            "2025-09-15 03:35:56 - noveum_trace.transport.batch_processor - INFO - ✅ Successfully queued trace fca053db-c0f5-4856-80e7-f3c3a7e75f54\n",
            "2025-09-15 03:35:56 - noveum_trace.transport.http_transport - INFO - ✅ Trace fca053db-c0f5-4856-80e7-f3c3a7e75f54 successfully queued for export\n"
          ]
        },
        {
          "name": "stdout",
          "output_type": "stream",
          "text": [
            "2025-09-15 03:35:56 - INFO - novaeval.evaluators.agent_evaluator - Saving intermediate results after 16 samples\n",
            "2025-09-15 03:35:56 - INFO - novaeval.evaluators.agent_evaluator - Intermediate results saved to demo_results/sample_evaluation/agent_evaluation_results.csv\n"
          ]
        },
        {
          "name": "stderr",
          "output_type": "stream",
          "text": [
            "Evaluating samples: 16it [00:46,  2.73s/it]"
          ]
        },
        {
          "name": "stdout",
          "output_type": "stream",
          "text": [
            "2025-09-15 03:35:56 - INFO - google_genai.models - AFC is enabled with max remote calls: 10.\n",
            "2025-09-15 03:35:56 - ERROR - novaeval.models.base - Error: 429 RESOURCE_EXHAUSTED. {'error': {'code': 429, 'message': 'You exceeded your current quota, please check your plan and billing details. For more information on this error, head to: https://ai.google.dev/gemini-api/docs/rate-limits.', 'status': 'RESOURCE_EXHAUSTED', 'details': [{'@type': 'type.googleapis.com/google.rpc.QuotaFailure', 'violations': [{'quotaMetric': 'generativelanguage.googleapis.com/generate_content_free_tier_requests', 'quotaId': 'GenerateRequestsPerDayPerProjectPerModel-FreeTier', 'quotaDimensions': {'location': 'global', 'model': 'gemini-1.5-flash'}, 'quotaValue': '50'}]}, {'@type': 'type.googleapis.com/google.rpc.Help', 'links': [{'description': 'Learn more about Gemini API quotas', 'url': 'https://ai.google.dev/gemini-api/docs/rate-limits'}]}, {'@type': 'type.googleapis.com/google.rpc.RetryInfo', 'retryDelay': '3s'}]}}\n"
          ]
        },
        {
          "name": "stderr",
          "output_type": "stream",
          "text": [
            "2025-09-15 03:35:56 - noveum_trace.transport.http_transport - INFO - 📤 EXPORTING TRACE: auto_trace_generate (ID: fc2d07ce-bbfc-4b0e-99b6-9c369208c622) - 1 spans\n",
            "2025-09-15 03:35:56 - noveum_trace.transport.batch_processor - INFO - 📥 ADDING TRACE TO QUEUE: auto_trace_generate (ID: fc2d07ce-bbfc-4b0e-99b6-9c369208c622) - 1 spans\n",
            "2025-09-15 03:35:56 - noveum_trace.transport.batch_processor - INFO - ✅ Successfully queued trace fc2d07ce-bbfc-4b0e-99b6-9c369208c622\n",
            "2025-09-15 03:35:56 - noveum_trace.transport.http_transport - INFO - ✅ Trace fc2d07ce-bbfc-4b0e-99b6-9c369208c622 successfully queued for export\n"
          ]
        },
        {
          "name": "stdout",
          "output_type": "stream",
          "text": [
            "2025-09-15 03:35:56 - INFO - google_genai.models - AFC is enabled with max remote calls: 10.\n",
            "2025-09-15 03:35:57 - ERROR - novaeval.models.base - Error: 429 RESOURCE_EXHAUSTED. {'error': {'code': 429, 'message': 'You exceeded your current quota, please check your plan and billing details. For more information on this error, head to: https://ai.google.dev/gemini-api/docs/rate-limits.', 'status': 'RESOURCE_EXHAUSTED', 'details': [{'@type': 'type.googleapis.com/google.rpc.QuotaFailure', 'violations': [{'quotaMetric': 'generativelanguage.googleapis.com/generate_content_free_tier_requests', 'quotaId': 'GenerateRequestsPerDayPerProjectPerModel-FreeTier', 'quotaDimensions': {'location': 'global', 'model': 'gemini-1.5-flash'}, 'quotaValue': '50'}]}, {'@type': 'type.googleapis.com/google.rpc.Help', 'links': [{'description': 'Learn more about Gemini API quotas', 'url': 'https://ai.google.dev/gemini-api/docs/rate-limits'}]}, {'@type': 'type.googleapis.com/google.rpc.RetryInfo', 'retryDelay': '2s'}]}}\n"
          ]
        },
        {
          "name": "stderr",
          "output_type": "stream",
          "text": [
            "2025-09-15 03:35:57 - noveum_trace.transport.http_transport - INFO - 📤 EXPORTING TRACE: auto_trace_generate (ID: 7f8da9bf-1aa8-49b1-a2f3-b0034ec786e3) - 1 spans\n",
            "2025-09-15 03:35:57 - noveum_trace.transport.batch_processor - INFO - 📥 ADDING TRACE TO QUEUE: auto_trace_generate (ID: 7f8da9bf-1aa8-49b1-a2f3-b0034ec786e3) - 1 spans\n",
            "2025-09-15 03:35:57 - noveum_trace.transport.batch_processor - INFO - ✅ Successfully queued trace 7f8da9bf-1aa8-49b1-a2f3-b0034ec786e3\n",
            "2025-09-15 03:35:57 - noveum_trace.transport.http_transport - INFO - ✅ Trace 7f8da9bf-1aa8-49b1-a2f3-b0034ec786e3 successfully queued for export\n"
          ]
        },
        {
          "name": "stdout",
          "output_type": "stream",
          "text": [
            "2025-09-15 03:35:57 - INFO - google_genai.models - AFC is enabled with max remote calls: 10.\n",
            "2025-09-15 03:35:58 - ERROR - novaeval.models.base - Error: 429 RESOURCE_EXHAUSTED. {'error': {'code': 429, 'message': 'You exceeded your current quota, please check your plan and billing details. For more information on this error, head to: https://ai.google.dev/gemini-api/docs/rate-limits.', 'status': 'RESOURCE_EXHAUSTED', 'details': [{'@type': 'type.googleapis.com/google.rpc.QuotaFailure', 'violations': [{'quotaMetric': 'generativelanguage.googleapis.com/generate_content_free_tier_requests', 'quotaId': 'GenerateRequestsPerDayPerProjectPerModel-FreeTier', 'quotaDimensions': {'location': 'global', 'model': 'gemini-1.5-flash'}, 'quotaValue': '50'}]}, {'@type': 'type.googleapis.com/google.rpc.Help', 'links': [{'description': 'Learn more about Gemini API quotas', 'url': 'https://ai.google.dev/gemini-api/docs/rate-limits'}]}, {'@type': 'type.googleapis.com/google.rpc.RetryInfo', 'retryDelay': '1s'}]}}\n"
          ]
        },
        {
          "name": "stderr",
          "output_type": "stream",
          "text": [
            "2025-09-15 03:35:58 - noveum_trace.transport.http_transport - INFO - 📤 EXPORTING TRACE: auto_trace_generate (ID: d025de64-6a8a-4fb7-8260-6721f8a1dabd) - 1 spans\n",
            "2025-09-15 03:35:58 - noveum_trace.transport.batch_processor - INFO - 📥 ADDING TRACE TO QUEUE: auto_trace_generate (ID: d025de64-6a8a-4fb7-8260-6721f8a1dabd) - 1 spans\n",
            "2025-09-15 03:35:58 - noveum_trace.transport.batch_processor - INFO - ✅ Successfully queued trace d025de64-6a8a-4fb7-8260-6721f8a1dabd\n",
            "2025-09-15 03:35:58 - noveum_trace.transport.http_transport - INFO - ✅ Trace d025de64-6a8a-4fb7-8260-6721f8a1dabd successfully queued for export\n"
          ]
        },
        {
          "name": "stdout",
          "output_type": "stream",
          "text": [
            "2025-09-15 03:35:58 - INFO - google_genai.models - AFC is enabled with max remote calls: 10.\n",
            "2025-09-15 03:35:59 - ERROR - novaeval.models.base - Error: 429 RESOURCE_EXHAUSTED. {'error': {'code': 429, 'message': 'You exceeded your current quota, please check your plan and billing details. For more information on this error, head to: https://ai.google.dev/gemini-api/docs/rate-limits.', 'status': 'RESOURCE_EXHAUSTED', 'details': [{'@type': 'type.googleapis.com/google.rpc.QuotaFailure', 'violations': [{'quotaMetric': 'generativelanguage.googleapis.com/generate_content_free_tier_requests', 'quotaId': 'GenerateRequestsPerDayPerProjectPerModel-FreeTier', 'quotaDimensions': {'model': 'gemini-1.5-flash', 'location': 'global'}, 'quotaValue': '50'}]}, {'@type': 'type.googleapis.com/google.rpc.Help', 'links': [{'description': 'Learn more about Gemini API quotas', 'url': 'https://ai.google.dev/gemini-api/docs/rate-limits'}]}, {'@type': 'type.googleapis.com/google.rpc.RetryInfo', 'retryDelay': '0s'}]}}\n"
          ]
        },
        {
          "name": "stderr",
          "output_type": "stream",
          "text": [
            "2025-09-15 03:35:59 - noveum_trace.transport.http_transport - INFO - 📤 EXPORTING TRACE: auto_trace_generate (ID: 82b05ffc-35d6-4daa-b7b7-13ea666dad87) - 1 spans\n",
            "2025-09-15 03:35:59 - noveum_trace.transport.batch_processor - INFO - 📥 ADDING TRACE TO QUEUE: auto_trace_generate (ID: 82b05ffc-35d6-4daa-b7b7-13ea666dad87) - 1 spans\n",
            "2025-09-15 03:35:59 - noveum_trace.transport.batch_processor - INFO - ✅ Successfully queued trace 82b05ffc-35d6-4daa-b7b7-13ea666dad87\n",
            "2025-09-15 03:35:59 - noveum_trace.transport.http_transport - INFO - ✅ Trace 82b05ffc-35d6-4daa-b7b7-13ea666dad87 successfully queued for export\n"
          ]
        },
        {
          "name": "stdout",
          "output_type": "stream",
          "text": [
            "2025-09-15 03:35:59 - INFO - google_genai.models - AFC is enabled with max remote calls: 10.\n",
            "2025-09-15 03:36:00 - ERROR - novaeval.models.base - Error: 429 RESOURCE_EXHAUSTED. {'error': {'code': 429, 'message': 'You exceeded your current quota, please check your plan and billing details. For more information on this error, head to: https://ai.google.dev/gemini-api/docs/rate-limits.', 'status': 'RESOURCE_EXHAUSTED', 'details': [{'@type': 'type.googleapis.com/google.rpc.QuotaFailure', 'violations': [{'quotaMetric': 'generativelanguage.googleapis.com/generate_content_free_tier_requests', 'quotaId': 'GenerateRequestsPerDayPerProjectPerModel-FreeTier', 'quotaDimensions': {'location': 'global', 'model': 'gemini-1.5-flash'}, 'quotaValue': '50'}]}, {'@type': 'type.googleapis.com/google.rpc.Help', 'links': [{'description': 'Learn more about Gemini API quotas', 'url': 'https://ai.google.dev/gemini-api/docs/rate-limits'}]}, {'@type': 'type.googleapis.com/google.rpc.RetryInfo', 'retryDelay': '59s'}]}}\n"
          ]
        },
        {
          "name": "stderr",
          "output_type": "stream",
          "text": [
            "2025-09-15 03:36:00 - noveum_trace.transport.http_transport - INFO - 📤 EXPORTING TRACE: auto_trace_generate (ID: 7f7b2afe-6c34-4f3a-b20b-00061763b1fc) - 1 spans\n",
            "2025-09-15 03:36:00 - noveum_trace.transport.batch_processor - INFO - 📥 ADDING TRACE TO QUEUE: auto_trace_generate (ID: 7f7b2afe-6c34-4f3a-b20b-00061763b1fc) - 1 spans\n",
            "2025-09-15 03:36:00 - noveum_trace.transport.batch_processor - INFO - ✅ Successfully queued trace 7f7b2afe-6c34-4f3a-b20b-00061763b1fc\n",
            "2025-09-15 03:36:00 - noveum_trace.transport.http_transport - INFO - ✅ Trace 7f7b2afe-6c34-4f3a-b20b-00061763b1fc successfully queued for export\n"
          ]
        },
        {
          "name": "stdout",
          "output_type": "stream",
          "text": [
            "2025-09-15 03:36:00 - INFO - novaeval.evaluators.agent_evaluator - Saving intermediate results after 17 samples\n",
            "2025-09-15 03:36:00 - INFO - novaeval.evaluators.agent_evaluator - Intermediate results saved to demo_results/sample_evaluation/agent_evaluation_results.csv\n"
          ]
        },
        {
          "name": "stderr",
          "output_type": "stream",
          "text": [
            "Evaluating samples: 17it [00:50,  3.18s/it]"
          ]
        },
        {
          "name": "stdout",
          "output_type": "stream",
          "text": [
            "2025-09-15 03:36:00 - INFO - google_genai.models - AFC is enabled with max remote calls: 10.\n",
            "2025-09-15 03:36:00 - ERROR - novaeval.models.base - Error: 429 RESOURCE_EXHAUSTED. {'error': {'code': 429, 'message': 'You exceeded your current quota, please check your plan and billing details. For more information on this error, head to: https://ai.google.dev/gemini-api/docs/rate-limits.', 'status': 'RESOURCE_EXHAUSTED', 'details': [{'@type': 'type.googleapis.com/google.rpc.QuotaFailure', 'violations': [{'quotaMetric': 'generativelanguage.googleapis.com/generate_content_free_tier_requests', 'quotaId': 'GenerateRequestsPerDayPerProjectPerModel-FreeTier', 'quotaDimensions': {'model': 'gemini-1.5-flash', 'location': 'global'}, 'quotaValue': '50'}]}, {'@type': 'type.googleapis.com/google.rpc.Help', 'links': [{'description': 'Learn more about Gemini API quotas', 'url': 'https://ai.google.dev/gemini-api/docs/rate-limits'}]}, {'@type': 'type.googleapis.com/google.rpc.RetryInfo', 'retryDelay': '59s'}]}}\n"
          ]
        },
        {
          "name": "stderr",
          "output_type": "stream",
          "text": [
            "2025-09-15 03:36:00 - noveum_trace.transport.http_transport - INFO - 📤 EXPORTING TRACE: auto_trace_generate (ID: f3819b1f-2a49-4f5d-85ec-047e35466e8a) - 1 spans\n",
            "2025-09-15 03:36:00 - noveum_trace.transport.batch_processor - INFO - 📥 ADDING TRACE TO QUEUE: auto_trace_generate (ID: f3819b1f-2a49-4f5d-85ec-047e35466e8a) - 1 spans\n",
            "2025-09-15 03:36:00 - noveum_trace.transport.batch_processor - INFO - ✅ Successfully queued trace f3819b1f-2a49-4f5d-85ec-047e35466e8a\n",
            "2025-09-15 03:36:00 - noveum_trace.transport.http_transport - INFO - ✅ Trace f3819b1f-2a49-4f5d-85ec-047e35466e8a successfully queued for export\n"
          ]
        },
        {
          "name": "stdout",
          "output_type": "stream",
          "text": [
            "2025-09-15 03:36:00 - INFO - google_genai.models - AFC is enabled with max remote calls: 10.\n",
            "2025-09-15 03:36:01 - ERROR - novaeval.models.base - Error: 429 RESOURCE_EXHAUSTED. {'error': {'code': 429, 'message': 'You exceeded your current quota, please check your plan and billing details. For more information on this error, head to: https://ai.google.dev/gemini-api/docs/rate-limits.', 'status': 'RESOURCE_EXHAUSTED', 'details': [{'@type': 'type.googleapis.com/google.rpc.QuotaFailure', 'violations': [{'quotaMetric': 'generativelanguage.googleapis.com/generate_content_free_tier_requests', 'quotaId': 'GenerateRequestsPerDayPerProjectPerModel-FreeTier', 'quotaDimensions': {'model': 'gemini-1.5-flash', 'location': 'global'}, 'quotaValue': '50'}]}, {'@type': 'type.googleapis.com/google.rpc.Help', 'links': [{'description': 'Learn more about Gemini API quotas', 'url': 'https://ai.google.dev/gemini-api/docs/rate-limits'}]}, {'@type': 'type.googleapis.com/google.rpc.RetryInfo', 'retryDelay': '58s'}]}}\n"
          ]
        },
        {
          "name": "stderr",
          "output_type": "stream",
          "text": [
            "2025-09-15 03:36:01 - noveum_trace.transport.http_transport - INFO - 📤 EXPORTING TRACE: auto_trace_generate (ID: 4662fb14-ba81-4602-ba07-aa6d015c5e5c) - 1 spans\n",
            "2025-09-15 03:36:01 - noveum_trace.transport.batch_processor - INFO - 📥 ADDING TRACE TO QUEUE: auto_trace_generate (ID: 4662fb14-ba81-4602-ba07-aa6d015c5e5c) - 1 spans\n",
            "2025-09-15 03:36:01 - noveum_trace.transport.batch_processor - INFO - ✅ Successfully queued trace 4662fb14-ba81-4602-ba07-aa6d015c5e5c\n",
            "2025-09-15 03:36:01 - noveum_trace.transport.http_transport - INFO - ✅ Trace 4662fb14-ba81-4602-ba07-aa6d015c5e5c successfully queued for export\n"
          ]
        },
        {
          "name": "stdout",
          "output_type": "stream",
          "text": [
            "2025-09-15 03:36:01 - INFO - google_genai.models - AFC is enabled with max remote calls: 10.\n",
            "2025-09-15 03:36:02 - ERROR - novaeval.models.base - Error: 429 RESOURCE_EXHAUSTED. {'error': {'code': 429, 'message': 'You exceeded your current quota, please check your plan and billing details. For more information on this error, head to: https://ai.google.dev/gemini-api/docs/rate-limits.', 'status': 'RESOURCE_EXHAUSTED', 'details': [{'@type': 'type.googleapis.com/google.rpc.QuotaFailure', 'violations': [{'quotaMetric': 'generativelanguage.googleapis.com/generate_content_free_tier_requests', 'quotaId': 'GenerateRequestsPerDayPerProjectPerModel-FreeTier', 'quotaDimensions': {'location': 'global', 'model': 'gemini-1.5-flash'}, 'quotaValue': '50'}]}, {'@type': 'type.googleapis.com/google.rpc.Help', 'links': [{'description': 'Learn more about Gemini API quotas', 'url': 'https://ai.google.dev/gemini-api/docs/rate-limits'}]}, {'@type': 'type.googleapis.com/google.rpc.RetryInfo', 'retryDelay': '57s'}]}}\n"
          ]
        },
        {
          "name": "stderr",
          "output_type": "stream",
          "text": [
            "2025-09-15 03:36:02 - noveum_trace.transport.http_transport - INFO - 📤 EXPORTING TRACE: auto_trace_generate (ID: 3a25bbed-fe33-4eb7-92f5-1ab32fcf01d0) - 1 spans\n",
            "2025-09-15 03:36:02 - noveum_trace.transport.batch_processor - INFO - 📥 ADDING TRACE TO QUEUE: auto_trace_generate (ID: 3a25bbed-fe33-4eb7-92f5-1ab32fcf01d0) - 1 spans\n",
            "2025-09-15 03:36:02 - noveum_trace.transport.batch_processor - INFO - ✅ Successfully queued trace 3a25bbed-fe33-4eb7-92f5-1ab32fcf01d0\n",
            "2025-09-15 03:36:02 - noveum_trace.transport.http_transport - INFO - ✅ Trace 3a25bbed-fe33-4eb7-92f5-1ab32fcf01d0 successfully queued for export\n"
          ]
        },
        {
          "name": "stdout",
          "output_type": "stream",
          "text": [
            "2025-09-15 03:36:02 - INFO - novaeval.evaluators.agent_evaluator - Saving intermediate results after 18 samples\n",
            "2025-09-15 03:36:02 - INFO - novaeval.evaluators.agent_evaluator - Intermediate results saved to demo_results/sample_evaluation/agent_evaluation_results.csv\n"
          ]
        },
        {
          "name": "stderr",
          "output_type": "stream",
          "text": [
            "Evaluating samples: 18it [00:52,  2.90s/it]"
          ]
        },
        {
          "name": "stdout",
          "output_type": "stream",
          "text": [
            "2025-09-15 03:36:02 - INFO - google_genai.models - AFC is enabled with max remote calls: 10.\n",
            "2025-09-15 03:36:03 - ERROR - novaeval.models.base - Error: 429 RESOURCE_EXHAUSTED. {'error': {'code': 429, 'message': 'You exceeded your current quota, please check your plan and billing details. For more information on this error, head to: https://ai.google.dev/gemini-api/docs/rate-limits.', 'status': 'RESOURCE_EXHAUSTED', 'details': [{'@type': 'type.googleapis.com/google.rpc.QuotaFailure', 'violations': [{'quotaMetric': 'generativelanguage.googleapis.com/generate_content_free_tier_requests', 'quotaId': 'GenerateRequestsPerDayPerProjectPerModel-FreeTier', 'quotaDimensions': {'model': 'gemini-1.5-flash', 'location': 'global'}, 'quotaValue': '50'}]}, {'@type': 'type.googleapis.com/google.rpc.Help', 'links': [{'description': 'Learn more about Gemini API quotas', 'url': 'https://ai.google.dev/gemini-api/docs/rate-limits'}]}, {'@type': 'type.googleapis.com/google.rpc.RetryInfo', 'retryDelay': '56s'}]}}\n"
          ]
        },
        {
          "name": "stderr",
          "output_type": "stream",
          "text": [
            "2025-09-15 03:36:03 - noveum_trace.transport.http_transport - INFO - 📤 EXPORTING TRACE: auto_trace_generate (ID: 5cafb603-99ce-476e-99e2-cb07199bb67f) - 1 spans\n",
            "2025-09-15 03:36:03 - noveum_trace.transport.batch_processor - INFO - 📥 ADDING TRACE TO QUEUE: auto_trace_generate (ID: 5cafb603-99ce-476e-99e2-cb07199bb67f) - 1 spans\n",
            "2025-09-15 03:36:03 - noveum_trace.transport.batch_processor - INFO - ✅ Successfully queued trace 5cafb603-99ce-476e-99e2-cb07199bb67f\n",
            "2025-09-15 03:36:03 - noveum_trace.transport.http_transport - INFO - ✅ Trace 5cafb603-99ce-476e-99e2-cb07199bb67f successfully queued for export\n"
          ]
        },
        {
          "name": "stdout",
          "output_type": "stream",
          "text": [
            "2025-09-15 03:36:03 - INFO - google_genai.models - AFC is enabled with max remote calls: 10.\n",
            "2025-09-15 03:36:04 - ERROR - novaeval.models.base - Error: 429 RESOURCE_EXHAUSTED. {'error': {'code': 429, 'message': 'You exceeded your current quota, please check your plan and billing details. For more information on this error, head to: https://ai.google.dev/gemini-api/docs/rate-limits.', 'status': 'RESOURCE_EXHAUSTED', 'details': [{'@type': 'type.googleapis.com/google.rpc.QuotaFailure', 'violations': [{'quotaMetric': 'generativelanguage.googleapis.com/generate_content_free_tier_requests', 'quotaId': 'GenerateRequestsPerDayPerProjectPerModel-FreeTier', 'quotaDimensions': {'location': 'global', 'model': 'gemini-1.5-flash'}, 'quotaValue': '50'}]}, {'@type': 'type.googleapis.com/google.rpc.Help', 'links': [{'description': 'Learn more about Gemini API quotas', 'url': 'https://ai.google.dev/gemini-api/docs/rate-limits'}]}, {'@type': 'type.googleapis.com/google.rpc.RetryInfo', 'retryDelay': '56s'}]}}\n"
          ]
        },
        {
          "name": "stderr",
          "output_type": "stream",
          "text": [
            "2025-09-15 03:36:04 - noveum_trace.transport.http_transport - INFO - 📤 EXPORTING TRACE: auto_trace_generate (ID: 4b16590d-e6d4-4b1d-a86a-825da86328ee) - 1 spans\n",
            "2025-09-15 03:36:04 - noveum_trace.transport.batch_processor - INFO - 📥 ADDING TRACE TO QUEUE: auto_trace_generate (ID: 4b16590d-e6d4-4b1d-a86a-825da86328ee) - 1 spans\n",
            "2025-09-15 03:36:04 - noveum_trace.transport.batch_processor - INFO - ✅ Successfully queued trace 4b16590d-e6d4-4b1d-a86a-825da86328ee\n",
            "2025-09-15 03:36:04 - noveum_trace.transport.http_transport - INFO - ✅ Trace 4b16590d-e6d4-4b1d-a86a-825da86328ee successfully queued for export\n"
          ]
        },
        {
          "name": "stdout",
          "output_type": "stream",
          "text": [
            "2025-09-15 03:36:04 - INFO - google_genai.models - AFC is enabled with max remote calls: 10.\n",
            "2025-09-15 03:36:05 - ERROR - novaeval.models.base - Error: 429 RESOURCE_EXHAUSTED. {'error': {'code': 429, 'message': 'You exceeded your current quota, please check your plan and billing details. For more information on this error, head to: https://ai.google.dev/gemini-api/docs/rate-limits.', 'status': 'RESOURCE_EXHAUSTED', 'details': [{'@type': 'type.googleapis.com/google.rpc.QuotaFailure', 'violations': [{'quotaMetric': 'generativelanguage.googleapis.com/generate_content_free_tier_requests', 'quotaId': 'GenerateRequestsPerDayPerProjectPerModel-FreeTier', 'quotaDimensions': {'location': 'global', 'model': 'gemini-1.5-flash'}, 'quotaValue': '50'}]}, {'@type': 'type.googleapis.com/google.rpc.Help', 'links': [{'description': 'Learn more about Gemini API quotas', 'url': 'https://ai.google.dev/gemini-api/docs/rate-limits'}]}, {'@type': 'type.googleapis.com/google.rpc.RetryInfo', 'retryDelay': '54s'}]}}\n"
          ]
        },
        {
          "name": "stderr",
          "output_type": "stream",
          "text": [
            "2025-09-15 03:36:05 - noveum_trace.transport.http_transport - INFO - 📤 EXPORTING TRACE: auto_trace_generate (ID: c7e6bbc9-06f3-4414-85ac-01fb0a882c13) - 1 spans\n",
            "2025-09-15 03:36:05 - noveum_trace.transport.batch_processor - INFO - 📥 ADDING TRACE TO QUEUE: auto_trace_generate (ID: c7e6bbc9-06f3-4414-85ac-01fb0a882c13) - 1 spans\n",
            "2025-09-15 03:36:05 - noveum_trace.transport.batch_processor - INFO - ✅ Successfully queued trace c7e6bbc9-06f3-4414-85ac-01fb0a882c13\n",
            "2025-09-15 03:36:05 - noveum_trace.transport.http_transport - INFO - ✅ Trace c7e6bbc9-06f3-4414-85ac-01fb0a882c13 successfully queued for export\n"
          ]
        },
        {
          "name": "stdout",
          "output_type": "stream",
          "text": [
            "2025-09-15 03:36:05 - INFO - novaeval.evaluators.agent_evaluator - Saving intermediate results after 19 samples\n",
            "2025-09-15 03:36:05 - INFO - novaeval.evaluators.agent_evaluator - Intermediate results saved to demo_results/sample_evaluation/agent_evaluation_results.csv\n"
          ]
        },
        {
          "name": "stderr",
          "output_type": "stream",
          "text": [
            "Evaluating samples: 19it [00:55,  2.89s/it]"
          ]
        },
        {
          "name": "stdout",
          "output_type": "stream",
          "text": [
            "2025-09-15 03:36:05 - INFO - google_genai.models - AFC is enabled with max remote calls: 10.\n",
            "2025-09-15 03:36:05 - ERROR - novaeval.models.base - Error: 429 RESOURCE_EXHAUSTED. {'error': {'code': 429, 'message': 'You exceeded your current quota, please check your plan and billing details. For more information on this error, head to: https://ai.google.dev/gemini-api/docs/rate-limits.', 'status': 'RESOURCE_EXHAUSTED', 'details': [{'@type': 'type.googleapis.com/google.rpc.QuotaFailure', 'violations': [{'quotaMetric': 'generativelanguage.googleapis.com/generate_content_free_tier_requests', 'quotaId': 'GenerateRequestsPerDayPerProjectPerModel-FreeTier', 'quotaDimensions': {'location': 'global', 'model': 'gemini-1.5-flash'}, 'quotaValue': '50'}]}, {'@type': 'type.googleapis.com/google.rpc.Help', 'links': [{'description': 'Learn more about Gemini API quotas', 'url': 'https://ai.google.dev/gemini-api/docs/rate-limits'}]}, {'@type': 'type.googleapis.com/google.rpc.RetryInfo', 'retryDelay': '54s'}]}}\n"
          ]
        },
        {
          "name": "stderr",
          "output_type": "stream",
          "text": [
            "2025-09-15 03:36:05 - noveum_trace.transport.http_transport - INFO - 📤 EXPORTING TRACE: auto_trace_generate (ID: 08e7ea69-124c-45bf-b493-f84cc2f5fc3c) - 1 spans\n",
            "2025-09-15 03:36:05 - noveum_trace.transport.batch_processor - INFO - 📥 ADDING TRACE TO QUEUE: auto_trace_generate (ID: 08e7ea69-124c-45bf-b493-f84cc2f5fc3c) - 1 spans\n",
            "2025-09-15 03:36:05 - noveum_trace.transport.batch_processor - INFO - ✅ Successfully queued trace 08e7ea69-124c-45bf-b493-f84cc2f5fc3c\n",
            "2025-09-15 03:36:05 - noveum_trace.transport.http_transport - INFO - ✅ Trace 08e7ea69-124c-45bf-b493-f84cc2f5fc3c successfully queued for export\n"
          ]
        },
        {
          "name": "stdout",
          "output_type": "stream",
          "text": [
            "2025-09-15 03:36:05 - INFO - google_genai.models - AFC is enabled with max remote calls: 10.\n",
            "2025-09-15 03:36:06 - ERROR - novaeval.models.base - Error: 429 RESOURCE_EXHAUSTED. {'error': {'code': 429, 'message': 'You exceeded your current quota, please check your plan and billing details. For more information on this error, head to: https://ai.google.dev/gemini-api/docs/rate-limits.', 'status': 'RESOURCE_EXHAUSTED', 'details': [{'@type': 'type.googleapis.com/google.rpc.QuotaFailure', 'violations': [{'quotaMetric': 'generativelanguage.googleapis.com/generate_content_free_tier_requests', 'quotaId': 'GenerateRequestsPerDayPerProjectPerModel-FreeTier', 'quotaDimensions': {'location': 'global', 'model': 'gemini-1.5-flash'}, 'quotaValue': '50'}]}, {'@type': 'type.googleapis.com/google.rpc.Help', 'links': [{'description': 'Learn more about Gemini API quotas', 'url': 'https://ai.google.dev/gemini-api/docs/rate-limits'}]}, {'@type': 'type.googleapis.com/google.rpc.RetryInfo', 'retryDelay': '53s'}]}}\n"
          ]
        },
        {
          "name": "stderr",
          "output_type": "stream",
          "text": [
            "2025-09-15 03:36:06 - noveum_trace.transport.http_transport - INFO - 📤 EXPORTING TRACE: auto_trace_generate (ID: 35552353-d9bf-4f99-abad-29b69928a2cf) - 1 spans\n",
            "2025-09-15 03:36:06 - noveum_trace.transport.batch_processor - INFO - 📥 ADDING TRACE TO QUEUE: auto_trace_generate (ID: 35552353-d9bf-4f99-abad-29b69928a2cf) - 1 spans\n",
            "2025-09-15 03:36:06 - noveum_trace.transport.batch_processor - INFO - ✅ Successfully queued trace 35552353-d9bf-4f99-abad-29b69928a2cf\n",
            "2025-09-15 03:36:06 - noveum_trace.transport.http_transport - INFO - ✅ Trace 35552353-d9bf-4f99-abad-29b69928a2cf successfully queued for export\n"
          ]
        },
        {
          "name": "stdout",
          "output_type": "stream",
          "text": [
            "2025-09-15 03:36:06 - INFO - google_genai.models - AFC is enabled with max remote calls: 10.\n",
            "2025-09-15 03:36:07 - ERROR - novaeval.models.base - Error: 429 RESOURCE_EXHAUSTED. {'error': {'code': 429, 'message': 'You exceeded your current quota, please check your plan and billing details. For more information on this error, head to: https://ai.google.dev/gemini-api/docs/rate-limits.', 'status': 'RESOURCE_EXHAUSTED', 'details': [{'@type': 'type.googleapis.com/google.rpc.QuotaFailure', 'violations': [{'quotaMetric': 'generativelanguage.googleapis.com/generate_content_free_tier_requests', 'quotaId': 'GenerateRequestsPerDayPerProjectPerModel-FreeTier', 'quotaDimensions': {'location': 'global', 'model': 'gemini-1.5-flash'}, 'quotaValue': '50'}]}, {'@type': 'type.googleapis.com/google.rpc.Help', 'links': [{'description': 'Learn more about Gemini API quotas', 'url': 'https://ai.google.dev/gemini-api/docs/rate-limits'}]}, {'@type': 'type.googleapis.com/google.rpc.RetryInfo', 'retryDelay': '52s'}]}}\n"
          ]
        },
        {
          "name": "stderr",
          "output_type": "stream",
          "text": [
            "2025-09-15 03:36:07 - noveum_trace.transport.http_transport - INFO - 📤 EXPORTING TRACE: auto_trace_generate (ID: 70e39523-4394-42ad-8c14-1108064bcf5b) - 1 spans\n",
            "2025-09-15 03:36:07 - noveum_trace.transport.batch_processor - INFO - 📥 ADDING TRACE TO QUEUE: auto_trace_generate (ID: 70e39523-4394-42ad-8c14-1108064bcf5b) - 1 spans\n",
            "2025-09-15 03:36:07 - noveum_trace.transport.batch_processor - INFO - ✅ Successfully queued trace 70e39523-4394-42ad-8c14-1108064bcf5b\n",
            "2025-09-15 03:36:07 - noveum_trace.transport.http_transport - INFO - ✅ Trace 70e39523-4394-42ad-8c14-1108064bcf5b successfully queued for export\n"
          ]
        },
        {
          "name": "stdout",
          "output_type": "stream",
          "text": [
            "2025-09-15 03:36:07 - INFO - google_genai.models - AFC is enabled with max remote calls: 10.\n",
            "2025-09-15 03:36:08 - ERROR - novaeval.models.base - Error: 429 RESOURCE_EXHAUSTED. {'error': {'code': 429, 'message': 'You exceeded your current quota, please check your plan and billing details. For more information on this error, head to: https://ai.google.dev/gemini-api/docs/rate-limits.', 'status': 'RESOURCE_EXHAUSTED', 'details': [{'@type': 'type.googleapis.com/google.rpc.QuotaFailure', 'violations': [{'quotaMetric': 'generativelanguage.googleapis.com/generate_content_free_tier_requests', 'quotaId': 'GenerateRequestsPerDayPerProjectPerModel-FreeTier', 'quotaDimensions': {'model': 'gemini-1.5-flash', 'location': 'global'}, 'quotaValue': '50'}]}, {'@type': 'type.googleapis.com/google.rpc.Help', 'links': [{'description': 'Learn more about Gemini API quotas', 'url': 'https://ai.google.dev/gemini-api/docs/rate-limits'}]}, {'@type': 'type.googleapis.com/google.rpc.RetryInfo', 'retryDelay': '51s'}]}}\n"
          ]
        },
        {
          "name": "stderr",
          "output_type": "stream",
          "text": [
            "2025-09-15 03:36:08 - noveum_trace.transport.http_transport - INFO - 📤 EXPORTING TRACE: auto_trace_generate (ID: 420c9081-8421-4947-9657-c293ac88e04e) - 1 spans\n",
            "2025-09-15 03:36:08 - noveum_trace.transport.batch_processor - INFO - 📥 ADDING TRACE TO QUEUE: auto_trace_generate (ID: 420c9081-8421-4947-9657-c293ac88e04e) - 1 spans\n",
            "2025-09-15 03:36:08 - noveum_trace.transport.batch_processor - INFO - ✅ Successfully queued trace 420c9081-8421-4947-9657-c293ac88e04e\n",
            "2025-09-15 03:36:08 - noveum_trace.transport.http_transport - INFO - ✅ Trace 420c9081-8421-4947-9657-c293ac88e04e successfully queued for export\n"
          ]
        },
        {
          "name": "stdout",
          "output_type": "stream",
          "text": [
            "2025-09-15 03:36:08 - INFO - google_genai.models - AFC is enabled with max remote calls: 10.\n",
            "2025-09-15 03:36:09 - ERROR - novaeval.models.base - Error: 429 RESOURCE_EXHAUSTED. {'error': {'code': 429, 'message': 'You exceeded your current quota, please check your plan and billing details. For more information on this error, head to: https://ai.google.dev/gemini-api/docs/rate-limits.', 'status': 'RESOURCE_EXHAUSTED', 'details': [{'@type': 'type.googleapis.com/google.rpc.QuotaFailure', 'violations': [{'quotaMetric': 'generativelanguage.googleapis.com/generate_content_free_tier_requests', 'quotaId': 'GenerateRequestsPerDayPerProjectPerModel-FreeTier', 'quotaDimensions': {'location': 'global', 'model': 'gemini-1.5-flash'}, 'quotaValue': '50'}]}, {'@type': 'type.googleapis.com/google.rpc.Help', 'links': [{'description': 'Learn more about Gemini API quotas', 'url': 'https://ai.google.dev/gemini-api/docs/rate-limits'}]}, {'@type': 'type.googleapis.com/google.rpc.RetryInfo', 'retryDelay': '51s'}]}}\n"
          ]
        },
        {
          "name": "stderr",
          "output_type": "stream",
          "text": [
            "2025-09-15 03:36:09 - noveum_trace.transport.http_transport - INFO - 📤 EXPORTING TRACE: auto_trace_generate (ID: 4b6424e9-f488-4084-8256-3dd7566626c5) - 1 spans\n",
            "2025-09-15 03:36:09 - noveum_trace.transport.batch_processor - INFO - 📥 ADDING TRACE TO QUEUE: auto_trace_generate (ID: 4b6424e9-f488-4084-8256-3dd7566626c5) - 1 spans\n",
            "2025-09-15 03:36:09 - noveum_trace.transport.batch_processor - INFO - ✅ Successfully queued trace 4b6424e9-f488-4084-8256-3dd7566626c5\n",
            "2025-09-15 03:36:09 - noveum_trace.transport.http_transport - INFO - ✅ Trace 4b6424e9-f488-4084-8256-3dd7566626c5 successfully queued for export\n"
          ]
        },
        {
          "name": "stdout",
          "output_type": "stream",
          "text": [
            "2025-09-15 03:36:09 - INFO - novaeval.evaluators.agent_evaluator - Saving intermediate results after 20 samples\n",
            "2025-09-15 03:36:09 - INFO - novaeval.evaluators.agent_evaluator - Intermediate results saved to demo_results/sample_evaluation/agent_evaluation_results.csv\n"
          ]
        },
        {
          "name": "stderr",
          "output_type": "stream",
          "text": [
            "Evaluating samples: 20it [00:59,  3.13s/it]"
          ]
        },
        {
          "name": "stdout",
          "output_type": "stream",
          "text": [
            "2025-09-15 03:36:09 - INFO - google_genai.models - AFC is enabled with max remote calls: 10.\n",
            "2025-09-15 03:36:10 - ERROR - novaeval.models.base - Error: 429 RESOURCE_EXHAUSTED. {'error': {'code': 429, 'message': 'You exceeded your current quota, please check your plan and billing details. For more information on this error, head to: https://ai.google.dev/gemini-api/docs/rate-limits.', 'status': 'RESOURCE_EXHAUSTED', 'details': [{'@type': 'type.googleapis.com/google.rpc.QuotaFailure', 'violations': [{'quotaMetric': 'generativelanguage.googleapis.com/generate_content_free_tier_requests', 'quotaId': 'GenerateRequestsPerDayPerProjectPerModel-FreeTier', 'quotaDimensions': {'location': 'global', 'model': 'gemini-1.5-flash'}, 'quotaValue': '50'}]}, {'@type': 'type.googleapis.com/google.rpc.Help', 'links': [{'description': 'Learn more about Gemini API quotas', 'url': 'https://ai.google.dev/gemini-api/docs/rate-limits'}]}, {'@type': 'type.googleapis.com/google.rpc.RetryInfo', 'retryDelay': '49s'}]}}\n"
          ]
        },
        {
          "name": "stderr",
          "output_type": "stream",
          "text": [
            "2025-09-15 03:36:10 - noveum_trace.transport.http_transport - INFO - 📤 EXPORTING TRACE: auto_trace_generate (ID: 9639fe0a-2173-48c2-b0c7-3ca06e7d25b7) - 1 spans\n",
            "2025-09-15 03:36:10 - noveum_trace.transport.batch_processor - INFO - 📥 ADDING TRACE TO QUEUE: auto_trace_generate (ID: 9639fe0a-2173-48c2-b0c7-3ca06e7d25b7) - 1 spans\n",
            "2025-09-15 03:36:10 - noveum_trace.transport.batch_processor - INFO - ✅ Successfully queued trace 9639fe0a-2173-48c2-b0c7-3ca06e7d25b7\n",
            "2025-09-15 03:36:10 - noveum_trace.transport.http_transport - INFO - ✅ Trace 9639fe0a-2173-48c2-b0c7-3ca06e7d25b7 successfully queued for export\n"
          ]
        },
        {
          "name": "stdout",
          "output_type": "stream",
          "text": [
            "2025-09-15 03:36:10 - INFO - google_genai.models - AFC is enabled with max remote calls: 10.\n",
            "2025-09-15 03:36:10 - ERROR - novaeval.models.base - Error: 429 RESOURCE_EXHAUSTED. {'error': {'code': 429, 'message': 'You exceeded your current quota, please check your plan and billing details. For more information on this error, head to: https://ai.google.dev/gemini-api/docs/rate-limits.', 'status': 'RESOURCE_EXHAUSTED', 'details': [{'@type': 'type.googleapis.com/google.rpc.QuotaFailure', 'violations': [{'quotaMetric': 'generativelanguage.googleapis.com/generate_content_free_tier_requests', 'quotaId': 'GenerateRequestsPerDayPerProjectPerModel-FreeTier', 'quotaDimensions': {'location': 'global', 'model': 'gemini-1.5-flash'}, 'quotaValue': '50'}]}, {'@type': 'type.googleapis.com/google.rpc.Help', 'links': [{'description': 'Learn more about Gemini API quotas', 'url': 'https://ai.google.dev/gemini-api/docs/rate-limits'}]}, {'@type': 'type.googleapis.com/google.rpc.RetryInfo', 'retryDelay': '49s'}]}}\n"
          ]
        },
        {
          "name": "stderr",
          "output_type": "stream",
          "text": [
            "2025-09-15 03:36:10 - noveum_trace.transport.http_transport - INFO - 📤 EXPORTING TRACE: auto_trace_generate (ID: 6573dcf8-4c6a-453c-a0b0-61eaee1d1233) - 1 spans\n",
            "2025-09-15 03:36:10 - noveum_trace.transport.batch_processor - INFO - 📥 ADDING TRACE TO QUEUE: auto_trace_generate (ID: 6573dcf8-4c6a-453c-a0b0-61eaee1d1233) - 1 spans\n",
            "2025-09-15 03:36:10 - noveum_trace.transport.batch_processor - INFO - ✅ Successfully queued trace 6573dcf8-4c6a-453c-a0b0-61eaee1d1233\n",
            "2025-09-15 03:36:10 - noveum_trace.transport.http_transport - INFO - ✅ Trace 6573dcf8-4c6a-453c-a0b0-61eaee1d1233 successfully queued for export\n"
          ]
        },
        {
          "name": "stdout",
          "output_type": "stream",
          "text": [
            "2025-09-15 03:36:10 - INFO - google_genai.models - AFC is enabled with max remote calls: 10.\n",
            "2025-09-15 03:36:11 - ERROR - novaeval.models.base - Error: 429 RESOURCE_EXHAUSTED. {'error': {'code': 429, 'message': 'You exceeded your current quota, please check your plan and billing details. For more information on this error, head to: https://ai.google.dev/gemini-api/docs/rate-limits.', 'status': 'RESOURCE_EXHAUSTED', 'details': [{'@type': 'type.googleapis.com/google.rpc.QuotaFailure', 'violations': [{'quotaMetric': 'generativelanguage.googleapis.com/generate_content_free_tier_requests', 'quotaId': 'GenerateRequestsPerDayPerProjectPerModel-FreeTier', 'quotaDimensions': {'model': 'gemini-1.5-flash', 'location': 'global'}, 'quotaValue': '50'}]}, {'@type': 'type.googleapis.com/google.rpc.Help', 'links': [{'description': 'Learn more about Gemini API quotas', 'url': 'https://ai.google.dev/gemini-api/docs/rate-limits'}]}, {'@type': 'type.googleapis.com/google.rpc.RetryInfo', 'retryDelay': '48s'}]}}\n"
          ]
        },
        {
          "name": "stderr",
          "output_type": "stream",
          "text": [
            "2025-09-15 03:36:11 - noveum_trace.transport.http_transport - INFO - 📤 EXPORTING TRACE: auto_trace_generate (ID: 94ccd970-7f63-4e94-a0d2-d41776881f46) - 1 spans\n",
            "2025-09-15 03:36:11 - noveum_trace.transport.batch_processor - INFO - 📥 ADDING TRACE TO QUEUE: auto_trace_generate (ID: 94ccd970-7f63-4e94-a0d2-d41776881f46) - 1 spans\n",
            "2025-09-15 03:36:11 - noveum_trace.transport.batch_processor - INFO - ✅ Successfully queued trace 94ccd970-7f63-4e94-a0d2-d41776881f46\n",
            "2025-09-15 03:36:11 - noveum_trace.transport.http_transport - INFO - ✅ Trace 94ccd970-7f63-4e94-a0d2-d41776881f46 successfully queued for export\n"
          ]
        },
        {
          "name": "stdout",
          "output_type": "stream",
          "text": [
            "2025-09-15 03:36:11 - INFO - novaeval.evaluators.agent_evaluator - Saving intermediate results after 21 samples\n",
            "2025-09-15 03:36:11 - INFO - novaeval.evaluators.agent_evaluator - Intermediate results saved to demo_results/sample_evaluation/agent_evaluation_results.csv\n"
          ]
        },
        {
          "name": "stderr",
          "output_type": "stream",
          "text": [
            "Evaluating samples: 21it [01:02,  3.04s/it]"
          ]
        },
        {
          "name": "stdout",
          "output_type": "stream",
          "text": [
            "2025-09-15 03:36:11 - INFO - google_genai.models - AFC is enabled with max remote calls: 10.\n",
            "2025-09-15 03:36:12 - ERROR - novaeval.models.base - Error: 429 RESOURCE_EXHAUSTED. {'error': {'code': 429, 'message': 'You exceeded your current quota, please check your plan and billing details. For more information on this error, head to: https://ai.google.dev/gemini-api/docs/rate-limits.', 'status': 'RESOURCE_EXHAUSTED', 'details': [{'@type': 'type.googleapis.com/google.rpc.QuotaFailure', 'violations': [{'quotaMetric': 'generativelanguage.googleapis.com/generate_content_free_tier_requests', 'quotaId': 'GenerateRequestsPerDayPerProjectPerModel-FreeTier', 'quotaDimensions': {'location': 'global', 'model': 'gemini-1.5-flash'}, 'quotaValue': '50'}]}, {'@type': 'type.googleapis.com/google.rpc.Help', 'links': [{'description': 'Learn more about Gemini API quotas', 'url': 'https://ai.google.dev/gemini-api/docs/rate-limits'}]}, {'@type': 'type.googleapis.com/google.rpc.RetryInfo', 'retryDelay': '47s'}]}}\n"
          ]
        },
        {
          "name": "stderr",
          "output_type": "stream",
          "text": [
            "2025-09-15 03:36:12 - noveum_trace.transport.http_transport - INFO - 📤 EXPORTING TRACE: auto_trace_generate (ID: f4a224c2-98e3-4faa-ba36-e70954f1c5c0) - 1 spans\n",
            "2025-09-15 03:36:12 - noveum_trace.transport.batch_processor - INFO - 📥 ADDING TRACE TO QUEUE: auto_trace_generate (ID: f4a224c2-98e3-4faa-ba36-e70954f1c5c0) - 1 spans\n",
            "2025-09-15 03:36:12 - noveum_trace.transport.batch_processor - INFO - ✅ Successfully queued trace f4a224c2-98e3-4faa-ba36-e70954f1c5c0\n",
            "2025-09-15 03:36:12 - noveum_trace.transport.http_transport - INFO - ✅ Trace f4a224c2-98e3-4faa-ba36-e70954f1c5c0 successfully queued for export\n"
          ]
        },
        {
          "name": "stdout",
          "output_type": "stream",
          "text": [
            "2025-09-15 03:36:12 - INFO - google_genai.models - AFC is enabled with max remote calls: 10.\n",
            "2025-09-15 03:36:13 - ERROR - novaeval.models.base - Error: 429 RESOURCE_EXHAUSTED. {'error': {'code': 429, 'message': 'You exceeded your current quota, please check your plan and billing details. For more information on this error, head to: https://ai.google.dev/gemini-api/docs/rate-limits.', 'status': 'RESOURCE_EXHAUSTED', 'details': [{'@type': 'type.googleapis.com/google.rpc.QuotaFailure', 'violations': [{'quotaMetric': 'generativelanguage.googleapis.com/generate_content_free_tier_requests', 'quotaId': 'GenerateRequestsPerDayPerProjectPerModel-FreeTier', 'quotaDimensions': {'model': 'gemini-1.5-flash', 'location': 'global'}, 'quotaValue': '50'}]}, {'@type': 'type.googleapis.com/google.rpc.Help', 'links': [{'description': 'Learn more about Gemini API quotas', 'url': 'https://ai.google.dev/gemini-api/docs/rate-limits'}]}, {'@type': 'type.googleapis.com/google.rpc.RetryInfo', 'retryDelay': '46s'}]}}\n"
          ]
        },
        {
          "name": "stderr",
          "output_type": "stream",
          "text": [
            "2025-09-15 03:36:13 - noveum_trace.transport.http_transport - INFO - 📤 EXPORTING TRACE: auto_trace_generate (ID: 30ae4cde-ebdf-4b44-9fda-4d78ab92a7de) - 1 spans\n",
            "2025-09-15 03:36:13 - noveum_trace.transport.batch_processor - INFO - 📥 ADDING TRACE TO QUEUE: auto_trace_generate (ID: 30ae4cde-ebdf-4b44-9fda-4d78ab92a7de) - 1 spans\n",
            "2025-09-15 03:36:13 - noveum_trace.transport.batch_processor - INFO - ✅ Successfully queued trace 30ae4cde-ebdf-4b44-9fda-4d78ab92a7de\n",
            "2025-09-15 03:36:13 - noveum_trace.transport.http_transport - INFO - ✅ Trace 30ae4cde-ebdf-4b44-9fda-4d78ab92a7de successfully queued for export\n"
          ]
        },
        {
          "name": "stdout",
          "output_type": "stream",
          "text": [
            "2025-09-15 03:36:13 - INFO - google_genai.models - AFC is enabled with max remote calls: 10.\n",
            "2025-09-15 03:36:13 - ERROR - novaeval.models.base - Error: 429 RESOURCE_EXHAUSTED. {'error': {'code': 429, 'message': 'You exceeded your current quota, please check your plan and billing details. For more information on this error, head to: https://ai.google.dev/gemini-api/docs/rate-limits.', 'status': 'RESOURCE_EXHAUSTED', 'details': [{'@type': 'type.googleapis.com/google.rpc.QuotaFailure', 'violations': [{'quotaMetric': 'generativelanguage.googleapis.com/generate_content_free_tier_requests', 'quotaId': 'GenerateRequestsPerDayPerProjectPerModel-FreeTier', 'quotaDimensions': {'model': 'gemini-1.5-flash', 'location': 'global'}, 'quotaValue': '50'}]}, {'@type': 'type.googleapis.com/google.rpc.Help', 'links': [{'description': 'Learn more about Gemini API quotas', 'url': 'https://ai.google.dev/gemini-api/docs/rate-limits'}]}, {'@type': 'type.googleapis.com/google.rpc.RetryInfo', 'retryDelay': '46s'}]}}\n"
          ]
        },
        {
          "name": "stderr",
          "output_type": "stream",
          "text": [
            "2025-09-15 03:36:13 - noveum_trace.transport.http_transport - INFO - 📤 EXPORTING TRACE: auto_trace_generate (ID: 7d2e2bdd-6e7c-4425-ab6f-b699c334ce42) - 1 spans\n",
            "2025-09-15 03:36:13 - noveum_trace.transport.batch_processor - INFO - 📥 ADDING TRACE TO QUEUE: auto_trace_generate (ID: 7d2e2bdd-6e7c-4425-ab6f-b699c334ce42) - 1 spans\n",
            "2025-09-15 03:36:13 - noveum_trace.transport.batch_processor - INFO - ✅ Successfully queued trace 7d2e2bdd-6e7c-4425-ab6f-b699c334ce42\n",
            "2025-09-15 03:36:13 - noveum_trace.transport.http_transport - INFO - ✅ Trace 7d2e2bdd-6e7c-4425-ab6f-b699c334ce42 successfully queued for export\n"
          ]
        },
        {
          "name": "stdout",
          "output_type": "stream",
          "text": [
            "2025-09-15 03:36:13 - INFO - novaeval.evaluators.agent_evaluator - Saving intermediate results after 22 samples\n",
            "2025-09-15 03:36:13 - INFO - novaeval.evaluators.agent_evaluator - Intermediate results saved to demo_results/sample_evaluation/agent_evaluation_results.csv\n"
          ]
        },
        {
          "name": "stderr",
          "output_type": "stream",
          "text": [
            "Evaluating samples: 22it [01:04,  2.75s/it]"
          ]
        },
        {
          "name": "stdout",
          "output_type": "stream",
          "text": [
            "2025-09-15 03:36:13 - INFO - google_genai.models - AFC is enabled with max remote calls: 10.\n",
            "2025-09-15 03:36:15 - ERROR - novaeval.models.base - Error: 429 RESOURCE_EXHAUSTED. {'error': {'code': 429, 'message': 'You exceeded your current quota, please check your plan and billing details. For more information on this error, head to: https://ai.google.dev/gemini-api/docs/rate-limits.', 'status': 'RESOURCE_EXHAUSTED', 'details': [{'@type': 'type.googleapis.com/google.rpc.QuotaFailure', 'violations': [{'quotaMetric': 'generativelanguage.googleapis.com/generate_content_free_tier_requests', 'quotaId': 'GenerateRequestsPerDayPerProjectPerModel-FreeTier', 'quotaDimensions': {'model': 'gemini-1.5-flash', 'location': 'global'}, 'quotaValue': '50'}]}, {'@type': 'type.googleapis.com/google.rpc.Help', 'links': [{'description': 'Learn more about Gemini API quotas', 'url': 'https://ai.google.dev/gemini-api/docs/rate-limits'}]}, {'@type': 'type.googleapis.com/google.rpc.RetryInfo', 'retryDelay': '44s'}]}}\n"
          ]
        },
        {
          "name": "stderr",
          "output_type": "stream",
          "text": [
            "2025-09-15 03:36:15 - noveum_trace.transport.http_transport - INFO - 📤 EXPORTING TRACE: auto_trace_generate (ID: a2868875-7e4d-405e-95f4-465694af87d3) - 1 spans\n",
            "2025-09-15 03:36:15 - noveum_trace.transport.batch_processor - INFO - 📥 ADDING TRACE TO QUEUE: auto_trace_generate (ID: a2868875-7e4d-405e-95f4-465694af87d3) - 1 spans\n",
            "2025-09-15 03:36:15 - noveum_trace.transport.batch_processor - INFO - ✅ Successfully queued trace a2868875-7e4d-405e-95f4-465694af87d3\n",
            "2025-09-15 03:36:15 - noveum_trace.transport.http_transport - INFO - ✅ Trace a2868875-7e4d-405e-95f4-465694af87d3 successfully queued for export\n"
          ]
        },
        {
          "name": "stdout",
          "output_type": "stream",
          "text": [
            "2025-09-15 03:36:15 - INFO - google_genai.models - AFC is enabled with max remote calls: 10.\n",
            "2025-09-15 03:36:15 - ERROR - novaeval.models.base - Error: 429 RESOURCE_EXHAUSTED. {'error': {'code': 429, 'message': 'You exceeded your current quota, please check your plan and billing details. For more information on this error, head to: https://ai.google.dev/gemini-api/docs/rate-limits.', 'status': 'RESOURCE_EXHAUSTED', 'details': [{'@type': 'type.googleapis.com/google.rpc.QuotaFailure', 'violations': [{'quotaMetric': 'generativelanguage.googleapis.com/generate_content_free_tier_requests', 'quotaId': 'GenerateRequestsPerDayPerProjectPerModel-FreeTier', 'quotaDimensions': {'model': 'gemini-1.5-flash', 'location': 'global'}, 'quotaValue': '50'}]}, {'@type': 'type.googleapis.com/google.rpc.Help', 'links': [{'description': 'Learn more about Gemini API quotas', 'url': 'https://ai.google.dev/gemini-api/docs/rate-limits'}]}, {'@type': 'type.googleapis.com/google.rpc.RetryInfo', 'retryDelay': '44s'}]}}\n"
          ]
        },
        {
          "name": "stderr",
          "output_type": "stream",
          "text": [
            "2025-09-15 03:36:15 - noveum_trace.transport.http_transport - INFO - 📤 EXPORTING TRACE: auto_trace_generate (ID: 46030fcd-1a62-4f0c-bb14-3b045e96b89e) - 1 spans\n",
            "2025-09-15 03:36:15 - noveum_trace.transport.batch_processor - INFO - 📥 ADDING TRACE TO QUEUE: auto_trace_generate (ID: 46030fcd-1a62-4f0c-bb14-3b045e96b89e) - 1 spans\n",
            "2025-09-15 03:36:15 - noveum_trace.transport.batch_processor - INFO - ✅ Successfully queued trace 46030fcd-1a62-4f0c-bb14-3b045e96b89e\n",
            "2025-09-15 03:36:15 - noveum_trace.transport.http_transport - INFO - ✅ Trace 46030fcd-1a62-4f0c-bb14-3b045e96b89e successfully queued for export\n"
          ]
        },
        {
          "name": "stdout",
          "output_type": "stream",
          "text": [
            "2025-09-15 03:36:15 - INFO - google_genai.models - AFC is enabled with max remote calls: 10.\n",
            "2025-09-15 03:36:16 - ERROR - novaeval.models.base - Error: 429 RESOURCE_EXHAUSTED. {'error': {'code': 429, 'message': 'You exceeded your current quota, please check your plan and billing details. For more information on this error, head to: https://ai.google.dev/gemini-api/docs/rate-limits.', 'status': 'RESOURCE_EXHAUSTED', 'details': [{'@type': 'type.googleapis.com/google.rpc.QuotaFailure', 'violations': [{'quotaMetric': 'generativelanguage.googleapis.com/generate_content_free_tier_requests', 'quotaId': 'GenerateRequestsPerDayPerProjectPerModel-FreeTier', 'quotaDimensions': {'location': 'global', 'model': 'gemini-1.5-flash'}, 'quotaValue': '50'}]}, {'@type': 'type.googleapis.com/google.rpc.Help', 'links': [{'description': 'Learn more about Gemini API quotas', 'url': 'https://ai.google.dev/gemini-api/docs/rate-limits'}]}, {'@type': 'type.googleapis.com/google.rpc.RetryInfo', 'retryDelay': '43s'}]}}\n"
          ]
        },
        {
          "name": "stderr",
          "output_type": "stream",
          "text": [
            "2025-09-15 03:36:16 - noveum_trace.transport.http_transport - INFO - 📤 EXPORTING TRACE: auto_trace_generate (ID: 9d27bc24-6ea7-4088-b96a-1dab7adbd3af) - 1 spans\n",
            "2025-09-15 03:36:16 - noveum_trace.transport.batch_processor - INFO - 📥 ADDING TRACE TO QUEUE: auto_trace_generate (ID: 9d27bc24-6ea7-4088-b96a-1dab7adbd3af) - 1 spans\n",
            "2025-09-15 03:36:16 - noveum_trace.transport.batch_processor - INFO - ✅ Successfully queued trace 9d27bc24-6ea7-4088-b96a-1dab7adbd3af\n",
            "2025-09-15 03:36:16 - noveum_trace.transport.http_transport - INFO - ✅ Trace 9d27bc24-6ea7-4088-b96a-1dab7adbd3af successfully queued for export\n"
          ]
        },
        {
          "name": "stdout",
          "output_type": "stream",
          "text": [
            "2025-09-15 03:36:16 - INFO - novaeval.evaluators.agent_evaluator - Saving intermediate results after 23 samples\n",
            "2025-09-15 03:36:16 - INFO - novaeval.evaluators.agent_evaluator - Intermediate results saved to demo_results/sample_evaluation/agent_evaluation_results.csv\n"
          ]
        },
        {
          "name": "stderr",
          "output_type": "stream",
          "text": [
            "Evaluating samples: 23it [01:07,  2.79s/it]"
          ]
        },
        {
          "name": "stdout",
          "output_type": "stream",
          "text": [
            "2025-09-15 03:36:16 - INFO - google_genai.models - AFC is enabled with max remote calls: 10.\n",
            "2025-09-15 03:36:17 - ERROR - novaeval.models.base - Error: 429 RESOURCE_EXHAUSTED. {'error': {'code': 429, 'message': 'You exceeded your current quota, please check your plan and billing details. For more information on this error, head to: https://ai.google.dev/gemini-api/docs/rate-limits.', 'status': 'RESOURCE_EXHAUSTED', 'details': [{'@type': 'type.googleapis.com/google.rpc.QuotaFailure', 'violations': [{'quotaMetric': 'generativelanguage.googleapis.com/generate_content_free_tier_requests', 'quotaId': 'GenerateRequestsPerDayPerProjectPerModel-FreeTier', 'quotaDimensions': {'model': 'gemini-1.5-flash', 'location': 'global'}, 'quotaValue': '50'}]}, {'@type': 'type.googleapis.com/google.rpc.Help', 'links': [{'description': 'Learn more about Gemini API quotas', 'url': 'https://ai.google.dev/gemini-api/docs/rate-limits'}]}, {'@type': 'type.googleapis.com/google.rpc.RetryInfo', 'retryDelay': '42s'}]}}\n"
          ]
        },
        {
          "name": "stderr",
          "output_type": "stream",
          "text": [
            "2025-09-15 03:36:17 - noveum_trace.transport.http_transport - INFO - 📤 EXPORTING TRACE: auto_trace_generate (ID: 6df0a549-f14d-465a-bec2-4d0e527f70d0) - 1 spans\n",
            "2025-09-15 03:36:17 - noveum_trace.transport.batch_processor - INFO - 📥 ADDING TRACE TO QUEUE: auto_trace_generate (ID: 6df0a549-f14d-465a-bec2-4d0e527f70d0) - 1 spans\n",
            "2025-09-15 03:36:17 - noveum_trace.transport.batch_processor - INFO - ✅ Successfully queued trace 6df0a549-f14d-465a-bec2-4d0e527f70d0\n",
            "2025-09-15 03:36:17 - noveum_trace.transport.http_transport - INFO - ✅ Trace 6df0a549-f14d-465a-bec2-4d0e527f70d0 successfully queued for export\n"
          ]
        },
        {
          "name": "stdout",
          "output_type": "stream",
          "text": [
            "2025-09-15 03:36:17 - INFO - google_genai.models - AFC is enabled with max remote calls: 10.\n",
            "2025-09-15 03:36:18 - ERROR - novaeval.models.base - Error: 429 RESOURCE_EXHAUSTED. {'error': {'code': 429, 'message': 'You exceeded your current quota, please check your plan and billing details. For more information on this error, head to: https://ai.google.dev/gemini-api/docs/rate-limits.', 'status': 'RESOURCE_EXHAUSTED', 'details': [{'@type': 'type.googleapis.com/google.rpc.QuotaFailure', 'violations': [{'quotaMetric': 'generativelanguage.googleapis.com/generate_content_free_tier_requests', 'quotaId': 'GenerateRequestsPerDayPerProjectPerModel-FreeTier', 'quotaDimensions': {'location': 'global', 'model': 'gemini-1.5-flash'}, 'quotaValue': '50'}]}, {'@type': 'type.googleapis.com/google.rpc.Help', 'links': [{'description': 'Learn more about Gemini API quotas', 'url': 'https://ai.google.dev/gemini-api/docs/rate-limits'}]}, {'@type': 'type.googleapis.com/google.rpc.RetryInfo', 'retryDelay': '41s'}]}}\n"
          ]
        },
        {
          "name": "stderr",
          "output_type": "stream",
          "text": [
            "2025-09-15 03:36:18 - noveum_trace.transport.http_transport - INFO - 📤 EXPORTING TRACE: auto_trace_generate (ID: 05ce7fff-a317-4c0d-95fe-47f6b2864edf) - 1 spans\n",
            "2025-09-15 03:36:18 - noveum_trace.transport.batch_processor - INFO - 📥 ADDING TRACE TO QUEUE: auto_trace_generate (ID: 05ce7fff-a317-4c0d-95fe-47f6b2864edf) - 1 spans\n",
            "2025-09-15 03:36:18 - noveum_trace.transport.batch_processor - INFO - ✅ Successfully queued trace 05ce7fff-a317-4c0d-95fe-47f6b2864edf\n",
            "2025-09-15 03:36:18 - noveum_trace.transport.http_transport - INFO - ✅ Trace 05ce7fff-a317-4c0d-95fe-47f6b2864edf successfully queued for export\n"
          ]
        },
        {
          "name": "stdout",
          "output_type": "stream",
          "text": [
            "2025-09-15 03:36:18 - INFO - google_genai.models - AFC is enabled with max remote calls: 10.\n",
            "2025-09-15 03:36:18 - ERROR - novaeval.models.base - Error: 429 RESOURCE_EXHAUSTED. {'error': {'code': 429, 'message': 'You exceeded your current quota, please check your plan and billing details. For more information on this error, head to: https://ai.google.dev/gemini-api/docs/rate-limits.', 'status': 'RESOURCE_EXHAUSTED', 'details': [{'@type': 'type.googleapis.com/google.rpc.QuotaFailure', 'violations': [{'quotaMetric': 'generativelanguage.googleapis.com/generate_content_free_tier_requests', 'quotaId': 'GenerateRequestsPerDayPerProjectPerModel-FreeTier', 'quotaDimensions': {'location': 'global', 'model': 'gemini-1.5-flash'}, 'quotaValue': '50'}]}, {'@type': 'type.googleapis.com/google.rpc.Help', 'links': [{'description': 'Learn more about Gemini API quotas', 'url': 'https://ai.google.dev/gemini-api/docs/rate-limits'}]}, {'@type': 'type.googleapis.com/google.rpc.RetryInfo', 'retryDelay': '41s'}]}}\n"
          ]
        },
        {
          "name": "stderr",
          "output_type": "stream",
          "text": [
            "2025-09-15 03:36:18 - noveum_trace.transport.http_transport - INFO - 📤 EXPORTING TRACE: auto_trace_generate (ID: 6c53c6e5-3c6b-45f9-97ad-d045f365ba3c) - 1 spans\n",
            "2025-09-15 03:36:18 - noveum_trace.transport.batch_processor - INFO - 📥 ADDING TRACE TO QUEUE: auto_trace_generate (ID: 6c53c6e5-3c6b-45f9-97ad-d045f365ba3c) - 1 spans\n",
            "2025-09-15 03:36:18 - noveum_trace.transport.batch_processor - INFO - ✅ Successfully queued trace 6c53c6e5-3c6b-45f9-97ad-d045f365ba3c\n",
            "2025-09-15 03:36:18 - noveum_trace.transport.http_transport - INFO - ✅ Trace 6c53c6e5-3c6b-45f9-97ad-d045f365ba3c successfully queued for export\n"
          ]
        },
        {
          "name": "stdout",
          "output_type": "stream",
          "text": [
            "2025-09-15 03:36:18 - INFO - google_genai.models - AFC is enabled with max remote calls: 10.\n",
            "2025-09-15 03:36:20 - ERROR - novaeval.models.base - Error: 429 RESOURCE_EXHAUSTED. {'error': {'code': 429, 'message': 'You exceeded your current quota, please check your plan and billing details. For more information on this error, head to: https://ai.google.dev/gemini-api/docs/rate-limits.', 'status': 'RESOURCE_EXHAUSTED', 'details': [{'@type': 'type.googleapis.com/google.rpc.QuotaFailure', 'violations': [{'quotaMetric': 'generativelanguage.googleapis.com/generate_content_free_tier_requests', 'quotaId': 'GenerateRequestsPerDayPerProjectPerModel-FreeTier', 'quotaDimensions': {'location': 'global', 'model': 'gemini-1.5-flash'}, 'quotaValue': '50'}]}, {'@type': 'type.googleapis.com/google.rpc.Help', 'links': [{'description': 'Learn more about Gemini API quotas', 'url': 'https://ai.google.dev/gemini-api/docs/rate-limits'}]}, {'@type': 'type.googleapis.com/google.rpc.RetryInfo', 'retryDelay': '40s'}]}}\n"
          ]
        },
        {
          "name": "stderr",
          "output_type": "stream",
          "text": [
            "2025-09-15 03:36:20 - noveum_trace.transport.http_transport - INFO - 📤 EXPORTING TRACE: auto_trace_generate (ID: 3a28dde2-06d8-4235-8285-44310d95eb19) - 1 spans\n",
            "2025-09-15 03:36:20 - noveum_trace.transport.batch_processor - INFO - 📥 ADDING TRACE TO QUEUE: auto_trace_generate (ID: 3a28dde2-06d8-4235-8285-44310d95eb19) - 1 spans\n",
            "2025-09-15 03:36:20 - noveum_trace.transport.batch_processor - INFO - ✅ Successfully queued trace 3a28dde2-06d8-4235-8285-44310d95eb19\n",
            "2025-09-15 03:36:20 - noveum_trace.transport.http_transport - INFO - ✅ Trace 3a28dde2-06d8-4235-8285-44310d95eb19 successfully queued for export\n"
          ]
        },
        {
          "name": "stdout",
          "output_type": "stream",
          "text": [
            "2025-09-15 03:36:20 - INFO - google_genai.models - AFC is enabled with max remote calls: 10.\n",
            "2025-09-15 03:36:20 - ERROR - novaeval.models.base - Error: 429 RESOURCE_EXHAUSTED. {'error': {'code': 429, 'message': 'You exceeded your current quota, please check your plan and billing details. For more information on this error, head to: https://ai.google.dev/gemini-api/docs/rate-limits.', 'status': 'RESOURCE_EXHAUSTED', 'details': [{'@type': 'type.googleapis.com/google.rpc.QuotaFailure', 'violations': [{'quotaMetric': 'generativelanguage.googleapis.com/generate_content_free_tier_requests', 'quotaId': 'GenerateRequestsPerDayPerProjectPerModel-FreeTier', 'quotaDimensions': {'location': 'global', 'model': 'gemini-1.5-flash'}, 'quotaValue': '50'}]}, {'@type': 'type.googleapis.com/google.rpc.Help', 'links': [{'description': 'Learn more about Gemini API quotas', 'url': 'https://ai.google.dev/gemini-api/docs/rate-limits'}]}, {'@type': 'type.googleapis.com/google.rpc.RetryInfo', 'retryDelay': '39s'}]}}\n"
          ]
        },
        {
          "name": "stderr",
          "output_type": "stream",
          "text": [
            "2025-09-15 03:36:20 - noveum_trace.transport.http_transport - INFO - 📤 EXPORTING TRACE: auto_trace_generate (ID: 1de37090-9117-421c-8a9f-e33c2f659506) - 1 spans\n",
            "2025-09-15 03:36:20 - noveum_trace.transport.batch_processor - INFO - 📥 ADDING TRACE TO QUEUE: auto_trace_generate (ID: 1de37090-9117-421c-8a9f-e33c2f659506) - 1 spans\n",
            "2025-09-15 03:36:20 - noveum_trace.transport.batch_processor - INFO - ✅ Successfully queued trace 1de37090-9117-421c-8a9f-e33c2f659506\n",
            "2025-09-15 03:36:20 - noveum_trace.transport.http_transport - INFO - ✅ Trace 1de37090-9117-421c-8a9f-e33c2f659506 successfully queued for export\n"
          ]
        },
        {
          "name": "stdout",
          "output_type": "stream",
          "text": [
            "2025-09-15 03:36:20 - INFO - novaeval.evaluators.agent_evaluator - Saving intermediate results after 24 samples\n",
            "2025-09-15 03:36:20 - INFO - novaeval.evaluators.agent_evaluator - Intermediate results saved to demo_results/sample_evaluation/agent_evaluation_results.csv\n"
          ]
        },
        {
          "name": "stderr",
          "output_type": "stream",
          "text": [
            "Evaluating samples: 24it [01:10,  3.06s/it]"
          ]
        },
        {
          "name": "stdout",
          "output_type": "stream",
          "text": [
            "2025-09-15 03:36:20 - INFO - google_genai.models - AFC is enabled with max remote calls: 10.\n",
            "2025-09-15 03:36:21 - ERROR - novaeval.models.base - Error: 429 RESOURCE_EXHAUSTED. {'error': {'code': 429, 'message': 'You exceeded your current quota, please check your plan and billing details. For more information on this error, head to: https://ai.google.dev/gemini-api/docs/rate-limits.', 'status': 'RESOURCE_EXHAUSTED', 'details': [{'@type': 'type.googleapis.com/google.rpc.QuotaFailure', 'violations': [{'quotaMetric': 'generativelanguage.googleapis.com/generate_content_free_tier_requests', 'quotaId': 'GenerateRequestsPerDayPerProjectPerModel-FreeTier', 'quotaDimensions': {'location': 'global', 'model': 'gemini-1.5-flash'}, 'quotaValue': '50'}]}, {'@type': 'type.googleapis.com/google.rpc.Help', 'links': [{'description': 'Learn more about Gemini API quotas', 'url': 'https://ai.google.dev/gemini-api/docs/rate-limits'}]}, {'@type': 'type.googleapis.com/google.rpc.RetryInfo', 'retryDelay': '38s'}]}}\n"
          ]
        },
        {
          "name": "stderr",
          "output_type": "stream",
          "text": [
            "2025-09-15 03:36:21 - noveum_trace.transport.http_transport - INFO - 📤 EXPORTING TRACE: auto_trace_generate (ID: fad0f366-b837-4bb2-ae74-ebd3fb45203a) - 1 spans\n",
            "2025-09-15 03:36:21 - noveum_trace.transport.batch_processor - INFO - 📥 ADDING TRACE TO QUEUE: auto_trace_generate (ID: fad0f366-b837-4bb2-ae74-ebd3fb45203a) - 1 spans\n",
            "2025-09-15 03:36:21 - noveum_trace.transport.batch_processor - INFO - ✅ Successfully queued trace fad0f366-b837-4bb2-ae74-ebd3fb45203a\n",
            "2025-09-15 03:36:21 - noveum_trace.transport.http_transport - INFO - ✅ Trace fad0f366-b837-4bb2-ae74-ebd3fb45203a successfully queued for export\n"
          ]
        },
        {
          "name": "stdout",
          "output_type": "stream",
          "text": [
            "2025-09-15 03:36:21 - INFO - google_genai.models - AFC is enabled with max remote calls: 10.\n",
            "2025-09-15 03:36:22 - ERROR - novaeval.models.base - Error: 429 RESOURCE_EXHAUSTED. {'error': {'code': 429, 'message': 'You exceeded your current quota, please check your plan and billing details. For more information on this error, head to: https://ai.google.dev/gemini-api/docs/rate-limits.', 'status': 'RESOURCE_EXHAUSTED', 'details': [{'@type': 'type.googleapis.com/google.rpc.QuotaFailure', 'violations': [{'quotaMetric': 'generativelanguage.googleapis.com/generate_content_free_tier_requests', 'quotaId': 'GenerateRequestsPerDayPerProjectPerModel-FreeTier', 'quotaDimensions': {'location': 'global', 'model': 'gemini-1.5-flash'}, 'quotaValue': '50'}]}, {'@type': 'type.googleapis.com/google.rpc.Help', 'links': [{'description': 'Learn more about Gemini API quotas', 'url': 'https://ai.google.dev/gemini-api/docs/rate-limits'}]}, {'@type': 'type.googleapis.com/google.rpc.RetryInfo', 'retryDelay': '38s'}]}}\n"
          ]
        },
        {
          "name": "stderr",
          "output_type": "stream",
          "text": [
            "2025-09-15 03:36:22 - noveum_trace.transport.http_transport - INFO - 📤 EXPORTING TRACE: auto_trace_generate (ID: 01305072-957c-43ba-ae10-526b0f46eb1f) - 1 spans\n",
            "2025-09-15 03:36:22 - noveum_trace.transport.batch_processor - INFO - 📥 ADDING TRACE TO QUEUE: auto_trace_generate (ID: 01305072-957c-43ba-ae10-526b0f46eb1f) - 1 spans\n",
            "2025-09-15 03:36:22 - noveum_trace.transport.batch_processor - INFO - ✅ Successfully queued trace 01305072-957c-43ba-ae10-526b0f46eb1f\n",
            "2025-09-15 03:36:22 - noveum_trace.transport.http_transport - INFO - ✅ Trace 01305072-957c-43ba-ae10-526b0f46eb1f successfully queued for export\n"
          ]
        },
        {
          "name": "stdout",
          "output_type": "stream",
          "text": [
            "2025-09-15 03:36:22 - INFO - google_genai.models - AFC is enabled with max remote calls: 10.\n",
            "2025-09-15 03:36:23 - ERROR - novaeval.models.base - Error: 429 RESOURCE_EXHAUSTED. {'error': {'code': 429, 'message': 'You exceeded your current quota, please check your plan and billing details. For more information on this error, head to: https://ai.google.dev/gemini-api/docs/rate-limits.', 'status': 'RESOURCE_EXHAUSTED', 'details': [{'@type': 'type.googleapis.com/google.rpc.QuotaFailure', 'violations': [{'quotaMetric': 'generativelanguage.googleapis.com/generate_content_free_tier_requests', 'quotaId': 'GenerateRequestsPerDayPerProjectPerModel-FreeTier', 'quotaDimensions': {'model': 'gemini-1.5-flash', 'location': 'global'}, 'quotaValue': '50'}]}, {'@type': 'type.googleapis.com/google.rpc.Help', 'links': [{'description': 'Learn more about Gemini API quotas', 'url': 'https://ai.google.dev/gemini-api/docs/rate-limits'}]}, {'@type': 'type.googleapis.com/google.rpc.RetryInfo', 'retryDelay': '36s'}]}}\n"
          ]
        },
        {
          "name": "stderr",
          "output_type": "stream",
          "text": [
            "2025-09-15 03:36:23 - noveum_trace.transport.http_transport - INFO - 📤 EXPORTING TRACE: auto_trace_generate (ID: e0f04861-759d-4d50-83a2-b29a16d1af47) - 1 spans\n",
            "2025-09-15 03:36:23 - noveum_trace.transport.batch_processor - INFO - 📥 ADDING TRACE TO QUEUE: auto_trace_generate (ID: e0f04861-759d-4d50-83a2-b29a16d1af47) - 1 spans\n",
            "2025-09-15 03:36:23 - noveum_trace.transport.batch_processor - INFO - ✅ Successfully queued trace e0f04861-759d-4d50-83a2-b29a16d1af47\n",
            "2025-09-15 03:36:23 - noveum_trace.transport.http_transport - INFO - ✅ Trace e0f04861-759d-4d50-83a2-b29a16d1af47 successfully queued for export\n"
          ]
        },
        {
          "name": "stdout",
          "output_type": "stream",
          "text": [
            "2025-09-15 03:36:23 - INFO - novaeval.evaluators.agent_evaluator - Saving intermediate results after 25 samples\n",
            "2025-09-15 03:36:23 - INFO - novaeval.evaluators.agent_evaluator - Intermediate results saved to demo_results/sample_evaluation/agent_evaluation_results.csv\n"
          ]
        },
        {
          "name": "stderr",
          "output_type": "stream",
          "text": [
            "Evaluating samples: 25it [01:13,  3.00s/it]"
          ]
        },
        {
          "name": "stdout",
          "output_type": "stream",
          "text": [
            "2025-09-15 03:36:23 - INFO - google_genai.models - AFC is enabled with max remote calls: 10.\n",
            "2025-09-15 03:36:23 - ERROR - novaeval.models.base - Error: 429 RESOURCE_EXHAUSTED. {'error': {'code': 429, 'message': 'You exceeded your current quota, please check your plan and billing details. For more information on this error, head to: https://ai.google.dev/gemini-api/docs/rate-limits.', 'status': 'RESOURCE_EXHAUSTED', 'details': [{'@type': 'type.googleapis.com/google.rpc.QuotaFailure', 'violations': [{'quotaMetric': 'generativelanguage.googleapis.com/generate_content_free_tier_requests', 'quotaId': 'GenerateRequestsPerDayPerProjectPerModel-FreeTier', 'quotaDimensions': {'location': 'global', 'model': 'gemini-1.5-flash'}, 'quotaValue': '50'}]}, {'@type': 'type.googleapis.com/google.rpc.Help', 'links': [{'description': 'Learn more about Gemini API quotas', 'url': 'https://ai.google.dev/gemini-api/docs/rate-limits'}]}, {'@type': 'type.googleapis.com/google.rpc.RetryInfo', 'retryDelay': '36s'}]}}\n"
          ]
        },
        {
          "name": "stderr",
          "output_type": "stream",
          "text": [
            "2025-09-15 03:36:23 - noveum_trace.transport.http_transport - INFO - 📤 EXPORTING TRACE: auto_trace_generate (ID: 7261e18c-563c-4cc1-bbce-5160d36bcded) - 1 spans\n",
            "2025-09-15 03:36:23 - noveum_trace.transport.batch_processor - INFO - 📥 ADDING TRACE TO QUEUE: auto_trace_generate (ID: 7261e18c-563c-4cc1-bbce-5160d36bcded) - 1 spans\n",
            "2025-09-15 03:36:23 - noveum_trace.transport.batch_processor - INFO - ✅ Successfully queued trace 7261e18c-563c-4cc1-bbce-5160d36bcded\n",
            "2025-09-15 03:36:23 - noveum_trace.transport.http_transport - INFO - ✅ Trace 7261e18c-563c-4cc1-bbce-5160d36bcded successfully queued for export\n"
          ]
        },
        {
          "name": "stdout",
          "output_type": "stream",
          "text": [
            "2025-09-15 03:36:23 - INFO - google_genai.models - AFC is enabled with max remote calls: 10.\n",
            "2025-09-15 03:36:25 - ERROR - novaeval.models.base - Error: 429 RESOURCE_EXHAUSTED. {'error': {'code': 429, 'message': 'You exceeded your current quota, please check your plan and billing details. For more information on this error, head to: https://ai.google.dev/gemini-api/docs/rate-limits.', 'status': 'RESOURCE_EXHAUSTED', 'details': [{'@type': 'type.googleapis.com/google.rpc.QuotaFailure', 'violations': [{'quotaMetric': 'generativelanguage.googleapis.com/generate_content_free_tier_requests', 'quotaId': 'GenerateRequestsPerDayPerProjectPerModel-FreeTier', 'quotaDimensions': {'location': 'global', 'model': 'gemini-1.5-flash'}, 'quotaValue': '50'}]}, {'@type': 'type.googleapis.com/google.rpc.Help', 'links': [{'description': 'Learn more about Gemini API quotas', 'url': 'https://ai.google.dev/gemini-api/docs/rate-limits'}]}, {'@type': 'type.googleapis.com/google.rpc.RetryInfo', 'retryDelay': '35s'}]}}\n"
          ]
        },
        {
          "name": "stderr",
          "output_type": "stream",
          "text": [
            "2025-09-15 03:36:25 - noveum_trace.transport.http_transport - INFO - 📤 EXPORTING TRACE: auto_trace_generate (ID: 3bc578f7-1696-40cd-b1b2-58085c03e97e) - 1 spans\n",
            "2025-09-15 03:36:25 - noveum_trace.transport.batch_processor - INFO - 📥 ADDING TRACE TO QUEUE: auto_trace_generate (ID: 3bc578f7-1696-40cd-b1b2-58085c03e97e) - 1 spans\n",
            "2025-09-15 03:36:25 - noveum_trace.transport.batch_processor - INFO - ✅ Successfully queued trace 3bc578f7-1696-40cd-b1b2-58085c03e97e\n",
            "2025-09-15 03:36:25 - noveum_trace.transport.http_transport - INFO - ✅ Trace 3bc578f7-1696-40cd-b1b2-58085c03e97e successfully queued for export\n"
          ]
        },
        {
          "name": "stdout",
          "output_type": "stream",
          "text": [
            "2025-09-15 03:36:25 - INFO - google_genai.models - AFC is enabled with max remote calls: 10.\n",
            "2025-09-15 03:36:25 - ERROR - novaeval.models.base - Error: 429 RESOURCE_EXHAUSTED. {'error': {'code': 429, 'message': 'You exceeded your current quota, please check your plan and billing details. For more information on this error, head to: https://ai.google.dev/gemini-api/docs/rate-limits.', 'status': 'RESOURCE_EXHAUSTED', 'details': [{'@type': 'type.googleapis.com/google.rpc.QuotaFailure', 'violations': [{'quotaMetric': 'generativelanguage.googleapis.com/generate_content_free_tier_requests', 'quotaId': 'GenerateRequestsPerDayPerProjectPerModel-FreeTier', 'quotaDimensions': {'location': 'global', 'model': 'gemini-1.5-flash'}, 'quotaValue': '50'}]}, {'@type': 'type.googleapis.com/google.rpc.Help', 'links': [{'description': 'Learn more about Gemini API quotas', 'url': 'https://ai.google.dev/gemini-api/docs/rate-limits'}]}, {'@type': 'type.googleapis.com/google.rpc.RetryInfo', 'retryDelay': '34s'}]}}\n"
          ]
        },
        {
          "name": "stderr",
          "output_type": "stream",
          "text": [
            "2025-09-15 03:36:25 - noveum_trace.transport.http_transport - INFO - 📤 EXPORTING TRACE: auto_trace_generate (ID: fb17f176-5d39-49bf-9508-784fa7e2c8c5) - 1 spans\n",
            "2025-09-15 03:36:25 - noveum_trace.transport.batch_processor - INFO - 📥 ADDING TRACE TO QUEUE: auto_trace_generate (ID: fb17f176-5d39-49bf-9508-784fa7e2c8c5) - 1 spans\n",
            "2025-09-15 03:36:25 - noveum_trace.transport.batch_processor - INFO - ✅ Successfully queued trace fb17f176-5d39-49bf-9508-784fa7e2c8c5\n",
            "2025-09-15 03:36:25 - noveum_trace.transport.http_transport - INFO - ✅ Trace fb17f176-5d39-49bf-9508-784fa7e2c8c5 successfully queued for export\n"
          ]
        },
        {
          "name": "stdout",
          "output_type": "stream",
          "text": [
            "2025-09-15 03:36:25 - INFO - novaeval.evaluators.agent_evaluator - Saving intermediate results after 26 samples\n",
            "2025-09-15 03:36:25 - INFO - novaeval.evaluators.agent_evaluator - Intermediate results saved to demo_results/sample_evaluation/agent_evaluation_results.csv\n"
          ]
        },
        {
          "name": "stderr",
          "output_type": "stream",
          "text": [
            "Evaluating samples: 26it [01:15,  2.75s/it]"
          ]
        },
        {
          "name": "stdout",
          "output_type": "stream",
          "text": [
            "2025-09-15 03:36:25 - INFO - google_genai.models - AFC is enabled with max remote calls: 10.\n",
            "2025-09-15 03:36:26 - ERROR - novaeval.models.base - Error: 429 RESOURCE_EXHAUSTED. {'error': {'code': 429, 'message': 'You exceeded your current quota, please check your plan and billing details. For more information on this error, head to: https://ai.google.dev/gemini-api/docs/rate-limits.', 'status': 'RESOURCE_EXHAUSTED', 'details': [{'@type': 'type.googleapis.com/google.rpc.QuotaFailure', 'violations': [{'quotaMetric': 'generativelanguage.googleapis.com/generate_content_free_tier_requests', 'quotaId': 'GenerateRequestsPerDayPerProjectPerModel-FreeTier', 'quotaDimensions': {'location': 'global', 'model': 'gemini-1.5-flash'}, 'quotaValue': '50'}]}, {'@type': 'type.googleapis.com/google.rpc.Help', 'links': [{'description': 'Learn more about Gemini API quotas', 'url': 'https://ai.google.dev/gemini-api/docs/rate-limits'}]}, {'@type': 'type.googleapis.com/google.rpc.RetryInfo', 'retryDelay': '33s'}]}}\n"
          ]
        },
        {
          "name": "stderr",
          "output_type": "stream",
          "text": [
            "2025-09-15 03:36:26 - noveum_trace.transport.http_transport - INFO - 📤 EXPORTING TRACE: auto_trace_generate (ID: ae1ad2bf-52b1-4285-b4e2-81a7ef985b8f) - 1 spans\n",
            "2025-09-15 03:36:26 - noveum_trace.transport.batch_processor - INFO - 📥 ADDING TRACE TO QUEUE: auto_trace_generate (ID: ae1ad2bf-52b1-4285-b4e2-81a7ef985b8f) - 1 spans\n",
            "2025-09-15 03:36:26 - noveum_trace.transport.batch_processor - INFO - ✅ Successfully queued trace ae1ad2bf-52b1-4285-b4e2-81a7ef985b8f\n",
            "2025-09-15 03:36:26 - noveum_trace.transport.http_transport - INFO - ✅ Trace ae1ad2bf-52b1-4285-b4e2-81a7ef985b8f successfully queued for export\n"
          ]
        },
        {
          "name": "stdout",
          "output_type": "stream",
          "text": [
            "2025-09-15 03:36:26 - INFO - google_genai.models - AFC is enabled with max remote calls: 10.\n",
            "2025-09-15 03:36:27 - ERROR - novaeval.models.base - Error: 429 RESOURCE_EXHAUSTED. {'error': {'code': 429, 'message': 'You exceeded your current quota, please check your plan and billing details. For more information on this error, head to: https://ai.google.dev/gemini-api/docs/rate-limits.', 'status': 'RESOURCE_EXHAUSTED', 'details': [{'@type': 'type.googleapis.com/google.rpc.QuotaFailure', 'violations': [{'quotaMetric': 'generativelanguage.googleapis.com/generate_content_free_tier_requests', 'quotaId': 'GenerateRequestsPerDayPerProjectPerModel-FreeTier', 'quotaDimensions': {'location': 'global', 'model': 'gemini-1.5-flash'}, 'quotaValue': '50'}]}, {'@type': 'type.googleapis.com/google.rpc.Help', 'links': [{'description': 'Learn more about Gemini API quotas', 'url': 'https://ai.google.dev/gemini-api/docs/rate-limits'}]}, {'@type': 'type.googleapis.com/google.rpc.RetryInfo', 'retryDelay': '32s'}]}}\n"
          ]
        },
        {
          "name": "stderr",
          "output_type": "stream",
          "text": [
            "2025-09-15 03:36:27 - noveum_trace.transport.http_transport - INFO - 📤 EXPORTING TRACE: auto_trace_generate (ID: ce3ca046-35f7-4517-8756-b68feb83d6ad) - 1 spans\n",
            "2025-09-15 03:36:27 - noveum_trace.transport.batch_processor - INFO - 📥 ADDING TRACE TO QUEUE: auto_trace_generate (ID: ce3ca046-35f7-4517-8756-b68feb83d6ad) - 1 spans\n",
            "2025-09-15 03:36:27 - noveum_trace.transport.batch_processor - INFO - ✅ Successfully queued trace ce3ca046-35f7-4517-8756-b68feb83d6ad\n",
            "2025-09-15 03:36:27 - noveum_trace.transport.http_transport - INFO - ✅ Trace ce3ca046-35f7-4517-8756-b68feb83d6ad successfully queued for export\n"
          ]
        },
        {
          "name": "stdout",
          "output_type": "stream",
          "text": [
            "2025-09-15 03:36:27 - INFO - google_genai.models - AFC is enabled with max remote calls: 10.\n",
            "2025-09-15 03:36:28 - ERROR - novaeval.models.base - Error: 429 RESOURCE_EXHAUSTED. {'error': {'code': 429, 'message': 'You exceeded your current quota, please check your plan and billing details. For more information on this error, head to: https://ai.google.dev/gemini-api/docs/rate-limits.', 'status': 'RESOURCE_EXHAUSTED', 'details': [{'@type': 'type.googleapis.com/google.rpc.QuotaFailure', 'violations': [{'quotaMetric': 'generativelanguage.googleapis.com/generate_content_free_tier_requests', 'quotaId': 'GenerateRequestsPerDayPerProjectPerModel-FreeTier', 'quotaDimensions': {'location': 'global', 'model': 'gemini-1.5-flash'}, 'quotaValue': '50'}]}, {'@type': 'type.googleapis.com/google.rpc.Help', 'links': [{'description': 'Learn more about Gemini API quotas', 'url': 'https://ai.google.dev/gemini-api/docs/rate-limits'}]}, {'@type': 'type.googleapis.com/google.rpc.RetryInfo', 'retryDelay': '31s'}]}}\n"
          ]
        },
        {
          "name": "stderr",
          "output_type": "stream",
          "text": [
            "2025-09-15 03:36:28 - noveum_trace.transport.http_transport - INFO - 📤 EXPORTING TRACE: auto_trace_generate (ID: 5e1f97ea-8687-4c6d-9370-541f4c1e988e) - 1 spans\n",
            "2025-09-15 03:36:28 - noveum_trace.transport.batch_processor - INFO - 📥 ADDING TRACE TO QUEUE: auto_trace_generate (ID: 5e1f97ea-8687-4c6d-9370-541f4c1e988e) - 1 spans\n",
            "2025-09-15 03:36:28 - noveum_trace.transport.batch_processor - INFO - ✅ Successfully queued trace 5e1f97ea-8687-4c6d-9370-541f4c1e988e\n",
            "2025-09-15 03:36:28 - noveum_trace.transport.http_transport - INFO - ✅ Trace 5e1f97ea-8687-4c6d-9370-541f4c1e988e successfully queued for export\n"
          ]
        },
        {
          "name": "stdout",
          "output_type": "stream",
          "text": [
            "2025-09-15 03:36:28 - INFO - novaeval.evaluators.agent_evaluator - Saving intermediate results after 27 samples\n",
            "2025-09-15 03:36:28 - INFO - novaeval.evaluators.agent_evaluator - Intermediate results saved to demo_results/sample_evaluation/agent_evaluation_results.csv\n"
          ]
        },
        {
          "name": "stderr",
          "output_type": "stream",
          "text": [
            "Evaluating samples: 27it [01:18,  2.81s/it]"
          ]
        },
        {
          "name": "stdout",
          "output_type": "stream",
          "text": [
            "2025-09-15 03:36:28 - INFO - google_genai.models - AFC is enabled with max remote calls: 10.\n",
            "2025-09-15 03:36:28 - ERROR - novaeval.models.base - Error: 429 RESOURCE_EXHAUSTED. {'error': {'code': 429, 'message': 'You exceeded your current quota, please check your plan and billing details. For more information on this error, head to: https://ai.google.dev/gemini-api/docs/rate-limits.', 'status': 'RESOURCE_EXHAUSTED', 'details': [{'@type': 'type.googleapis.com/google.rpc.QuotaFailure', 'violations': [{'quotaMetric': 'generativelanguage.googleapis.com/generate_content_free_tier_requests', 'quotaId': 'GenerateRequestsPerDayPerProjectPerModel-FreeTier', 'quotaDimensions': {'location': 'global', 'model': 'gemini-1.5-flash'}, 'quotaValue': '50'}]}, {'@type': 'type.googleapis.com/google.rpc.Help', 'links': [{'description': 'Learn more about Gemini API quotas', 'url': 'https://ai.google.dev/gemini-api/docs/rate-limits'}]}, {'@type': 'type.googleapis.com/google.rpc.RetryInfo', 'retryDelay': '31s'}]}}\n"
          ]
        },
        {
          "name": "stderr",
          "output_type": "stream",
          "text": [
            "2025-09-15 03:36:28 - noveum_trace.transport.http_transport - INFO - 📤 EXPORTING TRACE: auto_trace_generate (ID: 201c5072-957f-46c8-b648-304303c95d1b) - 1 spans\n",
            "2025-09-15 03:36:28 - noveum_trace.transport.batch_processor - INFO - 📥 ADDING TRACE TO QUEUE: auto_trace_generate (ID: 201c5072-957f-46c8-b648-304303c95d1b) - 1 spans\n",
            "2025-09-15 03:36:28 - noveum_trace.transport.batch_processor - INFO - ✅ Successfully queued trace 201c5072-957f-46c8-b648-304303c95d1b\n",
            "2025-09-15 03:36:28 - noveum_trace.transport.http_transport - INFO - ✅ Trace 201c5072-957f-46c8-b648-304303c95d1b successfully queued for export\n"
          ]
        },
        {
          "name": "stdout",
          "output_type": "stream",
          "text": [
            "2025-09-15 03:36:28 - INFO - google_genai.models - AFC is enabled with max remote calls: 10.\n",
            "2025-09-15 03:36:30 - ERROR - novaeval.models.base - Error: 429 RESOURCE_EXHAUSTED. {'error': {'code': 429, 'message': 'You exceeded your current quota, please check your plan and billing details. For more information on this error, head to: https://ai.google.dev/gemini-api/docs/rate-limits.', 'status': 'RESOURCE_EXHAUSTED', 'details': [{'@type': 'type.googleapis.com/google.rpc.QuotaFailure', 'violations': [{'quotaMetric': 'generativelanguage.googleapis.com/generate_content_free_tier_requests', 'quotaId': 'GenerateRequestsPerDayPerProjectPerModel-FreeTier', 'quotaDimensions': {'location': 'global', 'model': 'gemini-1.5-flash'}, 'quotaValue': '50'}]}, {'@type': 'type.googleapis.com/google.rpc.Help', 'links': [{'description': 'Learn more about Gemini API quotas', 'url': 'https://ai.google.dev/gemini-api/docs/rate-limits'}]}, {'@type': 'type.googleapis.com/google.rpc.RetryInfo', 'retryDelay': '29s'}]}}\n"
          ]
        },
        {
          "name": "stderr",
          "output_type": "stream",
          "text": [
            "2025-09-15 03:36:30 - noveum_trace.transport.http_transport - INFO - 📤 EXPORTING TRACE: auto_trace_generate (ID: 8cda6f25-3316-4914-82af-84c36d789952) - 1 spans\n",
            "2025-09-15 03:36:30 - noveum_trace.transport.batch_processor - INFO - 📥 ADDING TRACE TO QUEUE: auto_trace_generate (ID: 8cda6f25-3316-4914-82af-84c36d789952) - 1 spans\n",
            "2025-09-15 03:36:30 - noveum_trace.transport.batch_processor - INFO - ✅ Successfully queued trace 8cda6f25-3316-4914-82af-84c36d789952\n",
            "2025-09-15 03:36:30 - noveum_trace.transport.http_transport - INFO - ✅ Trace 8cda6f25-3316-4914-82af-84c36d789952 successfully queued for export\n"
          ]
        },
        {
          "name": "stdout",
          "output_type": "stream",
          "text": [
            "2025-09-15 03:36:30 - INFO - google_genai.models - AFC is enabled with max remote calls: 10.\n",
            "2025-09-15 03:36:30 - ERROR - novaeval.models.base - Error: 429 RESOURCE_EXHAUSTED. {'error': {'code': 429, 'message': 'You exceeded your current quota, please check your plan and billing details. For more information on this error, head to: https://ai.google.dev/gemini-api/docs/rate-limits.', 'status': 'RESOURCE_EXHAUSTED', 'details': [{'@type': 'type.googleapis.com/google.rpc.QuotaFailure', 'violations': [{'quotaMetric': 'generativelanguage.googleapis.com/generate_content_free_tier_requests', 'quotaId': 'GenerateRequestsPerDayPerProjectPerModel-FreeTier', 'quotaDimensions': {'location': 'global', 'model': 'gemini-1.5-flash'}, 'quotaValue': '50'}]}, {'@type': 'type.googleapis.com/google.rpc.Help', 'links': [{'description': 'Learn more about Gemini API quotas', 'url': 'https://ai.google.dev/gemini-api/docs/rate-limits'}]}, {'@type': 'type.googleapis.com/google.rpc.RetryInfo', 'retryDelay': '29s'}]}}\n"
          ]
        },
        {
          "name": "stderr",
          "output_type": "stream",
          "text": [
            "2025-09-15 03:36:30 - noveum_trace.transport.http_transport - INFO - 📤 EXPORTING TRACE: auto_trace_generate (ID: 5951f9c1-229b-4974-aaff-e6c702c6fc98) - 1 spans\n",
            "2025-09-15 03:36:30 - noveum_trace.transport.batch_processor - INFO - 📥 ADDING TRACE TO QUEUE: auto_trace_generate (ID: 5951f9c1-229b-4974-aaff-e6c702c6fc98) - 1 spans\n",
            "2025-09-15 03:36:30 - noveum_trace.transport.batch_processor - INFO - ✅ Successfully queued trace 5951f9c1-229b-4974-aaff-e6c702c6fc98\n",
            "2025-09-15 03:36:30 - noveum_trace.transport.http_transport - INFO - ✅ Trace 5951f9c1-229b-4974-aaff-e6c702c6fc98 successfully queued for export\n"
          ]
        },
        {
          "name": "stdout",
          "output_type": "stream",
          "text": [
            "2025-09-15 03:36:30 - INFO - novaeval.evaluators.agent_evaluator - Saving intermediate results after 28 samples\n",
            "2025-09-15 03:36:30 - INFO - novaeval.evaluators.agent_evaluator - Intermediate results saved to demo_results/sample_evaluation/agent_evaluation_results.csv\n"
          ]
        },
        {
          "name": "stderr",
          "output_type": "stream",
          "text": [
            "Evaluating samples: 28it [01:21,  2.61s/it]"
          ]
        },
        {
          "name": "stdout",
          "output_type": "stream",
          "text": [
            "2025-09-15 03:36:30 - INFO - google_genai.models - AFC is enabled with max remote calls: 10.\n",
            "2025-09-15 03:36:31 - ERROR - novaeval.models.base - Error: 429 RESOURCE_EXHAUSTED. {'error': {'code': 429, 'message': 'You exceeded your current quota, please check your plan and billing details. For more information on this error, head to: https://ai.google.dev/gemini-api/docs/rate-limits.', 'status': 'RESOURCE_EXHAUSTED', 'details': [{'@type': 'type.googleapis.com/google.rpc.QuotaFailure', 'violations': [{'quotaMetric': 'generativelanguage.googleapis.com/generate_content_free_tier_requests', 'quotaId': 'GenerateRequestsPerDayPerProjectPerModel-FreeTier', 'quotaDimensions': {'location': 'global', 'model': 'gemini-1.5-flash'}, 'quotaValue': '50'}]}, {'@type': 'type.googleapis.com/google.rpc.Help', 'links': [{'description': 'Learn more about Gemini API quotas', 'url': 'https://ai.google.dev/gemini-api/docs/rate-limits'}]}, {'@type': 'type.googleapis.com/google.rpc.RetryInfo', 'retryDelay': '28s'}]}}\n"
          ]
        },
        {
          "name": "stderr",
          "output_type": "stream",
          "text": [
            "2025-09-15 03:36:31 - noveum_trace.transport.http_transport - INFO - 📤 EXPORTING TRACE: auto_trace_generate (ID: 426560de-b9e4-461f-864b-2c559bfc7ca4) - 1 spans\n",
            "2025-09-15 03:36:31 - noveum_trace.transport.batch_processor - INFO - 📥 ADDING TRACE TO QUEUE: auto_trace_generate (ID: 426560de-b9e4-461f-864b-2c559bfc7ca4) - 1 spans\n",
            "2025-09-15 03:36:31 - noveum_trace.transport.batch_processor - INFO - ✅ Successfully queued trace 426560de-b9e4-461f-864b-2c559bfc7ca4\n",
            "2025-09-15 03:36:31 - noveum_trace.transport.http_transport - INFO - ✅ Trace 426560de-b9e4-461f-864b-2c559bfc7ca4 successfully queued for export\n"
          ]
        },
        {
          "name": "stdout",
          "output_type": "stream",
          "text": [
            "2025-09-15 03:36:31 - INFO - google_genai.models - AFC is enabled with max remote calls: 10.\n",
            "2025-09-15 03:36:32 - ERROR - novaeval.models.base - Error: 429 RESOURCE_EXHAUSTED. {'error': {'code': 429, 'message': 'You exceeded your current quota, please check your plan and billing details. For more information on this error, head to: https://ai.google.dev/gemini-api/docs/rate-limits.', 'status': 'RESOURCE_EXHAUSTED', 'details': [{'@type': 'type.googleapis.com/google.rpc.QuotaFailure', 'violations': [{'quotaMetric': 'generativelanguage.googleapis.com/generate_content_free_tier_requests', 'quotaId': 'GenerateRequestsPerDayPerProjectPerModel-FreeTier', 'quotaDimensions': {'location': 'global', 'model': 'gemini-1.5-flash'}, 'quotaValue': '50'}]}, {'@type': 'type.googleapis.com/google.rpc.Help', 'links': [{'description': 'Learn more about Gemini API quotas', 'url': 'https://ai.google.dev/gemini-api/docs/rate-limits'}]}, {'@type': 'type.googleapis.com/google.rpc.RetryInfo', 'retryDelay': '27s'}]}}\n"
          ]
        },
        {
          "name": "stderr",
          "output_type": "stream",
          "text": [
            "2025-09-15 03:36:32 - noveum_trace.transport.http_transport - INFO - 📤 EXPORTING TRACE: auto_trace_generate (ID: 1c8c9239-f24d-4f63-a312-9db064f9e30d) - 1 spans\n",
            "2025-09-15 03:36:32 - noveum_trace.transport.batch_processor - INFO - 📥 ADDING TRACE TO QUEUE: auto_trace_generate (ID: 1c8c9239-f24d-4f63-a312-9db064f9e30d) - 1 spans\n",
            "2025-09-15 03:36:32 - noveum_trace.transport.batch_processor - INFO - ✅ Successfully queued trace 1c8c9239-f24d-4f63-a312-9db064f9e30d\n",
            "2025-09-15 03:36:32 - noveum_trace.transport.http_transport - INFO - ✅ Trace 1c8c9239-f24d-4f63-a312-9db064f9e30d successfully queued for export\n"
          ]
        },
        {
          "name": "stdout",
          "output_type": "stream",
          "text": [
            "2025-09-15 03:36:32 - INFO - google_genai.models - AFC is enabled with max remote calls: 10.\n",
            "2025-09-15 03:36:33 - ERROR - novaeval.models.base - Error: 429 RESOURCE_EXHAUSTED. {'error': {'code': 429, 'message': 'You exceeded your current quota, please check your plan and billing details. For more information on this error, head to: https://ai.google.dev/gemini-api/docs/rate-limits.', 'status': 'RESOURCE_EXHAUSTED', 'details': [{'@type': 'type.googleapis.com/google.rpc.QuotaFailure', 'violations': [{'quotaMetric': 'generativelanguage.googleapis.com/generate_content_free_tier_requests', 'quotaId': 'GenerateRequestsPerDayPerProjectPerModel-FreeTier', 'quotaDimensions': {'location': 'global', 'model': 'gemini-1.5-flash'}, 'quotaValue': '50'}]}, {'@type': 'type.googleapis.com/google.rpc.Help', 'links': [{'description': 'Learn more about Gemini API quotas', 'url': 'https://ai.google.dev/gemini-api/docs/rate-limits'}]}, {'@type': 'type.googleapis.com/google.rpc.RetryInfo', 'retryDelay': '26s'}]}}\n"
          ]
        },
        {
          "name": "stderr",
          "output_type": "stream",
          "text": [
            "2025-09-15 03:36:33 - noveum_trace.transport.http_transport - INFO - 📤 EXPORTING TRACE: auto_trace_generate (ID: b9312f8b-a6fb-4bed-85bb-e832c157945d) - 1 spans\n",
            "2025-09-15 03:36:33 - noveum_trace.transport.batch_processor - INFO - 📥 ADDING TRACE TO QUEUE: auto_trace_generate (ID: b9312f8b-a6fb-4bed-85bb-e832c157945d) - 1 spans\n",
            "2025-09-15 03:36:33 - noveum_trace.transport.batch_processor - INFO - ✅ Successfully queued trace b9312f8b-a6fb-4bed-85bb-e832c157945d\n",
            "2025-09-15 03:36:33 - noveum_trace.transport.http_transport - INFO - ✅ Trace b9312f8b-a6fb-4bed-85bb-e832c157945d successfully queued for export\n"
          ]
        },
        {
          "name": "stdout",
          "output_type": "stream",
          "text": [
            "2025-09-15 03:36:33 - INFO - novaeval.evaluators.agent_evaluator - Saving intermediate results after 29 samples\n",
            "2025-09-15 03:36:33 - INFO - novaeval.evaluators.agent_evaluator - Intermediate results saved to demo_results/sample_evaluation/agent_evaluation_results.csv\n"
          ]
        },
        {
          "name": "stderr",
          "output_type": "stream",
          "text": [
            "Evaluating samples: 29it [01:24,  2.70s/it]"
          ]
        },
        {
          "name": "stdout",
          "output_type": "stream",
          "text": [
            "2025-09-15 03:36:33 - INFO - google_genai.models - AFC is enabled with max remote calls: 10.\n",
            "2025-09-15 03:36:33 - ERROR - novaeval.models.base - Error: 429 RESOURCE_EXHAUSTED. {'error': {'code': 429, 'message': 'You exceeded your current quota, please check your plan and billing details. For more information on this error, head to: https://ai.google.dev/gemini-api/docs/rate-limits.', 'status': 'RESOURCE_EXHAUSTED', 'details': [{'@type': 'type.googleapis.com/google.rpc.QuotaFailure', 'violations': [{'quotaMetric': 'generativelanguage.googleapis.com/generate_content_free_tier_requests', 'quotaId': 'GenerateRequestsPerDayPerProjectPerModel-FreeTier', 'quotaDimensions': {'model': 'gemini-1.5-flash', 'location': 'global'}, 'quotaValue': '50'}]}, {'@type': 'type.googleapis.com/google.rpc.Help', 'links': [{'description': 'Learn more about Gemini API quotas', 'url': 'https://ai.google.dev/gemini-api/docs/rate-limits'}]}, {'@type': 'type.googleapis.com/google.rpc.RetryInfo', 'retryDelay': '26s'}]}}\n"
          ]
        },
        {
          "name": "stderr",
          "output_type": "stream",
          "text": [
            "2025-09-15 03:36:33 - noveum_trace.transport.http_transport - INFO - 📤 EXPORTING TRACE: auto_trace_generate (ID: a333baef-7bb7-4ea2-902d-ba8128109662) - 1 spans\n",
            "2025-09-15 03:36:33 - noveum_trace.transport.batch_processor - INFO - 📥 ADDING TRACE TO QUEUE: auto_trace_generate (ID: a333baef-7bb7-4ea2-902d-ba8128109662) - 1 spans\n",
            "2025-09-15 03:36:33 - noveum_trace.transport.batch_processor - INFO - ✅ Successfully queued trace a333baef-7bb7-4ea2-902d-ba8128109662\n",
            "2025-09-15 03:36:33 - noveum_trace.transport.http_transport - INFO - ✅ Trace a333baef-7bb7-4ea2-902d-ba8128109662 successfully queued for export\n"
          ]
        },
        {
          "name": "stdout",
          "output_type": "stream",
          "text": [
            "2025-09-15 03:36:33 - INFO - google_genai.models - AFC is enabled with max remote calls: 10.\n",
            "2025-09-15 03:36:34 - ERROR - novaeval.models.base - Error: 429 RESOURCE_EXHAUSTED. {'error': {'code': 429, 'message': 'You exceeded your current quota, please check your plan and billing details. For more information on this error, head to: https://ai.google.dev/gemini-api/docs/rate-limits.', 'status': 'RESOURCE_EXHAUSTED', 'details': [{'@type': 'type.googleapis.com/google.rpc.QuotaFailure', 'violations': [{'quotaMetric': 'generativelanguage.googleapis.com/generate_content_free_tier_requests', 'quotaId': 'GenerateRequestsPerDayPerProjectPerModel-FreeTier', 'quotaDimensions': {'model': 'gemini-1.5-flash', 'location': 'global'}, 'quotaValue': '50'}]}, {'@type': 'type.googleapis.com/google.rpc.Help', 'links': [{'description': 'Learn more about Gemini API quotas', 'url': 'https://ai.google.dev/gemini-api/docs/rate-limits'}]}, {'@type': 'type.googleapis.com/google.rpc.RetryInfo', 'retryDelay': '25s'}]}}\n"
          ]
        },
        {
          "name": "stderr",
          "output_type": "stream",
          "text": [
            "2025-09-15 03:36:34 - noveum_trace.transport.http_transport - INFO - 📤 EXPORTING TRACE: auto_trace_generate (ID: 90750911-1b62-4aa4-835e-65a4165cc0c7) - 1 spans\n",
            "2025-09-15 03:36:34 - noveum_trace.transport.batch_processor - INFO - 📥 ADDING TRACE TO QUEUE: auto_trace_generate (ID: 90750911-1b62-4aa4-835e-65a4165cc0c7) - 1 spans\n",
            "2025-09-15 03:36:34 - noveum_trace.transport.batch_processor - INFO - ✅ Successfully queued trace 90750911-1b62-4aa4-835e-65a4165cc0c7\n",
            "2025-09-15 03:36:34 - noveum_trace.transport.http_transport - INFO - ✅ Trace 90750911-1b62-4aa4-835e-65a4165cc0c7 successfully queued for export\n"
          ]
        },
        {
          "name": "stdout",
          "output_type": "stream",
          "text": [
            "2025-09-15 03:36:34 - INFO - google_genai.models - AFC is enabled with max remote calls: 10.\n",
            "2025-09-15 03:36:34 - ERROR - novaeval.models.base - Error: 429 RESOURCE_EXHAUSTED. {'error': {'code': 429, 'message': 'You exceeded your current quota, please check your plan and billing details. For more information on this error, head to: https://ai.google.dev/gemini-api/docs/rate-limits.', 'status': 'RESOURCE_EXHAUSTED', 'details': [{'@type': 'type.googleapis.com/google.rpc.QuotaFailure', 'violations': [{'quotaMetric': 'generativelanguage.googleapis.com/generate_content_free_tier_requests', 'quotaId': 'GenerateRequestsPerDayPerProjectPerModel-FreeTier', 'quotaDimensions': {'location': 'global', 'model': 'gemini-1.5-flash'}, 'quotaValue': '50'}]}, {'@type': 'type.googleapis.com/google.rpc.Help', 'links': [{'description': 'Learn more about Gemini API quotas', 'url': 'https://ai.google.dev/gemini-api/docs/rate-limits'}]}, {'@type': 'type.googleapis.com/google.rpc.RetryInfo', 'retryDelay': '25s'}]}}\n"
          ]
        },
        {
          "name": "stderr",
          "output_type": "stream",
          "text": [
            "2025-09-15 03:36:34 - noveum_trace.transport.http_transport - INFO - 📤 EXPORTING TRACE: auto_trace_generate (ID: 4c041c0a-bc17-4901-b1a1-30b49c81652c) - 1 spans\n",
            "2025-09-15 03:36:34 - noveum_trace.transport.batch_processor - INFO - 📥 ADDING TRACE TO QUEUE: auto_trace_generate (ID: 4c041c0a-bc17-4901-b1a1-30b49c81652c) - 1 spans\n",
            "2025-09-15 03:36:34 - noveum_trace.transport.batch_processor - INFO - ✅ Successfully queued trace 4c041c0a-bc17-4901-b1a1-30b49c81652c\n",
            "2025-09-15 03:36:34 - noveum_trace.transport.http_transport - INFO - ✅ Trace 4c041c0a-bc17-4901-b1a1-30b49c81652c successfully queued for export\n"
          ]
        },
        {
          "name": "stdout",
          "output_type": "stream",
          "text": [
            "2025-09-15 03:36:34 - INFO - google_genai.models - AFC is enabled with max remote calls: 10.\n",
            "2025-09-15 03:36:34 - ERROR - novaeval.models.base - Error: 429 RESOURCE_EXHAUSTED. {'error': {'code': 429, 'message': 'You exceeded your current quota, please check your plan and billing details. For more information on this error, head to: https://ai.google.dev/gemini-api/docs/rate-limits.', 'status': 'RESOURCE_EXHAUSTED', 'details': [{'@type': 'type.googleapis.com/google.rpc.QuotaFailure', 'violations': [{'quotaMetric': 'generativelanguage.googleapis.com/generate_content_free_tier_requests', 'quotaId': 'GenerateRequestsPerDayPerProjectPerModel-FreeTier', 'quotaDimensions': {'model': 'gemini-1.5-flash', 'location': 'global'}, 'quotaValue': '50'}]}, {'@type': 'type.googleapis.com/google.rpc.Help', 'links': [{'description': 'Learn more about Gemini API quotas', 'url': 'https://ai.google.dev/gemini-api/docs/rate-limits'}]}, {'@type': 'type.googleapis.com/google.rpc.RetryInfo', 'retryDelay': '25s'}]}}\n"
          ]
        },
        {
          "name": "stderr",
          "output_type": "stream",
          "text": [
            "2025-09-15 03:36:34 - noveum_trace.transport.http_transport - INFO - 📤 EXPORTING TRACE: auto_trace_generate (ID: 3603aa79-f0c6-4139-9baf-c275e1b209b2) - 1 spans\n",
            "2025-09-15 03:36:34 - noveum_trace.transport.batch_processor - INFO - 📥 ADDING TRACE TO QUEUE: auto_trace_generate (ID: 3603aa79-f0c6-4139-9baf-c275e1b209b2) - 1 spans\n",
            "2025-09-15 03:36:34 - noveum_trace.transport.batch_processor - INFO - ✅ Successfully queued trace 3603aa79-f0c6-4139-9baf-c275e1b209b2\n",
            "2025-09-15 03:36:34 - noveum_trace.transport.http_transport - INFO - ✅ Trace 3603aa79-f0c6-4139-9baf-c275e1b209b2 successfully queued for export\n"
          ]
        },
        {
          "name": "stdout",
          "output_type": "stream",
          "text": [
            "2025-09-15 03:36:34 - INFO - google_genai.models - AFC is enabled with max remote calls: 10.\n",
            "2025-09-15 03:36:35 - ERROR - novaeval.models.base - Error: 429 RESOURCE_EXHAUSTED. {'error': {'code': 429, 'message': 'You exceeded your current quota, please check your plan and billing details. For more information on this error, head to: https://ai.google.dev/gemini-api/docs/rate-limits.', 'status': 'RESOURCE_EXHAUSTED', 'details': [{'@type': 'type.googleapis.com/google.rpc.QuotaFailure', 'violations': [{'quotaMetric': 'generativelanguage.googleapis.com/generate_content_free_tier_requests', 'quotaId': 'GenerateRequestsPerDayPerProjectPerModel-FreeTier', 'quotaDimensions': {'location': 'global', 'model': 'gemini-1.5-flash'}, 'quotaValue': '50'}]}, {'@type': 'type.googleapis.com/google.rpc.Help', 'links': [{'description': 'Learn more about Gemini API quotas', 'url': 'https://ai.google.dev/gemini-api/docs/rate-limits'}]}, {'@type': 'type.googleapis.com/google.rpc.RetryInfo', 'retryDelay': '25s'}]}}\n"
          ]
        },
        {
          "name": "stderr",
          "output_type": "stream",
          "text": [
            "2025-09-15 03:36:35 - noveum_trace.transport.http_transport - INFO - 📤 EXPORTING TRACE: auto_trace_generate (ID: 7260c9c9-26fd-4727-8432-e4f7135f1d25) - 1 spans\n",
            "2025-09-15 03:36:35 - noveum_trace.transport.batch_processor - INFO - 📥 ADDING TRACE TO QUEUE: auto_trace_generate (ID: 7260c9c9-26fd-4727-8432-e4f7135f1d25) - 1 spans\n",
            "2025-09-15 03:36:35 - noveum_trace.transport.batch_processor - INFO - ✅ Successfully queued trace 7260c9c9-26fd-4727-8432-e4f7135f1d25\n",
            "2025-09-15 03:36:35 - noveum_trace.transport.http_transport - INFO - ✅ Trace 7260c9c9-26fd-4727-8432-e4f7135f1d25 successfully queued for export\n"
          ]
        },
        {
          "name": "stdout",
          "output_type": "stream",
          "text": [
            "2025-09-15 03:36:35 - INFO - novaeval.evaluators.agent_evaluator - Saving intermediate results after 30 samples\n",
            "2025-09-15 03:36:35 - INFO - novaeval.evaluators.agent_evaluator - Intermediate results saved to demo_results/sample_evaluation/agent_evaluation_results.csv\n"
          ]
        },
        {
          "name": "stderr",
          "output_type": "stream",
          "text": [
            "Evaluating samples: 30it [01:25,  2.35s/it]"
          ]
        },
        {
          "name": "stdout",
          "output_type": "stream",
          "text": [
            "2025-09-15 03:36:35 - INFO - google_genai.models - AFC is enabled with max remote calls: 10.\n",
            "2025-09-15 03:36:35 - ERROR - novaeval.models.base - Error: 429 RESOURCE_EXHAUSTED. {'error': {'code': 429, 'message': 'You exceeded your current quota, please check your plan and billing details. For more information on this error, head to: https://ai.google.dev/gemini-api/docs/rate-limits.', 'status': 'RESOURCE_EXHAUSTED', 'details': [{'@type': 'type.googleapis.com/google.rpc.QuotaFailure', 'violations': [{'quotaMetric': 'generativelanguage.googleapis.com/generate_content_free_tier_requests', 'quotaId': 'GenerateRequestsPerDayPerProjectPerModel-FreeTier', 'quotaDimensions': {'location': 'global', 'model': 'gemini-1.5-flash'}, 'quotaValue': '50'}]}, {'@type': 'type.googleapis.com/google.rpc.Help', 'links': [{'description': 'Learn more about Gemini API quotas', 'url': 'https://ai.google.dev/gemini-api/docs/rate-limits'}]}, {'@type': 'type.googleapis.com/google.rpc.RetryInfo', 'retryDelay': '24s'}]}}\n"
          ]
        },
        {
          "name": "stderr",
          "output_type": "stream",
          "text": [
            "2025-09-15 03:36:35 - noveum_trace.transport.http_transport - INFO - 📤 EXPORTING TRACE: auto_trace_generate (ID: 2deb091e-93f4-41ab-bee1-bbd8f17d135b) - 1 spans\n",
            "2025-09-15 03:36:35 - noveum_trace.transport.batch_processor - INFO - 📥 ADDING TRACE TO QUEUE: auto_trace_generate (ID: 2deb091e-93f4-41ab-bee1-bbd8f17d135b) - 1 spans\n",
            "2025-09-15 03:36:35 - noveum_trace.transport.batch_processor - INFO - ✅ Successfully queued trace 2deb091e-93f4-41ab-bee1-bbd8f17d135b\n",
            "2025-09-15 03:36:35 - noveum_trace.transport.http_transport - INFO - ✅ Trace 2deb091e-93f4-41ab-bee1-bbd8f17d135b successfully queued for export\n"
          ]
        },
        {
          "name": "stdout",
          "output_type": "stream",
          "text": [
            "2025-09-15 03:36:35 - INFO - google_genai.models - AFC is enabled with max remote calls: 10.\n",
            "2025-09-15 03:36:35 - ERROR - novaeval.models.base - Error: 429 RESOURCE_EXHAUSTED. {'error': {'code': 429, 'message': 'You exceeded your current quota, please check your plan and billing details. For more information on this error, head to: https://ai.google.dev/gemini-api/docs/rate-limits.', 'status': 'RESOURCE_EXHAUSTED', 'details': [{'@type': 'type.googleapis.com/google.rpc.QuotaFailure', 'violations': [{'quotaMetric': 'generativelanguage.googleapis.com/generate_content_free_tier_requests', 'quotaId': 'GenerateRequestsPerDayPerProjectPerModel-FreeTier', 'quotaDimensions': {'location': 'global', 'model': 'gemini-1.5-flash'}, 'quotaValue': '50'}]}, {'@type': 'type.googleapis.com/google.rpc.Help', 'links': [{'description': 'Learn more about Gemini API quotas', 'url': 'https://ai.google.dev/gemini-api/docs/rate-limits'}]}, {'@type': 'type.googleapis.com/google.rpc.RetryInfo', 'retryDelay': '24s'}]}}\n"
          ]
        },
        {
          "name": "stderr",
          "output_type": "stream",
          "text": [
            "2025-09-15 03:36:35 - noveum_trace.transport.http_transport - INFO - 📤 EXPORTING TRACE: auto_trace_generate (ID: 41f04c73-9bdc-4af0-8669-982be2602e10) - 1 spans\n",
            "2025-09-15 03:36:35 - noveum_trace.transport.batch_processor - INFO - 📥 ADDING TRACE TO QUEUE: auto_trace_generate (ID: 41f04c73-9bdc-4af0-8669-982be2602e10) - 1 spans\n",
            "2025-09-15 03:36:35 - noveum_trace.transport.batch_processor - INFO - ✅ Successfully queued trace 41f04c73-9bdc-4af0-8669-982be2602e10\n",
            "2025-09-15 03:36:35 - noveum_trace.transport.http_transport - INFO - ✅ Trace 41f04c73-9bdc-4af0-8669-982be2602e10 successfully queued for export\n"
          ]
        },
        {
          "name": "stdout",
          "output_type": "stream",
          "text": [
            "2025-09-15 03:36:35 - INFO - google_genai.models - AFC is enabled with max remote calls: 10.\n",
            "2025-09-15 03:36:36 - ERROR - novaeval.models.base - Error: 429 RESOURCE_EXHAUSTED. {'error': {'code': 429, 'message': 'You exceeded your current quota, please check your plan and billing details. For more information on this error, head to: https://ai.google.dev/gemini-api/docs/rate-limits.', 'status': 'RESOURCE_EXHAUSTED', 'details': [{'@type': 'type.googleapis.com/google.rpc.QuotaFailure', 'violations': [{'quotaMetric': 'generativelanguage.googleapis.com/generate_content_free_tier_requests', 'quotaId': 'GenerateRequestsPerDayPerProjectPerModel-FreeTier', 'quotaDimensions': {'model': 'gemini-1.5-flash', 'location': 'global'}, 'quotaValue': '50'}]}, {'@type': 'type.googleapis.com/google.rpc.Help', 'links': [{'description': 'Learn more about Gemini API quotas', 'url': 'https://ai.google.dev/gemini-api/docs/rate-limits'}]}, {'@type': 'type.googleapis.com/google.rpc.RetryInfo', 'retryDelay': '24s'}]}}\n"
          ]
        },
        {
          "name": "stderr",
          "output_type": "stream",
          "text": [
            "2025-09-15 03:36:36 - noveum_trace.transport.http_transport - INFO - 📤 EXPORTING TRACE: auto_trace_generate (ID: 90b42caa-4e9e-4c48-84dc-7d3b54702101) - 1 spans\n",
            "2025-09-15 03:36:36 - noveum_trace.transport.batch_processor - INFO - 📥 ADDING TRACE TO QUEUE: auto_trace_generate (ID: 90b42caa-4e9e-4c48-84dc-7d3b54702101) - 1 spans\n",
            "2025-09-15 03:36:36 - noveum_trace.transport.batch_processor - INFO - ✅ Successfully queued trace 90b42caa-4e9e-4c48-84dc-7d3b54702101\n",
            "2025-09-15 03:36:36 - noveum_trace.transport.http_transport - INFO - ✅ Trace 90b42caa-4e9e-4c48-84dc-7d3b54702101 successfully queued for export\n"
          ]
        },
        {
          "name": "stdout",
          "output_type": "stream",
          "text": [
            "2025-09-15 03:36:36 - INFO - novaeval.evaluators.agent_evaluator - Saving intermediate results after 31 samples\n",
            "2025-09-15 03:36:36 - INFO - novaeval.evaluators.agent_evaluator - Intermediate results saved to demo_results/sample_evaluation/agent_evaluation_results.csv\n"
          ]
        },
        {
          "name": "stderr",
          "output_type": "stream",
          "text": [
            "Evaluating samples: 31it [01:26,  1.95s/it]"
          ]
        },
        {
          "name": "stdout",
          "output_type": "stream",
          "text": [
            "2025-09-15 03:36:36 - INFO - google_genai.models - AFC is enabled with max remote calls: 10.\n",
            "2025-09-15 03:36:36 - ERROR - novaeval.models.base - Error: 429 RESOURCE_EXHAUSTED. {'error': {'code': 429, 'message': 'You exceeded your current quota, please check your plan and billing details. For more information on this error, head to: https://ai.google.dev/gemini-api/docs/rate-limits.', 'status': 'RESOURCE_EXHAUSTED', 'details': [{'@type': 'type.googleapis.com/google.rpc.QuotaFailure', 'violations': [{'quotaMetric': 'generativelanguage.googleapis.com/generate_content_free_tier_requests', 'quotaId': 'GenerateRequestsPerDayPerProjectPerModel-FreeTier', 'quotaDimensions': {'model': 'gemini-1.5-flash', 'location': 'global'}, 'quotaValue': '50'}]}, {'@type': 'type.googleapis.com/google.rpc.Help', 'links': [{'description': 'Learn more about Gemini API quotas', 'url': 'https://ai.google.dev/gemini-api/docs/rate-limits'}]}, {'@type': 'type.googleapis.com/google.rpc.RetryInfo', 'retryDelay': '23s'}]}}\n"
          ]
        },
        {
          "name": "stderr",
          "output_type": "stream",
          "text": [
            "2025-09-15 03:36:36 - noveum_trace.transport.http_transport - INFO - 📤 EXPORTING TRACE: auto_trace_generate (ID: 547a0bff-685e-48bc-85db-41592451292b) - 1 spans\n",
            "2025-09-15 03:36:36 - noveum_trace.transport.batch_processor - INFO - 📥 ADDING TRACE TO QUEUE: auto_trace_generate (ID: 547a0bff-685e-48bc-85db-41592451292b) - 1 spans\n",
            "2025-09-15 03:36:36 - noveum_trace.transport.batch_processor - INFO - ✅ Successfully queued trace 547a0bff-685e-48bc-85db-41592451292b\n",
            "2025-09-15 03:36:36 - noveum_trace.transport.http_transport - INFO - ✅ Trace 547a0bff-685e-48bc-85db-41592451292b successfully queued for export\n"
          ]
        },
        {
          "name": "stdout",
          "output_type": "stream",
          "text": [
            "2025-09-15 03:36:36 - INFO - google_genai.models - AFC is enabled with max remote calls: 10.\n",
            "2025-09-15 03:36:36 - ERROR - novaeval.models.base - Error: 429 RESOURCE_EXHAUSTED. {'error': {'code': 429, 'message': 'You exceeded your current quota, please check your plan and billing details. For more information on this error, head to: https://ai.google.dev/gemini-api/docs/rate-limits.', 'status': 'RESOURCE_EXHAUSTED', 'details': [{'@type': 'type.googleapis.com/google.rpc.QuotaFailure', 'violations': [{'quotaMetric': 'generativelanguage.googleapis.com/generate_content_free_tier_requests', 'quotaId': 'GenerateRequestsPerDayPerProjectPerModel-FreeTier', 'quotaDimensions': {'location': 'global', 'model': 'gemini-1.5-flash'}, 'quotaValue': '50'}]}, {'@type': 'type.googleapis.com/google.rpc.Help', 'links': [{'description': 'Learn more about Gemini API quotas', 'url': 'https://ai.google.dev/gemini-api/docs/rate-limits'}]}, {'@type': 'type.googleapis.com/google.rpc.RetryInfo', 'retryDelay': '23s'}]}}\n"
          ]
        },
        {
          "name": "stderr",
          "output_type": "stream",
          "text": [
            "2025-09-15 03:36:36 - noveum_trace.transport.http_transport - INFO - 📤 EXPORTING TRACE: auto_trace_generate (ID: 92c0dda8-05e3-4b88-9dce-16bfc2d87e6e) - 1 spans\n",
            "2025-09-15 03:36:36 - noveum_trace.transport.batch_processor - INFO - 📥 ADDING TRACE TO QUEUE: auto_trace_generate (ID: 92c0dda8-05e3-4b88-9dce-16bfc2d87e6e) - 1 spans\n",
            "2025-09-15 03:36:36 - noveum_trace.transport.batch_processor - INFO - ✅ Successfully queued trace 92c0dda8-05e3-4b88-9dce-16bfc2d87e6e\n",
            "2025-09-15 03:36:36 - noveum_trace.transport.http_transport - INFO - ✅ Trace 92c0dda8-05e3-4b88-9dce-16bfc2d87e6e successfully queued for export\n"
          ]
        },
        {
          "name": "stdout",
          "output_type": "stream",
          "text": [
            "2025-09-15 03:36:36 - INFO - google_genai.models - AFC is enabled with max remote calls: 10.\n",
            "2025-09-15 03:36:37 - ERROR - novaeval.models.base - Error: 429 RESOURCE_EXHAUSTED. {'error': {'code': 429, 'message': 'You exceeded your current quota, please check your plan and billing details. For more information on this error, head to: https://ai.google.dev/gemini-api/docs/rate-limits.', 'status': 'RESOURCE_EXHAUSTED', 'details': [{'@type': 'type.googleapis.com/google.rpc.QuotaFailure', 'violations': [{'quotaMetric': 'generativelanguage.googleapis.com/generate_content_free_tier_requests', 'quotaId': 'GenerateRequestsPerDayPerProjectPerModel-FreeTier', 'quotaDimensions': {'model': 'gemini-1.5-flash', 'location': 'global'}, 'quotaValue': '50'}]}, {'@type': 'type.googleapis.com/google.rpc.Help', 'links': [{'description': 'Learn more about Gemini API quotas', 'url': 'https://ai.google.dev/gemini-api/docs/rate-limits'}]}, {'@type': 'type.googleapis.com/google.rpc.RetryInfo', 'retryDelay': '23s'}]}}\n"
          ]
        },
        {
          "name": "stderr",
          "output_type": "stream",
          "text": [
            "2025-09-15 03:36:37 - noveum_trace.transport.http_transport - INFO - 📤 EXPORTING TRACE: auto_trace_generate (ID: 2f8bdf18-cbe9-4b2c-9f2b-31b36d768e4a) - 1 spans\n",
            "2025-09-15 03:36:37 - noveum_trace.transport.batch_processor - INFO - 📥 ADDING TRACE TO QUEUE: auto_trace_generate (ID: 2f8bdf18-cbe9-4b2c-9f2b-31b36d768e4a) - 1 spans\n",
            "2025-09-15 03:36:37 - noveum_trace.transport.batch_processor - INFO - ✅ Successfully queued trace 2f8bdf18-cbe9-4b2c-9f2b-31b36d768e4a\n",
            "2025-09-15 03:36:37 - noveum_trace.transport.http_transport - INFO - ✅ Trace 2f8bdf18-cbe9-4b2c-9f2b-31b36d768e4a successfully queued for export\n"
          ]
        },
        {
          "name": "stdout",
          "output_type": "stream",
          "text": [
            "2025-09-15 03:36:37 - INFO - novaeval.evaluators.agent_evaluator - Saving intermediate results after 32 samples\n",
            "2025-09-15 03:36:37 - INFO - novaeval.evaluators.agent_evaluator - Intermediate results saved to demo_results/sample_evaluation/agent_evaluation_results.csv\n"
          ]
        },
        {
          "name": "stderr",
          "output_type": "stream",
          "text": [
            "Evaluating samples: 32it [01:27,  1.70s/it]"
          ]
        },
        {
          "name": "stdout",
          "output_type": "stream",
          "text": [
            "2025-09-15 03:36:37 - INFO - google_genai.models - AFC is enabled with max remote calls: 10.\n",
            "2025-09-15 03:36:37 - ERROR - novaeval.models.base - Error: 429 RESOURCE_EXHAUSTED. {'error': {'code': 429, 'message': 'You exceeded your current quota, please check your plan and billing details. For more information on this error, head to: https://ai.google.dev/gemini-api/docs/rate-limits.', 'status': 'RESOURCE_EXHAUSTED', 'details': [{'@type': 'type.googleapis.com/google.rpc.QuotaFailure', 'violations': [{'quotaMetric': 'generativelanguage.googleapis.com/generate_content_free_tier_requests', 'quotaId': 'GenerateRequestsPerDayPerProjectPerModel-FreeTier', 'quotaDimensions': {'model': 'gemini-1.5-flash', 'location': 'global'}, 'quotaValue': '50'}]}, {'@type': 'type.googleapis.com/google.rpc.Help', 'links': [{'description': 'Learn more about Gemini API quotas', 'url': 'https://ai.google.dev/gemini-api/docs/rate-limits'}]}, {'@type': 'type.googleapis.com/google.rpc.RetryInfo', 'retryDelay': '22s'}]}}\n"
          ]
        },
        {
          "name": "stderr",
          "output_type": "stream",
          "text": [
            "2025-09-15 03:36:37 - noveum_trace.transport.http_transport - INFO - 📤 EXPORTING TRACE: auto_trace_generate (ID: 68c838be-0597-4c2d-b6d8-eb286eb653cc) - 1 spans\n",
            "2025-09-15 03:36:37 - noveum_trace.transport.batch_processor - INFO - 📥 ADDING TRACE TO QUEUE: auto_trace_generate (ID: 68c838be-0597-4c2d-b6d8-eb286eb653cc) - 1 spans\n",
            "2025-09-15 03:36:37 - noveum_trace.transport.batch_processor - INFO - ✅ Successfully queued trace 68c838be-0597-4c2d-b6d8-eb286eb653cc\n",
            "2025-09-15 03:36:37 - noveum_trace.transport.http_transport - INFO - ✅ Trace 68c838be-0597-4c2d-b6d8-eb286eb653cc successfully queued for export\n"
          ]
        },
        {
          "name": "stdout",
          "output_type": "stream",
          "text": [
            "2025-09-15 03:36:37 - INFO - google_genai.models - AFC is enabled with max remote calls: 10.\n",
            "2025-09-15 03:36:37 - ERROR - novaeval.models.base - Error: 429 RESOURCE_EXHAUSTED. {'error': {'code': 429, 'message': 'You exceeded your current quota, please check your plan and billing details. For more information on this error, head to: https://ai.google.dev/gemini-api/docs/rate-limits.', 'status': 'RESOURCE_EXHAUSTED', 'details': [{'@type': 'type.googleapis.com/google.rpc.QuotaFailure', 'violations': [{'quotaMetric': 'generativelanguage.googleapis.com/generate_content_free_tier_requests', 'quotaId': 'GenerateRequestsPerDayPerProjectPerModel-FreeTier', 'quotaDimensions': {'model': 'gemini-1.5-flash', 'location': 'global'}, 'quotaValue': '50'}]}, {'@type': 'type.googleapis.com/google.rpc.Help', 'links': [{'description': 'Learn more about Gemini API quotas', 'url': 'https://ai.google.dev/gemini-api/docs/rate-limits'}]}, {'@type': 'type.googleapis.com/google.rpc.RetryInfo', 'retryDelay': '22s'}]}}\n"
          ]
        },
        {
          "name": "stderr",
          "output_type": "stream",
          "text": [
            "2025-09-15 03:36:37 - noveum_trace.transport.http_transport - INFO - 📤 EXPORTING TRACE: auto_trace_generate (ID: 1985ae3f-0377-40bb-9a3c-4bbdda57357f) - 1 spans\n",
            "2025-09-15 03:36:37 - noveum_trace.transport.batch_processor - INFO - 📥 ADDING TRACE TO QUEUE: auto_trace_generate (ID: 1985ae3f-0377-40bb-9a3c-4bbdda57357f) - 1 spans\n",
            "2025-09-15 03:36:37 - noveum_trace.transport.batch_processor - INFO - ✅ Successfully queued trace 1985ae3f-0377-40bb-9a3c-4bbdda57357f\n",
            "2025-09-15 03:36:37 - noveum_trace.transport.http_transport - INFO - ✅ Trace 1985ae3f-0377-40bb-9a3c-4bbdda57357f successfully queued for export\n"
          ]
        },
        {
          "name": "stdout",
          "output_type": "stream",
          "text": [
            "2025-09-15 03:36:37 - INFO - google_genai.models - AFC is enabled with max remote calls: 10.\n",
            "2025-09-15 03:36:38 - ERROR - novaeval.models.base - Error: 429 RESOURCE_EXHAUSTED. {'error': {'code': 429, 'message': 'You exceeded your current quota, please check your plan and billing details. For more information on this error, head to: https://ai.google.dev/gemini-api/docs/rate-limits.', 'status': 'RESOURCE_EXHAUSTED', 'details': [{'@type': 'type.googleapis.com/google.rpc.QuotaFailure', 'violations': [{'quotaMetric': 'generativelanguage.googleapis.com/generate_content_free_tier_requests', 'quotaId': 'GenerateRequestsPerDayPerProjectPerModel-FreeTier', 'quotaDimensions': {'location': 'global', 'model': 'gemini-1.5-flash'}, 'quotaValue': '50'}]}, {'@type': 'type.googleapis.com/google.rpc.Help', 'links': [{'description': 'Learn more about Gemini API quotas', 'url': 'https://ai.google.dev/gemini-api/docs/rate-limits'}]}, {'@type': 'type.googleapis.com/google.rpc.RetryInfo', 'retryDelay': '21s'}]}}\n"
          ]
        },
        {
          "name": "stderr",
          "output_type": "stream",
          "text": [
            "2025-09-15 03:36:38 - noveum_trace.transport.http_transport - INFO - 📤 EXPORTING TRACE: auto_trace_generate (ID: b9193b32-e263-43a0-aaa1-e4f175ab327e) - 1 spans\n",
            "2025-09-15 03:36:38 - noveum_trace.transport.batch_processor - INFO - 📥 ADDING TRACE TO QUEUE: auto_trace_generate (ID: b9193b32-e263-43a0-aaa1-e4f175ab327e) - 1 spans\n",
            "2025-09-15 03:36:38 - noveum_trace.transport.batch_processor - INFO - ✅ Successfully queued trace b9193b32-e263-43a0-aaa1-e4f175ab327e\n",
            "2025-09-15 03:36:38 - noveum_trace.transport.http_transport - INFO - ✅ Trace b9193b32-e263-43a0-aaa1-e4f175ab327e successfully queued for export\n"
          ]
        },
        {
          "name": "stdout",
          "output_type": "stream",
          "text": [
            "2025-09-15 03:36:38 - INFO - novaeval.evaluators.agent_evaluator - Saving intermediate results after 33 samples\n",
            "2025-09-15 03:36:38 - INFO - novaeval.evaluators.agent_evaluator - Intermediate results saved to demo_results/sample_evaluation/agent_evaluation_results.csv\n"
          ]
        },
        {
          "name": "stderr",
          "output_type": "stream",
          "text": [
            "Evaluating samples: 33it [01:28,  1.49s/it]"
          ]
        },
        {
          "name": "stdout",
          "output_type": "stream",
          "text": [
            "2025-09-15 03:36:38 - INFO - google_genai.models - AFC is enabled with max remote calls: 10.\n",
            "2025-09-15 03:36:38 - ERROR - novaeval.models.base - Error: 429 RESOURCE_EXHAUSTED. {'error': {'code': 429, 'message': 'You exceeded your current quota, please check your plan and billing details. For more information on this error, head to: https://ai.google.dev/gemini-api/docs/rate-limits.', 'status': 'RESOURCE_EXHAUSTED', 'details': [{'@type': 'type.googleapis.com/google.rpc.QuotaFailure', 'violations': [{'quotaMetric': 'generativelanguage.googleapis.com/generate_content_free_tier_requests', 'quotaId': 'GenerateRequestsPerDayPerProjectPerModel-FreeTier', 'quotaDimensions': {'location': 'global', 'model': 'gemini-1.5-flash'}, 'quotaValue': '50'}]}, {'@type': 'type.googleapis.com/google.rpc.Help', 'links': [{'description': 'Learn more about Gemini API quotas', 'url': 'https://ai.google.dev/gemini-api/docs/rate-limits'}]}, {'@type': 'type.googleapis.com/google.rpc.RetryInfo', 'retryDelay': '21s'}]}}\n"
          ]
        },
        {
          "name": "stderr",
          "output_type": "stream",
          "text": [
            "2025-09-15 03:36:38 - noveum_trace.transport.http_transport - INFO - 📤 EXPORTING TRACE: auto_trace_generate (ID: aa7431bd-b79a-4c81-87e3-c9153329b294) - 1 spans\n",
            "2025-09-15 03:36:38 - noveum_trace.transport.batch_processor - INFO - 📥 ADDING TRACE TO QUEUE: auto_trace_generate (ID: aa7431bd-b79a-4c81-87e3-c9153329b294) - 1 spans\n",
            "2025-09-15 03:36:38 - noveum_trace.transport.batch_processor - INFO - ✅ Successfully queued trace aa7431bd-b79a-4c81-87e3-c9153329b294\n",
            "2025-09-15 03:36:38 - noveum_trace.transport.http_transport - INFO - ✅ Trace aa7431bd-b79a-4c81-87e3-c9153329b294 successfully queued for export\n"
          ]
        },
        {
          "name": "stdout",
          "output_type": "stream",
          "text": [
            "2025-09-15 03:36:38 - INFO - google_genai.models - AFC is enabled with max remote calls: 10.\n",
            "2025-09-15 03:36:38 - ERROR - novaeval.models.base - Error: 429 RESOURCE_EXHAUSTED. {'error': {'code': 429, 'message': 'You exceeded your current quota, please check your plan and billing details. For more information on this error, head to: https://ai.google.dev/gemini-api/docs/rate-limits.', 'status': 'RESOURCE_EXHAUSTED', 'details': [{'@type': 'type.googleapis.com/google.rpc.QuotaFailure', 'violations': [{'quotaMetric': 'generativelanguage.googleapis.com/generate_content_free_tier_requests', 'quotaId': 'GenerateRequestsPerDayPerProjectPerModel-FreeTier', 'quotaDimensions': {'location': 'global', 'model': 'gemini-1.5-flash'}, 'quotaValue': '50'}]}, {'@type': 'type.googleapis.com/google.rpc.Help', 'links': [{'description': 'Learn more about Gemini API quotas', 'url': 'https://ai.google.dev/gemini-api/docs/rate-limits'}]}, {'@type': 'type.googleapis.com/google.rpc.RetryInfo', 'retryDelay': '21s'}]}}\n"
          ]
        },
        {
          "name": "stderr",
          "output_type": "stream",
          "text": [
            "2025-09-15 03:36:38 - noveum_trace.transport.http_transport - INFO - 📤 EXPORTING TRACE: auto_trace_generate (ID: 888bdf1f-73dd-42e8-a897-023cf4b53893) - 1 spans\n",
            "2025-09-15 03:36:38 - noveum_trace.transport.batch_processor - INFO - 📥 ADDING TRACE TO QUEUE: auto_trace_generate (ID: 888bdf1f-73dd-42e8-a897-023cf4b53893) - 1 spans\n",
            "2025-09-15 03:36:38 - noveum_trace.transport.batch_processor - INFO - ✅ Successfully queued trace 888bdf1f-73dd-42e8-a897-023cf4b53893\n",
            "2025-09-15 03:36:38 - noveum_trace.transport.http_transport - INFO - ✅ Trace 888bdf1f-73dd-42e8-a897-023cf4b53893 successfully queued for export\n"
          ]
        },
        {
          "name": "stdout",
          "output_type": "stream",
          "text": [
            "2025-09-15 03:36:38 - INFO - google_genai.models - AFC is enabled with max remote calls: 10.\n",
            "2025-09-15 03:36:39 - ERROR - novaeval.models.base - Error: 429 RESOURCE_EXHAUSTED. {'error': {'code': 429, 'message': 'You exceeded your current quota, please check your plan and billing details. For more information on this error, head to: https://ai.google.dev/gemini-api/docs/rate-limits.', 'status': 'RESOURCE_EXHAUSTED', 'details': [{'@type': 'type.googleapis.com/google.rpc.QuotaFailure', 'violations': [{'quotaMetric': 'generativelanguage.googleapis.com/generate_content_free_tier_requests', 'quotaId': 'GenerateRequestsPerDayPerProjectPerModel-FreeTier', 'quotaDimensions': {'location': 'global', 'model': 'gemini-1.5-flash'}, 'quotaValue': '50'}]}, {'@type': 'type.googleapis.com/google.rpc.Help', 'links': [{'description': 'Learn more about Gemini API quotas', 'url': 'https://ai.google.dev/gemini-api/docs/rate-limits'}]}, {'@type': 'type.googleapis.com/google.rpc.RetryInfo', 'retryDelay': '20s'}]}}\n"
          ]
        },
        {
          "name": "stderr",
          "output_type": "stream",
          "text": [
            "2025-09-15 03:36:39 - noveum_trace.transport.http_transport - INFO - 📤 EXPORTING TRACE: auto_trace_generate (ID: ce816aae-94a2-4c10-9184-694c0eb1659b) - 1 spans\n",
            "2025-09-15 03:36:39 - noveum_trace.transport.batch_processor - INFO - 📥 ADDING TRACE TO QUEUE: auto_trace_generate (ID: ce816aae-94a2-4c10-9184-694c0eb1659b) - 1 spans\n",
            "2025-09-15 03:36:39 - noveum_trace.transport.batch_processor - INFO - ✅ Successfully queued trace ce816aae-94a2-4c10-9184-694c0eb1659b\n",
            "2025-09-15 03:36:39 - noveum_trace.transport.http_transport - INFO - ✅ Trace ce816aae-94a2-4c10-9184-694c0eb1659b successfully queued for export\n"
          ]
        },
        {
          "name": "stdout",
          "output_type": "stream",
          "text": [
            "2025-09-15 03:36:39 - INFO - novaeval.evaluators.agent_evaluator - Saving intermediate results after 34 samples\n",
            "2025-09-15 03:36:39 - INFO - novaeval.evaluators.agent_evaluator - Intermediate results saved to demo_results/sample_evaluation/agent_evaluation_results.csv\n"
          ]
        },
        {
          "name": "stderr",
          "output_type": "stream",
          "text": [
            "Evaluating samples: 34it [01:29,  1.35s/it]"
          ]
        },
        {
          "name": "stdout",
          "output_type": "stream",
          "text": [
            "2025-09-15 03:36:39 - INFO - google_genai.models - AFC is enabled with max remote calls: 10.\n",
            "2025-09-15 03:36:39 - ERROR - novaeval.models.base - Error: 429 RESOURCE_EXHAUSTED. {'error': {'code': 429, 'message': 'You exceeded your current quota, please check your plan and billing details. For more information on this error, head to: https://ai.google.dev/gemini-api/docs/rate-limits.', 'status': 'RESOURCE_EXHAUSTED', 'details': [{'@type': 'type.googleapis.com/google.rpc.QuotaFailure', 'violations': [{'quotaMetric': 'generativelanguage.googleapis.com/generate_content_free_tier_requests', 'quotaId': 'GenerateRequestsPerDayPerProjectPerModel-FreeTier', 'quotaDimensions': {'location': 'global', 'model': 'gemini-1.5-flash'}, 'quotaValue': '50'}]}, {'@type': 'type.googleapis.com/google.rpc.Help', 'links': [{'description': 'Learn more about Gemini API quotas', 'url': 'https://ai.google.dev/gemini-api/docs/rate-limits'}]}, {'@type': 'type.googleapis.com/google.rpc.RetryInfo', 'retryDelay': '20s'}]}}\n"
          ]
        },
        {
          "name": "stderr",
          "output_type": "stream",
          "text": [
            "2025-09-15 03:36:39 - noveum_trace.transport.http_transport - INFO - 📤 EXPORTING TRACE: auto_trace_generate (ID: d084f0ba-6a45-4ae3-96b9-2f166da897b2) - 1 spans\n",
            "2025-09-15 03:36:39 - noveum_trace.transport.batch_processor - INFO - 📥 ADDING TRACE TO QUEUE: auto_trace_generate (ID: d084f0ba-6a45-4ae3-96b9-2f166da897b2) - 1 spans\n",
            "2025-09-15 03:36:39 - noveum_trace.transport.batch_processor - INFO - ✅ Successfully queued trace d084f0ba-6a45-4ae3-96b9-2f166da897b2\n",
            "2025-09-15 03:36:39 - noveum_trace.transport.http_transport - INFO - ✅ Trace d084f0ba-6a45-4ae3-96b9-2f166da897b2 successfully queued for export\n"
          ]
        },
        {
          "name": "stdout",
          "output_type": "stream",
          "text": [
            "2025-09-15 03:36:39 - INFO - google_genai.models - AFC is enabled with max remote calls: 10.\n",
            "2025-09-15 03:36:39 - ERROR - novaeval.models.base - Error: 429 RESOURCE_EXHAUSTED. {'error': {'code': 429, 'message': 'You exceeded your current quota, please check your plan and billing details. For more information on this error, head to: https://ai.google.dev/gemini-api/docs/rate-limits.', 'status': 'RESOURCE_EXHAUSTED', 'details': [{'@type': 'type.googleapis.com/google.rpc.QuotaFailure', 'violations': [{'quotaMetric': 'generativelanguage.googleapis.com/generate_content_free_tier_requests', 'quotaId': 'GenerateRequestsPerDayPerProjectPerModel-FreeTier', 'quotaDimensions': {'location': 'global', 'model': 'gemini-1.5-flash'}, 'quotaValue': '50'}]}, {'@type': 'type.googleapis.com/google.rpc.Help', 'links': [{'description': 'Learn more about Gemini API quotas', 'url': 'https://ai.google.dev/gemini-api/docs/rate-limits'}]}, {'@type': 'type.googleapis.com/google.rpc.RetryInfo', 'retryDelay': '20s'}]}}\n"
          ]
        },
        {
          "name": "stderr",
          "output_type": "stream",
          "text": [
            "2025-09-15 03:36:39 - noveum_trace.transport.http_transport - INFO - 📤 EXPORTING TRACE: auto_trace_generate (ID: d6ad46b4-7580-4960-aef7-237e6128d19f) - 1 spans\n",
            "2025-09-15 03:36:39 - noveum_trace.transport.batch_processor - INFO - 📥 ADDING TRACE TO QUEUE: auto_trace_generate (ID: d6ad46b4-7580-4960-aef7-237e6128d19f) - 1 spans\n",
            "2025-09-15 03:36:39 - noveum_trace.transport.batch_processor - INFO - ✅ Successfully queued trace d6ad46b4-7580-4960-aef7-237e6128d19f\n",
            "2025-09-15 03:36:39 - noveum_trace.transport.http_transport - INFO - ✅ Trace d6ad46b4-7580-4960-aef7-237e6128d19f successfully queued for export\n"
          ]
        },
        {
          "name": "stdout",
          "output_type": "stream",
          "text": [
            "2025-09-15 03:36:39 - INFO - google_genai.models - AFC is enabled with max remote calls: 10.\n",
            "2025-09-15 03:36:40 - ERROR - novaeval.models.base - Error: 429 RESOURCE_EXHAUSTED. {'error': {'code': 429, 'message': 'You exceeded your current quota, please check your plan and billing details. For more information on this error, head to: https://ai.google.dev/gemini-api/docs/rate-limits.', 'status': 'RESOURCE_EXHAUSTED', 'details': [{'@type': 'type.googleapis.com/google.rpc.QuotaFailure', 'violations': [{'quotaMetric': 'generativelanguage.googleapis.com/generate_content_free_tier_requests', 'quotaId': 'GenerateRequestsPerDayPerProjectPerModel-FreeTier', 'quotaDimensions': {'location': 'global', 'model': 'gemini-1.5-flash'}, 'quotaValue': '50'}]}, {'@type': 'type.googleapis.com/google.rpc.Help', 'links': [{'description': 'Learn more about Gemini API quotas', 'url': 'https://ai.google.dev/gemini-api/docs/rate-limits'}]}, {'@type': 'type.googleapis.com/google.rpc.RetryInfo', 'retryDelay': '19s'}]}}\n"
          ]
        },
        {
          "name": "stderr",
          "output_type": "stream",
          "text": [
            "2025-09-15 03:36:40 - noveum_trace.transport.http_transport - INFO - 📤 EXPORTING TRACE: auto_trace_generate (ID: 17d4b66e-db85-4a50-a0b1-9d6901a021e8) - 1 spans\n",
            "2025-09-15 03:36:40 - noveum_trace.transport.batch_processor - INFO - 📥 ADDING TRACE TO QUEUE: auto_trace_generate (ID: 17d4b66e-db85-4a50-a0b1-9d6901a021e8) - 1 spans\n",
            "2025-09-15 03:36:40 - noveum_trace.transport.batch_processor - INFO - ✅ Successfully queued trace 17d4b66e-db85-4a50-a0b1-9d6901a021e8\n",
            "2025-09-15 03:36:40 - noveum_trace.transport.http_transport - INFO - ✅ Trace 17d4b66e-db85-4a50-a0b1-9d6901a021e8 successfully queued for export\n"
          ]
        },
        {
          "name": "stdout",
          "output_type": "stream",
          "text": [
            "2025-09-15 03:36:40 - INFO - google_genai.models - AFC is enabled with max remote calls: 10.\n",
            "2025-09-15 03:36:40 - ERROR - novaeval.models.base - Error: 429 RESOURCE_EXHAUSTED. {'error': {'code': 429, 'message': 'You exceeded your current quota, please check your plan and billing details. For more information on this error, head to: https://ai.google.dev/gemini-api/docs/rate-limits.', 'status': 'RESOURCE_EXHAUSTED', 'details': [{'@type': 'type.googleapis.com/google.rpc.QuotaFailure', 'violations': [{'quotaMetric': 'generativelanguage.googleapis.com/generate_content_free_tier_requests', 'quotaId': 'GenerateRequestsPerDayPerProjectPerModel-FreeTier', 'quotaDimensions': {'location': 'global', 'model': 'gemini-1.5-flash'}, 'quotaValue': '50'}]}, {'@type': 'type.googleapis.com/google.rpc.Help', 'links': [{'description': 'Learn more about Gemini API quotas', 'url': 'https://ai.google.dev/gemini-api/docs/rate-limits'}]}, {'@type': 'type.googleapis.com/google.rpc.RetryInfo', 'retryDelay': '19s'}]}}\n"
          ]
        },
        {
          "name": "stderr",
          "output_type": "stream",
          "text": [
            "2025-09-15 03:36:40 - noveum_trace.transport.http_transport - INFO - 📤 EXPORTING TRACE: auto_trace_generate (ID: 9c22e348-aa39-41e6-9be1-a47ffb242e94) - 1 spans\n",
            "2025-09-15 03:36:40 - noveum_trace.transport.batch_processor - INFO - 📥 ADDING TRACE TO QUEUE: auto_trace_generate (ID: 9c22e348-aa39-41e6-9be1-a47ffb242e94) - 1 spans\n",
            "2025-09-15 03:36:40 - noveum_trace.transport.batch_processor - INFO - ✅ Successfully queued trace 9c22e348-aa39-41e6-9be1-a47ffb242e94\n",
            "2025-09-15 03:36:40 - noveum_trace.transport.http_transport - INFO - ✅ Trace 9c22e348-aa39-41e6-9be1-a47ffb242e94 successfully queued for export\n"
          ]
        },
        {
          "name": "stdout",
          "output_type": "stream",
          "text": [
            "2025-09-15 03:36:40 - INFO - google_genai.models - AFC is enabled with max remote calls: 10.\n",
            "2025-09-15 03:36:40 - ERROR - novaeval.models.base - Error: 429 RESOURCE_EXHAUSTED. {'error': {'code': 429, 'message': 'You exceeded your current quota, please check your plan and billing details. For more information on this error, head to: https://ai.google.dev/gemini-api/docs/rate-limits.', 'status': 'RESOURCE_EXHAUSTED', 'details': [{'@type': 'type.googleapis.com/google.rpc.QuotaFailure', 'violations': [{'quotaMetric': 'generativelanguage.googleapis.com/generate_content_free_tier_requests', 'quotaId': 'GenerateRequestsPerDayPerProjectPerModel-FreeTier', 'quotaDimensions': {'model': 'gemini-1.5-flash', 'location': 'global'}, 'quotaValue': '50'}]}, {'@type': 'type.googleapis.com/google.rpc.Help', 'links': [{'description': 'Learn more about Gemini API quotas', 'url': 'https://ai.google.dev/gemini-api/docs/rate-limits'}]}, {'@type': 'type.googleapis.com/google.rpc.RetryInfo', 'retryDelay': '19s'}]}}\n"
          ]
        },
        {
          "name": "stderr",
          "output_type": "stream",
          "text": [
            "2025-09-15 03:36:40 - noveum_trace.transport.http_transport - INFO - 📤 EXPORTING TRACE: auto_trace_generate (ID: 6bbdd7ad-3d79-467d-9753-368147daddfe) - 1 spans\n",
            "2025-09-15 03:36:40 - noveum_trace.transport.batch_processor - INFO - 📥 ADDING TRACE TO QUEUE: auto_trace_generate (ID: 6bbdd7ad-3d79-467d-9753-368147daddfe) - 1 spans\n",
            "2025-09-15 03:36:40 - noveum_trace.transport.batch_processor - INFO - ✅ Successfully queued trace 6bbdd7ad-3d79-467d-9753-368147daddfe\n",
            "2025-09-15 03:36:40 - noveum_trace.transport.http_transport - INFO - ✅ Trace 6bbdd7ad-3d79-467d-9753-368147daddfe successfully queued for export\n"
          ]
        },
        {
          "name": "stdout",
          "output_type": "stream",
          "text": [
            "2025-09-15 03:36:40 - INFO - novaeval.evaluators.agent_evaluator - Saving intermediate results after 35 samples\n",
            "2025-09-15 03:36:40 - INFO - novaeval.evaluators.agent_evaluator - Intermediate results saved to demo_results/sample_evaluation/agent_evaluation_results.csv\n"
          ]
        },
        {
          "name": "stderr",
          "output_type": "stream",
          "text": [
            "Evaluating samples: 35it [01:31,  1.44s/it]"
          ]
        },
        {
          "name": "stdout",
          "output_type": "stream",
          "text": [
            "2025-09-15 03:36:40 - INFO - google_genai.models - AFC is enabled with max remote calls: 10.\n",
            "2025-09-15 03:36:41 - ERROR - novaeval.models.base - Error: 429 RESOURCE_EXHAUSTED. {'error': {'code': 429, 'message': 'You exceeded your current quota, please check your plan and billing details. For more information on this error, head to: https://ai.google.dev/gemini-api/docs/rate-limits.', 'status': 'RESOURCE_EXHAUSTED', 'details': [{'@type': 'type.googleapis.com/google.rpc.QuotaFailure', 'violations': [{'quotaMetric': 'generativelanguage.googleapis.com/generate_content_free_tier_requests', 'quotaId': 'GenerateRequestsPerDayPerProjectPerModel-FreeTier', 'quotaDimensions': {'location': 'global', 'model': 'gemini-1.5-flash'}, 'quotaValue': '50'}]}, {'@type': 'type.googleapis.com/google.rpc.Help', 'links': [{'description': 'Learn more about Gemini API quotas', 'url': 'https://ai.google.dev/gemini-api/docs/rate-limits'}]}, {'@type': 'type.googleapis.com/google.rpc.RetryInfo', 'retryDelay': '18s'}]}}\n"
          ]
        },
        {
          "name": "stderr",
          "output_type": "stream",
          "text": [
            "2025-09-15 03:36:41 - noveum_trace.transport.http_transport - INFO - 📤 EXPORTING TRACE: auto_trace_generate (ID: 79af4b8f-964f-4e13-bd47-13065ba819ad) - 1 spans\n",
            "2025-09-15 03:36:41 - noveum_trace.transport.batch_processor - INFO - 📥 ADDING TRACE TO QUEUE: auto_trace_generate (ID: 79af4b8f-964f-4e13-bd47-13065ba819ad) - 1 spans\n",
            "2025-09-15 03:36:41 - noveum_trace.transport.batch_processor - INFO - ✅ Successfully queued trace 79af4b8f-964f-4e13-bd47-13065ba819ad\n",
            "2025-09-15 03:36:41 - noveum_trace.transport.http_transport - INFO - ✅ Trace 79af4b8f-964f-4e13-bd47-13065ba819ad successfully queued for export\n"
          ]
        },
        {
          "name": "stdout",
          "output_type": "stream",
          "text": [
            "2025-09-15 03:36:41 - INFO - google_genai.models - AFC is enabled with max remote calls: 10.\n",
            "2025-09-15 03:36:41 - ERROR - novaeval.models.base - Error: 429 RESOURCE_EXHAUSTED. {'error': {'code': 429, 'message': 'You exceeded your current quota, please check your plan and billing details. For more information on this error, head to: https://ai.google.dev/gemini-api/docs/rate-limits.', 'status': 'RESOURCE_EXHAUSTED', 'details': [{'@type': 'type.googleapis.com/google.rpc.QuotaFailure', 'violations': [{'quotaMetric': 'generativelanguage.googleapis.com/generate_content_free_tier_requests', 'quotaId': 'GenerateRequestsPerDayPerProjectPerModel-FreeTier', 'quotaDimensions': {'location': 'global', 'model': 'gemini-1.5-flash'}, 'quotaValue': '50'}]}, {'@type': 'type.googleapis.com/google.rpc.Help', 'links': [{'description': 'Learn more about Gemini API quotas', 'url': 'https://ai.google.dev/gemini-api/docs/rate-limits'}]}, {'@type': 'type.googleapis.com/google.rpc.RetryInfo', 'retryDelay': '18s'}]}}\n"
          ]
        },
        {
          "name": "stderr",
          "output_type": "stream",
          "text": [
            "2025-09-15 03:36:41 - noveum_trace.transport.http_transport - INFO - 📤 EXPORTING TRACE: auto_trace_generate (ID: c1b6545e-49e7-459b-b298-b4a51187d665) - 1 spans\n",
            "2025-09-15 03:36:41 - noveum_trace.transport.batch_processor - INFO - 📥 ADDING TRACE TO QUEUE: auto_trace_generate (ID: c1b6545e-49e7-459b-b298-b4a51187d665) - 1 spans\n",
            "2025-09-15 03:36:41 - noveum_trace.transport.batch_processor - INFO - ✅ Successfully queued trace c1b6545e-49e7-459b-b298-b4a51187d665\n",
            "2025-09-15 03:36:41 - noveum_trace.transport.http_transport - INFO - ✅ Trace c1b6545e-49e7-459b-b298-b4a51187d665 successfully queued for export\n"
          ]
        },
        {
          "name": "stdout",
          "output_type": "stream",
          "text": [
            "2025-09-15 03:36:41 - INFO - google_genai.models - AFC is enabled with max remote calls: 10.\n",
            "2025-09-15 03:36:41 - ERROR - novaeval.models.base - Error: 429 RESOURCE_EXHAUSTED. {'error': {'code': 429, 'message': 'You exceeded your current quota, please check your plan and billing details. For more information on this error, head to: https://ai.google.dev/gemini-api/docs/rate-limits.', 'status': 'RESOURCE_EXHAUSTED', 'details': [{'@type': 'type.googleapis.com/google.rpc.QuotaFailure', 'violations': [{'quotaMetric': 'generativelanguage.googleapis.com/generate_content_free_tier_requests', 'quotaId': 'GenerateRequestsPerDayPerProjectPerModel-FreeTier', 'quotaDimensions': {'location': 'global', 'model': 'gemini-1.5-flash'}, 'quotaValue': '50'}]}, {'@type': 'type.googleapis.com/google.rpc.Help', 'links': [{'description': 'Learn more about Gemini API quotas', 'url': 'https://ai.google.dev/gemini-api/docs/rate-limits'}]}, {'@type': 'type.googleapis.com/google.rpc.RetryInfo', 'retryDelay': '18s'}]}}\n"
          ]
        },
        {
          "name": "stderr",
          "output_type": "stream",
          "text": [
            "2025-09-15 03:36:41 - noveum_trace.transport.http_transport - INFO - 📤 EXPORTING TRACE: auto_trace_generate (ID: a2c23518-e606-467c-abe7-0437535cc172) - 1 spans\n",
            "2025-09-15 03:36:41 - noveum_trace.transport.batch_processor - INFO - 📥 ADDING TRACE TO QUEUE: auto_trace_generate (ID: a2c23518-e606-467c-abe7-0437535cc172) - 1 spans\n",
            "2025-09-15 03:36:41 - noveum_trace.transport.batch_processor - INFO - ✅ Successfully queued trace a2c23518-e606-467c-abe7-0437535cc172\n",
            "2025-09-15 03:36:41 - noveum_trace.transport.http_transport - INFO - ✅ Trace a2c23518-e606-467c-abe7-0437535cc172 successfully queued for export\n"
          ]
        },
        {
          "name": "stdout",
          "output_type": "stream",
          "text": [
            "2025-09-15 03:36:41 - INFO - novaeval.evaluators.agent_evaluator - Saving intermediate results after 36 samples\n",
            "2025-09-15 03:36:41 - INFO - novaeval.evaluators.agent_evaluator - Intermediate results saved to demo_results/sample_evaluation/agent_evaluation_results.csv\n"
          ]
        },
        {
          "name": "stderr",
          "output_type": "stream",
          "text": [
            "Evaluating samples: 36it [01:32,  1.34s/it]"
          ]
        },
        {
          "name": "stdout",
          "output_type": "stream",
          "text": [
            "2025-09-15 03:36:41 - INFO - google_genai.models - AFC is enabled with max remote calls: 10.\n",
            "2025-09-15 03:36:42 - ERROR - novaeval.models.base - Error: 429 RESOURCE_EXHAUSTED. {'error': {'code': 429, 'message': 'You exceeded your current quota, please check your plan and billing details. For more information on this error, head to: https://ai.google.dev/gemini-api/docs/rate-limits.', 'status': 'RESOURCE_EXHAUSTED', 'details': [{'@type': 'type.googleapis.com/google.rpc.QuotaFailure', 'violations': [{'quotaMetric': 'generativelanguage.googleapis.com/generate_content_free_tier_requests', 'quotaId': 'GenerateRequestsPerDayPerProjectPerModel-FreeTier', 'quotaDimensions': {'location': 'global', 'model': 'gemini-1.5-flash'}, 'quotaValue': '50'}]}, {'@type': 'type.googleapis.com/google.rpc.Help', 'links': [{'description': 'Learn more about Gemini API quotas', 'url': 'https://ai.google.dev/gemini-api/docs/rate-limits'}]}, {'@type': 'type.googleapis.com/google.rpc.RetryInfo', 'retryDelay': '17s'}]}}\n"
          ]
        },
        {
          "name": "stderr",
          "output_type": "stream",
          "text": [
            "2025-09-15 03:36:42 - noveum_trace.transport.http_transport - INFO - 📤 EXPORTING TRACE: auto_trace_generate (ID: d0c2e74c-cae3-45b8-beb8-f7fbd90be814) - 1 spans\n",
            "2025-09-15 03:36:42 - noveum_trace.transport.batch_processor - INFO - 📥 ADDING TRACE TO QUEUE: auto_trace_generate (ID: d0c2e74c-cae3-45b8-beb8-f7fbd90be814) - 1 spans\n",
            "2025-09-15 03:36:42 - noveum_trace.transport.batch_processor - INFO - ✅ Successfully queued trace d0c2e74c-cae3-45b8-beb8-f7fbd90be814\n",
            "2025-09-15 03:36:42 - noveum_trace.transport.http_transport - INFO - ✅ Trace d0c2e74c-cae3-45b8-beb8-f7fbd90be814 successfully queued for export\n"
          ]
        },
        {
          "name": "stdout",
          "output_type": "stream",
          "text": [
            "2025-09-15 03:36:42 - INFO - google_genai.models - AFC is enabled with max remote calls: 10.\n",
            "2025-09-15 03:36:42 - ERROR - novaeval.models.base - Error: 429 RESOURCE_EXHAUSTED. {'error': {'code': 429, 'message': 'You exceeded your current quota, please check your plan and billing details. For more information on this error, head to: https://ai.google.dev/gemini-api/docs/rate-limits.', 'status': 'RESOURCE_EXHAUSTED', 'details': [{'@type': 'type.googleapis.com/google.rpc.QuotaFailure', 'violations': [{'quotaMetric': 'generativelanguage.googleapis.com/generate_content_free_tier_requests', 'quotaId': 'GenerateRequestsPerDayPerProjectPerModel-FreeTier', 'quotaDimensions': {'location': 'global', 'model': 'gemini-1.5-flash'}, 'quotaValue': '50'}]}, {'@type': 'type.googleapis.com/google.rpc.Help', 'links': [{'description': 'Learn more about Gemini API quotas', 'url': 'https://ai.google.dev/gemini-api/docs/rate-limits'}]}, {'@type': 'type.googleapis.com/google.rpc.RetryInfo', 'retryDelay': '17s'}]}}\n"
          ]
        },
        {
          "name": "stderr",
          "output_type": "stream",
          "text": [
            "2025-09-15 03:36:42 - noveum_trace.transport.http_transport - INFO - 📤 EXPORTING TRACE: auto_trace_generate (ID: 41563e2f-61a5-4d84-92c7-e31c719ddf34) - 1 spans\n",
            "2025-09-15 03:36:42 - noveum_trace.transport.batch_processor - INFO - 📥 ADDING TRACE TO QUEUE: auto_trace_generate (ID: 41563e2f-61a5-4d84-92c7-e31c719ddf34) - 1 spans\n",
            "2025-09-15 03:36:42 - noveum_trace.transport.batch_processor - INFO - ✅ Successfully queued trace 41563e2f-61a5-4d84-92c7-e31c719ddf34\n",
            "2025-09-15 03:36:42 - noveum_trace.transport.http_transport - INFO - ✅ Trace 41563e2f-61a5-4d84-92c7-e31c719ddf34 successfully queued for export\n"
          ]
        },
        {
          "name": "stdout",
          "output_type": "stream",
          "text": [
            "2025-09-15 03:36:42 - INFO - google_genai.models - AFC is enabled with max remote calls: 10.\n",
            "2025-09-15 03:36:43 - ERROR - novaeval.models.base - Error: 429 RESOURCE_EXHAUSTED. {'error': {'code': 429, 'message': 'You exceeded your current quota, please check your plan and billing details. For more information on this error, head to: https://ai.google.dev/gemini-api/docs/rate-limits.', 'status': 'RESOURCE_EXHAUSTED', 'details': [{'@type': 'type.googleapis.com/google.rpc.QuotaFailure', 'violations': [{'quotaMetric': 'generativelanguage.googleapis.com/generate_content_free_tier_requests', 'quotaId': 'GenerateRequestsPerDayPerProjectPerModel-FreeTier', 'quotaDimensions': {'model': 'gemini-1.5-flash', 'location': 'global'}, 'quotaValue': '50'}]}, {'@type': 'type.googleapis.com/google.rpc.Help', 'links': [{'description': 'Learn more about Gemini API quotas', 'url': 'https://ai.google.dev/gemini-api/docs/rate-limits'}]}, {'@type': 'type.googleapis.com/google.rpc.RetryInfo', 'retryDelay': '17s'}]}}\n"
          ]
        },
        {
          "name": "stderr",
          "output_type": "stream",
          "text": [
            "2025-09-15 03:36:43 - noveum_trace.transport.http_transport - INFO - 📤 EXPORTING TRACE: auto_trace_generate (ID: 3fec4b98-73c0-4e81-9c56-e9c5954a2964) - 1 spans\n",
            "2025-09-15 03:36:43 - noveum_trace.transport.batch_processor - INFO - 📥 ADDING TRACE TO QUEUE: auto_trace_generate (ID: 3fec4b98-73c0-4e81-9c56-e9c5954a2964) - 1 spans\n",
            "2025-09-15 03:36:43 - noveum_trace.transport.batch_processor - INFO - ✅ Successfully queued trace 3fec4b98-73c0-4e81-9c56-e9c5954a2964\n",
            "2025-09-15 03:36:43 - noveum_trace.transport.http_transport - INFO - ✅ Trace 3fec4b98-73c0-4e81-9c56-e9c5954a2964 successfully queued for export\n"
          ]
        },
        {
          "name": "stdout",
          "output_type": "stream",
          "text": [
            "2025-09-15 03:36:43 - INFO - novaeval.evaluators.agent_evaluator - Saving intermediate results after 37 samples\n",
            "2025-09-15 03:36:43 - INFO - novaeval.evaluators.agent_evaluator - Intermediate results saved to demo_results/sample_evaluation/agent_evaluation_results.csv\n"
          ]
        },
        {
          "name": "stderr",
          "output_type": "stream",
          "text": [
            "Evaluating samples: 37it [01:33,  1.28s/it]"
          ]
        },
        {
          "name": "stdout",
          "output_type": "stream",
          "text": [
            "2025-09-15 03:36:43 - INFO - google_genai.models - AFC is enabled with max remote calls: 10.\n",
            "2025-09-15 03:36:43 - ERROR - novaeval.models.base - Error: 429 RESOURCE_EXHAUSTED. {'error': {'code': 429, 'message': 'You exceeded your current quota, please check your plan and billing details. For more information on this error, head to: https://ai.google.dev/gemini-api/docs/rate-limits.', 'status': 'RESOURCE_EXHAUSTED', 'details': [{'@type': 'type.googleapis.com/google.rpc.QuotaFailure', 'violations': [{'quotaMetric': 'generativelanguage.googleapis.com/generate_content_free_tier_requests', 'quotaId': 'GenerateRequestsPerDayPerProjectPerModel-FreeTier', 'quotaDimensions': {'location': 'global', 'model': 'gemini-1.5-flash'}, 'quotaValue': '50'}]}, {'@type': 'type.googleapis.com/google.rpc.Help', 'links': [{'description': 'Learn more about Gemini API quotas', 'url': 'https://ai.google.dev/gemini-api/docs/rate-limits'}]}, {'@type': 'type.googleapis.com/google.rpc.RetryInfo', 'retryDelay': '16s'}]}}\n"
          ]
        },
        {
          "name": "stderr",
          "output_type": "stream",
          "text": [
            "2025-09-15 03:36:43 - noveum_trace.transport.http_transport - INFO - 📤 EXPORTING TRACE: auto_trace_generate (ID: 58c6fab0-0b1a-4fcb-8c4d-64afd9119193) - 1 spans\n",
            "2025-09-15 03:36:43 - noveum_trace.transport.batch_processor - INFO - 📥 ADDING TRACE TO QUEUE: auto_trace_generate (ID: 58c6fab0-0b1a-4fcb-8c4d-64afd9119193) - 1 spans\n",
            "2025-09-15 03:36:43 - noveum_trace.transport.batch_processor - INFO - ✅ Successfully queued trace 58c6fab0-0b1a-4fcb-8c4d-64afd9119193\n",
            "2025-09-15 03:36:43 - noveum_trace.transport.http_transport - INFO - ✅ Trace 58c6fab0-0b1a-4fcb-8c4d-64afd9119193 successfully queued for export\n"
          ]
        },
        {
          "name": "stdout",
          "output_type": "stream",
          "text": [
            "2025-09-15 03:36:43 - INFO - google_genai.models - AFC is enabled with max remote calls: 10.\n",
            "2025-09-15 03:36:43 - ERROR - novaeval.models.base - Error: 429 RESOURCE_EXHAUSTED. {'error': {'code': 429, 'message': 'You exceeded your current quota, please check your plan and billing details. For more information on this error, head to: https://ai.google.dev/gemini-api/docs/rate-limits.', 'status': 'RESOURCE_EXHAUSTED', 'details': [{'@type': 'type.googleapis.com/google.rpc.QuotaFailure', 'violations': [{'quotaMetric': 'generativelanguage.googleapis.com/generate_content_free_tier_requests', 'quotaId': 'GenerateRequestsPerDayPerProjectPerModel-FreeTier', 'quotaDimensions': {'model': 'gemini-1.5-flash', 'location': 'global'}, 'quotaValue': '50'}]}, {'@type': 'type.googleapis.com/google.rpc.Help', 'links': [{'description': 'Learn more about Gemini API quotas', 'url': 'https://ai.google.dev/gemini-api/docs/rate-limits'}]}, {'@type': 'type.googleapis.com/google.rpc.RetryInfo', 'retryDelay': '16s'}]}}\n"
          ]
        },
        {
          "name": "stderr",
          "output_type": "stream",
          "text": [
            "2025-09-15 03:36:43 - noveum_trace.transport.http_transport - INFO - 📤 EXPORTING TRACE: auto_trace_generate (ID: 5b3523d0-d467-4bc2-be68-3e1cd4732fe1) - 1 spans\n",
            "2025-09-15 03:36:43 - noveum_trace.transport.batch_processor - INFO - 📥 ADDING TRACE TO QUEUE: auto_trace_generate (ID: 5b3523d0-d467-4bc2-be68-3e1cd4732fe1) - 1 spans\n",
            "2025-09-15 03:36:43 - noveum_trace.transport.batch_processor - INFO - ✅ Successfully queued trace 5b3523d0-d467-4bc2-be68-3e1cd4732fe1\n",
            "2025-09-15 03:36:43 - noveum_trace.transport.http_transport - INFO - ✅ Trace 5b3523d0-d467-4bc2-be68-3e1cd4732fe1 successfully queued for export\n"
          ]
        },
        {
          "name": "stdout",
          "output_type": "stream",
          "text": [
            "2025-09-15 03:36:43 - INFO - google_genai.models - AFC is enabled with max remote calls: 10.\n",
            "2025-09-15 03:36:44 - ERROR - novaeval.models.base - Error: 429 RESOURCE_EXHAUSTED. {'error': {'code': 429, 'message': 'You exceeded your current quota, please check your plan and billing details. For more information on this error, head to: https://ai.google.dev/gemini-api/docs/rate-limits.', 'status': 'RESOURCE_EXHAUSTED', 'details': [{'@type': 'type.googleapis.com/google.rpc.QuotaFailure', 'violations': [{'quotaMetric': 'generativelanguage.googleapis.com/generate_content_free_tier_requests', 'quotaId': 'GenerateRequestsPerDayPerProjectPerModel-FreeTier', 'quotaDimensions': {'model': 'gemini-1.5-flash', 'location': 'global'}, 'quotaValue': '50'}]}, {'@type': 'type.googleapis.com/google.rpc.Help', 'links': [{'description': 'Learn more about Gemini API quotas', 'url': 'https://ai.google.dev/gemini-api/docs/rate-limits'}]}, {'@type': 'type.googleapis.com/google.rpc.RetryInfo', 'retryDelay': '15s'}]}}\n"
          ]
        },
        {
          "name": "stderr",
          "output_type": "stream",
          "text": [
            "2025-09-15 03:36:44 - noveum_trace.transport.http_transport - INFO - 📤 EXPORTING TRACE: auto_trace_generate (ID: efdca302-3404-46b1-9bee-cbc9b2d11805) - 1 spans\n",
            "2025-09-15 03:36:44 - noveum_trace.transport.batch_processor - INFO - 📥 ADDING TRACE TO QUEUE: auto_trace_generate (ID: efdca302-3404-46b1-9bee-cbc9b2d11805) - 1 spans\n",
            "2025-09-15 03:36:44 - noveum_trace.transport.batch_processor - INFO - ✅ Successfully queued trace efdca302-3404-46b1-9bee-cbc9b2d11805\n",
            "2025-09-15 03:36:44 - noveum_trace.transport.http_transport - INFO - ✅ Trace efdca302-3404-46b1-9bee-cbc9b2d11805 successfully queued for export\n"
          ]
        },
        {
          "name": "stdout",
          "output_type": "stream",
          "text": [
            "2025-09-15 03:36:44 - INFO - novaeval.evaluators.agent_evaluator - Saving intermediate results after 38 samples\n",
            "2025-09-15 03:36:44 - INFO - novaeval.evaluators.agent_evaluator - Intermediate results saved to demo_results/sample_evaluation/agent_evaluation_results.csv\n"
          ]
        },
        {
          "name": "stderr",
          "output_type": "stream",
          "text": [
            "Evaluating samples: 38it [01:34,  1.23s/it]"
          ]
        },
        {
          "name": "stdout",
          "output_type": "stream",
          "text": [
            "2025-09-15 03:36:44 - INFO - google_genai.models - AFC is enabled with max remote calls: 10.\n",
            "2025-09-15 03:36:44 - ERROR - novaeval.models.base - Error: 429 RESOURCE_EXHAUSTED. {'error': {'code': 429, 'message': 'You exceeded your current quota, please check your plan and billing details. For more information on this error, head to: https://ai.google.dev/gemini-api/docs/rate-limits.', 'status': 'RESOURCE_EXHAUSTED', 'details': [{'@type': 'type.googleapis.com/google.rpc.QuotaFailure', 'violations': [{'quotaMetric': 'generativelanguage.googleapis.com/generate_content_free_tier_requests', 'quotaId': 'GenerateRequestsPerDayPerProjectPerModel-FreeTier', 'quotaDimensions': {'model': 'gemini-1.5-flash', 'location': 'global'}, 'quotaValue': '50'}]}, {'@type': 'type.googleapis.com/google.rpc.Help', 'links': [{'description': 'Learn more about Gemini API quotas', 'url': 'https://ai.google.dev/gemini-api/docs/rate-limits'}]}, {'@type': 'type.googleapis.com/google.rpc.RetryInfo', 'retryDelay': '15s'}]}}\n"
          ]
        },
        {
          "name": "stderr",
          "output_type": "stream",
          "text": [
            "2025-09-15 03:36:44 - noveum_trace.transport.http_transport - INFO - 📤 EXPORTING TRACE: auto_trace_generate (ID: f13a0892-b7b6-4dbf-9387-6619b2a3e0f4) - 1 spans\n",
            "2025-09-15 03:36:44 - noveum_trace.transport.batch_processor - INFO - 📥 ADDING TRACE TO QUEUE: auto_trace_generate (ID: f13a0892-b7b6-4dbf-9387-6619b2a3e0f4) - 1 spans\n",
            "2025-09-15 03:36:44 - noveum_trace.transport.batch_processor - INFO - ✅ Successfully queued trace f13a0892-b7b6-4dbf-9387-6619b2a3e0f4\n",
            "2025-09-15 03:36:44 - noveum_trace.transport.http_transport - INFO - ✅ Trace f13a0892-b7b6-4dbf-9387-6619b2a3e0f4 successfully queued for export\n"
          ]
        },
        {
          "name": "stdout",
          "output_type": "stream",
          "text": [
            "2025-09-15 03:36:44 - INFO - google_genai.models - AFC is enabled with max remote calls: 10.\n",
            "2025-09-15 03:36:44 - ERROR - novaeval.models.base - Error: 429 RESOURCE_EXHAUSTED. {'error': {'code': 429, 'message': 'You exceeded your current quota, please check your plan and billing details. For more information on this error, head to: https://ai.google.dev/gemini-api/docs/rate-limits.', 'status': 'RESOURCE_EXHAUSTED', 'details': [{'@type': 'type.googleapis.com/google.rpc.QuotaFailure', 'violations': [{'quotaMetric': 'generativelanguage.googleapis.com/generate_content_free_tier_requests', 'quotaId': 'GenerateRequestsPerDayPerProjectPerModel-FreeTier', 'quotaDimensions': {'location': 'global', 'model': 'gemini-1.5-flash'}, 'quotaValue': '50'}]}, {'@type': 'type.googleapis.com/google.rpc.Help', 'links': [{'description': 'Learn more about Gemini API quotas', 'url': 'https://ai.google.dev/gemini-api/docs/rate-limits'}]}, {'@type': 'type.googleapis.com/google.rpc.RetryInfo', 'retryDelay': '15s'}]}}\n"
          ]
        },
        {
          "name": "stderr",
          "output_type": "stream",
          "text": [
            "2025-09-15 03:36:44 - noveum_trace.transport.http_transport - INFO - 📤 EXPORTING TRACE: auto_trace_generate (ID: 5637a32a-1ab3-4ff0-9407-e707f171f0df) - 1 spans\n",
            "2025-09-15 03:36:44 - noveum_trace.transport.batch_processor - INFO - 📥 ADDING TRACE TO QUEUE: auto_trace_generate (ID: 5637a32a-1ab3-4ff0-9407-e707f171f0df) - 1 spans\n",
            "2025-09-15 03:36:44 - noveum_trace.transport.batch_processor - INFO - ✅ Successfully queued trace 5637a32a-1ab3-4ff0-9407-e707f171f0df\n",
            "2025-09-15 03:36:44 - noveum_trace.transport.http_transport - INFO - ✅ Trace 5637a32a-1ab3-4ff0-9407-e707f171f0df successfully queued for export\n"
          ]
        },
        {
          "name": "stdout",
          "output_type": "stream",
          "text": [
            "2025-09-15 03:36:44 - INFO - google_genai.models - AFC is enabled with max remote calls: 10.\n",
            "2025-09-15 03:36:45 - ERROR - novaeval.models.base - Error: 429 RESOURCE_EXHAUSTED. {'error': {'code': 429, 'message': 'You exceeded your current quota, please check your plan and billing details. For more information on this error, head to: https://ai.google.dev/gemini-api/docs/rate-limits.', 'status': 'RESOURCE_EXHAUSTED', 'details': [{'@type': 'type.googleapis.com/google.rpc.QuotaFailure', 'violations': [{'quotaMetric': 'generativelanguage.googleapis.com/generate_content_free_tier_requests', 'quotaId': 'GenerateRequestsPerDayPerProjectPerModel-FreeTier', 'quotaDimensions': {'model': 'gemini-1.5-flash', 'location': 'global'}, 'quotaValue': '50'}]}, {'@type': 'type.googleapis.com/google.rpc.Help', 'links': [{'description': 'Learn more about Gemini API quotas', 'url': 'https://ai.google.dev/gemini-api/docs/rate-limits'}]}, {'@type': 'type.googleapis.com/google.rpc.RetryInfo', 'retryDelay': '14s'}]}}\n"
          ]
        },
        {
          "name": "stderr",
          "output_type": "stream",
          "text": [
            "2025-09-15 03:36:45 - noveum_trace.transport.http_transport - INFO - 📤 EXPORTING TRACE: auto_trace_generate (ID: 8f290de9-166e-4cee-8e43-b9ebd4d233f2) - 1 spans\n",
            "2025-09-15 03:36:45 - noveum_trace.transport.batch_processor - INFO - 📥 ADDING TRACE TO QUEUE: auto_trace_generate (ID: 8f290de9-166e-4cee-8e43-b9ebd4d233f2) - 1 spans\n",
            "2025-09-15 03:36:45 - noveum_trace.transport.batch_processor - INFO - ✅ Successfully queued trace 8f290de9-166e-4cee-8e43-b9ebd4d233f2\n",
            "2025-09-15 03:36:45 - noveum_trace.transport.http_transport - INFO - ✅ Trace 8f290de9-166e-4cee-8e43-b9ebd4d233f2 successfully queued for export\n"
          ]
        },
        {
          "name": "stdout",
          "output_type": "stream",
          "text": [
            "2025-09-15 03:36:45 - INFO - novaeval.evaluators.agent_evaluator - Saving intermediate results after 39 samples\n",
            "2025-09-15 03:36:45 - INFO - novaeval.evaluators.agent_evaluator - Intermediate results saved to demo_results/sample_evaluation/agent_evaluation_results.csv\n"
          ]
        },
        {
          "name": "stderr",
          "output_type": "stream",
          "text": [
            "Evaluating samples: 39it [01:35,  1.15s/it]"
          ]
        },
        {
          "name": "stdout",
          "output_type": "stream",
          "text": [
            "2025-09-15 03:36:45 - INFO - google_genai.models - AFC is enabled with max remote calls: 10.\n",
            "2025-09-15 03:36:45 - ERROR - novaeval.models.base - Error: 429 RESOURCE_EXHAUSTED. {'error': {'code': 429, 'message': 'You exceeded your current quota, please check your plan and billing details. For more information on this error, head to: https://ai.google.dev/gemini-api/docs/rate-limits.', 'status': 'RESOURCE_EXHAUSTED', 'details': [{'@type': 'type.googleapis.com/google.rpc.QuotaFailure', 'violations': [{'quotaMetric': 'generativelanguage.googleapis.com/generate_content_free_tier_requests', 'quotaId': 'GenerateRequestsPerDayPerProjectPerModel-FreeTier', 'quotaDimensions': {'location': 'global', 'model': 'gemini-1.5-flash'}, 'quotaValue': '50'}]}, {'@type': 'type.googleapis.com/google.rpc.Help', 'links': [{'description': 'Learn more about Gemini API quotas', 'url': 'https://ai.google.dev/gemini-api/docs/rate-limits'}]}, {'@type': 'type.googleapis.com/google.rpc.RetryInfo', 'retryDelay': '14s'}]}}\n"
          ]
        },
        {
          "name": "stderr",
          "output_type": "stream",
          "text": [
            "2025-09-15 03:36:45 - noveum_trace.transport.http_transport - INFO - 📤 EXPORTING TRACE: auto_trace_generate (ID: 12f49d68-ad23-422c-99da-41da1400e16a) - 1 spans\n",
            "2025-09-15 03:36:45 - noveum_trace.transport.batch_processor - INFO - 📥 ADDING TRACE TO QUEUE: auto_trace_generate (ID: 12f49d68-ad23-422c-99da-41da1400e16a) - 1 spans\n",
            "2025-09-15 03:36:45 - noveum_trace.transport.batch_processor - INFO - ✅ Successfully queued trace 12f49d68-ad23-422c-99da-41da1400e16a\n",
            "2025-09-15 03:36:45 - noveum_trace.transport.http_transport - INFO - ✅ Trace 12f49d68-ad23-422c-99da-41da1400e16a successfully queued for export\n"
          ]
        },
        {
          "name": "stdout",
          "output_type": "stream",
          "text": [
            "2025-09-15 03:36:45 - INFO - google_genai.models - AFC is enabled with max remote calls: 10.\n",
            "2025-09-15 03:36:45 - ERROR - novaeval.models.base - Error: 429 RESOURCE_EXHAUSTED. {'error': {'code': 429, 'message': 'You exceeded your current quota, please check your plan and billing details. For more information on this error, head to: https://ai.google.dev/gemini-api/docs/rate-limits.', 'status': 'RESOURCE_EXHAUSTED', 'details': [{'@type': 'type.googleapis.com/google.rpc.QuotaFailure', 'violations': [{'quotaMetric': 'generativelanguage.googleapis.com/generate_content_free_tier_requests', 'quotaId': 'GenerateRequestsPerDayPerProjectPerModel-FreeTier', 'quotaDimensions': {'model': 'gemini-1.5-flash', 'location': 'global'}, 'quotaValue': '50'}]}, {'@type': 'type.googleapis.com/google.rpc.Help', 'links': [{'description': 'Learn more about Gemini API quotas', 'url': 'https://ai.google.dev/gemini-api/docs/rate-limits'}]}, {'@type': 'type.googleapis.com/google.rpc.RetryInfo', 'retryDelay': '14s'}]}}\n"
          ]
        },
        {
          "name": "stderr",
          "output_type": "stream",
          "text": [
            "2025-09-15 03:36:45 - noveum_trace.transport.http_transport - INFO - 📤 EXPORTING TRACE: auto_trace_generate (ID: 24abc123-1a98-48aa-a981-671172215ea1) - 1 spans\n",
            "2025-09-15 03:36:45 - noveum_trace.transport.batch_processor - INFO - 📥 ADDING TRACE TO QUEUE: auto_trace_generate (ID: 24abc123-1a98-48aa-a981-671172215ea1) - 1 spans\n",
            "2025-09-15 03:36:45 - noveum_trace.transport.batch_processor - INFO - ✅ Successfully queued trace 24abc123-1a98-48aa-a981-671172215ea1\n",
            "2025-09-15 03:36:45 - noveum_trace.transport.http_transport - INFO - ✅ Trace 24abc123-1a98-48aa-a981-671172215ea1 successfully queued for export\n"
          ]
        },
        {
          "name": "stdout",
          "output_type": "stream",
          "text": [
            "2025-09-15 03:36:45 - INFO - google_genai.models - AFC is enabled with max remote calls: 10.\n",
            "2025-09-15 03:36:46 - ERROR - novaeval.models.base - Error: 429 RESOURCE_EXHAUSTED. {'error': {'code': 429, 'message': 'You exceeded your current quota, please check your plan and billing details. For more information on this error, head to: https://ai.google.dev/gemini-api/docs/rate-limits.', 'status': 'RESOURCE_EXHAUSTED', 'details': [{'@type': 'type.googleapis.com/google.rpc.QuotaFailure', 'violations': [{'quotaMetric': 'generativelanguage.googleapis.com/generate_content_free_tier_requests', 'quotaId': 'GenerateRequestsPerDayPerProjectPerModel-FreeTier', 'quotaDimensions': {'location': 'global', 'model': 'gemini-1.5-flash'}, 'quotaValue': '50'}]}, {'@type': 'type.googleapis.com/google.rpc.Help', 'links': [{'description': 'Learn more about Gemini API quotas', 'url': 'https://ai.google.dev/gemini-api/docs/rate-limits'}]}, {'@type': 'type.googleapis.com/google.rpc.RetryInfo', 'retryDelay': '14s'}]}}\n"
          ]
        },
        {
          "name": "stderr",
          "output_type": "stream",
          "text": [
            "2025-09-15 03:36:46 - noveum_trace.transport.http_transport - INFO - 📤 EXPORTING TRACE: auto_trace_generate (ID: 3f3bc102-eb7d-4ded-8660-119ed3de0976) - 1 spans\n",
            "2025-09-15 03:36:46 - noveum_trace.transport.batch_processor - INFO - 📥 ADDING TRACE TO QUEUE: auto_trace_generate (ID: 3f3bc102-eb7d-4ded-8660-119ed3de0976) - 1 spans\n",
            "2025-09-15 03:36:46 - noveum_trace.transport.batch_processor - INFO - ✅ Successfully queued trace 3f3bc102-eb7d-4ded-8660-119ed3de0976\n",
            "2025-09-15 03:36:46 - noveum_trace.transport.http_transport - INFO - ✅ Trace 3f3bc102-eb7d-4ded-8660-119ed3de0976 successfully queued for export\n"
          ]
        },
        {
          "name": "stdout",
          "output_type": "stream",
          "text": [
            "2025-09-15 03:36:46 - INFO - google_genai.models - AFC is enabled with max remote calls: 10.\n",
            "2025-09-15 03:36:46 - ERROR - novaeval.models.base - Error: 429 RESOURCE_EXHAUSTED. {'error': {'code': 429, 'message': 'You exceeded your current quota, please check your plan and billing details. For more information on this error, head to: https://ai.google.dev/gemini-api/docs/rate-limits.', 'status': 'RESOURCE_EXHAUSTED', 'details': [{'@type': 'type.googleapis.com/google.rpc.QuotaFailure', 'violations': [{'quotaMetric': 'generativelanguage.googleapis.com/generate_content_free_tier_requests', 'quotaId': 'GenerateRequestsPerDayPerProjectPerModel-FreeTier', 'quotaDimensions': {'model': 'gemini-1.5-flash', 'location': 'global'}, 'quotaValue': '50'}]}, {'@type': 'type.googleapis.com/google.rpc.Help', 'links': [{'description': 'Learn more about Gemini API quotas', 'url': 'https://ai.google.dev/gemini-api/docs/rate-limits'}]}, {'@type': 'type.googleapis.com/google.rpc.RetryInfo', 'retryDelay': '13s'}]}}\n"
          ]
        },
        {
          "name": "stderr",
          "output_type": "stream",
          "text": [
            "2025-09-15 03:36:46 - noveum_trace.transport.http_transport - INFO - 📤 EXPORTING TRACE: auto_trace_generate (ID: 2c578798-7332-4b94-87ba-a4d2ff80e077) - 1 spans\n",
            "2025-09-15 03:36:46 - noveum_trace.transport.batch_processor - INFO - 📥 ADDING TRACE TO QUEUE: auto_trace_generate (ID: 2c578798-7332-4b94-87ba-a4d2ff80e077) - 1 spans\n",
            "2025-09-15 03:36:46 - noveum_trace.transport.batch_processor - INFO - ✅ Successfully queued trace 2c578798-7332-4b94-87ba-a4d2ff80e077\n",
            "2025-09-15 03:36:46 - noveum_trace.transport.http_transport - INFO - ✅ Trace 2c578798-7332-4b94-87ba-a4d2ff80e077 successfully queued for export\n"
          ]
        },
        {
          "name": "stdout",
          "output_type": "stream",
          "text": [
            "2025-09-15 03:36:46 - INFO - google_genai.models - AFC is enabled with max remote calls: 10.\n",
            "2025-09-15 03:36:46 - ERROR - novaeval.models.base - Error: 429 RESOURCE_EXHAUSTED. {'error': {'code': 429, 'message': 'You exceeded your current quota, please check your plan and billing details. For more information on this error, head to: https://ai.google.dev/gemini-api/docs/rate-limits.', 'status': 'RESOURCE_EXHAUSTED', 'details': [{'@type': 'type.googleapis.com/google.rpc.QuotaFailure', 'violations': [{'quotaMetric': 'generativelanguage.googleapis.com/generate_content_free_tier_requests', 'quotaId': 'GenerateRequestsPerDayPerProjectPerModel-FreeTier', 'quotaDimensions': {'location': 'global', 'model': 'gemini-1.5-flash'}, 'quotaValue': '50'}]}, {'@type': 'type.googleapis.com/google.rpc.Help', 'links': [{'description': 'Learn more about Gemini API quotas', 'url': 'https://ai.google.dev/gemini-api/docs/rate-limits'}]}, {'@type': 'type.googleapis.com/google.rpc.RetryInfo', 'retryDelay': '13s'}]}}\n"
          ]
        },
        {
          "name": "stderr",
          "output_type": "stream",
          "text": [
            "2025-09-15 03:36:46 - noveum_trace.transport.http_transport - INFO - 📤 EXPORTING TRACE: auto_trace_generate (ID: 1190f88c-814a-4a1a-9699-591cafe3fdff) - 1 spans\n",
            "2025-09-15 03:36:46 - noveum_trace.transport.batch_processor - INFO - 📥 ADDING TRACE TO QUEUE: auto_trace_generate (ID: 1190f88c-814a-4a1a-9699-591cafe3fdff) - 1 spans\n",
            "2025-09-15 03:36:46 - noveum_trace.transport.batch_processor - INFO - ✅ Successfully queued trace 1190f88c-814a-4a1a-9699-591cafe3fdff\n",
            "2025-09-15 03:36:46 - noveum_trace.transport.http_transport - INFO - ✅ Trace 1190f88c-814a-4a1a-9699-591cafe3fdff successfully queued for export\n"
          ]
        },
        {
          "name": "stdout",
          "output_type": "stream",
          "text": [
            "2025-09-15 03:36:46 - INFO - novaeval.evaluators.agent_evaluator - Saving intermediate results after 40 samples\n",
            "2025-09-15 03:36:46 - INFO - novaeval.evaluators.agent_evaluator - Intermediate results saved to demo_results/sample_evaluation/agent_evaluation_results.csv\n"
          ]
        },
        {
          "name": "stderr",
          "output_type": "stream",
          "text": [
            "Evaluating samples: 40it [01:37,  1.26s/it]"
          ]
        },
        {
          "name": "stdout",
          "output_type": "stream",
          "text": [
            "2025-09-15 03:36:46 - INFO - google_genai.models - AFC is enabled with max remote calls: 10.\n",
            "2025-09-15 03:36:47 - ERROR - novaeval.models.base - Error: 429 RESOURCE_EXHAUSTED. {'error': {'code': 429, 'message': 'You exceeded your current quota, please check your plan and billing details. For more information on this error, head to: https://ai.google.dev/gemini-api/docs/rate-limits.', 'status': 'RESOURCE_EXHAUSTED', 'details': [{'@type': 'type.googleapis.com/google.rpc.QuotaFailure', 'violations': [{'quotaMetric': 'generativelanguage.googleapis.com/generate_content_free_tier_requests', 'quotaId': 'GenerateRequestsPerDayPerProjectPerModel-FreeTier', 'quotaDimensions': {'location': 'global', 'model': 'gemini-1.5-flash'}, 'quotaValue': '50'}]}, {'@type': 'type.googleapis.com/google.rpc.Help', 'links': [{'description': 'Learn more about Gemini API quotas', 'url': 'https://ai.google.dev/gemini-api/docs/rate-limits'}]}, {'@type': 'type.googleapis.com/google.rpc.RetryInfo', 'retryDelay': '13s'}]}}\n"
          ]
        },
        {
          "name": "stderr",
          "output_type": "stream",
          "text": [
            "2025-09-15 03:36:47 - noveum_trace.transport.http_transport - INFO - 📤 EXPORTING TRACE: auto_trace_generate (ID: 4c1e6669-bf40-4ab0-b3d2-4696b3f4cfed) - 1 spans\n",
            "2025-09-15 03:36:47 - noveum_trace.transport.batch_processor - INFO - 📥 ADDING TRACE TO QUEUE: auto_trace_generate (ID: 4c1e6669-bf40-4ab0-b3d2-4696b3f4cfed) - 1 spans\n",
            "2025-09-15 03:36:47 - noveum_trace.transport.batch_processor - INFO - ✅ Successfully queued trace 4c1e6669-bf40-4ab0-b3d2-4696b3f4cfed\n",
            "2025-09-15 03:36:47 - noveum_trace.transport.http_transport - INFO - ✅ Trace 4c1e6669-bf40-4ab0-b3d2-4696b3f4cfed successfully queued for export\n"
          ]
        },
        {
          "name": "stdout",
          "output_type": "stream",
          "text": [
            "2025-09-15 03:36:47 - INFO - google_genai.models - AFC is enabled with max remote calls: 10.\n",
            "2025-09-15 03:36:47 - ERROR - novaeval.models.base - Error: 429 RESOURCE_EXHAUSTED. {'error': {'code': 429, 'message': 'You exceeded your current quota, please check your plan and billing details. For more information on this error, head to: https://ai.google.dev/gemini-api/docs/rate-limits.', 'status': 'RESOURCE_EXHAUSTED', 'details': [{'@type': 'type.googleapis.com/google.rpc.QuotaFailure', 'violations': [{'quotaMetric': 'generativelanguage.googleapis.com/generate_content_free_tier_requests', 'quotaId': 'GenerateRequestsPerDayPerProjectPerModel-FreeTier', 'quotaDimensions': {'model': 'gemini-1.5-flash', 'location': 'global'}, 'quotaValue': '50'}]}, {'@type': 'type.googleapis.com/google.rpc.Help', 'links': [{'description': 'Learn more about Gemini API quotas', 'url': 'https://ai.google.dev/gemini-api/docs/rate-limits'}]}, {'@type': 'type.googleapis.com/google.rpc.RetryInfo', 'retryDelay': '12s'}]}}\n"
          ]
        },
        {
          "name": "stderr",
          "output_type": "stream",
          "text": [
            "2025-09-15 03:36:47 - noveum_trace.transport.http_transport - INFO - 📤 EXPORTING TRACE: auto_trace_generate (ID: 2f473849-0290-4290-81bb-55d0c23bec28) - 1 spans\n",
            "2025-09-15 03:36:47 - noveum_trace.transport.batch_processor - INFO - 📥 ADDING TRACE TO QUEUE: auto_trace_generate (ID: 2f473849-0290-4290-81bb-55d0c23bec28) - 1 spans\n",
            "2025-09-15 03:36:47 - noveum_trace.transport.batch_processor - INFO - ✅ Successfully queued trace 2f473849-0290-4290-81bb-55d0c23bec28\n",
            "2025-09-15 03:36:47 - noveum_trace.transport.http_transport - INFO - ✅ Trace 2f473849-0290-4290-81bb-55d0c23bec28 successfully queued for export\n"
          ]
        },
        {
          "name": "stdout",
          "output_type": "stream",
          "text": [
            "2025-09-15 03:36:47 - INFO - google_genai.models - AFC is enabled with max remote calls: 10.\n",
            "2025-09-15 03:36:47 - ERROR - novaeval.models.base - Error: 429 RESOURCE_EXHAUSTED. {'error': {'code': 429, 'message': 'You exceeded your current quota, please check your plan and billing details. For more information on this error, head to: https://ai.google.dev/gemini-api/docs/rate-limits.', 'status': 'RESOURCE_EXHAUSTED', 'details': [{'@type': 'type.googleapis.com/google.rpc.QuotaFailure', 'violations': [{'quotaMetric': 'generativelanguage.googleapis.com/generate_content_free_tier_requests', 'quotaId': 'GenerateRequestsPerDayPerProjectPerModel-FreeTier', 'quotaDimensions': {'location': 'global', 'model': 'gemini-1.5-flash'}, 'quotaValue': '50'}]}, {'@type': 'type.googleapis.com/google.rpc.Help', 'links': [{'description': 'Learn more about Gemini API quotas', 'url': 'https://ai.google.dev/gemini-api/docs/rate-limits'}]}, {'@type': 'type.googleapis.com/google.rpc.RetryInfo', 'retryDelay': '12s'}]}}\n"
          ]
        },
        {
          "name": "stderr",
          "output_type": "stream",
          "text": [
            "2025-09-15 03:36:47 - noveum_trace.transport.http_transport - INFO - 📤 EXPORTING TRACE: auto_trace_generate (ID: cd83be90-2578-40b8-a234-e4bbd6e752c5) - 1 spans\n",
            "2025-09-15 03:36:47 - noveum_trace.transport.batch_processor - INFO - 📥 ADDING TRACE TO QUEUE: auto_trace_generate (ID: cd83be90-2578-40b8-a234-e4bbd6e752c5) - 1 spans\n",
            "2025-09-15 03:36:47 - noveum_trace.transport.batch_processor - INFO - ✅ Successfully queued trace cd83be90-2578-40b8-a234-e4bbd6e752c5\n",
            "2025-09-15 03:36:47 - noveum_trace.transport.http_transport - INFO - ✅ Trace cd83be90-2578-40b8-a234-e4bbd6e752c5 successfully queued for export\n"
          ]
        },
        {
          "name": "stdout",
          "output_type": "stream",
          "text": [
            "2025-09-15 03:36:47 - INFO - novaeval.evaluators.agent_evaluator - Saving intermediate results after 41 samples\n",
            "2025-09-15 03:36:47 - INFO - novaeval.evaluators.agent_evaluator - Intermediate results saved to demo_results/sample_evaluation/agent_evaluation_results.csv\n"
          ]
        },
        {
          "name": "stderr",
          "output_type": "stream",
          "text": [
            "Evaluating samples: 41it [01:38,  2.40s/it]"
          ]
        },
        {
          "name": "stdout",
          "output_type": "stream",
          "text": [
            "2025-09-15 03:36:47 - INFO - novaeval.evaluators.agent_evaluator - Saving final results\n",
            "2025-09-15 03:36:47 - INFO - novaeval.evaluators.agent_evaluator - Reloaded 41 results from CSV\n",
            "2025-09-15 03:36:47 - INFO - novaeval.evaluators.agent_evaluator - Agent evaluation completed\n",
            "\n",
            "✅ Evaluation completed!\n",
            "\n",
            "📊 Results Summary:\n",
            "  - task_progression: 1.09\n",
            "  - context_relevancy: 1.15\n",
            "  - role_adherence: 1.00\n",
            "  - tool_relevancy: 0.22\n",
            "  - parameter_correctness: 0.22\n",
            "\n",
            "🔍 Individual Scores:\n",
            "\n",
            "  Record 1 (Task: 4675c7f8-e284-4c0c-bff4-2f901c2ecbe3):\n",
            "    - task_progression: 4.5\n",
            "    - context_relevancy: 1.0\n",
            "    - role_adherence: 1.0\n",
            "    - tool_relevancy: 1.0\n",
            "    - parameter_correctness: 1.0\n",
            "\n",
            "  Record 2 (Task: 4675c7f8-e284-4c0c-bff4-2f901c2ecbe3):\n",
            "    - task_progression: 1.0\n",
            "    - context_relevancy: 7.2\n",
            "    - role_adherence: 1.0\n",
            "    - tool_relevancy: 0.0\n",
            "    - parameter_correctness: 0.0\n",
            "\n",
            "  Record 3 (Task: 4675c7f8-e284-4c0c-bff4-2f901c2ecbe3):\n",
            "    - task_progression: 1.0\n",
            "    - context_relevancy: 1.0\n",
            "    - role_adherence: 1.0\n",
            "    - tool_relevancy: 0.0\n",
            "    - parameter_correctness: 0.0\n",
            "\n",
            "  Record 4 (Task: 4675c7f8-e284-4c0c-bff4-2f901c2ecbe3):\n",
            "    - task_progression: 1.0\n",
            "    - context_relevancy: 1.0\n",
            "    - role_adherence: 1.0\n",
            "    - tool_relevancy: 0.0\n",
            "    - parameter_correctness: 0.0\n",
            "\n",
            "  Record 5 (Task: ffa0e79c-5d3a-412e-826e-70c440443f45):\n",
            "    - task_progression: 1.0\n",
            "    - context_relevancy: 1.0\n",
            "    - role_adherence: 1.0\n",
            "    - tool_relevancy: 0.0\n",
            "    - parameter_correctness: 0.0\n",
            "\n",
            "  Record 6 (Task: ffa0e79c-5d3a-412e-826e-70c440443f45):\n",
            "    - task_progression: 1.0\n",
            "    - context_relevancy: 1.0\n",
            "    - role_adherence: 1.0\n",
            "    - tool_relevancy: 0.0\n",
            "    - parameter_correctness: 0.0\n",
            "\n",
            "  Record 7 (Task: 8adfdd3d-5b26-4e6b-ab9a-58a814adb6bd):\n",
            "    - task_progression: 1.0\n",
            "    - context_relevancy: 1.0\n",
            "    - role_adherence: 1.0\n",
            "    - tool_relevancy: 1.0\n",
            "    - parameter_correctness: 1.0\n",
            "\n",
            "  Record 8 (Task: 8adfdd3d-5b26-4e6b-ab9a-58a814adb6bd):\n",
            "    - task_progression: 1.0\n",
            "    - context_relevancy: 1.0\n",
            "    - role_adherence: 1.0\n",
            "    - tool_relevancy: 0.0\n",
            "    - parameter_correctness: 0.0\n",
            "\n",
            "  Record 9 (Task: 8adfdd3d-5b26-4e6b-ab9a-58a814adb6bd):\n",
            "    - task_progression: 1.0\n",
            "    - context_relevancy: 1.0\n",
            "    - role_adherence: 1.0\n",
            "    - tool_relevancy: 0.0\n",
            "    - parameter_correctness: 0.0\n",
            "\n",
            "  Record 10 (Task: 8adfdd3d-5b26-4e6b-ab9a-58a814adb6bd):\n",
            "    - task_progression: 1.0\n",
            "    - context_relevancy: 1.0\n",
            "    - role_adherence: 1.0\n",
            "    - tool_relevancy: 0.0\n",
            "    - parameter_correctness: 0.0\n",
            "\n",
            "  Record 11 (Task: 8adfdd3d-5b26-4e6b-ab9a-58a814adb6bd):\n",
            "    - task_progression: 1.0\n",
            "    - context_relevancy: 1.0\n",
            "    - role_adherence: 1.0\n",
            "    - tool_relevancy: 0.0\n",
            "    - parameter_correctness: 0.0\n",
            "\n",
            "  Record 12 (Task: 8adfdd3d-5b26-4e6b-ab9a-58a814adb6bd):\n",
            "    - task_progression: 1.0\n",
            "    - context_relevancy: 1.0\n",
            "    - role_adherence: 1.0\n",
            "    - tool_relevancy: 0.0\n",
            "    - parameter_correctness: 0.0\n",
            "\n",
            "  Record 13 (Task: 8adfdd3d-5b26-4e6b-ab9a-58a814adb6bd):\n",
            "    - task_progression: 1.0\n",
            "    - context_relevancy: 1.0\n",
            "    - role_adherence: 1.0\n",
            "    - tool_relevancy: 0.0\n",
            "    - parameter_correctness: 0.0\n",
            "\n",
            "  Record 14 (Task: 1d84ac89-66de-419a-a4fb-b993fc2e8641):\n",
            "    - task_progression: 1.0\n",
            "    - context_relevancy: 1.0\n",
            "    - role_adherence: 1.0\n",
            "    - tool_relevancy: 1.0\n",
            "    - parameter_correctness: 1.0\n",
            "\n",
            "  Record 15 (Task: 1d84ac89-66de-419a-a4fb-b993fc2e8641):\n",
            "    - task_progression: 1.0\n",
            "    - context_relevancy: 1.0\n",
            "    - role_adherence: 1.0\n",
            "    - tool_relevancy: 0.0\n",
            "    - parameter_correctness: 0.0\n",
            "\n",
            "  Record 16 (Task: 1d84ac89-66de-419a-a4fb-b993fc2e8641):\n",
            "    - task_progression: 1.0\n",
            "    - context_relevancy: 1.0\n",
            "    - role_adherence: 1.0\n",
            "    - tool_relevancy: 0.0\n",
            "    - parameter_correctness: 0.0\n",
            "\n",
            "  Record 17 (Task: 3c979615-7192-45db-a576-101526cec842):\n",
            "    - task_progression: 1.0\n",
            "    - context_relevancy: 1.0\n",
            "    - role_adherence: 1.0\n",
            "    - tool_relevancy: 1.0\n",
            "    - parameter_correctness: 1.0\n",
            "\n",
            "  Record 18 (Task: 3c979615-7192-45db-a576-101526cec842):\n",
            "    - task_progression: 1.0\n",
            "    - context_relevancy: 1.0\n",
            "    - role_adherence: 1.0\n",
            "    - tool_relevancy: 0.0\n",
            "    - parameter_correctness: 0.0\n",
            "\n",
            "  Record 19 (Task: 3c979615-7192-45db-a576-101526cec842):\n",
            "    - task_progression: 1.0\n",
            "    - context_relevancy: 1.0\n",
            "    - role_adherence: 1.0\n",
            "    - tool_relevancy: 0.0\n",
            "    - parameter_correctness: 0.0\n",
            "\n",
            "  Record 20 (Task: 3d051d6d-16e5-438c-9481-28aa05380dd4):\n",
            "    - task_progression: 1.0\n",
            "    - context_relevancy: 1.0\n",
            "    - role_adherence: 1.0\n",
            "    - tool_relevancy: 1.0\n",
            "    - parameter_correctness: 1.0\n",
            "\n",
            "  Record 21 (Task: 3d051d6d-16e5-438c-9481-28aa05380dd4):\n",
            "    - task_progression: 1.0\n",
            "    - context_relevancy: 1.0\n",
            "    - role_adherence: 1.0\n",
            "    - tool_relevancy: 0.0\n",
            "    - parameter_correctness: 0.0\n",
            "\n",
            "  Record 22 (Task: 3d051d6d-16e5-438c-9481-28aa05380dd4):\n",
            "    - task_progression: 1.0\n",
            "    - context_relevancy: 1.0\n",
            "    - role_adherence: 1.0\n",
            "    - tool_relevancy: 0.0\n",
            "    - parameter_correctness: 0.0\n",
            "\n",
            "  Record 23 (Task: 3d051d6d-16e5-438c-9481-28aa05380dd4):\n",
            "    - task_progression: 1.0\n",
            "    - context_relevancy: 1.0\n",
            "    - role_adherence: 1.0\n",
            "    - tool_relevancy: 0.0\n",
            "    - parameter_correctness: 0.0\n",
            "\n",
            "  Record 24 (Task: 8a881bbb-1b8e-4a8c-b1a3-7f8dd416fb9a):\n",
            "    - task_progression: 1.0\n",
            "    - context_relevancy: 1.0\n",
            "    - role_adherence: 1.0\n",
            "    - tool_relevancy: 1.0\n",
            "    - parameter_correctness: 1.0\n",
            "\n",
            "  Record 25 (Task: 8a881bbb-1b8e-4a8c-b1a3-7f8dd416fb9a):\n",
            "    - task_progression: 1.0\n",
            "    - context_relevancy: 1.0\n",
            "    - role_adherence: 1.0\n",
            "    - tool_relevancy: 0.0\n",
            "    - parameter_correctness: 0.0\n",
            "\n",
            "  Record 26 (Task: 8a881bbb-1b8e-4a8c-b1a3-7f8dd416fb9a):\n",
            "    - task_progression: 1.0\n",
            "    - context_relevancy: 1.0\n",
            "    - role_adherence: 1.0\n",
            "    - tool_relevancy: 0.0\n",
            "    - parameter_correctness: 0.0\n",
            "\n",
            "  Record 27 (Task: 8a881bbb-1b8e-4a8c-b1a3-7f8dd416fb9a):\n",
            "    - task_progression: 1.0\n",
            "    - context_relevancy: 1.0\n",
            "    - role_adherence: 1.0\n",
            "    - tool_relevancy: 0.0\n",
            "    - parameter_correctness: 0.0\n",
            "\n",
            "  Record 28 (Task: 8a881bbb-1b8e-4a8c-b1a3-7f8dd416fb9a):\n",
            "    - task_progression: 1.0\n",
            "    - context_relevancy: 1.0\n",
            "    - role_adherence: 1.0\n",
            "    - tool_relevancy: 0.0\n",
            "    - parameter_correctness: 0.0\n",
            "\n",
            "  Record 29 (Task: 8a881bbb-1b8e-4a8c-b1a3-7f8dd416fb9a):\n",
            "    - task_progression: 1.0\n",
            "    - context_relevancy: 1.0\n",
            "    - role_adherence: 1.0\n",
            "    - tool_relevancy: 0.0\n",
            "    - parameter_correctness: 0.0\n",
            "\n",
            "  Record 30 (Task: 9efaa0c4-1b06-4ba8-a7b4-79a7fca26259):\n",
            "    - task_progression: 1.0\n",
            "    - context_relevancy: 1.0\n",
            "    - role_adherence: 1.0\n",
            "    - tool_relevancy: 1.0\n",
            "    - parameter_correctness: 1.0\n",
            "\n",
            "  Record 31 (Task: 9efaa0c4-1b06-4ba8-a7b4-79a7fca26259):\n",
            "    - task_progression: 1.0\n",
            "    - context_relevancy: 1.0\n",
            "    - role_adherence: 1.0\n",
            "    - tool_relevancy: 0.0\n",
            "    - parameter_correctness: 0.0\n",
            "\n",
            "  Record 32 (Task: 9efaa0c4-1b06-4ba8-a7b4-79a7fca26259):\n",
            "    - task_progression: 1.0\n",
            "    - context_relevancy: 1.0\n",
            "    - role_adherence: 1.0\n",
            "    - tool_relevancy: 0.0\n",
            "    - parameter_correctness: 0.0\n",
            "\n",
            "  Record 33 (Task: 9efaa0c4-1b06-4ba8-a7b4-79a7fca26259):\n",
            "    - task_progression: 1.0\n",
            "    - context_relevancy: 1.0\n",
            "    - role_adherence: 1.0\n",
            "    - tool_relevancy: 0.0\n",
            "    - parameter_correctness: 0.0\n",
            "\n",
            "  Record 34 (Task: 9efaa0c4-1b06-4ba8-a7b4-79a7fca26259):\n",
            "    - task_progression: 1.0\n",
            "    - context_relevancy: 1.0\n",
            "    - role_adherence: 1.0\n",
            "    - tool_relevancy: 0.0\n",
            "    - parameter_correctness: 0.0\n",
            "\n",
            "  Record 35 (Task: 121bb7f1-d805-49fe-92af-31dbe0aa827e):\n",
            "    - task_progression: 1.0\n",
            "    - context_relevancy: 1.0\n",
            "    - role_adherence: 1.0\n",
            "    - tool_relevancy: 1.0\n",
            "    - parameter_correctness: 1.0\n",
            "\n",
            "  Record 36 (Task: 121bb7f1-d805-49fe-92af-31dbe0aa827e):\n",
            "    - task_progression: 1.0\n",
            "    - context_relevancy: 1.0\n",
            "    - role_adherence: 1.0\n",
            "    - tool_relevancy: 0.0\n",
            "    - parameter_correctness: 0.0\n",
            "\n",
            "  Record 37 (Task: 121bb7f1-d805-49fe-92af-31dbe0aa827e):\n",
            "    - task_progression: 1.0\n",
            "    - context_relevancy: 1.0\n",
            "    - role_adherence: 1.0\n",
            "    - tool_relevancy: 0.0\n",
            "    - parameter_correctness: 0.0\n",
            "\n",
            "  Record 38 (Task: 121bb7f1-d805-49fe-92af-31dbe0aa827e):\n",
            "    - task_progression: 1.0\n",
            "    - context_relevancy: 1.0\n",
            "    - role_adherence: 1.0\n",
            "    - tool_relevancy: 0.0\n",
            "    - parameter_correctness: 0.0\n",
            "\n",
            "  Record 39 (Task: a8fe28a3-2ebb-428d-b679-9aba40c69be0):\n",
            "    - task_progression: 1.0\n",
            "    - context_relevancy: 1.0\n",
            "    - role_adherence: 1.0\n",
            "    - tool_relevancy: 0.0\n",
            "    - parameter_correctness: 0.0\n",
            "\n",
            "  Record 40 (Task: a8fe28a3-2ebb-428d-b679-9aba40c69be0):\n",
            "    - task_progression: 1.0\n",
            "    - context_relevancy: 1.0\n",
            "    - role_adherence: 1.0\n",
            "    - tool_relevancy: 1.0\n",
            "    - parameter_correctness: 1.0\n",
            "\n",
            "  Record 41 (Task: a8fe28a3-2ebb-428d-b679-9aba40c69be0):\n",
            "    - task_progression: 1.0\n",
            "    - context_relevancy: 1.0\n",
            "    - role_adherence: 1.0\n",
            "    - tool_relevancy: 0.0\n",
            "    - parameter_correctness: 0.0\n"
          ]
        },
        {
          "name": "stderr",
          "output_type": "stream",
          "text": [
            "\n"
          ]
        }
      ],
      "source": [
        "# Run evaluation using the AgentEvaluator's run_all method\n",
        "print(\"🚀 Running evaluation on sample data...\")\n",
        "\n",
        "if gemini_model and evaluator:\n",
        "    try:\n",
        "        # Create a smaller dataset for demo purposes\n",
        "        sample_data = [data for data in dataset.data if data.agent_response][:]\n",
        "        print(f\"\\n📊 Evaluating {len(sample_data)} sample records...\")\n",
        "        \n",
        "        # Create a temporary dataset with just the sample data\n",
        "        sample_dataset = AgentDataset()\n",
        "        sample_dataset.data = sample_data\n",
        "        \n",
        "        # Create a new evaluator with the sample dataset\n",
        "        sample_evaluator = AgentEvaluator(\n",
        "            agent_dataset=sample_dataset,\n",
        "            models=[gemini_model],\n",
        "            scoring_functions=scoring_functions,\n",
        "            output_dir=\"./demo_results/sample_evaluation\",\n",
        "            stream=False,\n",
        "            include_reasoning=True\n",
        "        )\n",
        "        \n",
        "        # Run the evaluation\n",
        "        sample_evaluator.run_all(save_every=1, file_type=\"csv\")\n",
        "        \n",
        "        print(\"\\n✅ Evaluation completed!\")\n",
        "        \n",
        "        # Read and display results\n",
        "        import pandas as pd\n",
        "        results_file = \"./demo_results/sample_evaluation/agent_evaluation_results.csv\"\n",
        "        \n",
        "        if pd.io.common.file_exists(results_file):\n",
        "            results_df = pd.read_csv(results_file)\n",
        "            print(f\"\\n📊 Results Summary:\")\n",
        "            \n",
        "            # Calculate averages for each scorer\n",
        "            scorer_columns = [col for col in results_df.columns if col not in ['user_id', 'task_id', 'turn_id', 'agent_name'] and not col.endswith('_reasoning')]\n",
        "            \n",
        "            for col in scorer_columns:\n",
        "                if results_df[col].dtype in ['float64', 'int64']:\n",
        "                    avg_score = results_df[col].mean()\n",
        "                    print(f\"  - {col}: {avg_score:.2f}\")\n",
        "            \n",
        "            # Show individual scores\n",
        "            print(f\"\\n🔍 Individual Scores:\")\n",
        "            for i, row in results_df.iterrows():\n",
        "                print(f\"\\n  Record {i+1} (Task: {row.get('task_id', 'N/A')}):\")\n",
        "                for col in scorer_columns:\n",
        "                    if pd.notna(row[col]):\n",
        "                        print(f\"    - {col}: {row[col]}\")\n",
        "        else:\n",
        "            print(\"❌ Results file not found\")\n",
        "        \n",
        "    except Exception as e:\n",
        "        print(f\"❌ Error during evaluation: {e}\")\n",
        "        print(f\"Error type: {type(e).__name__}\")\n",
        "        import traceback\n",
        "        traceback.print_exc()\n",
        "        \n",
        "else:\n",
        "    print(\"⚠️  Skipping evaluation - missing model or evaluator\")\n"
      ]
    },
    {
      "cell_type": "markdown",
      "metadata": {},
      "source": [
        "## Step 7: Analysis and Insights\n"
      ]
    },
    {
      "cell_type": "code",
      "execution_count": 43,
      "metadata": {},
      "outputs": [
        {
          "name": "stdout",
          "output_type": "stream",
          "text": [
            "🔍 Dataset Analysis:\n",
            "\n",
            "=== Agent Behavior Patterns ===\n",
            "\n",
            "📈 Tool Usage:\n",
            "  - user_input: 1 uses\n",
            "  - _Exception: 1 uses\n",
            "  - langchain_retriever: 7 uses\n",
            "\n",
            "📋 Task Types:\n",
            "  - other: 19\n",
            "  - user_input: 22\n",
            "\n",
            "📝 Response Statistics:\n",
            "  - Average response length: 119.0 characters\n",
            "  - Min response length: 3\n",
            "  - Max response length: 219\n"
          ]
        }
      ],
      "source": [
        "# Analyze the dataset characteristics\n",
        "print(\"🔍 Dataset Analysis:\")\n",
        "print(\"\\n=== Agent Behavior Patterns ===\")\n",
        "\n",
        "# Analyze tool usage patterns\n",
        "tool_patterns = {}\n",
        "task_types = {}\n",
        "response_lengths = []\n",
        "\n",
        "for data in dataset.data:\n",
        "    # Tool usage\n",
        "    if data.tool_calls:\n",
        "        for tool_call in data.tool_calls:\n",
        "            if hasattr(tool_call, 'tool_name'):\n",
        "                tool_name = tool_call.tool_name\n",
        "                if tool_name not in tool_patterns:\n",
        "                    tool_patterns[tool_name] = {'count': 0, 'success_rate': 0}\n",
        "                tool_patterns[tool_name]['count'] += 1\n",
        "    \n",
        "    # Task analysis\n",
        "    if data.agent_task:\n",
        "        # Simple categorization\n",
        "        task_lower = data.agent_task.lower()\n",
        "        if 'user_input' in task_lower:\n",
        "            task_types['user_input'] = task_types.get('user_input', 0) + 1\n",
        "        elif 'exit' in task_lower:\n",
        "            task_types['exit_command'] = task_types.get('exit_command', 0) + 1\n",
        "        else:\n",
        "            task_types['other'] = task_types.get('other', 0) + 1\n",
        "    \n",
        "    # Response analysis\n",
        "    if data.agent_response:\n",
        "        response_lengths.append(len(data.agent_response))\n",
        "\n",
        "print(f\"\\n📈 Tool Usage:\")\n",
        "for tool, stats in tool_patterns.items():\n",
        "    print(f\"  - {tool}: {stats['count']} uses\")\n",
        "\n",
        "print(f\"\\n📋 Task Types:\")\n",
        "for task_type, count in task_types.items():\n",
        "    print(f\"  - {task_type}: {count}\")\n",
        "\n",
        "if response_lengths:\n",
        "    avg_response_length = sum(response_lengths) / len(response_lengths)\n",
        "    print(f\"\\n📝 Response Statistics:\")\n",
        "    print(f\"  - Average response length: {avg_response_length:.1f} characters\")\n",
        "    print(f\"  - Min response length: {min(response_lengths)}\")\n",
        "    print(f\"  - Max response length: {max(response_lengths)}\")\n"
      ]
    },
    {
      "cell_type": "markdown",
      "metadata": {},
      "source": [
        "## Step 8: Export Results (Optional)\n"
      ]
    },
    {
      "cell_type": "code",
      "execution_count": 44,
      "metadata": {},
      "outputs": [
        {
          "name": "stdout",
          "output_type": "stream",
          "text": [
            "💾 Exporting processed dataset...\n",
            "✅ Exported to processed_agent_dataset_tool_calls_removed.json\n",
            "✅ Exported to processed_agent_dataset.csv\n",
            "\n",
            "🎉 Demo completed successfully!\n",
            "\n",
            "📋 Summary:\n",
            "  - Processed 41 spans from dataset_tool_calls_removed.json\n",
            "  - Created 41 AgentData records\n",
            "  - Configured evaluation with Gemini model and 6 scorers\n",
            "  - Exported processed dataset for future use\n"
          ]
        }
      ],
      "source": [
        "\n",
        "# Export the processed dataset for future use\n",
        "print(\"💾 Exporting processed dataset...\")\n",
        "\n",
        "try:\n",
        "    # Export to JSON\n",
        "    dataset.export_to_json(f'processed_agent_{file_name}')\n",
        "    print(f\"✅ Exported to processed_agent_{file_name}\")\n",
        "    \n",
        "    # Export to CSV (optional)\n",
        "    dataset.export_to_csv('processed_agent_dataset.csv')\n",
        "    print(\"✅ Exported to processed_agent_dataset.csv\")\n",
        "    \n",
        "except Exception as e:\n",
        "    print(f\"❌ Export error: {e}\")\n",
        "\n",
        "print(\"\\n🎉 Demo completed successfully!\")\n",
        "print(\"\\n📋 Summary:\")\n",
        "print(f\"  - Processed {len(spans_data)} spans from {file_name}\")\n",
        "print(f\"  - Created {len(dataset.data)} AgentData records\")\n",
        "print(f\"  - Configured evaluation with Gemini model and 6 scorers\")\n",
        "if 'results' in locals():\n",
        "    print(f\"  - Successfully evaluated sample data\")\n",
        "print(f\"  - Exported processed dataset for future use\")\n"
      ]
    },
    {
      "cell_type": "code",
      "execution_count": null,
      "metadata": {},
      "outputs": [],
      "source": []
    }
  ],
  "metadata": {
    "kernelspec": {
      "display_name": ".venv",
      "language": "python",
      "name": "python3"
    },
    "language_info": {
      "codemirror_mode": {
        "name": "ipython",
        "version": 3
      },
      "file_extension": ".py",
      "mimetype": "text/x-python",
      "name": "python",
      "nbconvert_exporter": "python",
      "pygments_lexer": "ipython3",
      "version": "3.10.12"
    }
  },
  "nbformat": 4,
  "nbformat_minor": 2
}
