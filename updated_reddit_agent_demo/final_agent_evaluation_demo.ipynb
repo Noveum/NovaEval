{
  "cells": [
    {
      "cell_type": "code",
      "execution_count": null,
      "metadata": {},
      "outputs": [],
      "source": [
        "\n",
        "from IPython.display import Image; Image(\"/Users/mramanindia/Documents/Work/NovaEval/noveum_customer_support_bt/custmomer_support_agent.png\")\n"
      ]
    },
    {
      "cell_type": "markdown",
      "metadata": {},
      "source": [
        "from IPython.display import Image; Image(\"path/to/image.png\")\n"
      ]
    },
    {
      "cell_type": "markdown",
      "metadata": {},
      "source": [
        "# Final Agent Evaluation Demo with NovaEval\n",
        "\n",
        "This notebook demonstrates a streamlined approach to agent evaluation using modular utility functions:\n",
        "\n",
        "1. **Load agent trace data** from JSON datasets\n",
        "2. **Map trace spans** to AgentData format using utility functions\n",
        "3. **Create and analyze** AgentDataset\n",
        "4. **Evaluate agent performance** using AgentEvaluator with Gemini model\n",
        "5. **Analyze results** and export data\n",
        "\n"
      ]
    },
    {
      "cell_type": "markdown",
      "metadata": {},
      "source": [
        "# Scorers Used\n",
        "\n",
        "**context_relevancy_scorer** - Evaluates whether the agent response is appropriate and relevant given the agent's task and role.\n",
        "\n",
        "**role_adherence_scorer** - Scores whether the agent's tool calls and response adhere to its assigned role and task.\n",
        "\n",
        "**task_progression_scorer** - Measures whether the agent has made meaningful progress on the assigned task.\n",
        "\n",
        "**tool_relevancy_scorer** - Assesses how relevant and appropriate the tool call is given the available tools and the agent's context.\n",
        "\n",
        "**tool_correctness_scorer** - Compares actual tool calls against expected tool calls to evaluate correctness of tool usage and parameters.\n",
        "\n",
        "**parameter_correctness_scorer** - Validates whether correct parameters were passed to tool calls by analyzing the tool results."
      ]
    },
    {
      "cell_type": "code",
      "execution_count": null,
      "metadata": {},
      "outputs": [],
      "source": [
        "\n"
      ]
    },
    {
      "cell_type": "markdown",
      "metadata": {},
      "source": [
        "## Step 1: Import Dependencies and Utility Functions\n"
      ]
    },
    {
      "cell_type": "code",
      "execution_count": null,
      "metadata": {},
      "outputs": [],
      "source": [
        "# Import our custom utility functions\n",
        "from demo_utils import (\n",
        "    list_dataset_files,\n",
        "    load_and_analyze_dataset,\n",
        "    convert_spans_to_agent_dataset,\n",
        "    analyze_dataset_statistics,\n",
        "    setup_gemini_model,\n",
        "    setup_agent_evaluator,\n",
        "    run_evaluation,\n",
        "    analyze_agent_behavior_patterns,\n",
        "    export_processed_dataset,\n",
        "    setup_logging,\n",
        "    validate_environment,\n",
        "    print_demo_summary\n",
        ")\n",
        "\n",
        "print(\"✅ All utility functions imported successfully!\")\n"
      ]
    },
    {
      "cell_type": "code",
      "execution_count": null,
      "metadata": {},
      "outputs": [],
      "source": []
    },
    {
      "cell_type": "code",
      "execution_count": 1,
      "metadata": {},
      "outputs": [
        {
          "name": "stdout",
          "output_type": "stream",
          "text": [
            "Reading dataset.json...\n",
            "Original dataset: 2887 records\n",
            "Filtering spans...\n",
            "After filtering: 2383 records\n",
            "Converting tool output format...\n",
            "Writing dataset_filtered.json...\n",
            "Filtering complete! Output: dataset_filtered.json\n",
            "\n",
            "Success! Created dataset_filtered.json\n",
            "Reading dataset_filtered.json...\n",
            "Input dataset: 2383 records\n",
            "Mapping spans...\n",
            "Writing dataset_filtered_mapped.json...\n",
            "Mapping complete! Output: dataset_filtered_mapped.json\n",
            "\n",
            "Success! Created dataset_filtered_mapped.json\n",
            "Input file: dataset_filtered_mapped.json\n",
            "Output directory: split_datasets\n",
            "\n",
            "Loading dataset from dataset_filtered_mapped.json...\n",
            "Loaded 2383 objects\n",
            "Found 16 unique span names\n",
            "Using sanitized name: agent:research_coordinator:research_coordinator -> agent_research_coordinator_research_coordinator_dataset.json\n",
            "  Wrote 9 objects to split_datasets/agent_research_coordinator_research_coordinator_dataset.json\n",
            "Using sanitized name: agent:search_agent:search_agent -> agent_search_agent_search_agent_dataset.json\n",
            "  Wrote 9 objects to split_datasets/agent_search_agent_search_agent_dataset.json\n",
            "Using sanitized name: tool:academic_search:academic_search_tool -> tool_academic_search_academic_search_tool_dataset.json\n",
            "  Wrote 9 objects to split_datasets/tool_academic_search_academic_search_tool_dataset.json\n",
            "Using sanitized name: llm_analysis_call -> llm_analysis_call_dataset.json\n",
            "  Wrote 9 objects to split_datasets/llm_analysis_call_dataset.json\n",
            "Using sanitized name: tool:web_search:web_search_tool -> tool_web_search_web_search_tool_dataset.json\n",
            "  Wrote 9 objects to split_datasets/tool_web_search_web_search_tool_dataset.json\n",
            "Using sanitized name: agent:analysis_agent:analysis_agent -> agent_analysis_agent_analysis_agent_dataset.json\n",
            "  Wrote 9 objects to split_datasets/agent_analysis_agent_analysis_agent_dataset.json\n",
            "Using sanitized name: agent:summary_agent:summary_agent -> agent_summary_agent_summary_agent_dataset.json\n",
            "  Wrote 9 objects to split_datasets/agent_summary_agent_summary_agent_dataset.json\n",
            "Using sanitized name: llm_summary_call -> llm_summary_call_dataset.json\n",
            "  Wrote 9 objects to split_datasets/llm_summary_call_dataset.json\n",
            "Using sanitized name: llm_with_function_calling -> llm_with_function_calling_dataset.json\n",
            "  Wrote 3 objects to split_datasets/llm_with_function_calling_dataset.json\n",
            "Using sanitized name: tool:get_weather:get_weather -> tool_get_weather_get_weather_dataset.json\n",
            "  Wrote 3 objects to split_datasets/tool_get_weather_get_weather_dataset.json\n",
            "Using sanitized name: call_llm -> call_llm_dataset.json\n",
            "  Wrote 9 objects to split_datasets/call_llm_dataset.json\n",
            "Using hardcoded mapping: agent.query_generation -> agent_query_gen_dataset.json\n",
            "  Wrote 319 objects to split_datasets/agent_query_gen_dataset.json\n",
            "Using hardcoded mapping: tool:tavily_search_results_json:tavily_search_results_json -> tavily_search_results_dataset.json\n",
            "  Wrote 1582 objects to split_datasets/tavily_search_results_dataset.json\n",
            "Using hardcoded mapping: post_validation -> post_validation_dataset.json\n",
            "  Wrote 315 objects to split_datasets/post_validation_dataset.json\n",
            "Using hardcoded mapping: agent.comment_generation -> agent_comment_gen_dataset.json\n",
            "  Wrote 40 objects to split_datasets/agent_comment_gen_dataset.json\n",
            "Using hardcoded mapping: email_generation_and_sending -> email_gen_send_dataset.json\n",
            "  Wrote 40 objects to split_datasets/email_gen_send_dataset.json\n",
            "\n",
            "Split complete! Created 16 files in split_datasets\n"
          ]
        }
      ],
      "source": [
        "!python preprocess_filter.py dataset.json\n",
        "!python preprocess_map.py dataset_filtered.json\n",
        "!python preprocess_split_data.py dataset_filtered_mapped.json"
      ]
    },
    {
      "cell_type": "code",
      "execution_count": null,
      "metadata": {},
      "outputs": [],
      "source": [
        "from demo_utils import run_complete_agent_evaluation\n",
        "\n",
        "#evaluating the split datasets\n",
        "run_complete_agent_evaluation('split_datasets/agent_comment_gen_dataset.json',\n",
        "evaluation_name = \"agent_comment_gen_dataset\", output_dir = \"./demo_results\")"
      ]
    },
    {
      "cell_type": "code",
      "execution_count": null,
      "metadata": {},
      "outputs": [],
      "source": [
        "run_complete_agent_evaluation('split_datasets/agent_query_gen_dataset.json',\n",
        "evaluation_name = \"agent_query_gen_dataset\", output_dir = \"./demo_results\")"
      ]
    },
    {
      "cell_type": "code",
      "execution_count": null,
      "metadata": {},
      "outputs": [],
      "source": [
        "run_complete_agent_evaluation('split_datasets/email_gen_send_dataset.json',\n",
        "evaluation_name = \"email_gen_send_dataset\", output_dir = \"./demo_results\")"
      ]
    },
    {
      "cell_type": "code",
      "execution_count": null,
      "metadata": {},
      "outputs": [],
      "source": [
        "run_complete_agent_evaluation('split_datasets/post_validation_dataset.json', \n",
        "evaluation_name = \"post_validation_dataset\", output_dir = \"./demo_results\")"
      ]
    },
    {
      "cell_type": "code",
      "execution_count": null,
      "metadata": {},
      "outputs": [],
      "source": [
        "run_complete_agent_evaluation('split_datasets/tavily_search_results_dataset.json',\n",
        "evaluation_name = \"tavily_search_results_dataset\", output_dir = \"./demo_results\")"
      ]
    },
    {
      "cell_type": "markdown",
      "metadata": {},
      "source": [
        "# Analysis of poor scores in comment generation agent."
      ]
    },
    {
      "cell_type": "code",
      "execution_count": null,
      "metadata": {},
      "outputs": [],
      "source": [
        "import pandas as pd\n",
        "comment_gen = pd.read_csv(\"demo_results/agent_comment_gen_dataset/agent_evaluation_results.csv\")\n",
        "\n",
        "split_size = 3\n",
        "\n",
        "task_progression = comment_gen.sort_values(by = 'task_progression', ascending= True).iloc[:split_size][['task_progression', 'task_progression_reasoning']]\n",
        "\n",
        "print(\"Task Progression:\")\n",
        "print()\n",
        "for idx, row in task_progression.iterrows():\n",
        "    print(f\"Score = {row['task_progression']}\")\n",
        "    print(f\"Reasoning = {row['task_progression_reasoning']}\")\n",
        "    print()  # blank line"
      ]
    },
    {
      "cell_type": "code",
      "execution_count": null,
      "metadata": {},
      "outputs": [],
      "source": [
        "# Context Relevancy Analysis\n",
        "context_relevancy = comment_gen.sort_values(by='context_relevancy', ascending=True).iloc[:3][['context_relevancy', 'context_relevancy_reasoning']]\n",
        "\n",
        "print(\"Context Relevancy Analysis:\")\n",
        "print(\"=\" * 50)\n",
        "for idx, row in context_relevancy.iterrows():\n",
        "    print(f\"Score = {row['context_relevancy']}\")\n",
        "    print(f\"Reasoning = {row['context_relevancy_reasoning']}\")\n",
        "    print()"
      ]
    },
    {
      "cell_type": "code",
      "execution_count": null,
      "metadata": {},
      "outputs": [],
      "source": [
        "# Role Adherence Analysis\n",
        "role_adherence = comment_gen.sort_values(by='role_adherence', ascending=True).iloc[:3][['role_adherence', 'role_adherence_reasoning']]\n",
        "\n",
        "print(\"Role Adherence Analysis:\")\n",
        "print(\"=\" * 50)\n",
        "for idx, row in role_adherence.iterrows():\n",
        "    print(f\"Score = {row['role_adherence']}\")\n",
        "    print(f\"Reasoning = {row['role_adherence_reasoning']}\")\n",
        "    print()"
      ]
    },
    {
      "cell_type": "code",
      "execution_count": null,
      "metadata": {},
      "outputs": [],
      "source": [
        "from novapilot_utils import recommend_improvements\n",
        "\n",
        "# Advanced usage with custom parameters\n",
        "final_analysis, summaries, log_file = recommend_improvements(\n",
        "    demo_results_dir=\"demo_results/\",\n",
        "    agent_doc_path=\"reddit_agent.md\",\n",
        "    log_dir=\"log\",\n",
        "    verbose=True\n",
        ")"
      ]
    },
    {
      "cell_type": "code",
      "execution_count": null,
      "metadata": {},
      "outputs": [],
      "source": [
        "print(final_analysis)"
      ]
    },
    {
      "cell_type": "code",
      "execution_count": null,
      "metadata": {},
      "outputs": [],
      "source": []
    }
  ],
  "metadata": {
    "kernelspec": {
      "display_name": "venv",
      "language": "python",
      "name": "python3"
    },
    "language_info": {
      "codemirror_mode": {
        "name": "ipython",
        "version": 3
      },
      "file_extension": ".py",
      "mimetype": "text/x-python",
      "name": "python",
      "nbconvert_exporter": "python",
      "pygments_lexer": "ipython3",
      "version": "3.12.9"
    }
  },
  "nbformat": 4,
  "nbformat_minor": 2
}
