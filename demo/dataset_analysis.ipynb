{
 "cells": [
  {
   "cell_type": "code",
   "execution_count": 3,
   "id": "0d3b4b4c",
   "metadata": {},
   "outputs": [
    {
     "name": "stdout",
     "output_type": "stream",
     "text": [
      "Dataset shape: (36, 20)\n",
      "\n",
      "Column names:\n",
      "['user_id', 'task_id', 'turn_id', 'ground_truth', 'expected_tool_call', 'agent_name', 'agent_role', 'agent_task', 'system_prompt', 'agent_response', 'trace', 'tools_available', 'tool_calls', 'parameters_passed', 'tool_call_results', 'retrieval_query', 'retrieved_context', 'exit_status', 'agent_exit', 'metadata']\n",
      "\n",
      "==================================================\n",
      "NONE/NULL VALUES ANALYSIS\n",
      "==================================================\n",
      "\n",
      "Null/NaN values per column:\n",
      "user_id: 36 null values (100.0%)\n",
      "task_id: 0 null values (0.0%)\n",
      "turn_id: 0 null values (0.0%)\n",
      "ground_truth: 36 null values (100.0%)\n",
      "expected_tool_call: 36 null values (100.0%)\n",
      "agent_name: 0 null values (0.0%)\n",
      "agent_role: 0 null values (0.0%)\n",
      "agent_task: 0 null values (0.0%)\n",
      "system_prompt: 0 null values (0.0%)\n",
      "agent_response: 2 null values (5.6%)\n",
      "trace: 28 null values (77.8%)\n",
      "tools_available: 0 null values (0.0%)\n",
      "tool_calls: 0 null values (0.0%)\n",
      "parameters_passed: 0 null values (0.0%)\n",
      "tool_call_results: 0 null values (0.0%)\n",
      "retrieval_query: 34 null values (94.4%)\n",
      "retrieved_context: 36 null values (100.0%)\n",
      "exit_status: 0 null values (0.0%)\n",
      "agent_exit: 0 null values (0.0%)\n",
      "metadata: 36 null values (100.0%)\n",
      "\n",
      "Total rows: 36\n",
      "Total columns: 20\n",
      "\n",
      "Columns with missing data (sorted by count):\n",
      "  user_id: 36 (100.0%)\n",
      "  ground_truth: 36 (100.0%)\n",
      "  expected_tool_call: 36 (100.0%)\n",
      "  retrieved_context: 36 (100.0%)\n",
      "  metadata: 36 (100.0%)\n",
      "  retrieval_query: 34 (94.4%)\n",
      "  trace: 28 (77.8%)\n",
      "  agent_response: 2 (5.6%)\n",
      "\n",
      "Columns with empty strings (sorted by count):\n",
      "  No empty strings found in any column\n"
     ]
    }
   ],
   "source": [
    "import pandas as pd\n",
    "import numpy as np\n",
    "\n",
    "# Load the dataset\n",
    "df = pd.read_csv('processed_agent_dataset.csv')\n",
    "\n",
    "# Display basic info about the dataset\n",
    "print(\"Dataset shape:\", df.shape)\n",
    "print(\"\\nColumn names:\")\n",
    "print(df.columns.tolist())\n",
    "\n",
    "# Count None/NaN values for each column\n",
    "print(\"\\n\" + \"=\"*50)\n",
    "print(\"NONE/NULL VALUES ANALYSIS\")\n",
    "print(\"=\"*50)\n",
    "\n",
    "# Count None/NaN values in each column\n",
    "null_counts = df.isnull().sum()\n",
    "empty_string_counts = (df == '').sum()\n",
    "\n",
    "print(\"\\nNull/NaN values per column:\")\n",
    "for col in df.columns:\n",
    "    null_count = null_counts[col]\n",
    "    empty_count = empty_string_counts[col]\n",
    "    total_rows = len(df)\n",
    "    print(f\"{col}: {null_count} null values ({null_count/total_rows*100:.1f}%)\")\n",
    "    if empty_count > 0:\n",
    "        print(f\"  + {empty_count} empty strings ({empty_count/total_rows*100:.1f}%)\")\n",
    "\n",
    "print(f\"\\nTotal rows: {total_rows}\")\n",
    "print(f\"Total columns: {len(df.columns)}\")\n",
    "\n",
    "# Show columns with the most missing data\n",
    "print(\"\\nColumns with missing data (sorted by count):\")\n",
    "missing_data = null_counts[null_counts > 0].sort_values(ascending=False)\n",
    "if len(missing_data) > 0:\n",
    "    for col, count in missing_data.items():\n",
    "        percentage = count/total_rows*100\n",
    "        print(f\"  {col}: {count} ({percentage:.1f}%)\")\n",
    "else:\n",
    "    print(\"  No null values found in any column\")\n",
    "\n",
    "# Check for empty strings\n",
    "print(\"\\nColumns with empty strings (sorted by count):\")\n",
    "empty_data = empty_string_counts[empty_string_counts > 0].sort_values(ascending=False)\n",
    "if len(empty_data) > 0:\n",
    "    for col, count in empty_data.items():\n",
    "        percentage = count/total_rows*100\n",
    "        print(f\"  {col}: {count} ({percentage:.1f}%)\")\n",
    "else:\n",
    "    print(\"  No empty strings found in any column\")"
   ]
  },
  {
   "cell_type": "code",
   "execution_count": 8,
   "id": "2942427d",
   "metadata": {},
   "outputs": [
    {
     "name": "stdout",
     "output_type": "stream",
     "text": [
      "tool_calls\n",
      "[]                                                                                                                                                                                                  29\n",
      "[{\"tool_name\": \"user_input\", \"parameters\": {\"input\": \"Please provide more information\"}, \"call_id\": \"367a0df1-2f33-45fb-8e8f-42d5ecf2f68a\"}]                                                         1\n",
      "[{\"tool_name\": \"user_input\", \"parameters\": {\"input\": \"Please provide more information\"}, \"call_id\": \"ff5dd99b-17d2-4385-b1cb-1f1949bfd81a\"}]                                                         1\n",
      "[{\"tool_name\": \"user_input\", \"parameters\": {\"input\": \"Please clarify if you want me to stay active until you tell me to exit.\"}, \"call_id\": \"3c8fba0a-8897-4e97-8bc2-243b2d7d0a41\"}]                 1\n",
      "[{\"tool_name\": \"user_input\", \"parameters\": {\"input\": \"Please provide more information about what you mean by \\\"exit after saying 5 texts.\"}, \"call_id\": \"bf651234-ff75-4083-9b93-26b0445ff21f\"}]     1\n",
      "[{\"tool_name\": \"user_input\", \"parameters\": {\"input\": \"Hi\"}, \"call_id\": \"889d6eed-36e1-44af-ae47-976125ba0f78\"}]                                                                                      1\n",
      "[{\"tool_name\": \"langchain_retriever\", \"parameters\": {\"input\": \"fun fact\"}, \"call_id\": \"9d05e24f-53c5-4f5e-a3d1-dd11539e128f\"}]                                                                       1\n",
      "[{\"tool_name\": \"langchain_retriever\", \"parameters\": {\"input\": \"Introduction to virtual assistant\"}, \"call_id\": \"d823f4f7-84b5-4898-9b73-6f5e9de18377\"}]                                              1\n",
      "Name: count, dtype: int64\n"
     ]
    }
   ],
   "source": [
    "# Check the data types\n",
    "print(df['tool_calls'].value_counts())\n"
   ]
  },
  {
   "cell_type": "code",
   "execution_count": null,
   "id": "a3eb86ce",
   "metadata": {},
   "outputs": [],
   "source": []
  },
  {
   "cell_type": "code",
   "execution_count": null,
   "id": "4cf4495f",
   "metadata": {},
   "outputs": [],
   "source": []
  }
 ],
 "metadata": {
  "kernelspec": {
   "display_name": ".venv",
   "language": "python",
   "name": "python3"
  },
  "language_info": {
   "codemirror_mode": {
    "name": "ipython",
    "version": 3
   },
   "file_extension": ".py",
   "mimetype": "text/x-python",
   "name": "python",
   "nbconvert_exporter": "python",
   "pygments_lexer": "ipython3",
   "version": "3.10.12"
  }
 },
 "nbformat": 4,
 "nbformat_minor": 5
}
