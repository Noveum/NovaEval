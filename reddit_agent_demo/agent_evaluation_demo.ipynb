{
  "cells": [
    {
      "cell_type": "markdown",
      "metadata": {},
      "source": [
        "# Agent Evaluation Demo with NovaEval\n",
        "\n",
        "This notebook demonstrates how to:\n",
        "1. Load agent trace data from dataset.json or dataset_tool_calls_removed.json\n",
        "2. Map trace spans to AgentData format\n",
        "3. Create an AgentDataset \n",
        "4. Evaluate agent performance using AgentEvaluator with Gemini model\n",
        "5. Analyze results with multiple scorers\n"
      ]
    },
    {
      "cell_type": "code",
      "execution_count": 96,
      "metadata": {},
      "outputs": [
        {
          "name": "stdout",
          "output_type": "stream",
          "text": [
            "✅ All imports successful!\n"
          ]
        }
      ],
      "source": [
        "import json\n",
        "import re\n",
        "from typing import Any, Dict, List, Optional, Union\n",
        "\n",
        "# NovaEval imports\n",
        "from novaeval.agents.agent_data import AgentData, ToolSchema, ToolCall, ToolResult\n",
        "from novaeval.datasets.agent_dataset import AgentDataset\n",
        "from novaeval.evaluators.agent_evaluator import AgentEvaluator\n",
        "from novaeval.models.gemini import GeminiModel\n",
        "from novaeval.scorers.agent_scorers import (\n",
        "    context_relevancy_scorer,\n",
        "    role_adherence_scorer,\n",
        "    task_progression_scorer,\n",
        "    tool_relevancy_scorer,\n",
        "    tool_correctness_scorer,\n",
        "    parameter_correctness_scorer\n",
        ")\n",
        "from dotenv import load_dotenv\n",
        "\n",
        "load_dotenv()\n",
        "\n",
        "print(\"✅ All imports successful!\")\n"
      ]
    },
    {
      "cell_type": "code",
      "execution_count": 97,
      "metadata": {},
      "outputs": [],
      "source": [
        "# !pwd\n",
        "# !python langchain_agent/traces/fetch_traces_api.py 10\n",
        "# !python langchain_agent/traces/combine_spans_api_compat.py\n",
        "\n",
        "# !cp langchain_agent/traces/traces/dataset.json .\n",
        "\n",
        "# !python clean_tool_call_spans.py "
      ]
    },
    {
      "cell_type": "code",
      "execution_count": 98,
      "metadata": {},
      "outputs": [
        {
          "name": "stdout",
          "output_type": "stream",
          "text": [
            "agent_comment_gen_dataset.json\tpost_validation_dataset.json\n",
            "agent_query_gen_dataset.json\ttavily_search_results_dataset.json\n",
            "email_gen_send_dataset.json\n"
          ]
        }
      ],
      "source": [
        "!ls split_datasets/"
      ]
    },
    {
      "cell_type": "markdown",
      "metadata": {},
      "source": []
    },
    {
      "cell_type": "markdown",
      "metadata": {},
      "source": [
        "## Step 1: Load and Examine Dataset Structure\n"
      ]
    },
    {
      "cell_type": "code",
      "execution_count": 99,
      "metadata": {},
      "outputs": [
        {
          "name": "stdout",
          "output_type": "stream",
          "text": [
            "📊 Loaded 2301 spans from split_datasets/tavily_search_results_dataset.json\n",
            "\n",
            "🔍 Available span types:\n",
            "  - tool:tavily_search_results_json:tavily_search_results_json: 2301\n"
          ]
        }
      ],
      "source": [
        "# Load the dataset\n",
        "file_name = 'split_datasets/tavily_search_results_dataset.json'\n",
        "#\n",
        "with open(file_name, 'r') as f:\n",
        "    spans_data = json.load(f)\n",
        "\n",
        "print(f\"📊 Loaded {len(spans_data)} spans from {file_name}\")\n",
        "print(f\"\\n🔍 Available span types:\")\n",
        "\n",
        "# Analyze span types\n",
        "span_types = {}\n",
        "for span in spans_data[:]:  # Look at first 10 spans\n",
        "    span_name = span.get('name', 'unknown')\n",
        "    if span_name not in span_types:\n",
        "        span_types[span_name] = 0\n",
        "    span_types[span_name] += 1\n",
        "\n",
        "for span_type, count in span_types.items():\n",
        "    print(f\"  - {span_type}: {count}\")\n"
      ]
    },
    {
      "cell_type": "markdown",
      "metadata": {},
      "source": [
        "## Step 2: Implement Field Mapping Logic\n"
      ]
    },
    {
      "cell_type": "code",
      "execution_count": null,
      "metadata": {},
      "outputs": [],
      "source": []
    },
    {
      "cell_type": "code",
      "execution_count": 100,
      "metadata": {},
      "outputs": [],
      "source": [
        "def parse_tools_from_prompt(prompt: str) -> List[ToolSchema]:\n",
        "    \"\"\"\n",
        "    Parse tool definitions from LLM prompts using regex.\n",
        "    \n",
        "    Expected format: tool_name(param: type = default) -> return_type - description\n",
        "    \"\"\"\n",
        "    # Pattern to match tool signatures\n",
        "    pattern = r'(\\w+)\\(([^)]*)\\)\\s*->\\s*(\\w+)\\s*-\\s*(.+?)(?=\\n\\w+\\(|$)'\n",
        "    matches = re.findall(pattern, prompt, re.DOTALL)\n",
        "    \n",
        "    tools = []\n",
        "    for match in matches:\n",
        "        tool_name, params_str, return_type, description = match\n",
        "        \n",
        "        # Parse parameters\n",
        "        args_schema = parse_params(params_str)\n",
        "        \n",
        "        tool = ToolSchema(\n",
        "            name=tool_name,\n",
        "            description=description.strip(),\n",
        "            args_schema=args_schema,\n",
        "            return_schema={\"type\": return_type}\n",
        "        )\n",
        "        tools.append(tool)\n",
        "    \n",
        "    return tools\n",
        "\n",
        "def parse_params(params_str: str) -> Dict[str, Any]:\n",
        "    \"\"\"\n",
        "    Parse parameter string into schema dictionary.\n",
        "    \n",
        "    Format: param_name: type = default_value\n",
        "    \"\"\"\n",
        "    if not params_str.strip():\n",
        "        return {}\n",
        "    \n",
        "    # Split parameters by comma\n",
        "    params = [p.strip() for p in params_str.split(',') if p.strip()]\n",
        "    schema = {}\n",
        "    \n",
        "    for param in params:\n",
        "        if ':' in param:\n",
        "            parts = param.split(':', 1)\n",
        "            param_name = parts[0].strip()\n",
        "            type_and_default = parts[1].strip()\n",
        "            \n",
        "            # Extract type and default value\n",
        "            if '=' in type_and_default:\n",
        "                type_part, default_part = type_and_default.split('=', 1)\n",
        "                param_type = type_part.strip()\n",
        "                default_val = default_part.strip().strip('\"\\'')\n",
        "                schema[param_name] = {'type': param_type, 'default': default_val}\n",
        "            else:\n",
        "                param_type = type_and_default.strip()\n",
        "                schema[param_name] = {'type': param_type}\n",
        "    \n",
        "    return schema\n",
        "\n",
        "def identify_span_type(span: Dict[str, Any]) -> str:\n",
        "    \"\"\"\n",
        "    Identify span type based on attributes.\n",
        "    \"\"\"\n",
        "    attributes = span.get('attributes', {})\n",
        "    agent_span_names = ['reddit_agent_run_1', 'reddit_agent_run_2', 'agent.query_generation', 'agent.comment_generation']\n",
        "    tool_span_names = ['post_validation', 'email_generation_and_sending']\n",
        "    # Check for agent attributes\n",
        "    if any('chain.name' == key for key in attributes.keys()) or span['name'] in agent_span_names:\n",
        "        return 'agent'\n",
        "    \n",
        "    # Check for LLM attributes\n",
        "    if any('llm.model' == key for key in attributes.keys()):\n",
        "        return 'llm'\n",
        "    \n",
        "    # Check for tool attributes\n",
        "    if any('tool.name' == key for key in attributes.keys()) or span['name'] in tool_span_names:\n",
        "        return 'tool'\n",
        "    print('returning unknown type for span')\n",
        "    print(span)\n",
        "    return 'unknown'\n"
      ]
    },
    {
      "cell_type": "code",
      "execution_count": 101,
      "metadata": {},
      "outputs": [
        {
          "name": "stdout",
          "output_type": "stream",
          "text": [
            "✅ Field mapping functions defined!\n"
          ]
        }
      ],
      "source": [
        "global count_unknowns\n",
        "count_unknowns = 0\n",
        "def map_span_to_agent_data(span: Dict[str, Any]) -> AgentData:\n",
        "    \"\"\"\n",
        "    Map a single span from file_name to AgentData format.\n",
        "    \"\"\"\n",
        "\n",
        "    attributes = span.get('attributes', {})\n",
        "    events = span.get('events', [])\n",
        "    span_type = identify_span_type(span)\n",
        "\n",
        "    # Base mappings\n",
        "    data = {\n",
        "        'user_id': span.get('metadata', {}).get('user_id', None),\n",
        "        'task_id': span.get('trace_id'),\n",
        "        'turn_id': span.get('span_id'),\n",
        "        'ground_truth': None,\n",
        "        'expected_tool_call': None,\n",
        "        'agent_name': span_type,\n",
        "        'agent_role': span_type,\n",
        "        'system_prompt': \"You are a helpful customer support agent\",\n",
        "        'metadata': None,\n",
        "        'exit_status': span.get('status'),\n",
        "        'tools_available': [],\n",
        "        'tool_calls': [],\n",
        "        'parameters_passed': {},\n",
        "        'tool_call_results': [],\n",
        "        'retrieval_query': None,\n",
        "        'retrieved_context': None,\n",
        "        'agent_exit': False,\n",
        "        'trace': None\n",
        "    }\n",
        "    \n",
        "    # Span-specific mappings\n",
        "    if span_type == 'agent':\n",
        "        # Agent task\n",
        "        chain_inputs = attributes.get('chain.inputs', {})\n",
        "\n",
        "        if isinstance(chain_inputs, dict) and 'input' in chain_inputs:\n",
        "            data['agent_task'] = chain_inputs['input']\n",
        "        elif attributes.get(\"agent_task\"):\n",
        "            data['agent_task'] = attributes.get(\"agent_task\")\n",
        "        else:\n",
        "            print('agent_task not found')\n",
        "        # Agent response\n",
        "        finish_values = attributes.get('agent.output.finish.return_values', {})\n",
        "        if isinstance(finish_values, dict) and 'output' in finish_values:\n",
        "            data['agent_response'] = finish_values['output']\n",
        "        elif attributes.get(\"agent_response\"):\n",
        "            data['agent_response'] = attributes.get(\"agent_response\")\n",
        "        else:\n",
        "            print(\"agent_response is not available  \" + span['span_id'])\n",
        "        # Tool calls from agent actions\n",
        "        tool_name = attributes.get('agent.output.action.tool')\n",
        "        tool_input = attributes.get('agent.output.action.tool_input')\n",
        "        \n",
        "        if tool_name:\n",
        "            tool_call = ToolCall(\n",
        "                tool_name=tool_name,\n",
        "                parameters={'input': tool_input} if tool_input else {},\n",
        "                call_id=span['span_id']\n",
        "            )\n",
        "            data['tool_calls'] = [tool_call]\n",
        "            data['parameters_passed'] = {'input': tool_input} if tool_input else {}\n",
        "            \n",
        "            # Handle retrieval query for langchain_retriever\n",
        "            if tool_name == 'langchain_retriever' and tool_input:\n",
        "                data['retrieval_query'] = [tool_input]\n",
        "        \n",
        "        # Agent exit status\n",
        "        data['agent_exit'] = any(event.get('name') == 'agent_finish' for event in events)\n",
        "        \n",
        "        # Trace (dump events as JSON)\n",
        "        if events:\n",
        "            data['trace'] = json.dumps(events)\n",
        "    \n",
        "    elif span_type == 'llm':\n",
        "        # Agent response from LLM output\n",
        "        llm_input = attributes.get('llm.input.prompts', ['input is not available'])\n",
        "        data['agent_task'] = llm_input[0]\n",
        "\n",
        "        llm_responses = attributes.get('llm.output.response', [])\n",
        "        if llm_responses:\n",
        "            data['agent_response'] = llm_responses[0]\n",
        "        else:\n",
        "            print(\"llm_response is not available\")\n",
        "        # Parse tools from prompt\n",
        "        prompts = attributes.get('llm.input.prompts', [])\n",
        "        if prompts:\n",
        "            try:\n",
        "                tools = parse_tools_from_prompt(prompts[0])\n",
        "                data['tools_available'] = tools\n",
        "            except Exception:\n",
        "                # Fallback to empty list if parsing fails\n",
        "                data['tools_available'] = []\n",
        "        \n",
        "        data['parameters_passed'] = {}\n",
        "    \n",
        "    elif span_type == 'tool':\n",
        "        # Agent response from tool output\n",
        "        tool_output = attributes.get('tool.output.output')\n",
        "        data['agent_task'] = f\"This is a simple tool call, and the tool will execute as programmed. Its name is - {attributes.get('tool.name')}\"\n",
        "        if tool_output:\n",
        "            data['agent_response'] = tool_output\n",
        "        elif attributes.get(\"tool_response\"):\n",
        "            data['agent_response'] = attributes.get(\"tool_response\")\n",
        "        else:\n",
        "            print(\"tool_output is not available \" + span['span_id'])\n",
        "        # Tool call results\n",
        "        tool_name = attributes.get('tool.name')\n",
        "        if tool_name and tool_output is not None:\n",
        "            tool_result = ToolResult(\n",
        "                call_id=span['span_id'],\n",
        "                result=tool_output,\n",
        "                success=span.get('status') == 'ok',\n",
        "                error_message=None if span.get('status') == 'ok' else 'Tool execution failed'\n",
        "            )\n",
        "            data['tool_call_results'] = [tool_result]\n",
        "            \n",
        "            # Handle retrieved context for langchain_retriever\n",
        "            if tool_name == 'langchain_retriever':\n",
        "                data['retrieved_context'] = [[tool_output]]\n",
        "        \n",
        "        # Parameters from tool input\n",
        "        tool_input_keys = [key for key in attributes.keys() if key.startswith('tool.input.')]\n",
        "        tool_params = {}\n",
        "        for key in tool_input_keys:\n",
        "            param_name = key.replace('tool.input.', '')\n",
        "            tool_params[param_name] = attributes[key]\n",
        "        data['parameters_passed'] = tool_params\n",
        "    else:\n",
        "        global count_unknowns\n",
        "        count_unknowns += 1\n",
        "        print('Spans with unknown type: ' + str(count_unknowns))\n",
        "    return AgentData(**data)\n",
        "\n",
        "print(\"✅ Field mapping functions defined!\")\n"
      ]
    },
    {
      "cell_type": "markdown",
      "metadata": {},
      "source": [
        "## Step 3: Create AgentDataset from Spans\n"
      ]
    },
    {
      "cell_type": "code",
      "execution_count": 102,
      "metadata": {},
      "outputs": [
        {
          "name": "stdout",
          "output_type": "stream",
          "text": [
            "🔄 Converting spans to AgentData objects...\n",
            "\n",
            "✅ Successfully converted 2301 spans to AgentData\n",
            "📊 AgentDataset created with 2301 records\n"
          ]
        }
      ],
      "source": [
        "# Convert spans to AgentData objects\n",
        "print(\"🔄 Converting spans to AgentData objects...\")\n",
        "\n",
        "agent_data_list = []\n",
        "errors = []\n",
        "\n",
        "for i, span in enumerate(spans_data):\n",
        "    try:\n",
        "        agent_data = map_span_to_agent_data(span)\n",
        "        agent_data_list.append(agent_data)\n",
        "    except Exception as e:\n",
        "        errors.append(f\"Span {i}: {str(e)}\")\n",
        "        if len(errors) <= 5:  # Show first 5 errors only\n",
        "            print(f\"⚠️  Error processing span {i}: {e}\")\n",
        "            print(span)\n",
        "\n",
        "print(f\"\\n✅ Successfully converted {len(agent_data_list)} spans to AgentData\")\n",
        "if errors:\n",
        "    print(f\"❌ {len(errors)} spans had errors\")\n",
        "\n",
        "# Create AgentDataset\n",
        "dataset = AgentDataset()\n",
        "dataset.data = agent_data_list\n",
        "\n",
        "print(f\"📊 AgentDataset created with {len(dataset.data)} records\")\n"
      ]
    },
    {
      "cell_type": "markdown",
      "metadata": {},
      "source": [
        "## Step 4: Examine Sample Data\n"
      ]
    },
    {
      "cell_type": "code",
      "execution_count": 103,
      "metadata": {},
      "outputs": [
        {
          "name": "stdout",
          "output_type": "stream",
          "text": [
            "📈 Dataset Statistics:\n",
            "\n",
            "Agent Types: {'tool': 2301}\n",
            "Records with responses: 2301\n",
            "Records with tool calls: 0\n",
            "Records with retrieval: 0\n",
            "Tool usage: {}\n",
            "\n",
            "🔍 Sample AgentData records:\n",
            "\n",
            "--- Record 1 (tool) ---\n",
            "Task: This is a simple tool call, and the tool will execute as programmed. Its name is - tavily_search_res...\n",
            "Response: HTTPError('432 Client Error:  for url: https://api.tavily.com/search')...\n",
            "Tool calls: 0\n",
            "Exit status: ok\n",
            "\n",
            "--- Record 2 (tool) ---\n",
            "Task: This is a simple tool call, and the tool will execute as programmed. Its name is - tavily_search_res...\n",
            "Response: HTTPError('432 Client Error:  for url: https://api.tavily.com/search')...\n",
            "Tool calls: 0\n",
            "Exit status: ok\n",
            "\n",
            "--- Record 3 (tool) ---\n",
            "Task: This is a simple tool call, and the tool will execute as programmed. Its name is - tavily_search_res...\n",
            "Response: HTTPError('432 Client Error:  for url: https://api.tavily.com/search')...\n",
            "Tool calls: 0\n",
            "Exit status: ok\n"
          ]
        }
      ],
      "source": [
        "# Show statistics about the dataset\n",
        "print(\"📈 Dataset Statistics:\")\n",
        "\n",
        "agent_types = {}\n",
        "tool_usage = {}\n",
        "with_responses = 0\n",
        "with_tool_calls = 0\n",
        "with_retrieval = 0\n",
        "\n",
        "for data in dataset.data:\n",
        "    # Agent types\n",
        "    if data.agent_name:\n",
        "        agent_types[data.agent_name] = agent_types.get(data.agent_name, 0) + 1\n",
        "    \n",
        "    # Responses\n",
        "    if data.agent_response:\n",
        "        with_responses += 1\n",
        "    \n",
        "    # Tool calls\n",
        "    if data.tool_calls:\n",
        "        with_tool_calls += 1\n",
        "        for tool_call in data.tool_calls:\n",
        "            if hasattr(tool_call, 'tool_name'):\n",
        "                tool_usage[tool_call.tool_name] = tool_usage.get(tool_call.tool_name, 0) + 1\n",
        "    \n",
        "    # Retrieval\n",
        "    if data.retrieval_query:\n",
        "        with_retrieval += 1\n",
        "\n",
        "print(f\"\\nAgent Types: {dict(agent_types)}\")\n",
        "print(f\"Records with responses: {with_responses}\")\n",
        "print(f\"Records with tool calls: {with_tool_calls}\")\n",
        "print(f\"Records with retrieval: {with_retrieval}\")\n",
        "print(f\"Tool usage: {dict(tool_usage)}\")\n",
        "\n",
        "# Show sample records\n",
        "print(\"\\n🔍 Sample AgentData records:\")\n",
        "for i, data in enumerate(dataset.data[:3]):\n",
        "    print(f\"\\n--- Record {i+1} ({data.agent_name}) ---\")\n",
        "    print(f\"Task: {data.agent_task[:100] if data.agent_task else 'None'}...\")\n",
        "    print(f\"Response: {data.agent_response[:100] if data.agent_response else 'None'}...\")\n",
        "    print(f\"Tool calls: {len(data.tool_calls) if data.tool_calls else 0}\")\n",
        "    print(f\"Exit status: {data.exit_status}\")\n"
      ]
    },
    {
      "cell_type": "markdown",
      "metadata": {},
      "source": [
        "## Step 5: Setup Gemini Model and Evaluator\n"
      ]
    },
    {
      "cell_type": "code",
      "execution_count": 104,
      "metadata": {},
      "outputs": [
        {
          "name": "stdout",
          "output_type": "stream",
          "text": [
            "✅ GEMINI_API_KEY found in environment\n",
            "2025-09-24 18:31:28 - INFO - novaeval.models.base - Noveum tracing initialized successfully\n",
            "✅ Gemini model initialized\n"
          ]
        }
      ],
      "source": [
        "import os\n",
        "\n",
        "# Check for API key\n",
        "if 'GEMINI_API_KEY' not in os.environ:\n",
        "    print(\"⚠️  GEMINI_API_KEY environment variable not set!\")\n",
        "    print(\"Please set it before running evaluation:\")\n",
        "    print(\"export GEMINI_API_KEY='your-api-key-here'\")\n",
        "else:\n",
        "    print(\"✅ GEMINI_API_KEY found in environment\")\n",
        "\n",
        "# Initialize Gemini model\n",
        "try:\n",
        "    gemini_model = GeminiModel(\n",
        "        model_name=\"gemini-1.5-flash\",  # Using flash model for cost efficiency\n",
        "        temperature=0.1,  # Low temperature for consistent evaluation\n",
        "        max_tokens=1024\n",
        "    )\n",
        "    print(\"✅ Gemini model initialized\")\n",
        "except Exception as e:\n",
        "    print(f\"❌ Error initializing Gemini model: {e}\")\n",
        "    gemini_model = None\n"
      ]
    },
    {
      "cell_type": "code",
      "execution_count": 105,
      "metadata": {},
      "outputs": [
        {
          "name": "stdout",
          "output_type": "stream",
          "text": [
            "✅ Initialized 5 scoring functions:\n",
            "  - task_progression_scorer\n",
            "  - context_relevancy_scorer\n",
            "  - role_adherence_scorer\n",
            "  - tool_relevancy_scorer\n",
            "  - parameter_correctness_scorer\n",
            "\n",
            "✅ AgentEvaluator created with Gemini model and scoring functions\n"
          ]
        }
      ],
      "source": [
        "# Initialize scoring functions for evaluation\n",
        "scoring_functions = [\n",
        "    task_progression_scorer,\n",
        "    context_relevancy_scorer,\n",
        "    role_adherence_scorer,\n",
        "    tool_relevancy_scorer,\n",
        "    parameter_correctness_scorer\n",
        "]\n",
        "\n",
        "print(f\"✅ Initialized {len(scoring_functions)} scoring functions:\")\n",
        "for func in scoring_functions:\n",
        "    print(f\"  - {func.__name__}\")\n",
        "\n",
        "# Create AgentEvaluator\n",
        "if gemini_model:\n",
        "    evaluator = AgentEvaluator(\n",
        "        agent_dataset=dataset,\n",
        "        models=[gemini_model],\n",
        "        scoring_functions=scoring_functions,\n",
        "        output_dir=\"./demo_results\",\n",
        "        stream=False,\n",
        "        include_reasoning=True\n",
        "    )\n",
        "    print(\"\\n✅ AgentEvaluator created with Gemini model and scoring functions\")\n",
        "else:\n",
        "    print(\"\\n❌ Cannot create evaluator - Gemini model not available\")\n"
      ]
    },
    {
      "cell_type": "markdown",
      "metadata": {},
      "source": [
        "## Step 6: Run Evaluation (Sample)\n"
      ]
    },
    {
      "cell_type": "code",
      "execution_count": 106,
      "metadata": {},
      "outputs": [
        {
          "name": "stdout",
          "output_type": "stream",
          "text": [
            "🚀 Running evaluation on sample data...\n",
            "\n",
            "📊 Evaluating 25 sample records...\n",
            "2025-09-24 18:31:28 - INFO - novaeval.evaluators.agent_evaluator - Starting agent evaluation process\n"
          ]
        },
        {
          "name": "stderr",
          "output_type": "stream",
          "text": [
            "Evaluating samples: 0it [00:00, ?it/s]"
          ]
        },
        {
          "name": "stdout",
          "output_type": "stream",
          "text": [
            "2025-09-24 18:31:28 - INFO - google_genai.models - AFC is enabled with max remote calls: 10.\n",
            "2025-09-24 18:31:30 - INFO - google_genai.models - AFC remote call 1 is done.\n"
          ]
        },
        {
          "name": "stderr",
          "output_type": "stream",
          "text": [
            "2025-09-24 18:31:30 - noveum_trace.transport.http_transport - INFO - 📤 EXPORTING TRACE: auto_trace_generate (ID: 82c85f1a-ac7e-4f01-a4c8-a3260921bfda) - 1 spans\n",
            "2025-09-24 18:31:30 - noveum_trace.transport.batch_processor - INFO - 📥 ADDING TRACE TO QUEUE: auto_trace_generate (ID: 82c85f1a-ac7e-4f01-a4c8-a3260921bfda) - 1 spans\n",
            "2025-09-24 18:31:30 - noveum_trace.transport.batch_processor - INFO - ✅ Successfully queued trace 82c85f1a-ac7e-4f01-a4c8-a3260921bfda\n",
            "2025-09-24 18:31:30 - noveum_trace.transport.http_transport - INFO - ✅ Trace 82c85f1a-ac7e-4f01-a4c8-a3260921bfda successfully queued for export\n"
          ]
        },
        {
          "name": "stdout",
          "output_type": "stream",
          "text": [
            "2025-09-24 18:31:30 - INFO - google_genai.models - AFC is enabled with max remote calls: 10.\n",
            "2025-09-24 18:31:31 - INFO - google_genai.models - AFC remote call 1 is done.\n"
          ]
        },
        {
          "name": "stderr",
          "output_type": "stream",
          "text": [
            "2025-09-24 18:31:31 - noveum_trace.transport.http_transport - INFO - 📤 EXPORTING TRACE: auto_trace_generate (ID: b5c746ba-c6ef-4be4-9755-08086ea6a5fd) - 1 spans\n",
            "2025-09-24 18:31:31 - noveum_trace.transport.batch_processor - INFO - 📥 ADDING TRACE TO QUEUE: auto_trace_generate (ID: b5c746ba-c6ef-4be4-9755-08086ea6a5fd) - 1 spans\n",
            "2025-09-24 18:31:31 - noveum_trace.transport.batch_processor - INFO - ✅ Successfully queued trace b5c746ba-c6ef-4be4-9755-08086ea6a5fd\n",
            "2025-09-24 18:31:31 - noveum_trace.transport.http_transport - INFO - ✅ Trace b5c746ba-c6ef-4be4-9755-08086ea6a5fd successfully queued for export\n"
          ]
        },
        {
          "name": "stdout",
          "output_type": "stream",
          "text": [
            "2025-09-24 18:31:31 - INFO - google_genai.models - AFC is enabled with max remote calls: 10.\n",
            "2025-09-24 18:31:32 - INFO - google_genai.models - AFC remote call 1 is done.\n"
          ]
        },
        {
          "name": "stderr",
          "output_type": "stream",
          "text": [
            "2025-09-24 18:31:32 - noveum_trace.transport.http_transport - INFO - 📤 EXPORTING TRACE: auto_trace_generate (ID: 4777fb1e-1d3a-4cb3-9812-f9ae79e0f1d1) - 1 spans\n",
            "2025-09-24 18:31:32 - noveum_trace.transport.batch_processor - INFO - 📥 ADDING TRACE TO QUEUE: auto_trace_generate (ID: 4777fb1e-1d3a-4cb3-9812-f9ae79e0f1d1) - 1 spans\n",
            "2025-09-24 18:31:32 - noveum_trace.transport.batch_processor - INFO - ✅ Successfully queued trace 4777fb1e-1d3a-4cb3-9812-f9ae79e0f1d1\n",
            "2025-09-24 18:31:32 - noveum_trace.transport.http_transport - INFO - ✅ Trace 4777fb1e-1d3a-4cb3-9812-f9ae79e0f1d1 successfully queued for export\n"
          ]
        },
        {
          "name": "stdout",
          "output_type": "stream",
          "text": [
            "2025-09-24 18:31:32 - INFO - novaeval.evaluators.agent_evaluator - Saving intermediate results after 1 samples\n",
            "2025-09-24 18:31:32 - INFO - novaeval.evaluators.agent_evaluator - Intermediate results saved to demo_results/tavily_search_results_dataset/agent_evaluation_results.csv\n"
          ]
        },
        {
          "name": "stderr",
          "output_type": "stream",
          "text": [
            "Evaluating samples: 1it [00:03,  3.89s/it]"
          ]
        },
        {
          "name": "stdout",
          "output_type": "stream",
          "text": [
            "2025-09-24 18:31:32 - INFO - google_genai.models - AFC is enabled with max remote calls: 10.\n",
            "2025-09-24 18:31:33 - INFO - google_genai.models - AFC remote call 1 is done.\n"
          ]
        },
        {
          "name": "stderr",
          "output_type": "stream",
          "text": [
            "2025-09-24 18:31:33 - noveum_trace.transport.http_transport - INFO - 📤 EXPORTING TRACE: auto_trace_generate (ID: 7fa70895-8960-4621-a2db-7a09e817ad08) - 1 spans\n",
            "2025-09-24 18:31:33 - noveum_trace.transport.batch_processor - INFO - 📥 ADDING TRACE TO QUEUE: auto_trace_generate (ID: 7fa70895-8960-4621-a2db-7a09e817ad08) - 1 spans\n",
            "2025-09-24 18:31:33 - noveum_trace.transport.batch_processor - INFO - ✅ Successfully queued trace 7fa70895-8960-4621-a2db-7a09e817ad08\n",
            "2025-09-24 18:31:33 - noveum_trace.transport.http_transport - INFO - ✅ Trace 7fa70895-8960-4621-a2db-7a09e817ad08 successfully queued for export\n"
          ]
        },
        {
          "name": "stdout",
          "output_type": "stream",
          "text": [
            "2025-09-24 18:31:33 - INFO - google_genai.models - AFC is enabled with max remote calls: 10.\n",
            "2025-09-24 18:31:35 - INFO - google_genai.models - AFC remote call 1 is done.\n"
          ]
        },
        {
          "name": "stderr",
          "output_type": "stream",
          "text": [
            "2025-09-24 18:31:35 - noveum_trace.transport.http_transport - INFO - 📤 EXPORTING TRACE: auto_trace_generate (ID: 470150bf-d627-45db-8d0c-94d2a1fe8593) - 1 spans\n",
            "2025-09-24 18:31:35 - noveum_trace.transport.batch_processor - INFO - 📥 ADDING TRACE TO QUEUE: auto_trace_generate (ID: 470150bf-d627-45db-8d0c-94d2a1fe8593) - 1 spans\n",
            "2025-09-24 18:31:35 - noveum_trace.transport.batch_processor - INFO - ✅ Successfully queued trace 470150bf-d627-45db-8d0c-94d2a1fe8593\n",
            "2025-09-24 18:31:35 - noveum_trace.transport.http_transport - INFO - ✅ Trace 470150bf-d627-45db-8d0c-94d2a1fe8593 successfully queued for export\n"
          ]
        },
        {
          "name": "stdout",
          "output_type": "stream",
          "text": [
            "2025-09-24 18:31:35 - INFO - google_genai.models - AFC is enabled with max remote calls: 10.\n",
            "2025-09-24 18:31:36 - INFO - google_genai.models - AFC remote call 1 is done.\n"
          ]
        },
        {
          "name": "stderr",
          "output_type": "stream",
          "text": [
            "2025-09-24 18:31:36 - noveum_trace.transport.http_transport - INFO - 📤 EXPORTING TRACE: auto_trace_generate (ID: e13aee99-f1ce-49cc-b182-4829948ad6ad) - 1 spans\n",
            "2025-09-24 18:31:36 - noveum_trace.transport.batch_processor - INFO - 📥 ADDING TRACE TO QUEUE: auto_trace_generate (ID: e13aee99-f1ce-49cc-b182-4829948ad6ad) - 1 spans\n",
            "2025-09-24 18:31:36 - noveum_trace.transport.batch_processor - INFO - ✅ Successfully queued trace e13aee99-f1ce-49cc-b182-4829948ad6ad\n",
            "2025-09-24 18:31:36 - noveum_trace.transport.http_transport - INFO - ✅ Trace e13aee99-f1ce-49cc-b182-4829948ad6ad successfully queued for export\n"
          ]
        },
        {
          "name": "stdout",
          "output_type": "stream",
          "text": [
            "2025-09-24 18:31:36 - INFO - novaeval.evaluators.agent_evaluator - Saving intermediate results after 2 samples\n",
            "2025-09-24 18:31:36 - INFO - novaeval.evaluators.agent_evaluator - Intermediate results saved to demo_results/tavily_search_results_dataset/agent_evaluation_results.csv\n"
          ]
        },
        {
          "name": "stderr",
          "output_type": "stream",
          "text": [
            "Evaluating samples: 2it [00:07,  3.71s/it]"
          ]
        },
        {
          "name": "stdout",
          "output_type": "stream",
          "text": [
            "2025-09-24 18:31:36 - INFO - google_genai.models - AFC is enabled with max remote calls: 10.\n",
            "2025-09-24 18:31:37 - INFO - google_genai.models - AFC remote call 1 is done.\n"
          ]
        },
        {
          "name": "stderr",
          "output_type": "stream",
          "text": [
            "2025-09-24 18:31:37 - noveum_trace.transport.http_transport - INFO - 📤 EXPORTING TRACE: auto_trace_generate (ID: fdf1ef40-e31f-4b37-bde0-ce59c18a754b) - 1 spans\n",
            "2025-09-24 18:31:37 - noveum_trace.transport.batch_processor - INFO - 📥 ADDING TRACE TO QUEUE: auto_trace_generate (ID: fdf1ef40-e31f-4b37-bde0-ce59c18a754b) - 1 spans\n",
            "2025-09-24 18:31:37 - noveum_trace.transport.batch_processor - INFO - ✅ Successfully queued trace fdf1ef40-e31f-4b37-bde0-ce59c18a754b\n",
            "2025-09-24 18:31:37 - noveum_trace.transport.http_transport - INFO - ✅ Trace fdf1ef40-e31f-4b37-bde0-ce59c18a754b successfully queued for export\n"
          ]
        },
        {
          "name": "stdout",
          "output_type": "stream",
          "text": [
            "2025-09-24 18:31:37 - INFO - google_genai.models - AFC is enabled with max remote calls: 10.\n",
            "2025-09-24 18:31:38 - INFO - google_genai.models - AFC remote call 1 is done.\n"
          ]
        },
        {
          "name": "stderr",
          "output_type": "stream",
          "text": [
            "2025-09-24 18:31:38 - noveum_trace.transport.http_transport - INFO - 📤 EXPORTING TRACE: auto_trace_generate (ID: c3325bd7-9dd8-44c1-aacd-6e5cdcb5099b) - 1 spans\n",
            "2025-09-24 18:31:38 - noveum_trace.transport.batch_processor - INFO - 📥 ADDING TRACE TO QUEUE: auto_trace_generate (ID: c3325bd7-9dd8-44c1-aacd-6e5cdcb5099b) - 1 spans\n",
            "2025-09-24 18:31:38 - noveum_trace.transport.batch_processor - INFO - ✅ Successfully queued trace c3325bd7-9dd8-44c1-aacd-6e5cdcb5099b\n",
            "2025-09-24 18:31:38 - noveum_trace.transport.http_transport - INFO - ✅ Trace c3325bd7-9dd8-44c1-aacd-6e5cdcb5099b successfully queued for export\n"
          ]
        },
        {
          "name": "stdout",
          "output_type": "stream",
          "text": [
            "2025-09-24 18:31:38 - INFO - google_genai.models - AFC is enabled with max remote calls: 10.\n",
            "2025-09-24 18:31:39 - INFO - google_genai.models - AFC remote call 1 is done.\n"
          ]
        },
        {
          "name": "stderr",
          "output_type": "stream",
          "text": [
            "2025-09-24 18:31:39 - noveum_trace.transport.http_transport - INFO - 📤 EXPORTING TRACE: auto_trace_generate (ID: bd3b0607-d971-4de5-adef-4c4ef312623c) - 1 spans\n",
            "2025-09-24 18:31:39 - noveum_trace.transport.batch_processor - INFO - 📥 ADDING TRACE TO QUEUE: auto_trace_generate (ID: bd3b0607-d971-4de5-adef-4c4ef312623c) - 1 spans\n",
            "2025-09-24 18:31:39 - noveum_trace.transport.batch_processor - INFO - ✅ Successfully queued trace bd3b0607-d971-4de5-adef-4c4ef312623c\n",
            "2025-09-24 18:31:39 - noveum_trace.transport.http_transport - INFO - ✅ Trace bd3b0607-d971-4de5-adef-4c4ef312623c successfully queued for export\n"
          ]
        },
        {
          "name": "stdout",
          "output_type": "stream",
          "text": [
            "2025-09-24 18:31:39 - INFO - novaeval.evaluators.agent_evaluator - Saving intermediate results after 3 samples\n",
            "2025-09-24 18:31:39 - INFO - novaeval.evaluators.agent_evaluator - Intermediate results saved to demo_results/tavily_search_results_dataset/agent_evaluation_results.csv\n"
          ]
        },
        {
          "name": "stderr",
          "output_type": "stream",
          "text": [
            "Evaluating samples: 3it [00:11,  3.71s/it]"
          ]
        },
        {
          "name": "stdout",
          "output_type": "stream",
          "text": [
            "2025-09-24 18:31:39 - INFO - google_genai.models - AFC is enabled with max remote calls: 10.\n",
            "2025-09-24 18:31:41 - INFO - google_genai.models - AFC remote call 1 is done.\n"
          ]
        },
        {
          "name": "stderr",
          "output_type": "stream",
          "text": [
            "2025-09-24 18:31:41 - noveum_trace.transport.http_transport - INFO - 📤 EXPORTING TRACE: auto_trace_generate (ID: af008822-05f4-452f-9ac4-064eeccdde26) - 1 spans\n",
            "2025-09-24 18:31:41 - noveum_trace.transport.batch_processor - INFO - 📥 ADDING TRACE TO QUEUE: auto_trace_generate (ID: af008822-05f4-452f-9ac4-064eeccdde26) - 1 spans\n",
            "2025-09-24 18:31:41 - noveum_trace.transport.batch_processor - INFO - ✅ Successfully queued trace af008822-05f4-452f-9ac4-064eeccdde26\n",
            "2025-09-24 18:31:41 - noveum_trace.transport.http_transport - INFO - ✅ Trace af008822-05f4-452f-9ac4-064eeccdde26 successfully queued for export\n"
          ]
        },
        {
          "name": "stdout",
          "output_type": "stream",
          "text": [
            "2025-09-24 18:31:41 - INFO - google_genai.models - AFC is enabled with max remote calls: 10.\n",
            "2025-09-24 18:31:42 - INFO - google_genai.models - AFC remote call 1 is done.\n"
          ]
        },
        {
          "name": "stderr",
          "output_type": "stream",
          "text": [
            "2025-09-24 18:31:42 - noveum_trace.transport.http_transport - INFO - 📤 EXPORTING TRACE: auto_trace_generate (ID: b3f61c76-2c3a-483f-8e45-681712a7010d) - 1 spans\n",
            "2025-09-24 18:31:42 - noveum_trace.transport.batch_processor - INFO - 📥 ADDING TRACE TO QUEUE: auto_trace_generate (ID: b3f61c76-2c3a-483f-8e45-681712a7010d) - 1 spans\n",
            "2025-09-24 18:31:42 - noveum_trace.transport.batch_processor - INFO - ✅ Successfully queued trace b3f61c76-2c3a-483f-8e45-681712a7010d\n",
            "2025-09-24 18:31:42 - noveum_trace.transport.http_transport - INFO - ✅ Trace b3f61c76-2c3a-483f-8e45-681712a7010d successfully queued for export\n"
          ]
        },
        {
          "name": "stdout",
          "output_type": "stream",
          "text": [
            "2025-09-24 18:31:42 - INFO - google_genai.models - AFC is enabled with max remote calls: 10.\n",
            "2025-09-24 18:31:43 - INFO - google_genai.models - AFC remote call 1 is done.\n"
          ]
        },
        {
          "name": "stderr",
          "output_type": "stream",
          "text": [
            "2025-09-24 18:31:43 - noveum_trace.transport.http_transport - INFO - 📤 EXPORTING TRACE: auto_trace_generate (ID: c996486a-cef9-4b86-9feb-fa2c449710f3) - 1 spans\n",
            "2025-09-24 18:31:43 - noveum_trace.transport.batch_processor - INFO - 📥 ADDING TRACE TO QUEUE: auto_trace_generate (ID: c996486a-cef9-4b86-9feb-fa2c449710f3) - 1 spans\n",
            "2025-09-24 18:31:43 - noveum_trace.transport.batch_processor - INFO - ✅ Successfully queued trace c996486a-cef9-4b86-9feb-fa2c449710f3\n",
            "2025-09-24 18:31:43 - noveum_trace.transport.http_transport - INFO - ✅ Trace c996486a-cef9-4b86-9feb-fa2c449710f3 successfully queued for export\n"
          ]
        },
        {
          "name": "stdout",
          "output_type": "stream",
          "text": [
            "2025-09-24 18:31:43 - INFO - novaeval.evaluators.agent_evaluator - Saving intermediate results after 4 samples\n",
            "2025-09-24 18:31:43 - INFO - novaeval.evaluators.agent_evaluator - Intermediate results saved to demo_results/tavily_search_results_dataset/agent_evaluation_results.csv\n"
          ]
        },
        {
          "name": "stderr",
          "output_type": "stream",
          "text": [
            "Evaluating samples: 4it [00:15,  3.82s/it]"
          ]
        },
        {
          "name": "stdout",
          "output_type": "stream",
          "text": [
            "2025-09-24 18:31:43 - INFO - google_genai.models - AFC is enabled with max remote calls: 10.\n",
            "2025-09-24 18:31:44 - INFO - google_genai.models - AFC remote call 1 is done.\n"
          ]
        },
        {
          "name": "stderr",
          "output_type": "stream",
          "text": [
            "2025-09-24 18:31:44 - noveum_trace.transport.http_transport - INFO - 📤 EXPORTING TRACE: auto_trace_generate (ID: 30cd3863-e67d-422e-b16f-2342a7383825) - 1 spans\n",
            "2025-09-24 18:31:44 - noveum_trace.transport.batch_processor - INFO - 📥 ADDING TRACE TO QUEUE: auto_trace_generate (ID: 30cd3863-e67d-422e-b16f-2342a7383825) - 1 spans\n",
            "2025-09-24 18:31:44 - noveum_trace.transport.batch_processor - INFO - ✅ Successfully queued trace 30cd3863-e67d-422e-b16f-2342a7383825\n",
            "2025-09-24 18:31:44 - noveum_trace.transport.http_transport - INFO - ✅ Trace 30cd3863-e67d-422e-b16f-2342a7383825 successfully queued for export\n"
          ]
        },
        {
          "name": "stdout",
          "output_type": "stream",
          "text": [
            "2025-09-24 18:31:44 - INFO - google_genai.models - AFC is enabled with max remote calls: 10.\n",
            "2025-09-24 18:31:46 - INFO - google_genai.models - AFC remote call 1 is done.\n"
          ]
        },
        {
          "name": "stderr",
          "output_type": "stream",
          "text": [
            "2025-09-24 18:31:46 - noveum_trace.transport.http_transport - INFO - 📤 EXPORTING TRACE: auto_trace_generate (ID: 64aab416-9386-4c20-b97e-6a8ccac0e9e4) - 1 spans\n",
            "2025-09-24 18:31:46 - noveum_trace.transport.batch_processor - INFO - 📥 ADDING TRACE TO QUEUE: auto_trace_generate (ID: 64aab416-9386-4c20-b97e-6a8ccac0e9e4) - 1 spans\n",
            "2025-09-24 18:31:46 - noveum_trace.transport.batch_processor - INFO - ✅ Successfully queued trace 64aab416-9386-4c20-b97e-6a8ccac0e9e4\n",
            "2025-09-24 18:31:46 - noveum_trace.transport.http_transport - INFO - ✅ Trace 64aab416-9386-4c20-b97e-6a8ccac0e9e4 successfully queued for export\n"
          ]
        },
        {
          "name": "stdout",
          "output_type": "stream",
          "text": [
            "2025-09-24 18:31:46 - INFO - google_genai.models - AFC is enabled with max remote calls: 10.\n",
            "2025-09-24 18:31:47 - INFO - google_genai.models - AFC remote call 1 is done.\n"
          ]
        },
        {
          "name": "stderr",
          "output_type": "stream",
          "text": [
            "2025-09-24 18:31:47 - noveum_trace.transport.http_transport - INFO - 📤 EXPORTING TRACE: auto_trace_generate (ID: b67f8cf9-102c-422b-aff1-b785509dfe7e) - 1 spans\n",
            "2025-09-24 18:31:47 - noveum_trace.transport.batch_processor - INFO - 📥 ADDING TRACE TO QUEUE: auto_trace_generate (ID: b67f8cf9-102c-422b-aff1-b785509dfe7e) - 1 spans\n",
            "2025-09-24 18:31:47 - noveum_trace.transport.batch_processor - INFO - ✅ Successfully queued trace b67f8cf9-102c-422b-aff1-b785509dfe7e\n",
            "2025-09-24 18:31:47 - noveum_trace.transport.http_transport - INFO - ✅ Trace b67f8cf9-102c-422b-aff1-b785509dfe7e successfully queued for export\n"
          ]
        },
        {
          "name": "stdout",
          "output_type": "stream",
          "text": [
            "2025-09-24 18:31:47 - INFO - novaeval.evaluators.agent_evaluator - Saving intermediate results after 5 samples\n",
            "2025-09-24 18:31:47 - INFO - novaeval.evaluators.agent_evaluator - Intermediate results saved to demo_results/tavily_search_results_dataset/agent_evaluation_results.csv\n"
          ]
        },
        {
          "name": "stderr",
          "output_type": "stream",
          "text": [
            "Evaluating samples: 5it [00:18,  3.77s/it]"
          ]
        },
        {
          "name": "stdout",
          "output_type": "stream",
          "text": [
            "2025-09-24 18:31:47 - INFO - google_genai.models - AFC is enabled with max remote calls: 10.\n",
            "2025-09-24 18:31:48 - INFO - google_genai.models - AFC remote call 1 is done.\n"
          ]
        },
        {
          "name": "stderr",
          "output_type": "stream",
          "text": [
            "2025-09-24 18:31:48 - noveum_trace.transport.http_transport - INFO - 📤 EXPORTING TRACE: auto_trace_generate (ID: ff873622-fd07-4fcd-ae6d-60ba559bf44e) - 1 spans\n",
            "2025-09-24 18:31:48 - noveum_trace.transport.batch_processor - INFO - 📥 ADDING TRACE TO QUEUE: auto_trace_generate (ID: ff873622-fd07-4fcd-ae6d-60ba559bf44e) - 1 spans\n",
            "2025-09-24 18:31:48 - noveum_trace.transport.batch_processor - INFO - ✅ Successfully queued trace ff873622-fd07-4fcd-ae6d-60ba559bf44e\n",
            "2025-09-24 18:31:48 - noveum_trace.transport.http_transport - INFO - ✅ Trace ff873622-fd07-4fcd-ae6d-60ba559bf44e successfully queued for export\n"
          ]
        },
        {
          "name": "stdout",
          "output_type": "stream",
          "text": [
            "2025-09-24 18:31:48 - INFO - google_genai.models - AFC is enabled with max remote calls: 10.\n",
            "2025-09-24 18:31:50 - INFO - google_genai.models - AFC remote call 1 is done.\n"
          ]
        },
        {
          "name": "stderr",
          "output_type": "stream",
          "text": [
            "2025-09-24 18:31:50 - noveum_trace.transport.http_transport - INFO - 📤 EXPORTING TRACE: auto_trace_generate (ID: cf93e068-f921-48cc-856b-ffcef63852b0) - 1 spans\n",
            "2025-09-24 18:31:50 - noveum_trace.transport.batch_processor - INFO - 📥 ADDING TRACE TO QUEUE: auto_trace_generate (ID: cf93e068-f921-48cc-856b-ffcef63852b0) - 1 spans\n",
            "2025-09-24 18:31:50 - noveum_trace.transport.batch_processor - INFO - ✅ Successfully queued trace cf93e068-f921-48cc-856b-ffcef63852b0\n",
            "2025-09-24 18:31:50 - noveum_trace.transport.http_transport - INFO - ✅ Trace cf93e068-f921-48cc-856b-ffcef63852b0 successfully queued for export\n"
          ]
        },
        {
          "name": "stdout",
          "output_type": "stream",
          "text": [
            "2025-09-24 18:31:50 - INFO - google_genai.models - AFC is enabled with max remote calls: 10.\n",
            "2025-09-24 18:31:51 - INFO - google_genai.models - AFC remote call 1 is done.\n"
          ]
        },
        {
          "name": "stderr",
          "output_type": "stream",
          "text": [
            "2025-09-24 18:31:51 - noveum_trace.transport.http_transport - INFO - 📤 EXPORTING TRACE: auto_trace_generate (ID: 8509c67f-995f-4c09-9299-2959f7967e92) - 1 spans\n",
            "2025-09-24 18:31:51 - noveum_trace.transport.batch_processor - INFO - 📥 ADDING TRACE TO QUEUE: auto_trace_generate (ID: 8509c67f-995f-4c09-9299-2959f7967e92) - 1 spans\n",
            "2025-09-24 18:31:51 - noveum_trace.transport.batch_processor - INFO - ✅ Successfully queued trace 8509c67f-995f-4c09-9299-2959f7967e92\n",
            "2025-09-24 18:31:51 - noveum_trace.transport.http_transport - INFO - ✅ Trace 8509c67f-995f-4c09-9299-2959f7967e92 successfully queued for export\n"
          ]
        },
        {
          "name": "stdout",
          "output_type": "stream",
          "text": [
            "2025-09-24 18:31:51 - INFO - novaeval.evaluators.agent_evaluator - Saving intermediate results after 6 samples\n",
            "2025-09-24 18:31:51 - INFO - novaeval.evaluators.agent_evaluator - Intermediate results saved to demo_results/tavily_search_results_dataset/agent_evaluation_results.csv\n"
          ]
        },
        {
          "name": "stderr",
          "output_type": "stream",
          "text": [
            "Evaluating samples: 6it [00:22,  3.67s/it]"
          ]
        },
        {
          "name": "stdout",
          "output_type": "stream",
          "text": [
            "2025-09-24 18:31:51 - INFO - google_genai.models - AFC is enabled with max remote calls: 10.\n",
            "2025-09-24 18:31:52 - INFO - google_genai.models - AFC remote call 1 is done.\n"
          ]
        },
        {
          "name": "stderr",
          "output_type": "stream",
          "text": [
            "2025-09-24 18:31:52 - noveum_trace.transport.http_transport - INFO - 📤 EXPORTING TRACE: auto_trace_generate (ID: 68cba948-5b22-4647-b226-9238677e01f7) - 1 spans\n",
            "2025-09-24 18:31:52 - noveum_trace.transport.batch_processor - INFO - 📥 ADDING TRACE TO QUEUE: auto_trace_generate (ID: 68cba948-5b22-4647-b226-9238677e01f7) - 1 spans\n",
            "2025-09-24 18:31:52 - noveum_trace.transport.batch_processor - INFO - ✅ Successfully queued trace 68cba948-5b22-4647-b226-9238677e01f7\n",
            "2025-09-24 18:31:52 - noveum_trace.transport.http_transport - INFO - ✅ Trace 68cba948-5b22-4647-b226-9238677e01f7 successfully queued for export\n"
          ]
        },
        {
          "name": "stdout",
          "output_type": "stream",
          "text": [
            "2025-09-24 18:31:52 - INFO - google_genai.models - AFC is enabled with max remote calls: 10.\n",
            "2025-09-24 18:31:53 - INFO - google_genai.models - AFC remote call 1 is done.\n"
          ]
        },
        {
          "name": "stderr",
          "output_type": "stream",
          "text": [
            "2025-09-24 18:31:53 - noveum_trace.transport.http_transport - INFO - 📤 EXPORTING TRACE: auto_trace_generate (ID: 8d56cfda-e1ca-495c-8a5f-74a95112f2cb) - 1 spans\n",
            "2025-09-24 18:31:53 - noveum_trace.transport.batch_processor - INFO - 📥 ADDING TRACE TO QUEUE: auto_trace_generate (ID: 8d56cfda-e1ca-495c-8a5f-74a95112f2cb) - 1 spans\n",
            "2025-09-24 18:31:53 - noveum_trace.transport.batch_processor - INFO - ✅ Successfully queued trace 8d56cfda-e1ca-495c-8a5f-74a95112f2cb\n",
            "2025-09-24 18:31:53 - noveum_trace.transport.http_transport - INFO - ✅ Trace 8d56cfda-e1ca-495c-8a5f-74a95112f2cb successfully queued for export\n"
          ]
        },
        {
          "name": "stdout",
          "output_type": "stream",
          "text": [
            "2025-09-24 18:31:53 - INFO - google_genai.models - AFC is enabled with max remote calls: 10.\n",
            "2025-09-24 18:31:54 - INFO - google_genai.models - AFC remote call 1 is done.\n"
          ]
        },
        {
          "name": "stderr",
          "output_type": "stream",
          "text": [
            "2025-09-24 18:31:54 - noveum_trace.transport.http_transport - INFO - 📤 EXPORTING TRACE: auto_trace_generate (ID: b2c756cb-36c9-41b3-ad8b-7c623e98ddd2) - 1 spans\n",
            "2025-09-24 18:31:54 - noveum_trace.transport.batch_processor - INFO - 📥 ADDING TRACE TO QUEUE: auto_trace_generate (ID: b2c756cb-36c9-41b3-ad8b-7c623e98ddd2) - 1 spans\n",
            "2025-09-24 18:31:54 - noveum_trace.transport.batch_processor - INFO - ✅ Successfully queued trace b2c756cb-36c9-41b3-ad8b-7c623e98ddd2\n",
            "2025-09-24 18:31:54 - noveum_trace.transport.http_transport - INFO - ✅ Trace b2c756cb-36c9-41b3-ad8b-7c623e98ddd2 successfully queued for export\n"
          ]
        },
        {
          "name": "stdout",
          "output_type": "stream",
          "text": [
            "2025-09-24 18:31:54 - INFO - novaeval.evaluators.agent_evaluator - Saving intermediate results after 7 samples\n",
            "2025-09-24 18:31:54 - INFO - novaeval.evaluators.agent_evaluator - Intermediate results saved to demo_results/tavily_search_results_dataset/agent_evaluation_results.csv\n"
          ]
        },
        {
          "name": "stderr",
          "output_type": "stream",
          "text": [
            "Evaluating samples: 7it [00:26,  3.68s/it]"
          ]
        },
        {
          "name": "stdout",
          "output_type": "stream",
          "text": [
            "2025-09-24 18:31:54 - INFO - google_genai.models - AFC is enabled with max remote calls: 10.\n",
            "2025-09-24 18:31:55 - INFO - google_genai.models - AFC remote call 1 is done.\n"
          ]
        },
        {
          "name": "stderr",
          "output_type": "stream",
          "text": [
            "2025-09-24 18:31:55 - noveum_trace.transport.http_transport - INFO - 📤 EXPORTING TRACE: auto_trace_generate (ID: dd5b177c-648e-4ff3-a5c1-35b73b9de2bc) - 1 spans\n",
            "2025-09-24 18:31:55 - noveum_trace.transport.batch_processor - INFO - 📥 ADDING TRACE TO QUEUE: auto_trace_generate (ID: dd5b177c-648e-4ff3-a5c1-35b73b9de2bc) - 1 spans\n",
            "2025-09-24 18:31:55 - noveum_trace.transport.batch_processor - INFO - ✅ Successfully queued trace dd5b177c-648e-4ff3-a5c1-35b73b9de2bc\n",
            "2025-09-24 18:31:55 - noveum_trace.transport.http_transport - INFO - ✅ Trace dd5b177c-648e-4ff3-a5c1-35b73b9de2bc successfully queued for export\n"
          ]
        },
        {
          "name": "stdout",
          "output_type": "stream",
          "text": [
            "2025-09-24 18:31:55 - INFO - google_genai.models - AFC is enabled with max remote calls: 10.\n",
            "2025-09-24 18:31:57 - INFO - google_genai.models - AFC remote call 1 is done.\n"
          ]
        },
        {
          "name": "stderr",
          "output_type": "stream",
          "text": [
            "2025-09-24 18:31:57 - noveum_trace.transport.http_transport - INFO - 📤 EXPORTING TRACE: auto_trace_generate (ID: bcd89886-4526-418c-96ea-40aab8d6d3e8) - 1 spans\n",
            "2025-09-24 18:31:57 - noveum_trace.transport.batch_processor - INFO - 📥 ADDING TRACE TO QUEUE: auto_trace_generate (ID: bcd89886-4526-418c-96ea-40aab8d6d3e8) - 1 spans\n",
            "2025-09-24 18:31:57 - noveum_trace.transport.batch_processor - INFO - ✅ Successfully queued trace bcd89886-4526-418c-96ea-40aab8d6d3e8\n",
            "2025-09-24 18:31:57 - noveum_trace.transport.http_transport - INFO - ✅ Trace bcd89886-4526-418c-96ea-40aab8d6d3e8 successfully queued for export\n"
          ]
        },
        {
          "name": "stdout",
          "output_type": "stream",
          "text": [
            "2025-09-24 18:31:57 - INFO - google_genai.models - AFC is enabled with max remote calls: 10.\n",
            "2025-09-24 18:31:58 - INFO - google_genai.models - AFC remote call 1 is done.\n"
          ]
        },
        {
          "name": "stderr",
          "output_type": "stream",
          "text": [
            "2025-09-24 18:31:58 - noveum_trace.transport.http_transport - INFO - 📤 EXPORTING TRACE: auto_trace_generate (ID: 919d7430-bed2-4b98-9906-fc4cf1b7c5f2) - 1 spans\n",
            "2025-09-24 18:31:58 - noveum_trace.transport.batch_processor - INFO - 📥 ADDING TRACE TO QUEUE: auto_trace_generate (ID: 919d7430-bed2-4b98-9906-fc4cf1b7c5f2) - 1 spans\n",
            "2025-09-24 18:31:58 - noveum_trace.transport.batch_processor - INFO - ✅ Successfully queued trace 919d7430-bed2-4b98-9906-fc4cf1b7c5f2\n",
            "2025-09-24 18:31:58 - noveum_trace.transport.http_transport - INFO - ✅ Trace 919d7430-bed2-4b98-9906-fc4cf1b7c5f2 successfully queued for export\n"
          ]
        },
        {
          "name": "stdout",
          "output_type": "stream",
          "text": [
            "2025-09-24 18:31:58 - INFO - novaeval.evaluators.agent_evaluator - Saving intermediate results after 8 samples\n",
            "2025-09-24 18:31:58 - INFO - novaeval.evaluators.agent_evaluator - Intermediate results saved to demo_results/tavily_search_results_dataset/agent_evaluation_results.csv\n"
          ]
        },
        {
          "name": "stderr",
          "output_type": "stream",
          "text": [
            "Evaluating samples: 8it [00:29,  3.68s/it]"
          ]
        },
        {
          "name": "stdout",
          "output_type": "stream",
          "text": [
            "2025-09-24 18:31:58 - INFO - google_genai.models - AFC is enabled with max remote calls: 10.\n",
            "2025-09-24 18:31:59 - INFO - google_genai.models - AFC remote call 1 is done.\n"
          ]
        },
        {
          "name": "stderr",
          "output_type": "stream",
          "text": [
            "2025-09-24 18:31:59 - noveum_trace.transport.http_transport - INFO - 📤 EXPORTING TRACE: auto_trace_generate (ID: 1a09571d-112f-4e4e-9ffb-114cf1d550b4) - 1 spans\n",
            "2025-09-24 18:31:59 - noveum_trace.transport.batch_processor - INFO - 📥 ADDING TRACE TO QUEUE: auto_trace_generate (ID: 1a09571d-112f-4e4e-9ffb-114cf1d550b4) - 1 spans\n",
            "2025-09-24 18:31:59 - noveum_trace.transport.batch_processor - INFO - ✅ Successfully queued trace 1a09571d-112f-4e4e-9ffb-114cf1d550b4\n",
            "2025-09-24 18:31:59 - noveum_trace.transport.http_transport - INFO - ✅ Trace 1a09571d-112f-4e4e-9ffb-114cf1d550b4 successfully queued for export\n"
          ]
        },
        {
          "name": "stdout",
          "output_type": "stream",
          "text": [
            "2025-09-24 18:31:59 - INFO - google_genai.models - AFC is enabled with max remote calls: 10.\n",
            "2025-09-24 18:32:00 - INFO - google_genai.models - AFC remote call 1 is done.\n"
          ]
        },
        {
          "name": "stderr",
          "output_type": "stream",
          "text": [
            "2025-09-24 18:32:00 - noveum_trace.transport.http_transport - INFO - 📤 EXPORTING TRACE: auto_trace_generate (ID: a8298df8-9056-4646-9454-483601695c8d) - 1 spans\n",
            "2025-09-24 18:32:00 - noveum_trace.transport.batch_processor - INFO - 📥 ADDING TRACE TO QUEUE: auto_trace_generate (ID: a8298df8-9056-4646-9454-483601695c8d) - 1 spans\n",
            "2025-09-24 18:32:00 - noveum_trace.transport.batch_processor - INFO - ✅ Successfully queued trace a8298df8-9056-4646-9454-483601695c8d\n",
            "2025-09-24 18:32:00 - noveum_trace.transport.http_transport - INFO - ✅ Trace a8298df8-9056-4646-9454-483601695c8d successfully queued for export\n"
          ]
        },
        {
          "name": "stdout",
          "output_type": "stream",
          "text": [
            "2025-09-24 18:32:00 - INFO - google_genai.models - AFC is enabled with max remote calls: 10.\n",
            "2025-09-24 18:32:02 - INFO - google_genai.models - AFC remote call 1 is done.\n"
          ]
        },
        {
          "name": "stderr",
          "output_type": "stream",
          "text": [
            "2025-09-24 18:32:02 - noveum_trace.transport.http_transport - INFO - 📤 EXPORTING TRACE: auto_trace_generate (ID: 0330d18a-49c2-46ca-ab0f-84ede5afc73d) - 1 spans\n",
            "2025-09-24 18:32:02 - noveum_trace.transport.batch_processor - INFO - 📥 ADDING TRACE TO QUEUE: auto_trace_generate (ID: 0330d18a-49c2-46ca-ab0f-84ede5afc73d) - 1 spans\n",
            "2025-09-24 18:32:02 - noveum_trace.transport.batch_processor - INFO - ✅ Successfully queued trace 0330d18a-49c2-46ca-ab0f-84ede5afc73d\n",
            "2025-09-24 18:32:02 - noveum_trace.transport.http_transport - INFO - ✅ Trace 0330d18a-49c2-46ca-ab0f-84ede5afc73d successfully queued for export\n"
          ]
        },
        {
          "name": "stdout",
          "output_type": "stream",
          "text": [
            "2025-09-24 18:32:02 - INFO - novaeval.evaluators.agent_evaluator - Saving intermediate results after 9 samples\n",
            "2025-09-24 18:32:02 - INFO - novaeval.evaluators.agent_evaluator - Intermediate results saved to demo_results/tavily_search_results_dataset/agent_evaluation_results.csv\n"
          ]
        },
        {
          "name": "stderr",
          "output_type": "stream",
          "text": [
            "Evaluating samples: 9it [00:33,  3.84s/it]"
          ]
        },
        {
          "name": "stdout",
          "output_type": "stream",
          "text": [
            "2025-09-24 18:32:02 - INFO - google_genai.models - AFC is enabled with max remote calls: 10.\n",
            "2025-09-24 18:32:03 - INFO - google_genai.models - AFC remote call 1 is done.\n"
          ]
        },
        {
          "name": "stderr",
          "output_type": "stream",
          "text": [
            "2025-09-24 18:32:03 - noveum_trace.transport.http_transport - INFO - 📤 EXPORTING TRACE: auto_trace_generate (ID: bd6d731c-9d25-4bd2-bf79-0494b82f4604) - 1 spans\n",
            "2025-09-24 18:32:03 - noveum_trace.transport.batch_processor - INFO - 📥 ADDING TRACE TO QUEUE: auto_trace_generate (ID: bd6d731c-9d25-4bd2-bf79-0494b82f4604) - 1 spans\n",
            "2025-09-24 18:32:03 - noveum_trace.transport.batch_processor - INFO - ✅ Successfully queued trace bd6d731c-9d25-4bd2-bf79-0494b82f4604\n",
            "2025-09-24 18:32:03 - noveum_trace.transport.http_transport - INFO - ✅ Trace bd6d731c-9d25-4bd2-bf79-0494b82f4604 successfully queued for export\n"
          ]
        },
        {
          "name": "stdout",
          "output_type": "stream",
          "text": [
            "2025-09-24 18:32:03 - INFO - google_genai.models - AFC is enabled with max remote calls: 10.\n",
            "2025-09-24 18:32:05 - INFO - google_genai.models - AFC remote call 1 is done.\n"
          ]
        },
        {
          "name": "stderr",
          "output_type": "stream",
          "text": [
            "2025-09-24 18:32:05 - noveum_trace.transport.http_transport - INFO - 📤 EXPORTING TRACE: auto_trace_generate (ID: ac509ac2-d353-4e8f-8d9e-ba0e7d927c46) - 1 spans\n",
            "2025-09-24 18:32:05 - noveum_trace.transport.batch_processor - INFO - 📥 ADDING TRACE TO QUEUE: auto_trace_generate (ID: ac509ac2-d353-4e8f-8d9e-ba0e7d927c46) - 1 spans\n",
            "2025-09-24 18:32:05 - noveum_trace.transport.batch_processor - INFO - ✅ Successfully queued trace ac509ac2-d353-4e8f-8d9e-ba0e7d927c46\n",
            "2025-09-24 18:32:05 - noveum_trace.transport.http_transport - INFO - ✅ Trace ac509ac2-d353-4e8f-8d9e-ba0e7d927c46 successfully queued for export\n"
          ]
        },
        {
          "name": "stdout",
          "output_type": "stream",
          "text": [
            "2025-09-24 18:32:05 - INFO - google_genai.models - AFC is enabled with max remote calls: 10.\n",
            "2025-09-24 18:32:06 - INFO - google_genai.models - AFC remote call 1 is done.\n"
          ]
        },
        {
          "name": "stderr",
          "output_type": "stream",
          "text": [
            "2025-09-24 18:32:06 - noveum_trace.transport.http_transport - INFO - 📤 EXPORTING TRACE: auto_trace_generate (ID: 2839fce9-e6f0-426c-b198-a14fe9a75fae) - 1 spans\n",
            "2025-09-24 18:32:06 - noveum_trace.transport.batch_processor - INFO - 📥 ADDING TRACE TO QUEUE: auto_trace_generate (ID: 2839fce9-e6f0-426c-b198-a14fe9a75fae) - 1 spans\n",
            "2025-09-24 18:32:06 - noveum_trace.transport.batch_processor - INFO - ✅ Successfully queued trace 2839fce9-e6f0-426c-b198-a14fe9a75fae\n",
            "2025-09-24 18:32:06 - noveum_trace.transport.http_transport - INFO - ✅ Trace 2839fce9-e6f0-426c-b198-a14fe9a75fae successfully queued for export\n"
          ]
        },
        {
          "name": "stdout",
          "output_type": "stream",
          "text": [
            "2025-09-24 18:32:06 - INFO - novaeval.evaluators.agent_evaluator - Saving intermediate results after 10 samples\n",
            "2025-09-24 18:32:06 - INFO - novaeval.evaluators.agent_evaluator - Intermediate results saved to demo_results/tavily_search_results_dataset/agent_evaluation_results.csv\n"
          ]
        },
        {
          "name": "stderr",
          "output_type": "stream",
          "text": [
            "Evaluating samples: 10it [00:37,  3.76s/it]"
          ]
        },
        {
          "name": "stdout",
          "output_type": "stream",
          "text": [
            "2025-09-24 18:32:06 - INFO - google_genai.models - AFC is enabled with max remote calls: 10.\n",
            "2025-09-24 18:32:07 - INFO - google_genai.models - AFC remote call 1 is done.\n"
          ]
        },
        {
          "name": "stderr",
          "output_type": "stream",
          "text": [
            "2025-09-24 18:32:07 - noveum_trace.transport.http_transport - INFO - 📤 EXPORTING TRACE: auto_trace_generate (ID: 90a0acc7-37ac-4630-9521-16dd0f5fcde2) - 1 spans\n",
            "2025-09-24 18:32:07 - noveum_trace.transport.batch_processor - INFO - 📥 ADDING TRACE TO QUEUE: auto_trace_generate (ID: 90a0acc7-37ac-4630-9521-16dd0f5fcde2) - 1 spans\n",
            "2025-09-24 18:32:07 - noveum_trace.transport.batch_processor - INFO - ✅ Successfully queued trace 90a0acc7-37ac-4630-9521-16dd0f5fcde2\n",
            "2025-09-24 18:32:07 - noveum_trace.transport.http_transport - INFO - ✅ Trace 90a0acc7-37ac-4630-9521-16dd0f5fcde2 successfully queued for export\n"
          ]
        },
        {
          "name": "stdout",
          "output_type": "stream",
          "text": [
            "2025-09-24 18:32:07 - INFO - google_genai.models - AFC is enabled with max remote calls: 10.\n",
            "2025-09-24 18:32:08 - INFO - google_genai.models - AFC remote call 1 is done.\n"
          ]
        },
        {
          "name": "stderr",
          "output_type": "stream",
          "text": [
            "2025-09-24 18:32:08 - noveum_trace.transport.http_transport - INFO - 📤 EXPORTING TRACE: auto_trace_generate (ID: 3b92ca95-c495-477c-8719-621ed46836fe) - 1 spans\n",
            "2025-09-24 18:32:08 - noveum_trace.transport.batch_processor - INFO - 📥 ADDING TRACE TO QUEUE: auto_trace_generate (ID: 3b92ca95-c495-477c-8719-621ed46836fe) - 1 spans\n",
            "2025-09-24 18:32:08 - noveum_trace.transport.batch_processor - INFO - ✅ Successfully queued trace 3b92ca95-c495-477c-8719-621ed46836fe\n",
            "2025-09-24 18:32:08 - noveum_trace.transport.http_transport - INFO - ✅ Trace 3b92ca95-c495-477c-8719-621ed46836fe successfully queued for export\n"
          ]
        },
        {
          "name": "stdout",
          "output_type": "stream",
          "text": [
            "2025-09-24 18:32:08 - INFO - google_genai.models - AFC is enabled with max remote calls: 10.\n",
            "2025-09-24 18:32:10 - INFO - google_genai.models - AFC remote call 1 is done.\n"
          ]
        },
        {
          "name": "stderr",
          "output_type": "stream",
          "text": [
            "2025-09-24 18:32:10 - noveum_trace.transport.http_transport - INFO - 📤 EXPORTING TRACE: auto_trace_generate (ID: eb883a10-2cdf-47f2-b9f0-0a294c912e62) - 1 spans\n",
            "2025-09-24 18:32:10 - noveum_trace.transport.batch_processor - INFO - 📥 ADDING TRACE TO QUEUE: auto_trace_generate (ID: eb883a10-2cdf-47f2-b9f0-0a294c912e62) - 1 spans\n",
            "2025-09-24 18:32:10 - noveum_trace.transport.batch_processor - INFO - ✅ Successfully queued trace eb883a10-2cdf-47f2-b9f0-0a294c912e62\n",
            "2025-09-24 18:32:10 - noveum_trace.transport.http_transport - INFO - ✅ Trace eb883a10-2cdf-47f2-b9f0-0a294c912e62 successfully queued for export\n"
          ]
        },
        {
          "name": "stdout",
          "output_type": "stream",
          "text": [
            "2025-09-24 18:32:10 - INFO - novaeval.evaluators.agent_evaluator - Saving intermediate results after 11 samples\n",
            "2025-09-24 18:32:10 - INFO - novaeval.evaluators.agent_evaluator - Intermediate results saved to demo_results/tavily_search_results_dataset/agent_evaluation_results.csv\n"
          ]
        },
        {
          "name": "stderr",
          "output_type": "stream",
          "text": [
            "Evaluating samples: 11it [00:42,  4.02s/it]"
          ]
        },
        {
          "name": "stdout",
          "output_type": "stream",
          "text": [
            "2025-09-24 18:32:10 - INFO - google_genai.models - AFC is enabled with max remote calls: 10.\n",
            "2025-09-24 18:32:12 - INFO - google_genai.models - AFC remote call 1 is done.\n"
          ]
        },
        {
          "name": "stderr",
          "output_type": "stream",
          "text": [
            "2025-09-24 18:32:12 - noveum_trace.transport.http_transport - INFO - 📤 EXPORTING TRACE: auto_trace_generate (ID: e6a89586-d6ac-4cc6-9244-4eb0f77c5db3) - 1 spans\n",
            "2025-09-24 18:32:12 - noveum_trace.transport.batch_processor - INFO - 📥 ADDING TRACE TO QUEUE: auto_trace_generate (ID: e6a89586-d6ac-4cc6-9244-4eb0f77c5db3) - 1 spans\n",
            "2025-09-24 18:32:12 - noveum_trace.transport.batch_processor - INFO - ✅ Successfully queued trace e6a89586-d6ac-4cc6-9244-4eb0f77c5db3\n",
            "2025-09-24 18:32:12 - noveum_trace.transport.http_transport - INFO - ✅ Trace e6a89586-d6ac-4cc6-9244-4eb0f77c5db3 successfully queued for export\n"
          ]
        },
        {
          "name": "stdout",
          "output_type": "stream",
          "text": [
            "2025-09-24 18:32:12 - INFO - google_genai.models - AFC is enabled with max remote calls: 10.\n",
            "2025-09-24 18:32:13 - INFO - google_genai.models - AFC remote call 1 is done.\n"
          ]
        },
        {
          "name": "stderr",
          "output_type": "stream",
          "text": [
            "2025-09-24 18:32:13 - noveum_trace.transport.http_transport - INFO - 📤 EXPORTING TRACE: auto_trace_generate (ID: c61fe1d7-437f-489a-8e83-b5de5c9155d0) - 1 spans\n",
            "2025-09-24 18:32:13 - noveum_trace.transport.batch_processor - INFO - 📥 ADDING TRACE TO QUEUE: auto_trace_generate (ID: c61fe1d7-437f-489a-8e83-b5de5c9155d0) - 1 spans\n",
            "2025-09-24 18:32:13 - noveum_trace.transport.batch_processor - INFO - ✅ Successfully queued trace c61fe1d7-437f-489a-8e83-b5de5c9155d0\n",
            "2025-09-24 18:32:13 - noveum_trace.transport.http_transport - INFO - ✅ Trace c61fe1d7-437f-489a-8e83-b5de5c9155d0 successfully queued for export\n"
          ]
        },
        {
          "name": "stdout",
          "output_type": "stream",
          "text": [
            "2025-09-24 18:32:13 - INFO - google_genai.models - AFC is enabled with max remote calls: 10.\n",
            "2025-09-24 18:32:14 - INFO - google_genai.models - AFC remote call 1 is done.\n"
          ]
        },
        {
          "name": "stderr",
          "output_type": "stream",
          "text": [
            "2025-09-24 18:32:14 - noveum_trace.transport.http_transport - INFO - 📤 EXPORTING TRACE: auto_trace_generate (ID: e24c92f5-8e7c-44a9-a8f6-496a28f4081b) - 1 spans\n",
            "2025-09-24 18:32:14 - noveum_trace.transport.batch_processor - INFO - 📥 ADDING TRACE TO QUEUE: auto_trace_generate (ID: e24c92f5-8e7c-44a9-a8f6-496a28f4081b) - 1 spans\n",
            "2025-09-24 18:32:14 - noveum_trace.transport.batch_processor - INFO - ✅ Successfully queued trace e24c92f5-8e7c-44a9-a8f6-496a28f4081b\n",
            "2025-09-24 18:32:14 - noveum_trace.transport.http_transport - INFO - ✅ Trace e24c92f5-8e7c-44a9-a8f6-496a28f4081b successfully queued for export\n"
          ]
        },
        {
          "name": "stdout",
          "output_type": "stream",
          "text": [
            "2025-09-24 18:32:14 - INFO - novaeval.evaluators.agent_evaluator - Saving intermediate results after 12 samples\n",
            "2025-09-24 18:32:14 - INFO - novaeval.evaluators.agent_evaluator - Intermediate results saved to demo_results/tavily_search_results_dataset/agent_evaluation_results.csv\n"
          ]
        },
        {
          "name": "stderr",
          "output_type": "stream",
          "text": [
            "Evaluating samples: 12it [00:45,  3.92s/it]"
          ]
        },
        {
          "name": "stdout",
          "output_type": "stream",
          "text": [
            "2025-09-24 18:32:14 - INFO - google_genai.models - AFC is enabled with max remote calls: 10.\n",
            "2025-09-24 18:32:15 - INFO - google_genai.models - AFC remote call 1 is done.\n"
          ]
        },
        {
          "name": "stderr",
          "output_type": "stream",
          "text": [
            "2025-09-24 18:32:15 - noveum_trace.transport.http_transport - INFO - 📤 EXPORTING TRACE: auto_trace_generate (ID: 23d01af7-a492-45d7-9705-70d6092fedb1) - 1 spans\n",
            "2025-09-24 18:32:15 - noveum_trace.transport.batch_processor - INFO - 📥 ADDING TRACE TO QUEUE: auto_trace_generate (ID: 23d01af7-a492-45d7-9705-70d6092fedb1) - 1 spans\n",
            "2025-09-24 18:32:15 - noveum_trace.transport.batch_processor - INFO - ✅ Successfully queued trace 23d01af7-a492-45d7-9705-70d6092fedb1\n",
            "2025-09-24 18:32:15 - noveum_trace.transport.http_transport - INFO - ✅ Trace 23d01af7-a492-45d7-9705-70d6092fedb1 successfully queued for export\n"
          ]
        },
        {
          "name": "stdout",
          "output_type": "stream",
          "text": [
            "2025-09-24 18:32:15 - INFO - google_genai.models - AFC is enabled with max remote calls: 10.\n",
            "2025-09-24 18:32:16 - INFO - google_genai.models - AFC remote call 1 is done.\n"
          ]
        },
        {
          "name": "stderr",
          "output_type": "stream",
          "text": [
            "2025-09-24 18:32:16 - noveum_trace.transport.http_transport - INFO - 📤 EXPORTING TRACE: auto_trace_generate (ID: de0d5f3a-c48c-45f3-a4a6-9e89ba3b0690) - 1 spans\n",
            "2025-09-24 18:32:16 - noveum_trace.transport.batch_processor - INFO - 📥 ADDING TRACE TO QUEUE: auto_trace_generate (ID: de0d5f3a-c48c-45f3-a4a6-9e89ba3b0690) - 1 spans\n",
            "2025-09-24 18:32:16 - noveum_trace.transport.batch_processor - INFO - ✅ Successfully queued trace de0d5f3a-c48c-45f3-a4a6-9e89ba3b0690\n",
            "2025-09-24 18:32:16 - noveum_trace.transport.http_transport - INFO - ✅ Trace de0d5f3a-c48c-45f3-a4a6-9e89ba3b0690 successfully queued for export\n"
          ]
        },
        {
          "name": "stdout",
          "output_type": "stream",
          "text": [
            "2025-09-24 18:32:16 - INFO - google_genai.models - AFC is enabled with max remote calls: 10.\n",
            "2025-09-24 18:32:18 - INFO - google_genai.models - AFC remote call 1 is done.\n"
          ]
        },
        {
          "name": "stderr",
          "output_type": "stream",
          "text": [
            "2025-09-24 18:32:18 - noveum_trace.transport.http_transport - INFO - 📤 EXPORTING TRACE: auto_trace_generate (ID: 3c411eb8-b7da-454d-8dbd-bcb17f7cb4dc) - 1 spans\n",
            "2025-09-24 18:32:18 - noveum_trace.transport.batch_processor - INFO - 📥 ADDING TRACE TO QUEUE: auto_trace_generate (ID: 3c411eb8-b7da-454d-8dbd-bcb17f7cb4dc) - 1 spans\n",
            "2025-09-24 18:32:18 - noveum_trace.transport.batch_processor - INFO - ✅ Successfully queued trace 3c411eb8-b7da-454d-8dbd-bcb17f7cb4dc\n",
            "2025-09-24 18:32:18 - noveum_trace.transport.http_transport - INFO - ✅ Trace 3c411eb8-b7da-454d-8dbd-bcb17f7cb4dc successfully queued for export\n"
          ]
        },
        {
          "name": "stdout",
          "output_type": "stream",
          "text": [
            "2025-09-24 18:32:18 - INFO - novaeval.evaluators.agent_evaluator - Saving intermediate results after 13 samples\n",
            "2025-09-24 18:32:18 - INFO - novaeval.evaluators.agent_evaluator - Intermediate results saved to demo_results/tavily_search_results_dataset/agent_evaluation_results.csv\n"
          ]
        },
        {
          "name": "stderr",
          "output_type": "stream",
          "text": [
            "Evaluating samples: 13it [00:49,  3.88s/it]"
          ]
        },
        {
          "name": "stdout",
          "output_type": "stream",
          "text": [
            "2025-09-24 18:32:18 - INFO - google_genai.models - AFC is enabled with max remote calls: 10.\n",
            "2025-09-24 18:32:19 - INFO - google_genai.models - AFC remote call 1 is done.\n"
          ]
        },
        {
          "name": "stderr",
          "output_type": "stream",
          "text": [
            "2025-09-24 18:32:19 - noveum_trace.transport.http_transport - INFO - 📤 EXPORTING TRACE: auto_trace_generate (ID: 5309acba-b930-4066-8339-1c6df69f2b1d) - 1 spans\n",
            "2025-09-24 18:32:19 - noveum_trace.transport.batch_processor - INFO - 📥 ADDING TRACE TO QUEUE: auto_trace_generate (ID: 5309acba-b930-4066-8339-1c6df69f2b1d) - 1 spans\n",
            "2025-09-24 18:32:19 - noveum_trace.transport.batch_processor - INFO - ✅ Successfully queued trace 5309acba-b930-4066-8339-1c6df69f2b1d\n",
            "2025-09-24 18:32:19 - noveum_trace.transport.http_transport - INFO - ✅ Trace 5309acba-b930-4066-8339-1c6df69f2b1d successfully queued for export\n"
          ]
        },
        {
          "name": "stdout",
          "output_type": "stream",
          "text": [
            "2025-09-24 18:32:19 - INFO - google_genai.models - AFC is enabled with max remote calls: 10.\n",
            "2025-09-24 18:32:20 - INFO - google_genai.models - AFC remote call 1 is done.\n"
          ]
        },
        {
          "name": "stderr",
          "output_type": "stream",
          "text": [
            "2025-09-24 18:32:20 - noveum_trace.transport.http_transport - INFO - 📤 EXPORTING TRACE: auto_trace_generate (ID: fbf4665b-5ce8-4064-87c2-70590cc677eb) - 1 spans\n",
            "2025-09-24 18:32:20 - noveum_trace.transport.batch_processor - INFO - 📥 ADDING TRACE TO QUEUE: auto_trace_generate (ID: fbf4665b-5ce8-4064-87c2-70590cc677eb) - 1 spans\n",
            "2025-09-24 18:32:20 - noveum_trace.transport.batch_processor - INFO - ✅ Successfully queued trace fbf4665b-5ce8-4064-87c2-70590cc677eb\n",
            "2025-09-24 18:32:20 - noveum_trace.transport.http_transport - INFO - ✅ Trace fbf4665b-5ce8-4064-87c2-70590cc677eb successfully queued for export\n"
          ]
        },
        {
          "name": "stdout",
          "output_type": "stream",
          "text": [
            "2025-09-24 18:32:20 - INFO - google_genai.models - AFC is enabled with max remote calls: 10.\n",
            "2025-09-24 18:32:22 - INFO - google_genai.models - AFC remote call 1 is done.\n"
          ]
        },
        {
          "name": "stderr",
          "output_type": "stream",
          "text": [
            "2025-09-24 18:32:22 - noveum_trace.transport.http_transport - INFO - 📤 EXPORTING TRACE: auto_trace_generate (ID: 5d78943e-3c81-4bd4-90cf-93007719396d) - 1 spans\n",
            "2025-09-24 18:32:22 - noveum_trace.transport.batch_processor - INFO - 📥 ADDING TRACE TO QUEUE: auto_trace_generate (ID: 5d78943e-3c81-4bd4-90cf-93007719396d) - 1 spans\n",
            "2025-09-24 18:32:22 - noveum_trace.transport.batch_processor - INFO - ✅ Successfully queued trace 5d78943e-3c81-4bd4-90cf-93007719396d\n",
            "2025-09-24 18:32:22 - noveum_trace.transport.http_transport - INFO - ✅ Trace 5d78943e-3c81-4bd4-90cf-93007719396d successfully queued for export\n"
          ]
        },
        {
          "name": "stdout",
          "output_type": "stream",
          "text": [
            "2025-09-24 18:32:22 - INFO - novaeval.evaluators.agent_evaluator - Saving intermediate results after 14 samples\n",
            "2025-09-24 18:32:22 - INFO - novaeval.evaluators.agent_evaluator - Intermediate results saved to demo_results/tavily_search_results_dataset/agent_evaluation_results.csv\n"
          ]
        },
        {
          "name": "stderr",
          "output_type": "stream",
          "text": [
            "Evaluating samples: 14it [00:53,  3.82s/it]"
          ]
        },
        {
          "name": "stdout",
          "output_type": "stream",
          "text": [
            "2025-09-24 18:32:22 - INFO - google_genai.models - AFC is enabled with max remote calls: 10.\n",
            "2025-09-24 18:32:23 - INFO - google_genai.models - AFC remote call 1 is done.\n"
          ]
        },
        {
          "name": "stderr",
          "output_type": "stream",
          "text": [
            "2025-09-24 18:32:23 - noveum_trace.transport.http_transport - INFO - 📤 EXPORTING TRACE: auto_trace_generate (ID: 0ed24183-0b8e-47cb-ae9f-4ac31e5bfdae) - 1 spans\n",
            "2025-09-24 18:32:23 - noveum_trace.transport.batch_processor - INFO - 📥 ADDING TRACE TO QUEUE: auto_trace_generate (ID: 0ed24183-0b8e-47cb-ae9f-4ac31e5bfdae) - 1 spans\n",
            "2025-09-24 18:32:23 - noveum_trace.transport.batch_processor - INFO - ✅ Successfully queued trace 0ed24183-0b8e-47cb-ae9f-4ac31e5bfdae\n",
            "2025-09-24 18:32:23 - noveum_trace.transport.http_transport - INFO - ✅ Trace 0ed24183-0b8e-47cb-ae9f-4ac31e5bfdae successfully queued for export\n"
          ]
        },
        {
          "name": "stdout",
          "output_type": "stream",
          "text": [
            "2025-09-24 18:32:23 - INFO - google_genai.models - AFC is enabled with max remote calls: 10.\n",
            "2025-09-24 18:32:24 - INFO - google_genai.models - AFC remote call 1 is done.\n"
          ]
        },
        {
          "name": "stderr",
          "output_type": "stream",
          "text": [
            "2025-09-24 18:32:24 - noveum_trace.transport.http_transport - INFO - 📤 EXPORTING TRACE: auto_trace_generate (ID: 98cea8be-d6ef-40d9-8803-3154e83a690a) - 1 spans\n",
            "2025-09-24 18:32:24 - noveum_trace.transport.batch_processor - INFO - 📥 ADDING TRACE TO QUEUE: auto_trace_generate (ID: 98cea8be-d6ef-40d9-8803-3154e83a690a) - 1 spans\n",
            "2025-09-24 18:32:24 - noveum_trace.transport.batch_processor - INFO - ✅ Successfully queued trace 98cea8be-d6ef-40d9-8803-3154e83a690a\n",
            "2025-09-24 18:32:24 - noveum_trace.transport.http_transport - INFO - ✅ Trace 98cea8be-d6ef-40d9-8803-3154e83a690a successfully queued for export\n"
          ]
        },
        {
          "name": "stdout",
          "output_type": "stream",
          "text": [
            "2025-09-24 18:32:24 - INFO - google_genai.models - AFC is enabled with max remote calls: 10.\n",
            "2025-09-24 18:32:25 - INFO - google_genai.models - AFC remote call 1 is done.\n"
          ]
        },
        {
          "name": "stderr",
          "output_type": "stream",
          "text": [
            "2025-09-24 18:32:25 - noveum_trace.transport.http_transport - INFO - 📤 EXPORTING TRACE: auto_trace_generate (ID: a286ad4a-088e-40c6-b261-5a938b598ea9) - 1 spans\n",
            "2025-09-24 18:32:25 - noveum_trace.transport.batch_processor - INFO - 📥 ADDING TRACE TO QUEUE: auto_trace_generate (ID: a286ad4a-088e-40c6-b261-5a938b598ea9) - 1 spans\n",
            "2025-09-24 18:32:25 - noveum_trace.transport.batch_processor - INFO - ✅ Successfully queued trace a286ad4a-088e-40c6-b261-5a938b598ea9\n",
            "2025-09-24 18:32:25 - noveum_trace.transport.http_transport - INFO - ✅ Trace a286ad4a-088e-40c6-b261-5a938b598ea9 successfully queued for export\n"
          ]
        },
        {
          "name": "stdout",
          "output_type": "stream",
          "text": [
            "2025-09-24 18:32:25 - INFO - novaeval.evaluators.agent_evaluator - Saving intermediate results after 15 samples\n",
            "2025-09-24 18:32:25 - INFO - novaeval.evaluators.agent_evaluator - Intermediate results saved to demo_results/tavily_search_results_dataset/agent_evaluation_results.csv\n"
          ]
        },
        {
          "name": "stderr",
          "output_type": "stream",
          "text": [
            "Evaluating samples: 15it [00:56,  3.77s/it]"
          ]
        },
        {
          "name": "stdout",
          "output_type": "stream",
          "text": [
            "2025-09-24 18:32:25 - INFO - google_genai.models - AFC is enabled with max remote calls: 10.\n",
            "2025-09-24 18:32:26 - INFO - google_genai.models - AFC remote call 1 is done.\n"
          ]
        },
        {
          "name": "stderr",
          "output_type": "stream",
          "text": [
            "2025-09-24 18:32:26 - noveum_trace.transport.http_transport - INFO - 📤 EXPORTING TRACE: auto_trace_generate (ID: d7b26d83-4975-4629-9067-a1264bd62988) - 1 spans\n",
            "2025-09-24 18:32:26 - noveum_trace.transport.batch_processor - INFO - 📥 ADDING TRACE TO QUEUE: auto_trace_generate (ID: d7b26d83-4975-4629-9067-a1264bd62988) - 1 spans\n",
            "2025-09-24 18:32:26 - noveum_trace.transport.batch_processor - INFO - ✅ Successfully queued trace d7b26d83-4975-4629-9067-a1264bd62988\n",
            "2025-09-24 18:32:26 - noveum_trace.transport.http_transport - INFO - ✅ Trace d7b26d83-4975-4629-9067-a1264bd62988 successfully queued for export\n"
          ]
        },
        {
          "name": "stdout",
          "output_type": "stream",
          "text": [
            "2025-09-24 18:32:26 - INFO - google_genai.models - AFC is enabled with max remote calls: 10.\n",
            "2025-09-24 18:32:28 - INFO - google_genai.models - AFC remote call 1 is done.\n"
          ]
        },
        {
          "name": "stderr",
          "output_type": "stream",
          "text": [
            "2025-09-24 18:32:28 - noveum_trace.transport.http_transport - INFO - 📤 EXPORTING TRACE: auto_trace_generate (ID: bf313fed-81e0-4485-8fed-f4a06a62e75b) - 1 spans\n",
            "2025-09-24 18:32:28 - noveum_trace.transport.batch_processor - INFO - 📥 ADDING TRACE TO QUEUE: auto_trace_generate (ID: bf313fed-81e0-4485-8fed-f4a06a62e75b) - 1 spans\n",
            "2025-09-24 18:32:28 - noveum_trace.transport.batch_processor - INFO - ✅ Successfully queued trace bf313fed-81e0-4485-8fed-f4a06a62e75b\n",
            "2025-09-24 18:32:28 - noveum_trace.transport.http_transport - INFO - ✅ Trace bf313fed-81e0-4485-8fed-f4a06a62e75b successfully queued for export\n"
          ]
        },
        {
          "name": "stdout",
          "output_type": "stream",
          "text": [
            "2025-09-24 18:32:28 - INFO - google_genai.models - AFC is enabled with max remote calls: 10.\n",
            "2025-09-24 18:32:29 - INFO - google_genai.models - AFC remote call 1 is done.\n"
          ]
        },
        {
          "name": "stderr",
          "output_type": "stream",
          "text": [
            "2025-09-24 18:32:29 - noveum_trace.transport.http_transport - INFO - 📤 EXPORTING TRACE: auto_trace_generate (ID: 06aa92de-d5bc-4464-906a-351fa3895c4a) - 1 spans\n",
            "2025-09-24 18:32:29 - noveum_trace.transport.batch_processor - INFO - 📥 ADDING TRACE TO QUEUE: auto_trace_generate (ID: 06aa92de-d5bc-4464-906a-351fa3895c4a) - 1 spans\n",
            "2025-09-24 18:32:29 - noveum_trace.transport.batch_processor - INFO - ✅ Successfully queued trace 06aa92de-d5bc-4464-906a-351fa3895c4a\n",
            "2025-09-24 18:32:29 - noveum_trace.transport.http_transport - INFO - ✅ Trace 06aa92de-d5bc-4464-906a-351fa3895c4a successfully queued for export\n"
          ]
        },
        {
          "name": "stdout",
          "output_type": "stream",
          "text": [
            "2025-09-24 18:32:29 - INFO - novaeval.evaluators.agent_evaluator - Saving intermediate results after 16 samples\n",
            "2025-09-24 18:32:29 - INFO - novaeval.evaluators.agent_evaluator - Intermediate results saved to demo_results/tavily_search_results_dataset/agent_evaluation_results.csv\n"
          ]
        },
        {
          "name": "stderr",
          "output_type": "stream",
          "text": [
            "Evaluating samples: 16it [01:00,  3.75s/it]"
          ]
        },
        {
          "name": "stdout",
          "output_type": "stream",
          "text": [
            "2025-09-24 18:32:29 - INFO - google_genai.models - AFC is enabled with max remote calls: 10.\n",
            "2025-09-24 18:32:30 - INFO - google_genai.models - AFC remote call 1 is done.\n"
          ]
        },
        {
          "name": "stderr",
          "output_type": "stream",
          "text": [
            "2025-09-24 18:32:30 - noveum_trace.transport.http_transport - INFO - 📤 EXPORTING TRACE: auto_trace_generate (ID: 080ec7b6-e32c-43ad-bc47-99a978558ca8) - 1 spans\n",
            "2025-09-24 18:32:30 - noveum_trace.transport.batch_processor - INFO - 📥 ADDING TRACE TO QUEUE: auto_trace_generate (ID: 080ec7b6-e32c-43ad-bc47-99a978558ca8) - 1 spans\n",
            "2025-09-24 18:32:30 - noveum_trace.transport.batch_processor - INFO - ✅ Successfully queued trace 080ec7b6-e32c-43ad-bc47-99a978558ca8\n",
            "2025-09-24 18:32:30 - noveum_trace.transport.http_transport - INFO - ✅ Trace 080ec7b6-e32c-43ad-bc47-99a978558ca8 successfully queued for export\n"
          ]
        },
        {
          "name": "stdout",
          "output_type": "stream",
          "text": [
            "2025-09-24 18:32:30 - INFO - google_genai.models - AFC is enabled with max remote calls: 10.\n",
            "2025-09-24 18:32:32 - INFO - google_genai.models - AFC remote call 1 is done.\n"
          ]
        },
        {
          "name": "stderr",
          "output_type": "stream",
          "text": [
            "2025-09-24 18:32:32 - noveum_trace.transport.http_transport - INFO - 📤 EXPORTING TRACE: auto_trace_generate (ID: 558b6a8f-643c-44c4-acde-6fe2f05a85bf) - 1 spans\n",
            "2025-09-24 18:32:32 - noveum_trace.transport.batch_processor - INFO - 📥 ADDING TRACE TO QUEUE: auto_trace_generate (ID: 558b6a8f-643c-44c4-acde-6fe2f05a85bf) - 1 spans\n",
            "2025-09-24 18:32:32 - noveum_trace.transport.batch_processor - INFO - ✅ Successfully queued trace 558b6a8f-643c-44c4-acde-6fe2f05a85bf\n",
            "2025-09-24 18:32:32 - noveum_trace.transport.http_transport - INFO - ✅ Trace 558b6a8f-643c-44c4-acde-6fe2f05a85bf successfully queued for export\n"
          ]
        },
        {
          "name": "stdout",
          "output_type": "stream",
          "text": [
            "2025-09-24 18:32:32 - INFO - google_genai.models - AFC is enabled with max remote calls: 10.\n",
            "2025-09-24 18:32:33 - INFO - google_genai.models - AFC remote call 1 is done.\n"
          ]
        },
        {
          "name": "stderr",
          "output_type": "stream",
          "text": [
            "2025-09-24 18:32:33 - noveum_trace.transport.http_transport - INFO - 📤 EXPORTING TRACE: auto_trace_generate (ID: 85beb87d-b78f-4e28-aec7-38f5f7fc43a2) - 1 spans\n",
            "2025-09-24 18:32:33 - noveum_trace.transport.batch_processor - INFO - 📥 ADDING TRACE TO QUEUE: auto_trace_generate (ID: 85beb87d-b78f-4e28-aec7-38f5f7fc43a2) - 1 spans\n",
            "2025-09-24 18:32:33 - noveum_trace.transport.batch_processor - INFO - ✅ Successfully queued trace 85beb87d-b78f-4e28-aec7-38f5f7fc43a2\n",
            "2025-09-24 18:32:33 - noveum_trace.transport.http_transport - INFO - ✅ Trace 85beb87d-b78f-4e28-aec7-38f5f7fc43a2 successfully queued for export\n"
          ]
        },
        {
          "name": "stdout",
          "output_type": "stream",
          "text": [
            "2025-09-24 18:32:33 - INFO - novaeval.evaluators.agent_evaluator - Saving intermediate results after 17 samples\n",
            "2025-09-24 18:32:33 - INFO - novaeval.evaluators.agent_evaluator - Intermediate results saved to demo_results/tavily_search_results_dataset/agent_evaluation_results.csv\n"
          ]
        },
        {
          "name": "stderr",
          "output_type": "stream",
          "text": [
            "Evaluating samples: 17it [01:04,  3.79s/it]"
          ]
        },
        {
          "name": "stdout",
          "output_type": "stream",
          "text": [
            "2025-09-24 18:32:33 - INFO - google_genai.models - AFC is enabled with max remote calls: 10.\n",
            "2025-09-24 18:32:34 - INFO - google_genai.models - AFC remote call 1 is done.\n"
          ]
        },
        {
          "name": "stderr",
          "output_type": "stream",
          "text": [
            "2025-09-24 18:32:34 - noveum_trace.transport.http_transport - INFO - 📤 EXPORTING TRACE: auto_trace_generate (ID: 0ac6d2c0-7fe4-4ebb-b459-1bbc4b16c254) - 1 spans\n",
            "2025-09-24 18:32:34 - noveum_trace.transport.batch_processor - INFO - 📥 ADDING TRACE TO QUEUE: auto_trace_generate (ID: 0ac6d2c0-7fe4-4ebb-b459-1bbc4b16c254) - 1 spans\n",
            "2025-09-24 18:32:34 - noveum_trace.transport.batch_processor - INFO - ✅ Successfully queued trace 0ac6d2c0-7fe4-4ebb-b459-1bbc4b16c254\n",
            "2025-09-24 18:32:34 - noveum_trace.transport.http_transport - INFO - ✅ Trace 0ac6d2c0-7fe4-4ebb-b459-1bbc4b16c254 successfully queued for export\n"
          ]
        },
        {
          "name": "stdout",
          "output_type": "stream",
          "text": [
            "2025-09-24 18:32:34 - INFO - google_genai.models - AFC is enabled with max remote calls: 10.\n",
            "2025-09-24 18:32:35 - INFO - google_genai.models - AFC remote call 1 is done.\n"
          ]
        },
        {
          "name": "stderr",
          "output_type": "stream",
          "text": [
            "2025-09-24 18:32:35 - noveum_trace.transport.http_transport - INFO - 📤 EXPORTING TRACE: auto_trace_generate (ID: 45ef8ae6-5bac-4af6-b3fa-adb7a8d5779e) - 1 spans\n",
            "2025-09-24 18:32:35 - noveum_trace.transport.batch_processor - INFO - 📥 ADDING TRACE TO QUEUE: auto_trace_generate (ID: 45ef8ae6-5bac-4af6-b3fa-adb7a8d5779e) - 1 spans\n",
            "2025-09-24 18:32:35 - noveum_trace.transport.batch_processor - INFO - ✅ Successfully queued trace 45ef8ae6-5bac-4af6-b3fa-adb7a8d5779e\n",
            "2025-09-24 18:32:35 - noveum_trace.transport.http_transport - INFO - ✅ Trace 45ef8ae6-5bac-4af6-b3fa-adb7a8d5779e successfully queued for export\n"
          ]
        },
        {
          "name": "stdout",
          "output_type": "stream",
          "text": [
            "2025-09-24 18:32:35 - INFO - google_genai.models - AFC is enabled with max remote calls: 10.\n",
            "2025-09-24 18:32:36 - INFO - google_genai.models - AFC remote call 1 is done.\n"
          ]
        },
        {
          "name": "stderr",
          "output_type": "stream",
          "text": [
            "2025-09-24 18:32:36 - noveum_trace.transport.http_transport - INFO - 📤 EXPORTING TRACE: auto_trace_generate (ID: dc8fce8a-cbb9-4dd6-8bd3-e92be7c3ac77) - 1 spans\n",
            "2025-09-24 18:32:36 - noveum_trace.transport.batch_processor - INFO - 📥 ADDING TRACE TO QUEUE: auto_trace_generate (ID: dc8fce8a-cbb9-4dd6-8bd3-e92be7c3ac77) - 1 spans\n",
            "2025-09-24 18:32:36 - noveum_trace.transport.batch_processor - INFO - ✅ Successfully queued trace dc8fce8a-cbb9-4dd6-8bd3-e92be7c3ac77\n",
            "2025-09-24 18:32:36 - noveum_trace.transport.http_transport - INFO - ✅ Trace dc8fce8a-cbb9-4dd6-8bd3-e92be7c3ac77 successfully queued for export\n"
          ]
        },
        {
          "name": "stdout",
          "output_type": "stream",
          "text": [
            "2025-09-24 18:32:36 - INFO - novaeval.evaluators.agent_evaluator - Saving intermediate results after 18 samples\n",
            "2025-09-24 18:32:36 - INFO - novaeval.evaluators.agent_evaluator - Intermediate results saved to demo_results/tavily_search_results_dataset/agent_evaluation_results.csv\n"
          ]
        },
        {
          "name": "stderr",
          "output_type": "stream",
          "text": [
            "Evaluating samples: 18it [01:08,  3.77s/it]"
          ]
        },
        {
          "name": "stdout",
          "output_type": "stream",
          "text": [
            "2025-09-24 18:32:36 - INFO - google_genai.models - AFC is enabled with max remote calls: 10.\n",
            "2025-09-24 18:32:38 - INFO - google_genai.models - AFC remote call 1 is done.\n"
          ]
        },
        {
          "name": "stderr",
          "output_type": "stream",
          "text": [
            "2025-09-24 18:32:38 - noveum_trace.transport.http_transport - INFO - 📤 EXPORTING TRACE: auto_trace_generate (ID: e0e05016-3785-4c15-ba53-a189fab4c0fc) - 1 spans\n",
            "2025-09-24 18:32:38 - noveum_trace.transport.batch_processor - INFO - 📥 ADDING TRACE TO QUEUE: auto_trace_generate (ID: e0e05016-3785-4c15-ba53-a189fab4c0fc) - 1 spans\n",
            "2025-09-24 18:32:38 - noveum_trace.transport.batch_processor - INFO - ✅ Successfully queued trace e0e05016-3785-4c15-ba53-a189fab4c0fc\n",
            "2025-09-24 18:32:38 - noveum_trace.transport.http_transport - INFO - ✅ Trace e0e05016-3785-4c15-ba53-a189fab4c0fc successfully queued for export\n"
          ]
        },
        {
          "name": "stdout",
          "output_type": "stream",
          "text": [
            "2025-09-24 18:32:38 - INFO - google_genai.models - AFC is enabled with max remote calls: 10.\n",
            "2025-09-24 18:32:39 - INFO - google_genai.models - AFC remote call 1 is done.\n"
          ]
        },
        {
          "name": "stderr",
          "output_type": "stream",
          "text": [
            "2025-09-24 18:32:39 - noveum_trace.transport.http_transport - INFO - 📤 EXPORTING TRACE: auto_trace_generate (ID: 97cee31f-c62e-4dac-ad88-442d8084f822) - 1 spans\n",
            "2025-09-24 18:32:39 - noveum_trace.transport.batch_processor - INFO - 📥 ADDING TRACE TO QUEUE: auto_trace_generate (ID: 97cee31f-c62e-4dac-ad88-442d8084f822) - 1 spans\n",
            "2025-09-24 18:32:39 - noveum_trace.transport.batch_processor - INFO - ✅ Successfully queued trace 97cee31f-c62e-4dac-ad88-442d8084f822\n",
            "2025-09-24 18:32:39 - noveum_trace.transport.http_transport - INFO - ✅ Trace 97cee31f-c62e-4dac-ad88-442d8084f822 successfully queued for export\n"
          ]
        },
        {
          "name": "stdout",
          "output_type": "stream",
          "text": [
            "2025-09-24 18:32:39 - INFO - google_genai.models - AFC is enabled with max remote calls: 10.\n",
            "2025-09-24 18:32:40 - INFO - google_genai.models - AFC remote call 1 is done.\n"
          ]
        },
        {
          "name": "stderr",
          "output_type": "stream",
          "text": [
            "2025-09-24 18:32:40 - noveum_trace.transport.http_transport - INFO - 📤 EXPORTING TRACE: auto_trace_generate (ID: ee87ea90-0e31-40f2-8ccd-724585266f6f) - 1 spans\n",
            "2025-09-24 18:32:40 - noveum_trace.transport.batch_processor - INFO - 📥 ADDING TRACE TO QUEUE: auto_trace_generate (ID: ee87ea90-0e31-40f2-8ccd-724585266f6f) - 1 spans\n",
            "2025-09-24 18:32:40 - noveum_trace.transport.batch_processor - INFO - ✅ Successfully queued trace ee87ea90-0e31-40f2-8ccd-724585266f6f\n",
            "2025-09-24 18:32:40 - noveum_trace.transport.http_transport - INFO - ✅ Trace ee87ea90-0e31-40f2-8ccd-724585266f6f successfully queued for export\n"
          ]
        },
        {
          "name": "stdout",
          "output_type": "stream",
          "text": [
            "2025-09-24 18:32:40 - INFO - novaeval.evaluators.agent_evaluator - Saving intermediate results after 19 samples\n",
            "2025-09-24 18:32:40 - INFO - novaeval.evaluators.agent_evaluator - Intermediate results saved to demo_results/tavily_search_results_dataset/agent_evaluation_results.csv\n"
          ]
        },
        {
          "name": "stderr",
          "output_type": "stream",
          "text": [
            "Evaluating samples: 19it [01:12,  3.77s/it]"
          ]
        },
        {
          "name": "stdout",
          "output_type": "stream",
          "text": [
            "2025-09-24 18:32:40 - INFO - google_genai.models - AFC is enabled with max remote calls: 10.\n",
            "2025-09-24 18:32:41 - INFO - google_genai.models - AFC remote call 1 is done.\n"
          ]
        },
        {
          "name": "stderr",
          "output_type": "stream",
          "text": [
            "2025-09-24 18:32:41 - noveum_trace.transport.http_transport - INFO - 📤 EXPORTING TRACE: auto_trace_generate (ID: 962fa416-1f84-4f8c-be48-c9344f9b9fc3) - 1 spans\n",
            "2025-09-24 18:32:41 - noveum_trace.transport.batch_processor - INFO - 📥 ADDING TRACE TO QUEUE: auto_trace_generate (ID: 962fa416-1f84-4f8c-be48-c9344f9b9fc3) - 1 spans\n",
            "2025-09-24 18:32:41 - noveum_trace.transport.batch_processor - INFO - ✅ Successfully queued trace 962fa416-1f84-4f8c-be48-c9344f9b9fc3\n",
            "2025-09-24 18:32:41 - noveum_trace.transport.http_transport - INFO - ✅ Trace 962fa416-1f84-4f8c-be48-c9344f9b9fc3 successfully queued for export\n"
          ]
        },
        {
          "name": "stdout",
          "output_type": "stream",
          "text": [
            "2025-09-24 18:32:41 - INFO - google_genai.models - AFC is enabled with max remote calls: 10.\n",
            "2025-09-24 18:32:43 - INFO - google_genai.models - AFC remote call 1 is done.\n"
          ]
        },
        {
          "name": "stderr",
          "output_type": "stream",
          "text": [
            "2025-09-24 18:32:43 - noveum_trace.transport.http_transport - INFO - 📤 EXPORTING TRACE: auto_trace_generate (ID: e0260d17-5d0c-4c0c-b2ac-e3f0d1621508) - 1 spans\n",
            "2025-09-24 18:32:43 - noveum_trace.transport.batch_processor - INFO - 📥 ADDING TRACE TO QUEUE: auto_trace_generate (ID: e0260d17-5d0c-4c0c-b2ac-e3f0d1621508) - 1 spans\n",
            "2025-09-24 18:32:43 - noveum_trace.transport.batch_processor - INFO - ✅ Successfully queued trace e0260d17-5d0c-4c0c-b2ac-e3f0d1621508\n",
            "2025-09-24 18:32:43 - noveum_trace.transport.http_transport - INFO - ✅ Trace e0260d17-5d0c-4c0c-b2ac-e3f0d1621508 successfully queued for export\n"
          ]
        },
        {
          "name": "stdout",
          "output_type": "stream",
          "text": [
            "2025-09-24 18:32:43 - INFO - google_genai.models - AFC is enabled with max remote calls: 10.\n",
            "2025-09-24 18:32:44 - INFO - google_genai.models - AFC remote call 1 is done.\n"
          ]
        },
        {
          "name": "stderr",
          "output_type": "stream",
          "text": [
            "2025-09-24 18:32:44 - noveum_trace.transport.http_transport - INFO - 📤 EXPORTING TRACE: auto_trace_generate (ID: 57514081-620c-4111-9c59-f8ff08761397) - 1 spans\n",
            "2025-09-24 18:32:44 - noveum_trace.transport.batch_processor - INFO - 📥 ADDING TRACE TO QUEUE: auto_trace_generate (ID: 57514081-620c-4111-9c59-f8ff08761397) - 1 spans\n",
            "2025-09-24 18:32:44 - noveum_trace.transport.batch_processor - INFO - ✅ Successfully queued trace 57514081-620c-4111-9c59-f8ff08761397\n",
            "2025-09-24 18:32:44 - noveum_trace.transport.http_transport - INFO - ✅ Trace 57514081-620c-4111-9c59-f8ff08761397 successfully queued for export\n"
          ]
        },
        {
          "name": "stdout",
          "output_type": "stream",
          "text": [
            "2025-09-24 18:32:44 - INFO - novaeval.evaluators.agent_evaluator - Saving intermediate results after 20 samples\n",
            "2025-09-24 18:32:44 - INFO - novaeval.evaluators.agent_evaluator - Intermediate results saved to demo_results/tavily_search_results_dataset/agent_evaluation_results.csv\n"
          ]
        },
        {
          "name": "stderr",
          "output_type": "stream",
          "text": [
            "Evaluating samples: 20it [01:15,  3.77s/it]"
          ]
        },
        {
          "name": "stdout",
          "output_type": "stream",
          "text": [
            "2025-09-24 18:32:44 - INFO - google_genai.models - AFC is enabled with max remote calls: 10.\n",
            "2025-09-24 18:32:45 - INFO - google_genai.models - AFC remote call 1 is done.\n"
          ]
        },
        {
          "name": "stderr",
          "output_type": "stream",
          "text": [
            "2025-09-24 18:32:45 - noveum_trace.transport.http_transport - INFO - 📤 EXPORTING TRACE: auto_trace_generate (ID: e97e3130-2204-4a8c-a4c7-89999d60f31d) - 1 spans\n",
            "2025-09-24 18:32:45 - noveum_trace.transport.batch_processor - INFO - 📥 ADDING TRACE TO QUEUE: auto_trace_generate (ID: e97e3130-2204-4a8c-a4c7-89999d60f31d) - 1 spans\n",
            "2025-09-24 18:32:45 - noveum_trace.transport.batch_processor - INFO - ✅ Successfully queued trace e97e3130-2204-4a8c-a4c7-89999d60f31d\n",
            "2025-09-24 18:32:45 - noveum_trace.transport.http_transport - INFO - ✅ Trace e97e3130-2204-4a8c-a4c7-89999d60f31d successfully queued for export\n"
          ]
        },
        {
          "name": "stdout",
          "output_type": "stream",
          "text": [
            "2025-09-24 18:32:45 - INFO - google_genai.models - AFC is enabled with max remote calls: 10.\n",
            "2025-09-24 18:32:47 - INFO - google_genai.models - AFC remote call 1 is done.\n"
          ]
        },
        {
          "name": "stderr",
          "output_type": "stream",
          "text": [
            "2025-09-24 18:32:47 - noveum_trace.transport.http_transport - INFO - 📤 EXPORTING TRACE: auto_trace_generate (ID: 85ee9097-3423-47cd-a26c-6f651149b7e2) - 1 spans\n",
            "2025-09-24 18:32:47 - noveum_trace.transport.batch_processor - INFO - 📥 ADDING TRACE TO QUEUE: auto_trace_generate (ID: 85ee9097-3423-47cd-a26c-6f651149b7e2) - 1 spans\n",
            "2025-09-24 18:32:47 - noveum_trace.transport.batch_processor - INFO - ✅ Successfully queued trace 85ee9097-3423-47cd-a26c-6f651149b7e2\n",
            "2025-09-24 18:32:47 - noveum_trace.transport.http_transport - INFO - ✅ Trace 85ee9097-3423-47cd-a26c-6f651149b7e2 successfully queued for export\n"
          ]
        },
        {
          "name": "stdout",
          "output_type": "stream",
          "text": [
            "2025-09-24 18:32:47 - INFO - google_genai.models - AFC is enabled with max remote calls: 10.\n",
            "2025-09-24 18:32:48 - INFO - google_genai.models - AFC remote call 1 is done.\n"
          ]
        },
        {
          "name": "stderr",
          "output_type": "stream",
          "text": [
            "2025-09-24 18:32:48 - noveum_trace.transport.http_transport - INFO - 📤 EXPORTING TRACE: auto_trace_generate (ID: f4978a1b-4853-4d36-82d7-0fb2e7477e47) - 1 spans\n",
            "2025-09-24 18:32:48 - noveum_trace.transport.batch_processor - INFO - 📥 ADDING TRACE TO QUEUE: auto_trace_generate (ID: f4978a1b-4853-4d36-82d7-0fb2e7477e47) - 1 spans\n",
            "2025-09-24 18:32:48 - noveum_trace.transport.batch_processor - INFO - ✅ Successfully queued trace f4978a1b-4853-4d36-82d7-0fb2e7477e47\n",
            "2025-09-24 18:32:48 - noveum_trace.transport.http_transport - INFO - ✅ Trace f4978a1b-4853-4d36-82d7-0fb2e7477e47 successfully queued for export\n"
          ]
        },
        {
          "name": "stdout",
          "output_type": "stream",
          "text": [
            "2025-09-24 18:32:48 - INFO - novaeval.evaluators.agent_evaluator - Saving intermediate results after 21 samples\n",
            "2025-09-24 18:32:48 - INFO - novaeval.evaluators.agent_evaluator - Intermediate results saved to demo_results/tavily_search_results_dataset/agent_evaluation_results.csv\n"
          ]
        },
        {
          "name": "stderr",
          "output_type": "stream",
          "text": [
            "Evaluating samples: 21it [01:19,  3.81s/it]"
          ]
        },
        {
          "name": "stdout",
          "output_type": "stream",
          "text": [
            "2025-09-24 18:32:48 - INFO - google_genai.models - AFC is enabled with max remote calls: 10.\n",
            "2025-09-24 18:32:49 - INFO - google_genai.models - AFC remote call 1 is done.\n"
          ]
        },
        {
          "name": "stderr",
          "output_type": "stream",
          "text": [
            "2025-09-24 18:32:49 - noveum_trace.transport.http_transport - INFO - 📤 EXPORTING TRACE: auto_trace_generate (ID: d3968a0e-3198-4180-ab30-19c65fc250f5) - 1 spans\n",
            "2025-09-24 18:32:49 - noveum_trace.transport.batch_processor - INFO - 📥 ADDING TRACE TO QUEUE: auto_trace_generate (ID: d3968a0e-3198-4180-ab30-19c65fc250f5) - 1 spans\n",
            "2025-09-24 18:32:49 - noveum_trace.transport.batch_processor - INFO - ✅ Successfully queued trace d3968a0e-3198-4180-ab30-19c65fc250f5\n",
            "2025-09-24 18:32:49 - noveum_trace.transport.http_transport - INFO - ✅ Trace d3968a0e-3198-4180-ab30-19c65fc250f5 successfully queued for export\n"
          ]
        },
        {
          "name": "stdout",
          "output_type": "stream",
          "text": [
            "2025-09-24 18:32:49 - INFO - google_genai.models - AFC is enabled with max remote calls: 10.\n",
            "2025-09-24 18:32:50 - INFO - google_genai.models - AFC remote call 1 is done.\n"
          ]
        },
        {
          "name": "stderr",
          "output_type": "stream",
          "text": [
            "2025-09-24 18:32:50 - noveum_trace.transport.http_transport - INFO - 📤 EXPORTING TRACE: auto_trace_generate (ID: 7ad04fb9-a455-4187-b4d3-75cf631247e5) - 1 spans\n",
            "2025-09-24 18:32:50 - noveum_trace.transport.batch_processor - INFO - 📥 ADDING TRACE TO QUEUE: auto_trace_generate (ID: 7ad04fb9-a455-4187-b4d3-75cf631247e5) - 1 spans\n",
            "2025-09-24 18:32:50 - noveum_trace.transport.batch_processor - INFO - ✅ Successfully queued trace 7ad04fb9-a455-4187-b4d3-75cf631247e5\n",
            "2025-09-24 18:32:50 - noveum_trace.transport.http_transport - INFO - ✅ Trace 7ad04fb9-a455-4187-b4d3-75cf631247e5 successfully queued for export\n"
          ]
        },
        {
          "name": "stdout",
          "output_type": "stream",
          "text": [
            "2025-09-24 18:32:50 - INFO - google_genai.models - AFC is enabled with max remote calls: 10.\n",
            "2025-09-24 18:32:52 - INFO - google_genai.models - AFC remote call 1 is done.\n"
          ]
        },
        {
          "name": "stderr",
          "output_type": "stream",
          "text": [
            "2025-09-24 18:32:52 - noveum_trace.transport.http_transport - INFO - 📤 EXPORTING TRACE: auto_trace_generate (ID: 929dd17d-92b1-42e0-b58e-a6233c243839) - 1 spans\n",
            "2025-09-24 18:32:52 - noveum_trace.transport.batch_processor - INFO - 📥 ADDING TRACE TO QUEUE: auto_trace_generate (ID: 929dd17d-92b1-42e0-b58e-a6233c243839) - 1 spans\n",
            "2025-09-24 18:32:52 - noveum_trace.transport.batch_processor - INFO - ✅ Successfully queued trace 929dd17d-92b1-42e0-b58e-a6233c243839\n",
            "2025-09-24 18:32:52 - noveum_trace.transport.http_transport - INFO - ✅ Trace 929dd17d-92b1-42e0-b58e-a6233c243839 successfully queued for export\n"
          ]
        },
        {
          "name": "stdout",
          "output_type": "stream",
          "text": [
            "2025-09-24 18:32:52 - INFO - novaeval.evaluators.agent_evaluator - Saving intermediate results after 22 samples\n",
            "2025-09-24 18:32:52 - INFO - novaeval.evaluators.agent_evaluator - Intermediate results saved to demo_results/tavily_search_results_dataset/agent_evaluation_results.csv\n"
          ]
        },
        {
          "name": "stderr",
          "output_type": "stream",
          "text": [
            "Evaluating samples: 22it [01:23,  3.77s/it]"
          ]
        },
        {
          "name": "stdout",
          "output_type": "stream",
          "text": [
            "2025-09-24 18:32:52 - INFO - google_genai.models - AFC is enabled with max remote calls: 10.\n",
            "2025-09-24 18:32:53 - INFO - google_genai.models - AFC remote call 1 is done.\n"
          ]
        },
        {
          "name": "stderr",
          "output_type": "stream",
          "text": [
            "2025-09-24 18:32:53 - noveum_trace.transport.http_transport - INFO - 📤 EXPORTING TRACE: auto_trace_generate (ID: 4ab3c81c-c834-48df-a663-71542b274394) - 1 spans\n",
            "2025-09-24 18:32:53 - noveum_trace.transport.batch_processor - INFO - 📥 ADDING TRACE TO QUEUE: auto_trace_generate (ID: 4ab3c81c-c834-48df-a663-71542b274394) - 1 spans\n",
            "2025-09-24 18:32:53 - noveum_trace.transport.batch_processor - INFO - ✅ Successfully queued trace 4ab3c81c-c834-48df-a663-71542b274394\n",
            "2025-09-24 18:32:53 - noveum_trace.transport.http_transport - INFO - ✅ Trace 4ab3c81c-c834-48df-a663-71542b274394 successfully queued for export\n"
          ]
        },
        {
          "name": "stdout",
          "output_type": "stream",
          "text": [
            "2025-09-24 18:32:53 - INFO - google_genai.models - AFC is enabled with max remote calls: 10.\n",
            "2025-09-24 18:32:54 - INFO - google_genai.models - AFC remote call 1 is done.\n"
          ]
        },
        {
          "name": "stderr",
          "output_type": "stream",
          "text": [
            "2025-09-24 18:32:54 - noveum_trace.transport.http_transport - INFO - 📤 EXPORTING TRACE: auto_trace_generate (ID: 8b4adea0-b580-4f86-b7ce-45fe6f8a0320) - 1 spans\n",
            "2025-09-24 18:32:54 - noveum_trace.transport.batch_processor - INFO - 📥 ADDING TRACE TO QUEUE: auto_trace_generate (ID: 8b4adea0-b580-4f86-b7ce-45fe6f8a0320) - 1 spans\n",
            "2025-09-24 18:32:54 - noveum_trace.transport.batch_processor - INFO - ✅ Successfully queued trace 8b4adea0-b580-4f86-b7ce-45fe6f8a0320\n",
            "2025-09-24 18:32:54 - noveum_trace.transport.http_transport - INFO - ✅ Trace 8b4adea0-b580-4f86-b7ce-45fe6f8a0320 successfully queued for export\n"
          ]
        },
        {
          "name": "stdout",
          "output_type": "stream",
          "text": [
            "2025-09-24 18:32:54 - INFO - google_genai.models - AFC is enabled with max remote calls: 10.\n",
            "2025-09-24 18:32:55 - INFO - google_genai.models - AFC remote call 1 is done.\n"
          ]
        },
        {
          "name": "stderr",
          "output_type": "stream",
          "text": [
            "2025-09-24 18:32:55 - noveum_trace.transport.http_transport - INFO - 📤 EXPORTING TRACE: auto_trace_generate (ID: 8b4fd6ff-bf8a-41d5-8f5f-415b5d9e1887) - 1 spans\n",
            "2025-09-24 18:32:55 - noveum_trace.transport.batch_processor - INFO - 📥 ADDING TRACE TO QUEUE: auto_trace_generate (ID: 8b4fd6ff-bf8a-41d5-8f5f-415b5d9e1887) - 1 spans\n",
            "2025-09-24 18:32:55 - noveum_trace.transport.batch_processor - INFO - ✅ Successfully queued trace 8b4fd6ff-bf8a-41d5-8f5f-415b5d9e1887\n",
            "2025-09-24 18:32:55 - noveum_trace.transport.http_transport - INFO - ✅ Trace 8b4fd6ff-bf8a-41d5-8f5f-415b5d9e1887 successfully queued for export\n"
          ]
        },
        {
          "name": "stdout",
          "output_type": "stream",
          "text": [
            "2025-09-24 18:32:55 - INFO - novaeval.evaluators.agent_evaluator - Saving intermediate results after 23 samples\n",
            "2025-09-24 18:32:55 - INFO - novaeval.evaluators.agent_evaluator - Intermediate results saved to demo_results/tavily_search_results_dataset/agent_evaluation_results.csv\n"
          ]
        },
        {
          "name": "stderr",
          "output_type": "stream",
          "text": [
            "Evaluating samples: 23it [01:26,  3.71s/it]"
          ]
        },
        {
          "name": "stdout",
          "output_type": "stream",
          "text": [
            "2025-09-24 18:32:55 - INFO - google_genai.models - AFC is enabled with max remote calls: 10.\n",
            "2025-09-24 18:32:56 - INFO - google_genai.models - AFC remote call 1 is done.\n"
          ]
        },
        {
          "name": "stderr",
          "output_type": "stream",
          "text": [
            "2025-09-24 18:32:56 - noveum_trace.transport.http_transport - INFO - 📤 EXPORTING TRACE: auto_trace_generate (ID: d18980ad-512a-4343-b55f-68167b3b13c2) - 1 spans\n",
            "2025-09-24 18:32:56 - noveum_trace.transport.batch_processor - INFO - 📥 ADDING TRACE TO QUEUE: auto_trace_generate (ID: d18980ad-512a-4343-b55f-68167b3b13c2) - 1 spans\n",
            "2025-09-24 18:32:56 - noveum_trace.transport.batch_processor - INFO - ✅ Successfully queued trace d18980ad-512a-4343-b55f-68167b3b13c2\n",
            "2025-09-24 18:32:56 - noveum_trace.transport.http_transport - INFO - ✅ Trace d18980ad-512a-4343-b55f-68167b3b13c2 successfully queued for export\n"
          ]
        },
        {
          "name": "stdout",
          "output_type": "stream",
          "text": [
            "2025-09-24 18:32:56 - INFO - google_genai.models - AFC is enabled with max remote calls: 10.\n",
            "2025-09-24 18:32:58 - INFO - google_genai.models - AFC remote call 1 is done.\n"
          ]
        },
        {
          "name": "stderr",
          "output_type": "stream",
          "text": [
            "2025-09-24 18:32:58 - noveum_trace.transport.http_transport - INFO - 📤 EXPORTING TRACE: auto_trace_generate (ID: 4c3a07e3-0d89-42c1-9b57-441a1068ceca) - 1 spans\n",
            "2025-09-24 18:32:58 - noveum_trace.transport.batch_processor - INFO - 📥 ADDING TRACE TO QUEUE: auto_trace_generate (ID: 4c3a07e3-0d89-42c1-9b57-441a1068ceca) - 1 spans\n",
            "2025-09-24 18:32:58 - noveum_trace.transport.batch_processor - INFO - ✅ Successfully queued trace 4c3a07e3-0d89-42c1-9b57-441a1068ceca\n",
            "2025-09-24 18:32:58 - noveum_trace.transport.http_transport - INFO - ✅ Trace 4c3a07e3-0d89-42c1-9b57-441a1068ceca successfully queued for export\n"
          ]
        },
        {
          "name": "stdout",
          "output_type": "stream",
          "text": [
            "2025-09-24 18:32:58 - INFO - google_genai.models - AFC is enabled with max remote calls: 10.\n",
            "2025-09-24 18:32:59 - INFO - google_genai.models - AFC remote call 1 is done.\n"
          ]
        },
        {
          "name": "stderr",
          "output_type": "stream",
          "text": [
            "2025-09-24 18:32:59 - noveum_trace.transport.http_transport - INFO - 📤 EXPORTING TRACE: auto_trace_generate (ID: 2351391d-0353-4c95-b8fe-0a83af209271) - 1 spans\n",
            "2025-09-24 18:32:59 - noveum_trace.transport.batch_processor - INFO - 📥 ADDING TRACE TO QUEUE: auto_trace_generate (ID: 2351391d-0353-4c95-b8fe-0a83af209271) - 1 spans\n",
            "2025-09-24 18:32:59 - noveum_trace.transport.batch_processor - INFO - ✅ Successfully queued trace 2351391d-0353-4c95-b8fe-0a83af209271\n",
            "2025-09-24 18:32:59 - noveum_trace.transport.http_transport - INFO - ✅ Trace 2351391d-0353-4c95-b8fe-0a83af209271 successfully queued for export\n"
          ]
        },
        {
          "name": "stdout",
          "output_type": "stream",
          "text": [
            "2025-09-24 18:32:59 - INFO - novaeval.evaluators.agent_evaluator - Saving intermediate results after 24 samples\n",
            "2025-09-24 18:32:59 - INFO - novaeval.evaluators.agent_evaluator - Intermediate results saved to demo_results/tavily_search_results_dataset/agent_evaluation_results.csv\n"
          ]
        },
        {
          "name": "stderr",
          "output_type": "stream",
          "text": [
            "Evaluating samples: 24it [01:30,  3.69s/it]"
          ]
        },
        {
          "name": "stdout",
          "output_type": "stream",
          "text": [
            "2025-09-24 18:32:59 - INFO - google_genai.models - AFC is enabled with max remote calls: 10.\n",
            "2025-09-24 18:33:00 - INFO - google_genai.models - AFC remote call 1 is done.\n"
          ]
        },
        {
          "name": "stderr",
          "output_type": "stream",
          "text": [
            "2025-09-24 18:33:00 - noveum_trace.transport.http_transport - INFO - 📤 EXPORTING TRACE: auto_trace_generate (ID: aed9a73b-e7c3-4ffc-83ae-5b5a78def4b1) - 1 spans\n",
            "2025-09-24 18:33:00 - noveum_trace.transport.batch_processor - INFO - 📥 ADDING TRACE TO QUEUE: auto_trace_generate (ID: aed9a73b-e7c3-4ffc-83ae-5b5a78def4b1) - 1 spans\n",
            "2025-09-24 18:33:00 - noveum_trace.transport.batch_processor - INFO - ✅ Successfully queued trace aed9a73b-e7c3-4ffc-83ae-5b5a78def4b1\n",
            "2025-09-24 18:33:00 - noveum_trace.transport.http_transport - INFO - ✅ Trace aed9a73b-e7c3-4ffc-83ae-5b5a78def4b1 successfully queued for export\n"
          ]
        },
        {
          "name": "stdout",
          "output_type": "stream",
          "text": [
            "2025-09-24 18:33:00 - INFO - google_genai.models - AFC is enabled with max remote calls: 10.\n",
            "2025-09-24 18:33:01 - INFO - google_genai.models - AFC remote call 1 is done.\n"
          ]
        },
        {
          "name": "stderr",
          "output_type": "stream",
          "text": [
            "2025-09-24 18:33:01 - noveum_trace.transport.http_transport - INFO - 📤 EXPORTING TRACE: auto_trace_generate (ID: a18faaac-8866-426e-91af-6ea3930d4967) - 1 spans\n",
            "2025-09-24 18:33:01 - noveum_trace.transport.batch_processor - INFO - 📥 ADDING TRACE TO QUEUE: auto_trace_generate (ID: a18faaac-8866-426e-91af-6ea3930d4967) - 1 spans\n",
            "2025-09-24 18:33:01 - noveum_trace.transport.batch_processor - INFO - ✅ Successfully queued trace a18faaac-8866-426e-91af-6ea3930d4967\n",
            "2025-09-24 18:33:01 - noveum_trace.transport.http_transport - INFO - ✅ Trace a18faaac-8866-426e-91af-6ea3930d4967 successfully queued for export\n"
          ]
        },
        {
          "name": "stdout",
          "output_type": "stream",
          "text": [
            "2025-09-24 18:33:01 - INFO - google_genai.models - AFC is enabled with max remote calls: 10.\n",
            "2025-09-24 18:33:03 - INFO - google_genai.models - AFC remote call 1 is done.\n"
          ]
        },
        {
          "name": "stderr",
          "output_type": "stream",
          "text": [
            "2025-09-24 18:33:03 - noveum_trace.transport.http_transport - INFO - 📤 EXPORTING TRACE: auto_trace_generate (ID: 66c852c8-9e41-4224-8ace-37751c185ea4) - 1 spans\n",
            "2025-09-24 18:33:03 - noveum_trace.transport.batch_processor - INFO - 📥 ADDING TRACE TO QUEUE: auto_trace_generate (ID: 66c852c8-9e41-4224-8ace-37751c185ea4) - 1 spans\n",
            "2025-09-24 18:33:03 - noveum_trace.transport.batch_processor - INFO - ✅ Successfully queued trace 66c852c8-9e41-4224-8ace-37751c185ea4\n",
            "2025-09-24 18:33:03 - noveum_trace.transport.http_transport - INFO - ✅ Trace 66c852c8-9e41-4224-8ace-37751c185ea4 successfully queued for export\n"
          ]
        },
        {
          "name": "stdout",
          "output_type": "stream",
          "text": [
            "2025-09-24 18:33:03 - INFO - novaeval.evaluators.agent_evaluator - Saving intermediate results after 25 samples\n",
            "2025-09-24 18:33:03 - INFO - novaeval.evaluators.agent_evaluator - Intermediate results saved to demo_results/tavily_search_results_dataset/agent_evaluation_results.csv\n"
          ]
        },
        {
          "name": "stderr",
          "output_type": "stream",
          "text": [
            "Evaluating samples: 25it [01:34,  3.77s/it]"
          ]
        },
        {
          "name": "stdout",
          "output_type": "stream",
          "text": [
            "2025-09-24 18:33:03 - INFO - novaeval.evaluators.agent_evaluator - Saving final results\n",
            "2025-09-24 18:33:03 - INFO - novaeval.evaluators.agent_evaluator - Reloaded 25 results from CSV\n",
            "2025-09-24 18:33:03 - INFO - novaeval.evaluators.agent_evaluator - Agent evaluation completed\n",
            "\n",
            "✅ Evaluation completed!\n",
            "\n",
            "📊 Results Summary:\n",
            "  - task_progression: 1.84\n",
            "  - context_relevancy: 4.98\n",
            "  - role_adherence: 5.17\n",
            "  - tool_relevancy: 0.00\n",
            "  - parameter_correctness: 0.00\n",
            "\n",
            "🔍 Individual Scores:\n",
            "\n",
            "  Record 1 (Task: b11593a1-b6ee-44c8-baed-18ebbd0330d9):\n",
            "    - task_progression: 1.8\n",
            "    - context_relevancy: 7.2\n",
            "    - role_adherence: 4.5\n",
            "    - tool_relevancy: 0.0\n",
            "    - parameter_correctness: 0.0\n",
            "\n",
            "  Record 2 (Task: a4444467-5b32-47f0-9b21-b86e42e87944):\n",
            "    - task_progression: 1.8\n",
            "    - context_relevancy: 7.2\n",
            "    - role_adherence: 4.5\n",
            "    - tool_relevancy: 0.0\n",
            "    - parameter_correctness: 0.0\n",
            "\n",
            "  Record 3 (Task: 7133e89b-588b-451f-8fdc-454dba47d752):\n",
            "    - task_progression: 1.2\n",
            "    - context_relevancy: 2.1\n",
            "    - role_adherence: 4.8\n",
            "    - tool_relevancy: 0.0\n",
            "    - parameter_correctness: 0.0\n",
            "\n",
            "  Record 4 (Task: 7133e89b-588b-451f-8fdc-454dba47d752):\n",
            "    - task_progression: 1.8\n",
            "    - context_relevancy: 4.5\n",
            "    - role_adherence: 4.5\n",
            "    - tool_relevancy: 0.0\n",
            "    - parameter_correctness: 0.0\n",
            "\n",
            "  Record 5 (Task: 7133e89b-588b-451f-8fdc-454dba47d752):\n",
            "    - task_progression: 1.8\n",
            "    - context_relevancy: 4.5\n",
            "    - role_adherence: 4.5\n",
            "    - tool_relevancy: 0.0\n",
            "    - parameter_correctness: 0.0\n",
            "\n",
            "  Record 6 (Task: 7133e89b-588b-451f-8fdc-454dba47d752):\n",
            "    - task_progression: 1.8\n",
            "    - context_relevancy: 4.5\n",
            "    - role_adherence: 4.5\n",
            "    - tool_relevancy: 0.0\n",
            "    - parameter_correctness: 0.0\n",
            "\n",
            "  Record 7 (Task: 7133e89b-588b-451f-8fdc-454dba47d752):\n",
            "    - task_progression: 1.8\n",
            "    - context_relevancy: 4.5\n",
            "    - role_adherence: 4.5\n",
            "    - tool_relevancy: 0.0\n",
            "    - parameter_correctness: 0.0\n",
            "\n",
            "  Record 8 (Task: 7133e89b-588b-451f-8fdc-454dba47d752):\n",
            "    - task_progression: 1.8\n",
            "    - context_relevancy: 4.5\n",
            "    - role_adherence: 4.5\n",
            "    - tool_relevancy: 0.0\n",
            "    - parameter_correctness: 0.0\n",
            "\n",
            "  Record 9 (Task: 7133e89b-588b-451f-8fdc-454dba47d752):\n",
            "    - task_progression: 2.2\n",
            "    - context_relevancy: 7.5\n",
            "    - role_adherence: 9.2\n",
            "    - tool_relevancy: 0.0\n",
            "    - parameter_correctness: 0.0\n",
            "\n",
            "  Record 10 (Task: 7133e89b-588b-451f-8fdc-454dba47d752):\n",
            "    - task_progression: 1.0\n",
            "    - context_relevancy: 1.2\n",
            "    - role_adherence: 1.0\n",
            "    - tool_relevancy: 0.0\n",
            "    - parameter_correctness: 0.0\n",
            "\n",
            "  Record 11 (Task: 7133e89b-588b-451f-8fdc-454dba47d752):\n",
            "    - task_progression: 1.8\n",
            "    - context_relevancy: 4.5\n",
            "    - role_adherence: 4.5\n",
            "    - tool_relevancy: 0.0\n",
            "    - parameter_correctness: 0.0\n",
            "\n",
            "  Record 12 (Task: 7133e89b-588b-451f-8fdc-454dba47d752):\n",
            "    - task_progression: 1.8\n",
            "    - context_relevancy: 4.5\n",
            "    - role_adherence: 4.5\n",
            "    - tool_relevancy: 0.0\n",
            "    - parameter_correctness: 0.0\n",
            "\n",
            "  Record 13 (Task: 7133e89b-588b-451f-8fdc-454dba47d752):\n",
            "    - task_progression: 1.8\n",
            "    - context_relevancy: 4.5\n",
            "    - role_adherence: 4.5\n",
            "    - tool_relevancy: 0.0\n",
            "    - parameter_correctness: 0.0\n",
            "\n",
            "  Record 14 (Task: 7133e89b-588b-451f-8fdc-454dba47d752):\n",
            "    - task_progression: 1.8\n",
            "    - context_relevancy: 4.5\n",
            "    - role_adherence: 4.5\n",
            "    - tool_relevancy: 0.0\n",
            "    - parameter_correctness: 0.0\n",
            "\n",
            "  Record 15 (Task: 7133e89b-588b-451f-8fdc-454dba47d752):\n",
            "    - task_progression: 1.8\n",
            "    - context_relevancy: 4.5\n",
            "    - role_adherence: 4.5\n",
            "    - tool_relevancy: 0.0\n",
            "    - parameter_correctness: 0.0\n",
            "\n",
            "  Record 16 (Task: 7133e89b-588b-451f-8fdc-454dba47d752):\n",
            "    - task_progression: 2.2\n",
            "    - context_relevancy: 7.2\n",
            "    - role_adherence: 8.7\n",
            "    - tool_relevancy: 0.0\n",
            "    - parameter_correctness: 0.0\n",
            "\n",
            "  Record 17 (Task: d8b73759-af67-4247-94cc-3b21b28edc06):\n",
            "    - task_progression: 1.0\n",
            "    - context_relevancy: 7.2\n",
            "    - role_adherence: 8.7\n",
            "    - tool_relevancy: 0.0\n",
            "    - parameter_correctness: 0.0\n",
            "\n",
            "  Record 18 (Task: d8b73759-af67-4247-94cc-3b21b28edc06):\n",
            "    - task_progression: 1.8\n",
            "    - context_relevancy: 4.5\n",
            "    - role_adherence: 4.5\n",
            "    - tool_relevancy: 0.0\n",
            "    - parameter_correctness: 0.0\n",
            "\n",
            "  Record 19 (Task: d8b73759-af67-4247-94cc-3b21b28edc06):\n",
            "    - task_progression: 1.8\n",
            "    - context_relevancy: 4.5\n",
            "    - role_adherence: 4.5\n",
            "    - tool_relevancy: 0.0\n",
            "    - parameter_correctness: 0.0\n",
            "\n",
            "  Record 20 (Task: d8b73759-af67-4247-94cc-3b21b28edc06):\n",
            "    - task_progression: 1.8\n",
            "    - context_relevancy: 4.5\n",
            "    - role_adherence: 4.5\n",
            "    - tool_relevancy: 0.0\n",
            "    - parameter_correctness: 0.0\n",
            "\n",
            "  Record 21 (Task: d8b73759-af67-4247-94cc-3b21b28edc06):\n",
            "    - task_progression: 1.8\n",
            "    - context_relevancy: 4.5\n",
            "    - role_adherence: 4.8\n",
            "    - tool_relevancy: 0.0\n",
            "    - parameter_correctness: 0.0\n",
            "\n",
            "  Record 22 (Task: d8b73759-af67-4247-94cc-3b21b28edc06):\n",
            "    - task_progression: 1.8\n",
            "    - context_relevancy: 4.5\n",
            "    - role_adherence: 4.5\n",
            "    - tool_relevancy: 0.0\n",
            "    - parameter_correctness: 0.0\n",
            "\n",
            "  Record 23 (Task: d8b73759-af67-4247-94cc-3b21b28edc06):\n",
            "    - task_progression: 2.2\n",
            "    - context_relevancy: 7.5\n",
            "    - role_adherence: 9.2\n",
            "    - tool_relevancy: 0.0\n",
            "    - parameter_correctness: 0.0\n",
            "\n",
            "  Record 24 (Task: d8b73759-af67-4247-94cc-3b21b28edc06):\n",
            "    - task_progression: 1.2\n",
            "    - context_relevancy: 1.2\n",
            "    - role_adherence: 1.0\n",
            "    - tool_relevancy: 0.0\n",
            "    - parameter_correctness: 0.0\n",
            "\n",
            "  Record 25 (Task: d8b73759-af67-4247-94cc-3b21b28edc06):\n",
            "    - task_progression: 1.8\n",
            "    - context_relevancy: 4.5\n",
            "    - role_adherence: 4.8\n",
            "    - tool_relevancy: 0.0\n",
            "    - parameter_correctness: 0.0\n",
            "\n",
            "  Record 26 (Task: d8b73759-af67-4247-94cc-3b21b28edc06):\n",
            "    - task_progression: 1.8\n",
            "    - context_relevancy: 4.5\n",
            "    - role_adherence: 4.5\n",
            "    - tool_relevancy: 0.0\n",
            "    - parameter_correctness: 0.0\n",
            "\n",
            "  Record 27 (Task: d8b73759-af67-4247-94cc-3b21b28edc06):\n",
            "    - task_progression: 1.8\n",
            "    - context_relevancy: 4.5\n",
            "    - role_adherence: 4.5\n",
            "    - tool_relevancy: 0.0\n",
            "    - parameter_correctness: 0.0\n",
            "\n",
            "  Record 28 (Task: d8b73759-af67-4247-94cc-3b21b28edc06):\n",
            "    - task_progression: 1.8\n",
            "    - context_relevancy: 4.5\n",
            "    - role_adherence: 4.5\n",
            "    - tool_relevancy: 0.0\n",
            "    - parameter_correctness: 0.0\n",
            "\n",
            "  Record 29 (Task: d8b73759-af67-4247-94cc-3b21b28edc06):\n",
            "    - task_progression: 1.2\n",
            "    - context_relevancy: 4.5\n",
            "    - role_adherence: 4.5\n",
            "    - tool_relevancy: 0.0\n",
            "    - parameter_correctness: 0.0\n",
            "\n",
            "  Record 30 (Task: d8b73759-af67-4247-94cc-3b21b28edc06):\n",
            "    - task_progression: 2.2\n",
            "    - context_relevancy: 7.5\n",
            "    - role_adherence: 9.2\n",
            "    - tool_relevancy: 0.0\n",
            "    - parameter_correctness: 0.0\n",
            "\n",
            "  Record 31 (Task: fc6158f7-6486-47cd-be26-05aa8db0ba04):\n",
            "    - task_progression: 2.8\n",
            "    - context_relevancy: 7.2\n",
            "    - role_adherence: 4.5\n",
            "    - tool_relevancy: 0.0\n",
            "    - parameter_correctness: 0.0\n",
            "\n",
            "  Record 32 (Task: fc6158f7-6486-47cd-be26-05aa8db0ba04):\n",
            "    - task_progression: 1.8\n",
            "    - context_relevancy: 4.5\n",
            "    - role_adherence: 4.5\n",
            "    - tool_relevancy: 0.0\n",
            "    - parameter_correctness: 0.0\n",
            "\n",
            "  Record 33 (Task: fc6158f7-6486-47cd-be26-05aa8db0ba04):\n",
            "    - task_progression: 1.8\n",
            "    - context_relevancy: 4.5\n",
            "    - role_adherence: 4.5\n",
            "    - tool_relevancy: 0.0\n",
            "    - parameter_correctness: 0.0\n",
            "\n",
            "  Record 34 (Task: fc6158f7-6486-47cd-be26-05aa8db0ba04):\n",
            "    - task_progression: 1.8\n",
            "    - context_relevancy: 4.5\n",
            "    - role_adherence: 4.5\n",
            "    - tool_relevancy: 0.0\n",
            "    - parameter_correctness: 0.0\n",
            "\n",
            "  Record 35 (Task: fc6158f7-6486-47cd-be26-05aa8db0ba04):\n",
            "    - task_progression: 2.2\n",
            "    - context_relevancy: 7.5\n",
            "    - role_adherence: 9.2\n",
            "    - tool_relevancy: 0.0\n",
            "    - parameter_correctness: 0.0\n",
            "\n",
            "  Record 36 (Task: fc6158f7-6486-47cd-be26-05aa8db0ba04):\n",
            "    - task_progression: 1.2\n",
            "    - context_relevancy: 1.0\n",
            "    - role_adherence: 4.8\n",
            "    - tool_relevancy: 0.0\n",
            "    - parameter_correctness: 0.0\n",
            "\n",
            "  Record 37 (Task: fc6158f7-6486-47cd-be26-05aa8db0ba04):\n",
            "    - task_progression: 1.8\n",
            "    - context_relevancy: 4.5\n",
            "    - role_adherence: 4.8\n",
            "    - tool_relevancy: 0.0\n",
            "    - parameter_correctness: 0.0\n",
            "\n",
            "  Record 38 (Task: fc6158f7-6486-47cd-be26-05aa8db0ba04):\n",
            "    - task_progression: 1.8\n",
            "    - context_relevancy: 4.5\n",
            "    - role_adherence: 4.5\n",
            "    - tool_relevancy: 0.0\n",
            "    - parameter_correctness: 0.0\n",
            "\n",
            "  Record 39 (Task: fc6158f7-6486-47cd-be26-05aa8db0ba04):\n",
            "    - task_progression: 1.8\n",
            "    - context_relevancy: 4.5\n",
            "    - role_adherence: 4.5\n",
            "    - tool_relevancy: 0.0\n",
            "    - parameter_correctness: 0.0\n",
            "\n",
            "  Record 40 (Task: fc6158f7-6486-47cd-be26-05aa8db0ba04):\n",
            "    - task_progression: 1.8\n",
            "    - context_relevancy: 4.5\n",
            "    - role_adherence: 4.5\n",
            "    - tool_relevancy: 0.0\n",
            "    - parameter_correctness: 0.0\n",
            "\n",
            "  Record 41 (Task: fc6158f7-6486-47cd-be26-05aa8db0ba04):\n",
            "    - task_progression: 1.8\n",
            "    - context_relevancy: 4.5\n",
            "    - role_adherence: 4.5\n",
            "    - tool_relevancy: 0.0\n",
            "    - parameter_correctness: 0.0\n",
            "\n",
            "  Record 42 (Task: fc6158f7-6486-47cd-be26-05aa8db0ba04):\n",
            "    - task_progression: 2.2\n",
            "    - context_relevancy: 7.2\n",
            "    - role_adherence: 9.2\n",
            "    - tool_relevancy: 0.0\n",
            "    - parameter_correctness: 0.0\n",
            "\n",
            "  Record 43 (Task: c007a165-eec9-4e2f-af5d-c874dd05842a):\n",
            "    - task_progression: 2.8\n",
            "    - context_relevancy: 7.2\n",
            "    - role_adherence: 6.8\n",
            "    - tool_relevancy: 0.0\n",
            "    - parameter_correctness: 0.0\n",
            "\n",
            "  Record 44 (Task: c007a165-eec9-4e2f-af5d-c874dd05842a):\n",
            "    - task_progression: 1.8\n",
            "    - context_relevancy: 4.5\n",
            "    - role_adherence: 4.5\n",
            "    - tool_relevancy: 0.0\n",
            "    - parameter_correctness: 0.0\n",
            "\n",
            "  Record 45 (Task: c007a165-eec9-4e2f-af5d-c874dd05842a):\n",
            "    - task_progression: 1.8\n",
            "    - context_relevancy: 4.5\n",
            "    - role_adherence: 4.5\n",
            "    - tool_relevancy: 0.0\n",
            "    - parameter_correctness: 0.0\n",
            "\n",
            "  Record 46 (Task: c007a165-eec9-4e2f-af5d-c874dd05842a):\n",
            "    - task_progression: 1.8\n",
            "    - context_relevancy: 4.5\n",
            "    - role_adherence: 4.5\n",
            "    - tool_relevancy: 0.0\n",
            "    - parameter_correctness: 0.0\n",
            "\n",
            "  Record 47 (Task: c007a165-eec9-4e2f-af5d-c874dd05842a):\n",
            "    - task_progression: 1.8\n",
            "    - context_relevancy: 4.5\n",
            "    - role_adherence: 4.5\n",
            "    - tool_relevancy: 0.0\n",
            "    - parameter_correctness: 0.0\n",
            "\n",
            "  Record 48 (Task: c007a165-eec9-4e2f-af5d-c874dd05842a):\n",
            "    - task_progression: 1.8\n",
            "    - context_relevancy: 4.5\n",
            "    - role_adherence: 4.5\n",
            "    - tool_relevancy: 0.0\n",
            "    - parameter_correctness: 0.0\n",
            "\n",
            "  Record 49 (Task: c007a165-eec9-4e2f-af5d-c874dd05842a):\n",
            "    - task_progression: 2.2\n",
            "    - context_relevancy: 7.5\n",
            "    - role_adherence: 9.2\n",
            "    - tool_relevancy: 0.0\n",
            "    - parameter_correctness: 0.0\n",
            "\n",
            "  Record 50 (Task: c007a165-eec9-4e2f-af5d-c874dd05842a):\n",
            "    - task_progression: 2.8\n",
            "    - context_relevancy: 7.2\n",
            "    - role_adherence: 4.5\n",
            "    - tool_relevancy: 0.0\n",
            "    - parameter_correctness: 0.0\n"
          ]
        },
        {
          "name": "stderr",
          "output_type": "stream",
          "text": [
            "\n"
          ]
        }
      ],
      "source": [
        "# Run evaluation using the AgentEvaluator's run_all method\n",
        "print(\"🚀 Running evaluation on sample data...\")\n",
        "\n",
        "if gemini_model and evaluator:\n",
        "    try:\n",
        "        # Create a smaller dataset for demo purposes\n",
        "        sample_data = [data for data in dataset.data if data.agent_response][:25]\n",
        "        print(f\"\\n📊 Evaluating {len(sample_data)} sample records...\")\n",
        "        \n",
        "        # Create a temporary dataset with just the sample data\n",
        "        sample_dataset = AgentDataset()\n",
        "        sample_dataset.data = sample_data\n",
        "        \n",
        "        # Create a new evaluator with the sample dataset\n",
        "        sample_evaluator = AgentEvaluator(\n",
        "            agent_dataset=sample_dataset,\n",
        "            models=[gemini_model],\n",
        "            scoring_functions=scoring_functions,\n",
        "            output_dir=f\"./demo_results/{(os.path.splitext(os.path.basename(file_name))[0])}\",\n",
        "            stream=False,\n",
        "            include_reasoning=True\n",
        "        )\n",
        "        \n",
        "        # Run the evaluation\n",
        "        sample_evaluator.run_all(save_every=1, file_type=\"csv\")\n",
        "        \n",
        "        print(\"\\n✅ Evaluation completed!\")\n",
        "        \n",
        "        # Read and display results\n",
        "        import pandas as pd\n",
        "        results_file = \"./demo_results/sample_evaluation/agent_evaluation_results.csv\"\n",
        "        \n",
        "        if pd.io.common.file_exists(results_file):\n",
        "            results_df = pd.read_csv(results_file)\n",
        "            print(f\"\\n📊 Results Summary:\")\n",
        "            \n",
        "            # Calculate averages for each scorer\n",
        "            scorer_columns = [col for col in results_df.columns if col not in ['user_id', 'task_id', 'turn_id', 'agent_name'] and not col.endswith('_reasoning')]\n",
        "            \n",
        "            for col in scorer_columns:\n",
        "                if results_df[col].dtype in ['float64', 'int64']:\n",
        "                    avg_score = results_df[col].mean()\n",
        "                    print(f\"  - {col}: {avg_score:.2f}\")\n",
        "            \n",
        "            # Show individual scores\n",
        "            print(f\"\\n🔍 Individual Scores:\")\n",
        "            for i, row in results_df.iterrows():\n",
        "                print(f\"\\n  Record {i+1} (Task: {row.get('task_id', 'N/A')}):\")\n",
        "                for col in scorer_columns:\n",
        "                    if pd.notna(row[col]):\n",
        "                        print(f\"    - {col}: {row[col]}\")\n",
        "        else:\n",
        "            print(\"❌ Results file not found\")\n",
        "        \n",
        "    except Exception as e:\n",
        "        print(f\"❌ Error during evaluation: {e}\")\n",
        "        print(f\"Error type: {type(e).__name__}\")\n",
        "        import traceback\n",
        "        traceback.print_exc()\n",
        "        \n",
        "else:\n",
        "    print(\"⚠️  Skipping evaluation - missing model or evaluator\")\n"
      ]
    },
    {
      "cell_type": "markdown",
      "metadata": {},
      "source": [
        "## Step 7: Analysis and Insights\n"
      ]
    },
    {
      "cell_type": "code",
      "execution_count": 107,
      "metadata": {},
      "outputs": [
        {
          "name": "stdout",
          "output_type": "stream",
          "text": [
            "🔍 Dataset Analysis:\n",
            "\n",
            "=== Agent Behavior Patterns ===\n",
            "\n",
            "📈 Tool Usage:\n",
            "\n",
            "📋 Task Types:\n",
            "  - other: 2301\n",
            "\n",
            "📝 Response Statistics:\n",
            "  - Average response length: 679.2 characters\n",
            "  - Min response length: 70\n",
            "  - Max response length: 7309\n"
          ]
        }
      ],
      "source": [
        "# Analyze the dataset characteristics\n",
        "print(\"🔍 Dataset Analysis:\")\n",
        "print(\"\\n=== Agent Behavior Patterns ===\")\n",
        "\n",
        "# Analyze tool usage patterns\n",
        "tool_patterns = {}\n",
        "task_types = {}\n",
        "response_lengths = []\n",
        "\n",
        "for data in dataset.data:\n",
        "    # Tool usage\n",
        "    if data.tool_calls:\n",
        "        for tool_call in data.tool_calls:\n",
        "            if hasattr(tool_call, 'tool_name'):\n",
        "                tool_name = tool_call.tool_name\n",
        "                if tool_name not in tool_patterns:\n",
        "                    tool_patterns[tool_name] = {'count': 0, 'success_rate': 0}\n",
        "                tool_patterns[tool_name]['count'] += 1\n",
        "    \n",
        "    # Task analysis\n",
        "    if data.agent_task:\n",
        "        # Simple categorization\n",
        "        task_lower = data.agent_task.lower()\n",
        "        if 'user_input' in task_lower:\n",
        "            task_types['user_input'] = task_types.get('user_input', 0) + 1\n",
        "        elif 'exit' in task_lower:\n",
        "            task_types['exit_command'] = task_types.get('exit_command', 0) + 1\n",
        "        else:\n",
        "            task_types['other'] = task_types.get('other', 0) + 1\n",
        "    \n",
        "    # Response analysis\n",
        "    if data.agent_response:\n",
        "        response_lengths.append(len(data.agent_response))\n",
        "\n",
        "print(f\"\\n📈 Tool Usage:\")\n",
        "for tool, stats in tool_patterns.items():\n",
        "    print(f\"  - {tool}: {stats['count']} uses\")\n",
        "\n",
        "print(f\"\\n📋 Task Types:\")\n",
        "for task_type, count in task_types.items():\n",
        "    print(f\"  - {task_type}: {count}\")\n",
        "\n",
        "if response_lengths:\n",
        "    avg_response_length = sum(response_lengths) / len(response_lengths)\n",
        "    print(f\"\\n📝 Response Statistics:\")\n",
        "    print(f\"  - Average response length: {avg_response_length:.1f} characters\")\n",
        "    print(f\"  - Min response length: {min(response_lengths)}\")\n",
        "    print(f\"  - Max response length: {max(response_lengths)}\")\n"
      ]
    },
    {
      "cell_type": "markdown",
      "metadata": {},
      "source": [
        "## Step 8: Export Results (Optional)\n"
      ]
    },
    {
      "cell_type": "code",
      "execution_count": 108,
      "metadata": {},
      "outputs": [
        {
          "name": "stdout",
          "output_type": "stream",
          "text": [
            "💾 Exporting processed dataset...\n",
            "❌ Export error: [Errno 2] No such file or directory: 'processed_agent_split_datasets/tavily_search_results_dataset.json'\n",
            "\n",
            "🎉 Demo completed successfully!\n",
            "\n",
            "📋 Summary:\n",
            "  - Processed 2301 spans from split_datasets/tavily_search_results_dataset.json\n",
            "  - Created 2301 AgentData records\n",
            "  - Configured evaluation with Gemini model and 6 scorers\n",
            "  - Exported processed dataset for future use\n"
          ]
        }
      ],
      "source": [
        "\n",
        "# Export the processed dataset for future use\n",
        "print(\"💾 Exporting processed dataset...\")\n",
        "\n",
        "try:\n",
        "    # Export to JSON\n",
        "    dataset.export_to_json(f'processed_agent_{file_name}')\n",
        "    print(f\"✅ Exported to processed_agent_{file_name}\")\n",
        "    \n",
        "    # Export to CSV (optional)\n",
        "    dataset.export_to_csv('processed_agent_dataset.csv')\n",
        "    print(\"✅ Exported to processed_agent_dataset.csv\")\n",
        "    \n",
        "except Exception as e:\n",
        "    print(f\"❌ Export error: {e}\")\n",
        "\n",
        "print(\"\\n🎉 Demo completed successfully!\")\n",
        "print(\"\\n📋 Summary:\")\n",
        "print(f\"  - Processed {len(spans_data)} spans from {file_name}\")\n",
        "print(f\"  - Created {len(dataset.data)} AgentData records\")\n",
        "print(f\"  - Configured evaluation with Gemini model and 6 scorers\")\n",
        "if 'results' in locals():\n",
        "    print(f\"  - Successfully evaluated sample data\")\n",
        "print(f\"  - Exported processed dataset for future use\")\n"
      ]
    },
    {
      "cell_type": "code",
      "execution_count": null,
      "metadata": {},
      "outputs": [],
      "source": []
    },
    {
      "cell_type": "code",
      "execution_count": null,
      "metadata": {},
      "outputs": [],
      "source": []
    }
  ],
  "metadata": {
    "kernelspec": {
      "display_name": ".venv",
      "language": "python",
      "name": "python3"
    },
    "language_info": {
      "codemirror_mode": {
        "name": "ipython",
        "version": 3
      },
      "file_extension": ".py",
      "mimetype": "text/x-python",
      "name": "python",
      "nbconvert_exporter": "python",
      "pygments_lexer": "ipython3",
      "version": "3.10.12"
    }
  },
  "nbformat": 4,
  "nbformat_minor": 2
}
