{
  "cells": [
    {
      "cell_type": "markdown",
      "metadata": {},
      "source": [
        "# Agent Evaluation Demo with NovaEval\n",
        "\n",
        "This notebook demonstrates how to:\n",
        "1. Load agent trace data from dataset.json or dataset_tool_calls_removed.json\n",
        "2. Map trace spans to AgentData format\n",
        "3. Create an AgentDataset \n",
        "4. Evaluate agent performance using AgentEvaluator with Gemini model\n",
        "5. Analyze results with multiple scorers\n"
      ]
    },
    {
      "cell_type": "code",
      "execution_count": 19,
      "metadata": {},
      "outputs": [
        {
          "name": "stdout",
          "output_type": "stream",
          "text": [
            "✅ All imports successful!\n"
          ]
        }
      ],
      "source": [
        "import json\n",
        "import re\n",
        "from typing import Any, Dict, List, Optional, Union\n",
        "\n",
        "# NovaEval imports\n",
        "from novaeval.agents.agent_data import AgentData, ToolSchema, ToolCall, ToolResult\n",
        "from novaeval.datasets.agent_dataset import AgentDataset\n",
        "from novaeval.evaluators.agent_evaluator import AgentEvaluator\n",
        "from novaeval.models.gemini import GeminiModel\n",
        "from novaeval.scorers.agent_scorers import (\n",
        "    context_relevancy_scorer,\n",
        "    role_adherence_scorer,\n",
        "    task_progression_scorer,\n",
        "    tool_relevancy_scorer,\n",
        "    tool_correctness_scorer,\n",
        "    parameter_correctness_scorer\n",
        ")\n",
        "from dotenv import load_dotenv\n",
        "\n",
        "load_dotenv()\n",
        "\n",
        "print(\"✅ All imports successful!\")\n"
      ]
    },
    {
      "cell_type": "code",
      "execution_count": 20,
      "metadata": {},
      "outputs": [],
      "source": [
        "# !pwd\n",
        "# !python langchain_agent/traces/fetch_traces_api.py 10\n",
        "# !python langchain_agent/traces/combine_spans_api_compat.py\n",
        "\n",
        "# !cp langchain_agent/traces/traces/dataset.json .\n",
        "\n",
        "# !python clean_tool_call_spans.py "
      ]
    },
    {
      "cell_type": "markdown",
      "metadata": {},
      "source": [
        "## Step 1: Load and Examine Dataset Structure\n"
      ]
    },
    {
      "cell_type": "code",
      "execution_count": 21,
      "metadata": {},
      "outputs": [
        {
          "name": "stdout",
          "output_type": "stream",
          "text": [
            "📊 Loaded 3381 spans from dataset_filtered_mapped.json\n",
            "\n",
            "🔍 Available span types:\n",
            "  - agent.query_generation: 533\n",
            "  - tool:tavily_search_results_json:tavily_search_results_json: 2301\n",
            "  - post_validation: 521\n",
            "  - agent.comment_generation: 13\n",
            "  - email_generation_and_sending: 13\n"
          ]
        }
      ],
      "source": [
        "# Load the dataset\n",
        "file_name = 'dataset_filtered_mapped.json'\n",
        "with open(file_name, 'r') as f:\n",
        "    spans_data = json.load(f)\n",
        "\n",
        "print(f\"📊 Loaded {len(spans_data)} spans from {file_name}\")\n",
        "print(f\"\\n🔍 Available span types:\")\n",
        "\n",
        "# Analyze span types\n",
        "span_types = {}\n",
        "for span in spans_data[:]:  # Look at first 10 spans\n",
        "    span_name = span.get('name', 'unknown')\n",
        "    if span_name not in span_types:\n",
        "        span_types[span_name] = 0\n",
        "    span_types[span_name] += 1\n",
        "\n",
        "for span_type, count in span_types.items():\n",
        "    print(f\"  - {span_type}: {count}\")\n"
      ]
    },
    {
      "cell_type": "markdown",
      "metadata": {},
      "source": [
        "## Step 2: Implement Field Mapping Logic\n"
      ]
    },
    {
      "cell_type": "code",
      "execution_count": null,
      "metadata": {},
      "outputs": [],
      "source": []
    },
    {
      "cell_type": "code",
      "execution_count": 22,
      "metadata": {},
      "outputs": [],
      "source": [
        "def parse_tools_from_prompt(prompt: str) -> List[ToolSchema]:\n",
        "    \"\"\"\n",
        "    Parse tool definitions from LLM prompts using regex.\n",
        "    \n",
        "    Expected format: tool_name(param: type = default) -> return_type - description\n",
        "    \"\"\"\n",
        "    # Pattern to match tool signatures\n",
        "    pattern = r'(\\w+)\\(([^)]*)\\)\\s*->\\s*(\\w+)\\s*-\\s*(.+?)(?=\\n\\w+\\(|$)'\n",
        "    matches = re.findall(pattern, prompt, re.DOTALL)\n",
        "    \n",
        "    tools = []\n",
        "    for match in matches:\n",
        "        tool_name, params_str, return_type, description = match\n",
        "        \n",
        "        # Parse parameters\n",
        "        args_schema = parse_params(params_str)\n",
        "        \n",
        "        tool = ToolSchema(\n",
        "            name=tool_name,\n",
        "            description=description.strip(),\n",
        "            args_schema=args_schema,\n",
        "            return_schema={\"type\": return_type}\n",
        "        )\n",
        "        tools.append(tool)\n",
        "    \n",
        "    return tools\n",
        "\n",
        "def parse_params(params_str: str) -> Dict[str, Any]:\n",
        "    \"\"\"\n",
        "    Parse parameter string into schema dictionary.\n",
        "    \n",
        "    Format: param_name: type = default_value\n",
        "    \"\"\"\n",
        "    if not params_str.strip():\n",
        "        return {}\n",
        "    \n",
        "    # Split parameters by comma\n",
        "    params = [p.strip() for p in params_str.split(',') if p.strip()]\n",
        "    schema = {}\n",
        "    \n",
        "    for param in params:\n",
        "        if ':' in param:\n",
        "            parts = param.split(':', 1)\n",
        "            param_name = parts[0].strip()\n",
        "            type_and_default = parts[1].strip()\n",
        "            \n",
        "            # Extract type and default value\n",
        "            if '=' in type_and_default:\n",
        "                type_part, default_part = type_and_default.split('=', 1)\n",
        "                param_type = type_part.strip()\n",
        "                default_val = default_part.strip().strip('\"\\'')\n",
        "                schema[param_name] = {'type': param_type, 'default': default_val}\n",
        "            else:\n",
        "                param_type = type_and_default.strip()\n",
        "                schema[param_name] = {'type': param_type}\n",
        "    \n",
        "    return schema\n",
        "\n",
        "def identify_span_type(span: Dict[str, Any]) -> str:\n",
        "    \"\"\"\n",
        "    Identify span type based on attributes.\n",
        "    \"\"\"\n",
        "    attributes = span.get('attributes', {})\n",
        "    agent_span_names = ['reddit_agent_run_1', 'reddit_agent_run_2', 'agent.query_generation', 'agent.comment_generation']\n",
        "    tool_span_names = ['post_validation', 'email_generation_and_sending']\n",
        "    # Check for agent attributes\n",
        "    if any('chain.name' == key for key in attributes.keys()) or span['name'] in agent_span_names:\n",
        "        return 'agent'\n",
        "    \n",
        "    # Check for LLM attributes\n",
        "    if any('llm.model' == key for key in attributes.keys()):\n",
        "        return 'llm'\n",
        "    \n",
        "    # Check for tool attributes\n",
        "    if any('tool.name' == key for key in attributes.keys()) or span['name'] in tool_span_names:\n",
        "        return 'tool'\n",
        "    print('returning unknown type for span')\n",
        "    print(span)\n",
        "    return 'unknown'\n"
      ]
    },
    {
      "cell_type": "code",
      "execution_count": 23,
      "metadata": {},
      "outputs": [
        {
          "name": "stdout",
          "output_type": "stream",
          "text": [
            "✅ Field mapping functions defined!\n"
          ]
        }
      ],
      "source": [
        "global count_unknowns\n",
        "count_unknowns = 0\n",
        "def map_span_to_agent_data(span: Dict[str, Any]) -> AgentData:\n",
        "    \"\"\"\n",
        "    Map a single span from file_name to AgentData format.\n",
        "    \"\"\"\n",
        "\n",
        "    attributes = span.get('attributes', {})\n",
        "    events = span.get('events', [])\n",
        "    span_type = identify_span_type(span)\n",
        "\n",
        "    # Base mappings\n",
        "    data = {\n",
        "        'user_id': span.get('metadata', {}).get('user_id', None),\n",
        "        'task_id': span.get('trace_id'),\n",
        "        'turn_id': span.get('span_id'),\n",
        "        'ground_truth': None,\n",
        "        'expected_tool_call': None,\n",
        "        'agent_name': span_type,\n",
        "        'agent_role': span_type,\n",
        "        'system_prompt': \"You are a helpful customer support agent\",\n",
        "        'metadata': None,\n",
        "        'exit_status': span.get('status'),\n",
        "        'tools_available': [],\n",
        "        'tool_calls': [],\n",
        "        'parameters_passed': {},\n",
        "        'tool_call_results': [],\n",
        "        'retrieval_query': None,\n",
        "        'retrieved_context': None,\n",
        "        'agent_exit': False,\n",
        "        'trace': None\n",
        "    }\n",
        "    \n",
        "    # Span-specific mappings\n",
        "    if span_type == 'agent':\n",
        "        # Agent task\n",
        "        chain_inputs = attributes.get('chain.inputs', {})\n",
        "\n",
        "        if isinstance(chain_inputs, dict) and 'input' in chain_inputs:\n",
        "            data['agent_task'] = chain_inputs['input']\n",
        "        elif attributes.get(\"agent_task\"):\n",
        "            data['agent_task'] = attributes.get(\"agent_task\")\n",
        "        else:\n",
        "            print('agent_task not found')\n",
        "        # Agent response\n",
        "        finish_values = attributes.get('agent.output.finish.return_values', {})\n",
        "        if isinstance(finish_values, dict) and 'output' in finish_values:\n",
        "            data['agent_response'] = finish_values['output']\n",
        "        elif attributes.get(\"agent_response\"):\n",
        "            data['agent_response'] = attributes.get(\"agent_response\")\n",
        "        else:\n",
        "            print(\"agent_response is not available  \" + span['span_id'])\n",
        "        # Tool calls from agent actions\n",
        "        tool_name = attributes.get('agent.output.action.tool')\n",
        "        tool_input = attributes.get('agent.output.action.tool_input')\n",
        "        \n",
        "        if tool_name:\n",
        "            tool_call = ToolCall(\n",
        "                tool_name=tool_name,\n",
        "                parameters={'input': tool_input} if tool_input else {},\n",
        "                call_id=span['span_id']\n",
        "            )\n",
        "            data['tool_calls'] = [tool_call]\n",
        "            data['parameters_passed'] = {'input': tool_input} if tool_input else {}\n",
        "            \n",
        "            # Handle retrieval query for langchain_retriever\n",
        "            if tool_name == 'langchain_retriever' and tool_input:\n",
        "                data['retrieval_query'] = [tool_input]\n",
        "        \n",
        "        # Agent exit status\n",
        "        data['agent_exit'] = any(event.get('name') == 'agent_finish' for event in events)\n",
        "        \n",
        "        # Trace (dump events as JSON)\n",
        "        if events:\n",
        "            data['trace'] = json.dumps(events)\n",
        "    \n",
        "    elif span_type == 'llm':\n",
        "        # Agent response from LLM output\n",
        "        llm_input = attributes.get('llm.input.prompts', ['input is not available'])\n",
        "        data['agent_task'] = llm_input[0]\n",
        "\n",
        "        llm_responses = attributes.get('llm.output.response', [])\n",
        "        if llm_responses:\n",
        "            data['agent_response'] = llm_responses[0]\n",
        "        else:\n",
        "            print(\"llm_response is not available\")\n",
        "        # Parse tools from prompt\n",
        "        prompts = attributes.get('llm.input.prompts', [])\n",
        "        if prompts:\n",
        "            try:\n",
        "                tools = parse_tools_from_prompt(prompts[0])\n",
        "                data['tools_available'] = tools\n",
        "            except Exception:\n",
        "                # Fallback to empty list if parsing fails\n",
        "                data['tools_available'] = []\n",
        "        \n",
        "        data['parameters_passed'] = {}\n",
        "    \n",
        "    elif span_type == 'tool':\n",
        "        # Agent response from tool output\n",
        "        tool_output = attributes.get('tool.output.output')\n",
        "        data['agent_task'] = f\"This is a simple tool call, and the tool will execute as programmed. Its name is - {attributes.get('tool.name')}\"\n",
        "        if tool_output:\n",
        "            data['agent_response'] = tool_output\n",
        "        elif attributes.get(\"tool_response\"):\n",
        "            data['agent_response'] = attributes.get(\"tool_response\")\n",
        "        else:\n",
        "            print(\"tool_output is not available \" + span['span_id'])\n",
        "        # Tool call results\n",
        "        tool_name = attributes.get('tool.name')\n",
        "        if tool_name and tool_output is not None:\n",
        "            tool_result = ToolResult(\n",
        "                call_id=span['span_id'],\n",
        "                result=tool_output,\n",
        "                success=span.get('status') == 'ok',\n",
        "                error_message=None if span.get('status') == 'ok' else 'Tool execution failed'\n",
        "            )\n",
        "            data['tool_call_results'] = [tool_result]\n",
        "            \n",
        "            # Handle retrieved context for langchain_retriever\n",
        "            if tool_name == 'langchain_retriever':\n",
        "                data['retrieved_context'] = [[tool_output]]\n",
        "        \n",
        "        # Parameters from tool input\n",
        "        tool_input_keys = [key for key in attributes.keys() if key.startswith('tool.input.')]\n",
        "        tool_params = {}\n",
        "        for key in tool_input_keys:\n",
        "            param_name = key.replace('tool.input.', '')\n",
        "            tool_params[param_name] = attributes[key]\n",
        "        data['parameters_passed'] = tool_params\n",
        "    else:\n",
        "        global count_unknowns\n",
        "        count_unknowns += 1\n",
        "        print('Spans with unknown type: ' + str(count_unknowns))\n",
        "    return AgentData(**data)\n",
        "\n",
        "print(\"✅ Field mapping functions defined!\")\n"
      ]
    },
    {
      "cell_type": "markdown",
      "metadata": {},
      "source": [
        "## Step 3: Create AgentDataset from Spans\n"
      ]
    },
    {
      "cell_type": "code",
      "execution_count": 24,
      "metadata": {},
      "outputs": [
        {
          "name": "stdout",
          "output_type": "stream",
          "text": [
            "🔄 Converting spans to AgentData objects...\n",
            "\n",
            "✅ Successfully converted 3381 spans to AgentData\n",
            "📊 AgentDataset created with 3381 records\n"
          ]
        }
      ],
      "source": [
        "# Convert spans to AgentData objects\n",
        "print(\"🔄 Converting spans to AgentData objects...\")\n",
        "\n",
        "agent_data_list = []\n",
        "errors = []\n",
        "\n",
        "for i, span in enumerate(spans_data):\n",
        "    try:\n",
        "        agent_data = map_span_to_agent_data(span)\n",
        "        agent_data_list.append(agent_data)\n",
        "    except Exception as e:\n",
        "        errors.append(f\"Span {i}: {str(e)}\")\n",
        "        if len(errors) <= 5:  # Show first 5 errors only\n",
        "            print(f\"⚠️  Error processing span {i}: {e}\")\n",
        "            print(span)\n",
        "\n",
        "print(f\"\\n✅ Successfully converted {len(agent_data_list)} spans to AgentData\")\n",
        "if errors:\n",
        "    print(f\"❌ {len(errors)} spans had errors\")\n",
        "\n",
        "# Create AgentDataset\n",
        "dataset = AgentDataset()\n",
        "dataset.data = agent_data_list\n",
        "\n",
        "print(f\"📊 AgentDataset created with {len(dataset.data)} records\")\n"
      ]
    },
    {
      "cell_type": "markdown",
      "metadata": {},
      "source": [
        "## Step 4: Examine Sample Data\n"
      ]
    },
    {
      "cell_type": "code",
      "execution_count": 25,
      "metadata": {},
      "outputs": [
        {
          "name": "stdout",
          "output_type": "stream",
          "text": [
            "📈 Dataset Statistics:\n",
            "\n",
            "Agent Types: {'agent': 546, 'tool': 2835}\n",
            "Records with responses: 3381\n",
            "Records with tool calls: 0\n",
            "Records with retrieval: 0\n",
            "Tool usage: {}\n",
            "\n",
            "🔍 Sample AgentData records:\n",
            "\n",
            "--- Record 1 (agent) ---\n",
            "Task: Unnamed API HTML page https://api.market/store/magicapi/coder/llm.txt...\n",
            "Response: [{\"name\": \"exception\", \"timestamp\": \"2025-09-22T13:38:32.798Z\", \"attributes\": {\"exception.type\": \"Se...\n",
            "Tool calls: 0\n",
            "Exit status: error\n",
            "\n",
            "--- Record 2 (agent) ---\n",
            "Task: Unnamed API HTML page https://api.market/store/magicapi/face-to-sticker-generator/openapi.yaml...\n",
            "Response: [{\"name\": \"exception\", \"timestamp\": \"2025-09-22T13:38:23.419Z\", \"attributes\": {\"exception.type\": \"Se...\n",
            "Tool calls: 0\n",
            "Exit status: error\n",
            "\n",
            "--- Record 3 (agent) ---\n",
            "Task: Unnamed API HTML page https://api.market/store/magicapi/object-remover-v2/llm.txt...\n",
            "Response: *   How do I automatically parse incoming email leads to extract the person's name, company, and pho...\n",
            "Tool calls: 0\n",
            "Exit status: ok\n"
          ]
        }
      ],
      "source": [
        "# Show statistics about the dataset\n",
        "print(\"📈 Dataset Statistics:\")\n",
        "\n",
        "agent_types = {}\n",
        "tool_usage = {}\n",
        "with_responses = 0\n",
        "with_tool_calls = 0\n",
        "with_retrieval = 0\n",
        "\n",
        "for data in dataset.data:\n",
        "    # Agent types\n",
        "    if data.agent_name:\n",
        "        agent_types[data.agent_name] = agent_types.get(data.agent_name, 0) + 1\n",
        "    \n",
        "    # Responses\n",
        "    if data.agent_response:\n",
        "        with_responses += 1\n",
        "    \n",
        "    # Tool calls\n",
        "    if data.tool_calls:\n",
        "        with_tool_calls += 1\n",
        "        for tool_call in data.tool_calls:\n",
        "            if hasattr(tool_call, 'tool_name'):\n",
        "                tool_usage[tool_call.tool_name] = tool_usage.get(tool_call.tool_name, 0) + 1\n",
        "    \n",
        "    # Retrieval\n",
        "    if data.retrieval_query:\n",
        "        with_retrieval += 1\n",
        "\n",
        "print(f\"\\nAgent Types: {dict(agent_types)}\")\n",
        "print(f\"Records with responses: {with_responses}\")\n",
        "print(f\"Records with tool calls: {with_tool_calls}\")\n",
        "print(f\"Records with retrieval: {with_retrieval}\")\n",
        "print(f\"Tool usage: {dict(tool_usage)}\")\n",
        "\n",
        "# Show sample records\n",
        "print(\"\\n🔍 Sample AgentData records:\")\n",
        "for i, data in enumerate(dataset.data[:3]):\n",
        "    print(f\"\\n--- Record {i+1} ({data.agent_name}) ---\")\n",
        "    print(f\"Task: {data.agent_task[:100] if data.agent_task else 'None'}...\")\n",
        "    print(f\"Response: {data.agent_response[:100] if data.agent_response else 'None'}...\")\n",
        "    print(f\"Tool calls: {len(data.tool_calls) if data.tool_calls else 0}\")\n",
        "    print(f\"Exit status: {data.exit_status}\")\n"
      ]
    },
    {
      "cell_type": "markdown",
      "metadata": {},
      "source": [
        "## Step 5: Setup Gemini Model and Evaluator\n"
      ]
    },
    {
      "cell_type": "code",
      "execution_count": null,
      "metadata": {},
      "outputs": [
        {
          "name": "stderr",
          "output_type": "stream",
          "text": [
            "2025-09-24 13:31:51 - noveum_trace.transport.batch_processor - INFO - 🔄 Batch processor background thread started (batch_size=100, timeout=5.0s)\n",
            "2025-09-24 13:31:51 - noveum_trace.transport.batch_processor - INFO - Batch processor started with batch_size=100\n",
            "2025-09-24 13:31:51 - noveum_trace.transport.http_transport - INFO - HTTP transport initialized for endpoint: https://api.noveum.ai/api\n",
            "2025-09-24 13:31:51 - noveum_trace.core.client - INFO - Noveum Trace client initialized\n"
          ]
        },
        {
          "name": "stdout",
          "output_type": "stream",
          "text": [
            "✅ GEMINI_API_KEY found in environment\n",
            "✅ Gemini model initialized\n"
          ]
        },
        {
          "name": "stderr",
          "output_type": "stream",
          "text": [
            "2025-09-24 13:32:02 - noveum_trace.transport.batch_processor - INFO - ⏰ TIMEOUT TRIGGER: Sending batch due to timeout (11.3s >= 5.0s)\n",
            "2025-09-24 13:32:02 - noveum_trace.transport.batch_processor - INFO - 📤 SENDING BATCH: 1 traces via send_callback\n",
            "2025-09-24 13:32:02 - noveum_trace.transport.http_transport - INFO - 🚀 SENDING BATCH: 1 traces to https://api.noveum.ai/api/v1/traces\n",
            "2025-09-24 13:32:03 - noveum_trace.transport.http_transport - INFO - 📡 HTTP RESPONSE: Status 200 from https://api.noveum.ai/api/v1/traces\n",
            "2025-09-24 13:32:03 - noveum_trace.transport.http_transport - INFO - ✅ Successfully sent batch of 1 traces\n",
            "2025-09-24 13:32:03 - noveum_trace.transport.batch_processor - INFO - ✅ Successfully sent batch of 1 traces via callback\n",
            "2025-09-24 13:32:07 - noveum_trace.transport.batch_processor - INFO - ⏰ TIMEOUT TRIGGER: Sending batch due to timeout (5.4s >= 5.0s)\n",
            "2025-09-24 13:32:07 - noveum_trace.transport.batch_processor - INFO - 📤 SENDING BATCH: 4 traces via send_callback\n",
            "2025-09-24 13:32:07 - noveum_trace.transport.http_transport - INFO - 🚀 SENDING BATCH: 4 traces to https://api.noveum.ai/api/v1/traces\n",
            "2025-09-24 13:32:08 - noveum_trace.transport.http_transport - INFO - 📡 HTTP RESPONSE: Status 200 from https://api.noveum.ai/api/v1/traces\n",
            "2025-09-24 13:32:08 - noveum_trace.transport.http_transport - INFO - ✅ Successfully sent batch of 4 traces\n",
            "2025-09-24 13:32:08 - noveum_trace.transport.batch_processor - INFO - ✅ Successfully sent batch of 4 traces via callback\n",
            "2025-09-24 13:32:13 - noveum_trace.transport.batch_processor - INFO - ⏰ TIMEOUT TRIGGER: Sending batch due to timeout (5.7s >= 5.0s)\n",
            "2025-09-24 13:32:13 - noveum_trace.transport.batch_processor - INFO - 📤 SENDING BATCH: 5 traces via send_callback\n",
            "2025-09-24 13:32:13 - noveum_trace.transport.http_transport - INFO - 🚀 SENDING BATCH: 5 traces to https://api.noveum.ai/api/v1/traces\n",
            "2025-09-24 13:32:14 - noveum_trace.transport.http_transport - INFO - 📡 HTTP RESPONSE: Status 200 from https://api.noveum.ai/api/v1/traces\n",
            "2025-09-24 13:32:14 - noveum_trace.transport.http_transport - INFO - ✅ Successfully sent batch of 5 traces\n",
            "2025-09-24 13:32:14 - noveum_trace.transport.batch_processor - INFO - ✅ Successfully sent batch of 5 traces via callback\n",
            "2025-09-24 13:32:18 - noveum_trace.transport.batch_processor - INFO - ⏰ TIMEOUT TRIGGER: Sending batch due to timeout (5.0s >= 5.0s)\n",
            "2025-09-24 13:32:18 - noveum_trace.transport.batch_processor - INFO - 📤 SENDING BATCH: 4 traces via send_callback\n",
            "2025-09-24 13:32:18 - noveum_trace.transport.http_transport - INFO - 🚀 SENDING BATCH: 4 traces to https://api.noveum.ai/api/v1/traces\n",
            "2025-09-24 13:32:19 - noveum_trace.transport.http_transport - INFO - 📡 HTTP RESPONSE: Status 200 from https://api.noveum.ai/api/v1/traces\n",
            "2025-09-24 13:32:19 - noveum_trace.transport.http_transport - INFO - ✅ Successfully sent batch of 4 traces\n",
            "2025-09-24 13:32:19 - noveum_trace.transport.batch_processor - INFO - ✅ Successfully sent batch of 4 traces via callback\n",
            "2025-09-24 13:32:23 - noveum_trace.transport.batch_processor - INFO - ⏰ TIMEOUT TRIGGER: Sending batch due to timeout (5.1s >= 5.0s)\n",
            "2025-09-24 13:32:23 - noveum_trace.transport.batch_processor - INFO - 📤 SENDING BATCH: 4 traces via send_callback\n",
            "2025-09-24 13:32:23 - noveum_trace.transport.http_transport - INFO - 🚀 SENDING BATCH: 4 traces to https://api.noveum.ai/api/v1/traces\n",
            "2025-09-24 13:32:24 - noveum_trace.transport.http_transport - INFO - 📡 HTTP RESPONSE: Status 200 from https://api.noveum.ai/api/v1/traces\n",
            "2025-09-24 13:32:24 - noveum_trace.transport.http_transport - INFO - ✅ Successfully sent batch of 4 traces\n",
            "2025-09-24 13:32:24 - noveum_trace.transport.batch_processor - INFO - ✅ Successfully sent batch of 4 traces via callback\n",
            "2025-09-24 13:32:28 - noveum_trace.transport.batch_processor - INFO - ⏰ TIMEOUT TRIGGER: Sending batch due to timeout (5.1s >= 5.0s)\n",
            "2025-09-24 13:32:28 - noveum_trace.transport.batch_processor - INFO - 📤 SENDING BATCH: 4 traces via send_callback\n",
            "2025-09-24 13:32:28 - noveum_trace.transport.http_transport - INFO - 🚀 SENDING BATCH: 4 traces to https://api.noveum.ai/api/v1/traces\n",
            "2025-09-24 13:32:29 - noveum_trace.transport.http_transport - INFO - 📡 HTTP RESPONSE: Status 200 from https://api.noveum.ai/api/v1/traces\n",
            "2025-09-24 13:32:29 - noveum_trace.transport.http_transport - INFO - ✅ Successfully sent batch of 4 traces\n",
            "2025-09-24 13:32:29 - noveum_trace.transport.batch_processor - INFO - ✅ Successfully sent batch of 4 traces via callback\n",
            "2025-09-24 13:32:34 - noveum_trace.transport.batch_processor - INFO - ⏰ TIMEOUT TRIGGER: Sending batch due to timeout (5.1s >= 5.0s)\n",
            "2025-09-24 13:32:34 - noveum_trace.transport.batch_processor - INFO - 📤 SENDING BATCH: 4 traces via send_callback\n",
            "2025-09-24 13:32:34 - noveum_trace.transport.http_transport - INFO - 🚀 SENDING BATCH: 4 traces to https://api.noveum.ai/api/v1/traces\n",
            "2025-09-24 13:32:34 - noveum_trace.transport.http_transport - INFO - 📡 HTTP RESPONSE: Status 200 from https://api.noveum.ai/api/v1/traces\n",
            "2025-09-24 13:32:34 - noveum_trace.transport.http_transport - INFO - ✅ Successfully sent batch of 4 traces\n",
            "2025-09-24 13:32:34 - noveum_trace.transport.batch_processor - INFO - ✅ Successfully sent batch of 4 traces via callback\n",
            "2025-09-24 13:32:39 - noveum_trace.transport.batch_processor - INFO - ⏰ TIMEOUT TRIGGER: Sending batch due to timeout (5.5s >= 5.0s)\n",
            "2025-09-24 13:32:39 - noveum_trace.transport.batch_processor - INFO - 📤 SENDING BATCH: 4 traces via send_callback\n",
            "2025-09-24 13:32:39 - noveum_trace.transport.http_transport - INFO - 🚀 SENDING BATCH: 4 traces to https://api.noveum.ai/api/v1/traces\n",
            "2025-09-24 13:32:39 - noveum_trace.transport.http_transport - INFO - 📡 HTTP RESPONSE: Status 200 from https://api.noveum.ai/api/v1/traces\n",
            "2025-09-24 13:32:39 - noveum_trace.transport.http_transport - INFO - ✅ Successfully sent batch of 4 traces\n",
            "2025-09-24 13:32:39 - noveum_trace.transport.batch_processor - INFO - ✅ Successfully sent batch of 4 traces via callback\n",
            "2025-09-24 13:32:45 - noveum_trace.transport.batch_processor - INFO - ⏰ TIMEOUT TRIGGER: Sending batch due to timeout (5.8s >= 5.0s)\n",
            "2025-09-24 13:32:45 - noveum_trace.transport.batch_processor - INFO - 📤 SENDING BATCH: 4 traces via send_callback\n",
            "2025-09-24 13:32:45 - noveum_trace.transport.http_transport - INFO - 🚀 SENDING BATCH: 4 traces to https://api.noveum.ai/api/v1/traces\n",
            "2025-09-24 13:32:45 - noveum_trace.transport.http_transport - INFO - 📡 HTTP RESPONSE: Status 200 from https://api.noveum.ai/api/v1/traces\n",
            "2025-09-24 13:32:45 - noveum_trace.transport.http_transport - INFO - ✅ Successfully sent batch of 4 traces\n",
            "2025-09-24 13:32:45 - noveum_trace.transport.batch_processor - INFO - ✅ Successfully sent batch of 4 traces via callback\n",
            "2025-09-24 13:32:50 - noveum_trace.transport.batch_processor - INFO - ⏰ TIMEOUT TRIGGER: Sending batch due to timeout (5.3s >= 5.0s)\n",
            "2025-09-24 13:32:50 - noveum_trace.transport.batch_processor - INFO - 📤 SENDING BATCH: 3 traces via send_callback\n",
            "2025-09-24 13:32:50 - noveum_trace.transport.http_transport - INFO - 🚀 SENDING BATCH: 3 traces to https://api.noveum.ai/api/v1/traces\n",
            "2025-09-24 13:32:51 - noveum_trace.transport.http_transport - INFO - 📡 HTTP RESPONSE: Status 200 from https://api.noveum.ai/api/v1/traces\n",
            "2025-09-24 13:32:51 - noveum_trace.transport.http_transport - INFO - ✅ Successfully sent batch of 3 traces\n",
            "2025-09-24 13:32:51 - noveum_trace.transport.batch_processor - INFO - ✅ Successfully sent batch of 3 traces via callback\n",
            "2025-09-24 13:32:56 - noveum_trace.transport.batch_processor - INFO - ⏰ TIMEOUT TRIGGER: Sending batch due to timeout (5.3s >= 5.0s)\n",
            "2025-09-24 13:32:56 - noveum_trace.transport.batch_processor - INFO - 📤 SENDING BATCH: 4 traces via send_callback\n",
            "2025-09-24 13:32:56 - noveum_trace.transport.http_transport - INFO - 🚀 SENDING BATCH: 4 traces to https://api.noveum.ai/api/v1/traces\n",
            "2025-09-24 13:32:56 - noveum_trace.transport.http_transport - INFO - 📡 HTTP RESPONSE: Status 200 from https://api.noveum.ai/api/v1/traces\n",
            "2025-09-24 13:32:56 - noveum_trace.transport.http_transport - INFO - ✅ Successfully sent batch of 4 traces\n",
            "2025-09-24 13:32:56 - noveum_trace.transport.batch_processor - INFO - ✅ Successfully sent batch of 4 traces via callback\n",
            "2025-09-24 13:33:01 - noveum_trace.transport.batch_processor - INFO - ⏰ TIMEOUT TRIGGER: Sending batch due to timeout (5.1s >= 5.0s)\n",
            "2025-09-24 13:33:01 - noveum_trace.transport.batch_processor - INFO - 📤 SENDING BATCH: 3 traces via send_callback\n",
            "2025-09-24 13:33:01 - noveum_trace.transport.http_transport - INFO - 🚀 SENDING BATCH: 3 traces to https://api.noveum.ai/api/v1/traces\n",
            "2025-09-24 13:33:01 - noveum_trace.transport.http_transport - INFO - 📡 HTTP RESPONSE: Status 200 from https://api.noveum.ai/api/v1/traces\n",
            "2025-09-24 13:33:01 - noveum_trace.transport.http_transport - INFO - ✅ Successfully sent batch of 3 traces\n",
            "2025-09-24 13:33:01 - noveum_trace.transport.batch_processor - INFO - ✅ Successfully sent batch of 3 traces via callback\n",
            "2025-09-24 13:33:06 - noveum_trace.transport.batch_processor - INFO - ⏰ TIMEOUT TRIGGER: Sending batch due to timeout (5.3s >= 5.0s)\n",
            "2025-09-24 13:33:06 - noveum_trace.transport.batch_processor - INFO - 📤 SENDING BATCH: 4 traces via send_callback\n",
            "2025-09-24 13:33:06 - noveum_trace.transport.http_transport - INFO - 🚀 SENDING BATCH: 4 traces to https://api.noveum.ai/api/v1/traces\n",
            "2025-09-24 13:33:06 - noveum_trace.transport.http_transport - INFO - 📡 HTTP RESPONSE: Status 200 from https://api.noveum.ai/api/v1/traces\n",
            "2025-09-24 13:33:06 - noveum_trace.transport.http_transport - INFO - ✅ Successfully sent batch of 4 traces\n",
            "2025-09-24 13:33:06 - noveum_trace.transport.batch_processor - INFO - ✅ Successfully sent batch of 4 traces via callback\n",
            "2025-09-24 13:33:11 - noveum_trace.transport.batch_processor - INFO - ⏰ TIMEOUT TRIGGER: Sending batch due to timeout (5.1s >= 5.0s)\n",
            "2025-09-24 13:33:11 - noveum_trace.transport.batch_processor - INFO - 📤 SENDING BATCH: 4 traces via send_callback\n",
            "2025-09-24 13:33:11 - noveum_trace.transport.http_transport - INFO - 🚀 SENDING BATCH: 4 traces to https://api.noveum.ai/api/v1/traces\n",
            "2025-09-24 13:33:12 - noveum_trace.transport.http_transport - INFO - 📡 HTTP RESPONSE: Status 200 from https://api.noveum.ai/api/v1/traces\n",
            "2025-09-24 13:33:12 - noveum_trace.transport.http_transport - INFO - ✅ Successfully sent batch of 4 traces\n",
            "2025-09-24 13:33:12 - noveum_trace.transport.batch_processor - INFO - ✅ Successfully sent batch of 4 traces via callback\n",
            "2025-09-24 13:33:17 - noveum_trace.transport.batch_processor - INFO - ⏰ TIMEOUT TRIGGER: Sending batch due to timeout (5.4s >= 5.0s)\n",
            "2025-09-24 13:33:17 - noveum_trace.transport.batch_processor - INFO - 📤 SENDING BATCH: 4 traces via send_callback\n",
            "2025-09-24 13:33:17 - noveum_trace.transport.http_transport - INFO - 🚀 SENDING BATCH: 4 traces to https://api.noveum.ai/api/v1/traces\n",
            "2025-09-24 13:33:17 - noveum_trace.transport.http_transport - INFO - 📡 HTTP RESPONSE: Status 200 from https://api.noveum.ai/api/v1/traces\n",
            "2025-09-24 13:33:17 - noveum_trace.transport.http_transport - INFO - ✅ Successfully sent batch of 4 traces\n",
            "2025-09-24 13:33:17 - noveum_trace.transport.batch_processor - INFO - ✅ Successfully sent batch of 4 traces via callback\n",
            "2025-09-24 13:33:22 - noveum_trace.transport.batch_processor - INFO - ⏰ TIMEOUT TRIGGER: Sending batch due to timeout (5.4s >= 5.0s)\n",
            "2025-09-24 13:33:22 - noveum_trace.transport.batch_processor - INFO - 📤 SENDING BATCH: 4 traces via send_callback\n",
            "2025-09-24 13:33:22 - noveum_trace.transport.http_transport - INFO - 🚀 SENDING BATCH: 4 traces to https://api.noveum.ai/api/v1/traces\n",
            "2025-09-24 13:33:23 - noveum_trace.transport.http_transport - INFO - 📡 HTTP RESPONSE: Status 200 from https://api.noveum.ai/api/v1/traces\n",
            "2025-09-24 13:33:23 - noveum_trace.transport.http_transport - INFO - ✅ Successfully sent batch of 4 traces\n",
            "2025-09-24 13:33:23 - noveum_trace.transport.batch_processor - INFO - ✅ Successfully sent batch of 4 traces via callback\n",
            "2025-09-24 13:33:28 - noveum_trace.transport.batch_processor - INFO - ⏰ TIMEOUT TRIGGER: Sending batch due to timeout (5.6s >= 5.0s)\n",
            "2025-09-24 13:33:28 - noveum_trace.transport.batch_processor - INFO - 📤 SENDING BATCH: 5 traces via send_callback\n",
            "2025-09-24 13:33:28 - noveum_trace.transport.http_transport - INFO - 🚀 SENDING BATCH: 5 traces to https://api.noveum.ai/api/v1/traces\n",
            "2025-09-24 13:33:28 - noveum_trace.transport.http_transport - INFO - 📡 HTTP RESPONSE: Status 200 from https://api.noveum.ai/api/v1/traces\n",
            "2025-09-24 13:33:28 - noveum_trace.transport.http_transport - INFO - ✅ Successfully sent batch of 5 traces\n",
            "2025-09-24 13:33:28 - noveum_trace.transport.batch_processor - INFO - ✅ Successfully sent batch of 5 traces via callback\n",
            "2025-09-24 13:33:33 - noveum_trace.transport.batch_processor - INFO - ⏰ TIMEOUT TRIGGER: Sending batch due to timeout (5.3s >= 5.0s)\n",
            "2025-09-24 13:33:33 - noveum_trace.transport.batch_processor - INFO - 📤 SENDING BATCH: 4 traces via send_callback\n",
            "2025-09-24 13:33:33 - noveum_trace.transport.http_transport - INFO - 🚀 SENDING BATCH: 4 traces to https://api.noveum.ai/api/v1/traces\n",
            "2025-09-24 13:33:34 - noveum_trace.transport.http_transport - INFO - 📡 HTTP RESPONSE: Status 200 from https://api.noveum.ai/api/v1/traces\n",
            "2025-09-24 13:33:34 - noveum_trace.transport.http_transport - INFO - ✅ Successfully sent batch of 4 traces\n",
            "2025-09-24 13:33:34 - noveum_trace.transport.batch_processor - INFO - ✅ Successfully sent batch of 4 traces via callback\n",
            "2025-09-24 13:33:38 - noveum_trace.transport.batch_processor - INFO - ⏰ TIMEOUT TRIGGER: Sending batch due to timeout (5.1s >= 5.0s)\n",
            "2025-09-24 13:33:38 - noveum_trace.transport.batch_processor - INFO - 📤 SENDING BATCH: 4 traces via send_callback\n",
            "2025-09-24 13:33:38 - noveum_trace.transport.http_transport - INFO - 🚀 SENDING BATCH: 4 traces to https://api.noveum.ai/api/v1/traces\n",
            "2025-09-24 13:33:39 - noveum_trace.transport.http_transport - INFO - 📡 HTTP RESPONSE: Status 200 from https://api.noveum.ai/api/v1/traces\n",
            "2025-09-24 13:33:39 - noveum_trace.transport.http_transport - INFO - ✅ Successfully sent batch of 4 traces\n",
            "2025-09-24 13:33:39 - noveum_trace.transport.batch_processor - INFO - ✅ Successfully sent batch of 4 traces via callback\n",
            "2025-09-24 13:33:43 - noveum_trace.transport.batch_processor - INFO - ⏰ TIMEOUT TRIGGER: Sending batch due to timeout (5.2s >= 5.0s)\n",
            "2025-09-24 13:33:43 - noveum_trace.transport.batch_processor - INFO - 📤 SENDING BATCH: 4 traces via send_callback\n",
            "2025-09-24 13:33:43 - noveum_trace.transport.http_transport - INFO - 🚀 SENDING BATCH: 4 traces to https://api.noveum.ai/api/v1/traces\n",
            "2025-09-24 13:33:44 - noveum_trace.transport.http_transport - INFO - 📡 HTTP RESPONSE: Status 200 from https://api.noveum.ai/api/v1/traces\n",
            "2025-09-24 13:33:44 - noveum_trace.transport.http_transport - INFO - ✅ Successfully sent batch of 4 traces\n",
            "2025-09-24 13:33:44 - noveum_trace.transport.batch_processor - INFO - ✅ Successfully sent batch of 4 traces via callback\n",
            "2025-09-24 13:33:48 - noveum_trace.transport.batch_processor - INFO - ⏰ TIMEOUT TRIGGER: Sending batch due to timeout (5.2s >= 5.0s)\n",
            "2025-09-24 13:33:48 - noveum_trace.transport.batch_processor - INFO - 📤 SENDING BATCH: 4 traces via send_callback\n",
            "2025-09-24 13:33:48 - noveum_trace.transport.http_transport - INFO - 🚀 SENDING BATCH: 4 traces to https://api.noveum.ai/api/v1/traces\n",
            "2025-09-24 13:33:49 - noveum_trace.transport.http_transport - INFO - 📡 HTTP RESPONSE: Status 200 from https://api.noveum.ai/api/v1/traces\n",
            "2025-09-24 13:33:49 - noveum_trace.transport.http_transport - INFO - ✅ Successfully sent batch of 4 traces\n",
            "2025-09-24 13:33:49 - noveum_trace.transport.batch_processor - INFO - ✅ Successfully sent batch of 4 traces via callback\n",
            "2025-09-24 13:33:54 - noveum_trace.transport.batch_processor - INFO - ⏰ TIMEOUT TRIGGER: Sending batch due to timeout (5.1s >= 5.0s)\n",
            "2025-09-24 13:33:54 - noveum_trace.transport.batch_processor - INFO - 📤 SENDING BATCH: 4 traces via send_callback\n",
            "2025-09-24 13:33:54 - noveum_trace.transport.http_transport - INFO - 🚀 SENDING BATCH: 4 traces to https://api.noveum.ai/api/v1/traces\n",
            "2025-09-24 13:33:54 - noveum_trace.transport.http_transport - INFO - 📡 HTTP RESPONSE: Status 200 from https://api.noveum.ai/api/v1/traces\n",
            "2025-09-24 13:33:54 - noveum_trace.transport.http_transport - INFO - ✅ Successfully sent batch of 4 traces\n",
            "2025-09-24 13:33:54 - noveum_trace.transport.batch_processor - INFO - ✅ Successfully sent batch of 4 traces via callback\n",
            "2025-09-24 13:33:59 - noveum_trace.transport.batch_processor - INFO - ⏰ TIMEOUT TRIGGER: Sending batch due to timeout (5.0s >= 5.0s)\n",
            "2025-09-24 13:33:59 - noveum_trace.transport.batch_processor - INFO - 📤 SENDING BATCH: 4 traces via send_callback\n",
            "2025-09-24 13:33:59 - noveum_trace.transport.http_transport - INFO - 🚀 SENDING BATCH: 4 traces to https://api.noveum.ai/api/v1/traces\n",
            "2025-09-24 13:33:59 - noveum_trace.transport.http_transport - INFO - 📡 HTTP RESPONSE: Status 200 from https://api.noveum.ai/api/v1/traces\n",
            "2025-09-24 13:33:59 - noveum_trace.transport.http_transport - INFO - ✅ Successfully sent batch of 4 traces\n",
            "2025-09-24 13:33:59 - noveum_trace.transport.batch_processor - INFO - ✅ Successfully sent batch of 4 traces via callback\n",
            "2025-09-24 13:34:04 - noveum_trace.transport.batch_processor - INFO - ⏰ TIMEOUT TRIGGER: Sending batch due to timeout (5.0s >= 5.0s)\n",
            "2025-09-24 13:34:04 - noveum_trace.transport.batch_processor - INFO - 📤 SENDING BATCH: 4 traces via send_callback\n",
            "2025-09-24 13:34:04 - noveum_trace.transport.http_transport - INFO - 🚀 SENDING BATCH: 4 traces to https://api.noveum.ai/api/v1/traces\n",
            "2025-09-24 13:34:04 - noveum_trace.transport.http_transport - INFO - 📡 HTTP RESPONSE: Status 200 from https://api.noveum.ai/api/v1/traces\n",
            "2025-09-24 13:34:04 - noveum_trace.transport.http_transport - INFO - ✅ Successfully sent batch of 4 traces\n",
            "2025-09-24 13:34:04 - noveum_trace.transport.batch_processor - INFO - ✅ Successfully sent batch of 4 traces via callback\n",
            "2025-09-24 13:34:09 - noveum_trace.transport.batch_processor - INFO - ⏰ TIMEOUT TRIGGER: Sending batch due to timeout (5.2s >= 5.0s)\n",
            "2025-09-24 13:34:09 - noveum_trace.transport.batch_processor - INFO - 📤 SENDING BATCH: 4 traces via send_callback\n",
            "2025-09-24 13:34:09 - noveum_trace.transport.http_transport - INFO - 🚀 SENDING BATCH: 4 traces to https://api.noveum.ai/api/v1/traces\n",
            "2025-09-24 13:34:09 - noveum_trace.transport.http_transport - INFO - 📡 HTTP RESPONSE: Status 200 from https://api.noveum.ai/api/v1/traces\n",
            "2025-09-24 13:34:09 - noveum_trace.transport.http_transport - INFO - ✅ Successfully sent batch of 4 traces\n",
            "2025-09-24 13:34:09 - noveum_trace.transport.batch_processor - INFO - ✅ Successfully sent batch of 4 traces via callback\n",
            "2025-09-24 13:34:14 - noveum_trace.transport.batch_processor - INFO - ⏰ TIMEOUT TRIGGER: Sending batch due to timeout (5.5s >= 5.0s)\n",
            "2025-09-24 13:34:14 - noveum_trace.transport.batch_processor - INFO - 📤 SENDING BATCH: 5 traces via send_callback\n",
            "2025-09-24 13:34:14 - noveum_trace.transport.http_transport - INFO - 🚀 SENDING BATCH: 5 traces to https://api.noveum.ai/api/v1/traces\n",
            "2025-09-24 13:34:15 - noveum_trace.transport.http_transport - INFO - 📡 HTTP RESPONSE: Status 200 from https://api.noveum.ai/api/v1/traces\n",
            "2025-09-24 13:34:15 - noveum_trace.transport.http_transport - INFO - ✅ Successfully sent batch of 5 traces\n",
            "2025-09-24 13:34:15 - noveum_trace.transport.batch_processor - INFO - ✅ Successfully sent batch of 5 traces via callback\n",
            "2025-09-24 13:34:20 - noveum_trace.transport.batch_processor - INFO - ⏰ TIMEOUT TRIGGER: Sending batch due to timeout (5.2s >= 5.0s)\n",
            "2025-09-24 13:34:20 - noveum_trace.transport.batch_processor - INFO - 📤 SENDING BATCH: 5 traces via send_callback\n",
            "2025-09-24 13:34:20 - noveum_trace.transport.http_transport - INFO - 🚀 SENDING BATCH: 5 traces to https://api.noveum.ai/api/v1/traces\n",
            "2025-09-24 13:34:20 - noveum_trace.transport.http_transport - INFO - 📡 HTTP RESPONSE: Status 200 from https://api.noveum.ai/api/v1/traces\n",
            "2025-09-24 13:34:20 - noveum_trace.transport.http_transport - INFO - ✅ Successfully sent batch of 5 traces\n",
            "2025-09-24 13:34:20 - noveum_trace.transport.batch_processor - INFO - ✅ Successfully sent batch of 5 traces via callback\n",
            "2025-09-24 13:34:25 - noveum_trace.transport.batch_processor - INFO - ⏰ TIMEOUT TRIGGER: Sending batch due to timeout (5.5s >= 5.0s)\n",
            "2025-09-24 13:34:25 - noveum_trace.transport.batch_processor - INFO - 📤 SENDING BATCH: 5 traces via send_callback\n",
            "2025-09-24 13:34:25 - noveum_trace.transport.http_transport - INFO - 🚀 SENDING BATCH: 5 traces to https://api.noveum.ai/api/v1/traces\n",
            "2025-09-24 13:34:26 - noveum_trace.transport.http_transport - INFO - 📡 HTTP RESPONSE: Status 200 from https://api.noveum.ai/api/v1/traces\n",
            "2025-09-24 13:34:26 - noveum_trace.transport.http_transport - INFO - ✅ Successfully sent batch of 5 traces\n",
            "2025-09-24 13:34:26 - noveum_trace.transport.batch_processor - INFO - ✅ Successfully sent batch of 5 traces via callback\n",
            "2025-09-24 13:34:30 - noveum_trace.transport.batch_processor - INFO - ⏰ TIMEOUT TRIGGER: Sending batch due to timeout (5.0s >= 5.0s)\n",
            "2025-09-24 13:34:30 - noveum_trace.transport.batch_processor - INFO - 📤 SENDING BATCH: 4 traces via send_callback\n",
            "2025-09-24 13:34:30 - noveum_trace.transport.http_transport - INFO - 🚀 SENDING BATCH: 4 traces to https://api.noveum.ai/api/v1/traces\n",
            "2025-09-24 13:34:31 - noveum_trace.transport.http_transport - INFO - 📡 HTTP RESPONSE: Status 200 from https://api.noveum.ai/api/v1/traces\n",
            "2025-09-24 13:34:31 - noveum_trace.transport.http_transport - INFO - ✅ Successfully sent batch of 4 traces\n",
            "2025-09-24 13:34:31 - noveum_trace.transport.batch_processor - INFO - ✅ Successfully sent batch of 4 traces via callback\n",
            "2025-09-24 13:34:35 - noveum_trace.transport.batch_processor - INFO - ⏰ TIMEOUT TRIGGER: Sending batch due to timeout (5.2s >= 5.0s)\n",
            "2025-09-24 13:34:35 - noveum_trace.transport.batch_processor - INFO - 📤 SENDING BATCH: 4 traces via send_callback\n",
            "2025-09-24 13:34:35 - noveum_trace.transport.http_transport - INFO - 🚀 SENDING BATCH: 4 traces to https://api.noveum.ai/api/v1/traces\n",
            "2025-09-24 13:34:36 - noveum_trace.transport.http_transport - INFO - 📡 HTTP RESPONSE: Status 200 from https://api.noveum.ai/api/v1/traces\n",
            "2025-09-24 13:34:36 - noveum_trace.transport.http_transport - INFO - ✅ Successfully sent batch of 4 traces\n",
            "2025-09-24 13:34:36 - noveum_trace.transport.batch_processor - INFO - ✅ Successfully sent batch of 4 traces via callback\n",
            "2025-09-24 13:34:41 - noveum_trace.transport.batch_processor - INFO - ⏰ TIMEOUT TRIGGER: Sending batch due to timeout (5.2s >= 5.0s)\n",
            "2025-09-24 13:34:41 - noveum_trace.transport.batch_processor - INFO - 📤 SENDING BATCH: 5 traces via send_callback\n",
            "2025-09-24 13:34:41 - noveum_trace.transport.http_transport - INFO - 🚀 SENDING BATCH: 5 traces to https://api.noveum.ai/api/v1/traces\n",
            "2025-09-24 13:34:41 - noveum_trace.transport.http_transport - INFO - 📡 HTTP RESPONSE: Status 200 from https://api.noveum.ai/api/v1/traces\n",
            "2025-09-24 13:34:41 - noveum_trace.transport.http_transport - INFO - ✅ Successfully sent batch of 5 traces\n",
            "2025-09-24 13:34:41 - noveum_trace.transport.batch_processor - INFO - ✅ Successfully sent batch of 5 traces via callback\n",
            "2025-09-24 13:34:46 - noveum_trace.transport.batch_processor - INFO - ⏰ TIMEOUT TRIGGER: Sending batch due to timeout (5.0s >= 5.0s)\n",
            "2025-09-24 13:34:46 - noveum_trace.transport.batch_processor - INFO - 📤 SENDING BATCH: 4 traces via send_callback\n",
            "2025-09-24 13:34:46 - noveum_trace.transport.http_transport - INFO - 🚀 SENDING BATCH: 4 traces to https://api.noveum.ai/api/v1/traces\n",
            "2025-09-24 13:34:46 - noveum_trace.transport.http_transport - INFO - 📡 HTTP RESPONSE: Status 200 from https://api.noveum.ai/api/v1/traces\n",
            "2025-09-24 13:34:46 - noveum_trace.transport.http_transport - INFO - ✅ Successfully sent batch of 4 traces\n",
            "2025-09-24 13:34:46 - noveum_trace.transport.batch_processor - INFO - ✅ Successfully sent batch of 4 traces via callback\n",
            "2025-09-24 13:34:51 - noveum_trace.transport.batch_processor - INFO - ⏰ TIMEOUT TRIGGER: Sending batch due to timeout (5.4s >= 5.0s)\n",
            "2025-09-24 13:34:51 - noveum_trace.transport.batch_processor - INFO - 📤 SENDING BATCH: 5 traces via send_callback\n",
            "2025-09-24 13:34:51 - noveum_trace.transport.http_transport - INFO - 🚀 SENDING BATCH: 5 traces to https://api.noveum.ai/api/v1/traces\n",
            "2025-09-24 13:34:52 - noveum_trace.transport.http_transport - INFO - 📡 HTTP RESPONSE: Status 200 from https://api.noveum.ai/api/v1/traces\n",
            "2025-09-24 13:34:52 - noveum_trace.transport.http_transport - INFO - ✅ Successfully sent batch of 5 traces\n",
            "2025-09-24 13:34:52 - noveum_trace.transport.batch_processor - INFO - ✅ Successfully sent batch of 5 traces via callback\n",
            "2025-09-24 13:34:56 - noveum_trace.transport.batch_processor - INFO - ⏰ TIMEOUT TRIGGER: Sending batch due to timeout (5.2s >= 5.0s)\n",
            "2025-09-24 13:34:56 - noveum_trace.transport.batch_processor - INFO - 📤 SENDING BATCH: 4 traces via send_callback\n",
            "2025-09-24 13:34:56 - noveum_trace.transport.http_transport - INFO - 🚀 SENDING BATCH: 4 traces to https://api.noveum.ai/api/v1/traces\n",
            "2025-09-24 13:34:57 - noveum_trace.transport.http_transport - INFO - 📡 HTTP RESPONSE: Status 200 from https://api.noveum.ai/api/v1/traces\n",
            "2025-09-24 13:34:57 - noveum_trace.transport.http_transport - INFO - ✅ Successfully sent batch of 4 traces\n",
            "2025-09-24 13:34:57 - noveum_trace.transport.batch_processor - INFO - ✅ Successfully sent batch of 4 traces via callback\n",
            "2025-09-24 13:35:01 - noveum_trace.transport.batch_processor - INFO - ⏰ TIMEOUT TRIGGER: Sending batch due to timeout (5.1s >= 5.0s)\n",
            "2025-09-24 13:35:01 - noveum_trace.transport.batch_processor - INFO - 📤 SENDING BATCH: 5 traces via send_callback\n",
            "2025-09-24 13:35:01 - noveum_trace.transport.http_transport - INFO - 🚀 SENDING BATCH: 5 traces to https://api.noveum.ai/api/v1/traces\n",
            "2025-09-24 13:35:02 - noveum_trace.transport.http_transport - INFO - 📡 HTTP RESPONSE: Status 200 from https://api.noveum.ai/api/v1/traces\n",
            "2025-09-24 13:35:02 - noveum_trace.transport.http_transport - INFO - ✅ Successfully sent batch of 5 traces\n",
            "2025-09-24 13:35:02 - noveum_trace.transport.batch_processor - INFO - ✅ Successfully sent batch of 5 traces via callback\n",
            "2025-09-24 13:35:06 - noveum_trace.transport.batch_processor - INFO - ⏰ TIMEOUT TRIGGER: Sending batch due to timeout (5.1s >= 5.0s)\n",
            "2025-09-24 13:35:06 - noveum_trace.transport.batch_processor - INFO - 📤 SENDING BATCH: 4 traces via send_callback\n",
            "2025-09-24 13:35:06 - noveum_trace.transport.http_transport - INFO - 🚀 SENDING BATCH: 4 traces to https://api.noveum.ai/api/v1/traces\n",
            "2025-09-24 13:35:07 - noveum_trace.transport.http_transport - INFO - 📡 HTTP RESPONSE: Status 200 from https://api.noveum.ai/api/v1/traces\n",
            "2025-09-24 13:35:07 - noveum_trace.transport.http_transport - INFO - ✅ Successfully sent batch of 4 traces\n",
            "2025-09-24 13:35:07 - noveum_trace.transport.batch_processor - INFO - ✅ Successfully sent batch of 4 traces via callback\n",
            "2025-09-24 13:35:12 - noveum_trace.transport.batch_processor - INFO - ⏰ TIMEOUT TRIGGER: Sending batch due to timeout (5.5s >= 5.0s)\n",
            "2025-09-24 13:35:12 - noveum_trace.transport.batch_processor - INFO - 📤 SENDING BATCH: 3 traces via send_callback\n",
            "2025-09-24 13:35:12 - noveum_trace.transport.http_transport - INFO - 🚀 SENDING BATCH: 3 traces to https://api.noveum.ai/api/v1/traces\n",
            "2025-09-24 13:35:13 - noveum_trace.transport.http_transport - INFO - 📡 HTTP RESPONSE: Status 200 from https://api.noveum.ai/api/v1/traces\n",
            "2025-09-24 13:35:13 - noveum_trace.transport.http_transport - INFO - ✅ Successfully sent batch of 3 traces\n",
            "2025-09-24 13:35:13 - noveum_trace.transport.batch_processor - INFO - ✅ Successfully sent batch of 3 traces via callback\n"
          ]
        }
      ],
      "source": [
        "import os\n",
        "\n",
        "# Check for API key\n",
        "if 'GEMINI_API_KEY' not in os.environ:\n",
        "    print(\"⚠️  GEMINI_API_KEY environment variable not set!\")\n",
        "    print(\"Please set it before running evaluation:\")\n",
        "    print(\"export GEMINI_API_KEY='your-api-key-here'\")\n",
        "else:\n",
        "    print(\"✅ GEMINI_API_KEY found in environment\")\n",
        "\n",
        "# Initialize Gemini model\n",
        "try:\n",
        "    gemini_model = GeminiModel(\n",
        "        model_name=\"gemini-1.5-flash\",  # Using flash model for cost efficiency\n",
        "        temperature=0.1,  # Low temperature for consistent evaluation\n",
        "        max_tokens=1024\n",
        "    )\n",
        "    print(\"✅ Gemini model initialized\")\n",
        "except Exception as e:\n",
        "    print(f\"❌ Error initializing Gemini model: {e}\")\n",
        "    gemini_model = None\n"
      ]
    },
    {
      "cell_type": "code",
      "execution_count": 27,
      "metadata": {},
      "outputs": [
        {
          "name": "stdout",
          "output_type": "stream",
          "text": [
            "✅ Initialized 5 scoring functions:\n",
            "  - task_progression_scorer\n",
            "  - context_relevancy_scorer\n",
            "  - role_adherence_scorer\n",
            "  - tool_relevancy_scorer\n",
            "  - parameter_correctness_scorer\n",
            "\n",
            "✅ AgentEvaluator created with Gemini model and scoring functions\n"
          ]
        }
      ],
      "source": [
        "# Initialize scoring functions for evaluation\n",
        "scoring_functions = [\n",
        "    task_progression_scorer,\n",
        "    context_relevancy_scorer,\n",
        "    role_adherence_scorer,\n",
        "    tool_relevancy_scorer,\n",
        "    parameter_correctness_scorer\n",
        "]\n",
        "\n",
        "print(f\"✅ Initialized {len(scoring_functions)} scoring functions:\")\n",
        "for func in scoring_functions:\n",
        "    print(f\"  - {func.__name__}\")\n",
        "\n",
        "# Create AgentEvaluator\n",
        "if gemini_model:\n",
        "    evaluator = AgentEvaluator(\n",
        "        agent_dataset=dataset,\n",
        "        models=[gemini_model],\n",
        "        scoring_functions=scoring_functions,\n",
        "        output_dir=\"./demo_results\",\n",
        "        stream=False,\n",
        "        include_reasoning=True\n",
        "    )\n",
        "    print(\"\\n✅ AgentEvaluator created with Gemini model and scoring functions\")\n",
        "else:\n",
        "    print(\"\\n❌ Cannot create evaluator - Gemini model not available\")\n"
      ]
    },
    {
      "cell_type": "markdown",
      "metadata": {},
      "source": [
        "## Step 6: Run Evaluation (Sample)\n"
      ]
    },
    {
      "cell_type": "code",
      "execution_count": 28,
      "metadata": {},
      "outputs": [
        {
          "name": "stdout",
          "output_type": "stream",
          "text": [
            "🚀 Running evaluation on sample data...\n",
            "\n",
            "📊 Evaluating 50 sample records...\n",
            "2025-09-24 13:32:00 - INFO - novaeval.evaluators.agent_evaluator - Starting agent evaluation process\n"
          ]
        },
        {
          "name": "stderr",
          "output_type": "stream",
          "text": [
            "Evaluating samples: 0it [00:00, ?it/s]"
          ]
        },
        {
          "name": "stdout",
          "output_type": "stream",
          "text": [
            "2025-09-24 13:32:00 - INFO - google_genai.models - AFC is enabled with max remote calls: 10.\n",
            "2025-09-24 13:32:02 - INFO - google_genai.models - AFC remote call 1 is done.\n"
          ]
        },
        {
          "name": "stderr",
          "output_type": "stream",
          "text": [
            "2025-09-24 13:32:02 - noveum_trace.transport.http_transport - INFO - 📤 EXPORTING TRACE: auto_trace_generate (ID: cb4cd591-53d0-4b12-a7b0-ddb262161e46) - 1 spans\n",
            "2025-09-24 13:32:02 - noveum_trace.transport.batch_processor - INFO - 📥 ADDING TRACE TO QUEUE: auto_trace_generate (ID: cb4cd591-53d0-4b12-a7b0-ddb262161e46) - 1 spans\n",
            "2025-09-24 13:32:02 - noveum_trace.transport.batch_processor - INFO - ✅ Successfully queued trace cb4cd591-53d0-4b12-a7b0-ddb262161e46\n",
            "2025-09-24 13:32:02 - noveum_trace.transport.http_transport - INFO - ✅ Trace cb4cd591-53d0-4b12-a7b0-ddb262161e46 successfully queued for export\n"
          ]
        },
        {
          "name": "stdout",
          "output_type": "stream",
          "text": [
            "2025-09-24 13:32:02 - INFO - google_genai.models - AFC is enabled with max remote calls: 10.\n",
            "2025-09-24 13:32:03 - INFO - google_genai.models - AFC remote call 1 is done.\n"
          ]
        },
        {
          "name": "stderr",
          "output_type": "stream",
          "text": [
            "2025-09-24 13:32:03 - noveum_trace.transport.http_transport - INFO - 📤 EXPORTING TRACE: auto_trace_generate (ID: 0eb3feb9-b180-4dd1-ab52-bb4bbe51dca9) - 1 spans\n",
            "2025-09-24 13:32:03 - noveum_trace.transport.batch_processor - INFO - 📥 ADDING TRACE TO QUEUE: auto_trace_generate (ID: 0eb3feb9-b180-4dd1-ab52-bb4bbe51dca9) - 1 spans\n",
            "2025-09-24 13:32:03 - noveum_trace.transport.batch_processor - INFO - ✅ Successfully queued trace 0eb3feb9-b180-4dd1-ab52-bb4bbe51dca9\n",
            "2025-09-24 13:32:03 - noveum_trace.transport.http_transport - INFO - ✅ Trace 0eb3feb9-b180-4dd1-ab52-bb4bbe51dca9 successfully queued for export\n"
          ]
        },
        {
          "name": "stdout",
          "output_type": "stream",
          "text": [
            "2025-09-24 13:32:03 - INFO - google_genai.models - AFC is enabled with max remote calls: 10.\n",
            "2025-09-24 13:32:04 - INFO - google_genai.models - AFC remote call 1 is done.\n"
          ]
        },
        {
          "name": "stderr",
          "output_type": "stream",
          "text": [
            "2025-09-24 13:32:04 - noveum_trace.transport.http_transport - INFO - 📤 EXPORTING TRACE: auto_trace_generate (ID: bd49a586-8566-4515-aca7-9c331b3d211d) - 1 spans\n",
            "2025-09-24 13:32:04 - noveum_trace.transport.batch_processor - INFO - 📥 ADDING TRACE TO QUEUE: auto_trace_generate (ID: bd49a586-8566-4515-aca7-9c331b3d211d) - 1 spans\n",
            "2025-09-24 13:32:04 - noveum_trace.transport.batch_processor - INFO - ✅ Successfully queued trace bd49a586-8566-4515-aca7-9c331b3d211d\n",
            "2025-09-24 13:32:04 - noveum_trace.transport.http_transport - INFO - ✅ Trace bd49a586-8566-4515-aca7-9c331b3d211d successfully queued for export\n"
          ]
        },
        {
          "name": "stdout",
          "output_type": "stream",
          "text": [
            "2025-09-24 13:32:04 - INFO - novaeval.evaluators.agent_evaluator - Saving intermediate results after 1 samples\n",
            "2025-09-24 13:32:04 - INFO - novaeval.evaluators.agent_evaluator - Intermediate results saved to demo_results/sample_evaluation/agent_evaluation_results.csv\n"
          ]
        },
        {
          "name": "stderr",
          "output_type": "stream",
          "text": [
            "Evaluating samples: 1it [00:03,  3.65s/it]"
          ]
        },
        {
          "name": "stdout",
          "output_type": "stream",
          "text": [
            "2025-09-24 13:32:04 - INFO - google_genai.models - AFC is enabled with max remote calls: 10.\n",
            "2025-09-24 13:32:05 - INFO - google_genai.models - AFC remote call 1 is done.\n"
          ]
        },
        {
          "name": "stderr",
          "output_type": "stream",
          "text": [
            "2025-09-24 13:32:05 - noveum_trace.transport.http_transport - INFO - 📤 EXPORTING TRACE: auto_trace_generate (ID: 7ead7036-742b-44df-ade6-e87b69ca1d1b) - 1 spans\n",
            "2025-09-24 13:32:05 - noveum_trace.transport.batch_processor - INFO - 📥 ADDING TRACE TO QUEUE: auto_trace_generate (ID: 7ead7036-742b-44df-ade6-e87b69ca1d1b) - 1 spans\n",
            "2025-09-24 13:32:05 - noveum_trace.transport.batch_processor - INFO - ✅ Successfully queued trace 7ead7036-742b-44df-ade6-e87b69ca1d1b\n",
            "2025-09-24 13:32:05 - noveum_trace.transport.http_transport - INFO - ✅ Trace 7ead7036-742b-44df-ade6-e87b69ca1d1b successfully queued for export\n"
          ]
        },
        {
          "name": "stdout",
          "output_type": "stream",
          "text": [
            "2025-09-24 13:32:05 - INFO - google_genai.models - AFC is enabled with max remote calls: 10.\n",
            "2025-09-24 13:32:06 - INFO - google_genai.models - AFC remote call 1 is done.\n"
          ]
        },
        {
          "name": "stderr",
          "output_type": "stream",
          "text": [
            "2025-09-24 13:32:06 - noveum_trace.transport.http_transport - INFO - 📤 EXPORTING TRACE: auto_trace_generate (ID: 6e00ff5b-64d8-4281-a791-b0a47a5c7880) - 1 spans\n",
            "2025-09-24 13:32:06 - noveum_trace.transport.batch_processor - INFO - 📥 ADDING TRACE TO QUEUE: auto_trace_generate (ID: 6e00ff5b-64d8-4281-a791-b0a47a5c7880) - 1 spans\n",
            "2025-09-24 13:32:06 - noveum_trace.transport.batch_processor - INFO - ✅ Successfully queued trace 6e00ff5b-64d8-4281-a791-b0a47a5c7880\n",
            "2025-09-24 13:32:06 - noveum_trace.transport.http_transport - INFO - ✅ Trace 6e00ff5b-64d8-4281-a791-b0a47a5c7880 successfully queued for export\n"
          ]
        },
        {
          "name": "stdout",
          "output_type": "stream",
          "text": [
            "2025-09-24 13:32:06 - INFO - google_genai.models - AFC is enabled with max remote calls: 10.\n",
            "2025-09-24 13:32:08 - INFO - google_genai.models - AFC remote call 1 is done.\n"
          ]
        },
        {
          "name": "stderr",
          "output_type": "stream",
          "text": [
            "2025-09-24 13:32:08 - noveum_trace.transport.http_transport - INFO - 📤 EXPORTING TRACE: auto_trace_generate (ID: 40d1f311-01bf-4c74-a4be-93d56c46a371) - 1 spans\n",
            "2025-09-24 13:32:08 - noveum_trace.transport.batch_processor - INFO - 📥 ADDING TRACE TO QUEUE: auto_trace_generate (ID: 40d1f311-01bf-4c74-a4be-93d56c46a371) - 1 spans\n",
            "2025-09-24 13:32:08 - noveum_trace.transport.batch_processor - INFO - ✅ Successfully queued trace 40d1f311-01bf-4c74-a4be-93d56c46a371\n",
            "2025-09-24 13:32:08 - noveum_trace.transport.http_transport - INFO - ✅ Trace 40d1f311-01bf-4c74-a4be-93d56c46a371 successfully queued for export\n"
          ]
        },
        {
          "name": "stdout",
          "output_type": "stream",
          "text": [
            "2025-09-24 13:32:08 - INFO - novaeval.evaluators.agent_evaluator - Saving intermediate results after 2 samples\n",
            "2025-09-24 13:32:08 - INFO - novaeval.evaluators.agent_evaluator - Intermediate results saved to demo_results/sample_evaluation/agent_evaluation_results.csv\n"
          ]
        },
        {
          "name": "stderr",
          "output_type": "stream",
          "text": [
            "Evaluating samples: 2it [00:07,  3.67s/it]"
          ]
        },
        {
          "name": "stdout",
          "output_type": "stream",
          "text": [
            "2025-09-24 13:32:08 - INFO - google_genai.models - AFC is enabled with max remote calls: 10.\n",
            "2025-09-24 13:32:09 - INFO - google_genai.models - AFC remote call 1 is done.\n"
          ]
        },
        {
          "name": "stderr",
          "output_type": "stream",
          "text": [
            "2025-09-24 13:32:09 - noveum_trace.transport.http_transport - INFO - 📤 EXPORTING TRACE: auto_trace_generate (ID: b8d72763-064a-4d48-9b5f-57c98438f7a0) - 1 spans\n",
            "2025-09-24 13:32:09 - noveum_trace.transport.batch_processor - INFO - 📥 ADDING TRACE TO QUEUE: auto_trace_generate (ID: b8d72763-064a-4d48-9b5f-57c98438f7a0) - 1 spans\n",
            "2025-09-24 13:32:09 - noveum_trace.transport.batch_processor - INFO - ✅ Successfully queued trace b8d72763-064a-4d48-9b5f-57c98438f7a0\n",
            "2025-09-24 13:32:09 - noveum_trace.transport.http_transport - INFO - ✅ Trace b8d72763-064a-4d48-9b5f-57c98438f7a0 successfully queued for export\n"
          ]
        },
        {
          "name": "stdout",
          "output_type": "stream",
          "text": [
            "2025-09-24 13:32:09 - INFO - google_genai.models - AFC is enabled with max remote calls: 10.\n",
            "2025-09-24 13:32:10 - INFO - google_genai.models - AFC remote call 1 is done.\n"
          ]
        },
        {
          "name": "stderr",
          "output_type": "stream",
          "text": [
            "2025-09-24 13:32:10 - noveum_trace.transport.http_transport - INFO - 📤 EXPORTING TRACE: auto_trace_generate (ID: b6eb26e2-566e-40ca-a0b5-cdb818fcffe9) - 1 spans\n",
            "2025-09-24 13:32:10 - noveum_trace.transport.batch_processor - INFO - 📥 ADDING TRACE TO QUEUE: auto_trace_generate (ID: b6eb26e2-566e-40ca-a0b5-cdb818fcffe9) - 1 spans\n",
            "2025-09-24 13:32:10 - noveum_trace.transport.batch_processor - INFO - ✅ Successfully queued trace b6eb26e2-566e-40ca-a0b5-cdb818fcffe9\n",
            "2025-09-24 13:32:10 - noveum_trace.transport.http_transport - INFO - ✅ Trace b6eb26e2-566e-40ca-a0b5-cdb818fcffe9 successfully queued for export\n"
          ]
        },
        {
          "name": "stdout",
          "output_type": "stream",
          "text": [
            "2025-09-24 13:32:10 - INFO - google_genai.models - AFC is enabled with max remote calls: 10.\n",
            "2025-09-24 13:32:11 - INFO - google_genai.models - AFC remote call 1 is done.\n"
          ]
        },
        {
          "name": "stderr",
          "output_type": "stream",
          "text": [
            "2025-09-24 13:32:11 - noveum_trace.transport.http_transport - INFO - 📤 EXPORTING TRACE: auto_trace_generate (ID: e8e934ee-bc5c-41d0-b9ec-760a9ecdeb23) - 1 spans\n",
            "2025-09-24 13:32:11 - noveum_trace.transport.batch_processor - INFO - 📥 ADDING TRACE TO QUEUE: auto_trace_generate (ID: e8e934ee-bc5c-41d0-b9ec-760a9ecdeb23) - 1 spans\n",
            "2025-09-24 13:32:11 - noveum_trace.transport.batch_processor - INFO - ✅ Successfully queued trace e8e934ee-bc5c-41d0-b9ec-760a9ecdeb23\n",
            "2025-09-24 13:32:11 - noveum_trace.transport.http_transport - INFO - ✅ Trace e8e934ee-bc5c-41d0-b9ec-760a9ecdeb23 successfully queued for export\n"
          ]
        },
        {
          "name": "stdout",
          "output_type": "stream",
          "text": [
            "2025-09-24 13:32:11 - INFO - novaeval.evaluators.agent_evaluator - Saving intermediate results after 3 samples\n",
            "2025-09-24 13:32:11 - INFO - novaeval.evaluators.agent_evaluator - Intermediate results saved to demo_results/sample_evaluation/agent_evaluation_results.csv\n"
          ]
        },
        {
          "name": "stderr",
          "output_type": "stream",
          "text": [
            "Evaluating samples: 3it [00:11,  3.68s/it]"
          ]
        },
        {
          "name": "stdout",
          "output_type": "stream",
          "text": [
            "2025-09-24 13:32:11 - INFO - google_genai.models - AFC is enabled with max remote calls: 10.\n",
            "2025-09-24 13:32:13 - INFO - google_genai.models - AFC remote call 1 is done.\n"
          ]
        },
        {
          "name": "stderr",
          "output_type": "stream",
          "text": [
            "2025-09-24 13:32:13 - noveum_trace.transport.http_transport - INFO - 📤 EXPORTING TRACE: auto_trace_generate (ID: 849d003d-631d-4d48-b9ec-891957db3036) - 1 spans\n",
            "2025-09-24 13:32:13 - noveum_trace.transport.batch_processor - INFO - 📥 ADDING TRACE TO QUEUE: auto_trace_generate (ID: 849d003d-631d-4d48-b9ec-891957db3036) - 1 spans\n",
            "2025-09-24 13:32:13 - noveum_trace.transport.batch_processor - INFO - ✅ Successfully queued trace 849d003d-631d-4d48-b9ec-891957db3036\n",
            "2025-09-24 13:32:13 - noveum_trace.transport.http_transport - INFO - ✅ Trace 849d003d-631d-4d48-b9ec-891957db3036 successfully queued for export\n"
          ]
        },
        {
          "name": "stdout",
          "output_type": "stream",
          "text": [
            "2025-09-24 13:32:13 - INFO - google_genai.models - AFC is enabled with max remote calls: 10.\n",
            "2025-09-24 13:32:14 - INFO - google_genai.models - AFC remote call 1 is done.\n"
          ]
        },
        {
          "name": "stderr",
          "output_type": "stream",
          "text": [
            "2025-09-24 13:32:14 - noveum_trace.transport.http_transport - INFO - 📤 EXPORTING TRACE: auto_trace_generate (ID: b4487d48-5f0c-49b4-94f5-3e85f93864e8) - 1 spans\n",
            "2025-09-24 13:32:14 - noveum_trace.transport.batch_processor - INFO - 📥 ADDING TRACE TO QUEUE: auto_trace_generate (ID: b4487d48-5f0c-49b4-94f5-3e85f93864e8) - 1 spans\n",
            "2025-09-24 13:32:14 - noveum_trace.transport.batch_processor - INFO - ✅ Successfully queued trace b4487d48-5f0c-49b4-94f5-3e85f93864e8\n",
            "2025-09-24 13:32:14 - noveum_trace.transport.http_transport - INFO - ✅ Trace b4487d48-5f0c-49b4-94f5-3e85f93864e8 successfully queued for export\n"
          ]
        },
        {
          "name": "stdout",
          "output_type": "stream",
          "text": [
            "2025-09-24 13:32:14 - INFO - google_genai.models - AFC is enabled with max remote calls: 10.\n",
            "2025-09-24 13:32:15 - INFO - google_genai.models - AFC remote call 1 is done.\n"
          ]
        },
        {
          "name": "stderr",
          "output_type": "stream",
          "text": [
            "2025-09-24 13:32:15 - noveum_trace.transport.http_transport - INFO - 📤 EXPORTING TRACE: auto_trace_generate (ID: e107458e-813b-46d1-80a9-897b7c3e6931) - 1 spans\n",
            "2025-09-24 13:32:15 - noveum_trace.transport.batch_processor - INFO - 📥 ADDING TRACE TO QUEUE: auto_trace_generate (ID: e107458e-813b-46d1-80a9-897b7c3e6931) - 1 spans\n",
            "2025-09-24 13:32:15 - noveum_trace.transport.batch_processor - INFO - ✅ Successfully queued trace e107458e-813b-46d1-80a9-897b7c3e6931\n",
            "2025-09-24 13:32:15 - noveum_trace.transport.http_transport - INFO - ✅ Trace e107458e-813b-46d1-80a9-897b7c3e6931 successfully queued for export\n"
          ]
        },
        {
          "name": "stdout",
          "output_type": "stream",
          "text": [
            "2025-09-24 13:32:15 - INFO - novaeval.evaluators.agent_evaluator - Saving intermediate results after 4 samples\n",
            "2025-09-24 13:32:15 - INFO - novaeval.evaluators.agent_evaluator - Intermediate results saved to demo_results/sample_evaluation/agent_evaluation_results.csv\n"
          ]
        },
        {
          "name": "stderr",
          "output_type": "stream",
          "text": [
            "Evaluating samples: 4it [00:14,  3.72s/it]"
          ]
        },
        {
          "name": "stdout",
          "output_type": "stream",
          "text": [
            "2025-09-24 13:32:15 - INFO - google_genai.models - AFC is enabled with max remote calls: 10.\n",
            "2025-09-24 13:32:16 - INFO - google_genai.models - AFC remote call 1 is done.\n"
          ]
        },
        {
          "name": "stderr",
          "output_type": "stream",
          "text": [
            "2025-09-24 13:32:16 - noveum_trace.transport.http_transport - INFO - 📤 EXPORTING TRACE: auto_trace_generate (ID: 7d078a03-124c-466d-96b1-f659b55acb73) - 1 spans\n",
            "2025-09-24 13:32:16 - noveum_trace.transport.batch_processor - INFO - 📥 ADDING TRACE TO QUEUE: auto_trace_generate (ID: 7d078a03-124c-466d-96b1-f659b55acb73) - 1 spans\n",
            "2025-09-24 13:32:16 - noveum_trace.transport.batch_processor - INFO - ✅ Successfully queued trace 7d078a03-124c-466d-96b1-f659b55acb73\n",
            "2025-09-24 13:32:16 - noveum_trace.transport.http_transport - INFO - ✅ Trace 7d078a03-124c-466d-96b1-f659b55acb73 successfully queued for export\n"
          ]
        },
        {
          "name": "stdout",
          "output_type": "stream",
          "text": [
            "2025-09-24 13:32:16 - INFO - google_genai.models - AFC is enabled with max remote calls: 10.\n",
            "2025-09-24 13:32:18 - INFO - google_genai.models - AFC remote call 1 is done.\n"
          ]
        },
        {
          "name": "stderr",
          "output_type": "stream",
          "text": [
            "2025-09-24 13:32:18 - noveum_trace.transport.http_transport - INFO - 📤 EXPORTING TRACE: auto_trace_generate (ID: c8a7ffe3-d24a-4bad-921e-d30b8ae46594) - 1 spans\n",
            "2025-09-24 13:32:18 - noveum_trace.transport.batch_processor - INFO - 📥 ADDING TRACE TO QUEUE: auto_trace_generate (ID: c8a7ffe3-d24a-4bad-921e-d30b8ae46594) - 1 spans\n",
            "2025-09-24 13:32:18 - noveum_trace.transport.batch_processor - INFO - ✅ Successfully queued trace c8a7ffe3-d24a-4bad-921e-d30b8ae46594\n",
            "2025-09-24 13:32:18 - noveum_trace.transport.http_transport - INFO - ✅ Trace c8a7ffe3-d24a-4bad-921e-d30b8ae46594 successfully queued for export\n"
          ]
        },
        {
          "name": "stdout",
          "output_type": "stream",
          "text": [
            "2025-09-24 13:32:18 - INFO - google_genai.models - AFC is enabled with max remote calls: 10.\n",
            "2025-09-24 13:32:19 - INFO - google_genai.models - AFC remote call 1 is done.\n"
          ]
        },
        {
          "name": "stderr",
          "output_type": "stream",
          "text": [
            "2025-09-24 13:32:19 - noveum_trace.transport.http_transport - INFO - 📤 EXPORTING TRACE: auto_trace_generate (ID: 4e70a2df-47e9-42c4-bbbf-2f9a2e1609fb) - 1 spans\n",
            "2025-09-24 13:32:19 - noveum_trace.transport.batch_processor - INFO - 📥 ADDING TRACE TO QUEUE: auto_trace_generate (ID: 4e70a2df-47e9-42c4-bbbf-2f9a2e1609fb) - 1 spans\n",
            "2025-09-24 13:32:19 - noveum_trace.transport.batch_processor - INFO - ✅ Successfully queued trace 4e70a2df-47e9-42c4-bbbf-2f9a2e1609fb\n",
            "2025-09-24 13:32:19 - noveum_trace.transport.http_transport - INFO - ✅ Trace 4e70a2df-47e9-42c4-bbbf-2f9a2e1609fb successfully queued for export\n"
          ]
        },
        {
          "name": "stdout",
          "output_type": "stream",
          "text": [
            "2025-09-24 13:32:19 - INFO - novaeval.evaluators.agent_evaluator - Saving intermediate results after 5 samples\n",
            "2025-09-24 13:32:19 - INFO - novaeval.evaluators.agent_evaluator - Intermediate results saved to demo_results/sample_evaluation/agent_evaluation_results.csv\n"
          ]
        },
        {
          "name": "stderr",
          "output_type": "stream",
          "text": [
            "Evaluating samples: 5it [00:18,  3.75s/it]"
          ]
        },
        {
          "name": "stdout",
          "output_type": "stream",
          "text": [
            "2025-09-24 13:32:19 - INFO - google_genai.models - AFC is enabled with max remote calls: 10.\n",
            "2025-09-24 13:32:20 - INFO - google_genai.models - AFC remote call 1 is done.\n"
          ]
        },
        {
          "name": "stderr",
          "output_type": "stream",
          "text": [
            "2025-09-24 13:32:20 - noveum_trace.transport.http_transport - INFO - 📤 EXPORTING TRACE: auto_trace_generate (ID: 207015af-23dc-435b-9e32-6e131dec3c18) - 1 spans\n",
            "2025-09-24 13:32:20 - noveum_trace.transport.batch_processor - INFO - 📥 ADDING TRACE TO QUEUE: auto_trace_generate (ID: 207015af-23dc-435b-9e32-6e131dec3c18) - 1 spans\n",
            "2025-09-24 13:32:20 - noveum_trace.transport.batch_processor - INFO - ✅ Successfully queued trace 207015af-23dc-435b-9e32-6e131dec3c18\n",
            "2025-09-24 13:32:20 - noveum_trace.transport.http_transport - INFO - ✅ Trace 207015af-23dc-435b-9e32-6e131dec3c18 successfully queued for export\n"
          ]
        },
        {
          "name": "stdout",
          "output_type": "stream",
          "text": [
            "2025-09-24 13:32:20 - INFO - google_genai.models - AFC is enabled with max remote calls: 10.\n",
            "2025-09-24 13:32:21 - INFO - google_genai.models - AFC remote call 1 is done.\n"
          ]
        },
        {
          "name": "stderr",
          "output_type": "stream",
          "text": [
            "2025-09-24 13:32:21 - noveum_trace.transport.http_transport - INFO - 📤 EXPORTING TRACE: auto_trace_generate (ID: 811a7f99-69e4-4cce-a807-d33bb65627bc) - 1 spans\n",
            "2025-09-24 13:32:21 - noveum_trace.transport.batch_processor - INFO - 📥 ADDING TRACE TO QUEUE: auto_trace_generate (ID: 811a7f99-69e4-4cce-a807-d33bb65627bc) - 1 spans\n",
            "2025-09-24 13:32:21 - noveum_trace.transport.batch_processor - INFO - ✅ Successfully queued trace 811a7f99-69e4-4cce-a807-d33bb65627bc\n",
            "2025-09-24 13:32:21 - noveum_trace.transport.http_transport - INFO - ✅ Trace 811a7f99-69e4-4cce-a807-d33bb65627bc successfully queued for export\n"
          ]
        },
        {
          "name": "stdout",
          "output_type": "stream",
          "text": [
            "2025-09-24 13:32:21 - INFO - google_genai.models - AFC is enabled with max remote calls: 10.\n",
            "2025-09-24 13:32:23 - INFO - google_genai.models - AFC remote call 1 is done.\n"
          ]
        },
        {
          "name": "stderr",
          "output_type": "stream",
          "text": [
            "2025-09-24 13:32:23 - noveum_trace.transport.http_transport - INFO - 📤 EXPORTING TRACE: auto_trace_generate (ID: f48c5934-5031-4be4-a904-331ec16e861f) - 1 spans\n",
            "2025-09-24 13:32:23 - noveum_trace.transport.batch_processor - INFO - 📥 ADDING TRACE TO QUEUE: auto_trace_generate (ID: f48c5934-5031-4be4-a904-331ec16e861f) - 1 spans\n",
            "2025-09-24 13:32:23 - noveum_trace.transport.batch_processor - INFO - ✅ Successfully queued trace f48c5934-5031-4be4-a904-331ec16e861f\n",
            "2025-09-24 13:32:23 - noveum_trace.transport.http_transport - INFO - ✅ Trace f48c5934-5031-4be4-a904-331ec16e861f successfully queued for export\n"
          ]
        },
        {
          "name": "stdout",
          "output_type": "stream",
          "text": [
            "2025-09-24 13:32:23 - INFO - novaeval.evaluators.agent_evaluator - Saving intermediate results after 6 samples\n",
            "2025-09-24 13:32:23 - INFO - novaeval.evaluators.agent_evaluator - Intermediate results saved to demo_results/sample_evaluation/agent_evaluation_results.csv\n"
          ]
        },
        {
          "name": "stderr",
          "output_type": "stream",
          "text": [
            "Evaluating samples: 6it [00:22,  3.76s/it]"
          ]
        },
        {
          "name": "stdout",
          "output_type": "stream",
          "text": [
            "2025-09-24 13:32:23 - INFO - google_genai.models - AFC is enabled with max remote calls: 10.\n",
            "2025-09-24 13:32:24 - INFO - google_genai.models - AFC remote call 1 is done.\n"
          ]
        },
        {
          "name": "stderr",
          "output_type": "stream",
          "text": [
            "2025-09-24 13:32:24 - noveum_trace.transport.http_transport - INFO - 📤 EXPORTING TRACE: auto_trace_generate (ID: 233d695f-d147-496f-aead-ee515233c32e) - 1 spans\n",
            "2025-09-24 13:32:24 - noveum_trace.transport.batch_processor - INFO - 📥 ADDING TRACE TO QUEUE: auto_trace_generate (ID: 233d695f-d147-496f-aead-ee515233c32e) - 1 spans\n",
            "2025-09-24 13:32:24 - noveum_trace.transport.batch_processor - INFO - ✅ Successfully queued trace 233d695f-d147-496f-aead-ee515233c32e\n",
            "2025-09-24 13:32:24 - noveum_trace.transport.http_transport - INFO - ✅ Trace 233d695f-d147-496f-aead-ee515233c32e successfully queued for export\n"
          ]
        },
        {
          "name": "stdout",
          "output_type": "stream",
          "text": [
            "2025-09-24 13:32:24 - INFO - google_genai.models - AFC is enabled with max remote calls: 10.\n",
            "2025-09-24 13:32:25 - INFO - google_genai.models - AFC remote call 1 is done.\n"
          ]
        },
        {
          "name": "stderr",
          "output_type": "stream",
          "text": [
            "2025-09-24 13:32:25 - noveum_trace.transport.http_transport - INFO - 📤 EXPORTING TRACE: auto_trace_generate (ID: f701f7ee-bf15-40dc-904a-26a232f57c86) - 1 spans\n",
            "2025-09-24 13:32:25 - noveum_trace.transport.batch_processor - INFO - 📥 ADDING TRACE TO QUEUE: auto_trace_generate (ID: f701f7ee-bf15-40dc-904a-26a232f57c86) - 1 spans\n",
            "2025-09-24 13:32:25 - noveum_trace.transport.batch_processor - INFO - ✅ Successfully queued trace f701f7ee-bf15-40dc-904a-26a232f57c86\n",
            "2025-09-24 13:32:25 - noveum_trace.transport.http_transport - INFO - ✅ Trace f701f7ee-bf15-40dc-904a-26a232f57c86 successfully queued for export\n"
          ]
        },
        {
          "name": "stdout",
          "output_type": "stream",
          "text": [
            "2025-09-24 13:32:25 - INFO - google_genai.models - AFC is enabled with max remote calls: 10.\n",
            "2025-09-24 13:32:26 - INFO - google_genai.models - AFC remote call 1 is done.\n"
          ]
        },
        {
          "name": "stderr",
          "output_type": "stream",
          "text": [
            "2025-09-24 13:32:26 - noveum_trace.transport.http_transport - INFO - 📤 EXPORTING TRACE: auto_trace_generate (ID: 586d8c7a-90bc-4b13-ab2a-2a9fcbf022ed) - 1 spans\n",
            "2025-09-24 13:32:26 - noveum_trace.transport.batch_processor - INFO - 📥 ADDING TRACE TO QUEUE: auto_trace_generate (ID: 586d8c7a-90bc-4b13-ab2a-2a9fcbf022ed) - 1 spans\n",
            "2025-09-24 13:32:26 - noveum_trace.transport.batch_processor - INFO - ✅ Successfully queued trace 586d8c7a-90bc-4b13-ab2a-2a9fcbf022ed\n",
            "2025-09-24 13:32:26 - noveum_trace.transport.http_transport - INFO - ✅ Trace 586d8c7a-90bc-4b13-ab2a-2a9fcbf022ed successfully queued for export\n"
          ]
        },
        {
          "name": "stdout",
          "output_type": "stream",
          "text": [
            "2025-09-24 13:32:26 - INFO - novaeval.evaluators.agent_evaluator - Saving intermediate results after 7 samples\n",
            "2025-09-24 13:32:26 - INFO - novaeval.evaluators.agent_evaluator - Intermediate results saved to demo_results/sample_evaluation/agent_evaluation_results.csv\n"
          ]
        },
        {
          "name": "stderr",
          "output_type": "stream",
          "text": [
            "Evaluating samples: 7it [00:26,  3.74s/it]"
          ]
        },
        {
          "name": "stdout",
          "output_type": "stream",
          "text": [
            "2025-09-24 13:32:26 - INFO - google_genai.models - AFC is enabled with max remote calls: 10.\n",
            "2025-09-24 13:32:28 - INFO - google_genai.models - AFC remote call 1 is done.\n"
          ]
        },
        {
          "name": "stderr",
          "output_type": "stream",
          "text": [
            "2025-09-24 13:32:28 - noveum_trace.transport.http_transport - INFO - 📤 EXPORTING TRACE: auto_trace_generate (ID: bacb067c-e3e2-41df-a55c-f9595f2df762) - 1 spans\n",
            "2025-09-24 13:32:28 - noveum_trace.transport.batch_processor - INFO - 📥 ADDING TRACE TO QUEUE: auto_trace_generate (ID: bacb067c-e3e2-41df-a55c-f9595f2df762) - 1 spans\n",
            "2025-09-24 13:32:28 - noveum_trace.transport.batch_processor - INFO - ✅ Successfully queued trace bacb067c-e3e2-41df-a55c-f9595f2df762\n",
            "2025-09-24 13:32:28 - noveum_trace.transport.http_transport - INFO - ✅ Trace bacb067c-e3e2-41df-a55c-f9595f2df762 successfully queued for export\n"
          ]
        },
        {
          "name": "stdout",
          "output_type": "stream",
          "text": [
            "2025-09-24 13:32:28 - INFO - google_genai.models - AFC is enabled with max remote calls: 10.\n",
            "2025-09-24 13:32:29 - INFO - google_genai.models - AFC remote call 1 is done.\n"
          ]
        },
        {
          "name": "stderr",
          "output_type": "stream",
          "text": [
            "2025-09-24 13:32:29 - noveum_trace.transport.http_transport - INFO - 📤 EXPORTING TRACE: auto_trace_generate (ID: b88e94cf-34f8-4086-bad3-780640ceb161) - 1 spans\n",
            "2025-09-24 13:32:29 - noveum_trace.transport.batch_processor - INFO - 📥 ADDING TRACE TO QUEUE: auto_trace_generate (ID: b88e94cf-34f8-4086-bad3-780640ceb161) - 1 spans\n",
            "2025-09-24 13:32:29 - noveum_trace.transport.batch_processor - INFO - ✅ Successfully queued trace b88e94cf-34f8-4086-bad3-780640ceb161\n",
            "2025-09-24 13:32:29 - noveum_trace.transport.http_transport - INFO - ✅ Trace b88e94cf-34f8-4086-bad3-780640ceb161 successfully queued for export\n"
          ]
        },
        {
          "name": "stdout",
          "output_type": "stream",
          "text": [
            "2025-09-24 13:32:29 - INFO - google_genai.models - AFC is enabled with max remote calls: 10.\n",
            "2025-09-24 13:32:30 - INFO - google_genai.models - AFC remote call 1 is done.\n"
          ]
        },
        {
          "name": "stderr",
          "output_type": "stream",
          "text": [
            "2025-09-24 13:32:30 - noveum_trace.transport.http_transport - INFO - 📤 EXPORTING TRACE: auto_trace_generate (ID: 4fea1ff5-4653-4dcc-8352-9e099425434b) - 1 spans\n",
            "2025-09-24 13:32:30 - noveum_trace.transport.batch_processor - INFO - 📥 ADDING TRACE TO QUEUE: auto_trace_generate (ID: 4fea1ff5-4653-4dcc-8352-9e099425434b) - 1 spans\n",
            "2025-09-24 13:32:30 - noveum_trace.transport.batch_processor - INFO - ✅ Successfully queued trace 4fea1ff5-4653-4dcc-8352-9e099425434b\n",
            "2025-09-24 13:32:30 - noveum_trace.transport.http_transport - INFO - ✅ Trace 4fea1ff5-4653-4dcc-8352-9e099425434b successfully queued for export\n"
          ]
        },
        {
          "name": "stdout",
          "output_type": "stream",
          "text": [
            "2025-09-24 13:32:30 - INFO - novaeval.evaluators.agent_evaluator - Saving intermediate results after 8 samples\n",
            "2025-09-24 13:32:30 - INFO - novaeval.evaluators.agent_evaluator - Intermediate results saved to demo_results/sample_evaluation/agent_evaluation_results.csv\n"
          ]
        },
        {
          "name": "stderr",
          "output_type": "stream",
          "text": [
            "Evaluating samples: 8it [00:30,  3.82s/it]"
          ]
        },
        {
          "name": "stdout",
          "output_type": "stream",
          "text": [
            "2025-09-24 13:32:30 - INFO - google_genai.models - AFC is enabled with max remote calls: 10.\n",
            "2025-09-24 13:32:32 - INFO - google_genai.models - AFC remote call 1 is done.\n"
          ]
        },
        {
          "name": "stderr",
          "output_type": "stream",
          "text": [
            "2025-09-24 13:32:32 - noveum_trace.transport.http_transport - INFO - 📤 EXPORTING TRACE: auto_trace_generate (ID: e7cfb0df-7b75-4eea-b46b-af646f09a271) - 1 spans\n",
            "2025-09-24 13:32:32 - noveum_trace.transport.batch_processor - INFO - 📥 ADDING TRACE TO QUEUE: auto_trace_generate (ID: e7cfb0df-7b75-4eea-b46b-af646f09a271) - 1 spans\n",
            "2025-09-24 13:32:32 - noveum_trace.transport.batch_processor - INFO - ✅ Successfully queued trace e7cfb0df-7b75-4eea-b46b-af646f09a271\n",
            "2025-09-24 13:32:32 - noveum_trace.transport.http_transport - INFO - ✅ Trace e7cfb0df-7b75-4eea-b46b-af646f09a271 successfully queued for export\n"
          ]
        },
        {
          "name": "stdout",
          "output_type": "stream",
          "text": [
            "2025-09-24 13:32:32 - INFO - google_genai.models - AFC is enabled with max remote calls: 10.\n",
            "2025-09-24 13:32:33 - INFO - google_genai.models - AFC remote call 1 is done.\n"
          ]
        },
        {
          "name": "stderr",
          "output_type": "stream",
          "text": [
            "2025-09-24 13:32:33 - noveum_trace.transport.http_transport - INFO - 📤 EXPORTING TRACE: auto_trace_generate (ID: 7b9c678f-37c2-41f4-8f64-25df96d0445b) - 1 spans\n",
            "2025-09-24 13:32:33 - noveum_trace.transport.batch_processor - INFO - 📥 ADDING TRACE TO QUEUE: auto_trace_generate (ID: 7b9c678f-37c2-41f4-8f64-25df96d0445b) - 1 spans\n",
            "2025-09-24 13:32:33 - noveum_trace.transport.batch_processor - INFO - ✅ Successfully queued trace 7b9c678f-37c2-41f4-8f64-25df96d0445b\n",
            "2025-09-24 13:32:33 - noveum_trace.transport.http_transport - INFO - ✅ Trace 7b9c678f-37c2-41f4-8f64-25df96d0445b successfully queued for export\n"
          ]
        },
        {
          "name": "stdout",
          "output_type": "stream",
          "text": [
            "2025-09-24 13:32:33 - INFO - google_genai.models - AFC is enabled with max remote calls: 10.\n",
            "2025-09-24 13:32:34 - INFO - google_genai.models - AFC remote call 1 is done.\n"
          ]
        },
        {
          "name": "stderr",
          "output_type": "stream",
          "text": [
            "2025-09-24 13:32:34 - noveum_trace.transport.http_transport - INFO - 📤 EXPORTING TRACE: auto_trace_generate (ID: 9f0a0b4b-fc71-4e9b-87b3-2fe970164d32) - 1 spans\n",
            "2025-09-24 13:32:34 - noveum_trace.transport.batch_processor - INFO - 📥 ADDING TRACE TO QUEUE: auto_trace_generate (ID: 9f0a0b4b-fc71-4e9b-87b3-2fe970164d32) - 1 spans\n",
            "2025-09-24 13:32:34 - noveum_trace.transport.batch_processor - INFO - ✅ Successfully queued trace 9f0a0b4b-fc71-4e9b-87b3-2fe970164d32\n",
            "2025-09-24 13:32:34 - noveum_trace.transport.http_transport - INFO - ✅ Trace 9f0a0b4b-fc71-4e9b-87b3-2fe970164d32 successfully queued for export\n"
          ]
        },
        {
          "name": "stdout",
          "output_type": "stream",
          "text": [
            "2025-09-24 13:32:34 - INFO - novaeval.evaluators.agent_evaluator - Saving intermediate results after 9 samples\n",
            "2025-09-24 13:32:34 - INFO - novaeval.evaluators.agent_evaluator - Intermediate results saved to demo_results/sample_evaluation/agent_evaluation_results.csv\n"
          ]
        },
        {
          "name": "stderr",
          "output_type": "stream",
          "text": [
            "Evaluating samples: 9it [00:34,  3.85s/it]"
          ]
        },
        {
          "name": "stdout",
          "output_type": "stream",
          "text": [
            "2025-09-24 13:32:34 - INFO - google_genai.models - AFC is enabled with max remote calls: 10.\n",
            "2025-09-24 13:32:36 - INFO - google_genai.models - AFC remote call 1 is done.\n"
          ]
        },
        {
          "name": "stderr",
          "output_type": "stream",
          "text": [
            "2025-09-24 13:32:36 - noveum_trace.transport.http_transport - INFO - 📤 EXPORTING TRACE: auto_trace_generate (ID: e1306611-bea4-4e4b-98fb-cceaed4f634e) - 1 spans\n",
            "2025-09-24 13:32:36 - noveum_trace.transport.batch_processor - INFO - 📥 ADDING TRACE TO QUEUE: auto_trace_generate (ID: e1306611-bea4-4e4b-98fb-cceaed4f634e) - 1 spans\n",
            "2025-09-24 13:32:36 - noveum_trace.transport.batch_processor - INFO - ✅ Successfully queued trace e1306611-bea4-4e4b-98fb-cceaed4f634e\n",
            "2025-09-24 13:32:36 - noveum_trace.transport.http_transport - INFO - ✅ Trace e1306611-bea4-4e4b-98fb-cceaed4f634e successfully queued for export\n"
          ]
        },
        {
          "name": "stdout",
          "output_type": "stream",
          "text": [
            "2025-09-24 13:32:36 - INFO - google_genai.models - AFC is enabled with max remote calls: 10.\n",
            "2025-09-24 13:32:37 - INFO - google_genai.models - AFC remote call 1 is done.\n"
          ]
        },
        {
          "name": "stderr",
          "output_type": "stream",
          "text": [
            "2025-09-24 13:32:37 - noveum_trace.transport.http_transport - INFO - 📤 EXPORTING TRACE: auto_trace_generate (ID: 5cd43427-2bd3-408a-8935-421d6c23819c) - 1 spans\n",
            "2025-09-24 13:32:37 - noveum_trace.transport.batch_processor - INFO - 📥 ADDING TRACE TO QUEUE: auto_trace_generate (ID: 5cd43427-2bd3-408a-8935-421d6c23819c) - 1 spans\n",
            "2025-09-24 13:32:37 - noveum_trace.transport.batch_processor - INFO - ✅ Successfully queued trace 5cd43427-2bd3-408a-8935-421d6c23819c\n",
            "2025-09-24 13:32:37 - noveum_trace.transport.http_transport - INFO - ✅ Trace 5cd43427-2bd3-408a-8935-421d6c23819c successfully queued for export\n"
          ]
        },
        {
          "name": "stdout",
          "output_type": "stream",
          "text": [
            "2025-09-24 13:32:37 - INFO - google_genai.models - AFC is enabled with max remote calls: 10.\n",
            "2025-09-24 13:32:39 - INFO - google_genai.models - AFC remote call 1 is done.\n"
          ]
        },
        {
          "name": "stderr",
          "output_type": "stream",
          "text": [
            "2025-09-24 13:32:39 - noveum_trace.transport.http_transport - INFO - 📤 EXPORTING TRACE: auto_trace_generate (ID: 29d50fc7-67b0-4105-abb7-ead2115e275c) - 1 spans\n",
            "2025-09-24 13:32:39 - noveum_trace.transport.batch_processor - INFO - 📥 ADDING TRACE TO QUEUE: auto_trace_generate (ID: 29d50fc7-67b0-4105-abb7-ead2115e275c) - 1 spans\n",
            "2025-09-24 13:32:39 - noveum_trace.transport.batch_processor - INFO - ✅ Successfully queued trace 29d50fc7-67b0-4105-abb7-ead2115e275c\n",
            "2025-09-24 13:32:39 - noveum_trace.transport.http_transport - INFO - ✅ Trace 29d50fc7-67b0-4105-abb7-ead2115e275c successfully queued for export\n"
          ]
        },
        {
          "name": "stdout",
          "output_type": "stream",
          "text": [
            "2025-09-24 13:32:39 - INFO - novaeval.evaluators.agent_evaluator - Saving intermediate results after 10 samples\n",
            "2025-09-24 13:32:39 - INFO - novaeval.evaluators.agent_evaluator - Intermediate results saved to demo_results/sample_evaluation/agent_evaluation_results.csv\n"
          ]
        },
        {
          "name": "stderr",
          "output_type": "stream",
          "text": [
            "Evaluating samples: 10it [00:38,  3.95s/it]"
          ]
        },
        {
          "name": "stdout",
          "output_type": "stream",
          "text": [
            "2025-09-24 13:32:39 - INFO - google_genai.models - AFC is enabled with max remote calls: 10.\n",
            "2025-09-24 13:32:40 - INFO - google_genai.models - AFC remote call 1 is done.\n"
          ]
        },
        {
          "name": "stderr",
          "output_type": "stream",
          "text": [
            "2025-09-24 13:32:40 - noveum_trace.transport.http_transport - INFO - 📤 EXPORTING TRACE: auto_trace_generate (ID: 6e60d85b-5ecd-4622-8ff4-b5e95a7c8d08) - 1 spans\n",
            "2025-09-24 13:32:40 - noveum_trace.transport.batch_processor - INFO - 📥 ADDING TRACE TO QUEUE: auto_trace_generate (ID: 6e60d85b-5ecd-4622-8ff4-b5e95a7c8d08) - 1 spans\n",
            "2025-09-24 13:32:40 - noveum_trace.transport.batch_processor - INFO - ✅ Successfully queued trace 6e60d85b-5ecd-4622-8ff4-b5e95a7c8d08\n",
            "2025-09-24 13:32:40 - noveum_trace.transport.http_transport - INFO - ✅ Trace 6e60d85b-5ecd-4622-8ff4-b5e95a7c8d08 successfully queued for export\n"
          ]
        },
        {
          "name": "stdout",
          "output_type": "stream",
          "text": [
            "2025-09-24 13:32:40 - INFO - google_genai.models - AFC is enabled with max remote calls: 10.\n",
            "2025-09-24 13:32:41 - INFO - google_genai.models - AFC remote call 1 is done.\n"
          ]
        },
        {
          "name": "stderr",
          "output_type": "stream",
          "text": [
            "2025-09-24 13:32:41 - noveum_trace.transport.http_transport - INFO - 📤 EXPORTING TRACE: auto_trace_generate (ID: 5db6205e-001d-4757-a8aa-1013d62b497f) - 1 spans\n",
            "2025-09-24 13:32:41 - noveum_trace.transport.batch_processor - INFO - 📥 ADDING TRACE TO QUEUE: auto_trace_generate (ID: 5db6205e-001d-4757-a8aa-1013d62b497f) - 1 spans\n",
            "2025-09-24 13:32:41 - noveum_trace.transport.batch_processor - INFO - ✅ Successfully queued trace 5db6205e-001d-4757-a8aa-1013d62b497f\n",
            "2025-09-24 13:32:41 - noveum_trace.transport.http_transport - INFO - ✅ Trace 5db6205e-001d-4757-a8aa-1013d62b497f successfully queued for export\n"
          ]
        },
        {
          "name": "stdout",
          "output_type": "stream",
          "text": [
            "2025-09-24 13:32:41 - INFO - google_genai.models - AFC is enabled with max remote calls: 10.\n",
            "2025-09-24 13:32:43 - INFO - google_genai.models - AFC remote call 1 is done.\n"
          ]
        },
        {
          "name": "stderr",
          "output_type": "stream",
          "text": [
            "2025-09-24 13:32:43 - noveum_trace.transport.http_transport - INFO - 📤 EXPORTING TRACE: auto_trace_generate (ID: e06cd33f-7aa4-4b63-9df3-169901c3f5cd) - 1 spans\n",
            "2025-09-24 13:32:43 - noveum_trace.transport.batch_processor - INFO - 📥 ADDING TRACE TO QUEUE: auto_trace_generate (ID: e06cd33f-7aa4-4b63-9df3-169901c3f5cd) - 1 spans\n",
            "2025-09-24 13:32:43 - noveum_trace.transport.batch_processor - INFO - ✅ Successfully queued trace e06cd33f-7aa4-4b63-9df3-169901c3f5cd\n",
            "2025-09-24 13:32:43 - noveum_trace.transport.http_transport - INFO - ✅ Trace e06cd33f-7aa4-4b63-9df3-169901c3f5cd successfully queued for export\n"
          ]
        },
        {
          "name": "stdout",
          "output_type": "stream",
          "text": [
            "2025-09-24 13:32:43 - INFO - novaeval.evaluators.agent_evaluator - Saving intermediate results after 11 samples\n",
            "2025-09-24 13:32:43 - INFO - novaeval.evaluators.agent_evaluator - Intermediate results saved to demo_results/sample_evaluation/agent_evaluation_results.csv\n"
          ]
        },
        {
          "name": "stderr",
          "output_type": "stream",
          "text": [
            "Evaluating samples: 11it [00:42,  4.10s/it]"
          ]
        },
        {
          "name": "stdout",
          "output_type": "stream",
          "text": [
            "2025-09-24 13:32:43 - INFO - google_genai.models - AFC is enabled with max remote calls: 10.\n",
            "2025-09-24 13:32:44 - INFO - google_genai.models - AFC remote call 1 is done.\n"
          ]
        },
        {
          "name": "stderr",
          "output_type": "stream",
          "text": [
            "2025-09-24 13:32:44 - noveum_trace.transport.http_transport - INFO - 📤 EXPORTING TRACE: auto_trace_generate (ID: cd0fa659-326b-4020-b498-b58057688b57) - 1 spans\n",
            "2025-09-24 13:32:44 - noveum_trace.transport.batch_processor - INFO - 📥 ADDING TRACE TO QUEUE: auto_trace_generate (ID: cd0fa659-326b-4020-b498-b58057688b57) - 1 spans\n",
            "2025-09-24 13:32:44 - noveum_trace.transport.batch_processor - INFO - ✅ Successfully queued trace cd0fa659-326b-4020-b498-b58057688b57\n",
            "2025-09-24 13:32:44 - noveum_trace.transport.http_transport - INFO - ✅ Trace cd0fa659-326b-4020-b498-b58057688b57 successfully queued for export\n"
          ]
        },
        {
          "name": "stdout",
          "output_type": "stream",
          "text": [
            "2025-09-24 13:32:44 - INFO - google_genai.models - AFC is enabled with max remote calls: 10.\n",
            "2025-09-24 13:32:46 - INFO - google_genai.models - AFC remote call 1 is done.\n"
          ]
        },
        {
          "name": "stderr",
          "output_type": "stream",
          "text": [
            "2025-09-24 13:32:46 - noveum_trace.transport.http_transport - INFO - 📤 EXPORTING TRACE: auto_trace_generate (ID: 682a3bef-1304-4cc4-973d-b11855847104) - 1 spans\n",
            "2025-09-24 13:32:46 - noveum_trace.transport.batch_processor - INFO - 📥 ADDING TRACE TO QUEUE: auto_trace_generate (ID: 682a3bef-1304-4cc4-973d-b11855847104) - 1 spans\n",
            "2025-09-24 13:32:46 - noveum_trace.transport.batch_processor - INFO - ✅ Successfully queued trace 682a3bef-1304-4cc4-973d-b11855847104\n",
            "2025-09-24 13:32:46 - noveum_trace.transport.http_transport - INFO - ✅ Trace 682a3bef-1304-4cc4-973d-b11855847104 successfully queued for export\n"
          ]
        },
        {
          "name": "stdout",
          "output_type": "stream",
          "text": [
            "2025-09-24 13:32:46 - INFO - google_genai.models - AFC is enabled with max remote calls: 10.\n",
            "2025-09-24 13:32:48 - INFO - google_genai.models - AFC remote call 1 is done.\n"
          ]
        },
        {
          "name": "stderr",
          "output_type": "stream",
          "text": [
            "2025-09-24 13:32:48 - noveum_trace.transport.http_transport - INFO - 📤 EXPORTING TRACE: auto_trace_generate (ID: 7f6033e4-347b-41c9-a5d9-4be83d019c78) - 1 spans\n",
            "2025-09-24 13:32:48 - noveum_trace.transport.batch_processor - INFO - 📥 ADDING TRACE TO QUEUE: auto_trace_generate (ID: 7f6033e4-347b-41c9-a5d9-4be83d019c78) - 1 spans\n",
            "2025-09-24 13:32:48 - noveum_trace.transport.batch_processor - INFO - ✅ Successfully queued trace 7f6033e4-347b-41c9-a5d9-4be83d019c78\n",
            "2025-09-24 13:32:48 - noveum_trace.transport.http_transport - INFO - ✅ Trace 7f6033e4-347b-41c9-a5d9-4be83d019c78 successfully queued for export\n"
          ]
        },
        {
          "name": "stdout",
          "output_type": "stream",
          "text": [
            "2025-09-24 13:32:48 - INFO - novaeval.evaluators.agent_evaluator - Saving intermediate results after 12 samples\n",
            "2025-09-24 13:32:48 - INFO - novaeval.evaluators.agent_evaluator - Intermediate results saved to demo_results/sample_evaluation/agent_evaluation_results.csv\n"
          ]
        },
        {
          "name": "stderr",
          "output_type": "stream",
          "text": [
            "Evaluating samples: 12it [00:47,  4.31s/it]"
          ]
        },
        {
          "name": "stdout",
          "output_type": "stream",
          "text": [
            "2025-09-24 13:32:48 - INFO - google_genai.models - AFC is enabled with max remote calls: 10.\n",
            "2025-09-24 13:32:49 - INFO - google_genai.models - AFC remote call 1 is done.\n"
          ]
        },
        {
          "name": "stderr",
          "output_type": "stream",
          "text": [
            "2025-09-24 13:32:49 - noveum_trace.transport.http_transport - INFO - 📤 EXPORTING TRACE: auto_trace_generate (ID: 7b8bb5ba-6273-41e8-bf91-a5ab1dcaca03) - 1 spans\n",
            "2025-09-24 13:32:49 - noveum_trace.transport.batch_processor - INFO - 📥 ADDING TRACE TO QUEUE: auto_trace_generate (ID: 7b8bb5ba-6273-41e8-bf91-a5ab1dcaca03) - 1 spans\n",
            "2025-09-24 13:32:49 - noveum_trace.transport.batch_processor - INFO - ✅ Successfully queued trace 7b8bb5ba-6273-41e8-bf91-a5ab1dcaca03\n",
            "2025-09-24 13:32:49 - noveum_trace.transport.http_transport - INFO - ✅ Trace 7b8bb5ba-6273-41e8-bf91-a5ab1dcaca03 successfully queued for export\n"
          ]
        },
        {
          "name": "stdout",
          "output_type": "stream",
          "text": [
            "2025-09-24 13:32:49 - INFO - google_genai.models - AFC is enabled with max remote calls: 10.\n",
            "2025-09-24 13:32:51 - INFO - google_genai.models - AFC remote call 1 is done.\n"
          ]
        },
        {
          "name": "stderr",
          "output_type": "stream",
          "text": [
            "2025-09-24 13:32:51 - noveum_trace.transport.http_transport - INFO - 📤 EXPORTING TRACE: auto_trace_generate (ID: 2f6f4aa3-5776-4263-b30f-6b294a28119d) - 1 spans\n",
            "2025-09-24 13:32:51 - noveum_trace.transport.batch_processor - INFO - 📥 ADDING TRACE TO QUEUE: auto_trace_generate (ID: 2f6f4aa3-5776-4263-b30f-6b294a28119d) - 1 spans\n",
            "2025-09-24 13:32:51 - noveum_trace.transport.batch_processor - INFO - ✅ Successfully queued trace 2f6f4aa3-5776-4263-b30f-6b294a28119d\n",
            "2025-09-24 13:32:51 - noveum_trace.transport.http_transport - INFO - ✅ Trace 2f6f4aa3-5776-4263-b30f-6b294a28119d successfully queued for export\n"
          ]
        },
        {
          "name": "stdout",
          "output_type": "stream",
          "text": [
            "2025-09-24 13:32:51 - INFO - google_genai.models - AFC is enabled with max remote calls: 10.\n",
            "2025-09-24 13:32:52 - INFO - google_genai.models - AFC remote call 1 is done.\n"
          ]
        },
        {
          "name": "stderr",
          "output_type": "stream",
          "text": [
            "2025-09-24 13:32:52 - noveum_trace.transport.http_transport - INFO - 📤 EXPORTING TRACE: auto_trace_generate (ID: 1174f111-28d5-4ebe-9c90-76539635af69) - 1 spans\n",
            "2025-09-24 13:32:52 - noveum_trace.transport.batch_processor - INFO - 📥 ADDING TRACE TO QUEUE: auto_trace_generate (ID: 1174f111-28d5-4ebe-9c90-76539635af69) - 1 spans\n",
            "2025-09-24 13:32:52 - noveum_trace.transport.batch_processor - INFO - ✅ Successfully queued trace 1174f111-28d5-4ebe-9c90-76539635af69\n",
            "2025-09-24 13:32:52 - noveum_trace.transport.http_transport - INFO - ✅ Trace 1174f111-28d5-4ebe-9c90-76539635af69 successfully queued for export\n"
          ]
        },
        {
          "name": "stdout",
          "output_type": "stream",
          "text": [
            "2025-09-24 13:32:52 - INFO - novaeval.evaluators.agent_evaluator - Saving intermediate results after 13 samples\n",
            "2025-09-24 13:32:52 - INFO - novaeval.evaluators.agent_evaluator - Intermediate results saved to demo_results/sample_evaluation/agent_evaluation_results.csv\n"
          ]
        },
        {
          "name": "stderr",
          "output_type": "stream",
          "text": [
            "Evaluating samples: 13it [00:51,  4.35s/it]"
          ]
        },
        {
          "name": "stdout",
          "output_type": "stream",
          "text": [
            "2025-09-24 13:32:52 - INFO - google_genai.models - AFC is enabled with max remote calls: 10.\n",
            "2025-09-24 13:32:54 - INFO - google_genai.models - AFC remote call 1 is done.\n"
          ]
        },
        {
          "name": "stderr",
          "output_type": "stream",
          "text": [
            "2025-09-24 13:32:54 - noveum_trace.transport.http_transport - INFO - 📤 EXPORTING TRACE: auto_trace_generate (ID: 991621c8-45d3-48a2-a4a9-8e4083035569) - 1 spans\n",
            "2025-09-24 13:32:54 - noveum_trace.transport.batch_processor - INFO - 📥 ADDING TRACE TO QUEUE: auto_trace_generate (ID: 991621c8-45d3-48a2-a4a9-8e4083035569) - 1 spans\n",
            "2025-09-24 13:32:54 - noveum_trace.transport.batch_processor - INFO - ✅ Successfully queued trace 991621c8-45d3-48a2-a4a9-8e4083035569\n",
            "2025-09-24 13:32:54 - noveum_trace.transport.http_transport - INFO - ✅ Trace 991621c8-45d3-48a2-a4a9-8e4083035569 successfully queued for export\n"
          ]
        },
        {
          "name": "stdout",
          "output_type": "stream",
          "text": [
            "2025-09-24 13:32:54 - INFO - google_genai.models - AFC is enabled with max remote calls: 10.\n",
            "2025-09-24 13:32:55 - INFO - google_genai.models - AFC remote call 1 is done.\n"
          ]
        },
        {
          "name": "stderr",
          "output_type": "stream",
          "text": [
            "2025-09-24 13:32:55 - noveum_trace.transport.http_transport - INFO - 📤 EXPORTING TRACE: auto_trace_generate (ID: 7fc5fb9e-4210-4beb-8921-ec721423b81e) - 1 spans\n",
            "2025-09-24 13:32:55 - noveum_trace.transport.batch_processor - INFO - 📥 ADDING TRACE TO QUEUE: auto_trace_generate (ID: 7fc5fb9e-4210-4beb-8921-ec721423b81e) - 1 spans\n",
            "2025-09-24 13:32:55 - noveum_trace.transport.batch_processor - INFO - ✅ Successfully queued trace 7fc5fb9e-4210-4beb-8921-ec721423b81e\n",
            "2025-09-24 13:32:55 - noveum_trace.transport.http_transport - INFO - ✅ Trace 7fc5fb9e-4210-4beb-8921-ec721423b81e successfully queued for export\n"
          ]
        },
        {
          "name": "stdout",
          "output_type": "stream",
          "text": [
            "2025-09-24 13:32:55 - INFO - google_genai.models - AFC is enabled with max remote calls: 10.\n",
            "2025-09-24 13:32:57 - INFO - google_genai.models - AFC remote call 1 is done.\n"
          ]
        },
        {
          "name": "stderr",
          "output_type": "stream",
          "text": [
            "2025-09-24 13:32:57 - noveum_trace.transport.http_transport - INFO - 📤 EXPORTING TRACE: auto_trace_generate (ID: 603aa22d-e10d-4dac-a806-e3eeb3c915e7) - 1 spans\n",
            "2025-09-24 13:32:57 - noveum_trace.transport.batch_processor - INFO - 📥 ADDING TRACE TO QUEUE: auto_trace_generate (ID: 603aa22d-e10d-4dac-a806-e3eeb3c915e7) - 1 spans\n",
            "2025-09-24 13:32:57 - noveum_trace.transport.batch_processor - INFO - ✅ Successfully queued trace 603aa22d-e10d-4dac-a806-e3eeb3c915e7\n",
            "2025-09-24 13:32:57 - noveum_trace.transport.http_transport - INFO - ✅ Trace 603aa22d-e10d-4dac-a806-e3eeb3c915e7 successfully queued for export\n"
          ]
        },
        {
          "name": "stdout",
          "output_type": "stream",
          "text": [
            "2025-09-24 13:32:57 - INFO - novaeval.evaluators.agent_evaluator - Saving intermediate results after 14 samples\n",
            "2025-09-24 13:32:57 - INFO - novaeval.evaluators.agent_evaluator - Intermediate results saved to demo_results/sample_evaluation/agent_evaluation_results.csv\n"
          ]
        },
        {
          "name": "stderr",
          "output_type": "stream",
          "text": [
            "Evaluating samples: 14it [00:56,  4.35s/it]"
          ]
        },
        {
          "name": "stdout",
          "output_type": "stream",
          "text": [
            "2025-09-24 13:32:57 - INFO - google_genai.models - AFC is enabled with max remote calls: 10.\n",
            "2025-09-24 13:32:58 - INFO - google_genai.models - AFC remote call 1 is done.\n"
          ]
        },
        {
          "name": "stderr",
          "output_type": "stream",
          "text": [
            "2025-09-24 13:32:58 - noveum_trace.transport.http_transport - INFO - 📤 EXPORTING TRACE: auto_trace_generate (ID: cd1bb392-90e5-4146-9546-46f543fa1dd8) - 1 spans\n",
            "2025-09-24 13:32:58 - noveum_trace.transport.batch_processor - INFO - 📥 ADDING TRACE TO QUEUE: auto_trace_generate (ID: cd1bb392-90e5-4146-9546-46f543fa1dd8) - 1 spans\n",
            "2025-09-24 13:32:58 - noveum_trace.transport.batch_processor - INFO - ✅ Successfully queued trace cd1bb392-90e5-4146-9546-46f543fa1dd8\n",
            "2025-09-24 13:32:58 - noveum_trace.transport.http_transport - INFO - ✅ Trace cd1bb392-90e5-4146-9546-46f543fa1dd8 successfully queued for export\n"
          ]
        },
        {
          "name": "stdout",
          "output_type": "stream",
          "text": [
            "2025-09-24 13:32:58 - INFO - google_genai.models - AFC is enabled with max remote calls: 10.\n",
            "2025-09-24 13:33:00 - INFO - google_genai.models - AFC remote call 1 is done.\n"
          ]
        },
        {
          "name": "stderr",
          "output_type": "stream",
          "text": [
            "2025-09-24 13:33:00 - noveum_trace.transport.http_transport - INFO - 📤 EXPORTING TRACE: auto_trace_generate (ID: eed261b0-c298-4c49-b3e0-b4e053dc58c9) - 1 spans\n",
            "2025-09-24 13:33:00 - noveum_trace.transport.batch_processor - INFO - 📥 ADDING TRACE TO QUEUE: auto_trace_generate (ID: eed261b0-c298-4c49-b3e0-b4e053dc58c9) - 1 spans\n",
            "2025-09-24 13:33:00 - noveum_trace.transport.batch_processor - INFO - ✅ Successfully queued trace eed261b0-c298-4c49-b3e0-b4e053dc58c9\n",
            "2025-09-24 13:33:00 - noveum_trace.transport.http_transport - INFO - ✅ Trace eed261b0-c298-4c49-b3e0-b4e053dc58c9 successfully queued for export\n"
          ]
        },
        {
          "name": "stdout",
          "output_type": "stream",
          "text": [
            "2025-09-24 13:33:00 - INFO - google_genai.models - AFC is enabled with max remote calls: 10.\n",
            "2025-09-24 13:33:01 - INFO - google_genai.models - AFC remote call 1 is done.\n"
          ]
        },
        {
          "name": "stderr",
          "output_type": "stream",
          "text": [
            "2025-09-24 13:33:01 - noveum_trace.transport.http_transport - INFO - 📤 EXPORTING TRACE: auto_trace_generate (ID: c0935b9c-0f37-42ad-a05a-ee0785af4070) - 1 spans\n",
            "2025-09-24 13:33:01 - noveum_trace.transport.batch_processor - INFO - 📥 ADDING TRACE TO QUEUE: auto_trace_generate (ID: c0935b9c-0f37-42ad-a05a-ee0785af4070) - 1 spans\n",
            "2025-09-24 13:33:01 - noveum_trace.transport.batch_processor - INFO - ✅ Successfully queued trace c0935b9c-0f37-42ad-a05a-ee0785af4070\n",
            "2025-09-24 13:33:01 - noveum_trace.transport.http_transport - INFO - ✅ Trace c0935b9c-0f37-42ad-a05a-ee0785af4070 successfully queued for export\n"
          ]
        },
        {
          "name": "stdout",
          "output_type": "stream",
          "text": [
            "2025-09-24 13:33:01 - INFO - novaeval.evaluators.agent_evaluator - Saving intermediate results after 15 samples\n",
            "2025-09-24 13:33:01 - INFO - novaeval.evaluators.agent_evaluator - Intermediate results saved to demo_results/sample_evaluation/agent_evaluation_results.csv\n"
          ]
        },
        {
          "name": "stderr",
          "output_type": "stream",
          "text": [
            "Evaluating samples: 15it [01:00,  4.40s/it]"
          ]
        },
        {
          "name": "stdout",
          "output_type": "stream",
          "text": [
            "2025-09-24 13:33:01 - INFO - google_genai.models - AFC is enabled with max remote calls: 10.\n",
            "2025-09-24 13:33:02 - INFO - google_genai.models - AFC remote call 1 is done.\n"
          ]
        },
        {
          "name": "stderr",
          "output_type": "stream",
          "text": [
            "2025-09-24 13:33:02 - noveum_trace.transport.http_transport - INFO - 📤 EXPORTING TRACE: auto_trace_generate (ID: 741a51d9-51e6-4bc5-9edd-6e9c9d71989e) - 1 spans\n",
            "2025-09-24 13:33:02 - noveum_trace.transport.batch_processor - INFO - 📥 ADDING TRACE TO QUEUE: auto_trace_generate (ID: 741a51d9-51e6-4bc5-9edd-6e9c9d71989e) - 1 spans\n",
            "2025-09-24 13:33:02 - noveum_trace.transport.batch_processor - INFO - ✅ Successfully queued trace 741a51d9-51e6-4bc5-9edd-6e9c9d71989e\n",
            "2025-09-24 13:33:02 - noveum_trace.transport.http_transport - INFO - ✅ Trace 741a51d9-51e6-4bc5-9edd-6e9c9d71989e successfully queued for export\n"
          ]
        },
        {
          "name": "stdout",
          "output_type": "stream",
          "text": [
            "2025-09-24 13:33:02 - INFO - google_genai.models - AFC is enabled with max remote calls: 10.\n",
            "2025-09-24 13:33:04 - INFO - google_genai.models - AFC remote call 1 is done.\n"
          ]
        },
        {
          "name": "stderr",
          "output_type": "stream",
          "text": [
            "2025-09-24 13:33:04 - noveum_trace.transport.http_transport - INFO - 📤 EXPORTING TRACE: auto_trace_generate (ID: 0cc044ed-4f31-409d-aec8-cc1a97e46ce5) - 1 spans\n",
            "2025-09-24 13:33:04 - noveum_trace.transport.batch_processor - INFO - 📥 ADDING TRACE TO QUEUE: auto_trace_generate (ID: 0cc044ed-4f31-409d-aec8-cc1a97e46ce5) - 1 spans\n",
            "2025-09-24 13:33:04 - noveum_trace.transport.batch_processor - INFO - ✅ Successfully queued trace 0cc044ed-4f31-409d-aec8-cc1a97e46ce5\n",
            "2025-09-24 13:33:04 - noveum_trace.transport.http_transport - INFO - ✅ Trace 0cc044ed-4f31-409d-aec8-cc1a97e46ce5 successfully queued for export\n"
          ]
        },
        {
          "name": "stdout",
          "output_type": "stream",
          "text": [
            "2025-09-24 13:33:04 - INFO - google_genai.models - AFC is enabled with max remote calls: 10.\n",
            "2025-09-24 13:33:05 - INFO - google_genai.models - AFC remote call 1 is done.\n"
          ]
        },
        {
          "name": "stderr",
          "output_type": "stream",
          "text": [
            "2025-09-24 13:33:05 - noveum_trace.transport.http_transport - INFO - 📤 EXPORTING TRACE: auto_trace_generate (ID: ceb16813-7577-4c8f-be5d-96f302cc03cd) - 1 spans\n",
            "2025-09-24 13:33:05 - noveum_trace.transport.batch_processor - INFO - 📥 ADDING TRACE TO QUEUE: auto_trace_generate (ID: ceb16813-7577-4c8f-be5d-96f302cc03cd) - 1 spans\n",
            "2025-09-24 13:33:05 - noveum_trace.transport.batch_processor - INFO - ✅ Successfully queued trace ceb16813-7577-4c8f-be5d-96f302cc03cd\n",
            "2025-09-24 13:33:05 - noveum_trace.transport.http_transport - INFO - ✅ Trace ceb16813-7577-4c8f-be5d-96f302cc03cd successfully queued for export\n"
          ]
        },
        {
          "name": "stdout",
          "output_type": "stream",
          "text": [
            "2025-09-24 13:33:05 - INFO - novaeval.evaluators.agent_evaluator - Saving intermediate results after 16 samples\n",
            "2025-09-24 13:33:05 - INFO - novaeval.evaluators.agent_evaluator - Intermediate results saved to demo_results/sample_evaluation/agent_evaluation_results.csv\n"
          ]
        },
        {
          "name": "stderr",
          "output_type": "stream",
          "text": [
            "Evaluating samples: 16it [01:05,  4.40s/it]"
          ]
        },
        {
          "name": "stdout",
          "output_type": "stream",
          "text": [
            "2025-09-24 13:33:05 - INFO - google_genai.models - AFC is enabled with max remote calls: 10.\n",
            "2025-09-24 13:33:07 - INFO - google_genai.models - AFC remote call 1 is done.\n"
          ]
        },
        {
          "name": "stderr",
          "output_type": "stream",
          "text": [
            "2025-09-24 13:33:07 - noveum_trace.transport.http_transport - INFO - 📤 EXPORTING TRACE: auto_trace_generate (ID: 906a1777-4dd1-4b07-9520-cdc5d9d57e9d) - 1 spans\n",
            "2025-09-24 13:33:07 - noveum_trace.transport.batch_processor - INFO - 📥 ADDING TRACE TO QUEUE: auto_trace_generate (ID: 906a1777-4dd1-4b07-9520-cdc5d9d57e9d) - 1 spans\n",
            "2025-09-24 13:33:07 - noveum_trace.transport.batch_processor - INFO - ✅ Successfully queued trace 906a1777-4dd1-4b07-9520-cdc5d9d57e9d\n",
            "2025-09-24 13:33:07 - noveum_trace.transport.http_transport - INFO - ✅ Trace 906a1777-4dd1-4b07-9520-cdc5d9d57e9d successfully queued for export\n"
          ]
        },
        {
          "name": "stdout",
          "output_type": "stream",
          "text": [
            "2025-09-24 13:33:07 - INFO - google_genai.models - AFC is enabled with max remote calls: 10.\n",
            "2025-09-24 13:33:08 - INFO - google_genai.models - AFC remote call 1 is done.\n"
          ]
        },
        {
          "name": "stderr",
          "output_type": "stream",
          "text": [
            "2025-09-24 13:33:08 - noveum_trace.transport.http_transport - INFO - 📤 EXPORTING TRACE: auto_trace_generate (ID: 443978e7-2c91-47de-9cf5-0a17a9bc7b5d) - 1 spans\n",
            "2025-09-24 13:33:08 - noveum_trace.transport.batch_processor - INFO - 📥 ADDING TRACE TO QUEUE: auto_trace_generate (ID: 443978e7-2c91-47de-9cf5-0a17a9bc7b5d) - 1 spans\n",
            "2025-09-24 13:33:08 - noveum_trace.transport.batch_processor - INFO - ✅ Successfully queued trace 443978e7-2c91-47de-9cf5-0a17a9bc7b5d\n",
            "2025-09-24 13:33:08 - noveum_trace.transport.http_transport - INFO - ✅ Trace 443978e7-2c91-47de-9cf5-0a17a9bc7b5d successfully queued for export\n"
          ]
        },
        {
          "name": "stdout",
          "output_type": "stream",
          "text": [
            "2025-09-24 13:33:08 - INFO - google_genai.models - AFC is enabled with max remote calls: 10.\n",
            "2025-09-24 13:33:09 - INFO - google_genai.models - AFC remote call 1 is done.\n"
          ]
        },
        {
          "name": "stderr",
          "output_type": "stream",
          "text": [
            "2025-09-24 13:33:09 - noveum_trace.transport.http_transport - INFO - 📤 EXPORTING TRACE: auto_trace_generate (ID: 25ce217c-08af-4f14-a4d8-47f5ba2a644e) - 1 spans\n",
            "2025-09-24 13:33:09 - noveum_trace.transport.batch_processor - INFO - 📥 ADDING TRACE TO QUEUE: auto_trace_generate (ID: 25ce217c-08af-4f14-a4d8-47f5ba2a644e) - 1 spans\n",
            "2025-09-24 13:33:09 - noveum_trace.transport.batch_processor - INFO - ✅ Successfully queued trace 25ce217c-08af-4f14-a4d8-47f5ba2a644e\n",
            "2025-09-24 13:33:09 - noveum_trace.transport.http_transport - INFO - ✅ Trace 25ce217c-08af-4f14-a4d8-47f5ba2a644e successfully queued for export\n"
          ]
        },
        {
          "name": "stdout",
          "output_type": "stream",
          "text": [
            "2025-09-24 13:33:09 - INFO - novaeval.evaluators.agent_evaluator - Saving intermediate results after 17 samples\n",
            "2025-09-24 13:33:09 - INFO - novaeval.evaluators.agent_evaluator - Intermediate results saved to demo_results/sample_evaluation/agent_evaluation_results.csv\n"
          ]
        },
        {
          "name": "stderr",
          "output_type": "stream",
          "text": [
            "Evaluating samples: 17it [01:08,  4.25s/it]"
          ]
        },
        {
          "name": "stdout",
          "output_type": "stream",
          "text": [
            "2025-09-24 13:33:09 - INFO - google_genai.models - AFC is enabled with max remote calls: 10.\n",
            "2025-09-24 13:33:11 - INFO - google_genai.models - AFC remote call 1 is done.\n"
          ]
        },
        {
          "name": "stderr",
          "output_type": "stream",
          "text": [
            "2025-09-24 13:33:11 - noveum_trace.transport.http_transport - INFO - 📤 EXPORTING TRACE: auto_trace_generate (ID: b2ecf70f-e5f9-4ac7-a747-417c99d740ef) - 1 spans\n",
            "2025-09-24 13:33:11 - noveum_trace.transport.batch_processor - INFO - 📥 ADDING TRACE TO QUEUE: auto_trace_generate (ID: b2ecf70f-e5f9-4ac7-a747-417c99d740ef) - 1 spans\n",
            "2025-09-24 13:33:11 - noveum_trace.transport.batch_processor - INFO - ✅ Successfully queued trace b2ecf70f-e5f9-4ac7-a747-417c99d740ef\n",
            "2025-09-24 13:33:11 - noveum_trace.transport.http_transport - INFO - ✅ Trace b2ecf70f-e5f9-4ac7-a747-417c99d740ef successfully queued for export\n"
          ]
        },
        {
          "name": "stdout",
          "output_type": "stream",
          "text": [
            "2025-09-24 13:33:11 - INFO - google_genai.models - AFC is enabled with max remote calls: 10.\n",
            "2025-09-24 13:33:12 - INFO - google_genai.models - AFC remote call 1 is done.\n"
          ]
        },
        {
          "name": "stderr",
          "output_type": "stream",
          "text": [
            "2025-09-24 13:33:12 - noveum_trace.transport.http_transport - INFO - 📤 EXPORTING TRACE: auto_trace_generate (ID: 41cf1397-ab04-4a0e-a6aa-ba0c68e198d5) - 1 spans\n",
            "2025-09-24 13:33:12 - noveum_trace.transport.batch_processor - INFO - 📥 ADDING TRACE TO QUEUE: auto_trace_generate (ID: 41cf1397-ab04-4a0e-a6aa-ba0c68e198d5) - 1 spans\n",
            "2025-09-24 13:33:12 - noveum_trace.transport.batch_processor - INFO - ✅ Successfully queued trace 41cf1397-ab04-4a0e-a6aa-ba0c68e198d5\n",
            "2025-09-24 13:33:12 - noveum_trace.transport.http_transport - INFO - ✅ Trace 41cf1397-ab04-4a0e-a6aa-ba0c68e198d5 successfully queued for export\n"
          ]
        },
        {
          "name": "stdout",
          "output_type": "stream",
          "text": [
            "2025-09-24 13:33:12 - INFO - google_genai.models - AFC is enabled with max remote calls: 10.\n",
            "2025-09-24 13:33:13 - INFO - google_genai.models - AFC remote call 1 is done.\n"
          ]
        },
        {
          "name": "stderr",
          "output_type": "stream",
          "text": [
            "2025-09-24 13:33:13 - noveum_trace.transport.http_transport - INFO - 📤 EXPORTING TRACE: auto_trace_generate (ID: 9610b8ed-01a5-4d48-b12c-16cdb4e38e6c) - 1 spans\n",
            "2025-09-24 13:33:13 - noveum_trace.transport.batch_processor - INFO - 📥 ADDING TRACE TO QUEUE: auto_trace_generate (ID: 9610b8ed-01a5-4d48-b12c-16cdb4e38e6c) - 1 spans\n",
            "2025-09-24 13:33:13 - noveum_trace.transport.batch_processor - INFO - ✅ Successfully queued trace 9610b8ed-01a5-4d48-b12c-16cdb4e38e6c\n",
            "2025-09-24 13:33:13 - noveum_trace.transport.http_transport - INFO - ✅ Trace 9610b8ed-01a5-4d48-b12c-16cdb4e38e6c successfully queued for export\n"
          ]
        },
        {
          "name": "stdout",
          "output_type": "stream",
          "text": [
            "2025-09-24 13:33:13 - INFO - novaeval.evaluators.agent_evaluator - Saving intermediate results after 18 samples\n",
            "2025-09-24 13:33:13 - INFO - novaeval.evaluators.agent_evaluator - Intermediate results saved to demo_results/sample_evaluation/agent_evaluation_results.csv\n"
          ]
        },
        {
          "name": "stderr",
          "output_type": "stream",
          "text": [
            "Evaluating samples: 18it [01:12,  4.08s/it]"
          ]
        },
        {
          "name": "stdout",
          "output_type": "stream",
          "text": [
            "2025-09-24 13:33:13 - INFO - google_genai.models - AFC is enabled with max remote calls: 10.\n",
            "2025-09-24 13:33:14 - INFO - google_genai.models - AFC remote call 1 is done.\n"
          ]
        },
        {
          "name": "stderr",
          "output_type": "stream",
          "text": [
            "2025-09-24 13:33:14 - noveum_trace.transport.http_transport - INFO - 📤 EXPORTING TRACE: auto_trace_generate (ID: ea9715f4-ee23-4f06-bc3f-b6b54179788e) - 1 spans\n",
            "2025-09-24 13:33:14 - noveum_trace.transport.batch_processor - INFO - 📥 ADDING TRACE TO QUEUE: auto_trace_generate (ID: ea9715f4-ee23-4f06-bc3f-b6b54179788e) - 1 spans\n",
            "2025-09-24 13:33:14 - noveum_trace.transport.batch_processor - INFO - ✅ Successfully queued trace ea9715f4-ee23-4f06-bc3f-b6b54179788e\n",
            "2025-09-24 13:33:14 - noveum_trace.transport.http_transport - INFO - ✅ Trace ea9715f4-ee23-4f06-bc3f-b6b54179788e successfully queued for export\n"
          ]
        },
        {
          "name": "stdout",
          "output_type": "stream",
          "text": [
            "2025-09-24 13:33:14 - INFO - google_genai.models - AFC is enabled with max remote calls: 10.\n",
            "2025-09-24 13:33:16 - INFO - google_genai.models - AFC remote call 1 is done.\n"
          ]
        },
        {
          "name": "stderr",
          "output_type": "stream",
          "text": [
            "2025-09-24 13:33:16 - noveum_trace.transport.http_transport - INFO - 📤 EXPORTING TRACE: auto_trace_generate (ID: cbb504b3-7edd-49c1-a2d6-d7b455bc96f3) - 1 spans\n",
            "2025-09-24 13:33:16 - noveum_trace.transport.batch_processor - INFO - 📥 ADDING TRACE TO QUEUE: auto_trace_generate (ID: cbb504b3-7edd-49c1-a2d6-d7b455bc96f3) - 1 spans\n",
            "2025-09-24 13:33:16 - noveum_trace.transport.batch_processor - INFO - ✅ Successfully queued trace cbb504b3-7edd-49c1-a2d6-d7b455bc96f3\n",
            "2025-09-24 13:33:16 - noveum_trace.transport.http_transport - INFO - ✅ Trace cbb504b3-7edd-49c1-a2d6-d7b455bc96f3 successfully queued for export\n"
          ]
        },
        {
          "name": "stdout",
          "output_type": "stream",
          "text": [
            "2025-09-24 13:33:16 - INFO - google_genai.models - AFC is enabled with max remote calls: 10.\n",
            "2025-09-24 13:33:17 - INFO - google_genai.models - AFC remote call 1 is done.\n"
          ]
        },
        {
          "name": "stderr",
          "output_type": "stream",
          "text": [
            "2025-09-24 13:33:17 - noveum_trace.transport.http_transport - INFO - 📤 EXPORTING TRACE: auto_trace_generate (ID: cfb00d2f-f01e-409a-a462-91f0248ddc81) - 1 spans\n",
            "2025-09-24 13:33:17 - noveum_trace.transport.batch_processor - INFO - 📥 ADDING TRACE TO QUEUE: auto_trace_generate (ID: cfb00d2f-f01e-409a-a462-91f0248ddc81) - 1 spans\n",
            "2025-09-24 13:33:17 - noveum_trace.transport.batch_processor - INFO - ✅ Successfully queued trace cfb00d2f-f01e-409a-a462-91f0248ddc81\n",
            "2025-09-24 13:33:17 - noveum_trace.transport.http_transport - INFO - ✅ Trace cfb00d2f-f01e-409a-a462-91f0248ddc81 successfully queued for export\n"
          ]
        },
        {
          "name": "stdout",
          "output_type": "stream",
          "text": [
            "2025-09-24 13:33:17 - INFO - novaeval.evaluators.agent_evaluator - Saving intermediate results after 19 samples\n",
            "2025-09-24 13:33:17 - INFO - novaeval.evaluators.agent_evaluator - Intermediate results saved to demo_results/sample_evaluation/agent_evaluation_results.csv\n"
          ]
        },
        {
          "name": "stderr",
          "output_type": "stream",
          "text": [
            "Evaluating samples: 19it [01:16,  4.02s/it]"
          ]
        },
        {
          "name": "stdout",
          "output_type": "stream",
          "text": [
            "2025-09-24 13:33:17 - INFO - google_genai.models - AFC is enabled with max remote calls: 10.\n",
            "2025-09-24 13:33:18 - INFO - google_genai.models - AFC remote call 1 is done.\n"
          ]
        },
        {
          "name": "stderr",
          "output_type": "stream",
          "text": [
            "2025-09-24 13:33:18 - noveum_trace.transport.http_transport - INFO - 📤 EXPORTING TRACE: auto_trace_generate (ID: ca06327f-efcd-4b69-afbe-2b9b42b9f479) - 1 spans\n",
            "2025-09-24 13:33:18 - noveum_trace.transport.batch_processor - INFO - 📥 ADDING TRACE TO QUEUE: auto_trace_generate (ID: ca06327f-efcd-4b69-afbe-2b9b42b9f479) - 1 spans\n",
            "2025-09-24 13:33:18 - noveum_trace.transport.batch_processor - INFO - ✅ Successfully queued trace ca06327f-efcd-4b69-afbe-2b9b42b9f479\n",
            "2025-09-24 13:33:18 - noveum_trace.transport.http_transport - INFO - ✅ Trace ca06327f-efcd-4b69-afbe-2b9b42b9f479 successfully queued for export\n"
          ]
        },
        {
          "name": "stdout",
          "output_type": "stream",
          "text": [
            "2025-09-24 13:33:18 - INFO - google_genai.models - AFC is enabled with max remote calls: 10.\n",
            "2025-09-24 13:33:20 - INFO - google_genai.models - AFC remote call 1 is done.\n"
          ]
        },
        {
          "name": "stderr",
          "output_type": "stream",
          "text": [
            "2025-09-24 13:33:20 - noveum_trace.transport.http_transport - INFO - 📤 EXPORTING TRACE: auto_trace_generate (ID: 1f8ec663-c643-448e-93ad-d73c7f192381) - 1 spans\n",
            "2025-09-24 13:33:20 - noveum_trace.transport.batch_processor - INFO - 📥 ADDING TRACE TO QUEUE: auto_trace_generate (ID: 1f8ec663-c643-448e-93ad-d73c7f192381) - 1 spans\n",
            "2025-09-24 13:33:20 - noveum_trace.transport.batch_processor - INFO - ✅ Successfully queued trace 1f8ec663-c643-448e-93ad-d73c7f192381\n",
            "2025-09-24 13:33:20 - noveum_trace.transport.http_transport - INFO - ✅ Trace 1f8ec663-c643-448e-93ad-d73c7f192381 successfully queued for export\n"
          ]
        },
        {
          "name": "stdout",
          "output_type": "stream",
          "text": [
            "2025-09-24 13:33:20 - INFO - google_genai.models - AFC is enabled with max remote calls: 10.\n",
            "2025-09-24 13:33:21 - INFO - google_genai.models - AFC remote call 1 is done.\n"
          ]
        },
        {
          "name": "stderr",
          "output_type": "stream",
          "text": [
            "2025-09-24 13:33:21 - noveum_trace.transport.http_transport - INFO - 📤 EXPORTING TRACE: auto_trace_generate (ID: 81724c55-e574-411d-8e8d-5e8523b651a2) - 1 spans\n",
            "2025-09-24 13:33:21 - noveum_trace.transport.batch_processor - INFO - 📥 ADDING TRACE TO QUEUE: auto_trace_generate (ID: 81724c55-e574-411d-8e8d-5e8523b651a2) - 1 spans\n",
            "2025-09-24 13:33:21 - noveum_trace.transport.batch_processor - INFO - ✅ Successfully queued trace 81724c55-e574-411d-8e8d-5e8523b651a2\n",
            "2025-09-24 13:33:21 - noveum_trace.transport.http_transport - INFO - ✅ Trace 81724c55-e574-411d-8e8d-5e8523b651a2 successfully queued for export\n"
          ]
        },
        {
          "name": "stdout",
          "output_type": "stream",
          "text": [
            "2025-09-24 13:33:21 - INFO - novaeval.evaluators.agent_evaluator - Saving intermediate results after 20 samples\n",
            "2025-09-24 13:33:21 - INFO - novaeval.evaluators.agent_evaluator - Intermediate results saved to demo_results/sample_evaluation/agent_evaluation_results.csv\n"
          ]
        },
        {
          "name": "stderr",
          "output_type": "stream",
          "text": [
            "Evaluating samples: 20it [01:20,  4.01s/it]"
          ]
        },
        {
          "name": "stdout",
          "output_type": "stream",
          "text": [
            "2025-09-24 13:33:21 - INFO - google_genai.models - AFC is enabled with max remote calls: 10.\n",
            "2025-09-24 13:33:22 - INFO - google_genai.models - AFC remote call 1 is done.\n"
          ]
        },
        {
          "name": "stderr",
          "output_type": "stream",
          "text": [
            "2025-09-24 13:33:22 - noveum_trace.transport.http_transport - INFO - 📤 EXPORTING TRACE: auto_trace_generate (ID: 439c11ec-801a-43e8-af4f-61de82fe557d) - 1 spans\n",
            "2025-09-24 13:33:22 - noveum_trace.transport.batch_processor - INFO - 📥 ADDING TRACE TO QUEUE: auto_trace_generate (ID: 439c11ec-801a-43e8-af4f-61de82fe557d) - 1 spans\n",
            "2025-09-24 13:33:22 - noveum_trace.transport.batch_processor - INFO - ✅ Successfully queued trace 439c11ec-801a-43e8-af4f-61de82fe557d\n",
            "2025-09-24 13:33:22 - noveum_trace.transport.http_transport - INFO - ✅ Trace 439c11ec-801a-43e8-af4f-61de82fe557d successfully queued for export\n"
          ]
        },
        {
          "name": "stdout",
          "output_type": "stream",
          "text": [
            "2025-09-24 13:33:22 - INFO - google_genai.models - AFC is enabled with max remote calls: 10.\n",
            "2025-09-24 13:33:23 - INFO - google_genai.models - AFC remote call 1 is done.\n"
          ]
        },
        {
          "name": "stderr",
          "output_type": "stream",
          "text": [
            "2025-09-24 13:33:23 - noveum_trace.transport.http_transport - INFO - 📤 EXPORTING TRACE: auto_trace_generate (ID: 4e0d8c75-3320-40c6-8a1d-491943cf3e2c) - 1 spans\n",
            "2025-09-24 13:33:23 - noveum_trace.transport.batch_processor - INFO - 📥 ADDING TRACE TO QUEUE: auto_trace_generate (ID: 4e0d8c75-3320-40c6-8a1d-491943cf3e2c) - 1 spans\n",
            "2025-09-24 13:33:23 - noveum_trace.transport.batch_processor - INFO - ✅ Successfully queued trace 4e0d8c75-3320-40c6-8a1d-491943cf3e2c\n",
            "2025-09-24 13:33:23 - noveum_trace.transport.http_transport - INFO - ✅ Trace 4e0d8c75-3320-40c6-8a1d-491943cf3e2c successfully queued for export\n"
          ]
        },
        {
          "name": "stdout",
          "output_type": "stream",
          "text": [
            "2025-09-24 13:33:23 - INFO - google_genai.models - AFC is enabled with max remote calls: 10.\n",
            "2025-09-24 13:33:25 - INFO - google_genai.models - AFC remote call 1 is done.\n"
          ]
        },
        {
          "name": "stderr",
          "output_type": "stream",
          "text": [
            "2025-09-24 13:33:25 - noveum_trace.transport.http_transport - INFO - 📤 EXPORTING TRACE: auto_trace_generate (ID: a90bc1ed-11bf-4e4b-b04c-62619e75d3e5) - 1 spans\n",
            "2025-09-24 13:33:25 - noveum_trace.transport.batch_processor - INFO - 📥 ADDING TRACE TO QUEUE: auto_trace_generate (ID: a90bc1ed-11bf-4e4b-b04c-62619e75d3e5) - 1 spans\n",
            "2025-09-24 13:33:25 - noveum_trace.transport.batch_processor - INFO - ✅ Successfully queued trace a90bc1ed-11bf-4e4b-b04c-62619e75d3e5\n",
            "2025-09-24 13:33:25 - noveum_trace.transport.http_transport - INFO - ✅ Trace a90bc1ed-11bf-4e4b-b04c-62619e75d3e5 successfully queued for export\n"
          ]
        },
        {
          "name": "stdout",
          "output_type": "stream",
          "text": [
            "2025-09-24 13:33:25 - INFO - novaeval.evaluators.agent_evaluator - Saving intermediate results after 21 samples\n",
            "2025-09-24 13:33:25 - INFO - novaeval.evaluators.agent_evaluator - Intermediate results saved to demo_results/sample_evaluation/agent_evaluation_results.csv\n"
          ]
        },
        {
          "name": "stderr",
          "output_type": "stream",
          "text": [
            "Evaluating samples: 21it [01:24,  3.91s/it]"
          ]
        },
        {
          "name": "stdout",
          "output_type": "stream",
          "text": [
            "2025-09-24 13:33:25 - INFO - google_genai.models - AFC is enabled with max remote calls: 10.\n",
            "2025-09-24 13:33:26 - INFO - google_genai.models - AFC remote call 1 is done.\n"
          ]
        },
        {
          "name": "stderr",
          "output_type": "stream",
          "text": [
            "2025-09-24 13:33:26 - noveum_trace.transport.http_transport - INFO - 📤 EXPORTING TRACE: auto_trace_generate (ID: ec2757ca-c5d8-4b8d-aa1c-fa6503babb95) - 1 spans\n",
            "2025-09-24 13:33:26 - noveum_trace.transport.batch_processor - INFO - 📥 ADDING TRACE TO QUEUE: auto_trace_generate (ID: ec2757ca-c5d8-4b8d-aa1c-fa6503babb95) - 1 spans\n",
            "2025-09-24 13:33:26 - noveum_trace.transport.batch_processor - INFO - ✅ Successfully queued trace ec2757ca-c5d8-4b8d-aa1c-fa6503babb95\n",
            "2025-09-24 13:33:26 - noveum_trace.transport.http_transport - INFO - ✅ Trace ec2757ca-c5d8-4b8d-aa1c-fa6503babb95 successfully queued for export\n"
          ]
        },
        {
          "name": "stdout",
          "output_type": "stream",
          "text": [
            "2025-09-24 13:33:26 - INFO - google_genai.models - AFC is enabled with max remote calls: 10.\n",
            "2025-09-24 13:33:27 - INFO - google_genai.models - AFC remote call 1 is done.\n"
          ]
        },
        {
          "name": "stderr",
          "output_type": "stream",
          "text": [
            "2025-09-24 13:33:27 - noveum_trace.transport.http_transport - INFO - 📤 EXPORTING TRACE: auto_trace_generate (ID: 49250db3-91df-4cba-909c-90055eaec158) - 1 spans\n",
            "2025-09-24 13:33:27 - noveum_trace.transport.batch_processor - INFO - 📥 ADDING TRACE TO QUEUE: auto_trace_generate (ID: 49250db3-91df-4cba-909c-90055eaec158) - 1 spans\n",
            "2025-09-24 13:33:27 - noveum_trace.transport.batch_processor - INFO - ✅ Successfully queued trace 49250db3-91df-4cba-909c-90055eaec158\n",
            "2025-09-24 13:33:27 - noveum_trace.transport.http_transport - INFO - ✅ Trace 49250db3-91df-4cba-909c-90055eaec158 successfully queued for export\n"
          ]
        },
        {
          "name": "stdout",
          "output_type": "stream",
          "text": [
            "2025-09-24 13:33:27 - INFO - google_genai.models - AFC is enabled with max remote calls: 10.\n",
            "2025-09-24 13:33:28 - INFO - google_genai.models - AFC remote call 1 is done.\n"
          ]
        },
        {
          "name": "stderr",
          "output_type": "stream",
          "text": [
            "2025-09-24 13:33:28 - noveum_trace.transport.http_transport - INFO - 📤 EXPORTING TRACE: auto_trace_generate (ID: cec3241d-e0ca-426b-a1ea-1124b23ebbab) - 1 spans\n",
            "2025-09-24 13:33:28 - noveum_trace.transport.batch_processor - INFO - 📥 ADDING TRACE TO QUEUE: auto_trace_generate (ID: cec3241d-e0ca-426b-a1ea-1124b23ebbab) - 1 spans\n",
            "2025-09-24 13:33:28 - noveum_trace.transport.batch_processor - INFO - ✅ Successfully queued trace cec3241d-e0ca-426b-a1ea-1124b23ebbab\n",
            "2025-09-24 13:33:28 - noveum_trace.transport.http_transport - INFO - ✅ Trace cec3241d-e0ca-426b-a1ea-1124b23ebbab successfully queued for export\n"
          ]
        },
        {
          "name": "stdout",
          "output_type": "stream",
          "text": [
            "2025-09-24 13:33:28 - INFO - novaeval.evaluators.agent_evaluator - Saving intermediate results after 22 samples\n",
            "2025-09-24 13:33:28 - INFO - novaeval.evaluators.agent_evaluator - Intermediate results saved to demo_results/sample_evaluation/agent_evaluation_results.csv\n"
          ]
        },
        {
          "name": "stderr",
          "output_type": "stream",
          "text": [
            "Evaluating samples: 22it [01:28,  3.88s/it]"
          ]
        },
        {
          "name": "stdout",
          "output_type": "stream",
          "text": [
            "2025-09-24 13:33:28 - INFO - google_genai.models - AFC is enabled with max remote calls: 10.\n",
            "2025-09-24 13:33:30 - INFO - google_genai.models - AFC remote call 1 is done.\n"
          ]
        },
        {
          "name": "stderr",
          "output_type": "stream",
          "text": [
            "2025-09-24 13:33:30 - noveum_trace.transport.http_transport - INFO - 📤 EXPORTING TRACE: auto_trace_generate (ID: 2efde57e-6fd8-44c5-ac28-4721443c6d2b) - 1 spans\n",
            "2025-09-24 13:33:30 - noveum_trace.transport.batch_processor - INFO - 📥 ADDING TRACE TO QUEUE: auto_trace_generate (ID: 2efde57e-6fd8-44c5-ac28-4721443c6d2b) - 1 spans\n",
            "2025-09-24 13:33:30 - noveum_trace.transport.batch_processor - INFO - ✅ Successfully queued trace 2efde57e-6fd8-44c5-ac28-4721443c6d2b\n",
            "2025-09-24 13:33:30 - noveum_trace.transport.http_transport - INFO - ✅ Trace 2efde57e-6fd8-44c5-ac28-4721443c6d2b successfully queued for export\n"
          ]
        },
        {
          "name": "stdout",
          "output_type": "stream",
          "text": [
            "2025-09-24 13:33:30 - INFO - google_genai.models - AFC is enabled with max remote calls: 10.\n",
            "2025-09-24 13:33:31 - INFO - google_genai.models - AFC remote call 1 is done.\n"
          ]
        },
        {
          "name": "stderr",
          "output_type": "stream",
          "text": [
            "2025-09-24 13:33:31 - noveum_trace.transport.http_transport - INFO - 📤 EXPORTING TRACE: auto_trace_generate (ID: 7e4bbf89-cc1d-4619-bbd4-4a67c976489e) - 1 spans\n",
            "2025-09-24 13:33:31 - noveum_trace.transport.batch_processor - INFO - 📥 ADDING TRACE TO QUEUE: auto_trace_generate (ID: 7e4bbf89-cc1d-4619-bbd4-4a67c976489e) - 1 spans\n",
            "2025-09-24 13:33:31 - noveum_trace.transport.batch_processor - INFO - ✅ Successfully queued trace 7e4bbf89-cc1d-4619-bbd4-4a67c976489e\n",
            "2025-09-24 13:33:31 - noveum_trace.transport.http_transport - INFO - ✅ Trace 7e4bbf89-cc1d-4619-bbd4-4a67c976489e successfully queued for export\n"
          ]
        },
        {
          "name": "stdout",
          "output_type": "stream",
          "text": [
            "2025-09-24 13:33:31 - INFO - google_genai.models - AFC is enabled with max remote calls: 10.\n",
            "2025-09-24 13:33:32 - INFO - google_genai.models - AFC remote call 1 is done.\n"
          ]
        },
        {
          "name": "stderr",
          "output_type": "stream",
          "text": [
            "2025-09-24 13:33:32 - noveum_trace.transport.http_transport - INFO - 📤 EXPORTING TRACE: auto_trace_generate (ID: bb12f178-d3a5-468a-ae1f-ed6f4520f186) - 1 spans\n",
            "2025-09-24 13:33:32 - noveum_trace.transport.batch_processor - INFO - 📥 ADDING TRACE TO QUEUE: auto_trace_generate (ID: bb12f178-d3a5-468a-ae1f-ed6f4520f186) - 1 spans\n",
            "2025-09-24 13:33:32 - noveum_trace.transport.batch_processor - INFO - ✅ Successfully queued trace bb12f178-d3a5-468a-ae1f-ed6f4520f186\n",
            "2025-09-24 13:33:32 - noveum_trace.transport.http_transport - INFO - ✅ Trace bb12f178-d3a5-468a-ae1f-ed6f4520f186 successfully queued for export\n"
          ]
        },
        {
          "name": "stdout",
          "output_type": "stream",
          "text": [
            "2025-09-24 13:33:32 - INFO - novaeval.evaluators.agent_evaluator - Saving intermediate results after 23 samples\n",
            "2025-09-24 13:33:32 - INFO - novaeval.evaluators.agent_evaluator - Intermediate results saved to demo_results/sample_evaluation/agent_evaluation_results.csv\n"
          ]
        },
        {
          "name": "stderr",
          "output_type": "stream",
          "text": [
            "Evaluating samples: 23it [01:32,  3.91s/it]"
          ]
        },
        {
          "name": "stdout",
          "output_type": "stream",
          "text": [
            "2025-09-24 13:33:32 - INFO - google_genai.models - AFC is enabled with max remote calls: 10.\n",
            "2025-09-24 13:33:34 - INFO - google_genai.models - AFC remote call 1 is done.\n"
          ]
        },
        {
          "name": "stderr",
          "output_type": "stream",
          "text": [
            "2025-09-24 13:33:34 - noveum_trace.transport.http_transport - INFO - 📤 EXPORTING TRACE: auto_trace_generate (ID: 98950b9a-5e36-4c7e-a743-d4ade4e5fced) - 1 spans\n",
            "2025-09-24 13:33:34 - noveum_trace.transport.batch_processor - INFO - 📥 ADDING TRACE TO QUEUE: auto_trace_generate (ID: 98950b9a-5e36-4c7e-a743-d4ade4e5fced) - 1 spans\n",
            "2025-09-24 13:33:34 - noveum_trace.transport.batch_processor - INFO - ✅ Successfully queued trace 98950b9a-5e36-4c7e-a743-d4ade4e5fced\n",
            "2025-09-24 13:33:34 - noveum_trace.transport.http_transport - INFO - ✅ Trace 98950b9a-5e36-4c7e-a743-d4ade4e5fced successfully queued for export\n"
          ]
        },
        {
          "name": "stdout",
          "output_type": "stream",
          "text": [
            "2025-09-24 13:33:34 - INFO - google_genai.models - AFC is enabled with max remote calls: 10.\n",
            "2025-09-24 13:33:35 - INFO - google_genai.models - AFC remote call 1 is done.\n"
          ]
        },
        {
          "name": "stderr",
          "output_type": "stream",
          "text": [
            "2025-09-24 13:33:35 - noveum_trace.transport.http_transport - INFO - 📤 EXPORTING TRACE: auto_trace_generate (ID: e6b92d7c-2227-45bc-ac32-b070598f4a59) - 1 spans\n",
            "2025-09-24 13:33:35 - noveum_trace.transport.batch_processor - INFO - 📥 ADDING TRACE TO QUEUE: auto_trace_generate (ID: e6b92d7c-2227-45bc-ac32-b070598f4a59) - 1 spans\n",
            "2025-09-24 13:33:35 - noveum_trace.transport.batch_processor - INFO - ✅ Successfully queued trace e6b92d7c-2227-45bc-ac32-b070598f4a59\n",
            "2025-09-24 13:33:35 - noveum_trace.transport.http_transport - INFO - ✅ Trace e6b92d7c-2227-45bc-ac32-b070598f4a59 successfully queued for export\n"
          ]
        },
        {
          "name": "stdout",
          "output_type": "stream",
          "text": [
            "2025-09-24 13:33:35 - INFO - google_genai.models - AFC is enabled with max remote calls: 10.\n",
            "2025-09-24 13:33:36 - INFO - google_genai.models - AFC remote call 1 is done.\n"
          ]
        },
        {
          "name": "stderr",
          "output_type": "stream",
          "text": [
            "2025-09-24 13:33:36 - noveum_trace.transport.http_transport - INFO - 📤 EXPORTING TRACE: auto_trace_generate (ID: 4c00debb-6387-4fb8-ba54-6aecbd5b7704) - 1 spans\n",
            "2025-09-24 13:33:36 - noveum_trace.transport.batch_processor - INFO - 📥 ADDING TRACE TO QUEUE: auto_trace_generate (ID: 4c00debb-6387-4fb8-ba54-6aecbd5b7704) - 1 spans\n",
            "2025-09-24 13:33:36 - noveum_trace.transport.batch_processor - INFO - ✅ Successfully queued trace 4c00debb-6387-4fb8-ba54-6aecbd5b7704\n",
            "2025-09-24 13:33:36 - noveum_trace.transport.http_transport - INFO - ✅ Trace 4c00debb-6387-4fb8-ba54-6aecbd5b7704 successfully queued for export\n"
          ]
        },
        {
          "name": "stdout",
          "output_type": "stream",
          "text": [
            "2025-09-24 13:33:36 - INFO - novaeval.evaluators.agent_evaluator - Saving intermediate results after 24 samples\n",
            "2025-09-24 13:33:36 - INFO - novaeval.evaluators.agent_evaluator - Intermediate results saved to demo_results/sample_evaluation/agent_evaluation_results.csv\n"
          ]
        },
        {
          "name": "stderr",
          "output_type": "stream",
          "text": [
            "Evaluating samples: 24it [01:35,  3.81s/it]"
          ]
        },
        {
          "name": "stdout",
          "output_type": "stream",
          "text": [
            "2025-09-24 13:33:36 - INFO - google_genai.models - AFC is enabled with max remote calls: 10.\n",
            "2025-09-24 13:33:38 - INFO - google_genai.models - AFC remote call 1 is done.\n"
          ]
        },
        {
          "name": "stderr",
          "output_type": "stream",
          "text": [
            "2025-09-24 13:33:38 - noveum_trace.transport.http_transport - INFO - 📤 EXPORTING TRACE: auto_trace_generate (ID: 30099d95-1ac7-441d-a648-42327e4c40d2) - 1 spans\n",
            "2025-09-24 13:33:38 - noveum_trace.transport.batch_processor - INFO - 📥 ADDING TRACE TO QUEUE: auto_trace_generate (ID: 30099d95-1ac7-441d-a648-42327e4c40d2) - 1 spans\n",
            "2025-09-24 13:33:38 - noveum_trace.transport.batch_processor - INFO - ✅ Successfully queued trace 30099d95-1ac7-441d-a648-42327e4c40d2\n",
            "2025-09-24 13:33:38 - noveum_trace.transport.http_transport - INFO - ✅ Trace 30099d95-1ac7-441d-a648-42327e4c40d2 successfully queued for export\n"
          ]
        },
        {
          "name": "stdout",
          "output_type": "stream",
          "text": [
            "2025-09-24 13:33:38 - INFO - google_genai.models - AFC is enabled with max remote calls: 10.\n",
            "2025-09-24 13:33:39 - INFO - google_genai.models - AFC remote call 1 is done.\n"
          ]
        },
        {
          "name": "stderr",
          "output_type": "stream",
          "text": [
            "2025-09-24 13:33:39 - noveum_trace.transport.http_transport - INFO - 📤 EXPORTING TRACE: auto_trace_generate (ID: d163f97c-4457-49ae-b09b-15713b8f5f6b) - 1 spans\n",
            "2025-09-24 13:33:39 - noveum_trace.transport.batch_processor - INFO - 📥 ADDING TRACE TO QUEUE: auto_trace_generate (ID: d163f97c-4457-49ae-b09b-15713b8f5f6b) - 1 spans\n",
            "2025-09-24 13:33:39 - noveum_trace.transport.batch_processor - INFO - ✅ Successfully queued trace d163f97c-4457-49ae-b09b-15713b8f5f6b\n",
            "2025-09-24 13:33:39 - noveum_trace.transport.http_transport - INFO - ✅ Trace d163f97c-4457-49ae-b09b-15713b8f5f6b successfully queued for export\n"
          ]
        },
        {
          "name": "stdout",
          "output_type": "stream",
          "text": [
            "2025-09-24 13:33:39 - INFO - google_genai.models - AFC is enabled with max remote calls: 10.\n",
            "2025-09-24 13:33:40 - INFO - google_genai.models - AFC remote call 1 is done.\n"
          ]
        },
        {
          "name": "stderr",
          "output_type": "stream",
          "text": [
            "2025-09-24 13:33:40 - noveum_trace.transport.http_transport - INFO - 📤 EXPORTING TRACE: auto_trace_generate (ID: 73f36d17-5b43-4a15-9f40-ef113c2efdb2) - 1 spans\n",
            "2025-09-24 13:33:40 - noveum_trace.transport.batch_processor - INFO - 📥 ADDING TRACE TO QUEUE: auto_trace_generate (ID: 73f36d17-5b43-4a15-9f40-ef113c2efdb2) - 1 spans\n",
            "2025-09-24 13:33:40 - noveum_trace.transport.batch_processor - INFO - ✅ Successfully queued trace 73f36d17-5b43-4a15-9f40-ef113c2efdb2\n",
            "2025-09-24 13:33:40 - noveum_trace.transport.http_transport - INFO - ✅ Trace 73f36d17-5b43-4a15-9f40-ef113c2efdb2 successfully queued for export\n"
          ]
        },
        {
          "name": "stdout",
          "output_type": "stream",
          "text": [
            "2025-09-24 13:33:40 - INFO - novaeval.evaluators.agent_evaluator - Saving intermediate results after 25 samples\n",
            "2025-09-24 13:33:40 - INFO - novaeval.evaluators.agent_evaluator - Intermediate results saved to demo_results/sample_evaluation/agent_evaluation_results.csv\n"
          ]
        },
        {
          "name": "stderr",
          "output_type": "stream",
          "text": [
            "Evaluating samples: 25it [01:39,  3.90s/it]"
          ]
        },
        {
          "name": "stdout",
          "output_type": "stream",
          "text": [
            "2025-09-24 13:33:40 - INFO - google_genai.models - AFC is enabled with max remote calls: 10.\n",
            "2025-09-24 13:33:42 - INFO - google_genai.models - AFC remote call 1 is done.\n"
          ]
        },
        {
          "name": "stderr",
          "output_type": "stream",
          "text": [
            "2025-09-24 13:33:42 - noveum_trace.transport.http_transport - INFO - 📤 EXPORTING TRACE: auto_trace_generate (ID: c391b48a-449b-4197-8aad-7317a0217efa) - 1 spans\n",
            "2025-09-24 13:33:42 - noveum_trace.transport.batch_processor - INFO - 📥 ADDING TRACE TO QUEUE: auto_trace_generate (ID: c391b48a-449b-4197-8aad-7317a0217efa) - 1 spans\n",
            "2025-09-24 13:33:42 - noveum_trace.transport.batch_processor - INFO - ✅ Successfully queued trace c391b48a-449b-4197-8aad-7317a0217efa\n",
            "2025-09-24 13:33:42 - noveum_trace.transport.http_transport - INFO - ✅ Trace c391b48a-449b-4197-8aad-7317a0217efa successfully queued for export\n"
          ]
        },
        {
          "name": "stdout",
          "output_type": "stream",
          "text": [
            "2025-09-24 13:33:42 - INFO - google_genai.models - AFC is enabled with max remote calls: 10.\n",
            "2025-09-24 13:33:43 - INFO - google_genai.models - AFC remote call 1 is done.\n"
          ]
        },
        {
          "name": "stderr",
          "output_type": "stream",
          "text": [
            "2025-09-24 13:33:43 - noveum_trace.transport.http_transport - INFO - 📤 EXPORTING TRACE: auto_trace_generate (ID: f259ed9f-8fc4-4bdc-ac87-e44a55f1a579) - 1 spans\n",
            "2025-09-24 13:33:43 - noveum_trace.transport.batch_processor - INFO - 📥 ADDING TRACE TO QUEUE: auto_trace_generate (ID: f259ed9f-8fc4-4bdc-ac87-e44a55f1a579) - 1 spans\n",
            "2025-09-24 13:33:43 - noveum_trace.transport.batch_processor - INFO - ✅ Successfully queued trace f259ed9f-8fc4-4bdc-ac87-e44a55f1a579\n",
            "2025-09-24 13:33:43 - noveum_trace.transport.http_transport - INFO - ✅ Trace f259ed9f-8fc4-4bdc-ac87-e44a55f1a579 successfully queued for export\n"
          ]
        },
        {
          "name": "stdout",
          "output_type": "stream",
          "text": [
            "2025-09-24 13:33:43 - INFO - google_genai.models - AFC is enabled with max remote calls: 10.\n",
            "2025-09-24 13:33:44 - INFO - google_genai.models - AFC remote call 1 is done.\n"
          ]
        },
        {
          "name": "stderr",
          "output_type": "stream",
          "text": [
            "2025-09-24 13:33:44 - noveum_trace.transport.http_transport - INFO - 📤 EXPORTING TRACE: auto_trace_generate (ID: 022c8856-0b90-4b15-94b6-dcb72bbb63f7) - 1 spans\n",
            "2025-09-24 13:33:44 - noveum_trace.transport.batch_processor - INFO - 📥 ADDING TRACE TO QUEUE: auto_trace_generate (ID: 022c8856-0b90-4b15-94b6-dcb72bbb63f7) - 1 spans\n",
            "2025-09-24 13:33:44 - noveum_trace.transport.batch_processor - INFO - ✅ Successfully queued trace 022c8856-0b90-4b15-94b6-dcb72bbb63f7\n",
            "2025-09-24 13:33:44 - noveum_trace.transport.http_transport - INFO - ✅ Trace 022c8856-0b90-4b15-94b6-dcb72bbb63f7 successfully queued for export\n"
          ]
        },
        {
          "name": "stdout",
          "output_type": "stream",
          "text": [
            "2025-09-24 13:33:44 - INFO - novaeval.evaluators.agent_evaluator - Saving intermediate results after 26 samples\n",
            "2025-09-24 13:33:44 - INFO - novaeval.evaluators.agent_evaluator - Intermediate results saved to demo_results/sample_evaluation/agent_evaluation_results.csv\n"
          ]
        },
        {
          "name": "stderr",
          "output_type": "stream",
          "text": [
            "Evaluating samples: 26it [01:43,  3.93s/it]"
          ]
        },
        {
          "name": "stdout",
          "output_type": "stream",
          "text": [
            "2025-09-24 13:33:44 - INFO - google_genai.models - AFC is enabled with max remote calls: 10.\n",
            "2025-09-24 13:33:45 - INFO - google_genai.models - AFC remote call 1 is done.\n"
          ]
        },
        {
          "name": "stderr",
          "output_type": "stream",
          "text": [
            "2025-09-24 13:33:45 - noveum_trace.transport.http_transport - INFO - 📤 EXPORTING TRACE: auto_trace_generate (ID: b960c30e-550a-4f85-8826-92ed8a0e8e31) - 1 spans\n",
            "2025-09-24 13:33:45 - noveum_trace.transport.batch_processor - INFO - 📥 ADDING TRACE TO QUEUE: auto_trace_generate (ID: b960c30e-550a-4f85-8826-92ed8a0e8e31) - 1 spans\n",
            "2025-09-24 13:33:45 - noveum_trace.transport.batch_processor - INFO - ✅ Successfully queued trace b960c30e-550a-4f85-8826-92ed8a0e8e31\n",
            "2025-09-24 13:33:45 - noveum_trace.transport.http_transport - INFO - ✅ Trace b960c30e-550a-4f85-8826-92ed8a0e8e31 successfully queued for export\n"
          ]
        },
        {
          "name": "stdout",
          "output_type": "stream",
          "text": [
            "2025-09-24 13:33:45 - INFO - google_genai.models - AFC is enabled with max remote calls: 10.\n",
            "2025-09-24 13:33:46 - INFO - google_genai.models - AFC remote call 1 is done.\n"
          ]
        },
        {
          "name": "stderr",
          "output_type": "stream",
          "text": [
            "2025-09-24 13:33:46 - noveum_trace.transport.http_transport - INFO - 📤 EXPORTING TRACE: auto_trace_generate (ID: fb6bbd10-495a-4641-b280-103383414212) - 1 spans\n",
            "2025-09-24 13:33:46 - noveum_trace.transport.batch_processor - INFO - 📥 ADDING TRACE TO QUEUE: auto_trace_generate (ID: fb6bbd10-495a-4641-b280-103383414212) - 1 spans\n",
            "2025-09-24 13:33:46 - noveum_trace.transport.batch_processor - INFO - ✅ Successfully queued trace fb6bbd10-495a-4641-b280-103383414212\n",
            "2025-09-24 13:33:46 - noveum_trace.transport.http_transport - INFO - ✅ Trace fb6bbd10-495a-4641-b280-103383414212 successfully queued for export\n"
          ]
        },
        {
          "name": "stdout",
          "output_type": "stream",
          "text": [
            "2025-09-24 13:33:46 - INFO - google_genai.models - AFC is enabled with max remote calls: 10.\n",
            "2025-09-24 13:33:48 - INFO - google_genai.models - AFC remote call 1 is done.\n"
          ]
        },
        {
          "name": "stderr",
          "output_type": "stream",
          "text": [
            "2025-09-24 13:33:48 - noveum_trace.transport.http_transport - INFO - 📤 EXPORTING TRACE: auto_trace_generate (ID: 40cbf17d-0aaa-47c0-8004-b4e7cd075cef) - 1 spans\n",
            "2025-09-24 13:33:48 - noveum_trace.transport.batch_processor - INFO - 📥 ADDING TRACE TO QUEUE: auto_trace_generate (ID: 40cbf17d-0aaa-47c0-8004-b4e7cd075cef) - 1 spans\n",
            "2025-09-24 13:33:48 - noveum_trace.transport.batch_processor - INFO - ✅ Successfully queued trace 40cbf17d-0aaa-47c0-8004-b4e7cd075cef\n",
            "2025-09-24 13:33:48 - noveum_trace.transport.http_transport - INFO - ✅ Trace 40cbf17d-0aaa-47c0-8004-b4e7cd075cef successfully queued for export\n"
          ]
        },
        {
          "name": "stdout",
          "output_type": "stream",
          "text": [
            "2025-09-24 13:33:48 - INFO - novaeval.evaluators.agent_evaluator - Saving intermediate results after 27 samples\n",
            "2025-09-24 13:33:48 - INFO - novaeval.evaluators.agent_evaluator - Intermediate results saved to demo_results/sample_evaluation/agent_evaluation_results.csv\n"
          ]
        },
        {
          "name": "stderr",
          "output_type": "stream",
          "text": [
            "Evaluating samples: 27it [01:47,  3.92s/it]"
          ]
        },
        {
          "name": "stdout",
          "output_type": "stream",
          "text": [
            "2025-09-24 13:33:48 - INFO - google_genai.models - AFC is enabled with max remote calls: 10.\n",
            "2025-09-24 13:33:49 - INFO - google_genai.models - AFC remote call 1 is done.\n"
          ]
        },
        {
          "name": "stderr",
          "output_type": "stream",
          "text": [
            "2025-09-24 13:33:49 - noveum_trace.transport.http_transport - INFO - 📤 EXPORTING TRACE: auto_trace_generate (ID: b4f570dc-e2e8-4519-892f-f114bdf7a3a2) - 1 spans\n",
            "2025-09-24 13:33:49 - noveum_trace.transport.batch_processor - INFO - 📥 ADDING TRACE TO QUEUE: auto_trace_generate (ID: b4f570dc-e2e8-4519-892f-f114bdf7a3a2) - 1 spans\n",
            "2025-09-24 13:33:49 - noveum_trace.transport.batch_processor - INFO - ✅ Successfully queued trace b4f570dc-e2e8-4519-892f-f114bdf7a3a2\n",
            "2025-09-24 13:33:49 - noveum_trace.transport.http_transport - INFO - ✅ Trace b4f570dc-e2e8-4519-892f-f114bdf7a3a2 successfully queued for export\n"
          ]
        },
        {
          "name": "stdout",
          "output_type": "stream",
          "text": [
            "2025-09-24 13:33:49 - INFO - google_genai.models - AFC is enabled with max remote calls: 10.\n",
            "2025-09-24 13:33:51 - INFO - google_genai.models - AFC remote call 1 is done.\n"
          ]
        },
        {
          "name": "stderr",
          "output_type": "stream",
          "text": [
            "2025-09-24 13:33:51 - noveum_trace.transport.http_transport - INFO - 📤 EXPORTING TRACE: auto_trace_generate (ID: b93a0ac8-500d-4f14-b910-3b7609df20e6) - 1 spans\n",
            "2025-09-24 13:33:51 - noveum_trace.transport.batch_processor - INFO - 📥 ADDING TRACE TO QUEUE: auto_trace_generate (ID: b93a0ac8-500d-4f14-b910-3b7609df20e6) - 1 spans\n",
            "2025-09-24 13:33:51 - noveum_trace.transport.batch_processor - INFO - ✅ Successfully queued trace b93a0ac8-500d-4f14-b910-3b7609df20e6\n",
            "2025-09-24 13:33:51 - noveum_trace.transport.http_transport - INFO - ✅ Trace b93a0ac8-500d-4f14-b910-3b7609df20e6 successfully queued for export\n"
          ]
        },
        {
          "name": "stdout",
          "output_type": "stream",
          "text": [
            "2025-09-24 13:33:51 - INFO - google_genai.models - AFC is enabled with max remote calls: 10.\n",
            "2025-09-24 13:33:52 - INFO - google_genai.models - AFC remote call 1 is done.\n"
          ]
        },
        {
          "name": "stderr",
          "output_type": "stream",
          "text": [
            "2025-09-24 13:33:52 - noveum_trace.transport.http_transport - INFO - 📤 EXPORTING TRACE: auto_trace_generate (ID: f1863b12-f480-4b32-96c9-d9293fdaf0c6) - 1 spans\n",
            "2025-09-24 13:33:52 - noveum_trace.transport.batch_processor - INFO - 📥 ADDING TRACE TO QUEUE: auto_trace_generate (ID: f1863b12-f480-4b32-96c9-d9293fdaf0c6) - 1 spans\n",
            "2025-09-24 13:33:52 - noveum_trace.transport.batch_processor - INFO - ✅ Successfully queued trace f1863b12-f480-4b32-96c9-d9293fdaf0c6\n",
            "2025-09-24 13:33:52 - noveum_trace.transport.http_transport - INFO - ✅ Trace f1863b12-f480-4b32-96c9-d9293fdaf0c6 successfully queued for export\n"
          ]
        },
        {
          "name": "stdout",
          "output_type": "stream",
          "text": [
            "2025-09-24 13:33:52 - INFO - novaeval.evaluators.agent_evaluator - Saving intermediate results after 28 samples\n",
            "2025-09-24 13:33:52 - INFO - novaeval.evaluators.agent_evaluator - Intermediate results saved to demo_results/sample_evaluation/agent_evaluation_results.csv\n"
          ]
        },
        {
          "name": "stderr",
          "output_type": "stream",
          "text": [
            "Evaluating samples: 28it [01:51,  3.91s/it]"
          ]
        },
        {
          "name": "stdout",
          "output_type": "stream",
          "text": [
            "2025-09-24 13:33:52 - INFO - google_genai.models - AFC is enabled with max remote calls: 10.\n",
            "2025-09-24 13:33:53 - INFO - google_genai.models - AFC remote call 1 is done.\n"
          ]
        },
        {
          "name": "stderr",
          "output_type": "stream",
          "text": [
            "2025-09-24 13:33:53 - noveum_trace.transport.http_transport - INFO - 📤 EXPORTING TRACE: auto_trace_generate (ID: 01317e02-1403-4301-9ba9-04edbccdc927) - 1 spans\n",
            "2025-09-24 13:33:53 - noveum_trace.transport.batch_processor - INFO - 📥 ADDING TRACE TO QUEUE: auto_trace_generate (ID: 01317e02-1403-4301-9ba9-04edbccdc927) - 1 spans\n",
            "2025-09-24 13:33:53 - noveum_trace.transport.batch_processor - INFO - ✅ Successfully queued trace 01317e02-1403-4301-9ba9-04edbccdc927\n",
            "2025-09-24 13:33:53 - noveum_trace.transport.http_transport - INFO - ✅ Trace 01317e02-1403-4301-9ba9-04edbccdc927 successfully queued for export\n"
          ]
        },
        {
          "name": "stdout",
          "output_type": "stream",
          "text": [
            "2025-09-24 13:33:53 - INFO - google_genai.models - AFC is enabled with max remote calls: 10.\n",
            "2025-09-24 13:33:54 - INFO - google_genai.models - AFC remote call 1 is done.\n"
          ]
        },
        {
          "name": "stderr",
          "output_type": "stream",
          "text": [
            "2025-09-24 13:33:54 - noveum_trace.transport.http_transport - INFO - 📤 EXPORTING TRACE: auto_trace_generate (ID: f2d8a077-77af-424f-98b8-c201333b7a39) - 1 spans\n",
            "2025-09-24 13:33:54 - noveum_trace.transport.batch_processor - INFO - 📥 ADDING TRACE TO QUEUE: auto_trace_generate (ID: f2d8a077-77af-424f-98b8-c201333b7a39) - 1 spans\n",
            "2025-09-24 13:33:54 - noveum_trace.transport.batch_processor - INFO - ✅ Successfully queued trace f2d8a077-77af-424f-98b8-c201333b7a39\n",
            "2025-09-24 13:33:54 - noveum_trace.transport.http_transport - INFO - ✅ Trace f2d8a077-77af-424f-98b8-c201333b7a39 successfully queued for export\n"
          ]
        },
        {
          "name": "stdout",
          "output_type": "stream",
          "text": [
            "2025-09-24 13:33:54 - INFO - google_genai.models - AFC is enabled with max remote calls: 10.\n",
            "2025-09-24 13:33:56 - INFO - google_genai.models - AFC remote call 1 is done.\n"
          ]
        },
        {
          "name": "stderr",
          "output_type": "stream",
          "text": [
            "2025-09-24 13:33:56 - noveum_trace.transport.http_transport - INFO - 📤 EXPORTING TRACE: auto_trace_generate (ID: 4414555c-d464-4be4-aae9-0a0ec8910140) - 1 spans\n",
            "2025-09-24 13:33:56 - noveum_trace.transport.batch_processor - INFO - 📥 ADDING TRACE TO QUEUE: auto_trace_generate (ID: 4414555c-d464-4be4-aae9-0a0ec8910140) - 1 spans\n",
            "2025-09-24 13:33:56 - noveum_trace.transport.batch_processor - INFO - ✅ Successfully queued trace 4414555c-d464-4be4-aae9-0a0ec8910140\n",
            "2025-09-24 13:33:56 - noveum_trace.transport.http_transport - INFO - ✅ Trace 4414555c-d464-4be4-aae9-0a0ec8910140 successfully queued for export\n"
          ]
        },
        {
          "name": "stdout",
          "output_type": "stream",
          "text": [
            "2025-09-24 13:33:56 - INFO - novaeval.evaluators.agent_evaluator - Saving intermediate results after 29 samples\n",
            "2025-09-24 13:33:56 - INFO - novaeval.evaluators.agent_evaluator - Intermediate results saved to demo_results/sample_evaluation/agent_evaluation_results.csv\n"
          ]
        },
        {
          "name": "stderr",
          "output_type": "stream",
          "text": [
            "Evaluating samples: 29it [01:55,  3.84s/it]"
          ]
        },
        {
          "name": "stdout",
          "output_type": "stream",
          "text": [
            "2025-09-24 13:33:56 - INFO - google_genai.models - AFC is enabled with max remote calls: 10.\n",
            "2025-09-24 13:33:57 - INFO - google_genai.models - AFC remote call 1 is done.\n"
          ]
        },
        {
          "name": "stderr",
          "output_type": "stream",
          "text": [
            "2025-09-24 13:33:57 - noveum_trace.transport.http_transport - INFO - 📤 EXPORTING TRACE: auto_trace_generate (ID: b97d68eb-9ebf-4998-9f74-fad90c3d3a07) - 1 spans\n",
            "2025-09-24 13:33:57 - noveum_trace.transport.batch_processor - INFO - 📥 ADDING TRACE TO QUEUE: auto_trace_generate (ID: b97d68eb-9ebf-4998-9f74-fad90c3d3a07) - 1 spans\n",
            "2025-09-24 13:33:57 - noveum_trace.transport.batch_processor - INFO - ✅ Successfully queued trace b97d68eb-9ebf-4998-9f74-fad90c3d3a07\n",
            "2025-09-24 13:33:57 - noveum_trace.transport.http_transport - INFO - ✅ Trace b97d68eb-9ebf-4998-9f74-fad90c3d3a07 successfully queued for export\n"
          ]
        },
        {
          "name": "stdout",
          "output_type": "stream",
          "text": [
            "2025-09-24 13:33:57 - INFO - google_genai.models - AFC is enabled with max remote calls: 10.\n",
            "2025-09-24 13:33:58 - INFO - google_genai.models - AFC remote call 1 is done.\n"
          ]
        },
        {
          "name": "stderr",
          "output_type": "stream",
          "text": [
            "2025-09-24 13:33:58 - noveum_trace.transport.http_transport - INFO - 📤 EXPORTING TRACE: auto_trace_generate (ID: 0b732114-6223-48ec-874f-5327459ab7c0) - 1 spans\n",
            "2025-09-24 13:33:58 - noveum_trace.transport.batch_processor - INFO - 📥 ADDING TRACE TO QUEUE: auto_trace_generate (ID: 0b732114-6223-48ec-874f-5327459ab7c0) - 1 spans\n",
            "2025-09-24 13:33:58 - noveum_trace.transport.batch_processor - INFO - ✅ Successfully queued trace 0b732114-6223-48ec-874f-5327459ab7c0\n",
            "2025-09-24 13:33:58 - noveum_trace.transport.http_transport - INFO - ✅ Trace 0b732114-6223-48ec-874f-5327459ab7c0 successfully queued for export\n"
          ]
        },
        {
          "name": "stdout",
          "output_type": "stream",
          "text": [
            "2025-09-24 13:33:58 - INFO - google_genai.models - AFC is enabled with max remote calls: 10.\n",
            "2025-09-24 13:33:59 - INFO - google_genai.models - AFC remote call 1 is done.\n"
          ]
        },
        {
          "name": "stderr",
          "output_type": "stream",
          "text": [
            "2025-09-24 13:33:59 - noveum_trace.transport.http_transport - INFO - 📤 EXPORTING TRACE: auto_trace_generate (ID: 42699572-96b7-4c9a-94f8-ed5025d34bd5) - 1 spans\n",
            "2025-09-24 13:33:59 - noveum_trace.transport.batch_processor - INFO - 📥 ADDING TRACE TO QUEUE: auto_trace_generate (ID: 42699572-96b7-4c9a-94f8-ed5025d34bd5) - 1 spans\n",
            "2025-09-24 13:33:59 - noveum_trace.transport.batch_processor - INFO - ✅ Successfully queued trace 42699572-96b7-4c9a-94f8-ed5025d34bd5\n",
            "2025-09-24 13:33:59 - noveum_trace.transport.http_transport - INFO - ✅ Trace 42699572-96b7-4c9a-94f8-ed5025d34bd5 successfully queued for export\n"
          ]
        },
        {
          "name": "stdout",
          "output_type": "stream",
          "text": [
            "2025-09-24 13:33:59 - INFO - novaeval.evaluators.agent_evaluator - Saving intermediate results after 30 samples\n",
            "2025-09-24 13:33:59 - INFO - novaeval.evaluators.agent_evaluator - Intermediate results saved to demo_results/sample_evaluation/agent_evaluation_results.csv\n"
          ]
        },
        {
          "name": "stderr",
          "output_type": "stream",
          "text": [
            "Evaluating samples: 30it [01:58,  3.83s/it]"
          ]
        },
        {
          "name": "stdout",
          "output_type": "stream",
          "text": [
            "2025-09-24 13:33:59 - INFO - google_genai.models - AFC is enabled with max remote calls: 10.\n",
            "2025-09-24 13:34:01 - INFO - google_genai.models - AFC remote call 1 is done.\n"
          ]
        },
        {
          "name": "stderr",
          "output_type": "stream",
          "text": [
            "2025-09-24 13:34:01 - noveum_trace.transport.http_transport - INFO - 📤 EXPORTING TRACE: auto_trace_generate (ID: 31be01d0-27dc-4c85-a5dc-d201ce9fc471) - 1 spans\n",
            "2025-09-24 13:34:01 - noveum_trace.transport.batch_processor - INFO - 📥 ADDING TRACE TO QUEUE: auto_trace_generate (ID: 31be01d0-27dc-4c85-a5dc-d201ce9fc471) - 1 spans\n",
            "2025-09-24 13:34:01 - noveum_trace.transport.batch_processor - INFO - ✅ Successfully queued trace 31be01d0-27dc-4c85-a5dc-d201ce9fc471\n",
            "2025-09-24 13:34:01 - noveum_trace.transport.http_transport - INFO - ✅ Trace 31be01d0-27dc-4c85-a5dc-d201ce9fc471 successfully queued for export\n"
          ]
        },
        {
          "name": "stdout",
          "output_type": "stream",
          "text": [
            "2025-09-24 13:34:01 - INFO - google_genai.models - AFC is enabled with max remote calls: 10.\n",
            "2025-09-24 13:34:02 - INFO - google_genai.models - AFC remote call 1 is done.\n"
          ]
        },
        {
          "name": "stderr",
          "output_type": "stream",
          "text": [
            "2025-09-24 13:34:02 - noveum_trace.transport.http_transport - INFO - 📤 EXPORTING TRACE: auto_trace_generate (ID: 1baf5270-178a-488a-be60-688f375dac95) - 1 spans\n",
            "2025-09-24 13:34:02 - noveum_trace.transport.batch_processor - INFO - 📥 ADDING TRACE TO QUEUE: auto_trace_generate (ID: 1baf5270-178a-488a-be60-688f375dac95) - 1 spans\n",
            "2025-09-24 13:34:02 - noveum_trace.transport.batch_processor - INFO - ✅ Successfully queued trace 1baf5270-178a-488a-be60-688f375dac95\n",
            "2025-09-24 13:34:02 - noveum_trace.transport.http_transport - INFO - ✅ Trace 1baf5270-178a-488a-be60-688f375dac95 successfully queued for export\n"
          ]
        },
        {
          "name": "stdout",
          "output_type": "stream",
          "text": [
            "2025-09-24 13:34:02 - INFO - google_genai.models - AFC is enabled with max remote calls: 10.\n",
            "2025-09-24 13:34:03 - INFO - google_genai.models - AFC remote call 1 is done.\n"
          ]
        },
        {
          "name": "stderr",
          "output_type": "stream",
          "text": [
            "2025-09-24 13:34:03 - noveum_trace.transport.http_transport - INFO - 📤 EXPORTING TRACE: auto_trace_generate (ID: 7a3c372c-f028-4292-b0f8-b52969638567) - 1 spans\n",
            "2025-09-24 13:34:03 - noveum_trace.transport.batch_processor - INFO - 📥 ADDING TRACE TO QUEUE: auto_trace_generate (ID: 7a3c372c-f028-4292-b0f8-b52969638567) - 1 spans\n",
            "2025-09-24 13:34:03 - noveum_trace.transport.batch_processor - INFO - ✅ Successfully queued trace 7a3c372c-f028-4292-b0f8-b52969638567\n",
            "2025-09-24 13:34:03 - noveum_trace.transport.http_transport - INFO - ✅ Trace 7a3c372c-f028-4292-b0f8-b52969638567 successfully queued for export\n"
          ]
        },
        {
          "name": "stdout",
          "output_type": "stream",
          "text": [
            "2025-09-24 13:34:03 - INFO - novaeval.evaluators.agent_evaluator - Saving intermediate results after 31 samples\n",
            "2025-09-24 13:34:03 - INFO - novaeval.evaluators.agent_evaluator - Intermediate results saved to demo_results/sample_evaluation/agent_evaluation_results.csv\n"
          ]
        },
        {
          "name": "stderr",
          "output_type": "stream",
          "text": [
            "Evaluating samples: 31it [02:02,  3.81s/it]"
          ]
        },
        {
          "name": "stdout",
          "output_type": "stream",
          "text": [
            "2025-09-24 13:34:03 - INFO - google_genai.models - AFC is enabled with max remote calls: 10.\n",
            "2025-09-24 13:34:04 - INFO - google_genai.models - AFC remote call 1 is done.\n"
          ]
        },
        {
          "name": "stderr",
          "output_type": "stream",
          "text": [
            "2025-09-24 13:34:04 - noveum_trace.transport.http_transport - INFO - 📤 EXPORTING TRACE: auto_trace_generate (ID: 8376ff58-8d50-4c22-91bb-cbdad6522070) - 1 spans\n",
            "2025-09-24 13:34:04 - noveum_trace.transport.batch_processor - INFO - 📥 ADDING TRACE TO QUEUE: auto_trace_generate (ID: 8376ff58-8d50-4c22-91bb-cbdad6522070) - 1 spans\n",
            "2025-09-24 13:34:04 - noveum_trace.transport.batch_processor - INFO - ✅ Successfully queued trace 8376ff58-8d50-4c22-91bb-cbdad6522070\n",
            "2025-09-24 13:34:04 - noveum_trace.transport.http_transport - INFO - ✅ Trace 8376ff58-8d50-4c22-91bb-cbdad6522070 successfully queued for export\n"
          ]
        },
        {
          "name": "stdout",
          "output_type": "stream",
          "text": [
            "2025-09-24 13:34:04 - INFO - google_genai.models - AFC is enabled with max remote calls: 10.\n",
            "2025-09-24 13:34:06 - INFO - google_genai.models - AFC remote call 1 is done.\n"
          ]
        },
        {
          "name": "stderr",
          "output_type": "stream",
          "text": [
            "2025-09-24 13:34:06 - noveum_trace.transport.http_transport - INFO - 📤 EXPORTING TRACE: auto_trace_generate (ID: 945121c3-0d95-447f-b829-a29319265f59) - 1 spans\n",
            "2025-09-24 13:34:06 - noveum_trace.transport.batch_processor - INFO - 📥 ADDING TRACE TO QUEUE: auto_trace_generate (ID: 945121c3-0d95-447f-b829-a29319265f59) - 1 spans\n",
            "2025-09-24 13:34:06 - noveum_trace.transport.batch_processor - INFO - ✅ Successfully queued trace 945121c3-0d95-447f-b829-a29319265f59\n",
            "2025-09-24 13:34:06 - noveum_trace.transport.http_transport - INFO - ✅ Trace 945121c3-0d95-447f-b829-a29319265f59 successfully queued for export\n"
          ]
        },
        {
          "name": "stdout",
          "output_type": "stream",
          "text": [
            "2025-09-24 13:34:06 - INFO - google_genai.models - AFC is enabled with max remote calls: 10.\n",
            "2025-09-24 13:34:07 - INFO - google_genai.models - AFC remote call 1 is done.\n"
          ]
        },
        {
          "name": "stderr",
          "output_type": "stream",
          "text": [
            "2025-09-24 13:34:07 - noveum_trace.transport.http_transport - INFO - 📤 EXPORTING TRACE: auto_trace_generate (ID: 72755c50-40d3-4b22-8f42-dc9846d266c9) - 1 spans\n",
            "2025-09-24 13:34:07 - noveum_trace.transport.batch_processor - INFO - 📥 ADDING TRACE TO QUEUE: auto_trace_generate (ID: 72755c50-40d3-4b22-8f42-dc9846d266c9) - 1 spans\n",
            "2025-09-24 13:34:07 - noveum_trace.transport.batch_processor - INFO - ✅ Successfully queued trace 72755c50-40d3-4b22-8f42-dc9846d266c9\n",
            "2025-09-24 13:34:07 - noveum_trace.transport.http_transport - INFO - ✅ Trace 72755c50-40d3-4b22-8f42-dc9846d266c9 successfully queued for export\n"
          ]
        },
        {
          "name": "stdout",
          "output_type": "stream",
          "text": [
            "2025-09-24 13:34:07 - INFO - novaeval.evaluators.agent_evaluator - Saving intermediate results after 32 samples\n",
            "2025-09-24 13:34:07 - INFO - novaeval.evaluators.agent_evaluator - Intermediate results saved to demo_results/sample_evaluation/agent_evaluation_results.csv\n"
          ]
        },
        {
          "name": "stderr",
          "output_type": "stream",
          "text": [
            "Evaluating samples: 32it [02:06,  3.74s/it]"
          ]
        },
        {
          "name": "stdout",
          "output_type": "stream",
          "text": [
            "2025-09-24 13:34:07 - INFO - google_genai.models - AFC is enabled with max remote calls: 10.\n",
            "2025-09-24 13:34:08 - INFO - google_genai.models - AFC remote call 1 is done.\n"
          ]
        },
        {
          "name": "stderr",
          "output_type": "stream",
          "text": [
            "2025-09-24 13:34:08 - noveum_trace.transport.http_transport - INFO - 📤 EXPORTING TRACE: auto_trace_generate (ID: bc48eb48-d62f-4727-a6ee-804f825a2320) - 1 spans\n",
            "2025-09-24 13:34:08 - noveum_trace.transport.batch_processor - INFO - 📥 ADDING TRACE TO QUEUE: auto_trace_generate (ID: bc48eb48-d62f-4727-a6ee-804f825a2320) - 1 spans\n",
            "2025-09-24 13:34:08 - noveum_trace.transport.batch_processor - INFO - ✅ Successfully queued trace bc48eb48-d62f-4727-a6ee-804f825a2320\n",
            "2025-09-24 13:34:08 - noveum_trace.transport.http_transport - INFO - ✅ Trace bc48eb48-d62f-4727-a6ee-804f825a2320 successfully queued for export\n"
          ]
        },
        {
          "name": "stdout",
          "output_type": "stream",
          "text": [
            "2025-09-24 13:34:08 - INFO - google_genai.models - AFC is enabled with max remote calls: 10.\n",
            "2025-09-24 13:34:09 - INFO - google_genai.models - AFC remote call 1 is done.\n"
          ]
        },
        {
          "name": "stderr",
          "output_type": "stream",
          "text": [
            "2025-09-24 13:34:09 - noveum_trace.transport.http_transport - INFO - 📤 EXPORTING TRACE: auto_trace_generate (ID: 566fa2ad-b5ee-42b0-addd-2792546d68e6) - 1 spans\n",
            "2025-09-24 13:34:09 - noveum_trace.transport.batch_processor - INFO - 📥 ADDING TRACE TO QUEUE: auto_trace_generate (ID: 566fa2ad-b5ee-42b0-addd-2792546d68e6) - 1 spans\n",
            "2025-09-24 13:34:09 - noveum_trace.transport.batch_processor - INFO - ✅ Successfully queued trace 566fa2ad-b5ee-42b0-addd-2792546d68e6\n",
            "2025-09-24 13:34:09 - noveum_trace.transport.http_transport - INFO - ✅ Trace 566fa2ad-b5ee-42b0-addd-2792546d68e6 successfully queued for export\n"
          ]
        },
        {
          "name": "stdout",
          "output_type": "stream",
          "text": [
            "2025-09-24 13:34:09 - INFO - google_genai.models - AFC is enabled with max remote calls: 10.\n",
            "2025-09-24 13:34:10 - INFO - google_genai.models - AFC remote call 1 is done.\n"
          ]
        },
        {
          "name": "stderr",
          "output_type": "stream",
          "text": [
            "2025-09-24 13:34:10 - noveum_trace.transport.http_transport - INFO - 📤 EXPORTING TRACE: auto_trace_generate (ID: e9fc22d9-70f0-4bc7-8aa3-324d4c31ef21) - 1 spans\n",
            "2025-09-24 13:34:10 - noveum_trace.transport.batch_processor - INFO - 📥 ADDING TRACE TO QUEUE: auto_trace_generate (ID: e9fc22d9-70f0-4bc7-8aa3-324d4c31ef21) - 1 spans\n",
            "2025-09-24 13:34:10 - noveum_trace.transport.batch_processor - INFO - ✅ Successfully queued trace e9fc22d9-70f0-4bc7-8aa3-324d4c31ef21\n",
            "2025-09-24 13:34:10 - noveum_trace.transport.http_transport - INFO - ✅ Trace e9fc22d9-70f0-4bc7-8aa3-324d4c31ef21 successfully queued for export\n"
          ]
        },
        {
          "name": "stdout",
          "output_type": "stream",
          "text": [
            "2025-09-24 13:34:10 - INFO - novaeval.evaluators.agent_evaluator - Saving intermediate results after 33 samples\n",
            "2025-09-24 13:34:10 - INFO - novaeval.evaluators.agent_evaluator - Intermediate results saved to demo_results/sample_evaluation/agent_evaluation_results.csv\n"
          ]
        },
        {
          "name": "stderr",
          "output_type": "stream",
          "text": [
            "Evaluating samples: 33it [02:09,  3.70s/it]"
          ]
        },
        {
          "name": "stdout",
          "output_type": "stream",
          "text": [
            "2025-09-24 13:34:10 - INFO - google_genai.models - AFC is enabled with max remote calls: 10.\n",
            "2025-09-24 13:34:12 - INFO - google_genai.models - AFC remote call 1 is done.\n"
          ]
        },
        {
          "name": "stderr",
          "output_type": "stream",
          "text": [
            "2025-09-24 13:34:12 - noveum_trace.transport.http_transport - INFO - 📤 EXPORTING TRACE: auto_trace_generate (ID: f1fdabb8-a760-42bf-b398-d681aaa0f408) - 1 spans\n",
            "2025-09-24 13:34:12 - noveum_trace.transport.batch_processor - INFO - 📥 ADDING TRACE TO QUEUE: auto_trace_generate (ID: f1fdabb8-a760-42bf-b398-d681aaa0f408) - 1 spans\n",
            "2025-09-24 13:34:12 - noveum_trace.transport.batch_processor - INFO - ✅ Successfully queued trace f1fdabb8-a760-42bf-b398-d681aaa0f408\n",
            "2025-09-24 13:34:12 - noveum_trace.transport.http_transport - INFO - ✅ Trace f1fdabb8-a760-42bf-b398-d681aaa0f408 successfully queued for export\n"
          ]
        },
        {
          "name": "stdout",
          "output_type": "stream",
          "text": [
            "2025-09-24 13:34:12 - INFO - google_genai.models - AFC is enabled with max remote calls: 10.\n",
            "2025-09-24 13:34:13 - INFO - google_genai.models - AFC remote call 1 is done.\n"
          ]
        },
        {
          "name": "stderr",
          "output_type": "stream",
          "text": [
            "2025-09-24 13:34:13 - noveum_trace.transport.http_transport - INFO - 📤 EXPORTING TRACE: auto_trace_generate (ID: 6999a7c5-329f-4e41-9237-774433c0f052) - 1 spans\n",
            "2025-09-24 13:34:13 - noveum_trace.transport.batch_processor - INFO - 📥 ADDING TRACE TO QUEUE: auto_trace_generate (ID: 6999a7c5-329f-4e41-9237-774433c0f052) - 1 spans\n",
            "2025-09-24 13:34:13 - noveum_trace.transport.batch_processor - INFO - ✅ Successfully queued trace 6999a7c5-329f-4e41-9237-774433c0f052\n",
            "2025-09-24 13:34:13 - noveum_trace.transport.http_transport - INFO - ✅ Trace 6999a7c5-329f-4e41-9237-774433c0f052 successfully queued for export\n"
          ]
        },
        {
          "name": "stdout",
          "output_type": "stream",
          "text": [
            "2025-09-24 13:34:13 - INFO - google_genai.models - AFC is enabled with max remote calls: 10.\n",
            "2025-09-24 13:34:14 - INFO - google_genai.models - AFC remote call 1 is done.\n"
          ]
        },
        {
          "name": "stderr",
          "output_type": "stream",
          "text": [
            "2025-09-24 13:34:14 - noveum_trace.transport.http_transport - INFO - 📤 EXPORTING TRACE: auto_trace_generate (ID: c2610004-57ea-45c6-b128-11a2c216f576) - 1 spans\n",
            "2025-09-24 13:34:14 - noveum_trace.transport.batch_processor - INFO - 📥 ADDING TRACE TO QUEUE: auto_trace_generate (ID: c2610004-57ea-45c6-b128-11a2c216f576) - 1 spans\n",
            "2025-09-24 13:34:14 - noveum_trace.transport.batch_processor - INFO - ✅ Successfully queued trace c2610004-57ea-45c6-b128-11a2c216f576\n",
            "2025-09-24 13:34:14 - noveum_trace.transport.http_transport - INFO - ✅ Trace c2610004-57ea-45c6-b128-11a2c216f576 successfully queued for export\n"
          ]
        },
        {
          "name": "stdout",
          "output_type": "stream",
          "text": [
            "2025-09-24 13:34:14 - INFO - novaeval.evaluators.agent_evaluator - Saving intermediate results after 34 samples\n",
            "2025-09-24 13:34:14 - INFO - novaeval.evaluators.agent_evaluator - Intermediate results saved to demo_results/sample_evaluation/agent_evaluation_results.csv\n"
          ]
        },
        {
          "name": "stderr",
          "output_type": "stream",
          "text": [
            "Evaluating samples: 34it [02:13,  3.66s/it]"
          ]
        },
        {
          "name": "stdout",
          "output_type": "stream",
          "text": [
            "2025-09-24 13:34:14 - INFO - google_genai.models - AFC is enabled with max remote calls: 10.\n",
            "2025-09-24 13:34:15 - INFO - google_genai.models - AFC remote call 1 is done.\n"
          ]
        },
        {
          "name": "stderr",
          "output_type": "stream",
          "text": [
            "2025-09-24 13:34:15 - noveum_trace.transport.http_transport - INFO - 📤 EXPORTING TRACE: auto_trace_generate (ID: 023e32b6-28d6-4d52-83d1-1e72c365ac11) - 1 spans\n",
            "2025-09-24 13:34:15 - noveum_trace.transport.batch_processor - INFO - 📥 ADDING TRACE TO QUEUE: auto_trace_generate (ID: 023e32b6-28d6-4d52-83d1-1e72c365ac11) - 1 spans\n",
            "2025-09-24 13:34:15 - noveum_trace.transport.batch_processor - INFO - ✅ Successfully queued trace 023e32b6-28d6-4d52-83d1-1e72c365ac11\n",
            "2025-09-24 13:34:15 - noveum_trace.transport.http_transport - INFO - ✅ Trace 023e32b6-28d6-4d52-83d1-1e72c365ac11 successfully queued for export\n"
          ]
        },
        {
          "name": "stdout",
          "output_type": "stream",
          "text": [
            "2025-09-24 13:34:15 - INFO - google_genai.models - AFC is enabled with max remote calls: 10.\n",
            "2025-09-24 13:34:16 - INFO - google_genai.models - AFC remote call 1 is done.\n"
          ]
        },
        {
          "name": "stderr",
          "output_type": "stream",
          "text": [
            "2025-09-24 13:34:16 - noveum_trace.transport.http_transport - INFO - 📤 EXPORTING TRACE: auto_trace_generate (ID: 2938ee6a-aef6-49a1-a11a-5cfbd7babc90) - 1 spans\n",
            "2025-09-24 13:34:16 - noveum_trace.transport.batch_processor - INFO - 📥 ADDING TRACE TO QUEUE: auto_trace_generate (ID: 2938ee6a-aef6-49a1-a11a-5cfbd7babc90) - 1 spans\n",
            "2025-09-24 13:34:16 - noveum_trace.transport.batch_processor - INFO - ✅ Successfully queued trace 2938ee6a-aef6-49a1-a11a-5cfbd7babc90\n",
            "2025-09-24 13:34:16 - noveum_trace.transport.http_transport - INFO - ✅ Trace 2938ee6a-aef6-49a1-a11a-5cfbd7babc90 successfully queued for export\n"
          ]
        },
        {
          "name": "stdout",
          "output_type": "stream",
          "text": [
            "2025-09-24 13:34:16 - INFO - google_genai.models - AFC is enabled with max remote calls: 10.\n",
            "2025-09-24 13:34:17 - INFO - google_genai.models - AFC remote call 1 is done.\n"
          ]
        },
        {
          "name": "stderr",
          "output_type": "stream",
          "text": [
            "2025-09-24 13:34:17 - noveum_trace.transport.http_transport - INFO - 📤 EXPORTING TRACE: auto_trace_generate (ID: 98c5e4eb-5c80-4f97-a964-aad95a68ed6b) - 1 spans\n",
            "2025-09-24 13:34:17 - noveum_trace.transport.batch_processor - INFO - 📥 ADDING TRACE TO QUEUE: auto_trace_generate (ID: 98c5e4eb-5c80-4f97-a964-aad95a68ed6b) - 1 spans\n",
            "2025-09-24 13:34:17 - noveum_trace.transport.batch_processor - INFO - ✅ Successfully queued trace 98c5e4eb-5c80-4f97-a964-aad95a68ed6b\n",
            "2025-09-24 13:34:17 - noveum_trace.transport.http_transport - INFO - ✅ Trace 98c5e4eb-5c80-4f97-a964-aad95a68ed6b successfully queued for export\n"
          ]
        },
        {
          "name": "stdout",
          "output_type": "stream",
          "text": [
            "2025-09-24 13:34:17 - INFO - novaeval.evaluators.agent_evaluator - Saving intermediate results after 35 samples\n",
            "2025-09-24 13:34:17 - INFO - novaeval.evaluators.agent_evaluator - Intermediate results saved to demo_results/sample_evaluation/agent_evaluation_results.csv\n"
          ]
        },
        {
          "name": "stderr",
          "output_type": "stream",
          "text": [
            "Evaluating samples: 35it [02:16,  3.52s/it]"
          ]
        },
        {
          "name": "stdout",
          "output_type": "stream",
          "text": [
            "2025-09-24 13:34:17 - INFO - google_genai.models - AFC is enabled with max remote calls: 10.\n",
            "2025-09-24 13:34:18 - INFO - google_genai.models - AFC remote call 1 is done.\n"
          ]
        },
        {
          "name": "stderr",
          "output_type": "stream",
          "text": [
            "2025-09-24 13:34:18 - noveum_trace.transport.http_transport - INFO - 📤 EXPORTING TRACE: auto_trace_generate (ID: 8070096d-f9ba-40c8-aa5f-1fbcfc748317) - 1 spans\n",
            "2025-09-24 13:34:18 - noveum_trace.transport.batch_processor - INFO - 📥 ADDING TRACE TO QUEUE: auto_trace_generate (ID: 8070096d-f9ba-40c8-aa5f-1fbcfc748317) - 1 spans\n",
            "2025-09-24 13:34:18 - noveum_trace.transport.batch_processor - INFO - ✅ Successfully queued trace 8070096d-f9ba-40c8-aa5f-1fbcfc748317\n",
            "2025-09-24 13:34:18 - noveum_trace.transport.http_transport - INFO - ✅ Trace 8070096d-f9ba-40c8-aa5f-1fbcfc748317 successfully queued for export\n"
          ]
        },
        {
          "name": "stdout",
          "output_type": "stream",
          "text": [
            "2025-09-24 13:34:18 - INFO - google_genai.models - AFC is enabled with max remote calls: 10.\n",
            "2025-09-24 13:34:19 - INFO - google_genai.models - AFC remote call 1 is done.\n"
          ]
        },
        {
          "name": "stderr",
          "output_type": "stream",
          "text": [
            "2025-09-24 13:34:19 - noveum_trace.transport.http_transport - INFO - 📤 EXPORTING TRACE: auto_trace_generate (ID: e7b75ce9-6f0d-4617-9138-d8a90fbe034c) - 1 spans\n",
            "2025-09-24 13:34:19 - noveum_trace.transport.batch_processor - INFO - 📥 ADDING TRACE TO QUEUE: auto_trace_generate (ID: e7b75ce9-6f0d-4617-9138-d8a90fbe034c) - 1 spans\n",
            "2025-09-24 13:34:19 - noveum_trace.transport.batch_processor - INFO - ✅ Successfully queued trace e7b75ce9-6f0d-4617-9138-d8a90fbe034c\n",
            "2025-09-24 13:34:19 - noveum_trace.transport.http_transport - INFO - ✅ Trace e7b75ce9-6f0d-4617-9138-d8a90fbe034c successfully queued for export\n"
          ]
        },
        {
          "name": "stdout",
          "output_type": "stream",
          "text": [
            "2025-09-24 13:34:19 - INFO - google_genai.models - AFC is enabled with max remote calls: 10.\n",
            "2025-09-24 13:34:20 - INFO - google_genai.models - AFC remote call 1 is done.\n"
          ]
        },
        {
          "name": "stderr",
          "output_type": "stream",
          "text": [
            "2025-09-24 13:34:20 - noveum_trace.transport.http_transport - INFO - 📤 EXPORTING TRACE: auto_trace_generate (ID: 6710a5cb-f792-4cc7-bb7c-a1d19bcd7d8d) - 1 spans\n",
            "2025-09-24 13:34:20 - noveum_trace.transport.batch_processor - INFO - 📥 ADDING TRACE TO QUEUE: auto_trace_generate (ID: 6710a5cb-f792-4cc7-bb7c-a1d19bcd7d8d) - 1 spans\n",
            "2025-09-24 13:34:20 - noveum_trace.transport.batch_processor - INFO - ✅ Successfully queued trace 6710a5cb-f792-4cc7-bb7c-a1d19bcd7d8d\n",
            "2025-09-24 13:34:20 - noveum_trace.transport.http_transport - INFO - ✅ Trace 6710a5cb-f792-4cc7-bb7c-a1d19bcd7d8d successfully queued for export\n"
          ]
        },
        {
          "name": "stdout",
          "output_type": "stream",
          "text": [
            "2025-09-24 13:34:20 - INFO - novaeval.evaluators.agent_evaluator - Saving intermediate results after 36 samples\n",
            "2025-09-24 13:34:20 - INFO - novaeval.evaluators.agent_evaluator - Intermediate results saved to demo_results/sample_evaluation/agent_evaluation_results.csv\n"
          ]
        },
        {
          "name": "stderr",
          "output_type": "stream",
          "text": [
            "Evaluating samples: 36it [02:19,  3.39s/it]"
          ]
        },
        {
          "name": "stdout",
          "output_type": "stream",
          "text": [
            "2025-09-24 13:34:20 - INFO - google_genai.models - AFC is enabled with max remote calls: 10.\n",
            "2025-09-24 13:34:21 - INFO - google_genai.models - AFC remote call 1 is done.\n"
          ]
        },
        {
          "name": "stderr",
          "output_type": "stream",
          "text": [
            "2025-09-24 13:34:21 - noveum_trace.transport.http_transport - INFO - 📤 EXPORTING TRACE: auto_trace_generate (ID: c55528a5-8814-48a6-b1a9-9c07a87be08e) - 1 spans\n",
            "2025-09-24 13:34:21 - noveum_trace.transport.batch_processor - INFO - 📥 ADDING TRACE TO QUEUE: auto_trace_generate (ID: c55528a5-8814-48a6-b1a9-9c07a87be08e) - 1 spans\n",
            "2025-09-24 13:34:21 - noveum_trace.transport.batch_processor - INFO - ✅ Successfully queued trace c55528a5-8814-48a6-b1a9-9c07a87be08e\n",
            "2025-09-24 13:34:21 - noveum_trace.transport.http_transport - INFO - ✅ Trace c55528a5-8814-48a6-b1a9-9c07a87be08e successfully queued for export\n"
          ]
        },
        {
          "name": "stdout",
          "output_type": "stream",
          "text": [
            "2025-09-24 13:34:21 - INFO - google_genai.models - AFC is enabled with max remote calls: 10.\n",
            "2025-09-24 13:34:22 - INFO - google_genai.models - AFC remote call 1 is done.\n"
          ]
        },
        {
          "name": "stderr",
          "output_type": "stream",
          "text": [
            "2025-09-24 13:34:22 - noveum_trace.transport.http_transport - INFO - 📤 EXPORTING TRACE: auto_trace_generate (ID: 5f64e98b-6be4-4d6c-9677-d0c3e780d754) - 1 spans\n",
            "2025-09-24 13:34:22 - noveum_trace.transport.batch_processor - INFO - 📥 ADDING TRACE TO QUEUE: auto_trace_generate (ID: 5f64e98b-6be4-4d6c-9677-d0c3e780d754) - 1 spans\n",
            "2025-09-24 13:34:22 - noveum_trace.transport.batch_processor - INFO - ✅ Successfully queued trace 5f64e98b-6be4-4d6c-9677-d0c3e780d754\n",
            "2025-09-24 13:34:22 - noveum_trace.transport.http_transport - INFO - ✅ Trace 5f64e98b-6be4-4d6c-9677-d0c3e780d754 successfully queued for export\n"
          ]
        },
        {
          "name": "stdout",
          "output_type": "stream",
          "text": [
            "2025-09-24 13:34:22 - INFO - google_genai.models - AFC is enabled with max remote calls: 10.\n",
            "2025-09-24 13:34:23 - INFO - google_genai.models - AFC remote call 1 is done.\n"
          ]
        },
        {
          "name": "stderr",
          "output_type": "stream",
          "text": [
            "2025-09-24 13:34:23 - noveum_trace.transport.http_transport - INFO - 📤 EXPORTING TRACE: auto_trace_generate (ID: 2b43d2df-266c-4ef9-b137-b57fe15737fa) - 1 spans\n",
            "2025-09-24 13:34:23 - noveum_trace.transport.batch_processor - INFO - 📥 ADDING TRACE TO QUEUE: auto_trace_generate (ID: 2b43d2df-266c-4ef9-b137-b57fe15737fa) - 1 spans\n",
            "2025-09-24 13:34:24 - noveum_trace.transport.batch_processor - INFO - ✅ Successfully queued trace 2b43d2df-266c-4ef9-b137-b57fe15737fa\n",
            "2025-09-24 13:34:24 - noveum_trace.transport.http_transport - INFO - ✅ Trace 2b43d2df-266c-4ef9-b137-b57fe15737fa successfully queued for export\n"
          ]
        },
        {
          "name": "stdout",
          "output_type": "stream",
          "text": [
            "2025-09-24 13:34:24 - INFO - novaeval.evaluators.agent_evaluator - Saving intermediate results after 37 samples\n",
            "2025-09-24 13:34:24 - INFO - novaeval.evaluators.agent_evaluator - Intermediate results saved to demo_results/sample_evaluation/agent_evaluation_results.csv\n"
          ]
        },
        {
          "name": "stderr",
          "output_type": "stream",
          "text": [
            "Evaluating samples: 37it [02:23,  3.38s/it]"
          ]
        },
        {
          "name": "stdout",
          "output_type": "stream",
          "text": [
            "2025-09-24 13:34:24 - INFO - google_genai.models - AFC is enabled with max remote calls: 10.\n",
            "2025-09-24 13:34:25 - INFO - google_genai.models - AFC remote call 1 is done.\n"
          ]
        },
        {
          "name": "stderr",
          "output_type": "stream",
          "text": [
            "2025-09-24 13:34:25 - noveum_trace.transport.http_transport - INFO - 📤 EXPORTING TRACE: auto_trace_generate (ID: 7260f0f7-da25-4e8a-b9da-5a537ebda2bf) - 1 spans\n",
            "2025-09-24 13:34:25 - noveum_trace.transport.batch_processor - INFO - 📥 ADDING TRACE TO QUEUE: auto_trace_generate (ID: 7260f0f7-da25-4e8a-b9da-5a537ebda2bf) - 1 spans\n",
            "2025-09-24 13:34:25 - noveum_trace.transport.batch_processor - INFO - ✅ Successfully queued trace 7260f0f7-da25-4e8a-b9da-5a537ebda2bf\n",
            "2025-09-24 13:34:25 - noveum_trace.transport.http_transport - INFO - ✅ Trace 7260f0f7-da25-4e8a-b9da-5a537ebda2bf successfully queued for export\n"
          ]
        },
        {
          "name": "stdout",
          "output_type": "stream",
          "text": [
            "2025-09-24 13:34:25 - INFO - google_genai.models - AFC is enabled with max remote calls: 10.\n",
            "2025-09-24 13:34:26 - INFO - google_genai.models - AFC remote call 1 is done.\n"
          ]
        },
        {
          "name": "stderr",
          "output_type": "stream",
          "text": [
            "2025-09-24 13:34:26 - noveum_trace.transport.http_transport - INFO - 📤 EXPORTING TRACE: auto_trace_generate (ID: af9231ec-aa29-49bd-a34d-7e8e80413e01) - 1 spans\n",
            "2025-09-24 13:34:26 - noveum_trace.transport.batch_processor - INFO - 📥 ADDING TRACE TO QUEUE: auto_trace_generate (ID: af9231ec-aa29-49bd-a34d-7e8e80413e01) - 1 spans\n",
            "2025-09-24 13:34:26 - noveum_trace.transport.batch_processor - INFO - ✅ Successfully queued trace af9231ec-aa29-49bd-a34d-7e8e80413e01\n",
            "2025-09-24 13:34:26 - noveum_trace.transport.http_transport - INFO - ✅ Trace af9231ec-aa29-49bd-a34d-7e8e80413e01 successfully queued for export\n"
          ]
        },
        {
          "name": "stdout",
          "output_type": "stream",
          "text": [
            "2025-09-24 13:34:26 - INFO - google_genai.models - AFC is enabled with max remote calls: 10.\n",
            "2025-09-24 13:34:27 - INFO - google_genai.models - AFC remote call 1 is done.\n"
          ]
        },
        {
          "name": "stderr",
          "output_type": "stream",
          "text": [
            "2025-09-24 13:34:27 - noveum_trace.transport.http_transport - INFO - 📤 EXPORTING TRACE: auto_trace_generate (ID: 0dc6f88d-a133-4ea1-b086-b9d4bf4679d1) - 1 spans\n",
            "2025-09-24 13:34:27 - noveum_trace.transport.batch_processor - INFO - 📥 ADDING TRACE TO QUEUE: auto_trace_generate (ID: 0dc6f88d-a133-4ea1-b086-b9d4bf4679d1) - 1 spans\n",
            "2025-09-24 13:34:27 - noveum_trace.transport.batch_processor - INFO - ✅ Successfully queued trace 0dc6f88d-a133-4ea1-b086-b9d4bf4679d1\n",
            "2025-09-24 13:34:27 - noveum_trace.transport.http_transport - INFO - ✅ Trace 0dc6f88d-a133-4ea1-b086-b9d4bf4679d1 successfully queued for export\n"
          ]
        },
        {
          "name": "stdout",
          "output_type": "stream",
          "text": [
            "2025-09-24 13:34:27 - INFO - novaeval.evaluators.agent_evaluator - Saving intermediate results after 38 samples\n",
            "2025-09-24 13:34:27 - INFO - novaeval.evaluators.agent_evaluator - Intermediate results saved to demo_results/sample_evaluation/agent_evaluation_results.csv\n"
          ]
        },
        {
          "name": "stderr",
          "output_type": "stream",
          "text": [
            "Evaluating samples: 38it [02:26,  3.46s/it]"
          ]
        },
        {
          "name": "stdout",
          "output_type": "stream",
          "text": [
            "2025-09-24 13:34:27 - INFO - google_genai.models - AFC is enabled with max remote calls: 10.\n",
            "2025-09-24 13:34:28 - INFO - google_genai.models - AFC remote call 1 is done.\n"
          ]
        },
        {
          "name": "stderr",
          "output_type": "stream",
          "text": [
            "2025-09-24 13:34:28 - noveum_trace.transport.http_transport - INFO - 📤 EXPORTING TRACE: auto_trace_generate (ID: 597229a2-1135-4b91-ab8e-212560ceba94) - 1 spans\n",
            "2025-09-24 13:34:28 - noveum_trace.transport.batch_processor - INFO - 📥 ADDING TRACE TO QUEUE: auto_trace_generate (ID: 597229a2-1135-4b91-ab8e-212560ceba94) - 1 spans\n",
            "2025-09-24 13:34:28 - noveum_trace.transport.batch_processor - INFO - ✅ Successfully queued trace 597229a2-1135-4b91-ab8e-212560ceba94\n",
            "2025-09-24 13:34:28 - noveum_trace.transport.http_transport - INFO - ✅ Trace 597229a2-1135-4b91-ab8e-212560ceba94 successfully queued for export\n"
          ]
        },
        {
          "name": "stdout",
          "output_type": "stream",
          "text": [
            "2025-09-24 13:34:28 - INFO - google_genai.models - AFC is enabled with max remote calls: 10.\n",
            "2025-09-24 13:34:30 - INFO - google_genai.models - AFC remote call 1 is done.\n"
          ]
        },
        {
          "name": "stderr",
          "output_type": "stream",
          "text": [
            "2025-09-24 13:34:30 - noveum_trace.transport.http_transport - INFO - 📤 EXPORTING TRACE: auto_trace_generate (ID: 9ba7e6d6-b7a8-4078-acc3-6cbe50552617) - 1 spans\n",
            "2025-09-24 13:34:30 - noveum_trace.transport.batch_processor - INFO - 📥 ADDING TRACE TO QUEUE: auto_trace_generate (ID: 9ba7e6d6-b7a8-4078-acc3-6cbe50552617) - 1 spans\n",
            "2025-09-24 13:34:30 - noveum_trace.transport.batch_processor - INFO - ✅ Successfully queued trace 9ba7e6d6-b7a8-4078-acc3-6cbe50552617\n",
            "2025-09-24 13:34:30 - noveum_trace.transport.http_transport - INFO - ✅ Trace 9ba7e6d6-b7a8-4078-acc3-6cbe50552617 successfully queued for export\n"
          ]
        },
        {
          "name": "stdout",
          "output_type": "stream",
          "text": [
            "2025-09-24 13:34:30 - INFO - google_genai.models - AFC is enabled with max remote calls: 10.\n",
            "2025-09-24 13:34:31 - INFO - google_genai.models - AFC remote call 1 is done.\n"
          ]
        },
        {
          "name": "stderr",
          "output_type": "stream",
          "text": [
            "2025-09-24 13:34:31 - noveum_trace.transport.http_transport - INFO - 📤 EXPORTING TRACE: auto_trace_generate (ID: e38415cd-e4f2-4e3a-8e6f-fe653f130d6f) - 1 spans\n",
            "2025-09-24 13:34:31 - noveum_trace.transport.batch_processor - INFO - 📥 ADDING TRACE TO QUEUE: auto_trace_generate (ID: e38415cd-e4f2-4e3a-8e6f-fe653f130d6f) - 1 spans\n",
            "2025-09-24 13:34:31 - noveum_trace.transport.batch_processor - INFO - ✅ Successfully queued trace e38415cd-e4f2-4e3a-8e6f-fe653f130d6f\n",
            "2025-09-24 13:34:31 - noveum_trace.transport.http_transport - INFO - ✅ Trace e38415cd-e4f2-4e3a-8e6f-fe653f130d6f successfully queued for export\n"
          ]
        },
        {
          "name": "stdout",
          "output_type": "stream",
          "text": [
            "2025-09-24 13:34:31 - INFO - novaeval.evaluators.agent_evaluator - Saving intermediate results after 39 samples\n",
            "2025-09-24 13:34:31 - INFO - novaeval.evaluators.agent_evaluator - Intermediate results saved to demo_results/sample_evaluation/agent_evaluation_results.csv\n"
          ]
        },
        {
          "name": "stderr",
          "output_type": "stream",
          "text": [
            "Evaluating samples: 39it [02:30,  3.51s/it]"
          ]
        },
        {
          "name": "stdout",
          "output_type": "stream",
          "text": [
            "2025-09-24 13:34:31 - INFO - google_genai.models - AFC is enabled with max remote calls: 10.\n",
            "2025-09-24 13:34:32 - INFO - google_genai.models - AFC remote call 1 is done.\n"
          ]
        },
        {
          "name": "stderr",
          "output_type": "stream",
          "text": [
            "2025-09-24 13:34:32 - noveum_trace.transport.http_transport - INFO - 📤 EXPORTING TRACE: auto_trace_generate (ID: fffd55e5-2366-4751-846f-e0c3c8c17f26) - 1 spans\n",
            "2025-09-24 13:34:32 - noveum_trace.transport.batch_processor - INFO - 📥 ADDING TRACE TO QUEUE: auto_trace_generate (ID: fffd55e5-2366-4751-846f-e0c3c8c17f26) - 1 spans\n",
            "2025-09-24 13:34:32 - noveum_trace.transport.batch_processor - INFO - ✅ Successfully queued trace fffd55e5-2366-4751-846f-e0c3c8c17f26\n",
            "2025-09-24 13:34:32 - noveum_trace.transport.http_transport - INFO - ✅ Trace fffd55e5-2366-4751-846f-e0c3c8c17f26 successfully queued for export\n"
          ]
        },
        {
          "name": "stdout",
          "output_type": "stream",
          "text": [
            "2025-09-24 13:34:32 - INFO - google_genai.models - AFC is enabled with max remote calls: 10.\n",
            "2025-09-24 13:34:33 - INFO - google_genai.models - AFC remote call 1 is done.\n"
          ]
        },
        {
          "name": "stderr",
          "output_type": "stream",
          "text": [
            "2025-09-24 13:34:33 - noveum_trace.transport.http_transport - INFO - 📤 EXPORTING TRACE: auto_trace_generate (ID: e92b3492-1ac7-4c51-a92b-06bd868cb8c2) - 1 spans\n",
            "2025-09-24 13:34:33 - noveum_trace.transport.batch_processor - INFO - 📥 ADDING TRACE TO QUEUE: auto_trace_generate (ID: e92b3492-1ac7-4c51-a92b-06bd868cb8c2) - 1 spans\n",
            "2025-09-24 13:34:33 - noveum_trace.transport.batch_processor - INFO - ✅ Successfully queued trace e92b3492-1ac7-4c51-a92b-06bd868cb8c2\n",
            "2025-09-24 13:34:33 - noveum_trace.transport.http_transport - INFO - ✅ Trace e92b3492-1ac7-4c51-a92b-06bd868cb8c2 successfully queued for export\n"
          ]
        },
        {
          "name": "stdout",
          "output_type": "stream",
          "text": [
            "2025-09-24 13:34:33 - INFO - google_genai.models - AFC is enabled with max remote calls: 10.\n",
            "2025-09-24 13:34:34 - INFO - google_genai.models - AFC remote call 1 is done.\n"
          ]
        },
        {
          "name": "stderr",
          "output_type": "stream",
          "text": [
            "2025-09-24 13:34:34 - noveum_trace.transport.http_transport - INFO - 📤 EXPORTING TRACE: auto_trace_generate (ID: d5cde1a3-c285-4c05-b777-745e54a0b7d6) - 1 spans\n",
            "2025-09-24 13:34:34 - noveum_trace.transport.batch_processor - INFO - 📥 ADDING TRACE TO QUEUE: auto_trace_generate (ID: d5cde1a3-c285-4c05-b777-745e54a0b7d6) - 1 spans\n",
            "2025-09-24 13:34:34 - noveum_trace.transport.batch_processor - INFO - ✅ Successfully queued trace d5cde1a3-c285-4c05-b777-745e54a0b7d6\n",
            "2025-09-24 13:34:34 - noveum_trace.transport.http_transport - INFO - ✅ Trace d5cde1a3-c285-4c05-b777-745e54a0b7d6 successfully queued for export\n"
          ]
        },
        {
          "name": "stdout",
          "output_type": "stream",
          "text": [
            "2025-09-24 13:34:34 - INFO - novaeval.evaluators.agent_evaluator - Saving intermediate results after 40 samples\n",
            "2025-09-24 13:34:34 - INFO - novaeval.evaluators.agent_evaluator - Intermediate results saved to demo_results/sample_evaluation/agent_evaluation_results.csv\n"
          ]
        },
        {
          "name": "stderr",
          "output_type": "stream",
          "text": [
            "Evaluating samples: 40it [02:33,  3.53s/it]"
          ]
        },
        {
          "name": "stdout",
          "output_type": "stream",
          "text": [
            "2025-09-24 13:34:34 - INFO - google_genai.models - AFC is enabled with max remote calls: 10.\n",
            "2025-09-24 13:34:35 - INFO - google_genai.models - AFC remote call 1 is done.\n"
          ]
        },
        {
          "name": "stderr",
          "output_type": "stream",
          "text": [
            "2025-09-24 13:34:35 - noveum_trace.transport.http_transport - INFO - 📤 EXPORTING TRACE: auto_trace_generate (ID: fc1053bd-75bd-43bf-a146-ebf4af415089) - 1 spans\n",
            "2025-09-24 13:34:35 - noveum_trace.transport.batch_processor - INFO - 📥 ADDING TRACE TO QUEUE: auto_trace_generate (ID: fc1053bd-75bd-43bf-a146-ebf4af415089) - 1 spans\n",
            "2025-09-24 13:34:35 - noveum_trace.transport.batch_processor - INFO - ✅ Successfully queued trace fc1053bd-75bd-43bf-a146-ebf4af415089\n",
            "2025-09-24 13:34:35 - noveum_trace.transport.http_transport - INFO - ✅ Trace fc1053bd-75bd-43bf-a146-ebf4af415089 successfully queued for export\n"
          ]
        },
        {
          "name": "stdout",
          "output_type": "stream",
          "text": [
            "2025-09-24 13:34:35 - INFO - google_genai.models - AFC is enabled with max remote calls: 10.\n",
            "2025-09-24 13:34:37 - INFO - google_genai.models - AFC remote call 1 is done.\n"
          ]
        },
        {
          "name": "stderr",
          "output_type": "stream",
          "text": [
            "2025-09-24 13:34:37 - noveum_trace.transport.http_transport - INFO - 📤 EXPORTING TRACE: auto_trace_generate (ID: 76e79a96-f6b2-410a-82d7-bb7a78d051aa) - 1 spans\n",
            "2025-09-24 13:34:37 - noveum_trace.transport.batch_processor - INFO - 📥 ADDING TRACE TO QUEUE: auto_trace_generate (ID: 76e79a96-f6b2-410a-82d7-bb7a78d051aa) - 1 spans\n",
            "2025-09-24 13:34:37 - noveum_trace.transport.batch_processor - INFO - ✅ Successfully queued trace 76e79a96-f6b2-410a-82d7-bb7a78d051aa\n",
            "2025-09-24 13:34:37 - noveum_trace.transport.http_transport - INFO - ✅ Trace 76e79a96-f6b2-410a-82d7-bb7a78d051aa successfully queued for export\n"
          ]
        },
        {
          "name": "stdout",
          "output_type": "stream",
          "text": [
            "2025-09-24 13:34:37 - INFO - google_genai.models - AFC is enabled with max remote calls: 10.\n",
            "2025-09-24 13:34:38 - INFO - google_genai.models - AFC remote call 1 is done.\n"
          ]
        },
        {
          "name": "stderr",
          "output_type": "stream",
          "text": [
            "2025-09-24 13:34:38 - noveum_trace.transport.http_transport - INFO - 📤 EXPORTING TRACE: auto_trace_generate (ID: b3473f4e-1ecc-4972-98ae-372500f0b03a) - 1 spans\n",
            "2025-09-24 13:34:38 - noveum_trace.transport.batch_processor - INFO - 📥 ADDING TRACE TO QUEUE: auto_trace_generate (ID: b3473f4e-1ecc-4972-98ae-372500f0b03a) - 1 spans\n",
            "2025-09-24 13:34:38 - noveum_trace.transport.batch_processor - INFO - ✅ Successfully queued trace b3473f4e-1ecc-4972-98ae-372500f0b03a\n",
            "2025-09-24 13:34:38 - noveum_trace.transport.http_transport - INFO - ✅ Trace b3473f4e-1ecc-4972-98ae-372500f0b03a successfully queued for export\n"
          ]
        },
        {
          "name": "stdout",
          "output_type": "stream",
          "text": [
            "2025-09-24 13:34:38 - INFO - novaeval.evaluators.agent_evaluator - Saving intermediate results after 41 samples\n",
            "2025-09-24 13:34:38 - INFO - novaeval.evaluators.agent_evaluator - Intermediate results saved to demo_results/sample_evaluation/agent_evaluation_results.csv\n"
          ]
        },
        {
          "name": "stderr",
          "output_type": "stream",
          "text": [
            "Evaluating samples: 41it [02:37,  3.52s/it]"
          ]
        },
        {
          "name": "stdout",
          "output_type": "stream",
          "text": [
            "2025-09-24 13:34:38 - INFO - google_genai.models - AFC is enabled with max remote calls: 10.\n",
            "2025-09-24 13:34:39 - INFO - google_genai.models - AFC remote call 1 is done.\n"
          ]
        },
        {
          "name": "stderr",
          "output_type": "stream",
          "text": [
            "2025-09-24 13:34:39 - noveum_trace.transport.http_transport - INFO - 📤 EXPORTING TRACE: auto_trace_generate (ID: 5600d319-8ea3-4741-ad1f-29bb46795c9e) - 1 spans\n",
            "2025-09-24 13:34:39 - noveum_trace.transport.batch_processor - INFO - 📥 ADDING TRACE TO QUEUE: auto_trace_generate (ID: 5600d319-8ea3-4741-ad1f-29bb46795c9e) - 1 spans\n",
            "2025-09-24 13:34:39 - noveum_trace.transport.batch_processor - INFO - ✅ Successfully queued trace 5600d319-8ea3-4741-ad1f-29bb46795c9e\n",
            "2025-09-24 13:34:39 - noveum_trace.transport.http_transport - INFO - ✅ Trace 5600d319-8ea3-4741-ad1f-29bb46795c9e successfully queued for export\n"
          ]
        },
        {
          "name": "stdout",
          "output_type": "stream",
          "text": [
            "2025-09-24 13:34:39 - INFO - google_genai.models - AFC is enabled with max remote calls: 10.\n",
            "2025-09-24 13:34:40 - INFO - google_genai.models - AFC remote call 1 is done.\n"
          ]
        },
        {
          "name": "stderr",
          "output_type": "stream",
          "text": [
            "2025-09-24 13:34:40 - noveum_trace.transport.http_transport - INFO - 📤 EXPORTING TRACE: auto_trace_generate (ID: 73b7dfba-45ad-4733-a51a-cfcfeb8098aa) - 1 spans\n",
            "2025-09-24 13:34:40 - noveum_trace.transport.batch_processor - INFO - 📥 ADDING TRACE TO QUEUE: auto_trace_generate (ID: 73b7dfba-45ad-4733-a51a-cfcfeb8098aa) - 1 spans\n",
            "2025-09-24 13:34:40 - noveum_trace.transport.batch_processor - INFO - ✅ Successfully queued trace 73b7dfba-45ad-4733-a51a-cfcfeb8098aa\n",
            "2025-09-24 13:34:40 - noveum_trace.transport.http_transport - INFO - ✅ Trace 73b7dfba-45ad-4733-a51a-cfcfeb8098aa successfully queued for export\n"
          ]
        },
        {
          "name": "stdout",
          "output_type": "stream",
          "text": [
            "2025-09-24 13:34:40 - INFO - google_genai.models - AFC is enabled with max remote calls: 10.\n",
            "2025-09-24 13:34:41 - INFO - google_genai.models - AFC remote call 1 is done.\n"
          ]
        },
        {
          "name": "stderr",
          "output_type": "stream",
          "text": [
            "2025-09-24 13:34:41 - noveum_trace.transport.http_transport - INFO - 📤 EXPORTING TRACE: auto_trace_generate (ID: 5f4e4088-8f9c-493e-a849-5dd6d82af94b) - 1 spans\n",
            "2025-09-24 13:34:41 - noveum_trace.transport.batch_processor - INFO - 📥 ADDING TRACE TO QUEUE: auto_trace_generate (ID: 5f4e4088-8f9c-493e-a849-5dd6d82af94b) - 1 spans\n",
            "2025-09-24 13:34:41 - noveum_trace.transport.batch_processor - INFO - ✅ Successfully queued trace 5f4e4088-8f9c-493e-a849-5dd6d82af94b\n",
            "2025-09-24 13:34:41 - noveum_trace.transport.http_transport - INFO - ✅ Trace 5f4e4088-8f9c-493e-a849-5dd6d82af94b successfully queued for export\n"
          ]
        },
        {
          "name": "stdout",
          "output_type": "stream",
          "text": [
            "2025-09-24 13:34:41 - INFO - novaeval.evaluators.agent_evaluator - Saving intermediate results after 42 samples\n",
            "2025-09-24 13:34:41 - INFO - novaeval.evaluators.agent_evaluator - Intermediate results saved to demo_results/sample_evaluation/agent_evaluation_results.csv\n"
          ]
        },
        {
          "name": "stderr",
          "output_type": "stream",
          "text": [
            "Evaluating samples: 42it [02:40,  3.44s/it]"
          ]
        },
        {
          "name": "stdout",
          "output_type": "stream",
          "text": [
            "2025-09-24 13:34:41 - INFO - google_genai.models - AFC is enabled with max remote calls: 10.\n",
            "2025-09-24 13:34:42 - INFO - google_genai.models - AFC remote call 1 is done.\n"
          ]
        },
        {
          "name": "stderr",
          "output_type": "stream",
          "text": [
            "2025-09-24 13:34:42 - noveum_trace.transport.http_transport - INFO - 📤 EXPORTING TRACE: auto_trace_generate (ID: 347d5550-ec1b-4971-af78-99d1dad1e83b) - 1 spans\n",
            "2025-09-24 13:34:42 - noveum_trace.transport.batch_processor - INFO - 📥 ADDING TRACE TO QUEUE: auto_trace_generate (ID: 347d5550-ec1b-4971-af78-99d1dad1e83b) - 1 spans\n",
            "2025-09-24 13:34:42 - noveum_trace.transport.batch_processor - INFO - ✅ Successfully queued trace 347d5550-ec1b-4971-af78-99d1dad1e83b\n",
            "2025-09-24 13:34:42 - noveum_trace.transport.http_transport - INFO - ✅ Trace 347d5550-ec1b-4971-af78-99d1dad1e83b successfully queued for export\n"
          ]
        },
        {
          "name": "stdout",
          "output_type": "stream",
          "text": [
            "2025-09-24 13:34:42 - INFO - google_genai.models - AFC is enabled with max remote calls: 10.\n",
            "2025-09-24 13:34:43 - INFO - google_genai.models - AFC remote call 1 is done.\n"
          ]
        },
        {
          "name": "stderr",
          "output_type": "stream",
          "text": [
            "2025-09-24 13:34:43 - noveum_trace.transport.http_transport - INFO - 📤 EXPORTING TRACE: auto_trace_generate (ID: 2d2be780-1592-4992-8c51-7696f7f48dad) - 1 spans\n",
            "2025-09-24 13:34:43 - noveum_trace.transport.batch_processor - INFO - 📥 ADDING TRACE TO QUEUE: auto_trace_generate (ID: 2d2be780-1592-4992-8c51-7696f7f48dad) - 1 spans\n",
            "2025-09-24 13:34:43 - noveum_trace.transport.batch_processor - INFO - ✅ Successfully queued trace 2d2be780-1592-4992-8c51-7696f7f48dad\n",
            "2025-09-24 13:34:43 - noveum_trace.transport.http_transport - INFO - ✅ Trace 2d2be780-1592-4992-8c51-7696f7f48dad successfully queued for export\n"
          ]
        },
        {
          "name": "stdout",
          "output_type": "stream",
          "text": [
            "2025-09-24 13:34:43 - INFO - google_genai.models - AFC is enabled with max remote calls: 10.\n",
            "2025-09-24 13:34:45 - INFO - google_genai.models - AFC remote call 1 is done.\n"
          ]
        },
        {
          "name": "stderr",
          "output_type": "stream",
          "text": [
            "2025-09-24 13:34:45 - noveum_trace.transport.http_transport - INFO - 📤 EXPORTING TRACE: auto_trace_generate (ID: 02009c1f-15da-4e34-a912-b8d2fcab62f6) - 1 spans\n",
            "2025-09-24 13:34:45 - noveum_trace.transport.batch_processor - INFO - 📥 ADDING TRACE TO QUEUE: auto_trace_generate (ID: 02009c1f-15da-4e34-a912-b8d2fcab62f6) - 1 spans\n",
            "2025-09-24 13:34:45 - noveum_trace.transport.batch_processor - INFO - ✅ Successfully queued trace 02009c1f-15da-4e34-a912-b8d2fcab62f6\n",
            "2025-09-24 13:34:45 - noveum_trace.transport.http_transport - INFO - ✅ Trace 02009c1f-15da-4e34-a912-b8d2fcab62f6 successfully queued for export\n"
          ]
        },
        {
          "name": "stdout",
          "output_type": "stream",
          "text": [
            "2025-09-24 13:34:45 - INFO - novaeval.evaluators.agent_evaluator - Saving intermediate results after 43 samples\n",
            "2025-09-24 13:34:45 - INFO - novaeval.evaluators.agent_evaluator - Intermediate results saved to demo_results/sample_evaluation/agent_evaluation_results.csv\n"
          ]
        },
        {
          "name": "stderr",
          "output_type": "stream",
          "text": [
            "Evaluating samples: 43it [02:44,  3.46s/it]"
          ]
        },
        {
          "name": "stdout",
          "output_type": "stream",
          "text": [
            "2025-09-24 13:34:45 - INFO - google_genai.models - AFC is enabled with max remote calls: 10.\n",
            "2025-09-24 13:34:46 - INFO - google_genai.models - AFC remote call 1 is done.\n"
          ]
        },
        {
          "name": "stderr",
          "output_type": "stream",
          "text": [
            "2025-09-24 13:34:46 - noveum_trace.transport.http_transport - INFO - 📤 EXPORTING TRACE: auto_trace_generate (ID: 32f69c3d-dda8-4bba-b404-59ee6255f07e) - 1 spans\n",
            "2025-09-24 13:34:46 - noveum_trace.transport.batch_processor - INFO - 📥 ADDING TRACE TO QUEUE: auto_trace_generate (ID: 32f69c3d-dda8-4bba-b404-59ee6255f07e) - 1 spans\n",
            "2025-09-24 13:34:46 - noveum_trace.transport.batch_processor - INFO - ✅ Successfully queued trace 32f69c3d-dda8-4bba-b404-59ee6255f07e\n",
            "2025-09-24 13:34:46 - noveum_trace.transport.http_transport - INFO - ✅ Trace 32f69c3d-dda8-4bba-b404-59ee6255f07e successfully queued for export\n"
          ]
        },
        {
          "name": "stdout",
          "output_type": "stream",
          "text": [
            "2025-09-24 13:34:46 - INFO - google_genai.models - AFC is enabled with max remote calls: 10.\n",
            "2025-09-24 13:34:47 - INFO - google_genai.models - AFC remote call 1 is done.\n"
          ]
        },
        {
          "name": "stderr",
          "output_type": "stream",
          "text": [
            "2025-09-24 13:34:47 - noveum_trace.transport.http_transport - INFO - 📤 EXPORTING TRACE: auto_trace_generate (ID: eda0e3bc-cb56-465c-871b-a8383bd2efb1) - 1 spans\n",
            "2025-09-24 13:34:47 - noveum_trace.transport.batch_processor - INFO - 📥 ADDING TRACE TO QUEUE: auto_trace_generate (ID: eda0e3bc-cb56-465c-871b-a8383bd2efb1) - 1 spans\n",
            "2025-09-24 13:34:47 - noveum_trace.transport.batch_processor - INFO - ✅ Successfully queued trace eda0e3bc-cb56-465c-871b-a8383bd2efb1\n",
            "2025-09-24 13:34:47 - noveum_trace.transport.http_transport - INFO - ✅ Trace eda0e3bc-cb56-465c-871b-a8383bd2efb1 successfully queued for export\n"
          ]
        },
        {
          "name": "stdout",
          "output_type": "stream",
          "text": [
            "2025-09-24 13:34:47 - INFO - google_genai.models - AFC is enabled with max remote calls: 10.\n",
            "2025-09-24 13:34:48 - INFO - google_genai.models - AFC remote call 1 is done.\n"
          ]
        },
        {
          "name": "stderr",
          "output_type": "stream",
          "text": [
            "2025-09-24 13:34:48 - noveum_trace.transport.http_transport - INFO - 📤 EXPORTING TRACE: auto_trace_generate (ID: a9fb7711-0edc-487d-b2ff-ef9ccf3d09cb) - 1 spans\n",
            "2025-09-24 13:34:48 - noveum_trace.transport.batch_processor - INFO - 📥 ADDING TRACE TO QUEUE: auto_trace_generate (ID: a9fb7711-0edc-487d-b2ff-ef9ccf3d09cb) - 1 spans\n",
            "2025-09-24 13:34:48 - noveum_trace.transport.batch_processor - INFO - ✅ Successfully queued trace a9fb7711-0edc-487d-b2ff-ef9ccf3d09cb\n",
            "2025-09-24 13:34:48 - noveum_trace.transport.http_transport - INFO - ✅ Trace a9fb7711-0edc-487d-b2ff-ef9ccf3d09cb successfully queued for export\n"
          ]
        },
        {
          "name": "stdout",
          "output_type": "stream",
          "text": [
            "2025-09-24 13:34:48 - INFO - novaeval.evaluators.agent_evaluator - Saving intermediate results after 44 samples\n",
            "2025-09-24 13:34:48 - INFO - novaeval.evaluators.agent_evaluator - Intermediate results saved to demo_results/sample_evaluation/agent_evaluation_results.csv\n"
          ]
        },
        {
          "name": "stderr",
          "output_type": "stream",
          "text": [
            "Evaluating samples: 44it [02:47,  3.43s/it]"
          ]
        },
        {
          "name": "stdout",
          "output_type": "stream",
          "text": [
            "2025-09-24 13:34:48 - INFO - google_genai.models - AFC is enabled with max remote calls: 10.\n",
            "2025-09-24 13:34:49 - INFO - google_genai.models - AFC remote call 1 is done.\n"
          ]
        },
        {
          "name": "stderr",
          "output_type": "stream",
          "text": [
            "2025-09-24 13:34:49 - noveum_trace.transport.http_transport - INFO - 📤 EXPORTING TRACE: auto_trace_generate (ID: c4a562be-04ed-4f14-88c3-107885e70765) - 1 spans\n",
            "2025-09-24 13:34:49 - noveum_trace.transport.batch_processor - INFO - 📥 ADDING TRACE TO QUEUE: auto_trace_generate (ID: c4a562be-04ed-4f14-88c3-107885e70765) - 1 spans\n",
            "2025-09-24 13:34:49 - noveum_trace.transport.batch_processor - INFO - ✅ Successfully queued trace c4a562be-04ed-4f14-88c3-107885e70765\n",
            "2025-09-24 13:34:49 - noveum_trace.transport.http_transport - INFO - ✅ Trace c4a562be-04ed-4f14-88c3-107885e70765 successfully queued for export\n"
          ]
        },
        {
          "name": "stdout",
          "output_type": "stream",
          "text": [
            "2025-09-24 13:34:49 - INFO - google_genai.models - AFC is enabled with max remote calls: 10.\n",
            "2025-09-24 13:34:51 - INFO - google_genai.models - AFC remote call 1 is done.\n"
          ]
        },
        {
          "name": "stderr",
          "output_type": "stream",
          "text": [
            "2025-09-24 13:34:51 - noveum_trace.transport.http_transport - INFO - 📤 EXPORTING TRACE: auto_trace_generate (ID: 7a28c4b9-438f-4d51-b027-748f25318689) - 1 spans\n",
            "2025-09-24 13:34:51 - noveum_trace.transport.batch_processor - INFO - 📥 ADDING TRACE TO QUEUE: auto_trace_generate (ID: 7a28c4b9-438f-4d51-b027-748f25318689) - 1 spans\n",
            "2025-09-24 13:34:51 - noveum_trace.transport.batch_processor - INFO - ✅ Successfully queued trace 7a28c4b9-438f-4d51-b027-748f25318689\n",
            "2025-09-24 13:34:51 - noveum_trace.transport.http_transport - INFO - ✅ Trace 7a28c4b9-438f-4d51-b027-748f25318689 successfully queued for export\n"
          ]
        },
        {
          "name": "stdout",
          "output_type": "stream",
          "text": [
            "2025-09-24 13:34:51 - INFO - google_genai.models - AFC is enabled with max remote calls: 10.\n",
            "2025-09-24 13:34:52 - INFO - google_genai.models - AFC remote call 1 is done.\n"
          ]
        },
        {
          "name": "stderr",
          "output_type": "stream",
          "text": [
            "2025-09-24 13:34:52 - noveum_trace.transport.http_transport - INFO - 📤 EXPORTING TRACE: auto_trace_generate (ID: 6166f1df-e622-43cc-ae65-61ff51ef1289) - 1 spans\n",
            "2025-09-24 13:34:52 - noveum_trace.transport.batch_processor - INFO - 📥 ADDING TRACE TO QUEUE: auto_trace_generate (ID: 6166f1df-e622-43cc-ae65-61ff51ef1289) - 1 spans\n",
            "2025-09-24 13:34:52 - noveum_trace.transport.batch_processor - INFO - ✅ Successfully queued trace 6166f1df-e622-43cc-ae65-61ff51ef1289\n",
            "2025-09-24 13:34:52 - noveum_trace.transport.http_transport - INFO - ✅ Trace 6166f1df-e622-43cc-ae65-61ff51ef1289 successfully queued for export\n"
          ]
        },
        {
          "name": "stdout",
          "output_type": "stream",
          "text": [
            "2025-09-24 13:34:52 - INFO - novaeval.evaluators.agent_evaluator - Saving intermediate results after 45 samples\n",
            "2025-09-24 13:34:52 - INFO - novaeval.evaluators.agent_evaluator - Intermediate results saved to demo_results/sample_evaluation/agent_evaluation_results.csv\n"
          ]
        },
        {
          "name": "stderr",
          "output_type": "stream",
          "text": [
            "Evaluating samples: 45it [02:51,  3.52s/it]"
          ]
        },
        {
          "name": "stdout",
          "output_type": "stream",
          "text": [
            "2025-09-24 13:34:52 - INFO - google_genai.models - AFC is enabled with max remote calls: 10.\n",
            "2025-09-24 13:34:53 - INFO - google_genai.models - AFC remote call 1 is done.\n"
          ]
        },
        {
          "name": "stderr",
          "output_type": "stream",
          "text": [
            "2025-09-24 13:34:53 - noveum_trace.transport.http_transport - INFO - 📤 EXPORTING TRACE: auto_trace_generate (ID: 5d54b9f5-a1a8-4461-8d8f-e3637961d44a) - 1 spans\n",
            "2025-09-24 13:34:53 - noveum_trace.transport.batch_processor - INFO - 📥 ADDING TRACE TO QUEUE: auto_trace_generate (ID: 5d54b9f5-a1a8-4461-8d8f-e3637961d44a) - 1 spans\n",
            "2025-09-24 13:34:53 - noveum_trace.transport.batch_processor - INFO - ✅ Successfully queued trace 5d54b9f5-a1a8-4461-8d8f-e3637961d44a\n",
            "2025-09-24 13:34:53 - noveum_trace.transport.http_transport - INFO - ✅ Trace 5d54b9f5-a1a8-4461-8d8f-e3637961d44a successfully queued for export\n"
          ]
        },
        {
          "name": "stdout",
          "output_type": "stream",
          "text": [
            "2025-09-24 13:34:53 - INFO - google_genai.models - AFC is enabled with max remote calls: 10.\n",
            "2025-09-24 13:34:54 - INFO - google_genai.models - AFC remote call 1 is done.\n"
          ]
        },
        {
          "name": "stderr",
          "output_type": "stream",
          "text": [
            "2025-09-24 13:34:54 - noveum_trace.transport.http_transport - INFO - 📤 EXPORTING TRACE: auto_trace_generate (ID: 6afb967e-8acd-4b80-ab05-4843bf086725) - 1 spans\n",
            "2025-09-24 13:34:54 - noveum_trace.transport.batch_processor - INFO - 📥 ADDING TRACE TO QUEUE: auto_trace_generate (ID: 6afb967e-8acd-4b80-ab05-4843bf086725) - 1 spans\n",
            "2025-09-24 13:34:54 - noveum_trace.transport.batch_processor - INFO - ✅ Successfully queued trace 6afb967e-8acd-4b80-ab05-4843bf086725\n",
            "2025-09-24 13:34:54 - noveum_trace.transport.http_transport - INFO - ✅ Trace 6afb967e-8acd-4b80-ab05-4843bf086725 successfully queued for export\n"
          ]
        },
        {
          "name": "stdout",
          "output_type": "stream",
          "text": [
            "2025-09-24 13:34:54 - INFO - google_genai.models - AFC is enabled with max remote calls: 10.\n",
            "2025-09-24 13:34:55 - INFO - google_genai.models - AFC remote call 1 is done.\n"
          ]
        },
        {
          "name": "stderr",
          "output_type": "stream",
          "text": [
            "2025-09-24 13:34:55 - noveum_trace.transport.http_transport - INFO - 📤 EXPORTING TRACE: auto_trace_generate (ID: 6cd0b14c-e2e3-4f64-96d0-b0c6963d2e2e) - 1 spans\n",
            "2025-09-24 13:34:55 - noveum_trace.transport.batch_processor - INFO - 📥 ADDING TRACE TO QUEUE: auto_trace_generate (ID: 6cd0b14c-e2e3-4f64-96d0-b0c6963d2e2e) - 1 spans\n",
            "2025-09-24 13:34:55 - noveum_trace.transport.batch_processor - INFO - ✅ Successfully queued trace 6cd0b14c-e2e3-4f64-96d0-b0c6963d2e2e\n",
            "2025-09-24 13:34:55 - noveum_trace.transport.http_transport - INFO - ✅ Trace 6cd0b14c-e2e3-4f64-96d0-b0c6963d2e2e successfully queued for export\n"
          ]
        },
        {
          "name": "stdout",
          "output_type": "stream",
          "text": [
            "2025-09-24 13:34:55 - INFO - novaeval.evaluators.agent_evaluator - Saving intermediate results after 46 samples\n",
            "2025-09-24 13:34:55 - INFO - novaeval.evaluators.agent_evaluator - Intermediate results saved to demo_results/sample_evaluation/agent_evaluation_results.csv\n"
          ]
        },
        {
          "name": "stderr",
          "output_type": "stream",
          "text": [
            "Evaluating samples: 46it [02:54,  3.53s/it]"
          ]
        },
        {
          "name": "stdout",
          "output_type": "stream",
          "text": [
            "2025-09-24 13:34:55 - INFO - google_genai.models - AFC is enabled with max remote calls: 10.\n",
            "2025-09-24 13:34:56 - INFO - google_genai.models - AFC remote call 1 is done.\n"
          ]
        },
        {
          "name": "stderr",
          "output_type": "stream",
          "text": [
            "2025-09-24 13:34:56 - noveum_trace.transport.http_transport - INFO - 📤 EXPORTING TRACE: auto_trace_generate (ID: 322ff2b0-1561-4898-96db-2e62cbf4e29f) - 1 spans\n",
            "2025-09-24 13:34:56 - noveum_trace.transport.batch_processor - INFO - 📥 ADDING TRACE TO QUEUE: auto_trace_generate (ID: 322ff2b0-1561-4898-96db-2e62cbf4e29f) - 1 spans\n",
            "2025-09-24 13:34:56 - noveum_trace.transport.batch_processor - INFO - ✅ Successfully queued trace 322ff2b0-1561-4898-96db-2e62cbf4e29f\n",
            "2025-09-24 13:34:56 - noveum_trace.transport.http_transport - INFO - ✅ Trace 322ff2b0-1561-4898-96db-2e62cbf4e29f successfully queued for export\n"
          ]
        },
        {
          "name": "stdout",
          "output_type": "stream",
          "text": [
            "2025-09-24 13:34:56 - INFO - google_genai.models - AFC is enabled with max remote calls: 10.\n",
            "2025-09-24 13:34:57 - INFO - google_genai.models - AFC remote call 1 is done.\n"
          ]
        },
        {
          "name": "stderr",
          "output_type": "stream",
          "text": [
            "2025-09-24 13:34:57 - noveum_trace.transport.http_transport - INFO - 📤 EXPORTING TRACE: auto_trace_generate (ID: 8660ffad-236b-449d-9061-e3f29e66ff9a) - 1 spans\n",
            "2025-09-24 13:34:57 - noveum_trace.transport.batch_processor - INFO - 📥 ADDING TRACE TO QUEUE: auto_trace_generate (ID: 8660ffad-236b-449d-9061-e3f29e66ff9a) - 1 spans\n",
            "2025-09-24 13:34:57 - noveum_trace.transport.batch_processor - INFO - ✅ Successfully queued trace 8660ffad-236b-449d-9061-e3f29e66ff9a\n",
            "2025-09-24 13:34:57 - noveum_trace.transport.http_transport - INFO - ✅ Trace 8660ffad-236b-449d-9061-e3f29e66ff9a successfully queued for export\n"
          ]
        },
        {
          "name": "stdout",
          "output_type": "stream",
          "text": [
            "2025-09-24 13:34:57 - INFO - google_genai.models - AFC is enabled with max remote calls: 10.\n",
            "2025-09-24 13:34:59 - INFO - google_genai.models - AFC remote call 1 is done.\n"
          ]
        },
        {
          "name": "stderr",
          "output_type": "stream",
          "text": [
            "2025-09-24 13:34:59 - noveum_trace.transport.http_transport - INFO - 📤 EXPORTING TRACE: auto_trace_generate (ID: a0318d21-72ff-43a8-b37d-868f83ae4b6d) - 1 spans\n",
            "2025-09-24 13:34:59 - noveum_trace.transport.batch_processor - INFO - 📥 ADDING TRACE TO QUEUE: auto_trace_generate (ID: a0318d21-72ff-43a8-b37d-868f83ae4b6d) - 1 spans\n",
            "2025-09-24 13:34:59 - noveum_trace.transport.batch_processor - INFO - ✅ Successfully queued trace a0318d21-72ff-43a8-b37d-868f83ae4b6d\n",
            "2025-09-24 13:34:59 - noveum_trace.transport.http_transport - INFO - ✅ Trace a0318d21-72ff-43a8-b37d-868f83ae4b6d successfully queued for export\n"
          ]
        },
        {
          "name": "stdout",
          "output_type": "stream",
          "text": [
            "2025-09-24 13:34:59 - INFO - novaeval.evaluators.agent_evaluator - Saving intermediate results after 47 samples\n",
            "2025-09-24 13:34:59 - INFO - novaeval.evaluators.agent_evaluator - Intermediate results saved to demo_results/sample_evaluation/agent_evaluation_results.csv\n"
          ]
        },
        {
          "name": "stderr",
          "output_type": "stream",
          "text": [
            "Evaluating samples: 47it [02:58,  3.45s/it]"
          ]
        },
        {
          "name": "stdout",
          "output_type": "stream",
          "text": [
            "2025-09-24 13:34:59 - INFO - google_genai.models - AFC is enabled with max remote calls: 10.\n",
            "2025-09-24 13:35:00 - INFO - google_genai.models - AFC remote call 1 is done.\n"
          ]
        },
        {
          "name": "stderr",
          "output_type": "stream",
          "text": [
            "2025-09-24 13:35:00 - noveum_trace.transport.http_transport - INFO - 📤 EXPORTING TRACE: auto_trace_generate (ID: 5efa3335-e3bf-483c-881b-4c44f7f83ec2) - 1 spans\n",
            "2025-09-24 13:35:00 - noveum_trace.transport.batch_processor - INFO - 📥 ADDING TRACE TO QUEUE: auto_trace_generate (ID: 5efa3335-e3bf-483c-881b-4c44f7f83ec2) - 1 spans\n",
            "2025-09-24 13:35:00 - noveum_trace.transport.batch_processor - INFO - ✅ Successfully queued trace 5efa3335-e3bf-483c-881b-4c44f7f83ec2\n",
            "2025-09-24 13:35:00 - noveum_trace.transport.http_transport - INFO - ✅ Trace 5efa3335-e3bf-483c-881b-4c44f7f83ec2 successfully queued for export\n"
          ]
        },
        {
          "name": "stdout",
          "output_type": "stream",
          "text": [
            "2025-09-24 13:35:00 - INFO - google_genai.models - AFC is enabled with max remote calls: 10.\n",
            "2025-09-24 13:35:01 - INFO - google_genai.models - AFC remote call 1 is done.\n"
          ]
        },
        {
          "name": "stderr",
          "output_type": "stream",
          "text": [
            "2025-09-24 13:35:01 - noveum_trace.transport.http_transport - INFO - 📤 EXPORTING TRACE: auto_trace_generate (ID: 9fe406ac-7a0e-4949-987d-9625213cc305) - 1 spans\n",
            "2025-09-24 13:35:01 - noveum_trace.transport.batch_processor - INFO - 📥 ADDING TRACE TO QUEUE: auto_trace_generate (ID: 9fe406ac-7a0e-4949-987d-9625213cc305) - 1 spans\n",
            "2025-09-24 13:35:01 - noveum_trace.transport.batch_processor - INFO - ✅ Successfully queued trace 9fe406ac-7a0e-4949-987d-9625213cc305\n",
            "2025-09-24 13:35:01 - noveum_trace.transport.http_transport - INFO - ✅ Trace 9fe406ac-7a0e-4949-987d-9625213cc305 successfully queued for export\n"
          ]
        },
        {
          "name": "stdout",
          "output_type": "stream",
          "text": [
            "2025-09-24 13:35:01 - INFO - google_genai.models - AFC is enabled with max remote calls: 10.\n",
            "2025-09-24 13:35:02 - INFO - google_genai.models - AFC remote call 1 is done.\n"
          ]
        },
        {
          "name": "stderr",
          "output_type": "stream",
          "text": [
            "2025-09-24 13:35:02 - noveum_trace.transport.http_transport - INFO - 📤 EXPORTING TRACE: auto_trace_generate (ID: f9e9032f-3c81-4bfc-ac8c-adeb6f4c8096) - 1 spans\n",
            "2025-09-24 13:35:02 - noveum_trace.transport.batch_processor - INFO - 📥 ADDING TRACE TO QUEUE: auto_trace_generate (ID: f9e9032f-3c81-4bfc-ac8c-adeb6f4c8096) - 1 spans\n",
            "2025-09-24 13:35:02 - noveum_trace.transport.batch_processor - INFO - ✅ Successfully queued trace f9e9032f-3c81-4bfc-ac8c-adeb6f4c8096\n",
            "2025-09-24 13:35:02 - noveum_trace.transport.http_transport - INFO - ✅ Trace f9e9032f-3c81-4bfc-ac8c-adeb6f4c8096 successfully queued for export\n"
          ]
        },
        {
          "name": "stdout",
          "output_type": "stream",
          "text": [
            "2025-09-24 13:35:02 - INFO - novaeval.evaluators.agent_evaluator - Saving intermediate results after 48 samples\n",
            "2025-09-24 13:35:02 - INFO - novaeval.evaluators.agent_evaluator - Intermediate results saved to demo_results/sample_evaluation/agent_evaluation_results.csv\n"
          ]
        },
        {
          "name": "stderr",
          "output_type": "stream",
          "text": [
            "Evaluating samples: 48it [03:01,  3.49s/it]"
          ]
        },
        {
          "name": "stdout",
          "output_type": "stream",
          "text": [
            "2025-09-24 13:35:02 - INFO - google_genai.models - AFC is enabled with max remote calls: 10.\n",
            "2025-09-24 13:35:03 - INFO - google_genai.models - AFC remote call 1 is done.\n"
          ]
        },
        {
          "name": "stderr",
          "output_type": "stream",
          "text": [
            "2025-09-24 13:35:03 - noveum_trace.transport.http_transport - INFO - 📤 EXPORTING TRACE: auto_trace_generate (ID: fe7cf599-73fa-4d67-b2e5-93f0bf3d080c) - 1 spans\n",
            "2025-09-24 13:35:03 - noveum_trace.transport.batch_processor - INFO - 📥 ADDING TRACE TO QUEUE: auto_trace_generate (ID: fe7cf599-73fa-4d67-b2e5-93f0bf3d080c) - 1 spans\n",
            "2025-09-24 13:35:03 - noveum_trace.transport.batch_processor - INFO - ✅ Successfully queued trace fe7cf599-73fa-4d67-b2e5-93f0bf3d080c\n",
            "2025-09-24 13:35:03 - noveum_trace.transport.http_transport - INFO - ✅ Trace fe7cf599-73fa-4d67-b2e5-93f0bf3d080c successfully queued for export\n"
          ]
        },
        {
          "name": "stdout",
          "output_type": "stream",
          "text": [
            "2025-09-24 13:35:03 - INFO - google_genai.models - AFC is enabled with max remote calls: 10.\n",
            "2025-09-24 13:35:04 - INFO - google_genai.models - AFC remote call 1 is done.\n"
          ]
        },
        {
          "name": "stderr",
          "output_type": "stream",
          "text": [
            "2025-09-24 13:35:04 - noveum_trace.transport.http_transport - INFO - 📤 EXPORTING TRACE: auto_trace_generate (ID: 431bab25-61d3-467e-ae85-20cfc6d71f98) - 1 spans\n",
            "2025-09-24 13:35:04 - noveum_trace.transport.batch_processor - INFO - 📥 ADDING TRACE TO QUEUE: auto_trace_generate (ID: 431bab25-61d3-467e-ae85-20cfc6d71f98) - 1 spans\n",
            "2025-09-24 13:35:04 - noveum_trace.transport.batch_processor - INFO - ✅ Successfully queued trace 431bab25-61d3-467e-ae85-20cfc6d71f98\n",
            "2025-09-24 13:35:04 - noveum_trace.transport.http_transport - INFO - ✅ Trace 431bab25-61d3-467e-ae85-20cfc6d71f98 successfully queued for export\n"
          ]
        },
        {
          "name": "stdout",
          "output_type": "stream",
          "text": [
            "2025-09-24 13:35:04 - INFO - google_genai.models - AFC is enabled with max remote calls: 10.\n",
            "2025-09-24 13:35:05 - INFO - google_genai.models - AFC remote call 1 is done.\n"
          ]
        },
        {
          "name": "stderr",
          "output_type": "stream",
          "text": [
            "2025-09-24 13:35:05 - noveum_trace.transport.http_transport - INFO - 📤 EXPORTING TRACE: auto_trace_generate (ID: 5305cefa-c989-4573-b9af-8f6c7d802fc7) - 1 spans\n",
            "2025-09-24 13:35:05 - noveum_trace.transport.batch_processor - INFO - 📥 ADDING TRACE TO QUEUE: auto_trace_generate (ID: 5305cefa-c989-4573-b9af-8f6c7d802fc7) - 1 spans\n",
            "2025-09-24 13:35:05 - noveum_trace.transport.batch_processor - INFO - ✅ Successfully queued trace 5305cefa-c989-4573-b9af-8f6c7d802fc7\n",
            "2025-09-24 13:35:05 - noveum_trace.transport.http_transport - INFO - ✅ Trace 5305cefa-c989-4573-b9af-8f6c7d802fc7 successfully queued for export\n"
          ]
        },
        {
          "name": "stdout",
          "output_type": "stream",
          "text": [
            "2025-09-24 13:35:05 - INFO - novaeval.evaluators.agent_evaluator - Saving intermediate results after 49 samples\n",
            "2025-09-24 13:35:05 - INFO - novaeval.evaluators.agent_evaluator - Intermediate results saved to demo_results/sample_evaluation/agent_evaluation_results.csv\n"
          ]
        },
        {
          "name": "stderr",
          "output_type": "stream",
          "text": [
            "Evaluating samples: 49it [03:05,  3.46s/it]"
          ]
        },
        {
          "name": "stdout",
          "output_type": "stream",
          "text": [
            "2025-09-24 13:35:05 - INFO - google_genai.models - AFC is enabled with max remote calls: 10.\n",
            "2025-09-24 13:35:07 - INFO - google_genai.models - AFC remote call 1 is done.\n"
          ]
        },
        {
          "name": "stderr",
          "output_type": "stream",
          "text": [
            "2025-09-24 13:35:07 - noveum_trace.transport.http_transport - INFO - 📤 EXPORTING TRACE: auto_trace_generate (ID: 92fd0018-1070-464b-bd94-95e1d99d1fb3) - 1 spans\n",
            "2025-09-24 13:35:07 - noveum_trace.transport.batch_processor - INFO - 📥 ADDING TRACE TO QUEUE: auto_trace_generate (ID: 92fd0018-1070-464b-bd94-95e1d99d1fb3) - 1 spans\n",
            "2025-09-24 13:35:07 - noveum_trace.transport.batch_processor - INFO - ✅ Successfully queued trace 92fd0018-1070-464b-bd94-95e1d99d1fb3\n",
            "2025-09-24 13:35:07 - noveum_trace.transport.http_transport - INFO - ✅ Trace 92fd0018-1070-464b-bd94-95e1d99d1fb3 successfully queued for export\n"
          ]
        },
        {
          "name": "stdout",
          "output_type": "stream",
          "text": [
            "2025-09-24 13:35:07 - INFO - google_genai.models - AFC is enabled with max remote calls: 10.\n",
            "2025-09-24 13:35:08 - INFO - google_genai.models - AFC remote call 1 is done.\n"
          ]
        },
        {
          "name": "stderr",
          "output_type": "stream",
          "text": [
            "2025-09-24 13:35:08 - noveum_trace.transport.http_transport - INFO - 📤 EXPORTING TRACE: auto_trace_generate (ID: dcd5702e-33f1-4db6-9ddb-8fe93e1324b4) - 1 spans\n",
            "2025-09-24 13:35:08 - noveum_trace.transport.batch_processor - INFO - 📥 ADDING TRACE TO QUEUE: auto_trace_generate (ID: dcd5702e-33f1-4db6-9ddb-8fe93e1324b4) - 1 spans\n",
            "2025-09-24 13:35:08 - noveum_trace.transport.batch_processor - INFO - ✅ Successfully queued trace dcd5702e-33f1-4db6-9ddb-8fe93e1324b4\n",
            "2025-09-24 13:35:08 - noveum_trace.transport.http_transport - INFO - ✅ Trace dcd5702e-33f1-4db6-9ddb-8fe93e1324b4 successfully queued for export\n"
          ]
        },
        {
          "name": "stdout",
          "output_type": "stream",
          "text": [
            "2025-09-24 13:35:08 - INFO - google_genai.models - AFC is enabled with max remote calls: 10.\n",
            "2025-09-24 13:35:09 - INFO - google_genai.models - AFC remote call 1 is done.\n"
          ]
        },
        {
          "name": "stderr",
          "output_type": "stream",
          "text": [
            "2025-09-24 13:35:09 - noveum_trace.transport.http_transport - INFO - 📤 EXPORTING TRACE: auto_trace_generate (ID: ad831dc3-5539-4a90-bc03-76db3c371350) - 1 spans\n",
            "2025-09-24 13:35:09 - noveum_trace.transport.batch_processor - INFO - 📥 ADDING TRACE TO QUEUE: auto_trace_generate (ID: ad831dc3-5539-4a90-bc03-76db3c371350) - 1 spans\n",
            "2025-09-24 13:35:09 - noveum_trace.transport.batch_processor - INFO - ✅ Successfully queued trace ad831dc3-5539-4a90-bc03-76db3c371350\n",
            "2025-09-24 13:35:09 - noveum_trace.transport.http_transport - INFO - ✅ Trace ad831dc3-5539-4a90-bc03-76db3c371350 successfully queued for export\n"
          ]
        },
        {
          "name": "stdout",
          "output_type": "stream",
          "text": [
            "2025-09-24 13:35:09 - INFO - novaeval.evaluators.agent_evaluator - Saving intermediate results after 50 samples\n",
            "2025-09-24 13:35:09 - INFO - novaeval.evaluators.agent_evaluator - Intermediate results saved to demo_results/sample_evaluation/agent_evaluation_results.csv\n"
          ]
        },
        {
          "name": "stderr",
          "output_type": "stream",
          "text": [
            "Evaluating samples: 50it [03:08,  3.77s/it]"
          ]
        },
        {
          "name": "stdout",
          "output_type": "stream",
          "text": [
            "2025-09-24 13:35:09 - INFO - novaeval.evaluators.agent_evaluator - Saving final results\n",
            "2025-09-24 13:35:09 - INFO - novaeval.evaluators.agent_evaluator - Reloaded 50 results from CSV\n",
            "2025-09-24 13:35:09 - INFO - novaeval.evaluators.agent_evaluator - Agent evaluation completed\n",
            "\n",
            "✅ Evaluation completed!\n",
            "\n",
            "📊 Results Summary:\n",
            "  - task_progression: 1.84\n",
            "  - context_relevancy: 4.98\n",
            "  - role_adherence: 5.17\n",
            "  - tool_relevancy: 0.00\n",
            "  - parameter_correctness: 0.00\n",
            "\n",
            "🔍 Individual Scores:\n",
            "\n",
            "  Record 1 (Task: b11593a1-b6ee-44c8-baed-18ebbd0330d9):\n",
            "    - task_progression: 1.8\n",
            "    - context_relevancy: 7.2\n",
            "    - role_adherence: 4.5\n",
            "    - tool_relevancy: 0.0\n",
            "    - parameter_correctness: 0.0\n",
            "\n",
            "  Record 2 (Task: a4444467-5b32-47f0-9b21-b86e42e87944):\n",
            "    - task_progression: 1.8\n",
            "    - context_relevancy: 7.2\n",
            "    - role_adherence: 4.5\n",
            "    - tool_relevancy: 0.0\n",
            "    - parameter_correctness: 0.0\n",
            "\n",
            "  Record 3 (Task: 7133e89b-588b-451f-8fdc-454dba47d752):\n",
            "    - task_progression: 1.2\n",
            "    - context_relevancy: 2.1\n",
            "    - role_adherence: 4.8\n",
            "    - tool_relevancy: 0.0\n",
            "    - parameter_correctness: 0.0\n",
            "\n",
            "  Record 4 (Task: 7133e89b-588b-451f-8fdc-454dba47d752):\n",
            "    - task_progression: 1.8\n",
            "    - context_relevancy: 4.5\n",
            "    - role_adherence: 4.5\n",
            "    - tool_relevancy: 0.0\n",
            "    - parameter_correctness: 0.0\n",
            "\n",
            "  Record 5 (Task: 7133e89b-588b-451f-8fdc-454dba47d752):\n",
            "    - task_progression: 1.8\n",
            "    - context_relevancy: 4.5\n",
            "    - role_adherence: 4.5\n",
            "    - tool_relevancy: 0.0\n",
            "    - parameter_correctness: 0.0\n",
            "\n",
            "  Record 6 (Task: 7133e89b-588b-451f-8fdc-454dba47d752):\n",
            "    - task_progression: 1.8\n",
            "    - context_relevancy: 4.5\n",
            "    - role_adherence: 4.5\n",
            "    - tool_relevancy: 0.0\n",
            "    - parameter_correctness: 0.0\n",
            "\n",
            "  Record 7 (Task: 7133e89b-588b-451f-8fdc-454dba47d752):\n",
            "    - task_progression: 1.8\n",
            "    - context_relevancy: 4.5\n",
            "    - role_adherence: 4.5\n",
            "    - tool_relevancy: 0.0\n",
            "    - parameter_correctness: 0.0\n",
            "\n",
            "  Record 8 (Task: 7133e89b-588b-451f-8fdc-454dba47d752):\n",
            "    - task_progression: 1.8\n",
            "    - context_relevancy: 4.5\n",
            "    - role_adherence: 4.5\n",
            "    - tool_relevancy: 0.0\n",
            "    - parameter_correctness: 0.0\n",
            "\n",
            "  Record 9 (Task: 7133e89b-588b-451f-8fdc-454dba47d752):\n",
            "    - task_progression: 2.2\n",
            "    - context_relevancy: 7.5\n",
            "    - role_adherence: 9.2\n",
            "    - tool_relevancy: 0.0\n",
            "    - parameter_correctness: 0.0\n",
            "\n",
            "  Record 10 (Task: 7133e89b-588b-451f-8fdc-454dba47d752):\n",
            "    - task_progression: 1.0\n",
            "    - context_relevancy: 1.2\n",
            "    - role_adherence: 1.0\n",
            "    - tool_relevancy: 0.0\n",
            "    - parameter_correctness: 0.0\n",
            "\n",
            "  Record 11 (Task: 7133e89b-588b-451f-8fdc-454dba47d752):\n",
            "    - task_progression: 1.8\n",
            "    - context_relevancy: 4.5\n",
            "    - role_adherence: 4.5\n",
            "    - tool_relevancy: 0.0\n",
            "    - parameter_correctness: 0.0\n",
            "\n",
            "  Record 12 (Task: 7133e89b-588b-451f-8fdc-454dba47d752):\n",
            "    - task_progression: 1.8\n",
            "    - context_relevancy: 4.5\n",
            "    - role_adherence: 4.5\n",
            "    - tool_relevancy: 0.0\n",
            "    - parameter_correctness: 0.0\n",
            "\n",
            "  Record 13 (Task: 7133e89b-588b-451f-8fdc-454dba47d752):\n",
            "    - task_progression: 1.8\n",
            "    - context_relevancy: 4.5\n",
            "    - role_adherence: 4.5\n",
            "    - tool_relevancy: 0.0\n",
            "    - parameter_correctness: 0.0\n",
            "\n",
            "  Record 14 (Task: 7133e89b-588b-451f-8fdc-454dba47d752):\n",
            "    - task_progression: 1.8\n",
            "    - context_relevancy: 4.5\n",
            "    - role_adherence: 4.5\n",
            "    - tool_relevancy: 0.0\n",
            "    - parameter_correctness: 0.0\n",
            "\n",
            "  Record 15 (Task: 7133e89b-588b-451f-8fdc-454dba47d752):\n",
            "    - task_progression: 1.8\n",
            "    - context_relevancy: 4.5\n",
            "    - role_adherence: 4.5\n",
            "    - tool_relevancy: 0.0\n",
            "    - parameter_correctness: 0.0\n",
            "\n",
            "  Record 16 (Task: 7133e89b-588b-451f-8fdc-454dba47d752):\n",
            "    - task_progression: 2.2\n",
            "    - context_relevancy: 7.2\n",
            "    - role_adherence: 8.7\n",
            "    - tool_relevancy: 0.0\n",
            "    - parameter_correctness: 0.0\n",
            "\n",
            "  Record 17 (Task: d8b73759-af67-4247-94cc-3b21b28edc06):\n",
            "    - task_progression: 1.0\n",
            "    - context_relevancy: 7.2\n",
            "    - role_adherence: 8.7\n",
            "    - tool_relevancy: 0.0\n",
            "    - parameter_correctness: 0.0\n",
            "\n",
            "  Record 18 (Task: d8b73759-af67-4247-94cc-3b21b28edc06):\n",
            "    - task_progression: 1.8\n",
            "    - context_relevancy: 4.5\n",
            "    - role_adherence: 4.5\n",
            "    - tool_relevancy: 0.0\n",
            "    - parameter_correctness: 0.0\n",
            "\n",
            "  Record 19 (Task: d8b73759-af67-4247-94cc-3b21b28edc06):\n",
            "    - task_progression: 1.8\n",
            "    - context_relevancy: 4.5\n",
            "    - role_adherence: 4.5\n",
            "    - tool_relevancy: 0.0\n",
            "    - parameter_correctness: 0.0\n",
            "\n",
            "  Record 20 (Task: d8b73759-af67-4247-94cc-3b21b28edc06):\n",
            "    - task_progression: 1.8\n",
            "    - context_relevancy: 4.5\n",
            "    - role_adherence: 4.5\n",
            "    - tool_relevancy: 0.0\n",
            "    - parameter_correctness: 0.0\n",
            "\n",
            "  Record 21 (Task: d8b73759-af67-4247-94cc-3b21b28edc06):\n",
            "    - task_progression: 1.8\n",
            "    - context_relevancy: 4.5\n",
            "    - role_adherence: 4.8\n",
            "    - tool_relevancy: 0.0\n",
            "    - parameter_correctness: 0.0\n",
            "\n",
            "  Record 22 (Task: d8b73759-af67-4247-94cc-3b21b28edc06):\n",
            "    - task_progression: 1.8\n",
            "    - context_relevancy: 4.5\n",
            "    - role_adherence: 4.5\n",
            "    - tool_relevancy: 0.0\n",
            "    - parameter_correctness: 0.0\n",
            "\n",
            "  Record 23 (Task: d8b73759-af67-4247-94cc-3b21b28edc06):\n",
            "    - task_progression: 2.2\n",
            "    - context_relevancy: 7.5\n",
            "    - role_adherence: 9.2\n",
            "    - tool_relevancy: 0.0\n",
            "    - parameter_correctness: 0.0\n",
            "\n",
            "  Record 24 (Task: d8b73759-af67-4247-94cc-3b21b28edc06):\n",
            "    - task_progression: 1.2\n",
            "    - context_relevancy: 1.2\n",
            "    - role_adherence: 1.0\n",
            "    - tool_relevancy: 0.0\n",
            "    - parameter_correctness: 0.0\n",
            "\n",
            "  Record 25 (Task: d8b73759-af67-4247-94cc-3b21b28edc06):\n",
            "    - task_progression: 1.8\n",
            "    - context_relevancy: 4.5\n",
            "    - role_adherence: 4.8\n",
            "    - tool_relevancy: 0.0\n",
            "    - parameter_correctness: 0.0\n",
            "\n",
            "  Record 26 (Task: d8b73759-af67-4247-94cc-3b21b28edc06):\n",
            "    - task_progression: 1.8\n",
            "    - context_relevancy: 4.5\n",
            "    - role_adherence: 4.5\n",
            "    - tool_relevancy: 0.0\n",
            "    - parameter_correctness: 0.0\n",
            "\n",
            "  Record 27 (Task: d8b73759-af67-4247-94cc-3b21b28edc06):\n",
            "    - task_progression: 1.8\n",
            "    - context_relevancy: 4.5\n",
            "    - role_adherence: 4.5\n",
            "    - tool_relevancy: 0.0\n",
            "    - parameter_correctness: 0.0\n",
            "\n",
            "  Record 28 (Task: d8b73759-af67-4247-94cc-3b21b28edc06):\n",
            "    - task_progression: 1.8\n",
            "    - context_relevancy: 4.5\n",
            "    - role_adherence: 4.5\n",
            "    - tool_relevancy: 0.0\n",
            "    - parameter_correctness: 0.0\n",
            "\n",
            "  Record 29 (Task: d8b73759-af67-4247-94cc-3b21b28edc06):\n",
            "    - task_progression: 1.2\n",
            "    - context_relevancy: 4.5\n",
            "    - role_adherence: 4.5\n",
            "    - tool_relevancy: 0.0\n",
            "    - parameter_correctness: 0.0\n",
            "\n",
            "  Record 30 (Task: d8b73759-af67-4247-94cc-3b21b28edc06):\n",
            "    - task_progression: 2.2\n",
            "    - context_relevancy: 7.5\n",
            "    - role_adherence: 9.2\n",
            "    - tool_relevancy: 0.0\n",
            "    - parameter_correctness: 0.0\n",
            "\n",
            "  Record 31 (Task: fc6158f7-6486-47cd-be26-05aa8db0ba04):\n",
            "    - task_progression: 2.8\n",
            "    - context_relevancy: 7.2\n",
            "    - role_adherence: 4.5\n",
            "    - tool_relevancy: 0.0\n",
            "    - parameter_correctness: 0.0\n",
            "\n",
            "  Record 32 (Task: fc6158f7-6486-47cd-be26-05aa8db0ba04):\n",
            "    - task_progression: 1.8\n",
            "    - context_relevancy: 4.5\n",
            "    - role_adherence: 4.5\n",
            "    - tool_relevancy: 0.0\n",
            "    - parameter_correctness: 0.0\n",
            "\n",
            "  Record 33 (Task: fc6158f7-6486-47cd-be26-05aa8db0ba04):\n",
            "    - task_progression: 1.8\n",
            "    - context_relevancy: 4.5\n",
            "    - role_adherence: 4.5\n",
            "    - tool_relevancy: 0.0\n",
            "    - parameter_correctness: 0.0\n",
            "\n",
            "  Record 34 (Task: fc6158f7-6486-47cd-be26-05aa8db0ba04):\n",
            "    - task_progression: 1.8\n",
            "    - context_relevancy: 4.5\n",
            "    - role_adherence: 4.5\n",
            "    - tool_relevancy: 0.0\n",
            "    - parameter_correctness: 0.0\n",
            "\n",
            "  Record 35 (Task: fc6158f7-6486-47cd-be26-05aa8db0ba04):\n",
            "    - task_progression: 2.2\n",
            "    - context_relevancy: 7.5\n",
            "    - role_adherence: 9.2\n",
            "    - tool_relevancy: 0.0\n",
            "    - parameter_correctness: 0.0\n",
            "\n",
            "  Record 36 (Task: fc6158f7-6486-47cd-be26-05aa8db0ba04):\n",
            "    - task_progression: 1.2\n",
            "    - context_relevancy: 1.0\n",
            "    - role_adherence: 4.8\n",
            "    - tool_relevancy: 0.0\n",
            "    - parameter_correctness: 0.0\n",
            "\n",
            "  Record 37 (Task: fc6158f7-6486-47cd-be26-05aa8db0ba04):\n",
            "    - task_progression: 1.8\n",
            "    - context_relevancy: 4.5\n",
            "    - role_adherence: 4.8\n",
            "    - tool_relevancy: 0.0\n",
            "    - parameter_correctness: 0.0\n",
            "\n",
            "  Record 38 (Task: fc6158f7-6486-47cd-be26-05aa8db0ba04):\n",
            "    - task_progression: 1.8\n",
            "    - context_relevancy: 4.5\n",
            "    - role_adherence: 4.5\n",
            "    - tool_relevancy: 0.0\n",
            "    - parameter_correctness: 0.0\n",
            "\n",
            "  Record 39 (Task: fc6158f7-6486-47cd-be26-05aa8db0ba04):\n",
            "    - task_progression: 1.8\n",
            "    - context_relevancy: 4.5\n",
            "    - role_adherence: 4.5\n",
            "    - tool_relevancy: 0.0\n",
            "    - parameter_correctness: 0.0\n",
            "\n",
            "  Record 40 (Task: fc6158f7-6486-47cd-be26-05aa8db0ba04):\n",
            "    - task_progression: 1.8\n",
            "    - context_relevancy: 4.5\n",
            "    - role_adherence: 4.5\n",
            "    - tool_relevancy: 0.0\n",
            "    - parameter_correctness: 0.0\n",
            "\n",
            "  Record 41 (Task: fc6158f7-6486-47cd-be26-05aa8db0ba04):\n",
            "    - task_progression: 1.8\n",
            "    - context_relevancy: 4.5\n",
            "    - role_adherence: 4.5\n",
            "    - tool_relevancy: 0.0\n",
            "    - parameter_correctness: 0.0\n",
            "\n",
            "  Record 42 (Task: fc6158f7-6486-47cd-be26-05aa8db0ba04):\n",
            "    - task_progression: 2.2\n",
            "    - context_relevancy: 7.2\n",
            "    - role_adherence: 9.2\n",
            "    - tool_relevancy: 0.0\n",
            "    - parameter_correctness: 0.0\n",
            "\n",
            "  Record 43 (Task: c007a165-eec9-4e2f-af5d-c874dd05842a):\n",
            "    - task_progression: 2.8\n",
            "    - context_relevancy: 7.2\n",
            "    - role_adherence: 6.8\n",
            "    - tool_relevancy: 0.0\n",
            "    - parameter_correctness: 0.0\n",
            "\n",
            "  Record 44 (Task: c007a165-eec9-4e2f-af5d-c874dd05842a):\n",
            "    - task_progression: 1.8\n",
            "    - context_relevancy: 4.5\n",
            "    - role_adherence: 4.5\n",
            "    - tool_relevancy: 0.0\n",
            "    - parameter_correctness: 0.0\n",
            "\n",
            "  Record 45 (Task: c007a165-eec9-4e2f-af5d-c874dd05842a):\n",
            "    - task_progression: 1.8\n",
            "    - context_relevancy: 4.5\n",
            "    - role_adherence: 4.5\n",
            "    - tool_relevancy: 0.0\n",
            "    - parameter_correctness: 0.0\n",
            "\n",
            "  Record 46 (Task: c007a165-eec9-4e2f-af5d-c874dd05842a):\n",
            "    - task_progression: 1.8\n",
            "    - context_relevancy: 4.5\n",
            "    - role_adherence: 4.5\n",
            "    - tool_relevancy: 0.0\n",
            "    - parameter_correctness: 0.0\n",
            "\n",
            "  Record 47 (Task: c007a165-eec9-4e2f-af5d-c874dd05842a):\n",
            "    - task_progression: 1.8\n",
            "    - context_relevancy: 4.5\n",
            "    - role_adherence: 4.5\n",
            "    - tool_relevancy: 0.0\n",
            "    - parameter_correctness: 0.0\n",
            "\n",
            "  Record 48 (Task: c007a165-eec9-4e2f-af5d-c874dd05842a):\n",
            "    - task_progression: 1.8\n",
            "    - context_relevancy: 4.5\n",
            "    - role_adherence: 4.5\n",
            "    - tool_relevancy: 0.0\n",
            "    - parameter_correctness: 0.0\n",
            "\n",
            "  Record 49 (Task: c007a165-eec9-4e2f-af5d-c874dd05842a):\n",
            "    - task_progression: 2.2\n",
            "    - context_relevancy: 7.5\n",
            "    - role_adherence: 9.2\n",
            "    - tool_relevancy: 0.0\n",
            "    - parameter_correctness: 0.0\n",
            "\n",
            "  Record 50 (Task: c007a165-eec9-4e2f-af5d-c874dd05842a):\n",
            "    - task_progression: 2.8\n",
            "    - context_relevancy: 7.2\n",
            "    - role_adherence: 4.5\n",
            "    - tool_relevancy: 0.0\n",
            "    - parameter_correctness: 0.0\n"
          ]
        },
        {
          "name": "stderr",
          "output_type": "stream",
          "text": [
            "\n"
          ]
        }
      ],
      "source": [
        "# Run evaluation using the AgentEvaluator's run_all method\n",
        "print(\"🚀 Running evaluation on sample data...\")\n",
        "\n",
        "if gemini_model and evaluator:\n",
        "    try:\n",
        "        # Create a smaller dataset for demo purposes\n",
        "        sample_data = [data for data in dataset.data if data.agent_response][:50]\n",
        "        print(f\"\\n📊 Evaluating {len(sample_data)} sample records...\")\n",
        "        \n",
        "        # Create a temporary dataset with just the sample data\n",
        "        sample_dataset = AgentDataset()\n",
        "        sample_dataset.data = sample_data\n",
        "        \n",
        "        # Create a new evaluator with the sample dataset\n",
        "        sample_evaluator = AgentEvaluator(\n",
        "            agent_dataset=sample_dataset,\n",
        "            models=[gemini_model],\n",
        "            scoring_functions=scoring_functions,\n",
        "            output_dir=\"./demo_results/sample_evaluation\",\n",
        "            stream=False,\n",
        "            include_reasoning=True\n",
        "        )\n",
        "        \n",
        "        # Run the evaluation\n",
        "        sample_evaluator.run_all(save_every=1, file_type=\"csv\")\n",
        "        \n",
        "        print(\"\\n✅ Evaluation completed!\")\n",
        "        \n",
        "        # Read and display results\n",
        "        import pandas as pd\n",
        "        results_file = \"./demo_results/sample_evaluation/agent_evaluation_results.csv\"\n",
        "        \n",
        "        if pd.io.common.file_exists(results_file):\n",
        "            results_df = pd.read_csv(results_file)\n",
        "            print(f\"\\n📊 Results Summary:\")\n",
        "            \n",
        "            # Calculate averages for each scorer\n",
        "            scorer_columns = [col for col in results_df.columns if col not in ['user_id', 'task_id', 'turn_id', 'agent_name'] and not col.endswith('_reasoning')]\n",
        "            \n",
        "            for col in scorer_columns:\n",
        "                if results_df[col].dtype in ['float64', 'int64']:\n",
        "                    avg_score = results_df[col].mean()\n",
        "                    print(f\"  - {col}: {avg_score:.2f}\")\n",
        "            \n",
        "            # Show individual scores\n",
        "            print(f\"\\n🔍 Individual Scores:\")\n",
        "            for i, row in results_df.iterrows():\n",
        "                print(f\"\\n  Record {i+1} (Task: {row.get('task_id', 'N/A')}):\")\n",
        "                for col in scorer_columns:\n",
        "                    if pd.notna(row[col]):\n",
        "                        print(f\"    - {col}: {row[col]}\")\n",
        "        else:\n",
        "            print(\"❌ Results file not found\")\n",
        "        \n",
        "    except Exception as e:\n",
        "        print(f\"❌ Error during evaluation: {e}\")\n",
        "        print(f\"Error type: {type(e).__name__}\")\n",
        "        import traceback\n",
        "        traceback.print_exc()\n",
        "        \n",
        "else:\n",
        "    print(\"⚠️  Skipping evaluation - missing model or evaluator\")\n"
      ]
    },
    {
      "cell_type": "markdown",
      "metadata": {},
      "source": [
        "## Step 7: Analysis and Insights\n"
      ]
    },
    {
      "cell_type": "code",
      "execution_count": 29,
      "metadata": {},
      "outputs": [
        {
          "name": "stdout",
          "output_type": "stream",
          "text": [
            "🔍 Dataset Analysis:\n",
            "\n",
            "=== Agent Behavior Patterns ===\n",
            "\n",
            "📈 Tool Usage:\n",
            "\n",
            "📋 Task Types:\n",
            "  - other: 3381\n",
            "\n",
            "📝 Response Statistics:\n",
            "  - Average response length: 616.9 characters\n",
            "  - Min response length: 70\n",
            "  - Max response length: 7309\n"
          ]
        }
      ],
      "source": [
        "# Analyze the dataset characteristics\n",
        "print(\"🔍 Dataset Analysis:\")\n",
        "print(\"\\n=== Agent Behavior Patterns ===\")\n",
        "\n",
        "# Analyze tool usage patterns\n",
        "tool_patterns = {}\n",
        "task_types = {}\n",
        "response_lengths = []\n",
        "\n",
        "for data in dataset.data:\n",
        "    # Tool usage\n",
        "    if data.tool_calls:\n",
        "        for tool_call in data.tool_calls:\n",
        "            if hasattr(tool_call, 'tool_name'):\n",
        "                tool_name = tool_call.tool_name\n",
        "                if tool_name not in tool_patterns:\n",
        "                    tool_patterns[tool_name] = {'count': 0, 'success_rate': 0}\n",
        "                tool_patterns[tool_name]['count'] += 1\n",
        "    \n",
        "    # Task analysis\n",
        "    if data.agent_task:\n",
        "        # Simple categorization\n",
        "        task_lower = data.agent_task.lower()\n",
        "        if 'user_input' in task_lower:\n",
        "            task_types['user_input'] = task_types.get('user_input', 0) + 1\n",
        "        elif 'exit' in task_lower:\n",
        "            task_types['exit_command'] = task_types.get('exit_command', 0) + 1\n",
        "        else:\n",
        "            task_types['other'] = task_types.get('other', 0) + 1\n",
        "    \n",
        "    # Response analysis\n",
        "    if data.agent_response:\n",
        "        response_lengths.append(len(data.agent_response))\n",
        "\n",
        "print(f\"\\n📈 Tool Usage:\")\n",
        "for tool, stats in tool_patterns.items():\n",
        "    print(f\"  - {tool}: {stats['count']} uses\")\n",
        "\n",
        "print(f\"\\n📋 Task Types:\")\n",
        "for task_type, count in task_types.items():\n",
        "    print(f\"  - {task_type}: {count}\")\n",
        "\n",
        "if response_lengths:\n",
        "    avg_response_length = sum(response_lengths) / len(response_lengths)\n",
        "    print(f\"\\n📝 Response Statistics:\")\n",
        "    print(f\"  - Average response length: {avg_response_length:.1f} characters\")\n",
        "    print(f\"  - Min response length: {min(response_lengths)}\")\n",
        "    print(f\"  - Max response length: {max(response_lengths)}\")\n"
      ]
    },
    {
      "cell_type": "markdown",
      "metadata": {},
      "source": [
        "## Step 8: Export Results (Optional)\n"
      ]
    },
    {
      "cell_type": "code",
      "execution_count": 30,
      "metadata": {},
      "outputs": [
        {
          "name": "stdout",
          "output_type": "stream",
          "text": [
            "💾 Exporting processed dataset...\n",
            "✅ Exported to processed_agent_dataset_filtered_mapped.json\n",
            "✅ Exported to processed_agent_dataset.csv\n",
            "\n",
            "🎉 Demo completed successfully!\n",
            "\n",
            "📋 Summary:\n",
            "  - Processed 3381 spans from dataset_filtered_mapped.json\n",
            "  - Created 3381 AgentData records\n",
            "  - Configured evaluation with Gemini model and 6 scorers\n",
            "  - Exported processed dataset for future use\n"
          ]
        }
      ],
      "source": [
        "\n",
        "# Export the processed dataset for future use\n",
        "print(\"💾 Exporting processed dataset...\")\n",
        "\n",
        "try:\n",
        "    # Export to JSON\n",
        "    dataset.export_to_json(f'processed_agent_{file_name}')\n",
        "    print(f\"✅ Exported to processed_agent_{file_name}\")\n",
        "    \n",
        "    # Export to CSV (optional)\n",
        "    dataset.export_to_csv('processed_agent_dataset.csv')\n",
        "    print(\"✅ Exported to processed_agent_dataset.csv\")\n",
        "    \n",
        "except Exception as e:\n",
        "    print(f\"❌ Export error: {e}\")\n",
        "\n",
        "print(\"\\n🎉 Demo completed successfully!\")\n",
        "print(\"\\n📋 Summary:\")\n",
        "print(f\"  - Processed {len(spans_data)} spans from {file_name}\")\n",
        "print(f\"  - Created {len(dataset.data)} AgentData records\")\n",
        "print(f\"  - Configured evaluation with Gemini model and 6 scorers\")\n",
        "if 'results' in locals():\n",
        "    print(f\"  - Successfully evaluated sample data\")\n",
        "print(f\"  - Exported processed dataset for future use\")\n"
      ]
    },
    {
      "cell_type": "code",
      "execution_count": null,
      "metadata": {},
      "outputs": [],
      "source": []
    },
    {
      "cell_type": "code",
      "execution_count": null,
      "metadata": {},
      "outputs": [],
      "source": []
    }
  ],
  "metadata": {
    "kernelspec": {
      "display_name": ".venv",
      "language": "python",
      "name": "python3"
    },
    "language_info": {
      "codemirror_mode": {
        "name": "ipython",
        "version": 3
      },
      "file_extension": ".py",
      "mimetype": "text/x-python",
      "name": "python",
      "nbconvert_exporter": "python",
      "pygments_lexer": "ipython3",
      "version": "3.10.12"
    }
  },
  "nbformat": 4,
  "nbformat_minor": 2
}
