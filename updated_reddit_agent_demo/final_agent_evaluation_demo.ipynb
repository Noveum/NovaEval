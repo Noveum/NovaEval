{
  "cells": [
    {
      "cell_type": "markdown",
      "metadata": {},
      "source": [
        "# The agent as shown on Noveum.ai platform\n",
        "\n",
        "![Alt text](image.png)"
      ]
    },
    {
      "cell_type": "code",
      "execution_count": null,
      "metadata": {},
      "outputs": [],
      "source": [
        "\n"
      ]
    },
    {
      "cell_type": "markdown",
      "metadata": {},
      "source": [
        "# Final Agent Evaluation Demo with NovaEval\n",
        "\n",
        "This notebook demonstrates a streamlined approach to agent evaluation using modular utility functions:\n",
        "\n",
        "1. **Load agent trace data** from JSON datasets\n",
        "2. **Map trace spans** to AgentData format using utility functions\n",
        "3. **Create and analyze** AgentDataset\n",
        "4. **Evaluate agent performance** using AgentEvaluator with Gemini model\n",
        "5. **Analyze results** and export data\n",
        "\n"
      ]
    },
    {
      "cell_type": "markdown",
      "metadata": {},
      "source": [
        "# Scorers Used\n",
        "\n",
        "**context_relevancy_scorer** - Evaluates whether the agent response is appropriate and relevant given the agent's task and role.\n",
        "\n",
        "**role_adherence_scorer** - Scores whether the agent's tool calls and response adhere to its assigned role and task.\n",
        "\n",
        "**task_progression_scorer** - Measures whether the agent has made meaningful progress on the assigned task.\n",
        "\n",
        "**tool_relevancy_scorer** - Assesses how relevant and appropriate the tool call is given the available tools and the agent's context.\n",
        "\n",
        "**tool_correctness_scorer** - Compares actual tool calls against expected tool calls to evaluate correctness of tool usage and parameters.\n",
        "\n",
        "**parameter_correctness_scorer** - Validates whether correct parameters were passed to tool calls by analyzing the tool results."
      ]
    },
    {
      "cell_type": "code",
      "execution_count": null,
      "metadata": {},
      "outputs": [],
      "source": [
        "\n"
      ]
    },
    {
      "cell_type": "markdown",
      "metadata": {},
      "source": [
        "## Step 1: Import Dependencies and Utility Functions\n"
      ]
    },
    {
      "cell_type": "code",
      "execution_count": 9,
      "metadata": {},
      "outputs": [
        {
          "name": "stdout",
          "output_type": "stream",
          "text": [
            "✅ All utility functions imported successfully!\n"
          ]
        }
      ],
      "source": [
        "# Import our custom utility functions\n",
        "from demo_utils import (\n",
        "    list_dataset_files,\n",
        "    load_and_analyze_dataset,\n",
        "    convert_spans_to_agent_dataset,\n",
        "    analyze_dataset_statistics,\n",
        "    setup_gemini_model,\n",
        "    setup_agent_evaluator,\n",
        "    run_evaluation,\n",
        "    analyze_agent_behavior_patterns,\n",
        "    export_processed_dataset,\n",
        "    setup_logging,\n",
        "    validate_environment,\n",
        "    print_demo_summary\n",
        ")\n",
        "\n",
        "print(\"✅ All utility functions imported successfully!\")\n"
      ]
    },
    {
      "cell_type": "code",
      "execution_count": null,
      "metadata": {},
      "outputs": [],
      "source": []
    },
    {
      "cell_type": "code",
      "execution_count": 10,
      "metadata": {},
      "outputs": [
        {
          "name": "stdout",
          "output_type": "stream",
          "text": [
            "Reading dataset.json...\n",
            "Original dataset: 2887 records\n",
            "Filtering spans...\n",
            "After filtering: 2383 records\n",
            "Converting tool output format...\n",
            "Writing dataset_filtered.json...\n",
            "Filtering complete! Output: dataset_filtered.json\n",
            "\n",
            "Success! Created dataset_filtered.json\n",
            "Reading dataset_filtered.json...\n",
            "Input dataset: 2383 records\n",
            "Mapping spans...\n",
            "Writing dataset_filtered_mapped.json...\n",
            "Mapping complete! Output: dataset_filtered_mapped.json\n",
            "\n",
            "Success! Created dataset_filtered_mapped.json\n",
            "Input file: dataset_filtered_mapped.json\n",
            "Output directory: split_datasets\n",
            "\n",
            "Loading dataset from dataset_filtered_mapped.json...\n",
            "Loaded 2383 objects\n",
            "Found 16 unique span names\n",
            "Using sanitized name: agent:research_coordinator:research_coordinator -> agent_research_coordinator_research_coordinator_dataset.json\n",
            "  Wrote 9 objects to split_datasets/agent_research_coordinator_research_coordinator_dataset.json\n",
            "Using sanitized name: agent:search_agent:search_agent -> agent_search_agent_search_agent_dataset.json\n",
            "  Wrote 9 objects to split_datasets/agent_search_agent_search_agent_dataset.json\n",
            "Using sanitized name: tool:academic_search:academic_search_tool -> tool_academic_search_academic_search_tool_dataset.json\n",
            "  Wrote 9 objects to split_datasets/tool_academic_search_academic_search_tool_dataset.json\n",
            "Using sanitized name: llm_analysis_call -> llm_analysis_call_dataset.json\n",
            "  Wrote 9 objects to split_datasets/llm_analysis_call_dataset.json\n",
            "Using sanitized name: tool:web_search:web_search_tool -> tool_web_search_web_search_tool_dataset.json\n",
            "  Wrote 9 objects to split_datasets/tool_web_search_web_search_tool_dataset.json\n",
            "Using sanitized name: agent:analysis_agent:analysis_agent -> agent_analysis_agent_analysis_agent_dataset.json\n",
            "  Wrote 9 objects to split_datasets/agent_analysis_agent_analysis_agent_dataset.json\n",
            "Using sanitized name: agent:summary_agent:summary_agent -> agent_summary_agent_summary_agent_dataset.json\n",
            "  Wrote 9 objects to split_datasets/agent_summary_agent_summary_agent_dataset.json\n",
            "Using sanitized name: llm_summary_call -> llm_summary_call_dataset.json\n",
            "  Wrote 9 objects to split_datasets/llm_summary_call_dataset.json\n",
            "Using sanitized name: llm_with_function_calling -> llm_with_function_calling_dataset.json\n",
            "  Wrote 3 objects to split_datasets/llm_with_function_calling_dataset.json\n",
            "Using sanitized name: tool:get_weather:get_weather -> tool_get_weather_get_weather_dataset.json\n",
            "  Wrote 3 objects to split_datasets/tool_get_weather_get_weather_dataset.json\n",
            "Using sanitized name: call_llm -> call_llm_dataset.json\n",
            "  Wrote 9 objects to split_datasets/call_llm_dataset.json\n",
            "Using hardcoded mapping: agent.query_generation -> agent_query_gen_dataset.json\n",
            "  Wrote 319 objects to split_datasets/agent_query_gen_dataset.json\n",
            "Using hardcoded mapping: tool:tavily_search_results_json:tavily_search_results_json -> tavily_search_results_dataset.json\n",
            "  Wrote 1582 objects to split_datasets/tavily_search_results_dataset.json\n",
            "Using hardcoded mapping: post_validation -> post_validation_dataset.json\n",
            "  Wrote 315 objects to split_datasets/post_validation_dataset.json\n",
            "Using hardcoded mapping: agent.comment_generation -> agent_comment_gen_dataset.json\n",
            "  Wrote 40 objects to split_datasets/agent_comment_gen_dataset.json\n",
            "Using hardcoded mapping: email_generation_and_sending -> email_gen_send_dataset.json\n",
            "  Wrote 40 objects to split_datasets/email_gen_send_dataset.json\n",
            "\n",
            "Split complete! Created 16 files in split_datasets\n"
          ]
        }
      ],
      "source": [
        "!python preprocess_filter.py dataset.json\n",
        "!python preprocess_map.py dataset_filtered.json\n",
        "!python preprocess_split_data.py dataset_filtered_mapped.json"
      ]
    },
    {
      "cell_type": "code",
      "execution_count": 11,
      "metadata": {},
      "outputs": [
        {
          "name": "stdout",
          "output_type": "stream",
          "text": [
            "🚀 Starting Complete Agent Evaluation Pipeline\n",
            "📁 Processing file: split_datasets/agent_comment_gen_dataset.json\n",
            "============================================================\n",
            "\n",
            "📋 Step 1: Environment Setup\n",
            "✅ Logging configured at INFO level\n",
            "🔍 Environment validation:\n",
            "  ✅ gemini_api_key: True\n",
            "  ✅ pandas_available: True\n",
            "  ✅ novaeval_available: True\n",
            "✅ Environment ready for evaluation!\n",
            "\n",
            "📋 Step 2: Loading Dataset\n",
            "📊 Loaded 40 spans from split_datasets/agent_comment_gen_dataset.json\n",
            "\n",
            "🔍 Available span types:\n",
            "  - agent.comment_generation: 40\n",
            "✅ Dataset loaded: 40 spans\n",
            "\n",
            "📋 Step 3: Converting to AgentDataset Format\n",
            "🔄 Converting spans to AgentData objects...\n",
            "\n",
            "✅ Successfully converted 40 spans to AgentData\n",
            "📊 AgentDataset created with 40 records\n",
            "✅ AgentDataset created: 40 records\n",
            "\n",
            "📋 Step 4: Dataset Analysis\n",
            "📈 Dataset Statistics:\n",
            "\n",
            "Agent Types: {'agent': 40}\n",
            "Records with responses: 40\n",
            "Records with tool calls: 0\n",
            "Records with retrieval: 0\n",
            "Tool usage: {}\n",
            "🔍 Dataset Analysis:\n",
            "\n",
            "=== Agent Behavior Patterns ===\n",
            "\n",
            "📈 Tool Usage:\n",
            "\n",
            "📋 Task Types:\n",
            "  - other: 40\n",
            "\n",
            "📝 Response Statistics:\n",
            "  - Average response length: 326.2 characters\n",
            "  - Min response length: 253\n",
            "  - Max response length: 467\n",
            "\n",
            "📋 Step 5: Setting up Evaluation\n",
            "✅ GEMINI_API_KEY found in environment\n",
            "2025-10-02 14:35:30 - INFO - novaeval.models.base - Noveum tracing initialized successfully\n",
            "✅ Gemini model initialized\n",
            "✅ Initialized 5 scoring functions:\n",
            "  - task_progression_scorer\n",
            "  - context_relevancy_scorer\n",
            "  - role_adherence_scorer\n",
            "  - tool_relevancy_scorer\n",
            "  - parameter_correctness_scorer\n",
            "\n",
            "✅ AgentEvaluator created with Gemini model and scoring functions\n",
            "✅ Evaluation components ready!\n",
            "\n",
            "📋 Step 6: Running Evaluation\n",
            "🎯 Evaluating 25 samples...\n",
            "🚀 Running evaluation on sample data...\n",
            "\n",
            "📊 Evaluating 25 sample records...\n",
            "2025-10-02 14:35:30 - INFO - novaeval.evaluators.agent_evaluator - Starting agent evaluation process\n"
          ]
        },
        {
          "name": "stderr",
          "output_type": "stream",
          "text": [
            "Evaluating samples: 0it [00:00, ?it/s]"
          ]
        },
        {
          "name": "stdout",
          "output_type": "stream",
          "text": [
            "2025-10-02 14:35:30 - INFO - google_genai.models - AFC is enabled with max remote calls: 10.\n",
            "2025-10-02 14:35:32 - INFO - google_genai.models - AFC remote call 1 is done.\n"
          ]
        },
        {
          "name": "stderr",
          "output_type": "stream",
          "text": [
            "2025-10-02 14:35:32 - noveum_trace.transport.http_transport - INFO - 📤 EXPORTING TRACE: auto_trace_generate (ID: 6b639484-7be6-40d1-86b4-7cda878fac60) - 1 spans\n",
            "2025-10-02 14:35:32 - noveum_trace.transport.batch_processor - INFO - 📥 ADDING TRACE TO QUEUE: auto_trace_generate (ID: 6b639484-7be6-40d1-86b4-7cda878fac60) - 1 spans\n",
            "2025-10-02 14:35:32 - noveum_trace.transport.batch_processor - INFO - ✅ Successfully queued trace 6b639484-7be6-40d1-86b4-7cda878fac60\n",
            "2025-10-02 14:35:32 - noveum_trace.transport.http_transport - INFO - ✅ Trace 6b639484-7be6-40d1-86b4-7cda878fac60 successfully queued for export\n"
          ]
        },
        {
          "name": "stdout",
          "output_type": "stream",
          "text": [
            "2025-10-02 14:35:32 - INFO - google_genai.models - AFC is enabled with max remote calls: 10.\n",
            "2025-10-02 14:35:33 - INFO - google_genai.models - AFC remote call 1 is done.\n"
          ]
        },
        {
          "name": "stderr",
          "output_type": "stream",
          "text": [
            "2025-10-02 14:35:33 - noveum_trace.transport.http_transport - INFO - 📤 EXPORTING TRACE: auto_trace_generate (ID: 119fa3ba-8924-4ca8-ae6f-71fb9bdeb190) - 1 spans\n",
            "2025-10-02 14:35:33 - noveum_trace.transport.batch_processor - INFO - 📥 ADDING TRACE TO QUEUE: auto_trace_generate (ID: 119fa3ba-8924-4ca8-ae6f-71fb9bdeb190) - 1 spans\n",
            "2025-10-02 14:35:33 - noveum_trace.transport.batch_processor - INFO - ✅ Successfully queued trace 119fa3ba-8924-4ca8-ae6f-71fb9bdeb190\n",
            "2025-10-02 14:35:33 - noveum_trace.transport.http_transport - INFO - ✅ Trace 119fa3ba-8924-4ca8-ae6f-71fb9bdeb190 successfully queued for export\n"
          ]
        },
        {
          "name": "stdout",
          "output_type": "stream",
          "text": [
            "2025-10-02 14:35:33 - INFO - google_genai.models - AFC is enabled with max remote calls: 10.\n",
            "2025-10-02 14:35:34 - INFO - google_genai.models - AFC remote call 1 is done.\n"
          ]
        },
        {
          "name": "stderr",
          "output_type": "stream",
          "text": [
            "2025-10-02 14:35:34 - noveum_trace.transport.http_transport - INFO - 📤 EXPORTING TRACE: auto_trace_generate (ID: 46317135-cac0-4721-8129-8a3e71d3179d) - 1 spans\n",
            "2025-10-02 14:35:34 - noveum_trace.transport.batch_processor - INFO - 📥 ADDING TRACE TO QUEUE: auto_trace_generate (ID: 46317135-cac0-4721-8129-8a3e71d3179d) - 1 spans\n",
            "2025-10-02 14:35:34 - noveum_trace.transport.batch_processor - INFO - ✅ Successfully queued trace 46317135-cac0-4721-8129-8a3e71d3179d\n",
            "2025-10-02 14:35:34 - noveum_trace.transport.http_transport - INFO - ✅ Trace 46317135-cac0-4721-8129-8a3e71d3179d successfully queued for export\n"
          ]
        },
        {
          "name": "stdout",
          "output_type": "stream",
          "text": [
            "2025-10-02 14:35:34 - INFO - novaeval.evaluators.agent_evaluator - Saving intermediate results after 1 samples\n",
            "2025-10-02 14:35:34 - INFO - novaeval.evaluators.agent_evaluator - Intermediate results saved to demo_results/agent_comment_gen_dataset/agent_evaluation_results.csv\n"
          ]
        },
        {
          "name": "stderr",
          "output_type": "stream",
          "text": [
            "Evaluating samples: 1it [00:04,  4.85s/it]"
          ]
        },
        {
          "name": "stdout",
          "output_type": "stream",
          "text": [
            "2025-10-02 14:35:34 - INFO - google_genai.models - AFC is enabled with max remote calls: 10.\n",
            "2025-10-02 14:35:36 - INFO - google_genai.models - AFC remote call 1 is done.\n"
          ]
        },
        {
          "name": "stderr",
          "output_type": "stream",
          "text": [
            "2025-10-02 14:35:36 - noveum_trace.transport.http_transport - INFO - 📤 EXPORTING TRACE: auto_trace_generate (ID: 6a5be2dc-7998-41ac-b36b-5221cfa15986) - 1 spans\n",
            "2025-10-02 14:35:36 - noveum_trace.transport.batch_processor - INFO - 📥 ADDING TRACE TO QUEUE: auto_trace_generate (ID: 6a5be2dc-7998-41ac-b36b-5221cfa15986) - 1 spans\n",
            "2025-10-02 14:35:36 - noveum_trace.transport.batch_processor - INFO - ✅ Successfully queued trace 6a5be2dc-7998-41ac-b36b-5221cfa15986\n",
            "2025-10-02 14:35:36 - noveum_trace.transport.http_transport - INFO - ✅ Trace 6a5be2dc-7998-41ac-b36b-5221cfa15986 successfully queued for export\n"
          ]
        },
        {
          "name": "stdout",
          "output_type": "stream",
          "text": [
            "2025-10-02 14:35:36 - INFO - google_genai.models - AFC is enabled with max remote calls: 10.\n",
            "2025-10-02 14:35:37 - INFO - google_genai.models - AFC remote call 1 is done.\n"
          ]
        },
        {
          "name": "stderr",
          "output_type": "stream",
          "text": [
            "2025-10-02 14:35:37 - noveum_trace.transport.http_transport - INFO - 📤 EXPORTING TRACE: auto_trace_generate (ID: 7ac22398-b97c-48c9-9383-36827c7022fc) - 1 spans\n",
            "2025-10-02 14:35:37 - noveum_trace.transport.batch_processor - INFO - 📥 ADDING TRACE TO QUEUE: auto_trace_generate (ID: 7ac22398-b97c-48c9-9383-36827c7022fc) - 1 spans\n",
            "2025-10-02 14:35:37 - noveum_trace.transport.batch_processor - INFO - ✅ Successfully queued trace 7ac22398-b97c-48c9-9383-36827c7022fc\n",
            "2025-10-02 14:35:37 - noveum_trace.transport.http_transport - INFO - ✅ Trace 7ac22398-b97c-48c9-9383-36827c7022fc successfully queued for export\n"
          ]
        },
        {
          "name": "stdout",
          "output_type": "stream",
          "text": [
            "2025-10-02 14:35:37 - INFO - google_genai.models - AFC is enabled with max remote calls: 10.\n",
            "2025-10-02 14:35:39 - INFO - google_genai.models - AFC remote call 1 is done.\n"
          ]
        },
        {
          "name": "stderr",
          "output_type": "stream",
          "text": [
            "2025-10-02 14:35:39 - noveum_trace.transport.http_transport - INFO - 📤 EXPORTING TRACE: auto_trace_generate (ID: bd2af9f1-0fb8-4ef0-99f8-b2dc5b131f1d) - 1 spans\n",
            "2025-10-02 14:35:39 - noveum_trace.transport.batch_processor - INFO - 📥 ADDING TRACE TO QUEUE: auto_trace_generate (ID: bd2af9f1-0fb8-4ef0-99f8-b2dc5b131f1d) - 1 spans\n",
            "2025-10-02 14:35:39 - noveum_trace.transport.batch_processor - INFO - ✅ Successfully queued trace bd2af9f1-0fb8-4ef0-99f8-b2dc5b131f1d\n",
            "2025-10-02 14:35:39 - noveum_trace.transport.http_transport - INFO - ✅ Trace bd2af9f1-0fb8-4ef0-99f8-b2dc5b131f1d successfully queued for export\n"
          ]
        },
        {
          "name": "stdout",
          "output_type": "stream",
          "text": [
            "2025-10-02 14:35:39 - INFO - novaeval.evaluators.agent_evaluator - Saving intermediate results after 2 samples\n",
            "2025-10-02 14:35:39 - INFO - novaeval.evaluators.agent_evaluator - Intermediate results saved to demo_results/agent_comment_gen_dataset/agent_evaluation_results.csv\n"
          ]
        },
        {
          "name": "stderr",
          "output_type": "stream",
          "text": [
            "Evaluating samples: 2it [00:09,  4.46s/it]"
          ]
        },
        {
          "name": "stdout",
          "output_type": "stream",
          "text": [
            "2025-10-02 14:35:39 - INFO - google_genai.models - AFC is enabled with max remote calls: 10.\n",
            "2025-10-02 14:35:40 - INFO - google_genai.models - AFC remote call 1 is done.\n"
          ]
        },
        {
          "name": "stderr",
          "output_type": "stream",
          "text": [
            "2025-10-02 14:35:40 - noveum_trace.transport.http_transport - INFO - 📤 EXPORTING TRACE: auto_trace_generate (ID: d8e728ac-70e5-4d55-8f71-9ed1ba7d6833) - 1 spans\n",
            "2025-10-02 14:35:40 - noveum_trace.transport.batch_processor - INFO - 📥 ADDING TRACE TO QUEUE: auto_trace_generate (ID: d8e728ac-70e5-4d55-8f71-9ed1ba7d6833) - 1 spans\n",
            "2025-10-02 14:35:40 - noveum_trace.transport.batch_processor - INFO - ✅ Successfully queued trace d8e728ac-70e5-4d55-8f71-9ed1ba7d6833\n",
            "2025-10-02 14:35:40 - noveum_trace.transport.http_transport - INFO - ✅ Trace d8e728ac-70e5-4d55-8f71-9ed1ba7d6833 successfully queued for export\n"
          ]
        },
        {
          "name": "stdout",
          "output_type": "stream",
          "text": [
            "2025-10-02 14:35:40 - INFO - google_genai.models - AFC is enabled with max remote calls: 10.\n",
            "2025-10-02 14:35:41 - INFO - google_genai.models - AFC remote call 1 is done.\n"
          ]
        },
        {
          "name": "stderr",
          "output_type": "stream",
          "text": [
            "2025-10-02 14:35:41 - noveum_trace.transport.http_transport - INFO - 📤 EXPORTING TRACE: auto_trace_generate (ID: 88445a95-6bbb-4d05-9f1f-8d2a3aecce07) - 1 spans\n",
            "2025-10-02 14:35:41 - noveum_trace.transport.batch_processor - INFO - 📥 ADDING TRACE TO QUEUE: auto_trace_generate (ID: 88445a95-6bbb-4d05-9f1f-8d2a3aecce07) - 1 spans\n",
            "2025-10-02 14:35:41 - noveum_trace.transport.batch_processor - INFO - ✅ Successfully queued trace 88445a95-6bbb-4d05-9f1f-8d2a3aecce07\n",
            "2025-10-02 14:35:41 - noveum_trace.transport.http_transport - INFO - ✅ Trace 88445a95-6bbb-4d05-9f1f-8d2a3aecce07 successfully queued for export\n"
          ]
        },
        {
          "name": "stdout",
          "output_type": "stream",
          "text": [
            "2025-10-02 14:35:41 - INFO - google_genai.models - AFC is enabled with max remote calls: 10.\n",
            "2025-10-02 14:35:43 - INFO - google_genai.models - AFC remote call 1 is done.\n"
          ]
        },
        {
          "name": "stderr",
          "output_type": "stream",
          "text": [
            "2025-10-02 14:35:43 - noveum_trace.transport.http_transport - INFO - 📤 EXPORTING TRACE: auto_trace_generate (ID: 595c011a-3023-43aa-81b3-1b88bd197187) - 1 spans\n",
            "2025-10-02 14:35:43 - noveum_trace.transport.batch_processor - INFO - 📥 ADDING TRACE TO QUEUE: auto_trace_generate (ID: 595c011a-3023-43aa-81b3-1b88bd197187) - 1 spans\n",
            "2025-10-02 14:35:43 - noveum_trace.transport.batch_processor - INFO - ✅ Successfully queued trace 595c011a-3023-43aa-81b3-1b88bd197187\n",
            "2025-10-02 14:35:43 - noveum_trace.transport.http_transport - INFO - ✅ Trace 595c011a-3023-43aa-81b3-1b88bd197187 successfully queued for export\n"
          ]
        },
        {
          "name": "stdout",
          "output_type": "stream",
          "text": [
            "2025-10-02 14:35:43 - INFO - novaeval.evaluators.agent_evaluator - Saving intermediate results after 3 samples\n",
            "2025-10-02 14:35:43 - INFO - novaeval.evaluators.agent_evaluator - Intermediate results saved to demo_results/agent_comment_gen_dataset/agent_evaluation_results.csv\n"
          ]
        },
        {
          "name": "stderr",
          "output_type": "stream",
          "text": [
            "Evaluating samples: 3it [00:13,  4.25s/it]"
          ]
        },
        {
          "name": "stdout",
          "output_type": "stream",
          "text": [
            "2025-10-02 14:35:43 - INFO - google_genai.models - AFC is enabled with max remote calls: 10.\n",
            "2025-10-02 14:35:44 - INFO - google_genai.models - AFC remote call 1 is done.\n"
          ]
        },
        {
          "name": "stderr",
          "output_type": "stream",
          "text": [
            "2025-10-02 14:35:44 - noveum_trace.transport.http_transport - INFO - 📤 EXPORTING TRACE: auto_trace_generate (ID: b4723031-32d5-4901-a656-2dd6d2dff272) - 1 spans\n",
            "2025-10-02 14:35:44 - noveum_trace.transport.batch_processor - INFO - 📥 ADDING TRACE TO QUEUE: auto_trace_generate (ID: b4723031-32d5-4901-a656-2dd6d2dff272) - 1 spans\n",
            "2025-10-02 14:35:44 - noveum_trace.transport.batch_processor - INFO - ✅ Successfully queued trace b4723031-32d5-4901-a656-2dd6d2dff272\n",
            "2025-10-02 14:35:44 - noveum_trace.transport.http_transport - INFO - ✅ Trace b4723031-32d5-4901-a656-2dd6d2dff272 successfully queued for export\n"
          ]
        },
        {
          "name": "stdout",
          "output_type": "stream",
          "text": [
            "2025-10-02 14:35:44 - INFO - google_genai.models - AFC is enabled with max remote calls: 10.\n",
            "2025-10-02 14:35:46 - INFO - google_genai.models - AFC remote call 1 is done.\n"
          ]
        },
        {
          "name": "stderr",
          "output_type": "stream",
          "text": [
            "2025-10-02 14:35:46 - noveum_trace.transport.http_transport - INFO - 📤 EXPORTING TRACE: auto_trace_generate (ID: e0951cdf-8bb8-4135-9aa3-84dc563c4cc4) - 1 spans\n",
            "2025-10-02 14:35:46 - noveum_trace.transport.batch_processor - INFO - 📥 ADDING TRACE TO QUEUE: auto_trace_generate (ID: e0951cdf-8bb8-4135-9aa3-84dc563c4cc4) - 1 spans\n",
            "2025-10-02 14:35:46 - noveum_trace.transport.batch_processor - INFO - ✅ Successfully queued trace e0951cdf-8bb8-4135-9aa3-84dc563c4cc4\n",
            "2025-10-02 14:35:46 - noveum_trace.transport.http_transport - INFO - ✅ Trace e0951cdf-8bb8-4135-9aa3-84dc563c4cc4 successfully queued for export\n"
          ]
        },
        {
          "name": "stdout",
          "output_type": "stream",
          "text": [
            "2025-10-02 14:35:46 - INFO - google_genai.models - AFC is enabled with max remote calls: 10.\n",
            "2025-10-02 14:35:47 - INFO - google_genai.models - AFC remote call 1 is done.\n"
          ]
        },
        {
          "name": "stderr",
          "output_type": "stream",
          "text": [
            "2025-10-02 14:35:47 - noveum_trace.transport.http_transport - INFO - 📤 EXPORTING TRACE: auto_trace_generate (ID: 8bc02ba1-6c6a-470a-8289-2740adc4ee5a) - 1 spans\n",
            "2025-10-02 14:35:47 - noveum_trace.transport.batch_processor - INFO - 📥 ADDING TRACE TO QUEUE: auto_trace_generate (ID: 8bc02ba1-6c6a-470a-8289-2740adc4ee5a) - 1 spans\n",
            "2025-10-02 14:35:47 - noveum_trace.transport.batch_processor - INFO - ✅ Successfully queued trace 8bc02ba1-6c6a-470a-8289-2740adc4ee5a\n",
            "2025-10-02 14:35:47 - noveum_trace.transport.http_transport - INFO - ✅ Trace 8bc02ba1-6c6a-470a-8289-2740adc4ee5a successfully queued for export\n"
          ]
        },
        {
          "name": "stdout",
          "output_type": "stream",
          "text": [
            "2025-10-02 14:35:47 - INFO - novaeval.evaluators.agent_evaluator - Saving intermediate results after 4 samples\n",
            "2025-10-02 14:35:47 - INFO - novaeval.evaluators.agent_evaluator - Intermediate results saved to demo_results/agent_comment_gen_dataset/agent_evaluation_results.csv\n"
          ]
        },
        {
          "name": "stderr",
          "output_type": "stream",
          "text": [
            "Evaluating samples: 4it [00:17,  4.24s/it]"
          ]
        },
        {
          "name": "stdout",
          "output_type": "stream",
          "text": [
            "2025-10-02 14:35:47 - INFO - google_genai.models - AFC is enabled with max remote calls: 10.\n",
            "2025-10-02 14:35:48 - INFO - google_genai.models - AFC remote call 1 is done.\n"
          ]
        },
        {
          "name": "stderr",
          "output_type": "stream",
          "text": [
            "2025-10-02 14:35:48 - noveum_trace.transport.http_transport - INFO - 📤 EXPORTING TRACE: auto_trace_generate (ID: f2dfb8d8-5dff-43b9-9037-0eeaf542543f) - 1 spans\n",
            "2025-10-02 14:35:48 - noveum_trace.transport.batch_processor - INFO - 📥 ADDING TRACE TO QUEUE: auto_trace_generate (ID: f2dfb8d8-5dff-43b9-9037-0eeaf542543f) - 1 spans\n",
            "2025-10-02 14:35:48 - noveum_trace.transport.batch_processor - INFO - ✅ Successfully queued trace f2dfb8d8-5dff-43b9-9037-0eeaf542543f\n",
            "2025-10-02 14:35:48 - noveum_trace.transport.http_transport - INFO - ✅ Trace f2dfb8d8-5dff-43b9-9037-0eeaf542543f successfully queued for export\n"
          ]
        },
        {
          "name": "stdout",
          "output_type": "stream",
          "text": [
            "2025-10-02 14:35:48 - INFO - google_genai.models - AFC is enabled with max remote calls: 10.\n",
            "2025-10-02 14:35:50 - INFO - google_genai.models - AFC remote call 1 is done.\n"
          ]
        },
        {
          "name": "stderr",
          "output_type": "stream",
          "text": [
            "2025-10-02 14:35:50 - noveum_trace.transport.http_transport - INFO - 📤 EXPORTING TRACE: auto_trace_generate (ID: 9d2372c9-f2ff-4630-b567-4719e4f3151c) - 1 spans\n",
            "2025-10-02 14:35:50 - noveum_trace.transport.batch_processor - INFO - 📥 ADDING TRACE TO QUEUE: auto_trace_generate (ID: 9d2372c9-f2ff-4630-b567-4719e4f3151c) - 1 spans\n",
            "2025-10-02 14:35:50 - noveum_trace.transport.batch_processor - INFO - ✅ Successfully queued trace 9d2372c9-f2ff-4630-b567-4719e4f3151c\n",
            "2025-10-02 14:35:50 - noveum_trace.transport.http_transport - INFO - ✅ Trace 9d2372c9-f2ff-4630-b567-4719e4f3151c successfully queued for export\n"
          ]
        },
        {
          "name": "stdout",
          "output_type": "stream",
          "text": [
            "2025-10-02 14:35:50 - INFO - google_genai.models - AFC is enabled with max remote calls: 10.\n",
            "2025-10-02 14:35:51 - INFO - google_genai.models - AFC remote call 1 is done.\n"
          ]
        },
        {
          "name": "stderr",
          "output_type": "stream",
          "text": [
            "2025-10-02 14:35:51 - noveum_trace.transport.http_transport - INFO - 📤 EXPORTING TRACE: auto_trace_generate (ID: 941d3ec3-020c-4b85-b948-5ee34cf2d21e) - 1 spans\n",
            "2025-10-02 14:35:51 - noveum_trace.transport.batch_processor - INFO - 📥 ADDING TRACE TO QUEUE: auto_trace_generate (ID: 941d3ec3-020c-4b85-b948-5ee34cf2d21e) - 1 spans\n",
            "2025-10-02 14:35:51 - noveum_trace.transport.batch_processor - INFO - ✅ Successfully queued trace 941d3ec3-020c-4b85-b948-5ee34cf2d21e\n",
            "2025-10-02 14:35:51 - noveum_trace.transport.http_transport - INFO - ✅ Trace 941d3ec3-020c-4b85-b948-5ee34cf2d21e successfully queued for export\n"
          ]
        },
        {
          "name": "stdout",
          "output_type": "stream",
          "text": [
            "2025-10-02 14:35:51 - INFO - novaeval.evaluators.agent_evaluator - Saving intermediate results after 5 samples\n",
            "2025-10-02 14:35:51 - INFO - novaeval.evaluators.agent_evaluator - Intermediate results saved to demo_results/agent_comment_gen_dataset/agent_evaluation_results.csv\n"
          ]
        },
        {
          "name": "stderr",
          "output_type": "stream",
          "text": [
            "Evaluating samples: 5it [00:21,  4.31s/it]"
          ]
        },
        {
          "name": "stdout",
          "output_type": "stream",
          "text": [
            "2025-10-02 14:35:51 - INFO - google_genai.models - AFC is enabled with max remote calls: 10.\n",
            "2025-10-02 14:35:53 - INFO - google_genai.models - AFC remote call 1 is done.\n"
          ]
        },
        {
          "name": "stderr",
          "output_type": "stream",
          "text": [
            "2025-10-02 14:35:53 - noveum_trace.transport.http_transport - INFO - 📤 EXPORTING TRACE: auto_trace_generate (ID: 7374771d-551c-450a-abaa-611f9b34a839) - 1 spans\n",
            "2025-10-02 14:35:53 - noveum_trace.transport.batch_processor - INFO - 📥 ADDING TRACE TO QUEUE: auto_trace_generate (ID: 7374771d-551c-450a-abaa-611f9b34a839) - 1 spans\n",
            "2025-10-02 14:35:53 - noveum_trace.transport.batch_processor - INFO - ✅ Successfully queued trace 7374771d-551c-450a-abaa-611f9b34a839\n",
            "2025-10-02 14:35:53 - noveum_trace.transport.http_transport - INFO - ✅ Trace 7374771d-551c-450a-abaa-611f9b34a839 successfully queued for export\n"
          ]
        },
        {
          "name": "stdout",
          "output_type": "stream",
          "text": [
            "2025-10-02 14:35:53 - INFO - google_genai.models - AFC is enabled with max remote calls: 10.\n",
            "2025-10-02 14:35:54 - INFO - google_genai.models - AFC remote call 1 is done.\n"
          ]
        },
        {
          "name": "stderr",
          "output_type": "stream",
          "text": [
            "2025-10-02 14:35:54 - noveum_trace.transport.http_transport - INFO - 📤 EXPORTING TRACE: auto_trace_generate (ID: 20c1c378-fade-4e7d-80e6-50f1fc90f4c7) - 1 spans\n",
            "2025-10-02 14:35:54 - noveum_trace.transport.batch_processor - INFO - 📥 ADDING TRACE TO QUEUE: auto_trace_generate (ID: 20c1c378-fade-4e7d-80e6-50f1fc90f4c7) - 1 spans\n",
            "2025-10-02 14:35:54 - noveum_trace.transport.batch_processor - INFO - ✅ Successfully queued trace 20c1c378-fade-4e7d-80e6-50f1fc90f4c7\n",
            "2025-10-02 14:35:54 - noveum_trace.transport.http_transport - INFO - ✅ Trace 20c1c378-fade-4e7d-80e6-50f1fc90f4c7 successfully queued for export\n"
          ]
        },
        {
          "name": "stdout",
          "output_type": "stream",
          "text": [
            "2025-10-02 14:35:54 - INFO - google_genai.models - AFC is enabled with max remote calls: 10.\n",
            "2025-10-02 14:35:56 - INFO - google_genai.models - AFC remote call 1 is done.\n"
          ]
        },
        {
          "name": "stderr",
          "output_type": "stream",
          "text": [
            "2025-10-02 14:35:56 - noveum_trace.transport.http_transport - INFO - 📤 EXPORTING TRACE: auto_trace_generate (ID: 28c9fa47-12aa-421d-8d2b-94d399e7be5a) - 1 spans\n",
            "2025-10-02 14:35:56 - noveum_trace.transport.batch_processor - INFO - 📥 ADDING TRACE TO QUEUE: auto_trace_generate (ID: 28c9fa47-12aa-421d-8d2b-94d399e7be5a) - 1 spans\n",
            "2025-10-02 14:35:56 - noveum_trace.transport.batch_processor - INFO - ✅ Successfully queued trace 28c9fa47-12aa-421d-8d2b-94d399e7be5a\n",
            "2025-10-02 14:35:56 - noveum_trace.transport.http_transport - INFO - ✅ Trace 28c9fa47-12aa-421d-8d2b-94d399e7be5a successfully queued for export\n"
          ]
        },
        {
          "name": "stdout",
          "output_type": "stream",
          "text": [
            "2025-10-02 14:35:56 - INFO - novaeval.evaluators.agent_evaluator - Saving intermediate results after 6 samples\n",
            "2025-10-02 14:35:56 - INFO - novaeval.evaluators.agent_evaluator - Intermediate results saved to demo_results/agent_comment_gen_dataset/agent_evaluation_results.csv\n"
          ]
        },
        {
          "name": "stderr",
          "output_type": "stream",
          "text": [
            "Evaluating samples: 6it [00:25,  4.29s/it]"
          ]
        },
        {
          "name": "stdout",
          "output_type": "stream",
          "text": [
            "2025-10-02 14:35:56 - INFO - google_genai.models - AFC is enabled with max remote calls: 10.\n",
            "2025-10-02 14:35:57 - INFO - google_genai.models - AFC remote call 1 is done.\n"
          ]
        },
        {
          "name": "stderr",
          "output_type": "stream",
          "text": [
            "2025-10-02 14:35:57 - noveum_trace.transport.http_transport - INFO - 📤 EXPORTING TRACE: auto_trace_generate (ID: 42d04c19-3b00-4808-9fa3-ada6e1d78f07) - 1 spans\n",
            "2025-10-02 14:35:57 - noveum_trace.transport.batch_processor - INFO - 📥 ADDING TRACE TO QUEUE: auto_trace_generate (ID: 42d04c19-3b00-4808-9fa3-ada6e1d78f07) - 1 spans\n",
            "2025-10-02 14:35:57 - noveum_trace.transport.batch_processor - INFO - ✅ Successfully queued trace 42d04c19-3b00-4808-9fa3-ada6e1d78f07\n",
            "2025-10-02 14:35:57 - noveum_trace.transport.http_transport - INFO - ✅ Trace 42d04c19-3b00-4808-9fa3-ada6e1d78f07 successfully queued for export\n"
          ]
        },
        {
          "name": "stdout",
          "output_type": "stream",
          "text": [
            "2025-10-02 14:35:57 - INFO - google_genai.models - AFC is enabled with max remote calls: 10.\n",
            "2025-10-02 14:35:59 - INFO - google_genai.models - AFC remote call 1 is done.\n"
          ]
        },
        {
          "name": "stderr",
          "output_type": "stream",
          "text": [
            "2025-10-02 14:35:59 - noveum_trace.transport.http_transport - INFO - 📤 EXPORTING TRACE: auto_trace_generate (ID: a08c48b5-0b5b-4a1b-86b9-1751ca3635f0) - 1 spans\n",
            "2025-10-02 14:35:59 - noveum_trace.transport.batch_processor - INFO - 📥 ADDING TRACE TO QUEUE: auto_trace_generate (ID: a08c48b5-0b5b-4a1b-86b9-1751ca3635f0) - 1 spans\n",
            "2025-10-02 14:35:59 - noveum_trace.transport.batch_processor - INFO - ✅ Successfully queued trace a08c48b5-0b5b-4a1b-86b9-1751ca3635f0\n",
            "2025-10-02 14:35:59 - noveum_trace.transport.http_transport - INFO - ✅ Trace a08c48b5-0b5b-4a1b-86b9-1751ca3635f0 successfully queued for export\n"
          ]
        },
        {
          "name": "stdout",
          "output_type": "stream",
          "text": [
            "2025-10-02 14:35:59 - INFO - google_genai.models - AFC is enabled with max remote calls: 10.\n",
            "2025-10-02 14:36:00 - INFO - google_genai.models - AFC remote call 1 is done.\n"
          ]
        },
        {
          "name": "stderr",
          "output_type": "stream",
          "text": [
            "2025-10-02 14:36:00 - noveum_trace.transport.http_transport - INFO - 📤 EXPORTING TRACE: auto_trace_generate (ID: 9548438d-93ac-45ae-acec-927068d72bd1) - 1 spans\n",
            "2025-10-02 14:36:00 - noveum_trace.transport.batch_processor - INFO - 📥 ADDING TRACE TO QUEUE: auto_trace_generate (ID: 9548438d-93ac-45ae-acec-927068d72bd1) - 1 spans\n",
            "2025-10-02 14:36:00 - noveum_trace.transport.batch_processor - INFO - ✅ Successfully queued trace 9548438d-93ac-45ae-acec-927068d72bd1\n",
            "2025-10-02 14:36:00 - noveum_trace.transport.http_transport - INFO - ✅ Trace 9548438d-93ac-45ae-acec-927068d72bd1 successfully queued for export\n"
          ]
        },
        {
          "name": "stdout",
          "output_type": "stream",
          "text": [
            "2025-10-02 14:36:00 - INFO - novaeval.evaluators.agent_evaluator - Saving intermediate results after 7 samples\n",
            "2025-10-02 14:36:00 - INFO - novaeval.evaluators.agent_evaluator - Intermediate results saved to demo_results/agent_comment_gen_dataset/agent_evaluation_results.csv\n"
          ]
        },
        {
          "name": "stderr",
          "output_type": "stream",
          "text": [
            "Evaluating samples: 7it [00:30,  4.29s/it]"
          ]
        },
        {
          "name": "stdout",
          "output_type": "stream",
          "text": [
            "2025-10-02 14:36:00 - INFO - google_genai.models - AFC is enabled with max remote calls: 10.\n",
            "2025-10-02 14:36:01 - INFO - google_genai.models - AFC remote call 1 is done.\n"
          ]
        },
        {
          "name": "stderr",
          "output_type": "stream",
          "text": [
            "2025-10-02 14:36:01 - noveum_trace.transport.http_transport - INFO - 📤 EXPORTING TRACE: auto_trace_generate (ID: 25d89575-8cec-4790-b375-e5e913cadbd1) - 1 spans\n",
            "2025-10-02 14:36:01 - noveum_trace.transport.batch_processor - INFO - 📥 ADDING TRACE TO QUEUE: auto_trace_generate (ID: 25d89575-8cec-4790-b375-e5e913cadbd1) - 1 spans\n",
            "2025-10-02 14:36:01 - noveum_trace.transport.batch_processor - INFO - ✅ Successfully queued trace 25d89575-8cec-4790-b375-e5e913cadbd1\n",
            "2025-10-02 14:36:01 - noveum_trace.transport.http_transport - INFO - ✅ Trace 25d89575-8cec-4790-b375-e5e913cadbd1 successfully queued for export\n"
          ]
        },
        {
          "name": "stdout",
          "output_type": "stream",
          "text": [
            "2025-10-02 14:36:01 - INFO - google_genai.models - AFC is enabled with max remote calls: 10.\n",
            "2025-10-02 14:36:03 - INFO - google_genai.models - AFC remote call 1 is done.\n"
          ]
        },
        {
          "name": "stderr",
          "output_type": "stream",
          "text": [
            "2025-10-02 14:36:03 - noveum_trace.transport.http_transport - INFO - 📤 EXPORTING TRACE: auto_trace_generate (ID: e15d7d3e-7430-414e-9760-2f894b26a0fd) - 1 spans\n",
            "2025-10-02 14:36:03 - noveum_trace.transport.batch_processor - INFO - 📥 ADDING TRACE TO QUEUE: auto_trace_generate (ID: e15d7d3e-7430-414e-9760-2f894b26a0fd) - 1 spans\n",
            "2025-10-02 14:36:03 - noveum_trace.transport.batch_processor - INFO - ✅ Successfully queued trace e15d7d3e-7430-414e-9760-2f894b26a0fd\n",
            "2025-10-02 14:36:03 - noveum_trace.transport.http_transport - INFO - ✅ Trace e15d7d3e-7430-414e-9760-2f894b26a0fd successfully queued for export\n"
          ]
        },
        {
          "name": "stdout",
          "output_type": "stream",
          "text": [
            "2025-10-02 14:36:03 - INFO - google_genai.models - AFC is enabled with max remote calls: 10.\n",
            "2025-10-02 14:36:04 - INFO - google_genai.models - AFC remote call 1 is done.\n"
          ]
        },
        {
          "name": "stderr",
          "output_type": "stream",
          "text": [
            "2025-10-02 14:36:04 - noveum_trace.transport.http_transport - INFO - 📤 EXPORTING TRACE: auto_trace_generate (ID: 43c9038d-f7b1-466c-85d7-fe7f89090ff5) - 1 spans\n",
            "2025-10-02 14:36:04 - noveum_trace.transport.batch_processor - INFO - 📥 ADDING TRACE TO QUEUE: auto_trace_generate (ID: 43c9038d-f7b1-466c-85d7-fe7f89090ff5) - 1 spans\n",
            "2025-10-02 14:36:04 - noveum_trace.transport.batch_processor - INFO - ✅ Successfully queued trace 43c9038d-f7b1-466c-85d7-fe7f89090ff5\n",
            "2025-10-02 14:36:04 - noveum_trace.transport.http_transport - INFO - ✅ Trace 43c9038d-f7b1-466c-85d7-fe7f89090ff5 successfully queued for export\n"
          ]
        },
        {
          "name": "stdout",
          "output_type": "stream",
          "text": [
            "2025-10-02 14:36:04 - INFO - novaeval.evaluators.agent_evaluator - Saving intermediate results after 8 samples\n",
            "2025-10-02 14:36:04 - INFO - novaeval.evaluators.agent_evaluator - Intermediate results saved to demo_results/agent_comment_gen_dataset/agent_evaluation_results.csv\n"
          ]
        },
        {
          "name": "stderr",
          "output_type": "stream",
          "text": [
            "Evaluating samples: 8it [00:34,  4.23s/it]"
          ]
        },
        {
          "name": "stdout",
          "output_type": "stream",
          "text": [
            "2025-10-02 14:36:04 - INFO - google_genai.models - AFC is enabled with max remote calls: 10.\n",
            "2025-10-02 14:36:05 - INFO - google_genai.models - AFC remote call 1 is done.\n"
          ]
        },
        {
          "name": "stderr",
          "output_type": "stream",
          "text": [
            "2025-10-02 14:36:05 - noveum_trace.transport.http_transport - INFO - 📤 EXPORTING TRACE: auto_trace_generate (ID: 31b3ab9c-6d6e-4986-8cf8-c5c64c1c0c30) - 1 spans\n",
            "2025-10-02 14:36:05 - noveum_trace.transport.batch_processor - INFO - 📥 ADDING TRACE TO QUEUE: auto_trace_generate (ID: 31b3ab9c-6d6e-4986-8cf8-c5c64c1c0c30) - 1 spans\n",
            "2025-10-02 14:36:05 - noveum_trace.transport.batch_processor - INFO - ✅ Successfully queued trace 31b3ab9c-6d6e-4986-8cf8-c5c64c1c0c30\n",
            "2025-10-02 14:36:05 - noveum_trace.transport.http_transport - INFO - ✅ Trace 31b3ab9c-6d6e-4986-8cf8-c5c64c1c0c30 successfully queued for export\n"
          ]
        },
        {
          "name": "stdout",
          "output_type": "stream",
          "text": [
            "2025-10-02 14:36:05 - INFO - google_genai.models - AFC is enabled with max remote calls: 10.\n",
            "2025-10-02 14:36:07 - INFO - google_genai.models - AFC remote call 1 is done.\n"
          ]
        },
        {
          "name": "stderr",
          "output_type": "stream",
          "text": [
            "2025-10-02 14:36:07 - noveum_trace.transport.http_transport - INFO - 📤 EXPORTING TRACE: auto_trace_generate (ID: d119e92b-dfca-40c5-94b0-c9aabcc1e845) - 1 spans\n",
            "2025-10-02 14:36:07 - noveum_trace.transport.batch_processor - INFO - 📥 ADDING TRACE TO QUEUE: auto_trace_generate (ID: d119e92b-dfca-40c5-94b0-c9aabcc1e845) - 1 spans\n",
            "2025-10-02 14:36:07 - noveum_trace.transport.batch_processor - INFO - ✅ Successfully queued trace d119e92b-dfca-40c5-94b0-c9aabcc1e845\n",
            "2025-10-02 14:36:07 - noveum_trace.transport.http_transport - INFO - ✅ Trace d119e92b-dfca-40c5-94b0-c9aabcc1e845 successfully queued for export\n"
          ]
        },
        {
          "name": "stdout",
          "output_type": "stream",
          "text": [
            "2025-10-02 14:36:07 - INFO - google_genai.models - AFC is enabled with max remote calls: 10.\n",
            "2025-10-02 14:36:08 - INFO - google_genai.models - AFC remote call 1 is done.\n"
          ]
        },
        {
          "name": "stderr",
          "output_type": "stream",
          "text": [
            "2025-10-02 14:36:08 - noveum_trace.transport.http_transport - INFO - 📤 EXPORTING TRACE: auto_trace_generate (ID: 1b849e4b-c900-46c8-8f16-56c6ac0e4edc) - 1 spans\n",
            "2025-10-02 14:36:08 - noveum_trace.transport.batch_processor - INFO - 📥 ADDING TRACE TO QUEUE: auto_trace_generate (ID: 1b849e4b-c900-46c8-8f16-56c6ac0e4edc) - 1 spans\n",
            "2025-10-02 14:36:08 - noveum_trace.transport.batch_processor - INFO - ✅ Successfully queued trace 1b849e4b-c900-46c8-8f16-56c6ac0e4edc\n",
            "2025-10-02 14:36:08 - noveum_trace.transport.http_transport - INFO - ✅ Trace 1b849e4b-c900-46c8-8f16-56c6ac0e4edc successfully queued for export\n"
          ]
        },
        {
          "name": "stdout",
          "output_type": "stream",
          "text": [
            "2025-10-02 14:36:08 - INFO - novaeval.evaluators.agent_evaluator - Saving intermediate results after 9 samples\n",
            "2025-10-02 14:36:08 - INFO - novaeval.evaluators.agent_evaluator - Intermediate results saved to demo_results/agent_comment_gen_dataset/agent_evaluation_results.csv\n"
          ]
        },
        {
          "name": "stderr",
          "output_type": "stream",
          "text": [
            "Evaluating samples: 9it [00:38,  4.16s/it]"
          ]
        },
        {
          "name": "stdout",
          "output_type": "stream",
          "text": [
            "2025-10-02 14:36:08 - INFO - google_genai.models - AFC is enabled with max remote calls: 10.\n",
            "2025-10-02 14:36:09 - INFO - google_genai.models - AFC remote call 1 is done.\n"
          ]
        },
        {
          "name": "stderr",
          "output_type": "stream",
          "text": [
            "2025-10-02 14:36:09 - noveum_trace.transport.http_transport - INFO - 📤 EXPORTING TRACE: auto_trace_generate (ID: 03586ab3-c7d8-4487-82b2-9b903b9e541b) - 1 spans\n",
            "2025-10-02 14:36:09 - noveum_trace.transport.batch_processor - INFO - 📥 ADDING TRACE TO QUEUE: auto_trace_generate (ID: 03586ab3-c7d8-4487-82b2-9b903b9e541b) - 1 spans\n",
            "2025-10-02 14:36:09 - noveum_trace.transport.batch_processor - INFO - ✅ Successfully queued trace 03586ab3-c7d8-4487-82b2-9b903b9e541b\n",
            "2025-10-02 14:36:09 - noveum_trace.transport.http_transport - INFO - ✅ Trace 03586ab3-c7d8-4487-82b2-9b903b9e541b successfully queued for export\n"
          ]
        },
        {
          "name": "stdout",
          "output_type": "stream",
          "text": [
            "2025-10-02 14:36:09 - INFO - google_genai.models - AFC is enabled with max remote calls: 10.\n",
            "2025-10-02 14:36:11 - INFO - google_genai.models - AFC remote call 1 is done.\n"
          ]
        },
        {
          "name": "stderr",
          "output_type": "stream",
          "text": [
            "2025-10-02 14:36:11 - noveum_trace.transport.http_transport - INFO - 📤 EXPORTING TRACE: auto_trace_generate (ID: 87348f32-8c15-4660-8c75-1b28f1cf0943) - 1 spans\n",
            "2025-10-02 14:36:11 - noveum_trace.transport.batch_processor - INFO - 📥 ADDING TRACE TO QUEUE: auto_trace_generate (ID: 87348f32-8c15-4660-8c75-1b28f1cf0943) - 1 spans\n",
            "2025-10-02 14:36:11 - noveum_trace.transport.batch_processor - INFO - ✅ Successfully queued trace 87348f32-8c15-4660-8c75-1b28f1cf0943\n",
            "2025-10-02 14:36:11 - noveum_trace.transport.http_transport - INFO - ✅ Trace 87348f32-8c15-4660-8c75-1b28f1cf0943 successfully queued for export\n"
          ]
        },
        {
          "name": "stdout",
          "output_type": "stream",
          "text": [
            "2025-10-02 14:36:11 - INFO - google_genai.models - AFC is enabled with max remote calls: 10.\n",
            "2025-10-02 14:36:12 - INFO - google_genai.models - AFC remote call 1 is done.\n"
          ]
        },
        {
          "name": "stderr",
          "output_type": "stream",
          "text": [
            "2025-10-02 14:36:12 - noveum_trace.transport.http_transport - INFO - 📤 EXPORTING TRACE: auto_trace_generate (ID: 67821f6b-2ca2-4c9f-bb67-f0f4522a353f) - 1 spans\n",
            "2025-10-02 14:36:12 - noveum_trace.transport.batch_processor - INFO - 📥 ADDING TRACE TO QUEUE: auto_trace_generate (ID: 67821f6b-2ca2-4c9f-bb67-f0f4522a353f) - 1 spans\n",
            "2025-10-02 14:36:12 - noveum_trace.transport.batch_processor - INFO - ✅ Successfully queued trace 67821f6b-2ca2-4c9f-bb67-f0f4522a353f\n",
            "2025-10-02 14:36:12 - noveum_trace.transport.http_transport - INFO - ✅ Trace 67821f6b-2ca2-4c9f-bb67-f0f4522a353f successfully queued for export\n"
          ]
        },
        {
          "name": "stdout",
          "output_type": "stream",
          "text": [
            "2025-10-02 14:36:12 - INFO - novaeval.evaluators.agent_evaluator - Saving intermediate results after 10 samples\n",
            "2025-10-02 14:36:12 - INFO - novaeval.evaluators.agent_evaluator - Intermediate results saved to demo_results/agent_comment_gen_dataset/agent_evaluation_results.csv\n"
          ]
        },
        {
          "name": "stderr",
          "output_type": "stream",
          "text": [
            "Evaluating samples: 10it [00:42,  4.19s/it]"
          ]
        },
        {
          "name": "stdout",
          "output_type": "stream",
          "text": [
            "2025-10-02 14:36:12 - INFO - google_genai.models - AFC is enabled with max remote calls: 10.\n",
            "2025-10-02 14:36:14 - INFO - google_genai.models - AFC remote call 1 is done.\n"
          ]
        },
        {
          "name": "stderr",
          "output_type": "stream",
          "text": [
            "2025-10-02 14:36:14 - noveum_trace.transport.http_transport - INFO - 📤 EXPORTING TRACE: auto_trace_generate (ID: 6414c3db-e9d2-404f-8987-edb83342506f) - 1 spans\n",
            "2025-10-02 14:36:14 - noveum_trace.transport.batch_processor - INFO - 📥 ADDING TRACE TO QUEUE: auto_trace_generate (ID: 6414c3db-e9d2-404f-8987-edb83342506f) - 1 spans\n",
            "2025-10-02 14:36:14 - noveum_trace.transport.batch_processor - INFO - ✅ Successfully queued trace 6414c3db-e9d2-404f-8987-edb83342506f\n",
            "2025-10-02 14:36:14 - noveum_trace.transport.http_transport - INFO - ✅ Trace 6414c3db-e9d2-404f-8987-edb83342506f successfully queued for export\n"
          ]
        },
        {
          "name": "stdout",
          "output_type": "stream",
          "text": [
            "2025-10-02 14:36:14 - INFO - google_genai.models - AFC is enabled with max remote calls: 10.\n",
            "2025-10-02 14:36:15 - INFO - google_genai.models - AFC remote call 1 is done.\n"
          ]
        },
        {
          "name": "stderr",
          "output_type": "stream",
          "text": [
            "2025-10-02 14:36:15 - noveum_trace.transport.http_transport - INFO - 📤 EXPORTING TRACE: auto_trace_generate (ID: 169cf354-afbb-41b8-8846-0f00e7358e84) - 1 spans\n",
            "2025-10-02 14:36:15 - noveum_trace.transport.batch_processor - INFO - 📥 ADDING TRACE TO QUEUE: auto_trace_generate (ID: 169cf354-afbb-41b8-8846-0f00e7358e84) - 1 spans\n",
            "2025-10-02 14:36:15 - noveum_trace.transport.batch_processor - INFO - ✅ Successfully queued trace 169cf354-afbb-41b8-8846-0f00e7358e84\n",
            "2025-10-02 14:36:15 - noveum_trace.transport.http_transport - INFO - ✅ Trace 169cf354-afbb-41b8-8846-0f00e7358e84 successfully queued for export\n"
          ]
        },
        {
          "name": "stdout",
          "output_type": "stream",
          "text": [
            "2025-10-02 14:36:15 - INFO - google_genai.models - AFC is enabled with max remote calls: 10.\n",
            "2025-10-02 14:36:17 - INFO - google_genai.models - AFC remote call 1 is done.\n"
          ]
        },
        {
          "name": "stderr",
          "output_type": "stream",
          "text": [
            "2025-10-02 14:36:17 - noveum_trace.transport.http_transport - INFO - 📤 EXPORTING TRACE: auto_trace_generate (ID: 398d51a1-fa86-4f37-8e60-735b1203f61c) - 1 spans\n",
            "2025-10-02 14:36:17 - noveum_trace.transport.batch_processor - INFO - 📥 ADDING TRACE TO QUEUE: auto_trace_generate (ID: 398d51a1-fa86-4f37-8e60-735b1203f61c) - 1 spans\n",
            "2025-10-02 14:36:17 - noveum_trace.transport.batch_processor - INFO - ✅ Successfully queued trace 398d51a1-fa86-4f37-8e60-735b1203f61c\n",
            "2025-10-02 14:36:17 - noveum_trace.transport.http_transport - INFO - ✅ Trace 398d51a1-fa86-4f37-8e60-735b1203f61c successfully queued for export\n"
          ]
        },
        {
          "name": "stdout",
          "output_type": "stream",
          "text": [
            "2025-10-02 14:36:17 - INFO - novaeval.evaluators.agent_evaluator - Saving intermediate results after 11 samples\n",
            "2025-10-02 14:36:17 - INFO - novaeval.evaluators.agent_evaluator - Intermediate results saved to demo_results/agent_comment_gen_dataset/agent_evaluation_results.csv\n"
          ]
        },
        {
          "name": "stderr",
          "output_type": "stream",
          "text": [
            "Evaluating samples: 11it [00:46,  4.25s/it]"
          ]
        },
        {
          "name": "stdout",
          "output_type": "stream",
          "text": [
            "2025-10-02 14:36:17 - INFO - google_genai.models - AFC is enabled with max remote calls: 10.\n",
            "2025-10-02 14:36:18 - INFO - google_genai.models - AFC remote call 1 is done.\n"
          ]
        },
        {
          "name": "stderr",
          "output_type": "stream",
          "text": [
            "2025-10-02 14:36:18 - noveum_trace.transport.http_transport - INFO - 📤 EXPORTING TRACE: auto_trace_generate (ID: 0cf9aa84-6918-4133-b6e1-49ab531aa9d9) - 1 spans\n",
            "2025-10-02 14:36:18 - noveum_trace.transport.batch_processor - INFO - 📥 ADDING TRACE TO QUEUE: auto_trace_generate (ID: 0cf9aa84-6918-4133-b6e1-49ab531aa9d9) - 1 spans\n",
            "2025-10-02 14:36:18 - noveum_trace.transport.batch_processor - INFO - ✅ Successfully queued trace 0cf9aa84-6918-4133-b6e1-49ab531aa9d9\n",
            "2025-10-02 14:36:18 - noveum_trace.transport.http_transport - INFO - ✅ Trace 0cf9aa84-6918-4133-b6e1-49ab531aa9d9 successfully queued for export\n"
          ]
        },
        {
          "name": "stdout",
          "output_type": "stream",
          "text": [
            "2025-10-02 14:36:18 - INFO - google_genai.models - AFC is enabled with max remote calls: 10.\n",
            "2025-10-02 14:36:19 - INFO - google_genai.models - AFC remote call 1 is done.\n"
          ]
        },
        {
          "name": "stderr",
          "output_type": "stream",
          "text": [
            "2025-10-02 14:36:19 - noveum_trace.transport.http_transport - INFO - 📤 EXPORTING TRACE: auto_trace_generate (ID: 22f62ba7-9698-4ad0-bfa4-e9801841bb90) - 1 spans\n",
            "2025-10-02 14:36:19 - noveum_trace.transport.batch_processor - INFO - 📥 ADDING TRACE TO QUEUE: auto_trace_generate (ID: 22f62ba7-9698-4ad0-bfa4-e9801841bb90) - 1 spans\n",
            "2025-10-02 14:36:19 - noveum_trace.transport.batch_processor - INFO - ✅ Successfully queued trace 22f62ba7-9698-4ad0-bfa4-e9801841bb90\n",
            "2025-10-02 14:36:19 - noveum_trace.transport.http_transport - INFO - ✅ Trace 22f62ba7-9698-4ad0-bfa4-e9801841bb90 successfully queued for export\n"
          ]
        },
        {
          "name": "stdout",
          "output_type": "stream",
          "text": [
            "2025-10-02 14:36:19 - INFO - google_genai.models - AFC is enabled with max remote calls: 10.\n",
            "2025-10-02 14:36:21 - INFO - google_genai.models - AFC remote call 1 is done.\n"
          ]
        },
        {
          "name": "stderr",
          "output_type": "stream",
          "text": [
            "2025-10-02 14:36:21 - noveum_trace.transport.http_transport - INFO - 📤 EXPORTING TRACE: auto_trace_generate (ID: bc63be17-f330-4448-8b1f-9631d52d0ede) - 1 spans\n",
            "2025-10-02 14:36:21 - noveum_trace.transport.batch_processor - INFO - 📥 ADDING TRACE TO QUEUE: auto_trace_generate (ID: bc63be17-f330-4448-8b1f-9631d52d0ede) - 1 spans\n",
            "2025-10-02 14:36:21 - noveum_trace.transport.batch_processor - INFO - ✅ Successfully queued trace bc63be17-f330-4448-8b1f-9631d52d0ede\n",
            "2025-10-02 14:36:21 - noveum_trace.transport.http_transport - INFO - ✅ Trace bc63be17-f330-4448-8b1f-9631d52d0ede successfully queued for export\n"
          ]
        },
        {
          "name": "stdout",
          "output_type": "stream",
          "text": [
            "2025-10-02 14:36:21 - INFO - novaeval.evaluators.agent_evaluator - Saving intermediate results after 12 samples\n",
            "2025-10-02 14:36:21 - INFO - novaeval.evaluators.agent_evaluator - Intermediate results saved to demo_results/agent_comment_gen_dataset/agent_evaluation_results.csv\n"
          ]
        },
        {
          "name": "stderr",
          "output_type": "stream",
          "text": [
            "Evaluating samples: 12it [00:51,  4.22s/it]"
          ]
        },
        {
          "name": "stdout",
          "output_type": "stream",
          "text": [
            "2025-10-02 14:36:21 - INFO - google_genai.models - AFC is enabled with max remote calls: 10.\n",
            "2025-10-02 14:36:22 - INFO - google_genai.models - AFC remote call 1 is done.\n"
          ]
        },
        {
          "name": "stderr",
          "output_type": "stream",
          "text": [
            "2025-10-02 14:36:22 - noveum_trace.transport.http_transport - INFO - 📤 EXPORTING TRACE: auto_trace_generate (ID: da34b15e-fd7a-4a08-a9aa-07bcc2b4961e) - 1 spans\n",
            "2025-10-02 14:36:22 - noveum_trace.transport.batch_processor - INFO - 📥 ADDING TRACE TO QUEUE: auto_trace_generate (ID: da34b15e-fd7a-4a08-a9aa-07bcc2b4961e) - 1 spans\n",
            "2025-10-02 14:36:22 - noveum_trace.transport.batch_processor - INFO - ✅ Successfully queued trace da34b15e-fd7a-4a08-a9aa-07bcc2b4961e\n",
            "2025-10-02 14:36:22 - noveum_trace.transport.http_transport - INFO - ✅ Trace da34b15e-fd7a-4a08-a9aa-07bcc2b4961e successfully queued for export\n"
          ]
        },
        {
          "name": "stdout",
          "output_type": "stream",
          "text": [
            "2025-10-02 14:36:22 - INFO - google_genai.models - AFC is enabled with max remote calls: 10.\n",
            "2025-10-02 14:36:24 - INFO - google_genai.models - AFC remote call 1 is done.\n"
          ]
        },
        {
          "name": "stderr",
          "output_type": "stream",
          "text": [
            "2025-10-02 14:36:24 - noveum_trace.transport.http_transport - INFO - 📤 EXPORTING TRACE: auto_trace_generate (ID: 667535ed-a2fc-401a-b3f7-74d861aa8f46) - 1 spans\n",
            "2025-10-02 14:36:24 - noveum_trace.transport.batch_processor - INFO - 📥 ADDING TRACE TO QUEUE: auto_trace_generate (ID: 667535ed-a2fc-401a-b3f7-74d861aa8f46) - 1 spans\n",
            "2025-10-02 14:36:24 - noveum_trace.transport.batch_processor - INFO - ✅ Successfully queued trace 667535ed-a2fc-401a-b3f7-74d861aa8f46\n",
            "2025-10-02 14:36:24 - noveum_trace.transport.http_transport - INFO - ✅ Trace 667535ed-a2fc-401a-b3f7-74d861aa8f46 successfully queued for export\n"
          ]
        },
        {
          "name": "stdout",
          "output_type": "stream",
          "text": [
            "2025-10-02 14:36:24 - INFO - google_genai.models - AFC is enabled with max remote calls: 10.\n",
            "2025-10-02 14:36:25 - INFO - google_genai.models - AFC remote call 1 is done.\n"
          ]
        },
        {
          "name": "stderr",
          "output_type": "stream",
          "text": [
            "2025-10-02 14:36:25 - noveum_trace.transport.http_transport - INFO - 📤 EXPORTING TRACE: auto_trace_generate (ID: f028085c-bf5a-498d-92bd-95f57e51b4c9) - 1 spans\n",
            "2025-10-02 14:36:25 - noveum_trace.transport.batch_processor - INFO - 📥 ADDING TRACE TO QUEUE: auto_trace_generate (ID: f028085c-bf5a-498d-92bd-95f57e51b4c9) - 1 spans\n",
            "2025-10-02 14:36:25 - noveum_trace.transport.batch_processor - INFO - ✅ Successfully queued trace f028085c-bf5a-498d-92bd-95f57e51b4c9\n",
            "2025-10-02 14:36:25 - noveum_trace.transport.http_transport - INFO - ✅ Trace f028085c-bf5a-498d-92bd-95f57e51b4c9 successfully queued for export\n"
          ]
        },
        {
          "name": "stdout",
          "output_type": "stream",
          "text": [
            "2025-10-02 14:36:25 - INFO - novaeval.evaluators.agent_evaluator - Saving intermediate results after 13 samples\n",
            "2025-10-02 14:36:25 - INFO - novaeval.evaluators.agent_evaluator - Intermediate results saved to demo_results/agent_comment_gen_dataset/agent_evaluation_results.csv\n"
          ]
        },
        {
          "name": "stderr",
          "output_type": "stream",
          "text": [
            "Evaluating samples: 13it [00:55,  4.38s/it]"
          ]
        },
        {
          "name": "stdout",
          "output_type": "stream",
          "text": [
            "2025-10-02 14:36:25 - INFO - google_genai.models - AFC is enabled with max remote calls: 10.\n",
            "2025-10-02 14:36:27 - INFO - google_genai.models - AFC remote call 1 is done.\n"
          ]
        },
        {
          "name": "stderr",
          "output_type": "stream",
          "text": [
            "2025-10-02 14:36:27 - noveum_trace.transport.http_transport - INFO - 📤 EXPORTING TRACE: auto_trace_generate (ID: 731789d1-1355-4fb1-85f2-d35dad05daea) - 1 spans\n",
            "2025-10-02 14:36:27 - noveum_trace.transport.batch_processor - INFO - 📥 ADDING TRACE TO QUEUE: auto_trace_generate (ID: 731789d1-1355-4fb1-85f2-d35dad05daea) - 1 spans\n",
            "2025-10-02 14:36:27 - noveum_trace.transport.batch_processor - INFO - ✅ Successfully queued trace 731789d1-1355-4fb1-85f2-d35dad05daea\n",
            "2025-10-02 14:36:27 - noveum_trace.transport.http_transport - INFO - ✅ Trace 731789d1-1355-4fb1-85f2-d35dad05daea successfully queued for export\n"
          ]
        },
        {
          "name": "stdout",
          "output_type": "stream",
          "text": [
            "2025-10-02 14:36:27 - INFO - google_genai.models - AFC is enabled with max remote calls: 10.\n",
            "2025-10-02 14:36:28 - INFO - google_genai.models - AFC remote call 1 is done.\n"
          ]
        },
        {
          "name": "stderr",
          "output_type": "stream",
          "text": [
            "2025-10-02 14:36:28 - noveum_trace.transport.http_transport - INFO - 📤 EXPORTING TRACE: auto_trace_generate (ID: 1d4e238f-455d-4a7c-a0e0-b0429788a4cd) - 1 spans\n",
            "2025-10-02 14:36:28 - noveum_trace.transport.batch_processor - INFO - 📥 ADDING TRACE TO QUEUE: auto_trace_generate (ID: 1d4e238f-455d-4a7c-a0e0-b0429788a4cd) - 1 spans\n",
            "2025-10-02 14:36:28 - noveum_trace.transport.batch_processor - INFO - ✅ Successfully queued trace 1d4e238f-455d-4a7c-a0e0-b0429788a4cd\n",
            "2025-10-02 14:36:28 - noveum_trace.transport.http_transport - INFO - ✅ Trace 1d4e238f-455d-4a7c-a0e0-b0429788a4cd successfully queued for export\n"
          ]
        },
        {
          "name": "stdout",
          "output_type": "stream",
          "text": [
            "2025-10-02 14:36:28 - INFO - google_genai.models - AFC is enabled with max remote calls: 10.\n",
            "2025-10-02 14:36:30 - INFO - google_genai.models - AFC remote call 1 is done.\n"
          ]
        },
        {
          "name": "stderr",
          "output_type": "stream",
          "text": [
            "2025-10-02 14:36:30 - noveum_trace.transport.http_transport - INFO - 📤 EXPORTING TRACE: auto_trace_generate (ID: 449e456d-ca0c-4537-b81f-4f9133377e8e) - 1 spans\n",
            "2025-10-02 14:36:30 - noveum_trace.transport.batch_processor - INFO - 📥 ADDING TRACE TO QUEUE: auto_trace_generate (ID: 449e456d-ca0c-4537-b81f-4f9133377e8e) - 1 spans\n",
            "2025-10-02 14:36:30 - noveum_trace.transport.batch_processor - INFO - ✅ Successfully queued trace 449e456d-ca0c-4537-b81f-4f9133377e8e\n",
            "2025-10-02 14:36:30 - noveum_trace.transport.http_transport - INFO - ✅ Trace 449e456d-ca0c-4537-b81f-4f9133377e8e successfully queued for export\n"
          ]
        },
        {
          "name": "stdout",
          "output_type": "stream",
          "text": [
            "2025-10-02 14:36:30 - INFO - novaeval.evaluators.agent_evaluator - Saving intermediate results after 14 samples\n",
            "2025-10-02 14:36:30 - INFO - novaeval.evaluators.agent_evaluator - Intermediate results saved to demo_results/agent_comment_gen_dataset/agent_evaluation_results.csv\n"
          ]
        },
        {
          "name": "stderr",
          "output_type": "stream",
          "text": [
            "Evaluating samples: 14it [01:00,  4.32s/it]"
          ]
        },
        {
          "name": "stdout",
          "output_type": "stream",
          "text": [
            "2025-10-02 14:36:30 - INFO - google_genai.models - AFC is enabled with max remote calls: 10.\n",
            "2025-10-02 14:36:31 - INFO - google_genai.models - AFC remote call 1 is done.\n"
          ]
        },
        {
          "name": "stderr",
          "output_type": "stream",
          "text": [
            "2025-10-02 14:36:31 - noveum_trace.transport.http_transport - INFO - 📤 EXPORTING TRACE: auto_trace_generate (ID: 73001c9d-292c-4742-8370-e023d030266c) - 1 spans\n",
            "2025-10-02 14:36:31 - noveum_trace.transport.batch_processor - INFO - 📥 ADDING TRACE TO QUEUE: auto_trace_generate (ID: 73001c9d-292c-4742-8370-e023d030266c) - 1 spans\n",
            "2025-10-02 14:36:31 - noveum_trace.transport.batch_processor - INFO - ✅ Successfully queued trace 73001c9d-292c-4742-8370-e023d030266c\n",
            "2025-10-02 14:36:31 - noveum_trace.transport.http_transport - INFO - ✅ Trace 73001c9d-292c-4742-8370-e023d030266c successfully queued for export\n"
          ]
        },
        {
          "name": "stdout",
          "output_type": "stream",
          "text": [
            "2025-10-02 14:36:31 - INFO - google_genai.models - AFC is enabled with max remote calls: 10.\n",
            "2025-10-02 14:36:32 - INFO - google_genai.models - AFC remote call 1 is done.\n"
          ]
        },
        {
          "name": "stderr",
          "output_type": "stream",
          "text": [
            "2025-10-02 14:36:32 - noveum_trace.transport.http_transport - INFO - 📤 EXPORTING TRACE: auto_trace_generate (ID: 890cfa5e-2903-4f18-8150-b36379b23de7) - 1 spans\n",
            "2025-10-02 14:36:32 - noveum_trace.transport.batch_processor - INFO - 📥 ADDING TRACE TO QUEUE: auto_trace_generate (ID: 890cfa5e-2903-4f18-8150-b36379b23de7) - 1 spans\n",
            "2025-10-02 14:36:32 - noveum_trace.transport.batch_processor - INFO - ✅ Successfully queued trace 890cfa5e-2903-4f18-8150-b36379b23de7\n",
            "2025-10-02 14:36:32 - noveum_trace.transport.http_transport - INFO - ✅ Trace 890cfa5e-2903-4f18-8150-b36379b23de7 successfully queued for export\n"
          ]
        },
        {
          "name": "stdout",
          "output_type": "stream",
          "text": [
            "2025-10-02 14:36:32 - INFO - google_genai.models - AFC is enabled with max remote calls: 10.\n",
            "2025-10-02 14:36:34 - INFO - google_genai.models - AFC remote call 1 is done.\n"
          ]
        },
        {
          "name": "stderr",
          "output_type": "stream",
          "text": [
            "2025-10-02 14:36:34 - noveum_trace.transport.http_transport - INFO - 📤 EXPORTING TRACE: auto_trace_generate (ID: be6665ac-1926-4ed0-8b96-a19aaaceceab) - 1 spans\n",
            "2025-10-02 14:36:34 - noveum_trace.transport.batch_processor - INFO - 📥 ADDING TRACE TO QUEUE: auto_trace_generate (ID: be6665ac-1926-4ed0-8b96-a19aaaceceab) - 1 spans\n",
            "2025-10-02 14:36:34 - noveum_trace.transport.batch_processor - INFO - ✅ Successfully queued trace be6665ac-1926-4ed0-8b96-a19aaaceceab\n",
            "2025-10-02 14:36:34 - noveum_trace.transport.http_transport - INFO - ✅ Trace be6665ac-1926-4ed0-8b96-a19aaaceceab successfully queued for export\n"
          ]
        },
        {
          "name": "stdout",
          "output_type": "stream",
          "text": [
            "2025-10-02 14:36:34 - INFO - novaeval.evaluators.agent_evaluator - Saving intermediate results after 15 samples\n",
            "2025-10-02 14:36:34 - INFO - novaeval.evaluators.agent_evaluator - Intermediate results saved to demo_results/agent_comment_gen_dataset/agent_evaluation_results.csv\n"
          ]
        },
        {
          "name": "stderr",
          "output_type": "stream",
          "text": [
            "Evaluating samples: 15it [01:03,  4.19s/it]"
          ]
        },
        {
          "name": "stdout",
          "output_type": "stream",
          "text": [
            "2025-10-02 14:36:34 - INFO - google_genai.models - AFC is enabled with max remote calls: 10.\n",
            "2025-10-02 14:36:35 - INFO - google_genai.models - AFC remote call 1 is done.\n"
          ]
        },
        {
          "name": "stderr",
          "output_type": "stream",
          "text": [
            "2025-10-02 14:36:35 - noveum_trace.transport.http_transport - INFO - 📤 EXPORTING TRACE: auto_trace_generate (ID: 2786256d-7cb7-4a92-9830-03c35702eb76) - 1 spans\n",
            "2025-10-02 14:36:35 - noveum_trace.transport.batch_processor - INFO - 📥 ADDING TRACE TO QUEUE: auto_trace_generate (ID: 2786256d-7cb7-4a92-9830-03c35702eb76) - 1 spans\n",
            "2025-10-02 14:36:35 - noveum_trace.transport.batch_processor - INFO - ✅ Successfully queued trace 2786256d-7cb7-4a92-9830-03c35702eb76\n",
            "2025-10-02 14:36:35 - noveum_trace.transport.http_transport - INFO - ✅ Trace 2786256d-7cb7-4a92-9830-03c35702eb76 successfully queued for export\n"
          ]
        },
        {
          "name": "stdout",
          "output_type": "stream",
          "text": [
            "2025-10-02 14:36:35 - INFO - google_genai.models - AFC is enabled with max remote calls: 10.\n",
            "2025-10-02 14:36:36 - INFO - google_genai.models - AFC remote call 1 is done.\n"
          ]
        },
        {
          "name": "stderr",
          "output_type": "stream",
          "text": [
            "2025-10-02 14:36:36 - noveum_trace.transport.http_transport - INFO - 📤 EXPORTING TRACE: auto_trace_generate (ID: f946e453-f2ff-4d4e-9b17-ff16f6bf87ba) - 1 spans\n",
            "2025-10-02 14:36:36 - noveum_trace.transport.batch_processor - INFO - 📥 ADDING TRACE TO QUEUE: auto_trace_generate (ID: f946e453-f2ff-4d4e-9b17-ff16f6bf87ba) - 1 spans\n",
            "2025-10-02 14:36:36 - noveum_trace.transport.batch_processor - INFO - ✅ Successfully queued trace f946e453-f2ff-4d4e-9b17-ff16f6bf87ba\n",
            "2025-10-02 14:36:36 - noveum_trace.transport.http_transport - INFO - ✅ Trace f946e453-f2ff-4d4e-9b17-ff16f6bf87ba successfully queued for export\n"
          ]
        },
        {
          "name": "stdout",
          "output_type": "stream",
          "text": [
            "2025-10-02 14:36:36 - INFO - google_genai.models - AFC is enabled with max remote calls: 10.\n",
            "2025-10-02 14:36:37 - INFO - google_genai.models - AFC remote call 1 is done.\n"
          ]
        },
        {
          "name": "stderr",
          "output_type": "stream",
          "text": [
            "2025-10-02 14:36:37 - noveum_trace.transport.http_transport - INFO - 📤 EXPORTING TRACE: auto_trace_generate (ID: f1055da1-ebd7-4621-b58f-0ffcece4875b) - 1 spans\n",
            "2025-10-02 14:36:37 - noveum_trace.transport.batch_processor - INFO - 📥 ADDING TRACE TO QUEUE: auto_trace_generate (ID: f1055da1-ebd7-4621-b58f-0ffcece4875b) - 1 spans\n",
            "2025-10-02 14:36:37 - noveum_trace.transport.batch_processor - INFO - ✅ Successfully queued trace f1055da1-ebd7-4621-b58f-0ffcece4875b\n",
            "2025-10-02 14:36:37 - noveum_trace.transport.http_transport - INFO - ✅ Trace f1055da1-ebd7-4621-b58f-0ffcece4875b successfully queued for export\n"
          ]
        },
        {
          "name": "stdout",
          "output_type": "stream",
          "text": [
            "2025-10-02 14:36:37 - INFO - novaeval.evaluators.agent_evaluator - Saving intermediate results after 16 samples\n",
            "2025-10-02 14:36:37 - INFO - novaeval.evaluators.agent_evaluator - Intermediate results saved to demo_results/agent_comment_gen_dataset/agent_evaluation_results.csv\n"
          ]
        },
        {
          "name": "stderr",
          "output_type": "stream",
          "text": [
            "Evaluating samples: 16it [01:07,  4.03s/it]"
          ]
        },
        {
          "name": "stdout",
          "output_type": "stream",
          "text": [
            "2025-10-02 14:36:37 - INFO - google_genai.models - AFC is enabled with max remote calls: 10.\n",
            "2025-10-02 14:36:38 - INFO - google_genai.models - AFC remote call 1 is done.\n"
          ]
        },
        {
          "name": "stderr",
          "output_type": "stream",
          "text": [
            "2025-10-02 14:36:38 - noveum_trace.transport.http_transport - INFO - 📤 EXPORTING TRACE: auto_trace_generate (ID: 869cbcf4-d421-45ee-a11f-62d6142ba840) - 1 spans\n",
            "2025-10-02 14:36:38 - noveum_trace.transport.batch_processor - INFO - 📥 ADDING TRACE TO QUEUE: auto_trace_generate (ID: 869cbcf4-d421-45ee-a11f-62d6142ba840) - 1 spans\n",
            "2025-10-02 14:36:38 - noveum_trace.transport.batch_processor - INFO - ✅ Successfully queued trace 869cbcf4-d421-45ee-a11f-62d6142ba840\n",
            "2025-10-02 14:36:38 - noveum_trace.transport.http_transport - INFO - ✅ Trace 869cbcf4-d421-45ee-a11f-62d6142ba840 successfully queued for export\n"
          ]
        },
        {
          "name": "stdout",
          "output_type": "stream",
          "text": [
            "2025-10-02 14:36:38 - INFO - google_genai.models - AFC is enabled with max remote calls: 10.\n",
            "2025-10-02 14:36:40 - INFO - google_genai.models - AFC remote call 1 is done.\n"
          ]
        },
        {
          "name": "stderr",
          "output_type": "stream",
          "text": [
            "2025-10-02 14:36:40 - noveum_trace.transport.http_transport - INFO - 📤 EXPORTING TRACE: auto_trace_generate (ID: c1229247-dee9-4e5a-a12a-a025a5ae32a6) - 1 spans\n",
            "2025-10-02 14:36:40 - noveum_trace.transport.batch_processor - INFO - 📥 ADDING TRACE TO QUEUE: auto_trace_generate (ID: c1229247-dee9-4e5a-a12a-a025a5ae32a6) - 1 spans\n",
            "2025-10-02 14:36:40 - noveum_trace.transport.batch_processor - INFO - ✅ Successfully queued trace c1229247-dee9-4e5a-a12a-a025a5ae32a6\n",
            "2025-10-02 14:36:40 - noveum_trace.transport.http_transport - INFO - ✅ Trace c1229247-dee9-4e5a-a12a-a025a5ae32a6 successfully queued for export\n"
          ]
        },
        {
          "name": "stdout",
          "output_type": "stream",
          "text": [
            "2025-10-02 14:36:40 - INFO - google_genai.models - AFC is enabled with max remote calls: 10.\n",
            "2025-10-02 14:36:41 - INFO - google_genai.models - AFC remote call 1 is done.\n"
          ]
        },
        {
          "name": "stderr",
          "output_type": "stream",
          "text": [
            "2025-10-02 14:36:41 - noveum_trace.transport.http_transport - INFO - 📤 EXPORTING TRACE: auto_trace_generate (ID: 1bf97fb3-e650-41f5-bf41-1253bda61c5b) - 1 spans\n",
            "2025-10-02 14:36:41 - noveum_trace.transport.batch_processor - INFO - 📥 ADDING TRACE TO QUEUE: auto_trace_generate (ID: 1bf97fb3-e650-41f5-bf41-1253bda61c5b) - 1 spans\n",
            "2025-10-02 14:36:41 - noveum_trace.transport.batch_processor - INFO - ✅ Successfully queued trace 1bf97fb3-e650-41f5-bf41-1253bda61c5b\n",
            "2025-10-02 14:36:41 - noveum_trace.transport.http_transport - INFO - ✅ Trace 1bf97fb3-e650-41f5-bf41-1253bda61c5b successfully queued for export\n"
          ]
        },
        {
          "name": "stdout",
          "output_type": "stream",
          "text": [
            "2025-10-02 14:36:41 - INFO - novaeval.evaluators.agent_evaluator - Saving intermediate results after 17 samples\n",
            "2025-10-02 14:36:41 - INFO - novaeval.evaluators.agent_evaluator - Intermediate results saved to demo_results/agent_comment_gen_dataset/agent_evaluation_results.csv\n"
          ]
        },
        {
          "name": "stderr",
          "output_type": "stream",
          "text": [
            "Evaluating samples: 17it [01:11,  3.98s/it]"
          ]
        },
        {
          "name": "stdout",
          "output_type": "stream",
          "text": [
            "2025-10-02 14:36:41 - INFO - google_genai.models - AFC is enabled with max remote calls: 10.\n",
            "2025-10-02 14:36:42 - INFO - google_genai.models - AFC remote call 1 is done.\n"
          ]
        },
        {
          "name": "stderr",
          "output_type": "stream",
          "text": [
            "2025-10-02 14:36:42 - noveum_trace.transport.http_transport - INFO - 📤 EXPORTING TRACE: auto_trace_generate (ID: a3589a21-4ce9-410d-99f5-0275e4d93a5c) - 1 spans\n",
            "2025-10-02 14:36:42 - noveum_trace.transport.batch_processor - INFO - 📥 ADDING TRACE TO QUEUE: auto_trace_generate (ID: a3589a21-4ce9-410d-99f5-0275e4d93a5c) - 1 spans\n",
            "2025-10-02 14:36:42 - noveum_trace.transport.batch_processor - INFO - ✅ Successfully queued trace a3589a21-4ce9-410d-99f5-0275e4d93a5c\n",
            "2025-10-02 14:36:42 - noveum_trace.transport.http_transport - INFO - ✅ Trace a3589a21-4ce9-410d-99f5-0275e4d93a5c successfully queued for export\n"
          ]
        },
        {
          "name": "stdout",
          "output_type": "stream",
          "text": [
            "2025-10-02 14:36:42 - INFO - google_genai.models - AFC is enabled with max remote calls: 10.\n",
            "2025-10-02 14:36:44 - INFO - google_genai.models - AFC remote call 1 is done.\n"
          ]
        },
        {
          "name": "stderr",
          "output_type": "stream",
          "text": [
            "2025-10-02 14:36:44 - noveum_trace.transport.http_transport - INFO - 📤 EXPORTING TRACE: auto_trace_generate (ID: 6f0d5b7c-4ecb-4e2b-8de3-7c73db56938d) - 1 spans\n",
            "2025-10-02 14:36:44 - noveum_trace.transport.batch_processor - INFO - 📥 ADDING TRACE TO QUEUE: auto_trace_generate (ID: 6f0d5b7c-4ecb-4e2b-8de3-7c73db56938d) - 1 spans\n",
            "2025-10-02 14:36:44 - noveum_trace.transport.batch_processor - INFO - ✅ Successfully queued trace 6f0d5b7c-4ecb-4e2b-8de3-7c73db56938d\n",
            "2025-10-02 14:36:44 - noveum_trace.transport.http_transport - INFO - ✅ Trace 6f0d5b7c-4ecb-4e2b-8de3-7c73db56938d successfully queued for export\n"
          ]
        },
        {
          "name": "stdout",
          "output_type": "stream",
          "text": [
            "2025-10-02 14:36:44 - INFO - google_genai.models - AFC is enabled with max remote calls: 10.\n",
            "2025-10-02 14:36:45 - INFO - google_genai.models - AFC remote call 1 is done.\n"
          ]
        },
        {
          "name": "stderr",
          "output_type": "stream",
          "text": [
            "2025-10-02 14:36:45 - noveum_trace.transport.http_transport - INFO - 📤 EXPORTING TRACE: auto_trace_generate (ID: 7c19d167-09da-4c57-baa2-4a22b854e4b1) - 1 spans\n",
            "2025-10-02 14:36:45 - noveum_trace.transport.batch_processor - INFO - 📥 ADDING TRACE TO QUEUE: auto_trace_generate (ID: 7c19d167-09da-4c57-baa2-4a22b854e4b1) - 1 spans\n",
            "2025-10-02 14:36:45 - noveum_trace.transport.batch_processor - INFO - ✅ Successfully queued trace 7c19d167-09da-4c57-baa2-4a22b854e4b1\n",
            "2025-10-02 14:36:45 - noveum_trace.transport.http_transport - INFO - ✅ Trace 7c19d167-09da-4c57-baa2-4a22b854e4b1 successfully queued for export\n"
          ]
        },
        {
          "name": "stdout",
          "output_type": "stream",
          "text": [
            "2025-10-02 14:36:45 - INFO - novaeval.evaluators.agent_evaluator - Saving intermediate results after 18 samples\n",
            "2025-10-02 14:36:45 - INFO - novaeval.evaluators.agent_evaluator - Intermediate results saved to demo_results/agent_comment_gen_dataset/agent_evaluation_results.csv\n"
          ]
        },
        {
          "name": "stderr",
          "output_type": "stream",
          "text": [
            "Evaluating samples: 18it [01:15,  4.00s/it]"
          ]
        },
        {
          "name": "stdout",
          "output_type": "stream",
          "text": [
            "2025-10-02 14:36:45 - INFO - google_genai.models - AFC is enabled with max remote calls: 10.\n",
            "2025-10-02 14:36:47 - INFO - google_genai.models - AFC remote call 1 is done.\n"
          ]
        },
        {
          "name": "stderr",
          "output_type": "stream",
          "text": [
            "2025-10-02 14:36:47 - noveum_trace.transport.http_transport - INFO - 📤 EXPORTING TRACE: auto_trace_generate (ID: 6e8126a7-9ad8-4b32-a97c-55d4baec4c50) - 1 spans\n",
            "2025-10-02 14:36:47 - noveum_trace.transport.batch_processor - INFO - 📥 ADDING TRACE TO QUEUE: auto_trace_generate (ID: 6e8126a7-9ad8-4b32-a97c-55d4baec4c50) - 1 spans\n",
            "2025-10-02 14:36:47 - noveum_trace.transport.batch_processor - INFO - ✅ Successfully queued trace 6e8126a7-9ad8-4b32-a97c-55d4baec4c50\n",
            "2025-10-02 14:36:47 - noveum_trace.transport.http_transport - INFO - ✅ Trace 6e8126a7-9ad8-4b32-a97c-55d4baec4c50 successfully queued for export\n"
          ]
        },
        {
          "name": "stdout",
          "output_type": "stream",
          "text": [
            "2025-10-02 14:36:47 - INFO - google_genai.models - AFC is enabled with max remote calls: 10.\n",
            "2025-10-02 14:36:48 - INFO - google_genai.models - AFC remote call 1 is done.\n"
          ]
        },
        {
          "name": "stderr",
          "output_type": "stream",
          "text": [
            "2025-10-02 14:36:48 - noveum_trace.transport.http_transport - INFO - 📤 EXPORTING TRACE: auto_trace_generate (ID: c5848c91-80cb-4f7f-8500-7cff6b5cd8fe) - 1 spans\n",
            "2025-10-02 14:36:48 - noveum_trace.transport.batch_processor - INFO - 📥 ADDING TRACE TO QUEUE: auto_trace_generate (ID: c5848c91-80cb-4f7f-8500-7cff6b5cd8fe) - 1 spans\n",
            "2025-10-02 14:36:48 - noveum_trace.transport.batch_processor - INFO - ✅ Successfully queued trace c5848c91-80cb-4f7f-8500-7cff6b5cd8fe\n",
            "2025-10-02 14:36:48 - noveum_trace.transport.http_transport - INFO - ✅ Trace c5848c91-80cb-4f7f-8500-7cff6b5cd8fe successfully queued for export\n"
          ]
        },
        {
          "name": "stdout",
          "output_type": "stream",
          "text": [
            "2025-10-02 14:36:48 - INFO - google_genai.models - AFC is enabled with max remote calls: 10.\n",
            "2025-10-02 14:36:49 - INFO - google_genai.models - AFC remote call 1 is done.\n"
          ]
        },
        {
          "name": "stderr",
          "output_type": "stream",
          "text": [
            "2025-10-02 14:36:49 - noveum_trace.transport.http_transport - INFO - 📤 EXPORTING TRACE: auto_trace_generate (ID: 46adb933-b9e6-4eb2-a572-52c2d95c3adb) - 1 spans\n",
            "2025-10-02 14:36:49 - noveum_trace.transport.batch_processor - INFO - 📥 ADDING TRACE TO QUEUE: auto_trace_generate (ID: 46adb933-b9e6-4eb2-a572-52c2d95c3adb) - 1 spans\n",
            "2025-10-02 14:36:49 - noveum_trace.transport.batch_processor - INFO - ✅ Successfully queued trace 46adb933-b9e6-4eb2-a572-52c2d95c3adb\n",
            "2025-10-02 14:36:49 - noveum_trace.transport.http_transport - INFO - ✅ Trace 46adb933-b9e6-4eb2-a572-52c2d95c3adb successfully queued for export\n"
          ]
        },
        {
          "name": "stdout",
          "output_type": "stream",
          "text": [
            "2025-10-02 14:36:49 - INFO - novaeval.evaluators.agent_evaluator - Saving intermediate results after 19 samples\n",
            "2025-10-02 14:36:49 - INFO - novaeval.evaluators.agent_evaluator - Intermediate results saved to demo_results/agent_comment_gen_dataset/agent_evaluation_results.csv\n"
          ]
        },
        {
          "name": "stderr",
          "output_type": "stream",
          "text": [
            "Evaluating samples: 19it [01:19,  4.04s/it]"
          ]
        },
        {
          "name": "stdout",
          "output_type": "stream",
          "text": [
            "2025-10-02 14:36:49 - INFO - google_genai.models - AFC is enabled with max remote calls: 10.\n",
            "2025-10-02 14:36:50 - INFO - google_genai.models - AFC remote call 1 is done.\n"
          ]
        },
        {
          "name": "stderr",
          "output_type": "stream",
          "text": [
            "2025-10-02 14:36:50 - noveum_trace.transport.http_transport - INFO - 📤 EXPORTING TRACE: auto_trace_generate (ID: e47ad185-c406-449b-b1e6-de4c6c5ad6e8) - 1 spans\n",
            "2025-10-02 14:36:50 - noveum_trace.transport.batch_processor - INFO - 📥 ADDING TRACE TO QUEUE: auto_trace_generate (ID: e47ad185-c406-449b-b1e6-de4c6c5ad6e8) - 1 spans\n",
            "2025-10-02 14:36:50 - noveum_trace.transport.batch_processor - INFO - ✅ Successfully queued trace e47ad185-c406-449b-b1e6-de4c6c5ad6e8\n",
            "2025-10-02 14:36:50 - noveum_trace.transport.http_transport - INFO - ✅ Trace e47ad185-c406-449b-b1e6-de4c6c5ad6e8 successfully queued for export\n"
          ]
        },
        {
          "name": "stdout",
          "output_type": "stream",
          "text": [
            "2025-10-02 14:36:50 - INFO - google_genai.models - AFC is enabled with max remote calls: 10.\n",
            "2025-10-02 14:36:52 - INFO - google_genai.models - AFC remote call 1 is done.\n"
          ]
        },
        {
          "name": "stderr",
          "output_type": "stream",
          "text": [
            "2025-10-02 14:36:52 - noveum_trace.transport.http_transport - INFO - 📤 EXPORTING TRACE: auto_trace_generate (ID: faefe477-99ae-43f8-b5b8-928679c5849f) - 1 spans\n",
            "2025-10-02 14:36:52 - noveum_trace.transport.batch_processor - INFO - 📥 ADDING TRACE TO QUEUE: auto_trace_generate (ID: faefe477-99ae-43f8-b5b8-928679c5849f) - 1 spans\n",
            "2025-10-02 14:36:52 - noveum_trace.transport.batch_processor - INFO - ✅ Successfully queued trace faefe477-99ae-43f8-b5b8-928679c5849f\n",
            "2025-10-02 14:36:52 - noveum_trace.transport.http_transport - INFO - ✅ Trace faefe477-99ae-43f8-b5b8-928679c5849f successfully queued for export\n"
          ]
        },
        {
          "name": "stdout",
          "output_type": "stream",
          "text": [
            "2025-10-02 14:36:52 - INFO - google_genai.models - AFC is enabled with max remote calls: 10.\n",
            "2025-10-02 14:36:53 - INFO - google_genai.models - AFC remote call 1 is done.\n"
          ]
        },
        {
          "name": "stderr",
          "output_type": "stream",
          "text": [
            "2025-10-02 14:36:53 - noveum_trace.transport.http_transport - INFO - 📤 EXPORTING TRACE: auto_trace_generate (ID: 8fb968d3-151a-4e02-ab9c-4479064eb254) - 1 spans\n",
            "2025-10-02 14:36:53 - noveum_trace.transport.batch_processor - INFO - 📥 ADDING TRACE TO QUEUE: auto_trace_generate (ID: 8fb968d3-151a-4e02-ab9c-4479064eb254) - 1 spans\n",
            "2025-10-02 14:36:53 - noveum_trace.transport.batch_processor - INFO - ✅ Successfully queued trace 8fb968d3-151a-4e02-ab9c-4479064eb254\n",
            "2025-10-02 14:36:53 - noveum_trace.transport.http_transport - INFO - ✅ Trace 8fb968d3-151a-4e02-ab9c-4479064eb254 successfully queued for export\n"
          ]
        },
        {
          "name": "stdout",
          "output_type": "stream",
          "text": [
            "2025-10-02 14:36:53 - INFO - novaeval.evaluators.agent_evaluator - Saving intermediate results after 20 samples\n",
            "2025-10-02 14:36:53 - INFO - novaeval.evaluators.agent_evaluator - Intermediate results saved to demo_results/agent_comment_gen_dataset/agent_evaluation_results.csv\n"
          ]
        },
        {
          "name": "stderr",
          "output_type": "stream",
          "text": [
            "Evaluating samples: 20it [01:23,  4.03s/it]"
          ]
        },
        {
          "name": "stdout",
          "output_type": "stream",
          "text": [
            "2025-10-02 14:36:53 - INFO - google_genai.models - AFC is enabled with max remote calls: 10.\n",
            "2025-10-02 14:36:55 - INFO - google_genai.models - AFC remote call 1 is done.\n"
          ]
        },
        {
          "name": "stderr",
          "output_type": "stream",
          "text": [
            "2025-10-02 14:36:55 - noveum_trace.transport.http_transport - INFO - 📤 EXPORTING TRACE: auto_trace_generate (ID: ea5edbdc-4803-4494-9284-f8ef259d4dfc) - 1 spans\n",
            "2025-10-02 14:36:55 - noveum_trace.transport.batch_processor - INFO - 📥 ADDING TRACE TO QUEUE: auto_trace_generate (ID: ea5edbdc-4803-4494-9284-f8ef259d4dfc) - 1 spans\n",
            "2025-10-02 14:36:55 - noveum_trace.transport.batch_processor - INFO - ✅ Successfully queued trace ea5edbdc-4803-4494-9284-f8ef259d4dfc\n",
            "2025-10-02 14:36:55 - noveum_trace.transport.http_transport - INFO - ✅ Trace ea5edbdc-4803-4494-9284-f8ef259d4dfc successfully queued for export\n"
          ]
        },
        {
          "name": "stdout",
          "output_type": "stream",
          "text": [
            "2025-10-02 14:36:55 - INFO - google_genai.models - AFC is enabled with max remote calls: 10.\n",
            "2025-10-02 14:36:56 - INFO - google_genai.models - AFC remote call 1 is done.\n"
          ]
        },
        {
          "name": "stderr",
          "output_type": "stream",
          "text": [
            "2025-10-02 14:36:56 - noveum_trace.transport.http_transport - INFO - 📤 EXPORTING TRACE: auto_trace_generate (ID: f1959c3b-fab3-4fb8-8e86-1aa28217afc3) - 1 spans\n",
            "2025-10-02 14:36:56 - noveum_trace.transport.batch_processor - INFO - 📥 ADDING TRACE TO QUEUE: auto_trace_generate (ID: f1959c3b-fab3-4fb8-8e86-1aa28217afc3) - 1 spans\n",
            "2025-10-02 14:36:56 - noveum_trace.transport.batch_processor - INFO - ✅ Successfully queued trace f1959c3b-fab3-4fb8-8e86-1aa28217afc3\n",
            "2025-10-02 14:36:56 - noveum_trace.transport.http_transport - INFO - ✅ Trace f1959c3b-fab3-4fb8-8e86-1aa28217afc3 successfully queued for export\n"
          ]
        },
        {
          "name": "stdout",
          "output_type": "stream",
          "text": [
            "2025-10-02 14:36:56 - INFO - google_genai.models - AFC is enabled with max remote calls: 10.\n",
            "2025-10-02 14:36:57 - INFO - google_genai.models - AFC remote call 1 is done.\n"
          ]
        },
        {
          "name": "stderr",
          "output_type": "stream",
          "text": [
            "2025-10-02 14:36:57 - noveum_trace.transport.http_transport - INFO - 📤 EXPORTING TRACE: auto_trace_generate (ID: 34724672-2917-4149-96d8-79cad9e2ae5c) - 1 spans\n",
            "2025-10-02 14:36:57 - noveum_trace.transport.batch_processor - INFO - 📥 ADDING TRACE TO QUEUE: auto_trace_generate (ID: 34724672-2917-4149-96d8-79cad9e2ae5c) - 1 spans\n",
            "2025-10-02 14:36:57 - noveum_trace.transport.batch_processor - INFO - ✅ Successfully queued trace 34724672-2917-4149-96d8-79cad9e2ae5c\n",
            "2025-10-02 14:36:57 - noveum_trace.transport.http_transport - INFO - ✅ Trace 34724672-2917-4149-96d8-79cad9e2ae5c successfully queued for export\n"
          ]
        },
        {
          "name": "stdout",
          "output_type": "stream",
          "text": [
            "2025-10-02 14:36:57 - INFO - novaeval.evaluators.agent_evaluator - Saving intermediate results after 21 samples\n",
            "2025-10-02 14:36:57 - INFO - novaeval.evaluators.agent_evaluator - Intermediate results saved to demo_results/agent_comment_gen_dataset/agent_evaluation_results.csv\n"
          ]
        },
        {
          "name": "stderr",
          "output_type": "stream",
          "text": [
            "Evaluating samples: 21it [01:27,  4.06s/it]"
          ]
        },
        {
          "name": "stdout",
          "output_type": "stream",
          "text": [
            "2025-10-02 14:36:57 - INFO - google_genai.models - AFC is enabled with max remote calls: 10.\n",
            "2025-10-02 14:36:59 - INFO - google_genai.models - AFC remote call 1 is done.\n"
          ]
        },
        {
          "name": "stderr",
          "output_type": "stream",
          "text": [
            "2025-10-02 14:36:59 - noveum_trace.transport.http_transport - INFO - 📤 EXPORTING TRACE: auto_trace_generate (ID: 4634415a-dea0-4851-a0d2-003e871577b1) - 1 spans\n",
            "2025-10-02 14:36:59 - noveum_trace.transport.batch_processor - INFO - 📥 ADDING TRACE TO QUEUE: auto_trace_generate (ID: 4634415a-dea0-4851-a0d2-003e871577b1) - 1 spans\n",
            "2025-10-02 14:36:59 - noveum_trace.transport.batch_processor - INFO - ✅ Successfully queued trace 4634415a-dea0-4851-a0d2-003e871577b1\n",
            "2025-10-02 14:36:59 - noveum_trace.transport.http_transport - INFO - ✅ Trace 4634415a-dea0-4851-a0d2-003e871577b1 successfully queued for export\n"
          ]
        },
        {
          "name": "stdout",
          "output_type": "stream",
          "text": [
            "2025-10-02 14:36:59 - INFO - google_genai.models - AFC is enabled with max remote calls: 10.\n",
            "2025-10-02 14:37:00 - INFO - google_genai.models - AFC remote call 1 is done.\n"
          ]
        },
        {
          "name": "stderr",
          "output_type": "stream",
          "text": [
            "2025-10-02 14:37:00 - noveum_trace.transport.http_transport - INFO - 📤 EXPORTING TRACE: auto_trace_generate (ID: b97b5dff-ecbd-470c-8cd0-db45da30242c) - 1 spans\n",
            "2025-10-02 14:37:00 - noveum_trace.transport.batch_processor - INFO - 📥 ADDING TRACE TO QUEUE: auto_trace_generate (ID: b97b5dff-ecbd-470c-8cd0-db45da30242c) - 1 spans\n",
            "2025-10-02 14:37:00 - noveum_trace.transport.batch_processor - INFO - ✅ Successfully queued trace b97b5dff-ecbd-470c-8cd0-db45da30242c\n",
            "2025-10-02 14:37:00 - noveum_trace.transport.http_transport - INFO - ✅ Trace b97b5dff-ecbd-470c-8cd0-db45da30242c successfully queued for export\n"
          ]
        },
        {
          "name": "stdout",
          "output_type": "stream",
          "text": [
            "2025-10-02 14:37:00 - INFO - google_genai.models - AFC is enabled with max remote calls: 10.\n",
            "2025-10-02 14:37:01 - INFO - google_genai.models - AFC remote call 1 is done.\n"
          ]
        },
        {
          "name": "stderr",
          "output_type": "stream",
          "text": [
            "2025-10-02 14:37:01 - noveum_trace.transport.http_transport - INFO - 📤 EXPORTING TRACE: auto_trace_generate (ID: eaa65f13-64c3-457d-9bde-59040864f16b) - 1 spans\n",
            "2025-10-02 14:37:01 - noveum_trace.transport.batch_processor - INFO - 📥 ADDING TRACE TO QUEUE: auto_trace_generate (ID: eaa65f13-64c3-457d-9bde-59040864f16b) - 1 spans\n",
            "2025-10-02 14:37:01 - noveum_trace.transport.batch_processor - INFO - ✅ Successfully queued trace eaa65f13-64c3-457d-9bde-59040864f16b\n",
            "2025-10-02 14:37:01 - noveum_trace.transport.http_transport - INFO - ✅ Trace eaa65f13-64c3-457d-9bde-59040864f16b successfully queued for export\n"
          ]
        },
        {
          "name": "stdout",
          "output_type": "stream",
          "text": [
            "2025-10-02 14:37:01 - INFO - novaeval.evaluators.agent_evaluator - Saving intermediate results after 22 samples\n",
            "2025-10-02 14:37:01 - INFO - novaeval.evaluators.agent_evaluator - Intermediate results saved to demo_results/agent_comment_gen_dataset/agent_evaluation_results.csv\n"
          ]
        },
        {
          "name": "stderr",
          "output_type": "stream",
          "text": [
            "Evaluating samples: 22it [01:31,  4.01s/it]"
          ]
        },
        {
          "name": "stdout",
          "output_type": "stream",
          "text": [
            "2025-10-02 14:37:01 - INFO - google_genai.models - AFC is enabled with max remote calls: 10.\n",
            "2025-10-02 14:37:03 - INFO - google_genai.models - AFC remote call 1 is done.\n"
          ]
        },
        {
          "name": "stderr",
          "output_type": "stream",
          "text": [
            "2025-10-02 14:37:03 - noveum_trace.transport.http_transport - INFO - 📤 EXPORTING TRACE: auto_trace_generate (ID: d6e8484e-7584-4344-9164-7684d2542d80) - 1 spans\n",
            "2025-10-02 14:37:03 - noveum_trace.transport.batch_processor - INFO - 📥 ADDING TRACE TO QUEUE: auto_trace_generate (ID: d6e8484e-7584-4344-9164-7684d2542d80) - 1 spans\n",
            "2025-10-02 14:37:03 - noveum_trace.transport.batch_processor - INFO - ✅ Successfully queued trace d6e8484e-7584-4344-9164-7684d2542d80\n",
            "2025-10-02 14:37:03 - noveum_trace.transport.http_transport - INFO - ✅ Trace d6e8484e-7584-4344-9164-7684d2542d80 successfully queued for export\n"
          ]
        },
        {
          "name": "stdout",
          "output_type": "stream",
          "text": [
            "2025-10-02 14:37:03 - INFO - google_genai.models - AFC is enabled with max remote calls: 10.\n",
            "2025-10-02 14:37:04 - INFO - google_genai.models - AFC remote call 1 is done.\n"
          ]
        },
        {
          "name": "stderr",
          "output_type": "stream",
          "text": [
            "2025-10-02 14:37:04 - noveum_trace.transport.http_transport - INFO - 📤 EXPORTING TRACE: auto_trace_generate (ID: c792f9c1-e29e-483b-bbe5-499666f55ee2) - 1 spans\n",
            "2025-10-02 14:37:04 - noveum_trace.transport.batch_processor - INFO - 📥 ADDING TRACE TO QUEUE: auto_trace_generate (ID: c792f9c1-e29e-483b-bbe5-499666f55ee2) - 1 spans\n",
            "2025-10-02 14:37:04 - noveum_trace.transport.batch_processor - INFO - ✅ Successfully queued trace c792f9c1-e29e-483b-bbe5-499666f55ee2\n",
            "2025-10-02 14:37:04 - noveum_trace.transport.http_transport - INFO - ✅ Trace c792f9c1-e29e-483b-bbe5-499666f55ee2 successfully queued for export\n"
          ]
        },
        {
          "name": "stdout",
          "output_type": "stream",
          "text": [
            "2025-10-02 14:37:04 - INFO - google_genai.models - AFC is enabled with max remote calls: 10.\n",
            "2025-10-02 14:37:05 - INFO - google_genai.models - AFC remote call 1 is done.\n"
          ]
        },
        {
          "name": "stderr",
          "output_type": "stream",
          "text": [
            "2025-10-02 14:37:05 - noveum_trace.transport.http_transport - INFO - 📤 EXPORTING TRACE: auto_trace_generate (ID: 3943d1c6-6126-4bb2-bd34-f5801a5803d3) - 1 spans\n",
            "2025-10-02 14:37:05 - noveum_trace.transport.batch_processor - INFO - 📥 ADDING TRACE TO QUEUE: auto_trace_generate (ID: 3943d1c6-6126-4bb2-bd34-f5801a5803d3) - 1 spans\n",
            "2025-10-02 14:37:05 - noveum_trace.transport.batch_processor - INFO - ✅ Successfully queued trace 3943d1c6-6126-4bb2-bd34-f5801a5803d3\n",
            "2025-10-02 14:37:05 - noveum_trace.transport.http_transport - INFO - ✅ Trace 3943d1c6-6126-4bb2-bd34-f5801a5803d3 successfully queued for export\n"
          ]
        },
        {
          "name": "stdout",
          "output_type": "stream",
          "text": [
            "2025-10-02 14:37:05 - INFO - novaeval.evaluators.agent_evaluator - Saving intermediate results after 23 samples\n",
            "2025-10-02 14:37:05 - INFO - novaeval.evaluators.agent_evaluator - Intermediate results saved to demo_results/agent_comment_gen_dataset/agent_evaluation_results.csv\n"
          ]
        },
        {
          "name": "stderr",
          "output_type": "stream",
          "text": [
            "Evaluating samples: 23it [01:35,  3.98s/it]"
          ]
        },
        {
          "name": "stdout",
          "output_type": "stream",
          "text": [
            "2025-10-02 14:37:05 - INFO - google_genai.models - AFC is enabled with max remote calls: 10.\n",
            "2025-10-02 14:37:06 - INFO - google_genai.models - AFC remote call 1 is done.\n"
          ]
        },
        {
          "name": "stderr",
          "output_type": "stream",
          "text": [
            "2025-10-02 14:37:06 - noveum_trace.transport.http_transport - INFO - 📤 EXPORTING TRACE: auto_trace_generate (ID: 1407387c-58f9-4baa-97ae-39a2e819667b) - 1 spans\n",
            "2025-10-02 14:37:06 - noveum_trace.transport.batch_processor - INFO - 📥 ADDING TRACE TO QUEUE: auto_trace_generate (ID: 1407387c-58f9-4baa-97ae-39a2e819667b) - 1 spans\n",
            "2025-10-02 14:37:06 - noveum_trace.transport.batch_processor - INFO - ✅ Successfully queued trace 1407387c-58f9-4baa-97ae-39a2e819667b\n",
            "2025-10-02 14:37:06 - noveum_trace.transport.http_transport - INFO - ✅ Trace 1407387c-58f9-4baa-97ae-39a2e819667b successfully queued for export\n"
          ]
        },
        {
          "name": "stdout",
          "output_type": "stream",
          "text": [
            "2025-10-02 14:37:06 - INFO - google_genai.models - AFC is enabled with max remote calls: 10.\n",
            "2025-10-02 14:37:08 - INFO - google_genai.models - AFC remote call 1 is done.\n"
          ]
        },
        {
          "name": "stderr",
          "output_type": "stream",
          "text": [
            "2025-10-02 14:37:08 - noveum_trace.transport.http_transport - INFO - 📤 EXPORTING TRACE: auto_trace_generate (ID: 25d90e18-caa9-414f-a4b7-cc0e9f30141a) - 1 spans\n",
            "2025-10-02 14:37:08 - noveum_trace.transport.batch_processor - INFO - 📥 ADDING TRACE TO QUEUE: auto_trace_generate (ID: 25d90e18-caa9-414f-a4b7-cc0e9f30141a) - 1 spans\n",
            "2025-10-02 14:37:08 - noveum_trace.transport.batch_processor - INFO - ✅ Successfully queued trace 25d90e18-caa9-414f-a4b7-cc0e9f30141a\n",
            "2025-10-02 14:37:08 - noveum_trace.transport.http_transport - INFO - ✅ Trace 25d90e18-caa9-414f-a4b7-cc0e9f30141a successfully queued for export\n"
          ]
        },
        {
          "name": "stdout",
          "output_type": "stream",
          "text": [
            "2025-10-02 14:37:08 - INFO - google_genai.models - AFC is enabled with max remote calls: 10.\n",
            "2025-10-02 14:37:09 - INFO - google_genai.models - AFC remote call 1 is done.\n"
          ]
        },
        {
          "name": "stderr",
          "output_type": "stream",
          "text": [
            "2025-10-02 14:37:09 - noveum_trace.transport.http_transport - INFO - 📤 EXPORTING TRACE: auto_trace_generate (ID: eb331595-efe1-4e22-a0d3-05ab3ff1c12a) - 1 spans\n",
            "2025-10-02 14:37:09 - noveum_trace.transport.batch_processor - INFO - 📥 ADDING TRACE TO QUEUE: auto_trace_generate (ID: eb331595-efe1-4e22-a0d3-05ab3ff1c12a) - 1 spans\n",
            "2025-10-02 14:37:09 - noveum_trace.transport.batch_processor - INFO - ✅ Successfully queued trace eb331595-efe1-4e22-a0d3-05ab3ff1c12a\n",
            "2025-10-02 14:37:09 - noveum_trace.transport.http_transport - INFO - ✅ Trace eb331595-efe1-4e22-a0d3-05ab3ff1c12a successfully queued for export\n"
          ]
        },
        {
          "name": "stdout",
          "output_type": "stream",
          "text": [
            "2025-10-02 14:37:09 - INFO - novaeval.evaluators.agent_evaluator - Saving intermediate results after 24 samples\n",
            "2025-10-02 14:37:09 - INFO - novaeval.evaluators.agent_evaluator - Intermediate results saved to demo_results/agent_comment_gen_dataset/agent_evaluation_results.csv\n"
          ]
        },
        {
          "name": "stderr",
          "output_type": "stream",
          "text": [
            "Evaluating samples: 24it [01:39,  3.89s/it]"
          ]
        },
        {
          "name": "stdout",
          "output_type": "stream",
          "text": [
            "2025-10-02 14:37:09 - INFO - google_genai.models - AFC is enabled with max remote calls: 10.\n",
            "2025-10-02 14:37:10 - INFO - google_genai.models - AFC remote call 1 is done.\n"
          ]
        },
        {
          "name": "stderr",
          "output_type": "stream",
          "text": [
            "2025-10-02 14:37:10 - noveum_trace.transport.http_transport - INFO - 📤 EXPORTING TRACE: auto_trace_generate (ID: 3e4cf1b4-b56f-49ec-bb95-237fbcbda15f) - 1 spans\n",
            "2025-10-02 14:37:10 - noveum_trace.transport.batch_processor - INFO - 📥 ADDING TRACE TO QUEUE: auto_trace_generate (ID: 3e4cf1b4-b56f-49ec-bb95-237fbcbda15f) - 1 spans\n",
            "2025-10-02 14:37:10 - noveum_trace.transport.batch_processor - INFO - ✅ Successfully queued trace 3e4cf1b4-b56f-49ec-bb95-237fbcbda15f\n",
            "2025-10-02 14:37:10 - noveum_trace.transport.http_transport - INFO - ✅ Trace 3e4cf1b4-b56f-49ec-bb95-237fbcbda15f successfully queued for export\n"
          ]
        },
        {
          "name": "stdout",
          "output_type": "stream",
          "text": [
            "2025-10-02 14:37:10 - INFO - google_genai.models - AFC is enabled with max remote calls: 10.\n",
            "2025-10-02 14:37:11 - INFO - google_genai.models - AFC remote call 1 is done.\n"
          ]
        },
        {
          "name": "stderr",
          "output_type": "stream",
          "text": [
            "2025-10-02 14:37:11 - noveum_trace.transport.http_transport - INFO - 📤 EXPORTING TRACE: auto_trace_generate (ID: 2ff4c829-baf5-4b01-9365-3aac4696ab8a) - 1 spans\n",
            "2025-10-02 14:37:11 - noveum_trace.transport.batch_processor - INFO - 📥 ADDING TRACE TO QUEUE: auto_trace_generate (ID: 2ff4c829-baf5-4b01-9365-3aac4696ab8a) - 1 spans\n",
            "2025-10-02 14:37:11 - noveum_trace.transport.batch_processor - INFO - ✅ Successfully queued trace 2ff4c829-baf5-4b01-9365-3aac4696ab8a\n",
            "2025-10-02 14:37:11 - noveum_trace.transport.http_transport - INFO - ✅ Trace 2ff4c829-baf5-4b01-9365-3aac4696ab8a successfully queued for export\n"
          ]
        },
        {
          "name": "stdout",
          "output_type": "stream",
          "text": [
            "2025-10-02 14:37:11 - INFO - google_genai.models - AFC is enabled with max remote calls: 10.\n",
            "2025-10-02 14:37:13 - INFO - google_genai.models - AFC remote call 1 is done.\n"
          ]
        },
        {
          "name": "stderr",
          "output_type": "stream",
          "text": [
            "2025-10-02 14:37:13 - noveum_trace.transport.http_transport - INFO - 📤 EXPORTING TRACE: auto_trace_generate (ID: 0bb7797c-36ae-44bf-9c0e-77c2cd3ffa41) - 1 spans\n",
            "2025-10-02 14:37:13 - noveum_trace.transport.batch_processor - INFO - 📥 ADDING TRACE TO QUEUE: auto_trace_generate (ID: 0bb7797c-36ae-44bf-9c0e-77c2cd3ffa41) - 1 spans\n",
            "2025-10-02 14:37:13 - noveum_trace.transport.batch_processor - INFO - ✅ Successfully queued trace 0bb7797c-36ae-44bf-9c0e-77c2cd3ffa41\n",
            "2025-10-02 14:37:13 - noveum_trace.transport.http_transport - INFO - ✅ Trace 0bb7797c-36ae-44bf-9c0e-77c2cd3ffa41 successfully queued for export\n"
          ]
        },
        {
          "name": "stdout",
          "output_type": "stream",
          "text": [
            "2025-10-02 14:37:13 - INFO - novaeval.evaluators.agent_evaluator - Saving intermediate results after 25 samples\n",
            "2025-10-02 14:37:13 - INFO - novaeval.evaluators.agent_evaluator - Intermediate results saved to demo_results/agent_comment_gen_dataset/agent_evaluation_results.csv\n"
          ]
        },
        {
          "name": "stderr",
          "output_type": "stream",
          "text": [
            "Evaluating samples: 25it [01:42,  4.12s/it]"
          ]
        },
        {
          "name": "stdout",
          "output_type": "stream",
          "text": [
            "2025-10-02 14:37:13 - INFO - novaeval.evaluators.agent_evaluator - Saving final results\n",
            "2025-10-02 14:37:13 - INFO - novaeval.evaluators.agent_evaluator - Reloaded 25 results from CSV\n",
            "2025-10-02 14:37:13 - INFO - novaeval.evaluators.agent_evaluator - Agent evaluation completed\n",
            "\n",
            "✅ Evaluation completed!\n",
            "\n",
            "📊 Results Summary:\n",
            "  - task_progression: 8.22\n",
            "  - context_relevancy: 8.01\n",
            "  - role_adherence: 8.60\n",
            "  - tool_relevancy: 0.00\n",
            "  - parameter_correctness: 0.00\n",
            "\n",
            "🔍 Individual Scores:\n",
            "\n",
            "  Record 1 (Task: d599b552-5d57-4949-b426-c6a490de9ed2):\n",
            "    - task_progression: 8.5\n",
            "    - context_relevancy: 8.1\n",
            "    - role_adherence: 9.2\n",
            "    - tool_relevancy: 0.0\n",
            "    - parameter_correctness: 0.0\n",
            "\n",
            "  Record 2 (Task: 37d28351-5201-4a30-896f-c111e5351678):\n",
            "    - task_progression: 8.5\n",
            "    - context_relevancy: 7.8\n",
            "    - role_adherence: 9.0\n",
            "    - tool_relevancy: 0.0\n",
            "    - parameter_correctness: 0.0\n",
            "\n",
            "  Record 3 (Task: 91341b8b-5199-47f3-b93f-09b8917ae689):\n",
            "    - task_progression: 8.5\n",
            "    - context_relevancy: 8.1\n",
            "    - role_adherence: 9.0\n",
            "    - tool_relevancy: 0.0\n",
            "    - parameter_correctness: 0.0\n",
            "\n",
            "  Record 4 (Task: 1c1712e1-08ce-44ac-8669-90b533a0305e):\n",
            "    - task_progression: 6.5\n",
            "    - context_relevancy: 6.9\n",
            "    - role_adherence: 4.0\n",
            "    - tool_relevancy: 0.0\n",
            "    - parameter_correctness: 0.0\n",
            "\n",
            "  Record 5 (Task: bab80798-79af-4683-842c-2ccaeee575b5):\n",
            "    - task_progression: 8.2\n",
            "    - context_relevancy: 7.8\n",
            "    - role_adherence: 5.0\n",
            "    - tool_relevancy: 0.0\n",
            "    - parameter_correctness: 0.0\n",
            "\n",
            "  Record 6 (Task: f989ff57-3f41-4d56-9586-5e321f30b1af):\n",
            "    - task_progression: 7.8\n",
            "    - context_relevancy: 8.1\n",
            "    - role_adherence: 9.0\n",
            "    - tool_relevancy: 0.0\n",
            "    - parameter_correctness: 0.0\n",
            "\n",
            "  Record 7 (Task: 3a5db1ec-e05f-4e6d-a21c-63fd75ec9733):\n",
            "    - task_progression: 8.5\n",
            "    - context_relevancy: 8.1\n",
            "    - role_adherence: 9.0\n",
            "    - tool_relevancy: 0.0\n",
            "    - parameter_correctness: 0.0\n",
            "\n",
            "  Record 8 (Task: be9414af-cd3f-4393-bf2b-a8790e149680):\n",
            "    - task_progression: 8.5\n",
            "    - context_relevancy: 8.2\n",
            "    - role_adherence: 9.2\n",
            "    - tool_relevancy: 0.0\n",
            "    - parameter_correctness: 0.0\n",
            "\n",
            "  Record 9 (Task: b691f6d5-f9f3-47a4-b5d4-39195692381c):\n",
            "    - task_progression: 8.5\n",
            "    - context_relevancy: 8.1\n",
            "    - role_adherence: 9.0\n",
            "    - tool_relevancy: 0.0\n",
            "    - parameter_correctness: 0.0\n",
            "\n",
            "  Record 10 (Task: 3e5e5729-76e0-4d05-bacb-14cf96a96b14):\n",
            "    - task_progression: 5.8\n",
            "    - context_relevancy: 7.8\n",
            "    - role_adherence: 8.7\n",
            "    - tool_relevancy: 0.0\n",
            "    - parameter_correctness: 0.0\n",
            "\n",
            "  Record 11 (Task: 47cabca4-dfb8-4dd9-9cab-283795eb825d):\n",
            "    - task_progression: 7.8\n",
            "    - context_relevancy: 7.8\n",
            "    - role_adherence: 7.8\n",
            "    - tool_relevancy: 0.0\n",
            "    - parameter_correctness: 0.0\n",
            "\n",
            "  Record 12 (Task: 5c8304cd-2158-41c5-8abe-ad3d9204217e):\n",
            "    - task_progression: 8.5\n",
            "    - context_relevancy: 8.1\n",
            "    - role_adherence: 9.0\n",
            "    - tool_relevancy: 0.0\n",
            "    - parameter_correctness: 0.0\n",
            "\n",
            "  Record 13 (Task: 3af620ea-1a72-4884-980c-e9bc8564c235):\n",
            "    - task_progression: 8.5\n",
            "    - context_relevancy: 8.1\n",
            "    - role_adherence: 9.0\n",
            "    - tool_relevancy: 0.0\n",
            "    - parameter_correctness: 0.0\n",
            "\n",
            "  Record 14 (Task: eab532a6-195d-487a-afd5-79e183b8bb61):\n",
            "    - task_progression: 8.5\n",
            "    - context_relevancy: 8.1\n",
            "    - role_adherence: 9.0\n",
            "    - tool_relevancy: 0.0\n",
            "    - parameter_correctness: 0.0\n",
            "\n",
            "  Record 15 (Task: 00d47709-34dc-479c-a65d-29a032fc8db5):\n",
            "    - task_progression: 8.5\n",
            "    - context_relevancy: 8.1\n",
            "    - role_adherence: 9.0\n",
            "    - tool_relevancy: 0.0\n",
            "    - parameter_correctness: 0.0\n",
            "\n",
            "  Record 16 (Task: 5902c501-13a3-489d-85a0-2daacea01787):\n",
            "    - task_progression: 8.5\n",
            "    - context_relevancy: 8.1\n",
            "    - role_adherence: 9.0\n",
            "    - tool_relevancy: 0.0\n",
            "    - parameter_correctness: 0.0\n",
            "\n",
            "  Record 17 (Task: c45271dc-7dff-485f-b64b-2e3b947179b7):\n",
            "    - task_progression: 8.8\n",
            "    - context_relevancy: 8.1\n",
            "    - role_adherence: 9.0\n",
            "    - tool_relevancy: 0.0\n",
            "    - parameter_correctness: 0.0\n",
            "\n",
            "  Record 18 (Task: 441601cf-6e4f-43ed-a258-a1b034fc34e6):\n",
            "    - task_progression: 8.5\n",
            "    - context_relevancy: 8.1\n",
            "    - role_adherence: 9.0\n",
            "    - tool_relevancy: 0.0\n",
            "    - parameter_correctness: 0.0\n",
            "\n",
            "  Record 19 (Task: ad3a37d3-3104-4040-9898-f5ca887a3a98):\n",
            "    - task_progression: 8.5\n",
            "    - context_relevancy: 8.2\n",
            "    - role_adherence: 9.0\n",
            "    - tool_relevancy: 0.0\n",
            "    - parameter_correctness: 0.0\n",
            "\n",
            "  Record 20 (Task: 5eb3898c-4f86-4220-b42f-85a83f20db3a):\n",
            "    - task_progression: 8.8\n",
            "    - context_relevancy: 8.2\n",
            "    - role_adherence: 9.0\n",
            "    - tool_relevancy: 0.0\n",
            "    - parameter_correctness: 0.0\n",
            "\n",
            "  Record 21 (Task: db8674fb-d67c-4702-9bcb-80cd9ae81bb4):\n",
            "    - task_progression: 8.5\n",
            "    - context_relevancy: 7.8\n",
            "    - role_adherence: 9.0\n",
            "    - tool_relevancy: 0.0\n",
            "    - parameter_correctness: 0.0\n",
            "\n",
            "  Record 22 (Task: fd1c1ea3-0f4d-4fd3-90fc-db7a495c41d3):\n",
            "    - task_progression: 8.5\n",
            "    - context_relevancy: 8.2\n",
            "    - role_adherence: 9.0\n",
            "    - tool_relevancy: 0.0\n",
            "    - parameter_correctness: 0.0\n",
            "\n",
            "  Record 23 (Task: e2182d92-f187-4346-b784-74ad044b3fc7):\n",
            "    - task_progression: 7.8\n",
            "    - context_relevancy: 8.1\n",
            "    - role_adherence: 9.0\n",
            "    - tool_relevancy: 0.0\n",
            "    - parameter_correctness: 0.0\n",
            "\n",
            "  Record 24 (Task: c9fb0985-687d-4eea-8ebc-fe51396008c1):\n",
            "    - task_progression: 8.1\n",
            "    - context_relevancy: 7.8\n",
            "    - role_adherence: 9.0\n",
            "    - tool_relevancy: 0.0\n",
            "    - parameter_correctness: 0.0\n",
            "\n",
            "  Record 25 (Task: 4d6da9f4-6fda-4a43-80a9-598e7d8cd8db):\n",
            "    - task_progression: 8.5\n",
            "    - context_relevancy: 8.5\n",
            "    - role_adherence: 9.0\n",
            "    - tool_relevancy: 0.0\n",
            "    - parameter_correctness: 0.0\n",
            "✅ Evaluation completed successfully!\n",
            "\n",
            "📋 Step 7: Exporting Dataset\n",
            "💾 Exporting processed dataset...\n",
            "✅ Exported to agent_comment_gen_dataset_processed_dataset.json\n",
            "✅ Exported to agent_comment_gen_dataset_processed_dataset.csv\n",
            "✅ Export completed successfully!\n",
            "\n",
            "============================================================\n",
            "🎉 EVALUATION PIPELINE COMPLETED!\n",
            "📊 Final Results:\n",
            "  - File processed: split_datasets/agent_comment_gen_dataset.json\n",
            "  - Spans loaded: 40\n",
            "  - Dataset size: 40\n",
            "  - Evaluation completed: True\n",
            "  - Export successful: True\n",
            "  - Results saved to: ./demo_results/agent_comment_gen_dataset/\n"
          ]
        },
        {
          "name": "stderr",
          "output_type": "stream",
          "text": [
            "\n"
          ]
        },
        {
          "data": {
            "text/plain": [
              "{'success': True,\n",
              " 'file_processed': 'split_datasets/agent_comment_gen_dataset.json',\n",
              " 'spans_loaded': 40,\n",
              " 'dataset_created': True,\n",
              " 'dataset_size': 40,\n",
              " 'evaluation_completed': True,\n",
              " 'results_df':     user_id                               task_id  \\\n",
              " 0       NaN  d599b552-5d57-4949-b426-c6a490de9ed2   \n",
              " 1       NaN  37d28351-5201-4a30-896f-c111e5351678   \n",
              " 2       NaN  91341b8b-5199-47f3-b93f-09b8917ae689   \n",
              " 3       NaN  1c1712e1-08ce-44ac-8669-90b533a0305e   \n",
              " 4       NaN  bab80798-79af-4683-842c-2ccaeee575b5   \n",
              " 5       NaN  f989ff57-3f41-4d56-9586-5e321f30b1af   \n",
              " 6       NaN  3a5db1ec-e05f-4e6d-a21c-63fd75ec9733   \n",
              " 7       NaN  be9414af-cd3f-4393-bf2b-a8790e149680   \n",
              " 8       NaN  b691f6d5-f9f3-47a4-b5d4-39195692381c   \n",
              " 9       NaN  3e5e5729-76e0-4d05-bacb-14cf96a96b14   \n",
              " 10      NaN  47cabca4-dfb8-4dd9-9cab-283795eb825d   \n",
              " 11      NaN  5c8304cd-2158-41c5-8abe-ad3d9204217e   \n",
              " 12      NaN  3af620ea-1a72-4884-980c-e9bc8564c235   \n",
              " 13      NaN  eab532a6-195d-487a-afd5-79e183b8bb61   \n",
              " 14      NaN  00d47709-34dc-479c-a65d-29a032fc8db5   \n",
              " 15      NaN  5902c501-13a3-489d-85a0-2daacea01787   \n",
              " 16      NaN  c45271dc-7dff-485f-b64b-2e3b947179b7   \n",
              " 17      NaN  441601cf-6e4f-43ed-a258-a1b034fc34e6   \n",
              " 18      NaN  ad3a37d3-3104-4040-9898-f5ca887a3a98   \n",
              " 19      NaN  5eb3898c-4f86-4220-b42f-85a83f20db3a   \n",
              " 20      NaN  db8674fb-d67c-4702-9bcb-80cd9ae81bb4   \n",
              " 21      NaN  fd1c1ea3-0f4d-4fd3-90fc-db7a495c41d3   \n",
              " 22      NaN  e2182d92-f187-4346-b784-74ad044b3fc7   \n",
              " 23      NaN  c9fb0985-687d-4eea-8ebc-fe51396008c1   \n",
              " 24      NaN  4d6da9f4-6fda-4a43-80a9-598e7d8cd8db   \n",
              " \n",
              "                                  turn_id agent_name  task_progression  \\\n",
              " 0   2fad8bda-117b-4eb3-a0de-918a9eec6b30      agent               8.5   \n",
              " 1   58dbc099-f4bf-4934-9bdd-16c61670dd77      agent               8.5   \n",
              " 2   2e49bbb9-2fa9-424e-b4e6-5196591ae0c2      agent               8.5   \n",
              " 3   4b94c75d-7c0a-47c7-875e-deafa0dcdcc2      agent               6.5   \n",
              " 4   656705cb-2745-46d6-9452-0cb4dbc953f7      agent               8.2   \n",
              " 5   4ad0520e-1279-49cb-9424-90eda57da9bd      agent               7.8   \n",
              " 6   72a05b76-387a-4509-a4a0-ffd9d762a49e      agent               8.5   \n",
              " 7   e57ca89d-456e-424c-b787-a9b63a56e693      agent               8.5   \n",
              " 8   38f5e686-cfbf-4669-92a6-1bcdea78ad02      agent               8.5   \n",
              " 9   c17fcf2d-9907-48cc-9f32-100a02f1c20d      agent               5.8   \n",
              " 10  e98278af-2437-419b-9c4d-55fd85fc224a      agent               7.8   \n",
              " 11  46e71303-162b-41be-b0c4-b1b65c8ab9ae      agent               8.5   \n",
              " 12  a56e9636-e0fc-4f26-8a49-a979f386935e      agent               8.5   \n",
              " 13  268ac1c4-4855-404b-bda7-e9c89e7384e4      agent               8.5   \n",
              " 14  872ade45-0754-401c-b6fe-a5b41138aeb4      agent               8.5   \n",
              " 15  99c40196-1175-4270-ab17-40656dc9eb73      agent               8.5   \n",
              " 16  776c643e-31af-45e2-b2cb-87d98b92c7eb      agent               8.8   \n",
              " 17  7e30f276-f0cf-4a2b-b78d-e05ea712387e      agent               8.5   \n",
              " 18  25a247d1-5896-40c8-b627-cb077feec2cb      agent               8.5   \n",
              " 19  33f3d65f-7577-4e6c-b94c-2a4559432d3e      agent               8.8   \n",
              " 20  5b7dabd2-cb48-4d4f-a229-5f09c34182e9      agent               8.5   \n",
              " 21  cf1aa9a4-4a64-4410-8f8d-26cdc2b0edbe      agent               8.5   \n",
              " 22  0fb3c8a0-a17f-4f00-b09b-43e4932bfc6d      agent               7.8   \n",
              " 23  d0e97292-a2e2-45ba-bd4b-3b78cba11472      agent               8.1   \n",
              " 24  c35deadf-de02-4363-bd28-1b55153ff636      agent               8.5   \n",
              " \n",
              "     context_relevancy  role_adherence  tool_relevancy  parameter_correctness  \\\n",
              " 0                 8.1             9.2             0.0                    0.0   \n",
              " 1                 7.8             9.0             0.0                    0.0   \n",
              " 2                 8.1             9.0             0.0                    0.0   \n",
              " 3                 6.9             4.0             0.0                    0.0   \n",
              " 4                 7.8             5.0             0.0                    0.0   \n",
              " 5                 8.1             9.0             0.0                    0.0   \n",
              " 6                 8.1             9.0             0.0                    0.0   \n",
              " 7                 8.2             9.2             0.0                    0.0   \n",
              " 8                 8.1             9.0             0.0                    0.0   \n",
              " 9                 7.8             8.7             0.0                    0.0   \n",
              " 10                7.8             7.8             0.0                    0.0   \n",
              " 11                8.1             9.0             0.0                    0.0   \n",
              " 12                8.1             9.0             0.0                    0.0   \n",
              " 13                8.1             9.0             0.0                    0.0   \n",
              " 14                8.1             9.0             0.0                    0.0   \n",
              " 15                8.1             9.0             0.0                    0.0   \n",
              " 16                8.1             9.0             0.0                    0.0   \n",
              " 17                8.1             9.0             0.0                    0.0   \n",
              " 18                8.2             9.0             0.0                    0.0   \n",
              " 19                8.2             9.0             0.0                    0.0   \n",
              " 20                7.8             9.0             0.0                    0.0   \n",
              " 21                8.2             9.0             0.0                    0.0   \n",
              " 22                8.1             9.0             0.0                    0.0   \n",
              " 23                7.8             9.0             0.0                    0.0   \n",
              " 24                8.5             9.0             0.0                    0.0   \n",
              " \n",
              "                            task_progression_reasoning  \\\n",
              " 0   The agent successfully identified the user's n...   \n",
              " 1   The agent has successfully identified a releva...   \n",
              " 2   The agent successfully understood the prompt, ...   \n",
              " 3   The agent understands the task, offering a res...   \n",
              " 4   The agent's response is highly relevant to the...   \n",
              " 5   The agent correctly identifies the Crunchbase ...   \n",
              " 6   The agent fulfills its customer support role b...   \n",
              " 7   The agent effectively understands its role and...   \n",
              " 8   The agent successfully fulfills its role, unde...   \n",
              " 9   The agent identifies the correct API title and...   \n",
              " 10  The agent understands the task and provides a ...   \n",
              " 11  The agent successfully identifies the user's n...   \n",
              " 12  The agent successfully identifies a relevant A...   \n",
              " 13  The agent successfully identifies the task as ...   \n",
              " 14  The agent effectively addresses the user's nee...   \n",
              " 15  The agent accurately fulfills the role and tas...   \n",
              " 16  The agent understands the task of generating a...   \n",
              " 17  The agent understands its role as a helpful cu...   \n",
              " 18  The agent successfully fulfills its customer s...   \n",
              " 19  The agent effectively answers the user's quest...   \n",
              " 20  The agent successfully understood its role as ...   \n",
              " 21  The agent understands its role and task, and p...   \n",
              " 22  The agent demonstrates a clear understanding o...   \n",
              " 23  The agent correctly identifies a relevant API ...   \n",
              " 24  The agent understood the prompt and provided a...   \n",
              " \n",
              "                           context_relevancy_reasoning  \\\n",
              " 0   The agent's response directly addresses the pr...   \n",
              " 1   The response provides a relevant suggestion – ...   \n",
              " 2   The agent provides a relevant solution to the ...   \n",
              " 3   The response is somewhat relevant as it acknow...   \n",
              " 4   The response is relevant as it acknowledges th...   \n",
              " 5   The agent provides a relevant solution using t...   \n",
              " 6   The response is highly relevant, directly addr...   \n",
              " 7   The agent effectively addresses the prompt by ...   \n",
              " 8   The response is relevant and aligns well with ...   \n",
              " 9   The agent offers a relevant suggestion by prov...   \n",
              " 10  The agent's response is relevant to the task o...   \n",
              " 11  The response is highly relevant, providing a s...   \n",
              " 12  The response is highly relevant as it provides...   \n",
              " 13  The agent's response is highly relevant and al...   \n",
              " 14  The agent's response is highly relevant, direc...   \n",
              " 15  The agent's response is highly relevant, provi...   \n",
              " 16  The response is highly relevant, mentioning ba...   \n",
              " 17  The agent's response directly addresses the pr...   \n",
              " 18  The agent's response is highly relevant, offer...   \n",
              " 19  The agent's response is highly relevant to the...   \n",
              " 20  The agent's response directly addresses the po...   \n",
              " 21  The agent response directly addresses the user...   \n",
              " 22  The agent's response is highly relevant. It di...   \n",
              " 23  The agent's response is relevant, providing a ...   \n",
              " 24  The agent's response is highly relevant to the...   \n",
              " \n",
              "                              role_adherence_reasoning  \\\n",
              " 0   The agent successfully fulfills its role by ge...   \n",
              " 1   The agent successfully fulfills its role by pr...   \n",
              " 2   The agent clearly understands its role and tas...   \n",
              " 3   The agent's response strays significantly from...   \n",
              " 4   The agent deviates significantly from its role...   \n",
              " 5   The agent perfectly adheres to its role, provi...   \n",
              " 6   The agent effectively fulfills its role by pro...   \n",
              " 7   The agent flawlessly executes its role of prov...   \n",
              " 8   The agent effectively addresses the post's top...   \n",
              " 9   The agent stays focused on the comment generat...   \n",
              " 10  The agent generally adheres to its role relate...   \n",
              " 11  The agent perfectly adheres to its role of an ...   \n",
              " 12  The agent flawlessly adheres to its assigned r...   \n",
              " 13  The agent adheres perfectly to its role. It pr...   \n",
              " 14  The agent successfully embodies the role of a ...   \n",
              " 15  The agent successfully fulfills its role by di...   \n",
              " 16  The agent perfectly adheres to its role as an ...   \n",
              " 17  The agent perfectly adheres to its role of pro...   \n",
              " 18  The agent effectively comments on the post, st...   \n",
              " 19  The agent successfully fulfills its role by pr...   \n",
              " 20  The agent effectively performed its role of a ...   \n",
              " 21  The agent perfectly adheres to its role as a h...   \n",
              " 22  The agent effectively generates a comment rele...   \n",
              " 23  The agent perfectly adheres to its role as a c...   \n",
              " 24  The agent perfectly adheres to its role by pro...   \n",
              " \n",
              "           tool_relevancy_reasoning parameter_correctness_reasoning  \n",
              " 0   Error: Missing required fields  Error: Missing required fields  \n",
              " 1   Error: Missing required fields  Error: Missing required fields  \n",
              " 2   Error: Missing required fields  Error: Missing required fields  \n",
              " 3   Error: Missing required fields  Error: Missing required fields  \n",
              " 4   Error: Missing required fields  Error: Missing required fields  \n",
              " 5   Error: Missing required fields  Error: Missing required fields  \n",
              " 6   Error: Missing required fields  Error: Missing required fields  \n",
              " 7   Error: Missing required fields  Error: Missing required fields  \n",
              " 8   Error: Missing required fields  Error: Missing required fields  \n",
              " 9   Error: Missing required fields  Error: Missing required fields  \n",
              " 10  Error: Missing required fields  Error: Missing required fields  \n",
              " 11  Error: Missing required fields  Error: Missing required fields  \n",
              " 12  Error: Missing required fields  Error: Missing required fields  \n",
              " 13  Error: Missing required fields  Error: Missing required fields  \n",
              " 14  Error: Missing required fields  Error: Missing required fields  \n",
              " 15  Error: Missing required fields  Error: Missing required fields  \n",
              " 16  Error: Missing required fields  Error: Missing required fields  \n",
              " 17  Error: Missing required fields  Error: Missing required fields  \n",
              " 18  Error: Missing required fields  Error: Missing required fields  \n",
              " 19  Error: Missing required fields  Error: Missing required fields  \n",
              " 20  Error: Missing required fields  Error: Missing required fields  \n",
              " 21  Error: Missing required fields  Error: Missing required fields  \n",
              " 22  Error: Missing required fields  Error: Missing required fields  \n",
              " 23  Error: Missing required fields  Error: Missing required fields  \n",
              " 24  Error: Missing required fields  Error: Missing required fields  ,\n",
              " 'export_success': True,\n",
              " 'errors': []}"
            ]
          },
          "execution_count": 11,
          "metadata": {},
          "output_type": "execute_result"
        }
      ],
      "source": [
        "from demo_utils import run_complete_agent_evaluation\n",
        "\n",
        "#evaluating the split datasets\n",
        "run_complete_agent_evaluation('split_datasets/agent_comment_gen_dataset.json',\n",
        "evaluation_name = \"agent_comment_gen_dataset\", output_dir = \"./demo_results\")"
      ]
    },
    {
      "cell_type": "code",
      "execution_count": 12,
      "metadata": {},
      "outputs": [
        {
          "name": "stdout",
          "output_type": "stream",
          "text": [
            "🚀 Starting Complete Agent Evaluation Pipeline\n",
            "📁 Processing file: split_datasets/agent_query_gen_dataset.json\n",
            "============================================================\n",
            "\n",
            "📋 Step 1: Environment Setup\n",
            "✅ Logging configured at INFO level\n",
            "🔍 Environment validation:\n",
            "  ✅ gemini_api_key: True\n",
            "  ✅ pandas_available: True\n",
            "  ✅ novaeval_available: True\n",
            "✅ Environment ready for evaluation!\n",
            "\n",
            "📋 Step 2: Loading Dataset\n",
            "📊 Loaded 319 spans from split_datasets/agent_query_gen_dataset.json\n",
            "\n",
            "🔍 Available span types:\n",
            "  - agent.query_generation: 319\n",
            "✅ Dataset loaded: 319 spans\n",
            "\n",
            "📋 Step 3: Converting to AgentDataset Format\n",
            "🔄 Converting spans to AgentData objects...\n",
            "\n",
            "✅ Successfully converted 319 spans to AgentData\n",
            "📊 AgentDataset created with 319 records\n",
            "✅ AgentDataset created: 319 records\n",
            "\n",
            "📋 Step 4: Dataset Analysis\n",
            "📈 Dataset Statistics:\n",
            "\n",
            "Agent Types: {'agent': 319}\n",
            "Records with responses: 319\n",
            "Records with tool calls: 0\n",
            "Records with retrieval: 0\n",
            "Tool usage: {}\n",
            "🔍 Dataset Analysis:\n",
            "\n",
            "=== Agent Behavior Patterns ===\n",
            "\n",
            "📈 Tool Usage:\n",
            "\n",
            "📋 Task Types:\n",
            "  - other: 319\n",
            "\n",
            "📝 Response Statistics:\n",
            "  - Average response length: 474.6 characters\n",
            "  - Min response length: 144\n",
            "  - Max response length: 713\n",
            "\n",
            "📋 Step 5: Setting up Evaluation\n",
            "✅ GEMINI_API_KEY found in environment\n",
            "2025-10-02 14:37:13 - INFO - novaeval.models.base - Noveum tracing initialized successfully\n",
            "✅ Gemini model initialized\n",
            "✅ Initialized 5 scoring functions:\n",
            "  - task_progression_scorer\n",
            "  - context_relevancy_scorer\n",
            "  - role_adherence_scorer\n",
            "  - tool_relevancy_scorer\n",
            "  - parameter_correctness_scorer\n",
            "\n",
            "✅ AgentEvaluator created with Gemini model and scoring functions\n",
            "✅ Evaluation components ready!\n",
            "\n",
            "📋 Step 6: Running Evaluation\n",
            "🎯 Evaluating 25 samples...\n",
            "🚀 Running evaluation on sample data...\n",
            "\n",
            "📊 Evaluating 25 sample records...\n",
            "2025-10-02 14:37:13 - INFO - novaeval.evaluators.agent_evaluator - Starting agent evaluation process\n"
          ]
        },
        {
          "name": "stderr",
          "output_type": "stream",
          "text": [
            "Evaluating samples: 0it [00:00, ?it/s]"
          ]
        },
        {
          "name": "stdout",
          "output_type": "stream",
          "text": [
            "2025-10-02 14:37:13 - INFO - google_genai.models - AFC is enabled with max remote calls: 10.\n",
            "2025-10-02 14:37:15 - INFO - google_genai.models - AFC remote call 1 is done.\n"
          ]
        },
        {
          "name": "stderr",
          "output_type": "stream",
          "text": [
            "2025-10-02 14:37:15 - noveum_trace.transport.http_transport - INFO - 📤 EXPORTING TRACE: auto_trace_generate (ID: bee35a0b-08f0-4992-8f34-6cc83b67ef13) - 1 spans\n",
            "2025-10-02 14:37:15 - noveum_trace.transport.batch_processor - INFO - 📥 ADDING TRACE TO QUEUE: auto_trace_generate (ID: bee35a0b-08f0-4992-8f34-6cc83b67ef13) - 1 spans\n",
            "2025-10-02 14:37:15 - noveum_trace.transport.batch_processor - INFO - ✅ Successfully queued trace bee35a0b-08f0-4992-8f34-6cc83b67ef13\n",
            "2025-10-02 14:37:15 - noveum_trace.transport.http_transport - INFO - ✅ Trace bee35a0b-08f0-4992-8f34-6cc83b67ef13 successfully queued for export\n"
          ]
        },
        {
          "name": "stdout",
          "output_type": "stream",
          "text": [
            "2025-10-02 14:37:15 - INFO - google_genai.models - AFC is enabled with max remote calls: 10.\n",
            "2025-10-02 14:37:16 - INFO - google_genai.models - AFC remote call 1 is done.\n"
          ]
        },
        {
          "name": "stderr",
          "output_type": "stream",
          "text": [
            "2025-10-02 14:37:16 - noveum_trace.transport.http_transport - INFO - 📤 EXPORTING TRACE: auto_trace_generate (ID: 31f96e08-2697-413f-ae58-7a640ca063a2) - 1 spans\n",
            "2025-10-02 14:37:16 - noveum_trace.transport.batch_processor - INFO - 📥 ADDING TRACE TO QUEUE: auto_trace_generate (ID: 31f96e08-2697-413f-ae58-7a640ca063a2) - 1 spans\n",
            "2025-10-02 14:37:16 - noveum_trace.transport.batch_processor - INFO - ✅ Successfully queued trace 31f96e08-2697-413f-ae58-7a640ca063a2\n",
            "2025-10-02 14:37:16 - noveum_trace.transport.http_transport - INFO - ✅ Trace 31f96e08-2697-413f-ae58-7a640ca063a2 successfully queued for export\n"
          ]
        },
        {
          "name": "stdout",
          "output_type": "stream",
          "text": [
            "2025-10-02 14:37:16 - INFO - google_genai.models - AFC is enabled with max remote calls: 10.\n",
            "2025-10-02 14:37:18 - INFO - google_genai.models - AFC remote call 1 is done.\n"
          ]
        },
        {
          "name": "stderr",
          "output_type": "stream",
          "text": [
            "2025-10-02 14:37:18 - noveum_trace.transport.http_transport - INFO - 📤 EXPORTING TRACE: auto_trace_generate (ID: d82ced64-8680-4f8e-ac6c-7895039bbfa4) - 1 spans\n",
            "2025-10-02 14:37:18 - noveum_trace.transport.batch_processor - INFO - 📥 ADDING TRACE TO QUEUE: auto_trace_generate (ID: d82ced64-8680-4f8e-ac6c-7895039bbfa4) - 1 spans\n",
            "2025-10-02 14:37:18 - noveum_trace.transport.batch_processor - INFO - ✅ Successfully queued trace d82ced64-8680-4f8e-ac6c-7895039bbfa4\n",
            "2025-10-02 14:37:18 - noveum_trace.transport.http_transport - INFO - ✅ Trace d82ced64-8680-4f8e-ac6c-7895039bbfa4 successfully queued for export\n"
          ]
        },
        {
          "name": "stdout",
          "output_type": "stream",
          "text": [
            "2025-10-02 14:37:18 - INFO - novaeval.evaluators.agent_evaluator - Saving intermediate results after 1 samples\n",
            "2025-10-02 14:37:18 - INFO - novaeval.evaluators.agent_evaluator - Intermediate results saved to demo_results/agent_query_gen_dataset/agent_evaluation_results.csv\n"
          ]
        },
        {
          "name": "stderr",
          "output_type": "stream",
          "text": [
            "Evaluating samples: 1it [00:04,  4.88s/it]"
          ]
        },
        {
          "name": "stdout",
          "output_type": "stream",
          "text": [
            "2025-10-02 14:37:18 - INFO - google_genai.models - AFC is enabled with max remote calls: 10.\n",
            "2025-10-02 14:37:19 - INFO - google_genai.models - AFC remote call 1 is done.\n"
          ]
        },
        {
          "name": "stderr",
          "output_type": "stream",
          "text": [
            "2025-10-02 14:37:19 - noveum_trace.transport.http_transport - INFO - 📤 EXPORTING TRACE: auto_trace_generate (ID: c0c3023d-aca8-4c34-ad1e-b556fb63f8c1) - 1 spans\n",
            "2025-10-02 14:37:19 - noveum_trace.transport.batch_processor - INFO - 📥 ADDING TRACE TO QUEUE: auto_trace_generate (ID: c0c3023d-aca8-4c34-ad1e-b556fb63f8c1) - 1 spans\n",
            "2025-10-02 14:37:19 - noveum_trace.transport.batch_processor - INFO - ✅ Successfully queued trace c0c3023d-aca8-4c34-ad1e-b556fb63f8c1\n",
            "2025-10-02 14:37:19 - noveum_trace.transport.http_transport - INFO - ✅ Trace c0c3023d-aca8-4c34-ad1e-b556fb63f8c1 successfully queued for export\n"
          ]
        },
        {
          "name": "stdout",
          "output_type": "stream",
          "text": [
            "2025-10-02 14:37:19 - INFO - google_genai.models - AFC is enabled with max remote calls: 10.\n",
            "2025-10-02 14:37:20 - INFO - google_genai.models - AFC remote call 1 is done.\n"
          ]
        },
        {
          "name": "stderr",
          "output_type": "stream",
          "text": [
            "2025-10-02 14:37:20 - noveum_trace.transport.http_transport - INFO - 📤 EXPORTING TRACE: auto_trace_generate (ID: 47795992-08f6-406c-b724-4bc36be4bc05) - 1 spans\n",
            "2025-10-02 14:37:20 - noveum_trace.transport.batch_processor - INFO - 📥 ADDING TRACE TO QUEUE: auto_trace_generate (ID: 47795992-08f6-406c-b724-4bc36be4bc05) - 1 spans\n",
            "2025-10-02 14:37:20 - noveum_trace.transport.batch_processor - INFO - ✅ Successfully queued trace 47795992-08f6-406c-b724-4bc36be4bc05\n",
            "2025-10-02 14:37:20 - noveum_trace.transport.http_transport - INFO - ✅ Trace 47795992-08f6-406c-b724-4bc36be4bc05 successfully queued for export\n"
          ]
        },
        {
          "name": "stdout",
          "output_type": "stream",
          "text": [
            "2025-10-02 14:37:20 - INFO - google_genai.models - AFC is enabled with max remote calls: 10.\n",
            "2025-10-02 14:37:21 - INFO - google_genai.models - AFC remote call 1 is done.\n"
          ]
        },
        {
          "name": "stderr",
          "output_type": "stream",
          "text": [
            "2025-10-02 14:37:21 - noveum_trace.transport.http_transport - INFO - 📤 EXPORTING TRACE: auto_trace_generate (ID: dea2bd52-9a7c-43b2-bc12-7353b2e6a7cc) - 1 spans\n",
            "2025-10-02 14:37:21 - noveum_trace.transport.batch_processor - INFO - 📥 ADDING TRACE TO QUEUE: auto_trace_generate (ID: dea2bd52-9a7c-43b2-bc12-7353b2e6a7cc) - 1 spans\n",
            "2025-10-02 14:37:21 - noveum_trace.transport.batch_processor - INFO - ✅ Successfully queued trace dea2bd52-9a7c-43b2-bc12-7353b2e6a7cc\n",
            "2025-10-02 14:37:21 - noveum_trace.transport.http_transport - INFO - ✅ Trace dea2bd52-9a7c-43b2-bc12-7353b2e6a7cc successfully queued for export\n"
          ]
        },
        {
          "name": "stdout",
          "output_type": "stream",
          "text": [
            "2025-10-02 14:37:21 - INFO - novaeval.evaluators.agent_evaluator - Saving intermediate results after 2 samples\n",
            "2025-10-02 14:37:21 - INFO - novaeval.evaluators.agent_evaluator - Intermediate results saved to demo_results/agent_query_gen_dataset/agent_evaluation_results.csv\n"
          ]
        },
        {
          "name": "stderr",
          "output_type": "stream",
          "text": [
            "Evaluating samples: 2it [00:08,  4.26s/it]"
          ]
        },
        {
          "name": "stdout",
          "output_type": "stream",
          "text": [
            "2025-10-02 14:37:21 - INFO - google_genai.models - AFC is enabled with max remote calls: 10.\n",
            "2025-10-02 14:37:23 - INFO - google_genai.models - AFC remote call 1 is done.\n"
          ]
        },
        {
          "name": "stderr",
          "output_type": "stream",
          "text": [
            "2025-10-02 14:37:23 - noveum_trace.transport.http_transport - INFO - 📤 EXPORTING TRACE: auto_trace_generate (ID: f3cbd630-1d31-4a68-be8d-9d4c14d78248) - 1 spans\n",
            "2025-10-02 14:37:23 - noveum_trace.transport.batch_processor - INFO - 📥 ADDING TRACE TO QUEUE: auto_trace_generate (ID: f3cbd630-1d31-4a68-be8d-9d4c14d78248) - 1 spans\n",
            "2025-10-02 14:37:23 - noveum_trace.transport.batch_processor - INFO - ✅ Successfully queued trace f3cbd630-1d31-4a68-be8d-9d4c14d78248\n",
            "2025-10-02 14:37:23 - noveum_trace.transport.http_transport - INFO - ✅ Trace f3cbd630-1d31-4a68-be8d-9d4c14d78248 successfully queued for export\n"
          ]
        },
        {
          "name": "stdout",
          "output_type": "stream",
          "text": [
            "2025-10-02 14:37:23 - INFO - google_genai.models - AFC is enabled with max remote calls: 10.\n",
            "2025-10-02 14:37:25 - INFO - google_genai.models - AFC remote call 1 is done.\n"
          ]
        },
        {
          "name": "stderr",
          "output_type": "stream",
          "text": [
            "2025-10-02 14:37:25 - noveum_trace.transport.http_transport - INFO - 📤 EXPORTING TRACE: auto_trace_generate (ID: 6232a5c0-1e12-44d9-9296-06617de3a108) - 1 spans\n",
            "2025-10-02 14:37:25 - noveum_trace.transport.batch_processor - INFO - 📥 ADDING TRACE TO QUEUE: auto_trace_generate (ID: 6232a5c0-1e12-44d9-9296-06617de3a108) - 1 spans\n",
            "2025-10-02 14:37:25 - noveum_trace.transport.batch_processor - INFO - ✅ Successfully queued trace 6232a5c0-1e12-44d9-9296-06617de3a108\n",
            "2025-10-02 14:37:25 - noveum_trace.transport.http_transport - INFO - ✅ Trace 6232a5c0-1e12-44d9-9296-06617de3a108 successfully queued for export\n"
          ]
        },
        {
          "name": "stdout",
          "output_type": "stream",
          "text": [
            "2025-10-02 14:37:25 - INFO - google_genai.models - AFC is enabled with max remote calls: 10.\n",
            "2025-10-02 14:37:26 - INFO - google_genai.models - AFC remote call 1 is done.\n"
          ]
        },
        {
          "name": "stderr",
          "output_type": "stream",
          "text": [
            "2025-10-02 14:37:26 - noveum_trace.transport.http_transport - INFO - 📤 EXPORTING TRACE: auto_trace_generate (ID: d3690b30-0dbe-4d39-b533-5a6ba2420a98) - 1 spans\n",
            "2025-10-02 14:37:26 - noveum_trace.transport.batch_processor - INFO - 📥 ADDING TRACE TO QUEUE: auto_trace_generate (ID: d3690b30-0dbe-4d39-b533-5a6ba2420a98) - 1 spans\n",
            "2025-10-02 14:37:26 - noveum_trace.transport.batch_processor - INFO - ✅ Successfully queued trace d3690b30-0dbe-4d39-b533-5a6ba2420a98\n",
            "2025-10-02 14:37:26 - noveum_trace.transport.http_transport - INFO - ✅ Trace d3690b30-0dbe-4d39-b533-5a6ba2420a98 successfully queued for export\n"
          ]
        },
        {
          "name": "stdout",
          "output_type": "stream",
          "text": [
            "2025-10-02 14:37:26 - INFO - novaeval.evaluators.agent_evaluator - Saving intermediate results after 3 samples\n",
            "2025-10-02 14:37:26 - INFO - novaeval.evaluators.agent_evaluator - Intermediate results saved to demo_results/agent_query_gen_dataset/agent_evaluation_results.csv\n"
          ]
        },
        {
          "name": "stderr",
          "output_type": "stream",
          "text": [
            "Evaluating samples: 3it [00:13,  4.46s/it]"
          ]
        },
        {
          "name": "stdout",
          "output_type": "stream",
          "text": [
            "2025-10-02 14:37:26 - INFO - google_genai.models - AFC is enabled with max remote calls: 10.\n",
            "2025-10-02 14:37:27 - INFO - google_genai.models - AFC remote call 1 is done.\n"
          ]
        },
        {
          "name": "stderr",
          "output_type": "stream",
          "text": [
            "2025-10-02 14:37:27 - noveum_trace.transport.http_transport - INFO - 📤 EXPORTING TRACE: auto_trace_generate (ID: 01902dcb-96b5-473b-8643-9a56cc3f94b6) - 1 spans\n",
            "2025-10-02 14:37:27 - noveum_trace.transport.batch_processor - INFO - 📥 ADDING TRACE TO QUEUE: auto_trace_generate (ID: 01902dcb-96b5-473b-8643-9a56cc3f94b6) - 1 spans\n",
            "2025-10-02 14:37:27 - noveum_trace.transport.batch_processor - INFO - ✅ Successfully queued trace 01902dcb-96b5-473b-8643-9a56cc3f94b6\n",
            "2025-10-02 14:37:27 - noveum_trace.transport.http_transport - INFO - ✅ Trace 01902dcb-96b5-473b-8643-9a56cc3f94b6 successfully queued for export\n"
          ]
        },
        {
          "name": "stdout",
          "output_type": "stream",
          "text": [
            "2025-10-02 14:37:28 - INFO - google_genai.models - AFC is enabled with max remote calls: 10.\n",
            "2025-10-02 14:37:29 - INFO - google_genai.models - AFC remote call 1 is done.\n"
          ]
        },
        {
          "name": "stderr",
          "output_type": "stream",
          "text": [
            "2025-10-02 14:37:29 - noveum_trace.transport.http_transport - INFO - 📤 EXPORTING TRACE: auto_trace_generate (ID: d1f76f97-6023-412f-bca6-0e7410cc6ad9) - 1 spans\n",
            "2025-10-02 14:37:29 - noveum_trace.transport.batch_processor - INFO - 📥 ADDING TRACE TO QUEUE: auto_trace_generate (ID: d1f76f97-6023-412f-bca6-0e7410cc6ad9) - 1 spans\n",
            "2025-10-02 14:37:29 - noveum_trace.transport.batch_processor - INFO - ✅ Successfully queued trace d1f76f97-6023-412f-bca6-0e7410cc6ad9\n",
            "2025-10-02 14:37:29 - noveum_trace.transport.http_transport - INFO - ✅ Trace d1f76f97-6023-412f-bca6-0e7410cc6ad9 successfully queued for export\n"
          ]
        },
        {
          "name": "stdout",
          "output_type": "stream",
          "text": [
            "2025-10-02 14:37:29 - INFO - google_genai.models - AFC is enabled with max remote calls: 10.\n",
            "2025-10-02 14:37:30 - INFO - google_genai.models - AFC remote call 1 is done.\n"
          ]
        },
        {
          "name": "stderr",
          "output_type": "stream",
          "text": [
            "2025-10-02 14:37:30 - noveum_trace.transport.http_transport - INFO - 📤 EXPORTING TRACE: auto_trace_generate (ID: 64e8448f-b9a7-4db6-a4ae-8e4b52f87899) - 1 spans\n",
            "2025-10-02 14:37:30 - noveum_trace.transport.batch_processor - INFO - 📥 ADDING TRACE TO QUEUE: auto_trace_generate (ID: 64e8448f-b9a7-4db6-a4ae-8e4b52f87899) - 1 spans\n",
            "2025-10-02 14:37:30 - noveum_trace.transport.batch_processor - INFO - ✅ Successfully queued trace 64e8448f-b9a7-4db6-a4ae-8e4b52f87899\n",
            "2025-10-02 14:37:30 - noveum_trace.transport.http_transport - INFO - ✅ Trace 64e8448f-b9a7-4db6-a4ae-8e4b52f87899 successfully queued for export\n"
          ]
        },
        {
          "name": "stdout",
          "output_type": "stream",
          "text": [
            "2025-10-02 14:37:30 - INFO - novaeval.evaluators.agent_evaluator - Saving intermediate results after 4 samples\n",
            "2025-10-02 14:37:30 - INFO - novaeval.evaluators.agent_evaluator - Intermediate results saved to demo_results/agent_query_gen_dataset/agent_evaluation_results.csv\n"
          ]
        },
        {
          "name": "stderr",
          "output_type": "stream",
          "text": [
            "Evaluating samples: 4it [00:17,  4.34s/it]"
          ]
        },
        {
          "name": "stdout",
          "output_type": "stream",
          "text": [
            "2025-10-02 14:37:30 - INFO - google_genai.models - AFC is enabled with max remote calls: 10.\n",
            "2025-10-02 14:37:32 - INFO - google_genai.models - AFC remote call 1 is done.\n"
          ]
        },
        {
          "name": "stderr",
          "output_type": "stream",
          "text": [
            "2025-10-02 14:37:32 - noveum_trace.transport.http_transport - INFO - 📤 EXPORTING TRACE: auto_trace_generate (ID: 3348d2b5-0a5f-48b2-a820-be99040017ba) - 1 spans\n",
            "2025-10-02 14:37:32 - noveum_trace.transport.batch_processor - INFO - 📥 ADDING TRACE TO QUEUE: auto_trace_generate (ID: 3348d2b5-0a5f-48b2-a820-be99040017ba) - 1 spans\n",
            "2025-10-02 14:37:32 - noveum_trace.transport.batch_processor - INFO - ✅ Successfully queued trace 3348d2b5-0a5f-48b2-a820-be99040017ba\n",
            "2025-10-02 14:37:32 - noveum_trace.transport.http_transport - INFO - ✅ Trace 3348d2b5-0a5f-48b2-a820-be99040017ba successfully queued for export\n"
          ]
        },
        {
          "name": "stdout",
          "output_type": "stream",
          "text": [
            "2025-10-02 14:37:32 - INFO - google_genai.models - AFC is enabled with max remote calls: 10.\n",
            "2025-10-02 14:37:33 - INFO - google_genai.models - AFC remote call 1 is done.\n"
          ]
        },
        {
          "name": "stderr",
          "output_type": "stream",
          "text": [
            "2025-10-02 14:37:33 - noveum_trace.transport.http_transport - INFO - 📤 EXPORTING TRACE: auto_trace_generate (ID: 6752896d-39af-42ee-befc-b40a8aacd1d6) - 1 spans\n",
            "2025-10-02 14:37:33 - noveum_trace.transport.batch_processor - INFO - 📥 ADDING TRACE TO QUEUE: auto_trace_generate (ID: 6752896d-39af-42ee-befc-b40a8aacd1d6) - 1 spans\n",
            "2025-10-02 14:37:33 - noveum_trace.transport.batch_processor - INFO - ✅ Successfully queued trace 6752896d-39af-42ee-befc-b40a8aacd1d6\n",
            "2025-10-02 14:37:33 - noveum_trace.transport.http_transport - INFO - ✅ Trace 6752896d-39af-42ee-befc-b40a8aacd1d6 successfully queued for export\n"
          ]
        },
        {
          "name": "stdout",
          "output_type": "stream",
          "text": [
            "2025-10-02 14:37:33 - INFO - google_genai.models - AFC is enabled with max remote calls: 10.\n",
            "2025-10-02 14:37:35 - INFO - google_genai.models - AFC remote call 1 is done.\n"
          ]
        },
        {
          "name": "stderr",
          "output_type": "stream",
          "text": [
            "2025-10-02 14:37:35 - noveum_trace.transport.http_transport - INFO - 📤 EXPORTING TRACE: auto_trace_generate (ID: 04cc46ff-dc21-4b42-a47e-3d1db0bc0a0b) - 1 spans\n",
            "2025-10-02 14:37:35 - noveum_trace.transport.batch_processor - INFO - 📥 ADDING TRACE TO QUEUE: auto_trace_generate (ID: 04cc46ff-dc21-4b42-a47e-3d1db0bc0a0b) - 1 spans\n",
            "2025-10-02 14:37:35 - noveum_trace.transport.batch_processor - INFO - ✅ Successfully queued trace 04cc46ff-dc21-4b42-a47e-3d1db0bc0a0b\n",
            "2025-10-02 14:37:35 - noveum_trace.transport.http_transport - INFO - ✅ Trace 04cc46ff-dc21-4b42-a47e-3d1db0bc0a0b successfully queued for export\n"
          ]
        },
        {
          "name": "stdout",
          "output_type": "stream",
          "text": [
            "2025-10-02 14:37:35 - INFO - novaeval.evaluators.agent_evaluator - Saving intermediate results after 5 samples\n",
            "2025-10-02 14:37:35 - INFO - novaeval.evaluators.agent_evaluator - Intermediate results saved to demo_results/agent_query_gen_dataset/agent_evaluation_results.csv\n"
          ]
        },
        {
          "name": "stderr",
          "output_type": "stream",
          "text": [
            "Evaluating samples: 5it [00:21,  4.32s/it]"
          ]
        },
        {
          "name": "stdout",
          "output_type": "stream",
          "text": [
            "2025-10-02 14:37:35 - INFO - google_genai.models - AFC is enabled with max remote calls: 10.\n",
            "2025-10-02 14:37:36 - INFO - google_genai.models - AFC remote call 1 is done.\n"
          ]
        },
        {
          "name": "stderr",
          "output_type": "stream",
          "text": [
            "2025-10-02 14:37:36 - noveum_trace.transport.http_transport - INFO - 📤 EXPORTING TRACE: auto_trace_generate (ID: a0f1daa1-d332-4d0f-8f1f-423e630ab6b5) - 1 spans\n",
            "2025-10-02 14:37:36 - noveum_trace.transport.batch_processor - INFO - 📥 ADDING TRACE TO QUEUE: auto_trace_generate (ID: a0f1daa1-d332-4d0f-8f1f-423e630ab6b5) - 1 spans\n",
            "2025-10-02 14:37:36 - noveum_trace.transport.batch_processor - INFO - ✅ Successfully queued trace a0f1daa1-d332-4d0f-8f1f-423e630ab6b5\n",
            "2025-10-02 14:37:36 - noveum_trace.transport.http_transport - INFO - ✅ Trace a0f1daa1-d332-4d0f-8f1f-423e630ab6b5 successfully queued for export\n"
          ]
        },
        {
          "name": "stdout",
          "output_type": "stream",
          "text": [
            "2025-10-02 14:37:36 - INFO - google_genai.models - AFC is enabled with max remote calls: 10.\n",
            "2025-10-02 14:37:37 - INFO - google_genai.models - AFC remote call 1 is done.\n"
          ]
        },
        {
          "name": "stderr",
          "output_type": "stream",
          "text": [
            "2025-10-02 14:37:37 - noveum_trace.transport.http_transport - INFO - 📤 EXPORTING TRACE: auto_trace_generate (ID: d05982e0-1f01-4386-8a3d-6e416bcce275) - 1 spans\n",
            "2025-10-02 14:37:37 - noveum_trace.transport.batch_processor - INFO - 📥 ADDING TRACE TO QUEUE: auto_trace_generate (ID: d05982e0-1f01-4386-8a3d-6e416bcce275) - 1 spans\n",
            "2025-10-02 14:37:37 - noveum_trace.transport.batch_processor - INFO - ✅ Successfully queued trace d05982e0-1f01-4386-8a3d-6e416bcce275\n",
            "2025-10-02 14:37:37 - noveum_trace.transport.http_transport - INFO - ✅ Trace d05982e0-1f01-4386-8a3d-6e416bcce275 successfully queued for export\n"
          ]
        },
        {
          "name": "stdout",
          "output_type": "stream",
          "text": [
            "2025-10-02 14:37:37 - INFO - google_genai.models - AFC is enabled with max remote calls: 10.\n",
            "2025-10-02 14:37:39 - INFO - google_genai.models - AFC remote call 1 is done.\n"
          ]
        },
        {
          "name": "stderr",
          "output_type": "stream",
          "text": [
            "2025-10-02 14:37:39 - noveum_trace.transport.http_transport - INFO - 📤 EXPORTING TRACE: auto_trace_generate (ID: 51dabcf5-6152-4f56-8780-56cc187c941d) - 1 spans\n",
            "2025-10-02 14:37:39 - noveum_trace.transport.batch_processor - INFO - 📥 ADDING TRACE TO QUEUE: auto_trace_generate (ID: 51dabcf5-6152-4f56-8780-56cc187c941d) - 1 spans\n",
            "2025-10-02 14:37:39 - noveum_trace.transport.batch_processor - INFO - ✅ Successfully queued trace 51dabcf5-6152-4f56-8780-56cc187c941d\n",
            "2025-10-02 14:37:39 - noveum_trace.transport.http_transport - INFO - ✅ Trace 51dabcf5-6152-4f56-8780-56cc187c941d successfully queued for export\n"
          ]
        },
        {
          "name": "stdout",
          "output_type": "stream",
          "text": [
            "2025-10-02 14:37:39 - INFO - novaeval.evaluators.agent_evaluator - Saving intermediate results after 6 samples\n",
            "2025-10-02 14:37:39 - INFO - novaeval.evaluators.agent_evaluator - Intermediate results saved to demo_results/agent_query_gen_dataset/agent_evaluation_results.csv\n"
          ]
        },
        {
          "name": "stderr",
          "output_type": "stream",
          "text": [
            "Evaluating samples: 6it [00:25,  4.26s/it]"
          ]
        },
        {
          "name": "stdout",
          "output_type": "stream",
          "text": [
            "2025-10-02 14:37:39 - INFO - google_genai.models - AFC is enabled with max remote calls: 10.\n",
            "2025-10-02 14:37:40 - INFO - google_genai.models - AFC remote call 1 is done.\n"
          ]
        },
        {
          "name": "stderr",
          "output_type": "stream",
          "text": [
            "2025-10-02 14:37:40 - noveum_trace.transport.http_transport - INFO - 📤 EXPORTING TRACE: auto_trace_generate (ID: 7b7c0495-989b-4c78-92f5-1736bfe8eb1e) - 1 spans\n",
            "2025-10-02 14:37:40 - noveum_trace.transport.batch_processor - INFO - 📥 ADDING TRACE TO QUEUE: auto_trace_generate (ID: 7b7c0495-989b-4c78-92f5-1736bfe8eb1e) - 1 spans\n",
            "2025-10-02 14:37:40 - noveum_trace.transport.batch_processor - INFO - ✅ Successfully queued trace 7b7c0495-989b-4c78-92f5-1736bfe8eb1e\n",
            "2025-10-02 14:37:40 - noveum_trace.transport.http_transport - INFO - ✅ Trace 7b7c0495-989b-4c78-92f5-1736bfe8eb1e successfully queued for export\n"
          ]
        },
        {
          "name": "stdout",
          "output_type": "stream",
          "text": [
            "2025-10-02 14:37:40 - INFO - google_genai.models - AFC is enabled with max remote calls: 10.\n",
            "2025-10-02 14:37:41 - INFO - google_genai.models - AFC remote call 1 is done.\n"
          ]
        },
        {
          "name": "stderr",
          "output_type": "stream",
          "text": [
            "2025-10-02 14:37:41 - noveum_trace.transport.http_transport - INFO - 📤 EXPORTING TRACE: auto_trace_generate (ID: 2866177b-5cb7-4951-993a-0e244b6d97f8) - 1 spans\n",
            "2025-10-02 14:37:41 - noveum_trace.transport.batch_processor - INFO - 📥 ADDING TRACE TO QUEUE: auto_trace_generate (ID: 2866177b-5cb7-4951-993a-0e244b6d97f8) - 1 spans\n",
            "2025-10-02 14:37:41 - noveum_trace.transport.batch_processor - INFO - ✅ Successfully queued trace 2866177b-5cb7-4951-993a-0e244b6d97f8\n",
            "2025-10-02 14:37:41 - noveum_trace.transport.http_transport - INFO - ✅ Trace 2866177b-5cb7-4951-993a-0e244b6d97f8 successfully queued for export\n"
          ]
        },
        {
          "name": "stdout",
          "output_type": "stream",
          "text": [
            "2025-10-02 14:37:41 - INFO - google_genai.models - AFC is enabled with max remote calls: 10.\n",
            "2025-10-02 14:37:42 - INFO - google_genai.models - AFC remote call 1 is done.\n"
          ]
        },
        {
          "name": "stderr",
          "output_type": "stream",
          "text": [
            "2025-10-02 14:37:42 - noveum_trace.transport.http_transport - INFO - 📤 EXPORTING TRACE: auto_trace_generate (ID: 170cf687-1b38-41ce-9be7-d5c03addcebc) - 1 spans\n",
            "2025-10-02 14:37:42 - noveum_trace.transport.batch_processor - INFO - 📥 ADDING TRACE TO QUEUE: auto_trace_generate (ID: 170cf687-1b38-41ce-9be7-d5c03addcebc) - 1 spans\n",
            "2025-10-02 14:37:42 - noveum_trace.transport.batch_processor - INFO - ✅ Successfully queued trace 170cf687-1b38-41ce-9be7-d5c03addcebc\n",
            "2025-10-02 14:37:42 - noveum_trace.transport.http_transport - INFO - ✅ Trace 170cf687-1b38-41ce-9be7-d5c03addcebc successfully queued for export\n"
          ]
        },
        {
          "name": "stdout",
          "output_type": "stream",
          "text": [
            "2025-10-02 14:37:42 - INFO - novaeval.evaluators.agent_evaluator - Saving intermediate results after 7 samples\n",
            "2025-10-02 14:37:42 - INFO - novaeval.evaluators.agent_evaluator - Intermediate results saved to demo_results/agent_query_gen_dataset/agent_evaluation_results.csv\n"
          ]
        },
        {
          "name": "stderr",
          "output_type": "stream",
          "text": [
            "Evaluating samples: 7it [00:29,  4.09s/it]"
          ]
        },
        {
          "name": "stdout",
          "output_type": "stream",
          "text": [
            "2025-10-02 14:37:42 - INFO - google_genai.models - AFC is enabled with max remote calls: 10.\n",
            "2025-10-02 14:37:44 - INFO - google_genai.models - AFC remote call 1 is done.\n"
          ]
        },
        {
          "name": "stderr",
          "output_type": "stream",
          "text": [
            "2025-10-02 14:37:44 - noveum_trace.transport.http_transport - INFO - 📤 EXPORTING TRACE: auto_trace_generate (ID: 033bce55-de03-475d-a725-0840dc7e1790) - 1 spans\n",
            "2025-10-02 14:37:44 - noveum_trace.transport.batch_processor - INFO - 📥 ADDING TRACE TO QUEUE: auto_trace_generate (ID: 033bce55-de03-475d-a725-0840dc7e1790) - 1 spans\n",
            "2025-10-02 14:37:44 - noveum_trace.transport.batch_processor - INFO - ✅ Successfully queued trace 033bce55-de03-475d-a725-0840dc7e1790\n",
            "2025-10-02 14:37:44 - noveum_trace.transport.http_transport - INFO - ✅ Trace 033bce55-de03-475d-a725-0840dc7e1790 successfully queued for export\n"
          ]
        },
        {
          "name": "stdout",
          "output_type": "stream",
          "text": [
            "2025-10-02 14:37:44 - INFO - google_genai.models - AFC is enabled with max remote calls: 10.\n",
            "2025-10-02 14:37:45 - INFO - google_genai.models - AFC remote call 1 is done.\n"
          ]
        },
        {
          "name": "stderr",
          "output_type": "stream",
          "text": [
            "2025-10-02 14:37:45 - noveum_trace.transport.http_transport - INFO - 📤 EXPORTING TRACE: auto_trace_generate (ID: 292828a6-88cb-4315-9cbf-a7c7cd0b81f6) - 1 spans\n",
            "2025-10-02 14:37:45 - noveum_trace.transport.batch_processor - INFO - 📥 ADDING TRACE TO QUEUE: auto_trace_generate (ID: 292828a6-88cb-4315-9cbf-a7c7cd0b81f6) - 1 spans\n",
            "2025-10-02 14:37:45 - noveum_trace.transport.batch_processor - INFO - ✅ Successfully queued trace 292828a6-88cb-4315-9cbf-a7c7cd0b81f6\n",
            "2025-10-02 14:37:45 - noveum_trace.transport.http_transport - INFO - ✅ Trace 292828a6-88cb-4315-9cbf-a7c7cd0b81f6 successfully queued for export\n"
          ]
        },
        {
          "name": "stdout",
          "output_type": "stream",
          "text": [
            "2025-10-02 14:37:45 - INFO - google_genai.models - AFC is enabled with max remote calls: 10.\n",
            "2025-10-02 14:37:47 - INFO - google_genai.models - AFC remote call 1 is done.\n"
          ]
        },
        {
          "name": "stderr",
          "output_type": "stream",
          "text": [
            "2025-10-02 14:37:47 - noveum_trace.transport.http_transport - INFO - 📤 EXPORTING TRACE: auto_trace_generate (ID: 6e908d48-c154-492a-bf41-f8493a827493) - 1 spans\n",
            "2025-10-02 14:37:47 - noveum_trace.transport.batch_processor - INFO - 📥 ADDING TRACE TO QUEUE: auto_trace_generate (ID: 6e908d48-c154-492a-bf41-f8493a827493) - 1 spans\n",
            "2025-10-02 14:37:47 - noveum_trace.transport.batch_processor - INFO - ✅ Successfully queued trace 6e908d48-c154-492a-bf41-f8493a827493\n",
            "2025-10-02 14:37:47 - noveum_trace.transport.http_transport - INFO - ✅ Trace 6e908d48-c154-492a-bf41-f8493a827493 successfully queued for export\n"
          ]
        },
        {
          "name": "stdout",
          "output_type": "stream",
          "text": [
            "2025-10-02 14:37:47 - INFO - novaeval.evaluators.agent_evaluator - Saving intermediate results after 8 samples\n",
            "2025-10-02 14:37:47 - INFO - novaeval.evaluators.agent_evaluator - Intermediate results saved to demo_results/agent_query_gen_dataset/agent_evaluation_results.csv\n"
          ]
        },
        {
          "name": "stderr",
          "output_type": "stream",
          "text": [
            "Evaluating samples: 8it [00:33,  4.13s/it]"
          ]
        },
        {
          "name": "stdout",
          "output_type": "stream",
          "text": [
            "2025-10-02 14:37:47 - INFO - google_genai.models - AFC is enabled with max remote calls: 10.\n",
            "2025-10-02 14:37:48 - INFO - google_genai.models - AFC remote call 1 is done.\n"
          ]
        },
        {
          "name": "stderr",
          "output_type": "stream",
          "text": [
            "2025-10-02 14:37:48 - noveum_trace.transport.http_transport - INFO - 📤 EXPORTING TRACE: auto_trace_generate (ID: 7fea32ee-72ba-4bed-a7a4-2f478a1ff39b) - 1 spans\n",
            "2025-10-02 14:37:48 - noveum_trace.transport.batch_processor - INFO - 📥 ADDING TRACE TO QUEUE: auto_trace_generate (ID: 7fea32ee-72ba-4bed-a7a4-2f478a1ff39b) - 1 spans\n",
            "2025-10-02 14:37:48 - noveum_trace.transport.batch_processor - INFO - ✅ Successfully queued trace 7fea32ee-72ba-4bed-a7a4-2f478a1ff39b\n",
            "2025-10-02 14:37:48 - noveum_trace.transport.http_transport - INFO - ✅ Trace 7fea32ee-72ba-4bed-a7a4-2f478a1ff39b successfully queued for export\n"
          ]
        },
        {
          "name": "stdout",
          "output_type": "stream",
          "text": [
            "2025-10-02 14:37:48 - INFO - google_genai.models - AFC is enabled with max remote calls: 10.\n",
            "2025-10-02 14:37:49 - INFO - google_genai.models - AFC remote call 1 is done.\n"
          ]
        },
        {
          "name": "stderr",
          "output_type": "stream",
          "text": [
            "2025-10-02 14:37:49 - noveum_trace.transport.http_transport - INFO - 📤 EXPORTING TRACE: auto_trace_generate (ID: 54734481-06da-431f-bed9-3531d29b14af) - 1 spans\n",
            "2025-10-02 14:37:49 - noveum_trace.transport.batch_processor - INFO - 📥 ADDING TRACE TO QUEUE: auto_trace_generate (ID: 54734481-06da-431f-bed9-3531d29b14af) - 1 spans\n",
            "2025-10-02 14:37:49 - noveum_trace.transport.batch_processor - INFO - ✅ Successfully queued trace 54734481-06da-431f-bed9-3531d29b14af\n",
            "2025-10-02 14:37:49 - noveum_trace.transport.http_transport - INFO - ✅ Trace 54734481-06da-431f-bed9-3531d29b14af successfully queued for export\n"
          ]
        },
        {
          "name": "stdout",
          "output_type": "stream",
          "text": [
            "2025-10-02 14:37:49 - INFO - google_genai.models - AFC is enabled with max remote calls: 10.\n",
            "2025-10-02 14:37:51 - INFO - google_genai.models - AFC remote call 1 is done.\n"
          ]
        },
        {
          "name": "stderr",
          "output_type": "stream",
          "text": [
            "2025-10-02 14:37:51 - noveum_trace.transport.http_transport - INFO - 📤 EXPORTING TRACE: auto_trace_generate (ID: de14fc02-40ef-40b7-a4c8-3a51fa1e32a3) - 1 spans\n",
            "2025-10-02 14:37:51 - noveum_trace.transport.batch_processor - INFO - 📥 ADDING TRACE TO QUEUE: auto_trace_generate (ID: de14fc02-40ef-40b7-a4c8-3a51fa1e32a3) - 1 spans\n",
            "2025-10-02 14:37:51 - noveum_trace.transport.batch_processor - INFO - ✅ Successfully queued trace de14fc02-40ef-40b7-a4c8-3a51fa1e32a3\n",
            "2025-10-02 14:37:51 - noveum_trace.transport.http_transport - INFO - ✅ Trace de14fc02-40ef-40b7-a4c8-3a51fa1e32a3 successfully queued for export\n"
          ]
        },
        {
          "name": "stdout",
          "output_type": "stream",
          "text": [
            "2025-10-02 14:37:51 - INFO - novaeval.evaluators.agent_evaluator - Saving intermediate results after 9 samples\n",
            "2025-10-02 14:37:51 - INFO - novaeval.evaluators.agent_evaluator - Intermediate results saved to demo_results/agent_query_gen_dataset/agent_evaluation_results.csv\n"
          ]
        },
        {
          "name": "stderr",
          "output_type": "stream",
          "text": [
            "Evaluating samples: 9it [00:38,  4.25s/it]"
          ]
        },
        {
          "name": "stdout",
          "output_type": "stream",
          "text": [
            "2025-10-02 14:37:51 - INFO - google_genai.models - AFC is enabled with max remote calls: 10.\n",
            "2025-10-02 14:37:53 - INFO - google_genai.models - AFC remote call 1 is done.\n"
          ]
        },
        {
          "name": "stderr",
          "output_type": "stream",
          "text": [
            "2025-10-02 14:37:53 - noveum_trace.transport.http_transport - INFO - 📤 EXPORTING TRACE: auto_trace_generate (ID: 1d9ca6ef-fd57-4a02-8863-5c9392f49251) - 1 spans\n",
            "2025-10-02 14:37:53 - noveum_trace.transport.batch_processor - INFO - 📥 ADDING TRACE TO QUEUE: auto_trace_generate (ID: 1d9ca6ef-fd57-4a02-8863-5c9392f49251) - 1 spans\n",
            "2025-10-02 14:37:53 - noveum_trace.transport.batch_processor - INFO - ✅ Successfully queued trace 1d9ca6ef-fd57-4a02-8863-5c9392f49251\n",
            "2025-10-02 14:37:53 - noveum_trace.transport.http_transport - INFO - ✅ Trace 1d9ca6ef-fd57-4a02-8863-5c9392f49251 successfully queued for export\n"
          ]
        },
        {
          "name": "stdout",
          "output_type": "stream",
          "text": [
            "2025-10-02 14:37:53 - INFO - google_genai.models - AFC is enabled with max remote calls: 10.\n",
            "2025-10-02 14:37:54 - INFO - google_genai.models - AFC remote call 1 is done.\n"
          ]
        },
        {
          "name": "stderr",
          "output_type": "stream",
          "text": [
            "2025-10-02 14:37:54 - noveum_trace.transport.http_transport - INFO - 📤 EXPORTING TRACE: auto_trace_generate (ID: e27a0c68-7e43-43d3-b3f5-f38c459827a5) - 1 spans\n",
            "2025-10-02 14:37:54 - noveum_trace.transport.batch_processor - INFO - 📥 ADDING TRACE TO QUEUE: auto_trace_generate (ID: e27a0c68-7e43-43d3-b3f5-f38c459827a5) - 1 spans\n",
            "2025-10-02 14:37:54 - noveum_trace.transport.batch_processor - INFO - ✅ Successfully queued trace e27a0c68-7e43-43d3-b3f5-f38c459827a5\n",
            "2025-10-02 14:37:54 - noveum_trace.transport.http_transport - INFO - ✅ Trace e27a0c68-7e43-43d3-b3f5-f38c459827a5 successfully queued for export\n"
          ]
        },
        {
          "name": "stdout",
          "output_type": "stream",
          "text": [
            "2025-10-02 14:37:54 - INFO - google_genai.models - AFC is enabled with max remote calls: 10.\n",
            "2025-10-02 14:37:56 - INFO - google_genai.models - AFC remote call 1 is done.\n"
          ]
        },
        {
          "name": "stderr",
          "output_type": "stream",
          "text": [
            "2025-10-02 14:37:56 - noveum_trace.transport.http_transport - INFO - 📤 EXPORTING TRACE: auto_trace_generate (ID: b27b2e79-2d12-4bf1-afeb-16eee0fcb614) - 1 spans\n",
            "2025-10-02 14:37:56 - noveum_trace.transport.batch_processor - INFO - 📥 ADDING TRACE TO QUEUE: auto_trace_generate (ID: b27b2e79-2d12-4bf1-afeb-16eee0fcb614) - 1 spans\n",
            "2025-10-02 14:37:56 - noveum_trace.transport.batch_processor - INFO - ✅ Successfully queued trace b27b2e79-2d12-4bf1-afeb-16eee0fcb614\n",
            "2025-10-02 14:37:56 - noveum_trace.transport.http_transport - INFO - ✅ Trace b27b2e79-2d12-4bf1-afeb-16eee0fcb614 successfully queued for export\n"
          ]
        },
        {
          "name": "stdout",
          "output_type": "stream",
          "text": [
            "2025-10-02 14:37:56 - INFO - novaeval.evaluators.agent_evaluator - Saving intermediate results after 10 samples\n",
            "2025-10-02 14:37:56 - INFO - novaeval.evaluators.agent_evaluator - Intermediate results saved to demo_results/agent_query_gen_dataset/agent_evaluation_results.csv\n"
          ]
        },
        {
          "name": "stderr",
          "output_type": "stream",
          "text": [
            "Evaluating samples: 10it [00:42,  4.29s/it]"
          ]
        },
        {
          "name": "stdout",
          "output_type": "stream",
          "text": [
            "2025-10-02 14:37:56 - INFO - google_genai.models - AFC is enabled with max remote calls: 10.\n",
            "2025-10-02 14:37:57 - INFO - google_genai.models - AFC remote call 1 is done.\n"
          ]
        },
        {
          "name": "stderr",
          "output_type": "stream",
          "text": [
            "2025-10-02 14:37:57 - noveum_trace.transport.http_transport - INFO - 📤 EXPORTING TRACE: auto_trace_generate (ID: 17ed54ad-6b7b-44fd-a660-0e1e3ff742b4) - 1 spans\n",
            "2025-10-02 14:37:57 - noveum_trace.transport.batch_processor - INFO - 📥 ADDING TRACE TO QUEUE: auto_trace_generate (ID: 17ed54ad-6b7b-44fd-a660-0e1e3ff742b4) - 1 spans\n",
            "2025-10-02 14:37:57 - noveum_trace.transport.batch_processor - INFO - ✅ Successfully queued trace 17ed54ad-6b7b-44fd-a660-0e1e3ff742b4\n",
            "2025-10-02 14:37:57 - noveum_trace.transport.http_transport - INFO - ✅ Trace 17ed54ad-6b7b-44fd-a660-0e1e3ff742b4 successfully queued for export\n"
          ]
        },
        {
          "name": "stdout",
          "output_type": "stream",
          "text": [
            "2025-10-02 14:37:57 - INFO - google_genai.models - AFC is enabled with max remote calls: 10.\n",
            "2025-10-02 14:37:58 - INFO - google_genai.models - AFC remote call 1 is done.\n"
          ]
        },
        {
          "name": "stderr",
          "output_type": "stream",
          "text": [
            "2025-10-02 14:37:58 - noveum_trace.transport.http_transport - INFO - 📤 EXPORTING TRACE: auto_trace_generate (ID: c17bc801-25e0-46d5-b48a-4b588d11aa45) - 1 spans\n",
            "2025-10-02 14:37:58 - noveum_trace.transport.batch_processor - INFO - 📥 ADDING TRACE TO QUEUE: auto_trace_generate (ID: c17bc801-25e0-46d5-b48a-4b588d11aa45) - 1 spans\n",
            "2025-10-02 14:37:58 - noveum_trace.transport.batch_processor - INFO - ✅ Successfully queued trace c17bc801-25e0-46d5-b48a-4b588d11aa45\n",
            "2025-10-02 14:37:58 - noveum_trace.transport.http_transport - INFO - ✅ Trace c17bc801-25e0-46d5-b48a-4b588d11aa45 successfully queued for export\n"
          ]
        },
        {
          "name": "stdout",
          "output_type": "stream",
          "text": [
            "2025-10-02 14:37:58 - INFO - google_genai.models - AFC is enabled with max remote calls: 10.\n",
            "2025-10-02 14:38:00 - INFO - google_genai.models - AFC remote call 1 is done.\n"
          ]
        },
        {
          "name": "stderr",
          "output_type": "stream",
          "text": [
            "2025-10-02 14:38:00 - noveum_trace.transport.http_transport - INFO - 📤 EXPORTING TRACE: auto_trace_generate (ID: dba8dede-5a92-4270-b229-009b4d19ed4c) - 1 spans\n",
            "2025-10-02 14:38:00 - noveum_trace.transport.batch_processor - INFO - 📥 ADDING TRACE TO QUEUE: auto_trace_generate (ID: dba8dede-5a92-4270-b229-009b4d19ed4c) - 1 spans\n",
            "2025-10-02 14:38:00 - noveum_trace.transport.batch_processor - INFO - ✅ Successfully queued trace dba8dede-5a92-4270-b229-009b4d19ed4c\n",
            "2025-10-02 14:38:00 - noveum_trace.transport.http_transport - INFO - ✅ Trace dba8dede-5a92-4270-b229-009b4d19ed4c successfully queued for export\n"
          ]
        },
        {
          "name": "stdout",
          "output_type": "stream",
          "text": [
            "2025-10-02 14:38:00 - INFO - novaeval.evaluators.agent_evaluator - Saving intermediate results after 11 samples\n",
            "2025-10-02 14:38:00 - INFO - novaeval.evaluators.agent_evaluator - Intermediate results saved to demo_results/agent_query_gen_dataset/agent_evaluation_results.csv\n"
          ]
        },
        {
          "name": "stderr",
          "output_type": "stream",
          "text": [
            "Evaluating samples: 11it [00:47,  4.27s/it]"
          ]
        },
        {
          "name": "stdout",
          "output_type": "stream",
          "text": [
            "2025-10-02 14:38:00 - INFO - google_genai.models - AFC is enabled with max remote calls: 10.\n",
            "2025-10-02 14:38:01 - INFO - google_genai.models - AFC remote call 1 is done.\n"
          ]
        },
        {
          "name": "stderr",
          "output_type": "stream",
          "text": [
            "2025-10-02 14:38:01 - noveum_trace.transport.http_transport - INFO - 📤 EXPORTING TRACE: auto_trace_generate (ID: 80bae929-deb9-4201-b171-82c064ae0847) - 1 spans\n",
            "2025-10-02 14:38:01 - noveum_trace.transport.batch_processor - INFO - 📥 ADDING TRACE TO QUEUE: auto_trace_generate (ID: 80bae929-deb9-4201-b171-82c064ae0847) - 1 spans\n",
            "2025-10-02 14:38:01 - noveum_trace.transport.batch_processor - INFO - ✅ Successfully queued trace 80bae929-deb9-4201-b171-82c064ae0847\n",
            "2025-10-02 14:38:01 - noveum_trace.transport.http_transport - INFO - ✅ Trace 80bae929-deb9-4201-b171-82c064ae0847 successfully queued for export\n"
          ]
        },
        {
          "name": "stdout",
          "output_type": "stream",
          "text": [
            "2025-10-02 14:38:01 - INFO - google_genai.models - AFC is enabled with max remote calls: 10.\n",
            "2025-10-02 14:38:03 - INFO - google_genai.models - AFC remote call 1 is done.\n"
          ]
        },
        {
          "name": "stderr",
          "output_type": "stream",
          "text": [
            "2025-10-02 14:38:03 - noveum_trace.transport.http_transport - INFO - 📤 EXPORTING TRACE: auto_trace_generate (ID: a23f90f6-83ea-498b-9b15-b856de743cad) - 1 spans\n",
            "2025-10-02 14:38:03 - noveum_trace.transport.batch_processor - INFO - 📥 ADDING TRACE TO QUEUE: auto_trace_generate (ID: a23f90f6-83ea-498b-9b15-b856de743cad) - 1 spans\n",
            "2025-10-02 14:38:03 - noveum_trace.transport.batch_processor - INFO - ✅ Successfully queued trace a23f90f6-83ea-498b-9b15-b856de743cad\n",
            "2025-10-02 14:38:03 - noveum_trace.transport.http_transport - INFO - ✅ Trace a23f90f6-83ea-498b-9b15-b856de743cad successfully queued for export\n"
          ]
        },
        {
          "name": "stdout",
          "output_type": "stream",
          "text": [
            "2025-10-02 14:38:03 - INFO - google_genai.models - AFC is enabled with max remote calls: 10.\n",
            "2025-10-02 14:38:04 - INFO - google_genai.models - AFC remote call 1 is done.\n"
          ]
        },
        {
          "name": "stderr",
          "output_type": "stream",
          "text": [
            "2025-10-02 14:38:04 - noveum_trace.transport.http_transport - INFO - 📤 EXPORTING TRACE: auto_trace_generate (ID: 535bcd57-1f8a-4486-87bf-a2a03fb23905) - 1 spans\n",
            "2025-10-02 14:38:04 - noveum_trace.transport.batch_processor - INFO - 📥 ADDING TRACE TO QUEUE: auto_trace_generate (ID: 535bcd57-1f8a-4486-87bf-a2a03fb23905) - 1 spans\n",
            "2025-10-02 14:38:04 - noveum_trace.transport.batch_processor - INFO - ✅ Successfully queued trace 535bcd57-1f8a-4486-87bf-a2a03fb23905\n",
            "2025-10-02 14:38:04 - noveum_trace.transport.http_transport - INFO - ✅ Trace 535bcd57-1f8a-4486-87bf-a2a03fb23905 successfully queued for export\n"
          ]
        },
        {
          "name": "stdout",
          "output_type": "stream",
          "text": [
            "2025-10-02 14:38:04 - INFO - novaeval.evaluators.agent_evaluator - Saving intermediate results after 12 samples\n",
            "2025-10-02 14:38:04 - INFO - novaeval.evaluators.agent_evaluator - Intermediate results saved to demo_results/agent_query_gen_dataset/agent_evaluation_results.csv\n"
          ]
        },
        {
          "name": "stderr",
          "output_type": "stream",
          "text": [
            "Evaluating samples: 12it [00:51,  4.30s/it]"
          ]
        },
        {
          "name": "stdout",
          "output_type": "stream",
          "text": [
            "2025-10-02 14:38:04 - INFO - google_genai.models - AFC is enabled with max remote calls: 10.\n",
            "2025-10-02 14:38:06 - INFO - google_genai.models - AFC remote call 1 is done.\n"
          ]
        },
        {
          "name": "stderr",
          "output_type": "stream",
          "text": [
            "2025-10-02 14:38:06 - noveum_trace.transport.http_transport - INFO - 📤 EXPORTING TRACE: auto_trace_generate (ID: 4b0e7892-0280-454b-808b-9aaab783620a) - 1 spans\n",
            "2025-10-02 14:38:06 - noveum_trace.transport.batch_processor - INFO - 📥 ADDING TRACE TO QUEUE: auto_trace_generate (ID: 4b0e7892-0280-454b-808b-9aaab783620a) - 1 spans\n",
            "2025-10-02 14:38:06 - noveum_trace.transport.batch_processor - INFO - ✅ Successfully queued trace 4b0e7892-0280-454b-808b-9aaab783620a\n",
            "2025-10-02 14:38:06 - noveum_trace.transport.http_transport - INFO - ✅ Trace 4b0e7892-0280-454b-808b-9aaab783620a successfully queued for export\n"
          ]
        },
        {
          "name": "stdout",
          "output_type": "stream",
          "text": [
            "2025-10-02 14:38:06 - INFO - google_genai.models - AFC is enabled with max remote calls: 10.\n",
            "2025-10-02 14:38:07 - INFO - google_genai.models - AFC remote call 1 is done.\n"
          ]
        },
        {
          "name": "stderr",
          "output_type": "stream",
          "text": [
            "2025-10-02 14:38:07 - noveum_trace.transport.http_transport - INFO - 📤 EXPORTING TRACE: auto_trace_generate (ID: 309fabf6-274f-45b2-83c5-a462dadf66b1) - 1 spans\n",
            "2025-10-02 14:38:07 - noveum_trace.transport.batch_processor - INFO - 📥 ADDING TRACE TO QUEUE: auto_trace_generate (ID: 309fabf6-274f-45b2-83c5-a462dadf66b1) - 1 spans\n",
            "2025-10-02 14:38:07 - noveum_trace.transport.batch_processor - INFO - ✅ Successfully queued trace 309fabf6-274f-45b2-83c5-a462dadf66b1\n",
            "2025-10-02 14:38:07 - noveum_trace.transport.http_transport - INFO - ✅ Trace 309fabf6-274f-45b2-83c5-a462dadf66b1 successfully queued for export\n"
          ]
        },
        {
          "name": "stdout",
          "output_type": "stream",
          "text": [
            "2025-10-02 14:38:07 - INFO - google_genai.models - AFC is enabled with max remote calls: 10.\n",
            "2025-10-02 14:38:08 - INFO - google_genai.models - AFC remote call 1 is done.\n"
          ]
        },
        {
          "name": "stderr",
          "output_type": "stream",
          "text": [
            "2025-10-02 14:38:08 - noveum_trace.transport.http_transport - INFO - 📤 EXPORTING TRACE: auto_trace_generate (ID: 140b746f-2939-4880-8177-080871ee9914) - 1 spans\n",
            "2025-10-02 14:38:08 - noveum_trace.transport.batch_processor - INFO - 📥 ADDING TRACE TO QUEUE: auto_trace_generate (ID: 140b746f-2939-4880-8177-080871ee9914) - 1 spans\n",
            "2025-10-02 14:38:08 - noveum_trace.transport.batch_processor - INFO - ✅ Successfully queued trace 140b746f-2939-4880-8177-080871ee9914\n",
            "2025-10-02 14:38:08 - noveum_trace.transport.http_transport - INFO - ✅ Trace 140b746f-2939-4880-8177-080871ee9914 successfully queued for export\n"
          ]
        },
        {
          "name": "stdout",
          "output_type": "stream",
          "text": [
            "2025-10-02 14:38:08 - INFO - novaeval.evaluators.agent_evaluator - Saving intermediate results after 13 samples\n",
            "2025-10-02 14:38:08 - INFO - novaeval.evaluators.agent_evaluator - Intermediate results saved to demo_results/agent_query_gen_dataset/agent_evaluation_results.csv\n"
          ]
        },
        {
          "name": "stderr",
          "output_type": "stream",
          "text": [
            "Evaluating samples: 13it [00:55,  4.24s/it]"
          ]
        },
        {
          "name": "stdout",
          "output_type": "stream",
          "text": [
            "2025-10-02 14:38:08 - INFO - google_genai.models - AFC is enabled with max remote calls: 10.\n",
            "2025-10-02 14:38:09 - INFO - google_genai.models - AFC remote call 1 is done.\n"
          ]
        },
        {
          "name": "stderr",
          "output_type": "stream",
          "text": [
            "2025-10-02 14:38:09 - noveum_trace.transport.http_transport - INFO - 📤 EXPORTING TRACE: auto_trace_generate (ID: 78c2ab47-c5c7-42b8-96f6-80a42101349b) - 1 spans\n",
            "2025-10-02 14:38:09 - noveum_trace.transport.batch_processor - INFO - 📥 ADDING TRACE TO QUEUE: auto_trace_generate (ID: 78c2ab47-c5c7-42b8-96f6-80a42101349b) - 1 spans\n",
            "2025-10-02 14:38:09 - noveum_trace.transport.batch_processor - INFO - ✅ Successfully queued trace 78c2ab47-c5c7-42b8-96f6-80a42101349b\n",
            "2025-10-02 14:38:09 - noveum_trace.transport.http_transport - INFO - ✅ Trace 78c2ab47-c5c7-42b8-96f6-80a42101349b successfully queued for export\n"
          ]
        },
        {
          "name": "stdout",
          "output_type": "stream",
          "text": [
            "2025-10-02 14:38:09 - INFO - google_genai.models - AFC is enabled with max remote calls: 10.\n",
            "2025-10-02 14:38:11 - INFO - google_genai.models - AFC remote call 1 is done.\n"
          ]
        },
        {
          "name": "stderr",
          "output_type": "stream",
          "text": [
            "2025-10-02 14:38:11 - noveum_trace.transport.http_transport - INFO - 📤 EXPORTING TRACE: auto_trace_generate (ID: 39ac0094-19be-45e8-a465-993556abe678) - 1 spans\n",
            "2025-10-02 14:38:11 - noveum_trace.transport.batch_processor - INFO - 📥 ADDING TRACE TO QUEUE: auto_trace_generate (ID: 39ac0094-19be-45e8-a465-993556abe678) - 1 spans\n",
            "2025-10-02 14:38:11 - noveum_trace.transport.batch_processor - INFO - ✅ Successfully queued trace 39ac0094-19be-45e8-a465-993556abe678\n",
            "2025-10-02 14:38:11 - noveum_trace.transport.http_transport - INFO - ✅ Trace 39ac0094-19be-45e8-a465-993556abe678 successfully queued for export\n"
          ]
        },
        {
          "name": "stdout",
          "output_type": "stream",
          "text": [
            "2025-10-02 14:38:11 - INFO - google_genai.models - AFC is enabled with max remote calls: 10.\n",
            "2025-10-02 14:38:13 - INFO - google_genai.models - AFC remote call 1 is done.\n"
          ]
        },
        {
          "name": "stderr",
          "output_type": "stream",
          "text": [
            "2025-10-02 14:38:13 - noveum_trace.transport.http_transport - INFO - 📤 EXPORTING TRACE: auto_trace_generate (ID: 2b5a5904-089b-4d9b-8609-f56fe5b8687f) - 1 spans\n",
            "2025-10-02 14:38:13 - noveum_trace.transport.batch_processor - INFO - 📥 ADDING TRACE TO QUEUE: auto_trace_generate (ID: 2b5a5904-089b-4d9b-8609-f56fe5b8687f) - 1 spans\n",
            "2025-10-02 14:38:13 - noveum_trace.transport.batch_processor - INFO - ✅ Successfully queued trace 2b5a5904-089b-4d9b-8609-f56fe5b8687f\n",
            "2025-10-02 14:38:13 - noveum_trace.transport.http_transport - INFO - ✅ Trace 2b5a5904-089b-4d9b-8609-f56fe5b8687f successfully queued for export\n"
          ]
        },
        {
          "name": "stdout",
          "output_type": "stream",
          "text": [
            "2025-10-02 14:38:13 - INFO - novaeval.evaluators.agent_evaluator - Saving intermediate results after 14 samples\n",
            "2025-10-02 14:38:13 - INFO - novaeval.evaluators.agent_evaluator - Intermediate results saved to demo_results/agent_query_gen_dataset/agent_evaluation_results.csv\n"
          ]
        },
        {
          "name": "stderr",
          "output_type": "stream",
          "text": [
            "Evaluating samples: 14it [00:59,  4.26s/it]"
          ]
        },
        {
          "name": "stdout",
          "output_type": "stream",
          "text": [
            "2025-10-02 14:38:13 - INFO - google_genai.models - AFC is enabled with max remote calls: 10.\n",
            "2025-10-02 14:38:14 - INFO - google_genai.models - AFC remote call 1 is done.\n"
          ]
        },
        {
          "name": "stderr",
          "output_type": "stream",
          "text": [
            "2025-10-02 14:38:14 - noveum_trace.transport.http_transport - INFO - 📤 EXPORTING TRACE: auto_trace_generate (ID: 2f14e675-98f4-4390-8422-e8d76b4c2deb) - 1 spans\n",
            "2025-10-02 14:38:14 - noveum_trace.transport.batch_processor - INFO - 📥 ADDING TRACE TO QUEUE: auto_trace_generate (ID: 2f14e675-98f4-4390-8422-e8d76b4c2deb) - 1 spans\n",
            "2025-10-02 14:38:14 - noveum_trace.transport.batch_processor - INFO - ✅ Successfully queued trace 2f14e675-98f4-4390-8422-e8d76b4c2deb\n",
            "2025-10-02 14:38:14 - noveum_trace.transport.http_transport - INFO - ✅ Trace 2f14e675-98f4-4390-8422-e8d76b4c2deb successfully queued for export\n"
          ]
        },
        {
          "name": "stdout",
          "output_type": "stream",
          "text": [
            "2025-10-02 14:38:14 - INFO - google_genai.models - AFC is enabled with max remote calls: 10.\n",
            "2025-10-02 14:38:15 - INFO - google_genai.models - AFC remote call 1 is done.\n"
          ]
        },
        {
          "name": "stderr",
          "output_type": "stream",
          "text": [
            "2025-10-02 14:38:15 - noveum_trace.transport.http_transport - INFO - 📤 EXPORTING TRACE: auto_trace_generate (ID: 099d5f09-b739-4eba-94ea-436443789a09) - 1 spans\n",
            "2025-10-02 14:38:15 - noveum_trace.transport.batch_processor - INFO - 📥 ADDING TRACE TO QUEUE: auto_trace_generate (ID: 099d5f09-b739-4eba-94ea-436443789a09) - 1 spans\n",
            "2025-10-02 14:38:15 - noveum_trace.transport.batch_processor - INFO - ✅ Successfully queued trace 099d5f09-b739-4eba-94ea-436443789a09\n",
            "2025-10-02 14:38:15 - noveum_trace.transport.http_transport - INFO - ✅ Trace 099d5f09-b739-4eba-94ea-436443789a09 successfully queued for export\n"
          ]
        },
        {
          "name": "stdout",
          "output_type": "stream",
          "text": [
            "2025-10-02 14:38:15 - INFO - google_genai.models - AFC is enabled with max remote calls: 10.\n",
            "2025-10-02 14:38:17 - INFO - google_genai.models - AFC remote call 1 is done.\n"
          ]
        },
        {
          "name": "stderr",
          "output_type": "stream",
          "text": [
            "2025-10-02 14:38:17 - noveum_trace.transport.http_transport - INFO - 📤 EXPORTING TRACE: auto_trace_generate (ID: c7a5754b-52cd-4e80-86ef-dcbfd7a5fe91) - 1 spans\n",
            "2025-10-02 14:38:17 - noveum_trace.transport.batch_processor - INFO - 📥 ADDING TRACE TO QUEUE: auto_trace_generate (ID: c7a5754b-52cd-4e80-86ef-dcbfd7a5fe91) - 1 spans\n",
            "2025-10-02 14:38:17 - noveum_trace.transport.batch_processor - INFO - ✅ Successfully queued trace c7a5754b-52cd-4e80-86ef-dcbfd7a5fe91\n",
            "2025-10-02 14:38:17 - noveum_trace.transport.http_transport - INFO - ✅ Trace c7a5754b-52cd-4e80-86ef-dcbfd7a5fe91 successfully queued for export\n"
          ]
        },
        {
          "name": "stdout",
          "output_type": "stream",
          "text": [
            "2025-10-02 14:38:17 - INFO - novaeval.evaluators.agent_evaluator - Saving intermediate results after 15 samples\n",
            "2025-10-02 14:38:17 - INFO - novaeval.evaluators.agent_evaluator - Intermediate results saved to demo_results/agent_query_gen_dataset/agent_evaluation_results.csv\n"
          ]
        },
        {
          "name": "stderr",
          "output_type": "stream",
          "text": [
            "Evaluating samples: 15it [01:04,  4.27s/it]"
          ]
        },
        {
          "name": "stdout",
          "output_type": "stream",
          "text": [
            "2025-10-02 14:38:17 - INFO - google_genai.models - AFC is enabled with max remote calls: 10.\n",
            "2025-10-02 14:38:18 - INFO - google_genai.models - AFC remote call 1 is done.\n"
          ]
        },
        {
          "name": "stderr",
          "output_type": "stream",
          "text": [
            "2025-10-02 14:38:18 - noveum_trace.transport.http_transport - INFO - 📤 EXPORTING TRACE: auto_trace_generate (ID: 9585bc26-f4f9-4229-b007-839b4a034995) - 1 spans\n",
            "2025-10-02 14:38:18 - noveum_trace.transport.batch_processor - INFO - 📥 ADDING TRACE TO QUEUE: auto_trace_generate (ID: 9585bc26-f4f9-4229-b007-839b4a034995) - 1 spans\n",
            "2025-10-02 14:38:18 - noveum_trace.transport.batch_processor - INFO - ✅ Successfully queued trace 9585bc26-f4f9-4229-b007-839b4a034995\n",
            "2025-10-02 14:38:18 - noveum_trace.transport.http_transport - INFO - ✅ Trace 9585bc26-f4f9-4229-b007-839b4a034995 successfully queued for export\n"
          ]
        },
        {
          "name": "stdout",
          "output_type": "stream",
          "text": [
            "2025-10-02 14:38:18 - INFO - google_genai.models - AFC is enabled with max remote calls: 10.\n",
            "2025-10-02 14:38:20 - INFO - google_genai.models - AFC remote call 1 is done.\n"
          ]
        },
        {
          "name": "stderr",
          "output_type": "stream",
          "text": [
            "2025-10-02 14:38:20 - noveum_trace.transport.http_transport - INFO - 📤 EXPORTING TRACE: auto_trace_generate (ID: f582ac77-d23c-424c-a97f-ca8ec0e89181) - 1 spans\n",
            "2025-10-02 14:38:20 - noveum_trace.transport.batch_processor - INFO - 📥 ADDING TRACE TO QUEUE: auto_trace_generate (ID: f582ac77-d23c-424c-a97f-ca8ec0e89181) - 1 spans\n",
            "2025-10-02 14:38:20 - noveum_trace.transport.batch_processor - INFO - ✅ Successfully queued trace f582ac77-d23c-424c-a97f-ca8ec0e89181\n",
            "2025-10-02 14:38:20 - noveum_trace.transport.http_transport - INFO - ✅ Trace f582ac77-d23c-424c-a97f-ca8ec0e89181 successfully queued for export\n"
          ]
        },
        {
          "name": "stdout",
          "output_type": "stream",
          "text": [
            "2025-10-02 14:38:20 - INFO - google_genai.models - AFC is enabled with max remote calls: 10.\n",
            "2025-10-02 14:38:21 - INFO - google_genai.models - AFC remote call 1 is done.\n"
          ]
        },
        {
          "name": "stderr",
          "output_type": "stream",
          "text": [
            "2025-10-02 14:38:21 - noveum_trace.transport.http_transport - INFO - 📤 EXPORTING TRACE: auto_trace_generate (ID: feaebe56-bd41-4d1f-9ae5-cd6c53bd2f9d) - 1 spans\n",
            "2025-10-02 14:38:21 - noveum_trace.transport.batch_processor - INFO - 📥 ADDING TRACE TO QUEUE: auto_trace_generate (ID: feaebe56-bd41-4d1f-9ae5-cd6c53bd2f9d) - 1 spans\n",
            "2025-10-02 14:38:21 - noveum_trace.transport.batch_processor - INFO - ✅ Successfully queued trace feaebe56-bd41-4d1f-9ae5-cd6c53bd2f9d\n",
            "2025-10-02 14:38:21 - noveum_trace.transport.http_transport - INFO - ✅ Trace feaebe56-bd41-4d1f-9ae5-cd6c53bd2f9d successfully queued for export\n"
          ]
        },
        {
          "name": "stdout",
          "output_type": "stream",
          "text": [
            "2025-10-02 14:38:21 - INFO - novaeval.evaluators.agent_evaluator - Saving intermediate results after 16 samples\n",
            "2025-10-02 14:38:21 - INFO - novaeval.evaluators.agent_evaluator - Intermediate results saved to demo_results/agent_query_gen_dataset/agent_evaluation_results.csv\n"
          ]
        },
        {
          "name": "stderr",
          "output_type": "stream",
          "text": [
            "Evaluating samples: 16it [01:08,  4.34s/it]"
          ]
        },
        {
          "name": "stdout",
          "output_type": "stream",
          "text": [
            "2025-10-02 14:38:21 - INFO - google_genai.models - AFC is enabled with max remote calls: 10.\n",
            "2025-10-02 14:38:23 - INFO - google_genai.models - AFC remote call 1 is done.\n"
          ]
        },
        {
          "name": "stderr",
          "output_type": "stream",
          "text": [
            "2025-10-02 14:38:23 - noveum_trace.transport.http_transport - INFO - 📤 EXPORTING TRACE: auto_trace_generate (ID: 46ed366e-35cb-44fd-b2a3-662946fbbeeb) - 1 spans\n",
            "2025-10-02 14:38:23 - noveum_trace.transport.batch_processor - INFO - 📥 ADDING TRACE TO QUEUE: auto_trace_generate (ID: 46ed366e-35cb-44fd-b2a3-662946fbbeeb) - 1 spans\n",
            "2025-10-02 14:38:23 - noveum_trace.transport.batch_processor - INFO - ✅ Successfully queued trace 46ed366e-35cb-44fd-b2a3-662946fbbeeb\n",
            "2025-10-02 14:38:23 - noveum_trace.transport.http_transport - INFO - ✅ Trace 46ed366e-35cb-44fd-b2a3-662946fbbeeb successfully queued for export\n"
          ]
        },
        {
          "name": "stdout",
          "output_type": "stream",
          "text": [
            "2025-10-02 14:38:23 - INFO - google_genai.models - AFC is enabled with max remote calls: 10.\n",
            "2025-10-02 14:38:24 - INFO - google_genai.models - AFC remote call 1 is done.\n"
          ]
        },
        {
          "name": "stderr",
          "output_type": "stream",
          "text": [
            "2025-10-02 14:38:24 - noveum_trace.transport.http_transport - INFO - 📤 EXPORTING TRACE: auto_trace_generate (ID: 475d8fb5-c7c4-4a78-b36b-6c9e9f5fc4a4) - 1 spans\n",
            "2025-10-02 14:38:24 - noveum_trace.transport.batch_processor - INFO - 📥 ADDING TRACE TO QUEUE: auto_trace_generate (ID: 475d8fb5-c7c4-4a78-b36b-6c9e9f5fc4a4) - 1 spans\n",
            "2025-10-02 14:38:24 - noveum_trace.transport.batch_processor - INFO - ✅ Successfully queued trace 475d8fb5-c7c4-4a78-b36b-6c9e9f5fc4a4\n",
            "2025-10-02 14:38:24 - noveum_trace.transport.http_transport - INFO - ✅ Trace 475d8fb5-c7c4-4a78-b36b-6c9e9f5fc4a4 successfully queued for export\n"
          ]
        },
        {
          "name": "stdout",
          "output_type": "stream",
          "text": [
            "2025-10-02 14:38:24 - INFO - google_genai.models - AFC is enabled with max remote calls: 10.\n",
            "2025-10-02 14:38:26 - INFO - google_genai.models - AFC remote call 1 is done.\n"
          ]
        },
        {
          "name": "stderr",
          "output_type": "stream",
          "text": [
            "2025-10-02 14:38:26 - noveum_trace.transport.http_transport - INFO - 📤 EXPORTING TRACE: auto_trace_generate (ID: 5bde38e3-5dc8-4203-9fd3-0f3b2e600f48) - 1 spans\n",
            "2025-10-02 14:38:26 - noveum_trace.transport.batch_processor - INFO - 📥 ADDING TRACE TO QUEUE: auto_trace_generate (ID: 5bde38e3-5dc8-4203-9fd3-0f3b2e600f48) - 1 spans\n",
            "2025-10-02 14:38:26 - noveum_trace.transport.batch_processor - INFO - ✅ Successfully queued trace 5bde38e3-5dc8-4203-9fd3-0f3b2e600f48\n",
            "2025-10-02 14:38:26 - noveum_trace.transport.http_transport - INFO - ✅ Trace 5bde38e3-5dc8-4203-9fd3-0f3b2e600f48 successfully queued for export\n"
          ]
        },
        {
          "name": "stdout",
          "output_type": "stream",
          "text": [
            "2025-10-02 14:38:26 - INFO - novaeval.evaluators.agent_evaluator - Saving intermediate results after 17 samples\n",
            "2025-10-02 14:38:26 - INFO - novaeval.evaluators.agent_evaluator - Intermediate results saved to demo_results/agent_query_gen_dataset/agent_evaluation_results.csv\n"
          ]
        },
        {
          "name": "stderr",
          "output_type": "stream",
          "text": [
            "Evaluating samples: 17it [01:13,  4.36s/it]"
          ]
        },
        {
          "name": "stdout",
          "output_type": "stream",
          "text": [
            "2025-10-02 14:38:26 - INFO - google_genai.models - AFC is enabled with max remote calls: 10.\n",
            "2025-10-02 14:38:27 - INFO - google_genai.models - AFC remote call 1 is done.\n"
          ]
        },
        {
          "name": "stderr",
          "output_type": "stream",
          "text": [
            "2025-10-02 14:38:27 - noveum_trace.transport.http_transport - INFO - 📤 EXPORTING TRACE: auto_trace_generate (ID: dac5282e-2b44-401f-9fbf-3c36cc7dcfe4) - 1 spans\n",
            "2025-10-02 14:38:27 - noveum_trace.transport.batch_processor - INFO - 📥 ADDING TRACE TO QUEUE: auto_trace_generate (ID: dac5282e-2b44-401f-9fbf-3c36cc7dcfe4) - 1 spans\n",
            "2025-10-02 14:38:27 - noveum_trace.transport.batch_processor - INFO - ✅ Successfully queued trace dac5282e-2b44-401f-9fbf-3c36cc7dcfe4\n",
            "2025-10-02 14:38:27 - noveum_trace.transport.http_transport - INFO - ✅ Trace dac5282e-2b44-401f-9fbf-3c36cc7dcfe4 successfully queued for export\n"
          ]
        },
        {
          "name": "stdout",
          "output_type": "stream",
          "text": [
            "2025-10-02 14:38:27 - INFO - google_genai.models - AFC is enabled with max remote calls: 10.\n",
            "2025-10-02 14:38:28 - INFO - google_genai.models - AFC remote call 1 is done.\n"
          ]
        },
        {
          "name": "stderr",
          "output_type": "stream",
          "text": [
            "2025-10-02 14:38:28 - noveum_trace.transport.http_transport - INFO - 📤 EXPORTING TRACE: auto_trace_generate (ID: c503f6ab-496b-44d2-b511-6bdeef9e8626) - 1 spans\n",
            "2025-10-02 14:38:28 - noveum_trace.transport.batch_processor - INFO - 📥 ADDING TRACE TO QUEUE: auto_trace_generate (ID: c503f6ab-496b-44d2-b511-6bdeef9e8626) - 1 spans\n",
            "2025-10-02 14:38:28 - noveum_trace.transport.batch_processor - INFO - ✅ Successfully queued trace c503f6ab-496b-44d2-b511-6bdeef9e8626\n",
            "2025-10-02 14:38:28 - noveum_trace.transport.http_transport - INFO - ✅ Trace c503f6ab-496b-44d2-b511-6bdeef9e8626 successfully queued for export\n"
          ]
        },
        {
          "name": "stdout",
          "output_type": "stream",
          "text": [
            "2025-10-02 14:38:28 - INFO - google_genai.models - AFC is enabled with max remote calls: 10.\n",
            "2025-10-02 14:38:30 - INFO - google_genai.models - AFC remote call 1 is done.\n"
          ]
        },
        {
          "name": "stderr",
          "output_type": "stream",
          "text": [
            "2025-10-02 14:38:30 - noveum_trace.transport.http_transport - INFO - 📤 EXPORTING TRACE: auto_trace_generate (ID: 2379b743-aa00-4733-90b4-7ea92752bfe0) - 1 spans\n",
            "2025-10-02 14:38:30 - noveum_trace.transport.batch_processor - INFO - 📥 ADDING TRACE TO QUEUE: auto_trace_generate (ID: 2379b743-aa00-4733-90b4-7ea92752bfe0) - 1 spans\n",
            "2025-10-02 14:38:30 - noveum_trace.transport.batch_processor - INFO - ✅ Successfully queued trace 2379b743-aa00-4733-90b4-7ea92752bfe0\n",
            "2025-10-02 14:38:30 - noveum_trace.transport.http_transport - INFO - ✅ Trace 2379b743-aa00-4733-90b4-7ea92752bfe0 successfully queued for export\n"
          ]
        },
        {
          "name": "stdout",
          "output_type": "stream",
          "text": [
            "2025-10-02 14:38:30 - INFO - novaeval.evaluators.agent_evaluator - Saving intermediate results after 18 samples\n",
            "2025-10-02 14:38:30 - INFO - novaeval.evaluators.agent_evaluator - Intermediate results saved to demo_results/agent_query_gen_dataset/agent_evaluation_results.csv\n"
          ]
        },
        {
          "name": "stderr",
          "output_type": "stream",
          "text": [
            "Evaluating samples: 18it [01:17,  4.28s/it]"
          ]
        },
        {
          "name": "stdout",
          "output_type": "stream",
          "text": [
            "2025-10-02 14:38:30 - INFO - google_genai.models - AFC is enabled with max remote calls: 10.\n",
            "2025-10-02 14:38:31 - INFO - google_genai.models - AFC remote call 1 is done.\n"
          ]
        },
        {
          "name": "stderr",
          "output_type": "stream",
          "text": [
            "2025-10-02 14:38:31 - noveum_trace.transport.http_transport - INFO - 📤 EXPORTING TRACE: auto_trace_generate (ID: 18ab3f9e-29ce-402b-8138-eec11b90b0bd) - 1 spans\n",
            "2025-10-02 14:38:31 - noveum_trace.transport.batch_processor - INFO - 📥 ADDING TRACE TO QUEUE: auto_trace_generate (ID: 18ab3f9e-29ce-402b-8138-eec11b90b0bd) - 1 spans\n",
            "2025-10-02 14:38:31 - noveum_trace.transport.batch_processor - INFO - ✅ Successfully queued trace 18ab3f9e-29ce-402b-8138-eec11b90b0bd\n",
            "2025-10-02 14:38:31 - noveum_trace.transport.http_transport - INFO - ✅ Trace 18ab3f9e-29ce-402b-8138-eec11b90b0bd successfully queued for export\n"
          ]
        },
        {
          "name": "stdout",
          "output_type": "stream",
          "text": [
            "2025-10-02 14:38:31 - INFO - google_genai.models - AFC is enabled with max remote calls: 10.\n",
            "2025-10-02 14:38:33 - INFO - google_genai.models - AFC remote call 1 is done.\n"
          ]
        },
        {
          "name": "stderr",
          "output_type": "stream",
          "text": [
            "2025-10-02 14:38:33 - noveum_trace.transport.http_transport - INFO - 📤 EXPORTING TRACE: auto_trace_generate (ID: a410020e-ef5c-4c3e-b238-b259fd5d64a6) - 1 spans\n",
            "2025-10-02 14:38:33 - noveum_trace.transport.batch_processor - INFO - 📥 ADDING TRACE TO QUEUE: auto_trace_generate (ID: a410020e-ef5c-4c3e-b238-b259fd5d64a6) - 1 spans\n",
            "2025-10-02 14:38:33 - noveum_trace.transport.batch_processor - INFO - ✅ Successfully queued trace a410020e-ef5c-4c3e-b238-b259fd5d64a6\n",
            "2025-10-02 14:38:33 - noveum_trace.transport.http_transport - INFO - ✅ Trace a410020e-ef5c-4c3e-b238-b259fd5d64a6 successfully queued for export\n"
          ]
        },
        {
          "name": "stdout",
          "output_type": "stream",
          "text": [
            "2025-10-02 14:38:33 - INFO - google_genai.models - AFC is enabled with max remote calls: 10.\n",
            "2025-10-02 14:38:34 - INFO - google_genai.models - AFC remote call 1 is done.\n"
          ]
        },
        {
          "name": "stderr",
          "output_type": "stream",
          "text": [
            "2025-10-02 14:38:34 - noveum_trace.transport.http_transport - INFO - 📤 EXPORTING TRACE: auto_trace_generate (ID: f99043c9-e2c6-45f9-9d2c-ec6f2e7ab2c4) - 1 spans\n",
            "2025-10-02 14:38:34 - noveum_trace.transport.batch_processor - INFO - 📥 ADDING TRACE TO QUEUE: auto_trace_generate (ID: f99043c9-e2c6-45f9-9d2c-ec6f2e7ab2c4) - 1 spans\n",
            "2025-10-02 14:38:34 - noveum_trace.transport.batch_processor - INFO - ✅ Successfully queued trace f99043c9-e2c6-45f9-9d2c-ec6f2e7ab2c4\n",
            "2025-10-02 14:38:34 - noveum_trace.transport.http_transport - INFO - ✅ Trace f99043c9-e2c6-45f9-9d2c-ec6f2e7ab2c4 successfully queued for export\n"
          ]
        },
        {
          "name": "stdout",
          "output_type": "stream",
          "text": [
            "2025-10-02 14:38:34 - INFO - novaeval.evaluators.agent_evaluator - Saving intermediate results after 19 samples\n",
            "2025-10-02 14:38:34 - INFO - novaeval.evaluators.agent_evaluator - Intermediate results saved to demo_results/agent_query_gen_dataset/agent_evaluation_results.csv\n"
          ]
        },
        {
          "name": "stderr",
          "output_type": "stream",
          "text": [
            "Evaluating samples: 19it [01:21,  4.23s/it]"
          ]
        },
        {
          "name": "stdout",
          "output_type": "stream",
          "text": [
            "2025-10-02 14:38:34 - INFO - google_genai.models - AFC is enabled with max remote calls: 10.\n",
            "2025-10-02 14:38:35 - INFO - google_genai.models - AFC remote call 1 is done.\n"
          ]
        },
        {
          "name": "stderr",
          "output_type": "stream",
          "text": [
            "2025-10-02 14:38:35 - noveum_trace.transport.http_transport - INFO - 📤 EXPORTING TRACE: auto_trace_generate (ID: 32c055d6-e3de-4905-b3b3-a99256508836) - 1 spans\n",
            "2025-10-02 14:38:35 - noveum_trace.transport.batch_processor - INFO - 📥 ADDING TRACE TO QUEUE: auto_trace_generate (ID: 32c055d6-e3de-4905-b3b3-a99256508836) - 1 spans\n",
            "2025-10-02 14:38:35 - noveum_trace.transport.batch_processor - INFO - ✅ Successfully queued trace 32c055d6-e3de-4905-b3b3-a99256508836\n",
            "2025-10-02 14:38:35 - noveum_trace.transport.http_transport - INFO - ✅ Trace 32c055d6-e3de-4905-b3b3-a99256508836 successfully queued for export\n"
          ]
        },
        {
          "name": "stdout",
          "output_type": "stream",
          "text": [
            "2025-10-02 14:38:35 - INFO - google_genai.models - AFC is enabled with max remote calls: 10.\n",
            "2025-10-02 14:38:37 - INFO - google_genai.models - AFC remote call 1 is done.\n"
          ]
        },
        {
          "name": "stderr",
          "output_type": "stream",
          "text": [
            "2025-10-02 14:38:37 - noveum_trace.transport.http_transport - INFO - 📤 EXPORTING TRACE: auto_trace_generate (ID: e2a80a78-0255-4f69-9dd0-73f413a8a4c3) - 1 spans\n",
            "2025-10-02 14:38:37 - noveum_trace.transport.batch_processor - INFO - 📥 ADDING TRACE TO QUEUE: auto_trace_generate (ID: e2a80a78-0255-4f69-9dd0-73f413a8a4c3) - 1 spans\n",
            "2025-10-02 14:38:37 - noveum_trace.transport.batch_processor - INFO - ✅ Successfully queued trace e2a80a78-0255-4f69-9dd0-73f413a8a4c3\n",
            "2025-10-02 14:38:37 - noveum_trace.transport.http_transport - INFO - ✅ Trace e2a80a78-0255-4f69-9dd0-73f413a8a4c3 successfully queued for export\n"
          ]
        },
        {
          "name": "stdout",
          "output_type": "stream",
          "text": [
            "2025-10-02 14:38:37 - INFO - google_genai.models - AFC is enabled with max remote calls: 10.\n",
            "2025-10-02 14:38:38 - INFO - google_genai.models - AFC remote call 1 is done.\n"
          ]
        },
        {
          "name": "stderr",
          "output_type": "stream",
          "text": [
            "2025-10-02 14:38:38 - noveum_trace.transport.http_transport - INFO - 📤 EXPORTING TRACE: auto_trace_generate (ID: 51ec4a6b-12f6-4bad-b76b-1ec81e65b348) - 1 spans\n",
            "2025-10-02 14:38:38 - noveum_trace.transport.batch_processor - INFO - 📥 ADDING TRACE TO QUEUE: auto_trace_generate (ID: 51ec4a6b-12f6-4bad-b76b-1ec81e65b348) - 1 spans\n",
            "2025-10-02 14:38:38 - noveum_trace.transport.batch_processor - INFO - ✅ Successfully queued trace 51ec4a6b-12f6-4bad-b76b-1ec81e65b348\n",
            "2025-10-02 14:38:38 - noveum_trace.transport.http_transport - INFO - ✅ Trace 51ec4a6b-12f6-4bad-b76b-1ec81e65b348 successfully queued for export\n"
          ]
        },
        {
          "name": "stdout",
          "output_type": "stream",
          "text": [
            "2025-10-02 14:38:38 - INFO - novaeval.evaluators.agent_evaluator - Saving intermediate results after 20 samples\n",
            "2025-10-02 14:38:38 - INFO - novaeval.evaluators.agent_evaluator - Intermediate results saved to demo_results/agent_query_gen_dataset/agent_evaluation_results.csv\n"
          ]
        },
        {
          "name": "stderr",
          "output_type": "stream",
          "text": [
            "Evaluating samples: 20it [01:25,  4.25s/it]"
          ]
        },
        {
          "name": "stdout",
          "output_type": "stream",
          "text": [
            "2025-10-02 14:38:38 - INFO - google_genai.models - AFC is enabled with max remote calls: 10.\n",
            "2025-10-02 14:38:39 - INFO - google_genai.models - AFC remote call 1 is done.\n"
          ]
        },
        {
          "name": "stderr",
          "output_type": "stream",
          "text": [
            "2025-10-02 14:38:39 - noveum_trace.transport.http_transport - INFO - 📤 EXPORTING TRACE: auto_trace_generate (ID: 832ec6bd-ca49-4aa4-a946-60dca8229fd6) - 1 spans\n",
            "2025-10-02 14:38:39 - noveum_trace.transport.batch_processor - INFO - 📥 ADDING TRACE TO QUEUE: auto_trace_generate (ID: 832ec6bd-ca49-4aa4-a946-60dca8229fd6) - 1 spans\n",
            "2025-10-02 14:38:39 - noveum_trace.transport.batch_processor - INFO - ✅ Successfully queued trace 832ec6bd-ca49-4aa4-a946-60dca8229fd6\n",
            "2025-10-02 14:38:39 - noveum_trace.transport.http_transport - INFO - ✅ Trace 832ec6bd-ca49-4aa4-a946-60dca8229fd6 successfully queued for export\n"
          ]
        },
        {
          "name": "stdout",
          "output_type": "stream",
          "text": [
            "2025-10-02 14:38:39 - INFO - google_genai.models - AFC is enabled with max remote calls: 10.\n",
            "2025-10-02 14:38:41 - INFO - google_genai.models - AFC remote call 1 is done.\n"
          ]
        },
        {
          "name": "stderr",
          "output_type": "stream",
          "text": [
            "2025-10-02 14:38:41 - noveum_trace.transport.http_transport - INFO - 📤 EXPORTING TRACE: auto_trace_generate (ID: 090015a9-9a5a-4659-9816-31cdcb48d120) - 1 spans\n",
            "2025-10-02 14:38:41 - noveum_trace.transport.batch_processor - INFO - 📥 ADDING TRACE TO QUEUE: auto_trace_generate (ID: 090015a9-9a5a-4659-9816-31cdcb48d120) - 1 spans\n",
            "2025-10-02 14:38:41 - noveum_trace.transport.batch_processor - INFO - ✅ Successfully queued trace 090015a9-9a5a-4659-9816-31cdcb48d120\n",
            "2025-10-02 14:38:41 - noveum_trace.transport.http_transport - INFO - ✅ Trace 090015a9-9a5a-4659-9816-31cdcb48d120 successfully queued for export\n"
          ]
        },
        {
          "name": "stdout",
          "output_type": "stream",
          "text": [
            "2025-10-02 14:38:41 - INFO - google_genai.models - AFC is enabled with max remote calls: 10.\n",
            "2025-10-02 14:38:42 - INFO - google_genai.models - AFC remote call 1 is done.\n"
          ]
        },
        {
          "name": "stderr",
          "output_type": "stream",
          "text": [
            "2025-10-02 14:38:42 - noveum_trace.transport.http_transport - INFO - 📤 EXPORTING TRACE: auto_trace_generate (ID: ee337a30-9612-4486-bcb0-59bfca9fa59d) - 1 spans\n",
            "2025-10-02 14:38:42 - noveum_trace.transport.batch_processor - INFO - 📥 ADDING TRACE TO QUEUE: auto_trace_generate (ID: ee337a30-9612-4486-bcb0-59bfca9fa59d) - 1 spans\n",
            "2025-10-02 14:38:42 - noveum_trace.transport.batch_processor - INFO - ✅ Successfully queued trace ee337a30-9612-4486-bcb0-59bfca9fa59d\n",
            "2025-10-02 14:38:42 - noveum_trace.transport.http_transport - INFO - ✅ Trace ee337a30-9612-4486-bcb0-59bfca9fa59d successfully queued for export\n"
          ]
        },
        {
          "name": "stdout",
          "output_type": "stream",
          "text": [
            "2025-10-02 14:38:42 - INFO - novaeval.evaluators.agent_evaluator - Saving intermediate results after 21 samples\n",
            "2025-10-02 14:38:42 - INFO - novaeval.evaluators.agent_evaluator - Intermediate results saved to demo_results/agent_query_gen_dataset/agent_evaluation_results.csv\n"
          ]
        },
        {
          "name": "stderr",
          "output_type": "stream",
          "text": [
            "Evaluating samples: 21it [01:29,  4.20s/it]"
          ]
        },
        {
          "name": "stdout",
          "output_type": "stream",
          "text": [
            "2025-10-02 14:38:42 - INFO - google_genai.models - AFC is enabled with max remote calls: 10.\n",
            "2025-10-02 14:38:44 - INFO - google_genai.models - AFC remote call 1 is done.\n"
          ]
        },
        {
          "name": "stderr",
          "output_type": "stream",
          "text": [
            "2025-10-02 14:38:44 - noveum_trace.transport.http_transport - INFO - 📤 EXPORTING TRACE: auto_trace_generate (ID: 86cfe62c-da06-40a3-8b2f-e061372a3e45) - 1 spans\n",
            "2025-10-02 14:38:44 - noveum_trace.transport.batch_processor - INFO - 📥 ADDING TRACE TO QUEUE: auto_trace_generate (ID: 86cfe62c-da06-40a3-8b2f-e061372a3e45) - 1 spans\n",
            "2025-10-02 14:38:44 - noveum_trace.transport.batch_processor - INFO - ✅ Successfully queued trace 86cfe62c-da06-40a3-8b2f-e061372a3e45\n",
            "2025-10-02 14:38:44 - noveum_trace.transport.http_transport - INFO - ✅ Trace 86cfe62c-da06-40a3-8b2f-e061372a3e45 successfully queued for export\n"
          ]
        },
        {
          "name": "stdout",
          "output_type": "stream",
          "text": [
            "2025-10-02 14:38:44 - INFO - google_genai.models - AFC is enabled with max remote calls: 10.\n",
            "2025-10-02 14:38:45 - INFO - google_genai.models - AFC remote call 1 is done.\n"
          ]
        },
        {
          "name": "stderr",
          "output_type": "stream",
          "text": [
            "2025-10-02 14:38:45 - noveum_trace.transport.http_transport - INFO - 📤 EXPORTING TRACE: auto_trace_generate (ID: 9e761f9a-c360-4b27-9924-b35be1ccd9b5) - 1 spans\n",
            "2025-10-02 14:38:45 - noveum_trace.transport.batch_processor - INFO - 📥 ADDING TRACE TO QUEUE: auto_trace_generate (ID: 9e761f9a-c360-4b27-9924-b35be1ccd9b5) - 1 spans\n",
            "2025-10-02 14:38:45 - noveum_trace.transport.batch_processor - INFO - ✅ Successfully queued trace 9e761f9a-c360-4b27-9924-b35be1ccd9b5\n",
            "2025-10-02 14:38:45 - noveum_trace.transport.http_transport - INFO - ✅ Trace 9e761f9a-c360-4b27-9924-b35be1ccd9b5 successfully queued for export\n"
          ]
        },
        {
          "name": "stdout",
          "output_type": "stream",
          "text": [
            "2025-10-02 14:38:45 - INFO - google_genai.models - AFC is enabled with max remote calls: 10.\n",
            "2025-10-02 14:38:47 - INFO - google_genai.models - AFC remote call 1 is done.\n"
          ]
        },
        {
          "name": "stderr",
          "output_type": "stream",
          "text": [
            "2025-10-02 14:38:47 - noveum_trace.transport.http_transport - INFO - 📤 EXPORTING TRACE: auto_trace_generate (ID: eb0e3a30-e1bd-440b-a037-f67027403646) - 1 spans\n",
            "2025-10-02 14:38:47 - noveum_trace.transport.batch_processor - INFO - 📥 ADDING TRACE TO QUEUE: auto_trace_generate (ID: eb0e3a30-e1bd-440b-a037-f67027403646) - 1 spans\n",
            "2025-10-02 14:38:47 - noveum_trace.transport.batch_processor - INFO - ✅ Successfully queued trace eb0e3a30-e1bd-440b-a037-f67027403646\n",
            "2025-10-02 14:38:47 - noveum_trace.transport.http_transport - INFO - ✅ Trace eb0e3a30-e1bd-440b-a037-f67027403646 successfully queued for export\n"
          ]
        },
        {
          "name": "stdout",
          "output_type": "stream",
          "text": [
            "2025-10-02 14:38:47 - INFO - novaeval.evaluators.agent_evaluator - Saving intermediate results after 22 samples\n",
            "2025-10-02 14:38:47 - INFO - novaeval.evaluators.agent_evaluator - Intermediate results saved to demo_results/agent_query_gen_dataset/agent_evaluation_results.csv\n"
          ]
        },
        {
          "name": "stderr",
          "output_type": "stream",
          "text": [
            "Evaluating samples: 22it [01:34,  4.32s/it]"
          ]
        },
        {
          "name": "stdout",
          "output_type": "stream",
          "text": [
            "2025-10-02 14:38:47 - INFO - google_genai.models - AFC is enabled with max remote calls: 10.\n",
            "2025-10-02 14:38:48 - INFO - google_genai.models - AFC remote call 1 is done.\n"
          ]
        },
        {
          "name": "stderr",
          "output_type": "stream",
          "text": [
            "2025-10-02 14:38:48 - noveum_trace.transport.http_transport - INFO - 📤 EXPORTING TRACE: auto_trace_generate (ID: 6c9dc88f-fba3-48af-b496-d931435ca586) - 1 spans\n",
            "2025-10-02 14:38:48 - noveum_trace.transport.batch_processor - INFO - 📥 ADDING TRACE TO QUEUE: auto_trace_generate (ID: 6c9dc88f-fba3-48af-b496-d931435ca586) - 1 spans\n",
            "2025-10-02 14:38:48 - noveum_trace.transport.batch_processor - INFO - ✅ Successfully queued trace 6c9dc88f-fba3-48af-b496-d931435ca586\n",
            "2025-10-02 14:38:48 - noveum_trace.transport.http_transport - INFO - ✅ Trace 6c9dc88f-fba3-48af-b496-d931435ca586 successfully queued for export\n"
          ]
        },
        {
          "name": "stdout",
          "output_type": "stream",
          "text": [
            "2025-10-02 14:38:48 - INFO - google_genai.models - AFC is enabled with max remote calls: 10.\n",
            "2025-10-02 14:38:50 - INFO - google_genai.models - AFC remote call 1 is done.\n"
          ]
        },
        {
          "name": "stderr",
          "output_type": "stream",
          "text": [
            "2025-10-02 14:38:50 - noveum_trace.transport.http_transport - INFO - 📤 EXPORTING TRACE: auto_trace_generate (ID: 21acccda-598e-4549-968b-741150d1cf1f) - 1 spans\n",
            "2025-10-02 14:38:50 - noveum_trace.transport.batch_processor - INFO - 📥 ADDING TRACE TO QUEUE: auto_trace_generate (ID: 21acccda-598e-4549-968b-741150d1cf1f) - 1 spans\n",
            "2025-10-02 14:38:50 - noveum_trace.transport.batch_processor - INFO - ✅ Successfully queued trace 21acccda-598e-4549-968b-741150d1cf1f\n",
            "2025-10-02 14:38:50 - noveum_trace.transport.http_transport - INFO - ✅ Trace 21acccda-598e-4549-968b-741150d1cf1f successfully queued for export\n"
          ]
        },
        {
          "name": "stdout",
          "output_type": "stream",
          "text": [
            "2025-10-02 14:38:50 - INFO - google_genai.models - AFC is enabled with max remote calls: 10.\n",
            "2025-10-02 14:38:52 - INFO - google_genai.models - AFC remote call 1 is done.\n"
          ]
        },
        {
          "name": "stderr",
          "output_type": "stream",
          "text": [
            "2025-10-02 14:38:52 - noveum_trace.transport.http_transport - INFO - 📤 EXPORTING TRACE: auto_trace_generate (ID: 496c7290-5371-45d1-bd68-01232b40a4b1) - 1 spans\n",
            "2025-10-02 14:38:52 - noveum_trace.transport.batch_processor - INFO - 📥 ADDING TRACE TO QUEUE: auto_trace_generate (ID: 496c7290-5371-45d1-bd68-01232b40a4b1) - 1 spans\n",
            "2025-10-02 14:38:52 - noveum_trace.transport.batch_processor - INFO - ✅ Successfully queued trace 496c7290-5371-45d1-bd68-01232b40a4b1\n",
            "2025-10-02 14:38:52 - noveum_trace.transport.http_transport - INFO - ✅ Trace 496c7290-5371-45d1-bd68-01232b40a4b1 successfully queued for export\n"
          ]
        },
        {
          "name": "stdout",
          "output_type": "stream",
          "text": [
            "2025-10-02 14:38:52 - INFO - novaeval.evaluators.agent_evaluator - Saving intermediate results after 23 samples\n",
            "2025-10-02 14:38:52 - INFO - novaeval.evaluators.agent_evaluator - Intermediate results saved to demo_results/agent_query_gen_dataset/agent_evaluation_results.csv\n"
          ]
        },
        {
          "name": "stderr",
          "output_type": "stream",
          "text": [
            "Evaluating samples: 23it [01:38,  4.41s/it]"
          ]
        },
        {
          "name": "stdout",
          "output_type": "stream",
          "text": [
            "2025-10-02 14:38:52 - INFO - google_genai.models - AFC is enabled with max remote calls: 10.\n",
            "2025-10-02 14:38:53 - INFO - google_genai.models - AFC remote call 1 is done.\n"
          ]
        },
        {
          "name": "stderr",
          "output_type": "stream",
          "text": [
            "2025-10-02 14:38:53 - noveum_trace.transport.http_transport - INFO - 📤 EXPORTING TRACE: auto_trace_generate (ID: 4f14dae9-4558-4847-96b6-818b2f2f2cc3) - 1 spans\n",
            "2025-10-02 14:38:53 - noveum_trace.transport.batch_processor - INFO - 📥 ADDING TRACE TO QUEUE: auto_trace_generate (ID: 4f14dae9-4558-4847-96b6-818b2f2f2cc3) - 1 spans\n",
            "2025-10-02 14:38:53 - noveum_trace.transport.batch_processor - INFO - ✅ Successfully queued trace 4f14dae9-4558-4847-96b6-818b2f2f2cc3\n",
            "2025-10-02 14:38:53 - noveum_trace.transport.http_transport - INFO - ✅ Trace 4f14dae9-4558-4847-96b6-818b2f2f2cc3 successfully queued for export\n"
          ]
        },
        {
          "name": "stdout",
          "output_type": "stream",
          "text": [
            "2025-10-02 14:38:53 - INFO - google_genai.models - AFC is enabled with max remote calls: 10.\n",
            "2025-10-02 14:38:54 - INFO - google_genai.models - AFC remote call 1 is done.\n"
          ]
        },
        {
          "name": "stderr",
          "output_type": "stream",
          "text": [
            "2025-10-02 14:38:54 - noveum_trace.transport.http_transport - INFO - 📤 EXPORTING TRACE: auto_trace_generate (ID: 1c1a602f-81be-47d4-b8f7-08c09f862c2f) - 1 spans\n",
            "2025-10-02 14:38:54 - noveum_trace.transport.batch_processor - INFO - 📥 ADDING TRACE TO QUEUE: auto_trace_generate (ID: 1c1a602f-81be-47d4-b8f7-08c09f862c2f) - 1 spans\n",
            "2025-10-02 14:38:54 - noveum_trace.transport.batch_processor - INFO - ✅ Successfully queued trace 1c1a602f-81be-47d4-b8f7-08c09f862c2f\n",
            "2025-10-02 14:38:54 - noveum_trace.transport.http_transport - INFO - ✅ Trace 1c1a602f-81be-47d4-b8f7-08c09f862c2f successfully queued for export\n"
          ]
        },
        {
          "name": "stdout",
          "output_type": "stream",
          "text": [
            "2025-10-02 14:38:54 - INFO - google_genai.models - AFC is enabled with max remote calls: 10.\n",
            "2025-10-02 14:38:56 - INFO - google_genai.models - AFC remote call 1 is done.\n"
          ]
        },
        {
          "name": "stderr",
          "output_type": "stream",
          "text": [
            "2025-10-02 14:38:56 - noveum_trace.transport.http_transport - INFO - 📤 EXPORTING TRACE: auto_trace_generate (ID: d15c7e8a-34da-4938-ba2c-b9fceac204ea) - 1 spans\n",
            "2025-10-02 14:38:56 - noveum_trace.transport.batch_processor - INFO - 📥 ADDING TRACE TO QUEUE: auto_trace_generate (ID: d15c7e8a-34da-4938-ba2c-b9fceac204ea) - 1 spans\n",
            "2025-10-02 14:38:56 - noveum_trace.transport.batch_processor - INFO - ✅ Successfully queued trace d15c7e8a-34da-4938-ba2c-b9fceac204ea\n",
            "2025-10-02 14:38:56 - noveum_trace.transport.http_transport - INFO - ✅ Trace d15c7e8a-34da-4938-ba2c-b9fceac204ea successfully queued for export\n"
          ]
        },
        {
          "name": "stdout",
          "output_type": "stream",
          "text": [
            "2025-10-02 14:38:56 - INFO - novaeval.evaluators.agent_evaluator - Saving intermediate results after 24 samples\n",
            "2025-10-02 14:38:56 - INFO - novaeval.evaluators.agent_evaluator - Intermediate results saved to demo_results/agent_query_gen_dataset/agent_evaluation_results.csv\n"
          ]
        },
        {
          "name": "stderr",
          "output_type": "stream",
          "text": [
            "Evaluating samples: 24it [01:43,  4.34s/it]"
          ]
        },
        {
          "name": "stdout",
          "output_type": "stream",
          "text": [
            "2025-10-02 14:38:56 - INFO - google_genai.models - AFC is enabled with max remote calls: 10.\n",
            "2025-10-02 14:38:57 - INFO - google_genai.models - AFC remote call 1 is done.\n"
          ]
        },
        {
          "name": "stderr",
          "output_type": "stream",
          "text": [
            "2025-10-02 14:38:57 - noveum_trace.transport.http_transport - INFO - 📤 EXPORTING TRACE: auto_trace_generate (ID: 080667f3-cfa0-4b88-95d6-d4c8b0a6816c) - 1 spans\n",
            "2025-10-02 14:38:57 - noveum_trace.transport.batch_processor - INFO - 📥 ADDING TRACE TO QUEUE: auto_trace_generate (ID: 080667f3-cfa0-4b88-95d6-d4c8b0a6816c) - 1 spans\n",
            "2025-10-02 14:38:57 - noveum_trace.transport.batch_processor - INFO - ✅ Successfully queued trace 080667f3-cfa0-4b88-95d6-d4c8b0a6816c\n",
            "2025-10-02 14:38:57 - noveum_trace.transport.http_transport - INFO - ✅ Trace 080667f3-cfa0-4b88-95d6-d4c8b0a6816c successfully queued for export\n"
          ]
        },
        {
          "name": "stdout",
          "output_type": "stream",
          "text": [
            "2025-10-02 14:38:57 - INFO - google_genai.models - AFC is enabled with max remote calls: 10.\n",
            "2025-10-02 14:38:58 - INFO - google_genai.models - AFC remote call 1 is done.\n"
          ]
        },
        {
          "name": "stderr",
          "output_type": "stream",
          "text": [
            "2025-10-02 14:38:58 - noveum_trace.transport.http_transport - INFO - 📤 EXPORTING TRACE: auto_trace_generate (ID: 2d20d39d-076b-4be0-8d86-bd3fc4c146d1) - 1 spans\n",
            "2025-10-02 14:38:58 - noveum_trace.transport.batch_processor - INFO - 📥 ADDING TRACE TO QUEUE: auto_trace_generate (ID: 2d20d39d-076b-4be0-8d86-bd3fc4c146d1) - 1 spans\n",
            "2025-10-02 14:38:58 - noveum_trace.transport.batch_processor - INFO - ✅ Successfully queued trace 2d20d39d-076b-4be0-8d86-bd3fc4c146d1\n",
            "2025-10-02 14:38:58 - noveum_trace.transport.http_transport - INFO - ✅ Trace 2d20d39d-076b-4be0-8d86-bd3fc4c146d1 successfully queued for export\n"
          ]
        },
        {
          "name": "stdout",
          "output_type": "stream",
          "text": [
            "2025-10-02 14:38:58 - INFO - google_genai.models - AFC is enabled with max remote calls: 10.\n",
            "2025-10-02 14:39:00 - INFO - google_genai.models - AFC remote call 1 is done.\n"
          ]
        },
        {
          "name": "stderr",
          "output_type": "stream",
          "text": [
            "2025-10-02 14:39:00 - noveum_trace.transport.http_transport - INFO - 📤 EXPORTING TRACE: auto_trace_generate (ID: ba498a8e-de01-4485-b424-2db768b42758) - 1 spans\n",
            "2025-10-02 14:39:00 - noveum_trace.transport.batch_processor - INFO - 📥 ADDING TRACE TO QUEUE: auto_trace_generate (ID: ba498a8e-de01-4485-b424-2db768b42758) - 1 spans\n",
            "2025-10-02 14:39:00 - noveum_trace.transport.batch_processor - INFO - ✅ Successfully queued trace ba498a8e-de01-4485-b424-2db768b42758\n",
            "2025-10-02 14:39:00 - noveum_trace.transport.http_transport - INFO - ✅ Trace ba498a8e-de01-4485-b424-2db768b42758 successfully queued for export\n"
          ]
        },
        {
          "name": "stdout",
          "output_type": "stream",
          "text": [
            "2025-10-02 14:39:00 - INFO - novaeval.evaluators.agent_evaluator - Saving intermediate results after 25 samples\n",
            "2025-10-02 14:39:00 - INFO - novaeval.evaluators.agent_evaluator - Intermediate results saved to demo_results/agent_query_gen_dataset/agent_evaluation_results.csv\n"
          ]
        },
        {
          "name": "stderr",
          "output_type": "stream",
          "text": [
            "Evaluating samples: 25it [01:46,  4.28s/it]"
          ]
        },
        {
          "name": "stdout",
          "output_type": "stream",
          "text": [
            "2025-10-02 14:39:00 - INFO - novaeval.evaluators.agent_evaluator - Saving final results\n",
            "2025-10-02 14:39:00 - INFO - novaeval.evaluators.agent_evaluator - Reloaded 25 results from CSV\n",
            "2025-10-02 14:39:00 - INFO - novaeval.evaluators.agent_evaluator - Agent evaluation completed\n",
            "\n",
            "✅ Evaluation completed!\n",
            "\n",
            "📊 Results Summary:\n",
            "  - task_progression: 6.83\n",
            "  - context_relevancy: 7.98\n",
            "  - role_adherence: 8.07\n",
            "  - tool_relevancy: 0.00\n",
            "  - parameter_correctness: 0.00\n",
            "\n",
            "🔍 Individual Scores:\n",
            "\n",
            "  Record 1 (Task: 4f1a91a1-5e38-41a3-b60e-126d81f34f41):\n",
            "    - task_progression: 8.5\n",
            "    - context_relevancy: 7.9\n",
            "    - role_adherence: 9.0\n",
            "    - tool_relevancy: 0.0\n",
            "    - parameter_correctness: 0.0\n",
            "\n",
            "  Record 2 (Task: 4f1a91a1-5e38-41a3-b60e-126d81f34f41):\n",
            "    - task_progression: 5.5\n",
            "    - context_relevancy: 7.9\n",
            "    - role_adherence: 9.0\n",
            "    - tool_relevancy: 0.0\n",
            "    - parameter_correctness: 0.0\n",
            "\n",
            "  Record 3 (Task: bb737d67-ae62-43ba-ba72-b433f011689d):\n",
            "    - task_progression: 8.5\n",
            "    - context_relevancy: 7.8\n",
            "    - role_adherence: 9.8\n",
            "    - tool_relevancy: 0.0\n",
            "    - parameter_correctness: 0.0\n",
            "\n",
            "  Record 4 (Task: bb737d67-ae62-43ba-ba72-b433f011689d):\n",
            "    - task_progression: 8.5\n",
            "    - context_relevancy: 8.1\n",
            "    - role_adherence: 9.0\n",
            "    - tool_relevancy: 0.0\n",
            "    - parameter_correctness: 0.0\n",
            "\n",
            "  Record 5 (Task: 4ceb0d5b-3325-4d5f-9f3f-a30aff969094):\n",
            "    - task_progression: 8.2\n",
            "    - context_relevancy: 8.1\n",
            "    - role_adherence: 9.0\n",
            "    - tool_relevancy: 0.0\n",
            "    - parameter_correctness: 0.0\n",
            "\n",
            "  Record 6 (Task: 4ceb0d5b-3325-4d5f-9f3f-a30aff969094):\n",
            "    - task_progression: 2.1\n",
            "    - context_relevancy: 7.9\n",
            "    - role_adherence: 2.0\n",
            "    - tool_relevancy: 0.0\n",
            "    - parameter_correctness: 0.0\n",
            "\n",
            "  Record 7 (Task: bba4aa96-bf36-46fa-9dba-7c5646443dd4):\n",
            "    - task_progression: 6.5\n",
            "    - context_relevancy: 8.1\n",
            "    - role_adherence: 9.0\n",
            "    - tool_relevancy: 0.0\n",
            "    - parameter_correctness: 0.0\n",
            "\n",
            "  Record 8 (Task: bba4aa96-bf36-46fa-9dba-7c5646443dd4):\n",
            "    - task_progression: 8.5\n",
            "    - context_relevancy: 8.1\n",
            "    - role_adherence: 9.5\n",
            "    - tool_relevancy: 0.0\n",
            "    - parameter_correctness: 0.0\n",
            "\n",
            "  Record 9 (Task: a957ddd1-127a-4f66-ba56-5ac8ddacc6bc):\n",
            "    - task_progression: 6.5\n",
            "    - context_relevancy: 8.1\n",
            "    - role_adherence: 9.8\n",
            "    - tool_relevancy: 0.0\n",
            "    - parameter_correctness: 0.0\n",
            "\n",
            "  Record 10 (Task: a957ddd1-127a-4f66-ba56-5ac8ddacc6bc):\n",
            "    - task_progression: 8.5\n",
            "    - context_relevancy: 8.1\n",
            "    - role_adherence: 9.0\n",
            "    - tool_relevancy: 0.0\n",
            "    - parameter_correctness: 0.0\n",
            "\n",
            "  Record 11 (Task: a455b004-c125-4f79-bd68-82788d99c90e):\n",
            "    - task_progression: 3.1\n",
            "    - context_relevancy: 8.1\n",
            "    - role_adherence: 9.0\n",
            "    - tool_relevancy: 0.0\n",
            "    - parameter_correctness: 0.0\n",
            "\n",
            "  Record 12 (Task: a455b004-c125-4f79-bd68-82788d99c90e):\n",
            "    - task_progression: 8.5\n",
            "    - context_relevancy: 7.8\n",
            "    - role_adherence: 9.2\n",
            "    - tool_relevancy: 0.0\n",
            "    - parameter_correctness: 0.0\n",
            "\n",
            "  Record 13 (Task: 88e2ed48-e091-448c-9532-0ab7ff157b25):\n",
            "    - task_progression: 5.8\n",
            "    - context_relevancy: 8.1\n",
            "    - role_adherence: 9.0\n",
            "    - tool_relevancy: 0.0\n",
            "    - parameter_correctness: 0.0\n",
            "\n",
            "  Record 14 (Task: 88e2ed48-e091-448c-9532-0ab7ff157b25):\n",
            "    - task_progression: 8.2\n",
            "    - context_relevancy: 8.1\n",
            "    - role_adherence: 9.0\n",
            "    - tool_relevancy: 0.0\n",
            "    - parameter_correctness: 0.0\n",
            "\n",
            "  Record 15 (Task: 2e3b4753-db33-4f8a-b139-9f42709aa98a):\n",
            "    - task_progression: 7.8\n",
            "    - context_relevancy: 8.1\n",
            "    - role_adherence: 9.5\n",
            "    - tool_relevancy: 0.0\n",
            "    - parameter_correctness: 0.0\n",
            "\n",
            "  Record 16 (Task: 2e3b4753-db33-4f8a-b139-9f42709aa98a):\n",
            "    - task_progression: 8.5\n",
            "    - context_relevancy: 7.8\n",
            "    - role_adherence: 9.0\n",
            "    - tool_relevancy: 0.0\n",
            "    - parameter_correctness: 0.0\n",
            "\n",
            "  Record 17 (Task: 7b325df9-3985-4715-a77c-5366cd989228):\n",
            "    - task_progression: 8.5\n",
            "    - context_relevancy: 7.8\n",
            "    - role_adherence: 9.0\n",
            "    - tool_relevancy: 0.0\n",
            "    - parameter_correctness: 0.0\n",
            "\n",
            "  Record 18 (Task: 7b325df9-3985-4715-a77c-5366cd989228):\n",
            "    - task_progression: 5.5\n",
            "    - context_relevancy: 7.9\n",
            "    - role_adherence: 9.0\n",
            "    - tool_relevancy: 0.0\n",
            "    - parameter_correctness: 0.0\n",
            "\n",
            "  Record 19 (Task: 50f9d08c-e9e0-4bbe-9dbf-a84e2f2bffae):\n",
            "    - task_progression: 8.5\n",
            "    - context_relevancy: 8.1\n",
            "    - role_adherence: 9.0\n",
            "    - tool_relevancy: 0.0\n",
            "    - parameter_correctness: 0.0\n",
            "\n",
            "  Record 20 (Task: 50f9d08c-e9e0-4bbe-9dbf-a84e2f2bffae):\n",
            "    - task_progression: 1.5\n",
            "    - context_relevancy: 7.8\n",
            "    - role_adherence: 9.0\n",
            "    - tool_relevancy: 0.0\n",
            "    - parameter_correctness: 0.0\n",
            "\n",
            "  Record 21 (Task: 25603381-8fed-41a5-97fd-dda85e9d2041):\n",
            "    - task_progression: 6.5\n",
            "    - context_relevancy: 7.8\n",
            "    - role_adherence: 5.0\n",
            "    - tool_relevancy: 0.0\n",
            "    - parameter_correctness: 0.0\n",
            "\n",
            "  Record 22 (Task: 25603381-8fed-41a5-97fd-dda85e9d2041):\n",
            "    - task_progression: 2.0\n",
            "    - context_relevancy: 7.9\n",
            "    - role_adherence: 1.0\n",
            "    - tool_relevancy: 0.0\n",
            "    - parameter_correctness: 0.0\n",
            "\n",
            "  Record 23 (Task: d599b552-5d57-4949-b426-c6a490de9ed2):\n",
            "    - task_progression: 8.5\n",
            "    - context_relevancy: 8.1\n",
            "    - role_adherence: 9.0\n",
            "    - tool_relevancy: 0.0\n",
            "    - parameter_correctness: 0.0\n",
            "\n",
            "  Record 24 (Task: d92dc80f-859e-4049-af0a-ef9a09d65614):\n",
            "    - task_progression: 8.5\n",
            "    - context_relevancy: 8.1\n",
            "    - role_adherence: 1.0\n",
            "    - tool_relevancy: 0.0\n",
            "    - parameter_correctness: 0.0\n",
            "\n",
            "  Record 25 (Task: d92dc80f-859e-4049-af0a-ef9a09d65614):\n",
            "    - task_progression: 8.1\n",
            "    - context_relevancy: 7.8\n",
            "    - role_adherence: 10.0\n",
            "    - tool_relevancy: 0.0\n",
            "    - parameter_correctness: 0.0\n",
            "✅ Evaluation completed successfully!\n",
            "\n",
            "📋 Step 7: Exporting Dataset\n",
            "💾 Exporting processed dataset...\n",
            "✅ Exported to agent_query_gen_dataset_processed_dataset.json\n",
            "✅ Exported to agent_query_gen_dataset_processed_dataset.csv\n",
            "✅ Export completed successfully!\n",
            "\n",
            "============================================================\n",
            "🎉 EVALUATION PIPELINE COMPLETED!\n",
            "📊 Final Results:\n",
            "  - File processed: split_datasets/agent_query_gen_dataset.json\n",
            "  - Spans loaded: 319\n",
            "  - Dataset size: 319\n",
            "  - Evaluation completed: True\n",
            "  - Export successful: True\n",
            "  - Results saved to: ./demo_results/agent_query_gen_dataset/\n"
          ]
        },
        {
          "name": "stderr",
          "output_type": "stream",
          "text": [
            "\n"
          ]
        },
        {
          "data": {
            "text/plain": [
              "{'success': True,\n",
              " 'file_processed': 'split_datasets/agent_query_gen_dataset.json',\n",
              " 'spans_loaded': 319,\n",
              " 'dataset_created': True,\n",
              " 'dataset_size': 319,\n",
              " 'evaluation_completed': True,\n",
              " 'results_df':     user_id                               task_id  \\\n",
              " 0       NaN  4f1a91a1-5e38-41a3-b60e-126d81f34f41   \n",
              " 1       NaN  4f1a91a1-5e38-41a3-b60e-126d81f34f41   \n",
              " 2       NaN  bb737d67-ae62-43ba-ba72-b433f011689d   \n",
              " 3       NaN  bb737d67-ae62-43ba-ba72-b433f011689d   \n",
              " 4       NaN  4ceb0d5b-3325-4d5f-9f3f-a30aff969094   \n",
              " 5       NaN  4ceb0d5b-3325-4d5f-9f3f-a30aff969094   \n",
              " 6       NaN  bba4aa96-bf36-46fa-9dba-7c5646443dd4   \n",
              " 7       NaN  bba4aa96-bf36-46fa-9dba-7c5646443dd4   \n",
              " 8       NaN  a957ddd1-127a-4f66-ba56-5ac8ddacc6bc   \n",
              " 9       NaN  a957ddd1-127a-4f66-ba56-5ac8ddacc6bc   \n",
              " 10      NaN  a455b004-c125-4f79-bd68-82788d99c90e   \n",
              " 11      NaN  a455b004-c125-4f79-bd68-82788d99c90e   \n",
              " 12      NaN  88e2ed48-e091-448c-9532-0ab7ff157b25   \n",
              " 13      NaN  88e2ed48-e091-448c-9532-0ab7ff157b25   \n",
              " 14      NaN  2e3b4753-db33-4f8a-b139-9f42709aa98a   \n",
              " 15      NaN  2e3b4753-db33-4f8a-b139-9f42709aa98a   \n",
              " 16      NaN  7b325df9-3985-4715-a77c-5366cd989228   \n",
              " 17      NaN  7b325df9-3985-4715-a77c-5366cd989228   \n",
              " 18      NaN  50f9d08c-e9e0-4bbe-9dbf-a84e2f2bffae   \n",
              " 19      NaN  50f9d08c-e9e0-4bbe-9dbf-a84e2f2bffae   \n",
              " 20      NaN  25603381-8fed-41a5-97fd-dda85e9d2041   \n",
              " 21      NaN  25603381-8fed-41a5-97fd-dda85e9d2041   \n",
              " 22      NaN  d599b552-5d57-4949-b426-c6a490de9ed2   \n",
              " 23      NaN  d92dc80f-859e-4049-af0a-ef9a09d65614   \n",
              " 24      NaN  d92dc80f-859e-4049-af0a-ef9a09d65614   \n",
              " \n",
              "                                  turn_id agent_name  task_progression  \\\n",
              " 0   ef9cd1b6-7c04-476b-9977-4a5b46e5240a      agent               8.5   \n",
              " 1   c68ab4b3-7bad-415a-b85c-428c9150015a      agent               5.5   \n",
              " 2   bde3823f-417f-45ed-8ad1-07ddedb5dfdc      agent               8.5   \n",
              " 3   4298bba9-ff4e-42f0-8c6c-c90798363d55      agent               8.5   \n",
              " 4   b495456c-eede-48d9-bd72-2f0e1dc471b2      agent               8.2   \n",
              " 5   19d72586-a3e8-4540-8e82-0b83702cde1f      agent               2.1   \n",
              " 6   a7d5f3dc-ce02-4a19-8322-179c031baff1      agent               6.5   \n",
              " 7   f4007ed7-fa66-46d6-95a3-75d29ced9fa1      agent               8.5   \n",
              " 8   9ca6ab96-1194-4828-9707-32fedca4585c      agent               6.5   \n",
              " 9   bd4ea7eb-ff6d-427c-98f8-17f69b2dc892      agent               8.5   \n",
              " 10  c75f74d0-73d3-4a67-8110-93401d695b6b      agent               3.1   \n",
              " 11  46cd92bc-cae0-43a1-91b5-288aeda937d6      agent               8.5   \n",
              " 12  31d027ed-90b0-4ef8-bafc-2bf56a2a2164      agent               5.8   \n",
              " 13  eea477d7-d4b2-40f9-8306-60c1332789c4      agent               8.2   \n",
              " 14  e6c03ae9-6537-42ca-a97d-c2807260b3fb      agent               7.8   \n",
              " 15  5c069c0d-e4d0-48e7-89c9-6907a50651ba      agent               8.5   \n",
              " 16  58967947-ce13-4aeb-b45a-ab3dbcefe9d8      agent               8.5   \n",
              " 17  059b4bec-f957-4e90-8a53-949bfd8e0523      agent               5.5   \n",
              " 18  8eba4075-6e6a-4013-9f07-daf23fe930f2      agent               8.5   \n",
              " 19  eaa9c670-f4fa-4970-a3ff-5851e89dc7f2      agent               1.5   \n",
              " 20  0cf23676-89e6-48ab-bab0-9ef6a38b716b      agent               6.5   \n",
              " 21  0829972b-f8f5-41bc-902c-0775be90b656      agent               2.0   \n",
              " 22  ec102e13-7467-4019-bc04-7fba5b71a97f      agent               8.5   \n",
              " 23  d911bf56-be97-4143-a901-66120b874dd3      agent               8.5   \n",
              " 24  ec4823eb-ec6e-4ed0-a483-f9e6d42147f4      agent               8.1   \n",
              " \n",
              "     context_relevancy  role_adherence  tool_relevancy  parameter_correctness  \\\n",
              " 0                 7.9             9.0             0.0                    0.0   \n",
              " 1                 7.9             9.0             0.0                    0.0   \n",
              " 2                 7.8             9.8             0.0                    0.0   \n",
              " 3                 8.1             9.0             0.0                    0.0   \n",
              " 4                 8.1             9.0             0.0                    0.0   \n",
              " 5                 7.9             2.0             0.0                    0.0   \n",
              " 6                 8.1             9.0             0.0                    0.0   \n",
              " 7                 8.1             9.5             0.0                    0.0   \n",
              " 8                 8.1             9.8             0.0                    0.0   \n",
              " 9                 8.1             9.0             0.0                    0.0   \n",
              " 10                8.1             9.0             0.0                    0.0   \n",
              " 11                7.8             9.2             0.0                    0.0   \n",
              " 12                8.1             9.0             0.0                    0.0   \n",
              " 13                8.1             9.0             0.0                    0.0   \n",
              " 14                8.1             9.5             0.0                    0.0   \n",
              " 15                7.8             9.0             0.0                    0.0   \n",
              " 16                7.8             9.0             0.0                    0.0   \n",
              " 17                7.9             9.0             0.0                    0.0   \n",
              " 18                8.1             9.0             0.0                    0.0   \n",
              " 19                7.8             9.0             0.0                    0.0   \n",
              " 20                7.8             5.0             0.0                    0.0   \n",
              " 21                7.9             1.0             0.0                    0.0   \n",
              " 22                8.1             9.0             0.0                    0.0   \n",
              " 23                8.1             1.0             0.0                    0.0   \n",
              " 24                7.8            10.0             0.0                    0.0   \n",
              " \n",
              "                            task_progression_reasoning  \\\n",
              " 0   The agent has made excellent progress. It succ...   \n",
              " 1   The agent demonstrates an understanding of the...   \n",
              " 2   The agent's response is directly aligned with ...   \n",
              " 3   The agent clearly understands its role and the...   \n",
              " 4   The agent is clearly focused on the task of un...   \n",
              " 5   The agent completely misunderstands the task. ...   \n",
              " 6   The agent understands the task of utilizing an...   \n",
              " 7   The agent has clearly understood the task and ...   \n",
              " 8   The agent has shown moderate progress, demonst...   \n",
              " 9   The agent understands the task, which is to fi...   \n",
              " 10  The agent has not made any concrete progress t...   \n",
              " 11  The agent correctly interprets the task and un...   \n",
              " 12  The agent has shown moderate progress by askin...   \n",
              " 13  The agent understands its role and is asking r...   \n",
              " 14  The agent understands the task and is asking r...   \n",
              " 15  The agent has made excellent progress. The res...   \n",
              " 16  The agent correctly identifies the core requir...   \n",
              " 17  The agent is asking questions that are relevan...   \n",
              " 18  The agent effectively understands the task, as...   \n",
              " 19  The agent has completely misunderstood the tas...   \n",
              " 20  The agent shows moderate progress. It understa...   \n",
              " 21  The agent has not made any progress toward the...   \n",
              " 22  The agent successfully interpreted the task, w...   \n",
              " 23  The agent successfully identifies the core pro...   \n",
              " 24  The agent has effectively understood the promp...   \n",
              " \n",
              "                           context_relevancy_reasoning  \\\n",
              " 0   The agent's response is highly relevant, askin...   \n",
              " 1   The agent response is a series of questions th...   \n",
              " 2   The agent's response is relevant as it provide...   \n",
              " 3   The agent's response effectively addresses the...   \n",
              " 4   The agent's response is highly relevant to the...   \n",
              " 5   The agent's response is highly relevant, direc...   \n",
              " 6   The agent's response successfully identifies s...   \n",
              " 7   The response consists of various relevant user...   \n",
              " 8   The agent's response is highly appropriate and...   \n",
              " 9   The agent's response accurately reflects the t...   \n",
              " 10  The agent response directly addresses the task...   \n",
              " 11  The response directly addresses the task of ut...   \n",
              " 12  The agent response directly addresses the task...   \n",
              " 13  The agent's response successfully identifies t...   \n",
              " 14  The response effectively lists relevant use ca...   \n",
              " 15  The agent provides example user queries demons...   \n",
              " 16  The agent's response is directly related to th...   \n",
              " 17  The response accurately identifies potential u...   \n",
              " 18  The agent's response is well-aligned with the ...   \n",
              " 19  The response provides a set of questions that ...   \n",
              " 20  The agent response is directly relevant to the...   \n",
              " 21  The agent provides a list of queries that woul...   \n",
              " 22  The agent's response effectively identifies po...   \n",
              " 23  The agent's response is highly relevant as it ...   \n",
              " 24  The agent's response provides various queries ...   \n",
              " \n",
              "                              role_adherence_reasoning  \\\n",
              " 0   The agent perfectly adheres to its role and ta...   \n",
              " 1   The agent perfectly adheres to its role as an ...   \n",
              " 2   The agent perfectly adheres to its role as an ...   \n",
              " 3   The agent perfectly understands the role and t...   \n",
              " 4   The agent's response directly addresses the pr...   \n",
              " 5   The agent completely fails to adhere to its ro...   \n",
              " 6   The agent perfectly adheres to its role by pre...   \n",
              " 7   The agent perfectly understands its role and t...   \n",
              " 8   The agent perfectly adheres to its role, actin...   \n",
              " 9   The agent effectively understands and performs...   \n",
              " 10  The agent adheres perfectly to its role. The r...   \n",
              " 11  The agent perfectly adheres to its role by pro...   \n",
              " 12  The agent perfectly adheres to its role by fra...   \n",
              " 13  The agent perfectly understands its role. The ...   \n",
              " 14  The agent perfectly adheres to its role, demon...   \n",
              " 15  The agent perfectly understands its role as an...   \n",
              " 16  The agent perfectly adheres to its role. The a...   \n",
              " 17  The agent perfectly adheres to its role as a f...   \n",
              " 18  The agent perfectly understands its role as a ...   \n",
              " 19  The agent perfectly understands its role and t...   \n",
              " 20  The agent's response deviates significantly fr...   \n",
              " 21  The agent completely fails to adhere to its ro...   \n",
              " 22  The agent perfectly understands and adheres to...   \n",
              " 23  The agent completely fails to adhere to its ro...   \n",
              " 24  The agent perfectly adheres to its role, which...   \n",
              " \n",
              "           tool_relevancy_reasoning parameter_correctness_reasoning  \n",
              " 0   Error: Missing required fields  Error: Missing required fields  \n",
              " 1   Error: Missing required fields  Error: Missing required fields  \n",
              " 2   Error: Missing required fields  Error: Missing required fields  \n",
              " 3   Error: Missing required fields  Error: Missing required fields  \n",
              " 4   Error: Missing required fields  Error: Missing required fields  \n",
              " 5   Error: Missing required fields  Error: Missing required fields  \n",
              " 6   Error: Missing required fields  Error: Missing required fields  \n",
              " 7   Error: Missing required fields  Error: Missing required fields  \n",
              " 8   Error: Missing required fields  Error: Missing required fields  \n",
              " 9   Error: Missing required fields  Error: Missing required fields  \n",
              " 10  Error: Missing required fields  Error: Missing required fields  \n",
              " 11  Error: Missing required fields  Error: Missing required fields  \n",
              " 12  Error: Missing required fields  Error: Missing required fields  \n",
              " 13  Error: Missing required fields  Error: Missing required fields  \n",
              " 14  Error: Missing required fields  Error: Missing required fields  \n",
              " 15  Error: Missing required fields  Error: Missing required fields  \n",
              " 16  Error: Missing required fields  Error: Missing required fields  \n",
              " 17  Error: Missing required fields  Error: Missing required fields  \n",
              " 18  Error: Missing required fields  Error: Missing required fields  \n",
              " 19  Error: Missing required fields  Error: Missing required fields  \n",
              " 20  Error: Missing required fields  Error: Missing required fields  \n",
              " 21  Error: Missing required fields  Error: Missing required fields  \n",
              " 22  Error: Missing required fields  Error: Missing required fields  \n",
              " 23  Error: Missing required fields  Error: Missing required fields  \n",
              " 24  Error: Missing required fields  Error: Missing required fields  ,\n",
              " 'export_success': True,\n",
              " 'errors': []}"
            ]
          },
          "execution_count": 12,
          "metadata": {},
          "output_type": "execute_result"
        }
      ],
      "source": [
        "run_complete_agent_evaluation('split_datasets/agent_query_gen_dataset.json',\n",
        "evaluation_name = \"agent_query_gen_dataset\", output_dir = \"./demo_results\")"
      ]
    },
    {
      "cell_type": "code",
      "execution_count": 13,
      "metadata": {},
      "outputs": [
        {
          "name": "stdout",
          "output_type": "stream",
          "text": [
            "🚀 Starting Complete Agent Evaluation Pipeline\n",
            "📁 Processing file: split_datasets/email_gen_send_dataset.json\n",
            "============================================================\n",
            "\n",
            "📋 Step 1: Environment Setup\n",
            "✅ Logging configured at INFO level\n",
            "🔍 Environment validation:\n",
            "  ✅ gemini_api_key: True\n",
            "  ✅ pandas_available: True\n",
            "  ✅ novaeval_available: True\n",
            "✅ Environment ready for evaluation!\n",
            "\n",
            "📋 Step 2: Loading Dataset\n",
            "📊 Loaded 40 spans from split_datasets/email_gen_send_dataset.json\n",
            "\n",
            "🔍 Available span types:\n",
            "  - email_generation_and_sending: 40\n",
            "✅ Dataset loaded: 40 spans\n",
            "\n",
            "📋 Step 3: Converting to AgentDataset Format\n",
            "🔄 Converting spans to AgentData objects...\n",
            "\n",
            "✅ Successfully converted 40 spans to AgentData\n",
            "📊 AgentDataset created with 40 records\n",
            "✅ AgentDataset created: 40 records\n",
            "\n",
            "📋 Step 4: Dataset Analysis\n",
            "📈 Dataset Statistics:\n",
            "\n",
            "Agent Types: {'tool': 40}\n",
            "Records with responses: 40\n",
            "Records with tool calls: 0\n",
            "Records with retrieval: 0\n",
            "Tool usage: {}\n",
            "🔍 Dataset Analysis:\n",
            "\n",
            "=== Agent Behavior Patterns ===\n",
            "\n",
            "📈 Tool Usage:\n",
            "\n",
            "📋 Task Types:\n",
            "  - other: 40\n",
            "\n",
            "📝 Response Statistics:\n",
            "  - Average response length: 475.2 characters\n",
            "  - Min response length: 305\n",
            "  - Max response length: 526\n",
            "\n",
            "📋 Step 5: Setting up Evaluation\n",
            "✅ GEMINI_API_KEY found in environment\n",
            "2025-10-02 14:39:00 - INFO - novaeval.models.base - Noveum tracing initialized successfully\n",
            "✅ Gemini model initialized\n",
            "✅ Initialized 5 scoring functions:\n",
            "  - task_progression_scorer\n",
            "  - context_relevancy_scorer\n",
            "  - role_adherence_scorer\n",
            "  - tool_relevancy_scorer\n",
            "  - parameter_correctness_scorer\n",
            "\n",
            "✅ AgentEvaluator created with Gemini model and scoring functions\n",
            "✅ Evaluation components ready!\n",
            "\n",
            "📋 Step 6: Running Evaluation\n",
            "🎯 Evaluating 25 samples...\n",
            "🚀 Running evaluation on sample data...\n",
            "\n",
            "📊 Evaluating 25 sample records...\n",
            "2025-10-02 14:39:00 - INFO - novaeval.evaluators.agent_evaluator - Starting agent evaluation process\n"
          ]
        },
        {
          "name": "stderr",
          "output_type": "stream",
          "text": [
            "Evaluating samples: 0it [00:00, ?it/s]"
          ]
        },
        {
          "name": "stdout",
          "output_type": "stream",
          "text": [
            "2025-10-02 14:39:00 - INFO - google_genai.models - AFC is enabled with max remote calls: 10.\n",
            "2025-10-02 14:39:01 - INFO - google_genai.models - AFC remote call 1 is done.\n"
          ]
        },
        {
          "name": "stderr",
          "output_type": "stream",
          "text": [
            "2025-10-02 14:39:01 - noveum_trace.transport.http_transport - INFO - 📤 EXPORTING TRACE: auto_trace_generate (ID: fef8df47-13a4-4162-82db-08526c347ea8) - 1 spans\n",
            "2025-10-02 14:39:01 - noveum_trace.transport.batch_processor - INFO - 📥 ADDING TRACE TO QUEUE: auto_trace_generate (ID: fef8df47-13a4-4162-82db-08526c347ea8) - 1 spans\n",
            "2025-10-02 14:39:01 - noveum_trace.transport.batch_processor - INFO - ✅ Successfully queued trace fef8df47-13a4-4162-82db-08526c347ea8\n",
            "2025-10-02 14:39:01 - noveum_trace.transport.http_transport - INFO - ✅ Trace fef8df47-13a4-4162-82db-08526c347ea8 successfully queued for export\n"
          ]
        },
        {
          "name": "stdout",
          "output_type": "stream",
          "text": [
            "2025-10-02 14:39:01 - INFO - google_genai.models - AFC is enabled with max remote calls: 10.\n",
            "2025-10-02 14:39:02 - INFO - google_genai.models - AFC remote call 1 is done.\n"
          ]
        },
        {
          "name": "stderr",
          "output_type": "stream",
          "text": [
            "2025-10-02 14:39:02 - noveum_trace.transport.http_transport - INFO - 📤 EXPORTING TRACE: auto_trace_generate (ID: e3fd4a03-1c58-4c74-9a4f-ab25cde590b9) - 1 spans\n",
            "2025-10-02 14:39:02 - noveum_trace.transport.batch_processor - INFO - 📥 ADDING TRACE TO QUEUE: auto_trace_generate (ID: e3fd4a03-1c58-4c74-9a4f-ab25cde590b9) - 1 spans\n",
            "2025-10-02 14:39:02 - noveum_trace.transport.batch_processor - INFO - ✅ Successfully queued trace e3fd4a03-1c58-4c74-9a4f-ab25cde590b9\n",
            "2025-10-02 14:39:02 - noveum_trace.transport.http_transport - INFO - ✅ Trace e3fd4a03-1c58-4c74-9a4f-ab25cde590b9 successfully queued for export\n"
          ]
        },
        {
          "name": "stdout",
          "output_type": "stream",
          "text": [
            "2025-10-02 14:39:02 - INFO - google_genai.models - AFC is enabled with max remote calls: 10.\n",
            "2025-10-02 14:39:04 - INFO - google_genai.models - AFC remote call 1 is done.\n"
          ]
        },
        {
          "name": "stderr",
          "output_type": "stream",
          "text": [
            "2025-10-02 14:39:04 - noveum_trace.transport.http_transport - INFO - 📤 EXPORTING TRACE: auto_trace_generate (ID: e826c839-1928-4f88-b829-ea0526e1290e) - 1 spans\n",
            "2025-10-02 14:39:04 - noveum_trace.transport.batch_processor - INFO - 📥 ADDING TRACE TO QUEUE: auto_trace_generate (ID: e826c839-1928-4f88-b829-ea0526e1290e) - 1 spans\n",
            "2025-10-02 14:39:04 - noveum_trace.transport.batch_processor - INFO - ✅ Successfully queued trace e826c839-1928-4f88-b829-ea0526e1290e\n",
            "2025-10-02 14:39:04 - noveum_trace.transport.http_transport - INFO - ✅ Trace e826c839-1928-4f88-b829-ea0526e1290e successfully queued for export\n"
          ]
        },
        {
          "name": "stdout",
          "output_type": "stream",
          "text": [
            "2025-10-02 14:39:04 - INFO - novaeval.evaluators.agent_evaluator - Saving intermediate results after 1 samples\n",
            "2025-10-02 14:39:04 - INFO - novaeval.evaluators.agent_evaluator - Intermediate results saved to demo_results/email_gen_send_dataset/agent_evaluation_results.csv\n"
          ]
        },
        {
          "name": "stderr",
          "output_type": "stream",
          "text": [
            "Evaluating samples: 1it [00:03,  3.81s/it]"
          ]
        },
        {
          "name": "stdout",
          "output_type": "stream",
          "text": [
            "2025-10-02 14:39:04 - INFO - google_genai.models - AFC is enabled with max remote calls: 10.\n",
            "2025-10-02 14:39:05 - INFO - google_genai.models - AFC remote call 1 is done.\n"
          ]
        },
        {
          "name": "stderr",
          "output_type": "stream",
          "text": [
            "2025-10-02 14:39:05 - noveum_trace.transport.http_transport - INFO - 📤 EXPORTING TRACE: auto_trace_generate (ID: f72ae804-5f77-4579-b79a-a9fc8f8ac9b8) - 1 spans\n",
            "2025-10-02 14:39:05 - noveum_trace.transport.batch_processor - INFO - 📥 ADDING TRACE TO QUEUE: auto_trace_generate (ID: f72ae804-5f77-4579-b79a-a9fc8f8ac9b8) - 1 spans\n",
            "2025-10-02 14:39:05 - noveum_trace.transport.batch_processor - INFO - ✅ Successfully queued trace f72ae804-5f77-4579-b79a-a9fc8f8ac9b8\n",
            "2025-10-02 14:39:05 - noveum_trace.transport.http_transport - INFO - ✅ Trace f72ae804-5f77-4579-b79a-a9fc8f8ac9b8 successfully queued for export\n"
          ]
        },
        {
          "name": "stdout",
          "output_type": "stream",
          "text": [
            "2025-10-02 14:39:05 - INFO - google_genai.models - AFC is enabled with max remote calls: 10.\n",
            "2025-10-02 14:39:06 - INFO - google_genai.models - AFC remote call 1 is done.\n"
          ]
        },
        {
          "name": "stderr",
          "output_type": "stream",
          "text": [
            "2025-10-02 14:39:06 - noveum_trace.transport.http_transport - INFO - 📤 EXPORTING TRACE: auto_trace_generate (ID: 6e097781-3260-46e8-85a7-4bd1b5f8b834) - 1 spans\n",
            "2025-10-02 14:39:06 - noveum_trace.transport.batch_processor - INFO - 📥 ADDING TRACE TO QUEUE: auto_trace_generate (ID: 6e097781-3260-46e8-85a7-4bd1b5f8b834) - 1 spans\n",
            "2025-10-02 14:39:06 - noveum_trace.transport.batch_processor - INFO - ✅ Successfully queued trace 6e097781-3260-46e8-85a7-4bd1b5f8b834\n",
            "2025-10-02 14:39:06 - noveum_trace.transport.http_transport - INFO - ✅ Trace 6e097781-3260-46e8-85a7-4bd1b5f8b834 successfully queued for export\n"
          ]
        },
        {
          "name": "stdout",
          "output_type": "stream",
          "text": [
            "2025-10-02 14:39:06 - INFO - google_genai.models - AFC is enabled with max remote calls: 10.\n",
            "2025-10-02 14:39:08 - INFO - google_genai.models - AFC remote call 1 is done.\n"
          ]
        },
        {
          "name": "stderr",
          "output_type": "stream",
          "text": [
            "2025-10-02 14:39:08 - noveum_trace.transport.http_transport - INFO - 📤 EXPORTING TRACE: auto_trace_generate (ID: 2afb8035-1fc6-4376-b713-04883dc28ad4) - 1 spans\n",
            "2025-10-02 14:39:08 - noveum_trace.transport.batch_processor - INFO - 📥 ADDING TRACE TO QUEUE: auto_trace_generate (ID: 2afb8035-1fc6-4376-b713-04883dc28ad4) - 1 spans\n",
            "2025-10-02 14:39:08 - noveum_trace.transport.batch_processor - INFO - ✅ Successfully queued trace 2afb8035-1fc6-4376-b713-04883dc28ad4\n",
            "2025-10-02 14:39:08 - noveum_trace.transport.http_transport - INFO - ✅ Trace 2afb8035-1fc6-4376-b713-04883dc28ad4 successfully queued for export\n"
          ]
        },
        {
          "name": "stdout",
          "output_type": "stream",
          "text": [
            "2025-10-02 14:39:08 - INFO - novaeval.evaluators.agent_evaluator - Saving intermediate results after 2 samples\n",
            "2025-10-02 14:39:08 - INFO - novaeval.evaluators.agent_evaluator - Intermediate results saved to demo_results/email_gen_send_dataset/agent_evaluation_results.csv\n"
          ]
        },
        {
          "name": "stderr",
          "output_type": "stream",
          "text": [
            "Evaluating samples: 2it [00:08,  4.04s/it]"
          ]
        },
        {
          "name": "stdout",
          "output_type": "stream",
          "text": [
            "2025-10-02 14:39:08 - INFO - google_genai.models - AFC is enabled with max remote calls: 10.\n",
            "2025-10-02 14:39:09 - INFO - google_genai.models - AFC remote call 1 is done.\n"
          ]
        },
        {
          "name": "stderr",
          "output_type": "stream",
          "text": [
            "2025-10-02 14:39:09 - noveum_trace.transport.http_transport - INFO - 📤 EXPORTING TRACE: auto_trace_generate (ID: b8a061cc-8b35-412a-acdb-11daead0b1ee) - 1 spans\n",
            "2025-10-02 14:39:09 - noveum_trace.transport.batch_processor - INFO - 📥 ADDING TRACE TO QUEUE: auto_trace_generate (ID: b8a061cc-8b35-412a-acdb-11daead0b1ee) - 1 spans\n",
            "2025-10-02 14:39:09 - noveum_trace.transport.batch_processor - INFO - ✅ Successfully queued trace b8a061cc-8b35-412a-acdb-11daead0b1ee\n",
            "2025-10-02 14:39:09 - noveum_trace.transport.http_transport - INFO - ✅ Trace b8a061cc-8b35-412a-acdb-11daead0b1ee successfully queued for export\n"
          ]
        },
        {
          "name": "stdout",
          "output_type": "stream",
          "text": [
            "2025-10-02 14:39:09 - INFO - google_genai.models - AFC is enabled with max remote calls: 10.\n",
            "2025-10-02 14:39:11 - INFO - google_genai.models - AFC remote call 1 is done.\n"
          ]
        },
        {
          "name": "stderr",
          "output_type": "stream",
          "text": [
            "2025-10-02 14:39:11 - noveum_trace.transport.http_transport - INFO - 📤 EXPORTING TRACE: auto_trace_generate (ID: 2de6eeea-66d4-4b66-8849-be273e4d45ee) - 1 spans\n",
            "2025-10-02 14:39:11 - noveum_trace.transport.batch_processor - INFO - 📥 ADDING TRACE TO QUEUE: auto_trace_generate (ID: 2de6eeea-66d4-4b66-8849-be273e4d45ee) - 1 spans\n",
            "2025-10-02 14:39:11 - noveum_trace.transport.batch_processor - INFO - ✅ Successfully queued trace 2de6eeea-66d4-4b66-8849-be273e4d45ee\n",
            "2025-10-02 14:39:11 - noveum_trace.transport.http_transport - INFO - ✅ Trace 2de6eeea-66d4-4b66-8849-be273e4d45ee successfully queued for export\n"
          ]
        },
        {
          "name": "stdout",
          "output_type": "stream",
          "text": [
            "2025-10-02 14:39:11 - INFO - google_genai.models - AFC is enabled with max remote calls: 10.\n",
            "2025-10-02 14:39:12 - INFO - google_genai.models - AFC remote call 1 is done.\n"
          ]
        },
        {
          "name": "stderr",
          "output_type": "stream",
          "text": [
            "2025-10-02 14:39:12 - noveum_trace.transport.http_transport - INFO - 📤 EXPORTING TRACE: auto_trace_generate (ID: 81dc2e5b-5f19-421b-bf59-a692892a91c1) - 1 spans\n",
            "2025-10-02 14:39:12 - noveum_trace.transport.batch_processor - INFO - 📥 ADDING TRACE TO QUEUE: auto_trace_generate (ID: 81dc2e5b-5f19-421b-bf59-a692892a91c1) - 1 spans\n",
            "2025-10-02 14:39:12 - noveum_trace.transport.batch_processor - INFO - ✅ Successfully queued trace 81dc2e5b-5f19-421b-bf59-a692892a91c1\n",
            "2025-10-02 14:39:12 - noveum_trace.transport.http_transport - INFO - ✅ Trace 81dc2e5b-5f19-421b-bf59-a692892a91c1 successfully queued for export\n"
          ]
        },
        {
          "name": "stdout",
          "output_type": "stream",
          "text": [
            "2025-10-02 14:39:12 - INFO - novaeval.evaluators.agent_evaluator - Saving intermediate results after 3 samples\n",
            "2025-10-02 14:39:12 - INFO - novaeval.evaluators.agent_evaluator - Intermediate results saved to demo_results/email_gen_send_dataset/agent_evaluation_results.csv\n"
          ]
        },
        {
          "name": "stderr",
          "output_type": "stream",
          "text": [
            "Evaluating samples: 3it [00:12,  4.16s/it]"
          ]
        },
        {
          "name": "stdout",
          "output_type": "stream",
          "text": [
            "2025-10-02 14:39:12 - INFO - google_genai.models - AFC is enabled with max remote calls: 10.\n",
            "2025-10-02 14:39:14 - INFO - google_genai.models - AFC remote call 1 is done.\n"
          ]
        },
        {
          "name": "stderr",
          "output_type": "stream",
          "text": [
            "2025-10-02 14:39:14 - noveum_trace.transport.http_transport - INFO - 📤 EXPORTING TRACE: auto_trace_generate (ID: 440ff4da-1550-4633-946b-5b02d835f6fb) - 1 spans\n",
            "2025-10-02 14:39:14 - noveum_trace.transport.batch_processor - INFO - 📥 ADDING TRACE TO QUEUE: auto_trace_generate (ID: 440ff4da-1550-4633-946b-5b02d835f6fb) - 1 spans\n",
            "2025-10-02 14:39:14 - noveum_trace.transport.batch_processor - INFO - ✅ Successfully queued trace 440ff4da-1550-4633-946b-5b02d835f6fb\n",
            "2025-10-02 14:39:14 - noveum_trace.transport.http_transport - INFO - ✅ Trace 440ff4da-1550-4633-946b-5b02d835f6fb successfully queued for export\n"
          ]
        },
        {
          "name": "stdout",
          "output_type": "stream",
          "text": [
            "2025-10-02 14:39:14 - INFO - google_genai.models - AFC is enabled with max remote calls: 10.\n",
            "2025-10-02 14:39:15 - INFO - google_genai.models - AFC remote call 1 is done.\n"
          ]
        },
        {
          "name": "stderr",
          "output_type": "stream",
          "text": [
            "2025-10-02 14:39:15 - noveum_trace.transport.http_transport - INFO - 📤 EXPORTING TRACE: auto_trace_generate (ID: de1dfff9-fd70-4db1-a335-196d9d9db77b) - 1 spans\n",
            "2025-10-02 14:39:15 - noveum_trace.transport.batch_processor - INFO - 📥 ADDING TRACE TO QUEUE: auto_trace_generate (ID: de1dfff9-fd70-4db1-a335-196d9d9db77b) - 1 spans\n",
            "2025-10-02 14:39:15 - noveum_trace.transport.batch_processor - INFO - ✅ Successfully queued trace de1dfff9-fd70-4db1-a335-196d9d9db77b\n",
            "2025-10-02 14:39:15 - noveum_trace.transport.http_transport - INFO - ✅ Trace de1dfff9-fd70-4db1-a335-196d9d9db77b successfully queued for export\n"
          ]
        },
        {
          "name": "stdout",
          "output_type": "stream",
          "text": [
            "2025-10-02 14:39:15 - INFO - google_genai.models - AFC is enabled with max remote calls: 10.\n",
            "2025-10-02 14:39:16 - INFO - google_genai.models - AFC remote call 1 is done.\n"
          ]
        },
        {
          "name": "stderr",
          "output_type": "stream",
          "text": [
            "2025-10-02 14:39:16 - noveum_trace.transport.http_transport - INFO - 📤 EXPORTING TRACE: auto_trace_generate (ID: e935f38d-8705-4772-8c3d-b35b88b7fb0f) - 1 spans\n",
            "2025-10-02 14:39:16 - noveum_trace.transport.batch_processor - INFO - 📥 ADDING TRACE TO QUEUE: auto_trace_generate (ID: e935f38d-8705-4772-8c3d-b35b88b7fb0f) - 1 spans\n",
            "2025-10-02 14:39:16 - noveum_trace.transport.batch_processor - INFO - ✅ Successfully queued trace e935f38d-8705-4772-8c3d-b35b88b7fb0f\n",
            "2025-10-02 14:39:16 - noveum_trace.transport.http_transport - INFO - ✅ Trace e935f38d-8705-4772-8c3d-b35b88b7fb0f successfully queued for export\n"
          ]
        },
        {
          "name": "stdout",
          "output_type": "stream",
          "text": [
            "2025-10-02 14:39:16 - INFO - novaeval.evaluators.agent_evaluator - Saving intermediate results after 4 samples\n",
            "2025-10-02 14:39:16 - INFO - novaeval.evaluators.agent_evaluator - Intermediate results saved to demo_results/email_gen_send_dataset/agent_evaluation_results.csv\n"
          ]
        },
        {
          "name": "stderr",
          "output_type": "stream",
          "text": [
            "Evaluating samples: 4it [00:16,  4.17s/it]"
          ]
        },
        {
          "name": "stdout",
          "output_type": "stream",
          "text": [
            "2025-10-02 14:39:16 - INFO - google_genai.models - AFC is enabled with max remote calls: 10.\n",
            "2025-10-02 14:39:17 - INFO - google_genai.models - AFC remote call 1 is done.\n"
          ]
        },
        {
          "name": "stderr",
          "output_type": "stream",
          "text": [
            "2025-10-02 14:39:17 - noveum_trace.transport.http_transport - INFO - 📤 EXPORTING TRACE: auto_trace_generate (ID: 5ec90568-131f-4797-ba95-e062a5e50d57) - 1 spans\n",
            "2025-10-02 14:39:17 - noveum_trace.transport.batch_processor - INFO - 📥 ADDING TRACE TO QUEUE: auto_trace_generate (ID: 5ec90568-131f-4797-ba95-e062a5e50d57) - 1 spans\n",
            "2025-10-02 14:39:17 - noveum_trace.transport.batch_processor - INFO - ✅ Successfully queued trace 5ec90568-131f-4797-ba95-e062a5e50d57\n",
            "2025-10-02 14:39:17 - noveum_trace.transport.http_transport - INFO - ✅ Trace 5ec90568-131f-4797-ba95-e062a5e50d57 successfully queued for export\n"
          ]
        },
        {
          "name": "stdout",
          "output_type": "stream",
          "text": [
            "2025-10-02 14:39:17 - INFO - google_genai.models - AFC is enabled with max remote calls: 10.\n",
            "2025-10-02 14:39:19 - INFO - google_genai.models - AFC remote call 1 is done.\n"
          ]
        },
        {
          "name": "stderr",
          "output_type": "stream",
          "text": [
            "2025-10-02 14:39:19 - noveum_trace.transport.http_transport - INFO - 📤 EXPORTING TRACE: auto_trace_generate (ID: 797b2a12-d176-4eee-a437-b7cf9b0cc154) - 1 spans\n",
            "2025-10-02 14:39:19 - noveum_trace.transport.batch_processor - INFO - 📥 ADDING TRACE TO QUEUE: auto_trace_generate (ID: 797b2a12-d176-4eee-a437-b7cf9b0cc154) - 1 spans\n",
            "2025-10-02 14:39:19 - noveum_trace.transport.batch_processor - INFO - ✅ Successfully queued trace 797b2a12-d176-4eee-a437-b7cf9b0cc154\n",
            "2025-10-02 14:39:19 - noveum_trace.transport.http_transport - INFO - ✅ Trace 797b2a12-d176-4eee-a437-b7cf9b0cc154 successfully queued for export\n"
          ]
        },
        {
          "name": "stdout",
          "output_type": "stream",
          "text": [
            "2025-10-02 14:39:19 - INFO - google_genai.models - AFC is enabled with max remote calls: 10.\n",
            "2025-10-02 14:39:20 - INFO - google_genai.models - AFC remote call 1 is done.\n"
          ]
        },
        {
          "name": "stderr",
          "output_type": "stream",
          "text": [
            "2025-10-02 14:39:20 - noveum_trace.transport.http_transport - INFO - 📤 EXPORTING TRACE: auto_trace_generate (ID: 92619dad-add8-4bdc-a41b-cba9c4f9bf9c) - 1 spans\n",
            "2025-10-02 14:39:20 - noveum_trace.transport.batch_processor - INFO - 📥 ADDING TRACE TO QUEUE: auto_trace_generate (ID: 92619dad-add8-4bdc-a41b-cba9c4f9bf9c) - 1 spans\n",
            "2025-10-02 14:39:20 - noveum_trace.transport.batch_processor - INFO - ✅ Successfully queued trace 92619dad-add8-4bdc-a41b-cba9c4f9bf9c\n",
            "2025-10-02 14:39:20 - noveum_trace.transport.http_transport - INFO - ✅ Trace 92619dad-add8-4bdc-a41b-cba9c4f9bf9c successfully queued for export\n"
          ]
        },
        {
          "name": "stdout",
          "output_type": "stream",
          "text": [
            "2025-10-02 14:39:20 - INFO - novaeval.evaluators.agent_evaluator - Saving intermediate results after 5 samples\n",
            "2025-10-02 14:39:20 - INFO - novaeval.evaluators.agent_evaluator - Intermediate results saved to demo_results/email_gen_send_dataset/agent_evaluation_results.csv\n"
          ]
        },
        {
          "name": "stderr",
          "output_type": "stream",
          "text": [
            "Evaluating samples: 5it [00:20,  4.00s/it]"
          ]
        },
        {
          "name": "stdout",
          "output_type": "stream",
          "text": [
            "2025-10-02 14:39:20 - INFO - google_genai.models - AFC is enabled with max remote calls: 10.\n",
            "2025-10-02 14:39:22 - INFO - google_genai.models - AFC remote call 1 is done.\n"
          ]
        },
        {
          "name": "stderr",
          "output_type": "stream",
          "text": [
            "2025-10-02 14:39:22 - noveum_trace.transport.http_transport - INFO - 📤 EXPORTING TRACE: auto_trace_generate (ID: 237468eb-a4ef-46dc-bedf-356810c5583e) - 1 spans\n",
            "2025-10-02 14:39:22 - noveum_trace.transport.batch_processor - INFO - 📥 ADDING TRACE TO QUEUE: auto_trace_generate (ID: 237468eb-a4ef-46dc-bedf-356810c5583e) - 1 spans\n",
            "2025-10-02 14:39:22 - noveum_trace.transport.batch_processor - INFO - ✅ Successfully queued trace 237468eb-a4ef-46dc-bedf-356810c5583e\n",
            "2025-10-02 14:39:22 - noveum_trace.transport.http_transport - INFO - ✅ Trace 237468eb-a4ef-46dc-bedf-356810c5583e successfully queued for export\n"
          ]
        },
        {
          "name": "stdout",
          "output_type": "stream",
          "text": [
            "2025-10-02 14:39:22 - INFO - google_genai.models - AFC is enabled with max remote calls: 10.\n",
            "2025-10-02 14:39:23 - INFO - google_genai.models - AFC remote call 1 is done.\n"
          ]
        },
        {
          "name": "stderr",
          "output_type": "stream",
          "text": [
            "2025-10-02 14:39:23 - noveum_trace.transport.http_transport - INFO - 📤 EXPORTING TRACE: auto_trace_generate (ID: 63ef460f-f1dd-4cba-a660-bd63a13fc188) - 1 spans\n",
            "2025-10-02 14:39:23 - noveum_trace.transport.batch_processor - INFO - 📥 ADDING TRACE TO QUEUE: auto_trace_generate (ID: 63ef460f-f1dd-4cba-a660-bd63a13fc188) - 1 spans\n",
            "2025-10-02 14:39:23 - noveum_trace.transport.batch_processor - INFO - ✅ Successfully queued trace 63ef460f-f1dd-4cba-a660-bd63a13fc188\n",
            "2025-10-02 14:39:23 - noveum_trace.transport.http_transport - INFO - ✅ Trace 63ef460f-f1dd-4cba-a660-bd63a13fc188 successfully queued for export\n"
          ]
        },
        {
          "name": "stdout",
          "output_type": "stream",
          "text": [
            "2025-10-02 14:39:23 - INFO - google_genai.models - AFC is enabled with max remote calls: 10.\n",
            "2025-10-02 14:39:24 - INFO - google_genai.models - AFC remote call 1 is done.\n"
          ]
        },
        {
          "name": "stderr",
          "output_type": "stream",
          "text": [
            "2025-10-02 14:39:24 - noveum_trace.transport.http_transport - INFO - 📤 EXPORTING TRACE: auto_trace_generate (ID: 15c0812e-c3ef-4a4a-925d-32e2ecad314b) - 1 spans\n",
            "2025-10-02 14:39:24 - noveum_trace.transport.batch_processor - INFO - 📥 ADDING TRACE TO QUEUE: auto_trace_generate (ID: 15c0812e-c3ef-4a4a-925d-32e2ecad314b) - 1 spans\n",
            "2025-10-02 14:39:24 - noveum_trace.transport.batch_processor - INFO - ✅ Successfully queued trace 15c0812e-c3ef-4a4a-925d-32e2ecad314b\n",
            "2025-10-02 14:39:24 - noveum_trace.transport.http_transport - INFO - ✅ Trace 15c0812e-c3ef-4a4a-925d-32e2ecad314b successfully queued for export\n"
          ]
        },
        {
          "name": "stdout",
          "output_type": "stream",
          "text": [
            "2025-10-02 14:39:24 - INFO - novaeval.evaluators.agent_evaluator - Saving intermediate results after 6 samples\n",
            "2025-10-02 14:39:24 - INFO - novaeval.evaluators.agent_evaluator - Intermediate results saved to demo_results/email_gen_send_dataset/agent_evaluation_results.csv\n"
          ]
        },
        {
          "name": "stderr",
          "output_type": "stream",
          "text": [
            "Evaluating samples: 6it [00:24,  4.10s/it]"
          ]
        },
        {
          "name": "stdout",
          "output_type": "stream",
          "text": [
            "2025-10-02 14:39:24 - INFO - google_genai.models - AFC is enabled with max remote calls: 10.\n",
            "2025-10-02 14:39:26 - INFO - google_genai.models - AFC remote call 1 is done.\n"
          ]
        },
        {
          "name": "stderr",
          "output_type": "stream",
          "text": [
            "2025-10-02 14:39:26 - noveum_trace.transport.http_transport - INFO - 📤 EXPORTING TRACE: auto_trace_generate (ID: 69211bf5-ff94-4a34-b418-6d0750c2cb72) - 1 spans\n",
            "2025-10-02 14:39:26 - noveum_trace.transport.batch_processor - INFO - 📥 ADDING TRACE TO QUEUE: auto_trace_generate (ID: 69211bf5-ff94-4a34-b418-6d0750c2cb72) - 1 spans\n",
            "2025-10-02 14:39:26 - noveum_trace.transport.batch_processor - INFO - ✅ Successfully queued trace 69211bf5-ff94-4a34-b418-6d0750c2cb72\n",
            "2025-10-02 14:39:26 - noveum_trace.transport.http_transport - INFO - ✅ Trace 69211bf5-ff94-4a34-b418-6d0750c2cb72 successfully queued for export\n"
          ]
        },
        {
          "name": "stdout",
          "output_type": "stream",
          "text": [
            "2025-10-02 14:39:26 - INFO - google_genai.models - AFC is enabled with max remote calls: 10.\n",
            "2025-10-02 14:39:27 - INFO - google_genai.models - AFC remote call 1 is done.\n"
          ]
        },
        {
          "name": "stderr",
          "output_type": "stream",
          "text": [
            "2025-10-02 14:39:27 - noveum_trace.transport.http_transport - INFO - 📤 EXPORTING TRACE: auto_trace_generate (ID: 52bb0a44-2662-4a22-a444-b0eadaca2cb3) - 1 spans\n",
            "2025-10-02 14:39:27 - noveum_trace.transport.batch_processor - INFO - 📥 ADDING TRACE TO QUEUE: auto_trace_generate (ID: 52bb0a44-2662-4a22-a444-b0eadaca2cb3) - 1 spans\n",
            "2025-10-02 14:39:27 - noveum_trace.transport.batch_processor - INFO - ✅ Successfully queued trace 52bb0a44-2662-4a22-a444-b0eadaca2cb3\n",
            "2025-10-02 14:39:27 - noveum_trace.transport.http_transport - INFO - ✅ Trace 52bb0a44-2662-4a22-a444-b0eadaca2cb3 successfully queued for export\n"
          ]
        },
        {
          "name": "stdout",
          "output_type": "stream",
          "text": [
            "2025-10-02 14:39:27 - INFO - google_genai.models - AFC is enabled with max remote calls: 10.\n",
            "2025-10-02 14:39:28 - INFO - google_genai.models - AFC remote call 1 is done.\n"
          ]
        },
        {
          "name": "stderr",
          "output_type": "stream",
          "text": [
            "2025-10-02 14:39:28 - noveum_trace.transport.http_transport - INFO - 📤 EXPORTING TRACE: auto_trace_generate (ID: 493d3a60-4bd5-419f-9bf5-2215783bc6f2) - 1 spans\n",
            "2025-10-02 14:39:28 - noveum_trace.transport.batch_processor - INFO - 📥 ADDING TRACE TO QUEUE: auto_trace_generate (ID: 493d3a60-4bd5-419f-9bf5-2215783bc6f2) - 1 spans\n",
            "2025-10-02 14:39:28 - noveum_trace.transport.batch_processor - INFO - ✅ Successfully queued trace 493d3a60-4bd5-419f-9bf5-2215783bc6f2\n",
            "2025-10-02 14:39:28 - noveum_trace.transport.http_transport - INFO - ✅ Trace 493d3a60-4bd5-419f-9bf5-2215783bc6f2 successfully queued for export\n"
          ]
        },
        {
          "name": "stdout",
          "output_type": "stream",
          "text": [
            "2025-10-02 14:39:28 - INFO - novaeval.evaluators.agent_evaluator - Saving intermediate results after 7 samples\n",
            "2025-10-02 14:39:28 - INFO - novaeval.evaluators.agent_evaluator - Intermediate results saved to demo_results/email_gen_send_dataset/agent_evaluation_results.csv\n"
          ]
        },
        {
          "name": "stderr",
          "output_type": "stream",
          "text": [
            "Evaluating samples: 7it [00:28,  4.10s/it]"
          ]
        },
        {
          "name": "stdout",
          "output_type": "stream",
          "text": [
            "2025-10-02 14:39:28 - INFO - google_genai.models - AFC is enabled with max remote calls: 10.\n",
            "2025-10-02 14:39:30 - INFO - google_genai.models - AFC remote call 1 is done.\n"
          ]
        },
        {
          "name": "stderr",
          "output_type": "stream",
          "text": [
            "2025-10-02 14:39:30 - noveum_trace.transport.http_transport - INFO - 📤 EXPORTING TRACE: auto_trace_generate (ID: d38109b1-efd8-4743-95e3-f2def923ff55) - 1 spans\n",
            "2025-10-02 14:39:30 - noveum_trace.transport.batch_processor - INFO - 📥 ADDING TRACE TO QUEUE: auto_trace_generate (ID: d38109b1-efd8-4743-95e3-f2def923ff55) - 1 spans\n",
            "2025-10-02 14:39:30 - noveum_trace.transport.batch_processor - INFO - ✅ Successfully queued trace d38109b1-efd8-4743-95e3-f2def923ff55\n",
            "2025-10-02 14:39:30 - noveum_trace.transport.http_transport - INFO - ✅ Trace d38109b1-efd8-4743-95e3-f2def923ff55 successfully queued for export\n"
          ]
        },
        {
          "name": "stdout",
          "output_type": "stream",
          "text": [
            "2025-10-02 14:39:30 - INFO - google_genai.models - AFC is enabled with max remote calls: 10.\n",
            "2025-10-02 14:39:31 - INFO - google_genai.models - AFC remote call 1 is done.\n"
          ]
        },
        {
          "name": "stderr",
          "output_type": "stream",
          "text": [
            "2025-10-02 14:39:31 - noveum_trace.transport.http_transport - INFO - 📤 EXPORTING TRACE: auto_trace_generate (ID: dc5cfdf8-280d-4178-9711-9f30f2ab2f2d) - 1 spans\n",
            "2025-10-02 14:39:31 - noveum_trace.transport.batch_processor - INFO - 📥 ADDING TRACE TO QUEUE: auto_trace_generate (ID: dc5cfdf8-280d-4178-9711-9f30f2ab2f2d) - 1 spans\n",
            "2025-10-02 14:39:31 - noveum_trace.transport.batch_processor - INFO - ✅ Successfully queued trace dc5cfdf8-280d-4178-9711-9f30f2ab2f2d\n",
            "2025-10-02 14:39:31 - noveum_trace.transport.http_transport - INFO - ✅ Trace dc5cfdf8-280d-4178-9711-9f30f2ab2f2d successfully queued for export\n"
          ]
        },
        {
          "name": "stdout",
          "output_type": "stream",
          "text": [
            "2025-10-02 14:39:31 - INFO - google_genai.models - AFC is enabled with max remote calls: 10.\n",
            "2025-10-02 14:39:32 - INFO - google_genai.models - AFC remote call 1 is done.\n"
          ]
        },
        {
          "name": "stderr",
          "output_type": "stream",
          "text": [
            "2025-10-02 14:39:32 - noveum_trace.transport.http_transport - INFO - 📤 EXPORTING TRACE: auto_trace_generate (ID: 31bdcdbc-8658-4fb2-8ef7-6f3b2fd1d321) - 1 spans\n",
            "2025-10-02 14:39:32 - noveum_trace.transport.batch_processor - INFO - 📥 ADDING TRACE TO QUEUE: auto_trace_generate (ID: 31bdcdbc-8658-4fb2-8ef7-6f3b2fd1d321) - 1 spans\n",
            "2025-10-02 14:39:32 - noveum_trace.transport.batch_processor - INFO - ✅ Successfully queued trace 31bdcdbc-8658-4fb2-8ef7-6f3b2fd1d321\n",
            "2025-10-02 14:39:32 - noveum_trace.transport.http_transport - INFO - ✅ Trace 31bdcdbc-8658-4fb2-8ef7-6f3b2fd1d321 successfully queued for export\n"
          ]
        },
        {
          "name": "stdout",
          "output_type": "stream",
          "text": [
            "2025-10-02 14:39:32 - INFO - novaeval.evaluators.agent_evaluator - Saving intermediate results after 8 samples\n",
            "2025-10-02 14:39:32 - INFO - novaeval.evaluators.agent_evaluator - Intermediate results saved to demo_results/email_gen_send_dataset/agent_evaluation_results.csv\n"
          ]
        },
        {
          "name": "stderr",
          "output_type": "stream",
          "text": [
            "Evaluating samples: 8it [00:32,  4.03s/it]"
          ]
        },
        {
          "name": "stdout",
          "output_type": "stream",
          "text": [
            "2025-10-02 14:39:32 - INFO - google_genai.models - AFC is enabled with max remote calls: 10.\n",
            "2025-10-02 14:39:34 - INFO - google_genai.models - AFC remote call 1 is done.\n"
          ]
        },
        {
          "name": "stderr",
          "output_type": "stream",
          "text": [
            "2025-10-02 14:39:34 - noveum_trace.transport.http_transport - INFO - 📤 EXPORTING TRACE: auto_trace_generate (ID: 7e72a953-8507-4616-ba95-54a9a23a08f4) - 1 spans\n",
            "2025-10-02 14:39:34 - noveum_trace.transport.batch_processor - INFO - 📥 ADDING TRACE TO QUEUE: auto_trace_generate (ID: 7e72a953-8507-4616-ba95-54a9a23a08f4) - 1 spans\n",
            "2025-10-02 14:39:34 - noveum_trace.transport.batch_processor - INFO - ✅ Successfully queued trace 7e72a953-8507-4616-ba95-54a9a23a08f4\n",
            "2025-10-02 14:39:34 - noveum_trace.transport.http_transport - INFO - ✅ Trace 7e72a953-8507-4616-ba95-54a9a23a08f4 successfully queued for export\n"
          ]
        },
        {
          "name": "stdout",
          "output_type": "stream",
          "text": [
            "2025-10-02 14:39:34 - INFO - google_genai.models - AFC is enabled with max remote calls: 10.\n",
            "2025-10-02 14:39:35 - INFO - google_genai.models - AFC remote call 1 is done.\n"
          ]
        },
        {
          "name": "stderr",
          "output_type": "stream",
          "text": [
            "2025-10-02 14:39:35 - noveum_trace.transport.http_transport - INFO - 📤 EXPORTING TRACE: auto_trace_generate (ID: 53231b0f-acda-473c-8f17-b71ecdc0c417) - 1 spans\n",
            "2025-10-02 14:39:35 - noveum_trace.transport.batch_processor - INFO - 📥 ADDING TRACE TO QUEUE: auto_trace_generate (ID: 53231b0f-acda-473c-8f17-b71ecdc0c417) - 1 spans\n",
            "2025-10-02 14:39:35 - noveum_trace.transport.batch_processor - INFO - ✅ Successfully queued trace 53231b0f-acda-473c-8f17-b71ecdc0c417\n",
            "2025-10-02 14:39:35 - noveum_trace.transport.http_transport - INFO - ✅ Trace 53231b0f-acda-473c-8f17-b71ecdc0c417 successfully queued for export\n"
          ]
        },
        {
          "name": "stdout",
          "output_type": "stream",
          "text": [
            "2025-10-02 14:39:35 - INFO - google_genai.models - AFC is enabled with max remote calls: 10.\n",
            "2025-10-02 14:39:36 - INFO - google_genai.models - AFC remote call 1 is done.\n"
          ]
        },
        {
          "name": "stderr",
          "output_type": "stream",
          "text": [
            "2025-10-02 14:39:36 - noveum_trace.transport.http_transport - INFO - 📤 EXPORTING TRACE: auto_trace_generate (ID: edd50aff-7b9e-405b-956c-468dcf4d492d) - 1 spans\n",
            "2025-10-02 14:39:36 - noveum_trace.transport.batch_processor - INFO - 📥 ADDING TRACE TO QUEUE: auto_trace_generate (ID: edd50aff-7b9e-405b-956c-468dcf4d492d) - 1 spans\n",
            "2025-10-02 14:39:36 - noveum_trace.transport.batch_processor - INFO - ✅ Successfully queued trace edd50aff-7b9e-405b-956c-468dcf4d492d\n",
            "2025-10-02 14:39:36 - noveum_trace.transport.http_transport - INFO - ✅ Trace edd50aff-7b9e-405b-956c-468dcf4d492d successfully queued for export\n"
          ]
        },
        {
          "name": "stdout",
          "output_type": "stream",
          "text": [
            "2025-10-02 14:39:36 - INFO - novaeval.evaluators.agent_evaluator - Saving intermediate results after 9 samples\n",
            "2025-10-02 14:39:36 - INFO - novaeval.evaluators.agent_evaluator - Intermediate results saved to demo_results/email_gen_send_dataset/agent_evaluation_results.csv\n"
          ]
        },
        {
          "name": "stderr",
          "output_type": "stream",
          "text": [
            "Evaluating samples: 9it [00:36,  3.98s/it]"
          ]
        },
        {
          "name": "stdout",
          "output_type": "stream",
          "text": [
            "2025-10-02 14:39:36 - INFO - google_genai.models - AFC is enabled with max remote calls: 10.\n",
            "2025-10-02 14:39:37 - INFO - google_genai.models - AFC remote call 1 is done.\n"
          ]
        },
        {
          "name": "stderr",
          "output_type": "stream",
          "text": [
            "2025-10-02 14:39:37 - noveum_trace.transport.http_transport - INFO - 📤 EXPORTING TRACE: auto_trace_generate (ID: 8b82c712-572d-4daf-840f-88bf3a690dd2) - 1 spans\n",
            "2025-10-02 14:39:37 - noveum_trace.transport.batch_processor - INFO - 📥 ADDING TRACE TO QUEUE: auto_trace_generate (ID: 8b82c712-572d-4daf-840f-88bf3a690dd2) - 1 spans\n",
            "2025-10-02 14:39:37 - noveum_trace.transport.batch_processor - INFO - ✅ Successfully queued trace 8b82c712-572d-4daf-840f-88bf3a690dd2\n",
            "2025-10-02 14:39:37 - noveum_trace.transport.http_transport - INFO - ✅ Trace 8b82c712-572d-4daf-840f-88bf3a690dd2 successfully queued for export\n"
          ]
        },
        {
          "name": "stdout",
          "output_type": "stream",
          "text": [
            "2025-10-02 14:39:37 - INFO - google_genai.models - AFC is enabled with max remote calls: 10.\n",
            "2025-10-02 14:39:39 - INFO - google_genai.models - AFC remote call 1 is done.\n"
          ]
        },
        {
          "name": "stderr",
          "output_type": "stream",
          "text": [
            "2025-10-02 14:39:39 - noveum_trace.transport.http_transport - INFO - 📤 EXPORTING TRACE: auto_trace_generate (ID: 9e63b0c4-4462-4b51-b9aa-b4aa53666c65) - 1 spans\n",
            "2025-10-02 14:39:39 - noveum_trace.transport.batch_processor - INFO - 📥 ADDING TRACE TO QUEUE: auto_trace_generate (ID: 9e63b0c4-4462-4b51-b9aa-b4aa53666c65) - 1 spans\n",
            "2025-10-02 14:39:39 - noveum_trace.transport.batch_processor - INFO - ✅ Successfully queued trace 9e63b0c4-4462-4b51-b9aa-b4aa53666c65\n",
            "2025-10-02 14:39:39 - noveum_trace.transport.http_transport - INFO - ✅ Trace 9e63b0c4-4462-4b51-b9aa-b4aa53666c65 successfully queued for export\n"
          ]
        },
        {
          "name": "stdout",
          "output_type": "stream",
          "text": [
            "2025-10-02 14:39:39 - INFO - google_genai.models - AFC is enabled with max remote calls: 10.\n",
            "2025-10-02 14:39:40 - INFO - google_genai.models - AFC remote call 1 is done.\n"
          ]
        },
        {
          "name": "stderr",
          "output_type": "stream",
          "text": [
            "2025-10-02 14:39:40 - noveum_trace.transport.http_transport - INFO - 📤 EXPORTING TRACE: auto_trace_generate (ID: c2ce0e64-17eb-4a3d-8542-9b3187b5a5b8) - 1 spans\n",
            "2025-10-02 14:39:40 - noveum_trace.transport.batch_processor - INFO - 📥 ADDING TRACE TO QUEUE: auto_trace_generate (ID: c2ce0e64-17eb-4a3d-8542-9b3187b5a5b8) - 1 spans\n",
            "2025-10-02 14:39:40 - noveum_trace.transport.batch_processor - INFO - ✅ Successfully queued trace c2ce0e64-17eb-4a3d-8542-9b3187b5a5b8\n",
            "2025-10-02 14:39:40 - noveum_trace.transport.http_transport - INFO - ✅ Trace c2ce0e64-17eb-4a3d-8542-9b3187b5a5b8 successfully queued for export\n"
          ]
        },
        {
          "name": "stdout",
          "output_type": "stream",
          "text": [
            "2025-10-02 14:39:40 - INFO - novaeval.evaluators.agent_evaluator - Saving intermediate results after 10 samples\n",
            "2025-10-02 14:39:40 - INFO - novaeval.evaluators.agent_evaluator - Intermediate results saved to demo_results/email_gen_send_dataset/agent_evaluation_results.csv\n"
          ]
        },
        {
          "name": "stderr",
          "output_type": "stream",
          "text": [
            "Evaluating samples: 10it [00:40,  3.95s/it]"
          ]
        },
        {
          "name": "stdout",
          "output_type": "stream",
          "text": [
            "2025-10-02 14:39:40 - INFO - google_genai.models - AFC is enabled with max remote calls: 10.\n",
            "2025-10-02 14:39:41 - INFO - google_genai.models - AFC remote call 1 is done.\n"
          ]
        },
        {
          "name": "stderr",
          "output_type": "stream",
          "text": [
            "2025-10-02 14:39:41 - noveum_trace.transport.http_transport - INFO - 📤 EXPORTING TRACE: auto_trace_generate (ID: 01576b97-a325-4e2c-a43e-d538a9f59a8e) - 1 spans\n",
            "2025-10-02 14:39:41 - noveum_trace.transport.batch_processor - INFO - 📥 ADDING TRACE TO QUEUE: auto_trace_generate (ID: 01576b97-a325-4e2c-a43e-d538a9f59a8e) - 1 spans\n",
            "2025-10-02 14:39:41 - noveum_trace.transport.batch_processor - INFO - ✅ Successfully queued trace 01576b97-a325-4e2c-a43e-d538a9f59a8e\n",
            "2025-10-02 14:39:41 - noveum_trace.transport.http_transport - INFO - ✅ Trace 01576b97-a325-4e2c-a43e-d538a9f59a8e successfully queued for export\n"
          ]
        },
        {
          "name": "stdout",
          "output_type": "stream",
          "text": [
            "2025-10-02 14:39:41 - INFO - google_genai.models - AFC is enabled with max remote calls: 10.\n",
            "2025-10-02 14:39:42 - INFO - google_genai.models - AFC remote call 1 is done.\n"
          ]
        },
        {
          "name": "stderr",
          "output_type": "stream",
          "text": [
            "2025-10-02 14:39:42 - noveum_trace.transport.http_transport - INFO - 📤 EXPORTING TRACE: auto_trace_generate (ID: 958b0276-97c3-4e55-9928-c92252ea2dde) - 1 spans\n",
            "2025-10-02 14:39:42 - noveum_trace.transport.batch_processor - INFO - 📥 ADDING TRACE TO QUEUE: auto_trace_generate (ID: 958b0276-97c3-4e55-9928-c92252ea2dde) - 1 spans\n",
            "2025-10-02 14:39:42 - noveum_trace.transport.batch_processor - INFO - ✅ Successfully queued trace 958b0276-97c3-4e55-9928-c92252ea2dde\n",
            "2025-10-02 14:39:42 - noveum_trace.transport.http_transport - INFO - ✅ Trace 958b0276-97c3-4e55-9928-c92252ea2dde successfully queued for export\n"
          ]
        },
        {
          "name": "stdout",
          "output_type": "stream",
          "text": [
            "2025-10-02 14:39:42 - INFO - google_genai.models - AFC is enabled with max remote calls: 10.\n",
            "2025-10-02 14:39:43 - INFO - google_genai.models - AFC remote call 1 is done.\n"
          ]
        },
        {
          "name": "stderr",
          "output_type": "stream",
          "text": [
            "2025-10-02 14:39:43 - noveum_trace.transport.http_transport - INFO - 📤 EXPORTING TRACE: auto_trace_generate (ID: f33aed56-517f-426b-8aab-b30afe2e8440) - 1 spans\n",
            "2025-10-02 14:39:43 - noveum_trace.transport.batch_processor - INFO - 📥 ADDING TRACE TO QUEUE: auto_trace_generate (ID: f33aed56-517f-426b-8aab-b30afe2e8440) - 1 spans\n",
            "2025-10-02 14:39:43 - noveum_trace.transport.batch_processor - INFO - ✅ Successfully queued trace f33aed56-517f-426b-8aab-b30afe2e8440\n",
            "2025-10-02 14:39:43 - noveum_trace.transport.http_transport - INFO - ✅ Trace f33aed56-517f-426b-8aab-b30afe2e8440 successfully queued for export\n"
          ]
        },
        {
          "name": "stdout",
          "output_type": "stream",
          "text": [
            "2025-10-02 14:39:43 - INFO - novaeval.evaluators.agent_evaluator - Saving intermediate results after 11 samples\n",
            "2025-10-02 14:39:43 - INFO - novaeval.evaluators.agent_evaluator - Intermediate results saved to demo_results/email_gen_send_dataset/agent_evaluation_results.csv\n"
          ]
        },
        {
          "name": "stderr",
          "output_type": "stream",
          "text": [
            "Evaluating samples: 11it [00:43,  3.82s/it]"
          ]
        },
        {
          "name": "stdout",
          "output_type": "stream",
          "text": [
            "2025-10-02 14:39:43 - INFO - google_genai.models - AFC is enabled with max remote calls: 10.\n",
            "2025-10-02 14:39:45 - INFO - google_genai.models - AFC remote call 1 is done.\n"
          ]
        },
        {
          "name": "stderr",
          "output_type": "stream",
          "text": [
            "2025-10-02 14:39:45 - noveum_trace.transport.http_transport - INFO - 📤 EXPORTING TRACE: auto_trace_generate (ID: 35fc955b-994e-448a-97c3-645495541349) - 1 spans\n",
            "2025-10-02 14:39:45 - noveum_trace.transport.batch_processor - INFO - 📥 ADDING TRACE TO QUEUE: auto_trace_generate (ID: 35fc955b-994e-448a-97c3-645495541349) - 1 spans\n",
            "2025-10-02 14:39:45 - noveum_trace.transport.batch_processor - INFO - ✅ Successfully queued trace 35fc955b-994e-448a-97c3-645495541349\n",
            "2025-10-02 14:39:45 - noveum_trace.transport.http_transport - INFO - ✅ Trace 35fc955b-994e-448a-97c3-645495541349 successfully queued for export\n"
          ]
        },
        {
          "name": "stdout",
          "output_type": "stream",
          "text": [
            "2025-10-02 14:39:45 - INFO - google_genai.models - AFC is enabled with max remote calls: 10.\n",
            "2025-10-02 14:39:46 - INFO - google_genai.models - AFC remote call 1 is done.\n"
          ]
        },
        {
          "name": "stderr",
          "output_type": "stream",
          "text": [
            "2025-10-02 14:39:46 - noveum_trace.transport.http_transport - INFO - 📤 EXPORTING TRACE: auto_trace_generate (ID: 44321606-9e20-4874-98df-df75de83ab41) - 1 spans\n",
            "2025-10-02 14:39:46 - noveum_trace.transport.batch_processor - INFO - 📥 ADDING TRACE TO QUEUE: auto_trace_generate (ID: 44321606-9e20-4874-98df-df75de83ab41) - 1 spans\n",
            "2025-10-02 14:39:46 - noveum_trace.transport.batch_processor - INFO - ✅ Successfully queued trace 44321606-9e20-4874-98df-df75de83ab41\n",
            "2025-10-02 14:39:46 - noveum_trace.transport.http_transport - INFO - ✅ Trace 44321606-9e20-4874-98df-df75de83ab41 successfully queued for export\n"
          ]
        },
        {
          "name": "stdout",
          "output_type": "stream",
          "text": [
            "2025-10-02 14:39:46 - INFO - google_genai.models - AFC is enabled with max remote calls: 10.\n",
            "2025-10-02 14:39:48 - INFO - google_genai.models - AFC remote call 1 is done.\n"
          ]
        },
        {
          "name": "stderr",
          "output_type": "stream",
          "text": [
            "2025-10-02 14:39:48 - noveum_trace.transport.http_transport - INFO - 📤 EXPORTING TRACE: auto_trace_generate (ID: ed9e0fe7-373a-4fc6-98fd-362f1e4f3f44) - 1 spans\n",
            "2025-10-02 14:39:48 - noveum_trace.transport.batch_processor - INFO - 📥 ADDING TRACE TO QUEUE: auto_trace_generate (ID: ed9e0fe7-373a-4fc6-98fd-362f1e4f3f44) - 1 spans\n",
            "2025-10-02 14:39:48 - noveum_trace.transport.batch_processor - INFO - ✅ Successfully queued trace ed9e0fe7-373a-4fc6-98fd-362f1e4f3f44\n",
            "2025-10-02 14:39:48 - noveum_trace.transport.http_transport - INFO - ✅ Trace ed9e0fe7-373a-4fc6-98fd-362f1e4f3f44 successfully queued for export\n"
          ]
        },
        {
          "name": "stdout",
          "output_type": "stream",
          "text": [
            "2025-10-02 14:39:48 - INFO - novaeval.evaluators.agent_evaluator - Saving intermediate results after 12 samples\n",
            "2025-10-02 14:39:48 - INFO - novaeval.evaluators.agent_evaluator - Intermediate results saved to demo_results/email_gen_send_dataset/agent_evaluation_results.csv\n"
          ]
        },
        {
          "name": "stderr",
          "output_type": "stream",
          "text": [
            "Evaluating samples: 12it [00:48,  3.97s/it]"
          ]
        },
        {
          "name": "stdout",
          "output_type": "stream",
          "text": [
            "2025-10-02 14:39:48 - INFO - google_genai.models - AFC is enabled with max remote calls: 10.\n",
            "2025-10-02 14:39:49 - INFO - google_genai.models - AFC remote call 1 is done.\n"
          ]
        },
        {
          "name": "stderr",
          "output_type": "stream",
          "text": [
            "2025-10-02 14:39:49 - noveum_trace.transport.http_transport - INFO - 📤 EXPORTING TRACE: auto_trace_generate (ID: ea462fc2-642f-42ff-8624-59adb74ea87b) - 1 spans\n",
            "2025-10-02 14:39:49 - noveum_trace.transport.batch_processor - INFO - 📥 ADDING TRACE TO QUEUE: auto_trace_generate (ID: ea462fc2-642f-42ff-8624-59adb74ea87b) - 1 spans\n",
            "2025-10-02 14:39:49 - noveum_trace.transport.batch_processor - INFO - ✅ Successfully queued trace ea462fc2-642f-42ff-8624-59adb74ea87b\n",
            "2025-10-02 14:39:49 - noveum_trace.transport.http_transport - INFO - ✅ Trace ea462fc2-642f-42ff-8624-59adb74ea87b successfully queued for export\n"
          ]
        },
        {
          "name": "stdout",
          "output_type": "stream",
          "text": [
            "2025-10-02 14:39:49 - INFO - google_genai.models - AFC is enabled with max remote calls: 10.\n",
            "2025-10-02 14:39:51 - INFO - google_genai.models - AFC remote call 1 is done.\n"
          ]
        },
        {
          "name": "stderr",
          "output_type": "stream",
          "text": [
            "2025-10-02 14:39:51 - noveum_trace.transport.http_transport - INFO - 📤 EXPORTING TRACE: auto_trace_generate (ID: ff6e3dcd-c871-4d0e-b1c8-5f28748788a8) - 1 spans\n",
            "2025-10-02 14:39:51 - noveum_trace.transport.batch_processor - INFO - 📥 ADDING TRACE TO QUEUE: auto_trace_generate (ID: ff6e3dcd-c871-4d0e-b1c8-5f28748788a8) - 1 spans\n",
            "2025-10-02 14:39:51 - noveum_trace.transport.batch_processor - INFO - ✅ Successfully queued trace ff6e3dcd-c871-4d0e-b1c8-5f28748788a8\n",
            "2025-10-02 14:39:51 - noveum_trace.transport.http_transport - INFO - ✅ Trace ff6e3dcd-c871-4d0e-b1c8-5f28748788a8 successfully queued for export\n"
          ]
        },
        {
          "name": "stdout",
          "output_type": "stream",
          "text": [
            "2025-10-02 14:39:51 - INFO - google_genai.models - AFC is enabled with max remote calls: 10.\n",
            "2025-10-02 14:39:52 - INFO - google_genai.models - AFC remote call 1 is done.\n"
          ]
        },
        {
          "name": "stderr",
          "output_type": "stream",
          "text": [
            "2025-10-02 14:39:52 - noveum_trace.transport.http_transport - INFO - 📤 EXPORTING TRACE: auto_trace_generate (ID: e7050e81-50db-489a-adeb-708af1159d37) - 1 spans\n",
            "2025-10-02 14:39:52 - noveum_trace.transport.batch_processor - INFO - 📥 ADDING TRACE TO QUEUE: auto_trace_generate (ID: e7050e81-50db-489a-adeb-708af1159d37) - 1 spans\n",
            "2025-10-02 14:39:52 - noveum_trace.transport.batch_processor - INFO - ✅ Successfully queued trace e7050e81-50db-489a-adeb-708af1159d37\n",
            "2025-10-02 14:39:52 - noveum_trace.transport.http_transport - INFO - ✅ Trace e7050e81-50db-489a-adeb-708af1159d37 successfully queued for export\n"
          ]
        },
        {
          "name": "stdout",
          "output_type": "stream",
          "text": [
            "2025-10-02 14:39:52 - INFO - novaeval.evaluators.agent_evaluator - Saving intermediate results after 13 samples\n",
            "2025-10-02 14:39:52 - INFO - novaeval.evaluators.agent_evaluator - Intermediate results saved to demo_results/email_gen_send_dataset/agent_evaluation_results.csv\n"
          ]
        },
        {
          "name": "stderr",
          "output_type": "stream",
          "text": [
            "Evaluating samples: 13it [00:52,  4.01s/it]"
          ]
        },
        {
          "name": "stdout",
          "output_type": "stream",
          "text": [
            "2025-10-02 14:39:52 - INFO - google_genai.models - AFC is enabled with max remote calls: 10.\n",
            "2025-10-02 14:39:54 - INFO - google_genai.models - AFC remote call 1 is done.\n"
          ]
        },
        {
          "name": "stderr",
          "output_type": "stream",
          "text": [
            "2025-10-02 14:39:54 - noveum_trace.transport.http_transport - INFO - 📤 EXPORTING TRACE: auto_trace_generate (ID: a0d5d377-443b-42bd-a405-f261e418be28) - 1 spans\n",
            "2025-10-02 14:39:54 - noveum_trace.transport.batch_processor - INFO - 📥 ADDING TRACE TO QUEUE: auto_trace_generate (ID: a0d5d377-443b-42bd-a405-f261e418be28) - 1 spans\n",
            "2025-10-02 14:39:54 - noveum_trace.transport.batch_processor - INFO - ✅ Successfully queued trace a0d5d377-443b-42bd-a405-f261e418be28\n",
            "2025-10-02 14:39:54 - noveum_trace.transport.http_transport - INFO - ✅ Trace a0d5d377-443b-42bd-a405-f261e418be28 successfully queued for export\n"
          ]
        },
        {
          "name": "stdout",
          "output_type": "stream",
          "text": [
            "2025-10-02 14:39:54 - INFO - google_genai.models - AFC is enabled with max remote calls: 10.\n",
            "2025-10-02 14:39:55 - INFO - google_genai.models - AFC remote call 1 is done.\n"
          ]
        },
        {
          "name": "stderr",
          "output_type": "stream",
          "text": [
            "2025-10-02 14:39:55 - noveum_trace.transport.http_transport - INFO - 📤 EXPORTING TRACE: auto_trace_generate (ID: 6f730ae8-4ea7-4f26-b429-376a47f7ed93) - 1 spans\n",
            "2025-10-02 14:39:55 - noveum_trace.transport.batch_processor - INFO - 📥 ADDING TRACE TO QUEUE: auto_trace_generate (ID: 6f730ae8-4ea7-4f26-b429-376a47f7ed93) - 1 spans\n",
            "2025-10-02 14:39:55 - noveum_trace.transport.batch_processor - INFO - ✅ Successfully queued trace 6f730ae8-4ea7-4f26-b429-376a47f7ed93\n",
            "2025-10-02 14:39:55 - noveum_trace.transport.http_transport - INFO - ✅ Trace 6f730ae8-4ea7-4f26-b429-376a47f7ed93 successfully queued for export\n"
          ]
        },
        {
          "name": "stdout",
          "output_type": "stream",
          "text": [
            "2025-10-02 14:39:55 - INFO - google_genai.models - AFC is enabled with max remote calls: 10.\n",
            "2025-10-02 14:39:56 - INFO - google_genai.models - AFC remote call 1 is done.\n"
          ]
        },
        {
          "name": "stderr",
          "output_type": "stream",
          "text": [
            "2025-10-02 14:39:56 - noveum_trace.transport.http_transport - INFO - 📤 EXPORTING TRACE: auto_trace_generate (ID: a918cfbc-6e93-421d-b200-d549b949c439) - 1 spans\n",
            "2025-10-02 14:39:56 - noveum_trace.transport.batch_processor - INFO - 📥 ADDING TRACE TO QUEUE: auto_trace_generate (ID: a918cfbc-6e93-421d-b200-d549b949c439) - 1 spans\n",
            "2025-10-02 14:39:56 - noveum_trace.transport.batch_processor - INFO - ✅ Successfully queued trace a918cfbc-6e93-421d-b200-d549b949c439\n",
            "2025-10-02 14:39:56 - noveum_trace.transport.http_transport - INFO - ✅ Trace a918cfbc-6e93-421d-b200-d549b949c439 successfully queued for export\n"
          ]
        },
        {
          "name": "stdout",
          "output_type": "stream",
          "text": [
            "2025-10-02 14:39:56 - INFO - novaeval.evaluators.agent_evaluator - Saving intermediate results after 14 samples\n",
            "2025-10-02 14:39:56 - INFO - novaeval.evaluators.agent_evaluator - Intermediate results saved to demo_results/email_gen_send_dataset/agent_evaluation_results.csv\n"
          ]
        },
        {
          "name": "stderr",
          "output_type": "stream",
          "text": [
            "Evaluating samples: 14it [00:56,  4.16s/it]"
          ]
        },
        {
          "name": "stdout",
          "output_type": "stream",
          "text": [
            "2025-10-02 14:39:56 - INFO - google_genai.models - AFC is enabled with max remote calls: 10.\n",
            "2025-10-02 14:39:58 - INFO - google_genai.models - AFC remote call 1 is done.\n"
          ]
        },
        {
          "name": "stderr",
          "output_type": "stream",
          "text": [
            "2025-10-02 14:39:58 - noveum_trace.transport.http_transport - INFO - 📤 EXPORTING TRACE: auto_trace_generate (ID: 4c7c8e47-dd80-464f-96b9-1f4339861874) - 1 spans\n",
            "2025-10-02 14:39:58 - noveum_trace.transport.batch_processor - INFO - 📥 ADDING TRACE TO QUEUE: auto_trace_generate (ID: 4c7c8e47-dd80-464f-96b9-1f4339861874) - 1 spans\n",
            "2025-10-02 14:39:58 - noveum_trace.transport.batch_processor - INFO - ✅ Successfully queued trace 4c7c8e47-dd80-464f-96b9-1f4339861874\n",
            "2025-10-02 14:39:58 - noveum_trace.transport.http_transport - INFO - ✅ Trace 4c7c8e47-dd80-464f-96b9-1f4339861874 successfully queued for export\n"
          ]
        },
        {
          "name": "stdout",
          "output_type": "stream",
          "text": [
            "2025-10-02 14:39:58 - INFO - google_genai.models - AFC is enabled with max remote calls: 10.\n",
            "2025-10-02 14:39:59 - INFO - google_genai.models - AFC remote call 1 is done.\n"
          ]
        },
        {
          "name": "stderr",
          "output_type": "stream",
          "text": [
            "2025-10-02 14:39:59 - noveum_trace.transport.http_transport - INFO - 📤 EXPORTING TRACE: auto_trace_generate (ID: e33e7837-9096-4edf-8289-01ee131ab6eb) - 1 spans\n",
            "2025-10-02 14:39:59 - noveum_trace.transport.batch_processor - INFO - 📥 ADDING TRACE TO QUEUE: auto_trace_generate (ID: e33e7837-9096-4edf-8289-01ee131ab6eb) - 1 spans\n",
            "2025-10-02 14:39:59 - noveum_trace.transport.batch_processor - INFO - ✅ Successfully queued trace e33e7837-9096-4edf-8289-01ee131ab6eb\n",
            "2025-10-02 14:39:59 - noveum_trace.transport.http_transport - INFO - ✅ Trace e33e7837-9096-4edf-8289-01ee131ab6eb successfully queued for export\n"
          ]
        },
        {
          "name": "stdout",
          "output_type": "stream",
          "text": [
            "2025-10-02 14:39:59 - INFO - google_genai.models - AFC is enabled with max remote calls: 10.\n",
            "2025-10-02 14:40:00 - INFO - google_genai.models - AFC remote call 1 is done.\n"
          ]
        },
        {
          "name": "stderr",
          "output_type": "stream",
          "text": [
            "2025-10-02 14:40:00 - noveum_trace.transport.http_transport - INFO - 📤 EXPORTING TRACE: auto_trace_generate (ID: 33417291-58b8-4fda-ab47-ea9e4e301b9e) - 1 spans\n",
            "2025-10-02 14:40:00 - noveum_trace.transport.batch_processor - INFO - 📥 ADDING TRACE TO QUEUE: auto_trace_generate (ID: 33417291-58b8-4fda-ab47-ea9e4e301b9e) - 1 spans\n",
            "2025-10-02 14:40:00 - noveum_trace.transport.batch_processor - INFO - ✅ Successfully queued trace 33417291-58b8-4fda-ab47-ea9e4e301b9e\n",
            "2025-10-02 14:40:00 - noveum_trace.transport.http_transport - INFO - ✅ Trace 33417291-58b8-4fda-ab47-ea9e4e301b9e successfully queued for export\n"
          ]
        },
        {
          "name": "stdout",
          "output_type": "stream",
          "text": [
            "2025-10-02 14:40:00 - INFO - novaeval.evaluators.agent_evaluator - Saving intermediate results after 15 samples\n",
            "2025-10-02 14:40:00 - INFO - novaeval.evaluators.agent_evaluator - Intermediate results saved to demo_results/email_gen_send_dataset/agent_evaluation_results.csv\n"
          ]
        },
        {
          "name": "stderr",
          "output_type": "stream",
          "text": [
            "Evaluating samples: 15it [01:00,  4.10s/it]"
          ]
        },
        {
          "name": "stdout",
          "output_type": "stream",
          "text": [
            "2025-10-02 14:40:00 - INFO - google_genai.models - AFC is enabled with max remote calls: 10.\n",
            "2025-10-02 14:40:02 - INFO - google_genai.models - AFC remote call 1 is done.\n"
          ]
        },
        {
          "name": "stderr",
          "output_type": "stream",
          "text": [
            "2025-10-02 14:40:02 - noveum_trace.transport.http_transport - INFO - 📤 EXPORTING TRACE: auto_trace_generate (ID: 05dd296b-c5e7-4eb7-a95e-3e8a0a4e4ce9) - 1 spans\n",
            "2025-10-02 14:40:02 - noveum_trace.transport.batch_processor - INFO - 📥 ADDING TRACE TO QUEUE: auto_trace_generate (ID: 05dd296b-c5e7-4eb7-a95e-3e8a0a4e4ce9) - 1 spans\n",
            "2025-10-02 14:40:02 - noveum_trace.transport.batch_processor - INFO - ✅ Successfully queued trace 05dd296b-c5e7-4eb7-a95e-3e8a0a4e4ce9\n",
            "2025-10-02 14:40:02 - noveum_trace.transport.http_transport - INFO - ✅ Trace 05dd296b-c5e7-4eb7-a95e-3e8a0a4e4ce9 successfully queued for export\n"
          ]
        },
        {
          "name": "stdout",
          "output_type": "stream",
          "text": [
            "2025-10-02 14:40:02 - INFO - google_genai.models - AFC is enabled with max remote calls: 10.\n",
            "2025-10-02 14:40:03 - INFO - google_genai.models - AFC remote call 1 is done.\n"
          ]
        },
        {
          "name": "stderr",
          "output_type": "stream",
          "text": [
            "2025-10-02 14:40:03 - noveum_trace.transport.http_transport - INFO - 📤 EXPORTING TRACE: auto_trace_generate (ID: dd049351-6311-4dc2-beee-ff337eb6f668) - 1 spans\n",
            "2025-10-02 14:40:03 - noveum_trace.transport.batch_processor - INFO - 📥 ADDING TRACE TO QUEUE: auto_trace_generate (ID: dd049351-6311-4dc2-beee-ff337eb6f668) - 1 spans\n",
            "2025-10-02 14:40:03 - noveum_trace.transport.batch_processor - INFO - ✅ Successfully queued trace dd049351-6311-4dc2-beee-ff337eb6f668\n",
            "2025-10-02 14:40:03 - noveum_trace.transport.http_transport - INFO - ✅ Trace dd049351-6311-4dc2-beee-ff337eb6f668 successfully queued for export\n"
          ]
        },
        {
          "name": "stdout",
          "output_type": "stream",
          "text": [
            "2025-10-02 14:40:03 - INFO - google_genai.models - AFC is enabled with max remote calls: 10.\n",
            "2025-10-02 14:40:04 - INFO - google_genai.models - AFC remote call 1 is done.\n"
          ]
        },
        {
          "name": "stderr",
          "output_type": "stream",
          "text": [
            "2025-10-02 14:40:04 - noveum_trace.transport.http_transport - INFO - 📤 EXPORTING TRACE: auto_trace_generate (ID: 91df72f6-7533-45cc-aec4-da219b663c0d) - 1 spans\n",
            "2025-10-02 14:40:04 - noveum_trace.transport.batch_processor - INFO - 📥 ADDING TRACE TO QUEUE: auto_trace_generate (ID: 91df72f6-7533-45cc-aec4-da219b663c0d) - 1 spans\n",
            "2025-10-02 14:40:04 - noveum_trace.transport.batch_processor - INFO - ✅ Successfully queued trace 91df72f6-7533-45cc-aec4-da219b663c0d\n",
            "2025-10-02 14:40:04 - noveum_trace.transport.http_transport - INFO - ✅ Trace 91df72f6-7533-45cc-aec4-da219b663c0d successfully queued for export\n"
          ]
        },
        {
          "name": "stdout",
          "output_type": "stream",
          "text": [
            "2025-10-02 14:40:04 - INFO - novaeval.evaluators.agent_evaluator - Saving intermediate results after 16 samples\n",
            "2025-10-02 14:40:04 - INFO - novaeval.evaluators.agent_evaluator - Intermediate results saved to demo_results/email_gen_send_dataset/agent_evaluation_results.csv\n"
          ]
        },
        {
          "name": "stderr",
          "output_type": "stream",
          "text": [
            "Evaluating samples: 16it [01:04,  4.06s/it]"
          ]
        },
        {
          "name": "stdout",
          "output_type": "stream",
          "text": [
            "2025-10-02 14:40:04 - INFO - google_genai.models - AFC is enabled with max remote calls: 10.\n",
            "2025-10-02 14:40:06 - INFO - google_genai.models - AFC remote call 1 is done.\n"
          ]
        },
        {
          "name": "stderr",
          "output_type": "stream",
          "text": [
            "2025-10-02 14:40:06 - noveum_trace.transport.http_transport - INFO - 📤 EXPORTING TRACE: auto_trace_generate (ID: b248bce9-ff23-45c1-80e4-2d8cf6cccaa1) - 1 spans\n",
            "2025-10-02 14:40:06 - noveum_trace.transport.batch_processor - INFO - 📥 ADDING TRACE TO QUEUE: auto_trace_generate (ID: b248bce9-ff23-45c1-80e4-2d8cf6cccaa1) - 1 spans\n",
            "2025-10-02 14:40:06 - noveum_trace.transport.batch_processor - INFO - ✅ Successfully queued trace b248bce9-ff23-45c1-80e4-2d8cf6cccaa1\n",
            "2025-10-02 14:40:06 - noveum_trace.transport.http_transport - INFO - ✅ Trace b248bce9-ff23-45c1-80e4-2d8cf6cccaa1 successfully queued for export\n"
          ]
        },
        {
          "name": "stdout",
          "output_type": "stream",
          "text": [
            "2025-10-02 14:40:06 - INFO - google_genai.models - AFC is enabled with max remote calls: 10.\n",
            "2025-10-02 14:40:07 - INFO - google_genai.models - AFC remote call 1 is done.\n"
          ]
        },
        {
          "name": "stderr",
          "output_type": "stream",
          "text": [
            "2025-10-02 14:40:07 - noveum_trace.transport.http_transport - INFO - 📤 EXPORTING TRACE: auto_trace_generate (ID: 377b20b2-6a2b-4234-9644-13f4c13c5482) - 1 spans\n",
            "2025-10-02 14:40:07 - noveum_trace.transport.batch_processor - INFO - 📥 ADDING TRACE TO QUEUE: auto_trace_generate (ID: 377b20b2-6a2b-4234-9644-13f4c13c5482) - 1 spans\n",
            "2025-10-02 14:40:07 - noveum_trace.transport.batch_processor - INFO - ✅ Successfully queued trace 377b20b2-6a2b-4234-9644-13f4c13c5482\n",
            "2025-10-02 14:40:07 - noveum_trace.transport.http_transport - INFO - ✅ Trace 377b20b2-6a2b-4234-9644-13f4c13c5482 successfully queued for export\n"
          ]
        },
        {
          "name": "stdout",
          "output_type": "stream",
          "text": [
            "2025-10-02 14:40:07 - INFO - google_genai.models - AFC is enabled with max remote calls: 10.\n",
            "2025-10-02 14:40:08 - INFO - google_genai.models - AFC remote call 1 is done.\n"
          ]
        },
        {
          "name": "stderr",
          "output_type": "stream",
          "text": [
            "2025-10-02 14:40:08 - noveum_trace.transport.http_transport - INFO - 📤 EXPORTING TRACE: auto_trace_generate (ID: c7099c1d-7350-4dd5-91a6-e88160df3d10) - 1 spans\n",
            "2025-10-02 14:40:08 - noveum_trace.transport.batch_processor - INFO - 📥 ADDING TRACE TO QUEUE: auto_trace_generate (ID: c7099c1d-7350-4dd5-91a6-e88160df3d10) - 1 spans\n",
            "2025-10-02 14:40:08 - noveum_trace.transport.batch_processor - INFO - ✅ Successfully queued trace c7099c1d-7350-4dd5-91a6-e88160df3d10\n",
            "2025-10-02 14:40:08 - noveum_trace.transport.http_transport - INFO - ✅ Trace c7099c1d-7350-4dd5-91a6-e88160df3d10 successfully queued for export\n"
          ]
        },
        {
          "name": "stdout",
          "output_type": "stream",
          "text": [
            "2025-10-02 14:40:08 - INFO - novaeval.evaluators.agent_evaluator - Saving intermediate results after 17 samples\n",
            "2025-10-02 14:40:08 - INFO - novaeval.evaluators.agent_evaluator - Intermediate results saved to demo_results/email_gen_send_dataset/agent_evaluation_results.csv\n"
          ]
        },
        {
          "name": "stderr",
          "output_type": "stream",
          "text": [
            "Evaluating samples: 17it [01:08,  4.03s/it]"
          ]
        },
        {
          "name": "stdout",
          "output_type": "stream",
          "text": [
            "2025-10-02 14:40:08 - INFO - google_genai.models - AFC is enabled with max remote calls: 10.\n",
            "2025-10-02 14:40:10 - INFO - google_genai.models - AFC remote call 1 is done.\n"
          ]
        },
        {
          "name": "stderr",
          "output_type": "stream",
          "text": [
            "2025-10-02 14:40:10 - noveum_trace.transport.http_transport - INFO - 📤 EXPORTING TRACE: auto_trace_generate (ID: d0282614-843a-492a-86f0-25b8f4777d47) - 1 spans\n",
            "2025-10-02 14:40:10 - noveum_trace.transport.batch_processor - INFO - 📥 ADDING TRACE TO QUEUE: auto_trace_generate (ID: d0282614-843a-492a-86f0-25b8f4777d47) - 1 spans\n",
            "2025-10-02 14:40:10 - noveum_trace.transport.batch_processor - INFO - ✅ Successfully queued trace d0282614-843a-492a-86f0-25b8f4777d47\n",
            "2025-10-02 14:40:10 - noveum_trace.transport.http_transport - INFO - ✅ Trace d0282614-843a-492a-86f0-25b8f4777d47 successfully queued for export\n"
          ]
        },
        {
          "name": "stdout",
          "output_type": "stream",
          "text": [
            "2025-10-02 14:40:10 - INFO - google_genai.models - AFC is enabled with max remote calls: 10.\n",
            "2025-10-02 14:40:11 - INFO - google_genai.models - AFC remote call 1 is done.\n"
          ]
        },
        {
          "name": "stderr",
          "output_type": "stream",
          "text": [
            "2025-10-02 14:40:11 - noveum_trace.transport.http_transport - INFO - 📤 EXPORTING TRACE: auto_trace_generate (ID: 7cc2226c-16c9-456d-a630-34fbd30db839) - 1 spans\n",
            "2025-10-02 14:40:11 - noveum_trace.transport.batch_processor - INFO - 📥 ADDING TRACE TO QUEUE: auto_trace_generate (ID: 7cc2226c-16c9-456d-a630-34fbd30db839) - 1 spans\n",
            "2025-10-02 14:40:11 - noveum_trace.transport.batch_processor - INFO - ✅ Successfully queued trace 7cc2226c-16c9-456d-a630-34fbd30db839\n",
            "2025-10-02 14:40:11 - noveum_trace.transport.http_transport - INFO - ✅ Trace 7cc2226c-16c9-456d-a630-34fbd30db839 successfully queued for export\n"
          ]
        },
        {
          "name": "stdout",
          "output_type": "stream",
          "text": [
            "2025-10-02 14:40:11 - INFO - google_genai.models - AFC is enabled with max remote calls: 10.\n",
            "2025-10-02 14:40:12 - INFO - google_genai.models - AFC remote call 1 is done.\n"
          ]
        },
        {
          "name": "stderr",
          "output_type": "stream",
          "text": [
            "2025-10-02 14:40:12 - noveum_trace.transport.http_transport - INFO - 📤 EXPORTING TRACE: auto_trace_generate (ID: 632798f5-b044-4cac-8bc7-d0fe7e30760e) - 1 spans\n",
            "2025-10-02 14:40:12 - noveum_trace.transport.batch_processor - INFO - 📥 ADDING TRACE TO QUEUE: auto_trace_generate (ID: 632798f5-b044-4cac-8bc7-d0fe7e30760e) - 1 spans\n",
            "2025-10-02 14:40:12 - noveum_trace.transport.batch_processor - INFO - ✅ Successfully queued trace 632798f5-b044-4cac-8bc7-d0fe7e30760e\n",
            "2025-10-02 14:40:12 - noveum_trace.transport.http_transport - INFO - ✅ Trace 632798f5-b044-4cac-8bc7-d0fe7e30760e successfully queued for export\n"
          ]
        },
        {
          "name": "stdout",
          "output_type": "stream",
          "text": [
            "2025-10-02 14:40:12 - INFO - novaeval.evaluators.agent_evaluator - Saving intermediate results after 18 samples\n",
            "2025-10-02 14:40:12 - INFO - novaeval.evaluators.agent_evaluator - Intermediate results saved to demo_results/email_gen_send_dataset/agent_evaluation_results.csv\n"
          ]
        },
        {
          "name": "stderr",
          "output_type": "stream",
          "text": [
            "Evaluating samples: 18it [01:12,  4.05s/it]"
          ]
        },
        {
          "name": "stdout",
          "output_type": "stream",
          "text": [
            "2025-10-02 14:40:12 - INFO - google_genai.models - AFC is enabled with max remote calls: 10.\n",
            "2025-10-02 14:40:14 - INFO - google_genai.models - AFC remote call 1 is done.\n"
          ]
        },
        {
          "name": "stderr",
          "output_type": "stream",
          "text": [
            "2025-10-02 14:40:14 - noveum_trace.transport.http_transport - INFO - 📤 EXPORTING TRACE: auto_trace_generate (ID: 9e5a77d4-2d3a-4292-ba7d-64b64304bb8c) - 1 spans\n",
            "2025-10-02 14:40:14 - noveum_trace.transport.batch_processor - INFO - 📥 ADDING TRACE TO QUEUE: auto_trace_generate (ID: 9e5a77d4-2d3a-4292-ba7d-64b64304bb8c) - 1 spans\n",
            "2025-10-02 14:40:14 - noveum_trace.transport.batch_processor - INFO - ✅ Successfully queued trace 9e5a77d4-2d3a-4292-ba7d-64b64304bb8c\n",
            "2025-10-02 14:40:14 - noveum_trace.transport.http_transport - INFO - ✅ Trace 9e5a77d4-2d3a-4292-ba7d-64b64304bb8c successfully queued for export\n"
          ]
        },
        {
          "name": "stdout",
          "output_type": "stream",
          "text": [
            "2025-10-02 14:40:14 - INFO - google_genai.models - AFC is enabled with max remote calls: 10.\n",
            "2025-10-02 14:40:15 - INFO - google_genai.models - AFC remote call 1 is done.\n"
          ]
        },
        {
          "name": "stderr",
          "output_type": "stream",
          "text": [
            "2025-10-02 14:40:15 - noveum_trace.transport.http_transport - INFO - 📤 EXPORTING TRACE: auto_trace_generate (ID: ca4248bd-a5ce-41db-8ea8-311678516df8) - 1 spans\n",
            "2025-10-02 14:40:15 - noveum_trace.transport.batch_processor - INFO - 📥 ADDING TRACE TO QUEUE: auto_trace_generate (ID: ca4248bd-a5ce-41db-8ea8-311678516df8) - 1 spans\n",
            "2025-10-02 14:40:15 - noveum_trace.transport.batch_processor - INFO - ✅ Successfully queued trace ca4248bd-a5ce-41db-8ea8-311678516df8\n",
            "2025-10-02 14:40:15 - noveum_trace.transport.http_transport - INFO - ✅ Trace ca4248bd-a5ce-41db-8ea8-311678516df8 successfully queued for export\n"
          ]
        },
        {
          "name": "stdout",
          "output_type": "stream",
          "text": [
            "2025-10-02 14:40:15 - INFO - google_genai.models - AFC is enabled with max remote calls: 10.\n",
            "2025-10-02 14:40:17 - INFO - google_genai.models - AFC remote call 1 is done.\n"
          ]
        },
        {
          "name": "stderr",
          "output_type": "stream",
          "text": [
            "2025-10-02 14:40:17 - noveum_trace.transport.http_transport - INFO - 📤 EXPORTING TRACE: auto_trace_generate (ID: 628f1851-6b43-42f1-8b51-4df16616e73b) - 1 spans\n",
            "2025-10-02 14:40:17 - noveum_trace.transport.batch_processor - INFO - 📥 ADDING TRACE TO QUEUE: auto_trace_generate (ID: 628f1851-6b43-42f1-8b51-4df16616e73b) - 1 spans\n",
            "2025-10-02 14:40:17 - noveum_trace.transport.batch_processor - INFO - ✅ Successfully queued trace 628f1851-6b43-42f1-8b51-4df16616e73b\n",
            "2025-10-02 14:40:17 - noveum_trace.transport.http_transport - INFO - ✅ Trace 628f1851-6b43-42f1-8b51-4df16616e73b successfully queued for export\n"
          ]
        },
        {
          "name": "stdout",
          "output_type": "stream",
          "text": [
            "2025-10-02 14:40:17 - INFO - novaeval.evaluators.agent_evaluator - Saving intermediate results after 19 samples\n",
            "2025-10-02 14:40:17 - INFO - novaeval.evaluators.agent_evaluator - Intermediate results saved to demo_results/email_gen_send_dataset/agent_evaluation_results.csv\n"
          ]
        },
        {
          "name": "stderr",
          "output_type": "stream",
          "text": [
            "Evaluating samples: 19it [01:16,  4.09s/it]"
          ]
        },
        {
          "name": "stdout",
          "output_type": "stream",
          "text": [
            "2025-10-02 14:40:17 - INFO - google_genai.models - AFC is enabled with max remote calls: 10.\n",
            "2025-10-02 14:40:18 - INFO - google_genai.models - AFC remote call 1 is done.\n"
          ]
        },
        {
          "name": "stderr",
          "output_type": "stream",
          "text": [
            "2025-10-02 14:40:18 - noveum_trace.transport.http_transport - INFO - 📤 EXPORTING TRACE: auto_trace_generate (ID: eb08918d-d2dd-4cd3-8e59-8dd36c4fea80) - 1 spans\n",
            "2025-10-02 14:40:18 - noveum_trace.transport.batch_processor - INFO - 📥 ADDING TRACE TO QUEUE: auto_trace_generate (ID: eb08918d-d2dd-4cd3-8e59-8dd36c4fea80) - 1 spans\n",
            "2025-10-02 14:40:18 - noveum_trace.transport.batch_processor - INFO - ✅ Successfully queued trace eb08918d-d2dd-4cd3-8e59-8dd36c4fea80\n",
            "2025-10-02 14:40:18 - noveum_trace.transport.http_transport - INFO - ✅ Trace eb08918d-d2dd-4cd3-8e59-8dd36c4fea80 successfully queued for export\n"
          ]
        },
        {
          "name": "stdout",
          "output_type": "stream",
          "text": [
            "2025-10-02 14:40:18 - INFO - google_genai.models - AFC is enabled with max remote calls: 10.\n",
            "2025-10-02 14:40:19 - INFO - google_genai.models - AFC remote call 1 is done.\n"
          ]
        },
        {
          "name": "stderr",
          "output_type": "stream",
          "text": [
            "2025-10-02 14:40:19 - noveum_trace.transport.http_transport - INFO - 📤 EXPORTING TRACE: auto_trace_generate (ID: a4ffd193-3f23-404a-a0d3-839c380dd488) - 1 spans\n",
            "2025-10-02 14:40:19 - noveum_trace.transport.batch_processor - INFO - 📥 ADDING TRACE TO QUEUE: auto_trace_generate (ID: a4ffd193-3f23-404a-a0d3-839c380dd488) - 1 spans\n",
            "2025-10-02 14:40:19 - noveum_trace.transport.batch_processor - INFO - ✅ Successfully queued trace a4ffd193-3f23-404a-a0d3-839c380dd488\n",
            "2025-10-02 14:40:19 - noveum_trace.transport.http_transport - INFO - ✅ Trace a4ffd193-3f23-404a-a0d3-839c380dd488 successfully queued for export\n"
          ]
        },
        {
          "name": "stdout",
          "output_type": "stream",
          "text": [
            "2025-10-02 14:40:19 - INFO - google_genai.models - AFC is enabled with max remote calls: 10.\n",
            "2025-10-02 14:40:21 - INFO - google_genai.models - AFC remote call 1 is done.\n"
          ]
        },
        {
          "name": "stderr",
          "output_type": "stream",
          "text": [
            "2025-10-02 14:40:21 - noveum_trace.transport.http_transport - INFO - 📤 EXPORTING TRACE: auto_trace_generate (ID: 0bcf6627-f276-4ae6-8831-1f00238d2168) - 1 spans\n",
            "2025-10-02 14:40:21 - noveum_trace.transport.batch_processor - INFO - 📥 ADDING TRACE TO QUEUE: auto_trace_generate (ID: 0bcf6627-f276-4ae6-8831-1f00238d2168) - 1 spans\n",
            "2025-10-02 14:40:21 - noveum_trace.transport.batch_processor - INFO - ✅ Successfully queued trace 0bcf6627-f276-4ae6-8831-1f00238d2168\n",
            "2025-10-02 14:40:21 - noveum_trace.transport.http_transport - INFO - ✅ Trace 0bcf6627-f276-4ae6-8831-1f00238d2168 successfully queued for export\n"
          ]
        },
        {
          "name": "stdout",
          "output_type": "stream",
          "text": [
            "2025-10-02 14:40:21 - INFO - novaeval.evaluators.agent_evaluator - Saving intermediate results after 20 samples\n",
            "2025-10-02 14:40:21 - INFO - novaeval.evaluators.agent_evaluator - Intermediate results saved to demo_results/email_gen_send_dataset/agent_evaluation_results.csv\n"
          ]
        },
        {
          "name": "stderr",
          "output_type": "stream",
          "text": [
            "Evaluating samples: 20it [01:20,  4.07s/it]"
          ]
        },
        {
          "name": "stdout",
          "output_type": "stream",
          "text": [
            "2025-10-02 14:40:21 - INFO - google_genai.models - AFC is enabled with max remote calls: 10.\n",
            "2025-10-02 14:40:22 - INFO - google_genai.models - AFC remote call 1 is done.\n"
          ]
        },
        {
          "name": "stderr",
          "output_type": "stream",
          "text": [
            "2025-10-02 14:40:22 - noveum_trace.transport.http_transport - INFO - 📤 EXPORTING TRACE: auto_trace_generate (ID: cbc63111-a587-481f-a5d0-d11f986d4915) - 1 spans\n",
            "2025-10-02 14:40:22 - noveum_trace.transport.batch_processor - INFO - 📥 ADDING TRACE TO QUEUE: auto_trace_generate (ID: cbc63111-a587-481f-a5d0-d11f986d4915) - 1 spans\n",
            "2025-10-02 14:40:22 - noveum_trace.transport.batch_processor - INFO - ✅ Successfully queued trace cbc63111-a587-481f-a5d0-d11f986d4915\n",
            "2025-10-02 14:40:22 - noveum_trace.transport.http_transport - INFO - ✅ Trace cbc63111-a587-481f-a5d0-d11f986d4915 successfully queued for export\n"
          ]
        },
        {
          "name": "stdout",
          "output_type": "stream",
          "text": [
            "2025-10-02 14:40:22 - INFO - google_genai.models - AFC is enabled with max remote calls: 10.\n",
            "2025-10-02 14:40:24 - INFO - google_genai.models - AFC remote call 1 is done.\n"
          ]
        },
        {
          "name": "stderr",
          "output_type": "stream",
          "text": [
            "2025-10-02 14:40:24 - noveum_trace.transport.http_transport - INFO - 📤 EXPORTING TRACE: auto_trace_generate (ID: c46de54a-477d-4df1-a8dd-24027050da15) - 1 spans\n",
            "2025-10-02 14:40:24 - noveum_trace.transport.batch_processor - INFO - 📥 ADDING TRACE TO QUEUE: auto_trace_generate (ID: c46de54a-477d-4df1-a8dd-24027050da15) - 1 spans\n",
            "2025-10-02 14:40:24 - noveum_trace.transport.batch_processor - INFO - ✅ Successfully queued trace c46de54a-477d-4df1-a8dd-24027050da15\n",
            "2025-10-02 14:40:24 - noveum_trace.transport.http_transport - INFO - ✅ Trace c46de54a-477d-4df1-a8dd-24027050da15 successfully queued for export\n"
          ]
        },
        {
          "name": "stdout",
          "output_type": "stream",
          "text": [
            "2025-10-02 14:40:24 - INFO - google_genai.models - AFC is enabled with max remote calls: 10.\n",
            "2025-10-02 14:40:25 - INFO - google_genai.models - AFC remote call 1 is done.\n"
          ]
        },
        {
          "name": "stderr",
          "output_type": "stream",
          "text": [
            "2025-10-02 14:40:25 - noveum_trace.transport.http_transport - INFO - 📤 EXPORTING TRACE: auto_trace_generate (ID: 75b88b00-a3e0-4280-a6ab-4ff6cab6ca71) - 1 spans\n",
            "2025-10-02 14:40:25 - noveum_trace.transport.batch_processor - INFO - 📥 ADDING TRACE TO QUEUE: auto_trace_generate (ID: 75b88b00-a3e0-4280-a6ab-4ff6cab6ca71) - 1 spans\n",
            "2025-10-02 14:40:25 - noveum_trace.transport.batch_processor - INFO - ✅ Successfully queued trace 75b88b00-a3e0-4280-a6ab-4ff6cab6ca71\n",
            "2025-10-02 14:40:25 - noveum_trace.transport.http_transport - INFO - ✅ Trace 75b88b00-a3e0-4280-a6ab-4ff6cab6ca71 successfully queued for export\n"
          ]
        },
        {
          "name": "stdout",
          "output_type": "stream",
          "text": [
            "2025-10-02 14:40:25 - INFO - novaeval.evaluators.agent_evaluator - Saving intermediate results after 21 samples\n",
            "2025-10-02 14:40:25 - INFO - novaeval.evaluators.agent_evaluator - Intermediate results saved to demo_results/email_gen_send_dataset/agent_evaluation_results.csv\n"
          ]
        },
        {
          "name": "stderr",
          "output_type": "stream",
          "text": [
            "Evaluating samples: 21it [01:25,  4.23s/it]"
          ]
        },
        {
          "name": "stdout",
          "output_type": "stream",
          "text": [
            "2025-10-02 14:40:25 - INFO - google_genai.models - AFC is enabled with max remote calls: 10.\n",
            "2025-10-02 14:40:27 - INFO - google_genai.models - AFC remote call 1 is done.\n"
          ]
        },
        {
          "name": "stderr",
          "output_type": "stream",
          "text": [
            "2025-10-02 14:40:27 - noveum_trace.transport.http_transport - INFO - 📤 EXPORTING TRACE: auto_trace_generate (ID: a13541b8-90e8-4ec4-aaf1-b10e048b6a64) - 1 spans\n",
            "2025-10-02 14:40:27 - noveum_trace.transport.batch_processor - INFO - 📥 ADDING TRACE TO QUEUE: auto_trace_generate (ID: a13541b8-90e8-4ec4-aaf1-b10e048b6a64) - 1 spans\n",
            "2025-10-02 14:40:27 - noveum_trace.transport.batch_processor - INFO - ✅ Successfully queued trace a13541b8-90e8-4ec4-aaf1-b10e048b6a64\n",
            "2025-10-02 14:40:27 - noveum_trace.transport.http_transport - INFO - ✅ Trace a13541b8-90e8-4ec4-aaf1-b10e048b6a64 successfully queued for export\n"
          ]
        },
        {
          "name": "stdout",
          "output_type": "stream",
          "text": [
            "2025-10-02 14:40:27 - INFO - google_genai.models - AFC is enabled with max remote calls: 10.\n",
            "2025-10-02 14:40:28 - INFO - google_genai.models - AFC remote call 1 is done.\n"
          ]
        },
        {
          "name": "stderr",
          "output_type": "stream",
          "text": [
            "2025-10-02 14:40:28 - noveum_trace.transport.http_transport - INFO - 📤 EXPORTING TRACE: auto_trace_generate (ID: 33bb1af5-3e5a-4863-9f4b-c09ef565ec59) - 1 spans\n",
            "2025-10-02 14:40:28 - noveum_trace.transport.batch_processor - INFO - 📥 ADDING TRACE TO QUEUE: auto_trace_generate (ID: 33bb1af5-3e5a-4863-9f4b-c09ef565ec59) - 1 spans\n",
            "2025-10-02 14:40:28 - noveum_trace.transport.batch_processor - INFO - ✅ Successfully queued trace 33bb1af5-3e5a-4863-9f4b-c09ef565ec59\n",
            "2025-10-02 14:40:28 - noveum_trace.transport.http_transport - INFO - ✅ Trace 33bb1af5-3e5a-4863-9f4b-c09ef565ec59 successfully queued for export\n"
          ]
        },
        {
          "name": "stdout",
          "output_type": "stream",
          "text": [
            "2025-10-02 14:40:28 - INFO - google_genai.models - AFC is enabled with max remote calls: 10.\n",
            "2025-10-02 14:40:29 - INFO - google_genai.models - AFC remote call 1 is done.\n"
          ]
        },
        {
          "name": "stderr",
          "output_type": "stream",
          "text": [
            "2025-10-02 14:40:29 - noveum_trace.transport.http_transport - INFO - 📤 EXPORTING TRACE: auto_trace_generate (ID: 148f88bd-b4a0-40c6-be7f-8ded3758f114) - 1 spans\n",
            "2025-10-02 14:40:29 - noveum_trace.transport.batch_processor - INFO - 📥 ADDING TRACE TO QUEUE: auto_trace_generate (ID: 148f88bd-b4a0-40c6-be7f-8ded3758f114) - 1 spans\n",
            "2025-10-02 14:40:29 - noveum_trace.transport.batch_processor - INFO - ✅ Successfully queued trace 148f88bd-b4a0-40c6-be7f-8ded3758f114\n",
            "2025-10-02 14:40:29 - noveum_trace.transport.http_transport - INFO - ✅ Trace 148f88bd-b4a0-40c6-be7f-8ded3758f114 successfully queued for export\n"
          ]
        },
        {
          "name": "stdout",
          "output_type": "stream",
          "text": [
            "2025-10-02 14:40:29 - INFO - novaeval.evaluators.agent_evaluator - Saving intermediate results after 22 samples\n",
            "2025-10-02 14:40:29 - INFO - novaeval.evaluators.agent_evaluator - Intermediate results saved to demo_results/email_gen_send_dataset/agent_evaluation_results.csv\n"
          ]
        },
        {
          "name": "stderr",
          "output_type": "stream",
          "text": [
            "Evaluating samples: 22it [01:29,  4.18s/it]"
          ]
        },
        {
          "name": "stdout",
          "output_type": "stream",
          "text": [
            "2025-10-02 14:40:29 - INFO - google_genai.models - AFC is enabled with max remote calls: 10.\n",
            "2025-10-02 14:40:30 - INFO - google_genai.models - AFC remote call 1 is done.\n"
          ]
        },
        {
          "name": "stderr",
          "output_type": "stream",
          "text": [
            "2025-10-02 14:40:30 - noveum_trace.transport.http_transport - INFO - 📤 EXPORTING TRACE: auto_trace_generate (ID: 370212a4-c09d-4ffa-bf43-458f9c57fd54) - 1 spans\n",
            "2025-10-02 14:40:30 - noveum_trace.transport.batch_processor - INFO - 📥 ADDING TRACE TO QUEUE: auto_trace_generate (ID: 370212a4-c09d-4ffa-bf43-458f9c57fd54) - 1 spans\n",
            "2025-10-02 14:40:30 - noveum_trace.transport.batch_processor - INFO - ✅ Successfully queued trace 370212a4-c09d-4ffa-bf43-458f9c57fd54\n",
            "2025-10-02 14:40:30 - noveum_trace.transport.http_transport - INFO - ✅ Trace 370212a4-c09d-4ffa-bf43-458f9c57fd54 successfully queued for export\n"
          ]
        },
        {
          "name": "stdout",
          "output_type": "stream",
          "text": [
            "2025-10-02 14:40:30 - INFO - google_genai.models - AFC is enabled with max remote calls: 10.\n",
            "2025-10-02 14:40:32 - INFO - google_genai.models - AFC remote call 1 is done.\n"
          ]
        },
        {
          "name": "stderr",
          "output_type": "stream",
          "text": [
            "2025-10-02 14:40:32 - noveum_trace.transport.http_transport - INFO - 📤 EXPORTING TRACE: auto_trace_generate (ID: e74e0e6d-6231-4283-8a38-ba184c841980) - 1 spans\n",
            "2025-10-02 14:40:32 - noveum_trace.transport.batch_processor - INFO - 📥 ADDING TRACE TO QUEUE: auto_trace_generate (ID: e74e0e6d-6231-4283-8a38-ba184c841980) - 1 spans\n",
            "2025-10-02 14:40:32 - noveum_trace.transport.batch_processor - INFO - ✅ Successfully queued trace e74e0e6d-6231-4283-8a38-ba184c841980\n",
            "2025-10-02 14:40:32 - noveum_trace.transport.http_transport - INFO - ✅ Trace e74e0e6d-6231-4283-8a38-ba184c841980 successfully queued for export\n"
          ]
        },
        {
          "name": "stdout",
          "output_type": "stream",
          "text": [
            "2025-10-02 14:40:32 - INFO - google_genai.models - AFC is enabled with max remote calls: 10.\n",
            "2025-10-02 14:40:33 - INFO - google_genai.models - AFC remote call 1 is done.\n"
          ]
        },
        {
          "name": "stderr",
          "output_type": "stream",
          "text": [
            "2025-10-02 14:40:33 - noveum_trace.transport.http_transport - INFO - 📤 EXPORTING TRACE: auto_trace_generate (ID: e3458a51-5419-48cd-8ef3-c1d93d922780) - 1 spans\n",
            "2025-10-02 14:40:33 - noveum_trace.transport.batch_processor - INFO - 📥 ADDING TRACE TO QUEUE: auto_trace_generate (ID: e3458a51-5419-48cd-8ef3-c1d93d922780) - 1 spans\n",
            "2025-10-02 14:40:33 - noveum_trace.transport.batch_processor - INFO - ✅ Successfully queued trace e3458a51-5419-48cd-8ef3-c1d93d922780\n",
            "2025-10-02 14:40:33 - noveum_trace.transport.http_transport - INFO - ✅ Trace e3458a51-5419-48cd-8ef3-c1d93d922780 successfully queued for export\n"
          ]
        },
        {
          "name": "stdout",
          "output_type": "stream",
          "text": [
            "2025-10-02 14:40:33 - INFO - novaeval.evaluators.agent_evaluator - Saving intermediate results after 23 samples\n",
            "2025-10-02 14:40:33 - INFO - novaeval.evaluators.agent_evaluator - Intermediate results saved to demo_results/email_gen_send_dataset/agent_evaluation_results.csv\n"
          ]
        },
        {
          "name": "stderr",
          "output_type": "stream",
          "text": [
            "Evaluating samples: 23it [01:33,  4.03s/it]"
          ]
        },
        {
          "name": "stdout",
          "output_type": "stream",
          "text": [
            "2025-10-02 14:40:33 - INFO - google_genai.models - AFC is enabled with max remote calls: 10.\n",
            "2025-10-02 14:40:34 - INFO - google_genai.models - AFC remote call 1 is done.\n"
          ]
        },
        {
          "name": "stderr",
          "output_type": "stream",
          "text": [
            "2025-10-02 14:40:34 - noveum_trace.transport.http_transport - INFO - 📤 EXPORTING TRACE: auto_trace_generate (ID: e4e8c05d-8761-4fbc-ac0a-fefacfca4597) - 1 spans\n",
            "2025-10-02 14:40:34 - noveum_trace.transport.batch_processor - INFO - 📥 ADDING TRACE TO QUEUE: auto_trace_generate (ID: e4e8c05d-8761-4fbc-ac0a-fefacfca4597) - 1 spans\n",
            "2025-10-02 14:40:34 - noveum_trace.transport.batch_processor - INFO - ✅ Successfully queued trace e4e8c05d-8761-4fbc-ac0a-fefacfca4597\n",
            "2025-10-02 14:40:34 - noveum_trace.transport.http_transport - INFO - ✅ Trace e4e8c05d-8761-4fbc-ac0a-fefacfca4597 successfully queued for export\n"
          ]
        },
        {
          "name": "stdout",
          "output_type": "stream",
          "text": [
            "2025-10-02 14:40:34 - INFO - google_genai.models - AFC is enabled with max remote calls: 10.\n",
            "2025-10-02 14:40:36 - INFO - google_genai.models - AFC remote call 1 is done.\n"
          ]
        },
        {
          "name": "stderr",
          "output_type": "stream",
          "text": [
            "2025-10-02 14:40:36 - noveum_trace.transport.http_transport - INFO - 📤 EXPORTING TRACE: auto_trace_generate (ID: 42892702-91c2-4e7d-9b71-97be5fe62e45) - 1 spans\n",
            "2025-10-02 14:40:36 - noveum_trace.transport.batch_processor - INFO - 📥 ADDING TRACE TO QUEUE: auto_trace_generate (ID: 42892702-91c2-4e7d-9b71-97be5fe62e45) - 1 spans\n",
            "2025-10-02 14:40:36 - noveum_trace.transport.batch_processor - INFO - ✅ Successfully queued trace 42892702-91c2-4e7d-9b71-97be5fe62e45\n",
            "2025-10-02 14:40:36 - noveum_trace.transport.http_transport - INFO - ✅ Trace 42892702-91c2-4e7d-9b71-97be5fe62e45 successfully queued for export\n"
          ]
        },
        {
          "name": "stdout",
          "output_type": "stream",
          "text": [
            "2025-10-02 14:40:36 - INFO - google_genai.models - AFC is enabled with max remote calls: 10.\n",
            "2025-10-02 14:40:37 - INFO - google_genai.models - AFC remote call 1 is done.\n"
          ]
        },
        {
          "name": "stderr",
          "output_type": "stream",
          "text": [
            "2025-10-02 14:40:37 - noveum_trace.transport.http_transport - INFO - 📤 EXPORTING TRACE: auto_trace_generate (ID: 1b4ff832-11c4-4dca-9dd8-02e2ef80c048) - 1 spans\n",
            "2025-10-02 14:40:37 - noveum_trace.transport.batch_processor - INFO - 📥 ADDING TRACE TO QUEUE: auto_trace_generate (ID: 1b4ff832-11c4-4dca-9dd8-02e2ef80c048) - 1 spans\n",
            "2025-10-02 14:40:37 - noveum_trace.transport.batch_processor - INFO - ✅ Successfully queued trace 1b4ff832-11c4-4dca-9dd8-02e2ef80c048\n",
            "2025-10-02 14:40:37 - noveum_trace.transport.http_transport - INFO - ✅ Trace 1b4ff832-11c4-4dca-9dd8-02e2ef80c048 successfully queued for export\n"
          ]
        },
        {
          "name": "stdout",
          "output_type": "stream",
          "text": [
            "2025-10-02 14:40:37 - INFO - novaeval.evaluators.agent_evaluator - Saving intermediate results after 24 samples\n",
            "2025-10-02 14:40:37 - INFO - novaeval.evaluators.agent_evaluator - Intermediate results saved to demo_results/email_gen_send_dataset/agent_evaluation_results.csv\n"
          ]
        },
        {
          "name": "stderr",
          "output_type": "stream",
          "text": [
            "Evaluating samples: 24it [01:37,  4.05s/it]"
          ]
        },
        {
          "name": "stdout",
          "output_type": "stream",
          "text": [
            "2025-10-02 14:40:37 - INFO - google_genai.models - AFC is enabled with max remote calls: 10.\n",
            "2025-10-02 14:40:39 - INFO - google_genai.models - AFC remote call 1 is done.\n"
          ]
        },
        {
          "name": "stderr",
          "output_type": "stream",
          "text": [
            "2025-10-02 14:40:39 - noveum_trace.transport.http_transport - INFO - 📤 EXPORTING TRACE: auto_trace_generate (ID: 8e7975a9-2be2-4d1f-bbd5-a4a11b91cd27) - 1 spans\n",
            "2025-10-02 14:40:39 - noveum_trace.transport.batch_processor - INFO - 📥 ADDING TRACE TO QUEUE: auto_trace_generate (ID: 8e7975a9-2be2-4d1f-bbd5-a4a11b91cd27) - 1 spans\n",
            "2025-10-02 14:40:39 - noveum_trace.transport.batch_processor - INFO - ✅ Successfully queued trace 8e7975a9-2be2-4d1f-bbd5-a4a11b91cd27\n",
            "2025-10-02 14:40:39 - noveum_trace.transport.http_transport - INFO - ✅ Trace 8e7975a9-2be2-4d1f-bbd5-a4a11b91cd27 successfully queued for export\n"
          ]
        },
        {
          "name": "stdout",
          "output_type": "stream",
          "text": [
            "2025-10-02 14:40:39 - INFO - google_genai.models - AFC is enabled with max remote calls: 10.\n",
            "2025-10-02 14:40:40 - INFO - google_genai.models - AFC remote call 1 is done.\n"
          ]
        },
        {
          "name": "stderr",
          "output_type": "stream",
          "text": [
            "2025-10-02 14:40:40 - noveum_trace.transport.http_transport - INFO - 📤 EXPORTING TRACE: auto_trace_generate (ID: 3ac6c3dd-d597-430d-9d8f-46c19b6e7c00) - 1 spans\n",
            "2025-10-02 14:40:40 - noveum_trace.transport.batch_processor - INFO - 📥 ADDING TRACE TO QUEUE: auto_trace_generate (ID: 3ac6c3dd-d597-430d-9d8f-46c19b6e7c00) - 1 spans\n",
            "2025-10-02 14:40:40 - noveum_trace.transport.batch_processor - INFO - ✅ Successfully queued trace 3ac6c3dd-d597-430d-9d8f-46c19b6e7c00\n",
            "2025-10-02 14:40:40 - noveum_trace.transport.http_transport - INFO - ✅ Trace 3ac6c3dd-d597-430d-9d8f-46c19b6e7c00 successfully queued for export\n"
          ]
        },
        {
          "name": "stdout",
          "output_type": "stream",
          "text": [
            "2025-10-02 14:40:40 - INFO - google_genai.models - AFC is enabled with max remote calls: 10.\n",
            "2025-10-02 14:40:41 - INFO - google_genai.models - AFC remote call 1 is done.\n"
          ]
        },
        {
          "name": "stderr",
          "output_type": "stream",
          "text": [
            "2025-10-02 14:40:41 - noveum_trace.transport.http_transport - INFO - 📤 EXPORTING TRACE: auto_trace_generate (ID: beeef870-a5e0-4779-98d0-53be68030dd0) - 1 spans\n",
            "2025-10-02 14:40:41 - noveum_trace.transport.batch_processor - INFO - 📥 ADDING TRACE TO QUEUE: auto_trace_generate (ID: beeef870-a5e0-4779-98d0-53be68030dd0) - 1 spans\n",
            "2025-10-02 14:40:41 - noveum_trace.transport.batch_processor - INFO - ✅ Successfully queued trace beeef870-a5e0-4779-98d0-53be68030dd0\n",
            "2025-10-02 14:40:41 - noveum_trace.transport.http_transport - INFO - ✅ Trace beeef870-a5e0-4779-98d0-53be68030dd0 successfully queued for export\n"
          ]
        },
        {
          "name": "stdout",
          "output_type": "stream",
          "text": [
            "2025-10-02 14:40:41 - INFO - novaeval.evaluators.agent_evaluator - Saving intermediate results after 25 samples\n",
            "2025-10-02 14:40:41 - INFO - novaeval.evaluators.agent_evaluator - Intermediate results saved to demo_results/email_gen_send_dataset/agent_evaluation_results.csv\n"
          ]
        },
        {
          "name": "stderr",
          "output_type": "stream",
          "text": [
            "Evaluating samples: 25it [01:41,  4.07s/it]"
          ]
        },
        {
          "name": "stdout",
          "output_type": "stream",
          "text": [
            "2025-10-02 14:40:41 - INFO - novaeval.evaluators.agent_evaluator - Saving final results\n",
            "2025-10-02 14:40:41 - INFO - novaeval.evaluators.agent_evaluator - Reloaded 25 results from CSV\n",
            "2025-10-02 14:40:41 - INFO - novaeval.evaluators.agent_evaluator - Agent evaluation completed\n",
            "\n",
            "✅ Evaluation completed!\n",
            "\n",
            "📊 Results Summary:\n",
            "  - task_progression: 8.66\n",
            "  - context_relevancy: 7.92\n",
            "  - role_adherence: 9.14\n",
            "  - tool_relevancy: 0.00\n",
            "  - parameter_correctness: 0.00\n",
            "\n",
            "🔍 Individual Scores:\n",
            "\n",
            "  Record 1 (Task: d599b552-5d57-4949-b426-c6a490de9ed2):\n",
            "    - task_progression: 8.5\n",
            "    - context_relevancy: 7.8\n",
            "    - role_adherence: 9.0\n",
            "    - tool_relevancy: 0.0\n",
            "    - parameter_correctness: 0.0\n",
            "\n",
            "  Record 2 (Task: 37d28351-5201-4a30-896f-c111e5351678):\n",
            "    - task_progression: 8.5\n",
            "    - context_relevancy: 8.1\n",
            "    - role_adherence: 9.0\n",
            "    - tool_relevancy: 0.0\n",
            "    - parameter_correctness: 0.0\n",
            "\n",
            "  Record 3 (Task: 91341b8b-5199-47f3-b93f-09b8917ae689):\n",
            "    - task_progression: 8.5\n",
            "    - context_relevancy: 7.8\n",
            "    - role_adherence: 9.0\n",
            "    - tool_relevancy: 0.0\n",
            "    - parameter_correctness: 0.0\n",
            "\n",
            "  Record 4 (Task: 1c1712e1-08ce-44ac-8669-90b533a0305e):\n",
            "    - task_progression: 8.5\n",
            "    - context_relevancy: 7.8\n",
            "    - role_adherence: 9.0\n",
            "    - tool_relevancy: 0.0\n",
            "    - parameter_correctness: 0.0\n",
            "\n",
            "  Record 5 (Task: bab80798-79af-4683-842c-2ccaeee575b5):\n",
            "    - task_progression: 8.5\n",
            "    - context_relevancy: 7.8\n",
            "    - role_adherence: 9.0\n",
            "    - tool_relevancy: 0.0\n",
            "    - parameter_correctness: 0.0\n",
            "\n",
            "  Record 6 (Task: f989ff57-3f41-4d56-9586-5e321f30b1af):\n",
            "    - task_progression: 8.5\n",
            "    - context_relevancy: 7.8\n",
            "    - role_adherence: 9.0\n",
            "    - tool_relevancy: 0.0\n",
            "    - parameter_correctness: 0.0\n",
            "\n",
            "  Record 7 (Task: 3a5db1ec-e05f-4e6d-a21c-63fd75ec9733):\n",
            "    - task_progression: 8.5\n",
            "    - context_relevancy: 8.1\n",
            "    - role_adherence: 9.0\n",
            "    - tool_relevancy: 0.0\n",
            "    - parameter_correctness: 0.0\n",
            "\n",
            "  Record 8 (Task: be9414af-cd3f-4393-bf2b-a8790e149680):\n",
            "    - task_progression: 9.1\n",
            "    - context_relevancy: 7.9\n",
            "    - role_adherence: 9.2\n",
            "    - tool_relevancy: 0.0\n",
            "    - parameter_correctness: 0.0\n",
            "\n",
            "  Record 9 (Task: b691f6d5-f9f3-47a4-b5d4-39195692381c):\n",
            "    - task_progression: 8.5\n",
            "    - context_relevancy: 7.8\n",
            "    - role_adherence: 9.5\n",
            "    - tool_relevancy: 0.0\n",
            "    - parameter_correctness: 0.0\n",
            "\n",
            "  Record 10 (Task: 3e5e5729-76e0-4d05-bacb-14cf96a96b14):\n",
            "    - task_progression: 8.5\n",
            "    - context_relevancy: 7.8\n",
            "    - role_adherence: 9.5\n",
            "    - tool_relevancy: 0.0\n",
            "    - parameter_correctness: 0.0\n",
            "\n",
            "  Record 11 (Task: 47cabca4-dfb8-4dd9-9cab-283795eb825d):\n",
            "    - task_progression: 9.1\n",
            "    - context_relevancy: 8.2\n",
            "    - role_adherence: 9.0\n",
            "    - tool_relevancy: 0.0\n",
            "    - parameter_correctness: 0.0\n",
            "\n",
            "  Record 12 (Task: 5c8304cd-2158-41c5-8abe-ad3d9204217e):\n",
            "    - task_progression: 8.5\n",
            "    - context_relevancy: 7.9\n",
            "    - role_adherence: 9.8\n",
            "    - tool_relevancy: 0.0\n",
            "    - parameter_correctness: 0.0\n",
            "\n",
            "  Record 13 (Task: 3af620ea-1a72-4884-980c-e9bc8564c235):\n",
            "    - task_progression: 9.0\n",
            "    - context_relevancy: 8.2\n",
            "    - role_adherence: 9.0\n",
            "    - tool_relevancy: 0.0\n",
            "    - parameter_correctness: 0.0\n",
            "\n",
            "  Record 14 (Task: eab532a6-195d-487a-afd5-79e183b8bb61):\n",
            "    - task_progression: 8.5\n",
            "    - context_relevancy: 7.8\n",
            "    - role_adherence: 9.0\n",
            "    - tool_relevancy: 0.0\n",
            "    - parameter_correctness: 0.0\n",
            "\n",
            "  Record 15 (Task: 00d47709-34dc-479c-a65d-29a032fc8db5):\n",
            "    - task_progression: 8.5\n",
            "    - context_relevancy: 8.0\n",
            "    - role_adherence: 9.2\n",
            "    - tool_relevancy: 0.0\n",
            "    - parameter_correctness: 0.0\n",
            "\n",
            "  Record 16 (Task: 5902c501-13a3-489d-85a0-2daacea01787):\n",
            "    - task_progression: 9.1\n",
            "    - context_relevancy: 8.1\n",
            "    - role_adherence: 9.0\n",
            "    - tool_relevancy: 0.0\n",
            "    - parameter_correctness: 0.0\n",
            "\n",
            "  Record 17 (Task: c45271dc-7dff-485f-b64b-2e3b947179b7):\n",
            "    - task_progression: 8.5\n",
            "    - context_relevancy: 8.1\n",
            "    - role_adherence: 9.0\n",
            "    - tool_relevancy: 0.0\n",
            "    - parameter_correctness: 0.0\n",
            "\n",
            "  Record 18 (Task: 441601cf-6e4f-43ed-a258-a1b034fc34e6):\n",
            "    - task_progression: 8.5\n",
            "    - context_relevancy: 7.8\n",
            "    - role_adherence: 9.0\n",
            "    - tool_relevancy: 0.0\n",
            "    - parameter_correctness: 0.0\n",
            "\n",
            "  Record 19 (Task: ad3a37d3-3104-4040-9898-f5ca887a3a98):\n",
            "    - task_progression: 9.1\n",
            "    - context_relevancy: 7.8\n",
            "    - role_adherence: 10.0\n",
            "    - tool_relevancy: 0.0\n",
            "    - parameter_correctness: 0.0\n",
            "\n",
            "  Record 20 (Task: 5eb3898c-4f86-4220-b42f-85a83f20db3a):\n",
            "    - task_progression: 9.1\n",
            "    - context_relevancy: 7.8\n",
            "    - role_adherence: 9.0\n",
            "    - tool_relevancy: 0.0\n",
            "    - parameter_correctness: 0.0\n",
            "\n",
            "  Record 21 (Task: db8674fb-d67c-4702-9bcb-80cd9ae81bb4):\n",
            "    - task_progression: 8.5\n",
            "    - context_relevancy: 7.8\n",
            "    - role_adherence: 9.2\n",
            "    - tool_relevancy: 0.0\n",
            "    - parameter_correctness: 0.0\n",
            "\n",
            "  Record 22 (Task: fd1c1ea3-0f4d-4fd3-90fc-db7a495c41d3):\n",
            "    - task_progression: 8.5\n",
            "    - context_relevancy: 8.1\n",
            "    - role_adherence: 9.0\n",
            "    - tool_relevancy: 0.0\n",
            "    - parameter_correctness: 0.0\n",
            "\n",
            "  Record 23 (Task: e2182d92-f187-4346-b784-74ad044b3fc7):\n",
            "    - task_progression: 9.0\n",
            "    - context_relevancy: 7.8\n",
            "    - role_adherence: 9.0\n",
            "    - tool_relevancy: 0.0\n",
            "    - parameter_correctness: 0.0\n",
            "\n",
            "  Record 24 (Task: c9fb0985-687d-4eea-8ebc-fe51396008c1):\n",
            "    - task_progression: 8.5\n",
            "    - context_relevancy: 8.1\n",
            "    - role_adherence: 9.0\n",
            "    - tool_relevancy: 0.0\n",
            "    - parameter_correctness: 0.0\n",
            "\n",
            "  Record 25 (Task: 4d6da9f4-6fda-4a43-80a9-598e7d8cd8db):\n",
            "    - task_progression: 8.5\n",
            "    - context_relevancy: 7.8\n",
            "    - role_adherence: 9.2\n",
            "    - tool_relevancy: 0.0\n",
            "    - parameter_correctness: 0.0\n",
            "✅ Evaluation completed successfully!\n",
            "\n",
            "📋 Step 7: Exporting Dataset\n",
            "💾 Exporting processed dataset...\n",
            "✅ Exported to email_gen_send_dataset_processed_dataset.json\n",
            "✅ Exported to email_gen_send_dataset_processed_dataset.csv\n",
            "✅ Export completed successfully!\n",
            "\n",
            "============================================================\n",
            "🎉 EVALUATION PIPELINE COMPLETED!\n",
            "📊 Final Results:\n",
            "  - File processed: split_datasets/email_gen_send_dataset.json\n",
            "  - Spans loaded: 40\n",
            "  - Dataset size: 40\n",
            "  - Evaluation completed: True\n",
            "  - Export successful: True\n",
            "  - Results saved to: ./demo_results/email_gen_send_dataset/\n"
          ]
        },
        {
          "name": "stderr",
          "output_type": "stream",
          "text": [
            "\n"
          ]
        },
        {
          "data": {
            "text/plain": [
              "{'success': True,\n",
              " 'file_processed': 'split_datasets/email_gen_send_dataset.json',\n",
              " 'spans_loaded': 40,\n",
              " 'dataset_created': True,\n",
              " 'dataset_size': 40,\n",
              " 'evaluation_completed': True,\n",
              " 'results_df':     user_id                               task_id  \\\n",
              " 0       NaN  d599b552-5d57-4949-b426-c6a490de9ed2   \n",
              " 1       NaN  37d28351-5201-4a30-896f-c111e5351678   \n",
              " 2       NaN  91341b8b-5199-47f3-b93f-09b8917ae689   \n",
              " 3       NaN  1c1712e1-08ce-44ac-8669-90b533a0305e   \n",
              " 4       NaN  bab80798-79af-4683-842c-2ccaeee575b5   \n",
              " 5       NaN  f989ff57-3f41-4d56-9586-5e321f30b1af   \n",
              " 6       NaN  3a5db1ec-e05f-4e6d-a21c-63fd75ec9733   \n",
              " 7       NaN  be9414af-cd3f-4393-bf2b-a8790e149680   \n",
              " 8       NaN  b691f6d5-f9f3-47a4-b5d4-39195692381c   \n",
              " 9       NaN  3e5e5729-76e0-4d05-bacb-14cf96a96b14   \n",
              " 10      NaN  47cabca4-dfb8-4dd9-9cab-283795eb825d   \n",
              " 11      NaN  5c8304cd-2158-41c5-8abe-ad3d9204217e   \n",
              " 12      NaN  3af620ea-1a72-4884-980c-e9bc8564c235   \n",
              " 13      NaN  eab532a6-195d-487a-afd5-79e183b8bb61   \n",
              " 14      NaN  00d47709-34dc-479c-a65d-29a032fc8db5   \n",
              " 15      NaN  5902c501-13a3-489d-85a0-2daacea01787   \n",
              " 16      NaN  c45271dc-7dff-485f-b64b-2e3b947179b7   \n",
              " 17      NaN  441601cf-6e4f-43ed-a258-a1b034fc34e6   \n",
              " 18      NaN  ad3a37d3-3104-4040-9898-f5ca887a3a98   \n",
              " 19      NaN  5eb3898c-4f86-4220-b42f-85a83f20db3a   \n",
              " 20      NaN  db8674fb-d67c-4702-9bcb-80cd9ae81bb4   \n",
              " 21      NaN  fd1c1ea3-0f4d-4fd3-90fc-db7a495c41d3   \n",
              " 22      NaN  e2182d92-f187-4346-b784-74ad044b3fc7   \n",
              " 23      NaN  c9fb0985-687d-4eea-8ebc-fe51396008c1   \n",
              " 24      NaN  4d6da9f4-6fda-4a43-80a9-598e7d8cd8db   \n",
              " \n",
              "                                  turn_id agent_name  task_progression  \\\n",
              " 0   deda05f0-b9ed-4d08-a12d-d146e8d7410f       tool               8.5   \n",
              " 1   af2b242c-db7c-4d44-a599-0bd3f0a96980       tool               8.5   \n",
              " 2   35b239d1-8d5d-4b33-b2d0-3afcc042de3b       tool               8.5   \n",
              " 3   fbc36477-9d48-4889-9cfc-8f6a66819879       tool               8.5   \n",
              " 4   4015a9c7-2052-4032-8cd5-43df4c7cd868       tool               8.5   \n",
              " 5   26965f10-66b6-4f1b-8101-c916a2aabfc6       tool               8.5   \n",
              " 6   8fbda603-6b46-4eda-ba23-19fd79eea040       tool               8.5   \n",
              " 7   00c4476e-e7ae-4d04-801c-eed9c0e5cd09       tool               9.1   \n",
              " 8   2107291f-faba-4dcb-a70f-d13985c6015d       tool               8.5   \n",
              " 9   425efd5b-ab07-4415-ab51-4f2b8b6ee3b1       tool               8.5   \n",
              " 10  d470df8f-1464-4a70-8149-657242250e61       tool               9.1   \n",
              " 11  5fb76597-59b5-4384-8d4d-5deee8deda08       tool               8.5   \n",
              " 12  a63c76dc-83b5-4efb-b5d4-93f153e5f424       tool               9.0   \n",
              " 13  26f1ab4c-ff70-4c54-baba-e2750b89ddd2       tool               8.5   \n",
              " 14  bbc7efd9-0f81-4c5b-911c-4a29f782b274       tool               8.5   \n",
              " 15  d6663b71-7241-4f22-b966-105ec732099d       tool               9.1   \n",
              " 16  0176c163-44b5-40cc-973e-7e2dfb00ef2c       tool               8.5   \n",
              " 17  495e72a2-4307-4575-8575-4388904b2bc2       tool               8.5   \n",
              " 18  9a2a2690-3f4d-46f4-b939-9253deb21f2b       tool               9.1   \n",
              " 19  466f9ea5-be81-43b6-9071-1bfeb2df0662       tool               9.1   \n",
              " 20  d0786e88-6c76-4796-aa9d-6fe24720c469       tool               8.5   \n",
              " 21  f6d5a601-b6ee-4f29-89f4-57523d87e089       tool               8.5   \n",
              " 22  1aac6a2c-7306-4647-a97b-42e46c1cd3ca       tool               9.0   \n",
              " 23  e0b73537-788e-4062-87a5-28375e68191e       tool               8.5   \n",
              " 24  775c64db-c265-489e-ad16-88f553df5c6a       tool               8.5   \n",
              " \n",
              "     context_relevancy  role_adherence  tool_relevancy  parameter_correctness  \\\n",
              " 0                 7.8             9.0             0.0                    0.0   \n",
              " 1                 8.1             9.0             0.0                    0.0   \n",
              " 2                 7.8             9.0             0.0                    0.0   \n",
              " 3                 7.8             9.0             0.0                    0.0   \n",
              " 4                 7.8             9.0             0.0                    0.0   \n",
              " 5                 7.8             9.0             0.0                    0.0   \n",
              " 6                 8.1             9.0             0.0                    0.0   \n",
              " 7                 7.9             9.2             0.0                    0.0   \n",
              " 8                 7.8             9.5             0.0                    0.0   \n",
              " 9                 7.8             9.5             0.0                    0.0   \n",
              " 10                8.2             9.0             0.0                    0.0   \n",
              " 11                7.9             9.8             0.0                    0.0   \n",
              " 12                8.2             9.0             0.0                    0.0   \n",
              " 13                7.8             9.0             0.0                    0.0   \n",
              " 14                8.0             9.2             0.0                    0.0   \n",
              " 15                8.1             9.0             0.0                    0.0   \n",
              " 16                8.1             9.0             0.0                    0.0   \n",
              " 17                7.8             9.0             0.0                    0.0   \n",
              " 18                7.8            10.0             0.0                    0.0   \n",
              " 19                7.8             9.0             0.0                    0.0   \n",
              " 20                7.8             9.2             0.0                    0.0   \n",
              " 21                8.1             9.0             0.0                    0.0   \n",
              " 22                7.8             9.0             0.0                    0.0   \n",
              " 23                8.1             9.0             0.0                    0.0   \n",
              " 24                7.8             9.2             0.0                    0.0   \n",
              " \n",
              "                            task_progression_reasoning  \\\n",
              " 0   The agent correctly executed the tool call and...   \n",
              " 1   The agent accurately utilized the tool, demons...   \n",
              " 2   The agent has successfully executed the tool c...   \n",
              " 3   The agent successfully executed the tool call,...   \n",
              " 4   The agent correctly interpreted its role and e...   \n",
              " 5   The agent has successfully utilized tools to g...   \n",
              " 6   The agent accurately utilized the tool, fulfil...   \n",
              " 7   The agent fully understands and executes its t...   \n",
              " 8   The agent correctly executed a tool call, as i...   \n",
              " 9   The agent correctly utilized the provided tool...   \n",
              " 10  The agent flawlessly executed its tool calls, ...   \n",
              " 11  The agent's response shows excellent progress....   \n",
              " 12  The agent has successfully executed the tool c...   \n",
              " 13  The agent successfully executed the tool call,...   \n",
              " 14  The agent has successfully executed a tool cal...   \n",
              " 15  The tool agent executed its programmed functio...   \n",
              " 16  The agent successfully executed a tool call an...   \n",
              " 17  The agent successfully executed the tool calls...   \n",
              " 18  The agent successfully executed the tool calls...   \n",
              " 19  The agent fully understands its role as a tool...   \n",
              " 20  The agent has executed the tool call successfu...   \n",
              " 21  The agent has successfully utilized tools, as ...   \n",
              " 22  The agent executes the tool call as designed, ...   \n",
              " 23  The agent successfully utilized the tool, as i...   \n",
              " 24  The agent fulfilled its role as a tool and exe...   \n",
              " \n",
              "                           context_relevancy_reasoning  \\\n",
              " 0   The agent's response is directly related to th...   \n",
              " 1   The agent's response is highly relevant to the...   \n",
              " 2   The response shows the tool successfully execu...   \n",
              " 3   The agent's response is directly related to th...   \n",
              " 4   The response is directly relevant, showing the...   \n",
              " 5   The agent's response effectively fulfills its ...   \n",
              " 6   The agent's response is highly relevant to the...   \n",
              " 7   The response is relevant to the task, showcasi...   \n",
              " 8   The agent's response, containing tool calls an...   \n",
              " 9   The response accurately reflects a tool call e...   \n",
              " 10  The agent's response is highly relevant as it ...   \n",
              " 11  The agent's response is directly relevant to t...   \n",
              " 12                                          The agent   \n",
              " 13  The response is directly relevant as it docume...   \n",
              " 14  The response is highly relevant, showing the e...   \n",
              " 15  The response is highly relevant, demonstrating...   \n",
              " 16  The response accurately reflects the execution...   \n",
              " 17  The agent successfully executed the tool call ...   \n",
              " 18  The agent response is directly relevant to the...   \n",
              " 19  The response directly executes the tool call a...   \n",
              " 20  The response is relevant because it documents ...   \n",
              " 21  The response is highly relevant as it reflects...   \n",
              " 22  The response appears to be the successful exec...   \n",
              " 23  The agent provides a response that is directly...   \n",
              " 24  The response accurately reflects tool executio...   \n",
              " \n",
              "                              role_adherence_reasoning  \\\n",
              " 0   The agent perfectly adheres to the 'tool' role...   \n",
              " 1   The agent perfectly adheres to its role as a t...   \n",
              " 2   The agent flawlessly executes the assigned tas...   \n",
              " 3   The agent perfectly adheres to its role as a t...   \n",
              " 4   The agent flawlessly executes its role as a to...   \n",
              " 5   The agent perfectly adheres to its role as a t...   \n",
              " 6   The agent perfectly adheres to its 'tool' role...   \n",
              " 7   The agent perfectly adheres to its role as a t...   \n",
              " 8   The agent flawlessly executes its role as a to...   \n",
              " 9   The agent perfectly adheres to its assigned ro...   \n",
              " 10  The agent perfectly executes its simple tool c...   \n",
              " 11  The agent perfectly adheres to its role as a t...   \n",
              " 12  The agent perfectly adheres to its tool role, ...   \n",
              " 13  The agent flawlessly executes its assigned tas...   \n",
              " 14  The agent adheres perfectly to its tool role. ...   \n",
              " 15  The agent perfectly adheres to its role as a t...   \n",
              " 16  The agent perfectly executes its tool call and...   \n",
              " 17  The agent flawlessly adheres to its role as a ...   \n",
              " 18  The agent perfectly adheres to its role as a t...   \n",
              " 19  The agent flawlessly executes the tool calls a...   \n",
              " 20  The agent perfectly executes its role as a too...   \n",
              " 21  The agent flawlessly executes its tool calls a...   \n",
              " 22  The agent perfectly adheres to its role as a t...   \n",
              " 23  The agent perfectly executes its task as a too...   \n",
              " 24  The agent perfectly adheres to its role as a t...   \n",
              " \n",
              "           tool_relevancy_reasoning parameter_correctness_reasoning  \n",
              " 0   Error: Missing required fields  Error: Missing required fields  \n",
              " 1   Error: Missing required fields  Error: Missing required fields  \n",
              " 2   Error: Missing required fields  Error: Missing required fields  \n",
              " 3   Error: Missing required fields  Error: Missing required fields  \n",
              " 4   Error: Missing required fields  Error: Missing required fields  \n",
              " 5   Error: Missing required fields  Error: Missing required fields  \n",
              " 6   Error: Missing required fields  Error: Missing required fields  \n",
              " 7   Error: Missing required fields  Error: Missing required fields  \n",
              " 8   Error: Missing required fields  Error: Missing required fields  \n",
              " 9   Error: Missing required fields  Error: Missing required fields  \n",
              " 10  Error: Missing required fields  Error: Missing required fields  \n",
              " 11  Error: Missing required fields  Error: Missing required fields  \n",
              " 12  Error: Missing required fields  Error: Missing required fields  \n",
              " 13  Error: Missing required fields  Error: Missing required fields  \n",
              " 14  Error: Missing required fields  Error: Missing required fields  \n",
              " 15  Error: Missing required fields  Error: Missing required fields  \n",
              " 16  Error: Missing required fields  Error: Missing required fields  \n",
              " 17  Error: Missing required fields  Error: Missing required fields  \n",
              " 18  Error: Missing required fields  Error: Missing required fields  \n",
              " 19  Error: Missing required fields  Error: Missing required fields  \n",
              " 20  Error: Missing required fields  Error: Missing required fields  \n",
              " 21  Error: Missing required fields  Error: Missing required fields  \n",
              " 22  Error: Missing required fields  Error: Missing required fields  \n",
              " 23  Error: Missing required fields  Error: Missing required fields  \n",
              " 24  Error: Missing required fields  Error: Missing required fields  ,\n",
              " 'export_success': True,\n",
              " 'errors': []}"
            ]
          },
          "execution_count": 13,
          "metadata": {},
          "output_type": "execute_result"
        }
      ],
      "source": [
        "run_complete_agent_evaluation('split_datasets/email_gen_send_dataset.json',\n",
        "evaluation_name = \"email_gen_send_dataset\", output_dir = \"./demo_results\")"
      ]
    },
    {
      "cell_type": "code",
      "execution_count": 14,
      "metadata": {},
      "outputs": [
        {
          "name": "stdout",
          "output_type": "stream",
          "text": [
            "🚀 Starting Complete Agent Evaluation Pipeline\n",
            "📁 Processing file: split_datasets/post_validation_dataset.json\n",
            "============================================================\n",
            "\n",
            "📋 Step 1: Environment Setup\n",
            "✅ Logging configured at INFO level\n",
            "🔍 Environment validation:\n",
            "  ✅ gemini_api_key: True\n",
            "  ✅ pandas_available: True\n",
            "  ✅ novaeval_available: True\n",
            "✅ Environment ready for evaluation!\n",
            "\n",
            "📋 Step 2: Loading Dataset\n",
            "📊 Loaded 315 spans from split_datasets/post_validation_dataset.json\n",
            "\n",
            "🔍 Available span types:\n",
            "  - post_validation: 315\n",
            "✅ Dataset loaded: 315 spans\n",
            "\n",
            "📋 Step 3: Converting to AgentDataset Format\n",
            "🔄 Converting spans to AgentData objects...\n",
            "\n",
            "✅ Successfully converted 315 spans to AgentData\n",
            "📊 AgentDataset created with 315 records\n",
            "✅ AgentDataset created: 315 records\n",
            "\n",
            "📋 Step 4: Dataset Analysis\n",
            "📈 Dataset Statistics:\n",
            "\n",
            "Agent Types: {'tool': 315}\n",
            "Records with responses: 315\n",
            "Records with tool calls: 0\n",
            "Records with retrieval: 0\n",
            "Tool usage: {}\n",
            "🔍 Dataset Analysis:\n",
            "\n",
            "=== Agent Behavior Patterns ===\n",
            "\n",
            "📈 Tool Usage:\n",
            "\n",
            "📋 Task Types:\n",
            "  - other: 315\n",
            "\n",
            "📝 Response Statistics:\n",
            "  - Average response length: 497.1 characters\n",
            "  - Min response length: 394\n",
            "  - Max response length: 1668\n",
            "\n",
            "📋 Step 5: Setting up Evaluation\n",
            "✅ GEMINI_API_KEY found in environment\n",
            "2025-10-02 14:40:41 - INFO - novaeval.models.base - Noveum tracing initialized successfully\n",
            "✅ Gemini model initialized\n",
            "✅ Initialized 5 scoring functions:\n",
            "  - task_progression_scorer\n",
            "  - context_relevancy_scorer\n",
            "  - role_adherence_scorer\n",
            "  - tool_relevancy_scorer\n",
            "  - parameter_correctness_scorer\n",
            "\n",
            "✅ AgentEvaluator created with Gemini model and scoring functions\n",
            "✅ Evaluation components ready!\n",
            "\n",
            "📋 Step 6: Running Evaluation\n",
            "🎯 Evaluating 25 samples...\n",
            "🚀 Running evaluation on sample data...\n",
            "\n",
            "📊 Evaluating 25 sample records...\n",
            "2025-10-02 14:40:42 - INFO - novaeval.evaluators.agent_evaluator - Starting agent evaluation process\n"
          ]
        },
        {
          "name": "stderr",
          "output_type": "stream",
          "text": [
            "Evaluating samples: 0it [00:00, ?it/s]"
          ]
        },
        {
          "name": "stdout",
          "output_type": "stream",
          "text": [
            "2025-10-02 14:40:42 - INFO - google_genai.models - AFC is enabled with max remote calls: 10.\n",
            "2025-10-02 14:40:43 - INFO - google_genai.models - AFC remote call 1 is done.\n"
          ]
        },
        {
          "name": "stderr",
          "output_type": "stream",
          "text": [
            "2025-10-02 14:40:43 - noveum_trace.transport.http_transport - INFO - 📤 EXPORTING TRACE: auto_trace_generate (ID: 1a0802b2-0b48-4d0c-834e-222965b795e0) - 1 spans\n",
            "2025-10-02 14:40:43 - noveum_trace.transport.batch_processor - INFO - 📥 ADDING TRACE TO QUEUE: auto_trace_generate (ID: 1a0802b2-0b48-4d0c-834e-222965b795e0) - 1 spans\n",
            "2025-10-02 14:40:43 - noveum_trace.transport.batch_processor - INFO - ✅ Successfully queued trace 1a0802b2-0b48-4d0c-834e-222965b795e0\n",
            "2025-10-02 14:40:43 - noveum_trace.transport.http_transport - INFO - ✅ Trace 1a0802b2-0b48-4d0c-834e-222965b795e0 successfully queued for export\n"
          ]
        },
        {
          "name": "stdout",
          "output_type": "stream",
          "text": [
            "2025-10-02 14:40:43 - INFO - google_genai.models - AFC is enabled with max remote calls: 10.\n",
            "2025-10-02 14:40:45 - INFO - google_genai.models - AFC remote call 1 is done.\n"
          ]
        },
        {
          "name": "stderr",
          "output_type": "stream",
          "text": [
            "2025-10-02 14:40:45 - noveum_trace.transport.http_transport - INFO - 📤 EXPORTING TRACE: auto_trace_generate (ID: ee855a1d-2c44-4e16-9c75-822812436d3c) - 1 spans\n",
            "2025-10-02 14:40:45 - noveum_trace.transport.batch_processor - INFO - 📥 ADDING TRACE TO QUEUE: auto_trace_generate (ID: ee855a1d-2c44-4e16-9c75-822812436d3c) - 1 spans\n",
            "2025-10-02 14:40:45 - noveum_trace.transport.batch_processor - INFO - ✅ Successfully queued trace ee855a1d-2c44-4e16-9c75-822812436d3c\n",
            "2025-10-02 14:40:45 - noveum_trace.transport.http_transport - INFO - ✅ Trace ee855a1d-2c44-4e16-9c75-822812436d3c successfully queued for export\n"
          ]
        },
        {
          "name": "stdout",
          "output_type": "stream",
          "text": [
            "2025-10-02 14:40:45 - INFO - google_genai.models - AFC is enabled with max remote calls: 10.\n",
            "2025-10-02 14:40:46 - INFO - google_genai.models - AFC remote call 1 is done.\n"
          ]
        },
        {
          "name": "stderr",
          "output_type": "stream",
          "text": [
            "2025-10-02 14:40:46 - noveum_trace.transport.http_transport - INFO - 📤 EXPORTING TRACE: auto_trace_generate (ID: 14ad47bf-e97b-4200-80db-7191a814ddf5) - 1 spans\n",
            "2025-10-02 14:40:46 - noveum_trace.transport.batch_processor - INFO - 📥 ADDING TRACE TO QUEUE: auto_trace_generate (ID: 14ad47bf-e97b-4200-80db-7191a814ddf5) - 1 spans\n",
            "2025-10-02 14:40:46 - noveum_trace.transport.batch_processor - INFO - ✅ Successfully queued trace 14ad47bf-e97b-4200-80db-7191a814ddf5\n",
            "2025-10-02 14:40:46 - noveum_trace.transport.http_transport - INFO - ✅ Trace 14ad47bf-e97b-4200-80db-7191a814ddf5 successfully queued for export\n"
          ]
        },
        {
          "name": "stdout",
          "output_type": "stream",
          "text": [
            "2025-10-02 14:40:46 - INFO - novaeval.evaluators.agent_evaluator - Saving intermediate results after 1 samples\n",
            "2025-10-02 14:40:46 - INFO - novaeval.evaluators.agent_evaluator - Intermediate results saved to demo_results/post_validation_dataset/agent_evaluation_results.csv\n"
          ]
        },
        {
          "name": "stderr",
          "output_type": "stream",
          "text": [
            "Evaluating samples: 1it [00:04,  4.56s/it]"
          ]
        },
        {
          "name": "stdout",
          "output_type": "stream",
          "text": [
            "2025-10-02 14:40:46 - INFO - google_genai.models - AFC is enabled with max remote calls: 10.\n",
            "2025-10-02 14:40:47 - INFO - google_genai.models - AFC remote call 1 is done.\n"
          ]
        },
        {
          "name": "stderr",
          "output_type": "stream",
          "text": [
            "2025-10-02 14:40:47 - noveum_trace.transport.http_transport - INFO - 📤 EXPORTING TRACE: auto_trace_generate (ID: f008ce52-c8b5-462b-b109-021a4e054102) - 1 spans\n",
            "2025-10-02 14:40:47 - noveum_trace.transport.batch_processor - INFO - 📥 ADDING TRACE TO QUEUE: auto_trace_generate (ID: f008ce52-c8b5-462b-b109-021a4e054102) - 1 spans\n",
            "2025-10-02 14:40:47 - noveum_trace.transport.batch_processor - INFO - ✅ Successfully queued trace f008ce52-c8b5-462b-b109-021a4e054102\n",
            "2025-10-02 14:40:47 - noveum_trace.transport.http_transport - INFO - ✅ Trace f008ce52-c8b5-462b-b109-021a4e054102 successfully queued for export\n"
          ]
        },
        {
          "name": "stdout",
          "output_type": "stream",
          "text": [
            "2025-10-02 14:40:47 - INFO - google_genai.models - AFC is enabled with max remote calls: 10.\n",
            "2025-10-02 14:40:49 - INFO - google_genai.models - AFC remote call 1 is done.\n"
          ]
        },
        {
          "name": "stderr",
          "output_type": "stream",
          "text": [
            "2025-10-02 14:40:49 - noveum_trace.transport.http_transport - INFO - 📤 EXPORTING TRACE: auto_trace_generate (ID: 1459b8c2-190d-47fc-a16f-1bd37da2454c) - 1 spans\n",
            "2025-10-02 14:40:49 - noveum_trace.transport.batch_processor - INFO - 📥 ADDING TRACE TO QUEUE: auto_trace_generate (ID: 1459b8c2-190d-47fc-a16f-1bd37da2454c) - 1 spans\n",
            "2025-10-02 14:40:49 - noveum_trace.transport.batch_processor - INFO - ✅ Successfully queued trace 1459b8c2-190d-47fc-a16f-1bd37da2454c\n",
            "2025-10-02 14:40:49 - noveum_trace.transport.http_transport - INFO - ✅ Trace 1459b8c2-190d-47fc-a16f-1bd37da2454c successfully queued for export\n"
          ]
        },
        {
          "name": "stdout",
          "output_type": "stream",
          "text": [
            "2025-10-02 14:40:49 - INFO - google_genai.models - AFC is enabled with max remote calls: 10.\n",
            "2025-10-02 14:40:50 - INFO - google_genai.models - AFC remote call 1 is done.\n"
          ]
        },
        {
          "name": "stderr",
          "output_type": "stream",
          "text": [
            "2025-10-02 14:40:50 - noveum_trace.transport.http_transport - INFO - 📤 EXPORTING TRACE: auto_trace_generate (ID: 2d665511-6b62-49c8-9624-071aa11690eb) - 1 spans\n",
            "2025-10-02 14:40:50 - noveum_trace.transport.batch_processor - INFO - 📥 ADDING TRACE TO QUEUE: auto_trace_generate (ID: 2d665511-6b62-49c8-9624-071aa11690eb) - 1 spans\n",
            "2025-10-02 14:40:50 - noveum_trace.transport.batch_processor - INFO - ✅ Successfully queued trace 2d665511-6b62-49c8-9624-071aa11690eb\n",
            "2025-10-02 14:40:50 - noveum_trace.transport.http_transport - INFO - ✅ Trace 2d665511-6b62-49c8-9624-071aa11690eb successfully queued for export\n"
          ]
        },
        {
          "name": "stdout",
          "output_type": "stream",
          "text": [
            "2025-10-02 14:40:50 - INFO - novaeval.evaluators.agent_evaluator - Saving intermediate results after 2 samples\n",
            "2025-10-02 14:40:50 - INFO - novaeval.evaluators.agent_evaluator - Intermediate results saved to demo_results/post_validation_dataset/agent_evaluation_results.csv\n"
          ]
        },
        {
          "name": "stderr",
          "output_type": "stream",
          "text": [
            "Evaluating samples: 2it [00:08,  4.37s/it]"
          ]
        },
        {
          "name": "stdout",
          "output_type": "stream",
          "text": [
            "2025-10-02 14:40:50 - INFO - google_genai.models - AFC is enabled with max remote calls: 10.\n",
            "2025-10-02 14:40:52 - INFO - google_genai.models - AFC remote call 1 is done.\n"
          ]
        },
        {
          "name": "stderr",
          "output_type": "stream",
          "text": [
            "2025-10-02 14:40:52 - noveum_trace.transport.http_transport - INFO - 📤 EXPORTING TRACE: auto_trace_generate (ID: 859d6ba3-01ef-4b21-ac78-e3143e5ea163) - 1 spans\n",
            "2025-10-02 14:40:52 - noveum_trace.transport.batch_processor - INFO - 📥 ADDING TRACE TO QUEUE: auto_trace_generate (ID: 859d6ba3-01ef-4b21-ac78-e3143e5ea163) - 1 spans\n",
            "2025-10-02 14:40:52 - noveum_trace.transport.batch_processor - INFO - ✅ Successfully queued trace 859d6ba3-01ef-4b21-ac78-e3143e5ea163\n",
            "2025-10-02 14:40:52 - noveum_trace.transport.http_transport - INFO - ✅ Trace 859d6ba3-01ef-4b21-ac78-e3143e5ea163 successfully queued for export\n"
          ]
        },
        {
          "name": "stdout",
          "output_type": "stream",
          "text": [
            "2025-10-02 14:40:52 - INFO - google_genai.models - AFC is enabled with max remote calls: 10.\n",
            "2025-10-02 14:40:53 - INFO - google_genai.models - AFC remote call 1 is done.\n"
          ]
        },
        {
          "name": "stderr",
          "output_type": "stream",
          "text": [
            "2025-10-02 14:40:53 - noveum_trace.transport.http_transport - INFO - 📤 EXPORTING TRACE: auto_trace_generate (ID: ff89c416-ac52-4065-adbc-e2f4e447623b) - 1 spans\n",
            "2025-10-02 14:40:53 - noveum_trace.transport.batch_processor - INFO - 📥 ADDING TRACE TO QUEUE: auto_trace_generate (ID: ff89c416-ac52-4065-adbc-e2f4e447623b) - 1 spans\n",
            "2025-10-02 14:40:53 - noveum_trace.transport.batch_processor - INFO - ✅ Successfully queued trace ff89c416-ac52-4065-adbc-e2f4e447623b\n",
            "2025-10-02 14:40:53 - noveum_trace.transport.http_transport - INFO - ✅ Trace ff89c416-ac52-4065-adbc-e2f4e447623b successfully queued for export\n"
          ]
        },
        {
          "name": "stdout",
          "output_type": "stream",
          "text": [
            "2025-10-02 14:40:53 - INFO - google_genai.models - AFC is enabled with max remote calls: 10.\n",
            "2025-10-02 14:40:55 - INFO - google_genai.models - AFC remote call 1 is done.\n"
          ]
        },
        {
          "name": "stderr",
          "output_type": "stream",
          "text": [
            "2025-10-02 14:40:55 - noveum_trace.transport.http_transport - INFO - 📤 EXPORTING TRACE: auto_trace_generate (ID: 78b4a573-256a-4d60-8e25-f7dbba22409d) - 1 spans\n",
            "2025-10-02 14:40:55 - noveum_trace.transport.batch_processor - INFO - 📥 ADDING TRACE TO QUEUE: auto_trace_generate (ID: 78b4a573-256a-4d60-8e25-f7dbba22409d) - 1 spans\n",
            "2025-10-02 14:40:55 - noveum_trace.transport.batch_processor - INFO - ✅ Successfully queued trace 78b4a573-256a-4d60-8e25-f7dbba22409d\n",
            "2025-10-02 14:40:55 - noveum_trace.transport.http_transport - INFO - ✅ Trace 78b4a573-256a-4d60-8e25-f7dbba22409d successfully queued for export\n"
          ]
        },
        {
          "name": "stdout",
          "output_type": "stream",
          "text": [
            "2025-10-02 14:40:55 - INFO - novaeval.evaluators.agent_evaluator - Saving intermediate results after 3 samples\n",
            "2025-10-02 14:40:55 - INFO - novaeval.evaluators.agent_evaluator - Intermediate results saved to demo_results/post_validation_dataset/agent_evaluation_results.csv\n"
          ]
        },
        {
          "name": "stderr",
          "output_type": "stream",
          "text": [
            "Evaluating samples: 3it [00:12,  4.29s/it]"
          ]
        },
        {
          "name": "stdout",
          "output_type": "stream",
          "text": [
            "2025-10-02 14:40:55 - INFO - google_genai.models - AFC is enabled with max remote calls: 10.\n",
            "2025-10-02 14:40:56 - INFO - google_genai.models - AFC remote call 1 is done.\n"
          ]
        },
        {
          "name": "stderr",
          "output_type": "stream",
          "text": [
            "2025-10-02 14:40:56 - noveum_trace.transport.http_transport - INFO - 📤 EXPORTING TRACE: auto_trace_generate (ID: a8608212-ebb9-4eec-a977-5578c11cc590) - 1 spans\n",
            "2025-10-02 14:40:56 - noveum_trace.transport.batch_processor - INFO - 📥 ADDING TRACE TO QUEUE: auto_trace_generate (ID: a8608212-ebb9-4eec-a977-5578c11cc590) - 1 spans\n",
            "2025-10-02 14:40:56 - noveum_trace.transport.batch_processor - INFO - ✅ Successfully queued trace a8608212-ebb9-4eec-a977-5578c11cc590\n",
            "2025-10-02 14:40:56 - noveum_trace.transport.http_transport - INFO - ✅ Trace a8608212-ebb9-4eec-a977-5578c11cc590 successfully queued for export\n"
          ]
        },
        {
          "name": "stdout",
          "output_type": "stream",
          "text": [
            "2025-10-02 14:40:56 - INFO - google_genai.models - AFC is enabled with max remote calls: 10.\n",
            "2025-10-02 14:40:57 - INFO - google_genai.models - AFC remote call 1 is done.\n"
          ]
        },
        {
          "name": "stderr",
          "output_type": "stream",
          "text": [
            "2025-10-02 14:40:57 - noveum_trace.transport.http_transport - INFO - 📤 EXPORTING TRACE: auto_trace_generate (ID: 8acaf026-c317-4aa3-a96d-48b140813c85) - 1 spans\n",
            "2025-10-02 14:40:57 - noveum_trace.transport.batch_processor - INFO - 📥 ADDING TRACE TO QUEUE: auto_trace_generate (ID: 8acaf026-c317-4aa3-a96d-48b140813c85) - 1 spans\n",
            "2025-10-02 14:40:57 - noveum_trace.transport.batch_processor - INFO - ✅ Successfully queued trace 8acaf026-c317-4aa3-a96d-48b140813c85\n",
            "2025-10-02 14:40:57 - noveum_trace.transport.http_transport - INFO - ✅ Trace 8acaf026-c317-4aa3-a96d-48b140813c85 successfully queued for export\n"
          ]
        },
        {
          "name": "stdout",
          "output_type": "stream",
          "text": [
            "2025-10-02 14:40:57 - INFO - google_genai.models - AFC is enabled with max remote calls: 10.\n",
            "2025-10-02 14:40:59 - INFO - google_genai.models - AFC remote call 1 is done.\n"
          ]
        },
        {
          "name": "stderr",
          "output_type": "stream",
          "text": [
            "2025-10-02 14:40:59 - noveum_trace.transport.http_transport - INFO - 📤 EXPORTING TRACE: auto_trace_generate (ID: 5cd02f10-e377-4c5e-859d-3b7172ff3071) - 1 spans\n",
            "2025-10-02 14:40:59 - noveum_trace.transport.batch_processor - INFO - 📥 ADDING TRACE TO QUEUE: auto_trace_generate (ID: 5cd02f10-e377-4c5e-859d-3b7172ff3071) - 1 spans\n",
            "2025-10-02 14:40:59 - noveum_trace.transport.batch_processor - INFO - ✅ Successfully queued trace 5cd02f10-e377-4c5e-859d-3b7172ff3071\n",
            "2025-10-02 14:40:59 - noveum_trace.transport.http_transport - INFO - ✅ Trace 5cd02f10-e377-4c5e-859d-3b7172ff3071 successfully queued for export\n"
          ]
        },
        {
          "name": "stdout",
          "output_type": "stream",
          "text": [
            "2025-10-02 14:40:59 - INFO - novaeval.evaluators.agent_evaluator - Saving intermediate results after 4 samples\n",
            "2025-10-02 14:40:59 - INFO - novaeval.evaluators.agent_evaluator - Intermediate results saved to demo_results/post_validation_dataset/agent_evaluation_results.csv\n"
          ]
        },
        {
          "name": "stderr",
          "output_type": "stream",
          "text": [
            "Evaluating samples: 4it [00:16,  4.17s/it]"
          ]
        },
        {
          "name": "stdout",
          "output_type": "stream",
          "text": [
            "2025-10-02 14:40:59 - INFO - google_genai.models - AFC is enabled with max remote calls: 10.\n",
            "2025-10-02 14:41:00 - INFO - google_genai.models - AFC remote call 1 is done.\n"
          ]
        },
        {
          "name": "stderr",
          "output_type": "stream",
          "text": [
            "2025-10-02 14:41:00 - noveum_trace.transport.http_transport - INFO - 📤 EXPORTING TRACE: auto_trace_generate (ID: 8e932e80-77fb-4bea-b6e2-13b8d88a964a) - 1 spans\n",
            "2025-10-02 14:41:00 - noveum_trace.transport.batch_processor - INFO - 📥 ADDING TRACE TO QUEUE: auto_trace_generate (ID: 8e932e80-77fb-4bea-b6e2-13b8d88a964a) - 1 spans\n",
            "2025-10-02 14:41:00 - noveum_trace.transport.batch_processor - INFO - ✅ Successfully queued trace 8e932e80-77fb-4bea-b6e2-13b8d88a964a\n",
            "2025-10-02 14:41:00 - noveum_trace.transport.http_transport - INFO - ✅ Trace 8e932e80-77fb-4bea-b6e2-13b8d88a964a successfully queued for export\n"
          ]
        },
        {
          "name": "stdout",
          "output_type": "stream",
          "text": [
            "2025-10-02 14:41:00 - INFO - google_genai.models - AFC is enabled with max remote calls: 10.\n",
            "2025-10-02 14:41:01 - INFO - google_genai.models - AFC remote call 1 is done.\n"
          ]
        },
        {
          "name": "stderr",
          "output_type": "stream",
          "text": [
            "2025-10-02 14:41:01 - noveum_trace.transport.http_transport - INFO - 📤 EXPORTING TRACE: auto_trace_generate (ID: 2c6ef338-1ec0-4e70-a157-8d65689c0a31) - 1 spans\n",
            "2025-10-02 14:41:01 - noveum_trace.transport.batch_processor - INFO - 📥 ADDING TRACE TO QUEUE: auto_trace_generate (ID: 2c6ef338-1ec0-4e70-a157-8d65689c0a31) - 1 spans\n",
            "2025-10-02 14:41:01 - noveum_trace.transport.batch_processor - INFO - ✅ Successfully queued trace 2c6ef338-1ec0-4e70-a157-8d65689c0a31\n",
            "2025-10-02 14:41:01 - noveum_trace.transport.http_transport - INFO - ✅ Trace 2c6ef338-1ec0-4e70-a157-8d65689c0a31 successfully queued for export\n"
          ]
        },
        {
          "name": "stdout",
          "output_type": "stream",
          "text": [
            "2025-10-02 14:41:01 - INFO - google_genai.models - AFC is enabled with max remote calls: 10.\n",
            "2025-10-02 14:41:02 - INFO - google_genai.models - AFC remote call 1 is done.\n"
          ]
        },
        {
          "name": "stderr",
          "output_type": "stream",
          "text": [
            "2025-10-02 14:41:02 - noveum_trace.transport.http_transport - INFO - 📤 EXPORTING TRACE: auto_trace_generate (ID: b7bdee8d-8648-41eb-a51c-77cffbb51d7b) - 1 spans\n",
            "2025-10-02 14:41:02 - noveum_trace.transport.batch_processor - INFO - 📥 ADDING TRACE TO QUEUE: auto_trace_generate (ID: b7bdee8d-8648-41eb-a51c-77cffbb51d7b) - 1 spans\n",
            "2025-10-02 14:41:02 - noveum_trace.transport.batch_processor - INFO - ✅ Successfully queued trace b7bdee8d-8648-41eb-a51c-77cffbb51d7b\n",
            "2025-10-02 14:41:02 - noveum_trace.transport.http_transport - INFO - ✅ Trace b7bdee8d-8648-41eb-a51c-77cffbb51d7b successfully queued for export\n"
          ]
        },
        {
          "name": "stdout",
          "output_type": "stream",
          "text": [
            "2025-10-02 14:41:02 - INFO - novaeval.evaluators.agent_evaluator - Saving intermediate results after 5 samples\n",
            "2025-10-02 14:41:02 - INFO - novaeval.evaluators.agent_evaluator - Intermediate results saved to demo_results/post_validation_dataset/agent_evaluation_results.csv\n"
          ]
        },
        {
          "name": "stderr",
          "output_type": "stream",
          "text": [
            "Evaluating samples: 5it [00:20,  4.07s/it]"
          ]
        },
        {
          "name": "stdout",
          "output_type": "stream",
          "text": [
            "2025-10-02 14:41:02 - INFO - google_genai.models - AFC is enabled with max remote calls: 10.\n",
            "2025-10-02 14:41:04 - INFO - google_genai.models - AFC remote call 1 is done.\n"
          ]
        },
        {
          "name": "stderr",
          "output_type": "stream",
          "text": [
            "2025-10-02 14:41:04 - noveum_trace.transport.http_transport - INFO - 📤 EXPORTING TRACE: auto_trace_generate (ID: 88935f26-c560-4c92-8f7c-090a8a285c25) - 1 spans\n",
            "2025-10-02 14:41:04 - noveum_trace.transport.batch_processor - INFO - 📥 ADDING TRACE TO QUEUE: auto_trace_generate (ID: 88935f26-c560-4c92-8f7c-090a8a285c25) - 1 spans\n",
            "2025-10-02 14:41:04 - noveum_trace.transport.batch_processor - INFO - ✅ Successfully queued trace 88935f26-c560-4c92-8f7c-090a8a285c25\n",
            "2025-10-02 14:41:04 - noveum_trace.transport.http_transport - INFO - ✅ Trace 88935f26-c560-4c92-8f7c-090a8a285c25 successfully queued for export\n"
          ]
        },
        {
          "name": "stdout",
          "output_type": "stream",
          "text": [
            "2025-10-02 14:41:04 - INFO - google_genai.models - AFC is enabled with max remote calls: 10.\n",
            "2025-10-02 14:41:05 - INFO - google_genai.models - AFC remote call 1 is done.\n"
          ]
        },
        {
          "name": "stderr",
          "output_type": "stream",
          "text": [
            "2025-10-02 14:41:05 - noveum_trace.transport.http_transport - INFO - 📤 EXPORTING TRACE: auto_trace_generate (ID: aef69044-7994-470a-bb77-4b0bd4e283fa) - 1 spans\n",
            "2025-10-02 14:41:05 - noveum_trace.transport.batch_processor - INFO - 📥 ADDING TRACE TO QUEUE: auto_trace_generate (ID: aef69044-7994-470a-bb77-4b0bd4e283fa) - 1 spans\n",
            "2025-10-02 14:41:05 - noveum_trace.transport.batch_processor - INFO - ✅ Successfully queued trace aef69044-7994-470a-bb77-4b0bd4e283fa\n",
            "2025-10-02 14:41:05 - noveum_trace.transport.http_transport - INFO - ✅ Trace aef69044-7994-470a-bb77-4b0bd4e283fa successfully queued for export\n"
          ]
        },
        {
          "name": "stdout",
          "output_type": "stream",
          "text": [
            "2025-10-02 14:41:05 - INFO - google_genai.models - AFC is enabled with max remote calls: 10.\n",
            "2025-10-02 14:41:06 - INFO - google_genai.models - AFC remote call 1 is done.\n"
          ]
        },
        {
          "name": "stderr",
          "output_type": "stream",
          "text": [
            "2025-10-02 14:41:06 - noveum_trace.transport.http_transport - INFO - 📤 EXPORTING TRACE: auto_trace_generate (ID: 76089e9e-fbca-4205-b766-1cc1d32c472b) - 1 spans\n",
            "2025-10-02 14:41:06 - noveum_trace.transport.batch_processor - INFO - 📥 ADDING TRACE TO QUEUE: auto_trace_generate (ID: 76089e9e-fbca-4205-b766-1cc1d32c472b) - 1 spans\n",
            "2025-10-02 14:41:06 - noveum_trace.transport.batch_processor - INFO - ✅ Successfully queued trace 76089e9e-fbca-4205-b766-1cc1d32c472b\n",
            "2025-10-02 14:41:06 - noveum_trace.transport.http_transport - INFO - ✅ Trace 76089e9e-fbca-4205-b766-1cc1d32c472b successfully queued for export\n"
          ]
        },
        {
          "name": "stdout",
          "output_type": "stream",
          "text": [
            "2025-10-02 14:41:06 - INFO - novaeval.evaluators.agent_evaluator - Saving intermediate results after 6 samples\n",
            "2025-10-02 14:41:06 - INFO - novaeval.evaluators.agent_evaluator - Intermediate results saved to demo_results/post_validation_dataset/agent_evaluation_results.csv\n"
          ]
        },
        {
          "name": "stderr",
          "output_type": "stream",
          "text": [
            "Evaluating samples: 6it [00:24,  3.98s/it]"
          ]
        },
        {
          "name": "stdout",
          "output_type": "stream",
          "text": [
            "2025-10-02 14:41:06 - INFO - google_genai.models - AFC is enabled with max remote calls: 10.\n",
            "2025-10-02 14:41:08 - INFO - google_genai.models - AFC remote call 1 is done.\n"
          ]
        },
        {
          "name": "stderr",
          "output_type": "stream",
          "text": [
            "2025-10-02 14:41:08 - noveum_trace.transport.http_transport - INFO - 📤 EXPORTING TRACE: auto_trace_generate (ID: 94587a53-3894-4633-8581-094ce9bd7a4e) - 1 spans\n",
            "2025-10-02 14:41:08 - noveum_trace.transport.batch_processor - INFO - 📥 ADDING TRACE TO QUEUE: auto_trace_generate (ID: 94587a53-3894-4633-8581-094ce9bd7a4e) - 1 spans\n",
            "2025-10-02 14:41:08 - noveum_trace.transport.batch_processor - INFO - ✅ Successfully queued trace 94587a53-3894-4633-8581-094ce9bd7a4e\n",
            "2025-10-02 14:41:08 - noveum_trace.transport.http_transport - INFO - ✅ Trace 94587a53-3894-4633-8581-094ce9bd7a4e successfully queued for export\n"
          ]
        },
        {
          "name": "stdout",
          "output_type": "stream",
          "text": [
            "2025-10-02 14:41:08 - INFO - google_genai.models - AFC is enabled with max remote calls: 10.\n",
            "2025-10-02 14:41:09 - INFO - google_genai.models - AFC remote call 1 is done.\n"
          ]
        },
        {
          "name": "stderr",
          "output_type": "stream",
          "text": [
            "2025-10-02 14:41:09 - noveum_trace.transport.http_transport - INFO - 📤 EXPORTING TRACE: auto_trace_generate (ID: c0a9d555-b5e1-459d-8f18-388e33ca4c84) - 1 spans\n",
            "2025-10-02 14:41:09 - noveum_trace.transport.batch_processor - INFO - 📥 ADDING TRACE TO QUEUE: auto_trace_generate (ID: c0a9d555-b5e1-459d-8f18-388e33ca4c84) - 1 spans\n",
            "2025-10-02 14:41:09 - noveum_trace.transport.batch_processor - INFO - ✅ Successfully queued trace c0a9d555-b5e1-459d-8f18-388e33ca4c84\n",
            "2025-10-02 14:41:09 - noveum_trace.transport.http_transport - INFO - ✅ Trace c0a9d555-b5e1-459d-8f18-388e33ca4c84 successfully queued for export\n"
          ]
        },
        {
          "name": "stdout",
          "output_type": "stream",
          "text": [
            "2025-10-02 14:41:09 - INFO - google_genai.models - AFC is enabled with max remote calls: 10.\n",
            "2025-10-02 14:41:10 - INFO - google_genai.models - AFC remote call 1 is done.\n"
          ]
        },
        {
          "name": "stderr",
          "output_type": "stream",
          "text": [
            "2025-10-02 14:41:10 - noveum_trace.transport.http_transport - INFO - 📤 EXPORTING TRACE: auto_trace_generate (ID: 1c9fd68d-1538-4a63-8b54-1fadf7a1ea1c) - 1 spans\n",
            "2025-10-02 14:41:10 - noveum_trace.transport.batch_processor - INFO - 📥 ADDING TRACE TO QUEUE: auto_trace_generate (ID: 1c9fd68d-1538-4a63-8b54-1fadf7a1ea1c) - 1 spans\n",
            "2025-10-02 14:41:10 - noveum_trace.transport.batch_processor - INFO - ✅ Successfully queued trace 1c9fd68d-1538-4a63-8b54-1fadf7a1ea1c\n",
            "2025-10-02 14:41:10 - noveum_trace.transport.http_transport - INFO - ✅ Trace 1c9fd68d-1538-4a63-8b54-1fadf7a1ea1c successfully queued for export\n"
          ]
        },
        {
          "name": "stdout",
          "output_type": "stream",
          "text": [
            "2025-10-02 14:41:10 - INFO - novaeval.evaluators.agent_evaluator - Saving intermediate results after 7 samples\n",
            "2025-10-02 14:41:10 - INFO - novaeval.evaluators.agent_evaluator - Intermediate results saved to demo_results/post_validation_dataset/agent_evaluation_results.csv\n"
          ]
        },
        {
          "name": "stderr",
          "output_type": "stream",
          "text": [
            "Evaluating samples: 7it [00:28,  4.02s/it]"
          ]
        },
        {
          "name": "stdout",
          "output_type": "stream",
          "text": [
            "2025-10-02 14:41:10 - INFO - google_genai.models - AFC is enabled with max remote calls: 10.\n",
            "2025-10-02 14:41:12 - INFO - google_genai.models - AFC remote call 1 is done.\n"
          ]
        },
        {
          "name": "stderr",
          "output_type": "stream",
          "text": [
            "2025-10-02 14:41:12 - noveum_trace.transport.http_transport - INFO - 📤 EXPORTING TRACE: auto_trace_generate (ID: bb98a783-8258-456d-8bc8-4490069b40db) - 1 spans\n",
            "2025-10-02 14:41:12 - noveum_trace.transport.batch_processor - INFO - 📥 ADDING TRACE TO QUEUE: auto_trace_generate (ID: bb98a783-8258-456d-8bc8-4490069b40db) - 1 spans\n",
            "2025-10-02 14:41:12 - noveum_trace.transport.batch_processor - INFO - ✅ Successfully queued trace bb98a783-8258-456d-8bc8-4490069b40db\n",
            "2025-10-02 14:41:12 - noveum_trace.transport.http_transport - INFO - ✅ Trace bb98a783-8258-456d-8bc8-4490069b40db successfully queued for export\n"
          ]
        },
        {
          "name": "stdout",
          "output_type": "stream",
          "text": [
            "2025-10-02 14:41:12 - INFO - google_genai.models - AFC is enabled with max remote calls: 10.\n",
            "2025-10-02 14:41:13 - INFO - google_genai.models - AFC remote call 1 is done.\n"
          ]
        },
        {
          "name": "stderr",
          "output_type": "stream",
          "text": [
            "2025-10-02 14:41:13 - noveum_trace.transport.http_transport - INFO - 📤 EXPORTING TRACE: auto_trace_generate (ID: a08cd663-3101-45d6-818d-88c89ee9e35a) - 1 spans\n",
            "2025-10-02 14:41:13 - noveum_trace.transport.batch_processor - INFO - 📥 ADDING TRACE TO QUEUE: auto_trace_generate (ID: a08cd663-3101-45d6-818d-88c89ee9e35a) - 1 spans\n",
            "2025-10-02 14:41:13 - noveum_trace.transport.batch_processor - INFO - ✅ Successfully queued trace a08cd663-3101-45d6-818d-88c89ee9e35a\n",
            "2025-10-02 14:41:13 - noveum_trace.transport.http_transport - INFO - ✅ Trace a08cd663-3101-45d6-818d-88c89ee9e35a successfully queued for export\n"
          ]
        },
        {
          "name": "stdout",
          "output_type": "stream",
          "text": [
            "2025-10-02 14:41:13 - INFO - google_genai.models - AFC is enabled with max remote calls: 10.\n",
            "2025-10-02 14:41:15 - INFO - google_genai.models - AFC remote call 1 is done.\n"
          ]
        },
        {
          "name": "stderr",
          "output_type": "stream",
          "text": [
            "2025-10-02 14:41:15 - noveum_trace.transport.http_transport - INFO - 📤 EXPORTING TRACE: auto_trace_generate (ID: b0473a68-1622-476a-9106-0487f28c1148) - 1 spans\n",
            "2025-10-02 14:41:15 - noveum_trace.transport.batch_processor - INFO - 📥 ADDING TRACE TO QUEUE: auto_trace_generate (ID: b0473a68-1622-476a-9106-0487f28c1148) - 1 spans\n",
            "2025-10-02 14:41:15 - noveum_trace.transport.batch_processor - INFO - ✅ Successfully queued trace b0473a68-1622-476a-9106-0487f28c1148\n",
            "2025-10-02 14:41:15 - noveum_trace.transport.http_transport - INFO - ✅ Trace b0473a68-1622-476a-9106-0487f28c1148 successfully queued for export\n"
          ]
        },
        {
          "name": "stdout",
          "output_type": "stream",
          "text": [
            "2025-10-02 14:41:15 - INFO - novaeval.evaluators.agent_evaluator - Saving intermediate results after 8 samples\n",
            "2025-10-02 14:41:15 - INFO - novaeval.evaluators.agent_evaluator - Intermediate results saved to demo_results/post_validation_dataset/agent_evaluation_results.csv\n"
          ]
        },
        {
          "name": "stderr",
          "output_type": "stream",
          "text": [
            "Evaluating samples: 8it [00:33,  4.17s/it]"
          ]
        },
        {
          "name": "stdout",
          "output_type": "stream",
          "text": [
            "2025-10-02 14:41:15 - INFO - google_genai.models - AFC is enabled with max remote calls: 10.\n",
            "2025-10-02 14:41:16 - INFO - google_genai.models - AFC remote call 1 is done.\n"
          ]
        },
        {
          "name": "stderr",
          "output_type": "stream",
          "text": [
            "2025-10-02 14:41:16 - noveum_trace.transport.http_transport - INFO - 📤 EXPORTING TRACE: auto_trace_generate (ID: 60d11d14-f4fc-4aa0-96ae-55b0730f05d8) - 1 spans\n",
            "2025-10-02 14:41:16 - noveum_trace.transport.batch_processor - INFO - 📥 ADDING TRACE TO QUEUE: auto_trace_generate (ID: 60d11d14-f4fc-4aa0-96ae-55b0730f05d8) - 1 spans\n",
            "2025-10-02 14:41:16 - noveum_trace.transport.batch_processor - INFO - ✅ Successfully queued trace 60d11d14-f4fc-4aa0-96ae-55b0730f05d8\n",
            "2025-10-02 14:41:16 - noveum_trace.transport.http_transport - INFO - ✅ Trace 60d11d14-f4fc-4aa0-96ae-55b0730f05d8 successfully queued for export\n"
          ]
        },
        {
          "name": "stdout",
          "output_type": "stream",
          "text": [
            "2025-10-02 14:41:16 - INFO - google_genai.models - AFC is enabled with max remote calls: 10.\n",
            "2025-10-02 14:41:18 - INFO - google_genai.models - AFC remote call 1 is done.\n"
          ]
        },
        {
          "name": "stderr",
          "output_type": "stream",
          "text": [
            "2025-10-02 14:41:18 - noveum_trace.transport.http_transport - INFO - 📤 EXPORTING TRACE: auto_trace_generate (ID: fc8c2d24-7950-4e9c-bce2-9c58cd9f79d7) - 1 spans\n",
            "2025-10-02 14:41:18 - noveum_trace.transport.batch_processor - INFO - 📥 ADDING TRACE TO QUEUE: auto_trace_generate (ID: fc8c2d24-7950-4e9c-bce2-9c58cd9f79d7) - 1 spans\n",
            "2025-10-02 14:41:18 - noveum_trace.transport.batch_processor - INFO - ✅ Successfully queued trace fc8c2d24-7950-4e9c-bce2-9c58cd9f79d7\n",
            "2025-10-02 14:41:18 - noveum_trace.transport.http_transport - INFO - ✅ Trace fc8c2d24-7950-4e9c-bce2-9c58cd9f79d7 successfully queued for export\n"
          ]
        },
        {
          "name": "stdout",
          "output_type": "stream",
          "text": [
            "2025-10-02 14:41:18 - INFO - google_genai.models - AFC is enabled with max remote calls: 10.\n",
            "2025-10-02 14:41:19 - INFO - google_genai.models - AFC remote call 1 is done.\n"
          ]
        },
        {
          "name": "stderr",
          "output_type": "stream",
          "text": [
            "2025-10-02 14:41:19 - noveum_trace.transport.http_transport - INFO - 📤 EXPORTING TRACE: auto_trace_generate (ID: a2e5857d-44c6-4564-aba3-1f9ceb393677) - 1 spans\n",
            "2025-10-02 14:41:19 - noveum_trace.transport.batch_processor - INFO - 📥 ADDING TRACE TO QUEUE: auto_trace_generate (ID: a2e5857d-44c6-4564-aba3-1f9ceb393677) - 1 spans\n",
            "2025-10-02 14:41:19 - noveum_trace.transport.batch_processor - INFO - ✅ Successfully queued trace a2e5857d-44c6-4564-aba3-1f9ceb393677\n",
            "2025-10-02 14:41:19 - noveum_trace.transport.http_transport - INFO - ✅ Trace a2e5857d-44c6-4564-aba3-1f9ceb393677 successfully queued for export\n"
          ]
        },
        {
          "name": "stdout",
          "output_type": "stream",
          "text": [
            "2025-10-02 14:41:19 - INFO - novaeval.evaluators.agent_evaluator - Saving intermediate results after 9 samples\n",
            "2025-10-02 14:41:19 - INFO - novaeval.evaluators.agent_evaluator - Intermediate results saved to demo_results/post_validation_dataset/agent_evaluation_results.csv\n"
          ]
        },
        {
          "name": "stderr",
          "output_type": "stream",
          "text": [
            "Evaluating samples: 9it [00:37,  4.12s/it]"
          ]
        },
        {
          "name": "stdout",
          "output_type": "stream",
          "text": [
            "2025-10-02 14:41:19 - INFO - google_genai.models - AFC is enabled with max remote calls: 10.\n",
            "2025-10-02 14:41:20 - INFO - google_genai.models - AFC remote call 1 is done.\n"
          ]
        },
        {
          "name": "stderr",
          "output_type": "stream",
          "text": [
            "2025-10-02 14:41:20 - noveum_trace.transport.http_transport - INFO - 📤 EXPORTING TRACE: auto_trace_generate (ID: fdbfac24-2d17-420f-855f-228ab157a962) - 1 spans\n",
            "2025-10-02 14:41:20 - noveum_trace.transport.batch_processor - INFO - 📥 ADDING TRACE TO QUEUE: auto_trace_generate (ID: fdbfac24-2d17-420f-855f-228ab157a962) - 1 spans\n",
            "2025-10-02 14:41:20 - noveum_trace.transport.batch_processor - INFO - ✅ Successfully queued trace fdbfac24-2d17-420f-855f-228ab157a962\n",
            "2025-10-02 14:41:20 - noveum_trace.transport.http_transport - INFO - ✅ Trace fdbfac24-2d17-420f-855f-228ab157a962 successfully queued for export\n"
          ]
        },
        {
          "name": "stdout",
          "output_type": "stream",
          "text": [
            "2025-10-02 14:41:20 - INFO - google_genai.models - AFC is enabled with max remote calls: 10.\n",
            "2025-10-02 14:41:21 - INFO - google_genai.models - AFC remote call 1 is done.\n"
          ]
        },
        {
          "name": "stderr",
          "output_type": "stream",
          "text": [
            "2025-10-02 14:41:21 - noveum_trace.transport.http_transport - INFO - 📤 EXPORTING TRACE: auto_trace_generate (ID: 2c369860-99f3-42cc-bfa8-40cd8e18e8f6) - 1 spans\n",
            "2025-10-02 14:41:21 - noveum_trace.transport.batch_processor - INFO - 📥 ADDING TRACE TO QUEUE: auto_trace_generate (ID: 2c369860-99f3-42cc-bfa8-40cd8e18e8f6) - 1 spans\n",
            "2025-10-02 14:41:21 - noveum_trace.transport.batch_processor - INFO - ✅ Successfully queued trace 2c369860-99f3-42cc-bfa8-40cd8e18e8f6\n",
            "2025-10-02 14:41:21 - noveum_trace.transport.http_transport - INFO - ✅ Trace 2c369860-99f3-42cc-bfa8-40cd8e18e8f6 successfully queued for export\n"
          ]
        },
        {
          "name": "stdout",
          "output_type": "stream",
          "text": [
            "2025-10-02 14:41:22 - INFO - google_genai.models - AFC is enabled with max remote calls: 10.\n",
            "2025-10-02 14:41:23 - INFO - google_genai.models - AFC remote call 1 is done.\n"
          ]
        },
        {
          "name": "stderr",
          "output_type": "stream",
          "text": [
            "2025-10-02 14:41:23 - noveum_trace.transport.http_transport - INFO - 📤 EXPORTING TRACE: auto_trace_generate (ID: bf9e4d15-ebfc-40fd-b207-3328457c08d7) - 1 spans\n",
            "2025-10-02 14:41:23 - noveum_trace.transport.batch_processor - INFO - 📥 ADDING TRACE TO QUEUE: auto_trace_generate (ID: bf9e4d15-ebfc-40fd-b207-3328457c08d7) - 1 spans\n",
            "2025-10-02 14:41:23 - noveum_trace.transport.batch_processor - INFO - ✅ Successfully queued trace bf9e4d15-ebfc-40fd-b207-3328457c08d7\n",
            "2025-10-02 14:41:23 - noveum_trace.transport.http_transport - INFO - ✅ Trace bf9e4d15-ebfc-40fd-b207-3328457c08d7 successfully queued for export\n"
          ]
        },
        {
          "name": "stdout",
          "output_type": "stream",
          "text": [
            "2025-10-02 14:41:23 - INFO - novaeval.evaluators.agent_evaluator - Saving intermediate results after 10 samples\n",
            "2025-10-02 14:41:23 - INFO - novaeval.evaluators.agent_evaluator - Intermediate results saved to demo_results/post_validation_dataset/agent_evaluation_results.csv\n"
          ]
        },
        {
          "name": "stderr",
          "output_type": "stream",
          "text": [
            "Evaluating samples: 10it [00:41,  4.05s/it]"
          ]
        },
        {
          "name": "stdout",
          "output_type": "stream",
          "text": [
            "2025-10-02 14:41:23 - INFO - google_genai.models - AFC is enabled with max remote calls: 10.\n",
            "2025-10-02 14:41:24 - INFO - google_genai.models - AFC remote call 1 is done.\n"
          ]
        },
        {
          "name": "stderr",
          "output_type": "stream",
          "text": [
            "2025-10-02 14:41:24 - noveum_trace.transport.http_transport - INFO - 📤 EXPORTING TRACE: auto_trace_generate (ID: 88eb0b1e-abfb-4323-8929-2b74eea1fac3) - 1 spans\n",
            "2025-10-02 14:41:24 - noveum_trace.transport.batch_processor - INFO - 📥 ADDING TRACE TO QUEUE: auto_trace_generate (ID: 88eb0b1e-abfb-4323-8929-2b74eea1fac3) - 1 spans\n",
            "2025-10-02 14:41:24 - noveum_trace.transport.batch_processor - INFO - ✅ Successfully queued trace 88eb0b1e-abfb-4323-8929-2b74eea1fac3\n",
            "2025-10-02 14:41:24 - noveum_trace.transport.http_transport - INFO - ✅ Trace 88eb0b1e-abfb-4323-8929-2b74eea1fac3 successfully queued for export\n"
          ]
        },
        {
          "name": "stdout",
          "output_type": "stream",
          "text": [
            "2025-10-02 14:41:24 - INFO - google_genai.models - AFC is enabled with max remote calls: 10.\n",
            "2025-10-02 14:41:25 - INFO - google_genai.models - AFC remote call 1 is done.\n"
          ]
        },
        {
          "name": "stderr",
          "output_type": "stream",
          "text": [
            "2025-10-02 14:41:25 - noveum_trace.transport.http_transport - INFO - 📤 EXPORTING TRACE: auto_trace_generate (ID: 27d43542-6417-42c9-9496-1a896455e6ce) - 1 spans\n",
            "2025-10-02 14:41:25 - noveum_trace.transport.batch_processor - INFO - 📥 ADDING TRACE TO QUEUE: auto_trace_generate (ID: 27d43542-6417-42c9-9496-1a896455e6ce) - 1 spans\n",
            "2025-10-02 14:41:25 - noveum_trace.transport.batch_processor - INFO - ✅ Successfully queued trace 27d43542-6417-42c9-9496-1a896455e6ce\n",
            "2025-10-02 14:41:25 - noveum_trace.transport.http_transport - INFO - ✅ Trace 27d43542-6417-42c9-9496-1a896455e6ce successfully queued for export\n"
          ]
        },
        {
          "name": "stdout",
          "output_type": "stream",
          "text": [
            "2025-10-02 14:41:25 - INFO - google_genai.models - AFC is enabled with max remote calls: 10.\n",
            "2025-10-02 14:41:27 - INFO - google_genai.models - AFC remote call 1 is done.\n"
          ]
        },
        {
          "name": "stderr",
          "output_type": "stream",
          "text": [
            "2025-10-02 14:41:27 - noveum_trace.transport.http_transport - INFO - 📤 EXPORTING TRACE: auto_trace_generate (ID: f6bb7c01-d41e-4b92-9024-73b09cf9321e) - 1 spans\n",
            "2025-10-02 14:41:27 - noveum_trace.transport.batch_processor - INFO - 📥 ADDING TRACE TO QUEUE: auto_trace_generate (ID: f6bb7c01-d41e-4b92-9024-73b09cf9321e) - 1 spans\n",
            "2025-10-02 14:41:27 - noveum_trace.transport.batch_processor - INFO - ✅ Successfully queued trace f6bb7c01-d41e-4b92-9024-73b09cf9321e\n",
            "2025-10-02 14:41:27 - noveum_trace.transport.http_transport - INFO - ✅ Trace f6bb7c01-d41e-4b92-9024-73b09cf9321e successfully queued for export\n"
          ]
        },
        {
          "name": "stdout",
          "output_type": "stream",
          "text": [
            "2025-10-02 14:41:27 - INFO - novaeval.evaluators.agent_evaluator - Saving intermediate results after 11 samples\n",
            "2025-10-02 14:41:27 - INFO - novaeval.evaluators.agent_evaluator - Intermediate results saved to demo_results/post_validation_dataset/agent_evaluation_results.csv\n"
          ]
        },
        {
          "name": "stderr",
          "output_type": "stream",
          "text": [
            "Evaluating samples: 11it [00:45,  4.03s/it]"
          ]
        },
        {
          "name": "stdout",
          "output_type": "stream",
          "text": [
            "2025-10-02 14:41:27 - INFO - google_genai.models - AFC is enabled with max remote calls: 10.\n",
            "2025-10-02 14:41:28 - INFO - google_genai.models - AFC remote call 1 is done.\n"
          ]
        },
        {
          "name": "stderr",
          "output_type": "stream",
          "text": [
            "2025-10-02 14:41:28 - noveum_trace.transport.http_transport - INFO - 📤 EXPORTING TRACE: auto_trace_generate (ID: 864aa668-1d1a-4fbb-b3fa-93a54053c23b) - 1 spans\n",
            "2025-10-02 14:41:28 - noveum_trace.transport.batch_processor - INFO - 📥 ADDING TRACE TO QUEUE: auto_trace_generate (ID: 864aa668-1d1a-4fbb-b3fa-93a54053c23b) - 1 spans\n",
            "2025-10-02 14:41:28 - noveum_trace.transport.batch_processor - INFO - ✅ Successfully queued trace 864aa668-1d1a-4fbb-b3fa-93a54053c23b\n",
            "2025-10-02 14:41:28 - noveum_trace.transport.http_transport - INFO - ✅ Trace 864aa668-1d1a-4fbb-b3fa-93a54053c23b successfully queued for export\n"
          ]
        },
        {
          "name": "stdout",
          "output_type": "stream",
          "text": [
            "2025-10-02 14:41:28 - INFO - google_genai.models - AFC is enabled with max remote calls: 10.\n",
            "2025-10-02 14:41:29 - INFO - google_genai.models - AFC remote call 1 is done.\n"
          ]
        },
        {
          "name": "stderr",
          "output_type": "stream",
          "text": [
            "2025-10-02 14:41:29 - noveum_trace.transport.http_transport - INFO - 📤 EXPORTING TRACE: auto_trace_generate (ID: 96d9e1e0-8001-4983-b785-e2e3c6916aa1) - 1 spans\n",
            "2025-10-02 14:41:29 - noveum_trace.transport.batch_processor - INFO - 📥 ADDING TRACE TO QUEUE: auto_trace_generate (ID: 96d9e1e0-8001-4983-b785-e2e3c6916aa1) - 1 spans\n",
            "2025-10-02 14:41:29 - noveum_trace.transport.batch_processor - INFO - ✅ Successfully queued trace 96d9e1e0-8001-4983-b785-e2e3c6916aa1\n",
            "2025-10-02 14:41:29 - noveum_trace.transport.http_transport - INFO - ✅ Trace 96d9e1e0-8001-4983-b785-e2e3c6916aa1 successfully queued for export\n"
          ]
        },
        {
          "name": "stdout",
          "output_type": "stream",
          "text": [
            "2025-10-02 14:41:29 - INFO - google_genai.models - AFC is enabled with max remote calls: 10.\n",
            "2025-10-02 14:41:30 - INFO - google_genai.models - AFC remote call 1 is done.\n"
          ]
        },
        {
          "name": "stderr",
          "output_type": "stream",
          "text": [
            "2025-10-02 14:41:30 - noveum_trace.transport.http_transport - INFO - 📤 EXPORTING TRACE: auto_trace_generate (ID: dab93860-a58b-49c6-9d04-8e320090bb8b) - 1 spans\n",
            "2025-10-02 14:41:30 - noveum_trace.transport.batch_processor - INFO - 📥 ADDING TRACE TO QUEUE: auto_trace_generate (ID: dab93860-a58b-49c6-9d04-8e320090bb8b) - 1 spans\n",
            "2025-10-02 14:41:30 - noveum_trace.transport.batch_processor - INFO - ✅ Successfully queued trace dab93860-a58b-49c6-9d04-8e320090bb8b\n",
            "2025-10-02 14:41:30 - noveum_trace.transport.http_transport - INFO - ✅ Trace dab93860-a58b-49c6-9d04-8e320090bb8b successfully queued for export\n"
          ]
        },
        {
          "name": "stdout",
          "output_type": "stream",
          "text": [
            "2025-10-02 14:41:30 - INFO - novaeval.evaluators.agent_evaluator - Saving intermediate results after 12 samples\n",
            "2025-10-02 14:41:30 - INFO - novaeval.evaluators.agent_evaluator - Intermediate results saved to demo_results/post_validation_dataset/agent_evaluation_results.csv\n"
          ]
        },
        {
          "name": "stderr",
          "output_type": "stream",
          "text": [
            "Evaluating samples: 12it [00:48,  3.87s/it]"
          ]
        },
        {
          "name": "stdout",
          "output_type": "stream",
          "text": [
            "2025-10-02 14:41:30 - INFO - google_genai.models - AFC is enabled with max remote calls: 10.\n",
            "2025-10-02 14:41:32 - INFO - google_genai.models - AFC remote call 1 is done.\n"
          ]
        },
        {
          "name": "stderr",
          "output_type": "stream",
          "text": [
            "2025-10-02 14:41:32 - noveum_trace.transport.http_transport - INFO - 📤 EXPORTING TRACE: auto_trace_generate (ID: afa49cfd-b117-4106-9ea3-d09df88d64e6) - 1 spans\n",
            "2025-10-02 14:41:32 - noveum_trace.transport.batch_processor - INFO - 📥 ADDING TRACE TO QUEUE: auto_trace_generate (ID: afa49cfd-b117-4106-9ea3-d09df88d64e6) - 1 spans\n",
            "2025-10-02 14:41:32 - noveum_trace.transport.batch_processor - INFO - ✅ Successfully queued trace afa49cfd-b117-4106-9ea3-d09df88d64e6\n",
            "2025-10-02 14:41:32 - noveum_trace.transport.http_transport - INFO - ✅ Trace afa49cfd-b117-4106-9ea3-d09df88d64e6 successfully queued for export\n"
          ]
        },
        {
          "name": "stdout",
          "output_type": "stream",
          "text": [
            "2025-10-02 14:41:32 - INFO - google_genai.models - AFC is enabled with max remote calls: 10.\n",
            "2025-10-02 14:41:33 - INFO - google_genai.models - AFC remote call 1 is done.\n"
          ]
        },
        {
          "name": "stderr",
          "output_type": "stream",
          "text": [
            "2025-10-02 14:41:33 - noveum_trace.transport.http_transport - INFO - 📤 EXPORTING TRACE: auto_trace_generate (ID: 1a171f10-17c2-4072-b552-c15618be4379) - 1 spans\n",
            "2025-10-02 14:41:33 - noveum_trace.transport.batch_processor - INFO - 📥 ADDING TRACE TO QUEUE: auto_trace_generate (ID: 1a171f10-17c2-4072-b552-c15618be4379) - 1 spans\n",
            "2025-10-02 14:41:33 - noveum_trace.transport.batch_processor - INFO - ✅ Successfully queued trace 1a171f10-17c2-4072-b552-c15618be4379\n",
            "2025-10-02 14:41:33 - noveum_trace.transport.http_transport - INFO - ✅ Trace 1a171f10-17c2-4072-b552-c15618be4379 successfully queued for export\n"
          ]
        },
        {
          "name": "stdout",
          "output_type": "stream",
          "text": [
            "2025-10-02 14:41:33 - INFO - google_genai.models - AFC is enabled with max remote calls: 10.\n",
            "2025-10-02 14:41:34 - INFO - google_genai.models - AFC remote call 1 is done.\n"
          ]
        },
        {
          "name": "stderr",
          "output_type": "stream",
          "text": [
            "2025-10-02 14:41:34 - noveum_trace.transport.http_transport - INFO - 📤 EXPORTING TRACE: auto_trace_generate (ID: 8d6b079b-146b-4f36-8f20-3243e5d483dd) - 1 spans\n",
            "2025-10-02 14:41:34 - noveum_trace.transport.batch_processor - INFO - 📥 ADDING TRACE TO QUEUE: auto_trace_generate (ID: 8d6b079b-146b-4f36-8f20-3243e5d483dd) - 1 spans\n",
            "2025-10-02 14:41:34 - noveum_trace.transport.batch_processor - INFO - ✅ Successfully queued trace 8d6b079b-146b-4f36-8f20-3243e5d483dd\n",
            "2025-10-02 14:41:34 - noveum_trace.transport.http_transport - INFO - ✅ Trace 8d6b079b-146b-4f36-8f20-3243e5d483dd successfully queued for export\n"
          ]
        },
        {
          "name": "stdout",
          "output_type": "stream",
          "text": [
            "2025-10-02 14:41:34 - INFO - novaeval.evaluators.agent_evaluator - Saving intermediate results after 13 samples\n",
            "2025-10-02 14:41:34 - INFO - novaeval.evaluators.agent_evaluator - Intermediate results saved to demo_results/post_validation_dataset/agent_evaluation_results.csv\n"
          ]
        },
        {
          "name": "stderr",
          "output_type": "stream",
          "text": [
            "Evaluating samples: 13it [00:52,  3.84s/it]"
          ]
        },
        {
          "name": "stdout",
          "output_type": "stream",
          "text": [
            "2025-10-02 14:41:34 - INFO - google_genai.models - AFC is enabled with max remote calls: 10.\n",
            "2025-10-02 14:41:35 - INFO - google_genai.models - AFC remote call 1 is done.\n"
          ]
        },
        {
          "name": "stderr",
          "output_type": "stream",
          "text": [
            "2025-10-02 14:41:35 - noveum_trace.transport.http_transport - INFO - 📤 EXPORTING TRACE: auto_trace_generate (ID: 9e887345-0700-4d93-866f-c9b88d77ab52) - 1 spans\n",
            "2025-10-02 14:41:35 - noveum_trace.transport.batch_processor - INFO - 📥 ADDING TRACE TO QUEUE: auto_trace_generate (ID: 9e887345-0700-4d93-866f-c9b88d77ab52) - 1 spans\n",
            "2025-10-02 14:41:35 - noveum_trace.transport.batch_processor - INFO - ✅ Successfully queued trace 9e887345-0700-4d93-866f-c9b88d77ab52\n",
            "2025-10-02 14:41:35 - noveum_trace.transport.http_transport - INFO - ✅ Trace 9e887345-0700-4d93-866f-c9b88d77ab52 successfully queued for export\n"
          ]
        },
        {
          "name": "stdout",
          "output_type": "stream",
          "text": [
            "2025-10-02 14:41:35 - INFO - google_genai.models - AFC is enabled with max remote calls: 10.\n",
            "2025-10-02 14:41:37 - INFO - google_genai.models - AFC remote call 1 is done.\n"
          ]
        },
        {
          "name": "stderr",
          "output_type": "stream",
          "text": [
            "2025-10-02 14:41:37 - noveum_trace.transport.http_transport - INFO - 📤 EXPORTING TRACE: auto_trace_generate (ID: de80687b-a65f-4d9b-9034-db4fbc261b9a) - 1 spans\n",
            "2025-10-02 14:41:37 - noveum_trace.transport.batch_processor - INFO - 📥 ADDING TRACE TO QUEUE: auto_trace_generate (ID: de80687b-a65f-4d9b-9034-db4fbc261b9a) - 1 spans\n",
            "2025-10-02 14:41:37 - noveum_trace.transport.batch_processor - INFO - ✅ Successfully queued trace de80687b-a65f-4d9b-9034-db4fbc261b9a\n",
            "2025-10-02 14:41:37 - noveum_trace.transport.http_transport - INFO - ✅ Trace de80687b-a65f-4d9b-9034-db4fbc261b9a successfully queued for export\n"
          ]
        },
        {
          "name": "stdout",
          "output_type": "stream",
          "text": [
            "2025-10-02 14:41:37 - INFO - google_genai.models - AFC is enabled with max remote calls: 10.\n",
            "2025-10-02 14:41:38 - INFO - google_genai.models - AFC remote call 1 is done.\n"
          ]
        },
        {
          "name": "stderr",
          "output_type": "stream",
          "text": [
            "2025-10-02 14:41:38 - noveum_trace.transport.http_transport - INFO - 📤 EXPORTING TRACE: auto_trace_generate (ID: 6cf8a478-c0f8-4ca6-a933-bfb12738d705) - 1 spans\n",
            "2025-10-02 14:41:38 - noveum_trace.transport.batch_processor - INFO - 📥 ADDING TRACE TO QUEUE: auto_trace_generate (ID: 6cf8a478-c0f8-4ca6-a933-bfb12738d705) - 1 spans\n",
            "2025-10-02 14:41:38 - noveum_trace.transport.batch_processor - INFO - ✅ Successfully queued trace 6cf8a478-c0f8-4ca6-a933-bfb12738d705\n",
            "2025-10-02 14:41:38 - noveum_trace.transport.http_transport - INFO - ✅ Trace 6cf8a478-c0f8-4ca6-a933-bfb12738d705 successfully queued for export\n"
          ]
        },
        {
          "name": "stdout",
          "output_type": "stream",
          "text": [
            "2025-10-02 14:41:38 - INFO - novaeval.evaluators.agent_evaluator - Saving intermediate results after 14 samples\n",
            "2025-10-02 14:41:38 - INFO - novaeval.evaluators.agent_evaluator - Intermediate results saved to demo_results/post_validation_dataset/agent_evaluation_results.csv\n"
          ]
        },
        {
          "name": "stderr",
          "output_type": "stream",
          "text": [
            "Evaluating samples: 14it [00:56,  3.82s/it]"
          ]
        },
        {
          "name": "stdout",
          "output_type": "stream",
          "text": [
            "2025-10-02 14:41:38 - INFO - google_genai.models - AFC is enabled with max remote calls: 10.\n",
            "2025-10-02 14:41:39 - INFO - google_genai.models - AFC remote call 1 is done.\n"
          ]
        },
        {
          "name": "stderr",
          "output_type": "stream",
          "text": [
            "2025-10-02 14:41:39 - noveum_trace.transport.http_transport - INFO - 📤 EXPORTING TRACE: auto_trace_generate (ID: 2745d983-36f1-421f-9de9-1994a1606e0b) - 1 spans\n",
            "2025-10-02 14:41:39 - noveum_trace.transport.batch_processor - INFO - 📥 ADDING TRACE TO QUEUE: auto_trace_generate (ID: 2745d983-36f1-421f-9de9-1994a1606e0b) - 1 spans\n",
            "2025-10-02 14:41:39 - noveum_trace.transport.batch_processor - INFO - ✅ Successfully queued trace 2745d983-36f1-421f-9de9-1994a1606e0b\n",
            "2025-10-02 14:41:39 - noveum_trace.transport.http_transport - INFO - ✅ Trace 2745d983-36f1-421f-9de9-1994a1606e0b successfully queued for export\n"
          ]
        },
        {
          "name": "stdout",
          "output_type": "stream",
          "text": [
            "2025-10-02 14:41:39 - INFO - google_genai.models - AFC is enabled with max remote calls: 10.\n",
            "2025-10-02 14:41:41 - INFO - google_genai.models - AFC remote call 1 is done.\n"
          ]
        },
        {
          "name": "stderr",
          "output_type": "stream",
          "text": [
            "2025-10-02 14:41:41 - noveum_trace.transport.http_transport - INFO - 📤 EXPORTING TRACE: auto_trace_generate (ID: 723c7e4f-11b0-4ce9-8a17-8c51ac578556) - 1 spans\n",
            "2025-10-02 14:41:41 - noveum_trace.transport.batch_processor - INFO - 📥 ADDING TRACE TO QUEUE: auto_trace_generate (ID: 723c7e4f-11b0-4ce9-8a17-8c51ac578556) - 1 spans\n",
            "2025-10-02 14:41:41 - noveum_trace.transport.batch_processor - INFO - ✅ Successfully queued trace 723c7e4f-11b0-4ce9-8a17-8c51ac578556\n",
            "2025-10-02 14:41:41 - noveum_trace.transport.http_transport - INFO - ✅ Trace 723c7e4f-11b0-4ce9-8a17-8c51ac578556 successfully queued for export\n"
          ]
        },
        {
          "name": "stdout",
          "output_type": "stream",
          "text": [
            "2025-10-02 14:41:41 - INFO - google_genai.models - AFC is enabled with max remote calls: 10.\n",
            "2025-10-02 14:41:42 - INFO - google_genai.models - AFC remote call 1 is done.\n"
          ]
        },
        {
          "name": "stderr",
          "output_type": "stream",
          "text": [
            "2025-10-02 14:41:42 - noveum_trace.transport.http_transport - INFO - 📤 EXPORTING TRACE: auto_trace_generate (ID: b18d6ef6-19d8-46be-ac6c-8e377a3c2a79) - 1 spans\n",
            "2025-10-02 14:41:42 - noveum_trace.transport.batch_processor - INFO - 📥 ADDING TRACE TO QUEUE: auto_trace_generate (ID: b18d6ef6-19d8-46be-ac6c-8e377a3c2a79) - 1 spans\n",
            "2025-10-02 14:41:42 - noveum_trace.transport.batch_processor - INFO - ✅ Successfully queued trace b18d6ef6-19d8-46be-ac6c-8e377a3c2a79\n",
            "2025-10-02 14:41:42 - noveum_trace.transport.http_transport - INFO - ✅ Trace b18d6ef6-19d8-46be-ac6c-8e377a3c2a79 successfully queued for export\n"
          ]
        },
        {
          "name": "stdout",
          "output_type": "stream",
          "text": [
            "2025-10-02 14:41:42 - INFO - novaeval.evaluators.agent_evaluator - Saving intermediate results after 15 samples\n",
            "2025-10-02 14:41:42 - INFO - novaeval.evaluators.agent_evaluator - Intermediate results saved to demo_results/post_validation_dataset/agent_evaluation_results.csv\n"
          ]
        },
        {
          "name": "stderr",
          "output_type": "stream",
          "text": [
            "Evaluating samples: 15it [01:00,  3.97s/it]"
          ]
        },
        {
          "name": "stdout",
          "output_type": "stream",
          "text": [
            "2025-10-02 14:41:42 - INFO - google_genai.models - AFC is enabled with max remote calls: 10.\n",
            "2025-10-02 14:41:43 - INFO - google_genai.models - AFC remote call 1 is done.\n"
          ]
        },
        {
          "name": "stderr",
          "output_type": "stream",
          "text": [
            "2025-10-02 14:41:43 - noveum_trace.transport.http_transport - INFO - 📤 EXPORTING TRACE: auto_trace_generate (ID: 46afcb27-1155-4bb2-ba38-8cf7c91041aa) - 1 spans\n",
            "2025-10-02 14:41:43 - noveum_trace.transport.batch_processor - INFO - 📥 ADDING TRACE TO QUEUE: auto_trace_generate (ID: 46afcb27-1155-4bb2-ba38-8cf7c91041aa) - 1 spans\n",
            "2025-10-02 14:41:43 - noveum_trace.transport.batch_processor - INFO - ✅ Successfully queued trace 46afcb27-1155-4bb2-ba38-8cf7c91041aa\n",
            "2025-10-02 14:41:43 - noveum_trace.transport.http_transport - INFO - ✅ Trace 46afcb27-1155-4bb2-ba38-8cf7c91041aa successfully queued for export\n"
          ]
        },
        {
          "name": "stdout",
          "output_type": "stream",
          "text": [
            "2025-10-02 14:41:43 - INFO - google_genai.models - AFC is enabled with max remote calls: 10.\n",
            "2025-10-02 14:41:45 - INFO - google_genai.models - AFC remote call 1 is done.\n"
          ]
        },
        {
          "name": "stderr",
          "output_type": "stream",
          "text": [
            "2025-10-02 14:41:45 - noveum_trace.transport.http_transport - INFO - 📤 EXPORTING TRACE: auto_trace_generate (ID: b068954a-5a4c-4a28-bb5d-e10ad034c3d5) - 1 spans\n",
            "2025-10-02 14:41:45 - noveum_trace.transport.batch_processor - INFO - 📥 ADDING TRACE TO QUEUE: auto_trace_generate (ID: b068954a-5a4c-4a28-bb5d-e10ad034c3d5) - 1 spans\n",
            "2025-10-02 14:41:45 - noveum_trace.transport.batch_processor - INFO - ✅ Successfully queued trace b068954a-5a4c-4a28-bb5d-e10ad034c3d5\n",
            "2025-10-02 14:41:45 - noveum_trace.transport.http_transport - INFO - ✅ Trace b068954a-5a4c-4a28-bb5d-e10ad034c3d5 successfully queued for export\n"
          ]
        },
        {
          "name": "stdout",
          "output_type": "stream",
          "text": [
            "2025-10-02 14:41:45 - INFO - google_genai.models - AFC is enabled with max remote calls: 10.\n",
            "2025-10-02 14:41:46 - INFO - google_genai.models - AFC remote call 1 is done.\n"
          ]
        },
        {
          "name": "stderr",
          "output_type": "stream",
          "text": [
            "2025-10-02 14:41:46 - noveum_trace.transport.http_transport - INFO - 📤 EXPORTING TRACE: auto_trace_generate (ID: 1754d11c-1618-4730-ad1e-62bb4282d4fe) - 1 spans\n",
            "2025-10-02 14:41:46 - noveum_trace.transport.batch_processor - INFO - 📥 ADDING TRACE TO QUEUE: auto_trace_generate (ID: 1754d11c-1618-4730-ad1e-62bb4282d4fe) - 1 spans\n",
            "2025-10-02 14:41:46 - noveum_trace.transport.batch_processor - INFO - ✅ Successfully queued trace 1754d11c-1618-4730-ad1e-62bb4282d4fe\n",
            "2025-10-02 14:41:46 - noveum_trace.transport.http_transport - INFO - ✅ Trace 1754d11c-1618-4730-ad1e-62bb4282d4fe successfully queued for export\n"
          ]
        },
        {
          "name": "stdout",
          "output_type": "stream",
          "text": [
            "2025-10-02 14:41:46 - INFO - novaeval.evaluators.agent_evaluator - Saving intermediate results after 16 samples\n",
            "2025-10-02 14:41:46 - INFO - novaeval.evaluators.agent_evaluator - Intermediate results saved to demo_results/post_validation_dataset/agent_evaluation_results.csv\n"
          ]
        },
        {
          "name": "stderr",
          "output_type": "stream",
          "text": [
            "Evaluating samples: 16it [01:04,  3.91s/it]"
          ]
        },
        {
          "name": "stdout",
          "output_type": "stream",
          "text": [
            "2025-10-02 14:41:46 - INFO - google_genai.models - AFC is enabled with max remote calls: 10.\n",
            "2025-10-02 14:41:47 - INFO - google_genai.models - AFC remote call 1 is done.\n"
          ]
        },
        {
          "name": "stderr",
          "output_type": "stream",
          "text": [
            "2025-10-02 14:41:47 - noveum_trace.transport.http_transport - INFO - 📤 EXPORTING TRACE: auto_trace_generate (ID: 0666b4ac-78c2-4a59-86a5-b7e12c9cf288) - 1 spans\n",
            "2025-10-02 14:41:47 - noveum_trace.transport.batch_processor - INFO - 📥 ADDING TRACE TO QUEUE: auto_trace_generate (ID: 0666b4ac-78c2-4a59-86a5-b7e12c9cf288) - 1 spans\n",
            "2025-10-02 14:41:47 - noveum_trace.transport.batch_processor - INFO - ✅ Successfully queued trace 0666b4ac-78c2-4a59-86a5-b7e12c9cf288\n",
            "2025-10-02 14:41:47 - noveum_trace.transport.http_transport - INFO - ✅ Trace 0666b4ac-78c2-4a59-86a5-b7e12c9cf288 successfully queued for export\n"
          ]
        },
        {
          "name": "stdout",
          "output_type": "stream",
          "text": [
            "2025-10-02 14:41:47 - INFO - google_genai.models - AFC is enabled with max remote calls: 10.\n",
            "2025-10-02 14:41:48 - INFO - google_genai.models - AFC remote call 1 is done.\n"
          ]
        },
        {
          "name": "stderr",
          "output_type": "stream",
          "text": [
            "2025-10-02 14:41:48 - noveum_trace.transport.http_transport - INFO - 📤 EXPORTING TRACE: auto_trace_generate (ID: 0f9afa56-46b1-46d8-9bb9-90f4b9437686) - 1 spans\n",
            "2025-10-02 14:41:48 - noveum_trace.transport.batch_processor - INFO - 📥 ADDING TRACE TO QUEUE: auto_trace_generate (ID: 0f9afa56-46b1-46d8-9bb9-90f4b9437686) - 1 spans\n",
            "2025-10-02 14:41:48 - noveum_trace.transport.batch_processor - INFO - ✅ Successfully queued trace 0f9afa56-46b1-46d8-9bb9-90f4b9437686\n",
            "2025-10-02 14:41:48 - noveum_trace.transport.http_transport - INFO - ✅ Trace 0f9afa56-46b1-46d8-9bb9-90f4b9437686 successfully queued for export\n"
          ]
        },
        {
          "name": "stdout",
          "output_type": "stream",
          "text": [
            "2025-10-02 14:41:48 - INFO - google_genai.models - AFC is enabled with max remote calls: 10.\n",
            "2025-10-02 14:41:50 - INFO - google_genai.models - AFC remote call 1 is done.\n"
          ]
        },
        {
          "name": "stderr",
          "output_type": "stream",
          "text": [
            "2025-10-02 14:41:50 - noveum_trace.transport.http_transport - INFO - 📤 EXPORTING TRACE: auto_trace_generate (ID: 637cd001-8a76-4ac0-8281-53bcfddb2da0) - 1 spans\n",
            "2025-10-02 14:41:50 - noveum_trace.transport.batch_processor - INFO - 📥 ADDING TRACE TO QUEUE: auto_trace_generate (ID: 637cd001-8a76-4ac0-8281-53bcfddb2da0) - 1 spans\n",
            "2025-10-02 14:41:50 - noveum_trace.transport.batch_processor - INFO - ✅ Successfully queued trace 637cd001-8a76-4ac0-8281-53bcfddb2da0\n",
            "2025-10-02 14:41:50 - noveum_trace.transport.http_transport - INFO - ✅ Trace 637cd001-8a76-4ac0-8281-53bcfddb2da0 successfully queued for export\n"
          ]
        },
        {
          "name": "stdout",
          "output_type": "stream",
          "text": [
            "2025-10-02 14:41:50 - INFO - novaeval.evaluators.agent_evaluator - Saving intermediate results after 17 samples\n",
            "2025-10-02 14:41:50 - INFO - novaeval.evaluators.agent_evaluator - Intermediate results saved to demo_results/post_validation_dataset/agent_evaluation_results.csv\n"
          ]
        },
        {
          "name": "stderr",
          "output_type": "stream",
          "text": [
            "Evaluating samples: 17it [01:08,  3.91s/it]"
          ]
        },
        {
          "name": "stdout",
          "output_type": "stream",
          "text": [
            "2025-10-02 14:41:50 - INFO - google_genai.models - AFC is enabled with max remote calls: 10.\n",
            "2025-10-02 14:41:51 - INFO - google_genai.models - AFC remote call 1 is done.\n"
          ]
        },
        {
          "name": "stderr",
          "output_type": "stream",
          "text": [
            "2025-10-02 14:41:51 - noveum_trace.transport.http_transport - INFO - 📤 EXPORTING TRACE: auto_trace_generate (ID: 5c3242e1-4866-4671-aca6-3356888f3c9f) - 1 spans\n",
            "2025-10-02 14:41:51 - noveum_trace.transport.batch_processor - INFO - 📥 ADDING TRACE TO QUEUE: auto_trace_generate (ID: 5c3242e1-4866-4671-aca6-3356888f3c9f) - 1 spans\n",
            "2025-10-02 14:41:51 - noveum_trace.transport.batch_processor - INFO - ✅ Successfully queued trace 5c3242e1-4866-4671-aca6-3356888f3c9f\n",
            "2025-10-02 14:41:51 - noveum_trace.transport.http_transport - INFO - ✅ Trace 5c3242e1-4866-4671-aca6-3356888f3c9f successfully queued for export\n"
          ]
        },
        {
          "name": "stdout",
          "output_type": "stream",
          "text": [
            "2025-10-02 14:41:51 - INFO - google_genai.models - AFC is enabled with max remote calls: 10.\n",
            "2025-10-02 14:41:53 - INFO - google_genai.models - AFC remote call 1 is done.\n"
          ]
        },
        {
          "name": "stderr",
          "output_type": "stream",
          "text": [
            "2025-10-02 14:41:53 - noveum_trace.transport.http_transport - INFO - 📤 EXPORTING TRACE: auto_trace_generate (ID: 4f0dd92c-5fba-4984-9562-978ad19a872f) - 1 spans\n",
            "2025-10-02 14:41:53 - noveum_trace.transport.batch_processor - INFO - 📥 ADDING TRACE TO QUEUE: auto_trace_generate (ID: 4f0dd92c-5fba-4984-9562-978ad19a872f) - 1 spans\n",
            "2025-10-02 14:41:53 - noveum_trace.transport.batch_processor - INFO - ✅ Successfully queued trace 4f0dd92c-5fba-4984-9562-978ad19a872f\n",
            "2025-10-02 14:41:53 - noveum_trace.transport.http_transport - INFO - ✅ Trace 4f0dd92c-5fba-4984-9562-978ad19a872f successfully queued for export\n"
          ]
        },
        {
          "name": "stdout",
          "output_type": "stream",
          "text": [
            "2025-10-02 14:41:53 - INFO - google_genai.models - AFC is enabled with max remote calls: 10.\n",
            "2025-10-02 14:41:54 - INFO - google_genai.models - AFC remote call 1 is done.\n"
          ]
        },
        {
          "name": "stderr",
          "output_type": "stream",
          "text": [
            "2025-10-02 14:41:54 - noveum_trace.transport.http_transport - INFO - 📤 EXPORTING TRACE: auto_trace_generate (ID: f687916e-aa8b-4047-8d45-47cea3afdcbd) - 1 spans\n",
            "2025-10-02 14:41:54 - noveum_trace.transport.batch_processor - INFO - 📥 ADDING TRACE TO QUEUE: auto_trace_generate (ID: f687916e-aa8b-4047-8d45-47cea3afdcbd) - 1 spans\n",
            "2025-10-02 14:41:54 - noveum_trace.transport.batch_processor - INFO - ✅ Successfully queued trace f687916e-aa8b-4047-8d45-47cea3afdcbd\n",
            "2025-10-02 14:41:54 - noveum_trace.transport.http_transport - INFO - ✅ Trace f687916e-aa8b-4047-8d45-47cea3afdcbd successfully queued for export\n"
          ]
        },
        {
          "name": "stdout",
          "output_type": "stream",
          "text": [
            "2025-10-02 14:41:54 - INFO - novaeval.evaluators.agent_evaluator - Saving intermediate results after 18 samples\n",
            "2025-10-02 14:41:54 - INFO - novaeval.evaluators.agent_evaluator - Intermediate results saved to demo_results/post_validation_dataset/agent_evaluation_results.csv\n"
          ]
        },
        {
          "name": "stderr",
          "output_type": "stream",
          "text": [
            "Evaluating samples: 18it [01:12,  3.96s/it]"
          ]
        },
        {
          "name": "stdout",
          "output_type": "stream",
          "text": [
            "2025-10-02 14:41:54 - INFO - google_genai.models - AFC is enabled with max remote calls: 10.\n",
            "2025-10-02 14:41:55 - INFO - google_genai.models - AFC remote call 1 is done.\n"
          ]
        },
        {
          "name": "stderr",
          "output_type": "stream",
          "text": [
            "2025-10-02 14:41:55 - noveum_trace.transport.http_transport - INFO - 📤 EXPORTING TRACE: auto_trace_generate (ID: bf967a78-935f-45c9-9cdb-79edcd55bc7d) - 1 spans\n",
            "2025-10-02 14:41:55 - noveum_trace.transport.batch_processor - INFO - 📥 ADDING TRACE TO QUEUE: auto_trace_generate (ID: bf967a78-935f-45c9-9cdb-79edcd55bc7d) - 1 spans\n",
            "2025-10-02 14:41:55 - noveum_trace.transport.batch_processor - INFO - ✅ Successfully queued trace bf967a78-935f-45c9-9cdb-79edcd55bc7d\n",
            "2025-10-02 14:41:55 - noveum_trace.transport.http_transport - INFO - ✅ Trace bf967a78-935f-45c9-9cdb-79edcd55bc7d successfully queued for export\n"
          ]
        },
        {
          "name": "stdout",
          "output_type": "stream",
          "text": [
            "2025-10-02 14:41:55 - INFO - google_genai.models - AFC is enabled with max remote calls: 10.\n",
            "2025-10-02 14:41:57 - INFO - google_genai.models - AFC remote call 1 is done.\n"
          ]
        },
        {
          "name": "stderr",
          "output_type": "stream",
          "text": [
            "2025-10-02 14:41:57 - noveum_trace.transport.http_transport - INFO - 📤 EXPORTING TRACE: auto_trace_generate (ID: b17ca04f-5110-4118-9890-bbb9fa2986ee) - 1 spans\n",
            "2025-10-02 14:41:57 - noveum_trace.transport.batch_processor - INFO - 📥 ADDING TRACE TO QUEUE: auto_trace_generate (ID: b17ca04f-5110-4118-9890-bbb9fa2986ee) - 1 spans\n",
            "2025-10-02 14:41:57 - noveum_trace.transport.batch_processor - INFO - ✅ Successfully queued trace b17ca04f-5110-4118-9890-bbb9fa2986ee\n",
            "2025-10-02 14:41:57 - noveum_trace.transport.http_transport - INFO - ✅ Trace b17ca04f-5110-4118-9890-bbb9fa2986ee successfully queued for export\n"
          ]
        },
        {
          "name": "stdout",
          "output_type": "stream",
          "text": [
            "2025-10-02 14:41:57 - INFO - google_genai.models - AFC is enabled with max remote calls: 10.\n",
            "2025-10-02 14:41:58 - INFO - google_genai.models - AFC remote call 1 is done.\n"
          ]
        },
        {
          "name": "stderr",
          "output_type": "stream",
          "text": [
            "2025-10-02 14:41:58 - noveum_trace.transport.http_transport - INFO - 📤 EXPORTING TRACE: auto_trace_generate (ID: 54723f5c-f4d2-457a-a11f-3c67e1641b38) - 1 spans\n",
            "2025-10-02 14:41:58 - noveum_trace.transport.batch_processor - INFO - 📥 ADDING TRACE TO QUEUE: auto_trace_generate (ID: 54723f5c-f4d2-457a-a11f-3c67e1641b38) - 1 spans\n",
            "2025-10-02 14:41:58 - noveum_trace.transport.batch_processor - INFO - ✅ Successfully queued trace 54723f5c-f4d2-457a-a11f-3c67e1641b38\n",
            "2025-10-02 14:41:58 - noveum_trace.transport.http_transport - INFO - ✅ Trace 54723f5c-f4d2-457a-a11f-3c67e1641b38 successfully queued for export\n"
          ]
        },
        {
          "name": "stdout",
          "output_type": "stream",
          "text": [
            "2025-10-02 14:41:58 - INFO - novaeval.evaluators.agent_evaluator - Saving intermediate results after 19 samples\n",
            "2025-10-02 14:41:58 - INFO - novaeval.evaluators.agent_evaluator - Intermediate results saved to demo_results/post_validation_dataset/agent_evaluation_results.csv\n"
          ]
        },
        {
          "name": "stderr",
          "output_type": "stream",
          "text": [
            "Evaluating samples: 19it [01:16,  3.94s/it]"
          ]
        },
        {
          "name": "stdout",
          "output_type": "stream",
          "text": [
            "2025-10-02 14:41:58 - INFO - google_genai.models - AFC is enabled with max remote calls: 10.\n",
            "2025-10-02 14:41:59 - INFO - google_genai.models - AFC remote call 1 is done.\n"
          ]
        },
        {
          "name": "stderr",
          "output_type": "stream",
          "text": [
            "2025-10-02 14:41:59 - noveum_trace.transport.http_transport - INFO - 📤 EXPORTING TRACE: auto_trace_generate (ID: 876d36a9-7a31-41c5-8a5b-2e300f11ea12) - 1 spans\n",
            "2025-10-02 14:41:59 - noveum_trace.transport.batch_processor - INFO - 📥 ADDING TRACE TO QUEUE: auto_trace_generate (ID: 876d36a9-7a31-41c5-8a5b-2e300f11ea12) - 1 spans\n",
            "2025-10-02 14:41:59 - noveum_trace.transport.batch_processor - INFO - ✅ Successfully queued trace 876d36a9-7a31-41c5-8a5b-2e300f11ea12\n",
            "2025-10-02 14:41:59 - noveum_trace.transport.http_transport - INFO - ✅ Trace 876d36a9-7a31-41c5-8a5b-2e300f11ea12 successfully queued for export\n"
          ]
        },
        {
          "name": "stdout",
          "output_type": "stream",
          "text": [
            "2025-10-02 14:41:59 - INFO - google_genai.models - AFC is enabled with max remote calls: 10.\n",
            "2025-10-02 14:42:01 - INFO - google_genai.models - AFC remote call 1 is done.\n"
          ]
        },
        {
          "name": "stderr",
          "output_type": "stream",
          "text": [
            "2025-10-02 14:42:01 - noveum_trace.transport.http_transport - INFO - 📤 EXPORTING TRACE: auto_trace_generate (ID: 258fa730-9763-4f7c-88c5-727833ff4db8) - 1 spans\n",
            "2025-10-02 14:42:01 - noveum_trace.transport.batch_processor - INFO - 📥 ADDING TRACE TO QUEUE: auto_trace_generate (ID: 258fa730-9763-4f7c-88c5-727833ff4db8) - 1 spans\n",
            "2025-10-02 14:42:01 - noveum_trace.transport.batch_processor - INFO - ✅ Successfully queued trace 258fa730-9763-4f7c-88c5-727833ff4db8\n",
            "2025-10-02 14:42:01 - noveum_trace.transport.http_transport - INFO - ✅ Trace 258fa730-9763-4f7c-88c5-727833ff4db8 successfully queued for export\n"
          ]
        },
        {
          "name": "stdout",
          "output_type": "stream",
          "text": [
            "2025-10-02 14:42:01 - INFO - google_genai.models - AFC is enabled with max remote calls: 10.\n",
            "2025-10-02 14:42:02 - INFO - google_genai.models - AFC remote call 1 is done.\n"
          ]
        },
        {
          "name": "stderr",
          "output_type": "stream",
          "text": [
            "2025-10-02 14:42:02 - noveum_trace.transport.http_transport - INFO - 📤 EXPORTING TRACE: auto_trace_generate (ID: 2059f682-ba45-4c0d-bd5d-1a5ec15296bb) - 1 spans\n",
            "2025-10-02 14:42:02 - noveum_trace.transport.batch_processor - INFO - 📥 ADDING TRACE TO QUEUE: auto_trace_generate (ID: 2059f682-ba45-4c0d-bd5d-1a5ec15296bb) - 1 spans\n",
            "2025-10-02 14:42:02 - noveum_trace.transport.batch_processor - INFO - ✅ Successfully queued trace 2059f682-ba45-4c0d-bd5d-1a5ec15296bb\n",
            "2025-10-02 14:42:02 - noveum_trace.transport.http_transport - INFO - ✅ Trace 2059f682-ba45-4c0d-bd5d-1a5ec15296bb successfully queued for export\n"
          ]
        },
        {
          "name": "stdout",
          "output_type": "stream",
          "text": [
            "2025-10-02 14:42:02 - INFO - novaeval.evaluators.agent_evaluator - Saving intermediate results after 20 samples\n",
            "2025-10-02 14:42:02 - INFO - novaeval.evaluators.agent_evaluator - Intermediate results saved to demo_results/post_validation_dataset/agent_evaluation_results.csv\n"
          ]
        },
        {
          "name": "stderr",
          "output_type": "stream",
          "text": [
            "Evaluating samples: 20it [01:20,  4.05s/it]"
          ]
        },
        {
          "name": "stdout",
          "output_type": "stream",
          "text": [
            "2025-10-02 14:42:02 - INFO - google_genai.models - AFC is enabled with max remote calls: 10.\n",
            "2025-10-02 14:42:03 - INFO - google_genai.models - AFC remote call 1 is done.\n"
          ]
        },
        {
          "name": "stderr",
          "output_type": "stream",
          "text": [
            "2025-10-02 14:42:03 - noveum_trace.transport.http_transport - INFO - 📤 EXPORTING TRACE: auto_trace_generate (ID: f0367a24-b9c2-435f-b6b0-23a6b53beb77) - 1 spans\n",
            "2025-10-02 14:42:03 - noveum_trace.transport.batch_processor - INFO - 📥 ADDING TRACE TO QUEUE: auto_trace_generate (ID: f0367a24-b9c2-435f-b6b0-23a6b53beb77) - 1 spans\n",
            "2025-10-02 14:42:03 - noveum_trace.transport.batch_processor - INFO - ✅ Successfully queued trace f0367a24-b9c2-435f-b6b0-23a6b53beb77\n",
            "2025-10-02 14:42:03 - noveum_trace.transport.http_transport - INFO - ✅ Trace f0367a24-b9c2-435f-b6b0-23a6b53beb77 successfully queued for export\n"
          ]
        },
        {
          "name": "stdout",
          "output_type": "stream",
          "text": [
            "2025-10-02 14:42:03 - INFO - google_genai.models - AFC is enabled with max remote calls: 10.\n",
            "2025-10-02 14:42:05 - INFO - google_genai.models - AFC remote call 1 is done.\n"
          ]
        },
        {
          "name": "stderr",
          "output_type": "stream",
          "text": [
            "2025-10-02 14:42:05 - noveum_trace.transport.http_transport - INFO - 📤 EXPORTING TRACE: auto_trace_generate (ID: c0ee025d-2630-4442-86b2-4ad8bf4b2248) - 1 spans\n",
            "2025-10-02 14:42:05 - noveum_trace.transport.batch_processor - INFO - 📥 ADDING TRACE TO QUEUE: auto_trace_generate (ID: c0ee025d-2630-4442-86b2-4ad8bf4b2248) - 1 spans\n",
            "2025-10-02 14:42:05 - noveum_trace.transport.batch_processor - INFO - ✅ Successfully queued trace c0ee025d-2630-4442-86b2-4ad8bf4b2248\n",
            "2025-10-02 14:42:05 - noveum_trace.transport.http_transport - INFO - ✅ Trace c0ee025d-2630-4442-86b2-4ad8bf4b2248 successfully queued for export\n"
          ]
        },
        {
          "name": "stdout",
          "output_type": "stream",
          "text": [
            "2025-10-02 14:42:05 - INFO - google_genai.models - AFC is enabled with max remote calls: 10.\n",
            "2025-10-02 14:42:06 - INFO - google_genai.models - AFC remote call 1 is done.\n"
          ]
        },
        {
          "name": "stderr",
          "output_type": "stream",
          "text": [
            "2025-10-02 14:42:06 - noveum_trace.transport.http_transport - INFO - 📤 EXPORTING TRACE: auto_trace_generate (ID: 470993c5-bd76-4305-9f79-5bde2322e3c7) - 1 spans\n",
            "2025-10-02 14:42:06 - noveum_trace.transport.batch_processor - INFO - 📥 ADDING TRACE TO QUEUE: auto_trace_generate (ID: 470993c5-bd76-4305-9f79-5bde2322e3c7) - 1 spans\n",
            "2025-10-02 14:42:06 - noveum_trace.transport.batch_processor - INFO - ✅ Successfully queued trace 470993c5-bd76-4305-9f79-5bde2322e3c7\n",
            "2025-10-02 14:42:06 - noveum_trace.transport.http_transport - INFO - ✅ Trace 470993c5-bd76-4305-9f79-5bde2322e3c7 successfully queued for export\n"
          ]
        },
        {
          "name": "stdout",
          "output_type": "stream",
          "text": [
            "2025-10-02 14:42:06 - INFO - novaeval.evaluators.agent_evaluator - Saving intermediate results after 21 samples\n",
            "2025-10-02 14:42:06 - INFO - novaeval.evaluators.agent_evaluator - Intermediate results saved to demo_results/post_validation_dataset/agent_evaluation_results.csv\n"
          ]
        },
        {
          "name": "stderr",
          "output_type": "stream",
          "text": [
            "Evaluating samples: 21it [01:24,  4.03s/it]"
          ]
        },
        {
          "name": "stdout",
          "output_type": "stream",
          "text": [
            "2025-10-02 14:42:06 - INFO - google_genai.models - AFC is enabled with max remote calls: 10.\n",
            "2025-10-02 14:42:07 - INFO - google_genai.models - AFC remote call 1 is done.\n"
          ]
        },
        {
          "name": "stderr",
          "output_type": "stream",
          "text": [
            "2025-10-02 14:42:07 - noveum_trace.transport.http_transport - INFO - 📤 EXPORTING TRACE: auto_trace_generate (ID: 8c5473d9-3782-4f05-8de8-c3ae6b2aec80) - 1 spans\n",
            "2025-10-02 14:42:07 - noveum_trace.transport.batch_processor - INFO - 📥 ADDING TRACE TO QUEUE: auto_trace_generate (ID: 8c5473d9-3782-4f05-8de8-c3ae6b2aec80) - 1 spans\n",
            "2025-10-02 14:42:07 - noveum_trace.transport.batch_processor - INFO - ✅ Successfully queued trace 8c5473d9-3782-4f05-8de8-c3ae6b2aec80\n",
            "2025-10-02 14:42:07 - noveum_trace.transport.http_transport - INFO - ✅ Trace 8c5473d9-3782-4f05-8de8-c3ae6b2aec80 successfully queued for export\n"
          ]
        },
        {
          "name": "stdout",
          "output_type": "stream",
          "text": [
            "2025-10-02 14:42:07 - INFO - google_genai.models - AFC is enabled with max remote calls: 10.\n",
            "2025-10-02 14:42:09 - INFO - google_genai.models - AFC remote call 1 is done.\n"
          ]
        },
        {
          "name": "stderr",
          "output_type": "stream",
          "text": [
            "2025-10-02 14:42:09 - noveum_trace.transport.http_transport - INFO - 📤 EXPORTING TRACE: auto_trace_generate (ID: ed638ce0-29e7-4a38-b3d2-79637733ffc6) - 1 spans\n",
            "2025-10-02 14:42:09 - noveum_trace.transport.batch_processor - INFO - 📥 ADDING TRACE TO QUEUE: auto_trace_generate (ID: ed638ce0-29e7-4a38-b3d2-79637733ffc6) - 1 spans\n",
            "2025-10-02 14:42:09 - noveum_trace.transport.batch_processor - INFO - ✅ Successfully queued trace ed638ce0-29e7-4a38-b3d2-79637733ffc6\n",
            "2025-10-02 14:42:09 - noveum_trace.transport.http_transport - INFO - ✅ Trace ed638ce0-29e7-4a38-b3d2-79637733ffc6 successfully queued for export\n"
          ]
        },
        {
          "name": "stdout",
          "output_type": "stream",
          "text": [
            "2025-10-02 14:42:09 - INFO - google_genai.models - AFC is enabled with max remote calls: 10.\n",
            "2025-10-02 14:42:10 - INFO - google_genai.models - AFC remote call 1 is done.\n"
          ]
        },
        {
          "name": "stderr",
          "output_type": "stream",
          "text": [
            "2025-10-02 14:42:10 - noveum_trace.transport.http_transport - INFO - 📤 EXPORTING TRACE: auto_trace_generate (ID: cf4f2bb8-4f7a-45de-b9de-52d9c67ded50) - 1 spans\n",
            "2025-10-02 14:42:10 - noveum_trace.transport.batch_processor - INFO - 📥 ADDING TRACE TO QUEUE: auto_trace_generate (ID: cf4f2bb8-4f7a-45de-b9de-52d9c67ded50) - 1 spans\n",
            "2025-10-02 14:42:10 - noveum_trace.transport.batch_processor - INFO - ✅ Successfully queued trace cf4f2bb8-4f7a-45de-b9de-52d9c67ded50\n",
            "2025-10-02 14:42:10 - noveum_trace.transport.http_transport - INFO - ✅ Trace cf4f2bb8-4f7a-45de-b9de-52d9c67ded50 successfully queued for export\n"
          ]
        },
        {
          "name": "stdout",
          "output_type": "stream",
          "text": [
            "2025-10-02 14:42:10 - INFO - novaeval.evaluators.agent_evaluator - Saving intermediate results after 22 samples\n",
            "2025-10-02 14:42:10 - INFO - novaeval.evaluators.agent_evaluator - Intermediate results saved to demo_results/post_validation_dataset/agent_evaluation_results.csv\n"
          ]
        },
        {
          "name": "stderr",
          "output_type": "stream",
          "text": [
            "Evaluating samples: 22it [01:28,  4.04s/it]"
          ]
        },
        {
          "name": "stdout",
          "output_type": "stream",
          "text": [
            "2025-10-02 14:42:10 - INFO - google_genai.models - AFC is enabled with max remote calls: 10.\n",
            "2025-10-02 14:42:11 - INFO - google_genai.models - AFC remote call 1 is done.\n"
          ]
        },
        {
          "name": "stderr",
          "output_type": "stream",
          "text": [
            "2025-10-02 14:42:11 - noveum_trace.transport.http_transport - INFO - 📤 EXPORTING TRACE: auto_trace_generate (ID: 978901db-8d03-4205-a0a5-76b9621b58c9) - 1 spans\n",
            "2025-10-02 14:42:11 - noveum_trace.transport.batch_processor - INFO - 📥 ADDING TRACE TO QUEUE: auto_trace_generate (ID: 978901db-8d03-4205-a0a5-76b9621b58c9) - 1 spans\n",
            "2025-10-02 14:42:11 - noveum_trace.transport.batch_processor - INFO - ✅ Successfully queued trace 978901db-8d03-4205-a0a5-76b9621b58c9\n",
            "2025-10-02 14:42:11 - noveum_trace.transport.http_transport - INFO - ✅ Trace 978901db-8d03-4205-a0a5-76b9621b58c9 successfully queued for export\n"
          ]
        },
        {
          "name": "stdout",
          "output_type": "stream",
          "text": [
            "2025-10-02 14:42:11 - INFO - google_genai.models - AFC is enabled with max remote calls: 10.\n",
            "2025-10-02 14:42:13 - INFO - google_genai.models - AFC remote call 1 is done.\n"
          ]
        },
        {
          "name": "stderr",
          "output_type": "stream",
          "text": [
            "2025-10-02 14:42:13 - noveum_trace.transport.http_transport - INFO - 📤 EXPORTING TRACE: auto_trace_generate (ID: b4f3759a-9070-400e-9d14-482215fd00a5) - 1 spans\n",
            "2025-10-02 14:42:13 - noveum_trace.transport.batch_processor - INFO - 📥 ADDING TRACE TO QUEUE: auto_trace_generate (ID: b4f3759a-9070-400e-9d14-482215fd00a5) - 1 spans\n",
            "2025-10-02 14:42:13 - noveum_trace.transport.batch_processor - INFO - ✅ Successfully queued trace b4f3759a-9070-400e-9d14-482215fd00a5\n",
            "2025-10-02 14:42:13 - noveum_trace.transport.http_transport - INFO - ✅ Trace b4f3759a-9070-400e-9d14-482215fd00a5 successfully queued for export\n"
          ]
        },
        {
          "name": "stdout",
          "output_type": "stream",
          "text": [
            "2025-10-02 14:42:13 - INFO - google_genai.models - AFC is enabled with max remote calls: 10.\n",
            "2025-10-02 14:42:14 - INFO - google_genai.models - AFC remote call 1 is done.\n"
          ]
        },
        {
          "name": "stderr",
          "output_type": "stream",
          "text": [
            "2025-10-02 14:42:14 - noveum_trace.transport.http_transport - INFO - 📤 EXPORTING TRACE: auto_trace_generate (ID: 4e2b9394-ef00-498d-8f8f-da0010cf9b2a) - 1 spans\n",
            "2025-10-02 14:42:14 - noveum_trace.transport.batch_processor - INFO - 📥 ADDING TRACE TO QUEUE: auto_trace_generate (ID: 4e2b9394-ef00-498d-8f8f-da0010cf9b2a) - 1 spans\n",
            "2025-10-02 14:42:14 - noveum_trace.transport.batch_processor - INFO - ✅ Successfully queued trace 4e2b9394-ef00-498d-8f8f-da0010cf9b2a\n",
            "2025-10-02 14:42:14 - noveum_trace.transport.http_transport - INFO - ✅ Trace 4e2b9394-ef00-498d-8f8f-da0010cf9b2a successfully queued for export\n"
          ]
        },
        {
          "name": "stdout",
          "output_type": "stream",
          "text": [
            "2025-10-02 14:42:14 - INFO - novaeval.evaluators.agent_evaluator - Saving intermediate results after 23 samples\n",
            "2025-10-02 14:42:14 - INFO - novaeval.evaluators.agent_evaluator - Intermediate results saved to demo_results/post_validation_dataset/agent_evaluation_results.csv\n"
          ]
        },
        {
          "name": "stderr",
          "output_type": "stream",
          "text": [
            "Evaluating samples: 23it [01:32,  4.06s/it]"
          ]
        },
        {
          "name": "stdout",
          "output_type": "stream",
          "text": [
            "2025-10-02 14:42:14 - INFO - google_genai.models - AFC is enabled with max remote calls: 10.\n",
            "2025-10-02 14:42:16 - INFO - google_genai.models - AFC remote call 1 is done.\n"
          ]
        },
        {
          "name": "stderr",
          "output_type": "stream",
          "text": [
            "2025-10-02 14:42:16 - noveum_trace.transport.http_transport - INFO - 📤 EXPORTING TRACE: auto_trace_generate (ID: 27fb9482-25cc-4d7e-8cfe-693efbd87ee4) - 1 spans\n",
            "2025-10-02 14:42:16 - noveum_trace.transport.batch_processor - INFO - 📥 ADDING TRACE TO QUEUE: auto_trace_generate (ID: 27fb9482-25cc-4d7e-8cfe-693efbd87ee4) - 1 spans\n",
            "2025-10-02 14:42:16 - noveum_trace.transport.batch_processor - INFO - ✅ Successfully queued trace 27fb9482-25cc-4d7e-8cfe-693efbd87ee4\n",
            "2025-10-02 14:42:16 - noveum_trace.transport.http_transport - INFO - ✅ Trace 27fb9482-25cc-4d7e-8cfe-693efbd87ee4 successfully queued for export\n"
          ]
        },
        {
          "name": "stdout",
          "output_type": "stream",
          "text": [
            "2025-10-02 14:42:16 - INFO - google_genai.models - AFC is enabled with max remote calls: 10.\n",
            "2025-10-02 14:42:17 - INFO - google_genai.models - AFC remote call 1 is done.\n"
          ]
        },
        {
          "name": "stderr",
          "output_type": "stream",
          "text": [
            "2025-10-02 14:42:17 - noveum_trace.transport.http_transport - INFO - 📤 EXPORTING TRACE: auto_trace_generate (ID: 8dfdfaa7-0bfd-4b7a-bd2e-8e93688f678d) - 1 spans\n",
            "2025-10-02 14:42:17 - noveum_trace.transport.batch_processor - INFO - 📥 ADDING TRACE TO QUEUE: auto_trace_generate (ID: 8dfdfaa7-0bfd-4b7a-bd2e-8e93688f678d) - 1 spans\n",
            "2025-10-02 14:42:17 - noveum_trace.transport.batch_processor - INFO - ✅ Successfully queued trace 8dfdfaa7-0bfd-4b7a-bd2e-8e93688f678d\n",
            "2025-10-02 14:42:17 - noveum_trace.transport.http_transport - INFO - ✅ Trace 8dfdfaa7-0bfd-4b7a-bd2e-8e93688f678d successfully queued for export\n"
          ]
        },
        {
          "name": "stdout",
          "output_type": "stream",
          "text": [
            "2025-10-02 14:42:17 - INFO - google_genai.models - AFC is enabled with max remote calls: 10.\n",
            "2025-10-02 14:42:18 - INFO - google_genai.models - AFC remote call 1 is done.\n"
          ]
        },
        {
          "name": "stderr",
          "output_type": "stream",
          "text": [
            "2025-10-02 14:42:18 - noveum_trace.transport.http_transport - INFO - 📤 EXPORTING TRACE: auto_trace_generate (ID: 2aa563e5-dfad-4004-b4b6-f3894c99a4db) - 1 spans\n",
            "2025-10-02 14:42:18 - noveum_trace.transport.batch_processor - INFO - 📥 ADDING TRACE TO QUEUE: auto_trace_generate (ID: 2aa563e5-dfad-4004-b4b6-f3894c99a4db) - 1 spans\n",
            "2025-10-02 14:42:18 - noveum_trace.transport.batch_processor - INFO - ✅ Successfully queued trace 2aa563e5-dfad-4004-b4b6-f3894c99a4db\n",
            "2025-10-02 14:42:18 - noveum_trace.transport.http_transport - INFO - ✅ Trace 2aa563e5-dfad-4004-b4b6-f3894c99a4db successfully queued for export\n"
          ]
        },
        {
          "name": "stdout",
          "output_type": "stream",
          "text": [
            "2025-10-02 14:42:18 - INFO - novaeval.evaluators.agent_evaluator - Saving intermediate results after 24 samples\n",
            "2025-10-02 14:42:18 - INFO - novaeval.evaluators.agent_evaluator - Intermediate results saved to demo_results/post_validation_dataset/agent_evaluation_results.csv\n"
          ]
        },
        {
          "name": "stderr",
          "output_type": "stream",
          "text": [
            "Evaluating samples: 24it [01:36,  4.01s/it]"
          ]
        },
        {
          "name": "stdout",
          "output_type": "stream",
          "text": [
            "2025-10-02 14:42:18 - INFO - google_genai.models - AFC is enabled with max remote calls: 10.\n",
            "2025-10-02 14:42:19 - INFO - google_genai.models - AFC remote call 1 is done.\n"
          ]
        },
        {
          "name": "stderr",
          "output_type": "stream",
          "text": [
            "2025-10-02 14:42:19 - noveum_trace.transport.http_transport - INFO - 📤 EXPORTING TRACE: auto_trace_generate (ID: df74e3aa-ed41-4c0e-bcbd-f5c7c9becf62) - 1 spans\n",
            "2025-10-02 14:42:19 - noveum_trace.transport.batch_processor - INFO - 📥 ADDING TRACE TO QUEUE: auto_trace_generate (ID: df74e3aa-ed41-4c0e-bcbd-f5c7c9becf62) - 1 spans\n",
            "2025-10-02 14:42:19 - noveum_trace.transport.batch_processor - INFO - ✅ Successfully queued trace df74e3aa-ed41-4c0e-bcbd-f5c7c9becf62\n",
            "2025-10-02 14:42:19 - noveum_trace.transport.http_transport - INFO - ✅ Trace df74e3aa-ed41-4c0e-bcbd-f5c7c9becf62 successfully queued for export\n"
          ]
        },
        {
          "name": "stdout",
          "output_type": "stream",
          "text": [
            "2025-10-02 14:42:19 - INFO - google_genai.models - AFC is enabled with max remote calls: 10.\n",
            "2025-10-02 14:42:21 - INFO - google_genai.models - AFC remote call 1 is done.\n"
          ]
        },
        {
          "name": "stderr",
          "output_type": "stream",
          "text": [
            "2025-10-02 14:42:21 - noveum_trace.transport.http_transport - INFO - 📤 EXPORTING TRACE: auto_trace_generate (ID: c43210d5-faf5-4f10-b099-ca39187857ea) - 1 spans\n",
            "2025-10-02 14:42:21 - noveum_trace.transport.batch_processor - INFO - 📥 ADDING TRACE TO QUEUE: auto_trace_generate (ID: c43210d5-faf5-4f10-b099-ca39187857ea) - 1 spans\n",
            "2025-10-02 14:42:21 - noveum_trace.transport.batch_processor - INFO - ✅ Successfully queued trace c43210d5-faf5-4f10-b099-ca39187857ea\n",
            "2025-10-02 14:42:21 - noveum_trace.transport.http_transport - INFO - ✅ Trace c43210d5-faf5-4f10-b099-ca39187857ea successfully queued for export\n"
          ]
        },
        {
          "name": "stdout",
          "output_type": "stream",
          "text": [
            "2025-10-02 14:42:21 - INFO - google_genai.models - AFC is enabled with max remote calls: 10.\n",
            "2025-10-02 14:42:22 - INFO - google_genai.models - AFC remote call 1 is done.\n"
          ]
        },
        {
          "name": "stderr",
          "output_type": "stream",
          "text": [
            "2025-10-02 14:42:22 - noveum_trace.transport.http_transport - INFO - 📤 EXPORTING TRACE: auto_trace_generate (ID: caa29446-61e4-4184-ad15-081a231e4316) - 1 spans\n",
            "2025-10-02 14:42:22 - noveum_trace.transport.batch_processor - INFO - 📥 ADDING TRACE TO QUEUE: auto_trace_generate (ID: caa29446-61e4-4184-ad15-081a231e4316) - 1 spans\n",
            "2025-10-02 14:42:22 - noveum_trace.transport.batch_processor - INFO - ✅ Successfully queued trace caa29446-61e4-4184-ad15-081a231e4316\n",
            "2025-10-02 14:42:22 - noveum_trace.transport.http_transport - INFO - ✅ Trace caa29446-61e4-4184-ad15-081a231e4316 successfully queued for export\n"
          ]
        },
        {
          "name": "stdout",
          "output_type": "stream",
          "text": [
            "2025-10-02 14:42:22 - INFO - novaeval.evaluators.agent_evaluator - Saving intermediate results after 25 samples\n",
            "2025-10-02 14:42:22 - INFO - novaeval.evaluators.agent_evaluator - Intermediate results saved to demo_results/post_validation_dataset/agent_evaluation_results.csv\n"
          ]
        },
        {
          "name": "stderr",
          "output_type": "stream",
          "text": [
            "Evaluating samples: 25it [01:40,  4.03s/it]"
          ]
        },
        {
          "name": "stdout",
          "output_type": "stream",
          "text": [
            "2025-10-02 14:42:22 - INFO - novaeval.evaluators.agent_evaluator - Saving final results\n",
            "2025-10-02 14:42:22 - INFO - novaeval.evaluators.agent_evaluator - Reloaded 25 results from CSV\n",
            "2025-10-02 14:42:22 - INFO - novaeval.evaluators.agent_evaluator - Agent evaluation completed\n",
            "\n",
            "✅ Evaluation completed!\n",
            "\n",
            "📊 Results Summary:\n",
            "  - task_progression: 8.55\n",
            "  - context_relevancy: 7.92\n",
            "  - role_adherence: 9.08\n",
            "  - tool_relevancy: 0.00\n",
            "  - parameter_correctness: 0.00\n",
            "\n",
            "🔍 Individual Scores:\n",
            "\n",
            "  Record 1 (Task: 4f1a91a1-5e38-41a3-b60e-126d81f34f41):\n",
            "    - task_progression: 8.8\n",
            "    - context_relevancy: 8.1\n",
            "    - role_adherence: 9.0\n",
            "    - tool_relevancy: 0.0\n",
            "    - parameter_correctness: 0.0\n",
            "\n",
            "  Record 2 (Task: bb737d67-ae62-43ba-ba72-b433f011689d):\n",
            "    - task_progression: 8.5\n",
            "    - context_relevancy: 8.1\n",
            "    - role_adherence: 9.0\n",
            "    - tool_relevancy: 0.0\n",
            "    - parameter_correctness: 0.0\n",
            "\n",
            "  Record 3 (Task: bb737d67-ae62-43ba-ba72-b433f011689d):\n",
            "    - task_progression: 7.8\n",
            "    - context_relevancy: 7.8\n",
            "    - role_adherence: 9.0\n",
            "    - tool_relevancy: 0.0\n",
            "    - parameter_correctness: 0.0\n",
            "\n",
            "  Record 4 (Task: 4ceb0d5b-3325-4d5f-9f3f-a30aff969094):\n",
            "    - task_progression: 9.0\n",
            "    - context_relevancy: 7.8\n",
            "    - role_adherence: 9.0\n",
            "    - tool_relevancy: 0.0\n",
            "    - parameter_correctness: 0.0\n",
            "\n",
            "  Record 5 (Task: 4ceb0d5b-3325-4d5f-9f3f-a30aff969094):\n",
            "    - task_progression: 9.1\n",
            "    - context_relevancy: 7.8\n",
            "    - role_adherence: 9.5\n",
            "    - tool_relevancy: 0.0\n",
            "    - parameter_correctness: 0.0\n",
            "\n",
            "  Record 6 (Task: bba4aa96-bf36-46fa-9dba-7c5646443dd4):\n",
            "    - task_progression: 8.8\n",
            "    - context_relevancy: 8.1\n",
            "    - role_adherence: 9.0\n",
            "    - tool_relevancy: 0.0\n",
            "    - parameter_correctness: 0.0\n",
            "\n",
            "  Record 7 (Task: bba4aa96-bf36-46fa-9dba-7c5646443dd4):\n",
            "    - task_progression: 8.7\n",
            "    - context_relevancy: 7.8\n",
            "    - role_adherence: 9.0\n",
            "    - tool_relevancy: 0.0\n",
            "    - parameter_correctness: 0.0\n",
            "\n",
            "  Record 8 (Task: a957ddd1-127a-4f66-ba56-5ac8ddacc6bc):\n",
            "    - task_progression: 8.5\n",
            "    - context_relevancy: 7.8\n",
            "    - role_adherence: 9.5\n",
            "    - tool_relevancy: 0.0\n",
            "    - parameter_correctness: 0.0\n",
            "\n",
            "  Record 9 (Task: a957ddd1-127a-4f66-ba56-5ac8ddacc6bc):\n",
            "    - task_progression: 8.5\n",
            "    - context_relevancy: 8.1\n",
            "    - role_adherence: 9.5\n",
            "    - tool_relevancy: 0.0\n",
            "    - parameter_correctness: 0.0\n",
            "\n",
            "  Record 10 (Task: a455b004-c125-4f79-bd68-82788d99c90e):\n",
            "    - task_progression: 8.5\n",
            "    - context_relevancy: 7.9\n",
            "    - role_adherence: 9.0\n",
            "    - tool_relevancy: 0.0\n",
            "    - parameter_correctness: 0.0\n",
            "\n",
            "  Record 11 (Task: a455b004-c125-4f79-bd68-82788d99c90e):\n",
            "    - task_progression: 8.5\n",
            "    - context_relevancy: 8.1\n",
            "    - role_adherence: 9.5\n",
            "    - tool_relevancy: 0.0\n",
            "    - parameter_correctness: 0.0\n",
            "\n",
            "  Record 12 (Task: 88e2ed48-e091-448c-9532-0ab7ff157b25):\n",
            "    - task_progression: 8.5\n",
            "    - context_relevancy: 7.8\n",
            "    - role_adherence: 9.0\n",
            "    - tool_relevancy: 0.0\n",
            "    - parameter_correctness: 0.0\n",
            "\n",
            "  Record 13 (Task: 88e2ed48-e091-448c-9532-0ab7ff157b25):\n",
            "    - task_progression: 8.5\n",
            "    - context_relevancy: 7.8\n",
            "    - role_adherence: 9.0\n",
            "    - tool_relevancy: 0.0\n",
            "    - parameter_correctness: 0.0\n",
            "\n",
            "  Record 14 (Task: 2e3b4753-db33-4f8a-b139-9f42709aa98a):\n",
            "    - task_progression: 8.5\n",
            "    - context_relevancy: 7.8\n",
            "    - role_adherence: 9.0\n",
            "    - tool_relevancy: 0.0\n",
            "    - parameter_correctness: 0.0\n",
            "\n",
            "  Record 15 (Task: 2e3b4753-db33-4f8a-b139-9f42709aa98a):\n",
            "    - task_progression: 8.5\n",
            "    - context_relevancy: 8.1\n",
            "    - role_adherence: 9.0\n",
            "    - tool_relevancy: 0.0\n",
            "    - parameter_correctness: 0.0\n",
            "\n",
            "  Record 16 (Task: 7b325df9-3985-4715-a77c-5366cd989228):\n",
            "    - task_progression: 8.5\n",
            "    - context_relevancy: 7.8\n",
            "    - role_adherence: 9.0\n",
            "    - tool_relevancy: 0.0\n",
            "    - parameter_correctness: 0.0\n",
            "\n",
            "  Record 17 (Task: 7b325df9-3985-4715-a77c-5366cd989228):\n",
            "    - task_progression: 9.0\n",
            "    - context_relevancy: 7.9\n",
            "    - role_adherence: 9.0\n",
            "    - tool_relevancy: 0.0\n",
            "    - parameter_correctness: 0.0\n",
            "\n",
            "  Record 18 (Task: 50f9d08c-e9e0-4bbe-9dbf-a84e2f2bffae):\n",
            "    - task_progression: 8.5\n",
            "    - context_relevancy: 7.8\n",
            "    - role_adherence: 9.0\n",
            "    - tool_relevancy: 0.0\n",
            "    - parameter_correctness: 0.0\n",
            "\n",
            "  Record 19 (Task: 50f9d08c-e9e0-4bbe-9dbf-a84e2f2bffae):\n",
            "    - task_progression: 8.5\n",
            "    - context_relevancy: 7.8\n",
            "    - role_adherence: 9.0\n",
            "    - tool_relevancy: 0.0\n",
            "    - parameter_correctness: 0.0\n",
            "\n",
            "  Record 20 (Task: 25603381-8fed-41a5-97fd-dda85e9d2041):\n",
            "    - task_progression: 7.9\n",
            "    - context_relevancy: 8.1\n",
            "    - role_adherence: 9.0\n",
            "    - tool_relevancy: 0.0\n",
            "    - parameter_correctness: 0.0\n",
            "\n",
            "  Record 21 (Task: 25603381-8fed-41a5-97fd-dda85e9d2041):\n",
            "    - task_progression: 8.5\n",
            "    - context_relevancy: 7.9\n",
            "    - role_adherence: 9.0\n",
            "    - tool_relevancy: 0.0\n",
            "    - parameter_correctness: 0.0\n",
            "\n",
            "  Record 22 (Task: d599b552-5d57-4949-b426-c6a490de9ed2):\n",
            "    - task_progression: 8.5\n",
            "    - context_relevancy: 8.1\n",
            "    - role_adherence: 9.0\n",
            "    - tool_relevancy: 0.0\n",
            "    - parameter_correctness: 0.0\n",
            "\n",
            "  Record 23 (Task: d92dc80f-859e-4049-af0a-ef9a09d65614):\n",
            "    - task_progression: 8.7\n",
            "    - context_relevancy: 8.1\n",
            "    - role_adherence: 9.0\n",
            "    - tool_relevancy: 0.0\n",
            "    - parameter_correctness: 0.0\n",
            "\n",
            "  Record 24 (Task: d92dc80f-859e-4049-af0a-ef9a09d65614):\n",
            "    - task_progression: 8.5\n",
            "    - context_relevancy: 7.8\n",
            "    - role_adherence: 9.0\n",
            "    - tool_relevancy: 0.0\n",
            "    - parameter_correctness: 0.0\n",
            "\n",
            "  Record 25 (Task: 2b5e936d-76f9-4551-8bc9-731bb4b76679):\n",
            "    - task_progression: 8.5\n",
            "    - context_relevancy: 7.9\n",
            "    - role_adherence: 9.0\n",
            "    - tool_relevancy: 0.0\n",
            "    - parameter_correctness: 0.0\n",
            "✅ Evaluation completed successfully!\n",
            "\n",
            "📋 Step 7: Exporting Dataset\n",
            "💾 Exporting processed dataset...\n",
            "✅ Exported to post_validation_dataset_processed_dataset.json\n",
            "✅ Exported to post_validation_dataset_processed_dataset.csv\n",
            "✅ Export completed successfully!\n",
            "\n",
            "============================================================\n",
            "🎉 EVALUATION PIPELINE COMPLETED!\n",
            "📊 Final Results:\n",
            "  - File processed: split_datasets/post_validation_dataset.json\n",
            "  - Spans loaded: 315\n",
            "  - Dataset size: 315\n",
            "  - Evaluation completed: True\n",
            "  - Export successful: True\n",
            "  - Results saved to: ./demo_results/post_validation_dataset/\n"
          ]
        },
        {
          "name": "stderr",
          "output_type": "stream",
          "text": [
            "\n"
          ]
        },
        {
          "data": {
            "text/plain": [
              "{'success': True,\n",
              " 'file_processed': 'split_datasets/post_validation_dataset.json',\n",
              " 'spans_loaded': 315,\n",
              " 'dataset_created': True,\n",
              " 'dataset_size': 315,\n",
              " 'evaluation_completed': True,\n",
              " 'results_df':     user_id                               task_id  \\\n",
              " 0       NaN  4f1a91a1-5e38-41a3-b60e-126d81f34f41   \n",
              " 1       NaN  bb737d67-ae62-43ba-ba72-b433f011689d   \n",
              " 2       NaN  bb737d67-ae62-43ba-ba72-b433f011689d   \n",
              " 3       NaN  4ceb0d5b-3325-4d5f-9f3f-a30aff969094   \n",
              " 4       NaN  4ceb0d5b-3325-4d5f-9f3f-a30aff969094   \n",
              " 5       NaN  bba4aa96-bf36-46fa-9dba-7c5646443dd4   \n",
              " 6       NaN  bba4aa96-bf36-46fa-9dba-7c5646443dd4   \n",
              " 7       NaN  a957ddd1-127a-4f66-ba56-5ac8ddacc6bc   \n",
              " 8       NaN  a957ddd1-127a-4f66-ba56-5ac8ddacc6bc   \n",
              " 9       NaN  a455b004-c125-4f79-bd68-82788d99c90e   \n",
              " 10      NaN  a455b004-c125-4f79-bd68-82788d99c90e   \n",
              " 11      NaN  88e2ed48-e091-448c-9532-0ab7ff157b25   \n",
              " 12      NaN  88e2ed48-e091-448c-9532-0ab7ff157b25   \n",
              " 13      NaN  2e3b4753-db33-4f8a-b139-9f42709aa98a   \n",
              " 14      NaN  2e3b4753-db33-4f8a-b139-9f42709aa98a   \n",
              " 15      NaN  7b325df9-3985-4715-a77c-5366cd989228   \n",
              " 16      NaN  7b325df9-3985-4715-a77c-5366cd989228   \n",
              " 17      NaN  50f9d08c-e9e0-4bbe-9dbf-a84e2f2bffae   \n",
              " 18      NaN  50f9d08c-e9e0-4bbe-9dbf-a84e2f2bffae   \n",
              " 19      NaN  25603381-8fed-41a5-97fd-dda85e9d2041   \n",
              " 20      NaN  25603381-8fed-41a5-97fd-dda85e9d2041   \n",
              " 21      NaN  d599b552-5d57-4949-b426-c6a490de9ed2   \n",
              " 22      NaN  d92dc80f-859e-4049-af0a-ef9a09d65614   \n",
              " 23      NaN  d92dc80f-859e-4049-af0a-ef9a09d65614   \n",
              " 24      NaN  2b5e936d-76f9-4551-8bc9-731bb4b76679   \n",
              " \n",
              "                                  turn_id agent_name  task_progression  \\\n",
              " 0   909be30c-ef10-4d91-bee0-40680faff87a       tool               8.8   \n",
              " 1   66b49c87-bc8a-41e3-9e7c-774f66f3a893       tool               8.5   \n",
              " 2   5e6b689e-bae1-4f31-837b-13619eb2438e       tool               7.8   \n",
              " 3   69f29f6f-a1d3-4ec0-9970-e15be7e85254       tool               9.0   \n",
              " 4   512fdb37-e4d9-4b7b-9f96-42c6b5a5392f       tool               9.1   \n",
              " 5   5cd8d2de-ed33-4142-9c59-f9bfd9f4a5fc       tool               8.8   \n",
              " 6   94fd2069-b369-4ad4-bd44-b5dbede6764c       tool               8.7   \n",
              " 7   ebcd8e24-9212-4559-92ba-690f4a34ed81       tool               8.5   \n",
              " 8   2e79a70f-907a-4b6c-b3b5-dc9dfb540013       tool               8.5   \n",
              " 9   1db5738a-8fb1-47c5-ae02-9f7f5d3cf513       tool               8.5   \n",
              " 10  dcfef61e-671b-4067-9cd5-5ca806248f5b       tool               8.5   \n",
              " 11  53c08ddb-672e-4d7f-9670-240c6b88e886       tool               8.5   \n",
              " 12  5f6fdd00-9a45-4afd-8ab1-df643d9d3020       tool               8.5   \n",
              " 13  ad94e4e8-8f8a-4b04-b94e-87f4afdc3aef       tool               8.5   \n",
              " 14  f93899d3-17e2-442f-bf27-8c505538e7dc       tool               8.5   \n",
              " 15  0685ac49-46ad-4e42-87ef-50f5b136e2b4       tool               8.5   \n",
              " 16  4c60b469-0b6f-4145-89e9-ce2afa51d01f       tool               9.0   \n",
              " 17  f78f7ff2-25e1-49c1-8647-af9dfd651432       tool               8.5   \n",
              " 18  c15f83d5-4ef6-4bdf-bce9-0a9a5714da62       tool               8.5   \n",
              " 19  62874750-65e9-4079-8faf-5b36c5781f53       tool               7.9   \n",
              " 20  159752d1-ecb7-471b-87bb-752abe79cdf6       tool               8.5   \n",
              " 21  1948a65b-8434-4411-9fde-4e044625f5a5       tool               8.5   \n",
              " 22  420ef1d2-cf65-420f-9fa3-405d769ffe17       tool               8.7   \n",
              " 23  e2c0994e-9bd8-43a5-9423-1c132135025e       tool               8.5   \n",
              " 24  0f389ad8-5716-494a-8800-6cd9b1238421       tool               8.5   \n",
              " \n",
              "     context_relevancy  role_adherence  tool_relevancy  parameter_correctness  \\\n",
              " 0                 8.1             9.0             0.0                    0.0   \n",
              " 1                 8.1             9.0             0.0                    0.0   \n",
              " 2                 7.8             9.0             0.0                    0.0   \n",
              " 3                 7.8             9.0             0.0                    0.0   \n",
              " 4                 7.8             9.5             0.0                    0.0   \n",
              " 5                 8.1             9.0             0.0                    0.0   \n",
              " 6                 7.8             9.0             0.0                    0.0   \n",
              " 7                 7.8             9.5             0.0                    0.0   \n",
              " 8                 8.1             9.5             0.0                    0.0   \n",
              " 9                 7.9             9.0             0.0                    0.0   \n",
              " 10                8.1             9.5             0.0                    0.0   \n",
              " 11                7.8             9.0             0.0                    0.0   \n",
              " 12                7.8             9.0             0.0                    0.0   \n",
              " 13                7.8             9.0             0.0                    0.0   \n",
              " 14                8.1             9.0             0.0                    0.0   \n",
              " 15                7.8             9.0             0.0                    0.0   \n",
              " 16                7.9             9.0             0.0                    0.0   \n",
              " 17                7.8             9.0             0.0                    0.0   \n",
              " 18                7.8             9.0             0.0                    0.0   \n",
              " 19                8.1             9.0             0.0                    0.0   \n",
              " 20                7.9             9.0             0.0                    0.0   \n",
              " 21                8.1             9.0             0.0                    0.0   \n",
              " 22                8.1             9.0             0.0                    0.0   \n",
              " 23                7.8             9.0             0.0                    0.0   \n",
              " 24                7.9             9.0             0.0                    0.0   \n",
              " \n",
              "                            task_progression_reasoning  \\\n",
              " 0   The agent correctly executed the tool call and...   \n",
              " 1   The agent correctly executed the tool call and...   \n",
              " 2   The agent, operating as a tool, has successful...   \n",
              " 3   The agent completely fulfilled the assigned ta...   \n",
              " 4   The agent has successfully executed a tool cal...   \n",
              " 5   The agent executed the tool call and provided ...   \n",
              " 6   The agent successfully executed the tool call,...   \n",
              " 7   The agent correctly executed its tool call, de...   \n",
              " 8   The agent correctly executed the tool call and...   \n",
              " 9   The agent has successfully executed the tool c...   \n",
              " 10  The agent understands its tool task and provid...   \n",
              " 11  The agent successfully executed the tool call ...   \n",
              " 12  The agent correctly executed the tool call as ...   \n",
              " 13  The agent effectively executed its tool call a...   \n",
              " 14  The tool successfully executed its programmed ...   \n",
              " 15  The agent successfully executed the tool call ...   \n",
              " 16  The agent has successfully executed the tool c...   \n",
              " 17  The agent's response directly addresses the to...   \n",
              " 18  The agent correctly executed the tool call and...   \n",
              " 19  The agent's response directly addresses the to...   \n",
              " 20  The agent understood the task and executed the...   \n",
              " 21  The agent successfully executed its tool call ...   \n",
              " 22  The agent correctly executed the tool call and...   \n",
              " 23  The agent has clearly executed the tool call a...   \n",
              " 24  The agent, acting as a tool, successfully exec...   \n",
              " \n",
              "                           context_relevancy_reasoning  \\\n",
              " 0   The agent's response is highly relevant to the...   \n",
              " 1   The agent's response effectively fulfills the ...   \n",
              " 2   The response is a tool call execution result, ...   \n",
              " 3   The agent's response is directly relevant beca...   \n",
              " 4   The agent's response is a direct output of the...   \n",
              " 5   The agent's response is highly relevant as it'...   \n",
              " 6   The agent provides a tool call result as expec...   \n",
              " 7   The tool successfully executed its function an...   \n",
              " 8   The response is highly relevant as it contains...   \n",
              " 9   The agent's response is directly relevant to t...   \n",
              " 10  The agent's response is highly relevant to the...   \n",
              " 11  The response is a structured data output, whic...   \n",
              " 12  The agent's response is directly relevant, pro...   \n",
              " 13  The response is a tool call output, reflecting...   \n",
              " 14  The response accurately reflects the execution...   \n",
              " 15  The agent's response directly fulfills the too...   \n",
              " 16  The agent's response directly addresses the to...   \n",
              " 17  The response fulfills the tool's function, pro...   \n",
              " 18  The agent response is directly relevant as it ...   \n",
              " 19  The agent's response is highly relevant, direc...   \n",
              " 20  The response is directly relevant as a tool ca...   \n",
              " 21  The response is highly relevant to the tool ca...   \n",
              " 22  The response is highly relevant as it provides...   \n",
              " 23  The agent's response is relevant, providing a ...   \n",
              " 24  The agent's response is highly relevant as a t...   \n",
              " \n",
              "                              role_adherence_reasoning  \\\n",
              " 0   The agent perfectly adheres to its role, provi...   \n",
              " 1   The agent perfectly fulfills its role as a too...   \n",
              " 2   The agent perfectly adheres to its role as a t...   \n",
              " 3   The agent perfectly adheres to its tool role b...   \n",
              " 4   The agent perfectly adheres to its tool role. ...   \n",
              " 5   The agent perfectly fulfills the role of a too...   \n",
              " 6   The agent perfectly adheres to its assigned ro...   \n",
              " 7   The agent perfectly adheres to its role as a t...   \n",
              " 8   The agent flawlessly executes its assigned rol...   \n",
              " 9   The agent perfectly adheres to its assigned ro...   \n",
              " 10  The agent perfectly adheres to its role, provi...   \n",
              " 11  The agent flawlessly executes its tool call as...   \n",
              " 12  The agent perfectly adheres to its role as a t...   \n",
              " 13  The agent perfectly adheres to its role of a t...   \n",
              " 14  The agent perfectly adheres to its role as a t...   \n",
              " 15  The agent perfectly executes the tool call as ...   \n",
              " 16  The agent perfectly adheres to its assigned ro...   \n",
              " 17  The agent perfectly adheres to its role as a t...   \n",
              " 18  The agent perfectly adheres to its assigned ro...   \n",
              " 19  The agent successfully executed its role as a ...   \n",
              " 20  The agent perfectly adheres to its role as a t...   \n",
              " 21  The agent perfectly adheres to its role as a s...   \n",
              " 22  The agent perfectly adheres to its tool role, ...   \n",
              " 23  The agent perfectly adheres to its tool role b...   \n",
              " 24  The agent flawlessly executes its assigned tas...   \n",
              " \n",
              "           tool_relevancy_reasoning parameter_correctness_reasoning  \n",
              " 0   Error: Missing required fields  Error: Missing required fields  \n",
              " 1   Error: Missing required fields  Error: Missing required fields  \n",
              " 2   Error: Missing required fields  Error: Missing required fields  \n",
              " 3   Error: Missing required fields  Error: Missing required fields  \n",
              " 4   Error: Missing required fields  Error: Missing required fields  \n",
              " 5   Error: Missing required fields  Error: Missing required fields  \n",
              " 6   Error: Missing required fields  Error: Missing required fields  \n",
              " 7   Error: Missing required fields  Error: Missing required fields  \n",
              " 8   Error: Missing required fields  Error: Missing required fields  \n",
              " 9   Error: Missing required fields  Error: Missing required fields  \n",
              " 10  Error: Missing required fields  Error: Missing required fields  \n",
              " 11  Error: Missing required fields  Error: Missing required fields  \n",
              " 12  Error: Missing required fields  Error: Missing required fields  \n",
              " 13  Error: Missing required fields  Error: Missing required fields  \n",
              " 14  Error: Missing required fields  Error: Missing required fields  \n",
              " 15  Error: Missing required fields  Error: Missing required fields  \n",
              " 16  Error: Missing required fields  Error: Missing required fields  \n",
              " 17  Error: Missing required fields  Error: Missing required fields  \n",
              " 18  Error: Missing required fields  Error: Missing required fields  \n",
              " 19  Error: Missing required fields  Error: Missing required fields  \n",
              " 20  Error: Missing required fields  Error: Missing required fields  \n",
              " 21  Error: Missing required fields  Error: Missing required fields  \n",
              " 22  Error: Missing required fields  Error: Missing required fields  \n",
              " 23  Error: Missing required fields  Error: Missing required fields  \n",
              " 24  Error: Missing required fields  Error: Missing required fields  ,\n",
              " 'export_success': True,\n",
              " 'errors': []}"
            ]
          },
          "execution_count": 14,
          "metadata": {},
          "output_type": "execute_result"
        }
      ],
      "source": [
        "run_complete_agent_evaluation('split_datasets/post_validation_dataset.json', \n",
        "evaluation_name = \"post_validation_dataset\", output_dir = \"./demo_results\")"
      ]
    },
    {
      "cell_type": "code",
      "execution_count": 15,
      "metadata": {},
      "outputs": [
        {
          "name": "stdout",
          "output_type": "stream",
          "text": [
            "🚀 Starting Complete Agent Evaluation Pipeline\n",
            "📁 Processing file: split_datasets/tavily_search_results_dataset.json\n",
            "============================================================\n",
            "\n",
            "📋 Step 1: Environment Setup\n",
            "✅ Logging configured at INFO level\n",
            "🔍 Environment validation:\n",
            "  ✅ gemini_api_key: True\n",
            "  ✅ pandas_available: True\n",
            "  ✅ novaeval_available: True\n",
            "✅ Environment ready for evaluation!\n",
            "\n",
            "📋 Step 2: Loading Dataset\n",
            "📊 Loaded 1582 spans from split_datasets/tavily_search_results_dataset.json\n",
            "\n",
            "🔍 Available span types:\n",
            "  - tool:tavily_search_results_json:tavily_search_results_json: 1582\n",
            "✅ Dataset loaded: 1582 spans\n",
            "\n",
            "📋 Step 3: Converting to AgentDataset Format\n",
            "🔄 Converting spans to AgentData objects...\n",
            "tool_output is not available d86a9c95-1ef7-4ddd-94f2-1cbca11faa32\n",
            "tool_output is not available 84f7ad62-b9cb-42a5-99a9-a97e25223551\n",
            "\n",
            "✅ Successfully converted 1582 spans to AgentData\n",
            "📊 AgentDataset created with 1582 records\n",
            "✅ AgentDataset created: 1582 records\n",
            "\n",
            "📋 Step 4: Dataset Analysis\n",
            "📈 Dataset Statistics:\n",
            "\n",
            "Agent Types: {'tool': 1582}\n",
            "Records with responses: 1580\n",
            "Records with tool calls: 0\n",
            "Records with retrieval: 0\n",
            "Tool usage: {}\n",
            "🔍 Dataset Analysis:\n",
            "\n",
            "=== Agent Behavior Patterns ===\n",
            "\n",
            "📈 Tool Usage:\n",
            "\n",
            "📋 Task Types:\n",
            "  - other: 1582\n",
            "\n",
            "📝 Response Statistics:\n",
            "  - Average response length: 3371.1 characters\n",
            "  - Min response length: 70\n",
            "  - Max response length: 7562\n",
            "\n",
            "📋 Step 5: Setting up Evaluation\n",
            "✅ GEMINI_API_KEY found in environment\n",
            "2025-10-02 14:42:23 - INFO - novaeval.models.base - Noveum tracing initialized successfully\n",
            "✅ Gemini model initialized\n",
            "✅ Initialized 5 scoring functions:\n",
            "  - task_progression_scorer\n",
            "  - context_relevancy_scorer\n",
            "  - role_adherence_scorer\n",
            "  - tool_relevancy_scorer\n",
            "  - parameter_correctness_scorer\n",
            "\n",
            "✅ AgentEvaluator created with Gemini model and scoring functions\n",
            "✅ Evaluation components ready!\n",
            "\n",
            "📋 Step 6: Running Evaluation\n",
            "🎯 Evaluating 25 samples...\n",
            "🚀 Running evaluation on sample data...\n",
            "\n",
            "📊 Evaluating 25 sample records...\n",
            "2025-10-02 14:42:23 - INFO - novaeval.evaluators.agent_evaluator - Starting agent evaluation process\n"
          ]
        },
        {
          "name": "stderr",
          "output_type": "stream",
          "text": [
            "Evaluating samples: 0it [00:00, ?it/s]"
          ]
        },
        {
          "name": "stdout",
          "output_type": "stream",
          "text": [
            "2025-10-02 14:42:23 - INFO - google_genai.models - AFC is enabled with max remote calls: 10.\n",
            "2025-10-02 14:42:24 - INFO - google_genai.models - AFC remote call 1 is done.\n"
          ]
        },
        {
          "name": "stderr",
          "output_type": "stream",
          "text": [
            "2025-10-02 14:42:24 - noveum_trace.transport.http_transport - INFO - 📤 EXPORTING TRACE: auto_trace_generate (ID: fa15e2a6-964f-4711-8da4-ab8f67d656be) - 1 spans\n",
            "2025-10-02 14:42:24 - noveum_trace.transport.batch_processor - INFO - 📥 ADDING TRACE TO QUEUE: auto_trace_generate (ID: fa15e2a6-964f-4711-8da4-ab8f67d656be) - 1 spans\n",
            "2025-10-02 14:42:24 - noveum_trace.transport.batch_processor - INFO - ✅ Successfully queued trace fa15e2a6-964f-4711-8da4-ab8f67d656be\n",
            "2025-10-02 14:42:24 - noveum_trace.transport.http_transport - INFO - ✅ Trace fa15e2a6-964f-4711-8da4-ab8f67d656be successfully queued for export\n"
          ]
        },
        {
          "name": "stdout",
          "output_type": "stream",
          "text": [
            "2025-10-02 14:42:24 - INFO - google_genai.models - AFC is enabled with max remote calls: 10.\n",
            "2025-10-02 14:42:26 - INFO - google_genai.models - AFC remote call 1 is done.\n"
          ]
        },
        {
          "name": "stderr",
          "output_type": "stream",
          "text": [
            "2025-10-02 14:42:26 - noveum_trace.transport.http_transport - INFO - 📤 EXPORTING TRACE: auto_trace_generate (ID: 63219f93-c2ac-44f7-be9d-1ae7cee16ed4) - 1 spans\n",
            "2025-10-02 14:42:26 - noveum_trace.transport.batch_processor - INFO - 📥 ADDING TRACE TO QUEUE: auto_trace_generate (ID: 63219f93-c2ac-44f7-be9d-1ae7cee16ed4) - 1 spans\n",
            "2025-10-02 14:42:26 - noveum_trace.transport.batch_processor - INFO - ✅ Successfully queued trace 63219f93-c2ac-44f7-be9d-1ae7cee16ed4\n",
            "2025-10-02 14:42:26 - noveum_trace.transport.http_transport - INFO - ✅ Trace 63219f93-c2ac-44f7-be9d-1ae7cee16ed4 successfully queued for export\n"
          ]
        },
        {
          "name": "stdout",
          "output_type": "stream",
          "text": [
            "2025-10-02 14:42:26 - INFO - google_genai.models - AFC is enabled with max remote calls: 10.\n",
            "2025-10-02 14:42:27 - INFO - google_genai.models - AFC remote call 1 is done.\n"
          ]
        },
        {
          "name": "stderr",
          "output_type": "stream",
          "text": [
            "2025-10-02 14:42:27 - noveum_trace.transport.http_transport - INFO - 📤 EXPORTING TRACE: auto_trace_generate (ID: 25b17249-98a4-4e2f-89fc-108619a702c1) - 1 spans\n",
            "2025-10-02 14:42:27 - noveum_trace.transport.batch_processor - INFO - 📥 ADDING TRACE TO QUEUE: auto_trace_generate (ID: 25b17249-98a4-4e2f-89fc-108619a702c1) - 1 spans\n",
            "2025-10-02 14:42:27 - noveum_trace.transport.batch_processor - INFO - ✅ Successfully queued trace 25b17249-98a4-4e2f-89fc-108619a702c1\n",
            "2025-10-02 14:42:27 - noveum_trace.transport.http_transport - INFO - ✅ Trace 25b17249-98a4-4e2f-89fc-108619a702c1 successfully queued for export\n"
          ]
        },
        {
          "name": "stdout",
          "output_type": "stream",
          "text": [
            "2025-10-02 14:42:27 - INFO - novaeval.evaluators.agent_evaluator - Saving intermediate results after 1 samples\n",
            "2025-10-02 14:42:27 - INFO - novaeval.evaluators.agent_evaluator - Intermediate results saved to demo_results/tavily_search_results_dataset/agent_evaluation_results.csv\n"
          ]
        },
        {
          "name": "stderr",
          "output_type": "stream",
          "text": [
            "Evaluating samples: 1it [00:04,  4.62s/it]"
          ]
        },
        {
          "name": "stdout",
          "output_type": "stream",
          "text": [
            "2025-10-02 14:42:27 - INFO - google_genai.models - AFC is enabled with max remote calls: 10.\n",
            "2025-10-02 14:42:29 - INFO - google_genai.models - AFC remote call 1 is done.\n"
          ]
        },
        {
          "name": "stderr",
          "output_type": "stream",
          "text": [
            "2025-10-02 14:42:29 - noveum_trace.transport.http_transport - INFO - 📤 EXPORTING TRACE: auto_trace_generate (ID: 06089d7c-3a0f-4ca1-b1bb-235573613062) - 1 spans\n",
            "2025-10-02 14:42:29 - noveum_trace.transport.batch_processor - INFO - 📥 ADDING TRACE TO QUEUE: auto_trace_generate (ID: 06089d7c-3a0f-4ca1-b1bb-235573613062) - 1 spans\n",
            "2025-10-02 14:42:29 - noveum_trace.transport.batch_processor - INFO - ✅ Successfully queued trace 06089d7c-3a0f-4ca1-b1bb-235573613062\n",
            "2025-10-02 14:42:29 - noveum_trace.transport.http_transport - INFO - ✅ Trace 06089d7c-3a0f-4ca1-b1bb-235573613062 successfully queued for export\n"
          ]
        },
        {
          "name": "stdout",
          "output_type": "stream",
          "text": [
            "2025-10-02 14:42:29 - INFO - google_genai.models - AFC is enabled with max remote calls: 10.\n",
            "2025-10-02 14:42:30 - INFO - google_genai.models - AFC remote call 1 is done.\n"
          ]
        },
        {
          "name": "stderr",
          "output_type": "stream",
          "text": [
            "2025-10-02 14:42:30 - noveum_trace.transport.http_transport - INFO - 📤 EXPORTING TRACE: auto_trace_generate (ID: cdddeb70-d581-43e8-aecc-61dfdc48ce4a) - 1 spans\n",
            "2025-10-02 14:42:30 - noveum_trace.transport.batch_processor - INFO - 📥 ADDING TRACE TO QUEUE: auto_trace_generate (ID: cdddeb70-d581-43e8-aecc-61dfdc48ce4a) - 1 spans\n",
            "2025-10-02 14:42:30 - noveum_trace.transport.batch_processor - INFO - ✅ Successfully queued trace cdddeb70-d581-43e8-aecc-61dfdc48ce4a\n",
            "2025-10-02 14:42:30 - noveum_trace.transport.http_transport - INFO - ✅ Trace cdddeb70-d581-43e8-aecc-61dfdc48ce4a successfully queued for export\n"
          ]
        },
        {
          "name": "stdout",
          "output_type": "stream",
          "text": [
            "2025-10-02 14:42:30 - INFO - google_genai.models - AFC is enabled with max remote calls: 10.\n",
            "2025-10-02 14:42:31 - INFO - google_genai.models - AFC remote call 1 is done.\n"
          ]
        },
        {
          "name": "stderr",
          "output_type": "stream",
          "text": [
            "2025-10-02 14:42:31 - noveum_trace.transport.http_transport - INFO - 📤 EXPORTING TRACE: auto_trace_generate (ID: b5edc6c5-721a-4f6d-9b3d-d27f5fe70033) - 1 spans\n",
            "2025-10-02 14:42:31 - noveum_trace.transport.batch_processor - INFO - 📥 ADDING TRACE TO QUEUE: auto_trace_generate (ID: b5edc6c5-721a-4f6d-9b3d-d27f5fe70033) - 1 spans\n",
            "2025-10-02 14:42:31 - noveum_trace.transport.batch_processor - INFO - ✅ Successfully queued trace b5edc6c5-721a-4f6d-9b3d-d27f5fe70033\n",
            "2025-10-02 14:42:31 - noveum_trace.transport.http_transport - INFO - ✅ Trace b5edc6c5-721a-4f6d-9b3d-d27f5fe70033 successfully queued for export\n"
          ]
        },
        {
          "name": "stdout",
          "output_type": "stream",
          "text": [
            "2025-10-02 14:42:31 - INFO - novaeval.evaluators.agent_evaluator - Saving intermediate results after 2 samples\n",
            "2025-10-02 14:42:31 - INFO - novaeval.evaluators.agent_evaluator - Intermediate results saved to demo_results/tavily_search_results_dataset/agent_evaluation_results.csv\n"
          ]
        },
        {
          "name": "stderr",
          "output_type": "stream",
          "text": [
            "Evaluating samples: 2it [00:08,  4.37s/it]"
          ]
        },
        {
          "name": "stdout",
          "output_type": "stream",
          "text": [
            "2025-10-02 14:42:31 - INFO - google_genai.models - AFC is enabled with max remote calls: 10.\n",
            "2025-10-02 14:42:33 - INFO - google_genai.models - AFC remote call 1 is done.\n"
          ]
        },
        {
          "name": "stderr",
          "output_type": "stream",
          "text": [
            "2025-10-02 14:42:33 - noveum_trace.transport.http_transport - INFO - 📤 EXPORTING TRACE: auto_trace_generate (ID: 4a7e91d3-c31c-4b21-b360-6248f6c8dbe7) - 1 spans\n",
            "2025-10-02 14:42:33 - noveum_trace.transport.batch_processor - INFO - 📥 ADDING TRACE TO QUEUE: auto_trace_generate (ID: 4a7e91d3-c31c-4b21-b360-6248f6c8dbe7) - 1 spans\n",
            "2025-10-02 14:42:33 - noveum_trace.transport.batch_processor - INFO - ✅ Successfully queued trace 4a7e91d3-c31c-4b21-b360-6248f6c8dbe7\n",
            "2025-10-02 14:42:33 - noveum_trace.transport.http_transport - INFO - ✅ Trace 4a7e91d3-c31c-4b21-b360-6248f6c8dbe7 successfully queued for export\n"
          ]
        },
        {
          "name": "stdout",
          "output_type": "stream",
          "text": [
            "2025-10-02 14:42:33 - INFO - google_genai.models - AFC is enabled with max remote calls: 10.\n",
            "2025-10-02 14:42:34 - INFO - google_genai.models - AFC remote call 1 is done.\n"
          ]
        },
        {
          "name": "stderr",
          "output_type": "stream",
          "text": [
            "2025-10-02 14:42:34 - noveum_trace.transport.http_transport - INFO - 📤 EXPORTING TRACE: auto_trace_generate (ID: c1fe0826-c5b1-41fb-a434-c60893e869b0) - 1 spans\n",
            "2025-10-02 14:42:34 - noveum_trace.transport.batch_processor - INFO - 📥 ADDING TRACE TO QUEUE: auto_trace_generate (ID: c1fe0826-c5b1-41fb-a434-c60893e869b0) - 1 spans\n",
            "2025-10-02 14:42:34 - noveum_trace.transport.batch_processor - INFO - ✅ Successfully queued trace c1fe0826-c5b1-41fb-a434-c60893e869b0\n",
            "2025-10-02 14:42:34 - noveum_trace.transport.http_transport - INFO - ✅ Trace c1fe0826-c5b1-41fb-a434-c60893e869b0 successfully queued for export\n"
          ]
        },
        {
          "name": "stdout",
          "output_type": "stream",
          "text": [
            "2025-10-02 14:42:34 - INFO - google_genai.models - AFC is enabled with max remote calls: 10.\n",
            "2025-10-02 14:42:36 - INFO - google_genai.models - AFC remote call 1 is done.\n"
          ]
        },
        {
          "name": "stderr",
          "output_type": "stream",
          "text": [
            "2025-10-02 14:42:36 - noveum_trace.transport.http_transport - INFO - 📤 EXPORTING TRACE: auto_trace_generate (ID: 0cce2c04-231d-4235-bc9f-24938904a82c) - 1 spans\n",
            "2025-10-02 14:42:36 - noveum_trace.transport.batch_processor - INFO - 📥 ADDING TRACE TO QUEUE: auto_trace_generate (ID: 0cce2c04-231d-4235-bc9f-24938904a82c) - 1 spans\n",
            "2025-10-02 14:42:36 - noveum_trace.transport.batch_processor - INFO - ✅ Successfully queued trace 0cce2c04-231d-4235-bc9f-24938904a82c\n",
            "2025-10-02 14:42:36 - noveum_trace.transport.http_transport - INFO - ✅ Trace 0cce2c04-231d-4235-bc9f-24938904a82c successfully queued for export\n"
          ]
        },
        {
          "name": "stdout",
          "output_type": "stream",
          "text": [
            "2025-10-02 14:42:36 - INFO - novaeval.evaluators.agent_evaluator - Saving intermediate results after 3 samples\n",
            "2025-10-02 14:42:36 - INFO - novaeval.evaluators.agent_evaluator - Intermediate results saved to demo_results/tavily_search_results_dataset/agent_evaluation_results.csv\n"
          ]
        },
        {
          "name": "stderr",
          "output_type": "stream",
          "text": [
            "Evaluating samples: 3it [00:13,  4.43s/it]"
          ]
        },
        {
          "name": "stdout",
          "output_type": "stream",
          "text": [
            "2025-10-02 14:42:36 - INFO - google_genai.models - AFC is enabled with max remote calls: 10.\n",
            "2025-10-02 14:42:37 - INFO - google_genai.models - AFC remote call 1 is done.\n"
          ]
        },
        {
          "name": "stderr",
          "output_type": "stream",
          "text": [
            "2025-10-02 14:42:37 - noveum_trace.transport.http_transport - INFO - 📤 EXPORTING TRACE: auto_trace_generate (ID: 07a8743e-9bd9-4879-937b-2e68e12ee658) - 1 spans\n",
            "2025-10-02 14:42:37 - noveum_trace.transport.batch_processor - INFO - 📥 ADDING TRACE TO QUEUE: auto_trace_generate (ID: 07a8743e-9bd9-4879-937b-2e68e12ee658) - 1 spans\n",
            "2025-10-02 14:42:37 - noveum_trace.transport.batch_processor - INFO - ✅ Successfully queued trace 07a8743e-9bd9-4879-937b-2e68e12ee658\n",
            "2025-10-02 14:42:37 - noveum_trace.transport.http_transport - INFO - ✅ Trace 07a8743e-9bd9-4879-937b-2e68e12ee658 successfully queued for export\n"
          ]
        },
        {
          "name": "stdout",
          "output_type": "stream",
          "text": [
            "2025-10-02 14:42:37 - INFO - google_genai.models - AFC is enabled with max remote calls: 10.\n",
            "2025-10-02 14:42:39 - INFO - google_genai.models - AFC remote call 1 is done.\n"
          ]
        },
        {
          "name": "stderr",
          "output_type": "stream",
          "text": [
            "2025-10-02 14:42:39 - noveum_trace.transport.http_transport - INFO - 📤 EXPORTING TRACE: auto_trace_generate (ID: 1a64beff-dbaa-4ca3-a771-70477fd45152) - 1 spans\n",
            "2025-10-02 14:42:39 - noveum_trace.transport.batch_processor - INFO - 📥 ADDING TRACE TO QUEUE: auto_trace_generate (ID: 1a64beff-dbaa-4ca3-a771-70477fd45152) - 1 spans\n",
            "2025-10-02 14:42:39 - noveum_trace.transport.batch_processor - INFO - ✅ Successfully queued trace 1a64beff-dbaa-4ca3-a771-70477fd45152\n",
            "2025-10-02 14:42:39 - noveum_trace.transport.http_transport - INFO - ✅ Trace 1a64beff-dbaa-4ca3-a771-70477fd45152 successfully queued for export\n"
          ]
        },
        {
          "name": "stdout",
          "output_type": "stream",
          "text": [
            "2025-10-02 14:42:39 - INFO - google_genai.models - AFC is enabled with max remote calls: 10.\n",
            "2025-10-02 14:42:40 - INFO - google_genai.models - AFC remote call 1 is done.\n"
          ]
        },
        {
          "name": "stderr",
          "output_type": "stream",
          "text": [
            "2025-10-02 14:42:40 - noveum_trace.transport.http_transport - INFO - 📤 EXPORTING TRACE: auto_trace_generate (ID: 93e2ce61-2a6f-4c06-872f-b25cbbae05fc) - 1 spans\n",
            "2025-10-02 14:42:40 - noveum_trace.transport.batch_processor - INFO - 📥 ADDING TRACE TO QUEUE: auto_trace_generate (ID: 93e2ce61-2a6f-4c06-872f-b25cbbae05fc) - 1 spans\n",
            "2025-10-02 14:42:40 - noveum_trace.transport.batch_processor - INFO - ✅ Successfully queued trace 93e2ce61-2a6f-4c06-872f-b25cbbae05fc\n",
            "2025-10-02 14:42:40 - noveum_trace.transport.http_transport - INFO - ✅ Trace 93e2ce61-2a6f-4c06-872f-b25cbbae05fc successfully queued for export\n"
          ]
        },
        {
          "name": "stdout",
          "output_type": "stream",
          "text": [
            "2025-10-02 14:42:40 - INFO - novaeval.evaluators.agent_evaluator - Saving intermediate results after 4 samples\n",
            "2025-10-02 14:42:40 - INFO - novaeval.evaluators.agent_evaluator - Intermediate results saved to demo_results/tavily_search_results_dataset/agent_evaluation_results.csv\n"
          ]
        },
        {
          "name": "stderr",
          "output_type": "stream",
          "text": [
            "Evaluating samples: 4it [00:17,  4.38s/it]"
          ]
        },
        {
          "name": "stdout",
          "output_type": "stream",
          "text": [
            "2025-10-02 14:42:40 - INFO - google_genai.models - AFC is enabled with max remote calls: 10.\n",
            "2025-10-02 14:42:42 - INFO - google_genai.models - AFC remote call 1 is done.\n"
          ]
        },
        {
          "name": "stderr",
          "output_type": "stream",
          "text": [
            "2025-10-02 14:42:42 - noveum_trace.transport.http_transport - INFO - 📤 EXPORTING TRACE: auto_trace_generate (ID: 4bcdb82a-4a95-4503-9a34-3c8cc736e8b3) - 1 spans\n",
            "2025-10-02 14:42:42 - noveum_trace.transport.batch_processor - INFO - 📥 ADDING TRACE TO QUEUE: auto_trace_generate (ID: 4bcdb82a-4a95-4503-9a34-3c8cc736e8b3) - 1 spans\n",
            "2025-10-02 14:42:42 - noveum_trace.transport.batch_processor - INFO - ✅ Successfully queued trace 4bcdb82a-4a95-4503-9a34-3c8cc736e8b3\n",
            "2025-10-02 14:42:42 - noveum_trace.transport.http_transport - INFO - ✅ Trace 4bcdb82a-4a95-4503-9a34-3c8cc736e8b3 successfully queued for export\n"
          ]
        },
        {
          "name": "stdout",
          "output_type": "stream",
          "text": [
            "2025-10-02 14:42:42 - INFO - google_genai.models - AFC is enabled with max remote calls: 10.\n",
            "2025-10-02 14:42:43 - INFO - google_genai.models - AFC remote call 1 is done.\n"
          ]
        },
        {
          "name": "stderr",
          "output_type": "stream",
          "text": [
            "2025-10-02 14:42:43 - noveum_trace.transport.http_transport - INFO - 📤 EXPORTING TRACE: auto_trace_generate (ID: 6627de0e-84b8-4db7-8e90-b080e862bb11) - 1 spans\n",
            "2025-10-02 14:42:43 - noveum_trace.transport.batch_processor - INFO - 📥 ADDING TRACE TO QUEUE: auto_trace_generate (ID: 6627de0e-84b8-4db7-8e90-b080e862bb11) - 1 spans\n",
            "2025-10-02 14:42:43 - noveum_trace.transport.batch_processor - INFO - ✅ Successfully queued trace 6627de0e-84b8-4db7-8e90-b080e862bb11\n",
            "2025-10-02 14:42:43 - noveum_trace.transport.http_transport - INFO - ✅ Trace 6627de0e-84b8-4db7-8e90-b080e862bb11 successfully queued for export\n"
          ]
        },
        {
          "name": "stdout",
          "output_type": "stream",
          "text": [
            "2025-10-02 14:42:43 - INFO - google_genai.models - AFC is enabled with max remote calls: 10.\n",
            "2025-10-02 14:42:44 - INFO - google_genai.models - AFC remote call 1 is done.\n"
          ]
        },
        {
          "name": "stderr",
          "output_type": "stream",
          "text": [
            "2025-10-02 14:42:44 - noveum_trace.transport.http_transport - INFO - 📤 EXPORTING TRACE: auto_trace_generate (ID: 68e13e5f-04b3-4d5e-9d03-d4ed14a264b4) - 1 spans\n",
            "2025-10-02 14:42:44 - noveum_trace.transport.batch_processor - INFO - 📥 ADDING TRACE TO QUEUE: auto_trace_generate (ID: 68e13e5f-04b3-4d5e-9d03-d4ed14a264b4) - 1 spans\n",
            "2025-10-02 14:42:44 - noveum_trace.transport.batch_processor - INFO - ✅ Successfully queued trace 68e13e5f-04b3-4d5e-9d03-d4ed14a264b4\n",
            "2025-10-02 14:42:44 - noveum_trace.transport.http_transport - INFO - ✅ Trace 68e13e5f-04b3-4d5e-9d03-d4ed14a264b4 successfully queued for export\n"
          ]
        },
        {
          "name": "stdout",
          "output_type": "stream",
          "text": [
            "2025-10-02 14:42:44 - INFO - novaeval.evaluators.agent_evaluator - Saving intermediate results after 5 samples\n",
            "2025-10-02 14:42:44 - INFO - novaeval.evaluators.agent_evaluator - Intermediate results saved to demo_results/tavily_search_results_dataset/agent_evaluation_results.csv\n"
          ]
        },
        {
          "name": "stderr",
          "output_type": "stream",
          "text": [
            "Evaluating samples: 5it [00:21,  4.28s/it]"
          ]
        },
        {
          "name": "stdout",
          "output_type": "stream",
          "text": [
            "2025-10-02 14:42:44 - INFO - google_genai.models - AFC is enabled with max remote calls: 10.\n",
            "2025-10-02 14:42:46 - INFO - google_genai.models - AFC remote call 1 is done.\n"
          ]
        },
        {
          "name": "stderr",
          "output_type": "stream",
          "text": [
            "2025-10-02 14:42:46 - noveum_trace.transport.http_transport - INFO - 📤 EXPORTING TRACE: auto_trace_generate (ID: fedaa623-b654-4de0-addb-4bb6fd640474) - 1 spans\n",
            "2025-10-02 14:42:46 - noveum_trace.transport.batch_processor - INFO - 📥 ADDING TRACE TO QUEUE: auto_trace_generate (ID: fedaa623-b654-4de0-addb-4bb6fd640474) - 1 spans\n",
            "2025-10-02 14:42:46 - noveum_trace.transport.batch_processor - INFO - ✅ Successfully queued trace fedaa623-b654-4de0-addb-4bb6fd640474\n",
            "2025-10-02 14:42:46 - noveum_trace.transport.http_transport - INFO - ✅ Trace fedaa623-b654-4de0-addb-4bb6fd640474 successfully queued for export\n"
          ]
        },
        {
          "name": "stdout",
          "output_type": "stream",
          "text": [
            "2025-10-02 14:42:46 - INFO - google_genai.models - AFC is enabled with max remote calls: 10.\n",
            "2025-10-02 14:42:47 - INFO - google_genai.models - AFC remote call 1 is done.\n"
          ]
        },
        {
          "name": "stderr",
          "output_type": "stream",
          "text": [
            "2025-10-02 14:42:47 - noveum_trace.transport.http_transport - INFO - 📤 EXPORTING TRACE: auto_trace_generate (ID: 918be2e1-e8b7-4934-9a67-040df3367989) - 1 spans\n",
            "2025-10-02 14:42:47 - noveum_trace.transport.batch_processor - INFO - 📥 ADDING TRACE TO QUEUE: auto_trace_generate (ID: 918be2e1-e8b7-4934-9a67-040df3367989) - 1 spans\n",
            "2025-10-02 14:42:47 - noveum_trace.transport.batch_processor - INFO - ✅ Successfully queued trace 918be2e1-e8b7-4934-9a67-040df3367989\n",
            "2025-10-02 14:42:47 - noveum_trace.transport.http_transport - INFO - ✅ Trace 918be2e1-e8b7-4934-9a67-040df3367989 successfully queued for export\n"
          ]
        },
        {
          "name": "stdout",
          "output_type": "stream",
          "text": [
            "2025-10-02 14:42:47 - INFO - google_genai.models - AFC is enabled with max remote calls: 10.\n",
            "2025-10-02 14:42:49 - INFO - google_genai.models - AFC remote call 1 is done.\n"
          ]
        },
        {
          "name": "stderr",
          "output_type": "stream",
          "text": [
            "2025-10-02 14:42:49 - noveum_trace.transport.http_transport - INFO - 📤 EXPORTING TRACE: auto_trace_generate (ID: bed70590-ec56-4597-b158-76c5c4590680) - 1 spans\n",
            "2025-10-02 14:42:49 - noveum_trace.transport.batch_processor - INFO - 📥 ADDING TRACE TO QUEUE: auto_trace_generate (ID: bed70590-ec56-4597-b158-76c5c4590680) - 1 spans\n",
            "2025-10-02 14:42:49 - noveum_trace.transport.batch_processor - INFO - ✅ Successfully queued trace bed70590-ec56-4597-b158-76c5c4590680\n",
            "2025-10-02 14:42:49 - noveum_trace.transport.http_transport - INFO - ✅ Trace bed70590-ec56-4597-b158-76c5c4590680 successfully queued for export\n"
          ]
        },
        {
          "name": "stdout",
          "output_type": "stream",
          "text": [
            "2025-10-02 14:42:49 - INFO - novaeval.evaluators.agent_evaluator - Saving intermediate results after 6 samples\n",
            "2025-10-02 14:42:49 - INFO - novaeval.evaluators.agent_evaluator - Intermediate results saved to demo_results/tavily_search_results_dataset/agent_evaluation_results.csv\n"
          ]
        },
        {
          "name": "stderr",
          "output_type": "stream",
          "text": [
            "Evaluating samples: 6it [00:25,  4.25s/it]"
          ]
        },
        {
          "name": "stdout",
          "output_type": "stream",
          "text": [
            "2025-10-02 14:42:49 - INFO - google_genai.models - AFC is enabled with max remote calls: 10.\n",
            "2025-10-02 14:42:50 - INFO - google_genai.models - AFC remote call 1 is done.\n"
          ]
        },
        {
          "name": "stderr",
          "output_type": "stream",
          "text": [
            "2025-10-02 14:42:50 - noveum_trace.transport.http_transport - INFO - 📤 EXPORTING TRACE: auto_trace_generate (ID: 709e85d7-0191-491f-93e8-9ce848b22979) - 1 spans\n",
            "2025-10-02 14:42:50 - noveum_trace.transport.batch_processor - INFO - 📥 ADDING TRACE TO QUEUE: auto_trace_generate (ID: 709e85d7-0191-491f-93e8-9ce848b22979) - 1 spans\n",
            "2025-10-02 14:42:50 - noveum_trace.transport.batch_processor - INFO - ✅ Successfully queued trace 709e85d7-0191-491f-93e8-9ce848b22979\n",
            "2025-10-02 14:42:50 - noveum_trace.transport.http_transport - INFO - ✅ Trace 709e85d7-0191-491f-93e8-9ce848b22979 successfully queued for export\n"
          ]
        },
        {
          "name": "stdout",
          "output_type": "stream",
          "text": [
            "2025-10-02 14:42:50 - INFO - google_genai.models - AFC is enabled with max remote calls: 10.\n",
            "2025-10-02 14:42:52 - INFO - google_genai.models - AFC remote call 1 is done.\n"
          ]
        },
        {
          "name": "stderr",
          "output_type": "stream",
          "text": [
            "2025-10-02 14:42:52 - noveum_trace.transport.http_transport - INFO - 📤 EXPORTING TRACE: auto_trace_generate (ID: 515a3c52-03a8-4957-9485-94913711872a) - 1 spans\n",
            "2025-10-02 14:42:52 - noveum_trace.transport.batch_processor - INFO - 📥 ADDING TRACE TO QUEUE: auto_trace_generate (ID: 515a3c52-03a8-4957-9485-94913711872a) - 1 spans\n",
            "2025-10-02 14:42:52 - noveum_trace.transport.batch_processor - INFO - ✅ Successfully queued trace 515a3c52-03a8-4957-9485-94913711872a\n",
            "2025-10-02 14:42:52 - noveum_trace.transport.http_transport - INFO - ✅ Trace 515a3c52-03a8-4957-9485-94913711872a successfully queued for export\n"
          ]
        },
        {
          "name": "stdout",
          "output_type": "stream",
          "text": [
            "2025-10-02 14:42:52 - INFO - google_genai.models - AFC is enabled with max remote calls: 10.\n",
            "2025-10-02 14:42:53 - INFO - google_genai.models - AFC remote call 1 is done.\n"
          ]
        },
        {
          "name": "stderr",
          "output_type": "stream",
          "text": [
            "2025-10-02 14:42:53 - noveum_trace.transport.http_transport - INFO - 📤 EXPORTING TRACE: auto_trace_generate (ID: ea407e05-8c03-482d-84b2-1813bef803dd) - 1 spans\n",
            "2025-10-02 14:42:53 - noveum_trace.transport.batch_processor - INFO - 📥 ADDING TRACE TO QUEUE: auto_trace_generate (ID: ea407e05-8c03-482d-84b2-1813bef803dd) - 1 spans\n",
            "2025-10-02 14:42:53 - noveum_trace.transport.batch_processor - INFO - ✅ Successfully queued trace ea407e05-8c03-482d-84b2-1813bef803dd\n",
            "2025-10-02 14:42:53 - noveum_trace.transport.http_transport - INFO - ✅ Trace ea407e05-8c03-482d-84b2-1813bef803dd successfully queued for export\n"
          ]
        },
        {
          "name": "stdout",
          "output_type": "stream",
          "text": [
            "2025-10-02 14:42:53 - INFO - novaeval.evaluators.agent_evaluator - Saving intermediate results after 7 samples\n",
            "2025-10-02 14:42:53 - INFO - novaeval.evaluators.agent_evaluator - Intermediate results saved to demo_results/tavily_search_results_dataset/agent_evaluation_results.csv\n"
          ]
        },
        {
          "name": "stderr",
          "output_type": "stream",
          "text": [
            "Evaluating samples: 7it [00:30,  4.33s/it]"
          ]
        },
        {
          "name": "stdout",
          "output_type": "stream",
          "text": [
            "2025-10-02 14:42:53 - INFO - google_genai.models - AFC is enabled with max remote calls: 10.\n",
            "2025-10-02 14:42:54 - INFO - google_genai.models - AFC remote call 1 is done.\n"
          ]
        },
        {
          "name": "stderr",
          "output_type": "stream",
          "text": [
            "2025-10-02 14:42:54 - noveum_trace.transport.http_transport - INFO - 📤 EXPORTING TRACE: auto_trace_generate (ID: efdd849e-37b0-4394-8e3d-eea5bf47a63c) - 1 spans\n",
            "2025-10-02 14:42:54 - noveum_trace.transport.batch_processor - INFO - 📥 ADDING TRACE TO QUEUE: auto_trace_generate (ID: efdd849e-37b0-4394-8e3d-eea5bf47a63c) - 1 spans\n",
            "2025-10-02 14:42:54 - noveum_trace.transport.batch_processor - INFO - ✅ Successfully queued trace efdd849e-37b0-4394-8e3d-eea5bf47a63c\n",
            "2025-10-02 14:42:54 - noveum_trace.transport.http_transport - INFO - ✅ Trace efdd849e-37b0-4394-8e3d-eea5bf47a63c successfully queued for export\n"
          ]
        },
        {
          "name": "stdout",
          "output_type": "stream",
          "text": [
            "2025-10-02 14:42:54 - INFO - google_genai.models - AFC is enabled with max remote calls: 10.\n",
            "2025-10-02 14:42:56 - INFO - google_genai.models - AFC remote call 1 is done.\n"
          ]
        },
        {
          "name": "stderr",
          "output_type": "stream",
          "text": [
            "2025-10-02 14:42:56 - noveum_trace.transport.http_transport - INFO - 📤 EXPORTING TRACE: auto_trace_generate (ID: 40b79539-53f9-497a-a8dc-267a1c510ddd) - 1 spans\n",
            "2025-10-02 14:42:56 - noveum_trace.transport.batch_processor - INFO - 📥 ADDING TRACE TO QUEUE: auto_trace_generate (ID: 40b79539-53f9-497a-a8dc-267a1c510ddd) - 1 spans\n",
            "2025-10-02 14:42:56 - noveum_trace.transport.batch_processor - INFO - ✅ Successfully queued trace 40b79539-53f9-497a-a8dc-267a1c510ddd\n",
            "2025-10-02 14:42:56 - noveum_trace.transport.http_transport - INFO - ✅ Trace 40b79539-53f9-497a-a8dc-267a1c510ddd successfully queued for export\n"
          ]
        },
        {
          "name": "stdout",
          "output_type": "stream",
          "text": [
            "2025-10-02 14:42:56 - INFO - google_genai.models - AFC is enabled with max remote calls: 10.\n",
            "2025-10-02 14:42:57 - INFO - google_genai.models - AFC remote call 1 is done.\n"
          ]
        },
        {
          "name": "stderr",
          "output_type": "stream",
          "text": [
            "2025-10-02 14:42:57 - noveum_trace.transport.http_transport - INFO - 📤 EXPORTING TRACE: auto_trace_generate (ID: 30172e12-7a77-48d0-8148-9dd0c4434f0c) - 1 spans\n",
            "2025-10-02 14:42:57 - noveum_trace.transport.batch_processor - INFO - 📥 ADDING TRACE TO QUEUE: auto_trace_generate (ID: 30172e12-7a77-48d0-8148-9dd0c4434f0c) - 1 spans\n",
            "2025-10-02 14:42:57 - noveum_trace.transport.batch_processor - INFO - ✅ Successfully queued trace 30172e12-7a77-48d0-8148-9dd0c4434f0c\n",
            "2025-10-02 14:42:57 - noveum_trace.transport.http_transport - INFO - ✅ Trace 30172e12-7a77-48d0-8148-9dd0c4434f0c successfully queued for export\n"
          ]
        },
        {
          "name": "stdout",
          "output_type": "stream",
          "text": [
            "2025-10-02 14:42:57 - INFO - novaeval.evaluators.agent_evaluator - Saving intermediate results after 8 samples\n",
            "2025-10-02 14:42:57 - INFO - novaeval.evaluators.agent_evaluator - Intermediate results saved to demo_results/tavily_search_results_dataset/agent_evaluation_results.csv\n"
          ]
        },
        {
          "name": "stderr",
          "output_type": "stream",
          "text": [
            "Evaluating samples: 8it [00:34,  4.20s/it]"
          ]
        },
        {
          "name": "stdout",
          "output_type": "stream",
          "text": [
            "2025-10-02 14:42:57 - INFO - google_genai.models - AFC is enabled with max remote calls: 10.\n",
            "2025-10-02 14:42:58 - INFO - google_genai.models - AFC remote call 1 is done.\n"
          ]
        },
        {
          "name": "stderr",
          "output_type": "stream",
          "text": [
            "2025-10-02 14:42:58 - noveum_trace.transport.http_transport - INFO - 📤 EXPORTING TRACE: auto_trace_generate (ID: 1ea33062-275f-496c-9298-a278fc981862) - 1 spans\n",
            "2025-10-02 14:42:58 - noveum_trace.transport.batch_processor - INFO - 📥 ADDING TRACE TO QUEUE: auto_trace_generate (ID: 1ea33062-275f-496c-9298-a278fc981862) - 1 spans\n",
            "2025-10-02 14:42:58 - noveum_trace.transport.batch_processor - INFO - ✅ Successfully queued trace 1ea33062-275f-496c-9298-a278fc981862\n",
            "2025-10-02 14:42:58 - noveum_trace.transport.http_transport - INFO - ✅ Trace 1ea33062-275f-496c-9298-a278fc981862 successfully queued for export\n"
          ]
        },
        {
          "name": "stdout",
          "output_type": "stream",
          "text": [
            "2025-10-02 14:42:58 - INFO - google_genai.models - AFC is enabled with max remote calls: 10.\n",
            "2025-10-02 14:43:00 - INFO - google_genai.models - AFC remote call 1 is done.\n"
          ]
        },
        {
          "name": "stderr",
          "output_type": "stream",
          "text": [
            "2025-10-02 14:43:00 - noveum_trace.transport.http_transport - INFO - 📤 EXPORTING TRACE: auto_trace_generate (ID: 1945b0d2-64a9-4696-9c05-da413a534468) - 1 spans\n",
            "2025-10-02 14:43:00 - noveum_trace.transport.batch_processor - INFO - 📥 ADDING TRACE TO QUEUE: auto_trace_generate (ID: 1945b0d2-64a9-4696-9c05-da413a534468) - 1 spans\n",
            "2025-10-02 14:43:00 - noveum_trace.transport.batch_processor - INFO - ✅ Successfully queued trace 1945b0d2-64a9-4696-9c05-da413a534468\n",
            "2025-10-02 14:43:00 - noveum_trace.transport.http_transport - INFO - ✅ Trace 1945b0d2-64a9-4696-9c05-da413a534468 successfully queued for export\n"
          ]
        },
        {
          "name": "stdout",
          "output_type": "stream",
          "text": [
            "2025-10-02 14:43:00 - INFO - google_genai.models - AFC is enabled with max remote calls: 10.\n",
            "2025-10-02 14:43:01 - INFO - google_genai.models - AFC remote call 1 is done.\n"
          ]
        },
        {
          "name": "stderr",
          "output_type": "stream",
          "text": [
            "2025-10-02 14:43:01 - noveum_trace.transport.http_transport - INFO - 📤 EXPORTING TRACE: auto_trace_generate (ID: c906274e-19f5-4ee3-97be-71b16496b176) - 1 spans\n",
            "2025-10-02 14:43:01 - noveum_trace.transport.batch_processor - INFO - 📥 ADDING TRACE TO QUEUE: auto_trace_generate (ID: c906274e-19f5-4ee3-97be-71b16496b176) - 1 spans\n",
            "2025-10-02 14:43:01 - noveum_trace.transport.batch_processor - INFO - ✅ Successfully queued trace c906274e-19f5-4ee3-97be-71b16496b176\n",
            "2025-10-02 14:43:01 - noveum_trace.transport.http_transport - INFO - ✅ Trace c906274e-19f5-4ee3-97be-71b16496b176 successfully queued for export\n"
          ]
        },
        {
          "name": "stdout",
          "output_type": "stream",
          "text": [
            "2025-10-02 14:43:01 - INFO - novaeval.evaluators.agent_evaluator - Saving intermediate results after 9 samples\n",
            "2025-10-02 14:43:01 - INFO - novaeval.evaluators.agent_evaluator - Intermediate results saved to demo_results/tavily_search_results_dataset/agent_evaluation_results.csv\n"
          ]
        },
        {
          "name": "stderr",
          "output_type": "stream",
          "text": [
            "Evaluating samples: 9it [00:38,  4.13s/it]"
          ]
        },
        {
          "name": "stdout",
          "output_type": "stream",
          "text": [
            "2025-10-02 14:43:01 - INFO - google_genai.models - AFC is enabled with max remote calls: 10.\n",
            "2025-10-02 14:43:02 - INFO - google_genai.models - AFC remote call 1 is done.\n"
          ]
        },
        {
          "name": "stderr",
          "output_type": "stream",
          "text": [
            "2025-10-02 14:43:02 - noveum_trace.transport.http_transport - INFO - 📤 EXPORTING TRACE: auto_trace_generate (ID: 577a2fbf-5345-42bd-98e3-12e840d8c143) - 1 spans\n",
            "2025-10-02 14:43:02 - noveum_trace.transport.batch_processor - INFO - 📥 ADDING TRACE TO QUEUE: auto_trace_generate (ID: 577a2fbf-5345-42bd-98e3-12e840d8c143) - 1 spans\n",
            "2025-10-02 14:43:02 - noveum_trace.transport.batch_processor - INFO - ✅ Successfully queued trace 577a2fbf-5345-42bd-98e3-12e840d8c143\n",
            "2025-10-02 14:43:02 - noveum_trace.transport.http_transport - INFO - ✅ Trace 577a2fbf-5345-42bd-98e3-12e840d8c143 successfully queued for export\n"
          ]
        },
        {
          "name": "stdout",
          "output_type": "stream",
          "text": [
            "2025-10-02 14:43:02 - INFO - google_genai.models - AFC is enabled with max remote calls: 10.\n",
            "2025-10-02 14:43:04 - INFO - google_genai.models - AFC remote call 1 is done.\n"
          ]
        },
        {
          "name": "stderr",
          "output_type": "stream",
          "text": [
            "2025-10-02 14:43:04 - noveum_trace.transport.http_transport - INFO - 📤 EXPORTING TRACE: auto_trace_generate (ID: ff42a66a-c00a-43da-b854-8ed3d07d1d7a) - 1 spans\n",
            "2025-10-02 14:43:04 - noveum_trace.transport.batch_processor - INFO - 📥 ADDING TRACE TO QUEUE: auto_trace_generate (ID: ff42a66a-c00a-43da-b854-8ed3d07d1d7a) - 1 spans\n",
            "2025-10-02 14:43:04 - noveum_trace.transport.batch_processor - INFO - ✅ Successfully queued trace ff42a66a-c00a-43da-b854-8ed3d07d1d7a\n",
            "2025-10-02 14:43:04 - noveum_trace.transport.http_transport - INFO - ✅ Trace ff42a66a-c00a-43da-b854-8ed3d07d1d7a successfully queued for export\n"
          ]
        },
        {
          "name": "stdout",
          "output_type": "stream",
          "text": [
            "2025-10-02 14:43:04 - INFO - google_genai.models - AFC is enabled with max remote calls: 10.\n",
            "2025-10-02 14:43:06 - INFO - google_genai.models - AFC remote call 1 is done.\n"
          ]
        },
        {
          "name": "stderr",
          "output_type": "stream",
          "text": [
            "2025-10-02 14:43:06 - noveum_trace.transport.http_transport - INFO - 📤 EXPORTING TRACE: auto_trace_generate (ID: 4f105d3e-ddd3-4155-90eb-85c148acc24c) - 1 spans\n",
            "2025-10-02 14:43:06 - noveum_trace.transport.batch_processor - INFO - 📥 ADDING TRACE TO QUEUE: auto_trace_generate (ID: 4f105d3e-ddd3-4155-90eb-85c148acc24c) - 1 spans\n",
            "2025-10-02 14:43:06 - noveum_trace.transport.batch_processor - INFO - ✅ Successfully queued trace 4f105d3e-ddd3-4155-90eb-85c148acc24c\n",
            "2025-10-02 14:43:06 - noveum_trace.transport.http_transport - INFO - ✅ Trace 4f105d3e-ddd3-4155-90eb-85c148acc24c successfully queued for export\n"
          ]
        },
        {
          "name": "stdout",
          "output_type": "stream",
          "text": [
            "2025-10-02 14:43:06 - INFO - novaeval.evaluators.agent_evaluator - Saving intermediate results after 10 samples\n",
            "2025-10-02 14:43:06 - INFO - novaeval.evaluators.agent_evaluator - Intermediate results saved to demo_results/tavily_search_results_dataset/agent_evaluation_results.csv\n"
          ]
        },
        {
          "name": "stderr",
          "output_type": "stream",
          "text": [
            "Evaluating samples: 10it [00:42,  4.29s/it]"
          ]
        },
        {
          "name": "stdout",
          "output_type": "stream",
          "text": [
            "2025-10-02 14:43:06 - INFO - google_genai.models - AFC is enabled with max remote calls: 10.\n",
            "2025-10-02 14:43:07 - INFO - google_genai.models - AFC remote call 1 is done.\n"
          ]
        },
        {
          "name": "stderr",
          "output_type": "stream",
          "text": [
            "2025-10-02 14:43:07 - noveum_trace.transport.http_transport - INFO - 📤 EXPORTING TRACE: auto_trace_generate (ID: 75c9a411-4df6-45d2-96f2-61bb8bf11fd4) - 1 spans\n",
            "2025-10-02 14:43:07 - noveum_trace.transport.batch_processor - INFO - 📥 ADDING TRACE TO QUEUE: auto_trace_generate (ID: 75c9a411-4df6-45d2-96f2-61bb8bf11fd4) - 1 spans\n",
            "2025-10-02 14:43:07 - noveum_trace.transport.batch_processor - INFO - ✅ Successfully queued trace 75c9a411-4df6-45d2-96f2-61bb8bf11fd4\n",
            "2025-10-02 14:43:07 - noveum_trace.transport.http_transport - INFO - ✅ Trace 75c9a411-4df6-45d2-96f2-61bb8bf11fd4 successfully queued for export\n"
          ]
        },
        {
          "name": "stdout",
          "output_type": "stream",
          "text": [
            "2025-10-02 14:43:07 - INFO - google_genai.models - AFC is enabled with max remote calls: 10.\n",
            "2025-10-02 14:43:08 - INFO - google_genai.models - AFC remote call 1 is done.\n"
          ]
        },
        {
          "name": "stderr",
          "output_type": "stream",
          "text": [
            "2025-10-02 14:43:08 - noveum_trace.transport.http_transport - INFO - 📤 EXPORTING TRACE: auto_trace_generate (ID: d8929846-a383-40fc-957d-79498fc627ca) - 1 spans\n",
            "2025-10-02 14:43:08 - noveum_trace.transport.batch_processor - INFO - 📥 ADDING TRACE TO QUEUE: auto_trace_generate (ID: d8929846-a383-40fc-957d-79498fc627ca) - 1 spans\n",
            "2025-10-02 14:43:08 - noveum_trace.transport.batch_processor - INFO - ✅ Successfully queued trace d8929846-a383-40fc-957d-79498fc627ca\n",
            "2025-10-02 14:43:08 - noveum_trace.transport.http_transport - INFO - ✅ Trace d8929846-a383-40fc-957d-79498fc627ca successfully queued for export\n"
          ]
        },
        {
          "name": "stdout",
          "output_type": "stream",
          "text": [
            "2025-10-02 14:43:08 - INFO - google_genai.models - AFC is enabled with max remote calls: 10.\n",
            "2025-10-02 14:43:10 - INFO - google_genai.models - AFC remote call 1 is done.\n"
          ]
        },
        {
          "name": "stderr",
          "output_type": "stream",
          "text": [
            "2025-10-02 14:43:10 - noveum_trace.transport.http_transport - INFO - 📤 EXPORTING TRACE: auto_trace_generate (ID: 0bc6dc06-ff66-4e05-866d-96b7f0ff5f56) - 1 spans\n",
            "2025-10-02 14:43:10 - noveum_trace.transport.batch_processor - INFO - 📥 ADDING TRACE TO QUEUE: auto_trace_generate (ID: 0bc6dc06-ff66-4e05-866d-96b7f0ff5f56) - 1 spans\n",
            "2025-10-02 14:43:10 - noveum_trace.transport.batch_processor - INFO - ✅ Successfully queued trace 0bc6dc06-ff66-4e05-866d-96b7f0ff5f56\n",
            "2025-10-02 14:43:10 - noveum_trace.transport.http_transport - INFO - ✅ Trace 0bc6dc06-ff66-4e05-866d-96b7f0ff5f56 successfully queued for export\n"
          ]
        },
        {
          "name": "stdout",
          "output_type": "stream",
          "text": [
            "2025-10-02 14:43:10 - INFO - novaeval.evaluators.agent_evaluator - Saving intermediate results after 11 samples\n",
            "2025-10-02 14:43:10 - INFO - novaeval.evaluators.agent_evaluator - Intermediate results saved to demo_results/tavily_search_results_dataset/agent_evaluation_results.csv\n"
          ]
        },
        {
          "name": "stderr",
          "output_type": "stream",
          "text": [
            "Evaluating samples: 11it [00:46,  4.19s/it]"
          ]
        },
        {
          "name": "stdout",
          "output_type": "stream",
          "text": [
            "2025-10-02 14:43:10 - INFO - google_genai.models - AFC is enabled with max remote calls: 10.\n",
            "2025-10-02 14:43:11 - INFO - google_genai.models - AFC remote call 1 is done.\n"
          ]
        },
        {
          "name": "stderr",
          "output_type": "stream",
          "text": [
            "2025-10-02 14:43:11 - noveum_trace.transport.http_transport - INFO - 📤 EXPORTING TRACE: auto_trace_generate (ID: a92956af-bbf8-4bc2-8275-a6b5a6c85309) - 1 spans\n",
            "2025-10-02 14:43:11 - noveum_trace.transport.batch_processor - INFO - 📥 ADDING TRACE TO QUEUE: auto_trace_generate (ID: a92956af-bbf8-4bc2-8275-a6b5a6c85309) - 1 spans\n",
            "2025-10-02 14:43:11 - noveum_trace.transport.batch_processor - INFO - ✅ Successfully queued trace a92956af-bbf8-4bc2-8275-a6b5a6c85309\n",
            "2025-10-02 14:43:11 - noveum_trace.transport.http_transport - INFO - ✅ Trace a92956af-bbf8-4bc2-8275-a6b5a6c85309 successfully queued for export\n"
          ]
        },
        {
          "name": "stdout",
          "output_type": "stream",
          "text": [
            "2025-10-02 14:43:11 - INFO - google_genai.models - AFC is enabled with max remote calls: 10.\n",
            "2025-10-02 14:43:12 - INFO - google_genai.models - AFC remote call 1 is done.\n"
          ]
        },
        {
          "name": "stderr",
          "output_type": "stream",
          "text": [
            "2025-10-02 14:43:12 - noveum_trace.transport.http_transport - INFO - 📤 EXPORTING TRACE: auto_trace_generate (ID: 841e2922-576f-4849-92b0-6c9b32cc376a) - 1 spans\n",
            "2025-10-02 14:43:12 - noveum_trace.transport.batch_processor - INFO - 📥 ADDING TRACE TO QUEUE: auto_trace_generate (ID: 841e2922-576f-4849-92b0-6c9b32cc376a) - 1 spans\n",
            "2025-10-02 14:43:12 - noveum_trace.transport.batch_processor - INFO - ✅ Successfully queued trace 841e2922-576f-4849-92b0-6c9b32cc376a\n",
            "2025-10-02 14:43:12 - noveum_trace.transport.http_transport - INFO - ✅ Trace 841e2922-576f-4849-92b0-6c9b32cc376a successfully queued for export\n"
          ]
        },
        {
          "name": "stdout",
          "output_type": "stream",
          "text": [
            "2025-10-02 14:43:12 - INFO - google_genai.models - AFC is enabled with max remote calls: 10.\n",
            "2025-10-02 14:43:14 - INFO - google_genai.models - AFC remote call 1 is done.\n"
          ]
        },
        {
          "name": "stderr",
          "output_type": "stream",
          "text": [
            "2025-10-02 14:43:14 - noveum_trace.transport.http_transport - INFO - 📤 EXPORTING TRACE: auto_trace_generate (ID: 43e43a87-2624-420f-8d82-5703970ecd9d) - 1 spans\n",
            "2025-10-02 14:43:14 - noveum_trace.transport.batch_processor - INFO - 📥 ADDING TRACE TO QUEUE: auto_trace_generate (ID: 43e43a87-2624-420f-8d82-5703970ecd9d) - 1 spans\n",
            "2025-10-02 14:43:14 - noveum_trace.transport.batch_processor - INFO - ✅ Successfully queued trace 43e43a87-2624-420f-8d82-5703970ecd9d\n",
            "2025-10-02 14:43:14 - noveum_trace.transport.http_transport - INFO - ✅ Trace 43e43a87-2624-420f-8d82-5703970ecd9d successfully queued for export\n"
          ]
        },
        {
          "name": "stdout",
          "output_type": "stream",
          "text": [
            "2025-10-02 14:43:14 - INFO - novaeval.evaluators.agent_evaluator - Saving intermediate results after 12 samples\n",
            "2025-10-02 14:43:14 - INFO - novaeval.evaluators.agent_evaluator - Intermediate results saved to demo_results/tavily_search_results_dataset/agent_evaluation_results.csv\n"
          ]
        },
        {
          "name": "stderr",
          "output_type": "stream",
          "text": [
            "Evaluating samples: 12it [00:51,  4.22s/it]"
          ]
        },
        {
          "name": "stdout",
          "output_type": "stream",
          "text": [
            "2025-10-02 14:43:14 - INFO - google_genai.models - AFC is enabled with max remote calls: 10.\n",
            "2025-10-02 14:43:15 - INFO - google_genai.models - AFC remote call 1 is done.\n"
          ]
        },
        {
          "name": "stderr",
          "output_type": "stream",
          "text": [
            "2025-10-02 14:43:15 - noveum_trace.transport.http_transport - INFO - 📤 EXPORTING TRACE: auto_trace_generate (ID: 88f7d002-2b6a-4ff4-b68f-1ac2e5b7e64b) - 1 spans\n",
            "2025-10-02 14:43:15 - noveum_trace.transport.batch_processor - INFO - 📥 ADDING TRACE TO QUEUE: auto_trace_generate (ID: 88f7d002-2b6a-4ff4-b68f-1ac2e5b7e64b) - 1 spans\n",
            "2025-10-02 14:43:15 - noveum_trace.transport.batch_processor - INFO - ✅ Successfully queued trace 88f7d002-2b6a-4ff4-b68f-1ac2e5b7e64b\n",
            "2025-10-02 14:43:15 - noveum_trace.transport.http_transport - INFO - ✅ Trace 88f7d002-2b6a-4ff4-b68f-1ac2e5b7e64b successfully queued for export\n"
          ]
        },
        {
          "name": "stdout",
          "output_type": "stream",
          "text": [
            "2025-10-02 14:43:15 - INFO - google_genai.models - AFC is enabled with max remote calls: 10.\n",
            "2025-10-02 14:43:17 - INFO - google_genai.models - AFC remote call 1 is done.\n"
          ]
        },
        {
          "name": "stderr",
          "output_type": "stream",
          "text": [
            "2025-10-02 14:43:17 - noveum_trace.transport.http_transport - INFO - 📤 EXPORTING TRACE: auto_trace_generate (ID: 65c183c6-f94c-459d-b294-a6d1e175108a) - 1 spans\n",
            "2025-10-02 14:43:17 - noveum_trace.transport.batch_processor - INFO - 📥 ADDING TRACE TO QUEUE: auto_trace_generate (ID: 65c183c6-f94c-459d-b294-a6d1e175108a) - 1 spans\n",
            "2025-10-02 14:43:17 - noveum_trace.transport.batch_processor - INFO - ✅ Successfully queued trace 65c183c6-f94c-459d-b294-a6d1e175108a\n",
            "2025-10-02 14:43:17 - noveum_trace.transport.http_transport - INFO - ✅ Trace 65c183c6-f94c-459d-b294-a6d1e175108a successfully queued for export\n"
          ]
        },
        {
          "name": "stdout",
          "output_type": "stream",
          "text": [
            "2025-10-02 14:43:17 - INFO - google_genai.models - AFC is enabled with max remote calls: 10.\n",
            "2025-10-02 14:43:18 - INFO - google_genai.models - AFC remote call 1 is done.\n"
          ]
        },
        {
          "name": "stderr",
          "output_type": "stream",
          "text": [
            "2025-10-02 14:43:18 - noveum_trace.transport.http_transport - INFO - 📤 EXPORTING TRACE: auto_trace_generate (ID: 05b2c0d9-feed-4658-b961-da14279d0d26) - 1 spans\n",
            "2025-10-02 14:43:18 - noveum_trace.transport.batch_processor - INFO - 📥 ADDING TRACE TO QUEUE: auto_trace_generate (ID: 05b2c0d9-feed-4658-b961-da14279d0d26) - 1 spans\n",
            "2025-10-02 14:43:18 - noveum_trace.transport.batch_processor - INFO - ✅ Successfully queued trace 05b2c0d9-feed-4658-b961-da14279d0d26\n",
            "2025-10-02 14:43:18 - noveum_trace.transport.http_transport - INFO - ✅ Trace 05b2c0d9-feed-4658-b961-da14279d0d26 successfully queued for export\n"
          ]
        },
        {
          "name": "stdout",
          "output_type": "stream",
          "text": [
            "2025-10-02 14:43:18 - INFO - novaeval.evaluators.agent_evaluator - Saving intermediate results after 13 samples\n",
            "2025-10-02 14:43:18 - INFO - novaeval.evaluators.agent_evaluator - Intermediate results saved to demo_results/tavily_search_results_dataset/agent_evaluation_results.csv\n"
          ]
        },
        {
          "name": "stderr",
          "output_type": "stream",
          "text": [
            "Evaluating samples: 13it [00:55,  4.21s/it]"
          ]
        },
        {
          "name": "stdout",
          "output_type": "stream",
          "text": [
            "2025-10-02 14:43:18 - INFO - google_genai.models - AFC is enabled with max remote calls: 10.\n",
            "2025-10-02 14:43:20 - INFO - google_genai.models - AFC remote call 1 is done.\n"
          ]
        },
        {
          "name": "stderr",
          "output_type": "stream",
          "text": [
            "2025-10-02 14:43:20 - noveum_trace.transport.http_transport - INFO - 📤 EXPORTING TRACE: auto_trace_generate (ID: 76408ebf-3247-44fe-953d-8cbc8880454d) - 1 spans\n",
            "2025-10-02 14:43:20 - noveum_trace.transport.batch_processor - INFO - 📥 ADDING TRACE TO QUEUE: auto_trace_generate (ID: 76408ebf-3247-44fe-953d-8cbc8880454d) - 1 spans\n",
            "2025-10-02 14:43:20 - noveum_trace.transport.batch_processor - INFO - ✅ Successfully queued trace 76408ebf-3247-44fe-953d-8cbc8880454d\n",
            "2025-10-02 14:43:20 - noveum_trace.transport.http_transport - INFO - ✅ Trace 76408ebf-3247-44fe-953d-8cbc8880454d successfully queued for export\n"
          ]
        },
        {
          "name": "stdout",
          "output_type": "stream",
          "text": [
            "2025-10-02 14:43:20 - INFO - google_genai.models - AFC is enabled with max remote calls: 10.\n",
            "2025-10-02 14:43:21 - INFO - google_genai.models - AFC remote call 1 is done.\n"
          ]
        },
        {
          "name": "stderr",
          "output_type": "stream",
          "text": [
            "2025-10-02 14:43:21 - noveum_trace.transport.http_transport - INFO - 📤 EXPORTING TRACE: auto_trace_generate (ID: fe526199-96a3-4e46-aed2-839112f4b5db) - 1 spans\n",
            "2025-10-02 14:43:21 - noveum_trace.transport.batch_processor - INFO - 📥 ADDING TRACE TO QUEUE: auto_trace_generate (ID: fe526199-96a3-4e46-aed2-839112f4b5db) - 1 spans\n",
            "2025-10-02 14:43:21 - noveum_trace.transport.batch_processor - INFO - ✅ Successfully queued trace fe526199-96a3-4e46-aed2-839112f4b5db\n",
            "2025-10-02 14:43:21 - noveum_trace.transport.http_transport - INFO - ✅ Trace fe526199-96a3-4e46-aed2-839112f4b5db successfully queued for export\n"
          ]
        },
        {
          "name": "stdout",
          "output_type": "stream",
          "text": [
            "2025-10-02 14:43:21 - INFO - google_genai.models - AFC is enabled with max remote calls: 10.\n",
            "2025-10-02 14:43:23 - INFO - google_genai.models - AFC remote call 1 is done.\n"
          ]
        },
        {
          "name": "stderr",
          "output_type": "stream",
          "text": [
            "2025-10-02 14:43:23 - noveum_trace.transport.http_transport - INFO - 📤 EXPORTING TRACE: auto_trace_generate (ID: 00cfefde-38f7-46c9-8dd0-0a9fb937f8bf) - 1 spans\n",
            "2025-10-02 14:43:23 - noveum_trace.transport.batch_processor - INFO - 📥 ADDING TRACE TO QUEUE: auto_trace_generate (ID: 00cfefde-38f7-46c9-8dd0-0a9fb937f8bf) - 1 spans\n",
            "2025-10-02 14:43:23 - noveum_trace.transport.batch_processor - INFO - ✅ Successfully queued trace 00cfefde-38f7-46c9-8dd0-0a9fb937f8bf\n",
            "2025-10-02 14:43:23 - noveum_trace.transport.http_transport - INFO - ✅ Trace 00cfefde-38f7-46c9-8dd0-0a9fb937f8bf successfully queued for export\n"
          ]
        },
        {
          "name": "stdout",
          "output_type": "stream",
          "text": [
            "2025-10-02 14:43:23 - INFO - novaeval.evaluators.agent_evaluator - Saving intermediate results after 14 samples\n",
            "2025-10-02 14:43:23 - INFO - novaeval.evaluators.agent_evaluator - Intermediate results saved to demo_results/tavily_search_results_dataset/agent_evaluation_results.csv\n"
          ]
        },
        {
          "name": "stderr",
          "output_type": "stream",
          "text": [
            "Evaluating samples: 14it [01:00,  4.33s/it]"
          ]
        },
        {
          "name": "stdout",
          "output_type": "stream",
          "text": [
            "2025-10-02 14:43:23 - INFO - google_genai.models - AFC is enabled with max remote calls: 10.\n",
            "2025-10-02 14:43:24 - INFO - google_genai.models - AFC remote call 1 is done.\n"
          ]
        },
        {
          "name": "stderr",
          "output_type": "stream",
          "text": [
            "2025-10-02 14:43:24 - noveum_trace.transport.http_transport - INFO - 📤 EXPORTING TRACE: auto_trace_generate (ID: 501ef4cf-a530-4f27-8dde-e2207a403772) - 1 spans\n",
            "2025-10-02 14:43:24 - noveum_trace.transport.batch_processor - INFO - 📥 ADDING TRACE TO QUEUE: auto_trace_generate (ID: 501ef4cf-a530-4f27-8dde-e2207a403772) - 1 spans\n",
            "2025-10-02 14:43:24 - noveum_trace.transport.batch_processor - INFO - ✅ Successfully queued trace 501ef4cf-a530-4f27-8dde-e2207a403772\n",
            "2025-10-02 14:43:24 - noveum_trace.transport.http_transport - INFO - ✅ Trace 501ef4cf-a530-4f27-8dde-e2207a403772 successfully queued for export\n"
          ]
        },
        {
          "name": "stdout",
          "output_type": "stream",
          "text": [
            "2025-10-02 14:43:24 - INFO - google_genai.models - AFC is enabled with max remote calls: 10.\n",
            "2025-10-02 14:43:26 - INFO - google_genai.models - AFC remote call 1 is done.\n"
          ]
        },
        {
          "name": "stderr",
          "output_type": "stream",
          "text": [
            "2025-10-02 14:43:26 - noveum_trace.transport.http_transport - INFO - 📤 EXPORTING TRACE: auto_trace_generate (ID: 64a84e87-0044-4d30-9fdb-99ccbc57216f) - 1 spans\n",
            "2025-10-02 14:43:26 - noveum_trace.transport.batch_processor - INFO - 📥 ADDING TRACE TO QUEUE: auto_trace_generate (ID: 64a84e87-0044-4d30-9fdb-99ccbc57216f) - 1 spans\n",
            "2025-10-02 14:43:26 - noveum_trace.transport.batch_processor - INFO - ✅ Successfully queued trace 64a84e87-0044-4d30-9fdb-99ccbc57216f\n",
            "2025-10-02 14:43:26 - noveum_trace.transport.http_transport - INFO - ✅ Trace 64a84e87-0044-4d30-9fdb-99ccbc57216f successfully queued for export\n"
          ]
        },
        {
          "name": "stdout",
          "output_type": "stream",
          "text": [
            "2025-10-02 14:43:26 - INFO - google_genai.models - AFC is enabled with max remote calls: 10.\n",
            "2025-10-02 14:43:27 - INFO - google_genai.models - AFC remote call 1 is done.\n"
          ]
        },
        {
          "name": "stderr",
          "output_type": "stream",
          "text": [
            "2025-10-02 14:43:27 - noveum_trace.transport.http_transport - INFO - 📤 EXPORTING TRACE: auto_trace_generate (ID: cf7bae9e-b547-4a82-ad33-045333de1f40) - 1 spans\n",
            "2025-10-02 14:43:27 - noveum_trace.transport.batch_processor - INFO - 📥 ADDING TRACE TO QUEUE: auto_trace_generate (ID: cf7bae9e-b547-4a82-ad33-045333de1f40) - 1 spans\n",
            "2025-10-02 14:43:27 - noveum_trace.transport.batch_processor - INFO - ✅ Successfully queued trace cf7bae9e-b547-4a82-ad33-045333de1f40\n",
            "2025-10-02 14:43:27 - noveum_trace.transport.http_transport - INFO - ✅ Trace cf7bae9e-b547-4a82-ad33-045333de1f40 successfully queued for export\n"
          ]
        },
        {
          "name": "stdout",
          "output_type": "stream",
          "text": [
            "2025-10-02 14:43:27 - INFO - novaeval.evaluators.agent_evaluator - Saving intermediate results after 15 samples\n",
            "2025-10-02 14:43:27 - INFO - novaeval.evaluators.agent_evaluator - Intermediate results saved to demo_results/tavily_search_results_dataset/agent_evaluation_results.csv\n"
          ]
        },
        {
          "name": "stderr",
          "output_type": "stream",
          "text": [
            "Evaluating samples: 15it [01:04,  4.35s/it]"
          ]
        },
        {
          "name": "stdout",
          "output_type": "stream",
          "text": [
            "2025-10-02 14:43:27 - INFO - google_genai.models - AFC is enabled with max remote calls: 10.\n",
            "2025-10-02 14:43:28 - INFO - google_genai.models - AFC remote call 1 is done.\n"
          ]
        },
        {
          "name": "stderr",
          "output_type": "stream",
          "text": [
            "2025-10-02 14:43:28 - noveum_trace.transport.http_transport - INFO - 📤 EXPORTING TRACE: auto_trace_generate (ID: 3a849e49-9c17-454b-b532-40874bd79800) - 1 spans\n",
            "2025-10-02 14:43:28 - noveum_trace.transport.batch_processor - INFO - 📥 ADDING TRACE TO QUEUE: auto_trace_generate (ID: 3a849e49-9c17-454b-b532-40874bd79800) - 1 spans\n",
            "2025-10-02 14:43:28 - noveum_trace.transport.batch_processor - INFO - ✅ Successfully queued trace 3a849e49-9c17-454b-b532-40874bd79800\n",
            "2025-10-02 14:43:28 - noveum_trace.transport.http_transport - INFO - ✅ Trace 3a849e49-9c17-454b-b532-40874bd79800 successfully queued for export\n"
          ]
        },
        {
          "name": "stdout",
          "output_type": "stream",
          "text": [
            "2025-10-02 14:43:28 - INFO - google_genai.models - AFC is enabled with max remote calls: 10.\n",
            "2025-10-02 14:43:30 - INFO - google_genai.models - AFC remote call 1 is done.\n"
          ]
        },
        {
          "name": "stderr",
          "output_type": "stream",
          "text": [
            "2025-10-02 14:43:30 - noveum_trace.transport.http_transport - INFO - 📤 EXPORTING TRACE: auto_trace_generate (ID: ac4f81f1-0f7d-4bd4-ba7e-f751d279ff20) - 1 spans\n",
            "2025-10-02 14:43:30 - noveum_trace.transport.batch_processor - INFO - 📥 ADDING TRACE TO QUEUE: auto_trace_generate (ID: ac4f81f1-0f7d-4bd4-ba7e-f751d279ff20) - 1 spans\n",
            "2025-10-02 14:43:30 - noveum_trace.transport.batch_processor - INFO - ✅ Successfully queued trace ac4f81f1-0f7d-4bd4-ba7e-f751d279ff20\n",
            "2025-10-02 14:43:30 - noveum_trace.transport.http_transport - INFO - ✅ Trace ac4f81f1-0f7d-4bd4-ba7e-f751d279ff20 successfully queued for export\n"
          ]
        },
        {
          "name": "stdout",
          "output_type": "stream",
          "text": [
            "2025-10-02 14:43:30 - INFO - google_genai.models - AFC is enabled with max remote calls: 10.\n",
            "2025-10-02 14:43:31 - INFO - google_genai.models - AFC remote call 1 is done.\n"
          ]
        },
        {
          "name": "stderr",
          "output_type": "stream",
          "text": [
            "2025-10-02 14:43:31 - noveum_trace.transport.http_transport - INFO - 📤 EXPORTING TRACE: auto_trace_generate (ID: 113410b1-a17a-4eab-8df7-133666568670) - 1 spans\n",
            "2025-10-02 14:43:31 - noveum_trace.transport.batch_processor - INFO - 📥 ADDING TRACE TO QUEUE: auto_trace_generate (ID: 113410b1-a17a-4eab-8df7-133666568670) - 1 spans\n",
            "2025-10-02 14:43:31 - noveum_trace.transport.batch_processor - INFO - ✅ Successfully queued trace 113410b1-a17a-4eab-8df7-133666568670\n",
            "2025-10-02 14:43:31 - noveum_trace.transport.http_transport - INFO - ✅ Trace 113410b1-a17a-4eab-8df7-133666568670 successfully queued for export\n"
          ]
        },
        {
          "name": "stdout",
          "output_type": "stream",
          "text": [
            "2025-10-02 14:43:31 - INFO - novaeval.evaluators.agent_evaluator - Saving intermediate results after 16 samples\n",
            "2025-10-02 14:43:31 - INFO - novaeval.evaluators.agent_evaluator - Intermediate results saved to demo_results/tavily_search_results_dataset/agent_evaluation_results.csv\n"
          ]
        },
        {
          "name": "stderr",
          "output_type": "stream",
          "text": [
            "Evaluating samples: 16it [01:08,  4.34s/it]"
          ]
        },
        {
          "name": "stdout",
          "output_type": "stream",
          "text": [
            "2025-10-02 14:43:31 - INFO - google_genai.models - AFC is enabled with max remote calls: 10.\n",
            "2025-10-02 14:43:33 - INFO - google_genai.models - AFC remote call 1 is done.\n"
          ]
        },
        {
          "name": "stderr",
          "output_type": "stream",
          "text": [
            "2025-10-02 14:43:33 - noveum_trace.transport.http_transport - INFO - 📤 EXPORTING TRACE: auto_trace_generate (ID: 929b4c46-130b-4e1b-8e88-8fc75f7fa02e) - 1 spans\n",
            "2025-10-02 14:43:33 - noveum_trace.transport.batch_processor - INFO - 📥 ADDING TRACE TO QUEUE: auto_trace_generate (ID: 929b4c46-130b-4e1b-8e88-8fc75f7fa02e) - 1 spans\n",
            "2025-10-02 14:43:33 - noveum_trace.transport.batch_processor - INFO - ✅ Successfully queued trace 929b4c46-130b-4e1b-8e88-8fc75f7fa02e\n",
            "2025-10-02 14:43:33 - noveum_trace.transport.http_transport - INFO - ✅ Trace 929b4c46-130b-4e1b-8e88-8fc75f7fa02e successfully queued for export\n"
          ]
        },
        {
          "name": "stdout",
          "output_type": "stream",
          "text": [
            "2025-10-02 14:43:33 - INFO - google_genai.models - AFC is enabled with max remote calls: 10.\n",
            "2025-10-02 14:43:34 - INFO - google_genai.models - AFC remote call 1 is done.\n"
          ]
        },
        {
          "name": "stderr",
          "output_type": "stream",
          "text": [
            "2025-10-02 14:43:34 - noveum_trace.transport.http_transport - INFO - 📤 EXPORTING TRACE: auto_trace_generate (ID: 0aa8241c-d5fe-466d-981f-dc89e4743d56) - 1 spans\n",
            "2025-10-02 14:43:34 - noveum_trace.transport.batch_processor - INFO - 📥 ADDING TRACE TO QUEUE: auto_trace_generate (ID: 0aa8241c-d5fe-466d-981f-dc89e4743d56) - 1 spans\n",
            "2025-10-02 14:43:34 - noveum_trace.transport.batch_processor - INFO - ✅ Successfully queued trace 0aa8241c-d5fe-466d-981f-dc89e4743d56\n",
            "2025-10-02 14:43:34 - noveum_trace.transport.http_transport - INFO - ✅ Trace 0aa8241c-d5fe-466d-981f-dc89e4743d56 successfully queued for export\n"
          ]
        },
        {
          "name": "stdout",
          "output_type": "stream",
          "text": [
            "2025-10-02 14:43:34 - INFO - google_genai.models - AFC is enabled with max remote calls: 10.\n",
            "2025-10-02 14:43:35 - INFO - google_genai.models - AFC remote call 1 is done.\n"
          ]
        },
        {
          "name": "stderr",
          "output_type": "stream",
          "text": [
            "2025-10-02 14:43:35 - noveum_trace.transport.http_transport - INFO - 📤 EXPORTING TRACE: auto_trace_generate (ID: 5b6d5b72-819f-4e1e-9444-42ea2f58a3c8) - 1 spans\n",
            "2025-10-02 14:43:35 - noveum_trace.transport.batch_processor - INFO - 📥 ADDING TRACE TO QUEUE: auto_trace_generate (ID: 5b6d5b72-819f-4e1e-9444-42ea2f58a3c8) - 1 spans\n",
            "2025-10-02 14:43:35 - noveum_trace.transport.batch_processor - INFO - ✅ Successfully queued trace 5b6d5b72-819f-4e1e-9444-42ea2f58a3c8\n",
            "2025-10-02 14:43:35 - noveum_trace.transport.http_transport - INFO - ✅ Trace 5b6d5b72-819f-4e1e-9444-42ea2f58a3c8 successfully queued for export\n"
          ]
        },
        {
          "name": "stdout",
          "output_type": "stream",
          "text": [
            "2025-10-02 14:43:35 - INFO - novaeval.evaluators.agent_evaluator - Saving intermediate results after 17 samples\n",
            "2025-10-02 14:43:35 - INFO - novaeval.evaluators.agent_evaluator - Intermediate results saved to demo_results/tavily_search_results_dataset/agent_evaluation_results.csv\n"
          ]
        },
        {
          "name": "stderr",
          "output_type": "stream",
          "text": [
            "Evaluating samples: 17it [01:12,  4.24s/it]"
          ]
        },
        {
          "name": "stdout",
          "output_type": "stream",
          "text": [
            "2025-10-02 14:43:35 - INFO - google_genai.models - AFC is enabled with max remote calls: 10.\n",
            "2025-10-02 14:43:37 - INFO - google_genai.models - AFC remote call 1 is done.\n"
          ]
        },
        {
          "name": "stderr",
          "output_type": "stream",
          "text": [
            "2025-10-02 14:43:37 - noveum_trace.transport.http_transport - INFO - 📤 EXPORTING TRACE: auto_trace_generate (ID: 80cc0103-f208-4039-91b2-aebb42a1a798) - 1 spans\n",
            "2025-10-02 14:43:37 - noveum_trace.transport.batch_processor - INFO - 📥 ADDING TRACE TO QUEUE: auto_trace_generate (ID: 80cc0103-f208-4039-91b2-aebb42a1a798) - 1 spans\n",
            "2025-10-02 14:43:37 - noveum_trace.transport.batch_processor - INFO - ✅ Successfully queued trace 80cc0103-f208-4039-91b2-aebb42a1a798\n",
            "2025-10-02 14:43:37 - noveum_trace.transport.http_transport - INFO - ✅ Trace 80cc0103-f208-4039-91b2-aebb42a1a798 successfully queued for export\n"
          ]
        },
        {
          "name": "stdout",
          "output_type": "stream",
          "text": [
            "2025-10-02 14:43:37 - INFO - google_genai.models - AFC is enabled with max remote calls: 10.\n",
            "2025-10-02 14:43:38 - INFO - google_genai.models - AFC remote call 1 is done.\n"
          ]
        },
        {
          "name": "stderr",
          "output_type": "stream",
          "text": [
            "2025-10-02 14:43:38 - noveum_trace.transport.http_transport - INFO - 📤 EXPORTING TRACE: auto_trace_generate (ID: 3776322f-86fe-42a1-bc87-68d7152d1ead) - 1 spans\n",
            "2025-10-02 14:43:38 - noveum_trace.transport.batch_processor - INFO - 📥 ADDING TRACE TO QUEUE: auto_trace_generate (ID: 3776322f-86fe-42a1-bc87-68d7152d1ead) - 1 spans\n",
            "2025-10-02 14:43:38 - noveum_trace.transport.batch_processor - INFO - ✅ Successfully queued trace 3776322f-86fe-42a1-bc87-68d7152d1ead\n",
            "2025-10-02 14:43:38 - noveum_trace.transport.http_transport - INFO - ✅ Trace 3776322f-86fe-42a1-bc87-68d7152d1ead successfully queued for export\n"
          ]
        },
        {
          "name": "stdout",
          "output_type": "stream",
          "text": [
            "2025-10-02 14:43:38 - INFO - google_genai.models - AFC is enabled with max remote calls: 10.\n",
            "2025-10-02 14:43:39 - INFO - google_genai.models - AFC remote call 1 is done.\n"
          ]
        },
        {
          "name": "stderr",
          "output_type": "stream",
          "text": [
            "2025-10-02 14:43:39 - noveum_trace.transport.http_transport - INFO - 📤 EXPORTING TRACE: auto_trace_generate (ID: 6ce9b2ac-284d-4c90-a4b8-d23986079da9) - 1 spans\n",
            "2025-10-02 14:43:39 - noveum_trace.transport.batch_processor - INFO - 📥 ADDING TRACE TO QUEUE: auto_trace_generate (ID: 6ce9b2ac-284d-4c90-a4b8-d23986079da9) - 1 spans\n",
            "2025-10-02 14:43:39 - noveum_trace.transport.batch_processor - INFO - ✅ Successfully queued trace 6ce9b2ac-284d-4c90-a4b8-d23986079da9\n",
            "2025-10-02 14:43:39 - noveum_trace.transport.http_transport - INFO - ✅ Trace 6ce9b2ac-284d-4c90-a4b8-d23986079da9 successfully queued for export\n"
          ]
        },
        {
          "name": "stdout",
          "output_type": "stream",
          "text": [
            "2025-10-02 14:43:39 - INFO - novaeval.evaluators.agent_evaluator - Saving intermediate results after 18 samples\n",
            "2025-10-02 14:43:39 - INFO - novaeval.evaluators.agent_evaluator - Intermediate results saved to demo_results/tavily_search_results_dataset/agent_evaluation_results.csv\n"
          ]
        },
        {
          "name": "stderr",
          "output_type": "stream",
          "text": [
            "Evaluating samples: 18it [01:16,  4.19s/it]"
          ]
        },
        {
          "name": "stdout",
          "output_type": "stream",
          "text": [
            "2025-10-02 14:43:39 - INFO - google_genai.models - AFC is enabled with max remote calls: 10.\n",
            "2025-10-02 14:43:41 - INFO - google_genai.models - AFC remote call 1 is done.\n"
          ]
        },
        {
          "name": "stderr",
          "output_type": "stream",
          "text": [
            "2025-10-02 14:43:41 - noveum_trace.transport.http_transport - INFO - 📤 EXPORTING TRACE: auto_trace_generate (ID: f6f74046-e40e-4944-9223-beb2f6d3a469) - 1 spans\n",
            "2025-10-02 14:43:41 - noveum_trace.transport.batch_processor - INFO - 📥 ADDING TRACE TO QUEUE: auto_trace_generate (ID: f6f74046-e40e-4944-9223-beb2f6d3a469) - 1 spans\n",
            "2025-10-02 14:43:41 - noveum_trace.transport.batch_processor - INFO - ✅ Successfully queued trace f6f74046-e40e-4944-9223-beb2f6d3a469\n",
            "2025-10-02 14:43:41 - noveum_trace.transport.http_transport - INFO - ✅ Trace f6f74046-e40e-4944-9223-beb2f6d3a469 successfully queued for export\n"
          ]
        },
        {
          "name": "stdout",
          "output_type": "stream",
          "text": [
            "2025-10-02 14:43:41 - INFO - google_genai.models - AFC is enabled with max remote calls: 10.\n",
            "2025-10-02 14:43:42 - INFO - google_genai.models - AFC remote call 1 is done.\n"
          ]
        },
        {
          "name": "stderr",
          "output_type": "stream",
          "text": [
            "2025-10-02 14:43:42 - noveum_trace.transport.http_transport - INFO - 📤 EXPORTING TRACE: auto_trace_generate (ID: f7f1ba24-7e6a-41b7-85f4-77558456b6e6) - 1 spans\n",
            "2025-10-02 14:43:42 - noveum_trace.transport.batch_processor - INFO - 📥 ADDING TRACE TO QUEUE: auto_trace_generate (ID: f7f1ba24-7e6a-41b7-85f4-77558456b6e6) - 1 spans\n",
            "2025-10-02 14:43:42 - noveum_trace.transport.batch_processor - INFO - ✅ Successfully queued trace f7f1ba24-7e6a-41b7-85f4-77558456b6e6\n",
            "2025-10-02 14:43:42 - noveum_trace.transport.http_transport - INFO - ✅ Trace f7f1ba24-7e6a-41b7-85f4-77558456b6e6 successfully queued for export\n"
          ]
        },
        {
          "name": "stdout",
          "output_type": "stream",
          "text": [
            "2025-10-02 14:43:42 - INFO - google_genai.models - AFC is enabled with max remote calls: 10.\n",
            "2025-10-02 14:43:43 - INFO - google_genai.models - AFC remote call 1 is done.\n"
          ]
        },
        {
          "name": "stderr",
          "output_type": "stream",
          "text": [
            "2025-10-02 14:43:43 - noveum_trace.transport.http_transport - INFO - 📤 EXPORTING TRACE: auto_trace_generate (ID: dceaa71c-c193-42b5-90c1-fb22f1502f90) - 1 spans\n",
            "2025-10-02 14:43:43 - noveum_trace.transport.batch_processor - INFO - 📥 ADDING TRACE TO QUEUE: auto_trace_generate (ID: dceaa71c-c193-42b5-90c1-fb22f1502f90) - 1 spans\n",
            "2025-10-02 14:43:43 - noveum_trace.transport.batch_processor - INFO - ✅ Successfully queued trace dceaa71c-c193-42b5-90c1-fb22f1502f90\n",
            "2025-10-02 14:43:43 - noveum_trace.transport.http_transport - INFO - ✅ Trace dceaa71c-c193-42b5-90c1-fb22f1502f90 successfully queued for export\n"
          ]
        },
        {
          "name": "stdout",
          "output_type": "stream",
          "text": [
            "2025-10-02 14:43:43 - INFO - novaeval.evaluators.agent_evaluator - Saving intermediate results after 19 samples\n",
            "2025-10-02 14:43:43 - INFO - novaeval.evaluators.agent_evaluator - Intermediate results saved to demo_results/tavily_search_results_dataset/agent_evaluation_results.csv\n"
          ]
        },
        {
          "name": "stderr",
          "output_type": "stream",
          "text": [
            "Evaluating samples: 19it [01:20,  4.13s/it]"
          ]
        },
        {
          "name": "stdout",
          "output_type": "stream",
          "text": [
            "2025-10-02 14:43:43 - INFO - google_genai.models - AFC is enabled with max remote calls: 10.\n",
            "2025-10-02 14:43:45 - INFO - google_genai.models - AFC remote call 1 is done.\n"
          ]
        },
        {
          "name": "stderr",
          "output_type": "stream",
          "text": [
            "2025-10-02 14:43:45 - noveum_trace.transport.http_transport - INFO - 📤 EXPORTING TRACE: auto_trace_generate (ID: 39fbaf2a-d283-46e4-b330-a437cc72b580) - 1 spans\n",
            "2025-10-02 14:43:45 - noveum_trace.transport.batch_processor - INFO - 📥 ADDING TRACE TO QUEUE: auto_trace_generate (ID: 39fbaf2a-d283-46e4-b330-a437cc72b580) - 1 spans\n",
            "2025-10-02 14:43:45 - noveum_trace.transport.batch_processor - INFO - ✅ Successfully queued trace 39fbaf2a-d283-46e4-b330-a437cc72b580\n",
            "2025-10-02 14:43:45 - noveum_trace.transport.http_transport - INFO - ✅ Trace 39fbaf2a-d283-46e4-b330-a437cc72b580 successfully queued for export\n"
          ]
        },
        {
          "name": "stdout",
          "output_type": "stream",
          "text": [
            "2025-10-02 14:43:45 - INFO - google_genai.models - AFC is enabled with max remote calls: 10.\n",
            "2025-10-02 14:43:46 - INFO - google_genai.models - AFC remote call 1 is done.\n"
          ]
        },
        {
          "name": "stderr",
          "output_type": "stream",
          "text": [
            "2025-10-02 14:43:46 - noveum_trace.transport.http_transport - INFO - 📤 EXPORTING TRACE: auto_trace_generate (ID: dd4f361f-b519-47c1-8146-d82cecc2569d) - 1 spans\n",
            "2025-10-02 14:43:46 - noveum_trace.transport.batch_processor - INFO - 📥 ADDING TRACE TO QUEUE: auto_trace_generate (ID: dd4f361f-b519-47c1-8146-d82cecc2569d) - 1 spans\n",
            "2025-10-02 14:43:46 - noveum_trace.transport.batch_processor - INFO - ✅ Successfully queued trace dd4f361f-b519-47c1-8146-d82cecc2569d\n",
            "2025-10-02 14:43:46 - noveum_trace.transport.http_transport - INFO - ✅ Trace dd4f361f-b519-47c1-8146-d82cecc2569d successfully queued for export\n"
          ]
        },
        {
          "name": "stdout",
          "output_type": "stream",
          "text": [
            "2025-10-02 14:43:46 - INFO - google_genai.models - AFC is enabled with max remote calls: 10.\n",
            "2025-10-02 14:43:48 - INFO - google_genai.models - AFC remote call 1 is done.\n"
          ]
        },
        {
          "name": "stderr",
          "output_type": "stream",
          "text": [
            "2025-10-02 14:43:48 - noveum_trace.transport.http_transport - INFO - 📤 EXPORTING TRACE: auto_trace_generate (ID: 47410c35-830a-49ad-ae96-a80e66f6287b) - 1 spans\n",
            "2025-10-02 14:43:48 - noveum_trace.transport.batch_processor - INFO - 📥 ADDING TRACE TO QUEUE: auto_trace_generate (ID: 47410c35-830a-49ad-ae96-a80e66f6287b) - 1 spans\n",
            "2025-10-02 14:43:48 - noveum_trace.transport.batch_processor - INFO - ✅ Successfully queued trace 47410c35-830a-49ad-ae96-a80e66f6287b\n",
            "2025-10-02 14:43:48 - noveum_trace.transport.http_transport - INFO - ✅ Trace 47410c35-830a-49ad-ae96-a80e66f6287b successfully queued for export\n"
          ]
        },
        {
          "name": "stdout",
          "output_type": "stream",
          "text": [
            "2025-10-02 14:43:48 - INFO - novaeval.evaluators.agent_evaluator - Saving intermediate results after 20 samples\n",
            "2025-10-02 14:43:48 - INFO - novaeval.evaluators.agent_evaluator - Intermediate results saved to demo_results/tavily_search_results_dataset/agent_evaluation_results.csv\n"
          ]
        },
        {
          "name": "stderr",
          "output_type": "stream",
          "text": [
            "Evaluating samples: 20it [01:25,  4.25s/it]"
          ]
        },
        {
          "name": "stdout",
          "output_type": "stream",
          "text": [
            "2025-10-02 14:43:48 - INFO - google_genai.models - AFC is enabled with max remote calls: 10.\n",
            "2025-10-02 14:43:49 - INFO - google_genai.models - AFC remote call 1 is done.\n"
          ]
        },
        {
          "name": "stderr",
          "output_type": "stream",
          "text": [
            "2025-10-02 14:43:49 - noveum_trace.transport.http_transport - INFO - 📤 EXPORTING TRACE: auto_trace_generate (ID: 2af82098-c217-47d3-98c8-50055baa6c8f) - 1 spans\n",
            "2025-10-02 14:43:49 - noveum_trace.transport.batch_processor - INFO - 📥 ADDING TRACE TO QUEUE: auto_trace_generate (ID: 2af82098-c217-47d3-98c8-50055baa6c8f) - 1 spans\n",
            "2025-10-02 14:43:49 - noveum_trace.transport.batch_processor - INFO - ✅ Successfully queued trace 2af82098-c217-47d3-98c8-50055baa6c8f\n",
            "2025-10-02 14:43:49 - noveum_trace.transport.http_transport - INFO - ✅ Trace 2af82098-c217-47d3-98c8-50055baa6c8f successfully queued for export\n"
          ]
        },
        {
          "name": "stdout",
          "output_type": "stream",
          "text": [
            "2025-10-02 14:43:49 - INFO - google_genai.models - AFC is enabled with max remote calls: 10.\n",
            "2025-10-02 14:43:51 - INFO - google_genai.models - AFC remote call 1 is done.\n"
          ]
        },
        {
          "name": "stderr",
          "output_type": "stream",
          "text": [
            "2025-10-02 14:43:51 - noveum_trace.transport.http_transport - INFO - 📤 EXPORTING TRACE: auto_trace_generate (ID: 7a2422e8-e26a-4002-8d24-6457831ecc59) - 1 spans\n",
            "2025-10-02 14:43:51 - noveum_trace.transport.batch_processor - INFO - 📥 ADDING TRACE TO QUEUE: auto_trace_generate (ID: 7a2422e8-e26a-4002-8d24-6457831ecc59) - 1 spans\n",
            "2025-10-02 14:43:51 - noveum_trace.transport.batch_processor - INFO - ✅ Successfully queued trace 7a2422e8-e26a-4002-8d24-6457831ecc59\n",
            "2025-10-02 14:43:51 - noveum_trace.transport.http_transport - INFO - ✅ Trace 7a2422e8-e26a-4002-8d24-6457831ecc59 successfully queued for export\n"
          ]
        },
        {
          "name": "stdout",
          "output_type": "stream",
          "text": [
            "2025-10-02 14:43:51 - INFO - google_genai.models - AFC is enabled with max remote calls: 10.\n",
            "2025-10-02 14:43:52 - INFO - google_genai.models - AFC remote call 1 is done.\n"
          ]
        },
        {
          "name": "stderr",
          "output_type": "stream",
          "text": [
            "2025-10-02 14:43:52 - noveum_trace.transport.http_transport - INFO - 📤 EXPORTING TRACE: auto_trace_generate (ID: 297b01f3-e610-47fe-8eed-40a081f95a29) - 1 spans\n",
            "2025-10-02 14:43:52 - noveum_trace.transport.batch_processor - INFO - 📥 ADDING TRACE TO QUEUE: auto_trace_generate (ID: 297b01f3-e610-47fe-8eed-40a081f95a29) - 1 spans\n",
            "2025-10-02 14:43:52 - noveum_trace.transport.batch_processor - INFO - ✅ Successfully queued trace 297b01f3-e610-47fe-8eed-40a081f95a29\n",
            "2025-10-02 14:43:52 - noveum_trace.transport.http_transport - INFO - ✅ Trace 297b01f3-e610-47fe-8eed-40a081f95a29 successfully queued for export\n"
          ]
        },
        {
          "name": "stdout",
          "output_type": "stream",
          "text": [
            "2025-10-02 14:43:52 - INFO - novaeval.evaluators.agent_evaluator - Saving intermediate results after 21 samples\n",
            "2025-10-02 14:43:52 - INFO - novaeval.evaluators.agent_evaluator - Intermediate results saved to demo_results/tavily_search_results_dataset/agent_evaluation_results.csv\n"
          ]
        },
        {
          "name": "stderr",
          "output_type": "stream",
          "text": [
            "Evaluating samples: 21it [01:29,  4.20s/it]"
          ]
        },
        {
          "name": "stdout",
          "output_type": "stream",
          "text": [
            "2025-10-02 14:43:52 - INFO - google_genai.models - AFC is enabled with max remote calls: 10.\n",
            "2025-10-02 14:43:53 - INFO - google_genai.models - AFC remote call 1 is done.\n"
          ]
        },
        {
          "name": "stderr",
          "output_type": "stream",
          "text": [
            "2025-10-02 14:43:53 - noveum_trace.transport.http_transport - INFO - 📤 EXPORTING TRACE: auto_trace_generate (ID: 2817ae4a-727f-4ca7-8436-00de05edf55c) - 1 spans\n",
            "2025-10-02 14:43:53 - noveum_trace.transport.batch_processor - INFO - 📥 ADDING TRACE TO QUEUE: auto_trace_generate (ID: 2817ae4a-727f-4ca7-8436-00de05edf55c) - 1 spans\n",
            "2025-10-02 14:43:53 - noveum_trace.transport.batch_processor - INFO - ✅ Successfully queued trace 2817ae4a-727f-4ca7-8436-00de05edf55c\n",
            "2025-10-02 14:43:53 - noveum_trace.transport.http_transport - INFO - ✅ Trace 2817ae4a-727f-4ca7-8436-00de05edf55c successfully queued for export\n"
          ]
        },
        {
          "name": "stdout",
          "output_type": "stream",
          "text": [
            "2025-10-02 14:43:53 - INFO - google_genai.models - AFC is enabled with max remote calls: 10.\n",
            "2025-10-02 14:43:55 - INFO - google_genai.models - AFC remote call 1 is done.\n"
          ]
        },
        {
          "name": "stderr",
          "output_type": "stream",
          "text": [
            "2025-10-02 14:43:55 - noveum_trace.transport.http_transport - INFO - 📤 EXPORTING TRACE: auto_trace_generate (ID: af5f65a6-0d8c-4f32-854d-92f3093feb7e) - 1 spans\n",
            "2025-10-02 14:43:55 - noveum_trace.transport.batch_processor - INFO - 📥 ADDING TRACE TO QUEUE: auto_trace_generate (ID: af5f65a6-0d8c-4f32-854d-92f3093feb7e) - 1 spans\n",
            "2025-10-02 14:43:55 - noveum_trace.transport.batch_processor - INFO - ✅ Successfully queued trace af5f65a6-0d8c-4f32-854d-92f3093feb7e\n",
            "2025-10-02 14:43:55 - noveum_trace.transport.http_transport - INFO - ✅ Trace af5f65a6-0d8c-4f32-854d-92f3093feb7e successfully queued for export\n"
          ]
        },
        {
          "name": "stdout",
          "output_type": "stream",
          "text": [
            "2025-10-02 14:43:55 - INFO - google_genai.models - AFC is enabled with max remote calls: 10.\n",
            "2025-10-02 14:43:56 - INFO - google_genai.models - AFC remote call 1 is done.\n"
          ]
        },
        {
          "name": "stderr",
          "output_type": "stream",
          "text": [
            "2025-10-02 14:43:56 - noveum_trace.transport.http_transport - INFO - 📤 EXPORTING TRACE: auto_trace_generate (ID: 232b7c95-8493-46eb-b482-f8614979a3c8) - 1 spans\n",
            "2025-10-02 14:43:56 - noveum_trace.transport.batch_processor - INFO - 📥 ADDING TRACE TO QUEUE: auto_trace_generate (ID: 232b7c95-8493-46eb-b482-f8614979a3c8) - 1 spans\n",
            "2025-10-02 14:43:56 - noveum_trace.transport.batch_processor - INFO - ✅ Successfully queued trace 232b7c95-8493-46eb-b482-f8614979a3c8\n",
            "2025-10-02 14:43:56 - noveum_trace.transport.http_transport - INFO - ✅ Trace 232b7c95-8493-46eb-b482-f8614979a3c8 successfully queued for export\n"
          ]
        },
        {
          "name": "stdout",
          "output_type": "stream",
          "text": [
            "2025-10-02 14:43:56 - INFO - novaeval.evaluators.agent_evaluator - Saving intermediate results after 22 samples\n",
            "2025-10-02 14:43:56 - INFO - novaeval.evaluators.agent_evaluator - Intermediate results saved to demo_results/tavily_search_results_dataset/agent_evaluation_results.csv\n"
          ]
        },
        {
          "name": "stderr",
          "output_type": "stream",
          "text": [
            "Evaluating samples: 22it [01:33,  4.11s/it]"
          ]
        },
        {
          "name": "stdout",
          "output_type": "stream",
          "text": [
            "2025-10-02 14:43:56 - INFO - google_genai.models - AFC is enabled with max remote calls: 10.\n",
            "2025-10-02 14:43:57 - INFO - google_genai.models - AFC remote call 1 is done.\n"
          ]
        },
        {
          "name": "stderr",
          "output_type": "stream",
          "text": [
            "2025-10-02 14:43:57 - noveum_trace.transport.http_transport - INFO - 📤 EXPORTING TRACE: auto_trace_generate (ID: 89cf0d5c-22be-4f50-b958-dd14b67741ba) - 1 spans\n",
            "2025-10-02 14:43:57 - noveum_trace.transport.batch_processor - INFO - 📥 ADDING TRACE TO QUEUE: auto_trace_generate (ID: 89cf0d5c-22be-4f50-b958-dd14b67741ba) - 1 spans\n",
            "2025-10-02 14:43:57 - noveum_trace.transport.batch_processor - INFO - ✅ Successfully queued trace 89cf0d5c-22be-4f50-b958-dd14b67741ba\n",
            "2025-10-02 14:43:57 - noveum_trace.transport.http_transport - INFO - ✅ Trace 89cf0d5c-22be-4f50-b958-dd14b67741ba successfully queued for export\n"
          ]
        },
        {
          "name": "stdout",
          "output_type": "stream",
          "text": [
            "2025-10-02 14:43:57 - INFO - google_genai.models - AFC is enabled with max remote calls: 10.\n",
            "2025-10-02 14:43:59 - INFO - google_genai.models - AFC remote call 1 is done.\n"
          ]
        },
        {
          "name": "stderr",
          "output_type": "stream",
          "text": [
            "2025-10-02 14:43:59 - noveum_trace.transport.http_transport - INFO - 📤 EXPORTING TRACE: auto_trace_generate (ID: 18d373c3-69e9-443c-ad66-d1b3a366b110) - 1 spans\n",
            "2025-10-02 14:43:59 - noveum_trace.transport.batch_processor - INFO - 📥 ADDING TRACE TO QUEUE: auto_trace_generate (ID: 18d373c3-69e9-443c-ad66-d1b3a366b110) - 1 spans\n",
            "2025-10-02 14:43:59 - noveum_trace.transport.batch_processor - INFO - ✅ Successfully queued trace 18d373c3-69e9-443c-ad66-d1b3a366b110\n",
            "2025-10-02 14:43:59 - noveum_trace.transport.http_transport - INFO - ✅ Trace 18d373c3-69e9-443c-ad66-d1b3a366b110 successfully queued for export\n"
          ]
        },
        {
          "name": "stdout",
          "output_type": "stream",
          "text": [
            "2025-10-02 14:43:59 - INFO - google_genai.models - AFC is enabled with max remote calls: 10.\n",
            "2025-10-02 14:44:00 - INFO - google_genai.models - AFC remote call 1 is done.\n"
          ]
        },
        {
          "name": "stderr",
          "output_type": "stream",
          "text": [
            "2025-10-02 14:44:00 - noveum_trace.transport.http_transport - INFO - 📤 EXPORTING TRACE: auto_trace_generate (ID: 11487c47-ace8-4dfa-83e8-e4126c42a59a) - 1 spans\n",
            "2025-10-02 14:44:00 - noveum_trace.transport.batch_processor - INFO - 📥 ADDING TRACE TO QUEUE: auto_trace_generate (ID: 11487c47-ace8-4dfa-83e8-e4126c42a59a) - 1 spans\n",
            "2025-10-02 14:44:00 - noveum_trace.transport.batch_processor - INFO - ✅ Successfully queued trace 11487c47-ace8-4dfa-83e8-e4126c42a59a\n",
            "2025-10-02 14:44:00 - noveum_trace.transport.http_transport - INFO - ✅ Trace 11487c47-ace8-4dfa-83e8-e4126c42a59a successfully queued for export\n"
          ]
        },
        {
          "name": "stdout",
          "output_type": "stream",
          "text": [
            "2025-10-02 14:44:00 - INFO - novaeval.evaluators.agent_evaluator - Saving intermediate results after 23 samples\n",
            "2025-10-02 14:44:00 - INFO - novaeval.evaluators.agent_evaluator - Intermediate results saved to demo_results/tavily_search_results_dataset/agent_evaluation_results.csv\n"
          ]
        },
        {
          "name": "stderr",
          "output_type": "stream",
          "text": [
            "Evaluating samples: 23it [01:37,  4.20s/it]"
          ]
        },
        {
          "name": "stdout",
          "output_type": "stream",
          "text": [
            "2025-10-02 14:44:00 - INFO - google_genai.models - AFC is enabled with max remote calls: 10.\n",
            "2025-10-02 14:44:02 - INFO - google_genai.models - AFC remote call 1 is done.\n"
          ]
        },
        {
          "name": "stderr",
          "output_type": "stream",
          "text": [
            "2025-10-02 14:44:02 - noveum_trace.transport.http_transport - INFO - 📤 EXPORTING TRACE: auto_trace_generate (ID: a9c9ca41-63da-4b5d-8459-ddf1fc3bf322) - 1 spans\n",
            "2025-10-02 14:44:02 - noveum_trace.transport.batch_processor - INFO - 📥 ADDING TRACE TO QUEUE: auto_trace_generate (ID: a9c9ca41-63da-4b5d-8459-ddf1fc3bf322) - 1 spans\n",
            "2025-10-02 14:44:02 - noveum_trace.transport.batch_processor - INFO - ✅ Successfully queued trace a9c9ca41-63da-4b5d-8459-ddf1fc3bf322\n",
            "2025-10-02 14:44:02 - noveum_trace.transport.http_transport - INFO - ✅ Trace a9c9ca41-63da-4b5d-8459-ddf1fc3bf322 successfully queued for export\n"
          ]
        },
        {
          "name": "stdout",
          "output_type": "stream",
          "text": [
            "2025-10-02 14:44:02 - INFO - google_genai.models - AFC is enabled with max remote calls: 10.\n",
            "2025-10-02 14:44:03 - INFO - google_genai.models - AFC remote call 1 is done.\n"
          ]
        },
        {
          "name": "stderr",
          "output_type": "stream",
          "text": [
            "2025-10-02 14:44:03 - noveum_trace.transport.http_transport - INFO - 📤 EXPORTING TRACE: auto_trace_generate (ID: e6c34139-c7fa-4358-981b-9d997cd79033) - 1 spans\n",
            "2025-10-02 14:44:03 - noveum_trace.transport.batch_processor - INFO - 📥 ADDING TRACE TO QUEUE: auto_trace_generate (ID: e6c34139-c7fa-4358-981b-9d997cd79033) - 1 spans\n",
            "2025-10-02 14:44:03 - noveum_trace.transport.batch_processor - INFO - ✅ Successfully queued trace e6c34139-c7fa-4358-981b-9d997cd79033\n",
            "2025-10-02 14:44:03 - noveum_trace.transport.http_transport - INFO - ✅ Trace e6c34139-c7fa-4358-981b-9d997cd79033 successfully queued for export\n"
          ]
        },
        {
          "name": "stdout",
          "output_type": "stream",
          "text": [
            "2025-10-02 14:44:03 - INFO - google_genai.models - AFC is enabled with max remote calls: 10.\n",
            "2025-10-02 14:44:04 - INFO - google_genai.models - AFC remote call 1 is done.\n"
          ]
        },
        {
          "name": "stderr",
          "output_type": "stream",
          "text": [
            "2025-10-02 14:44:04 - noveum_trace.transport.http_transport - INFO - 📤 EXPORTING TRACE: auto_trace_generate (ID: 6d5d8481-c74b-4672-a076-111a56f706b6) - 1 spans\n",
            "2025-10-02 14:44:04 - noveum_trace.transport.batch_processor - INFO - 📥 ADDING TRACE TO QUEUE: auto_trace_generate (ID: 6d5d8481-c74b-4672-a076-111a56f706b6) - 1 spans\n",
            "2025-10-02 14:44:04 - noveum_trace.transport.batch_processor - INFO - ✅ Successfully queued trace 6d5d8481-c74b-4672-a076-111a56f706b6\n",
            "2025-10-02 14:44:04 - noveum_trace.transport.http_transport - INFO - ✅ Trace 6d5d8481-c74b-4672-a076-111a56f706b6 successfully queued for export\n"
          ]
        },
        {
          "name": "stdout",
          "output_type": "stream",
          "text": [
            "2025-10-02 14:44:04 - INFO - novaeval.evaluators.agent_evaluator - Saving intermediate results after 24 samples\n",
            "2025-10-02 14:44:04 - INFO - novaeval.evaluators.agent_evaluator - Intermediate results saved to demo_results/tavily_search_results_dataset/agent_evaluation_results.csv\n"
          ]
        },
        {
          "name": "stderr",
          "output_type": "stream",
          "text": [
            "Evaluating samples: 24it [01:41,  4.18s/it]"
          ]
        },
        {
          "name": "stdout",
          "output_type": "stream",
          "text": [
            "2025-10-02 14:44:04 - INFO - google_genai.models - AFC is enabled with max remote calls: 10.\n",
            "2025-10-02 14:44:06 - INFO - google_genai.models - AFC remote call 1 is done.\n"
          ]
        },
        {
          "name": "stderr",
          "output_type": "stream",
          "text": [
            "2025-10-02 14:44:06 - noveum_trace.transport.http_transport - INFO - 📤 EXPORTING TRACE: auto_trace_generate (ID: c2d51ea3-9409-4ddd-850a-dc34945dbcd3) - 1 spans\n",
            "2025-10-02 14:44:06 - noveum_trace.transport.batch_processor - INFO - 📥 ADDING TRACE TO QUEUE: auto_trace_generate (ID: c2d51ea3-9409-4ddd-850a-dc34945dbcd3) - 1 spans\n",
            "2025-10-02 14:44:06 - noveum_trace.transport.batch_processor - INFO - ✅ Successfully queued trace c2d51ea3-9409-4ddd-850a-dc34945dbcd3\n",
            "2025-10-02 14:44:06 - noveum_trace.transport.http_transport - INFO - ✅ Trace c2d51ea3-9409-4ddd-850a-dc34945dbcd3 successfully queued for export\n"
          ]
        },
        {
          "name": "stdout",
          "output_type": "stream",
          "text": [
            "2025-10-02 14:44:06 - INFO - google_genai.models - AFC is enabled with max remote calls: 10.\n",
            "2025-10-02 14:44:07 - INFO - google_genai.models - AFC remote call 1 is done.\n"
          ]
        },
        {
          "name": "stderr",
          "output_type": "stream",
          "text": [
            "2025-10-02 14:44:07 - noveum_trace.transport.http_transport - INFO - 📤 EXPORTING TRACE: auto_trace_generate (ID: 2b15f62e-872a-4d5b-b627-9f90480b8fd8) - 1 spans\n",
            "2025-10-02 14:44:07 - noveum_trace.transport.batch_processor - INFO - 📥 ADDING TRACE TO QUEUE: auto_trace_generate (ID: 2b15f62e-872a-4d5b-b627-9f90480b8fd8) - 1 spans\n",
            "2025-10-02 14:44:07 - noveum_trace.transport.batch_processor - INFO - ✅ Successfully queued trace 2b15f62e-872a-4d5b-b627-9f90480b8fd8\n",
            "2025-10-02 14:44:07 - noveum_trace.transport.http_transport - INFO - ✅ Trace 2b15f62e-872a-4d5b-b627-9f90480b8fd8 successfully queued for export\n"
          ]
        },
        {
          "name": "stdout",
          "output_type": "stream",
          "text": [
            "2025-10-02 14:44:07 - INFO - google_genai.models - AFC is enabled with max remote calls: 10.\n",
            "2025-10-02 14:44:08 - INFO - google_genai.models - AFC remote call 1 is done.\n"
          ]
        },
        {
          "name": "stderr",
          "output_type": "stream",
          "text": [
            "2025-10-02 14:44:08 - noveum_trace.transport.http_transport - INFO - 📤 EXPORTING TRACE: auto_trace_generate (ID: 1dd197a4-a605-446d-a783-72e5b76bb5e6) - 1 spans\n",
            "2025-10-02 14:44:08 - noveum_trace.transport.batch_processor - INFO - 📥 ADDING TRACE TO QUEUE: auto_trace_generate (ID: 1dd197a4-a605-446d-a783-72e5b76bb5e6) - 1 spans\n",
            "2025-10-02 14:44:08 - noveum_trace.transport.batch_processor - INFO - ✅ Successfully queued trace 1dd197a4-a605-446d-a783-72e5b76bb5e6\n",
            "2025-10-02 14:44:08 - noveum_trace.transport.http_transport - INFO - ✅ Trace 1dd197a4-a605-446d-a783-72e5b76bb5e6 successfully queued for export\n"
          ]
        },
        {
          "name": "stdout",
          "output_type": "stream",
          "text": [
            "2025-10-02 14:44:08 - INFO - novaeval.evaluators.agent_evaluator - Saving intermediate results after 25 samples\n",
            "2025-10-02 14:44:08 - INFO - novaeval.evaluators.agent_evaluator - Intermediate results saved to demo_results/tavily_search_results_dataset/agent_evaluation_results.csv\n"
          ]
        },
        {
          "name": "stderr",
          "output_type": "stream",
          "text": [
            "Evaluating samples: 25it [01:45,  4.23s/it]"
          ]
        },
        {
          "name": "stdout",
          "output_type": "stream",
          "text": [
            "2025-10-02 14:44:08 - INFO - novaeval.evaluators.agent_evaluator - Saving final results\n",
            "2025-10-02 14:44:08 - INFO - novaeval.evaluators.agent_evaluator - Reloaded 25 results from CSV\n",
            "2025-10-02 14:44:08 - INFO - novaeval.evaluators.agent_evaluator - Agent evaluation completed\n",
            "\n",
            "✅ Evaluation completed!\n",
            "\n",
            "📊 Results Summary:\n",
            "  - task_progression: 8.56\n",
            "  - context_relevancy: 7.96\n",
            "  - role_adherence: 10.00\n",
            "  - tool_relevancy: 0.00\n",
            "  - parameter_correctness: 0.00\n",
            "\n",
            "🔍 Individual Scores:\n",
            "\n",
            "  Record 1 (Task: 4f1a91a1-5e38-41a3-b60e-126d81f34f41):\n",
            "    - task_progression: 8.5\n",
            "    - context_relevancy: 8.1\n",
            "    - role_adherence: 10.0\n",
            "    - tool_relevancy: 0.0\n",
            "    - parameter_correctness: 0.0\n",
            "\n",
            "  Record 2 (Task: 4f1a91a1-5e38-41a3-b60e-126d81f34f41):\n",
            "    - task_progression: 9.0\n",
            "    - context_relevancy: 7.8\n",
            "    - role_adherence: 10.0\n",
            "    - tool_relevancy: 0.0\n",
            "    - parameter_correctness: 0.0\n",
            "\n",
            "  Record 3 (Task: 4f1a91a1-5e38-41a3-b60e-126d81f34f41):\n",
            "    - task_progression: 7.8\n",
            "    - context_relevancy: 7.8\n",
            "    - role_adherence: 10.0\n",
            "    - tool_relevancy: 0.0\n",
            "    - parameter_correctness: 0.0\n",
            "\n",
            "  Record 4 (Task: 4f1a91a1-5e38-41a3-b60e-126d81f34f41):\n",
            "    - task_progression: 8.5\n",
            "    - context_relevancy: 8.1\n",
            "    - role_adherence: 10.0\n",
            "    - tool_relevancy: 0.0\n",
            "    - parameter_correctness: 0.0\n",
            "\n",
            "  Record 5 (Task: 4f1a91a1-5e38-41a3-b60e-126d81f34f41):\n",
            "    - task_progression: 7.8\n",
            "    - context_relevancy: 8.1\n",
            "    - role_adherence: 10.0\n",
            "    - tool_relevancy: 0.0\n",
            "    - parameter_correctness: 0.0\n",
            "\n",
            "  Record 6 (Task: 4f1a91a1-5e38-41a3-b60e-126d81f34f41):\n",
            "    - task_progression: 9.1\n",
            "    - context_relevancy: 8.1\n",
            "    - role_adherence: 10.0\n",
            "    - tool_relevancy: 0.0\n",
            "    - parameter_correctness: 0.0\n",
            "\n",
            "  Record 7 (Task: 4f1a91a1-5e38-41a3-b60e-126d81f34f41):\n",
            "    - task_progression: 8.5\n",
            "    - context_relevancy: 8.1\n",
            "    - role_adherence: 10.0\n",
            "    - tool_relevancy: 0.0\n",
            "    - parameter_correctness: 0.0\n",
            "\n",
            "  Record 8 (Task: 4f1a91a1-5e38-41a3-b60e-126d81f34f41):\n",
            "    - task_progression: 8.5\n",
            "    - context_relevancy: 7.8\n",
            "    - role_adherence: 10.0\n",
            "    - tool_relevancy: 0.0\n",
            "    - parameter_correctness: 0.0\n",
            "\n",
            "  Record 9 (Task: bb737d67-ae62-43ba-ba72-b433f011689d):\n",
            "    - task_progression: 8.5\n",
            "    - context_relevancy: 7.8\n",
            "    - role_adherence: 10.0\n",
            "    - tool_relevancy: 0.0\n",
            "    - parameter_correctness: 0.0\n",
            "\n",
            "  Record 10 (Task: bb737d67-ae62-43ba-ba72-b433f011689d):\n",
            "    - task_progression: 8.7\n",
            "    - context_relevancy: 7.8\n",
            "    - role_adherence: 10.0\n",
            "    - tool_relevancy: 0.0\n",
            "    - parameter_correctness: 0.0\n",
            "\n",
            "  Record 11 (Task: bb737d67-ae62-43ba-ba72-b433f011689d):\n",
            "    - task_progression: 9.0\n",
            "    - context_relevancy: 8.1\n",
            "    - role_adherence: 10.0\n",
            "    - tool_relevancy: 0.0\n",
            "    - parameter_correctness: 0.0\n",
            "\n",
            "  Record 12 (Task: bb737d67-ae62-43ba-ba72-b433f011689d):\n",
            "    - task_progression: 8.5\n",
            "    - context_relevancy: 8.1\n",
            "    - role_adherence: 10.0\n",
            "    - tool_relevancy: 0.0\n",
            "    - parameter_correctness: 0.0\n",
            "\n",
            "  Record 13 (Task: bb737d67-ae62-43ba-ba72-b433f011689d):\n",
            "    - task_progression: 9.1\n",
            "    - context_relevancy: 7.8\n",
            "    - role_adherence: 10.0\n",
            "    - tool_relevancy: 0.0\n",
            "    - parameter_correctness: 0.0\n",
            "\n",
            "  Record 14 (Task: bb737d67-ae62-43ba-ba72-b433f011689d):\n",
            "    - task_progression: 8.8\n",
            "    - context_relevancy: 8.2\n",
            "    - role_adherence: 10.0\n",
            "    - tool_relevancy: 0.0\n",
            "    - parameter_correctness: 0.0\n",
            "\n",
            "  Record 15 (Task: bb737d67-ae62-43ba-ba72-b433f011689d):\n",
            "    - task_progression: 9.1\n",
            "    - context_relevancy: 8.1\n",
            "    - role_adherence: 10.0\n",
            "    - tool_relevancy: 0.0\n",
            "    - parameter_correctness: 0.0\n",
            "\n",
            "  Record 16 (Task: bb737d67-ae62-43ba-ba72-b433f011689d):\n",
            "    - task_progression: 8.5\n",
            "    - context_relevancy: 7.8\n",
            "    - role_adherence: 10.0\n",
            "    - tool_relevancy: 0.0\n",
            "    - parameter_correctness: 0.0\n",
            "\n",
            "  Record 17 (Task: bb737d67-ae62-43ba-ba72-b433f011689d):\n",
            "    - task_progression: 8.5\n",
            "    - context_relevancy: 8.1\n",
            "    - role_adherence: 10.0\n",
            "    - tool_relevancy: 0.0\n",
            "    - parameter_correctness: 0.0\n",
            "\n",
            "  Record 18 (Task: bb737d67-ae62-43ba-ba72-b433f011689d):\n",
            "    - task_progression: 8.5\n",
            "    - context_relevancy: 8.1\n",
            "    - role_adherence: 10.0\n",
            "    - tool_relevancy: 0.0\n",
            "    - parameter_correctness: 0.0\n",
            "\n",
            "  Record 19 (Task: 4ceb0d5b-3325-4d5f-9f3f-a30aff969094):\n",
            "    - task_progression: 8.2\n",
            "    - context_relevancy: 8.1\n",
            "    - role_adherence: 10.0\n",
            "    - tool_relevancy: 0.0\n",
            "    - parameter_correctness: 0.0\n",
            "\n",
            "  Record 20 (Task: 4ceb0d5b-3325-4d5f-9f3f-a30aff969094):\n",
            "    - task_progression: 8.5\n",
            "    - context_relevancy: 7.8\n",
            "    - role_adherence: 10.0\n",
            "    - tool_relevancy: 0.0\n",
            "    - parameter_correctness: 0.0\n",
            "\n",
            "  Record 21 (Task: 4ceb0d5b-3325-4d5f-9f3f-a30aff969094):\n",
            "    - task_progression: 8.5\n",
            "    - context_relevancy: 7.8\n",
            "    - role_adherence: 10.0\n",
            "    - tool_relevancy: 0.0\n",
            "    - parameter_correctness: 0.0\n",
            "\n",
            "  Record 22 (Task: 4ceb0d5b-3325-4d5f-9f3f-a30aff969094):\n",
            "    - task_progression: 8.5\n",
            "    - context_relevancy: 7.8\n",
            "    - role_adherence: 10.0\n",
            "    - tool_relevancy: 0.0\n",
            "    - parameter_correctness: 0.0\n",
            "\n",
            "  Record 23 (Task: 4ceb0d5b-3325-4d5f-9f3f-a30aff969094):\n",
            "    - task_progression: 8.5\n",
            "    - context_relevancy: 8.1\n",
            "    - role_adherence: 10.0\n",
            "    - tool_relevancy: 0.0\n",
            "    - parameter_correctness: 0.0\n",
            "\n",
            "  Record 24 (Task: 4ceb0d5b-3325-4d5f-9f3f-a30aff969094):\n",
            "    - task_progression: 8.5\n",
            "    - context_relevancy: 7.8\n",
            "    - role_adherence: 10.0\n",
            "    - tool_relevancy: 0.0\n",
            "    - parameter_correctness: 0.0\n",
            "\n",
            "  Record 25 (Task: 4ceb0d5b-3325-4d5f-9f3f-a30aff969094):\n",
            "    - task_progression: 8.5\n",
            "    - context_relevancy: 7.8\n",
            "    - role_adherence: 10.0\n",
            "    - tool_relevancy: 0.0\n",
            "    - parameter_correctness: 0.0\n",
            "✅ Evaluation completed successfully!\n",
            "\n",
            "📋 Step 7: Exporting Dataset\n",
            "💾 Exporting processed dataset...\n",
            "✅ Exported to tavily_search_results_dataset_processed_dataset.json\n"
          ]
        },
        {
          "name": "stderr",
          "output_type": "stream",
          "text": [
            "\n"
          ]
        },
        {
          "name": "stdout",
          "output_type": "stream",
          "text": [
            "✅ Exported to tavily_search_results_dataset_processed_dataset.csv\n",
            "✅ Export completed successfully!\n",
            "\n",
            "============================================================\n",
            "🎉 EVALUATION PIPELINE COMPLETED!\n",
            "📊 Final Results:\n",
            "  - File processed: split_datasets/tavily_search_results_dataset.json\n",
            "  - Spans loaded: 1582\n",
            "  - Dataset size: 1582\n",
            "  - Evaluation completed: True\n",
            "  - Export successful: True\n",
            "  - Results saved to: ./demo_results/tavily_search_results_dataset/\n"
          ]
        },
        {
          "data": {
            "text/plain": [
              "{'success': True,\n",
              " 'file_processed': 'split_datasets/tavily_search_results_dataset.json',\n",
              " 'spans_loaded': 1582,\n",
              " 'dataset_created': True,\n",
              " 'dataset_size': 1582,\n",
              " 'evaluation_completed': True,\n",
              " 'results_df':     user_id                               task_id  \\\n",
              " 0       NaN  4f1a91a1-5e38-41a3-b60e-126d81f34f41   \n",
              " 1       NaN  4f1a91a1-5e38-41a3-b60e-126d81f34f41   \n",
              " 2       NaN  4f1a91a1-5e38-41a3-b60e-126d81f34f41   \n",
              " 3       NaN  4f1a91a1-5e38-41a3-b60e-126d81f34f41   \n",
              " 4       NaN  4f1a91a1-5e38-41a3-b60e-126d81f34f41   \n",
              " 5       NaN  4f1a91a1-5e38-41a3-b60e-126d81f34f41   \n",
              " 6       NaN  4f1a91a1-5e38-41a3-b60e-126d81f34f41   \n",
              " 7       NaN  4f1a91a1-5e38-41a3-b60e-126d81f34f41   \n",
              " 8       NaN  bb737d67-ae62-43ba-ba72-b433f011689d   \n",
              " 9       NaN  bb737d67-ae62-43ba-ba72-b433f011689d   \n",
              " 10      NaN  bb737d67-ae62-43ba-ba72-b433f011689d   \n",
              " 11      NaN  bb737d67-ae62-43ba-ba72-b433f011689d   \n",
              " 12      NaN  bb737d67-ae62-43ba-ba72-b433f011689d   \n",
              " 13      NaN  bb737d67-ae62-43ba-ba72-b433f011689d   \n",
              " 14      NaN  bb737d67-ae62-43ba-ba72-b433f011689d   \n",
              " 15      NaN  bb737d67-ae62-43ba-ba72-b433f011689d   \n",
              " 16      NaN  bb737d67-ae62-43ba-ba72-b433f011689d   \n",
              " 17      NaN  bb737d67-ae62-43ba-ba72-b433f011689d   \n",
              " 18      NaN  4ceb0d5b-3325-4d5f-9f3f-a30aff969094   \n",
              " 19      NaN  4ceb0d5b-3325-4d5f-9f3f-a30aff969094   \n",
              " 20      NaN  4ceb0d5b-3325-4d5f-9f3f-a30aff969094   \n",
              " 21      NaN  4ceb0d5b-3325-4d5f-9f3f-a30aff969094   \n",
              " 22      NaN  4ceb0d5b-3325-4d5f-9f3f-a30aff969094   \n",
              " 23      NaN  4ceb0d5b-3325-4d5f-9f3f-a30aff969094   \n",
              " 24      NaN  4ceb0d5b-3325-4d5f-9f3f-a30aff969094   \n",
              " \n",
              "                                  turn_id agent_name  task_progression  \\\n",
              " 0   c7b5e4f0-4129-47e2-aa48-6b1bce115934       tool               8.5   \n",
              " 1   ec6edac0-a4c3-4c0f-8c01-a0cd98c22b10       tool               9.0   \n",
              " 2   6c4cb334-e8a1-4c5c-8942-cfc281bcb602       tool               7.8   \n",
              " 3   2f3c032e-8637-4cf1-856b-c9a54826ff0b       tool               8.5   \n",
              " 4   467817bf-b2c3-4c9c-8430-0d6f3bd97744       tool               7.8   \n",
              " 5   c0c87de0-e6ae-4e99-a8c9-b3f795feec68       tool               9.1   \n",
              " 6   d22e4087-044b-42cd-9208-afd289875cd3       tool               8.5   \n",
              " 7   219be3e1-e436-4713-b91d-2c65eb3b1e46       tool               8.5   \n",
              " 8   0896c9e5-89ca-4fdb-bfe8-9fad238846e2       tool               8.5   \n",
              " 9   c2d5e496-af85-4fcd-a46e-f1745ced24e6       tool               8.7   \n",
              " 10  88f8d626-b280-46c5-b6c9-8107d9ae195f       tool               9.0   \n",
              " 11  39a31572-a636-4d74-a3f9-1d23632e5848       tool               8.5   \n",
              " 12  6a969d19-c517-4fb1-af0f-813ab4d996ff       tool               9.1   \n",
              " 13  b4579053-ffd0-4600-b8a8-551987558999       tool               8.8   \n",
              " 14  d0b02588-bcf6-4ce8-9b48-c4097e52dbf1       tool               9.1   \n",
              " 15  53b952e7-cf59-4769-9cf8-267b8ec8127c       tool               8.5   \n",
              " 16  1d70ed9c-46b0-462b-b331-034a33a513a3       tool               8.5   \n",
              " 17  7c6aeac9-0053-41dd-83a8-3c602b14b6a9       tool               8.5   \n",
              " 18  bb78d5b3-c69a-47c6-9b91-c9a63f6b7066       tool               8.2   \n",
              " 19  30369aa3-82e1-4b49-be9a-13618f24e112       tool               8.5   \n",
              " 20  2a2efee1-5ef8-45df-9ecc-216e3e47a505       tool               8.5   \n",
              " 21  de6ef253-b8b6-4885-98a8-0f8c01f88f28       tool               8.5   \n",
              " 22  3744dea1-d11d-4a48-92e2-825ea5ebc037       tool               8.5   \n",
              " 23  4c993b4c-13ea-4efa-97c6-275f770e5db8       tool               8.5   \n",
              " 24  c2d06d98-efa3-435d-9de5-52caf86d7218       tool               8.5   \n",
              " \n",
              "     context_relevancy  role_adherence  tool_relevancy  parameter_correctness  \\\n",
              " 0                 8.1            10.0             0.0                    0.0   \n",
              " 1                 7.8            10.0             0.0                    0.0   \n",
              " 2                 7.8            10.0             0.0                    0.0   \n",
              " 3                 8.1            10.0             0.0                    0.0   \n",
              " 4                 8.1            10.0             0.0                    0.0   \n",
              " 5                 8.1            10.0             0.0                    0.0   \n",
              " 6                 8.1            10.0             0.0                    0.0   \n",
              " 7                 7.8            10.0             0.0                    0.0   \n",
              " 8                 7.8            10.0             0.0                    0.0   \n",
              " 9                 7.8            10.0             0.0                    0.0   \n",
              " 10                8.1            10.0             0.0                    0.0   \n",
              " 11                8.1            10.0             0.0                    0.0   \n",
              " 12                7.8            10.0             0.0                    0.0   \n",
              " 13                8.2            10.0             0.0                    0.0   \n",
              " 14                8.1            10.0             0.0                    0.0   \n",
              " 15                7.8            10.0             0.0                    0.0   \n",
              " 16                8.1            10.0             0.0                    0.0   \n",
              " 17                8.1            10.0             0.0                    0.0   \n",
              " 18                8.1            10.0             0.0                    0.0   \n",
              " 19                7.8            10.0             0.0                    0.0   \n",
              " 20                7.8            10.0             0.0                    0.0   \n",
              " 21                7.8            10.0             0.0                    0.0   \n",
              " 22                8.1            10.0             0.0                    0.0   \n",
              " 23                7.8            10.0             0.0                    0.0   \n",
              " 24                7.8            10.0             0.0                    0.0   \n",
              " \n",
              "                            task_progression_reasoning  \\\n",
              " 0   The agent has successfully retrieved relevant ...   \n",
              " 1   The agent has successfully executed the tool c...   \n",
              " 2   The agent, acting as a tool, successfully exec...   \n",
              " 3   The agent successfully used the tool to retrie...   \n",
              " 4   The agent has successfully executed the tool c...   \n",
              " 5   The agent, a tool, successfully executed its f...   \n",
              " 6   The agent executed the tool call and provided ...   \n",
              " 7   The agent has successfully executed the tool c...   \n",
              " 8   The agent, in its role as a tool, has successf...   \n",
              " 9   The agent, a tool, correctly executed its func...   \n",
              " 10  The agent flawlessly executed its tool call, p...   \n",
              " 11  The agent correctly executes the tool call and...   \n",
              " 12  The agent successfully executed its tool call ...   \n",
              " 13  The agent has successfully executed the tool c...   \n",
              " 14  The agent has executed the tool call effective...   \n",
              " 15  The agent effectively utilized the tool to sea...   \n",
              " 16  The agent successfully executed the tool call,...   \n",
              " 17  The agent successfully called the tool and ret...   \n",
              " 18  The agent successfully used the tool and provi...   \n",
              " 19  The agent executed the tool call as programmed...   \n",
              " 20  The agent, as a tool, effectively executed the...   \n",
              " 21  The agent accurately called the 'tavily_search...   \n",
              " 22  The agent successfully executed the tool call,...   \n",
              " 23  The tool has executed as programmed and return...   \n",
              " 24  The agent effectively utilized the tool to ret...   \n",
              " \n",
              "                           context_relevancy_reasoning  \\\n",
              " 0   The response effectively utilizes the tool, re...   \n",
              " 1   The agent response is relevant to the tool cal...   \n",
              " 2   The agent response is relevant to the task, pr...   \n",
              " 3   The agent's response is well-aligned with its ...   \n",
              " 4   The agent successfully uses the tool and provi...   \n",
              " 5   The agent effectively executes the tool call a...   \n",
              " 6   The agent's response is highly relevant, provi...   \n",
              " 7   The tool call appropriately returns search res...   \n",
              " 8   The tool provided relevant search results rela...   \n",
              " 9   The agent response is highly relevant to the t...   \n",
              " 10  The agent's response is highly relevant and ap...   \n",
              " 11  The agent performed well. The agent accessed t...   \n",
              " 12  The agent's response is highly relevant, provi...   \n",
              " 13  The agent successfully executed the tool call,...   \n",
              " 14  The agent's response is highly relevant, provi...   \n",
              " 15  The agent's response is relevant and helpful, ...   \n",
              " 16  The agent's response provides helpful informat...   \n",
              " 17  The tool provided multiple relevant search res...   \n",
              " 18  The agent's response is highly appropriate for...   \n",
              " 19  The agent provides relevant search results rel...   \n",
              " 20  The agent's response is relevant as it provide...   \n",
              " 21  The agent has correctly utilized a tool to ret...   \n",
              " 22  The agent's response effectively executes its ...   \n",
              " 23  The agent response is directly relevant to the...   \n",
              " 24  The agent's response is relevant as it provide...   \n",
              " \n",
              "                              role_adherence_reasoning  \\\n",
              " 0   The agent perfectly adheres to its role as a t...   \n",
              " 1   The agent perfectly adheres to its role as a t...   \n",
              " 2   The agent perfectly adheres to its role as a t...   \n",
              " 3   The agent perfectly adheres to its role as a t...   \n",
              " 4   The agent perfectly adheres to its role as a t...   \n",
              " 5   The agent perfectly adheres to its role as a t...   \n",
              " 6   The agent perfectly executes its assigned tool...   \n",
              " 7   The agent perfectly adheres to its role as a t...   \n",
              " 8   The agent perfectly adheres to its role as a t...   \n",
              " 9   The agent perfectly adheres to its role as a '...   \n",
              " 10  The agent perfectly adheres to its tool role. ...   \n",
              " 11  The agent perfectly fulfills its role as a too...   \n",
              " 12  The agent perfectly adheres to its role. The t...   \n",
              " 13  The agent perfectly adheres to its role as a t...   \n",
              " 14  The agent perfectly adheres to its role as a t...   \n",
              " 15  The agent perfectly adheres to its role as a t...   \n",
              " 16  The agent perfectly adheres to its role as a t...   \n",
              " 17  The agent perfectly adheres to its role as a t...   \n",
              " 18  The agent flawlessly executes its role as a to...   \n",
              " 19  The agent perfectly adheres to its role as a t...   \n",
              " 20  The agent flawlessly executes its role as a to...   \n",
              " 21  The agent perfectly adhered to its role as a t...   \n",
              " 22  The agent perfectly adheres to its role as a t...   \n",
              " 23  The agent perfectly adheres to its role as a t...   \n",
              " 24  The agent perfectly adheres to its role as a t...   \n",
              " \n",
              "           tool_relevancy_reasoning parameter_correctness_reasoning  \n",
              " 0   Error: Missing required fields  Error: Missing required fields  \n",
              " 1   Error: Missing required fields  Error: Missing required fields  \n",
              " 2   Error: Missing required fields  Error: Missing required fields  \n",
              " 3   Error: Missing required fields  Error: Missing required fields  \n",
              " 4   Error: Missing required fields  Error: Missing required fields  \n",
              " 5   Error: Missing required fields  Error: Missing required fields  \n",
              " 6   Error: Missing required fields  Error: Missing required fields  \n",
              " 7   Error: Missing required fields  Error: Missing required fields  \n",
              " 8   Error: Missing required fields  Error: Missing required fields  \n",
              " 9   Error: Missing required fields  Error: Missing required fields  \n",
              " 10  Error: Missing required fields  Error: Missing required fields  \n",
              " 11  Error: Missing required fields  Error: Missing required fields  \n",
              " 12  Error: Missing required fields  Error: Missing required fields  \n",
              " 13  Error: Missing required fields  Error: Missing required fields  \n",
              " 14  Error: Missing required fields  Error: Missing required fields  \n",
              " 15  Error: Missing required fields  Error: Missing required fields  \n",
              " 16  Error: Missing required fields  Error: Missing required fields  \n",
              " 17  Error: Missing required fields  Error: Missing required fields  \n",
              " 18  Error: Missing required fields  Error: Missing required fields  \n",
              " 19  Error: Missing required fields  Error: Missing required fields  \n",
              " 20  Error: Missing required fields  Error: Missing required fields  \n",
              " 21  Error: Missing required fields  Error: Missing required fields  \n",
              " 22  Error: Missing required fields  Error: Missing required fields  \n",
              " 23  Error: Missing required fields  Error: Missing required fields  \n",
              " 24  Error: Missing required fields  Error: Missing required fields  ,\n",
              " 'export_success': True,\n",
              " 'errors': []}"
            ]
          },
          "execution_count": 15,
          "metadata": {},
          "output_type": "execute_result"
        }
      ],
      "source": [
        "run_complete_agent_evaluation('split_datasets/tavily_search_results_dataset.json',\n",
        "evaluation_name = \"tavily_search_results_dataset\", output_dir = \"./demo_results\")"
      ]
    },
    {
      "cell_type": "markdown",
      "metadata": {},
      "source": [
        "# Analysis of poor scores in comment generation agent."
      ]
    },
    {
      "cell_type": "code",
      "execution_count": 16,
      "metadata": {},
      "outputs": [
        {
          "name": "stdout",
          "output_type": "stream",
          "text": [
            "Task Progression:\n",
            "\n",
            "Score = 5.8\n",
            "Reasoning = The agent identifies the correct API title and seems to understand the task of suggesting a helpful resource related to the user's request. However, the suggestion is only tangentially related to the prompt (app mockups vs. 3D assets). The response represents moderate progress, but not a direct solution.\n",
            "\n",
            "Score = 6.5\n",
            "Reasoning = The agent understands the task, offering a response related to OpenAPI documentation. While it shares a personal experience and a link, the relevance of the provided API is unclear, potentially hindering the user. The provided link and response are not directly related to OpenAPI generation or the 'node' subreddit, which is slightly off-topic. Progress is moderate.\n",
            "\n",
            "Score = 7.8\n",
            "Reasoning = The agent demonstrates a clear understanding of the task and its role. The response is aligned with the task, proposing the use of an object detector API for tree detection. While the diameter estimation is acknowledged as tricky, the agent provides a relevant link. The progress is significant, but lacks details.\n",
            "\n"
          ]
        }
      ],
      "source": [
        "import pandas as pd\n",
        "comment_gen = pd.read_csv(\"demo_results/agent_comment_gen_dataset/agent_evaluation_results.csv\")\n",
        "\n",
        "split_size = 3\n",
        "\n",
        "task_progression = comment_gen.sort_values(by = 'task_progression', ascending= True).iloc[:split_size][['task_progression', 'task_progression_reasoning']]\n",
        "\n",
        "print(\"Task Progression:\")\n",
        "print()\n",
        "for idx, row in task_progression.iterrows():\n",
        "    print(f\"Score = {row['task_progression']}\")\n",
        "    print(f\"Reasoning = {row['task_progression_reasoning']}\")\n",
        "    print()  # blank line"
      ]
    },
    {
      "cell_type": "code",
      "execution_count": 17,
      "metadata": {},
      "outputs": [
        {
          "name": "stdout",
          "output_type": "stream",
          "text": [
            "Context Relevancy Analysis:\n",
            "==================================================\n",
            "Score = 6.9\n",
            "Reasoning = The response is somewhat relevant as it acknowledges the difficulty of maintaining OpenAPI documentation. However, it's not perfectly aligned. The linked API seems unrelated to OpenAPI or node.js, impacting the helpfulness toward the task and the alignment with the agent's expertise. Further context around node.js or OpenAPI would significantly boost the score.\n",
            "\n",
            "Score = 7.8\n",
            "Reasoning = The response provides a relevant suggestion – an API for generating subtitles – directly addressing the user's query. It aligns with the agent's task of comment generation. The inclusion of a link to the API is helpful and demonstrates task understanding. The tone is appropriate for offering a solution.\n",
            "\n",
            "Score = 7.8\n",
            "Reasoning = The response is relevant as it acknowledges the difficulty of parsing documents and offers a solution. It aligns with the role by providing information about an API that could help. The tone is informal but acceptable. However, the link provided seems unrelated to the context of document parsing in the given subreddit. \n",
            "\n"
          ]
        }
      ],
      "source": [
        "# Context Relevancy Analysis\n",
        "context_relevancy = comment_gen.sort_values(by='context_relevancy', ascending=True).iloc[:3][['context_relevancy', 'context_relevancy_reasoning']]\n",
        "\n",
        "print(\"Context Relevancy Analysis:\")\n",
        "print(\"=\" * 50)\n",
        "for idx, row in context_relevancy.iterrows():\n",
        "    print(f\"Score = {row['context_relevancy']}\")\n",
        "    print(f\"Reasoning = {row['context_relevancy_reasoning']}\")\n",
        "    print()"
      ]
    },
    {
      "cell_type": "code",
      "execution_count": 18,
      "metadata": {},
      "outputs": [
        {
          "name": "stdout",
          "output_type": "stream",
          "text": [
            "Role Adherence Analysis:\n",
            "==================================================\n",
            "Score = 4.0\n",
            "Reasoning = The agent's response strays significantly from the expected behavior. While the task is related to generating content for a Reddit post, the provided response feels more like a casual recommendation. It lacks any connection to the specified API title or subreddit. The response also includes an irrelevant link which contradicts the assigned role of generating a helpful comment. \n",
            "\n",
            "Score = 5.0\n",
            "Reasoning = The agent deviates significantly from its role. It fails to generate relevant tool calls and provides a response that's conversational and links to unrelated content. The agent's response lacks any data-driven analysis or focus on the given task. It contradicts the requirement of the role by not utilizing appropriate tools.\n",
            "\n",
            "Score = 7.8\n",
            "Reasoning = The agent generally adheres to its role related to comment generation, as it acknowledges the post's topic. However, it slightly deviates from its task by relating a personal experience and including a potentially off-topic link. While relevant, this shifts the focus away from solely commenting about a tool for QA engineers.\n",
            "\n"
          ]
        }
      ],
      "source": [
        "# Role Adherence Analysis\n",
        "role_adherence = comment_gen.sort_values(by='role_adherence', ascending=True).iloc[:3][['role_adherence', 'role_adherence_reasoning']]\n",
        "\n",
        "print(\"Role Adherence Analysis:\")\n",
        "print(\"=\" * 50)\n",
        "for idx, row in role_adherence.iterrows():\n",
        "    print(f\"Score = {row['role_adherence']}\")\n",
        "    print(f\"Reasoning = {row['role_adherence_reasoning']}\")\n",
        "    print()"
      ]
    },
    {
      "cell_type": "code",
      "execution_count": 19,
      "metadata": {},
      "outputs": [
        {
          "name": "stdout",
          "output_type": "stream",
          "text": [
            "============================================================\n",
            "NOVAPILOT AGENT ANALYSIS - RECOMMEND IMPROVEMENTS\n",
            "============================================================\n",
            "This function runs the complete analysis pipeline equivalent to\n",
            "running the entire complete_analysis_demo.ipynb notebook.\n",
            "============================================================\n",
            "Setup complete! Log file: log/analysis_log_20251002_144409.txt\n",
            "Agent document loaded: 8492 characters\n",
            "Found 5 dataset directories to process:\n",
            "  - email_gen_send_dataset\n",
            "  - agent_comment_gen_dataset\n",
            "  - post_validation_dataset\n",
            "  - agent_query_gen_dataset\n",
            "  - tavily_search_results_dataset\n",
            "\n",
            "Processing email_gen_send_dataset...\n",
            "  Processing CSV: agent_evaluation_results.csv\n",
            "    Making Gemini call for scorer: task_progression\n",
            "    Making Gemini call for scorer: context_relevancy\n",
            "    Making Gemini call for scorer: role_adherence\n",
            "    Making Gemini call for scorer: tool_relevancy\n",
            "    Making Gemini call for scorer: parameter_correctness\n",
            "    Making summary call for email_gen_send_dataset\n",
            "\n",
            "Processing agent_comment_gen_dataset...\n",
            "  Processing CSV: agent_evaluation_results.csv\n",
            "    Making Gemini call for scorer: task_progression\n",
            "    Making Gemini call for scorer: context_relevancy\n",
            "    Making Gemini call for scorer: role_adherence\n",
            "    Making Gemini call for scorer: tool_relevancy\n",
            "    Making Gemini call for scorer: parameter_correctness\n",
            "    Making summary call for agent_comment_gen_dataset\n",
            "\n",
            "Processing post_validation_dataset...\n",
            "  Processing CSV: agent_evaluation_results.csv\n",
            "    Making Gemini call for scorer: task_progression\n",
            "    Making Gemini call for scorer: context_relevancy\n",
            "    Making Gemini call for scorer: role_adherence\n",
            "    Making Gemini call for scorer: tool_relevancy\n",
            "    Making Gemini call for scorer: parameter_correctness\n",
            "    Making summary call for post_validation_dataset\n",
            "\n",
            "Processing agent_query_gen_dataset...\n",
            "  Processing CSV: agent_evaluation_results.csv\n",
            "    Making Gemini call for scorer: task_progression\n",
            "    Making Gemini call for scorer: context_relevancy\n",
            "    Making Gemini call for scorer: role_adherence\n",
            "    Making Gemini call for scorer: tool_relevancy\n",
            "    Making Gemini call for scorer: parameter_correctness\n",
            "    Making summary call for agent_query_gen_dataset\n",
            "\n",
            "Processing tavily_search_results_dataset...\n",
            "  Processing CSV: agent_evaluation_results.csv\n",
            "    Making Gemini call for scorer: task_progression\n",
            "    Making Gemini call for scorer: context_relevancy\n",
            "    Making Gemini call for scorer: role_adherence\n",
            "    Making Gemini call for scorer: tool_relevancy\n",
            "    Making Gemini call for scorer: parameter_correctness\n",
            "    Making summary call for tavily_search_results_dataset\n",
            "\n",
            "Completed processing 5 datasets.\n",
            "\n",
            "Making final comprehensive analysis call...\n",
            "Final analysis completed and logged!\n",
            "All responses have been logged to: log/analysis_log_20251002_144409.txt\n",
            "\n",
            "==================================================\n",
            "ANALYSIS COMPLETE!\n",
            "==================================================\n",
            "Log file location: log/analysis_log_20251002_144409.txt\n",
            "Total datasets processed: 5\n",
            "Total summaries generated: 5\n",
            "==================================================\n"
          ]
        }
      ],
      "source": [
        "from novapilot_utils import recommend_improvements\n",
        "\n",
        "# Advanced usage with custom parameters\n",
        "final_analysis, summaries, log_file = recommend_improvements(\n",
        "    demo_results_dir=\"demo_results/\",\n",
        "    agent_doc_path=\"reddit_agent.md\",\n",
        "    log_dir=\"log\",\n",
        "    verbose=True\n",
        ")"
      ]
    },
    {
      "cell_type": "code",
      "execution_count": 20,
      "metadata": {},
      "outputs": [
        {
          "name": "stdout",
          "output_type": "stream",
          "text": [
            "Based on the comprehensive analysis of the agent's workflow and the part-wise scoring summaries, the agent is failing due to a cascading effect that originates early in the process. The core issue is a fundamental misunderstanding in the query generation phase, which leads to irrelevant search results and, consequently, poor quality comments.\n",
            "\n",
            "The failure flows as follows:\n",
            "1.  **Faulty Query Generation:** The `search_agent` misunderstands its role. Instead of generating search queries that a user with a problem would type (e.g., \"How do I get stock data for my app?\"), it generates queries *about* the API itself (e.g., \"What is the function of the FinTech API?\").\n",
            "2.  **Irrelevant Search Results:** These faulty queries lead Tavily to find Reddit posts discussing the API itself, not posts from users who need the API as a solution.\n",
            "3.  **Context Mismatch for Comment Generation:** The `content_generation_agent` is then tasked with promoting the API on these irrelevant posts. This creates a logical impossibility, forcing the agent to generate generic, off-topic, and unhelpful comments, as it cannot connect the API to a non-existent user problem in the post.\n",
            "4.  **Low-Quality Final Output:** The final email report is simply a collection of these poorly matched posts and irrelevant comments, which is why scorers found it lacking context and detail.\n",
            "\n",
            "### Suggested Fixes:\n",
            "\n",
            "*   **fix_1: Revise the `Search Query Generation` Prompt:** The prompt for the `search_agent` must be re-engineered to prevent role confusion. It should explicitly instruct the LLM to adopt the persona of a potential user who is describing a problem, not an analyst examining the API. Provide clear examples of good (problem-focused) vs. bad (API-focused) queries within the prompt to guide the model's output. For instance, for a \"Weather API,\" a good query is \"Best way to add live weather to my website,\" not \"What are the endpoints for the Weather API?\"\n",
            "\n",
            "*   **fix_2: Implement a Semantic Validation Step:** The current `post_validation` step only checks for technical constraints (e.g., not archived, not locked). Add a second validation layer that uses an LLM to check for semantic relevance. This step would take the API description and the content of a candidate Reddit post and determine if the API is a genuinely relevant solution to the problem discussed in the post. This acts as a crucial quality gate, filtering out irrelevant posts before they reach the comment generation stage.\n",
            "\n",
            "*   **fix_3: Enhance the `Comment Generation` Agent's Contextual Awareness:** The prompt for the `content_generation_agent` should be updated to require a more direct synthesis of the post's content and the API's features. Instruct the agent to first explicitly identify the user's problem in the post and then explain how a specific feature of the API solves that exact problem. This will force the agent to generate more tailored, helpful, and less generic comments, directly addressing the feedback that its suggestions are often irrelevant.\n",
            "\n",
            "*   **fix_4: Improve Final Report Context:** The final HTML report generated in the `email_generation_and_sending` step should be more than just a list of post-comment pairs. Modify this stage to include a brief analytical summary for each entry, explaining *why* the post was deemed relevant and how the generated comment provides a solution. This addresses the feedback on the lack of detail and context in the final output.\n"
          ]
        }
      ],
      "source": [
        "print(final_analysis)"
      ]
    },
    {
      "cell_type": "code",
      "execution_count": null,
      "metadata": {},
      "outputs": [],
      "source": []
    }
  ],
  "metadata": {
    "kernelspec": {
      "display_name": ".venv",
      "language": "python",
      "name": "python3"
    },
    "language_info": {
      "codemirror_mode": {
        "name": "ipython",
        "version": 3
      },
      "file_extension": ".py",
      "mimetype": "text/x-python",
      "name": "python",
      "nbconvert_exporter": "python",
      "pygments_lexer": "ipython3",
      "version": "3.10.12"
    }
  },
  "nbformat": 4,
  "nbformat_minor": 2
}
